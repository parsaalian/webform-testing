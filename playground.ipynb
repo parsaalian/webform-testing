{
 "cells": [
  {
   "cell_type": "code",
   "execution_count": 1,
   "id": "2ba85c7e",
   "metadata": {
    "ExecuteTime": {
     "end_time": "2023-01-09T02:19:34.731186Z",
     "start_time": "2023-01-09T02:19:34.230046Z"
    }
   },
   "outputs": [],
   "source": [
    "import os\n",
    "import pandas as pd\n",
    "import networkx as nx\n",
    "from selenium import webdriver\n",
    "from selenium.webdriver.common.by import By"
   ]
  },
  {
   "cell_type": "code",
   "execution_count": 2,
   "id": "852d5d11",
   "metadata": {
    "ExecuteTime": {
     "end_time": "2023-01-09T02:19:36.724056Z",
     "start_time": "2023-01-09T02:19:34.733358Z"
    }
   },
   "outputs": [],
   "source": [
    "driver = webdriver.Chrome('drivers/chromedriver108')"
   ]
  },
  {
   "cell_type": "code",
   "execution_count": 3,
   "id": "fafb0ff8",
   "metadata": {
    "ExecuteTime": {
     "end_time": "2023-01-09T02:19:36.728733Z",
     "start_time": "2023-01-09T02:19:36.726420Z"
    }
   },
   "outputs": [],
   "source": [
    "BASE_URL = 'https://www.google.com/'\n",
    "NAME = 'google'\n",
    "MAX_NODES = 1"
   ]
  },
  {
   "cell_type": "code",
   "execution_count": 4,
   "id": "b328c085",
   "metadata": {
    "ExecuteTime": {
     "end_time": "2023-01-09T02:19:36.757961Z",
     "start_time": "2023-01-09T02:19:36.730855Z"
    }
   },
   "outputs": [],
   "source": [
    "INLINE_ELEMENTS = [\n",
    "    'a',\n",
    "    'abbr',\n",
    "    'acronym',\n",
    "    'b',\n",
    "    'bdo',\n",
    "    'big',\n",
    "    'br',\n",
    "    'cite',\n",
    "    'code',\n",
    "    'dfn',\n",
    "    'em',\n",
    "    'i',\n",
    "    'input',\n",
    "    'kbd',\n",
    "    'map',\n",
    "    'object',\n",
    "    'output',\n",
    "    'q',\n",
    "    'samp',\n",
    "    'script',\n",
    "    'small',\n",
    "    'span',\n",
    "    'strong',\n",
    "    'style',\n",
    "    'sub',\n",
    "    'sup',\n",
    "    'svg',\n",
    "    'time',\n",
    "    'tt',\n",
    "    'var'\n",
    "]"
   ]
  },
  {
   "cell_type": "code",
   "execution_count": 5,
   "id": "c0db8626",
   "metadata": {
    "ExecuteTime": {
     "end_time": "2023-01-09T02:19:36.851697Z",
     "start_time": "2023-01-09T02:19:36.759985Z"
    }
   },
   "outputs": [],
   "source": [
    "def get_connected_urls(body_element):\n",
    "    return list(map(lambda x: x.get_attribute('href'), body_element.find_elements(By.TAG_NAME, 'a')))"
   ]
  },
  {
   "cell_type": "code",
   "execution_count": 6,
   "id": "ce5d0a8d",
   "metadata": {
    "ExecuteTime": {
     "end_time": "2023-01-09T02:19:36.907426Z",
     "start_time": "2023-01-09T02:19:36.853662Z"
    }
   },
   "outputs": [],
   "source": [
    "def urls_have_same_origin(url1, url2):\n",
    "    get_origin = lambda url: url.split('://')[1].split('/')[0]\n",
    "    return get_origin(url1) == get_origin(url2)"
   ]
  },
  {
   "cell_type": "code",
   "execution_count": 7,
   "id": "7f49570b",
   "metadata": {
    "ExecuteTime": {
     "end_time": "2023-01-09T02:19:36.928159Z",
     "start_time": "2023-01-09T02:19:36.911324Z"
    }
   },
   "outputs": [],
   "source": [
    "def unchecked_bfs_app_traverse(driver, start_url, max_nodes):\n",
    "    traversal_graph = nx.Graph()\n",
    "    traversal_queue = [start_url]\n",
    "    \n",
    "    traversal_graph.add_node(start_url)\n",
    "    \n",
    "    while len(traversal_graph.nodes) < max_nodes and len(traversal_queue) > 0:\n",
    "        driver.get(traversal_queue[0])\n",
    "        \n",
    "        body = driver.find_element(By.TAG_NAME, 'body')\n",
    "        connected_urls = get_connected_urls(body)\n",
    "        \n",
    "        for url in connected_urls:\n",
    "            if url == traversal_queue[0] \\\n",
    "                    or url.split('#')[0] in traversal_graph.nodes \\\n",
    "                    or not urls_have_same_origin(url, start_url):\n",
    "                continue\n",
    "            traversal_queue.append(url)\n",
    "            traversal_graph.add_node(url)\n",
    "            traversal_graph.add_edge(traversal_queue[0], url)\n",
    "        \n",
    "        traversal_queue = traversal_queue[1:]\n",
    "    \n",
    "    return traversal_graph"
   ]
  },
  {
   "cell_type": "code",
   "execution_count": 8,
   "id": "2c2d63e3",
   "metadata": {
    "ExecuteTime": {
     "end_time": "2023-01-09T02:19:36.983933Z",
     "start_time": "2023-01-09T02:19:36.931703Z"
    }
   },
   "outputs": [],
   "source": [
    "def create_data_directory(name):\n",
    "    if not os.path.exists('data/{0}'.format(name)):\n",
    "        os.mkdir('data/{0}'.format(name))\n",
    "        os.mkdir('data/{0}/screenshots'.format(name))"
   ]
  },
  {
   "cell_type": "code",
   "execution_count": 9,
   "id": "a5f43cb2",
   "metadata": {
    "ExecuteTime": {
     "end_time": "2023-01-09T02:19:37.021429Z",
     "start_time": "2023-01-09T02:19:36.986284Z"
    }
   },
   "outputs": [],
   "source": [
    "def crawl_features(driver, url, name):\n",
    "    body = driver.find_element(By.TAG_NAME, 'body')\n",
    "    \n",
    "    counter = 1\n",
    "    traverse_list = [body]\n",
    "    id_dict = { body: 0 }\n",
    "    adjacency_list = []\n",
    "    feature_dict = {}\n",
    "    screenshot_directories = { body: 'data/{0}/screenshots/0'.format(name) }\n",
    "    \n",
    "    while len(traverse_list) > 0:\n",
    "        element = traverse_list[0]\n",
    "        element_id = id_dict[element]\n",
    "        \n",
    "        try:\n",
    "            if element.tag_name not in INLINE_ELEMENTS:\n",
    "                if element in screenshot_directories:\n",
    "                    if not os.path.exists(screenshot_directories[element]):\n",
    "                        os.mkdir(screenshot_directories[element])\n",
    "                    element.screenshot('{0}/{1}.png'.format(screenshot_directories[element], element_id))\n",
    "                else:\n",
    "                    parent_element = element.find_element(By.XPATH, './..')\n",
    "                    parent_directory = screenshot_directories[element.parent]\n",
    "                    new_directory = '{0}/{1}'.format(parent_directory, element_id)\n",
    "                    if not os.exists(new_directory):\n",
    "                        os.mkdir(new_directory)\n",
    "                    element.screenshot('{0}/{1}.png'.format(new_directory, element_id))\n",
    "                    screenshot_directories[element] = element_directory\n",
    "                \n",
    "                children = element.find_elements(By.XPATH, '*')\n",
    "                \n",
    "                feature_dict[element_id] = driver.execute_script(\n",
    "                    '''\n",
    "                        const style = getComputedStyle(arguments[0]);\n",
    "                        const transformed = Object.keys(style).reduce((acc, key) => {\n",
    "                            console.log(key, !Number.isNaN(+key))\n",
    "                            if (Number.isNaN(+key)) {\n",
    "                                acc[key] = style[key];\n",
    "                            }\n",
    "                            return acc;\n",
    "                        }, {});\n",
    "                        return transformed;\n",
    "                    ''',\n",
    "                    element\n",
    "                )\n",
    "                feature_dict[element_id]['tagName'] = element.tag_name\n",
    "                \n",
    "                for child in children:\n",
    "                    if child.tag_name == 'script' or child.tag_name == 'style':\n",
    "                        continue\n",
    "                    id_dict[child] = counter\n",
    "                    adjacency_list.append((element_id, counter))\n",
    "                    traverse_list.append(child)\n",
    "                    counter += 1\n",
    "        except Exception as e:\n",
    "            print(e)\n",
    "\n",
    "        traverse_list = traverse_list[1:]\n",
    "    \n",
    "    dom_graph = nx.Graph()\n",
    "    dom_graph.add_edges_from(adjacency_list)\n",
    "    nx.write_adjlist(dom_graph, 'data/{0}/{1}.adj'.format(name, url))\n",
    "    \n",
    "    feature_df = pd.DataFrame(feature_dict).swapaxes(0, 1)\n",
    "    feature_df.to_csv('data/{0}/{1}.csv'.format(name, url))"
   ]
  },
  {
   "cell_type": "code",
   "execution_count": 10,
   "id": "8875a695",
   "metadata": {
    "ExecuteTime": {
     "end_time": "2023-01-09T02:19:37.039528Z",
     "start_time": "2023-01-09T02:19:37.023160Z"
    }
   },
   "outputs": [],
   "source": [
    "traversal_graph = unchecked_bfs_app_traverse(driver, BASE_URL, MAX_NODES)"
   ]
  },
  {
   "cell_type": "code",
   "execution_count": 11,
   "id": "d25a99ec",
   "metadata": {
    "ExecuteTime": {
     "end_time": "2023-01-09T02:19:37.042901Z",
     "start_time": "2023-01-09T02:19:37.040939Z"
    }
   },
   "outputs": [],
   "source": [
    "create_data_directory(NAME)"
   ]
  },
  {
   "cell_type": "code",
   "execution_count": 12,
   "id": "765d858f",
   "metadata": {
    "ExecuteTime": {
     "end_time": "2023-01-09T02:19:41.652174Z",
     "start_time": "2023-01-09T02:19:37.044285Z"
    }
   },
   "outputs": [
    {
     "name": "stdout",
     "output_type": "stream",
     "text": [
      "<selenium.webdriver.remote.webelement.WebElement (session=\"36924d111b2b7b04391e0355d4ea2844\", element=\"9ea897e5-a0d2-43aa-be97-e4f2888d4926\")> body\n",
      "<selenium.webdriver.remote.webelement.WebElement (session=\"36924d111b2b7b04391e0355d4ea2844\", element=\"52c00275-9343-44c5-863d-26e5bacae9a9\")> div\n",
      "<selenium.webdriver.chrome.webdriver.WebDriver (session=\"36924d111b2b7b04391e0355d4ea2844\")>\n",
      "<selenium.webdriver.remote.webelement.WebElement (session=\"36924d111b2b7b04391e0355d4ea2844\", element=\"df234134-cc99-4f13-857e-53cb230fd4d8\")> div\n",
      "<selenium.webdriver.chrome.webdriver.WebDriver (session=\"36924d111b2b7b04391e0355d4ea2844\")>\n",
      "<selenium.webdriver.remote.webelement.WebElement (session=\"36924d111b2b7b04391e0355d4ea2844\", element=\"f678581a-4e08-41a5-850c-ac9d77537e25\")> textarea\n",
      "<selenium.webdriver.chrome.webdriver.WebDriver (session=\"36924d111b2b7b04391e0355d4ea2844\")>\n",
      "<selenium.webdriver.remote.webelement.WebElement (session=\"36924d111b2b7b04391e0355d4ea2844\", element=\"eb04ecb5-f29d-4a47-9f8a-901979fe5a7a\")> div\n",
      "<selenium.webdriver.chrome.webdriver.WebDriver (session=\"36924d111b2b7b04391e0355d4ea2844\")>\n"
     ]
    }
   ],
   "source": [
    "for idx, url in enumerate(traversal_graph.nodes):\n",
    "    driver.get(url)\n",
    "    crawl_features(driver, idx, NAME)"
   ]
  },
  {
   "cell_type": "code",
   "execution_count": null,
   "id": "4bb9d03e",
   "metadata": {},
   "outputs": [],
   "source": []
  }
 ],
 "metadata": {
  "kernelspec": {
   "display_name": "Python 3",
   "language": "python",
   "name": "python3"
  },
  "language_info": {
   "codemirror_mode": {
    "name": "ipython",
    "version": 3
   },
   "file_extension": ".py",
   "mimetype": "text/x-python",
   "name": "python",
   "nbconvert_exporter": "python",
   "pygments_lexer": "ipython3",
   "version": "3.9.7"
  },
  "varInspector": {
   "cols": {
    "lenName": 16,
    "lenType": 16,
    "lenVar": 40
   },
   "kernels_config": {
    "python": {
     "delete_cmd_postfix": "",
     "delete_cmd_prefix": "del ",
     "library": "var_list.py",
     "varRefreshCmd": "print(var_dic_list())"
    },
    "r": {
     "delete_cmd_postfix": ") ",
     "delete_cmd_prefix": "rm(",
     "library": "var_list.r",
     "varRefreshCmd": "cat(var_dic_list()) "
    }
   },
   "types_to_exclude": [
    "module",
    "function",
    "builtin_function_or_method",
    "instance",
    "_Feature"
   ],
   "window_display": false
  }
 },
 "nbformat": 4,
 "nbformat_minor": 5
}
