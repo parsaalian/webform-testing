{
 "cells": [
  {
   "cell_type": "code",
   "execution_count": 1,
   "id": "a7f7af7a",
   "metadata": {
    "ExecuteTime": {
     "end_time": "2023-07-13T20:41:51.086032Z",
     "start_time": "2023-07-13T20:41:51.062278Z"
    }
   },
   "outputs": [],
   "source": [
    "%load_ext autoreload\n",
    "%autoreload 2"
   ]
  },
  {
   "cell_type": "code",
   "execution_count": 2,
   "id": "806f75bb",
   "metadata": {
    "ExecuteTime": {
     "end_time": "2023-07-13T20:41:52.608247Z",
     "start_time": "2023-07-13T20:41:51.865821Z"
    }
   },
   "outputs": [],
   "source": [
    "import os\n",
    "import time\n",
    "import copy\n",
    "import json\n",
    "import openai\n",
    "from dotenv import load_dotenv\n",
    "\n",
    "from bs4 import BeautifulSoup as bs\n",
    "from selenium.webdriver.common.by import By\n",
    "\n",
    "from method.models import generate_random_values, generate_static_values, generate_llm_values\n",
    "from method.ours.utils import create_driver, get_xpath, interact_with_input\n",
    "from method.ours.history import HistoryTable\n",
    "from method.ours.feedback import get_global_feedback"
   ]
  },
  {
   "cell_type": "code",
   "execution_count": 3,
   "id": "b8407538",
   "metadata": {
    "ExecuteTime": {
     "end_time": "2023-07-13T20:41:53.151303Z",
     "start_time": "2023-07-13T20:41:53.114241Z"
    }
   },
   "outputs": [],
   "source": [
    "load_dotenv()\n",
    "openai.api_key = os.getenv(\"OPENAI_API_KEY\")\n",
    "\n",
    "HEADLESS = False\n",
    "URL = 'https://www.aircanada.com/ca/en/aco/home.html'"
   ]
  },
  {
   "cell_type": "code",
   "execution_count": 4,
   "id": "e8ec6672",
   "metadata": {
    "ExecuteTime": {
     "end_time": "2023-07-13T20:41:57.460545Z",
     "start_time": "2023-07-13T20:41:53.933373Z"
    }
   },
   "outputs": [],
   "source": [
    "driver = create_driver(HEADLESS)\n",
    "driver.get(URL)"
   ]
  },
  {
   "cell_type": "code",
   "execution_count": 5,
   "id": "96cabf9e",
   "metadata": {
    "ExecuteTime": {
     "end_time": "2023-07-13T20:41:58.603216Z",
     "start_time": "2023-07-13T20:41:58.196123Z"
    }
   },
   "outputs": [],
   "source": [
    "html = driver.find_element(By.TAG_NAME, 'html').get_attribute('outerHTML')\n",
    "form = driver.find_elements(By.TAG_NAME, 'form')[1]\n",
    "form_xpath = get_xpath(driver, form)\n",
    "\n",
    "inputs = form.find_elements(\n",
    "    By.XPATH,\n",
    "    f'{form_xpath}//input | {form_xpath}//textarea | {form_xpath}//select'\n",
    ")\n",
    "\n",
    "inputs = list(filter(\n",
    "    lambda x: x.get_attribute('type') != 'hidden' and x.get_attribute('hidden') != 'true',\n",
    "    inputs\n",
    "))"
   ]
  },
  {
   "cell_type": "code",
   "execution_count": null,
   "id": "668d49d1",
   "metadata": {},
   "outputs": [],
   "source": [
    "history_table = HistoryTable(\n",
    "    url=URL,\n",
    "    xpath=form_xpath\n",
    ")"
   ]
  },
  {
   "cell_type": "code",
   "execution_count": 6,
   "id": "c7ba20a3",
   "metadata": {
    "ExecuteTime": {
     "end_time": "2023-07-13T20:42:00.912630Z",
     "start_time": "2023-07-13T20:42:00.866450Z"
    }
   },
   "outputs": [
    {
     "data": {
      "text/plain": [
       "[<selenium.webdriver.remote.webelement.WebElement (session=\"2d35d17414249d2f5a8385b01a520b97\", element=\"86DC4A75B5B02B10C6306787E8ACE617_element_7\")>,\n",
       " <selenium.webdriver.remote.webelement.WebElement (session=\"2d35d17414249d2f5a8385b01a520b97\", element=\"86DC4A75B5B02B10C6306787E8ACE617_element_8\")>,\n",
       " <selenium.webdriver.remote.webelement.WebElement (session=\"2d35d17414249d2f5a8385b01a520b97\", element=\"86DC4A75B5B02B10C6306787E8ACE617_element_9\")>,\n",
       " <selenium.webdriver.remote.webelement.WebElement (session=\"2d35d17414249d2f5a8385b01a520b97\", element=\"86DC4A75B5B02B10C6306787E8ACE617_element_11\")>,\n",
       " <selenium.webdriver.remote.webelement.WebElement (session=\"2d35d17414249d2f5a8385b01a520b97\", element=\"86DC4A75B5B02B10C6306787E8ACE617_element_13\")>,\n",
       " <selenium.webdriver.remote.webelement.WebElement (session=\"2d35d17414249d2f5a8385b01a520b97\", element=\"86DC4A75B5B02B10C6306787E8ACE617_element_15\")>,\n",
       " <selenium.webdriver.remote.webelement.WebElement (session=\"2d35d17414249d2f5a8385b01a520b97\", element=\"86DC4A75B5B02B10C6306787E8ACE617_element_17\")>,\n",
       " <selenium.webdriver.remote.webelement.WebElement (session=\"2d35d17414249d2f5a8385b01a520b97\", element=\"86DC4A75B5B02B10C6306787E8ACE617_element_18\")>]"
      ]
     },
     "execution_count": 6,
     "metadata": {},
     "output_type": "execute_result"
    }
   ],
   "source": [
    "inputs"
   ]
  },
  {
   "cell_type": "code",
   "execution_count": 7,
   "id": "6a38597f",
   "metadata": {
    "ExecuteTime": {
     "end_time": "2023-07-13T20:42:31.798777Z",
     "start_time": "2023-07-13T20:42:01.745162Z"
    }
   },
   "outputs": [
    {
     "name": "stdout",
     "output_type": "stream",
     "text": [
      " \u001b[0m Prompt: [\n",
      "  {\n",
      "    \"role\": \"system\",\n",
      "    \"content\": \"\\nYour task is to generate testing values for a web form. When given a web form, you need to generate values that can pass and fail when tried on the form. Your response should be in the following format:\\n{\\n[field_identifier]: {\\npassing: <a base passing value for the field>,\\nfailing: <a list of failing values for the field>\\n}\\n}\\nYour response must be parsable by Python's json.loads function. Use \\\"id\\\" attribute to refer to the fields.\\n\"\n",
      "  },\n",
      "  {\n",
      "    \"role\": \"user\",\n",
      "    \"content\": \"<form novalidate=\\\"\\\" autocomplete=\\\"off\\\" class=\\\"bkmg-tab-content-container bkmg-flights-tab-container ng-dirty ng-invalid ng-touched\\\"><fieldset><legend class=\\\"visually-hidden\\\"> Flights </legend><div class=\\\"bkmg-flights-tab-grid\\\"><fieldset class=\\\"bkmg-flights-tab-trip-type-selector mobile-padding\\\"><legend class=\\\"visually-hidden\\\"> Trip type </legend><abc-radio-group formcontrolname=\\\"tripType\\\" class=\\\"ng-untouched ng-pristine ng-valid abc-form-element\\\"><div class=\\\"abc-form-element-container abc-radio-group-container\\\"><div class=\\\"abc-radio-group-horizontal-align abc-radio-group-wrapper\\\"><abc-radio-button class=\\\"ng-star-inserted\\\"><div class=\\\"abc-form-element-wrapper abc-form-element-radio-button-wrapper abc-form-element-kilo-radio-button-wrapper abc-form-element-selected\\\"><input type=\\\"radio\\\" class=\\\"abc-form-element-main abc-form-element-radio-button ng-untouched ng-pristine ng-valid\\\" id=\\\"bkmgFlights_tripTypeSelector_R\\\" name=\\\"tripType\\\" value=\\\"R\\\" aria-disabled=\\\"false\\\" aria-invalid=\\\"false\\\" aria-checked=\\\"true\\\"><div class=\\\"abc-form-element-radio-button-container\\\"><div class=\\\"abc-dir-ltr abc-form-element-radio-button-circle\\\"><div class=\\\"abc-form-element-radio-button-dot\\\"></div></div></div><label class=\\\"abc-form-element-label text-transform-none user-select-none\\\" for=\\\"bkmgFlights_tripTypeSelector_R\\\"><!----> Round-trip </label></div></abc-radio-button><abc-radio-button class=\\\"ng-star-inserted\\\"><div class=\\\"abc-form-element-wrapper abc-form-element-radio-button-wrapper abc-form-element-kilo-radio-button-wrapper\\\"><input type=\\\"radio\\\" class=\\\"abc-form-element-main abc-form-element-radio-button ng-untouched ng-pristine ng-valid\\\" id=\\\"bkmgFlights_tripTypeSelector_O\\\" name=\\\"tripType\\\" value=\\\"O\\\" aria-disabled=\\\"false\\\" aria-invalid=\\\"false\\\" aria-checked=\\\"false\\\"><div class=\\\"abc-form-element-radio-button-container\\\"><div class=\\\"abc-dir-ltr abc-form-element-radio-button-circle\\\"><div class=\\\"abc-form-element-radio-button-dot\\\"></div></div></div><label class=\\\"abc-form-element-label text-transform-none user-select-none\\\" for=\\\"bkmgFlights_tripTypeSelector_O\\\"><!----> One-way </label></div></abc-radio-button><abc-radio-button class=\\\"ng-star-inserted\\\"><div class=\\\"abc-form-element-wrapper abc-form-element-radio-button-wrapper abc-form-element-kilo-radio-button-wrapper\\\"><input type=\\\"radio\\\" class=\\\"abc-form-element-main abc-form-element-radio-button ng-untouched ng-pristine ng-valid\\\" id=\\\"bkmgFlights_tripTypeSelector_M\\\" name=\\\"tripType\\\" value=\\\"M\\\" aria-disabled=\\\"false\\\" aria-invalid=\\\"false\\\" aria-checked=\\\"false\\\"><div class=\\\"abc-form-element-radio-button-container\\\"><div class=\\\"abc-dir-ltr abc-form-element-radio-button-circle\\\"><div class=\\\"abc-form-element-radio-button-dot\\\"></div></div></div><label class=\\\"abc-form-element-label text-transform-none user-select-none\\\" for=\\\"bkmgFlights_tripTypeSelector_M\\\"><!----> Multi-city/Stopover </label></div></abc-radio-button><!----></div><abc-subscript><!----></abc-subscript></div></abc-radio-group></fieldset><ac-search-type-toggle formcontrolname=\\\"searchType\\\" class=\\\"bkmg-flights-tab-loyalty-checkbox ng-untouched ng-pristine ng-valid ng-star-inserted\\\"><div><input type=\\\"hidden\\\" value=\\\"cash\\\" class=\\\"ng-untouched ng-pristine ng-valid\\\"><abc-checkbox class=\\\"search-type-toggle-checkbox ng-valid abc-form-element ng-touched ng-dirty\\\"><div class=\\\"abc-form-element-container abc-check-box-container\\\"><div class=\\\"abc-form-element-wrapper abc-form-element-checkbox-wrapper abc-form-element-kilo-checkbox-wrapper\\\"><input type=\\\"checkbox\\\" role=\\\"checkbox\\\" class=\\\"abc-form-element-main abc-form-element-checkbox ng-untouched ng-pristine ng-valid\\\" id=\\\"bkmgFlights_searchTypeToggle\\\" aria-label=\\\"Book with Aeroplan points\\\" aria-disabled=\\\"false\\\" aria-required=\\\"false\\\" aria-invalid=\\\"false\\\" aria-checked=\\\"false\\\"><div class=\\\"abc-form-element-checkbox-container\\\"><span class=\\\"abc-form-element-checkmark\\\"></span></div><label class=\\\"abc-form-element-label text-transform-none user-select-none\\\" for=\\\"bkmgFlights_searchTypeToggle\\\"><!----><div class=\\\"d-flex flex-wrap flex-lg-nowrap align-items-center ng-star-inserted\\\"> Book with points <img aria-hidden=\\\"true\\\" alt=\\\"\\\" role=\\\"presentation\\\" height=\\\"15\\\" width=\\\"108.6\\\" class=\\\"search-type-toggle-logo pe-none ms-2\\\" src=\\\"https://content-achome.aircanada.com/ac/applications/homepage/content/1.0.2116/assets/img/logos/aeroplan/aeroplan-logo.svg\\\"></div><!----><!----><!----></label></div><abc-subscript><!----></abc-subscript></div></abc-checkbox><!----></div><!----></ac-search-type-toggle><!----><div formarrayname=\\\"trips\\\" class=\\\"bkmg-flights-tab-trip-elements-grid mobile-padding ng-dirty ng-invalid ng-touched\\\"><div class=\\\"bkmg-flights-tab-trip-elements-row bkmg-flights-tab-trip-single ng-dirty ng-invalid ng-star-inserted ng-touched\\\"><!----><abc-typeahead formcontrolname=\\\"origin\\\" class=\\\"bkmg-flights-tab-trip-origin ng-valid abc-form-element ng-dirty ng-touched\\\"><div class=\\\"abc-typeahead-wrapper\\\"><input type=\\\"hidden\\\" value=\\\"[object Object]\\\" class=\\\"ng-untouched ng-pristine ng-valid\\\"><abc-input class=\\\"ng-untouched ng-valid abc-form-element ng-dirty\\\"><abc-form-element-container><div class=\\\"abc-form-element-container abc-form-element-material-appearance-borderless\\\"><div class=\\\"abc-form-element-wrapper abc-form-element-material-wrapper abc-form-element-input-wrapper abc-form-input-has-value ng-star-inserted\\\"><div class=\\\"abc-form-element-flex\\\"><!----><div class=\\\"abc-form-element-infix\\\"><!----><div class=\\\"abc-form-element-main-container\\\"><div class=\\\"abc-dir-ltr abc-form-element-pseudo-main ng-star-inserted\\\"><div class=\\\"abc-form-element-pseudo-main-content\\\"><ac-locations-formatted-input _nghost-maj-c67=\\\"\\\" class=\\\"ng-star-inserted\\\"><div _ngcontent-maj-c67=\\\"\\\" aria-hidden=\\\"true\\\" class=\\\"selected-location-info text-truncate ng-star-inserted\\\"><span _ngcontent-maj-c67=\\\"\\\" class=\\\"selected-location-city-name ng-star-inserted\\\">Vancouver </span><span _ngcontent-maj-c67=\\\"\\\" class=\\\"selected-location-additional-info ng-star-inserted\\\"><span _ngcontent-maj-c67=\\\"\\\" class=\\\"selected-location-airport-code ng-star-inserted\\\">YVR</span><!----><!----></span><!----><!----></div><!----></ac-locations-formatted-input><!----><!----></div></div><!----><!----><input class=\\\"abc-form-element-input abc-form-element-main text-transform-none ng-untouched ng-pristine ng-valid ng-star-inserted\\\" type=\\\"text\\\" placeholder=\\\"\\\" id=\\\"bkmgFlights_origin_trip_1\\\" name=\\\"bkmgFlights_origin_trip_1\\\" aria-disabled=\\\"false\\\" aria-invalid=\\\"false\\\" aria-label=\\\"From\\\" aria-describedby=\\\"bkmgFlights_origin_trip_1Status\\\" aria-autocomplete=\\\"list\\\" aria-haspopup=\\\"true\\\" aria-expanded=\\\"false\\\" role=\\\"combobox\\\" autocorrect=\\\"off\\\" spellcheck=\\\"false\\\" autocomplete=\\\"off\\\"><!----></div><abc-form-element-label class=\\\"ng-star-inserted\\\"><label class=\\\"abc-dir-ltr abc-form-element-label user-select-none float\\\" for=\\\"bkmgFlights_origin_trip_1\\\" aria-owns=\\\"bkmgFlights_origin_trip_1\\\"><span class=\\\"abc-form-element-label-text\\\">From</span></label></abc-form-element-label><!----></div><!----><abc-affix class=\\\"ng-star-inserted\\\"><div class=\\\"abc-dir-ltr abc-form-element-affix abc-form-element-suffix\\\"><!----><!----><!----><!----><!----></div></abc-affix><!----></div><abc-form-element-underline><div class=\\\"abc-form-element-underline\\\"></div></abc-form-element-underline></div><abc-subscript class=\\\"ng-star-inserted\\\"><div class=\\\"abc-dir-ltr abc-form-element-subscript-text abc-subscript-collapsable ng-star-inserted\\\" id=\\\"bkmgFlights_origin_trip_1Subscript\\\"><!----><!----><!----></div><!----></abc-subscript><!----><!----></div></abc-form-element-container></abc-input><div aria-live=\\\"polite\\\" aria-atomic=\\\"true\\\" class=\\\"ngx-ac-visually-hidden\\\" id=\\\"bkmgFlights_origin_trip_1Status\\\"><!----><div class=\\\"ng-star-inserted\\\"> Enter the first three characters of the city, airport, province, state or country/region you are starting from, then use your arrow keys to move up or down the list of airports provided to make your selection. </div><!----><!----><!----><!----></div></div><!----></abc-typeahead><abc-button class=\\\"bkmg-flights-tab-trip-location-swap abc-button-fullWidth abc-button-wrapper\\\" role=\\\"none\\\"><button class=\\\"abc-button abc-button-height-default abc-button-theme-custom abc-button-type-default abc-dir-ltr user-select-none ng-star-inserted\\\" id=\\\"bkmgFlights_swapLocations_1\\\" type=\\\"button\\\" aria-disabled=\\\"false\\\" aria-label=\\\"Swap origin and destination\\\"><span class=\\\"abc-button-content\\\" id=\\\"bkmgFlights_swapLocations_1Content\\\"><span class=\\\"abc-button-text\\\"><span aria-hidden=\\\"true\\\" class=\\\"ac-icon ac-icon_swap ng-star-inserted\\\"></span><!----></span></span><!----><abc-ripple class=\\\"ng-star-inserted\\\"><div class=\\\"abc-ripple-wrapper\\\"></div></abc-ripple><!----></button><!----><!----><!----></abc-button><abc-typeahead formcontrolname=\\\"destination\\\" class=\\\"bkmg-flights-tab-trip-destination ng-untouched ng-dirty ng-invalid abc-form-element\\\"><div class=\\\"abc-typeahead-wrapper\\\"><input type=\\\"hidden\\\" value=\\\"\\\" class=\\\"ng-untouched ng-pristine ng-valid\\\"><abc-input class=\\\"ng-untouched ng-valid abc-form-element ng-dirty\\\"><abc-form-element-container><div class=\\\"abc-form-element-container abc-form-element-material-appearance-borderless\\\"><div class=\\\"abc-form-element-wrapper abc-form-element-material-wrapper abc-form-element-input-wrapper ng-star-inserted\\\"><div class=\\\"abc-form-element-flex\\\"><!----><div class=\\\"abc-form-element-infix\\\"><!----><div class=\\\"abc-form-element-main-container\\\"><!----><!----><input class=\\\"abc-form-element-input abc-form-element-main text-transform-none ng-untouched ng-pristine ng-valid ng-star-inserted\\\" type=\\\"text\\\" placeholder=\\\"\\\" id=\\\"bkmgFlights_destination_trip_1\\\" name=\\\"bkmgFlights_destination_trip_1\\\" aria-disabled=\\\"false\\\" aria-invalid=\\\"false\\\" aria-label=\\\"To\\\" aria-describedby=\\\"bkmgFlights_destination_trip_1Status\\\" aria-autocomplete=\\\"list\\\" aria-haspopup=\\\"true\\\" aria-expanded=\\\"false\\\" role=\\\"combobox\\\" autocorrect=\\\"off\\\" spellcheck=\\\"false\\\" autocomplete=\\\"off\\\"><!----></div><abc-form-element-label class=\\\"ng-star-inserted\\\"><label class=\\\"abc-dir-ltr abc-form-element-label user-select-none\\\" for=\\\"bkmgFlights_destination_trip_1\\\" aria-owns=\\\"bkmgFlights_destination_trip_1\\\"><span class=\\\"abc-form-element-label-text\\\">To</span></label></abc-form-element-label><!----></div><!----><abc-affix class=\\\"ng-star-inserted\\\"><div class=\\\"abc-dir-ltr abc-form-element-affix abc-form-element-suffix\\\"><!----><!----><!----><!----><!----></div></abc-affix><!----></div><abc-form-element-underline><div class=\\\"abc-form-element-underline\\\"></div></abc-form-element-underline></div><abc-subscript class=\\\"ng-star-inserted\\\"><div class=\\\"abc-dir-ltr abc-form-element-subscript-text abc-subscript-collapsable ng-star-inserted\\\" id=\\\"bkmgFlights_destination_trip_1Subscript\\\"><!----><!----><!----></div><!----></abc-subscript><!----><!----></div></abc-form-element-container></abc-input><div aria-live=\\\"polite\\\" aria-atomic=\\\"true\\\" class=\\\"ngx-ac-visually-hidden\\\" id=\\\"bkmgFlights_destination_trip_1Status\\\"><!----><div class=\\\"ng-star-inserted\\\"> Enter the three first characters of the city, airport, province, state or country/region you are flying to, then use your arrow keys to move up or down the list of airports provided to make your selection. </div><!----><!----><!----><!----></div></div><!----></abc-typeahead><abc-date-picker formcontrolname=\\\"travelDates\\\" class=\\\"bkmg-flights-tab-trip-travel-dates ng-untouched ng-pristine ng-invalid abc-form-element\\\"><input type=\\\"hidden\\\" value=\\\"\\\" class=\\\"ng-untouched ng-pristine ng-valid\\\"><div class=\\\"abc-date-picker-container\\\" id=\\\"bkmgFlights_travelDates_1Container\\\"><div class=\\\"abc-date-picker-formfield-wrapper\\\" id=\\\"bkmgFlights_travelDates_1Wrapper\\\"><abc-input class=\\\"abc-date-picker-formfield abc-date-picker-input ng-untouched ng-valid abc-form-element ng-star-inserted ng-dirty\\\"><abc-form-element-container><div class=\\\"abc-form-element-container abc-form-element-material-appearance-borderless\\\"><div class=\\\"abc-form-element-wrapper abc-form-element-material-wrapper abc-form-element-input-wrapper ng-star-inserted\\\"><div class=\\\"abc-form-element-flex\\\"><!----><div class=\\\"abc-form-element-infix\\\"><!----><div class=\\\"abc-form-element-main-container\\\"><!----><!----><input class=\\\"abc-form-element-input abc-form-element-main text-transform-none ng-untouched ng-pristine ng-valid ng-star-inserted\\\" type=\\\"text\\\" placeholder=\\\"DD/MM\\\" id=\\\"bkmgFlights_travelDates_1-formfield-1\\\" name=\\\"bkmgFlights_travelDates_1-formfield-1\\\" aria-disabled=\\\"false\\\" aria-invalid=\\\"false\\\" aria-label=\\\"Departure\\\" aria-describedby=\\\"bkmgFlights_travelDates_1DatepickerSrHelperText\\\" autocorrect=\\\"off\\\" spellcheck=\\\"false\\\" autocomplete=\\\"off\\\"><!----></div><abc-form-element-label class=\\\"ng-star-inserted\\\"><label class=\\\"abc-dir-ltr abc-form-element-label user-select-none\\\" for=\\\"bkmgFlights_travelDates_1-formfield-1\\\" aria-owns=\\\"bkmgFlights_travelDates_1-formfield-1\\\"><span class=\\\"abc-form-element-label-text\\\">Departure</span></label></abc-form-element-label><!----></div><!----><!----></div><abc-form-element-underline><div class=\\\"abc-form-element-underline\\\"></div></abc-form-element-underline></div><abc-subscript class=\\\"ng-star-inserted\\\"><!----></abc-subscript><!----><!----></div></abc-form-element-container></abc-input><abc-input class=\\\"abc-date-picker-formfield abc-date-picker-input ng-untouched ng-valid abc-form-element ng-star-inserted ng-dirty\\\"><abc-form-element-container><div class=\\\"abc-form-element-container abc-form-element-material-appearance-borderless\\\"><div class=\\\"abc-form-element-wrapper abc-form-element-material-wrapper abc-form-element-input-wrapper ng-star-inserted\\\"><div class=\\\"abc-form-element-flex\\\"><!----><div class=\\\"abc-form-element-infix\\\"><!----><div class=\\\"abc-form-element-main-container\\\"><!----><!----><input class=\\\"abc-form-element-input abc-form-element-main text-transform-none ng-untouched ng-pristine ng-valid ng-star-inserted\\\" type=\\\"text\\\" placeholder=\\\"DD/MM\\\" id=\\\"bkmgFlights_travelDates_1-formfield-2\\\" name=\\\"bkmgFlights_travelDates_1-formfield-2\\\" aria-disabled=\\\"false\\\" aria-invalid=\\\"false\\\" aria-label=\\\"Return\\\" aria-describedby=\\\"bkmgFlights_travelDates_1DatepickerSrHelperText\\\" autocorrect=\\\"off\\\" spellcheck=\\\"false\\\" autocomplete=\\\"off\\\"><!----></div><abc-form-element-label class=\\\"ng-star-inserted\\\"><label class=\\\"abc-dir-ltr abc-form-element-label user-select-none\\\" for=\\\"bkmgFlights_travelDates_1-formfield-2\\\" aria-owns=\\\"bkmgFlights_travelDates_1-formfield-2\\\"><span class=\\\"abc-form-element-label-text\\\">Return</span></label></abc-form-element-label><!----></div><!----><!----></div><abc-form-element-underline><div class=\\\"abc-form-element-underline\\\"></div></abc-form-element-underline></div><abc-subscript class=\\\"ng-star-inserted\\\"><!----></abc-subscript><!----><!----></div></abc-form-element-container></abc-input><!----><button type=\\\"button\\\" aria-haspopup=\\\"dialog\\\" class=\\\"abc-calendar-toggle-button ng-star-inserted\\\" id=\\\"bkmgFlights_travelDates_1-showCalendar\\\" aria-label=\\\"Show calendar\\\"><span ngx-ac-icon=\\\"calendar\\\" class=\\\"abc-form-element-suffix-icon ngx-ac-icon ngx-ac-icon-calendar\\\" aria-hidden=\\\"true\\\">\\n<svg viewBox=\\\"0 0 32 32\\\">\\n  <path d=\\\"M28.336 30.155h-24.912c-0.48 0-0.88-0.4-0.88-0.88v-22.016c0-0.48 0.4-0.88 0.88-0.88h3.424c0.48 0 0.88 0.4 0.88 0.88s-0.4 0.88-0.88 0.88h-2.544v20.272h23.152v-20.272h-2.544c-0.48 0-0.88-0.4-0.88-0.88s0.4-0.88 0.88-0.88h3.424c0.48 0 0.88 0.4 0.88 0.88v22.032c0 0.48-0.384 0.864-0.88 0.864zM13.52 8.139h-1.968c-0.48 0-0.88-0.4-0.88-0.88s0.4-0.88 0.88-0.88h1.968c0.48 0 0.88 0.4 0.88 0.88s-0.384 0.88-0.88 0.88zM20.24 8.139h-1.968c-0.48 0-0.88-0.4-0.88-0.88s0.4-0.88 0.88-0.88h1.968c0.48 0 0.88 0.4 0.88 0.88s-0.4 0.88-0.88 0.88zM9.2 9.515c-0.48 0-0.88-0.4-0.88-0.88v-4.672c0-0.48 0.4-0.88 0.88-0.88s0.88 0.4 0.88 0.88v4.672c0 0.48-0.4 0.88-0.88 0.88zM15.888 9.515c-0.48 0-0.88-0.4-0.88-0.88v-4.672c0-0.48 0.4-0.88 0.88-0.88s0.88 0.4 0.88 0.88v4.672c0 0.48-0.4 0.88-0.88 0.88zM22.544 9.515c-0.48 0-0.88-0.4-0.88-0.88v-4.672c0-0.48 0.4-0.88 0.88-0.88s0.88 0.4 0.88 0.88v4.672c0 0.48-0.4 0.88-0.88 0.88zM20.256 17.675h3.088v3.088h-3.088v-3.088zM20.256 22.411h3.088v3.088h-3.088v-3.088zM20.256 12.939h3.088v3.088h-3.088v-3.088zM14.336 17.675h3.088v3.088h-3.088v-3.088zM14.336 22.411h3.088v3.088h-3.088v-3.088zM14.336 12.939h3.088v3.088h-3.088v-3.088zM8.416 17.675h3.088v3.088h-3.088v-3.088zM8.416 22.411h3.088v3.088h-3.088v-3.088zM8.416 12.939h3.088v3.088h-3.088v-3.088z\\\"></path>\\n</svg>\\n</span></button><!----><!----><!----><!----></div></div><!----><div class=\\\"abc-form-element-container abc-form-element-material-appearance-borderless\\\" aria-hidden=\\\"false\\\"><abc-subscript class=\\\"ng-star-inserted\\\"><div class=\\\"abc-dir-ltr abc-form-element-subscript-text abc-subscript-collapsable ng-star-inserted\\\" id=\\\"bkmgFlights_travelDates_1Subscript\\\"><!----><!----><!----></div><!----></abc-subscript><!----></div><!----><div class=\\\"ngx-ac-visually-hidden\\\" id=\\\"bkmgFlights_travelDates_1DatepickerSrHelperText\\\"> Enter the date day and month in this format: DD/MM, or use the 'Show Calendar' button to open the calendar and select your date from there. <!----><!----><!----></div><!----><!----><!----><!----></abc-date-picker><!----><!----></div><!----><!----></div><ac-select-travelers formcontrolname=\\\"travelers\\\" class=\\\"bkmg-flights-tab-passenger-selector mobile-padding ng-untouched ng-dirty ng-valid abc-form-element\\\"><div class=\\\"ac-select-travelers-wrapper\\\" id=\\\"bkmgFlights_selectTravelersWrapper\\\"><input type=\\\"hidden\\\" value=\\\"[object Object]\\\" class=\\\"ng-untouched ng-pristine ng-valid\\\"><abc-form-field-button class=\\\"ac-select-travelers\\\"><abc-form-element-container><div class=\\\"abc-form-element-container abc-form-element-material-appearance-borderless\\\"><button type=\\\"button\\\" class=\\\"abc-form-element-wrapper abc-form-element-material-wrapper abc-form-element-button-wrapper ng-star-inserted\\\" id=\\\"bkmgFlights_selectTravelers\\\" aria-haspopup=\\\"dialog\\\" aria-disabled=\\\"false\\\" aria-label=\\\"Passenger(s)\\\" aria-describedby=\\\"bkmgFlights_selectTravelersSrContent\\\"><div class=\\\"abc-form-element-flex\\\"><!----><div class=\\\"abc-form-element-infix\\\"><abc-form-element-label><div class=\\\"abc-dir-ltr abc-form-element-label user-select-none float\\\" id=\\\"bkmgFlights_selectTravelersLabel\\\"><span class=\\\"abc-form-element-label-text\\\">Passenger(s)</span></div></abc-form-element-label><!----><div class=\\\"abc-form-element-main-container\\\" id=\\\"bkmgFlights_selectTravelersMainContainer\\\"><div class=\\\"abc-form-element-input abc-form-element-main text-transform-none\\\"><span aria-hidden=\\\"true\\\" class=\\\"text-capitalize\\\"> 1 Adult </span></div></div></div><abc-affix class=\\\"ng-star-inserted\\\"><div class=\\\"abc-dir-ltr abc-form-element-affix abc-form-element-suffix\\\"><!----><span class=\\\"abc-form-element-suffix-icon ac-icon ac-icon_chevronDown ng-star-inserted\\\"></span><!----><!----><!----><!----><!----><!----></div></abc-affix><!----></div><abc-form-element-underline><div class=\\\"abc-form-element-underline\\\"></div></abc-form-element-underline></button><!----><!----></div></abc-form-element-container></abc-form-field-button></div><div class=\\\"visually-hidden\\\" id=\\\"bkmgFlights_selectTravelersSrContent\\\"><div aria-live=\\\"polite\\\" aria-atomic=\\\"true\\\">1 Adult</div><div>Press Enter or the space bar to open the passenger selection menu, then use tabs to move through the passenger section and complete your selection.</div></div><!----></ac-select-travelers><div class=\\\"bkmg-flights-tab-footer-elements mobile-padding\\\"><!----><div class=\\\"bkmg-flights-tab-promo-code-input ng-star-inserted\\\"><abc-button class=\\\"abc-button-wrapper ng-star-inserted\\\" role=\\\"none\\\"><button class=\\\"abc-button abc-button-height-default abc-button-theme-blue abc-button-type-tertiary abc-dir-ltr user-select-none ng-star-inserted\\\" id=\\\"bkmgFlights_promoCodeToggle\\\" type=\\\"button\\\" aria-disabled=\\\"false\\\" aria-labelledby=\\\"bkmgFlights_promoCodeToggleContent\\\"><span class=\\\"abc-button-content\\\" id=\\\"bkmgFlights_promoCodeToggleContent\\\"><span class=\\\"abc-button-text\\\"><span class=\\\"ac-icon ac-icon-promoCodeTag me-2 ng-star-inserted\\\"></span> Add promotion code <!----></span></span><!----><!----></button><!----><!----><!----></abc-button><!----><!----></div><!----><!----><div class=\\\"bkmg-flights-tab-loader-overlay\\\"></div><abc-button class=\\\"bkmg-flights-tab-find-btn abc-button-fullWidthXS abc-button-wrapper\\\" role=\\\"none\\\"><button class=\\\"abc-button abc-button-height-default abc-button-theme-blue abc-button-type-primary abc-dir-ltr user-select-none abc-button-has-inset-loader ng-star-inserted\\\" id=\\\"bkmgFlights_findButton\\\" type=\\\"submit\\\" aria-disabled=\\\"false\\\" aria-labelledby=\\\"bkmgFlights_findButtonContent\\\" aria-busy=\\\"false\\\" data-analytics-track=\\\"home magnet\\\" data-analytics-val=\\\"bookingmagnet-flight-find>cash\\\"><span class=\\\"abc-button-content\\\" id=\\\"bkmgFlights_findButtonContent\\\"><span class=\\\"abc-button-text\\\"> Search flights <!----></span></span><!----><abc-ripple class=\\\"ng-star-inserted\\\"><div class=\\\"abc-ripple-wrapper\\\"></div></abc-ripple><!----></button><!----><!----><!----></abc-button></div></div></fieldset></form>\"\n",
      "  }\n",
      "]\n"
     ]
    },
    {
     "name": "stdout",
     "output_type": "stream",
     "text": [
      " \u001b[0m Response: {\n",
      "  \"choices\": [\n",
      "    {\n",
      "      \"finish_reason\": \"stop\",\n",
      "      \"index\": 0,\n",
      "      \"message\": {\n",
      "        \"content\": \"{\\n\\\"bkmgFlights_tripTypeSelector_R\\\": {\\n\\\"passing\\\": \\\"R\\\",\\n\\\"failing\\\": [\\\"O\\\", \\\"M\\\", \\\"A\\\", \\\"B\\\", \\\"C\\\", \\\"1\\\", \\\"2\\\", \\\"3\\\", \\\"\\\", null]\\n},\\n\\\"bkmgFlights_tripTypeSelector_O\\\": {\\n\\\"passing\\\": \\\"O\\\",\\n\\\"failing\\\": [\\\"R\\\", \\\"M\\\", \\\"A\\\", \\\"B\\\", \\\"C\\\", \\\"1\\\", \\\"2\\\", \\\"3\\\", \\\"\\\", null]\\n},\\n\\\"bkmgFlights_tripTypeSelector_M\\\": {\\n\\\"passing\\\": \\\"M\\\",\\n\\\"failing\\\": [\\\"O\\\", \\\"R\\\", \\\"A\\\", \\\"B\\\", \\\"C\\\", \\\"1\\\", \\\"2\\\", \\\"3\\\", \\\"\\\", null]\\n},\\n\\\"bkmgFlights_searchTypeToggle\\\": {\\n\\\"passing\\\": true,\\n\\\"failing\\\": [false, \\\"true\\\", \\\"false\\\", \\\"1\\\", \\\"0\\\", \\\"\\\", null]\\n},\\n\\\"bkmgFlights_origin_trip_1\\\": {\\n\\\"passing\\\": \\\"Vancouver\\\",\\n\\\"failing\\\": [\\\"\\\", null, \\\"123\\\", \\\"Vanc\\\", \\\"VancouverVancouverVancouverVancouverVancouverVancouver\\\"]\\n},\\n\\\"bkmgFlights_destination_trip_1\\\": {\\n\\\"passing\\\": \\\"Toronto\\\",\\n\\\"failing\\\": [\\\"\\\", null, \\\"123\\\", \\\"Toron\\\", \\\"TorontoTorontoTorontoTorontoTorontoToronto\\\"]\\n},\\n\\\"bkmgFlights_travelDates_1-formfield-1\\\": {\\n\\\"passing\\\": \\\"01/01\\\",\\n\\\"failing\\\": [\\\"\\\", null, \\\"123\\\", \\\"01/1\\\", \\\"01/01/2022\\\", \\\"32/01\\\", \\\"01/13\\\"]\\n},\\n\\\"bkmgFlights_travelDates_1-formfield-2\\\": {\\n\\\"passing\\\": \\\"01/02\\\",\\n\\\"failing\\\": [\\\"\\\", null, \\\"123\\\", \\\"01/1\\\", \\\"01/02/2022\\\", \\\"32/01\\\", \\\"01/13\\\"]\\n},\\n\\\"bkmgFlights_selectTravelers\\\": {\\n\\\"passing\\\": \\\"1 Adult\\\",\\n\\\"failing\\\": [\\\"\\\", null, \\\"123\\\", \\\"1 Child\\\", \\\"2 Adults\\\", \\\"1 Adult, 1 Child\\\"]\\n},\\n\\\"bkmgFlights_findButton\\\": {\\n\\\"passing\\\": \\\"Search flights\\\",\\n\\\"failing\\\": [\\\"\\\", null, \\\"123\\\", \\\"Find flights\\\", \\\"Search\\\", \\\"Flights\\\"]\\n}\\n}\",\n",
      "        \"role\": \"assistant\"\n",
      "      }\n",
      "    }\n",
      "  ],\n",
      "  \"created\": 1689280922,\n",
      "  \"id\": \"chatcmpl-7bxQQZUF6whlwnyBgiVr5MRFWtu9b\",\n",
      "  \"model\": \"gpt-4-0613\",\n",
      "  \"object\": \"chat.completion\",\n",
      "  \"usage\": {\n",
      "    \"completion_tokens\": 476,\n",
      "    \"prompt_tokens\": 5919,\n",
      "    \"total_tokens\": 6395\n",
      "  }\n",
      "}\n",
      " \u001b[0m Total running cost: $0.206\n"
     ]
    }
   ],
   "source": [
    "values = generate_llm_values(form.get_attribute('outerHTML'), openai.api_key)"
   ]
  },
  {
   "cell_type": "code",
   "execution_count": 8,
   "id": "3498ad14",
   "metadata": {
    "ExecuteTime": {
     "end_time": "2023-07-13T20:42:48.280901Z",
     "start_time": "2023-07-13T20:42:48.236150Z"
    }
   },
   "outputs": [
    {
     "data": {
      "text/plain": [
       "{'bkmgFlights_tripTypeSelector_R': {'passing': 'R',\n",
       "  'failing': ['O', 'M', 'A', 'B', 'C', '1', '2', '3', '', None]},\n",
       " 'bkmgFlights_tripTypeSelector_O': {'passing': 'O',\n",
       "  'failing': ['R', 'M', 'A', 'B', 'C', '1', '2', '3', '', None]},\n",
       " 'bkmgFlights_tripTypeSelector_M': {'passing': 'M',\n",
       "  'failing': ['O', 'R', 'A', 'B', 'C', '1', '2', '3', '', None]},\n",
       " 'bkmgFlights_searchTypeToggle': {'passing': True,\n",
       "  'failing': [False, 'true', 'false', '1', '0', '', None]},\n",
       " 'bkmgFlights_origin_trip_1': {'passing': 'Vancouver',\n",
       "  'failing': ['',\n",
       "   None,\n",
       "   '123',\n",
       "   'Vanc',\n",
       "   'VancouverVancouverVancouverVancouverVancouverVancouver']},\n",
       " 'bkmgFlights_destination_trip_1': {'passing': 'Toronto',\n",
       "  'failing': ['',\n",
       "   None,\n",
       "   '123',\n",
       "   'Toron',\n",
       "   'TorontoTorontoTorontoTorontoTorontoToronto']},\n",
       " 'bkmgFlights_travelDates_1-formfield-1': {'passing': '01/01',\n",
       "  'failing': ['', None, '123', '01/1', '01/01/2022', '32/01', '01/13']},\n",
       " 'bkmgFlights_travelDates_1-formfield-2': {'passing': '01/02',\n",
       "  'failing': ['', None, '123', '01/1', '01/02/2022', '32/01', '01/13']},\n",
       " 'bkmgFlights_selectTravelers': {'passing': '1 Adult',\n",
       "  'failing': ['', None, '123', '1 Child', '2 Adults', '1 Adult, 1 Child']},\n",
       " 'bkmgFlights_findButton': {'passing': 'Search flights',\n",
       "  'failing': ['', None, '123', 'Find flights', 'Search', 'Flights']}}"
      ]
     },
     "execution_count": 8,
     "metadata": {},
     "output_type": "execute_result"
    }
   ],
   "source": [
    "values"
   ]
  },
  {
   "cell_type": "code",
   "execution_count": 20,
   "id": "6ad491e7",
   "metadata": {
    "ExecuteTime": {
     "end_time": "2023-07-13T20:47:37.755609Z",
     "start_time": "2023-07-13T20:47:37.714999Z"
    }
   },
   "outputs": [],
   "source": [
    "def send_values(elements, values):\n",
    "    for element_id in elements.keys():\n",
    "        element = elements[element_id]\n",
    "        value = values[element_id]\n",
    "        \n",
    "        element_type = element.get_attribute('type') or 'text'\n",
    "    \n",
    "        if element_type in ['radio', 'checkbox'] or element.tag_name in ['button']:\n",
    "            continue\n",
    "        \n",
    "        interact_with_input(element, value)\n",
    "\n",
    "        \n",
    "def submit_form(form):\n",
    "    submit = form.find_element(By.XPATH, f'{form_xpath}//*[@type=\"submit\"]')\n",
    "    \n",
    "    for _ in range(3):\n",
    "        try:\n",
    "            interact_with_input(submit, True)\n",
    "            time.sleep(0.5)\n",
    "        except:\n",
    "            break"
   ]
  },
  {
   "cell_type": "code",
   "execution_count": 21,
   "id": "866d934b",
   "metadata": {
    "ExecuteTime": {
     "end_time": "2023-07-13T20:47:45.745770Z",
     "start_time": "2023-07-13T20:47:38.330748Z"
    }
   },
   "outputs": [
    {
     "ename": "NameError",
     "evalue": "name 'history_table' is not defined",
     "output_type": "error",
     "traceback": [
      "\u001b[0;31m---------------------------------------------------------------------------\u001b[0m",
      "\u001b[0;31mNameError\u001b[0m                                 Traceback (most recent call last)",
      "Cell \u001b[0;32mIn[21], line 29\u001b[0m\n\u001b[1;32m     26\u001b[0m new_html \u001b[38;5;241m=\u001b[39m driver\u001b[38;5;241m.\u001b[39mfind_element(By\u001b[38;5;241m.\u001b[39mTAG_NAME, \u001b[38;5;124m'\u001b[39m\u001b[38;5;124mbody\u001b[39m\u001b[38;5;124m'\u001b[39m)\u001b[38;5;241m.\u001b[39mget_attribute(\u001b[38;5;124m'\u001b[39m\u001b[38;5;124mouterHTML\u001b[39m\u001b[38;5;124m'\u001b[39m)\n\u001b[1;32m     27\u001b[0m global_feedback \u001b[38;5;241m=\u001b[39m get_global_feedback(html, new_html, remove_form_children\u001b[38;5;241m=\u001b[39m\u001b[38;5;28;01mFalse\u001b[39;00m)\n\u001b[0;32m---> 29\u001b[0m \u001b[43mhistory_table\u001b[49m\u001b[38;5;241m.\u001b[39madd(\n\u001b[1;32m     30\u001b[0m     passing_copy,\n\u001b[1;32m     31\u001b[0m     \u001b[38;5;124m'\u001b[39m\u001b[38;5;124mbase\u001b[39m\u001b[38;5;124m'\u001b[39m,\n\u001b[1;32m     32\u001b[0m     global_feedback,\n\u001b[1;32m     33\u001b[0m     driver\u001b[38;5;241m.\u001b[39mcurrent_url\n\u001b[1;32m     34\u001b[0m )\n",
      "\u001b[0;31mNameError\u001b[0m: name 'history_table' is not defined"
     ]
    }
   ],
   "source": [
    "passing_set = {\n",
    "    element_id: values[element_id]['passing'] for element_id in values.keys()\n",
    "}\n",
    "\n",
    "elements = {\n",
    "    element_id: driver.find_element(By.ID, element_id) for element_id in values.keys()\n",
    "}\n",
    "\n",
    "\n",
    "for element_id, element_values in values.items():\n",
    "    element = elements[element_id]\n",
    "    element_type = element.get_attribute('type') or 'text'\n",
    "    \n",
    "    if element_type in ['radio', 'checkbox']:\n",
    "        continue\n",
    "    \n",
    "    for failing_value in element_values['failing']:\n",
    "        passing_copy = copy.copy(passing_set)\n",
    "        passing_copy[element_id] = failing_value\n",
    "        send_values(elements, passing_copy)\n",
    "        \n",
    "        time.sleep(2)\n",
    "\n",
    "        submit_form(form)\n",
    "        \n",
    "        new_html = driver.find_element(By.TAG_NAME, 'body').get_attribute('outerHTML')\n",
    "        global_feedback = get_global_feedback(html, new_html, remove_form_children=False)\n",
    "\n",
    "        history_table.add(\n",
    "            passing_copy,\n",
    "            'base',\n",
    "            global_feedback,\n",
    "            driver.current_url\n",
    "        )"
   ]
  },
  {
   "cell_type": "code",
   "execution_count": null,
   "id": "16c646fe",
   "metadata": {},
   "outputs": [],
   "source": []
  }
 ],
 "metadata": {
  "kernelspec": {
   "display_name": "Python 3 (ipykernel)",
   "language": "python",
   "name": "python3"
  },
  "language_info": {
   "codemirror_mode": {
    "name": "ipython",
    "version": 3
   },
   "file_extension": ".py",
   "mimetype": "text/x-python",
   "name": "python",
   "nbconvert_exporter": "python",
   "pygments_lexer": "ipython3",
   "version": "3.10.9"
  },
  "toc": {
   "base_numbering": 1,
   "nav_menu": {},
   "number_sections": true,
   "sideBar": true,
   "skip_h1_title": false,
   "title_cell": "Table of Contents",
   "title_sidebar": "Contents",
   "toc_cell": false,
   "toc_position": {},
   "toc_section_display": true,
   "toc_window_display": false
  },
  "varInspector": {
   "cols": {
    "lenName": 16,
    "lenType": 16,
    "lenVar": 40
   },
   "kernels_config": {
    "python": {
     "delete_cmd_postfix": "",
     "delete_cmd_prefix": "del ",
     "library": "var_list.py",
     "varRefreshCmd": "print(var_dic_list())"
    },
    "r": {
     "delete_cmd_postfix": ") ",
     "delete_cmd_prefix": "rm(",
     "library": "var_list.r",
     "varRefreshCmd": "cat(var_dic_list()) "
    }
   },
   "types_to_exclude": [
    "module",
    "function",
    "builtin_function_or_method",
    "instance",
    "_Feature"
   ],
   "window_display": false
  }
 },
 "nbformat": 4,
 "nbformat_minor": 5
}
