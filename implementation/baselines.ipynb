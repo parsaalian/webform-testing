{
 "cells": [
  {
   "cell_type": "code",
   "execution_count": 1,
   "id": "a7f7af7a",
   "metadata": {
    "ExecuteTime": {
     "end_time": "2023-07-20T19:50:30.617489Z",
     "start_time": "2023-07-20T19:50:30.581127Z"
    }
   },
   "outputs": [],
   "source": [
    "%load_ext autoreload\n",
    "%autoreload 2"
   ]
  },
  {
   "cell_type": "code",
   "execution_count": 2,
   "id": "806f75bb",
   "metadata": {
    "ExecuteTime": {
     "end_time": "2023-07-20T19:50:32.784934Z",
     "start_time": "2023-07-20T19:50:31.332146Z"
    }
   },
   "outputs": [],
   "source": [
    "import os\n",
    "import time\n",
    "import copy\n",
    "import json\n",
    "import openai\n",
    "from dotenv import load_dotenv\n",
    "\n",
    "from bs4 import BeautifulSoup as bs\n",
    "from selenium.webdriver.common.by import By\n",
    "from selenium.webdriver.support.ui import WebDriverWait\n",
    "from selenium.webdriver.support import expected_conditions as EC\n",
    "\n",
    "from method.models import generate_random_values, generate_static_values, generate_llm_values\n",
    "from method.ours.utils import create_driver, get_xpath, interact_with_input\n",
    "from method.ours.history import HistoryTable\n",
    "from method.ours.feedback import get_global_feedback"
   ]
  },
  {
   "cell_type": "code",
   "execution_count": 3,
   "id": "b8407538",
   "metadata": {
    "ExecuteTime": {
     "end_time": "2023-07-20T19:50:33.470067Z",
     "start_time": "2023-07-20T19:50:33.411650Z"
    }
   },
   "outputs": [],
   "source": [
    "load_dotenv()\n",
    "openai.api_key = os.getenv(\"OPENAI_API_KEY\")\n",
    "\n",
    "# Global Variables\n",
    "HEADLESS = False\n",
    "TEXT_EMBEDDING_METHOD = 'ADA' # ['ADA', 'WORD2VEC', 'SPACY']\n",
    "GRAPH_EMBEDDING_METHOD = 'NODE2VEC' # ['NODE2VEC', 'GCN']\n",
    "\n",
    "URL = 'https://www.babycenter.com/pregnancy-weight-gain-estimator'\n",
    "# 'https://www.budget.com/en/home'\n",
    "# 'https://www.yelp.com/'\n",
    "# 'https://www.aircanada.com/ca/en/aco/home.html'"
   ]
  },
  {
   "cell_type": "code",
   "execution_count": 8,
   "id": "cc0e906c",
   "metadata": {
    "ExecuteTime": {
     "end_time": "2023-07-20T19:50:50.853827Z",
     "start_time": "2023-07-20T19:50:50.764061Z"
    }
   },
   "outputs": [],
   "source": [
    "METHOD = 'llm'"
   ]
  },
  {
   "cell_type": "code",
   "execution_count": 5,
   "id": "a255c31e",
   "metadata": {
    "ExecuteTime": {
     "end_time": "2023-07-20T19:50:34.693323Z",
     "start_time": "2023-07-20T19:50:34.644074Z"
    }
   },
   "outputs": [],
   "source": [
    "def get_to_form(driver):\n",
    "    driver.get(URL)\n",
    "    \n",
    "    '''\n",
    "    # AC - Multi-city\n",
    "    time.sleep(2)\n",
    "    WebDriverWait(driver, 5).until(\n",
    "        EC.presence_of_element_located((By.ID, 'bkmgFlights_tripTypeSelector_M'))\n",
    "    ).click()\n",
    "    '''\n",
    "    \n",
    "    '''\n",
    "    # AC - My Bookings\n",
    "    time.sleep(2)\n",
    "    WebDriverWait(driver, 5).until(\n",
    "        EC.presence_of_element_located((By.ID, 'bkmg-tab-button-mngBook'))\n",
    "    ).click()'''\n",
    "    \n",
    "    '''\n",
    "    # Budget - Reservation\n",
    "    WebDriverWait(driver, 5).until(\n",
    "        EC.presence_of_element_located((By.ID, 'PicLoc_value'))\n",
    "    ).click()\n",
    "    '''"
   ]
  },
  {
   "cell_type": "code",
   "execution_count": 9,
   "id": "1527a70f",
   "metadata": {
    "ExecuteTime": {
     "end_time": "2023-07-20T19:50:53.188979Z",
     "start_time": "2023-07-20T19:50:53.138257Z"
    }
   },
   "outputs": [],
   "source": [
    "def find_form():\n",
    "    return driver.find_element(\n",
    "        By.XPATH,\n",
    "        '//BODY/DIV[1]/DIV[3]/DIV[1]/DIV[5]/DIV[1]/DIV[1]/ARTICLE[1]/DIV[2]/DIV[1]/DIV[1]/DIV[2]'\n",
    "    )\n",
    "\n",
    "\n",
    "def find_button():\n",
    "    return find_form().find_elements(By.TAG_NAME, 'button')[-1]\n",
    "    # return None"
   ]
  },
  {
   "cell_type": "code",
   "execution_count": 11,
   "id": "e8ec6672",
   "metadata": {
    "ExecuteTime": {
     "end_time": "2023-07-20T19:51:13.490211Z",
     "start_time": "2023-07-20T19:50:59.547138Z"
    }
   },
   "outputs": [],
   "source": [
    "driver = create_driver(HEADLESS)\n",
    "get_to_form(driver)"
   ]
  },
  {
   "cell_type": "code",
   "execution_count": 12,
   "id": "96cabf9e",
   "metadata": {
    "ExecuteTime": {
     "end_time": "2023-07-20T19:51:15.637000Z",
     "start_time": "2023-07-20T19:51:15.280715Z"
    }
   },
   "outputs": [],
   "source": [
    "html = driver.find_element(By.TAG_NAME, 'html').get_attribute('outerHTML')\n",
    "form = find_form()\n",
    "form_xpath = get_xpath(driver, form)\n",
    "\n",
    "inputs = form.find_elements(\n",
    "    By.XPATH,\n",
    "    f'{form_xpath}//input | {form_xpath}//textarea | {form_xpath}//select'\n",
    ")\n",
    "\n",
    "inputs = list(filter(\n",
    "    lambda x: x.get_attribute('type') != 'hidden' and x.get_attribute('hidden') != 'true',\n",
    "    inputs\n",
    "))"
   ]
  },
  {
   "cell_type": "code",
   "execution_count": 13,
   "id": "668d49d1",
   "metadata": {
    "ExecuteTime": {
     "end_time": "2023-07-20T19:51:16.338487Z",
     "start_time": "2023-07-20T19:51:16.284968Z"
    }
   },
   "outputs": [],
   "source": [
    "history_table = HistoryTable(\n",
    "    url=URL,\n",
    "    xpath=form_xpath\n",
    ")"
   ]
  },
  {
   "cell_type": "code",
   "execution_count": 14,
   "id": "5aa02c36",
   "metadata": {
    "ExecuteTime": {
     "end_time": "2023-07-20T19:51:27.898215Z",
     "start_time": "2023-07-20T19:51:16.911309Z"
    }
   },
   "outputs": [
    {
     "name": "stdout",
     "output_type": "stream",
     "text": [
      " \u001b[0m Prompt: [\n",
      "  {\n",
      "    \"role\": \"system\",\n",
      "    \"content\": \"\\nYour task is to generate testing values for a web form. When given a web form, you need to generate values that can pass and fail when tried on the form. Your response should be in the following format:\\n{\\n[field_identifier]: {\\npassing: <a base passing value for the field>,\\nfailing: <a list of failing values for the field>\\n}\\n}\\nYour response must be parsable by Python's json.loads function. Use \\\"id\\\" attribute to refer to the fields.\\n\"\n",
      "  },\n",
      "  {\n",
      "    \"role\": \"user\",\n",
      "    \"content\": \"<div class=\\\"blueRectangle\\\"><div class=\\\"formFields\\\"><div class=\\\"weightInput mui-style-p0tzpz esqtzx80\\\"><label class=\\\"mui-style-gvm0ej esqtzx81\\\">Your pre-pregnancy weight</label><div class=\\\"false mui-style-wqurjs esqtzx82\\\"><div class=\\\"MuiFormControl-root MuiTextField-root weightValueInput mui-style-i44wyl\\\"><div class=\\\"MuiInputBase-root MuiOutlinedInput-root MuiInputBase-colorPrimary MuiInputBase-formControl mui-style-13cxp6d\\\"><input aria-invalid=\\\"false\\\" id=\\\"left-prePregnancyWeight\\\" placeholder=\\\"0\\\" type=\\\"text\\\" class=\\\"MuiInputBase-input MuiOutlinedInput-input mui-style-ls3aeu\\\" value=\\\"\\\"><fieldset aria-hidden=\\\"true\\\" class=\\\"MuiOutlinedInput-notchedOutline mui-style-igs3ac\\\"><legend class=\\\"mui-style-ihdtdm\\\"><span class=\\\"notranslate\\\">\\u200b</span></legend></fieldset></div></div><div inputmode=\\\"none\\\" class=\\\"MuiInputBase-root MuiOutlinedInput-root MuiInputBase-colorPrimary weightUnitSelect mui-style-vs8znc\\\"><div tabindex=\\\"0\\\" role=\\\"button\\\" aria-expanded=\\\"false\\\" aria-haspopup=\\\"listbox\\\" class=\\\"MuiSelect-select MuiSelect-outlined MuiInputBase-input MuiOutlinedInput-input mui-style-bv5oky\\\"><span>lb<!-- -->.</span></div><input aria-hidden=\\\"true\\\" tabindex=\\\"-1\\\" class=\\\"MuiSelect-nativeInput mui-style-1k3x8v3\\\" value=\\\"lb\\\"><svg class=\\\"MuiSvgIcon-root MuiSvgIcon-fontSizeMedium MuiSelect-icon MuiSelect-iconOutlined mui-style-f1cmb6\\\" focusable=\\\"false\\\" aria-hidden=\\\"true\\\" viewBox=\\\"0 0 24 24\\\" data-testid=\\\"ArrowDropDownIcon\\\"><path d=\\\"M7 10l5 5 5-5z\\\"></path></svg><fieldset aria-hidden=\\\"true\\\" class=\\\"MuiOutlinedInput-notchedOutline mui-style-igs3ac\\\"><legend class=\\\"mui-style-ihdtdm\\\"><span class=\\\"notranslate\\\">\\u200b</span></legend></fieldset></div></div></div><div class=\\\"weightInput mui-style-p0tzpz esqtzx80\\\"><label class=\\\"mui-style-gvm0ej esqtzx81\\\">Your weight right now</label><div class=\\\"false mui-style-wqurjs esqtzx82\\\"><div class=\\\"MuiFormControl-root MuiTextField-root weightValueInput mui-style-i44wyl\\\"><div class=\\\"MuiInputBase-root MuiOutlinedInput-root MuiInputBase-colorPrimary MuiInputBase-formControl mui-style-13cxp6d\\\"><input aria-invalid=\\\"false\\\" id=\\\"left-weightNow\\\" placeholder=\\\"0\\\" type=\\\"text\\\" class=\\\"MuiInputBase-input MuiOutlinedInput-input mui-style-ls3aeu\\\" value=\\\"\\\"><fieldset aria-hidden=\\\"true\\\" class=\\\"MuiOutlinedInput-notchedOutline mui-style-igs3ac\\\"><legend class=\\\"mui-style-ihdtdm\\\"><span class=\\\"notranslate\\\">\\u200b</span></legend></fieldset></div></div><div inputmode=\\\"none\\\" class=\\\"MuiInputBase-root MuiOutlinedInput-root MuiInputBase-colorPrimary weightUnitSelect mui-style-vs8znc\\\"><div tabindex=\\\"0\\\" role=\\\"button\\\" aria-expanded=\\\"false\\\" aria-haspopup=\\\"listbox\\\" class=\\\"MuiSelect-select MuiSelect-outlined MuiInputBase-input MuiOutlinedInput-input mui-style-bv5oky\\\"><span>lb<!-- -->.</span></div><input aria-hidden=\\\"true\\\" tabindex=\\\"-1\\\" class=\\\"MuiSelect-nativeInput mui-style-1k3x8v3\\\" value=\\\"lb\\\"><svg class=\\\"MuiSvgIcon-root MuiSvgIcon-fontSizeMedium MuiSelect-icon MuiSelect-iconOutlined mui-style-f1cmb6\\\" focusable=\\\"false\\\" aria-hidden=\\\"true\\\" viewBox=\\\"0 0 24 24\\\" data-testid=\\\"ArrowDropDownIcon\\\"><path d=\\\"M7 10l5 5 5-5z\\\"></path></svg><fieldset aria-hidden=\\\"true\\\" class=\\\"MuiOutlinedInput-notchedOutline mui-style-igs3ac\\\"><legend class=\\\"mui-style-ihdtdm\\\"><span class=\\\"notranslate\\\">\\u200b</span></legend></fieldset></div></div></div><div class=\\\"lengthInput mui-style-1v23idm e1y0o5870\\\"><label class=\\\"mui-style-gvm0ej e1y0o5871\\\">Your height</label><div class=\\\"false mui-style-1t34g2a e1y0o5872\\\"><div class=\\\"MuiFormControl-root MuiTextField-root lengthValueInput mui-style-i44wyl\\\"><div class=\\\"MuiInputBase-root MuiOutlinedInput-root MuiInputBase-colorPrimary MuiInputBase-formControl mui-style-13cxp6d\\\"><input aria-invalid=\\\"false\\\" id=\\\"left-height\\\" placeholder=\\\"0\\\" type=\\\"text\\\" class=\\\"MuiInputBase-input MuiOutlinedInput-input mui-style-ls3aeu\\\" value=\\\"\\\"><fieldset aria-hidden=\\\"true\\\" class=\\\"MuiOutlinedInput-notchedOutline mui-style-igs3ac\\\"><legend class=\\\"mui-style-ihdtdm\\\"><span class=\\\"notranslate\\\">\\u200b</span></legend></fieldset></div></div><div inputmode=\\\"none\\\" class=\\\"MuiInputBase-root MuiOutlinedInput-root MuiInputBase-colorPrimary lengthUnitSelect mui-style-vs8znc\\\"><div tabindex=\\\"0\\\" role=\\\"button\\\" aria-expanded=\\\"false\\\" aria-haspopup=\\\"listbox\\\" class=\\\"MuiSelect-select MuiSelect-outlined MuiInputBase-input MuiOutlinedInput-input mui-style-bv5oky\\\"><span>ft<!-- -->.</span></div><input aria-hidden=\\\"true\\\" tabindex=\\\"-1\\\" class=\\\"MuiSelect-nativeInput mui-style-1k3x8v3\\\" value=\\\"ft\\\"><svg class=\\\"MuiSvgIcon-root MuiSvgIcon-fontSizeMedium MuiSelect-icon MuiSelect-iconOutlined mui-style-f1cmb6\\\" focusable=\\\"false\\\" aria-hidden=\\\"true\\\" viewBox=\\\"0 0 24 24\\\" data-testid=\\\"ArrowDropDownIcon\\\"><path d=\\\"M7 10l5 5 5-5z\\\"></path></svg><fieldset aria-hidden=\\\"true\\\" class=\\\"MuiOutlinedInput-notchedOutline mui-style-igs3ac\\\"><legend class=\\\"mui-style-ihdtdm\\\"><span class=\\\"notranslate\\\">\\u200b</span></legend></fieldset></div><div class=\\\"MuiFormControl-root MuiTextField-root suffixLengthValueInput mui-style-i44wyl\\\"><div class=\\\"MuiInputBase-root MuiOutlinedInput-root MuiInputBase-colorPrimary MuiInputBase-formControl MuiInputBase-adornedEnd mui-style-9f4y28\\\"><input aria-invalid=\\\"false\\\" id=\\\"right-height\\\" placeholder=\\\"0\\\" type=\\\"text\\\" class=\\\"MuiInputBase-input MuiOutlinedInput-input MuiInputBase-inputAdornedEnd mui-style-1is3kvf\\\" value=\\\"\\\"><div class=\\\"MuiInputAdornment-root MuiInputAdornment-positionEnd MuiInputAdornment-outlined MuiInputAdornment-sizeMedium mui-style-1jbm7ae\\\"><p class=\\\"MuiTypography-root MuiTypography-body1 mui-style-1tegyqq\\\">in</p></div><fieldset aria-hidden=\\\"true\\\" class=\\\"MuiOutlinedInput-notchedOutline mui-style-igs3ac\\\"><legend class=\\\"mui-style-ihdtdm\\\"><span class=\\\"notranslate\\\">\\u200b</span></legend></fieldset></div></div></div></div><div class=\\\"MuiFormControl-root carryTwins mui-style-13sljp9\\\"><label class=\\\"MuiFormControlLabel-root MuiFormControlLabel-labelPlacementEnd mui-style-1jaw3da\\\"><span class=\\\"MuiButtonBase-root MuiCheckbox-root MuiCheckbox-colorPrimary PrivateSwitchBase-root MuiCheckbox-root MuiCheckbox-colorPrimary mui-style-p8k930\\\"><input class=\\\"PrivateSwitchBase-input mui-style-1m9pwf3\\\" type=\\\"checkbox\\\" data-indeterminate=\\\"false\\\"><svg class=\\\"MuiSvgIcon-root MuiSvgIcon-fontSizeMedium mui-style-vubbuv\\\" focusable=\\\"false\\\" aria-hidden=\\\"true\\\" viewBox=\\\"0 0 24 24\\\" data-testid=\\\"CheckBoxOutlineBlankIcon\\\"><path d=\\\"M19 5v14H5V5h14m0-2H5c-1.1 0-2 .9-2 2v14c0 1.1.9 2 2 2h14c1.1 0 2-.9 2-2V5c0-1.1-.9-2-2-2z\\\"></path></svg><span class=\\\"MuiTouchRipple-root mui-style-w0pj6f\\\"></span></span><span class=\\\"MuiTypography-root MuiTypography-body1 MuiFormControlLabel-label mui-style-mala95\\\">I'm carrying twins</span></label></div><div class=\\\"MuiFormControl-root pregnancyWeek formControl mui-style-13sljp9\\\"><label class=\\\"MuiFormLabel-root MuiInputLabel-root MuiInputLabel-formControl MuiInputLabel-animated MuiInputLabel-shrink MuiInputLabel-outlined MuiFormLabel-colorPrimary MuiFormLabel-filled mui-style-16fersa\\\" data-shrink=\\\"true\\\" id=\\\"label\\\" for=\\\"connection0\\\">Your week of pregnancy</label><div class=\\\"MuiInputBase-root MuiOutlinedInput-root MuiInputBase-colorPrimary MuiInputBase-fullWidth MuiInputBase-formControl  mui-style-rz2e2i\\\"><div tabindex=\\\"0\\\" role=\\\"button\\\" aria-expanded=\\\"false\\\" aria-haspopup=\\\"listbox\\\" aria-label=\\\"Without label\\\" aria-labelledby=\\\"label pregnancyWeek\\\" id=\\\"pregnancyWeek\\\" class=\\\"MuiSelect-select MuiSelect-outlined MuiInputBase-input MuiOutlinedInput-input mui-style-bv5oky\\\">4<!-- --> <!-- --> weeks </div><input name=\\\"pregnancyWeek\\\" aria-hidden=\\\"true\\\" tabindex=\\\"-1\\\" class=\\\"MuiSelect-nativeInput mui-style-1k3x8v3\\\" id=\\\"connection0\\\" value=\\\"4\\\"><svg class=\\\"MuiSvgIcon-root MuiSvgIcon-fontSizeMedium MuiSelect-icon MuiSelect-iconOutlined mui-style-f1cmb6\\\" focusable=\\\"false\\\" aria-hidden=\\\"true\\\" viewBox=\\\"0 0 24 24\\\" data-testid=\\\"ArrowDropDownIcon\\\"><path d=\\\"M7 10l5 5 5-5z\\\"></path></svg><fieldset aria-hidden=\\\"true\\\" class=\\\"MuiOutlinedInput-notchedOutline mui-style-igs3ac\\\"><legend class=\\\"mui-style-14lo706\\\"><span>Your week of pregnancy</span></legend></fieldset></div></div></div><div class=\\\"formActions\\\"><button class=\\\"MuiButtonBase-root MuiButton-root MuiButton-contained MuiButton-containedPrimary MuiButton-sizeMedium MuiButton-containedSizeMedium submitButton mui-style-1dbrzou\\\" tabindex=\\\"0\\\" type=\\\"button\\\">Calculate<span class=\\\"MuiTouchRipple-root mui-style-w0pj6f\\\"></span></button></div></div>\"\n",
      "  }\n",
      "]\n"
     ]
    },
    {
     "name": "stdout",
     "output_type": "stream",
     "text": [
      " \u001b[0m Response: {\n",
      "  \"choices\": [\n",
      "    {\n",
      "      \"finish_reason\": \"stop\",\n",
      "      \"index\": 0,\n",
      "      \"message\": {\n",
      "        \"content\": \"{\\n\\\"left-prePregnancyWeight\\\": {\\n\\\"passing\\\": \\\"150\\\",\\n\\\"failing\\\": [\\\"\\\", \\\"abc\\\", \\\"-150\\\", \\\"0\\\"]\\n},\\n\\\"left-weightNow\\\": {\\n\\\"passing\\\": \\\"160\\\",\\n\\\"failing\\\": [\\\"\\\", \\\"abc\\\", \\\"-160\\\", \\\"0\\\"]\\n},\\n\\\"left-height\\\": {\\n\\\"passing\\\": \\\"5\\\",\\n\\\"failing\\\": [\\\"\\\", \\\"abc\\\", \\\"-5\\\", \\\"0\\\"]\\n},\\n\\\"right-height\\\": {\\n\\\"passing\\\": \\\"6\\\",\\n\\\"failing\\\": [\\\"\\\", \\\"abc\\\", \\\"-6\\\", \\\"0\\\"]\\n},\\n\\\"pregnancyWeek\\\": {\\n\\\"passing\\\": \\\"20\\\",\\n\\\"failing\\\": [\\\"\\\", \\\"abc\\\", \\\"-20\\\", \\\"0\\\"]\\n}\\n}\",\n",
      "        \"role\": \"assistant\"\n",
      "      }\n",
      "    }\n",
      "  ],\n",
      "  \"created\": 1689882677,\n",
      "  \"id\": \"chatcmpl-7eTy959H4PxKF20FJSccid6PkMGmE\",\n",
      "  \"model\": \"gpt-4-0613\",\n",
      "  \"object\": \"chat.completion\",\n",
      "  \"usage\": {\n",
      "    \"completion_tokens\": 144,\n",
      "    \"prompt_tokens\": 2516,\n",
      "    \"total_tokens\": 2660\n",
      "  }\n",
      "}\n",
      " \u001b[0m Total running cost: $0.084\n"
     ]
    }
   ],
   "source": [
    "values = None\n",
    "if METHOD == 'static':\n",
    "    values = generate_static_values(driver, inputs)\n",
    "elif METHOD == 'random':\n",
    "    values = generate_random_values(driver, inputs)\n",
    "else:\n",
    "    values = generate_llm_values(form.get_attribute('outerHTML'), openai.api_key)"
   ]
  },
  {
   "cell_type": "code",
   "execution_count": 15,
   "id": "8476d5c4",
   "metadata": {
    "ExecuteTime": {
     "end_time": "2023-07-20T19:51:30.572529Z",
     "start_time": "2023-07-20T19:51:30.465969Z"
    }
   },
   "outputs": [
    {
     "data": {
      "text/plain": [
       "{'left-prePregnancyWeight': {'passing': '150',\n",
       "  'failing': ['', 'abc', '-150', '0']},\n",
       " 'left-weightNow': {'passing': '160', 'failing': ['', 'abc', '-160', '0']},\n",
       " 'left-height': {'passing': '5', 'failing': ['', 'abc', '-5', '0']},\n",
       " 'right-height': {'passing': '6', 'failing': ['', 'abc', '-6', '0']},\n",
       " 'pregnancyWeek': {'passing': '20', 'failing': ['', 'abc', '-20', '0']}}"
      ]
     },
     "execution_count": 15,
     "metadata": {},
     "output_type": "execute_result"
    }
   ],
   "source": [
    "values"
   ]
  },
  {
   "cell_type": "code",
   "execution_count": 15,
   "id": "6ad491e7",
   "metadata": {
    "ExecuteTime": {
     "end_time": "2023-07-20T19:47:15.129552Z",
     "start_time": "2023-07-20T19:47:15.038509Z"
    }
   },
   "outputs": [],
   "source": [
    "def get_element(element_id):\n",
    "    return driver.find_element(By.ID if METHOD == 'llm' else By.XPATH, element_id)\n",
    "\n",
    "\n",
    "def send_values(elemend_ids, values):\n",
    "    for element_id in elemend_ids:\n",
    "        element = get_element(element_id)\n",
    "        value = values[element_id]\n",
    "        \n",
    "        element_type = element.get_attribute('type') or 'text'\n",
    "    \n",
    "        if element_type in ['radio', 'checkbox'] or element.tag_name in ['button']:\n",
    "            continue\n",
    "        \n",
    "        try:\n",
    "            interact_with_input(element, value)\n",
    "        except:\n",
    "            pass\n",
    "\n",
    "        \n",
    "def submit_form(form):\n",
    "    # submit = driver.find_element(By.XPATH, f'{form_xpath}//*[@type=\"submit\"]')\n",
    "    # driver.find_element(By.TAG_NAME, 'body').click()\n",
    "    submit = find_button()\n",
    "    \n",
    "    for _ in range(3):\n",
    "        try:\n",
    "            interact_with_input(submit, True)\n",
    "            time.sleep(0.5)\n",
    "        except:\n",
    "            break"
   ]
  },
  {
   "cell_type": "code",
   "execution_count": 22,
   "id": "866d934b",
   "metadata": {
    "ExecuteTime": {
     "end_time": "2023-07-20T19:50:23.423139Z",
     "start_time": "2023-07-20T19:48:35.685544Z"
    }
   },
   "outputs": [
    {
     "name": "stderr",
     "output_type": "stream",
     "text": [
      "/Users/parsaalian/Desktop/Research/webform testing project/webform-testing-code/implementation/method/ours/history.py:83: FutureWarning: The frame.append method is deprecated and will be removed from pandas in a future version. Use pandas.concat instead.\n",
      "  self.table = self.table.append({\n",
      "/Users/parsaalian/Desktop/Research/webform testing project/webform-testing-code/implementation/method/ours/history.py:83: FutureWarning: The frame.append method is deprecated and will be removed from pandas in a future version. Use pandas.concat instead.\n",
      "  self.table = self.table.append({\n",
      "/Users/parsaalian/Desktop/Research/webform testing project/webform-testing-code/implementation/method/ours/history.py:83: FutureWarning: The frame.append method is deprecated and will be removed from pandas in a future version. Use pandas.concat instead.\n",
      "  self.table = self.table.append({\n"
     ]
    },
    {
     "ename": "KeyboardInterrupt",
     "evalue": "",
     "output_type": "error",
     "traceback": [
      "\u001b[0;31m---------------------------------------------------------------------------\u001b[0m",
      "\u001b[0;31mKeyboardInterrupt\u001b[0m                         Traceback (most recent call last)",
      "Cell \u001b[0;32mIn[22], line 20\u001b[0m\n\u001b[1;32m     16\u001b[0m \u001b[38;5;66;03m# print(element)\u001b[39;00m\n\u001b[1;32m     18\u001b[0m \u001b[38;5;28;01mfor\u001b[39;00m failing_value \u001b[38;5;129;01min\u001b[39;00m element_values[\u001b[38;5;124m'\u001b[39m\u001b[38;5;124mfailing\u001b[39m\u001b[38;5;124m'\u001b[39m]:\n\u001b[1;32m     19\u001b[0m     \u001b[38;5;66;03m# try:\u001b[39;00m\n\u001b[0;32m---> 20\u001b[0m     \u001b[43mget_to_form\u001b[49m\u001b[43m(\u001b[49m\u001b[43mdriver\u001b[49m\u001b[43m)\u001b[49m\n\u001b[1;32m     21\u001b[0m     time\u001b[38;5;241m.\u001b[39msleep(\u001b[38;5;241m1\u001b[39m)\n\u001b[1;32m     23\u001b[0m     passing_copy \u001b[38;5;241m=\u001b[39m copy\u001b[38;5;241m.\u001b[39mcopy(passing_set)\n",
      "Cell \u001b[0;32mIn[6], line 2\u001b[0m, in \u001b[0;36mget_to_form\u001b[0;34m(driver)\u001b[0m\n\u001b[1;32m      1\u001b[0m \u001b[38;5;28;01mdef\u001b[39;00m \u001b[38;5;21mget_to_form\u001b[39m(driver):\n\u001b[0;32m----> 2\u001b[0m     \u001b[43mdriver\u001b[49m\u001b[38;5;241;43m.\u001b[39;49m\u001b[43mget\u001b[49m\u001b[43m(\u001b[49m\u001b[43mURL\u001b[49m\u001b[43m)\u001b[49m\n\u001b[1;32m      4\u001b[0m \u001b[38;5;250m    \u001b[39m\u001b[38;5;124;03m'''\u001b[39;00m\n\u001b[1;32m      5\u001b[0m \u001b[38;5;124;03m    # AC - Multi-city\u001b[39;00m\n\u001b[1;32m      6\u001b[0m \u001b[38;5;124;03m    time.sleep(2)\u001b[39;00m\n\u001b[0;32m   (...)\u001b[0m\n\u001b[1;32m      9\u001b[0m \u001b[38;5;124;03m    ).click()\u001b[39;00m\n\u001b[1;32m     10\u001b[0m \u001b[38;5;124;03m    '''\u001b[39;00m\n\u001b[1;32m     12\u001b[0m \u001b[38;5;250m    \u001b[39m\u001b[38;5;124;03m'''\u001b[39;00m\n\u001b[1;32m     13\u001b[0m \u001b[38;5;124;03m    # AC - My Bookings\u001b[39;00m\n\u001b[1;32m     14\u001b[0m \u001b[38;5;124;03m    time.sleep(2)\u001b[39;00m\n\u001b[1;32m     15\u001b[0m \u001b[38;5;124;03m    WebDriverWait(driver, 5).until(\u001b[39;00m\n\u001b[1;32m     16\u001b[0m \u001b[38;5;124;03m        EC.presence_of_element_located((By.ID, 'bkmg-tab-button-mngBook'))\u001b[39;00m\n\u001b[1;32m     17\u001b[0m \u001b[38;5;124;03m    ).click()'''\u001b[39;00m\n",
      "File \u001b[0;32m/Library/Frameworks/Python.framework/Versions/3.10/lib/python3.10/site-packages/selenium/webdriver/remote/webdriver.py:442\u001b[0m, in \u001b[0;36mWebDriver.get\u001b[0;34m(self, url)\u001b[0m\n\u001b[1;32m    438\u001b[0m \u001b[38;5;28;01mdef\u001b[39;00m \u001b[38;5;21mget\u001b[39m(\u001b[38;5;28mself\u001b[39m, url: \u001b[38;5;28mstr\u001b[39m) \u001b[38;5;241m-\u001b[39m\u001b[38;5;241m>\u001b[39m \u001b[38;5;28;01mNone\u001b[39;00m:\n\u001b[1;32m    439\u001b[0m \u001b[38;5;250m    \u001b[39m\u001b[38;5;124;03m\"\"\"\u001b[39;00m\n\u001b[1;32m    440\u001b[0m \u001b[38;5;124;03m    Loads a web page in the current browser session.\u001b[39;00m\n\u001b[1;32m    441\u001b[0m \u001b[38;5;124;03m    \"\"\"\u001b[39;00m\n\u001b[0;32m--> 442\u001b[0m     \u001b[38;5;28;43mself\u001b[39;49m\u001b[38;5;241;43m.\u001b[39;49m\u001b[43mexecute\u001b[49m\u001b[43m(\u001b[49m\u001b[43mCommand\u001b[49m\u001b[38;5;241;43m.\u001b[39;49m\u001b[43mGET\u001b[49m\u001b[43m,\u001b[49m\u001b[43m \u001b[49m\u001b[43m{\u001b[49m\u001b[38;5;124;43m'\u001b[39;49m\u001b[38;5;124;43murl\u001b[39;49m\u001b[38;5;124;43m'\u001b[39;49m\u001b[43m:\u001b[49m\u001b[43m \u001b[49m\u001b[43murl\u001b[49m\u001b[43m}\u001b[49m\u001b[43m)\u001b[49m\n",
      "File \u001b[0;32m/Library/Frameworks/Python.framework/Versions/3.10/lib/python3.10/site-packages/selenium/webdriver/remote/webdriver.py:428\u001b[0m, in \u001b[0;36mWebDriver.execute\u001b[0;34m(self, driver_command, params)\u001b[0m\n\u001b[1;32m    425\u001b[0m         params[\u001b[38;5;124m'\u001b[39m\u001b[38;5;124msessionId\u001b[39m\u001b[38;5;124m'\u001b[39m] \u001b[38;5;241m=\u001b[39m \u001b[38;5;28mself\u001b[39m\u001b[38;5;241m.\u001b[39msession_id\n\u001b[1;32m    427\u001b[0m params \u001b[38;5;241m=\u001b[39m \u001b[38;5;28mself\u001b[39m\u001b[38;5;241m.\u001b[39m_wrap_value(params)\n\u001b[0;32m--> 428\u001b[0m response \u001b[38;5;241m=\u001b[39m \u001b[38;5;28;43mself\u001b[39;49m\u001b[38;5;241;43m.\u001b[39;49m\u001b[43mcommand_executor\u001b[49m\u001b[38;5;241;43m.\u001b[39;49m\u001b[43mexecute\u001b[49m\u001b[43m(\u001b[49m\u001b[43mdriver_command\u001b[49m\u001b[43m,\u001b[49m\u001b[43m \u001b[49m\u001b[43mparams\u001b[49m\u001b[43m)\u001b[49m\n\u001b[1;32m    429\u001b[0m \u001b[38;5;28;01mif\u001b[39;00m response:\n\u001b[1;32m    430\u001b[0m     \u001b[38;5;28mself\u001b[39m\u001b[38;5;241m.\u001b[39merror_handler\u001b[38;5;241m.\u001b[39mcheck_response(response)\n",
      "File \u001b[0;32m/Library/Frameworks/Python.framework/Versions/3.10/lib/python3.10/site-packages/selenium/webdriver/remote/remote_connection.py:347\u001b[0m, in \u001b[0;36mRemoteConnection.execute\u001b[0;34m(self, command, params)\u001b[0m\n\u001b[1;32m    345\u001b[0m data \u001b[38;5;241m=\u001b[39m utils\u001b[38;5;241m.\u001b[39mdump_json(params)\n\u001b[1;32m    346\u001b[0m url \u001b[38;5;241m=\u001b[39m \u001b[38;5;124mf\u001b[39m\u001b[38;5;124m\"\u001b[39m\u001b[38;5;132;01m{\u001b[39;00m\u001b[38;5;28mself\u001b[39m\u001b[38;5;241m.\u001b[39m_url\u001b[38;5;132;01m}\u001b[39;00m\u001b[38;5;132;01m{\u001b[39;00mpath\u001b[38;5;132;01m}\u001b[39;00m\u001b[38;5;124m\"\u001b[39m\n\u001b[0;32m--> 347\u001b[0m \u001b[38;5;28;01mreturn\u001b[39;00m \u001b[38;5;28;43mself\u001b[39;49m\u001b[38;5;241;43m.\u001b[39;49m\u001b[43m_request\u001b[49m\u001b[43m(\u001b[49m\u001b[43mcommand_info\u001b[49m\u001b[43m[\u001b[49m\u001b[38;5;241;43m0\u001b[39;49m\u001b[43m]\u001b[49m\u001b[43m,\u001b[49m\u001b[43m \u001b[49m\u001b[43murl\u001b[49m\u001b[43m,\u001b[49m\u001b[43m \u001b[49m\u001b[43mbody\u001b[49m\u001b[38;5;241;43m=\u001b[39;49m\u001b[43mdata\u001b[49m\u001b[43m)\u001b[49m\n",
      "File \u001b[0;32m/Library/Frameworks/Python.framework/Versions/3.10/lib/python3.10/site-packages/selenium/webdriver/remote/remote_connection.py:369\u001b[0m, in \u001b[0;36mRemoteConnection._request\u001b[0;34m(self, method, url, body)\u001b[0m\n\u001b[1;32m    366\u001b[0m     body \u001b[38;5;241m=\u001b[39m \u001b[38;5;28;01mNone\u001b[39;00m\n\u001b[1;32m    368\u001b[0m \u001b[38;5;28;01mif\u001b[39;00m \u001b[38;5;28mself\u001b[39m\u001b[38;5;241m.\u001b[39mkeep_alive:\n\u001b[0;32m--> 369\u001b[0m     response \u001b[38;5;241m=\u001b[39m \u001b[38;5;28;43mself\u001b[39;49m\u001b[38;5;241;43m.\u001b[39;49m\u001b[43m_conn\u001b[49m\u001b[38;5;241;43m.\u001b[39;49m\u001b[43mrequest\u001b[49m\u001b[43m(\u001b[49m\u001b[43mmethod\u001b[49m\u001b[43m,\u001b[49m\u001b[43m \u001b[49m\u001b[43murl\u001b[49m\u001b[43m,\u001b[49m\u001b[43m \u001b[49m\u001b[43mbody\u001b[49m\u001b[38;5;241;43m=\u001b[39;49m\u001b[43mbody\u001b[49m\u001b[43m,\u001b[49m\u001b[43m \u001b[49m\u001b[43mheaders\u001b[49m\u001b[38;5;241;43m=\u001b[39;49m\u001b[43mheaders\u001b[49m\u001b[43m)\u001b[49m\n\u001b[1;32m    370\u001b[0m     statuscode \u001b[38;5;241m=\u001b[39m response\u001b[38;5;241m.\u001b[39mstatus\n\u001b[1;32m    371\u001b[0m \u001b[38;5;28;01melse\u001b[39;00m:\n",
      "File \u001b[0;32m/Library/Frameworks/Python.framework/Versions/3.10/lib/python3.10/site-packages/urllib3/request.py:78\u001b[0m, in \u001b[0;36mRequestMethods.request\u001b[0;34m(self, method, url, fields, headers, **urlopen_kw)\u001b[0m\n\u001b[1;32m     74\u001b[0m     \u001b[38;5;28;01mreturn\u001b[39;00m \u001b[38;5;28mself\u001b[39m\u001b[38;5;241m.\u001b[39mrequest_encode_url(\n\u001b[1;32m     75\u001b[0m         method, url, fields\u001b[38;5;241m=\u001b[39mfields, headers\u001b[38;5;241m=\u001b[39mheaders, \u001b[38;5;241m*\u001b[39m\u001b[38;5;241m*\u001b[39murlopen_kw\n\u001b[1;32m     76\u001b[0m     )\n\u001b[1;32m     77\u001b[0m \u001b[38;5;28;01melse\u001b[39;00m:\n\u001b[0;32m---> 78\u001b[0m     \u001b[38;5;28;01mreturn\u001b[39;00m \u001b[38;5;28;43mself\u001b[39;49m\u001b[38;5;241;43m.\u001b[39;49m\u001b[43mrequest_encode_body\u001b[49m\u001b[43m(\u001b[49m\n\u001b[1;32m     79\u001b[0m \u001b[43m        \u001b[49m\u001b[43mmethod\u001b[49m\u001b[43m,\u001b[49m\u001b[43m \u001b[49m\u001b[43murl\u001b[49m\u001b[43m,\u001b[49m\u001b[43m \u001b[49m\u001b[43mfields\u001b[49m\u001b[38;5;241;43m=\u001b[39;49m\u001b[43mfields\u001b[49m\u001b[43m,\u001b[49m\u001b[43m \u001b[49m\u001b[43mheaders\u001b[49m\u001b[38;5;241;43m=\u001b[39;49m\u001b[43mheaders\u001b[49m\u001b[43m,\u001b[49m\u001b[43m \u001b[49m\u001b[38;5;241;43m*\u001b[39;49m\u001b[38;5;241;43m*\u001b[39;49m\u001b[43murlopen_kw\u001b[49m\n\u001b[1;32m     80\u001b[0m \u001b[43m    \u001b[49m\u001b[43m)\u001b[49m\n",
      "File \u001b[0;32m/Library/Frameworks/Python.framework/Versions/3.10/lib/python3.10/site-packages/urllib3/request.py:170\u001b[0m, in \u001b[0;36mRequestMethods.request_encode_body\u001b[0;34m(self, method, url, fields, headers, encode_multipart, multipart_boundary, **urlopen_kw)\u001b[0m\n\u001b[1;32m    167\u001b[0m extra_kw[\u001b[38;5;124m\"\u001b[39m\u001b[38;5;124mheaders\u001b[39m\u001b[38;5;124m\"\u001b[39m]\u001b[38;5;241m.\u001b[39mupdate(headers)\n\u001b[1;32m    168\u001b[0m extra_kw\u001b[38;5;241m.\u001b[39mupdate(urlopen_kw)\n\u001b[0;32m--> 170\u001b[0m \u001b[38;5;28;01mreturn\u001b[39;00m \u001b[38;5;28;43mself\u001b[39;49m\u001b[38;5;241;43m.\u001b[39;49m\u001b[43murlopen\u001b[49m\u001b[43m(\u001b[49m\u001b[43mmethod\u001b[49m\u001b[43m,\u001b[49m\u001b[43m \u001b[49m\u001b[43murl\u001b[49m\u001b[43m,\u001b[49m\u001b[43m \u001b[49m\u001b[38;5;241;43m*\u001b[39;49m\u001b[38;5;241;43m*\u001b[39;49m\u001b[43mextra_kw\u001b[49m\u001b[43m)\u001b[49m\n",
      "File \u001b[0;32m/Library/Frameworks/Python.framework/Versions/3.10/lib/python3.10/site-packages/urllib3/poolmanager.py:376\u001b[0m, in \u001b[0;36mPoolManager.urlopen\u001b[0;34m(self, method, url, redirect, **kw)\u001b[0m\n\u001b[1;32m    374\u001b[0m     response \u001b[38;5;241m=\u001b[39m conn\u001b[38;5;241m.\u001b[39murlopen(method, url, \u001b[38;5;241m*\u001b[39m\u001b[38;5;241m*\u001b[39mkw)\n\u001b[1;32m    375\u001b[0m \u001b[38;5;28;01melse\u001b[39;00m:\n\u001b[0;32m--> 376\u001b[0m     response \u001b[38;5;241m=\u001b[39m \u001b[43mconn\u001b[49m\u001b[38;5;241;43m.\u001b[39;49m\u001b[43murlopen\u001b[49m\u001b[43m(\u001b[49m\u001b[43mmethod\u001b[49m\u001b[43m,\u001b[49m\u001b[43m \u001b[49m\u001b[43mu\u001b[49m\u001b[38;5;241;43m.\u001b[39;49m\u001b[43mrequest_uri\u001b[49m\u001b[43m,\u001b[49m\u001b[43m \u001b[49m\u001b[38;5;241;43m*\u001b[39;49m\u001b[38;5;241;43m*\u001b[39;49m\u001b[43mkw\u001b[49m\u001b[43m)\u001b[49m\n\u001b[1;32m    378\u001b[0m redirect_location \u001b[38;5;241m=\u001b[39m redirect \u001b[38;5;129;01mand\u001b[39;00m response\u001b[38;5;241m.\u001b[39mget_redirect_location()\n\u001b[1;32m    379\u001b[0m \u001b[38;5;28;01mif\u001b[39;00m \u001b[38;5;129;01mnot\u001b[39;00m redirect_location:\n",
      "File \u001b[0;32m/Library/Frameworks/Python.framework/Versions/3.10/lib/python3.10/site-packages/urllib3/connectionpool.py:703\u001b[0m, in \u001b[0;36mHTTPConnectionPool.urlopen\u001b[0;34m(self, method, url, body, headers, retries, redirect, assert_same_host, timeout, pool_timeout, release_conn, chunked, body_pos, **response_kw)\u001b[0m\n\u001b[1;32m    700\u001b[0m     \u001b[38;5;28mself\u001b[39m\u001b[38;5;241m.\u001b[39m_prepare_proxy(conn)\n\u001b[1;32m    702\u001b[0m \u001b[38;5;66;03m# Make the request on the httplib connection object.\u001b[39;00m\n\u001b[0;32m--> 703\u001b[0m httplib_response \u001b[38;5;241m=\u001b[39m \u001b[38;5;28;43mself\u001b[39;49m\u001b[38;5;241;43m.\u001b[39;49m\u001b[43m_make_request\u001b[49m\u001b[43m(\u001b[49m\n\u001b[1;32m    704\u001b[0m \u001b[43m    \u001b[49m\u001b[43mconn\u001b[49m\u001b[43m,\u001b[49m\n\u001b[1;32m    705\u001b[0m \u001b[43m    \u001b[49m\u001b[43mmethod\u001b[49m\u001b[43m,\u001b[49m\n\u001b[1;32m    706\u001b[0m \u001b[43m    \u001b[49m\u001b[43murl\u001b[49m\u001b[43m,\u001b[49m\n\u001b[1;32m    707\u001b[0m \u001b[43m    \u001b[49m\u001b[43mtimeout\u001b[49m\u001b[38;5;241;43m=\u001b[39;49m\u001b[43mtimeout_obj\u001b[49m\u001b[43m,\u001b[49m\n\u001b[1;32m    708\u001b[0m \u001b[43m    \u001b[49m\u001b[43mbody\u001b[49m\u001b[38;5;241;43m=\u001b[39;49m\u001b[43mbody\u001b[49m\u001b[43m,\u001b[49m\n\u001b[1;32m    709\u001b[0m \u001b[43m    \u001b[49m\u001b[43mheaders\u001b[49m\u001b[38;5;241;43m=\u001b[39;49m\u001b[43mheaders\u001b[49m\u001b[43m,\u001b[49m\n\u001b[1;32m    710\u001b[0m \u001b[43m    \u001b[49m\u001b[43mchunked\u001b[49m\u001b[38;5;241;43m=\u001b[39;49m\u001b[43mchunked\u001b[49m\u001b[43m,\u001b[49m\n\u001b[1;32m    711\u001b[0m \u001b[43m\u001b[49m\u001b[43m)\u001b[49m\n\u001b[1;32m    713\u001b[0m \u001b[38;5;66;03m# If we're going to release the connection in ``finally:``, then\u001b[39;00m\n\u001b[1;32m    714\u001b[0m \u001b[38;5;66;03m# the response doesn't need to know about the connection. Otherwise\u001b[39;00m\n\u001b[1;32m    715\u001b[0m \u001b[38;5;66;03m# it will also try to release it and we'll have a double-release\u001b[39;00m\n\u001b[1;32m    716\u001b[0m \u001b[38;5;66;03m# mess.\u001b[39;00m\n\u001b[1;32m    717\u001b[0m response_conn \u001b[38;5;241m=\u001b[39m conn \u001b[38;5;28;01mif\u001b[39;00m \u001b[38;5;129;01mnot\u001b[39;00m release_conn \u001b[38;5;28;01melse\u001b[39;00m \u001b[38;5;28;01mNone\u001b[39;00m\n",
      "File \u001b[0;32m/Library/Frameworks/Python.framework/Versions/3.10/lib/python3.10/site-packages/urllib3/connectionpool.py:449\u001b[0m, in \u001b[0;36mHTTPConnectionPool._make_request\u001b[0;34m(self, conn, method, url, timeout, chunked, **httplib_request_kw)\u001b[0m\n\u001b[1;32m    444\u001b[0m             httplib_response \u001b[38;5;241m=\u001b[39m conn\u001b[38;5;241m.\u001b[39mgetresponse()\n\u001b[1;32m    445\u001b[0m         \u001b[38;5;28;01mexcept\u001b[39;00m \u001b[38;5;167;01mBaseException\u001b[39;00m \u001b[38;5;28;01mas\u001b[39;00m e:\n\u001b[1;32m    446\u001b[0m             \u001b[38;5;66;03m# Remove the TypeError from the exception chain in\u001b[39;00m\n\u001b[1;32m    447\u001b[0m             \u001b[38;5;66;03m# Python 3 (including for exceptions like SystemExit).\u001b[39;00m\n\u001b[1;32m    448\u001b[0m             \u001b[38;5;66;03m# Otherwise it looks like a bug in the code.\u001b[39;00m\n\u001b[0;32m--> 449\u001b[0m             \u001b[43msix\u001b[49m\u001b[38;5;241;43m.\u001b[39;49m\u001b[43mraise_from\u001b[49m\u001b[43m(\u001b[49m\u001b[43me\u001b[49m\u001b[43m,\u001b[49m\u001b[43m \u001b[49m\u001b[38;5;28;43;01mNone\u001b[39;49;00m\u001b[43m)\u001b[49m\n\u001b[1;32m    450\u001b[0m \u001b[38;5;28;01mexcept\u001b[39;00m (SocketTimeout, BaseSSLError, SocketError) \u001b[38;5;28;01mas\u001b[39;00m e:\n\u001b[1;32m    451\u001b[0m     \u001b[38;5;28mself\u001b[39m\u001b[38;5;241m.\u001b[39m_raise_timeout(err\u001b[38;5;241m=\u001b[39me, url\u001b[38;5;241m=\u001b[39murl, timeout_value\u001b[38;5;241m=\u001b[39mread_timeout)\n",
      "File \u001b[0;32m<string>:3\u001b[0m, in \u001b[0;36mraise_from\u001b[0;34m(value, from_value)\u001b[0m\n",
      "File \u001b[0;32m/Library/Frameworks/Python.framework/Versions/3.10/lib/python3.10/site-packages/urllib3/connectionpool.py:444\u001b[0m, in \u001b[0;36mHTTPConnectionPool._make_request\u001b[0;34m(self, conn, method, url, timeout, chunked, **httplib_request_kw)\u001b[0m\n\u001b[1;32m    441\u001b[0m \u001b[38;5;28;01mexcept\u001b[39;00m \u001b[38;5;167;01mTypeError\u001b[39;00m:\n\u001b[1;32m    442\u001b[0m     \u001b[38;5;66;03m# Python 3\u001b[39;00m\n\u001b[1;32m    443\u001b[0m     \u001b[38;5;28;01mtry\u001b[39;00m:\n\u001b[0;32m--> 444\u001b[0m         httplib_response \u001b[38;5;241m=\u001b[39m \u001b[43mconn\u001b[49m\u001b[38;5;241;43m.\u001b[39;49m\u001b[43mgetresponse\u001b[49m\u001b[43m(\u001b[49m\u001b[43m)\u001b[49m\n\u001b[1;32m    445\u001b[0m     \u001b[38;5;28;01mexcept\u001b[39;00m \u001b[38;5;167;01mBaseException\u001b[39;00m \u001b[38;5;28;01mas\u001b[39;00m e:\n\u001b[1;32m    446\u001b[0m         \u001b[38;5;66;03m# Remove the TypeError from the exception chain in\u001b[39;00m\n\u001b[1;32m    447\u001b[0m         \u001b[38;5;66;03m# Python 3 (including for exceptions like SystemExit).\u001b[39;00m\n\u001b[1;32m    448\u001b[0m         \u001b[38;5;66;03m# Otherwise it looks like a bug in the code.\u001b[39;00m\n\u001b[1;32m    449\u001b[0m         six\u001b[38;5;241m.\u001b[39mraise_from(e, \u001b[38;5;28;01mNone\u001b[39;00m)\n",
      "File \u001b[0;32m/Library/Frameworks/Python.framework/Versions/3.10/lib/python3.10/http/client.py:1374\u001b[0m, in \u001b[0;36mHTTPConnection.getresponse\u001b[0;34m(self)\u001b[0m\n\u001b[1;32m   1372\u001b[0m \u001b[38;5;28;01mtry\u001b[39;00m:\n\u001b[1;32m   1373\u001b[0m     \u001b[38;5;28;01mtry\u001b[39;00m:\n\u001b[0;32m-> 1374\u001b[0m         \u001b[43mresponse\u001b[49m\u001b[38;5;241;43m.\u001b[39;49m\u001b[43mbegin\u001b[49m\u001b[43m(\u001b[49m\u001b[43m)\u001b[49m\n\u001b[1;32m   1375\u001b[0m     \u001b[38;5;28;01mexcept\u001b[39;00m \u001b[38;5;167;01mConnectionError\u001b[39;00m:\n\u001b[1;32m   1376\u001b[0m         \u001b[38;5;28mself\u001b[39m\u001b[38;5;241m.\u001b[39mclose()\n",
      "File \u001b[0;32m/Library/Frameworks/Python.framework/Versions/3.10/lib/python3.10/http/client.py:318\u001b[0m, in \u001b[0;36mHTTPResponse.begin\u001b[0;34m(self)\u001b[0m\n\u001b[1;32m    316\u001b[0m \u001b[38;5;66;03m# read until we get a non-100 response\u001b[39;00m\n\u001b[1;32m    317\u001b[0m \u001b[38;5;28;01mwhile\u001b[39;00m \u001b[38;5;28;01mTrue\u001b[39;00m:\n\u001b[0;32m--> 318\u001b[0m     version, status, reason \u001b[38;5;241m=\u001b[39m \u001b[38;5;28;43mself\u001b[39;49m\u001b[38;5;241;43m.\u001b[39;49m\u001b[43m_read_status\u001b[49m\u001b[43m(\u001b[49m\u001b[43m)\u001b[49m\n\u001b[1;32m    319\u001b[0m     \u001b[38;5;28;01mif\u001b[39;00m status \u001b[38;5;241m!=\u001b[39m CONTINUE:\n\u001b[1;32m    320\u001b[0m         \u001b[38;5;28;01mbreak\u001b[39;00m\n",
      "File \u001b[0;32m/Library/Frameworks/Python.framework/Versions/3.10/lib/python3.10/http/client.py:279\u001b[0m, in \u001b[0;36mHTTPResponse._read_status\u001b[0;34m(self)\u001b[0m\n\u001b[1;32m    278\u001b[0m \u001b[38;5;28;01mdef\u001b[39;00m \u001b[38;5;21m_read_status\u001b[39m(\u001b[38;5;28mself\u001b[39m):\n\u001b[0;32m--> 279\u001b[0m     line \u001b[38;5;241m=\u001b[39m \u001b[38;5;28mstr\u001b[39m(\u001b[38;5;28;43mself\u001b[39;49m\u001b[38;5;241;43m.\u001b[39;49m\u001b[43mfp\u001b[49m\u001b[38;5;241;43m.\u001b[39;49m\u001b[43mreadline\u001b[49m\u001b[43m(\u001b[49m\u001b[43m_MAXLINE\u001b[49m\u001b[43m \u001b[49m\u001b[38;5;241;43m+\u001b[39;49m\u001b[43m \u001b[49m\u001b[38;5;241;43m1\u001b[39;49m\u001b[43m)\u001b[49m, \u001b[38;5;124m\"\u001b[39m\u001b[38;5;124miso-8859-1\u001b[39m\u001b[38;5;124m\"\u001b[39m)\n\u001b[1;32m    280\u001b[0m     \u001b[38;5;28;01mif\u001b[39;00m \u001b[38;5;28mlen\u001b[39m(line) \u001b[38;5;241m>\u001b[39m _MAXLINE:\n\u001b[1;32m    281\u001b[0m         \u001b[38;5;28;01mraise\u001b[39;00m LineTooLong(\u001b[38;5;124m\"\u001b[39m\u001b[38;5;124mstatus line\u001b[39m\u001b[38;5;124m\"\u001b[39m)\n",
      "File \u001b[0;32m/Library/Frameworks/Python.framework/Versions/3.10/lib/python3.10/socket.py:705\u001b[0m, in \u001b[0;36mSocketIO.readinto\u001b[0;34m(self, b)\u001b[0m\n\u001b[1;32m    703\u001b[0m \u001b[38;5;28;01mwhile\u001b[39;00m \u001b[38;5;28;01mTrue\u001b[39;00m:\n\u001b[1;32m    704\u001b[0m     \u001b[38;5;28;01mtry\u001b[39;00m:\n\u001b[0;32m--> 705\u001b[0m         \u001b[38;5;28;01mreturn\u001b[39;00m \u001b[38;5;28;43mself\u001b[39;49m\u001b[38;5;241;43m.\u001b[39;49m\u001b[43m_sock\u001b[49m\u001b[38;5;241;43m.\u001b[39;49m\u001b[43mrecv_into\u001b[49m\u001b[43m(\u001b[49m\u001b[43mb\u001b[49m\u001b[43m)\u001b[49m\n\u001b[1;32m    706\u001b[0m     \u001b[38;5;28;01mexcept\u001b[39;00m timeout:\n\u001b[1;32m    707\u001b[0m         \u001b[38;5;28mself\u001b[39m\u001b[38;5;241m.\u001b[39m_timeout_occurred \u001b[38;5;241m=\u001b[39m \u001b[38;5;28;01mTrue\u001b[39;00m\n",
      "\u001b[0;31mKeyboardInterrupt\u001b[0m: "
     ]
    }
   ],
   "source": [
    "passing_set = {\n",
    "    element_id: values[element_id]['passing'] for element_id in values.keys()\n",
    "}\n",
    "\n",
    "\n",
    "for element_id, element_values in values.items():\n",
    "    get_to_form(driver)\n",
    "    time.sleep(1)\n",
    "    \n",
    "    element = get_element(element_id)\n",
    "    element_type = element.get_attribute('type') or 'text'\n",
    "    \n",
    "    if element_type in ['radio', 'checkbox', 'submit']:\n",
    "        continue\n",
    "    \n",
    "    # print(element)\n",
    "    \n",
    "    for failing_value in element_values['failing']:\n",
    "        # try:\n",
    "        get_to_form(driver)\n",
    "        time.sleep(1)\n",
    "    \n",
    "        passing_copy = copy.copy(passing_set)\n",
    "        passing_copy[element_id] = failing_value\n",
    "        send_values(values.keys(), passing_copy)\n",
    "\n",
    "        time.sleep(1)\n",
    "\n",
    "        submit_form(form)\n",
    "\n",
    "        new_html = driver.find_element(By.TAG_NAME, 'body').get_attribute('outerHTML')\n",
    "        global_feedback = get_global_feedback(html, new_html, remove_form_children=False)\n",
    "\n",
    "        history_table.add(\n",
    "            passing_copy,\n",
    "            'base',\n",
    "            global_feedback,\n",
    "            driver.current_url\n",
    "        )\n",
    "        # except Exception as e:\n",
    "        #     print(e)"
   ]
  },
  {
   "cell_type": "code",
   "execution_count": 19,
   "id": "7af1f1b0",
   "metadata": {
    "ExecuteTime": {
     "end_time": "2023-07-19T01:31:12.949763Z",
     "start_time": "2023-07-19T01:31:12.891842Z"
    }
   },
   "outputs": [
    {
     "data": {
      "text/html": [
       "<div>\n",
       "<style scoped>\n",
       "    .dataframe tbody tr th:only-of-type {\n",
       "        vertical-align: middle;\n",
       "    }\n",
       "\n",
       "    .dataframe tbody tr th {\n",
       "        vertical-align: top;\n",
       "    }\n",
       "\n",
       "    .dataframe thead th {\n",
       "        text-align: right;\n",
       "    }\n",
       "</style>\n",
       "<table border=\"1\" class=\"dataframe\">\n",
       "  <thead>\n",
       "    <tr style=\"text-align: right;\">\n",
       "      <th></th>\n",
       "      <th>values</th>\n",
       "      <th>variation_type</th>\n",
       "      <th>feedback</th>\n",
       "      <th>new_url</th>\n",
       "    </tr>\n",
       "  </thead>\n",
       "  <tbody>\n",
       "    <tr>\n",
       "      <th>0</th>\n",
       "      <td>{\"search_description\": \"\", \"search_location\": ...</td>\n",
       "      <td>base</td>\n",
       "      <td>Filters$$$$$$$$$$SuggestedOpen Now 6:30 PMFeat...</td>\n",
       "      <td>https://www.yelp.com/search?find_desc=&amp;find_lo...</td>\n",
       "    </tr>\n",
       "    <tr>\n",
       "      <th>1</th>\n",
       "      <td>{\"search_description\": \"Pizza\", \"search_locati...</td>\n",
       "      <td>base</td>\n",
       "      <td>Filters$$$$$$$$$$SuggestedOpen Now 6:30 PMRese...</td>\n",
       "      <td>https://www.yelp.com/search?find_desc=Pizza&amp;fi...</td>\n",
       "    </tr>\n",
       "  </tbody>\n",
       "</table>\n",
       "</div>"
      ],
      "text/plain": [
       "                                              values variation_type  \\\n",
       "0  {\"search_description\": \"\", \"search_location\": ...           base   \n",
       "1  {\"search_description\": \"Pizza\", \"search_locati...           base   \n",
       "\n",
       "                                            feedback  \\\n",
       "0  Filters$$$$$$$$$$SuggestedOpen Now 6:30 PMFeat...   \n",
       "1  Filters$$$$$$$$$$SuggestedOpen Now 6:30 PMRese...   \n",
       "\n",
       "                                             new_url  \n",
       "0  https://www.yelp.com/search?find_desc=&find_lo...  \n",
       "1  https://www.yelp.com/search?find_desc=Pizza&fi...  "
      ]
     },
     "execution_count": 19,
     "metadata": {},
     "output_type": "execute_result"
    }
   ],
   "source": [
    "history_table.table"
   ]
  },
  {
   "cell_type": "code",
   "execution_count": null,
   "id": "fd7263ca",
   "metadata": {},
   "outputs": [],
   "source": []
  }
 ],
 "metadata": {
  "kernelspec": {
   "display_name": "Python 3 (ipykernel)",
   "language": "python",
   "name": "python3"
  },
  "language_info": {
   "codemirror_mode": {
    "name": "ipython",
    "version": 3
   },
   "file_extension": ".py",
   "mimetype": "text/x-python",
   "name": "python",
   "nbconvert_exporter": "python",
   "pygments_lexer": "ipython3",
   "version": "3.10.9"
  },
  "toc": {
   "base_numbering": 1,
   "nav_menu": {},
   "number_sections": true,
   "sideBar": true,
   "skip_h1_title": false,
   "title_cell": "Table of Contents",
   "title_sidebar": "Contents",
   "toc_cell": false,
   "toc_position": {},
   "toc_section_display": true,
   "toc_window_display": false
  },
  "varInspector": {
   "cols": {
    "lenName": 16,
    "lenType": 16,
    "lenVar": 40
   },
   "kernels_config": {
    "python": {
     "delete_cmd_postfix": "",
     "delete_cmd_prefix": "del ",
     "library": "var_list.py",
     "varRefreshCmd": "print(var_dic_list())"
    },
    "r": {
     "delete_cmd_postfix": ") ",
     "delete_cmd_prefix": "rm(",
     "library": "var_list.r",
     "varRefreshCmd": "cat(var_dic_list()) "
    }
   },
   "types_to_exclude": [
    "module",
    "function",
    "builtin_function_or_method",
    "instance",
    "_Feature"
   ],
   "window_display": false
  }
 },
 "nbformat": 4,
 "nbformat_minor": 5
}
