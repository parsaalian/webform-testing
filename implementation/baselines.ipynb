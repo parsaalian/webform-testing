{
 "cells": [
  {
   "cell_type": "code",
   "execution_count": 1,
   "id": "a7f7af7a",
   "metadata": {
    "ExecuteTime": {
     "end_time": "2023-07-10T22:42:42.124003Z",
     "start_time": "2023-07-10T22:42:42.088386Z"
    }
   },
   "outputs": [],
   "source": [
    "%load_ext autoreload\n",
    "%autoreload 2"
   ]
  },
  {
   "cell_type": "code",
   "execution_count": 22,
   "id": "806f75bb",
   "metadata": {
    "ExecuteTime": {
     "end_time": "2023-07-10T23:11:23.360595Z",
     "start_time": "2023-07-10T23:11:23.250074Z"
    }
   },
   "outputs": [],
   "source": [
    "import os\n",
    "import time\n",
    "import json\n",
    "import openai\n",
    "from dotenv import load_dotenv\n",
    "\n",
    "from bs4 import BeautifulSoup as bs\n",
    "from selenium.webdriver.common.by import By\n",
    "\n",
    "from method.models import generate_random_values, generate_static_values, generate_llm_values\n",
    "from method.ours.utils import create_driver, get_xpath, interact_with_input\n",
    "from method.ours.history import HistoryTable\n",
    "from method.ours.feedback import get_global_feedback"
   ]
  },
  {
   "cell_type": "code",
   "execution_count": 3,
   "id": "b8407538",
   "metadata": {
    "ExecuteTime": {
     "end_time": "2023-07-10T22:43:03.738928Z",
     "start_time": "2023-07-10T22:43:03.685527Z"
    }
   },
   "outputs": [],
   "source": [
    "load_dotenv()\n",
    "openai.api_key = os.getenv(\"OPENAI_API_KEY\")\n",
    "\n",
    "HEADLESS = False\n",
    "URL = 'https://www.aircanada.com/ca/en/aco/home.html'"
   ]
  },
  {
   "cell_type": "code",
   "execution_count": 4,
   "id": "e8ec6672",
   "metadata": {
    "ExecuteTime": {
     "end_time": "2023-07-10T22:43:10.973879Z",
     "start_time": "2023-07-10T22:43:04.867699Z"
    }
   },
   "outputs": [
    {
     "name": "stderr",
     "output_type": "stream",
     "text": [
      "[WDM] - Downloading: 100%|███████████████████████████████████████████████████████████████████████████████████████████████████████████| 8.29M/8.29M [00:00<00:00, 20.2MB/s]\n"
     ]
    }
   ],
   "source": [
    "driver = create_driver(HEADLESS)\n",
    "driver.get(URL)"
   ]
  },
  {
   "cell_type": "code",
   "execution_count": 8,
   "id": "96cabf9e",
   "metadata": {
    "ExecuteTime": {
     "end_time": "2023-07-10T22:43:26.667029Z",
     "start_time": "2023-07-10T22:43:26.288514Z"
    }
   },
   "outputs": [],
   "source": [
    "html = driver.find_element(By.TAG_NAME, 'html').get_attribute('outerHTML')\n",
    "form = driver.find_elements(By.TAG_NAME, 'form')[1]\n",
    "form_xpath = get_xpath(driver, form)\n",
    "\n",
    "inputs = form.find_elements(\n",
    "    By.XPATH,\n",
    "    f'{form_xpath}//input | {form_xpath}//textarea | {form_xpath}//select'\n",
    ")\n",
    "\n",
    "inputs = list(filter(\n",
    "    lambda x: x.get_attribute('type') != 'hidden' and x.get_attribute('hidden') != 'true',\n",
    "    inputs\n",
    "))"
   ]
  },
  {
   "cell_type": "code",
   "execution_count": 9,
   "id": "c7ba20a3",
   "metadata": {
    "ExecuteTime": {
     "end_time": "2023-07-10T22:43:26.826410Z",
     "start_time": "2023-07-10T22:43:26.776270Z"
    }
   },
   "outputs": [
    {
     "data": {
      "text/plain": [
       "[<selenium.webdriver.remote.webelement.WebElement (session=\"59ea7228f7e4939b2478511e457871bd\", element=\"327716FAECE1EDF4152D00F598DD68EF_element_33\")>,\n",
       " <selenium.webdriver.remote.webelement.WebElement (session=\"59ea7228f7e4939b2478511e457871bd\", element=\"327716FAECE1EDF4152D00F598DD68EF_element_34\")>,\n",
       " <selenium.webdriver.remote.webelement.WebElement (session=\"59ea7228f7e4939b2478511e457871bd\", element=\"327716FAECE1EDF4152D00F598DD68EF_element_35\")>,\n",
       " <selenium.webdriver.remote.webelement.WebElement (session=\"59ea7228f7e4939b2478511e457871bd\", element=\"327716FAECE1EDF4152D00F598DD68EF_element_37\")>,\n",
       " <selenium.webdriver.remote.webelement.WebElement (session=\"59ea7228f7e4939b2478511e457871bd\", element=\"327716FAECE1EDF4152D00F598DD68EF_element_39\")>,\n",
       " <selenium.webdriver.remote.webelement.WebElement (session=\"59ea7228f7e4939b2478511e457871bd\", element=\"327716FAECE1EDF4152D00F598DD68EF_element_41\")>,\n",
       " <selenium.webdriver.remote.webelement.WebElement (session=\"59ea7228f7e4939b2478511e457871bd\", element=\"327716FAECE1EDF4152D00F598DD68EF_element_43\")>,\n",
       " <selenium.webdriver.remote.webelement.WebElement (session=\"59ea7228f7e4939b2478511e457871bd\", element=\"327716FAECE1EDF4152D00F598DD68EF_element_44\")>]"
      ]
     },
     "execution_count": 9,
     "metadata": {},
     "output_type": "execute_result"
    }
   ],
   "source": [
    "inputs"
   ]
  },
  {
   "cell_type": "code",
   "execution_count": 24,
   "id": "6a38597f",
   "metadata": {
    "ExecuteTime": {
     "end_time": "2023-07-10T23:12:07.245470Z",
     "start_time": "2023-07-10T23:11:40.470837Z"
    }
   },
   "outputs": [
    {
     "name": "stdout",
     "output_type": "stream",
     "text": [
      " \u001b[0m Prompt: [\n",
      "  {\n",
      "    \"role\": \"system\",\n",
      "    \"content\": \"\\nYour task is to generate testing values for a web form. When given a web form, you need to generate values that can pass and fail when tried on the form. Your response should be in the following format:\\n```\\n{\\n[field_identifier]: {\\npassing: <a base passing value for the field>,\\nfailing: <a list of failing values for the field>\\n}\\n}\\n```\\n\"\n",
      "  },\n",
      "  {\n",
      "    \"role\": \"user\",\n",
      "    \"content\": \"<form novalidate=\\\"\\\" autocomplete=\\\"off\\\" class=\\\"bkmg-tab-content-container bkmg-flights-tab-container ng-dirty ng-invalid ng-touched\\\"><fieldset><legend class=\\\"visually-hidden\\\"> Flights </legend><div class=\\\"bkmg-flights-tab-grid\\\"><fieldset class=\\\"bkmg-flights-tab-trip-type-selector mobile-padding\\\"><legend class=\\\"visually-hidden\\\"> Trip type </legend><abc-radio-group formcontrolname=\\\"tripType\\\" class=\\\"ng-untouched ng-pristine ng-valid abc-form-element\\\"><div class=\\\"abc-form-element-container abc-radio-group-container\\\"><div class=\\\"abc-radio-group-horizontal-align abc-radio-group-wrapper\\\"><abc-radio-button class=\\\"ng-star-inserted\\\"><div class=\\\"abc-form-element-wrapper abc-form-element-radio-button-wrapper abc-form-element-kilo-radio-button-wrapper abc-form-element-selected\\\"><input type=\\\"radio\\\" class=\\\"abc-form-element-main abc-form-element-radio-button ng-untouched ng-pristine ng-valid\\\" id=\\\"bkmgFlights_tripTypeSelector_R\\\" name=\\\"tripType\\\" value=\\\"R\\\" aria-disabled=\\\"false\\\" aria-invalid=\\\"false\\\" aria-checked=\\\"true\\\"><div class=\\\"abc-form-element-radio-button-container\\\"><div class=\\\"abc-dir-ltr abc-form-element-radio-button-circle\\\"><div class=\\\"abc-form-element-radio-button-dot\\\"></div></div></div><label class=\\\"abc-form-element-label text-transform-none user-select-none\\\" for=\\\"bkmgFlights_tripTypeSelector_R\\\"><!----> Round-trip </label></div></abc-radio-button><abc-radio-button class=\\\"ng-star-inserted\\\"><div class=\\\"abc-form-element-wrapper abc-form-element-radio-button-wrapper abc-form-element-kilo-radio-button-wrapper\\\"><input type=\\\"radio\\\" class=\\\"abc-form-element-main abc-form-element-radio-button ng-untouched ng-pristine ng-valid\\\" id=\\\"bkmgFlights_tripTypeSelector_O\\\" name=\\\"tripType\\\" value=\\\"O\\\" aria-disabled=\\\"false\\\" aria-invalid=\\\"false\\\" aria-checked=\\\"false\\\"><div class=\\\"abc-form-element-radio-button-container\\\"><div class=\\\"abc-dir-ltr abc-form-element-radio-button-circle\\\"><div class=\\\"abc-form-element-radio-button-dot\\\"></div></div></div><label class=\\\"abc-form-element-label text-transform-none user-select-none\\\" for=\\\"bkmgFlights_tripTypeSelector_O\\\"><!----> One-way </label></div></abc-radio-button><abc-radio-button class=\\\"ng-star-inserted\\\"><div class=\\\"abc-form-element-wrapper abc-form-element-radio-button-wrapper abc-form-element-kilo-radio-button-wrapper\\\"><input type=\\\"radio\\\" class=\\\"abc-form-element-main abc-form-element-radio-button ng-untouched ng-pristine ng-valid\\\" id=\\\"bkmgFlights_tripTypeSelector_M\\\" name=\\\"tripType\\\" value=\\\"M\\\" aria-disabled=\\\"false\\\" aria-invalid=\\\"false\\\" aria-checked=\\\"false\\\"><div class=\\\"abc-form-element-radio-button-container\\\"><div class=\\\"abc-dir-ltr abc-form-element-radio-button-circle\\\"><div class=\\\"abc-form-element-radio-button-dot\\\"></div></div></div><label class=\\\"abc-form-element-label text-transform-none user-select-none\\\" for=\\\"bkmgFlights_tripTypeSelector_M\\\"><!----> Multi-city/Stopover </label></div></abc-radio-button><!----></div><abc-subscript><!----></abc-subscript></div></abc-radio-group></fieldset><ac-search-type-toggle formcontrolname=\\\"searchType\\\" class=\\\"bkmg-flights-tab-loyalty-checkbox ng-untouched ng-pristine ng-valid ng-star-inserted\\\"><div><input type=\\\"hidden\\\" value=\\\"cash\\\" class=\\\"ng-untouched ng-pristine ng-valid\\\"><abc-checkbox class=\\\"search-type-toggle-checkbox ng-valid abc-form-element ng-touched ng-dirty\\\"><div class=\\\"abc-form-element-container abc-check-box-container\\\"><div class=\\\"abc-form-element-wrapper abc-form-element-checkbox-wrapper abc-form-element-kilo-checkbox-wrapper\\\"><input type=\\\"checkbox\\\" role=\\\"checkbox\\\" class=\\\"abc-form-element-main abc-form-element-checkbox ng-untouched ng-pristine ng-valid\\\" id=\\\"bkmgFlights_searchTypeToggle\\\" aria-label=\\\"Book with Aeroplan points\\\" aria-disabled=\\\"false\\\" aria-required=\\\"false\\\" aria-invalid=\\\"false\\\" aria-checked=\\\"false\\\"><div class=\\\"abc-form-element-checkbox-container\\\"><span class=\\\"abc-form-element-checkmark\\\"></span></div><label class=\\\"abc-form-element-label text-transform-none user-select-none\\\" for=\\\"bkmgFlights_searchTypeToggle\\\"><!----><div class=\\\"d-flex flex-wrap flex-lg-nowrap align-items-center ng-star-inserted\\\"> Book with points <img aria-hidden=\\\"true\\\" alt=\\\"\\\" role=\\\"presentation\\\" height=\\\"15\\\" width=\\\"108.6\\\" class=\\\"search-type-toggle-logo pe-none ms-2\\\" src=\\\"https://content.achome.digital.aircanada.com/ac/applications/homepage/content/1.0.2098/assets/img/logos/aeroplan/aeroplan-logo.svg\\\"></div><!----><!----><!----></label></div><abc-subscript><!----></abc-subscript></div></abc-checkbox><!----></div><!----></ac-search-type-toggle><!----><div formarrayname=\\\"trips\\\" class=\\\"bkmg-flights-tab-trip-elements-grid mobile-padding ng-dirty ng-invalid ng-touched\\\"><div class=\\\"bkmg-flights-tab-trip-elements-row bkmg-flights-tab-trip-single ng-dirty ng-invalid ng-star-inserted ng-touched\\\"><!----><abc-typeahead formcontrolname=\\\"origin\\\" class=\\\"bkmg-flights-tab-trip-origin ng-valid abc-form-element ng-dirty ng-touched\\\"><div class=\\\"abc-typeahead-wrapper\\\"><input type=\\\"hidden\\\" value=\\\"[object Object]\\\" class=\\\"ng-untouched ng-pristine ng-valid\\\"><abc-input class=\\\"ng-untouched ng-valid abc-form-element ng-dirty\\\"><abc-form-element-container><div class=\\\"abc-form-element-container abc-form-element-material-appearance-borderless\\\"><div class=\\\"abc-form-element-wrapper abc-form-element-material-wrapper abc-form-element-input-wrapper abc-form-input-has-value ng-star-inserted\\\"><div class=\\\"abc-form-element-flex\\\"><!----><div class=\\\"abc-form-element-infix\\\"><!----><div class=\\\"abc-form-element-main-container\\\"><div class=\\\"abc-dir-ltr abc-form-element-pseudo-main ng-star-inserted\\\"><div class=\\\"abc-form-element-pseudo-main-content\\\"><ac-locations-formatted-input _nghost-icr-c66=\\\"\\\" class=\\\"ng-star-inserted\\\"><div _ngcontent-icr-c66=\\\"\\\" aria-hidden=\\\"true\\\" class=\\\"selected-location-info text-truncate ng-star-inserted\\\"><span _ngcontent-icr-c66=\\\"\\\" class=\\\"selected-location-city-name ng-star-inserted\\\">Vancouver </span><span _ngcontent-icr-c66=\\\"\\\" class=\\\"selected-location-additional-info ng-star-inserted\\\"><span _ngcontent-icr-c66=\\\"\\\" class=\\\"selected-location-airport-code ng-star-inserted\\\">YVR</span><!----><!----></span><!----><!----></div><!----></ac-locations-formatted-input><!----><!----></div></div><!----><!----><input class=\\\"abc-form-element-input abc-form-element-main text-transform-none ng-untouched ng-pristine ng-valid ng-star-inserted\\\" type=\\\"text\\\" placeholder=\\\"\\\" id=\\\"bkmgFlights_origin_trip_1\\\" name=\\\"bkmgFlights_origin_trip_1\\\" aria-disabled=\\\"false\\\" aria-invalid=\\\"false\\\" aria-label=\\\"From\\\" aria-describedby=\\\"bkmgFlights_origin_trip_1Status\\\" aria-autocomplete=\\\"list\\\" aria-haspopup=\\\"true\\\" aria-expanded=\\\"false\\\" role=\\\"combobox\\\" autocorrect=\\\"off\\\" spellcheck=\\\"false\\\" autocomplete=\\\"off\\\"><!----></div><abc-form-element-label class=\\\"ng-star-inserted\\\"><label class=\\\"abc-dir-ltr abc-form-element-label user-select-none float\\\" for=\\\"bkmgFlights_origin_trip_1\\\" aria-owns=\\\"bkmgFlights_origin_trip_1\\\"><span class=\\\"abc-form-element-label-text\\\">From</span></label></abc-form-element-label><!----></div><!----><abc-affix class=\\\"ng-star-inserted\\\"><div class=\\\"abc-dir-ltr abc-form-element-affix abc-form-element-suffix\\\"><!----><!----><!----><!----><!----></div></abc-affix><!----></div><abc-form-element-underline><div class=\\\"abc-form-element-underline\\\"></div></abc-form-element-underline></div><abc-subscript class=\\\"ng-star-inserted\\\"><div class=\\\"abc-dir-ltr abc-form-element-subscript-text abc-subscript-collapsable ng-star-inserted\\\" id=\\\"bkmgFlights_origin_trip_1Subscript\\\"><!----><!----><!----></div><!----></abc-subscript><!----><!----></div></abc-form-element-container></abc-input><div aria-live=\\\"polite\\\" aria-atomic=\\\"true\\\" class=\\\"ngx-ac-visually-hidden\\\" id=\\\"bkmgFlights_origin_trip_1Status\\\"><!----><div class=\\\"ng-star-inserted\\\"> Enter the first three characters of the city, airport, province, state or country/region you are starting from, then use your arrow keys to move up or down the list of airports provided to make your selection. </div><!----><!----><!----><!----></div></div><!----></abc-typeahead><abc-button class=\\\"bkmg-flights-tab-trip-location-swap abc-button-fullWidth abc-button-wrapper\\\" role=\\\"none\\\"><button class=\\\"abc-button abc-button-height-default abc-button-theme-custom abc-button-type-default abc-dir-ltr user-select-none ng-star-inserted\\\" id=\\\"bkmgFlights_swapLocations_1\\\" type=\\\"button\\\" aria-disabled=\\\"false\\\" aria-label=\\\"Swap origin and destination\\\"><span class=\\\"abc-button-content\\\" id=\\\"bkmgFlights_swapLocations_1Content\\\"><span class=\\\"abc-button-text\\\"><span aria-hidden=\\\"true\\\" class=\\\"ac-icon ac-icon_swap ng-star-inserted\\\"></span><!----></span></span><!----><abc-ripple class=\\\"ng-star-inserted\\\"><div class=\\\"abc-ripple-wrapper\\\"></div></abc-ripple><!----></button><!----><!----><!----></abc-button><abc-typeahead formcontrolname=\\\"destination\\\" class=\\\"bkmg-flights-tab-trip-destination ng-untouched ng-dirty ng-invalid abc-form-element\\\"><div class=\\\"abc-typeahead-wrapper\\\"><input type=\\\"hidden\\\" value=\\\"\\\" class=\\\"ng-untouched ng-pristine ng-valid\\\"><abc-input class=\\\"ng-untouched ng-valid abc-form-element ng-dirty\\\"><abc-form-element-container><div class=\\\"abc-form-element-container abc-form-element-material-appearance-borderless\\\"><div class=\\\"abc-form-element-wrapper abc-form-element-material-wrapper abc-form-element-input-wrapper ng-star-inserted\\\"><div class=\\\"abc-form-element-flex\\\"><!----><div class=\\\"abc-form-element-infix\\\"><!----><div class=\\\"abc-form-element-main-container\\\"><!----><!----><input class=\\\"abc-form-element-input abc-form-element-main text-transform-none ng-untouched ng-pristine ng-valid ng-star-inserted\\\" type=\\\"text\\\" placeholder=\\\"\\\" id=\\\"bkmgFlights_destination_trip_1\\\" name=\\\"bkmgFlights_destination_trip_1\\\" aria-disabled=\\\"false\\\" aria-invalid=\\\"false\\\" aria-label=\\\"To\\\" aria-describedby=\\\"bkmgFlights_destination_trip_1Status\\\" aria-autocomplete=\\\"list\\\" aria-haspopup=\\\"true\\\" aria-expanded=\\\"false\\\" role=\\\"combobox\\\" autocorrect=\\\"off\\\" spellcheck=\\\"false\\\" autocomplete=\\\"off\\\"><!----></div><abc-form-element-label class=\\\"ng-star-inserted\\\"><label class=\\\"abc-dir-ltr abc-form-element-label user-select-none\\\" for=\\\"bkmgFlights_destination_trip_1\\\" aria-owns=\\\"bkmgFlights_destination_trip_1\\\"><span class=\\\"abc-form-element-label-text\\\">To</span></label></abc-form-element-label><!----></div><!----><abc-affix class=\\\"ng-star-inserted\\\"><div class=\\\"abc-dir-ltr abc-form-element-affix abc-form-element-suffix\\\"><!----><!----><!----><!----><!----></div></abc-affix><!----></div><abc-form-element-underline><div class=\\\"abc-form-element-underline\\\"></div></abc-form-element-underline></div><abc-subscript class=\\\"ng-star-inserted\\\"><div class=\\\"abc-dir-ltr abc-form-element-subscript-text abc-subscript-collapsable ng-star-inserted\\\" id=\\\"bkmgFlights_destination_trip_1Subscript\\\"><!----><!----><!----></div><!----></abc-subscript><!----><!----></div></abc-form-element-container></abc-input><div aria-live=\\\"polite\\\" aria-atomic=\\\"true\\\" class=\\\"ngx-ac-visually-hidden\\\" id=\\\"bkmgFlights_destination_trip_1Status\\\"><!----><div class=\\\"ng-star-inserted\\\"> Enter the three first characters of the city, airport, province, state or country/region you are flying to, then use your arrow keys to move up or down the list of airports provided to make your selection. </div><!----><!----><!----><!----></div></div><!----></abc-typeahead><abc-date-picker formcontrolname=\\\"travelDates\\\" class=\\\"bkmg-flights-tab-trip-travel-dates ng-untouched ng-pristine ng-invalid abc-form-element\\\"><input type=\\\"hidden\\\" value=\\\"\\\" class=\\\"ng-untouched ng-pristine ng-valid\\\"><div class=\\\"abc-date-picker-container\\\" id=\\\"bkmgFlights_travelDates_1Container\\\"><div class=\\\"abc-date-picker-formfield-wrapper\\\" id=\\\"bkmgFlights_travelDates_1Wrapper\\\"><abc-input class=\\\"abc-date-picker-formfield abc-date-picker-input ng-untouched ng-valid abc-form-element ng-star-inserted ng-dirty\\\"><abc-form-element-container><div class=\\\"abc-form-element-container abc-form-element-material-appearance-borderless\\\"><div class=\\\"abc-form-element-wrapper abc-form-element-material-wrapper abc-form-element-input-wrapper ng-star-inserted\\\"><div class=\\\"abc-form-element-flex\\\"><!----><div class=\\\"abc-form-element-infix\\\"><!----><div class=\\\"abc-form-element-main-container\\\"><!----><!----><input class=\\\"abc-form-element-input abc-form-element-main text-transform-none ng-untouched ng-pristine ng-valid ng-star-inserted\\\" type=\\\"text\\\" placeholder=\\\"DD/MM\\\" id=\\\"bkmgFlights_travelDates_1-formfield-1\\\" name=\\\"bkmgFlights_travelDates_1-formfield-1\\\" aria-disabled=\\\"false\\\" aria-invalid=\\\"false\\\" aria-label=\\\"Departure\\\" aria-describedby=\\\"bkmgFlights_travelDates_1DatepickerSrHelperText\\\" autocorrect=\\\"off\\\" spellcheck=\\\"false\\\" autocomplete=\\\"off\\\"><!----></div><abc-form-element-label class=\\\"ng-star-inserted\\\"><label class=\\\"abc-dir-ltr abc-form-element-label user-select-none\\\" for=\\\"bkmgFlights_travelDates_1-formfield-1\\\" aria-owns=\\\"bkmgFlights_travelDates_1-formfield-1\\\"><span class=\\\"abc-form-element-label-text\\\">Departure</span></label></abc-form-element-label><!----></div><!----><!----></div><abc-form-element-underline><div class=\\\"abc-form-element-underline\\\"></div></abc-form-element-underline></div><abc-subscript class=\\\"ng-star-inserted\\\"><!----></abc-subscript><!----><!----></div></abc-form-element-container></abc-input><abc-input class=\\\"abc-date-picker-formfield abc-date-picker-input ng-untouched ng-valid abc-form-element ng-star-inserted ng-dirty\\\"><abc-form-element-container><div class=\\\"abc-form-element-container abc-form-element-material-appearance-borderless\\\"><div class=\\\"abc-form-element-wrapper abc-form-element-material-wrapper abc-form-element-input-wrapper ng-star-inserted\\\"><div class=\\\"abc-form-element-flex\\\"><!----><div class=\\\"abc-form-element-infix\\\"><!----><div class=\\\"abc-form-element-main-container\\\"><!----><!----><input class=\\\"abc-form-element-input abc-form-element-main text-transform-none ng-untouched ng-pristine ng-valid ng-star-inserted\\\" type=\\\"text\\\" placeholder=\\\"DD/MM\\\" id=\\\"bkmgFlights_travelDates_1-formfield-2\\\" name=\\\"bkmgFlights_travelDates_1-formfield-2\\\" aria-disabled=\\\"false\\\" aria-invalid=\\\"false\\\" aria-label=\\\"Return\\\" aria-describedby=\\\"bkmgFlights_travelDates_1DatepickerSrHelperText\\\" autocorrect=\\\"off\\\" spellcheck=\\\"false\\\" autocomplete=\\\"off\\\"><!----></div><abc-form-element-label class=\\\"ng-star-inserted\\\"><label class=\\\"abc-dir-ltr abc-form-element-label user-select-none\\\" for=\\\"bkmgFlights_travelDates_1-formfield-2\\\" aria-owns=\\\"bkmgFlights_travelDates_1-formfield-2\\\"><span class=\\\"abc-form-element-label-text\\\">Return</span></label></abc-form-element-label><!----></div><!----><!----></div><abc-form-element-underline><div class=\\\"abc-form-element-underline\\\"></div></abc-form-element-underline></div><abc-subscript class=\\\"ng-star-inserted\\\"><!----></abc-subscript><!----><!----></div></abc-form-element-container></abc-input><!----><button type=\\\"button\\\" aria-haspopup=\\\"dialog\\\" class=\\\"abc-calendar-toggle-button ng-star-inserted\\\" id=\\\"bkmgFlights_travelDates_1-showCalendar\\\" aria-label=\\\"Show calendar\\\"><span ngx-ac-icon=\\\"calendar\\\" class=\\\"abc-form-element-suffix-icon ngx-ac-icon ngx-ac-icon-calendar\\\" aria-hidden=\\\"true\\\">\\n<svg viewBox=\\\"0 0 32 32\\\">\\n  <path d=\\\"M28.336 30.155h-24.912c-0.48 0-0.88-0.4-0.88-0.88v-22.016c0-0.48 0.4-0.88 0.88-0.88h3.424c0.48 0 0.88 0.4 0.88 0.88s-0.4 0.88-0.88 0.88h-2.544v20.272h23.152v-20.272h-2.544c-0.48 0-0.88-0.4-0.88-0.88s0.4-0.88 0.88-0.88h3.424c0.48 0 0.88 0.4 0.88 0.88v22.032c0 0.48-0.384 0.864-0.88 0.864zM13.52 8.139h-1.968c-0.48 0-0.88-0.4-0.88-0.88s0.4-0.88 0.88-0.88h1.968c0.48 0 0.88 0.4 0.88 0.88s-0.384 0.88-0.88 0.88zM20.24 8.139h-1.968c-0.48 0-0.88-0.4-0.88-0.88s0.4-0.88 0.88-0.88h1.968c0.48 0 0.88 0.4 0.88 0.88s-0.4 0.88-0.88 0.88zM9.2 9.515c-0.48 0-0.88-0.4-0.88-0.88v-4.672c0-0.48 0.4-0.88 0.88-0.88s0.88 0.4 0.88 0.88v4.672c0 0.48-0.4 0.88-0.88 0.88zM15.888 9.515c-0.48 0-0.88-0.4-0.88-0.88v-4.672c0-0.48 0.4-0.88 0.88-0.88s0.88 0.4 0.88 0.88v4.672c0 0.48-0.4 0.88-0.88 0.88zM22.544 9.515c-0.48 0-0.88-0.4-0.88-0.88v-4.672c0-0.48 0.4-0.88 0.88-0.88s0.88 0.4 0.88 0.88v4.672c0 0.48-0.4 0.88-0.88 0.88zM20.256 17.675h3.088v3.088h-3.088v-3.088zM20.256 22.411h3.088v3.088h-3.088v-3.088zM20.256 12.939h3.088v3.088h-3.088v-3.088zM14.336 17.675h3.088v3.088h-3.088v-3.088zM14.336 22.411h3.088v3.088h-3.088v-3.088zM14.336 12.939h3.088v3.088h-3.088v-3.088zM8.416 17.675h3.088v3.088h-3.088v-3.088zM8.416 22.411h3.088v3.088h-3.088v-3.088zM8.416 12.939h3.088v3.088h-3.088v-3.088z\\\"></path>\\n</svg>\\n</span></button><!----><!----><!----><!----></div></div><!----><div class=\\\"abc-form-element-container abc-form-element-material-appearance-borderless\\\" aria-hidden=\\\"false\\\"><abc-subscript class=\\\"ng-star-inserted\\\"><div class=\\\"abc-dir-ltr abc-form-element-subscript-text abc-subscript-collapsable ng-star-inserted\\\" id=\\\"bkmgFlights_travelDates_1Subscript\\\"><!----><!----><!----></div><!----></abc-subscript><!----></div><!----><div class=\\\"ngx-ac-visually-hidden\\\" id=\\\"bkmgFlights_travelDates_1DatepickerSrHelperText\\\"> Enter the date day and month in this format: DD/MM, or use the 'Show Calendar' button to open the calendar and select your date from there. <!----><!----><!----></div><!----><!----><!----><!----></abc-date-picker><!----><!----></div><!----><!----></div><ac-select-travelers formcontrolname=\\\"travelers\\\" class=\\\"bkmg-flights-tab-passenger-selector mobile-padding ng-untouched ng-dirty ng-valid abc-form-element\\\"><div class=\\\"ac-select-travelers-wrapper\\\" id=\\\"bkmgFlights_selectTravelersWrapper\\\"><input type=\\\"hidden\\\" value=\\\"[object Object]\\\" class=\\\"ng-untouched ng-pristine ng-valid\\\"><abc-form-field-button class=\\\"ac-select-travelers\\\"><abc-form-element-container><div class=\\\"abc-form-element-container abc-form-element-material-appearance-borderless\\\"><button type=\\\"button\\\" class=\\\"abc-form-element-wrapper abc-form-element-material-wrapper abc-form-element-button-wrapper ng-star-inserted\\\" id=\\\"bkmgFlights_selectTravelers\\\" aria-haspopup=\\\"dialog\\\" aria-disabled=\\\"false\\\" aria-label=\\\"Passenger(s)\\\" aria-describedby=\\\"bkmgFlights_selectTravelersSrContent\\\"><div class=\\\"abc-form-element-flex\\\"><!----><div class=\\\"abc-form-element-infix\\\"><abc-form-element-label><div class=\\\"abc-dir-ltr abc-form-element-label user-select-none float\\\" id=\\\"bkmgFlights_selectTravelersLabel\\\"><span class=\\\"abc-form-element-label-text\\\">Passenger(s)</span></div></abc-form-element-label><!----><div class=\\\"abc-form-element-main-container\\\" id=\\\"bkmgFlights_selectTravelersMainContainer\\\"><div class=\\\"abc-form-element-input abc-form-element-main text-transform-none\\\"><span aria-hidden=\\\"true\\\" class=\\\"text-capitalize\\\"> 1 Adult </span></div></div></div><abc-affix class=\\\"ng-star-inserted\\\"><div class=\\\"abc-dir-ltr abc-form-element-affix abc-form-element-suffix\\\"><!----><span class=\\\"abc-form-element-suffix-icon ac-icon ac-icon_chevronDown ng-star-inserted\\\"></span><!----><!----><!----><!----><!----><!----></div></abc-affix><!----></div><abc-form-element-underline><div class=\\\"abc-form-element-underline\\\"></div></abc-form-element-underline></button><!----><!----></div></abc-form-element-container></abc-form-field-button></div><div class=\\\"visually-hidden\\\" id=\\\"bkmgFlights_selectTravelersSrContent\\\"><div aria-live=\\\"polite\\\" aria-atomic=\\\"true\\\">1 Adult</div><div>Press Enter or the space bar to open the passenger selection menu, then use tabs to move through the passenger section and complete your selection.</div></div><!----></ac-select-travelers><div class=\\\"bkmg-flights-tab-footer-elements mobile-padding\\\"><!----><div class=\\\"bkmg-flights-tab-promo-code-input ng-star-inserted\\\"><abc-button class=\\\"abc-button-wrapper ng-star-inserted\\\" role=\\\"none\\\"><button class=\\\"abc-button abc-button-height-default abc-button-theme-blue abc-button-type-tertiary abc-dir-ltr user-select-none ng-star-inserted\\\" id=\\\"bkmgFlights_promoCodeToggle\\\" type=\\\"button\\\" aria-disabled=\\\"false\\\" aria-labelledby=\\\"bkmgFlights_promoCodeToggleContent\\\"><span class=\\\"abc-button-content\\\" id=\\\"bkmgFlights_promoCodeToggleContent\\\"><span class=\\\"abc-button-text\\\"><span class=\\\"ac-icon ac-icon-promoCodeTag me-2 ng-star-inserted\\\"></span> Add promotion code <!----></span></span><!----><!----></button><!----><!----><!----></abc-button><!----><!----></div><!----><!----><div class=\\\"bkmg-flights-tab-loader-overlay\\\"></div><abc-button class=\\\"bkmg-flights-tab-find-btn abc-button-fullWidthXS abc-button-wrapper\\\" role=\\\"none\\\"><button class=\\\"abc-button abc-button-height-default abc-button-theme-blue abc-button-type-primary abc-dir-ltr user-select-none abc-button-has-inset-loader ng-star-inserted\\\" id=\\\"bkmgFlights_findButton\\\" type=\\\"submit\\\" aria-disabled=\\\"false\\\" aria-labelledby=\\\"bkmgFlights_findButtonContent\\\" aria-busy=\\\"false\\\" data-analytics-track=\\\"home magnet\\\" data-analytics-val=\\\"bookingmagnet-flight-find>cash\\\"><span class=\\\"abc-button-content\\\" id=\\\"bkmgFlights_findButtonContent\\\"><span class=\\\"abc-button-text\\\"> Search flights <!----></span></span><!----><abc-ripple class=\\\"ng-star-inserted\\\"><div class=\\\"abc-ripple-wrapper\\\"></div></abc-ripple><!----></button><!----><!----><!----></abc-button></div></div></fieldset></form>\"\n",
      "  }\n",
      "]\n"
     ]
    },
    {
     "name": "stdout",
     "output_type": "stream",
     "text": [
      " \u001b[0m Response: {\n",
      "  \"choices\": [\n",
      "    {\n",
      "      \"finish_reason\": \"stop\",\n",
      "      \"index\": 0,\n",
      "      \"message\": {\n",
      "        \"content\": \"```\\n{\\n\\\"tripType\\\": {\\npassing: \\\"R\\\",\\nfailing: [\\\"A\\\", \\\"B\\\", \\\"C\\\", \\\"D\\\", \\\"E\\\", \\\"F\\\", \\\"G\\\", \\\"H\\\", \\\"I\\\", \\\"J\\\", \\\"K\\\", \\\"L\\\", \\\"N\\\", \\\"P\\\", \\\"Q\\\", \\\"S\\\", \\\"T\\\", \\\"U\\\", \\\"V\\\", \\\"W\\\", \\\"X\\\", \\\"Y\\\", \\\"Z\\\", \\\"\\\", \\\" \\\", \\\"1\\\", \\\"2\\\", \\\"3\\\", \\\"4\\\", \\\"5\\\", \\\"6\\\", \\\"7\\\", \\\"8\\\", \\\"9\\\", \\\"0\\\"]\\n},\\n\\\"searchType\\\": {\\npassing: \\\"cash\\\",\\nfailing: [\\\"credit\\\", \\\"debit\\\", \\\"points\\\", \\\"\\\", \\\" \\\", \\\"1\\\", \\\"2\\\", \\\"3\\\", \\\"4\\\", \\\"5\\\", \\\"6\\\", \\\"7\\\", \\\"8\\\", \\\"9\\\", \\\"0\\\"]\\n},\\n\\\"origin\\\": {\\npassing: \\\"Vancouver\\\",\\nfailing: [\\\"\\\", \\\" \\\", \\\"123\\\", \\\"abc\\\", \\\"Vancouv\\\", \\\"Vancou\\\", \\\"Vanco\\\", \\\"Vanc\\\", \\\"Van\\\", \\\"Va\\\", \\\"V\\\"]\\n},\\n\\\"destination\\\": {\\npassing: \\\"Toronto\\\",\\nfailing: [\\\"\\\", \\\" \\\", \\\"123\\\", \\\"abc\\\", \\\"Toront\\\", \\\"Toron\\\", \\\"Toro\\\", \\\"Tor\\\", \\\"To\\\", \\\"T\\\"]\\n},\\n\\\"travelDates\\\": {\\npassing: \\\"12/12/2022\\\",\\nfailing: [\\\"\\\", \\\" \\\", \\\"12/12/22\\\", \\\"12-12-2022\\\", \\\"12.12.2022\\\", \\\"12/12\\\", \\\"12/2022\\\", \\\"2022\\\", \\\"12\\\", \\\"abc\\\", \\\"12/abc/2022\\\", \\\"abc/12/2022\\\", \\\"12/12/abc\\\"]\\n},\\n\\\"travelers\\\": {\\npassing: \\\"1 Adult\\\",\\nfailing: [\\\"\\\", \\\" \\\", \\\"0 Adult\\\", \\\"2 Adults\\\", \\\"1 Child\\\", \\\"1 Infant\\\", \\\"abc\\\", \\\"1 abc\\\", \\\"abc 1\\\"]\\n}\\n}\\n```\",\n",
      "        \"role\": \"assistant\"\n",
      "      }\n",
      "    }\n",
      "  ],\n",
      "  \"created\": 1689030701,\n",
      "  \"id\": \"chatcmpl-7auKbWZ6e2jakTiLLV5jBMuHJXAsW\",\n",
      "  \"model\": \"gpt-4-0613\",\n",
      "  \"object\": \"chat.completion\",\n",
      "  \"usage\": {\n",
      "    \"completion_tokens\": 415,\n",
      "    \"prompt_tokens\": 5905,\n",
      "    \"total_tokens\": 6320\n",
      "  }\n",
      "}\n",
      " \u001b[0m Total running cost: $0.202\n"
     ]
    },
    {
     "ename": "AttributeError",
     "evalue": "'str' object has no attribute 'read'",
     "output_type": "error",
     "traceback": [
      "\u001b[0;31m---------------------------------------------------------------------------\u001b[0m",
      "\u001b[0;31mAttributeError\u001b[0m                            Traceback (most recent call last)",
      "Cell \u001b[0;32mIn[24], line 1\u001b[0m\n\u001b[0;32m----> 1\u001b[0m \u001b[43mgenerate_llm_values\u001b[49m\u001b[43m(\u001b[49m\u001b[43mform\u001b[49m\u001b[38;5;241;43m.\u001b[39;49m\u001b[43mget_attribute\u001b[49m\u001b[43m(\u001b[49m\u001b[38;5;124;43m'\u001b[39;49m\u001b[38;5;124;43mouterHTML\u001b[39;49m\u001b[38;5;124;43m'\u001b[39;49m\u001b[43m)\u001b[49m\u001b[43m,\u001b[49m\u001b[43m \u001b[49m\u001b[43mopenai\u001b[49m\u001b[38;5;241;43m.\u001b[39;49m\u001b[43mapi_key\u001b[49m\u001b[43m)\u001b[49m\n",
      "File \u001b[0;32m~/Desktop/Research/webform testing project/webform-testing-code/implementation/method/models/chat_gpt.py:37\u001b[0m, in \u001b[0;36mgenerate_llm_values\u001b[0;34m(form, openai_api_key, model, temperature, max_tokens)\u001b[0m\n\u001b[1;32m     27\u001b[0m response \u001b[38;5;241m=\u001b[39m api_manager\u001b[38;5;241m.\u001b[39mcreate_chat_completion(\n\u001b[1;32m     28\u001b[0m     model\u001b[38;5;241m=\u001b[39mmodel,\n\u001b[1;32m     29\u001b[0m     messages\u001b[38;5;241m=\u001b[39mmessages,\n\u001b[0;32m   (...)\u001b[0m\n\u001b[1;32m     32\u001b[0m     openai_api_key\u001b[38;5;241m=\u001b[39mopenai_api_key\n\u001b[1;32m     33\u001b[0m )\n\u001b[1;32m     35\u001b[0m response_text \u001b[38;5;241m=\u001b[39m response\u001b[38;5;241m.\u001b[39mchoices[\u001b[38;5;241m0\u001b[39m]\u001b[38;5;241m.\u001b[39mmessage\u001b[38;5;241m.\u001b[39mcontent\n\u001b[0;32m---> 37\u001b[0m \u001b[38;5;28;01mreturn\u001b[39;00m \u001b[43mjson\u001b[49m\u001b[38;5;241;43m.\u001b[39;49m\u001b[43mload\u001b[49m\u001b[43m(\u001b[49m\u001b[43mresponse_text\u001b[49m\u001b[43m)\u001b[49m\n",
      "File \u001b[0;32m/Library/Frameworks/Python.framework/Versions/3.10/lib/python3.10/json/__init__.py:293\u001b[0m, in \u001b[0;36mload\u001b[0;34m(fp, cls, object_hook, parse_float, parse_int, parse_constant, object_pairs_hook, **kw)\u001b[0m\n\u001b[1;32m    274\u001b[0m \u001b[38;5;28;01mdef\u001b[39;00m \u001b[38;5;21mload\u001b[39m(fp, \u001b[38;5;241m*\u001b[39m, \u001b[38;5;28mcls\u001b[39m\u001b[38;5;241m=\u001b[39m\u001b[38;5;28;01mNone\u001b[39;00m, object_hook\u001b[38;5;241m=\u001b[39m\u001b[38;5;28;01mNone\u001b[39;00m, parse_float\u001b[38;5;241m=\u001b[39m\u001b[38;5;28;01mNone\u001b[39;00m,\n\u001b[1;32m    275\u001b[0m         parse_int\u001b[38;5;241m=\u001b[39m\u001b[38;5;28;01mNone\u001b[39;00m, parse_constant\u001b[38;5;241m=\u001b[39m\u001b[38;5;28;01mNone\u001b[39;00m, object_pairs_hook\u001b[38;5;241m=\u001b[39m\u001b[38;5;28;01mNone\u001b[39;00m, \u001b[38;5;241m*\u001b[39m\u001b[38;5;241m*\u001b[39mkw):\n\u001b[1;32m    276\u001b[0m \u001b[38;5;250m    \u001b[39m\u001b[38;5;124;03m\"\"\"Deserialize ``fp`` (a ``.read()``-supporting file-like object containing\u001b[39;00m\n\u001b[1;32m    277\u001b[0m \u001b[38;5;124;03m    a JSON document) to a Python object.\u001b[39;00m\n\u001b[1;32m    278\u001b[0m \n\u001b[0;32m   (...)\u001b[0m\n\u001b[1;32m    291\u001b[0m \u001b[38;5;124;03m    kwarg; otherwise ``JSONDecoder`` is used.\u001b[39;00m\n\u001b[1;32m    292\u001b[0m \u001b[38;5;124;03m    \"\"\"\u001b[39;00m\n\u001b[0;32m--> 293\u001b[0m     \u001b[38;5;28;01mreturn\u001b[39;00m loads(\u001b[43mfp\u001b[49m\u001b[38;5;241;43m.\u001b[39;49m\u001b[43mread\u001b[49m(),\n\u001b[1;32m    294\u001b[0m         \u001b[38;5;28mcls\u001b[39m\u001b[38;5;241m=\u001b[39m\u001b[38;5;28mcls\u001b[39m, object_hook\u001b[38;5;241m=\u001b[39mobject_hook,\n\u001b[1;32m    295\u001b[0m         parse_float\u001b[38;5;241m=\u001b[39mparse_float, parse_int\u001b[38;5;241m=\u001b[39mparse_int,\n\u001b[1;32m    296\u001b[0m         parse_constant\u001b[38;5;241m=\u001b[39mparse_constant, object_pairs_hook\u001b[38;5;241m=\u001b[39mobject_pairs_hook, \u001b[38;5;241m*\u001b[39m\u001b[38;5;241m*\u001b[39mkw)\n",
      "\u001b[0;31mAttributeError\u001b[0m: 'str' object has no attribute 'read'"
     ]
    }
   ],
   "source": [
    "generate_llm_values(form.get_attribute('outerHTML'), openai.api_key)"
   ]
  },
  {
   "cell_type": "code",
   "execution_count": null,
   "id": "3498ad14",
   "metadata": {},
   "outputs": [],
   "source": []
  }
 ],
 "metadata": {
  "kernelspec": {
   "display_name": "Python 3 (ipykernel)",
   "language": "python",
   "name": "python3"
  },
  "language_info": {
   "codemirror_mode": {
    "name": "ipython",
    "version": 3
   },
   "file_extension": ".py",
   "mimetype": "text/x-python",
   "name": "python",
   "nbconvert_exporter": "python",
   "pygments_lexer": "ipython3",
   "version": "3.10.9"
  },
  "toc": {
   "base_numbering": 1,
   "nav_menu": {},
   "number_sections": true,
   "sideBar": true,
   "skip_h1_title": false,
   "title_cell": "Table of Contents",
   "title_sidebar": "Contents",
   "toc_cell": false,
   "toc_position": {},
   "toc_section_display": true,
   "toc_window_display": false
  },
  "varInspector": {
   "cols": {
    "lenName": 16,
    "lenType": 16,
    "lenVar": 40
   },
   "kernels_config": {
    "python": {
     "delete_cmd_postfix": "",
     "delete_cmd_prefix": "del ",
     "library": "var_list.py",
     "varRefreshCmd": "print(var_dic_list())"
    },
    "r": {
     "delete_cmd_postfix": ") ",
     "delete_cmd_prefix": "rm(",
     "library": "var_list.r",
     "varRefreshCmd": "cat(var_dic_list()) "
    }
   },
   "types_to_exclude": [
    "module",
    "function",
    "builtin_function_or_method",
    "instance",
    "_Feature"
   ],
   "window_display": false
  }
 },
 "nbformat": 4,
 "nbformat_minor": 5
}
