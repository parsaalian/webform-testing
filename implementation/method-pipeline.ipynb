{
 "cells": [
  {
   "cell_type": "code",
   "execution_count": 1,
   "id": "d229fc1e",
   "metadata": {
    "ExecuteTime": {
     "end_time": "2023-07-25T17:37:28.228504Z",
     "start_time": "2023-07-25T17:37:28.196871Z"
    }
   },
   "outputs": [],
   "source": [
    "%load_ext autoreload\n",
    "%autoreload 2"
   ]
  },
  {
   "cell_type": "code",
   "execution_count": 2,
   "id": "6edf3f1c",
   "metadata": {
    "ExecuteTime": {
     "end_time": "2023-07-25T17:38:06.284789Z",
     "start_time": "2023-07-25T17:37:29.557314Z"
    }
   },
   "outputs": [],
   "source": [
    "import os\n",
    "import time\n",
    "import openai\n",
    "from dotenv import load_dotenv\n",
    "\n",
    "from selenium.webdriver.common.by import By\n",
    "from selenium.webdriver.support.ui import WebDriverWait\n",
    "from selenium.webdriver.support import expected_conditions as EC\n",
    "from bs4 import BeautifulSoup as bs\n",
    "\n",
    "from method.ours.utils import create_driver, get_xpath\n",
    "from method.ours.parse import parse_form\n",
    "from method.ours.prompts import get_form_context\n",
    "from method.ours.history import HistoryTable\n",
    "from method.ours.constraints import Invalid\n",
    "from method.ours.generation import (\n",
    "    generate_constraints_for_input_groups,\n",
    "    generate_value_for_input_group,\n",
    "    generate_values_for_input_groups,\n",
    "    fill_form_with_value_table,\n",
    "    submit_form\n",
    ")\n",
    "from method.ours.feedback import (\n",
    "    get_local_feedback,\n",
    "    get_global_feedback\n",
    ")"
   ]
  },
  {
   "cell_type": "code",
   "execution_count": 3,
   "id": "25fb6bb8",
   "metadata": {
    "ExecuteTime": {
     "end_time": "2023-07-25T17:39:40.234815Z",
     "start_time": "2023-07-25T17:39:40.132335Z"
    }
   },
   "outputs": [],
   "source": [
    "load_dotenv()\n",
    "openai.api_key = os.getenv(\"OPENAI_API_KEY\")\n",
    "\n",
    "# Global Variables\n",
    "HEADLESS = False\n",
    "TEXT_EMBEDDING_METHOD = 'ADA' # ['ADA', 'WORD2VEC', 'SPACY']\n",
    "GRAPH_EMBEDDING_METHOD = 'NODE2VEC' # ['NODE2VEC', 'GCN']\n",
    "\n",
    "URL = 'http://localhost:9000/dashboard/customers/add'\n",
    "# 'https://www.mbta.com/'\n",
    "# 'https://www.united.com/en/us'\n",
    "# 'https://www.uhaul.com/Truck-Rentals/'\n",
    "# 'http://localhost:8080/1/common/items/create'\n",
    "# 'https://www.cars.com/'\n",
    "# 'https://www.ups.com/ca/en/Home.page'\n",
    "# 'https://www.healthgrades.com/find-a-doctor'\n",
    "# 'https://www.babycenter.com/pregnancy-weight-gain-estimator'\n",
    "# 'https://www.budget.com/en/home'\n",
    "# 'https://www.yelp.com/'\n",
    "# 'https://www.aircanada.com/ca/en/aco/home.html'"
   ]
  },
  {
   "cell_type": "code",
   "execution_count": 5,
   "id": "29e51dea",
   "metadata": {
    "ExecuteTime": {
     "end_time": "2023-07-25T17:42:30.495885Z",
     "start_time": "2023-07-25T17:42:30.381422Z"
    }
   },
   "outputs": [],
   "source": [
    "def get_to_form(driver):\n",
    "    try:\n",
    "        driver.get(URL)\n",
    "    except:\n",
    "        print('timeout')\n",
    "    \n",
    "    time.sleep(2)\n",
    "    WebDriverWait(driver, 10).until(\n",
    "        EC.presence_of_element_located((\n",
    "            By.XPATH,\n",
    "            '//BODY/DIV[1]/MAIN[1]/DIV[1]/DIV[1]/DIV[1]/FORM[1]/DIV[2]/DIV[1]/INPUT[1]')\n",
    "        )\n",
    "    ).send_keys('admin@example.com')\n",
    "    WebDriverWait(driver, 10).until(\n",
    "        EC.presence_of_element_located((\n",
    "            By.XPATH,\n",
    "            '//BODY/DIV[1]/MAIN[1]/DIV[1]/DIV[1]/DIV[1]/FORM[1]/DIV[4]/DIV[1]/DIV[1]/INPUT[1]')\n",
    "        )\n",
    "    ).send_keys('admin')\n",
    "    WebDriverWait(driver, 10).until(\n",
    "        EC.presence_of_element_located((\n",
    "            By.XPATH,\n",
    "            '//BODY/DIV[1]/MAIN[1]/DIV[1]/DIV[1]/DIV[1]/FORM[1]/DIV[5]/BUTTON[1]')\n",
    "        )\n",
    "    ).click()\n",
    "\n",
    "    '''\n",
    "    time.sleep(2)\n",
    "    WebDriverWait(driver, 10).until(\n",
    "        EC.presence_of_element_located((\n",
    "            By.XPATH,\n",
    "            '//BODY/DIV[1]/DIV[2]/MAIN[1]/DIV[1]/DIV[1]/DIV[1]/DIV[2]')\n",
    "        )\n",
    "    ).click()\n",
    "    '''\n",
    "    \n",
    "    '''\n",
    "    try:\n",
    "        time.sleep(2)\n",
    "        WebDriverWait(driver, 10).until(\n",
    "            EC.presence_of_element_located((\n",
    "                By.ID,\n",
    "                'email')\n",
    "            )\n",
    "        ).send_keys('me@company.com')\n",
    "        WebDriverWait(driver, 10).until(\n",
    "            EC.presence_of_element_located((\n",
    "                By.ID,\n",
    "                'password')\n",
    "            )\n",
    "        ).send_keys('password')\n",
    "        WebDriverWait(driver, 10).until(\n",
    "            EC.presence_of_element_located((\n",
    "                By.XPATH,\n",
    "                '//*[@type=\"submit\"]')\n",
    "            )\n",
    "        ).click()\n",
    "    except:\n",
    "        pass\n",
    "    '''\n",
    "    \n",
    "    '''\n",
    "    # Pet Clinic - Add Owner\n",
    "    time.sleep(2)\n",
    "    WebDriverWait(driver, 10).until(\n",
    "        EC.presence_of_element_located((\n",
    "            By.XPATH,\n",
    "            '//BODY/APP-ROOT[1]/DIV[1]/NAV[1]/DIV[1]/UL[1]/LI[2]')\n",
    "        )\n",
    "    ).click()\n",
    "    WebDriverWait(driver, 10).until(\n",
    "        EC.presence_of_element_located((\n",
    "            By.XPATH,\n",
    "            '//BODY/APP-ROOT[1]/DIV[1]/NAV[1]/DIV[1]/UL[1]/LI[2]/UL[1]/LI[2]')\n",
    "        )\n",
    "    ).click()\n",
    "    '''\n",
    "    \n",
    "    '''\n",
    "    # UPS - Quote\n",
    "    time.sleep(2)\n",
    "    WebDriverWait(driver, 10).until(\n",
    "        EC.presence_of_element_located((By.ID, 'tabs_0_tab_1'))\n",
    "    ).click()\n",
    "    '''\n",
    "    \n",
    "    '''\n",
    "    # AC - Multi-city\n",
    "    time.sleep(2)\n",
    "    WebDriverWait(driver, 5).until(\n",
    "        EC.presence_of_element_located((By.ID, 'bkmgFlights_tripTypeSelector_M'))\n",
    "    ).click()\n",
    "    '''\n",
    "    \n",
    "    '''\n",
    "    # AC - My Bookings\n",
    "    time.sleep(2)\n",
    "    WebDriverWait(driver, 5).until(\n",
    "        EC.presence_of_element_located((By.ID, 'bkmg-tab-button-mngBook'))\n",
    "    ).click()'''\n",
    "    \n",
    "    '''\n",
    "    # Budget - Reservation\n",
    "    WebDriverWait(driver, 5).until(\n",
    "        EC.presence_of_element_located((By.ID, 'PicLoc_value'))\n",
    "    ).click()\n",
    "    '''"
   ]
  },
  {
   "cell_type": "code",
   "execution_count": 9,
   "id": "9e96907e",
   "metadata": {
    "ExecuteTime": {
     "end_time": "2023-07-25T17:45:50.471850Z",
     "start_time": "2023-07-25T17:45:50.361745Z"
    }
   },
   "outputs": [],
   "source": [
    "def find_form():\n",
    "    return WebDriverWait(driver, 10).until(\n",
    "        EC.presence_of_element_located((\n",
    "            By.TAG_NAME,\n",
    "            'form'\n",
    "        ))\n",
    "    )\n",
    "\n",
    "\n",
    "def find_button():\n",
    "    '''return find_form().find_element(\n",
    "        By.XPATH,\n",
    "        '//BODY/DIV[1]/MAIN[1]/DIV[1]/DIV[2]/MAIN[1]/FORM[1]'\n",
    "    )'''\n",
    "    # return None\n",
    "    return driver.find_elements(By.TAG_NAME, 'button')[7]\n"
   ]
  },
  {
   "cell_type": "code",
   "execution_count": 7,
   "id": "837ffb01",
   "metadata": {
    "ExecuteTime": {
     "end_time": "2023-07-25T17:43:34.911027Z",
     "start_time": "2023-07-25T17:43:27.351759Z"
    }
   },
   "outputs": [
    {
     "name": "stderr",
     "output_type": "stream",
     "text": [
      "[WDM] - Downloading: 100%|███████████████████████████████████████████████████████████████████████████████████████████████████████████| 8.29M/8.29M [00:00<00:00, 17.0MB/s]\n"
     ]
    }
   ],
   "source": [
    "driver = create_driver(HEADLESS)\n",
    "get_to_form(driver)"
   ]
  },
  {
   "cell_type": "code",
   "execution_count": 27,
   "id": "2812c532",
   "metadata": {
    "ExecuteTime": {
     "end_time": "2023-07-25T18:02:29.637607Z",
     "start_time": "2023-07-25T18:02:29.528611Z"
    }
   },
   "outputs": [],
   "source": [
    "form = find_form()"
   ]
  },
  {
   "cell_type": "code",
   "execution_count": 11,
   "id": "0daf200f",
   "metadata": {
    "ExecuteTime": {
     "end_time": "2023-07-25T17:45:54.271570Z",
     "start_time": "2023-07-25T17:45:54.159545Z"
    }
   },
   "outputs": [],
   "source": [
    "history_table = HistoryTable(\n",
    "    url=URL,\n",
    "    xpath=get_xpath(driver, form)\n",
    ")"
   ]
  },
  {
   "cell_type": "code",
   "execution_count": 12,
   "id": "b256fa79",
   "metadata": {
    "ExecuteTime": {
     "end_time": "2023-07-25T17:45:55.652347Z",
     "start_time": "2023-07-25T17:45:55.026577Z"
    }
   },
   "outputs": [],
   "source": [
    "for element in form.find_elements(By.TAG_NAME, 'input'):\n",
    "    try:\n",
    "        element.clear()\n",
    "    except:\n",
    "        pass"
   ]
  },
  {
   "cell_type": "markdown",
   "id": "948b49bc",
   "metadata": {},
   "source": [
    "# Processing"
   ]
  },
  {
   "cell_type": "code",
   "execution_count": 28,
   "id": "69dd1802",
   "metadata": {
    "ExecuteTime": {
     "end_time": "2023-07-25T18:02:57.105204Z",
     "start_time": "2023-07-25T18:02:31.214374Z"
    }
   },
   "outputs": [
    {
     "data": {
      "application/vnd.jupyter.widget-view+json": {
       "model_id": "c9f16160dd4f435183eb6d712612d674",
       "version_major": 2,
       "version_minor": 0
      },
      "text/plain": [
       "Computing transition probabilities:   0%|          | 0/147 [00:00<?, ?it/s]"
      ]
     },
     "metadata": {},
     "output_type": "display_data"
    },
    {
     "name": "stderr",
     "output_type": "stream",
     "text": [
      "Generating walks (CPU: 1): 100%|██████████| 50/50 [00:00<00:00, 893.64it/s]\n",
      "Generating walks (CPU: 2): 100%|██████████| 50/50 [00:00<00:00, 826.24it/s]\n",
      "Generating walks (CPU: 3): 100%|██████████| 50/50 [00:00<00:00, 819.13it/s]\n",
      "Generating walks (CPU: 4): 100%|██████████| 50/50 [00:00<00:00, 783.05it/s]\n",
      "100%|█████████████████████████████████████████████████████████████████████████████████████████████████████████████████████████████████████| 33/33 [00:06<00:00,  5.33it/s]\n"
     ]
    }
   ],
   "source": [
    "html = driver.find_element(By.TAG_NAME, 'body').get_attribute('outerHTML')\n",
    "relation_graph, input_groups = parse_form(\n",
    "    driver,\n",
    "    form,\n",
    "    TEXT_EMBEDDING_METHOD=TEXT_EMBEDDING_METHOD\n",
    ")"
   ]
  },
  {
   "cell_type": "markdown",
   "id": "59c1f6ee",
   "metadata": {},
   "source": [
    "# Generation"
   ]
  },
  {
   "cell_type": "code",
   "execution_count": null,
   "id": "5e26e293",
   "metadata": {
    "ExecuteTime": {
     "start_time": "2023-07-25T18:03:40.920Z"
    }
   },
   "outputs": [
    {
     "name": "stdout",
     "output_type": "stream",
     "text": [
      " \u001b[0m Prompt: [\n",
      "  {\n",
      "    \"role\": \"system\",\n",
      "    \"content\": \"Instructions:\\nYour task is to generate a set of constraints for web form fields. Your decisions must be made independently without seeking user assistance or additional information. If there are multiple ways to express constraints, use the least number of constraints to describe them. Only generate the constraints and refrain from explaining your answers. Only generate constraints for the input field in question, not those in the relevant information section. You must choose your constraints in the format of our modified version of the Jest library in JavaScript. The list of functions in this modified format are:\\n1. toBeEqual(value) # the input field value is exactly equal to the given value\\n2. toHaveLengthCondition(condition, value) # the length of the input field value matches the given condition\\n3. toBeTruthy() # the input field value is truthy and not empty (not false, 0, '', null, undefined, or NaN)\\n4. toHaveCompareCondition(condition, numberOrDateValue) # the input field value has the given condition to the given value\\n5. toContainSubString(stringValue)\\n6. toContainChar(charValue)\\n7. toBeAlphabetical()\\n8. toBeNumerical()\\n9. toBeAlphaNumerical()\\n10. toContainUpperCaseChars()\\n11. toContainSpecialChars()\\n12. toContainWhiteSpace()\\n13. toStartWithString(stringValue)\\n14. toEndWithString(stringValue)\\n15. freeTextConstraint(constraintStringValue) # for constraints that cannot be expressed as a deterministic function from the above functions\\nYou must choose only from this list of functions, and avoid using any other functions. Use the notation \\\"field('elementId')\\\" to refer to input fields in the form. When generating constraints for date-related fields, also take current date into your considerations.\\n\\nExample of generated constraints for a password input field:\\nexpect(field('password'))\\n.toHaveLengthCondition('>', 8)\\n.toHaveLengthCondition('<', 50)\\n.toBeAlphaNumeric()\\n.toHaveUpperCase()\\n.toHaveSpecialChars()\\n.not.toBeTruthy()\\n.freeTextConstraint('your password must be a dog's name')\\n.toBeEqual(field('confirm-password'))\"\n",
      "  },\n",
      "  {\n",
      "    \"role\": \"user\",\n",
      "    \"content\": \"Today's date: 2023-07-25 11:03:41. When generating constraints for date fields, also generate constraints to compare them with the current date, past, and future if applicable.\\n    The following are all the labels in the form, which provide context for the functionality of the form:\\n    First Name, Last Name, Email address, First Name, Last Name, Company, Phone, Address line 1, Address line 2, City, ZIP / Postal code, Country, Note\\n    We are generating constraints for the following input field:\\n    input: <input name=\\\"customerFirstName\\\" type=\\\"text\\\" value=\\\"\\\"/>\\nwith label: First Name\\n    The relevant input fields available in the form are (in order of relevance):\\n    1.\\ninput: <input name=\\\"customerLastName\\\" type=\\\"text\\\" value=\\\"\\\"/>\\nwith label: Last Name\\n2.\\ninput: <input name=\\\"email\\\" type=\\\"email\\\" value=\\\"\\\"/>\\nwith label: Email address\\n3.\\ninput: <input name=\\\"firstName\\\" type=\\\"text\\\" value=\\\"\\\"/>\\nwith label: First Name\"\n",
      "  }\n",
      "]\n",
      " \u001b[0m Response: {\n",
      "  \"choices\": [\n",
      "    {\n",
      "      \"finish_reason\": \"stop\",\n",
      "      \"index\": 0,\n",
      "      \"message\": {\n",
      "        \"content\": \"expect(field('customerFirstName'))\\n.toBeTruthy()\\n.toHaveLengthCondition('>', 1)\\n.toHaveLengthCondition('<', 50)\\n.toBeAlphabetical()\\n.not.toContainWhiteSpace()\\n.not.toContainSpecialChars()\\n.not.toBeEqual(field('customerLastName'))\\n.not.toBeEqual(field('email'))\\n.not.toBeEqual(field('firstName'))\",\n",
      "        \"role\": \"assistant\"\n",
      "      }\n",
      "    }\n",
      "  ],\n",
      "  \"created\": 1690308221,\n",
      "  \"id\": \"chatcmpl-7gGfl05yhs7FFp21AJbKLVH3aOjlq\",\n",
      "  \"model\": \"gpt-4-0613\",\n",
      "  \"object\": \"chat.completion\",\n",
      "  \"usage\": {\n",
      "    \"completion_tokens\": 65,\n",
      "    \"prompt_tokens\": 664,\n",
      "    \"total_tokens\": 729\n",
      "  }\n",
      "}\n",
      " \u001b[0m Total running cost: $0.397\n",
      "toBeTruthy ['']\n",
      "toHaveLengthCondition [\"'>'\", '1']\n",
      "toHaveLengthCondition [\"'<'\", '50']\n",
      "toBeAlphabetical ['']\n",
      "toContainWhiteSpace ['']\n",
      "toContainSpecialChars ['']\n",
      "toBeEqual [\"field('customerLastName')\"]\n",
      "toBeEqual [\"field('email')\"]\n",
      "toBeEqual [\"field('firstName')\"]\n",
      " \u001b[0m Prompt: [\n",
      "  {\n",
      "    \"role\": \"system\",\n",
      "    \"content\": \"Instructions:\\nYour task is to generate a set of constraints for web form fields. Your decisions must be made independently without seeking user assistance or additional information. If there are multiple ways to express constraints, use the least number of constraints to describe them. Only generate the constraints and refrain from explaining your answers. Only generate constraints for the input field in question, not those in the relevant information section. You must choose your constraints in the format of our modified version of the Jest library in JavaScript. The list of functions in this modified format are:\\n1. toBeEqual(value) # the input field value is exactly equal to the given value\\n2. toHaveLengthCondition(condition, value) # the length of the input field value matches the given condition\\n3. toBeTruthy() # the input field value is truthy and not empty (not false, 0, '', null, undefined, or NaN)\\n4. toHaveCompareCondition(condition, numberOrDateValue) # the input field value has the given condition to the given value\\n5. toContainSubString(stringValue)\\n6. toContainChar(charValue)\\n7. toBeAlphabetical()\\n8. toBeNumerical()\\n9. toBeAlphaNumerical()\\n10. toContainUpperCaseChars()\\n11. toContainSpecialChars()\\n12. toContainWhiteSpace()\\n13. toStartWithString(stringValue)\\n14. toEndWithString(stringValue)\\n15. freeTextConstraint(constraintStringValue) # for constraints that cannot be expressed as a deterministic function from the above functions\\nYou must choose only from this list of functions, and avoid using any other functions. Use the notation \\\"field('elementId')\\\" to refer to input fields in the form. When generating constraints for date-related fields, also take current date into your considerations.\\n\\nExample of generated constraints for a password input field:\\nexpect(field('password'))\\n.toHaveLengthCondition('>', 8)\\n.toHaveLengthCondition('<', 50)\\n.toBeAlphaNumeric()\\n.toHaveUpperCase()\\n.toHaveSpecialChars()\\n.not.toBeTruthy()\\n.freeTextConstraint('your password must be a dog's name')\\n.toBeEqual(field('confirm-password'))\"\n",
      "  },\n",
      "  {\n",
      "    \"role\": \"user\",\n",
      "    \"content\": \"Today's date: 2023-07-25 11:03:46. When generating constraints for date fields, also generate constraints to compare them with the current date, past, and future if applicable.\\n    The following are all the labels in the form, which provide context for the functionality of the form:\\n    First Name, Last Name, Email address, First Name, Last Name, Company, Phone, Address line 1, Address line 2, City, ZIP / Postal code, Country, Note\\n    We are generating constraints for the following input field:\\n    input: <input name=\\\"customerLastName\\\" type=\\\"text\\\" value=\\\"\\\"/>\\nwith label: Last Name\\nwith the following relevant text tags:\\n<span>Customer Overview</span>\\n    The relevant input fields available in the form are (in order of relevance):\\n    1.\\ninput: <input name=\\\"customerFirstName\\\" type=\\\"text\\\" value=\\\"\\\"/>\\nwith label: First Name\\n2.\\ninput: <input name=\\\"email\\\" type=\\\"email\\\" value=\\\"\\\"/>\\nwith label: Email address\\n3.\\ninput: <input name=\\\"lastName\\\" type=\\\"text\\\" value=\\\"\\\"/>\\nwith label: Last Name\"\n",
      "  }\n",
      "]\n"
     ]
    }
   ],
   "source": [
    "value_table = generate_constraints_for_input_groups(input_groups)"
   ]
  },
  {
   "cell_type": "code",
   "execution_count": 15,
   "id": "919aea1a",
   "metadata": {
    "ExecuteTime": {
     "end_time": "2023-07-25T17:47:50.354552Z",
     "start_time": "2023-07-25T17:47:38.032262Z"
    }
   },
   "outputs": [
    {
     "name": "stdout",
     "output_type": "stream",
     "text": [
      " \u001b[0m Prompt: [\n",
      "  {\n",
      "    \"role\": \"system\",\n",
      "    \"content\": \"Your task is to generate a value for a web form field based on the form field information and a set of constraints on the field.\\nYour decisions must be made independently without seeking user assistance or additional information.\\nFor each user prompt, you need to generate one value that satisfies the constraints while keeping in mind the nature of the input from the available information.\\nOnly generate value and refrain from explaining your answers.\\nOnly generate value for the input field in question, and not the ones in the relevant information section.\\nWhen generating values, generate the ones that actually conform to the constraints, and refrain from altering real-world values to fit the constraint, e.g. do not change the value \\\"New York\\\" to \\\"NewYork\\\" to satisfy the constraint not to contain whitespace.\"\n",
      "  },\n",
      "  {\n",
      "    \"role\": \"user\",\n",
      "    \"content\": \"The following are all the labels in the form, which provide context for the functionality of the form:\\n    \\n    We are generating filling values for the following input field:\\n    input: <input name=\\\"customerFirstName\\\" type=\\\"text\\\" value=\\\"\\\"/>\\nwith the following relevant text tags:\\n<span>Customer Overview</span>\\n    The constraints on this input field are:\\n    input field should be non-empty\\ninput field should be alphabetic\\ninput field's length should be greater than 1 characters\\ninput field's length should be less than 50 characters\"\n",
      "  }\n",
      "]\n",
      " \u001b[0m Response: {\n",
      "  \"choices\": [\n",
      "    {\n",
      "      \"finish_reason\": \"stop\",\n",
      "      \"index\": 0,\n",
      "      \"message\": {\n",
      "        \"content\": \"Alexander\",\n",
      "        \"role\": \"assistant\"\n",
      "      }\n",
      "    }\n",
      "  ],\n",
      "  \"created\": 1690307258,\n",
      "  \"id\": \"chatcmpl-7gGQEDAlnWXoc3M8cf7TRgGgJE45C\",\n",
      "  \"model\": \"gpt-4-0613\",\n",
      "  \"object\": \"chat.completion\",\n",
      "  \"usage\": {\n",
      "    \"completion_tokens\": 1,\n",
      "    \"prompt_tokens\": 273,\n",
      "    \"total_tokens\": 274\n",
      "  }\n",
      "}\n",
      " \u001b[0m Total running cost: $0.275\n",
      " \u001b[0m Prompt: [\n",
      "  {\n",
      "    \"role\": \"system\",\n",
      "    \"content\": \"Your task is to generate a value for a web form field based on the form field information and a set of constraints on the field.\\nYour decisions must be made independently without seeking user assistance or additional information.\\nFor each user prompt, you need to generate one value that satisfies the constraints while keeping in mind the nature of the input from the available information.\\nOnly generate value and refrain from explaining your answers.\\nOnly generate value for the input field in question, and not the ones in the relevant information section.\\nWhen generating values, generate the ones that actually conform to the constraints, and refrain from altering real-world values to fit the constraint, e.g. do not change the value \\\"New York\\\" to \\\"NewYork\\\" to satisfy the constraint not to contain whitespace.\"\n",
      "  },\n",
      "  {\n",
      "    \"role\": \"user\",\n",
      "    \"content\": \"The following are all the labels in the form, which provide context for the functionality of the form:\\n    \\n    We are generating filling values for the following input field:\\n    input: <input name=\\\"customerLastName\\\" type=\\\"text\\\" value=\\\"\\\"/>\\n    The constraints on this input field are:\\n    input field should be non-empty\\ninput field should be alphabetic\\ninput field's length should be greater than 1 characters\\ninput field's length should be less than 50 characters\"\n",
      "  }\n",
      "]\n",
      " \u001b[0m Response: {\n",
      "  \"choices\": [\n",
      "    {\n",
      "      \"finish_reason\": \"stop\",\n",
      "      \"index\": 0,\n",
      "      \"message\": {\n",
      "        \"content\": \"Anderson\",\n",
      "        \"role\": \"assistant\"\n",
      "      }\n",
      "    }\n",
      "  ],\n",
      "  \"created\": 1690307258,\n",
      "  \"id\": \"chatcmpl-7gGQEk3PBz9CaJN0IoRr3oYviIsJD\",\n",
      "  \"model\": \"gpt-4-0613\",\n",
      "  \"object\": \"chat.completion\",\n",
      "  \"usage\": {\n",
      "    \"completion_tokens\": 1,\n",
      "    \"prompt_tokens\": 259,\n",
      "    \"total_tokens\": 260\n",
      "  }\n",
      "}\n",
      " \u001b[0m Total running cost: $0.283\n",
      " \u001b[0m Prompt: [\n",
      "  {\n",
      "    \"role\": \"system\",\n",
      "    \"content\": \"Your task is to generate a value for a web form field based on the form field information and a set of constraints on the field.\\nYour decisions must be made independently without seeking user assistance or additional information.\\nFor each user prompt, you need to generate one value that satisfies the constraints while keeping in mind the nature of the input from the available information.\\nOnly generate value and refrain from explaining your answers.\\nOnly generate value for the input field in question, and not the ones in the relevant information section.\\nWhen generating values, generate the ones that actually conform to the constraints, and refrain from altering real-world values to fit the constraint, e.g. do not change the value \\\"New York\\\" to \\\"NewYork\\\" to satisfy the constraint not to contain whitespace.\"\n",
      "  },\n",
      "  {\n",
      "    \"role\": \"user\",\n",
      "    \"content\": \"The following are all the labels in the form, which provide context for the functionality of the form:\\n    \\n    We are generating filling values for the following input field:\\n    input: <input name=\\\"email\\\" type=\\\"email\\\" value=\\\"\\\"/>\\nwith the following relevant text tags:\\n<span>Primary Address</span>\\n    The constraints on this input field are:\\n    input field should be non-empty\\ninput field's length should be greater than 5 characters\\ninput field should contain @ character\\ninput field should contain . character\\ninput field should not have whitespace characters\"\n",
      "  }\n",
      "]\n",
      " \u001b[0m Response: {\n",
      "  \"choices\": [\n",
      "    {\n",
      "      \"finish_reason\": \"stop\",\n",
      "      \"index\": 0,\n",
      "      \"message\": {\n",
      "        \"content\": \"primaryaddress@gmail.com\",\n",
      "        \"role\": \"assistant\"\n",
      "      }\n",
      "    }\n",
      "  ],\n",
      "  \"created\": 1690307259,\n",
      "  \"id\": \"chatcmpl-7gGQFJh5CpsTXWfZ9x9u5xM0l2lCE\",\n",
      "  \"model\": \"gpt-4-0613\",\n",
      "  \"object\": \"chat.completion\",\n",
      "  \"usage\": {\n",
      "    \"completion_tokens\": 4,\n",
      "    \"prompt_tokens\": 275,\n",
      "    \"total_tokens\": 279\n",
      "  }\n",
      "}\n",
      " \u001b[0m Total running cost: $0.292\n",
      " \u001b[0m Prompt: [\n",
      "  {\n",
      "    \"role\": \"system\",\n",
      "    \"content\": \"Your task is to generate a value for a web form field based on the form field information and a set of constraints on the field.\\nYour decisions must be made independently without seeking user assistance or additional information.\\nFor each user prompt, you need to generate one value that satisfies the constraints while keeping in mind the nature of the input from the available information.\\nOnly generate value and refrain from explaining your answers.\\nOnly generate value for the input field in question, and not the ones in the relevant information section.\\nWhen generating values, generate the ones that actually conform to the constraints, and refrain from altering real-world values to fit the constraint, e.g. do not change the value \\\"New York\\\" to \\\"NewYork\\\" to satisfy the constraint not to contain whitespace.\"\n",
      "  },\n",
      "  {\n",
      "    \"role\": \"user\",\n",
      "    \"content\": \"The following are all the labels in the form, which provide context for the functionality of the form:\\n    \\n    We are generating filling values for the following input field:\\n    input: <input name=\\\"firstName\\\" type=\\\"text\\\" value=\\\"\\\"/>\\nwith the following relevant text tags:\\n<div>The primary address of this customer.</div>\\n    The constraints on this input field are:\\n    input field should be non-empty\\ninput field should be alphabetic\\ninput field's length should be greater than 1 characters\\ninput field's length should be less than 50 characters\"\n",
      "  }\n",
      "]\n",
      " \u001b[0m Response: {\n",
      "  \"choices\": [\n",
      "    {\n",
      "      \"finish_reason\": \"stop\",\n",
      "      \"index\": 0,\n",
      "      \"message\": {\n",
      "        \"content\": \"Alexander\",\n",
      "        \"role\": \"assistant\"\n",
      "      }\n",
      "    }\n",
      "  ],\n",
      "  \"created\": 1690307260,\n",
      "  \"id\": \"chatcmpl-7gGQG49q4gNf9h6WKx1UK5I4UcOKT\",\n",
      "  \"model\": \"gpt-4-0613\",\n",
      "  \"object\": \"chat.completion\",\n",
      "  \"usage\": {\n",
      "    \"completion_tokens\": 1,\n",
      "    \"prompt_tokens\": 275,\n",
      "    \"total_tokens\": 276\n",
      "  }\n",
      "}\n",
      " \u001b[0m Total running cost: $0.300\n",
      " \u001b[0m Prompt: [\n",
      "  {\n",
      "    \"role\": \"system\",\n",
      "    \"content\": \"Your task is to generate a value for a web form field based on the form field information and a set of constraints on the field.\\nYour decisions must be made independently without seeking user assistance or additional information.\\nFor each user prompt, you need to generate one value that satisfies the constraints while keeping in mind the nature of the input from the available information.\\nOnly generate value and refrain from explaining your answers.\\nOnly generate value for the input field in question, and not the ones in the relevant information section.\\nWhen generating values, generate the ones that actually conform to the constraints, and refrain from altering real-world values to fit the constraint, e.g. do not change the value \\\"New York\\\" to \\\"NewYork\\\" to satisfy the constraint not to contain whitespace.\"\n",
      "  },\n",
      "  {\n",
      "    \"role\": \"user\",\n",
      "    \"content\": \"The following are all the labels in the form, which provide context for the functionality of the form:\\n    \\n    We are generating filling values for the following input field:\\n    input: <input name=\\\"lastName\\\" type=\\\"text\\\" value=\\\"\\\"/>\\n    The constraints on this input field are:\\n    input field should be non-empty\\ninput field should be alphabetic\\ninput field's length should be greater than 1 characters\\ninput field's length should be less than 50 characters\\ninput field should not be equal to field(firstName)\\n    The values for the fields in constraints are:\\n    field: firstName, value: Alexander\"\n",
      "  }\n",
      "]\n"
     ]
    },
    {
     "name": "stdout",
     "output_type": "stream",
     "text": [
      " \u001b[0m Response: {\n",
      "  \"choices\": [\n",
      "    {\n",
      "      \"finish_reason\": \"stop\",\n",
      "      \"index\": 0,\n",
      "      \"message\": {\n",
      "        \"content\": \"Johnson\",\n",
      "        \"role\": \"assistant\"\n",
      "      }\n",
      "    }\n",
      "  ],\n",
      "  \"created\": 1690307261,\n",
      "  \"id\": \"chatcmpl-7gGQH3K9613Jyt8ieHmKc3H8EgrrM\",\n",
      "  \"model\": \"gpt-4-0613\",\n",
      "  \"object\": \"chat.completion\",\n",
      "  \"usage\": {\n",
      "    \"completion_tokens\": 1,\n",
      "    \"prompt_tokens\": 287,\n",
      "    \"total_tokens\": 288\n",
      "  }\n",
      "}\n",
      " \u001b[0m Total running cost: $0.309\n",
      " \u001b[0m Prompt: [\n",
      "  {\n",
      "    \"role\": \"system\",\n",
      "    \"content\": \"Your task is to generate a value for a web form field based on the form field information and a set of constraints on the field.\\nYour decisions must be made independently without seeking user assistance or additional information.\\nFor each user prompt, you need to generate one value that satisfies the constraints while keeping in mind the nature of the input from the available information.\\nOnly generate value and refrain from explaining your answers.\\nOnly generate value for the input field in question, and not the ones in the relevant information section.\\nWhen generating values, generate the ones that actually conform to the constraints, and refrain from altering real-world values to fit the constraint, e.g. do not change the value \\\"New York\\\" to \\\"NewYork\\\" to satisfy the constraint not to contain whitespace.\"\n",
      "  },\n",
      "  {\n",
      "    \"role\": \"user\",\n",
      "    \"content\": \"The following are all the labels in the form, which provide context for the functionality of the form:\\n    \\n    We are generating filling values for the following input field:\\n    input: <input name=\\\"companyName\\\" type=\\\"text\\\" value=\\\"\\\"/>\\n    The constraints on this input field are:\\n    input field should be non-empty\\ninput field's length should be greater than 1 characters\\ninput field's length should be less than 100 characters\\ninput field should be alphabetic\\ninput field should not have special characters\\ninput field should not have whitespace characters\"\n",
      "  }\n",
      "]\n",
      " \u001b[0m Response: {\n",
      "  \"choices\": [\n",
      "    {\n",
      "      \"finish_reason\": \"stop\",\n",
      "      \"index\": 0,\n",
      "      \"message\": {\n",
      "        \"content\": \"Microsoft\",\n",
      "        \"role\": \"assistant\"\n",
      "      }\n",
      "    }\n",
      "  ],\n",
      "  \"created\": 1690307262,\n",
      "  \"id\": \"chatcmpl-7gGQIpVxPZD5VwMbLDhoqQOSzfB0g\",\n",
      "  \"model\": \"gpt-4-0613\",\n",
      "  \"object\": \"chat.completion\",\n",
      "  \"usage\": {\n",
      "    \"completion_tokens\": 1,\n",
      "    \"prompt_tokens\": 275,\n",
      "    \"total_tokens\": 276\n",
      "  }\n",
      "}\n",
      " \u001b[0m Total running cost: $0.317\n",
      " \u001b[0m Prompt: [\n",
      "  {\n",
      "    \"role\": \"system\",\n",
      "    \"content\": \"Your task is to generate a value for a web form field based on the form field information and a set of constraints on the field.\\nYour decisions must be made independently without seeking user assistance or additional information.\\nFor each user prompt, you need to generate one value that satisfies the constraints while keeping in mind the nature of the input from the available information.\\nOnly generate value and refrain from explaining your answers.\\nOnly generate value for the input field in question, and not the ones in the relevant information section.\\nWhen generating values, generate the ones that actually conform to the constraints, and refrain from altering real-world values to fit the constraint, e.g. do not change the value \\\"New York\\\" to \\\"NewYork\\\" to satisfy the constraint not to contain whitespace.\"\n",
      "  },\n",
      "  {\n",
      "    \"role\": \"user\",\n",
      "    \"content\": \"The following are all the labels in the form, which provide context for the functionality of the form:\\n    \\n    We are generating filling values for the following input field:\\n    input: <input name=\\\"phone\\\" type=\\\"text\\\" value=\\\"\\\"/>\\n    The constraints on this input field are:\\n    input field should be numeric\\ninput field's length should be greater than or equal to 10 characters\\ninput field's length should be less than or equal to 15 characters\\ninput field should not have whitespace characters\\ninput field should not have special characters\\ninput field should not contain - character\"\n",
      "  }\n",
      "]\n",
      " \u001b[0m Response: {\n",
      "  \"choices\": [\n",
      "    {\n",
      "      \"finish_reason\": \"stop\",\n",
      "      \"index\": 0,\n",
      "      \"message\": {\n",
      "        \"content\": \"1234567890\",\n",
      "        \"role\": \"assistant\"\n",
      "      }\n",
      "    }\n",
      "  ],\n",
      "  \"created\": 1690307263,\n",
      "  \"id\": \"chatcmpl-7gGQJ8s3ljzsG0wfTtUrJN2r5V4fT\",\n",
      "  \"model\": \"gpt-4-0613\",\n",
      "  \"object\": \"chat.completion\",\n",
      "  \"usage\": {\n",
      "    \"completion_tokens\": 4,\n",
      "    \"prompt_tokens\": 280,\n",
      "    \"total_tokens\": 284\n",
      "  }\n",
      "}\n",
      " \u001b[0m Total running cost: $0.326\n",
      " \u001b[0m Prompt: [\n",
      "  {\n",
      "    \"role\": \"system\",\n",
      "    \"content\": \"Your task is to generate a value for a web form field based on the form field information and a set of constraints on the field.\\nYour decisions must be made independently without seeking user assistance or additional information.\\nFor each user prompt, you need to generate one value that satisfies the constraints while keeping in mind the nature of the input from the available information.\\nOnly generate value and refrain from explaining your answers.\\nOnly generate value for the input field in question, and not the ones in the relevant information section.\\nWhen generating values, generate the ones that actually conform to the constraints, and refrain from altering real-world values to fit the constraint, e.g. do not change the value \\\"New York\\\" to \\\"NewYork\\\" to satisfy the constraint not to contain whitespace.\"\n",
      "  },\n",
      "  {\n",
      "    \"role\": \"user\",\n",
      "    \"content\": \"The following are all the labels in the form, which provide context for the functionality of the form:\\n    \\n    We are generating filling values for the following input field:\\n    input: <input name=\\\"streetAddress1\\\" type=\\\"text\\\" value=\\\"\\\"/>\\n    The constraints on this input field are:\\n    input field should be non-empty\\ninput field's length should be greater than 5 characters\\ninput field's length should be less than 100 characters\\ninput field should have whitespace characters\\ninput field should not have special characters\\ninput field should not contain # character\"\n",
      "  }\n",
      "]\n",
      " \u001b[0m Response: {\n",
      "  \"choices\": [\n",
      "    {\n",
      "      \"finish_reason\": \"stop\",\n",
      "      \"index\": 0,\n",
      "      \"message\": {\n",
      "        \"content\": \"123 Main Street\",\n",
      "        \"role\": \"assistant\"\n",
      "      }\n",
      "    }\n",
      "  ],\n",
      "  \"created\": 1690307263,\n",
      "  \"id\": \"chatcmpl-7gGQJBWCHHVxJnAP7vzLkyWs2q151\",\n",
      "  \"model\": \"gpt-4-0613\",\n",
      "  \"object\": \"chat.completion\",\n",
      "  \"usage\": {\n",
      "    \"completion_tokens\": 3,\n",
      "    \"prompt_tokens\": 276,\n",
      "    \"total_tokens\": 279\n",
      "  }\n",
      "}\n",
      " \u001b[0m Total running cost: $0.334\n",
      " \u001b[0m Prompt: [\n",
      "  {\n",
      "    \"role\": \"system\",\n",
      "    \"content\": \"Your task is to generate a value for a web form field based on the form field information and a set of constraints on the field.\\nYour decisions must be made independently without seeking user assistance or additional information.\\nFor each user prompt, you need to generate one value that satisfies the constraints while keeping in mind the nature of the input from the available information.\\nOnly generate value and refrain from explaining your answers.\\nOnly generate value for the input field in question, and not the ones in the relevant information section.\\nWhen generating values, generate the ones that actually conform to the constraints, and refrain from altering real-world values to fit the constraint, e.g. do not change the value \\\"New York\\\" to \\\"NewYork\\\" to satisfy the constraint not to contain whitespace.\"\n",
      "  },\n",
      "  {\n",
      "    \"role\": \"user\",\n",
      "    \"content\": \"The following are all the labels in the form, which provide context for the functionality of the form:\\n    \\n    We are generating filling values for the following input field:\\n    input: <input name=\\\"streetAddress2\\\" type=\\\"text\\\" value=\\\"\\\"/>\\n    The constraints on this input field are:\\n    input field should be non-empty\\ninput field's length should be less than or equal to 100 characters\\ninput field should have whitespace characters\\ninput field should not have special characters\"\n",
      "  }\n",
      "]\n",
      " \u001b[0m Response: {\n",
      "  \"choices\": [\n",
      "    {\n",
      "      \"finish_reason\": \"stop\",\n",
      "      \"index\": 0,\n",
      "      \"message\": {\n",
      "        \"content\": \"123 Main Street Apartment 4B\",\n",
      "        \"role\": \"assistant\"\n",
      "      }\n",
      "    }\n",
      "  ],\n",
      "  \"created\": 1690307264,\n",
      "  \"id\": \"chatcmpl-7gGQKLbffqsKz8zsgQLyYLEZ1S7ta\",\n",
      "  \"model\": \"gpt-4-0613\",\n",
      "  \"object\": \"chat.completion\",\n",
      "  \"usage\": {\n",
      "    \"completion_tokens\": 7,\n",
      "    \"prompt_tokens\": 259,\n",
      "    \"total_tokens\": 266\n",
      "  }\n",
      "}\n",
      " \u001b[0m Total running cost: $0.342\n",
      " \u001b[0m Prompt: [\n",
      "  {\n",
      "    \"role\": \"system\",\n",
      "    \"content\": \"Your task is to generate a value for a web form field based on the form field information and a set of constraints on the field.\\nYour decisions must be made independently without seeking user assistance or additional information.\\nFor each user prompt, you need to generate one value that satisfies the constraints while keeping in mind the nature of the input from the available information.\\nOnly generate value and refrain from explaining your answers.\\nOnly generate value for the input field in question, and not the ones in the relevant information section.\\nWhen generating values, generate the ones that actually conform to the constraints, and refrain from altering real-world values to fit the constraint, e.g. do not change the value \\\"New York\\\" to \\\"NewYork\\\" to satisfy the constraint not to contain whitespace.\"\n",
      "  },\n",
      "  {\n",
      "    \"role\": \"user\",\n",
      "    \"content\": \"The following are all the labels in the form, which provide context for the functionality of the form:\\n    \\n    We are generating filling values for the following input field:\\n    input: <input name=\\\"city\\\" type=\\\"text\\\" value=\\\"\\\"/>\\n    The constraints on this input field are:\\n    input field should be non-empty\\ninput field should be alphabetic\\ninput field's length should be greater than 2 characters\\ninput field's length should be less than 50 characters\"\n",
      "  }\n",
      "]\n"
     ]
    },
    {
     "name": "stdout",
     "output_type": "stream",
     "text": [
      " \u001b[0m Response: {\n",
      "  \"choices\": [\n",
      "    {\n",
      "      \"finish_reason\": \"stop\",\n",
      "      \"index\": 0,\n",
      "      \"message\": {\n",
      "        \"content\": \"Los Angeles\",\n",
      "        \"role\": \"assistant\"\n",
      "      }\n",
      "    }\n",
      "  ],\n",
      "  \"created\": 1690307266,\n",
      "  \"id\": \"chatcmpl-7gGQMzKUVUiceAUj4we50CesMAjr0\",\n",
      "  \"model\": \"gpt-4-0613\",\n",
      "  \"object\": \"chat.completion\",\n",
      "  \"usage\": {\n",
      "    \"completion_tokens\": 2,\n",
      "    \"prompt_tokens\": 258,\n",
      "    \"total_tokens\": 260\n",
      "  }\n",
      "}\n",
      " \u001b[0m Total running cost: $0.350\n",
      " \u001b[0m Prompt: [\n",
      "  {\n",
      "    \"role\": \"system\",\n",
      "    \"content\": \"Your task is to generate a value for a web form field based on the form field information and a set of constraints on the field.\\nYour decisions must be made independently without seeking user assistance or additional information.\\nFor each user prompt, you need to generate one value that satisfies the constraints while keeping in mind the nature of the input from the available information.\\nOnly generate value and refrain from explaining your answers.\\nOnly generate value for the input field in question, and not the ones in the relevant information section.\\nWhen generating values, generate the ones that actually conform to the constraints, and refrain from altering real-world values to fit the constraint, e.g. do not change the value \\\"New York\\\" to \\\"NewYork\\\" to satisfy the constraint not to contain whitespace.\"\n",
      "  },\n",
      "  {\n",
      "    \"role\": \"user\",\n",
      "    \"content\": \"The following are all the labels in the form, which provide context for the functionality of the form:\\n    \\n    We are generating filling values for the following input field:\\n    input: <input name=\\\"postalCode\\\" type=\\\"text\\\" value=\\\"\\\"/>\\n    The constraints on this input field are:\\n    input field should be numeric\\ninput field's length should be greater than or equal to 5 characters\\ninput field's length should be less than or equal to 9 characters\"\n",
      "  }\n",
      "]\n",
      " \u001b[0m Response: {\n",
      "  \"choices\": [\n",
      "    {\n",
      "      \"finish_reason\": \"stop\",\n",
      "      \"index\": 0,\n",
      "      \"message\": {\n",
      "        \"content\": \"123456789\",\n",
      "        \"role\": \"assistant\"\n",
      "      }\n",
      "    }\n",
      "  ],\n",
      "  \"created\": 1690307267,\n",
      "  \"id\": \"chatcmpl-7gGQNXLxaChBjU6f5T6ZIBVtbyUyo\",\n",
      "  \"model\": \"gpt-4-0613\",\n",
      "  \"object\": \"chat.completion\",\n",
      "  \"usage\": {\n",
      "    \"completion_tokens\": 3,\n",
      "    \"prompt_tokens\": 257,\n",
      "    \"total_tokens\": 260\n",
      "  }\n",
      "}\n",
      " \u001b[0m Total running cost: $0.358\n",
      " \u001b[0m Prompt: [\n",
      "  {\n",
      "    \"role\": \"system\",\n",
      "    \"content\": \"Your task is to generate a value for a web form field based on the form field information and a set of constraints on the field.\\nYour decisions must be made independently without seeking user assistance or additional information.\\nFor each user prompt, you need to generate one value that satisfies the constraints while keeping in mind the nature of the input from the available information.\\nOnly generate value and refrain from explaining your answers.\\nOnly generate value for the input field in question, and not the ones in the relevant information section.\\nWhen generating values, generate the ones that actually conform to the constraints, and refrain from altering real-world values to fit the constraint, e.g. do not change the value \\\"New York\\\" to \\\"NewYork\\\" to satisfy the constraint not to contain whitespace.\"\n",
      "  },\n",
      "  {\n",
      "    \"role\": \"user\",\n",
      "    \"content\": \"The following are all the labels in the form, which provide context for the functionality of the form:\\n    \\n    We are generating filling values for the following input field:\\n    input: <input id=\\\"downshift-0-input\\\" type=\\\"text\\\" value=\\\"\\\"/>\\nwith the following relevant text tags:\\n<span>Notes</span>\\n    The constraints on this input field are:\\n    input field should be non-empty\\ninput field's length should be greater than 0 characters\\ninput field's length should be less than 500 characters\"\n",
      "  }\n",
      "]\n",
      " \u001b[0m Response: {\n",
      "  \"choices\": [\n",
      "    {\n",
      "      \"finish_reason\": \"stop\",\n",
      "      \"index\": 0,\n",
      "      \"message\": {\n",
      "        \"content\": \"Meeting scheduled for next week to discuss project progress.\",\n",
      "        \"role\": \"assistant\"\n",
      "      }\n",
      "    }\n",
      "  ],\n",
      "  \"created\": 1690307268,\n",
      "  \"id\": \"chatcmpl-7gGQOwz5puNSHert92yn3KDXffWdH\",\n",
      "  \"model\": \"gpt-4-0613\",\n",
      "  \"object\": \"chat.completion\",\n",
      "  \"usage\": {\n",
      "    \"completion_tokens\": 10,\n",
      "    \"prompt_tokens\": 268,\n",
      "    \"total_tokens\": 278\n",
      "  }\n",
      "}\n",
      " \u001b[0m Total running cost: $0.367\n",
      " \u001b[0m Prompt: [\n",
      "  {\n",
      "    \"role\": \"system\",\n",
      "    \"content\": \"Your task is to generate a value for a web form field based on the form field information and a set of constraints on the field.\\nYour decisions must be made independently without seeking user assistance or additional information.\\nFor each user prompt, you need to generate one value that satisfies the constraints while keeping in mind the nature of the input from the available information.\\nOnly generate value and refrain from explaining your answers.\\nOnly generate value for the input field in question, and not the ones in the relevant information section.\\nWhen generating values, generate the ones that actually conform to the constraints, and refrain from altering real-world values to fit the constraint, e.g. do not change the value \\\"New York\\\" to \\\"NewYork\\\" to satisfy the constraint not to contain whitespace.\"\n",
      "  },\n",
      "  {\n",
      "    \"role\": \"user\",\n",
      "    \"content\": \"The following are all the labels in the form, which provide context for the functionality of the form:\\n    \\n    We are generating filling values for the following input field:\\n    input: <textarea readonly=\\\"\\\"></textarea>\\n    The constraints on this input field are:\\n    input field should be non-empty\"\n",
      "  }\n",
      "]\n",
      " \u001b[0m Response: {\n",
      "  \"choices\": [\n",
      "    {\n",
      "      \"finish_reason\": \"stop\",\n",
      "      \"index\": 0,\n",
      "      \"message\": {\n",
      "        \"content\": \"Thank you for your feedback.\",\n",
      "        \"role\": \"assistant\"\n",
      "      }\n",
      "    }\n",
      "  ],\n",
      "  \"created\": 1690307269,\n",
      "  \"id\": \"chatcmpl-7gGQPT5lKOg6dWBsfqsaey63pxiy4\",\n",
      "  \"model\": \"gpt-4-0613\",\n",
      "  \"object\": \"chat.completion\",\n",
      "  \"usage\": {\n",
      "    \"completion_tokens\": 6,\n",
      "    \"prompt_tokens\": 221,\n",
      "    \"total_tokens\": 227\n",
      "  }\n",
      "}\n",
      " \u001b[0m Total running cost: $0.374\n"
     ]
    }
   ],
   "source": [
    "value_table = generate_values_for_input_groups(input_groups, value_table)"
   ]
  },
  {
   "cell_type": "code",
   "execution_count": 16,
   "id": "36d47bdf",
   "metadata": {
    "ExecuteTime": {
     "end_time": "2023-07-25T17:47:55.518628Z",
     "start_time": "2023-07-25T17:47:52.688221Z"
    }
   },
   "outputs": [
    {
     "name": "stdout",
     "output_type": "stream",
     "text": [
      "<input></input> at y: (140, 188), x: (59, 501)\n",
      "Alexander\n",
      "<input></input> at y: (140, 188), x: (514, 956)\n",
      "Anderson\n",
      "<input></input> at y: (208, 256), x: (59, 501)\n",
      "primaryaddress@gmail.com\n",
      "<input></input> at y: (395, 443), x: (59, 501)\n",
      "Alexander\n",
      "<input></input> at y: (395, 443), x: (514, 956)\n",
      "Johnson\n",
      "<input></input> at y: (463, 511), x: (59, 501)\n",
      "Microsoft\n",
      "<input></input> at y: (463, 511), x: (514, 956)\n",
      "1234567890\n",
      "<input></input> at y: (531, 579), x: (59, 955)\n",
      "123 Main Street\n",
      "<input></input> at y: (599, 647), x: (59, 955)\n",
      "123 Main Street Apartment 4B\n",
      "<input></input> at y: (667, 715), x: (59, 501)\n",
      "Los Angeles\n",
      "<input></input> at y: (667, 715), x: (514, 956)\n",
      "123456789\n",
      "<input></input> at y: (735, 783), x: (59, 467)\n",
      "Meeting scheduled for next week to discuss project progress.\n",
      "<textarea></textarea> at y: (922, 942), x: (59, 927)\n",
      "Thank you for your feedback.\n",
      "unable to fill input //BODY/DIV[1]/MAIN[1]/DIV[1]/DIV[2]/MAIN[1]/FORM[1]/DIV[1]/DIV[2]/DIV[1]/DIV[5]/DIV[2]/DIV[3]/DIV[1]/TEXTAREA[2] Message: element not interactable\n",
      "  (Session info: chrome=114.0.5735.248)\n",
      "Stacktrace:\n",
      "0   chromedriver                        0x000000010d8816b8 chromedriver + 4937400\n",
      "1   chromedriver                        0x000000010d878b73 chromedriver + 4901747\n",
      "2   chromedriver                        0x000000010d436490 chromedriver + 435344\n",
      "3   chromedriver                        0x000000010d4737fc chromedriver + 686076\n",
      "4   chromedriver                        0x000000010d472cfd chromedriver + 683261\n",
      "5   chromedriver                        0x000000010d49e012 chromedriver + 860178\n",
      "6   chromedriver                        0x000000010d46d9c1 chromedriver + 661953\n",
      "7   chromedriver                        0x000000010d49e1ce chromedriver + 860622\n",
      "8   chromedriver                        0x000000010d4b8e76 chromedriver + 970358\n",
      "9   chromedriver                        0x000000010d49dde3 chromedriver + 859619\n",
      "10  chromedriver                        0x000000010d46bd7f chromedriver + 654719\n",
      "11  chromedriver                        0x000000010d46d0de chromedriver + 659678\n",
      "12  chromedriver                        0x000000010d83d2ad chromedriver + 4657837\n",
      "13  chromedriver                        0x000000010d842130 chromedriver + 4677936\n",
      "14  chromedriver                        0x000000010d848def chromedriver + 4705775\n",
      "15  chromedriver                        0x000000010d84305a chromedriver + 4681818\n",
      "16  chromedriver                        0x000000010d81592c chromedriver + 4495660\n",
      "17  chromedriver                        0x000000010d860838 chromedriver + 4802616\n",
      "18  chromedriver                        0x000000010d8609b7 chromedriver + 4802999\n",
      "19  chromedriver                        0x000000010d87199f chromedriver + 4872607\n",
      "20  libsystem_pthread.dylib             0x00007ff808a801d3 _pthread_start + 125\n",
      "21  libsystem_pthread.dylib             0x00007ff808a7bbd3 thread_start + 15\n",
      "\n"
     ]
    }
   ],
   "source": [
    "fill_form_with_value_table(driver, value_table, input_groups)"
   ]
  },
  {
   "cell_type": "code",
   "execution_count": 15,
   "id": "cb570a85",
   "metadata": {
    "ExecuteTime": {
     "end_time": "2023-07-24T18:37:51.473505Z",
     "start_time": "2023-07-24T18:37:45.843548Z"
    }
   },
   "outputs": [],
   "source": [
    "submit_form(driver, input_groups=input_groups, explicit_submit=find_button())"
   ]
  },
  {
   "cell_type": "code",
   "execution_count": 16,
   "id": "ab5f52e3",
   "metadata": {
    "ExecuteTime": {
     "end_time": "2023-07-24T18:38:06.061661Z",
     "start_time": "2023-07-24T18:38:05.296231Z"
    }
   },
   "outputs": [],
   "source": [
    "new_html = driver.find_element(By.TAG_NAME, 'body').get_attribute('outerHTML')\n",
    "global_feedback = get_global_feedback(html, new_html, remove_form_children=False)"
   ]
  },
  {
   "cell_type": "code",
   "execution_count": 17,
   "id": "bbc69d1c",
   "metadata": {
    "ExecuteTime": {
     "end_time": "2023-07-24T18:38:07.293821Z",
     "start_time": "2023-07-24T18:38:07.186830Z"
    }
   },
   "outputs": [
    {
     "name": "stderr",
     "output_type": "stream",
     "text": [
      "/Users/parsaalian/Desktop/Research/webform testing project/webform-testing-code/implementation/method/ours/history.py:83: FutureWarning: The frame.append method is deprecated and will be removed from pandas in a future version. Use pandas.concat instead.\n",
      "  self.table = self.table.append({\n"
     ]
    }
   ],
   "source": [
    "history_table.add(\n",
    "    value_table.get_values_dict(),\n",
    "    'base',\n",
    "    global_feedback,\n",
    "    driver.current_url\n",
    ")"
   ]
  },
  {
   "cell_type": "markdown",
   "id": "1352b64b",
   "metadata": {},
   "source": [
    "# Feedback"
   ]
  },
  {
   "cell_type": "code",
   "execution_count": 27,
   "id": "720cade4",
   "metadata": {
    "ExecuteTime": {
     "end_time": "2023-07-21T18:11:25.018259Z",
     "start_time": "2023-07-21T18:11:24.941674Z"
    }
   },
   "outputs": [],
   "source": [
    "new_form = find_form()"
   ]
  },
  {
   "cell_type": "code",
   "execution_count": 28,
   "id": "b99a21e9",
   "metadata": {
    "ExecuteTime": {
     "end_time": "2023-07-21T18:11:40.011907Z",
     "start_time": "2023-07-21T18:11:25.958660Z"
    }
   },
   "outputs": [
    {
     "data": {
      "application/vnd.jupyter.widget-view+json": {
       "model_id": "43af84ed8d2c4210a90503c0b7014714",
       "version_major": 2,
       "version_minor": 0
      },
      "text/plain": [
       "Computing transition probabilities:   0%|          | 0/87 [00:00<?, ?it/s]"
      ]
     },
     "metadata": {},
     "output_type": "display_data"
    },
    {
     "name": "stderr",
     "output_type": "stream",
     "text": [
      "Generating walks (CPU: 1): 100%|██████████| 50/50 [00:00<00:00, 2823.12it/s]\n",
      "Generating walks (CPU: 2): 100%|██████████| 50/50 [00:00<00:00, 2465.35it/s]\n",
      "Generating walks (CPU: 3): 100%|██████████| 50/50 [00:00<00:00, 2577.59it/s]\n",
      "Generating walks (CPU: 4): 100%|██████████| 50/50 [00:00<00:00, 2584.26it/s]\n",
      "100%|███████████████████████████████████████████████████████████████████████████████████████████████████████████████████████████████| 32/32 [00:08<00:00,  3.78it/s]\n",
      "/Library/Frameworks/Python.framework/Versions/3.10/lib/python3.10/site-packages/openai/embeddings_utils.py:68: RuntimeWarning: invalid value encountered in scalar divide\n",
      "  return np.dot(a, b) / (np.linalg.norm(a) * np.linalg.norm(b))\n"
     ]
    }
   ],
   "source": [
    "new_relation_graph, new_input_groups = parse_form(\n",
    "    driver,\n",
    "    new_form,\n",
    "    prev_relation_graph=relation_graph,\n",
    "    TEXT_EMBEDDING_METHOD=TEXT_EMBEDDING_METHOD\n",
    ")"
   ]
  },
  {
   "cell_type": "code",
   "execution_count": 29,
   "id": "6b330180",
   "metadata": {
    "ExecuteTime": {
     "end_time": "2023-07-21T18:11:42.390687Z",
     "start_time": "2023-07-21T18:11:42.047367Z"
    }
   },
   "outputs": [],
   "source": [
    "global_feedback = get_global_feedback(html, new_html, remove_form_children=False)"
   ]
  },
  {
   "cell_type": "code",
   "execution_count": 30,
   "id": "8f9c2fdf",
   "metadata": {
    "ExecuteTime": {
     "end_time": "2023-07-21T18:11:42.945379Z",
     "start_time": "2023-07-21T18:11:42.855348Z"
    }
   },
   "outputs": [
    {
     "data": {
      "text/plain": [
       "[]"
      ]
     },
     "execution_count": 30,
     "metadata": {},
     "output_type": "execute_result"
    }
   ],
   "source": [
    "global_feedback"
   ]
  },
  {
   "cell_type": "code",
   "execution_count": 31,
   "id": "d68a7f52",
   "metadata": {
    "ExecuteTime": {
     "end_time": "2023-07-21T18:11:45.696518Z",
     "start_time": "2023-07-21T18:11:45.624644Z"
    }
   },
   "outputs": [],
   "source": [
    "value_table = generate_constraints_for_input_groups(\n",
    "    new_input_groups,\n",
    "    value_table,\n",
    "    global_feedback\n",
    ")"
   ]
  },
  {
   "cell_type": "code",
   "execution_count": 32,
   "id": "95ef03fa",
   "metadata": {
    "ExecuteTime": {
     "end_time": "2023-07-21T18:11:57.160296Z",
     "start_time": "2023-07-21T18:11:51.423083Z"
    }
   },
   "outputs": [
    {
     "name": "stdout",
     "output_type": "stream",
     "text": [
      " \u001b[0m Prompt: [\n",
      "  {\n",
      "    \"role\": \"system\",\n",
      "    \"content\": \"Your task is to generate a value for a web form field based on the form field information and a set of constraints on the field.\\nYour decisions must be made independently without seeking user assistance or additional information.\\nFor each user prompt, you need to generate one value that satisfies the constraints while keeping in mind the nature of the input from the available information.\\nOnly generate value and refrain from explaining your answers.\\nOnly generate value for the input field in question, and not the ones in the relevant information section.\\nWhen generating values, generate the ones that actually conform to the constraints, and refrain from altering real-world values to fit the constraint, e.g. do not change the value \\\"New York\\\" to \\\"NewYork\\\" to satisfy the constraint not to contain whitespace.\"\n",
      "  },\n",
      "  {\n",
      "    \"role\": \"user\",\n",
      "    \"content\": \"The following are all the labels in the form, which provide context for the functionality of the form:\\n    From*, To*,  This is a residential address. ,  Weight (lb.)*,  Length (in.)*,  Width (in.)*,  Height (in.)*\\n    We are generating filling values for the following input field:\\n    input: <input id=\\\"ups-ship-from\\\" name=\\\"shipFromAdd\\\" required=\\\"\\\" type=\\\"text\\\"/>\\nwith label: From*\\nwith the following relevant text tags:\\n<span>From Address must have a valid postal code.</span>\\n    The constraints on this input field are:\\n    input field should be non-empty\\ninput field's length should be greater than 5 characters\\ninput field's length should be less than 100 characters\\ninput field should have whitespace characters\\ninput field should contain - character\"\n",
      "  }\n",
      "]\n",
      " \u001b[0m Response: {\n",
      "  \"choices\": [\n",
      "    {\n",
      "      \"finish_reason\": \"stop\",\n",
      "      \"index\": 0,\n",
      "      \"message\": {\n",
      "        \"content\": \"123-456 Main Street, Los Angeles\",\n",
      "        \"role\": \"assistant\"\n",
      "      }\n",
      "    }\n",
      "  ],\n",
      "  \"created\": 1689963111,\n",
      "  \"id\": \"chatcmpl-7eotT5ZKroYTuSvMBUnQASjXt20NJ\",\n",
      "  \"model\": \"gpt-4-0613\",\n",
      "  \"object\": \"chat.completion\",\n",
      "  \"usage\": {\n",
      "    \"completion_tokens\": 8,\n",
      "    \"prompt_tokens\": 339,\n",
      "    \"total_tokens\": 347\n",
      "  }\n",
      "}\n",
      " \u001b[0m Total running cost: $0.331\n",
      " \u001b[0m Prompt: [\n",
      "  {\n",
      "    \"role\": \"system\",\n",
      "    \"content\": \"Your task is to generate a value for a web form field based on the form field information and a set of constraints on the field.\\nYour decisions must be made independently without seeking user assistance or additional information.\\nFor each user prompt, you need to generate one value that satisfies the constraints while keeping in mind the nature of the input from the available information.\\nOnly generate value and refrain from explaining your answers.\\nOnly generate value for the input field in question, and not the ones in the relevant information section.\\nWhen generating values, generate the ones that actually conform to the constraints, and refrain from altering real-world values to fit the constraint, e.g. do not change the value \\\"New York\\\" to \\\"NewYork\\\" to satisfy the constraint not to contain whitespace.\"\n",
      "  },\n",
      "  {\n",
      "    \"role\": \"user\",\n",
      "    \"content\": \"The following are all the labels in the form, which provide context for the functionality of the form:\\n    From*, To*,  This is a residential address. ,  Weight (lb.)*,  Length (in.)*,  Width (in.)*,  Height (in.)*\\n    We are generating filling values for the following input field:\\n    input: <input id=\\\"ups-ship-to\\\" name=\\\"shipToAdd\\\" required=\\\"\\\" type=\\\"text\\\"/>\\nwith label: To*\\nwith the following relevant text tags:\\n<p>*Required Fields</p>\\n<span>To Address must have a valid ZIP code.</span>\\n    The constraints on this input field are:\\n    input field should be non-empty\\ninput field's length should be greater than 0 characters\\ninput field should not have special characters\\ninput field should not have whitespace characters\\ninput field should be numeric\\ninput field's length should be equal to 5 characters\"\n",
      "  }\n",
      "]\n",
      " \u001b[0m Response: {\n",
      "  \"choices\": [\n",
      "    {\n",
      "      \"finish_reason\": \"stop\",\n",
      "      \"index\": 0,\n",
      "      \"message\": {\n",
      "        \"content\": \"90210\",\n",
      "        \"role\": \"assistant\"\n",
      "      }\n",
      "    }\n",
      "  ],\n",
      "  \"created\": 1689963112,\n",
      "  \"id\": \"chatcmpl-7eotUoBE2UoBhT7uh3m0D1EWMHz0W\",\n",
      "  \"model\": \"gpt-4-0613\",\n",
      "  \"object\": \"chat.completion\",\n",
      "  \"usage\": {\n",
      "    \"completion_tokens\": 2,\n",
      "    \"prompt_tokens\": 352,\n",
      "    \"total_tokens\": 354\n",
      "  }\n",
      "}\n",
      " \u001b[0m Total running cost: $0.342\n",
      " \u001b[0m Prompt: [\n",
      "  {\n",
      "    \"role\": \"system\",\n",
      "    \"content\": \"Your task is to generate a value for a web form field based on the form field information and a set of constraints on the field.\\nYour decisions must be made independently without seeking user assistance or additional information.\\nFor each user prompt, you need to generate one value that satisfies the constraints while keeping in mind the nature of the input from the available information.\\nOnly generate value and refrain from explaining your answers.\\nOnly generate value for the input field in question, and not the ones in the relevant information section.\\nWhen generating values, generate the ones that actually conform to the constraints, and refrain from altering real-world values to fit the constraint, e.g. do not change the value \\\"New York\\\" to \\\"NewYork\\\" to satisfy the constraint not to contain whitespace.\"\n",
      "  },\n",
      "  {\n",
      "    \"role\": \"user\",\n",
      "    \"content\": \"The following are all the labels in the form, which provide context for the functionality of the form:\\n    From*, To*,  This is a residential address. ,  Weight (lb.)*,  Length (in.)*,  Width (in.)*,  Height (in.)*\\n    We are generating filling values for the following input field:\\n    input: <input id=\\\"checkbox-terms-condition\\\" name=\\\"terms-condition\\\" type=\\\"checkbox\\\" value=\\\"true\\\"/>\\nwith label: This is a residential address.\\n    The constraints on this input field are:\\n    input field should be equal to true\"\n",
      "  }\n",
      "]\n",
      " \u001b[0m Response: {\n",
      "  \"choices\": [\n",
      "    {\n",
      "      \"finish_reason\": \"stop\",\n",
      "      \"index\": 0,\n",
      "      \"message\": {\n",
      "        \"content\": \"true\",\n",
      "        \"role\": \"assistant\"\n",
      "      }\n",
      "    }\n",
      "  ],\n",
      "  \"created\": 1689963113,\n",
      "  \"id\": \"chatcmpl-7eotVEBZfTGUYLfYrltJEmHiXqduS\",\n",
      "  \"model\": \"gpt-4-0613\",\n",
      "  \"object\": \"chat.completion\",\n",
      "  \"usage\": {\n",
      "    \"completion_tokens\": 1,\n",
      "    \"prompt_tokens\": 287,\n",
      "    \"total_tokens\": 288\n",
      "  }\n",
      "}\n",
      " \u001b[0m Total running cost: $0.351\n",
      " \u001b[0m Prompt: [\n",
      "  {\n",
      "    \"role\": \"system\",\n",
      "    \"content\": \"Your task is to generate a value for a web form field based on the form field information and a set of constraints on the field.\\nYour decisions must be made independently without seeking user assistance or additional information.\\nFor each user prompt, you need to generate one value that satisfies the constraints while keeping in mind the nature of the input from the available information.\\nOnly generate value and refrain from explaining your answers.\\nOnly generate value for the input field in question, and not the ones in the relevant information section.\\nWhen generating values, generate the ones that actually conform to the constraints, and refrain from altering real-world values to fit the constraint, e.g. do not change the value \\\"New York\\\" to \\\"NewYork\\\" to satisfy the constraint not to contain whitespace.\"\n",
      "  },\n",
      "  {\n",
      "    \"role\": \"user\",\n",
      "    \"content\": \"The following are all the labels in the form, which provide context for the functionality of the form:\\n    From*, To*,  This is a residential address. ,  Weight (lb.)*,  Length (in.)*,  Width (in.)*,  Height (in.)*\\n    We are generating filling values for the following input field:\\n    input: <input id=\\\"ups-ship-weight\\\" name=\\\"shipWeight\\\" required=\\\"\\\" type=\\\"text\\\"/>\\nwith label: Weight\\nwith the following relevant text tags:\\n<h2>Package Information</h2>\\n    The constraints on this input field are:\\n    input field should be numeric\\ninput field should be non-empty\\ninput field should be greater than 0\"\n",
      "  }\n",
      "]\n",
      " \u001b[0m Response: {\n",
      "  \"choices\": [\n",
      "    {\n",
      "      \"finish_reason\": \"stop\",\n",
      "      \"index\": 0,\n",
      "      \"message\": {\n",
      "        \"content\": \"5.2\",\n",
      "        \"role\": \"assistant\"\n",
      "      }\n",
      "    }\n",
      "  ],\n",
      "  \"created\": 1689963114,\n",
      "  \"id\": \"chatcmpl-7eotW4XWCamLdIEoFA8yLsqVup0hH\",\n",
      "  \"model\": \"gpt-4-0613\",\n",
      "  \"object\": \"chat.completion\",\n",
      "  \"usage\": {\n",
      "    \"completion_tokens\": 3,\n",
      "    \"prompt_tokens\": 311,\n",
      "    \"total_tokens\": 314\n",
      "  }\n",
      "}\n",
      " \u001b[0m Total running cost: $0.360\n",
      " \u001b[0m Prompt: [\n",
      "  {\n",
      "    \"role\": \"system\",\n",
      "    \"content\": \"Your task is to generate a value for a web form field based on the form field information and a set of constraints on the field.\\nYour decisions must be made independently without seeking user assistance or additional information.\\nFor each user prompt, you need to generate one value that satisfies the constraints while keeping in mind the nature of the input from the available information.\\nOnly generate value and refrain from explaining your answers.\\nOnly generate value for the input field in question, and not the ones in the relevant information section.\\nWhen generating values, generate the ones that actually conform to the constraints, and refrain from altering real-world values to fit the constraint, e.g. do not change the value \\\"New York\\\" to \\\"NewYork\\\" to satisfy the constraint not to contain whitespace.\"\n",
      "  },\n",
      "  {\n",
      "    \"role\": \"user\",\n",
      "    \"content\": \"The following are all the labels in the form, which provide context for the functionality of the form:\\n    From*, To*,  This is a residential address. ,  Weight (lb.)*,  Length (in.)*,  Width (in.)*,  Height (in.)*\\n    We are generating filling values for the following input field:\\n    input: <input id=\\\"ups-ship-length\\\" name=\\\"shipLength\\\" required=\\\"\\\" type=\\\"text\\\"/>\\nwith label: Length\\n    The constraints on this input field are:\\n    input field should be non-empty\\ninput field should be numeric\\ninput field should be greater than 0\"\n",
      "  }\n",
      "]\n"
     ]
    },
    {
     "name": "stdout",
     "output_type": "stream",
     "text": [
      " \u001b[0m Response: {\n",
      "  \"choices\": [\n",
      "    {\n",
      "      \"finish_reason\": \"stop\",\n",
      "      \"index\": 0,\n",
      "      \"message\": {\n",
      "        \"content\": \"12\",\n",
      "        \"role\": \"assistant\"\n",
      "      }\n",
      "    }\n",
      "  ],\n",
      "  \"created\": 1689963115,\n",
      "  \"id\": \"chatcmpl-7eotXadZLKoGegZ5kGQIPykZt1jzX\",\n",
      "  \"model\": \"gpt-4-0613\",\n",
      "  \"object\": \"chat.completion\",\n",
      "  \"usage\": {\n",
      "    \"completion_tokens\": 1,\n",
      "    \"prompt_tokens\": 295,\n",
      "    \"total_tokens\": 296\n",
      "  }\n",
      "}\n",
      " \u001b[0m Total running cost: $0.369\n",
      " \u001b[0m Prompt: [\n",
      "  {\n",
      "    \"role\": \"system\",\n",
      "    \"content\": \"Your task is to generate a value for a web form field based on the form field information and a set of constraints on the field.\\nYour decisions must be made independently without seeking user assistance or additional information.\\nFor each user prompt, you need to generate one value that satisfies the constraints while keeping in mind the nature of the input from the available information.\\nOnly generate value and refrain from explaining your answers.\\nOnly generate value for the input field in question, and not the ones in the relevant information section.\\nWhen generating values, generate the ones that actually conform to the constraints, and refrain from altering real-world values to fit the constraint, e.g. do not change the value \\\"New York\\\" to \\\"NewYork\\\" to satisfy the constraint not to contain whitespace.\"\n",
      "  },\n",
      "  {\n",
      "    \"role\": \"user\",\n",
      "    \"content\": \"The following are all the labels in the form, which provide context for the functionality of the form:\\n    From*, To*,  This is a residential address. ,  Weight (lb.)*,  Length (in.)*,  Width (in.)*,  Height (in.)*\\n    We are generating filling values for the following input field:\\n    input: <input id=\\\"ups-ship-width\\\" name=\\\"shipWidth\\\" required=\\\"\\\" type=\\\"text\\\"/>\\nwith label: Width\\n    The constraints on this input field are:\\n    input field should be numeric\\ninput field should be non-empty\\ninput field should be greater than 0\"\n",
      "  }\n",
      "]\n",
      " \u001b[0m Response: {\n",
      "  \"choices\": [\n",
      "    {\n",
      "      \"finish_reason\": \"stop\",\n",
      "      \"index\": 0,\n",
      "      \"message\": {\n",
      "        \"content\": \"15\",\n",
      "        \"role\": \"assistant\"\n",
      "      }\n",
      "    }\n",
      "  ],\n",
      "  \"created\": 1689963116,\n",
      "  \"id\": \"chatcmpl-7eotYxu6EUQrlQelC8D6v97aOXR4A\",\n",
      "  \"model\": \"gpt-4-0613\",\n",
      "  \"object\": \"chat.completion\",\n",
      "  \"usage\": {\n",
      "    \"completion_tokens\": 1,\n",
      "    \"prompt_tokens\": 295,\n",
      "    \"total_tokens\": 296\n",
      "  }\n",
      "}\n",
      " \u001b[0m Total running cost: $0.378\n",
      " \u001b[0m Prompt: [\n",
      "  {\n",
      "    \"role\": \"system\",\n",
      "    \"content\": \"Your task is to generate a value for a web form field based on the form field information and a set of constraints on the field.\\nYour decisions must be made independently without seeking user assistance or additional information.\\nFor each user prompt, you need to generate one value that satisfies the constraints while keeping in mind the nature of the input from the available information.\\nOnly generate value and refrain from explaining your answers.\\nOnly generate value for the input field in question, and not the ones in the relevant information section.\\nWhen generating values, generate the ones that actually conform to the constraints, and refrain from altering real-world values to fit the constraint, e.g. do not change the value \\\"New York\\\" to \\\"NewYork\\\" to satisfy the constraint not to contain whitespace.\"\n",
      "  },\n",
      "  {\n",
      "    \"role\": \"user\",\n",
      "    \"content\": \"The following are all the labels in the form, which provide context for the functionality of the form:\\n    From*, To*,  This is a residential address. ,  Weight (lb.)*,  Length (in.)*,  Width (in.)*,  Height (in.)*\\n    We are generating filling values for the following input field:\\n    input: <input id=\\\"ups-ship-height\\\" name=\\\"shipHeight\\\" required=\\\"\\\" type=\\\"text\\\"/>\\nwith label: Height\\n    The constraints on this input field are:\\n    input field should be numeric\\ninput field should be non-empty\\ninput field should be greater than 0\"\n",
      "  }\n",
      "]\n",
      " \u001b[0m Response: {\n",
      "  \"choices\": [\n",
      "    {\n",
      "      \"finish_reason\": \"stop\",\n",
      "      \"index\": 0,\n",
      "      \"message\": {\n",
      "        \"content\": \"12\",\n",
      "        \"role\": \"assistant\"\n",
      "      }\n",
      "    }\n",
      "  ],\n",
      "  \"created\": 1689963116,\n",
      "  \"id\": \"chatcmpl-7eotY0au369rfWvn2RWxjE87cVeZt\",\n",
      "  \"model\": \"gpt-4-0613\",\n",
      "  \"object\": \"chat.completion\",\n",
      "  \"usage\": {\n",
      "    \"completion_tokens\": 1,\n",
      "    \"prompt_tokens\": 295,\n",
      "    \"total_tokens\": 296\n",
      "  }\n",
      "}\n",
      " \u001b[0m Total running cost: $0.387\n"
     ]
    }
   ],
   "source": [
    "value_table = generate_values_for_input_groups(new_input_groups, value_table)"
   ]
  },
  {
   "cell_type": "code",
   "execution_count": 33,
   "id": "5ff74aeb",
   "metadata": {
    "ExecuteTime": {
     "end_time": "2023-07-21T18:12:21.608718Z",
     "start_time": "2023-07-21T18:12:21.033292Z"
    }
   },
   "outputs": [
    {
     "name": "stdout",
     "output_type": "stream",
     "text": [
      "<input></input> at y: (464, 518), x: (185, 752)\n",
      "123-456 Main Street, Los Angeles\n",
      "<input></input> at y: (464, 518), x: (784, 1351)\n",
      "90210\n",
      "<input>value is true</input> at y: (535, 548), x: (783, 796)\n",
      "true\n",
      "<input></input> at y: (628, 682), x: (185, 353)\n",
      "5.2\n",
      "<input></input> at y: (628, 682), x: (385, 553)\n",
      "12\n",
      "<input></input> at y: (628, 682), x: (584, 752)\n",
      "15\n",
      "<input></input> at y: (628, 682), x: (784, 952)\n",
      "12\n"
     ]
    }
   ],
   "source": [
    "fill_form_with_value_table(driver, value_table, new_input_groups)"
   ]
  },
  {
   "cell_type": "code",
   "execution_count": 34,
   "id": "d655ee0a",
   "metadata": {
    "ExecuteTime": {
     "end_time": "2023-07-21T18:12:27.416293Z",
     "start_time": "2023-07-21T18:12:27.343987Z"
    }
   },
   "outputs": [],
   "source": [
    "submit_form(driver, input_groups=new_input_groups, explicit_submit=find_button)"
   ]
  },
  {
   "cell_type": "code",
   "execution_count": 35,
   "id": "77d3adce",
   "metadata": {
    "ExecuteTime": {
     "end_time": "2023-07-21T18:12:28.324253Z",
     "start_time": "2023-07-21T18:12:27.831862Z"
    }
   },
   "outputs": [
    {
     "name": "stderr",
     "output_type": "stream",
     "text": [
      "/Users/parsaalian/Desktop/Research/webform testing project/webform-testing-code/implementation/method/ours/history.py:83: FutureWarning: The frame.append method is deprecated and will be removed from pandas in a future version. Use pandas.concat instead.\n",
      "  self.table = self.table.append({\n"
     ]
    }
   ],
   "source": [
    "new_html = driver.find_element(By.TAG_NAME, 'body').get_attribute('outerHTML')\n",
    "global_feedback = get_global_feedback(html, new_html, remove_form_children=False)\n",
    "\n",
    "history_table.add(\n",
    "    value_table.get_values_dict(),\n",
    "    'base',\n",
    "    global_feedback,\n",
    "    driver.current_url\n",
    ")"
   ]
  },
  {
   "cell_type": "markdown",
   "id": "cc38298f",
   "metadata": {},
   "source": [
    "# Constraint Negation"
   ]
  },
  {
   "cell_type": "code",
   "execution_count": 18,
   "id": "bc5a5244",
   "metadata": {
    "ExecuteTime": {
     "end_time": "2023-07-24T18:38:12.243960Z",
     "start_time": "2023-07-24T18:38:12.146785Z"
    }
   },
   "outputs": [],
   "source": [
    "form_context = get_form_context(input_groups)"
   ]
  },
  {
   "cell_type": "code",
   "execution_count": 19,
   "id": "f6d20185",
   "metadata": {
    "ExecuteTime": {
     "end_time": "2023-07-24T18:38:13.460480Z",
     "start_time": "2023-07-24T18:38:13.365280Z"
    }
   },
   "outputs": [],
   "source": [
    "# history_table.table = history_table.table[:1]"
   ]
  },
  {
   "cell_type": "code",
   "execution_count": 20,
   "id": "3bf4fe7c",
   "metadata": {
    "ExecuteTime": {
     "end_time": "2023-07-24T18:39:06.035312Z",
     "start_time": "2023-07-24T18:38:14.564206Z"
    }
   },
   "outputs": [
    {
     "name": "stdout",
     "output_type": "stream",
     "text": [
      " \u001b[0m Prompt: [\n",
      "  {\n",
      "    \"role\": \"system\",\n",
      "    \"content\": \"Your task is to generate a value for a web form field based on the form field information and a set of constraints on the field.\\nYour decisions must be made independently without seeking user assistance or additional information.\\nFor each user prompt, you need to generate one value that satisfies the constraints while keeping in mind the nature of the input from the available information.\\nOnly generate value and refrain from explaining your answers.\\nOnly generate value for the input field in question, and not the ones in the relevant information section.\\nWhen generating values, generate the ones that actually conform to the constraints, and refrain from altering real-world values to fit the constraint, e.g. do not change the value \\\"New York\\\" to \\\"NewYork\\\" to satisfy the constraint not to contain whitespace.\"\n",
      "  },\n",
      "  {\n",
      "    \"role\": \"user\",\n",
      "    \"content\": \"The following are all the labels in the form, which provide context for the functionality of the form:\\n    \\n    From\\n(Required)\\n, \\n    To\\u00a0\\n(Required)\\n\\n    We are generating filling values for the following input field:\\n    input: <input id=\\\"from\\\" name=\\\"plan[from]\\\" placeholder=\\\"Enter a location\\\" type=\\\"text\\\" value=\\\"\\\"/>\\nwith label: From\\n(Required)\\nwith the following relevant text tags:\\n<span>A</span>\\n<div>www.mbta.com needs permission to use your location.\\n      Please update your browser's settings or refresh the page and try again.</div>\\n    The constraints on this input field are:\\n    input field value should be invalid\"\n",
      "  }\n",
      "]\n",
      " \u001b[0m Response: {\n",
      "  \"choices\": [\n",
      "    {\n",
      "      \"finish_reason\": \"stop\",\n",
      "      \"index\": 0,\n",
      "      \"message\": {\n",
      "        \"content\": \"Mars\",\n",
      "        \"role\": \"assistant\"\n",
      "      }\n",
      "    }\n",
      "  ],\n",
      "  \"created\": 1690223897,\n",
      "  \"id\": \"chatcmpl-7fujhUpddv6KY8mx0yTQ27nFLTL7o\",\n",
      "  \"model\": \"gpt-4-0613\",\n",
      "  \"object\": \"chat.completion\",\n",
      "  \"usage\": {\n",
      "    \"completion_tokens\": 2,\n",
      "    \"prompt_tokens\": 302,\n",
      "    \"total_tokens\": 304\n",
      "  }\n",
      "}\n",
      " \u001b[0m Total running cost: $0.068\n",
      "<input>Enter a location</input> at y: (272, 304), x: (263, 717)\n",
      "Mars\n",
      "<input>Enter a location</input> at y: (272, 304), x: (825, 1281)\n",
      "New York\n",
      "0\n",
      "1\n",
      "[]\n"
     ]
    },
    {
     "name": "stderr",
     "output_type": "stream",
     "text": [
      "/Users/parsaalian/Desktop/Research/webform testing project/webform-testing-code/implementation/method/ours/history.py:83: FutureWarning: The frame.append method is deprecated and will be removed from pandas in a future version. Use pandas.concat instead.\n",
      "  self.table = self.table.append({\n"
     ]
    },
    {
     "name": "stdout",
     "output_type": "stream",
     "text": [
      " \u001b[0m Prompt: [\n",
      "  {\n",
      "    \"role\": \"system\",\n",
      "    \"content\": \"Your task is to generate a value for a web form field based on the form field information and a set of constraints on the field.\\nYour decisions must be made independently without seeking user assistance or additional information.\\nFor each user prompt, you need to generate one value that satisfies the constraints while keeping in mind the nature of the input from the available information.\\nOnly generate value and refrain from explaining your answers.\\nOnly generate value for the input field in question, and not the ones in the relevant information section.\\nWhen generating values, generate the ones that actually conform to the constraints, and refrain from altering real-world values to fit the constraint, e.g. do not change the value \\\"New York\\\" to \\\"NewYork\\\" to satisfy the constraint not to contain whitespace.\"\n",
      "  },\n",
      "  {\n",
      "    \"role\": \"user\",\n",
      "    \"content\": \"The following are all the labels in the form, which provide context for the functionality of the form:\\n    \\n    From\\n(Required)\\n, \\n    To\\u00a0\\n(Required)\\n\\n    We are generating filling values for the following input field:\\n    input: <input id=\\\"from\\\" name=\\\"plan[from]\\\" placeholder=\\\"Enter a location\\\" type=\\\"text\\\" value=\\\"\\\"/>\\nwith label: From\\n(Required)\\nwith the following relevant text tags:\\n<span>A</span>\\n<div>www.mbta.com needs permission to use your location.\\n      Please update your browser's settings or refresh the page and try again.</div>\\n    The constraints on this input field are:\\n    input field should be empty\"\n",
      "  }\n",
      "]\n",
      " \u001b[0m Response: {\n",
      "  \"choices\": [\n",
      "    {\n",
      "      \"finish_reason\": \"stop\",\n",
      "      \"index\": 0,\n",
      "      \"message\": {\n",
      "        \"content\": \"\",\n",
      "        \"role\": \"assistant\"\n",
      "      }\n",
      "    }\n",
      "  ],\n",
      "  \"created\": 1690223908,\n",
      "  \"id\": \"chatcmpl-7fujsEiGlnHtune5Ca5JldmEC8rh4\",\n",
      "  \"model\": \"gpt-4-0613\",\n",
      "  \"object\": \"chat.completion\",\n",
      "  \"usage\": {\n",
      "    \"completion_tokens\": 0,\n",
      "    \"prompt_tokens\": 301,\n",
      "    \"total_tokens\": 301\n",
      "  }\n",
      "}\n",
      " \u001b[0m Total running cost: $0.077\n",
      "<input>Enter a location</input> at y: (272, 304), x: (263, 717)\n",
      "\n",
      "<input>Enter a location</input> at y: (272, 304), x: (825, 1281)\n",
      "New York\n",
      "0\n",
      "1\n",
      "2\n",
      "3\n",
      "[]\n"
     ]
    },
    {
     "name": "stderr",
     "output_type": "stream",
     "text": [
      "/Users/parsaalian/Desktop/Research/webform testing project/webform-testing-code/implementation/method/ours/history.py:83: FutureWarning: The frame.append method is deprecated and will be removed from pandas in a future version. Use pandas.concat instead.\n",
      "  self.table = self.table.append({\n"
     ]
    },
    {
     "name": "stdout",
     "output_type": "stream",
     "text": [
      " \u001b[0m Prompt: [\n",
      "  {\n",
      "    \"role\": \"system\",\n",
      "    \"content\": \"Your task is to generate a value for a web form field based on the form field information and a set of constraints on the field.\\nYour decisions must be made independently without seeking user assistance or additional information.\\nFor each user prompt, you need to generate one value that satisfies the constraints while keeping in mind the nature of the input from the available information.\\nOnly generate value and refrain from explaining your answers.\\nOnly generate value for the input field in question, and not the ones in the relevant information section.\\nWhen generating values, generate the ones that actually conform to the constraints, and refrain from altering real-world values to fit the constraint, e.g. do not change the value \\\"New York\\\" to \\\"NewYork\\\" to satisfy the constraint not to contain whitespace.\"\n",
      "  },\n",
      "  {\n",
      "    \"role\": \"user\",\n",
      "    \"content\": \"The following are all the labels in the form, which provide context for the functionality of the form:\\n    \\n    From\\n(Required)\\n, \\n    To\\u00a0\\n(Required)\\n\\n    We are generating filling values for the following input field:\\n    input: <input id=\\\"to\\\" name=\\\"plan[to]\\\" placeholder=\\\"Enter a location\\\" type=\\\"text\\\" value=\\\"\\\"/>\\nwith label: To\\u00a0\\n(Required)\\nwith the following relevant text tags:\\n<span>B</span>\\n    The constraints on this input field are:\\n    input field value should be invalid\"\n",
      "  }\n",
      "]\n",
      " \u001b[0m Response: {\n",
      "  \"choices\": [\n",
      "    {\n",
      "      \"finish_reason\": \"stop\",\n",
      "      \"index\": 0,\n",
      "      \"message\": {\n",
      "        \"content\": \"Mars\",\n",
      "        \"role\": \"assistant\"\n",
      "      }\n",
      "    }\n",
      "  ],\n",
      "  \"created\": 1690223917,\n",
      "  \"id\": \"chatcmpl-7fuk1R7LOCG6cTZZXDpFYHtMQ9i06\",\n",
      "  \"model\": \"gpt-4-0613\",\n",
      "  \"object\": \"chat.completion\",\n",
      "  \"usage\": {\n",
      "    \"completion_tokens\": 2,\n",
      "    \"prompt_tokens\": 272,\n",
      "    \"total_tokens\": 274\n",
      "  }\n",
      "}\n",
      " \u001b[0m Total running cost: $0.085\n",
      "<input>Enter a location</input> at y: (272, 304), x: (263, 717)\n",
      "Boston\n",
      "<input>Enter a location</input> at y: (272, 304), x: (825, 1281)\n",
      "Mars\n",
      "0\n",
      "1\n",
      "2\n",
      "3\n",
      "[]\n"
     ]
    },
    {
     "name": "stderr",
     "output_type": "stream",
     "text": [
      "/Users/parsaalian/Desktop/Research/webform testing project/webform-testing-code/implementation/method/ours/history.py:83: FutureWarning: The frame.append method is deprecated and will be removed from pandas in a future version. Use pandas.concat instead.\n",
      "  self.table = self.table.append({\n"
     ]
    },
    {
     "name": "stdout",
     "output_type": "stream",
     "text": [
      " \u001b[0m Prompt: [\n",
      "  {\n",
      "    \"role\": \"system\",\n",
      "    \"content\": \"Your task is to generate a value for a web form field based on the form field information and a set of constraints on the field.\\nYour decisions must be made independently without seeking user assistance or additional information.\\nFor each user prompt, you need to generate one value that satisfies the constraints while keeping in mind the nature of the input from the available information.\\nOnly generate value and refrain from explaining your answers.\\nOnly generate value for the input field in question, and not the ones in the relevant information section.\\nWhen generating values, generate the ones that actually conform to the constraints, and refrain from altering real-world values to fit the constraint, e.g. do not change the value \\\"New York\\\" to \\\"NewYork\\\" to satisfy the constraint not to contain whitespace.\"\n",
      "  },\n",
      "  {\n",
      "    \"role\": \"user\",\n",
      "    \"content\": \"The following are all the labels in the form, which provide context for the functionality of the form:\\n    \\n    From\\n(Required)\\n, \\n    To\\u00a0\\n(Required)\\n\\n    We are generating filling values for the following input field:\\n    input: <input id=\\\"to\\\" name=\\\"plan[to]\\\" placeholder=\\\"Enter a location\\\" type=\\\"text\\\" value=\\\"\\\"/>\\nwith label: To\\u00a0\\n(Required)\\nwith the following relevant text tags:\\n<span>B</span>\\n    The constraints on this input field are:\\n    input field should be empty\"\n",
      "  }\n",
      "]\n",
      " \u001b[0m Response: {\n",
      "  \"choices\": [\n",
      "    {\n",
      "      \"finish_reason\": \"stop\",\n",
      "      \"index\": 0,\n",
      "      \"message\": {\n",
      "        \"content\": \"\",\n",
      "        \"role\": \"assistant\"\n",
      "      }\n",
      "    }\n",
      "  ],\n",
      "  \"created\": 1690223928,\n",
      "  \"id\": \"chatcmpl-7fukCRx3J5UQIggaXGzPWpnzM5pmX\",\n",
      "  \"model\": \"gpt-4-0613\",\n",
      "  \"object\": \"chat.completion\",\n",
      "  \"usage\": {\n",
      "    \"completion_tokens\": 0,\n",
      "    \"prompt_tokens\": 271,\n",
      "    \"total_tokens\": 271\n",
      "  }\n",
      "}\n",
      " \u001b[0m Total running cost: $0.093\n",
      "<input>Enter a location</input> at y: (272, 304), x: (263, 717)\n",
      "Boston\n",
      "<input>Enter a location</input> at y: (272, 304), x: (825, 1281)\n",
      "\n",
      "0\n",
      "1\n",
      "2\n",
      "[]\n"
     ]
    },
    {
     "name": "stderr",
     "output_type": "stream",
     "text": [
      "/Users/parsaalian/Desktop/Research/webform testing project/webform-testing-code/implementation/method/ours/history.py:83: FutureWarning: The frame.append method is deprecated and will be removed from pandas in a future version. Use pandas.concat instead.\n",
      "  self.table = self.table.append({\n"
     ]
    },
    {
     "name": "stdout",
     "output_type": "stream",
     "text": [
      " \u001b[0m Prompt: [\n",
      "  {\n",
      "    \"role\": \"system\",\n",
      "    \"content\": \"Your task is to generate a value for a web form field based on the form field information and a set of constraints on the field.\\nYour decisions must be made independently without seeking user assistance or additional information.\\nFor each user prompt, you need to generate one value that satisfies the constraints while keeping in mind the nature of the input from the available information.\\nOnly generate value and refrain from explaining your answers.\\nOnly generate value for the input field in question, and not the ones in the relevant information section.\\nWhen generating values, generate the ones that actually conform to the constraints, and refrain from altering real-world values to fit the constraint, e.g. do not change the value \\\"New York\\\" to \\\"NewYork\\\" to satisfy the constraint not to contain whitespace.\"\n",
      "  },\n",
      "  {\n",
      "    \"role\": \"user\",\n",
      "    \"content\": \"The following are all the labels in the form, which provide context for the functionality of the form:\\n    \\n    From\\n(Required)\\n, \\n    To\\u00a0\\n(Required)\\n\\n    We are generating filling values for the following input field:\\n    input: <input id=\\\"to\\\" name=\\\"plan[to]\\\" placeholder=\\\"Enter a location\\\" type=\\\"text\\\" value=\\\"\\\"/>\\nwith label: To\\u00a0\\n(Required)\\nwith the following relevant text tags:\\n<span>B</span>\\n    The constraints on this input field are:\\n    input field should be equal to field(from)\\n    The values for the fields in constraints are:\\n    field: from, value: Boston\"\n",
      "  }\n",
      "]\n",
      " \u001b[0m Response: {\n",
      "  \"choices\": [\n",
      "    {\n",
      "      \"finish_reason\": \"stop\",\n",
      "      \"index\": 0,\n",
      "      \"message\": {\n",
      "        \"content\": \"Boston\",\n",
      "        \"role\": \"assistant\"\n",
      "      }\n",
      "    }\n",
      "  ],\n",
      "  \"created\": 1690223938,\n",
      "  \"id\": \"chatcmpl-7fukMCkis1ZoTXJW5zGiimO4CGL0p\",\n",
      "  \"model\": \"gpt-4-0613\",\n",
      "  \"object\": \"chat.completion\",\n",
      "  \"usage\": {\n",
      "    \"completion_tokens\": 1,\n",
      "    \"prompt_tokens\": 293,\n",
      "    \"total_tokens\": 294\n",
      "  }\n",
      "}\n",
      " \u001b[0m Total running cost: $0.102\n",
      "<input>Enter a location</input> at y: (272, 304), x: (263, 717)\n",
      "Boston\n",
      "<input>Enter a location</input> at y: (272, 304), x: (825, 1281)\n",
      "Boston\n",
      "0\n",
      "1\n",
      "[]\n"
     ]
    },
    {
     "name": "stderr",
     "output_type": "stream",
     "text": [
      "/Users/parsaalian/Desktop/Research/webform testing project/webform-testing-code/implementation/method/ours/history.py:83: FutureWarning: The frame.append method is deprecated and will be removed from pandas in a future version. Use pandas.concat instead.\n",
      "  self.table = self.table.append({\n"
     ]
    }
   ],
   "source": [
    "get_attr = lambda x, a, d: x[a] if a in x else d\n",
    "\n",
    "for field_id, entry in value_table.entries.items():\n",
    "    input_type = get_attr(entry.input_group.node.element.attrs, 'type', 'text')\n",
    "    if input_type in ['radio', 'checkbox']:\n",
    "        continue\n",
    "    \n",
    "    for i in range(len(entry.constraints) + 1):\n",
    "        get_to_form(driver)\n",
    "        \n",
    "        value_table_copy = value_table.copy()\n",
    "    \n",
    "        if i == 0:\n",
    "            value_table_copy.entries[field_id].constraints = [Invalid()]\n",
    "        else:\n",
    "            value_table_copy.entries[field_id].constraints = [value_table.entries[field_id].constraints[i - 1].copy()]\n",
    "            value_table_copy.entries[field_id].constraints[0].flip_negative()\n",
    "\n",
    "\n",
    "        input_group = value_table_copy.entries[field_id].input_group\n",
    "\n",
    "        value_table_copy = generate_value_for_input_group(\n",
    "            input_group,\n",
    "            value_table_copy,\n",
    "            form_context=form_context\n",
    "        )\n",
    "\n",
    "        fill_form_with_value_table(driver, value_table_copy, input_groups)\n",
    "\n",
    "        try:\n",
    "            driver.find_element(By.TAG_NAME, 'body').click()\n",
    "            submit_form(driver, input_groups=input_groups, explicit_submit=find_button())\n",
    "        except:\n",
    "            pass\n",
    "        \n",
    "        time.sleep(1)\n",
    "        \n",
    "        new_html = driver.find_element(By.TAG_NAME, 'body').get_attribute('outerHTML')\n",
    "        global_feedback = get_global_feedback(html, new_html)\n",
    "        \n",
    "        print(global_feedback)\n",
    "        \n",
    "        history_table.add(\n",
    "            value_table_copy.get_values_dict(),\n",
    "            str(type(value_table_copy.entries[field_id].constraints[0])),\n",
    "            global_feedback,\n",
    "            driver.current_url\n",
    "        )\n",
    "        \n",
    "        if len(global_feedback) == 0:\n",
    "            value_table.entries[field_id].constraints[i - 1].approve()"
   ]
  },
  {
   "cell_type": "code",
   "execution_count": 21,
   "id": "b0f31929",
   "metadata": {
    "ExecuteTime": {
     "end_time": "2023-07-24T16:38:25.141441Z",
     "start_time": "2023-07-24T16:38:21.692940Z"
    }
   },
   "outputs": [],
   "source": [
    "driver.get(URL)\n",
    "time.sleep(1)\n",
    "base_text = driver.find_element(By.TAG_NAME, 'body').text"
   ]
  },
  {
   "cell_type": "code",
   "execution_count": 21,
   "id": "2a1162db",
   "metadata": {
    "ExecuteTime": {
     "end_time": "2023-07-24T18:39:13.685048Z",
     "start_time": "2023-07-24T18:39:13.578921Z"
    }
   },
   "outputs": [],
   "source": [
    "for i, v in enumerate(history_table.table['values']):\n",
    "    jv = json.loads(v)\n",
    "    for key, value in jv.items():\n",
    "        if key not in history_table.table.columns:\n",
    "            history_table.table[key] = None\n",
    "        history_table.table.loc[i, key] = value"
   ]
  },
  {
   "cell_type": "code",
   "execution_count": 22,
   "id": "5f823e3c",
   "metadata": {
    "ExecuteTime": {
     "end_time": "2023-07-24T18:39:14.924768Z",
     "start_time": "2023-07-24T18:39:14.815867Z"
    },
    "scrolled": false
   },
   "outputs": [
    {
     "data": {
      "text/html": [
       "<div>\n",
       "<style scoped>\n",
       "    .dataframe tbody tr th:only-of-type {\n",
       "        vertical-align: middle;\n",
       "    }\n",
       "\n",
       "    .dataframe tbody tr th {\n",
       "        vertical-align: top;\n",
       "    }\n",
       "\n",
       "    .dataframe thead th {\n",
       "        text-align: right;\n",
       "    }\n",
       "</style>\n",
       "<table border=\"1\" class=\"dataframe\">\n",
       "  <thead>\n",
       "    <tr style=\"text-align: right;\">\n",
       "      <th></th>\n",
       "      <th>values</th>\n",
       "      <th>variation_type</th>\n",
       "      <th>feedback</th>\n",
       "      <th>new_url</th>\n",
       "      <th>//BODY/DIV[1]/DIV[2]/MAIN[1]/DIV[1]/DIV[1]/DIV[2]/DIV[2]/DIV[1]/DIV[1]/FORM[1]/DIV[1]/DIV[1]/DIV[1]/INPUT[1]</th>\n",
       "      <th>//BODY/DIV[1]/DIV[2]/MAIN[1]/DIV[1]/DIV[1]/DIV[2]/DIV[2]/DIV[1]/DIV[1]/FORM[1]/DIV[1]/DIV[3]/DIV[1]/INPUT[1]</th>\n",
       "    </tr>\n",
       "  </thead>\n",
       "  <tbody>\n",
       "    <tr>\n",
       "      <th>0</th>\n",
       "      <td>{\"//BODY/DIV[1]/DIV[2]/MAIN[1]/DIV[1]/DIV[1]/D...</td>\n",
       "      <td>base</td>\n",
       "      <td>Trip Planner\\n\\n\\n\\n\\nNo trips available\\n    ...</td>\n",
       "      <td>https://www.mbta.com/trip-planner?_utf8=%E2%9C...</td>\n",
       "      <td>Boston</td>\n",
       "      <td>New York</td>\n",
       "    </tr>\n",
       "    <tr>\n",
       "      <th>1</th>\n",
       "      <td>{\"//BODY/DIV[1]/DIV[2]/MAIN[1]/DIV[1]/DIV[1]/D...</td>\n",
       "      <td>&lt;class 'method.ours.constraints.concrete.Inval...</td>\n",
       "      <td></td>\n",
       "      <td>https://www.mbta.com/</td>\n",
       "      <td>Mars</td>\n",
       "      <td>New York</td>\n",
       "    </tr>\n",
       "    <tr>\n",
       "      <th>2</th>\n",
       "      <td>{\"//BODY/DIV[1]/DIV[2]/MAIN[1]/DIV[1]/DIV[1]/D...</td>\n",
       "      <td>&lt;class 'method.ours.constraints.concrete.ToBeT...</td>\n",
       "      <td></td>\n",
       "      <td>https://www.mbta.com/</td>\n",
       "      <td></td>\n",
       "      <td>New York</td>\n",
       "    </tr>\n",
       "    <tr>\n",
       "      <th>3</th>\n",
       "      <td>{\"//BODY/DIV[1]/DIV[2]/MAIN[1]/DIV[1]/DIV[1]/D...</td>\n",
       "      <td>&lt;class 'method.ours.constraints.concrete.Inval...</td>\n",
       "      <td></td>\n",
       "      <td>https://www.mbta.com/</td>\n",
       "      <td>Boston</td>\n",
       "      <td>Mars</td>\n",
       "    </tr>\n",
       "    <tr>\n",
       "      <th>4</th>\n",
       "      <td>{\"//BODY/DIV[1]/DIV[2]/MAIN[1]/DIV[1]/DIV[1]/D...</td>\n",
       "      <td>&lt;class 'method.ours.constraints.concrete.ToBeT...</td>\n",
       "      <td></td>\n",
       "      <td>https://www.mbta.com/</td>\n",
       "      <td>Boston</td>\n",
       "      <td></td>\n",
       "    </tr>\n",
       "    <tr>\n",
       "      <th>5</th>\n",
       "      <td>{\"//BODY/DIV[1]/DIV[2]/MAIN[1]/DIV[1]/DIV[1]/D...</td>\n",
       "      <td>&lt;class 'method.ours.constraints.concrete.ToBe'&gt;</td>\n",
       "      <td></td>\n",
       "      <td>https://www.mbta.com/</td>\n",
       "      <td>Boston</td>\n",
       "      <td>Boston</td>\n",
       "    </tr>\n",
       "  </tbody>\n",
       "</table>\n",
       "</div>"
      ],
      "text/plain": [
       "                                              values  \\\n",
       "0  {\"//BODY/DIV[1]/DIV[2]/MAIN[1]/DIV[1]/DIV[1]/D...   \n",
       "1  {\"//BODY/DIV[1]/DIV[2]/MAIN[1]/DIV[1]/DIV[1]/D...   \n",
       "2  {\"//BODY/DIV[1]/DIV[2]/MAIN[1]/DIV[1]/DIV[1]/D...   \n",
       "3  {\"//BODY/DIV[1]/DIV[2]/MAIN[1]/DIV[1]/DIV[1]/D...   \n",
       "4  {\"//BODY/DIV[1]/DIV[2]/MAIN[1]/DIV[1]/DIV[1]/D...   \n",
       "5  {\"//BODY/DIV[1]/DIV[2]/MAIN[1]/DIV[1]/DIV[1]/D...   \n",
       "\n",
       "                                      variation_type  \\\n",
       "0                                               base   \n",
       "1  <class 'method.ours.constraints.concrete.Inval...   \n",
       "2  <class 'method.ours.constraints.concrete.ToBeT...   \n",
       "3  <class 'method.ours.constraints.concrete.Inval...   \n",
       "4  <class 'method.ours.constraints.concrete.ToBeT...   \n",
       "5    <class 'method.ours.constraints.concrete.ToBe'>   \n",
       "\n",
       "                                            feedback  \\\n",
       "0  Trip Planner\\n\\n\\n\\n\\nNo trips available\\n    ...   \n",
       "1                                                      \n",
       "2                                                      \n",
       "3                                                      \n",
       "4                                                      \n",
       "5                                                      \n",
       "\n",
       "                                             new_url  \\\n",
       "0  https://www.mbta.com/trip-planner?_utf8=%E2%9C...   \n",
       "1                              https://www.mbta.com/   \n",
       "2                              https://www.mbta.com/   \n",
       "3                              https://www.mbta.com/   \n",
       "4                              https://www.mbta.com/   \n",
       "5                              https://www.mbta.com/   \n",
       "\n",
       "  //BODY/DIV[1]/DIV[2]/MAIN[1]/DIV[1]/DIV[1]/DIV[2]/DIV[2]/DIV[1]/DIV[1]/FORM[1]/DIV[1]/DIV[1]/DIV[1]/INPUT[1]  \\\n",
       "0                                             Boston                                                             \n",
       "1                                               Mars                                                             \n",
       "2                                                                                                                \n",
       "3                                             Boston                                                             \n",
       "4                                             Boston                                                             \n",
       "5                                             Boston                                                             \n",
       "\n",
       "  //BODY/DIV[1]/DIV[2]/MAIN[1]/DIV[1]/DIV[1]/DIV[2]/DIV[2]/DIV[1]/DIV[1]/FORM[1]/DIV[1]/DIV[3]/DIV[1]/INPUT[1]  \n",
       "0                                           New York                                                            \n",
       "1                                           New York                                                            \n",
       "2                                           New York                                                            \n",
       "3                                               Mars                                                            \n",
       "4                                                                                                               \n",
       "5                                             Boston                                                            "
      ]
     },
     "execution_count": 22,
     "metadata": {},
     "output_type": "execute_result"
    }
   ],
   "source": [
    "history_table.table"
   ]
  },
  {
   "cell_type": "code",
   "execution_count": 49,
   "id": "14d8f150",
   "metadata": {
    "ExecuteTime": {
     "end_time": "2023-07-18T22:21:05.818138Z",
     "start_time": "2023-07-18T22:21:05.715788Z"
    }
   },
   "outputs": [],
   "source": [
    "history_table.table = history_table.table[\n",
    "    history_table.table.feedback.str.len() < len(base_text)\n",
    "]"
   ]
  },
  {
   "cell_type": "code",
   "execution_count": 31,
   "id": "1f5d72b6",
   "metadata": {
    "ExecuteTime": {
     "end_time": "2023-07-20T17:03:36.102016Z",
     "start_time": "2023-07-20T17:03:35.999900Z"
    },
    "scrolled": false
   },
   "outputs": [
    {
     "data": {
      "text/plain": [
       "{\"Close\\nSelect a Nearby Location\\n\\n\\n\\n\\n\\n\\n\\n\\n\\n0\\n\\t\\t\\t\\t\\t\\t\\tCar Rental Locations Found\\n\\n\\n\\nThere are no locations for this city. Please enter a new search or click here to browse for a location.\\n\\n\\n\\n\\n\\n\\n\\n\\n\\n\\n\\n\\n\\n\\n\\n\\n\\nPlease clarify your Budget location\\n\\n\\nWe Can't find the location. Please select from matches below or enter a new search.\\n\\nPossible Matches\",\n",
       " \"Close\\nSelect a Nearby Location\\n\\n\\n\\n\\n\\n\\n\\n\\n\\n43\\n\\t\\t\\t\\t\\t\\t\\tCar Rental Locations Found\\n\\n\\n\\n\\n\\n\\n\\n\\n1\\nUnion Station (Amtrak)\\n\\n\\n\\n0.5 miles away\\n\\nAddress: 800 N Alameda St, (Near Cesar Chavez Ave), Los Angeles, US\\n\\n\\nPhone:\\n\\t\\t\\t\\t\\t\\t\\t\\t\\t\\t(1) 213-617-2977\\n\\t\\t\\t\\t\\t\\t\\t\\t\\t\\n\\nLocation Type:\\nCorporate\\n\\n\\n\\nHours of Operation: Mon - Fri 8:00 AM - 5:00 PM; Sat 8:00 AM - 1:00 PM\\n\\t\\t\\t\\t\\t\\t\\t\\t\\t\\n\\nSelect This Location\\n\\n\\n\\n\\n\\n\\n2\\nThe Bloc Shopping Center\\n\\n\\n\\n0.9 miles away\\n\\nAddress: 700 W 7th St - Ste A200, (Inside The Bloc Garage), Los Angeles, US\\n\\n\\nPhone:\\n\\t\\t\\t\\t\\t\\t\\t\\t\\t\\t(1) 626-642-9622\\n\\t\\t\\t\\t\\t\\t\\t\\t\\t\\n\\nLocation Type:\\nCorporate\\n\\n\\n\\nHours of Operation: Mon - Fri 8:00 AM - 5:00 PM; Sat 8:00 AM - 1:00 PM\\n\\t\\t\\t\\t\\t\\t\\t\\t\\t\\n\\nSelect This Location\\n\\n\\n\\n\\n\\n\\n3\\nLos Angeles Downtown\\n\\n\\n\\n1.1 miles away\\n\\nAddress: 888 S Figueroa St - Ste 130, Los Angeles, US\\n\\n\\nPhone:\\n\\t\\t\\t\\t\\t\\t\\t\\t\\t\\t(1) 213-553-8867\\n\\t\\t\\t\\t\\t\\t\\t\\t\\t\\n\\nLocation Type:\\nCorporate\\n\\n\\n\\nHours of Operation: Sun 8:00 AM - 1:00 PM; Mon - Fri 8:00 AM - 5:00 PM; Sat 8:00 AM - 1:00 PM\\n\\t\\t\\t\\t\\t\\t\\t\\t\\t\\n\\nSelect This Location\\n\\n\\n\\n\\n\\n\\n4\\nLos Angeles-Arts District\\n\\n\\n\\n1.3 miles away\\n\\nAddress: 647 Mateo St, Los Angeles, US\\n\\n\\nPhone:\\n\\t\\t\\t\\t\\t\\t\\t\\t\\t\\t(1) \\t213-328-6380\\n\\t\\t\\t\\t\\t\\t\\t\\t\\t\\n\\nLocation Type:\\nCorporate\\n\\n\\n\\nHours of Operation: Sun 8:00 AM - 2:00 PM; Mon - Fri 7:00 AM - 5:00 PM; Sat 8:00 AM - 2:00 PM\\n\\t\\t\\t\\t\\t\\t\\t\\t\\t\\n\\nSelect This Location\\n\\n\\n\\n\\n\\n\\n1234\\n\\n\\n\\n\\n\\n\\n\\n\\n\\n\\nPlease clarify your Budget location\\n\\n\\nWe Can't find the location. Please select from matches below or enter a new search.\\n\\nPossible Matches\",\n",
       " \"Close\\nSelect a Nearby Location\\n\\n\\n\\n\\nLabelsRoadRoadA standard road mapAerialA detailed look from aboveBird's eyeA better angle of aerial photographyLabels2 miles5 km© 2023 TomTom, © 2023 Microsoft CorporationTerms\\n\\n\\n\\n\\n9\\n\\t\\t\\t\\t\\t\\t\\tCar Rental Locations Found\\n\\n\\n\\n\\n\\n\\n\\n\\n1\\nKastrup Downtown\\n\\n\\n\\n1.7 miles away\\n\\nAddress: Amager Landevej 106, Kastrup, DK\\n\\n\\nPhone:\\n\\t\\t\\t\\t\\t\\t\\t\\t\\t\\t(45) 32 52 39 00\\n\\t\\t\\t\\t\\t\\t\\t\\t\\t\\n\\n\\nHours of Operation: Mon - Fri 7:00 AM - 1:30 PM\\n\\t\\t\\t\\t\\t\\t\\t\\t\\t\\n\\nSelect This Location\\n\\n\\n\\n\\n\\n\\n2\\nCopenhagen Intl Airport\\n\\n\\n\\n2.8 miles away\\n\\nAddress: Lufthavnsboulevarden 2, Car Rental Centre, Kastrup, DK\\n\\n\\nPhone:\\n\\t\\t\\t\\t\\t\\t\\t\\t\\t\\t(45) 3328 6360\\n\\t\\t\\t\\t\\t\\t\\t\\t\\t\\n\\n\\nHours of Operation: Sun - Fri 7:00 AM - 11:00 PM; Sat 7:00 AM - 10:00 PM\\n\\t\\t\\t\\t\\t\\t\\t\\t\\t\\n\\nSelect This Location\\n\\n\\n\\n\\n\\n\\n3\\nCopenhagen Downtown\\n\\n\\n\\n3.3 miles away\\n\\nAddress: Kampmannsgade 1, Copenhagen V, DK\\n\\n\\nPhone:\\n\\t\\t\\t\\t\\t\\t\\t\\t\\t\\t(45) 7024 7707\\n\\t\\t\\t\\t\\t\\t\\t\\t\\t\\n\\n\\nHours of Operation: Sun 7:30 AM - 3:00 PM; Mon - Fri 7:00 AM - 6:00 PM; Sat 7:30 AM - 3:00 PM\\n\\t\\t\\t\\t\\t\\t\\t\\t\\t\\n\\nSelect This Location\\n\\n\\n\\n\\n\\n\\n4\\nKbh Van Center Co Viking\\n\\n\\n\\n8.7 miles away\\n\\nAddress: Valseholmen 5, Albertslund, DK\\n\\n\\nPhone:\\n\\t\\t\\t\\t\\t\\t\\t\\t\\t\\t(45) 33 28 64 60\\n\\t\\t\\t\\t\\t\\t\\t\\t\\t\\n\\n\\nHours of Operation: Sun 8:00 AM - 11:00 AM; Mon - Fri 7:00 AM - 5:00 PM; Sat 7:00 AM - 11:00 AM\\n\\t\\t\\t\\t\\t\\t\\t\\t\\t\\n\\nSelect This Location\\n\\n\\n\\n\\n\\n\\n123\\n\\n\\n\\n\\n\\n\\n\\n\\n\\n\\nPlease clarify your Budget location\\n\\n\\nWe Can't find the location. Please select from matches below or enter a new search.\\n\\nPossible Matches\",\n",
       " \"Close\\nSelect a Nearby Location\\n\\n\\n\\n\\nLabelsRoadRoadA standard road mapAerialA detailed look from aboveBird's eyeA better angle of aerial photographyLabels5 miles10 kmTerms\\n\\n\\n\\n\\n43\\n\\t\\t\\t\\t\\t\\t\\tCar Rental Locations Found\\n\\n\\n\\n\\n\\n\\n\\n\\n1\\nUnion Station (Amtrak)\\n\\n\\n\\n0.5 miles away\\n\\nAddress: 800 N Alameda St, (Near Cesar Chavez Ave), Los Angeles, US\\n\\n\\nPhone:\\n\\t\\t\\t\\t\\t\\t\\t\\t\\t\\t(1) 213-617-2977\\n\\t\\t\\t\\t\\t\\t\\t\\t\\t\\n\\nLocation Type:\\nCorporate\\n\\n\\n\\nHours of Operation: Mon - Fri 8:00 AM - 5:00 PM; Sat 8:00 AM - 1:00 PM\\n\\t\\t\\t\\t\\t\\t\\t\\t\\t\\n\\nSelect This Location\\n\\n\\n\\n\\n\\n\\n2\\nThe Bloc Shopping Center\\n\\n\\n\\n0.9 miles away\\n\\nAddress: 700 W 7th St - Ste A200, (Inside The Bloc Garage), Los Angeles, US\\n\\n\\nPhone:\\n\\t\\t\\t\\t\\t\\t\\t\\t\\t\\t(1) 626-642-9622\\n\\t\\t\\t\\t\\t\\t\\t\\t\\t\\n\\nLocation Type:\\nCorporate\\n\\n\\n\\nHours of Operation: Mon - Fri 8:00 AM - 5:00 PM; Sat 8:00 AM - 1:00 PM\\n\\t\\t\\t\\t\\t\\t\\t\\t\\t\\n\\nSelect This Location\\n\\n\\n\\n\\n\\n\\n3\\nLos Angeles Downtown\\n\\n\\n\\n1.1 miles away\\n\\nAddress: 888 S Figueroa St - Ste 130, Los Angeles, US\\n\\n\\nPhone:\\n\\t\\t\\t\\t\\t\\t\\t\\t\\t\\t(1) 213-553-8867\\n\\t\\t\\t\\t\\t\\t\\t\\t\\t\\n\\nLocation Type:\\nCorporate\\n\\n\\n\\nHours of Operation: Sun 8:00 AM - 1:00 PM; Mon - Fri 8:00 AM - 5:00 PM; Sat 8:00 AM - 1:00 PM\\n\\t\\t\\t\\t\\t\\t\\t\\t\\t\\n\\nSelect This Location\\n\\n\\n\\n\\n\\n\\n4\\nLos Angeles-Arts District\\n\\n\\n\\n1.3 miles away\\n\\nAddress: 647 Mateo St, Los Angeles, US\\n\\n\\nPhone:\\n\\t\\t\\t\\t\\t\\t\\t\\t\\t\\t(1) \\t213-328-6380\\n\\t\\t\\t\\t\\t\\t\\t\\t\\t\\n\\nLocation Type:\\nCorporate\\n\\n\\n\\nHours of Operation: Sun 8:00 AM - 2:00 PM; Mon - Fri 7:00 AM - 5:00 PM; Sat 8:00 AM - 2:00 PM\\n\\t\\t\\t\\t\\t\\t\\t\\t\\t\\n\\nSelect This Location\\n\\n\\n\\n\\n\\n\\n1234\\n\\n\\n\\n\\n\\n\\n\\n\\n\\n\\nPlease clarify your Budget location\\n\\n\\nWe Can't find the location. Please select from matches below or enter a new search.\\n\\nPossible Matches\",\n",
       " \"Close\\nSelect a Nearby Location\\n\\n\\n\\n\\nLabelsRoadRoadA standard road mapAerialA detailed look from aboveBird's eyeA better angle of aerial photographyLabels5 miles10 km© 2023 TomTom, © 2023 Microsoft CorporationTerms\\n\\n\\n\\n\\n43\\n\\t\\t\\t\\t\\t\\t\\tCar Rental Locations Found\\n\\n\\n\\n\\n\\n\\n\\n\\n1\\nUnion Station (Amtrak)\\n\\n\\n\\n0.5 miles away\\n\\nAddress: 800 N Alameda St, (Near Cesar Chavez Ave), Los Angeles, US\\n\\n\\nPhone:\\n\\t\\t\\t\\t\\t\\t\\t\\t\\t\\t(1) 213-617-2977\\n\\t\\t\\t\\t\\t\\t\\t\\t\\t\\n\\nLocation Type:\\nCorporate\\n\\n\\n\\nHours of Operation: Mon - Fri 8:00 AM - 5:00 PM; Sat 8:00 AM - 1:00 PM\\n\\t\\t\\t\\t\\t\\t\\t\\t\\t\\n\\nSelect This Location\\n\\n\\n\\n\\n\\n\\n2\\nThe Bloc Shopping Center\\n\\n\\n\\n0.9 miles away\\n\\nAddress: 700 W 7th St - Ste A200, (Inside The Bloc Garage), Los Angeles, US\\n\\n\\nPhone:\\n\\t\\t\\t\\t\\t\\t\\t\\t\\t\\t(1) 626-642-9622\\n\\t\\t\\t\\t\\t\\t\\t\\t\\t\\n\\nLocation Type:\\nCorporate\\n\\n\\n\\nHours of Operation: Mon - Fri 8:00 AM - 5:00 PM; Sat 8:00 AM - 1:00 PM\\n\\t\\t\\t\\t\\t\\t\\t\\t\\t\\n\\nSelect This Location\\n\\n\\n\\n\\n\\n\\n3\\nLos Angeles Downtown\\n\\n\\n\\n1.1 miles away\\n\\nAddress: 888 S Figueroa St - Ste 130, Los Angeles, US\\n\\n\\nPhone:\\n\\t\\t\\t\\t\\t\\t\\t\\t\\t\\t(1) 213-553-8867\\n\\t\\t\\t\\t\\t\\t\\t\\t\\t\\n\\nLocation Type:\\nCorporate\\n\\n\\n\\nHours of Operation: Sun 8:00 AM - 1:00 PM; Mon - Fri 8:00 AM - 5:00 PM; Sat 8:00 AM - 1:00 PM\\n\\t\\t\\t\\t\\t\\t\\t\\t\\t\\n\\nSelect This Location\\n\\n\\n\\n\\n\\n\\n4\\nLos Angeles-Arts District\\n\\n\\n\\n1.3 miles away\\n\\nAddress: 647 Mateo St, Los Angeles, US\\n\\n\\nPhone:\\n\\t\\t\\t\\t\\t\\t\\t\\t\\t\\t(1) \\t213-328-6380\\n\\t\\t\\t\\t\\t\\t\\t\\t\\t\\n\\nLocation Type:\\nCorporate\\n\\n\\n\\nHours of Operation: Sun 8:00 AM - 2:00 PM; Mon - Fri 7:00 AM - 5:00 PM; Sat 8:00 AM - 2:00 PM\\n\\t\\t\\t\\t\\t\\t\\t\\t\\t\\n\\nSelect This Location\\n\\n\\n\\n\\n\\n\\n1234\\n\\n\\n\\n\\n\\n\\n\\n\\n\\n\\nPlease clarify your Budget location\\n\\n\\nWe Can't find the location. Please select from matches below or enter a new search.\\n\\nPossible Matches\",\n",
       " 'Connection Failed or Some Error occurred.\\n\\n\\n\\n\\nOK',\n",
       " \"Keydrop Location\\n\\n\\n\\n\\n\\n\\n\\n\\n\\n\\n\\n\\n\\n\\n\\nKey Drop\\nDrop your car off whenever you like -even after hours.\\n\\n\\n\\n\\n\\n\\n\\nHow It Works\\n\\nCustomer can fill out contract & drop keys inside the drop box located at the location.\\nLock the vehicle and place the keys and contract in the key drop box. The box is labeled Avis Budget After Hours Return.\\nDon't forget to remove all your belongings from the vehicle prior to returning the keys.\\n\\n\\n\\n \\n\\n\\n\\n\\n\\n\\t\\t\\t\\t\\t\\t\\t\\t\\tView Terms and Conditions\\n\\n\\t\\t\\t\\t\\t\\t\\t\\t\\tTerms and Conditions\\n\\n\\n\\n\\n\\n\\nIf you fail to return the vehicle as agreed, Budget will obtain additional authentications from your account to cover the rental charges. Budget is not responsible for any returned checks or over-drafts based on this policy. Positive identification in addition to your driver's license may be required.\\nIn the United States, Debit, Cash or Check cards can be used at the end for payment of rental charges. For acceptable credit identification and payment methods in countries outside of the United States, please consult the Rental's Guide and search for the specific location.   Based on this policy, positive identification in addition to your driver's license may be required.\",\n",
       " 'Please enter a',\n",
       " 'Please enter a valid',\n",
       " 'Please enter valid',\n",
       " 'Privacy Preference CenterWhen you visit any website, it may store or retrieve information on your browser, mostly in the form of cookies. This information might be about you, your preferences or your device and is mostly used to make the site work as you expect it to. The information does not usually directly identify you, but it can give you a more personalized web experience. Because we respect your right to privacy, you can choose not to allow some types of cookies. Click on the different category headings to find out more and change our default settings. However, blocking some types of cookies may impact your experience of the site and the services we are able to offer.\\n            More informationAllow All Manage Consent PreferencesTargeting Cookies  Targeting Cookies These cookies may be set through our site by our advertising partners. They may be used by those companies to build a profile of your interests and show you relevant adverts on other sites. \\xa0 \\xa0They do not store directly personal information, but are based on uniquely identifying your browser and internet device. If you do not allow these cookies, you will experience less targeted advertising.Strictly Necessary CookiesAlways ActiveThese cookies are necessary for the website to function and cannot be switched off in our systems. They are usually only set in response to actions made by you which amount to a request for services, such as setting your privacy preferences, logging in or filling in forms. \\xa0 \\xa0You can set your browser to block or alert you about these cookies, but some parts of the site will not then work. These cookies do not store any personally identifiable information.Performance Cookies  Performance Cookies These cookies allow us to count visits and traffic sources so we can measure and improve the performance of our site. They help us to know which pages are the most and least popular and see how visitors move around the site. \\xa0 \\xa0All information these cookies collect is aggregated and therefore anonymous. If you do not allow these cookies we will not know when you have visited our site, and will not be able to monitor its performance.Back ButtonCookie List Search IconFilter IconClear checkbox label labelApply CancelConsent Leg.Interest checkbox label label checkbox label label checkbox label label Confirm My Choices',\n",
       " 'This should be date format',\n",
       " 'We and our partners use cookies and other technologies to collect your information and interactions so that we can improve your experience (see ourPrivacy Policy andTerms of Use).Your Privacy Choices Accept All Cookies',\n",
       " \"errors.invalid_concur_awd,budget\\n\\n\\n\\n\\n\\n\\n\\n\\n\\n\\n\\nPick-up and Return to same location\\n\\n\\n    Searching... Please revise your search or click here to browse for a location    Keep typing to refine search \\n\\n\\n\\n\\n\\n\\n\\n...\\nPick-up Date\\n\\n\\nmidnight12:30 AM1:00 AM1:30 AM2:00 AM2:30 AM3:00 AM3:30 AM4:00 AM4:30 AM5:00 AM5:30 AM6:00 AM6:30 AM7:00 AM7:30 AM8:00 AM8:30 AM9:00 AM9:30 AM10:00 AM10:30 AM11:00 AM11:30 AMnoon12:30 PM1:00 PM1:30 PM2:00 PM2:30 PM3:00 PM3:30 PM4:00 PM4:30 PM5:00 PM5:30 PM6:00 PM6:30 PM7:00 PM7:30 PM8:00 PM8:30 PM9:00 PM9:30 PM10:00 PM10:30 PM11:00 PM11:30 PM\\nPick-up Time\\n\\n\\n\\n\\n\\n\\n\\n\\n\\n    Searching... Please revise your search or click here to browse for a location    Keep typing to refine search \\n\\n\\n\\n\\n\\n\\n...\\nReturn Date\\n\\n\\nmidnight12:30 AM1:00 AM1:30 AM2:00 AM2:30 AM3:00 AM3:30 AM4:00 AM4:30 AM5:00 AM5:30 AM6:00 AM6:30 AM7:00 AM7:30 AM8:00 AM8:30 AM9:00 AM9:30 AM10:00 AM10:30 AM11:00 AM11:30 AMnoon12:30 PM1:00 PM1:30 PM2:00 PM2:30 PM3:00 PM3:30 PM4:00 PM4:30 PM5:00 PM5:30 PM6:00 PM6:30 PM7:00 PM7:30 PM8:00 PM8:30 PM9:00 PM9:30 PM10:00 PM10:30 PM11:00 PM11:30 PM\\nReturn Time\\n\\n\\n\\n\\n\\n\\n\\n\\n\\n\\n\\n\\n\\n\\nRenter's age is 25 or over\\n\\n\\n\\n25+24232221201918\\nAge\\n\\n\\nAfghanistanAlbaniaAlgeriaAndorraAngolaAnguillaAntigua & BarbudaArgentinaArmeniaArubaAustraliaAustriaAzerbaijanBahamasBahrainBangladeshBarbadosBelarusBelgiumBelizeBenin\\nBermudaBhutanBoliviaBonaireBosnia & HerzegovinaBotswanaBrazilBruneiBulgariaBurkina FasoBurundiCambodiaCameroonCanadaCape VerdeCayman IslandsCentral African RepublicChadChagos IslandsChileChinaColombiaComoresCongo,Dem Republic of theCongo,Republic of the Cook IslandsCosta RicaCôte d'IvoireCroatiaCubaCyprusCzech RepublicDenmarkDjiboutiDominicaDominican RepublicEcuadorEgyptEl SalvadorEquatorial GuineaEstoniaEthiopiaFalkland IslandsFaroe IslandsFijiFinlandFranceFrench GuianaFrench PolynesiaGabonGambiaGeorgiaGermanyGhanaGibraltarGreeceGreenlandGrenadaGuadeloupeGuamGuatemalaGuineaGuinea-BissauGuyanaHaitiHondurasHong KongHungaryIcelandIndiaIndonesiaIranIraqIrelandIsle of ManIsraelItalyJamaicaJapanJordanKazakhstanKenyaKiribatiKorea, Dem People's Rep ofKorea, Rep ofKuwaitKyrgyzstanLaosLatviaLebanonLeichtensteinLesothoLiberiaLibyan Arab JamahiriyaLithuaniaLuxembourgMacauMacedonia (FYROM)MadagascarMalawiMalaysiaMaldivesMaliMaltaMariana IslandsMarshall IslandsMartiniqueMauritaniaMauritiusMayotteMexicoMicronesia, Federated States ofMoldova, Republic ofMonacoMongoliaMontenegroMontserratMoroccoMozambiqueMyanmarNamibiaNauruNepalNetherlandsNetherlands AntillesNew CaledoniaNew ZealandNicaraguaNigerNigeriaNiueNorfolk IslandsNorthern Mariana IslandsNorwayOmanPakistanPalauPalestinian TerritoriesPanamaPapua New GuineaParaguayPeruPhilippinesPolandPortugalPuerto RicoQatarRéunionRomaniaRussian FederationRwandaSaint BarthélemySaint Kitts & NevisSaint LuciaSaint-MartinSaint Pierre & Miquelon Saint Vincent & the GrenadinesSamoaSan MarinoSão Tomé & PríncipeSaudi ArabiaSenegalSerbiaSeychellesSierra LeoneSingaporeSlovakia\\nSloveniaSolomon IslandsSomaliaSouth AfricaSpainSri LankaSt. MaartenSudanSurinameSwazilandSwedenSwitzerlandSyrian Arab RepublicTaiwanTajikistanTanzaniaThailandTimor-LesteTogoTongaTrinidad & TobagoTunisiaTurkeyTurks & CaicosTuvaluU.S.A.U.S. Virgin Islands (St. Croix)U.S. Virgin Islands (St. Thomas)UgandaUkraineUnited Arab EmiratesUnited KingdomUruguayUzbekistanVanuatuVenezuelaVietnamVirgin Islands, BritishVirgin Islands, USYemenZambiaZimbabwe\\n I live in\\n\\n\\n\\n I have a discount code \\n\\n\\n\\n\\n\\n\\n\\n\\n\\n\\n\\n\\n\\n\\n\\n\\n\\n\\n\\n\\n\\n\\nQuantity\\n                             \\n\\n\\n\\n\\n\\n\\n\\n\\n\\n\\nMember Rates\\nAARPNone\\n\\n\\n\\n\\n\\n\\n\\n\\n\\n\\n\\n\\n\\n\\n\\n\\n\\n\\n\\nWe could not find a match for your search. Please try using only a city, ZIP or Airport code. Click here to browse for a location\\n\\n\\n\\n                        \\tYour discount code is invalid,  Learn Why? \\n\\n\\n\\t\\t\\t\\t\\t\\t\\tYour discount code is invalid,   Learn Why? \\n\\n\\n\\n\\n\\n\\n\\n\\nSelect My Car\"}"
      ]
     },
     "execution_count": 31,
     "metadata": {},
     "output_type": "execute_result"
    }
   ],
   "source": [
    "set('FEEDBACK-DELIMITER'.join(history_table.table.feedback).split('FEEDBACK-DELIMITER'))"
   ]
  },
  {
   "cell_type": "code",
   "execution_count": 34,
   "id": "da60119c",
   "metadata": {
    "ExecuteTime": {
     "end_time": "2023-07-17T23:24:04.747062Z",
     "start_time": "2023-07-17T23:24:04.640550Z"
    }
   },
   "outputs": [
    {
     "data": {
      "text/plain": [
       "7"
      ]
     },
     "execution_count": 34,
     "metadata": {},
     "output_type": "execute_result"
    }
   ],
   "source": [
    "len(set('FEEDBACK-DELIMITER'.join(history_table.table.feedback).split('FEEDBACK-DELIMITER')))"
   ]
  },
  {
   "cell_type": "code",
   "execution_count": 23,
   "id": "ff37cba2",
   "metadata": {
    "ExecuteTime": {
     "end_time": "2023-07-17T17:58:27.036937Z",
     "start_time": "2023-07-17T17:58:26.955170Z"
    }
   },
   "outputs": [],
   "source": [
    "history_table.to_test_case('aoc-multitrip.py')"
   ]
  },
  {
   "cell_type": "code",
   "execution_count": null,
   "id": "d6aaa376",
   "metadata": {},
   "outputs": [],
   "source": []
  }
 ],
 "metadata": {
  "kernelspec": {
   "display_name": "Python 3 (ipykernel)",
   "language": "python",
   "name": "python3"
  },
  "language_info": {
   "codemirror_mode": {
    "name": "ipython",
    "version": 3
   },
   "file_extension": ".py",
   "mimetype": "text/x-python",
   "name": "python",
   "nbconvert_exporter": "python",
   "pygments_lexer": "ipython3",
   "version": "3.10.9"
  },
  "toc": {
   "base_numbering": 1,
   "nav_menu": {},
   "number_sections": true,
   "sideBar": true,
   "skip_h1_title": false,
   "title_cell": "Table of Contents",
   "title_sidebar": "Contents",
   "toc_cell": false,
   "toc_position": {},
   "toc_section_display": true,
   "toc_window_display": false
  },
  "varInspector": {
   "cols": {
    "lenName": 16,
    "lenType": 16,
    "lenVar": 40
   },
   "kernels_config": {
    "python": {
     "delete_cmd_postfix": "",
     "delete_cmd_prefix": "del ",
     "library": "var_list.py",
     "varRefreshCmd": "print(var_dic_list())"
    },
    "r": {
     "delete_cmd_postfix": ") ",
     "delete_cmd_prefix": "rm(",
     "library": "var_list.r",
     "varRefreshCmd": "cat(var_dic_list()) "
    }
   },
   "types_to_exclude": [
    "module",
    "function",
    "builtin_function_or_method",
    "instance",
    "_Feature"
   ],
   "window_display": false
  }
 },
 "nbformat": 4,
 "nbformat_minor": 5
}
