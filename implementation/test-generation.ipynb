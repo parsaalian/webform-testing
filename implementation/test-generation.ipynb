{
 "cells": [
  {
   "cell_type": "code",
   "execution_count": 1,
   "id": "d59634ab",
   "metadata": {
    "ExecuteTime": {
     "end_time": "2023-07-06T23:15:44.050185Z",
     "start_time": "2023-07-06T23:15:43.720381Z"
    }
   },
   "outputs": [],
   "source": [
    "import json\n",
    "import pandas as pd"
   ]
  },
  {
   "cell_type": "code",
   "execution_count": 2,
   "id": "7e34e706",
   "metadata": {
    "ExecuteTime": {
     "end_time": "2023-07-06T23:15:45.039277Z",
     "start_time": "2023-07-06T23:15:45.035401Z"
    }
   },
   "outputs": [],
   "source": [
    "test_file_template = '''\n",
    "import time\n",
    "import unittest\n",
    "\n",
    "from selenium import webdriver\n",
    "from selenium.webdriver.common.by import By\n",
    "from selenium.webdriver.chrome.service import Service\n",
    "from selenium.webdriver.support.ui import WebDriverWait\n",
    "from selenium.webdriver.support import expected_conditions as EC\n",
    "\n",
    "from webdriver_manager.chrome import ChromeDriverManager\n",
    "\n",
    "\n",
    "class FormTests(unittest.TestCase):\n",
    "\\tdef setUp(self):\n",
    "\\t\\tself.driver = webdriver.Chrome(service=Service(ChromeDriverManager().install()))\n",
    "\\t\\tself.driver.get(\"{url}\")\n",
    "    \n",
    "    \n",
    "\\tdef tearDown(self):\n",
    "\\t\\tself.driver.close()\n",
    "    \n",
    "    \n",
    "{test_cases}\n",
    "\n",
    "\n",
    "if __name__ == \"__main__\":\n",
    "\\tunittest.main()\n",
    "'''\n",
    "\n",
    "\n",
    "test_case_template = '''\n",
    "\\tdef test_{name}(self):\n",
    "\\t\\t\\'\\'\\'{description}\\'\\'\\'\n",
    "\\t\\tdriver = self.driver\n",
    "{code}\n",
    "'''\n",
    "\n",
    "\n",
    "send_key_template = '''\n",
    "\\t\\telement = WebDriverWait(driver, 5).until(\n",
    "\\t\\t\\tEC.presence_of_element_located((By.XPATH, \"{xpath}\"))\n",
    "\\t\\t)\n",
    "\\t\\telement.send_keys(\"{value}\")\n",
    "'''\n",
    "\n",
    "\n",
    "submit_template = '''\n",
    "\\t\\tbutton = WebDriverWait(driver, 5).until(\n",
    "\\t\\t\\tEC.presence_of_element_located((By.XPATH, \"{form_xpath}//*[@type='submit']\"))\n",
    "\\t\\t)\n",
    "\\t\\tdriver.execute_script('arguments[0].click()', button)\n",
    "'''\n",
    "\n",
    "assertion_template = '''\n",
    "\\t\\ttime.sleep(1)\n",
    "\\t\\tbody_text = driver.find_element(By.TAG_NAME, 'body').text\n",
    "\\t\\tassert \"{feedback}\" in body_text\n",
    "'''"
   ]
  },
  {
   "cell_type": "code",
   "execution_count": 3,
   "id": "5fb70b0f",
   "metadata": {
    "ExecuteTime": {
     "end_time": "2023-07-06T23:15:45.702300Z",
     "start_time": "2023-07-06T23:15:45.699370Z"
    }
   },
   "outputs": [],
   "source": [
    "APP_NAME = 'Air Canada'\n",
    "APP_URL = 'https://www.aircanada.com/ca/en/aco/home.html'\n",
    "FORM_XPATH = '//BODY/AC-WEB-APP[1]/DIV[1]/MAIN[1]/DIV[1]/AC-ACOHOME-PAGE[1]/DIV[1]/DIV[1]/AC-BOOKING-MAGNET[1]/DIV[1]/DIV[1]/DIV[1]/DIV[2]/AC-BKMG-FLIGHTS-TAB[1]/DIV[1]/FORM[1]'\n"
   ]
  },
  {
   "cell_type": "code",
   "execution_count": 4,
   "id": "816da254",
   "metadata": {
    "ExecuteTime": {
     "end_time": "2023-07-06T23:15:46.250145Z",
     "start_time": "2023-07-06T23:15:46.243685Z"
    }
   },
   "outputs": [],
   "source": [
    "values_df = pd.read_csv('./random.csv')"
   ]
  },
  {
   "cell_type": "code",
   "execution_count": 5,
   "id": "3fc327d7",
   "metadata": {
    "ExecuteTime": {
     "end_time": "2023-07-06T23:15:46.790094Z",
     "start_time": "2023-07-06T23:15:46.781650Z"
    }
   },
   "outputs": [
    {
     "data": {
      "text/html": [
       "<div>\n",
       "<style scoped>\n",
       "    .dataframe tbody tr th:only-of-type {\n",
       "        vertical-align: middle;\n",
       "    }\n",
       "\n",
       "    .dataframe tbody tr th {\n",
       "        vertical-align: top;\n",
       "    }\n",
       "\n",
       "    .dataframe thead th {\n",
       "        text-align: right;\n",
       "    }\n",
       "</style>\n",
       "<table border=\"1\" class=\"dataframe\">\n",
       "  <thead>\n",
       "    <tr style=\"text-align: right;\">\n",
       "      <th></th>\n",
       "      <th>changes</th>\n",
       "      <th>fuzz_type</th>\n",
       "      <th>values</th>\n",
       "    </tr>\n",
       "  </thead>\n",
       "  <tbody>\n",
       "    <tr>\n",
       "      <th>0</th>\n",
       "      <td>Please select a valid destination for this tri...</td>\n",
       "      <td>empty</td>\n",
       "      <td>{'//BODY/AC-WEB-APP[1]/DIV[1]/MAIN[1]/DIV[1]/A...</td>\n",
       "    </tr>\n",
       "    <tr>\n",
       "      <th>1</th>\n",
       "      <td>Please select a valid point of origin for this...</td>\n",
       "      <td>empty</td>\n",
       "      <td>{'//BODY/AC-WEB-APP[1]/DIV[1]/MAIN[1]/DIV[1]/A...</td>\n",
       "    </tr>\n",
       "  </tbody>\n",
       "</table>\n",
       "</div>"
      ],
      "text/plain": [
       "                                             changes fuzz_type  \\\n",
       "0  Please select a valid destination for this tri...     empty   \n",
       "1  Please select a valid point of origin for this...     empty   \n",
       "\n",
       "                                              values  \n",
       "0  {'//BODY/AC-WEB-APP[1]/DIV[1]/MAIN[1]/DIV[1]/A...  \n",
       "1  {'//BODY/AC-WEB-APP[1]/DIV[1]/MAIN[1]/DIV[1]/A...  "
      ]
     },
     "execution_count": 5,
     "metadata": {},
     "output_type": "execute_result"
    }
   ],
   "source": [
    "values_df"
   ]
  },
  {
   "cell_type": "code",
   "execution_count": 6,
   "id": "fa40efc2",
   "metadata": {
    "ExecuteTime": {
     "end_time": "2023-07-06T23:15:47.507552Z",
     "start_time": "2023-07-06T23:15:47.501830Z"
    }
   },
   "outputs": [],
   "source": [
    "test_cases = []\n",
    "\n",
    "for idx, row in values_df.iterrows():\n",
    "    values = json.loads(row['values'].replace('\\'', '\"').lower())\n",
    "    \n",
    "    fields = []\n",
    "    for xpath, value in values.items():\n",
    "        send_key = send_key_template.format(\n",
    "            xpath=xpath,\n",
    "            value=value\n",
    "        )\n",
    "        fields.append(send_key)\n",
    "    \n",
    "    submit = submit_template.format(\n",
    "        form_xpath=FORM_XPATH\n",
    "    )\n",
    "    fields.append(submit)\n",
    "    \n",
    "    # TODO: add assertions on url\n",
    "    # TODO: create a more unique string to split feedback\n",
    "    assertions = []\n",
    "    for feedback in row['changes'].split('-'):\n",
    "        assertion = assertion_template.format(feedback=feedback)\n",
    "        assertions.append(assertion)\n",
    "        \n",
    "    \n",
    "    test_case = test_case_template.format(\n",
    "        name=idx,\n",
    "        description=idx,\n",
    "        code='\\n'.join([*fields, *assertions])\n",
    "    )\n",
    "    \n",
    "    test_cases.append(test_case)\n",
    "\n",
    "test_file = test_file_template.format(\n",
    "    url=APP_URL,\n",
    "    test_cases='\\n'.join(test_cases)\n",
    ")"
   ]
  },
  {
   "cell_type": "code",
   "execution_count": 7,
   "id": "e7793ed8",
   "metadata": {
    "ExecuteTime": {
     "end_time": "2023-07-06T23:15:49.361568Z",
     "start_time": "2023-07-06T23:15:49.358213Z"
    }
   },
   "outputs": [],
   "source": [
    "with open('generated_test.py', 'w+') as f:\n",
    "    f.write(test_file.strip())"
   ]
  },
  {
   "cell_type": "code",
   "execution_count": null,
   "id": "19a503cc",
   "metadata": {},
   "outputs": [],
   "source": []
  }
 ],
 "metadata": {
  "kernelspec": {
   "display_name": "Python 3 (ipykernel)",
   "language": "python",
   "name": "python3"
  },
  "language_info": {
   "codemirror_mode": {
    "name": "ipython",
    "version": 3
   },
   "file_extension": ".py",
   "mimetype": "text/x-python",
   "name": "python",
   "nbconvert_exporter": "python",
   "pygments_lexer": "ipython3",
   "version": "3.10.9"
  },
  "toc": {
   "base_numbering": 1,
   "nav_menu": {},
   "number_sections": true,
   "sideBar": true,
   "skip_h1_title": false,
   "title_cell": "Table of Contents",
   "title_sidebar": "Contents",
   "toc_cell": false,
   "toc_position": {},
   "toc_section_display": true,
   "toc_window_display": false
  },
  "varInspector": {
   "cols": {
    "lenName": 16,
    "lenType": 16,
    "lenVar": 40
   },
   "kernels_config": {
    "python": {
     "delete_cmd_postfix": "",
     "delete_cmd_prefix": "del ",
     "library": "var_list.py",
     "varRefreshCmd": "print(var_dic_list())"
    },
    "r": {
     "delete_cmd_postfix": ") ",
     "delete_cmd_prefix": "rm(",
     "library": "var_list.r",
     "varRefreshCmd": "cat(var_dic_list()) "
    }
   },
   "types_to_exclude": [
    "module",
    "function",
    "builtin_function_or_method",
    "instance",
    "_Feature"
   ],
   "window_display": false
  }
 },
 "nbformat": 4,
 "nbformat_minor": 5
}
