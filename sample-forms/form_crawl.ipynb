{
 "cells": [
  {
   "cell_type": "code",
   "execution_count": 1,
   "id": "118b645b",
   "metadata": {
    "ExecuteTime": {
     "end_time": "2023-05-24T19:22:24.890346Z",
     "start_time": "2023-05-24T19:22:24.476585Z"
    }
   },
   "outputs": [],
   "source": [
    "import os\n",
    "import glob\n",
    "import time\n",
    "from tqdm.notebook import tqdm\n",
    "\n",
    "from bs4 import BeautifulSoup as bs\n",
    "\n",
    "from selenium import webdriver\n",
    "from selenium.webdriver.chrome.service import Service\n",
    "from selenium.webdriver.common.by import By\n",
    "from selenium.webdriver.chrome.options import Options\n",
    "\n",
    "from webdriver_manager.chrome import ChromeDriverManager"
   ]
  },
  {
   "cell_type": "code",
   "execution_count": 12,
   "id": "24dd9954",
   "metadata": {
    "ExecuteTime": {
     "end_time": "2023-05-24T19:25:51.534352Z",
     "start_time": "2023-05-24T19:25:51.527289Z"
    }
   },
   "outputs": [],
   "source": [
    "def create_application_directory(app_name):\n",
    "    if os.path.exists(app_name):\n",
    "        return False\n",
    "    os.makedirs(app_name)\n",
    "    return True\n",
    "\n",
    "\n",
    "def count_exts(directory, ext):\n",
    "    return len(glob.glob(f\"{directory}/*.{ext}\"))\n",
    "\n",
    "\n",
    "def take_full_screenshot(element, path):\n",
    "    # store original size\n",
    "    original_size = driver.get_window_size()\n",
    "    \n",
    "    required_height = element.size['height']\n",
    "    \n",
    "    # scroll to element\n",
    "    driver.execute_script(\"return arguments[0].scrollIntoView();\", element)\n",
    "    time.sleep(0.5)\n",
    "    # set window size\n",
    "    # driver.set_window_size(original_size['width'], required_height + 128)\n",
    "    \n",
    "    # now that the element is within the viewport, take screenshot of element\n",
    "    element.screenshot(path)\n",
    "\n",
    "    # return window to original size\n",
    "    # driver.set_window_size(original_size['width'], original_size['height'])\n",
    "\n",
    "\n",
    "def add_entry_to_directory(element, app_name):\n",
    "    create_application_directory(app_name)\n",
    "    index = count_exts(app_name, 'html') + 1\n",
    "    \n",
    "    element_html = element.get_attribute('outerHTML')\n",
    "    pretty_html = bs(element_html, 'html.parser').prettify()\n",
    "\n",
    "    with open(os.path.join(app_name, f'{index}.txt'), 'w+') as f:\n",
    "        f.write(driver.current_url)\n",
    "        f.close()\n",
    "    \n",
    "    with open(os.path.join(app_name, f'{index}.html'), 'w+') as f:\n",
    "        f.write(pretty_html)\n",
    "        f.close()\n",
    "    \n",
    "    take_full_screenshot(element, os.path.join(app_name, f'{index}.png'))"
   ]
  },
  {
   "cell_type": "code",
   "execution_count": 3,
   "id": "1215b4f2",
   "metadata": {
    "ExecuteTime": {
     "end_time": "2023-05-24T19:22:30.267372Z",
     "start_time": "2023-05-24T19:22:27.647870Z"
    }
   },
   "outputs": [],
   "source": [
    "chrome_options = Options()\n",
    "# chrome_options.add_argument(\"--headless\")\n",
    "# chrome_options.add_argument(\"--window-size=3072x1920\");\n",
    "\n",
    "driver = webdriver.Chrome(service=Service(ChromeDriverManager().install()), options=chrome_options)"
   ]
  },
  {
   "cell_type": "code",
   "execution_count": 4,
   "id": "1bb6e6e3",
   "metadata": {
    "ExecuteTime": {
     "end_time": "2023-05-24T19:22:32.645460Z",
     "start_time": "2023-05-24T19:22:32.575642Z"
    }
   },
   "outputs": [],
   "source": [
    "URL = \"http://localhost:3000/addressbook/index.php\"\n",
    "APP_NAME = 'addressbook'\n",
    "driver.get(URL)"
   ]
  },
  {
   "cell_type": "code",
   "execution_count": 10,
   "id": "6e6ae346",
   "metadata": {
    "ExecuteTime": {
     "end_time": "2023-05-24T19:25:02.092747Z",
     "start_time": "2023-05-24T19:25:01.980516Z"
    }
   },
   "outputs": [],
   "source": [
    "driver.maximize_window()"
   ]
  },
  {
   "cell_type": "code",
   "execution_count": 13,
   "id": "d191c03f",
   "metadata": {
    "ExecuteTime": {
     "end_time": "2023-05-24T19:26:01.953519Z",
     "start_time": "2023-05-24T19:26:00.419102Z"
    }
   },
   "outputs": [
    {
     "data": {
      "application/vnd.jupyter.widget-view+json": {
       "model_id": "5a59c507856d47838780ff6016d660b2",
       "version_major": 2,
       "version_minor": 0
      },
      "text/plain": [
       "  0%|          | 0/2 [00:00<?, ?it/s]"
      ]
     },
     "metadata": {},
     "output_type": "display_data"
    }
   ],
   "source": [
    "forms = driver.find_elements(By.TAG_NAME, 'form')\n",
    "\n",
    "for form in tqdm(forms):\n",
    "    add_entry_to_directory(form, APP_NAME)"
   ]
  },
  {
   "cell_type": "code",
   "execution_count": null,
   "id": "8a5403ee",
   "metadata": {},
   "outputs": [],
   "source": []
  }
 ],
 "metadata": {
  "kernelspec": {
   "display_name": "Python 3 (ipykernel)",
   "language": "python",
   "name": "python3"
  },
  "language_info": {
   "codemirror_mode": {
    "name": "ipython",
    "version": 3
   },
   "file_extension": ".py",
   "mimetype": "text/x-python",
   "name": "python",
   "nbconvert_exporter": "python",
   "pygments_lexer": "ipython3",
   "version": "3.10.9"
  },
  "toc": {
   "base_numbering": 1,
   "nav_menu": {},
   "number_sections": true,
   "sideBar": true,
   "skip_h1_title": false,
   "title_cell": "Table of Contents",
   "title_sidebar": "Contents",
   "toc_cell": false,
   "toc_position": {},
   "toc_section_display": true,
   "toc_window_display": false
  },
  "varInspector": {
   "cols": {
    "lenName": 16,
    "lenType": 16,
    "lenVar": 40
   },
   "kernels_config": {
    "python": {
     "delete_cmd_postfix": "",
     "delete_cmd_prefix": "del ",
     "library": "var_list.py",
     "varRefreshCmd": "print(var_dic_list())"
    },
    "r": {
     "delete_cmd_postfix": ") ",
     "delete_cmd_prefix": "rm(",
     "library": "var_list.r",
     "varRefreshCmd": "cat(var_dic_list()) "
    }
   },
   "types_to_exclude": [
    "module",
    "function",
    "builtin_function_or_method",
    "instance",
    "_Feature"
   ],
   "window_display": false
  }
 },
 "nbformat": 4,
 "nbformat_minor": 5
}
