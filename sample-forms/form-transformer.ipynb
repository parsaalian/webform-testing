{
 "cells": [
  {
   "cell_type": "code",
   "execution_count": 1,
   "id": "5a1852e0",
   "metadata": {
    "ExecuteTime": {
     "end_time": "2023-06-01T20:41:00.442707Z",
     "start_time": "2023-06-01T20:41:00.142420Z"
    }
   },
   "outputs": [],
   "source": [
    "from selenium import webdriver\n",
    "from selenium.webdriver.chrome.service import Service\n",
    "from selenium.webdriver.common.by import By\n",
    "from selenium.webdriver.chrome.options import Options\n",
    "\n",
    "from webdriver_manager.chrome import ChromeDriverManager\n",
    "\n",
    "from bs4 import BeautifulSoup as bs, NavigableString, Comment"
   ]
  },
  {
   "cell_type": "code",
   "execution_count": 2,
   "id": "08120073",
   "metadata": {
    "ExecuteTime": {
     "end_time": "2023-06-01T20:41:04.776748Z",
     "start_time": "2023-06-01T20:41:02.026464Z"
    }
   },
   "outputs": [],
   "source": [
    "chrome_options = Options()\n",
    "# chrome_options.add_argument(\"--headless\")\n",
    "# chrome_options.add_argument(\"--window-size=3072x1920\");\n",
    "\n",
    "driver = webdriver.Chrome(service=Service(ChromeDriverManager().install()), options=chrome_options)"
   ]
  },
  {
   "cell_type": "code",
   "execution_count": 3,
   "id": "2fa57ce7",
   "metadata": {
    "ExecuteTime": {
     "end_time": "2023-06-01T20:41:10.070493Z",
     "start_time": "2023-06-01T20:41:06.601277Z"
    }
   },
   "outputs": [],
   "source": [
    "driver.get('https://ant.design/components/form')"
   ]
  },
  {
   "cell_type": "code",
   "execution_count": 4,
   "id": "7626c894",
   "metadata": {
    "ExecuteTime": {
     "end_time": "2023-06-01T20:41:31.196320Z",
     "start_time": "2023-06-01T20:41:31.189307Z"
    }
   },
   "outputs": [],
   "source": [
    "xpath_script = \"\"\"\n",
    "    function getPathTo(element) {\n",
    "        // if (element.id !== '')\n",
    "        //     return 'id(\\\"'+element.id+'\\\")';\n",
    "        if (element === document.body)\n",
    "            return element.tagName;\n",
    "        var ix= 0;\n",
    "        var siblings= element.parentNode.childNodes;\n",
    "        for (var i= 0; i<siblings.length; i++) {\n",
    "            var sibling= siblings[i];\n",
    "            if (sibling===element)\n",
    "                return getPathTo(element.parentNode) + '/' + element.tagName + '[' + (ix + 1) + ']';\n",
    "            if (sibling.nodeType===1 && sibling.tagName===element.tagName)\n",
    "                ix++;\n",
    "        }\n",
    "    }\n",
    "    const path = getPathTo(arguments[0]);\n",
    "    if (path.startsWith('id(')) {\n",
    "        return path;\n",
    "    }\n",
    "    return '//' + path;\n",
    "\"\"\"\n",
    "\n",
    "\n",
    "def embed_properties(root):\n",
    "    '''\n",
    "    This function embeds the x_span, y_span, and xpath\n",
    "    properties into WebElement as attributes for processing\n",
    "    in the next steps. We do this because we want to convert\n",
    "    the WebElement into a BeautifulSoup document.\n",
    "    '''\n",
    "    \n",
    "    # Get the location and size of the root element\n",
    "    location = root.location\n",
    "    size = root.size\n",
    "\n",
    "    # Calculate the boundaries of the root element\n",
    "    x_span = (location['x'], location['x'] + size['width'])\n",
    "    y_span = (location['y'], location['y'] + size['height'])\n",
    "    \n",
    "    # Get the xpath of the element\n",
    "    xpath = driver.execute_script(xpath_script, root)\n",
    "    \n",
    "    # Embed attributes in the HTML element\n",
    "    driver.execute_script(\"arguments[0].setAttribute('xpath', arguments[1])\", root, xpath)\n",
    "    driver.execute_script(\"arguments[0].setAttribute('x_start', arguments[1])\", root, x_span[0])\n",
    "    driver.execute_script(\"arguments[0].setAttribute('x_end', arguments[1])\", root, x_span[1])\n",
    "    driver.execute_script(\"arguments[0].setAttribute('y_start', arguments[1])\", root, y_span[0])\n",
    "    driver.execute_script(\"arguments[0].setAttribute('y_end', arguments[1])\", root, y_span[1])\n",
    "    \n",
    "    for child in root.find_elements(By.XPATH, '*'):\n",
    "        embed_properties(child)\n",
    "    \n",
    "    return root"
   ]
  },
  {
   "cell_type": "code",
   "execution_count": 5,
   "id": "46a9fce3",
   "metadata": {
    "ExecuteTime": {
     "end_time": "2023-06-01T20:41:34.723741Z",
     "start_time": "2023-06-01T20:41:31.904311Z"
    }
   },
   "outputs": [],
   "source": [
    "form = driver.find_elements(By.TAG_NAME, 'form')[48]\n",
    "form = embed_properties(form)"
   ]
  },
  {
   "cell_type": "code",
   "execution_count": 6,
   "id": "90fc480d",
   "metadata": {
    "ExecuteTime": {
     "end_time": "2023-06-01T20:41:35.299676Z",
     "start_time": "2023-06-01T20:41:35.276065Z"
    }
   },
   "outputs": [],
   "source": [
    "form_doc = bs(form.get_attribute('outerHTML'), 'html.parser')"
   ]
  },
  {
   "cell_type": "code",
   "execution_count": 7,
   "id": "550a1680",
   "metadata": {
    "ExecuteTime": {
     "end_time": "2023-06-01T20:41:35.986749Z",
     "start_time": "2023-06-01T20:41:35.980493Z"
    },
    "scrolled": true
   },
   "outputs": [
    {
     "name": "stdout",
     "output_type": "stream",
     "text": [
      "<form class=\"ant-form ant-form-horizontal css-k7429z\" id=\"complex-form\" style=\"max-width:600px\" x_end=\"939\" x_start=\"339\" xpath=\"//BODY/DIV[1]/DIV[1]/MAIN[1]/DIV[2]/ARTICLE[1]/DIV[2]/DIV[1]/SECTION[1]/SECTION[17]/SECTION[1]/FORM[1]\" y_end=\"8501\" y_start=\"8301\">\n",
      " <div class=\"ant-form-item css-k7429z\" x_end=\"939\" x_start=\"339\" xpath=\"//BODY/DIV[1]/DIV[1]/MAIN[1]/DIV[2]/ARTICLE[1]/DIV[2]/DIV[1]/SECTION[1]/SECTION[17]/SECTION[1]/FORM[1]/DIV[1]\" y_end=\"8333\" y_start=\"8301\">\n",
      "  <div class=\"ant-row ant-form-item-row css-k7429z\" x_end=\"939\" x_start=\"339\" xpath=\"//BODY/DIV[1]/DIV[1]/MAIN[1]/DIV[2]/ARTICLE[1]/DIV[2]/DIV[1]/SECTION[1]/SECTION[17]/SECTION[1]/FORM[1]/DIV[1]/DIV[1]\" y_end=\"8333\" y_start=\"8301\">\n",
      "   <div class=\"ant-col ant-col-8 ant-form-item-label css-k7429z\" x_end=\"539\" x_start=\"339\" xpath=\"//BODY/DIV[1]/DIV[1]/MAIN[1]/DIV[2]/ARTICLE[1]/DIV[2]/DIV[1]/SECTION[1]/SECTION[17]/SECTION[1]/FORM[1]/DIV[1]/DIV[1]/DIV[1]\" y_end=\"8333\" y_start=\"8301\">\n",
      "    <label class=\"\" title=\"Username\" x_end=\"539\" x_start=\"459\" xpath=\"//BODY/DIV[1]/DIV[1]/MAIN[1]/DIV[2]/ARTICLE[1]/DIV[2]/DIV[1]/SECTION[1]/SECTION[17]/SECTION[1]/FORM[1]/DIV[1]/DIV[1]/DIV[1]/LABEL[1]\" y_end=\"8333\" y_start=\"8301\">\n",
      "     Username\n",
      "    </label>\n",
      "   </div>\n",
      "   <div class=\"ant-col ant-col-16 ant-form-item-control css-k7429z\" x_end=\"939\" x_start=\"539\" xpath=\"//BODY/DIV[1]/DIV[1]/MAIN[1]/DIV[2]/ARTICLE[1]/DIV[2]/DIV[1]/SECTION[1]/SECTION[17]/SECTION[1]/FORM[1]/DIV[1]/DIV[1]/DIV[2]\" y_end=\"8333\" y_start=\"8301\">\n",
      "    <div class=\"ant-form-item-control-input\" x_end=\"939\" x_start=\"539\" xpath=\"//BODY/DIV[1]/DIV[1]/MAIN[1]/DIV[2]/ARTICLE[1]/DIV[2]/DIV[1]/SECTION[1]/SECTION[17]/SECTION[1]/FORM[1]/DIV[1]/DIV[1]/DIV[2]/DIV[1]\" y_end=\"8333\" y_start=\"8301\">\n",
      "     <div class=\"ant-form-item-control-input-content\" x_end=\"939\" x_start=\"539\" xpath=\"//BODY/DIV[1]/DIV[1]/MAIN[1]/DIV[2]/ARTICLE[1]/DIV[2]/DIV[1]/SECTION[1]/SECTION[17]/SECTION[1]/FORM[1]/DIV[1]/DIV[1]/DIV[2]/DIV[1]/DIV[1]\" y_end=\"8333\" y_start=\"8301\">\n",
      "      <div class=\"ant-space css-k7429z ant-space-horizontal ant-space-align-center\" style=\"gap: 8px;\" x_end=\"782\" x_start=\"539\" xpath=\"//BODY/DIV[1]/DIV[1]/MAIN[1]/DIV[2]/ARTICLE[1]/DIV[2]/DIV[1]/SECTION[1]/SECTION[17]/SECTION[1]/FORM[1]/DIV[1]/DIV[1]/DIV[2]/DIV[1]/DIV[1]/DIV[1]\" y_end=\"8333\" y_start=\"8301\">\n",
      "       <div class=\"ant-space-item\" style=\"\" x_end=\"699\" x_start=\"539\" xpath=\"//BODY/DIV[1]/DIV[1]/MAIN[1]/DIV[2]/ARTICLE[1]/DIV[2]/DIV[1]/SECTION[1]/SECTION[17]/SECTION[1]/FORM[1]/DIV[1]/DIV[1]/DIV[2]/DIV[1]/DIV[1]/DIV[1]/DIV[1]\" y_end=\"8333\" y_start=\"8301\">\n",
      "        <input aria-required=\"true\" class=\"ant-input css-k7429z\" id=\"complex-form_username\" placeholder=\"Please input\" style=\"width:160px\" type=\"text\" value=\"\" x_end=\"699\" x_start=\"539\" xpath=\"//BODY/DIV[1]/DIV[1]/MAIN[1]/DIV[2]/ARTICLE[1]/DIV[2]/DIV[1]/SECTION[1]/SECTION[17]/SECTION[1]/FORM[1]/DIV[1]/DIV[1]/DIV[2]/DIV[1]/DIV[1]/DIV[1]/DIV[1]/INPUT[1]\" y_end=\"8333\" y_start=\"8301\"/>\n",
      "       </div>\n",
      "       <div class=\"ant-space-item\" x_end=\"782\" x_start=\"707\" xpath=\"//BODY/DIV[1]/DIV[1]/MAIN[1]/DIV[2]/ARTICLE[1]/DIV[2]/DIV[1]/SECTION[1]/SECTION[17]/SECTION[1]/FORM[1]/DIV[1]/DIV[1]/DIV[2]/DIV[1]/DIV[1]/DIV[1]/DIV[2]\" y_end=\"8328\" y_start=\"8306\">\n",
      "        <a class=\"ant-typography css-k7429z\" href=\"#API\" x_end=\"782\" x_start=\"707\" xpath=\"//BODY/DIV[1]/DIV[1]/MAIN[1]/DIV[2]/ARTICLE[1]/DIV[2]/DIV[1]/SECTION[1]/SECTION[17]/SECTION[1]/FORM[1]/DIV[1]/DIV[1]/DIV[2]/DIV[1]/DIV[1]/DIV[1]/DIV[2]/A[1]\" y_end=\"8326\" y_start=\"8309\">\n",
      "         Need Help?\n",
      "        </a>\n",
      "       </div>\n",
      "      </div>\n",
      "     </div>\n",
      "    </div>\n",
      "   </div>\n",
      "  </div>\n",
      " </div>\n",
      " <div class=\"ant-form-item css-k7429z\" x_end=\"939\" x_start=\"339\" xpath=\"//BODY/DIV[1]/DIV[1]/MAIN[1]/DIV[2]/ARTICLE[1]/DIV[2]/DIV[1]/SECTION[1]/SECTION[17]/SECTION[1]/FORM[1]/DIV[2]\" y_end=\"8389\" y_start=\"8357\">\n",
      "  <div class=\"ant-row ant-form-item-row css-k7429z\" x_end=\"939\" x_start=\"339\" xpath=\"//BODY/DIV[1]/DIV[1]/MAIN[1]/DIV[2]/ARTICLE[1]/DIV[2]/DIV[1]/SECTION[1]/SECTION[17]/SECTION[1]/FORM[1]/DIV[2]/DIV[1]\" y_end=\"8389\" y_start=\"8357\">\n",
      "   <div class=\"ant-col ant-col-8 ant-form-item-label css-k7429z\" x_end=\"539\" x_start=\"339\" xpath=\"//BODY/DIV[1]/DIV[1]/MAIN[1]/DIV[2]/ARTICLE[1]/DIV[2]/DIV[1]/SECTION[1]/SECTION[17]/SECTION[1]/FORM[1]/DIV[2]/DIV[1]/DIV[1]\" y_end=\"8389\" y_start=\"8357\">\n",
      "    <label class=\"\" title=\"Address\" x_end=\"539\" x_start=\"472\" xpath=\"//BODY/DIV[1]/DIV[1]/MAIN[1]/DIV[2]/ARTICLE[1]/DIV[2]/DIV[1]/SECTION[1]/SECTION[17]/SECTION[1]/FORM[1]/DIV[2]/DIV[1]/DIV[1]/LABEL[1]\" y_end=\"8389\" y_start=\"8357\">\n",
      "     Address\n",
      "    </label>\n",
      "   </div>\n",
      "   <div class=\"ant-col ant-col-16 ant-form-item-control css-k7429z\" x_end=\"939\" x_start=\"539\" xpath=\"//BODY/DIV[1]/DIV[1]/MAIN[1]/DIV[2]/ARTICLE[1]/DIV[2]/DIV[1]/SECTION[1]/SECTION[17]/SECTION[1]/FORM[1]/DIV[2]/DIV[1]/DIV[2]\" y_end=\"8389\" y_start=\"8357\">\n",
      "    <div class=\"ant-form-item-control-input\" x_end=\"939\" x_start=\"539\" xpath=\"//BODY/DIV[1]/DIV[1]/MAIN[1]/DIV[2]/ARTICLE[1]/DIV[2]/DIV[1]/SECTION[1]/SECTION[17]/SECTION[1]/FORM[1]/DIV[2]/DIV[1]/DIV[2]/DIV[1]\" y_end=\"8389\" y_start=\"8357\">\n",
      "     <div class=\"ant-form-item-control-input-content\" x_end=\"939\" x_start=\"539\" xpath=\"//BODY/DIV[1]/DIV[1]/MAIN[1]/DIV[2]/ARTICLE[1]/DIV[2]/DIV[1]/SECTION[1]/SECTION[17]/SECTION[1]/FORM[1]/DIV[2]/DIV[1]/DIV[2]/DIV[1]/DIV[1]\" y_end=\"8389\" y_start=\"8357\">\n",
      "      <div class=\"ant-space-compact css-k7429z\" x_end=\"860\" x_start=\"539\" xpath=\"//BODY/DIV[1]/DIV[1]/MAIN[1]/DIV[2]/ARTICLE[1]/DIV[2]/DIV[1]/SECTION[1]/SECTION[17]/SECTION[1]/FORM[1]/DIV[2]/DIV[1]/DIV[2]/DIV[1]/DIV[1]/DIV[1]\" y_end=\"8389\" y_start=\"8357\">\n",
      "       <div aria-required=\"true\" class=\"ant-select ant-select-in-form-item ant-select-compact-item ant-select-compact-first-item css-k7429z ant-select-single ant-select-show-arrow\" x_end=\"748\" x_start=\"539\" xpath=\"//BODY/DIV[1]/DIV[1]/MAIN[1]/DIV[2]/ARTICLE[1]/DIV[2]/DIV[1]/SECTION[1]/SECTION[17]/SECTION[1]/FORM[1]/DIV[2]/DIV[1]/DIV[2]/DIV[1]/DIV[1]/DIV[1]/DIV[1]\" y_end=\"8389\" y_start=\"8357\">\n",
      "        <div class=\"ant-select-selector\" x_end=\"748\" x_start=\"539\" xpath=\"//BODY/DIV[1]/DIV[1]/MAIN[1]/DIV[2]/ARTICLE[1]/DIV[2]/DIV[1]/SECTION[1]/SECTION[17]/SECTION[1]/FORM[1]/DIV[2]/DIV[1]/DIV[2]/DIV[1]/DIV[1]/DIV[1]/DIV[1]/DIV[1]\" y_end=\"8389\" y_start=\"8357\">\n",
      "         <span class=\"ant-select-selection-search\" x_end=\"736\" x_start=\"551\" xpath=\"//BODY/DIV[1]/DIV[1]/MAIN[1]/DIV[2]/ARTICLE[1]/DIV[2]/DIV[1]/SECTION[1]/SECTION[17]/SECTION[1]/FORM[1]/DIV[2]/DIV[1]/DIV[2]/DIV[1]/DIV[1]/DIV[1]/DIV[1]/DIV[1]/SPAN[1]\" y_end=\"8388\" y_start=\"8358\">\n",
      "          <input aria-activedescendant=\"complex-form_address_province_list_0\" aria-autocomplete=\"list\" aria-controls=\"complex-form_address_province_list\" aria-expanded=\"false\" aria-haspopup=\"listbox\" aria-owns=\"complex-form_address_province_list\" aria-required=\"true\" autocomplete=\"off\" class=\"ant-select-selection-search-input\" id=\"complex-form_address_province\" readonly=\"\" role=\"combobox\" style=\"opacity:0\" type=\"search\" unselectable=\"on\" value=\"\" x_end=\"736\" x_start=\"551\" xpath=\"//BODY/DIV[1]/DIV[1]/MAIN[1]/DIV[2]/ARTICLE[1]/DIV[2]/DIV[1]/SECTION[1]/SECTION[17]/SECTION[1]/FORM[1]/DIV[2]/DIV[1]/DIV[2]/DIV[1]/DIV[1]/DIV[1]/DIV[1]/DIV[1]/SPAN[1]/INPUT[1]\" y_end=\"8388\" y_start=\"8358\"/>\n",
      "         </span>\n",
      "         <span class=\"ant-select-selection-placeholder\" x_end=\"736\" x_start=\"551\" xpath=\"//BODY/DIV[1]/DIV[1]/MAIN[1]/DIV[2]/ARTICLE[1]/DIV[2]/DIV[1]/SECTION[1]/SECTION[17]/SECTION[1]/FORM[1]/DIV[2]/DIV[1]/DIV[2]/DIV[1]/DIV[1]/DIV[1]/DIV[1]/DIV[1]/SPAN[2]\" y_end=\"8388\" y_start=\"8358\">\n",
      "          Select province\n",
      "         </span>\n",
      "        </div>\n",
      "        <span aria-hidden=\"true\" class=\"ant-select-arrow\" style=\"user-select:none;-webkit-user-select:none\" unselectable=\"on\" x_end=\"737\" x_start=\"725\" xpath=\"//BODY/DIV[1]/DIV[1]/MAIN[1]/DIV[2]/ARTICLE[1]/DIV[2]/DIV[1]/SECTION[1]/SECTION[17]/SECTION[1]/FORM[1]/DIV[2]/DIV[1]/DIV[2]/DIV[1]/DIV[1]/DIV[1]/DIV[1]/SPAN[1]\" y_end=\"8379\" y_start=\"8367\">\n",
      "         <span aria-label=\"down\" class=\"anticon anticon-down ant-select-suffix\" role=\"img\" x_end=\"737\" x_start=\"725\" xpath=\"//BODY/DIV[1]/DIV[1]/MAIN[1]/DIV[2]/ARTICLE[1]/DIV[2]/DIV[1]/SECTION[1]/SECTION[17]/SECTION[1]/FORM[1]/DIV[2]/DIV[1]/DIV[2]/DIV[1]/DIV[1]/DIV[1]/DIV[1]/SPAN[1]/SPAN[1]\" y_end=\"8379\" y_start=\"8367\">\n",
      "          <svg aria-hidden=\"true\" data-icon=\"down\" fill=\"currentColor\" focusable=\"false\" height=\"1em\" viewbox=\"64 64 896 896\" width=\"1em\" x_end=\"737\" x_start=\"725\" xpath=\"//BODY/DIV[1]/DIV[1]/MAIN[1]/DIV[2]/ARTICLE[1]/DIV[2]/DIV[1]/SECTION[1]/SECTION[17]/SECTION[1]/FORM[1]/DIV[2]/DIV[1]/DIV[2]/DIV[1]/DIV[1]/DIV[1]/DIV[1]/SPAN[1]/SPAN[1]/svg[1]\" y_end=\"8379\" y_start=\"8367\">\n",
      "           <path d=\"M884 256h-75c-5.1 0-9.9 2.5-12.9 6.6L512 654.2 227.9 262.6c-3-4.1-7.8-6.6-12.9-6.6h-75c-6.5 0-10.3 7.4-6.5 12.7l352.6 486.1c12.8 17.6 39 17.6 51.7 0l352.6-486.1c3.9-5.3.1-12.7-6.4-12.7z\" x_end=\"736.1784057617188\" x_start=\"726\" xpath=\"//BODY/DIV[1]/DIV[1]/MAIN[1]/DIV[2]/ARTICLE[1]/DIV[2]/DIV[1]/SECTION[1]/SECTION[17]/SECTION[1]/FORM[1]/DIV[2]/DIV[1]/DIV[2]/DIV[1]/DIV[1]/DIV[1]/DIV[1]/SPAN[1]/SPAN[1]/svg[1]/path[1]\" y_end=\"8376.85693359375\" y_start=\"8370\">\n",
      "           </path>\n",
      "          </svg>\n",
      "         </span>\n",
      "        </span>\n",
      "       </div>\n",
      "       <input aria-required=\"true\" class=\"ant-input css-k7429z ant-input-compact-item ant-input-compact-last-item\" id=\"complex-form_address_street\" placeholder=\"Input street\" style=\"width:50%\" type=\"text\" value=\"\" x_end=\"860\" x_start=\"747\" xpath=\"//BODY/DIV[1]/DIV[1]/MAIN[1]/DIV[2]/ARTICLE[1]/DIV[2]/DIV[1]/SECTION[1]/SECTION[17]/SECTION[1]/FORM[1]/DIV[2]/DIV[1]/DIV[2]/DIV[1]/DIV[1]/DIV[1]/INPUT[1]\" y_end=\"8389\" y_start=\"8357\"/>\n",
      "      </div>\n",
      "     </div>\n",
      "    </div>\n",
      "   </div>\n",
      "  </div>\n",
      " </div>\n",
      " <div class=\"ant-form-item css-k7429z\" style=\"margin-bottom:0\" x_end=\"939\" x_start=\"339\" xpath=\"//BODY/DIV[1]/DIV[1]/MAIN[1]/DIV[2]/ARTICLE[1]/DIV[2]/DIV[1]/SECTION[1]/SECTION[17]/SECTION[1]/FORM[1]/DIV[3]\" y_end=\"8469\" y_start=\"8413\">\n",
      "  <div class=\"ant-row ant-form-item-row css-k7429z\" x_end=\"939\" x_start=\"339\" xpath=\"//BODY/DIV[1]/DIV[1]/MAIN[1]/DIV[2]/ARTICLE[1]/DIV[2]/DIV[1]/SECTION[1]/SECTION[17]/SECTION[1]/FORM[1]/DIV[3]/DIV[1]\" y_end=\"8469\" y_start=\"8413\">\n",
      "   <div class=\"ant-col ant-col-8 ant-form-item-label css-k7429z\" x_end=\"539\" x_start=\"339\" xpath=\"//BODY/DIV[1]/DIV[1]/MAIN[1]/DIV[2]/ARTICLE[1]/DIV[2]/DIV[1]/SECTION[1]/SECTION[17]/SECTION[1]/FORM[1]/DIV[3]/DIV[1]/DIV[1]\" y_end=\"8469\" y_start=\"8413\">\n",
      "    <label class=\"\" title=\"BirthDate\" x_end=\"539\" x_start=\"464\" xpath=\"//BODY/DIV[1]/DIV[1]/MAIN[1]/DIV[2]/ARTICLE[1]/DIV[2]/DIV[1]/SECTION[1]/SECTION[17]/SECTION[1]/FORM[1]/DIV[3]/DIV[1]/DIV[1]/LABEL[1]\" y_end=\"8445\" y_start=\"8413\">\n",
      "     BirthDate\n",
      "    </label>\n",
      "   </div>\n",
      "   <div class=\"ant-col ant-col-16 ant-form-item-control css-k7429z\" x_end=\"939\" x_start=\"539\" xpath=\"//BODY/DIV[1]/DIV[1]/MAIN[1]/DIV[2]/ARTICLE[1]/DIV[2]/DIV[1]/SECTION[1]/SECTION[17]/SECTION[1]/FORM[1]/DIV[3]/DIV[1]/DIV[2]\" y_end=\"8469\" y_start=\"8413\">\n",
      "    <div class=\"ant-form-item-control-input\" x_end=\"939\" x_start=\"539\" xpath=\"//BODY/DIV[1]/DIV[1]/MAIN[1]/DIV[2]/ARTICLE[1]/DIV[2]/DIV[1]/SECTION[1]/SECTION[17]/SECTION[1]/FORM[1]/DIV[3]/DIV[1]/DIV[2]/DIV[1]\" y_end=\"8469\" y_start=\"8413\">\n",
      "     <div class=\"ant-form-item-control-input-content\" x_end=\"939\" x_start=\"539\" xpath=\"//BODY/DIV[1]/DIV[1]/MAIN[1]/DIV[2]/ARTICLE[1]/DIV[2]/DIV[1]/SECTION[1]/SECTION[17]/SECTION[1]/FORM[1]/DIV[3]/DIV[1]/DIV[2]/DIV[1]/DIV[1]\" y_end=\"8469\" y_start=\"8413\">\n",
      "      <div class=\"ant-form-item css-k7429z\" style=\"display:inline-block;width:calc(50% - 8px)\" x_end=\"731\" x_start=\"539\" xpath=\"//BODY/DIV[1]/DIV[1]/MAIN[1]/DIV[2]/ARTICLE[1]/DIV[2]/DIV[1]/SECTION[1]/SECTION[17]/SECTION[1]/FORM[1]/DIV[3]/DIV[1]/DIV[2]/DIV[1]/DIV[1]/DIV[1]\" y_end=\"8445\" y_start=\"8413\">\n",
      "       <div class=\"ant-row ant-form-item-row css-k7429z\" x_end=\"731\" x_start=\"539\" xpath=\"//BODY/DIV[1]/DIV[1]/MAIN[1]/DIV[2]/ARTICLE[1]/DIV[2]/DIV[1]/SECTION[1]/SECTION[17]/SECTION[1]/FORM[1]/DIV[3]/DIV[1]/DIV[2]/DIV[1]/DIV[1]/DIV[1]/DIV[1]\" y_end=\"8445\" y_start=\"8413\">\n",
      "        <div class=\"ant-col ant-form-item-control css-k7429z\" x_end=\"731\" x_start=\"539\" xpath=\"//BODY/DIV[1]/DIV[1]/MAIN[1]/DIV[2]/ARTICLE[1]/DIV[2]/DIV[1]/SECTION[1]/SECTION[17]/SECTION[1]/FORM[1]/DIV[3]/DIV[1]/DIV[2]/DIV[1]/DIV[1]/DIV[1]/DIV[1]/DIV[1]\" y_end=\"8445\" y_start=\"8413\">\n",
      "         <div class=\"ant-form-item-control-input\" x_end=\"731\" x_start=\"539\" xpath=\"//BODY/DIV[1]/DIV[1]/MAIN[1]/DIV[2]/ARTICLE[1]/DIV[2]/DIV[1]/SECTION[1]/SECTION[17]/SECTION[1]/FORM[1]/DIV[3]/DIV[1]/DIV[2]/DIV[1]/DIV[1]/DIV[1]/DIV[1]/DIV[1]/DIV[1]\" y_end=\"8445\" y_start=\"8413\">\n",
      "          <div class=\"ant-form-item-control-input-content\" x_end=\"731\" x_start=\"539\" xpath=\"//BODY/DIV[1]/DIV[1]/MAIN[1]/DIV[2]/ARTICLE[1]/DIV[2]/DIV[1]/SECTION[1]/SECTION[17]/SECTION[1]/FORM[1]/DIV[3]/DIV[1]/DIV[2]/DIV[1]/DIV[1]/DIV[1]/DIV[1]/DIV[1]/DIV[1]/DIV[1]\" y_end=\"8445\" y_start=\"8413\">\n",
      "           <input aria-required=\"true\" class=\"ant-input css-k7429z\" id=\"complex-form_year\" placeholder=\"Input birth year\" type=\"text\" value=\"\" x_end=\"731\" x_start=\"539\" xpath=\"//BODY/DIV[1]/DIV[1]/MAIN[1]/DIV[2]/ARTICLE[1]/DIV[2]/DIV[1]/SECTION[1]/SECTION[17]/SECTION[1]/FORM[1]/DIV[3]/DIV[1]/DIV[2]/DIV[1]/DIV[1]/DIV[1]/DIV[1]/DIV[1]/DIV[1]/DIV[1]/INPUT[1]\" y_end=\"8445\" y_start=\"8413\"/>\n",
      "          </div>\n",
      "         </div>\n",
      "        </div>\n",
      "       </div>\n",
      "      </div>\n",
      "      <div class=\"ant-form-item css-k7429z\" style=\"display:inline-block;width:calc(50% - 8px);margin:0 8px\" x_end=\"931\" x_start=\"739\" xpath=\"//BODY/DIV[1]/DIV[1]/MAIN[1]/DIV[2]/ARTICLE[1]/DIV[2]/DIV[1]/SECTION[1]/SECTION[17]/SECTION[1]/FORM[1]/DIV[3]/DIV[1]/DIV[2]/DIV[1]/DIV[1]/DIV[2]\" y_end=\"8445\" y_start=\"8413\">\n",
      "       <div class=\"ant-row ant-form-item-row css-k7429z\" x_end=\"931\" x_start=\"739\" xpath=\"//BODY/DIV[1]/DIV[1]/MAIN[1]/DIV[2]/ARTICLE[1]/DIV[2]/DIV[1]/SECTION[1]/SECTION[17]/SECTION[1]/FORM[1]/DIV[3]/DIV[1]/DIV[2]/DIV[1]/DIV[1]/DIV[2]/DIV[1]\" y_end=\"8445\" y_start=\"8413\">\n",
      "        <div class=\"ant-col ant-form-item-control css-k7429z\" x_end=\"931\" x_start=\"739\" xpath=\"//BODY/DIV[1]/DIV[1]/MAIN[1]/DIV[2]/ARTICLE[1]/DIV[2]/DIV[1]/SECTION[1]/SECTION[17]/SECTION[1]/FORM[1]/DIV[3]/DIV[1]/DIV[2]/DIV[1]/DIV[1]/DIV[2]/DIV[1]/DIV[1]\" y_end=\"8445\" y_start=\"8413\">\n",
      "         <div class=\"ant-form-item-control-input\" x_end=\"931\" x_start=\"739\" xpath=\"//BODY/DIV[1]/DIV[1]/MAIN[1]/DIV[2]/ARTICLE[1]/DIV[2]/DIV[1]/SECTION[1]/SECTION[17]/SECTION[1]/FORM[1]/DIV[3]/DIV[1]/DIV[2]/DIV[1]/DIV[1]/DIV[2]/DIV[1]/DIV[1]/DIV[1]\" y_end=\"8445\" y_start=\"8413\">\n",
      "          <div class=\"ant-form-item-control-input-content\" x_end=\"931\" x_start=\"739\" xpath=\"//BODY/DIV[1]/DIV[1]/MAIN[1]/DIV[2]/ARTICLE[1]/DIV[2]/DIV[1]/SECTION[1]/SECTION[17]/SECTION[1]/FORM[1]/DIV[3]/DIV[1]/DIV[2]/DIV[1]/DIV[1]/DIV[2]/DIV[1]/DIV[1]/DIV[1]/DIV[1]\" y_end=\"8445\" y_start=\"8413\">\n",
      "           <input aria-required=\"true\" class=\"ant-input css-k7429z\" id=\"complex-form_month\" placeholder=\"Input birth month\" type=\"text\" value=\"\" x_end=\"931\" x_start=\"739\" xpath=\"//BODY/DIV[1]/DIV[1]/MAIN[1]/DIV[2]/ARTICLE[1]/DIV[2]/DIV[1]/SECTION[1]/SECTION[17]/SECTION[1]/FORM[1]/DIV[3]/DIV[1]/DIV[2]/DIV[1]/DIV[1]/DIV[2]/DIV[1]/DIV[1]/DIV[1]/DIV[1]/INPUT[1]\" y_end=\"8445\" y_start=\"8413\"/>\n",
      "          </div>\n",
      "         </div>\n",
      "        </div>\n",
      "       </div>\n",
      "      </div>\n",
      "     </div>\n",
      "    </div>\n",
      "   </div>\n",
      "  </div>\n",
      " </div>\n",
      " <div class=\"ant-form-item css-k7429z\" x_end=\"939\" x_start=\"339\" xpath=\"//BODY/DIV[1]/DIV[1]/MAIN[1]/DIV[2]/ARTICLE[1]/DIV[2]/DIV[1]/SECTION[1]/SECTION[17]/SECTION[1]/FORM[1]/DIV[4]\" y_end=\"8501\" y_start=\"8469\">\n",
      "  <div class=\"ant-row ant-form-item-row css-k7429z\" x_end=\"939\" x_start=\"339\" xpath=\"//BODY/DIV[1]/DIV[1]/MAIN[1]/DIV[2]/ARTICLE[1]/DIV[2]/DIV[1]/SECTION[1]/SECTION[17]/SECTION[1]/FORM[1]/DIV[4]/DIV[1]\" y_end=\"8501\" y_start=\"8469\">\n",
      "   <div class=\"ant-col ant-col-8 ant-form-item-label css-k7429z\" x_end=\"539\" x_start=\"339\" xpath=\"//BODY/DIV[1]/DIV[1]/MAIN[1]/DIV[2]/ARTICLE[1]/DIV[2]/DIV[1]/SECTION[1]/SECTION[17]/SECTION[1]/FORM[1]/DIV[4]/DIV[1]/DIV[1]\" y_end=\"8501\" y_start=\"8469\">\n",
      "    <label class=\"ant-form-item-no-colon\" title=\" \" x_end=\"539\" x_start=\"529\" xpath=\"//BODY/DIV[1]/DIV[1]/MAIN[1]/DIV[2]/ARTICLE[1]/DIV[2]/DIV[1]/SECTION[1]/SECTION[17]/SECTION[1]/FORM[1]/DIV[4]/DIV[1]/DIV[1]/LABEL[1]\" y_end=\"8501\" y_start=\"8469\">\n",
      "    </label>\n",
      "   </div>\n",
      "   <div class=\"ant-col ant-col-16 ant-form-item-control css-k7429z\" x_end=\"939\" x_start=\"539\" xpath=\"//BODY/DIV[1]/DIV[1]/MAIN[1]/DIV[2]/ARTICLE[1]/DIV[2]/DIV[1]/SECTION[1]/SECTION[17]/SECTION[1]/FORM[1]/DIV[4]/DIV[1]/DIV[2]\" y_end=\"8501\" y_start=\"8469\">\n",
      "    <div class=\"ant-form-item-control-input\" x_end=\"939\" x_start=\"539\" xpath=\"//BODY/DIV[1]/DIV[1]/MAIN[1]/DIV[2]/ARTICLE[1]/DIV[2]/DIV[1]/SECTION[1]/SECTION[17]/SECTION[1]/FORM[1]/DIV[4]/DIV[1]/DIV[2]/DIV[1]\" y_end=\"8501\" y_start=\"8469\">\n",
      "     <div class=\"ant-form-item-control-input-content\" x_end=\"939\" x_start=\"539\" xpath=\"//BODY/DIV[1]/DIV[1]/MAIN[1]/DIV[2]/ARTICLE[1]/DIV[2]/DIV[1]/SECTION[1]/SECTION[17]/SECTION[1]/FORM[1]/DIV[4]/DIV[1]/DIV[2]/DIV[1]/DIV[1]\" y_end=\"8501\" y_start=\"8469\">\n",
      "      <button class=\"ant-btn css-k7429z ant-btn-primary\" type=\"submit\" x_end=\"617\" x_start=\"539\" xpath=\"//BODY/DIV[1]/DIV[1]/MAIN[1]/DIV[2]/ARTICLE[1]/DIV[2]/DIV[1]/SECTION[1]/SECTION[17]/SECTION[1]/FORM[1]/DIV[4]/DIV[1]/DIV[2]/DIV[1]/DIV[1]/BUTTON[1]\" y_end=\"8501\" y_start=\"8469\">\n",
      "       <span x_end=\"601\" x_start=\"555\" xpath=\"//BODY/DIV[1]/DIV[1]/MAIN[1]/DIV[2]/ARTICLE[1]/DIV[2]/DIV[1]/SECTION[1]/SECTION[17]/SECTION[1]/FORM[1]/DIV[4]/DIV[1]/DIV[2]/DIV[1]/DIV[1]/BUTTON[1]/SPAN[1]\" y_end=\"8496\" y_start=\"8474\">\n",
      "        Submit\n",
      "       </span>\n",
      "      </button>\n",
      "     </div>\n",
      "    </div>\n",
      "   </div>\n",
      "  </div>\n",
      " </div>\n",
      "</form>\n",
      "\n"
     ]
    }
   ],
   "source": [
    "print(form_doc.prettify())"
   ]
  },
  {
   "cell_type": "markdown",
   "id": "7532e197",
   "metadata": {},
   "source": [
    "# Get Processable Nodes"
   ]
  },
  {
   "cell_type": "code",
   "execution_count": 8,
   "id": "7efeeff0",
   "metadata": {
    "ExecuteTime": {
     "end_time": "2023-06-01T20:41:37.257958Z",
     "start_time": "2023-06-01T20:41:37.247627Z"
    }
   },
   "outputs": [],
   "source": [
    "'''def is_displayed(element):\n",
    "    if isinstance(element, NavigableString):\n",
    "        return True\n",
    "    x_span = (\n",
    "            float(element.attrs['x_start']),\n",
    "            float(element.attrs['x_end'])\n",
    "    )\n",
    "    y_span = (\n",
    "        float(element.attrs['y_start']),\n",
    "        float(element.attrs['y_end'])\n",
    "    )\n",
    "    return x_span[0] != x_span[1] and y_span[0] != y_span[1]'''\n",
    "\n",
    "\n",
    "def should_skip_processing(element):\n",
    "    should_skip = \\\n",
    "        isinstance(element, Comment) or \\\n",
    "        (isinstance(element, NavigableString) and element.strip() == '') # or \\\n",
    "        # not is_displayed(element)\n",
    "    return should_skip\n",
    "\n",
    "\n",
    "def is_force_not_keep(element):\n",
    "    # TODO: list of elements not to keep, like children of svg\n",
    "    return False\n",
    "\n",
    "\n",
    "def is_force_keep(element):\n",
    "    force_keep_tags = ['label', 'input', 'textarea', 'select', 'option', 'button']\n",
    "    return element.name in force_keep_tags\n",
    "    \n",
    "\n",
    "\n",
    "def has_action_listener(element):\n",
    "    # TODO: check if element has JavaScript action listeners\n",
    "    # such as the case of <div> instead of <button> for submit\n",
    "    return False\n",
    "\n",
    "\n",
    "def is_processable(element):\n",
    "    if not isinstance(element, NavigableString) and is_force_not_keep(element):\n",
    "        return False\n",
    "    \n",
    "    if isinstance(element, NavigableString):\n",
    "        if element.parent is not None and len(element.parent.contents) > 1:\n",
    "            return True\n",
    "    \n",
    "    elif len(element.contents) == 0:\n",
    "        return True\n",
    "    \n",
    "    elif len(element.contents) == 1 and isinstance(element.contents[0], NavigableString):\n",
    "        return True\n",
    "    \n",
    "    elif is_force_keep(element):\n",
    "        return True\n",
    "    \n",
    "    elif has_action_listener(element):\n",
    "        return True\n",
    "    \n",
    "    return False\n",
    "        \n",
    "\n",
    "\n",
    "def get_processable_nodes(soup):\n",
    "    nodes = []\n",
    "    \n",
    "    for element in soup.recursiveChildGenerator():\n",
    "        if should_skip_processing(element):\n",
    "            continue\n",
    "        if is_processable(element):\n",
    "            nodes.append(element)\n",
    "    return nodes"
   ]
  },
  {
   "cell_type": "code",
   "execution_count": 9,
   "id": "b3172f35",
   "metadata": {
    "ExecuteTime": {
     "end_time": "2023-06-01T20:41:37.871800Z",
     "start_time": "2023-06-01T20:41:37.867564Z"
    }
   },
   "outputs": [],
   "source": [
    "form_bs_nodes = get_processable_nodes(form_doc)"
   ]
  },
  {
   "cell_type": "code",
   "execution_count": 10,
   "id": "b2a62ea2",
   "metadata": {
    "ExecuteTime": {
     "end_time": "2023-06-01T20:41:38.413326Z",
     "start_time": "2023-06-01T20:41:38.405632Z"
    }
   },
   "outputs": [
    {
     "data": {
      "text/plain": [
       "<label class=\"\" title=\"Username\" x_end=\"539\" x_start=\"459\" xpath=\"//BODY/DIV[1]/DIV[1]/MAIN[1]/DIV[2]/ARTICLE[1]/DIV[2]/DIV[1]/SECTION[1]/SECTION[17]/SECTION[1]/FORM[1]/DIV[1]/DIV[1]/DIV[1]/LABEL[1]\" y_end=\"8333\" y_start=\"8301\">Username</label>"
      ]
     },
     "execution_count": 10,
     "metadata": {},
     "output_type": "execute_result"
    }
   ],
   "source": [
    "form_bs_nodes[0]"
   ]
  },
  {
   "cell_type": "markdown",
   "id": "2c925b32",
   "metadata": {},
   "source": [
    "# Create a Graph From Nodes"
   ]
  },
  {
   "cell_type": "code",
   "execution_count": 11,
   "id": "c1f9fe95",
   "metadata": {
    "ExecuteTime": {
     "end_time": "2023-06-01T20:41:39.992017Z",
     "start_time": "2023-06-01T20:41:39.987737Z"
    }
   },
   "outputs": [],
   "source": [
    "from enum import Enum\n",
    "\n",
    "\n",
    "class EdgeDir(Enum):\n",
    "    IN = 'IN'\n",
    "    OUT = 'OUT'\n",
    "\n",
    "\n",
    "class EdgeType(Enum):\n",
    "    # connection via for attribute\n",
    "    FOR = 'FOR'\n",
    "    \n",
    "    # neighbor connections\n",
    "    CHILD = 'CHILD'\n",
    "    NLEFT = 'NLEFT'\n",
    "    NRIGHT = 'NRIGHT'\n",
    "    NTOP = 'NTOP'\n",
    "    NBOTTOM = 'NBOTTOM'"
   ]
  },
  {
   "cell_type": "code",
   "execution_count": 12,
   "id": "2273b702",
   "metadata": {
    "ExecuteTime": {
     "end_time": "2023-06-01T20:41:40.658903Z",
     "start_time": "2023-06-01T20:41:40.647599Z"
    }
   },
   "outputs": [],
   "source": [
    "from math import floor\n",
    "\n",
    "\n",
    "class Graph:\n",
    "    def __init__(self):\n",
    "        self.nodes = {}\n",
    "        self.edges = []\n",
    "    \n",
    "    \n",
    "    def add_node(self, node):\n",
    "        self.nodes[node.get_id()] = node\n",
    "    \n",
    "    \n",
    "    def add_edge(self, source_id, target_id, conn_type):\n",
    "        source = self.nodes[source_id]\n",
    "        target = self.nodes[target_id]\n",
    "        \n",
    "        edge = Edge(source, target, conn_type)\n",
    "        \n",
    "        source.add_edge(edge, EdgeDir.OUT)\n",
    "        target.add_edge(edge, EdgeDir.IN)\n",
    "        \n",
    "        self.edges.append(edge)\n",
    "\n",
    "\n",
    "class Node:\n",
    "    def __init__(self, bs_element):\n",
    "        self.element = bs_element\n",
    "        \n",
    "        self.xpath = bs_element.attrs['xpath']\n",
    "        self.x_span = (\n",
    "            floor(float(bs_element.attrs['x_start'])),\n",
    "            floor(float(bs_element.attrs['x_end']))\n",
    "        )\n",
    "        self.y_span = (\n",
    "            floor(float(bs_element.attrs['y_start'])),\n",
    "            floor(float(bs_element.attrs['y_end']))\n",
    "        )\n",
    "        \n",
    "        self.in_links = []\n",
    "        self.out_links = []\n",
    "    \n",
    "    \n",
    "    def add_edge(self, edge, direction):\n",
    "        if direction == EdgeDir.IN:\n",
    "            self.in_links.append(edge)\n",
    "        else:\n",
    "            self.out_links.append(edge)\n",
    "    \n",
    "    \n",
    "    def get_area(self):\n",
    "        return (self.x_span[1] - self.x_span[0]) * (self.y_span[1] - self.y_span[0])\n",
    "\n",
    "        \n",
    "    \n",
    "    def get_id(self):\n",
    "        if 'id' in self.element.attrs:\n",
    "            return self.element.attrs['id']\n",
    "        return self.xpath\n",
    "    \n",
    "    \n",
    "    def __repr__(self):\n",
    "        return str(self)\n",
    "   \n",
    "\n",
    "    def __str__(self):\n",
    "        return f'<{self.element.name}> at y: {str(self.y_span)}, x: {str(self.x_span)}'\n",
    "\n",
    "\n",
    "class Edge:\n",
    "    def __init__(self, source, target, conn_type):\n",
    "        self.source = source\n",
    "        self.target = target\n",
    "        self.conn_type = conn_type\n",
    "    \n",
    "    \n",
    "    def __repr__(self):\n",
    "        return str(self)\n",
    "    \n",
    "    \n",
    "    def __str__(self):\n",
    "        return f'edge {self.conn_type.value} from {self.source} to {self.target}'"
   ]
  },
  {
   "cell_type": "code",
   "execution_count": 13,
   "id": "516e0914",
   "metadata": {
    "ExecuteTime": {
     "end_time": "2023-06-01T20:41:41.206797Z",
     "start_time": "2023-06-01T20:41:41.203435Z"
    }
   },
   "outputs": [],
   "source": [
    "graph = Graph()\n",
    "\n",
    "for n in form_bs_nodes:\n",
    "    node = Node(n)\n",
    "    graph.add_node(node)"
   ]
  },
  {
   "cell_type": "code",
   "execution_count": 14,
   "id": "e6ec12df",
   "metadata": {
    "ExecuteTime": {
     "end_time": "2023-06-01T20:41:41.726161Z",
     "start_time": "2023-06-01T20:41:41.721367Z"
    }
   },
   "outputs": [
    {
     "data": {
      "text/plain": [
       "{'//BODY/DIV[1]/DIV[1]/MAIN[1]/DIV[2]/ARTICLE[1]/DIV[2]/DIV[1]/SECTION[1]/SECTION[17]/SECTION[1]/FORM[1]/DIV[1]/DIV[1]/DIV[1]/LABEL[1]': <label> at y: (8301, 8333), x: (459, 539),\n",
       " 'complex-form_username': <input> at y: (8301, 8333), x: (539, 699),\n",
       " '//BODY/DIV[1]/DIV[1]/MAIN[1]/DIV[2]/ARTICLE[1]/DIV[2]/DIV[1]/SECTION[1]/SECTION[17]/SECTION[1]/FORM[1]/DIV[1]/DIV[1]/DIV[2]/DIV[1]/DIV[1]/DIV[1]/DIV[2]/A[1]': <a> at y: (8309, 8326), x: (707, 782),\n",
       " '//BODY/DIV[1]/DIV[1]/MAIN[1]/DIV[2]/ARTICLE[1]/DIV[2]/DIV[1]/SECTION[1]/SECTION[17]/SECTION[1]/FORM[1]/DIV[2]/DIV[1]/DIV[1]/LABEL[1]': <label> at y: (8357, 8389), x: (472, 539),\n",
       " 'complex-form_address_province': <input> at y: (8358, 8388), x: (551, 736),\n",
       " '//BODY/DIV[1]/DIV[1]/MAIN[1]/DIV[2]/ARTICLE[1]/DIV[2]/DIV[1]/SECTION[1]/SECTION[17]/SECTION[1]/FORM[1]/DIV[2]/DIV[1]/DIV[2]/DIV[1]/DIV[1]/DIV[1]/DIV[1]/DIV[1]/SPAN[2]': <span> at y: (8358, 8388), x: (551, 736),\n",
       " '//BODY/DIV[1]/DIV[1]/MAIN[1]/DIV[2]/ARTICLE[1]/DIV[2]/DIV[1]/SECTION[1]/SECTION[17]/SECTION[1]/FORM[1]/DIV[2]/DIV[1]/DIV[2]/DIV[1]/DIV[1]/DIV[1]/DIV[1]/SPAN[1]/SPAN[1]/svg[1]/path[1]': <path> at y: (8370, 8376), x: (726, 736),\n",
       " 'complex-form_address_street': <input> at y: (8357, 8389), x: (747, 860),\n",
       " '//BODY/DIV[1]/DIV[1]/MAIN[1]/DIV[2]/ARTICLE[1]/DIV[2]/DIV[1]/SECTION[1]/SECTION[17]/SECTION[1]/FORM[1]/DIV[3]/DIV[1]/DIV[1]/LABEL[1]': <label> at y: (8413, 8445), x: (464, 539),\n",
       " 'complex-form_year': <input> at y: (8413, 8445), x: (539, 731),\n",
       " 'complex-form_month': <input> at y: (8413, 8445), x: (739, 931),\n",
       " '//BODY/DIV[1]/DIV[1]/MAIN[1]/DIV[2]/ARTICLE[1]/DIV[2]/DIV[1]/SECTION[1]/SECTION[17]/SECTION[1]/FORM[1]/DIV[4]/DIV[1]/DIV[1]/LABEL[1]': <label> at y: (8469, 8501), x: (529, 539),\n",
       " '//BODY/DIV[1]/DIV[1]/MAIN[1]/DIV[2]/ARTICLE[1]/DIV[2]/DIV[1]/SECTION[1]/SECTION[17]/SECTION[1]/FORM[1]/DIV[4]/DIV[1]/DIV[2]/DIV[1]/DIV[1]/BUTTON[1]': <button> at y: (8469, 8501), x: (539, 617),\n",
       " '//BODY/DIV[1]/DIV[1]/MAIN[1]/DIV[2]/ARTICLE[1]/DIV[2]/DIV[1]/SECTION[1]/SECTION[17]/SECTION[1]/FORM[1]/DIV[4]/DIV[1]/DIV[2]/DIV[1]/DIV[1]/BUTTON[1]/SPAN[1]': <span> at y: (8474, 8496), x: (555, 601)}"
      ]
     },
     "execution_count": 14,
     "metadata": {},
     "output_type": "execute_result"
    }
   ],
   "source": [
    "graph.nodes"
   ]
  },
  {
   "cell_type": "markdown",
   "id": "9880c7ad",
   "metadata": {},
   "source": [
    "# Add Proximity Links"
   ]
  },
  {
   "cell_type": "code",
   "execution_count": 15,
   "id": "978af6ac",
   "metadata": {
    "ExecuteTime": {
     "end_time": "2023-06-01T20:41:42.793191Z",
     "start_time": "2023-06-01T20:41:42.781222Z"
    }
   },
   "outputs": [],
   "source": [
    "def tuple_avg(t):\n",
    "    return (t[0] + t[1]) / 2\n",
    "\n",
    "\n",
    "def binary_search_span(span_list, item_span):\n",
    "    '''\n",
    "    Performs a binary search on a span list, which is a list of tuples (start, end).\n",
    "    The list is ordered by the first member of the tuple.\n",
    "    The search key is (start + end) / 2\n",
    "    '''\n",
    "    if len(span_list) == 0:\n",
    "        return -1\n",
    "    \n",
    "    if len(span_list) == 1:\n",
    "        return 0\n",
    "    \n",
    "    middle = len(span_list) // 2\n",
    "    if tuple_avg(item_span) >= tuple_avg(span_list[middle]):\n",
    "        return middle + binary_search_span(span_list[middle:], item_span)\n",
    "    \n",
    "    return binary_search_span(span_list[:middle], item_span)\n",
    "\n",
    "\n",
    "class SpanOrderedDict:\n",
    "    def __init__(self):\n",
    "        self.spans = []\n",
    "        self.items = {}\n",
    "    \n",
    "    \n",
    "    def force_set_item(self, span, item):\n",
    "        self.items[span] = item\n",
    "    \n",
    "    \n",
    "    def set_item(self, span, item):\n",
    "        # print(span)\n",
    "        span_to_add = self.find_span_to_add(span)\n",
    "        # print(span_to_add)\n",
    "        # print(self.spans, '\\n')\n",
    "        if span_to_add not in self.items:\n",
    "            self.items[span_to_add] = []\n",
    "        self.items[span_to_add].append(item)\n",
    "    \n",
    "    \n",
    "    def find_span_to_add(self, span):\n",
    "        closest_span_idx = binary_search_span(self.spans, span)\n",
    "        \n",
    "        # if this is the first span that we are adding something to\n",
    "        if closest_span_idx == -1:\n",
    "            # print('first', span)\n",
    "            self.spans = [span]\n",
    "            return span\n",
    "\n",
    "        closest_span = self.spans[closest_span_idx]\n",
    "        \n",
    "        # if new span is inside some other span\n",
    "        if span[0] >= closest_span[0] and span[1] <= closest_span[1]:\n",
    "            # print('inside', closest_span)\n",
    "            return closest_span\n",
    "        \n",
    "        # if new span is before some other span\n",
    "        if span[0] <= closest_span[0] and span[1] <= closest_span[0]:\n",
    "            # print('before', closest_span)\n",
    "            insert_idx = max(closest_span_idx - 1, 0)\n",
    "            self.spans.insert(insert_idx, span)\n",
    "            return span\n",
    "        \n",
    "        # if new span is after some other span\n",
    "        if span[0] >= closest_span[1] and span[1] >= closest_span[1]:\n",
    "            # print('outside', closest_span)\n",
    "            insert_idx = closest_span_idx + 1\n",
    "            self.spans.insert(insert_idx, span)\n",
    "            return span\n",
    "        \n",
    "        # otherwise, the spans collide with eachother\n",
    "        # print('collide', closest_span)\n",
    "        span_start = min(closest_span[0], span[0])\n",
    "        span_end = max(closest_span[1], span[1])\n",
    "        new_span = (span_start, span_end)\n",
    "        \n",
    "        # swap span with new created span\n",
    "        self.spans[closest_span_idx] = new_span\n",
    "        items = self.items[closest_span]\n",
    "        self.items[new_span] = items\n",
    "        self.items.pop(closest_span)\n",
    "\n",
    "        return new_span\n",
    "    \n",
    "    \n",
    "    def __getitem__(self, key):\n",
    "        return self.items[key]"
   ]
  },
  {
   "cell_type": "code",
   "execution_count": 16,
   "id": "a13168e2",
   "metadata": {
    "ExecuteTime": {
     "end_time": "2023-06-01T20:41:43.386537Z",
     "start_time": "2023-06-01T20:41:43.381579Z"
    },
    "scrolled": false
   },
   "outputs": [],
   "source": [
    "sod = SpanOrderedDict()\n",
    "\n",
    "for node in graph.nodes.values():\n",
    "    span = node.y_span\n",
    "    sod.set_item(span, node)\n",
    "\n",
    "for key, values in sod.items.items():\n",
    "    # print('\\n\\nSublist\\n\\n')\n",
    "    subsod = SpanOrderedDict()\n",
    "    for node in values:\n",
    "        span = node.x_span\n",
    "        subsod.set_item(span, node)\n",
    "    for subkey, subvalues in subsod.items.items():\n",
    "        sorted_values = sorted(subvalues, key=lambda x: x.get_area())\n",
    "        subsod.force_set_item(subkey, subvalues)\n",
    "\n",
    "    sod.force_set_item(key, subsod)"
   ]
  },
  {
   "cell_type": "markdown",
   "id": "eb0ac46b",
   "metadata": {},
   "source": [
    "# Add \"For\" links"
   ]
  },
  {
   "cell_type": "code",
   "execution_count": 17,
   "id": "e50f7de3",
   "metadata": {
    "ExecuteTime": {
     "end_time": "2023-06-01T20:41:44.288504Z",
     "start_time": "2023-06-01T20:41:44.285388Z"
    }
   },
   "outputs": [],
   "source": [
    "for node_id, node in graph.nodes.items():\n",
    "    if 'for' in node.element.attrs:\n",
    "        for_id = node.element.attrs['for']\n",
    "        graph.add_edge(node_id, for_id, EdgeType.FOR)"
   ]
  },
  {
   "cell_type": "code",
   "execution_count": 18,
   "id": "7a482ef2",
   "metadata": {
    "ExecuteTime": {
     "end_time": "2023-06-01T20:41:44.722057Z",
     "start_time": "2023-06-01T20:41:44.717378Z"
    }
   },
   "outputs": [
    {
     "data": {
      "text/plain": [
       "[]"
      ]
     },
     "execution_count": 18,
     "metadata": {},
     "output_type": "execute_result"
    }
   ],
   "source": [
    "graph.edges"
   ]
  },
  {
   "cell_type": "markdown",
   "id": "d3bb0060",
   "metadata": {},
   "source": [
    "# List Neighbors for Each Node"
   ]
  },
  {
   "cell_type": "markdown",
   "id": "ea2c4697",
   "metadata": {},
   "source": [
    "## Parent-Child, and Left-Right"
   ]
  },
  {
   "cell_type": "code",
   "execution_count": 19,
   "id": "c4b7c1c1",
   "metadata": {
    "ExecuteTime": {
     "end_time": "2023-06-01T20:41:46.214125Z",
     "start_time": "2023-06-01T20:41:46.208300Z"
    }
   },
   "outputs": [],
   "source": [
    "for y_span, row in sod.items.items():\n",
    "    row_nodes = list(row.items.values())\n",
    "    \n",
    "    for node_idx in range(len(row_nodes)):\n",
    "        # if there are multiple items in certain location, then we\n",
    "        # take the first item as the representative item for the loc\n",
    "        repr_node = row_nodes[node_idx][0]\n",
    "        \n",
    "        # add multi-nodes in the same location as children of repr node\n",
    "        for child_idx in range(1, len(row_nodes[node_idx])):\n",
    "            graph.add_edge(\n",
    "                repr_node.get_id(),\n",
    "                row_nodes[node_idx][child_idx].get_id(),\n",
    "                EdgeType.CHILD\n",
    "            )\n",
    "        \n",
    "        # add left and right elements as neighbors\n",
    "        if node_idx - 1 >= 0:\n",
    "            left_repr = row_nodes[node_idx - 1][0]\n",
    "            graph.add_edge(\n",
    "                repr_node.get_id(),\n",
    "                left_repr.get_id(),\n",
    "                EdgeType.NLEFT\n",
    "            )\n",
    "        if node_idx + 1 < len(row_nodes):\n",
    "            right_repr = row_nodes[node_idx + 1][0]\n",
    "            graph.add_edge(\n",
    "                repr_node.get_id(),\n",
    "                right_repr.get_id(),\n",
    "                EdgeType.NRIGHT\n",
    "            )"
   ]
  },
  {
   "cell_type": "code",
   "execution_count": 20,
   "id": "cf5e5ecd",
   "metadata": {
    "ExecuteTime": {
     "end_time": "2023-06-01T20:41:46.750508Z",
     "start_time": "2023-06-01T20:41:46.745355Z"
    }
   },
   "outputs": [
    {
     "data": {
      "text/plain": [
       "[edge NRIGHT from <label> at y: (8301, 8333), x: (459, 539) to <input> at y: (8301, 8333), x: (539, 699),\n",
       " edge NLEFT from <input> at y: (8301, 8333), x: (539, 699) to <label> at y: (8301, 8333), x: (459, 539),\n",
       " edge NRIGHT from <input> at y: (8301, 8333), x: (539, 699) to <a> at y: (8309, 8326), x: (707, 782),\n",
       " edge NLEFT from <a> at y: (8309, 8326), x: (707, 782) to <input> at y: (8301, 8333), x: (539, 699),\n",
       " edge NRIGHT from <label> at y: (8357, 8389), x: (472, 539) to <input> at y: (8358, 8388), x: (551, 736),\n",
       " edge CHILD from <input> at y: (8358, 8388), x: (551, 736) to <span> at y: (8358, 8388), x: (551, 736),\n",
       " edge CHILD from <input> at y: (8358, 8388), x: (551, 736) to <path> at y: (8370, 8376), x: (726, 736),\n",
       " edge NLEFT from <input> at y: (8358, 8388), x: (551, 736) to <label> at y: (8357, 8389), x: (472, 539),\n",
       " edge NRIGHT from <input> at y: (8358, 8388), x: (551, 736) to <input> at y: (8357, 8389), x: (747, 860),\n",
       " edge NLEFT from <input> at y: (8357, 8389), x: (747, 860) to <input> at y: (8358, 8388), x: (551, 736),\n",
       " edge NRIGHT from <label> at y: (8413, 8445), x: (464, 539) to <input> at y: (8413, 8445), x: (539, 731),\n",
       " edge NLEFT from <input> at y: (8413, 8445), x: (539, 731) to <label> at y: (8413, 8445), x: (464, 539),\n",
       " edge NRIGHT from <input> at y: (8413, 8445), x: (539, 731) to <input> at y: (8413, 8445), x: (739, 931),\n",
       " edge NLEFT from <input> at y: (8413, 8445), x: (739, 931) to <input> at y: (8413, 8445), x: (539, 731),\n",
       " edge NRIGHT from <label> at y: (8469, 8501), x: (529, 539) to <button> at y: (8469, 8501), x: (539, 617),\n",
       " edge CHILD from <button> at y: (8469, 8501), x: (539, 617) to <span> at y: (8474, 8496), x: (555, 601),\n",
       " edge NLEFT from <button> at y: (8469, 8501), x: (539, 617) to <label> at y: (8469, 8501), x: (529, 539)]"
      ]
     },
     "execution_count": 20,
     "metadata": {},
     "output_type": "execute_result"
    }
   ],
   "source": [
    "graph.edges"
   ]
  },
  {
   "cell_type": "markdown",
   "id": "325beebf",
   "metadata": {},
   "source": [
    "## Top-Bottom"
   ]
  },
  {
   "cell_type": "code",
   "execution_count": 21,
   "id": "d8f909ed",
   "metadata": {
    "ExecuteTime": {
     "end_time": "2023-06-01T20:41:47.781408Z",
     "start_time": "2023-06-01T20:41:47.774128Z"
    }
   },
   "outputs": [],
   "source": [
    "def spans_overlap(span1, span2):\n",
    "    if span2[0] >= span1[1] and span2[1] > span1[1]:\n",
    "        return False\n",
    "    if span2[1] <= span1[0] and span2[0] < span1[0]:\n",
    "        return False\n",
    "    return True\n",
    "\n",
    "\n",
    "rows = list(sod.items.values())\n",
    "for row_idx in range(len(sod.items)):\n",
    "    row = rows[row_idx]\n",
    "    \n",
    "    for nodes in row.items.values():\n",
    "        repr_node = nodes[0]\n",
    "        \n",
    "        if row_idx - 1 >= 0:\n",
    "            top_row = rows[row_idx - 1]\n",
    "            for top_nodes in top_row.items.values():\n",
    "                top_node_repr = top_nodes[0]\n",
    "                \n",
    "                if spans_overlap(repr_node.x_span, top_node_repr.x_span):\n",
    "                    graph.add_edge(\n",
    "                        repr_node.get_id(),\n",
    "                        top_node_repr.get_id(),\n",
    "                        EdgeType.NTOP\n",
    "                    )\n",
    "        if row_idx + 1 < len(sod.items):\n",
    "            bottom_row = rows[row_idx + 1]\n",
    "            for bottom_nodes in bottom_row.items.values():\n",
    "                bottom_node_repr = bottom_nodes[0]\n",
    "                \n",
    "                if spans_overlap(repr_node.x_span, bottom_node_repr.x_span):\n",
    "                    graph.add_edge(\n",
    "                        repr_node.get_id(),\n",
    "                        bottom_node_repr.get_id(),\n",
    "                        EdgeType.NBOTTOM\n",
    "                    )"
   ]
  },
  {
   "cell_type": "code",
   "execution_count": 22,
   "id": "9f14ec05",
   "metadata": {
    "ExecuteTime": {
     "end_time": "2023-06-01T20:41:48.244615Z",
     "start_time": "2023-06-01T20:41:48.239471Z"
    }
   },
   "outputs": [
    {
     "data": {
      "text/plain": [
       "[edge NRIGHT from <label> at y: (8301, 8333), x: (459, 539) to <input> at y: (8301, 8333), x: (539, 699),\n",
       " edge NLEFT from <input> at y: (8301, 8333), x: (539, 699) to <label> at y: (8301, 8333), x: (459, 539),\n",
       " edge NRIGHT from <input> at y: (8301, 8333), x: (539, 699) to <a> at y: (8309, 8326), x: (707, 782),\n",
       " edge NLEFT from <a> at y: (8309, 8326), x: (707, 782) to <input> at y: (8301, 8333), x: (539, 699),\n",
       " edge NRIGHT from <label> at y: (8357, 8389), x: (472, 539) to <input> at y: (8358, 8388), x: (551, 736),\n",
       " edge CHILD from <input> at y: (8358, 8388), x: (551, 736) to <span> at y: (8358, 8388), x: (551, 736),\n",
       " edge CHILD from <input> at y: (8358, 8388), x: (551, 736) to <path> at y: (8370, 8376), x: (726, 736),\n",
       " edge NLEFT from <input> at y: (8358, 8388), x: (551, 736) to <label> at y: (8357, 8389), x: (472, 539),\n",
       " edge NRIGHT from <input> at y: (8358, 8388), x: (551, 736) to <input> at y: (8357, 8389), x: (747, 860),\n",
       " edge NLEFT from <input> at y: (8357, 8389), x: (747, 860) to <input> at y: (8358, 8388), x: (551, 736),\n",
       " edge NRIGHT from <label> at y: (8413, 8445), x: (464, 539) to <input> at y: (8413, 8445), x: (539, 731),\n",
       " edge NLEFT from <input> at y: (8413, 8445), x: (539, 731) to <label> at y: (8413, 8445), x: (464, 539),\n",
       " edge NRIGHT from <input> at y: (8413, 8445), x: (539, 731) to <input> at y: (8413, 8445), x: (739, 931),\n",
       " edge NLEFT from <input> at y: (8413, 8445), x: (739, 931) to <input> at y: (8413, 8445), x: (539, 731),\n",
       " edge NRIGHT from <label> at y: (8469, 8501), x: (529, 539) to <button> at y: (8469, 8501), x: (539, 617),\n",
       " edge CHILD from <button> at y: (8469, 8501), x: (539, 617) to <span> at y: (8474, 8496), x: (555, 601),\n",
       " edge NLEFT from <button> at y: (8469, 8501), x: (539, 617) to <label> at y: (8469, 8501), x: (529, 539),\n",
       " edge NBOTTOM from <label> at y: (8301, 8333), x: (459, 539) to <label> at y: (8357, 8389), x: (472, 539),\n",
       " edge NBOTTOM from <input> at y: (8301, 8333), x: (539, 699) to <input> at y: (8358, 8388), x: (551, 736),\n",
       " edge NBOTTOM from <a> at y: (8309, 8326), x: (707, 782) to <input> at y: (8358, 8388), x: (551, 736),\n",
       " edge NBOTTOM from <a> at y: (8309, 8326), x: (707, 782) to <input> at y: (8357, 8389), x: (747, 860),\n",
       " edge NTOP from <label> at y: (8357, 8389), x: (472, 539) to <label> at y: (8301, 8333), x: (459, 539),\n",
       " edge NBOTTOM from <label> at y: (8357, 8389), x: (472, 539) to <label> at y: (8413, 8445), x: (464, 539),\n",
       " edge NTOP from <input> at y: (8358, 8388), x: (551, 736) to <input> at y: (8301, 8333), x: (539, 699),\n",
       " edge NTOP from <input> at y: (8358, 8388), x: (551, 736) to <a> at y: (8309, 8326), x: (707, 782),\n",
       " edge NBOTTOM from <input> at y: (8358, 8388), x: (551, 736) to <input> at y: (8413, 8445), x: (539, 731),\n",
       " edge NTOP from <input> at y: (8357, 8389), x: (747, 860) to <a> at y: (8309, 8326), x: (707, 782),\n",
       " edge NBOTTOM from <input> at y: (8357, 8389), x: (747, 860) to <input> at y: (8413, 8445), x: (739, 931),\n",
       " edge NTOP from <label> at y: (8413, 8445), x: (464, 539) to <label> at y: (8357, 8389), x: (472, 539),\n",
       " edge NBOTTOM from <label> at y: (8413, 8445), x: (464, 539) to <label> at y: (8469, 8501), x: (529, 539),\n",
       " edge NTOP from <input> at y: (8413, 8445), x: (539, 731) to <input> at y: (8358, 8388), x: (551, 736),\n",
       " edge NBOTTOM from <input> at y: (8413, 8445), x: (539, 731) to <button> at y: (8469, 8501), x: (539, 617),\n",
       " edge NTOP from <input> at y: (8413, 8445), x: (739, 931) to <input> at y: (8357, 8389), x: (747, 860),\n",
       " edge NTOP from <label> at y: (8469, 8501), x: (529, 539) to <label> at y: (8413, 8445), x: (464, 539),\n",
       " edge NTOP from <button> at y: (8469, 8501), x: (539, 617) to <input> at y: (8413, 8445), x: (539, 731)]"
      ]
     },
     "execution_count": 22,
     "metadata": {},
     "output_type": "execute_result"
    }
   ],
   "source": [
    "graph.edges"
   ]
  },
  {
   "cell_type": "markdown",
   "id": "3db80144",
   "metadata": {},
   "source": [
    "# Calculate Embedding Distances from Nodes"
   ]
  },
  {
   "cell_type": "markdown",
   "id": "74121219",
   "metadata": {
    "ExecuteTime": {
     "end_time": "2023-06-01T19:38:42.962487Z",
     "start_time": "2023-06-01T19:38:42.957719Z"
    }
   },
   "source": [
    "## Hueristic"
   ]
  },
  {
   "cell_type": "code",
   "execution_count": 23,
   "id": "5b6525c1",
   "metadata": {
    "ExecuteTime": {
     "end_time": "2023-06-01T20:41:49.995105Z",
     "start_time": "2023-06-01T20:41:49.992317Z"
    }
   },
   "outputs": [],
   "source": [
    "# TODO: improve this section"
   ]
  },
  {
   "cell_type": "markdown",
   "id": "cf8c2b17",
   "metadata": {},
   "source": [
    "### Textual Distance"
   ]
  },
  {
   "cell_type": "code",
   "execution_count": 24,
   "id": "5be1251d",
   "metadata": {
    "ExecuteTime": {
     "end_time": "2023-06-01T20:41:53.592206Z",
     "start_time": "2023-06-01T20:41:51.107281Z"
    }
   },
   "outputs": [],
   "source": [
    "from openai.embeddings_utils import get_embedding, cosine_similarity\n",
    "\n",
    "\n",
    "def get_text_similarity(text1, text2):\n",
    "    embedding1 = get_embedding(text1.lower())\n",
    "    embedding2 = get_embedding(text2.lower())\n",
    "    return cosine_similarity(embedding1, embedding2)"
   ]
  },
  {
   "cell_type": "code",
   "execution_count": 25,
   "id": "d6e3c625",
   "metadata": {
    "ExecuteTime": {
     "end_time": "2023-06-01T20:41:54.415300Z",
     "start_time": "2023-06-01T20:41:53.607876Z"
    }
   },
   "outputs": [
    {
     "data": {
      "text/plain": [
       "0.8746199468854565"
      ]
     },
     "execution_count": 25,
     "metadata": {},
     "output_type": "execute_result"
    }
   ],
   "source": [
    "get_text_similarity(\n",
    "    \"\"\"<label class=\"\" title=\"Username\">Username</label>\"\"\",\n",
    "    \"\"\"<input id=\"complex-form_username\" placeholder=\"Please input\" type=\"text\" value=\"\" />\"\"\"\n",
    ")"
   ]
  },
  {
   "cell_type": "code",
   "execution_count": 26,
   "id": "cbaaacc2",
   "metadata": {
    "ExecuteTime": {
     "end_time": "2023-06-01T20:41:55.098847Z",
     "start_time": "2023-06-01T20:41:54.433058Z"
    }
   },
   "outputs": [
    {
     "data": {
      "text/plain": [
       "0.7977355290887229"
      ]
     },
     "execution_count": 26,
     "metadata": {},
     "output_type": "execute_result"
    }
   ],
   "source": [
    "get_text_similarity(\n",
    "    \"\"\"<label class=\"\" title=\"Username\">Username</label>\"\"\",\n",
    "    \"\"\"<input id=\"complex-form_address_province\" placeholder=\"Select province\" type=\"search\" value=\"\"/>\"\"\"\n",
    ")"
   ]
  },
  {
   "cell_type": "markdown",
   "id": "7d3e6279",
   "metadata": {},
   "source": [
    "### Structural Distance"
   ]
  },
  {
   "cell_type": "code",
   "execution_count": 27,
   "id": "31648ff6",
   "metadata": {
    "ExecuteTime": {
     "end_time": "2023-06-01T20:41:56.520390Z",
     "start_time": "2023-06-01T20:41:56.516985Z"
    }
   },
   "outputs": [],
   "source": [
    "# !pip install lxml\n",
    "# !pip install networkx\n",
    "# !pip install node2vec"
   ]
  },
  {
   "cell_type": "code",
   "execution_count": 28,
   "id": "b9f1ea18",
   "metadata": {
    "ExecuteTime": {
     "end_time": "2023-06-01T20:42:06.520356Z",
     "start_time": "2023-06-01T20:41:57.209561Z"
    }
   },
   "outputs": [
    {
     "data": {
      "application/vnd.jupyter.widget-view+json": {
       "model_id": "794975163a884a2c983f4dc6fd46b272",
       "version_major": 2,
       "version_minor": 0
      },
      "text/plain": [
       "Computing transition probabilities:   0%|          | 0/59 [00:00<?, ?it/s]"
      ]
     },
     "metadata": {},
     "output_type": "display_data"
    },
    {
     "name": "stderr",
     "output_type": "stream",
     "text": [
      "\r",
      "Generating walks (CPU: 1):   0%|          | 0/50 [00:00<?, ?it/s]\r",
      "Generating walks (CPU: 2):   0%|          | 0/50 [00:00<?, ?it/s]\r",
      "Generating walks (CPU: 3):   0%|          | 0/50 [00:00<?, ?it/s]\r",
      "Generating walks (CPU: 4):   0%|          | 0/50 [00:00<?, ?it/s]\r",
      "Generating walks (CPU: 1): 100%|██████████| 50/50 [00:00<00:00, 1444.35it/s]\n",
      "\r",
      "Generating walks (CPU: 2): 100%|██████████| 50/50 [00:00<00:00, 1366.30it/s]\n",
      "\r",
      "Generating walks (CPU: 3): 100%|██████████| 50/50 [00:00<00:00, 1503.04it/s]\n",
      "\r",
      "Generating walks (CPU: 4): 100%|██████████| 50/50 [00:00<00:00, 1472.10it/s]\n"
     ]
    }
   ],
   "source": [
    "import networkx as nx\n",
    "from bs4 import BeautifulSoup\n",
    "from node2vec import Node2Vec\n",
    "\n",
    "\n",
    "# Function to create a graph from the BeautifulSoup object\n",
    "def create_graph(soup):\n",
    "    G = nx.DiGraph()\n",
    "\n",
    "    for tag in soup.find_all():\n",
    "        # Assuming 'xpath' attribute exists for each tag\n",
    "        xpath = tag.attrs['xpath']\n",
    "        \n",
    "        if xpath not in G:\n",
    "            G.add_node(xpath)\n",
    "        for child in tag.children:\n",
    "            if isinstance(child, Comment) or isinstance(child, NavigableString):\n",
    "                continue\n",
    "            child_xpath = child.attrs.get('xpath')\n",
    "            if child_xpath not in G:\n",
    "                G.add_node(child_xpath)\n",
    "            G.add_edge(xpath, child_xpath)\n",
    "\n",
    "    return G\n",
    "\n",
    "\n",
    "# Function to generate embeddings\n",
    "def generate_embeddings(G, dimensions=1024, walk_length=30, num_walks=200, workers=4):\n",
    "    # Create Node2Vec object\n",
    "    node2vec = Node2Vec(G, dimensions=dimensions, walk_length=walk_length, num_walks=num_walks, workers=workers)\n",
    "\n",
    "    # Train Node2Vec model\n",
    "    model = node2vec.fit(window=10, min_count=1, batch_words=4)\n",
    "    \n",
    "    return model\n",
    "\n",
    "\n",
    "# Create graph\n",
    "G = create_graph(form_doc)\n",
    "\n",
    "# Generate embeddings\n",
    "model = generate_embeddings(G)"
   ]
  },
  {
   "cell_type": "code",
   "execution_count": 29,
   "id": "a0faeb70",
   "metadata": {
    "ExecuteTime": {
     "end_time": "2023-06-01T20:42:06.544039Z",
     "start_time": "2023-06-01T20:42:06.539800Z"
    }
   },
   "outputs": [],
   "source": [
    "def get_structure_similarity(xpath1, xpath2):\n",
    "    # Check if XPaths exist in the model\n",
    "    if xpath1 not in model.wv or xpath2 not in model.wv:\n",
    "        print(\"One or both of the XPaths are not in the model.\")\n",
    "        return None\n",
    "\n",
    "    # Get vectors for XPaths\n",
    "    vector1 = model.wv[xpath1]\n",
    "    vector2 = model.wv[xpath2]\n",
    "\n",
    "    # Calculate and return cosine similarity\n",
    "    return cosine_similarity(vector1, vector2)"
   ]
  },
  {
   "cell_type": "code",
   "execution_count": 32,
   "id": "084ddf25",
   "metadata": {
    "ExecuteTime": {
     "end_time": "2023-06-01T20:42:16.990138Z",
     "start_time": "2023-06-01T20:42:16.985483Z"
    }
   },
   "outputs": [
    {
     "data": {
      "text/plain": [
       "0.94508326"
      ]
     },
     "execution_count": 32,
     "metadata": {},
     "output_type": "execute_result"
    }
   ],
   "source": [
    "get_structure_similarity(\n",
    "    form_bs_nodes[0].attrs['xpath'],\n",
    "    form_bs_nodes[2].attrs['xpath']\n",
    ")"
   ]
  },
  {
   "cell_type": "markdown",
   "id": "4832bd11",
   "metadata": {},
   "source": [
    "### Combination"
   ]
  },
  {
   "cell_type": "code",
   "execution_count": 33,
   "id": "d7b47810",
   "metadata": {
    "ExecuteTime": {
     "end_time": "2023-06-01T20:42:21.012311Z",
     "start_time": "2023-06-01T20:42:21.008315Z"
    }
   },
   "outputs": [],
   "source": [
    "def combined_similarity(node1, node2, alpha=0.5):\n",
    "    text_sim = get_text_similarity(str(node1), str(node2))\n",
    "    structure_sim = get_structure_similarity(\n",
    "        node1.attrs['xpath'],\n",
    "        node2.attrs['xpath']\n",
    "    )\n",
    "    return alpha * text_sim + (1 - alpha) * structure_sim"
   ]
  },
  {
   "cell_type": "code",
   "execution_count": 34,
   "id": "9161f5fe",
   "metadata": {
    "ExecuteTime": {
     "end_time": "2023-06-01T20:42:24.293504Z",
     "start_time": "2023-06-01T20:42:24.288646Z"
    }
   },
   "outputs": [
    {
     "data": {
      "text/plain": [
       "<label class=\"\" title=\"Address\" x_end=\"539\" x_start=\"472\" xpath=\"//BODY/DIV[1]/DIV[1]/MAIN[1]/DIV[2]/ARTICLE[1]/DIV[2]/DIV[1]/SECTION[1]/SECTION[17]/SECTION[1]/FORM[1]/DIV[2]/DIV[1]/DIV[1]/LABEL[1]\" y_end=\"8389\" y_start=\"8357\">Address</label>"
      ]
     },
     "execution_count": 34,
     "metadata": {},
     "output_type": "execute_result"
    }
   ],
   "source": [
    "form_bs_nodes[3]"
   ]
  },
  {
   "cell_type": "code",
   "execution_count": 35,
   "id": "da4b7611",
   "metadata": {
    "ExecuteTime": {
     "end_time": "2023-06-01T20:42:24.453071Z",
     "start_time": "2023-06-01T20:42:24.447009Z"
    }
   },
   "outputs": [
    {
     "data": {
      "text/plain": [
       "<input aria-required=\"true\" class=\"ant-input css-k7429z\" id=\"complex-form_username\" placeholder=\"Please input\" style=\"width:160px\" type=\"text\" value=\"\" x_end=\"699\" x_start=\"539\" xpath=\"//BODY/DIV[1]/DIV[1]/MAIN[1]/DIV[2]/ARTICLE[1]/DIV[2]/DIV[1]/SECTION[1]/SECTION[17]/SECTION[1]/FORM[1]/DIV[1]/DIV[1]/DIV[2]/DIV[1]/DIV[1]/DIV[1]/DIV[1]/INPUT[1]\" y_end=\"8333\" y_start=\"8301\"/>"
      ]
     },
     "execution_count": 35,
     "metadata": {},
     "output_type": "execute_result"
    }
   ],
   "source": [
    "form_bs_nodes[1]"
   ]
  },
  {
   "cell_type": "code",
   "execution_count": 41,
   "id": "b8d8d9a2",
   "metadata": {
    "ExecuteTime": {
     "end_time": "2023-06-01T20:42:39.561896Z",
     "start_time": "2023-06-01T20:42:38.841094Z"
    }
   },
   "outputs": [
    {
     "data": {
      "text/plain": [
       "0.5269933791017302"
      ]
     },
     "execution_count": 41,
     "metadata": {},
     "output_type": "execute_result"
    }
   ],
   "source": [
    "combined_similarity(form_bs_nodes[0], form_bs_nodes[10])"
   ]
  },
  {
   "cell_type": "markdown",
   "id": "3eb958b8",
   "metadata": {},
   "source": [
    "## Train GCN for Direct Embedding with Features"
   ]
  },
  {
   "cell_type": "code",
   "execution_count": null,
   "id": "a4d7145f",
   "metadata": {},
   "outputs": [],
   "source": []
  },
  {
   "cell_type": "code",
   "execution_count": null,
   "id": "69c30b11",
   "metadata": {},
   "outputs": [],
   "source": []
  },
  {
   "cell_type": "code",
   "execution_count": null,
   "id": "0950c8f5",
   "metadata": {},
   "outputs": [],
   "source": []
  },
  {
   "cell_type": "code",
   "execution_count": null,
   "id": "5990280d",
   "metadata": {},
   "outputs": [],
   "source": []
  },
  {
   "cell_type": "code",
   "execution_count": null,
   "id": "7ecd2c68",
   "metadata": {},
   "outputs": [],
   "source": []
  },
  {
   "cell_type": "code",
   "execution_count": null,
   "id": "af86c72b",
   "metadata": {},
   "outputs": [],
   "source": []
  },
  {
   "cell_type": "markdown",
   "id": "ccbf0f53",
   "metadata": {},
   "source": [
    "# Sudo Code"
   ]
  },
  {
   "cell_type": "code",
   "execution_count": null,
   "id": "5be8c88a",
   "metadata": {},
   "outputs": [],
   "source": [
    "def rank_neighbors(node):\n",
    "    pass\n",
    "\n",
    "\n",
    "def form_relationship_graaph(form):\n",
    "    pass"
   ]
  },
  {
   "cell_type": "code",
   "execution_count": null,
   "id": "cd5cd7a8",
   "metadata": {},
   "outputs": [],
   "source": []
  }
 ],
 "metadata": {
  "kernelspec": {
   "display_name": "Python 3 (ipykernel)",
   "language": "python",
   "name": "python3"
  },
  "language_info": {
   "codemirror_mode": {
    "name": "ipython",
    "version": 3
   },
   "file_extension": ".py",
   "mimetype": "text/x-python",
   "name": "python",
   "nbconvert_exporter": "python",
   "pygments_lexer": "ipython3",
   "version": "3.10.9"
  },
  "toc": {
   "base_numbering": 1,
   "nav_menu": {},
   "number_sections": true,
   "sideBar": true,
   "skip_h1_title": false,
   "title_cell": "Table of Contents",
   "title_sidebar": "Contents",
   "toc_cell": false,
   "toc_position": {},
   "toc_section_display": true,
   "toc_window_display": false
  },
  "varInspector": {
   "cols": {
    "lenName": 16,
    "lenType": 16,
    "lenVar": 40
   },
   "kernels_config": {
    "python": {
     "delete_cmd_postfix": "",
     "delete_cmd_prefix": "del ",
     "library": "var_list.py",
     "varRefreshCmd": "print(var_dic_list())"
    },
    "r": {
     "delete_cmd_postfix": ") ",
     "delete_cmd_prefix": "rm(",
     "library": "var_list.r",
     "varRefreshCmd": "cat(var_dic_list()) "
    }
   },
   "types_to_exclude": [
    "module",
    "function",
    "builtin_function_or_method",
    "instance",
    "_Feature"
   ],
   "window_display": false
  }
 },
 "nbformat": 4,
 "nbformat_minor": 5
}
