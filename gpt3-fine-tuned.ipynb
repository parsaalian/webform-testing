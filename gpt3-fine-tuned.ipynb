{
 "cells": [
  {
   "cell_type": "code",
   "execution_count": 7,
   "id": "a219f912",
   "metadata": {
    "ExecuteTime": {
     "end_time": "2023-03-17T16:09:52.468784Z",
     "start_time": "2023-03-17T16:09:52.395239Z"
    }
   },
   "outputs": [
    {
     "data": {
      "text/plain": [
       "True"
      ]
     },
     "execution_count": 7,
     "metadata": {},
     "output_type": "execute_result"
    }
   ],
   "source": [
    "from bs4 import BeautifulSoup as bs\n",
    "import pandas as pd\n",
    "import openai\n",
    "from dotenv import load_dotenv\n",
    "load_dotenv()"
   ]
  },
  {
   "cell_type": "code",
   "execution_count": 3,
   "id": "8d7ba9dc",
   "metadata": {
    "ExecuteTime": {
     "end_time": "2023-03-17T16:08:40.707993Z",
     "start_time": "2023-03-17T16:08:40.705127Z"
    }
   },
   "outputs": [],
   "source": [
    "openai.api_key = os.getenv(\"OPENAI_API_KEY\")\n",
    "model_name = os.getenv(\"MODEL_NAME\")"
   ]
  },
  {
   "cell_type": "code",
   "execution_count": 2,
   "id": "4860decb",
   "metadata": {
    "ExecuteTime": {
     "end_time": "2023-03-17T16:08:34.567080Z",
     "start_time": "2023-03-17T16:08:34.547339Z"
    }
   },
   "outputs": [],
   "source": [
    "df = pd.read_csv(\"data.csv\")\n",
    "prompt = df.loc[0, 'prompt']"
   ]
  },
  {
   "cell_type": "code",
   "execution_count": 8,
   "id": "351df7bc",
   "metadata": {
    "ExecuteTime": {
     "end_time": "2023-03-17T16:09:57.396246Z",
     "start_time": "2023-03-17T16:09:57.392527Z"
    }
   },
   "outputs": [
    {
     "name": "stdout",
     "output_type": "stream",
     "text": [
      "<form backgroundcolor=\"black 0\" bordercolor=\"black 0\" color=\"black 0\">\n",
      " <div aria-checked=\"false\" backgroundcolor=\"black 0\" bordercolor=\"black 0\" color=\"black 0\" disabled=\"\" role=\"switch\" type=\"button\">\n",
      "  <div backgroundcolor=\"black 0\" bordercolor=\"black 0\" color=\"black 0\">\n",
      "  </div>\n",
      "  <span backgroundcolor=\"black 0\" bordercolor=\"black 0\" color=\"black 0\">\n",
      "  </span>\n",
      " </div>\n",
      " <div backgroundcolor=\"black 0\" bordercolor=\"black 0\" color=\"black 0\" role=\"alert\">\n",
      " </div>\n",
      "</form>\n"
     ]
    }
   ],
   "source": [
    "print(bs(prompt).prettify())"
   ]
  },
  {
   "cell_type": "code",
   "execution_count": 9,
   "id": "552987f6",
   "metadata": {
    "ExecuteTime": {
     "end_time": "2023-03-17T16:10:17.766860Z",
     "start_time": "2023-03-17T16:10:07.522556Z"
    }
   },
   "outputs": [
    {
     "name": "stdout",
     "output_type": "stream",
     "text": [
      " [{\"label\":\"later\",\"disabled\":true,\"required\":true,\"defaultValue\":null,\"validationState\":\"error\",\"validationMessage\":\"supply water cool later\",\"text\":null,\"type\":\"switch\",\"options\":null},{\"type\":\"upload\",\"options\":null,\"defaultValue\":null}] [{\"label\":\"later\",\"disabled\":true,\"required\":true,\"defaultValue\":null,\"validationState\":\"error\",\"validationMessage\":\"supply water cool later\",\"text\":null,\"type\":\"switch\",\"options\":null}] [{\"label\":\"later\",\"disabled\":true,\"required\":true,\"defaultValue\":null,\"validationState\":\"error\",\"validationMessage\":\"supply water cool later\",\"text\":null,\"type\":\"switch\",\"options\":null}] [{\"label\":\"later\",\"disabled\":true,\"required\":true,\"defaultValue\":null,\"validationState\":\"error\",\"validationMessage\":\"supply water cool later\",\"text\":null,\"type\":\"switch\",\"options\":null}] [{\"label\":\"later\",\"disabled\":true,\"required\":true,\"defaultValue\":null,\"validationState\":\"error\",\"validationMessage\":\"supply water cool later\",\"text\":null,\"type\":\"switch\",\"options\":null}] [{\"label\n"
     ]
    }
   ],
   "source": [
    "response = openai.Completion.create(\n",
    "    model=model_name,\n",
    "    prompt=prompt,\n",
    "    temperature=0,\n",
    "    max_tokens=256,\n",
    "    top_p=1.0,\n",
    "    frequency_penalty=0.0,\n",
    "    presence_penalty=0.0\n",
    ")\n",
    "\n",
    "print(response['choices'][0]['text'])"
   ]
  },
  {
   "cell_type": "code",
   "execution_count": null,
   "id": "b50194f6",
   "metadata": {},
   "outputs": [],
   "source": []
  }
 ],
 "metadata": {
  "kernelspec": {
   "display_name": "Python 3 (ipykernel)",
   "language": "python",
   "name": "python3"
  },
  "language_info": {
   "codemirror_mode": {
    "name": "ipython",
    "version": 3
   },
   "file_extension": ".py",
   "mimetype": "text/x-python",
   "name": "python",
   "nbconvert_exporter": "python",
   "pygments_lexer": "ipython3",
   "version": "3.10.9"
  },
  "varInspector": {
   "cols": {
    "lenName": 16,
    "lenType": 16,
    "lenVar": 40
   },
   "kernels_config": {
    "python": {
     "delete_cmd_postfix": "",
     "delete_cmd_prefix": "del ",
     "library": "var_list.py",
     "varRefreshCmd": "print(var_dic_list())"
    },
    "r": {
     "delete_cmd_postfix": ") ",
     "delete_cmd_prefix": "rm(",
     "library": "var_list.r",
     "varRefreshCmd": "cat(var_dic_list()) "
    }
   },
   "types_to_exclude": [
    "module",
    "function",
    "builtin_function_or_method",
    "instance",
    "_Feature"
   ],
   "window_display": false
  }
 },
 "nbformat": 4,
 "nbformat_minor": 5
}
