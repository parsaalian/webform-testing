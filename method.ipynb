{
 "cells": [
  {
   "cell_type": "code",
   "execution_count": 1,
   "id": "6edf3f1c",
   "metadata": {
    "ExecuteTime": {
     "end_time": "2023-12-09T20:57:47.006953Z",
     "start_time": "2023-12-09T20:57:42.605108Z"
    }
   },
   "outputs": [],
   "source": [
    "%load_ext autoreload\n",
    "%autoreload 2\n",
    "\n",
    "import os\n",
    "import time\n",
    "import openai\n",
    "from dotenv import load_dotenv\n",
    "\n",
    "from selenium.webdriver.common.by import By\n",
    "from selenium.webdriver.support.ui import WebDriverWait\n",
    "from selenium.webdriver.support import expected_conditions as EC\n",
    "from bs4 import BeautifulSoup as bs\n",
    "\n",
    "from method.ours.utils import create_driver, get_xpath, get_application_context\n",
    "from method.ours.parse import parse_form\n",
    "from method.ours.prompts import get_form_context\n",
    "from method.ours.history import HistoryTable\n",
    "from method.ours.constraints import Invalid\n",
    "from method.ours.generation import (\n",
    "    generate_constraints_for_input_groups,\n",
    "    generate_value_for_input_group,\n",
    "    generate_values_for_input_groups,\n",
    "    fill_form_with_value_table,\n",
    "    submit_form\n",
    ")\n",
    "from method.ours.feedback import (\n",
    "    get_local_feedback,\n",
    "    get_global_feedback\n",
    ")"
   ]
  },
  {
   "cell_type": "code",
   "execution_count": 3,
   "id": "48832ffb",
   "metadata": {
    "ExecuteTime": {
     "end_time": "2023-12-09T20:57:56.230923Z",
     "start_time": "2023-12-09T20:57:56.178706Z"
    }
   },
   "outputs": [],
   "source": [
    "load_dotenv()\n",
    "openai.api_key = os.getenv(\"OPENAI_API_KEY\")\n",
    "\n",
    "# Global Variables\n",
    "HEADLESS = False\n",
    "TEXT_EMBEDDING_METHOD = 'ADA'\n",
    "GRAPH_EMBEDDING_METHOD = 'NODE2VEC'\n",
    "\n",
    "URL = 'https://www.macys.com/'\n",
    "# 'https://www.amazon.com/'\n",
    "# 'https://www.carmax.com/'\n",
    "# 'https://www.rei.com/'\n",
    "# 'https://www.uhaul.com/'\n",
    "# 'https://www.ups.com/us/en/Home.page'\n",
    "# 'https://www.thumbtack.com/'\n",
    "# 'https://www.healthgrades.com/'\n",
    "# 'https://www.webmd.com/drugs/2/index'\n",
    "# 'https://www.babycenter.com/child-height-predictor'\n",
    "# 'https://www.babycenter.com/pregnancy-weight-gain-estimator'\n",
    "# 'https://seatgeek.ca/'\n",
    "# 'https://www.stubhub.ca/'\n",
    "# 'https://app.invoicing.co/#/register'\n",
    "# 'http://localhost:3000/default-channel/en-US/account/register/'\n",
    "# 'http://localhost:9000/dashboard/discounts/sales/add'\n",
    "# 'http://localhost:9000/dashboard/customers/add'\n",
    "# 'http://localhost:8080/'\n",
    "# 'https://www.budget.com/en/home'\n",
    "# 'https://www.thetrainline.com/en-us'\n",
    "# 'https://www.mbta.com/'\n",
    "# 'https://resy.com/'\n",
    "# 'https://www.yelp.com/'\n",
    "# 'https://www.aa.com/homePage.do'\n",
    "# 'https://www.jetblue.com/'\n",
    "# 'https://www.united.com/en/us'\n",
    "# 'https://www.aircanada.com/ca/en/aco/home.html'\n",
    "\n",
    "\n",
    "def get_to_form(driver):\n",
    "    try:\n",
    "        driver.get(URL)\n",
    "        \n",
    "        '''\n",
    "        # UPS - Quote\n",
    "        time.sleep(2)\n",
    "        WebDriverWait(driver, 10).until(\n",
    "            EC.presence_of_element_located((By.ID, 'tabs_0_tab_1'))\n",
    "        ).click()\n",
    "        '''\n",
    "        \n",
    "        '''\n",
    "        # Saleor\n",
    "        try:\n",
    "            time.sleep(2)\n",
    "            WebDriverWait(driver, 10).until(\n",
    "                EC.presence_of_element_located((\n",
    "                    By.XPATH,\n",
    "                    '//BODY/DIV[1]/MAIN[1]/DIV[1]/DIV[1]/DIV[1]/FORM[1]/DIV[2]/DIV[1]/INPUT[1]')\n",
    "                )\n",
    "            ).send_keys('admin@example.com')\n",
    "            WebDriverWait(driver, 10).until(\n",
    "                EC.presence_of_element_located((\n",
    "                    By.XPATH,\n",
    "                    '//BODY/DIV[1]/MAIN[1]/DIV[1]/DIV[1]/DIV[1]/FORM[1]/DIV[4]/DIV[1]/DIV[1]/INPUT[1]')\n",
    "                )\n",
    "            ).send_keys('admin')\n",
    "            WebDriverWait(driver, 10).until(\n",
    "                EC.presence_of_element_located((\n",
    "                    By.XPATH,\n",
    "                    '//BODY/DIV[1]/MAIN[1]/DIV[1]/DIV[1]/DIV[1]/FORM[1]/DIV[5]/BUTTON[1]')\n",
    "                )\n",
    "            ).click()\n",
    "        except:\n",
    "            pass\n",
    "        \n",
    "        WebDriverWait(driver, 10).until(\n",
    "            EC.presence_of_element_located((\n",
    "                By.XPATH,\n",
    "                '//BODY/DIV[1]/MAIN[1]/DIV[1]/DIV[2]/MAIN[1]/FORM[1]/DIV[1]/DIV[2]/DIV[4]/DIV[2]/LABEL[1]/SPAN[1]/SPAN[1]/INPUT[1]')\n",
    "            )\n",
    "        ).click()\n",
    "        '''\n",
    "        \n",
    "        '''\n",
    "        # Pet Clinic - Add Owner\n",
    "        time.sleep(2)\n",
    "        WebDriverWait(driver, 10).until(\n",
    "            EC.presence_of_element_located((\n",
    "                By.XPATH,\n",
    "                '//BODY/APP-ROOT[1]/DIV[1]/NAV[1]/DIV[1]/UL[1]/LI[2]')\n",
    "            )\n",
    "        ).click()\n",
    "        WebDriverWait(driver, 10).until(\n",
    "            EC.presence_of_element_located((\n",
    "                By.XPATH,\n",
    "                '//BODY/APP-ROOT[1]/DIV[1]/NAV[1]/DIV[1]/UL[1]/LI[2]/UL[1]/LI[2]')\n",
    "            )\n",
    "        ).click()\n",
    "        '''\n",
    "        \n",
    "        '''\n",
    "        # Budget - Reservation\n",
    "        WebDriverWait(driver, 5).until(\n",
    "            EC.presence_of_element_located((By.ID, 'PicLoc_value'))\n",
    "        ).click()\n",
    "        '''\n",
    "        \n",
    "        '''\n",
    "        # MBTA\n",
    "        time.sleep(2)\n",
    "        WebDriverWait(driver, 5).until(\n",
    "            EC.presence_of_element_located((By.XPATH, '//BODY/DIV[1]/DIV[2]/MAIN[1]/DIV[1]/DIV[1]/DIV[1]/DIV[2]/A[1]'))\n",
    "        ).click()\n",
    "        '''\n",
    "        \n",
    "        '''\n",
    "        # AC - My Bookings\n",
    "        time.sleep(2)\n",
    "        WebDriverWait(driver, 5).until(\n",
    "            EC.presence_of_element_located((By.ID, 'bkmg-tab-button-mngBook'))\n",
    "        ).click()\n",
    "        '''\n",
    "        \n",
    "        '''\n",
    "        # AC - Multi-city\n",
    "        time.sleep(2)\n",
    "        WebDriverWait(driver, 5).until(\n",
    "            EC.presence_of_element_located((By.ID, 'bkmgFlights_tripTypeSelector_M'))\n",
    "        ).click()\n",
    "        '''\n",
    "        \n",
    "    except:\n",
    "        print('timeout')\n",
    "\n",
    "\n",
    "def find_form():\n",
    "    return WebDriverWait(driver, 10).until(\n",
    "        EC.presence_of_element_located((\n",
    "            By.XPATH,\n",
    "            '//BODY/HEADER[1]/DIV[2]/DIV[1]/DIV[1]/SECTION[2]/DIV[2]/FORM[1]'\n",
    "        ))\n",
    "    )\n",
    "\n",
    "\n",
    "def find_button():\n",
    "    return None"
   ]
  },
  {
   "cell_type": "code",
   "execution_count": 4,
   "id": "837ffb01",
   "metadata": {
    "ExecuteTime": {
     "end_time": "2023-12-09T20:58:06.266996Z",
     "start_time": "2023-12-09T20:57:57.151617Z"
    }
   },
   "outputs": [],
   "source": [
    "driver = create_driver(HEADLESS)\n",
    "get_to_form(driver)"
   ]
  },
  {
   "cell_type": "code",
   "execution_count": 5,
   "id": "2812c532",
   "metadata": {
    "ExecuteTime": {
     "end_time": "2023-12-09T20:58:06.873596Z",
     "start_time": "2023-12-09T20:58:06.814192Z"
    }
   },
   "outputs": [],
   "source": [
    "form = find_form()"
   ]
  },
  {
   "cell_type": "code",
   "execution_count": 6,
   "id": "0daf200f",
   "metadata": {
    "ExecuteTime": {
     "end_time": "2023-12-09T20:58:07.574702Z",
     "start_time": "2023-12-09T20:58:07.519623Z"
    }
   },
   "outputs": [],
   "source": [
    "history_table = HistoryTable(\n",
    "    url=URL,\n",
    "    xpath=get_xpath(driver, form)\n",
    ")"
   ]
  },
  {
   "cell_type": "code",
   "execution_count": 7,
   "id": "b256fa79",
   "metadata": {
    "ExecuteTime": {
     "end_time": "2023-12-09T20:58:08.112641Z",
     "start_time": "2023-12-09T20:58:08.017630Z"
    }
   },
   "outputs": [],
   "source": [
    "for element in form.find_elements(By.TAG_NAME, 'input'):\n",
    "    try:\n",
    "        element.clear()\n",
    "    except:\n",
    "        pass"
   ]
  },
  {
   "cell_type": "markdown",
   "id": "948b49bc",
   "metadata": {},
   "source": [
    "# Processing"
   ]
  },
  {
   "cell_type": "code",
   "execution_count": 8,
   "id": "69dd1802",
   "metadata": {
    "ExecuteTime": {
     "end_time": "2023-12-09T20:58:11.931735Z",
     "start_time": "2023-12-09T20:58:08.860960Z"
    },
    "scrolled": true
   },
   "outputs": [
    {
     "data": {
      "application/vnd.jupyter.widget-view+json": {
       "model_id": "8e2044ba2c9643b6af53156115b65fd9",
       "version_major": 2,
       "version_minor": 0
      },
      "text/plain": [
       "Computing transition probabilities:   0%|          | 0/13 [00:00<?, ?it/s]"
      ]
     },
     "metadata": {},
     "output_type": "display_data"
    },
    {
     "name": "stderr",
     "output_type": "stream",
     "text": [
      "Generating walks (CPU: 4): 100%|██████████| 50/50 [00:00<00:00, 29516.57it/s]\n",
      "Generating walks (CPU: 1): 100%|██████████| 50/50 [00:00<00:00, 29139.25it/s]\n",
      "Generating walks (CPU: 2): 100%|██████████| 50/50 [00:00<00:00, 29273.48it/s]\n",
      "Generating walks (CPU: 3): 100%|██████████| 50/50 [00:00<00:00, 29054.47it/s]\n",
      "100%|█████████████████████████████████████████████| 2/2 [00:00<00:00,  3.33it/s]\n",
      "/Library/Frameworks/Python.framework/Versions/3.10/lib/python3.10/site-packages/numpy/core/fromnumeric.py:3464: RuntimeWarning: Mean of empty slice.\n",
      "  return _methods._mean(a, axis=axis, dtype=dtype,\n",
      "/Library/Frameworks/Python.framework/Versions/3.10/lib/python3.10/site-packages/numpy/core/_methods.py:192: RuntimeWarning: invalid value encountered in scalar divide\n",
      "  ret = ret.dtype.type(ret / rcount)\n",
      "/Library/Frameworks/Python.framework/Versions/3.10/lib/python3.10/site-packages/numpy/core/_methods.py:269: RuntimeWarning: Degrees of freedom <= 0 for slice\n",
      "  ret = _var(a, axis=axis, dtype=dtype, out=out, ddof=ddof,\n",
      "/Library/Frameworks/Python.framework/Versions/3.10/lib/python3.10/site-packages/numpy/core/_methods.py:226: RuntimeWarning: invalid value encountered in divide\n",
      "  arrmean = um.true_divide(arrmean, div, out=arrmean,\n",
      "/Library/Frameworks/Python.framework/Versions/3.10/lib/python3.10/site-packages/numpy/core/_methods.py:261: RuntimeWarning: invalid value encountered in scalar divide\n",
      "  ret = ret.dtype.type(ret / rcount)\n"
     ]
    }
   ],
   "source": [
    "html = driver.find_element(By.TAG_NAME, 'body').get_attribute('outerHTML')\n",
    "relation_graph, input_groups = parse_form(\n",
    "    driver,\n",
    "    form,\n",
    "    TEXT_EMBEDDING_METHOD=TEXT_EMBEDDING_METHOD\n",
    ")"
   ]
  },
  {
   "cell_type": "markdown",
   "id": "59c1f6ee",
   "metadata": {},
   "source": [
    "# Generation"
   ]
  },
  {
   "cell_type": "code",
   "execution_count": 9,
   "id": "63eb5511",
   "metadata": {
    "ExecuteTime": {
     "end_time": "2023-12-09T20:58:13.012539Z",
     "start_time": "2023-12-09T20:58:12.964650Z"
    },
    "scrolled": true
   },
   "outputs": [],
   "source": [
    "def create_ablation_inclusion(mode='NORMAL'):\n",
    "    no_ferg = mode == 'NOFERG'\n",
    "    context = mode == 'CONTEXT'\n",
    "    no_date = mode == 'NODATE'\n",
    "    no_feedback = mode == 'NOFEEDBACK'\n",
    "    \n",
    "    return {\n",
    "        'relevant': not no_ferg,\n",
    "        'context': context,\n",
    "        'date': not no_date,\n",
    "        'constraints': False,\n",
    "        'feedback': not no_feedback\n",
    "    }\n",
    "\n",
    "\n",
    "ablation_inclusion = create_ablation_inclusion(mode='NORMAL')"
   ]
  },
  {
   "cell_type": "code",
   "execution_count": 10,
   "id": "4e919539",
   "metadata": {
    "ExecuteTime": {
     "end_time": "2023-12-09T20:58:15.203279Z",
     "start_time": "2023-12-09T20:58:15.129762Z"
    }
   },
   "outputs": [],
   "source": [
    "try:\n",
    "    app_context = get_application_context(driver)\n",
    "except:\n",
    "    app_context = ''"
   ]
  },
  {
   "cell_type": "code",
   "execution_count": 11,
   "id": "5e26e293",
   "metadata": {
    "ExecuteTime": {
     "end_time": "2023-12-09T20:58:17.879222Z",
     "start_time": "2023-12-09T20:58:15.708700Z"
    },
    "scrolled": true
   },
   "outputs": [
    {
     "name": "stdout",
     "output_type": "stream",
     "text": [
      " \u001b[0m Prompt: [\n",
      "  {\n",
      "    \"role\": \"system\",\n",
      "    \"content\": \"Instructions:\\nYour task is to generate a set of constraints for web form fields. Your decisions must be made independently without seeking user assistance or additional information. If there are multiple ways to express constraints, use the least number of constraints to describe them. Only generate the constraints and refrain from explaining your answers. Only generate constraints for the input field in question, not those in the relevant information section. You must choose your constraints in the format of our modified version of the Jest library in JavaScript. The list of functions in this modified format are:\\n1. toBeEqual(value) # the input field value is exactly equal to the given value\\n2. toHaveLengthCondition(condition, value) # the length of the input field value matches the given condition\\n3. toBeTruthy() # the input field value is truthy and not empty (not false, 0, '', null, undefined, or NaN)\\n4. toHaveCompareCondition(condition, numberOrDateValue) # the input field value has the given condition to the given value\\n5. toContainSubString(stringValue)\\n6. toContainChar(charValue)\\n7. toBeAlphabetical()\\n8. toBeNumerical()\\n9. toBeAlphaNumerical()\\n10. toContainUpperCaseChars()\\n11. toContainSpecialChars()\\n12. toContainWhiteSpace()\\n13. toStartWithString(stringValue)\\n14. toEndWithString(stringValue)\\n15. freeTextConstraint(constraintStringValue) # for constraints that cannot be expressed as a deterministic function from the above functions\\nYou must choose only from this list of functions, and avoid using any other functions. Use the notation \\\"field('elementId')\\\" to refer to input fields in the form. When generating constraints for date-related fields, also take current date into your considerations.\\n\\nExample of generated constraints for a password input field:\\nexpect(field('password'))\\n.toHaveLengthCondition('>', 8)\\n.toHaveLengthCondition('<', 50)\\n.toBeAlphaNumeric()\\n.toHaveUpperCase()\\n.toHaveSpecialChars()\\n.not.toBeTruthy()\\n.freeTextConstraint('your password must be a dog's name')\\n.toBeEqual(field('confirm-password'))\"\n",
      "  },\n",
      "  {\n",
      "    \"role\": \"user\",\n",
      "    \"content\": \"Today's date: 2023-12-09 12:58:15. When generating constraints for date fields, also generate constraints to compare them with the current date, past, and future if applicable.\\n    \\n    We are generating constraints for the following input field:\\n    input: <input id=\\\"globalSearchInputField\\\" maxlength=\\\"120\\\" name=\\\"keyword\\\" placeholder=\\\"Search\\\" type=\\\"text\\\" value=\\\"\\\"/>\\n    The relevant input fields available in the form are (in order of relevance):\\n    1.\\ninput: <button id=\\\"searchSubmit\\\" type=\\\"submit\\\" value=\\\"GO\\\"></button>\"\n",
      "  }\n",
      "]\n",
      " \u001b[0m Response: ChatCompletion(id='chatcmpl-8TygqMbNiqo7EW8UR1CaLNQ1y3dDF', choices=[Choice(finish_reason='stop', index=0, message=ChatCompletionMessage(content=\"expect(field('globalSearchInputField'))\\n.toBeTruthy()\\n.toHaveLengthCondition('<=', 120)\", role='assistant', function_call=None, tool_calls=None))], created=1702155496, model='gpt-4-0613', object='chat.completion', system_fingerprint=None, usage=CompletionUsage(completion_tokens=21, prompt_tokens=566, total_tokens=587))\n",
      " \u001b[0m Total running cost: $0.018\n",
      "toBeTruthy ['']\n",
      "toHaveLengthCondition [\"'<='\", '120']\n"
     ]
    }
   ],
   "source": [
    "value_table = generate_constraints_for_input_groups(\n",
    "    input_groups,\n",
    "    app_context=app_context,\n",
    "    ablation_inclusion=ablation_inclusion\n",
    ")"
   ]
  },
  {
   "cell_type": "code",
   "execution_count": 12,
   "id": "b86c3c1a",
   "metadata": {
    "ExecuteTime": {
     "end_time": "2023-12-09T20:58:20.496074Z",
     "start_time": "2023-12-09T20:58:20.449626Z"
    },
    "scrolled": false
   },
   "outputs": [
    {
     "name": "stdout",
     "output_type": "stream",
     "text": [
      "\n",
      "        input field:\n",
      "        input: <input id=\"globalSearchInputField\" maxlength=\"120\" name=\"keyword\" placeholder=\"Search\" type=\"text\" value=\"\"/>\n",
      "        constraints:\n",
      "        input field should be non-empty\n",
      "input field's length should be less than or equal to 120 characters\n",
      "        \n"
     ]
    }
   ],
   "source": [
    "value_table.print()"
   ]
  },
  {
   "cell_type": "code",
   "execution_count": 13,
   "id": "919aea1a",
   "metadata": {
    "ExecuteTime": {
     "end_time": "2023-12-09T20:58:22.676513Z",
     "start_time": "2023-12-09T20:58:21.966282Z"
    },
    "scrolled": false
   },
   "outputs": [
    {
     "name": "stdout",
     "output_type": "stream",
     "text": [
      " \u001b[0m Prompt: [\n",
      "  {\n",
      "    \"role\": \"system\",\n",
      "    \"content\": \"Your task is to generate a value for a web form field based on the form field information and a set of constraints on the field.\\nYour decisions must be made independently without seeking user assistance or additional information.\\nFor each user prompt, you need to generate one value that satisfies the constraints while keeping in mind the nature of the input from the available information.\\nOnly generate value and refrain from explaining your answers.\\nOnly generate value for the input field in question, and not the ones in the relevant information section.\\nWhen generating values, generate the ones that actually conform to the constraints, and refrain from altering real-world values to fit the constraint, e.g. do not change the value \\\"New York\\\" to \\\"NewYork\\\" to satisfy the constraint not to contain whitespace.\"\n",
      "  },\n",
      "  {\n",
      "    \"role\": \"user\",\n",
      "    \"content\": \"We are generating filling values for the following input field:\\n    input: <input id=\\\"globalSearchInputField\\\" maxlength=\\\"120\\\" name=\\\"keyword\\\" placeholder=\\\"Search\\\" type=\\\"text\\\" value=\\\"\\\"/>\\n    The constraints on this input field are:\\n    input field should be non-empty\\ninput field's length should be less than or equal to 120 characters\"\n",
      "  }\n",
      "]\n",
      " \u001b[0m Response: ChatCompletion(id='chatcmpl-8TygwIKClHi9h7m7mN6V8uVCuoeBc', choices=[Choice(finish_reason='stop', index=0, message=ChatCompletionMessage(content='Global warming effects on polar bears', role='assistant', function_call=None, tool_calls=None))], created=1702155502, model='gpt-4-0613', object='chat.completion', system_fingerprint=None, usage=CompletionUsage(completion_tokens=6, prompt_tokens=235, total_tokens=241))\n",
      " \u001b[0m Total running cost: $0.026\n"
     ]
    }
   ],
   "source": [
    "value_table = generate_values_for_input_groups(\n",
    "    input_groups,\n",
    "    value_table,\n",
    "    app_context=app_context,\n",
    "    ablation_inclusion=ablation_inclusion\n",
    ")"
   ]
  },
  {
   "cell_type": "code",
   "execution_count": 14,
   "id": "36d47bdf",
   "metadata": {
    "ExecuteTime": {
     "end_time": "2023-12-09T20:58:33.654536Z",
     "start_time": "2023-12-09T20:58:33.333583Z"
    }
   },
   "outputs": [
    {
     "name": "stdout",
     "output_type": "stream",
     "text": [
      "<input>Search</input> at y: (75, 115), x: (414, 1122)\n",
      "Global warming effects on polar bears\n"
     ]
    }
   ],
   "source": [
    "fill_form_with_value_table(driver, value_table, input_groups)"
   ]
  },
  {
   "cell_type": "code",
   "execution_count": 14,
   "id": "cb570a85",
   "metadata": {
    "ExecuteTime": {
     "end_time": "2023-12-09T01:07:12.158542Z",
     "start_time": "2023-12-09T01:07:11.570814Z"
    }
   },
   "outputs": [
    {
     "ename": "IndexError",
     "evalue": "list index out of range",
     "output_type": "error",
     "traceback": [
      "\u001b[0;31m---------------------------------------------------------------------------\u001b[0m",
      "\u001b[0;31mIndexError\u001b[0m                                Traceback (most recent call last)",
      "Cell \u001b[0;32mIn[14], line 1\u001b[0m\n\u001b[0;32m----> 1\u001b[0m \u001b[43msubmit_form\u001b[49m\u001b[43m(\u001b[49m\u001b[43mdriver\u001b[49m\u001b[43m,\u001b[49m\u001b[43m \u001b[49m\u001b[43minput_groups\u001b[49m\u001b[38;5;241;43m=\u001b[39;49m\u001b[43minput_groups\u001b[49m\u001b[43m,\u001b[49m\u001b[43m \u001b[49m\u001b[43mexplicit_submit\u001b[49m\u001b[38;5;241;43m=\u001b[39;49m\u001b[43mfind_button\u001b[49m\u001b[43m(\u001b[49m\u001b[43m)\u001b[49m\u001b[43m)\u001b[49m\n",
      "File \u001b[0;32m~/Desktop/webform testing project/implementation/method/ours/generation/utils.py:106\u001b[0m, in \u001b[0;36msubmit_form\u001b[0;34m(driver, input_groups, explicit_submit)\u001b[0m\n\u001b[1;32m    104\u001b[0m     submit \u001b[38;5;241m=\u001b[39m explicit_submit\n\u001b[1;32m    105\u001b[0m \u001b[38;5;28;01melse\u001b[39;00m:\n\u001b[0;32m--> 106\u001b[0m     submit \u001b[38;5;241m=\u001b[39m \u001b[38;5;28;43mlist\u001b[39;49m\u001b[43m(\u001b[49m\u001b[38;5;28;43mfilter\u001b[39;49m\u001b[43m(\u001b[49m\n\u001b[1;32m    107\u001b[0m \u001b[43m        \u001b[49m\u001b[38;5;28;43;01mlambda\u001b[39;49;00m\u001b[43m \u001b[49m\u001b[43mx\u001b[49m\u001b[43m:\u001b[49m\u001b[43m \u001b[49m\u001b[38;5;124;43m'\u001b[39;49m\u001b[38;5;124;43mtype\u001b[39;49m\u001b[38;5;124;43m'\u001b[39;49m\u001b[43m \u001b[49m\u001b[38;5;129;43;01min\u001b[39;49;00m\u001b[43m \u001b[49m\u001b[43mx\u001b[49m\u001b[38;5;241;43m.\u001b[39;49m\u001b[43mnode\u001b[49m\u001b[38;5;241;43m.\u001b[39;49m\u001b[43melement\u001b[49m\u001b[38;5;241;43m.\u001b[39;49m\u001b[43mattrs\u001b[49m\u001b[43m \u001b[49m\u001b[38;5;129;43;01mand\u001b[39;49;00m\u001b[43m \u001b[49m\u001b[43mx\u001b[49m\u001b[38;5;241;43m.\u001b[39;49m\u001b[43mnode\u001b[49m\u001b[38;5;241;43m.\u001b[39;49m\u001b[43melement\u001b[49m\u001b[38;5;241;43m.\u001b[39;49m\u001b[43mattrs\u001b[49m\u001b[43m[\u001b[49m\u001b[38;5;124;43m'\u001b[39;49m\u001b[38;5;124;43mtype\u001b[39;49m\u001b[38;5;124;43m'\u001b[39;49m\u001b[43m]\u001b[49m\u001b[43m \u001b[49m\u001b[38;5;241;43m==\u001b[39;49m\u001b[43m \u001b[49m\u001b[38;5;124;43m'\u001b[39;49m\u001b[38;5;124;43msubmit\u001b[39;49m\u001b[38;5;124;43m'\u001b[39;49m\u001b[43m,\u001b[49m\n\u001b[1;32m    108\u001b[0m \u001b[43m        \u001b[49m\u001b[43minput_groups\u001b[49m\n\u001b[1;32m    109\u001b[0m \u001b[43m    \u001b[49m\u001b[43m)\u001b[49m\u001b[43m)\u001b[49m\u001b[43m[\u001b[49m\u001b[38;5;241;43m0\u001b[39;49m\u001b[43m]\u001b[49m\n\u001b[1;32m    111\u001b[0m \u001b[38;5;28;01mfor\u001b[39;00m i \u001b[38;5;129;01min\u001b[39;00m \u001b[38;5;28mrange\u001b[39m(\u001b[38;5;241m5\u001b[39m):\n\u001b[1;32m    112\u001b[0m     \u001b[38;5;28;01mtry\u001b[39;00m:\n",
      "\u001b[0;31mIndexError\u001b[0m: list index out of range"
     ]
    }
   ],
   "source": [
    "submit_form(driver, input_groups=input_groups, explicit_submit=find_button())"
   ]
  },
  {
   "cell_type": "code",
   "execution_count": 15,
   "id": "1d51a2b4",
   "metadata": {
    "ExecuteTime": {
     "end_time": "2023-12-09T01:07:14.181305Z",
     "start_time": "2023-12-09T01:07:13.812089Z"
    }
   },
   "outputs": [],
   "source": [
    "new_html = driver.find_element(By.TAG_NAME, 'body').get_attribute('outerHTML')\n",
    "global_feedback = get_global_feedback(html, new_html, remove_form_children=False)"
   ]
  },
  {
   "cell_type": "code",
   "execution_count": 16,
   "id": "bbc69d1c",
   "metadata": {
    "ExecuteTime": {
     "end_time": "2023-12-09T01:07:14.735679Z",
     "start_time": "2023-12-09T01:07:14.682398Z"
    }
   },
   "outputs": [
    {
     "name": "stderr",
     "output_type": "stream",
     "text": [
      "/Users/parsaalian/Desktop/webform testing project/implementation/method/ours/history.py:83: FutureWarning: The frame.append method is deprecated and will be removed from pandas in a future version. Use pandas.concat instead.\n",
      "  self.table = self.table.append({\n"
     ]
    }
   ],
   "source": [
    "history_table.add(\n",
    "    value_table.get_values_dict(),\n",
    "    'base',\n",
    "    global_feedback,\n",
    "    driver.current_url\n",
    ")"
   ]
  },
  {
   "cell_type": "markdown",
   "id": "1352b64b",
   "metadata": {},
   "source": [
    "# Feedback"
   ]
  },
  {
   "cell_type": "code",
   "execution_count": 17,
   "id": "720cade4",
   "metadata": {
    "ExecuteTime": {
     "end_time": "2023-12-09T01:07:16.244487Z",
     "start_time": "2023-12-09T01:07:16.190700Z"
    }
   },
   "outputs": [],
   "source": [
    "new_form = find_form()"
   ]
  },
  {
   "cell_type": "code",
   "execution_count": 18,
   "id": "b99a21e9",
   "metadata": {
    "ExecuteTime": {
     "end_time": "2023-12-09T01:07:28.683521Z",
     "start_time": "2023-12-09T01:07:16.925026Z"
    }
   },
   "outputs": [
    {
     "data": {
      "application/vnd.jupyter.widget-view+json": {
       "model_id": "acd2f352eb4e477886149f73d100aa46",
       "version_major": 2,
       "version_minor": 0
      },
      "text/plain": [
       "Computing transition probabilities:   0%|          | 0/82 [00:00<?, ?it/s]"
      ]
     },
     "metadata": {},
     "output_type": "display_data"
    },
    {
     "name": "stderr",
     "output_type": "stream",
     "text": [
      "Generating walks (CPU: 1): 100%|██████████| 50/50 [00:00<00:00, 3682.90it/s]\n",
      "Generating walks (CPU: 2): 100%|██████████| 50/50 [00:00<00:00, 3440.15it/s]\n",
      "Generating walks (CPU: 3): 100%|██████████| 50/50 [00:00<00:00, 3260.35it/s]\n",
      "Generating walks (CPU: 4): 100%|██████████| 50/50 [00:00<00:00, 3290.99it/s]\n",
      "100%|███████████████████████████████████████████| 28/28 [00:06<00:00,  4.14it/s]\n",
      "/Library/Frameworks/Python.framework/Versions/3.10/lib/python3.10/site-packages/scipy/spatial/distance.py:622: RuntimeWarning: invalid value encountered in scalar divide\n",
      "  dist = 1.0 - uv / np.sqrt(uu * vv)\n"
     ]
    }
   ],
   "source": [
    "new_relation_graph, new_input_groups = parse_form(\n",
    "    driver,\n",
    "    new_form,\n",
    "    prev_relation_graph=relation_graph,\n",
    "    TEXT_EMBEDDING_METHOD=TEXT_EMBEDDING_METHOD\n",
    ")"
   ]
  },
  {
   "cell_type": "code",
   "execution_count": 19,
   "id": "6b330180",
   "metadata": {
    "ExecuteTime": {
     "end_time": "2023-12-09T01:07:44.367182Z",
     "start_time": "2023-12-09T01:07:44.023335Z"
    }
   },
   "outputs": [],
   "source": [
    "global_feedback = get_global_feedback(html, new_html, remove_form_children=True)"
   ]
  },
  {
   "cell_type": "code",
   "execution_count": 20,
   "id": "8f9c2fdf",
   "metadata": {
    "ExecuteTime": {
     "end_time": "2023-12-09T01:07:44.971039Z",
     "start_time": "2023-12-09T01:07:44.929769Z"
    }
   },
   "outputs": [
    {
     "data": {
      "text/plain": [
       "[]"
      ]
     },
     "execution_count": 20,
     "metadata": {},
     "output_type": "execute_result"
    }
   ],
   "source": [
    "global_feedback"
   ]
  },
  {
   "cell_type": "code",
   "execution_count": 21,
   "id": "d68a7f52",
   "metadata": {
    "ExecuteTime": {
     "end_time": "2023-12-09T01:07:45.690751Z",
     "start_time": "2023-12-09T01:07:45.635326Z"
    }
   },
   "outputs": [
    {
     "ename": "TypeError",
     "evalue": "generate_constraints_for_input_groups() got multiple values for argument 'app_context'",
     "output_type": "error",
     "traceback": [
      "\u001b[0;31m---------------------------------------------------------------------------\u001b[0m",
      "\u001b[0;31mTypeError\u001b[0m                                 Traceback (most recent call last)",
      "Cell \u001b[0;32mIn[21], line 1\u001b[0m\n\u001b[0;32m----> 1\u001b[0m value_table \u001b[38;5;241m=\u001b[39m \u001b[43mgenerate_constraints_for_input_groups\u001b[49m\u001b[43m(\u001b[49m\n\u001b[1;32m      2\u001b[0m \u001b[43m    \u001b[49m\u001b[43mnew_input_groups\u001b[49m\u001b[43m,\u001b[49m\n\u001b[1;32m      3\u001b[0m \u001b[43m    \u001b[49m\u001b[43mvalue_table\u001b[49m\u001b[43m,\u001b[49m\n\u001b[1;32m      4\u001b[0m \u001b[43m    \u001b[49m\u001b[43mglobal_feedback\u001b[49m\u001b[43m,\u001b[49m\n\u001b[1;32m      5\u001b[0m \u001b[43m    \u001b[49m\u001b[43mapp_context\u001b[49m\u001b[38;5;241;43m=\u001b[39;49m\u001b[43mapp_context\u001b[49m\u001b[43m,\u001b[49m\n\u001b[1;32m      6\u001b[0m \u001b[43m    \u001b[49m\u001b[43mablation_inclusion\u001b[49m\u001b[38;5;241;43m=\u001b[39;49m\u001b[43mablation_inclusion\u001b[49m\n\u001b[1;32m      7\u001b[0m \u001b[43m)\u001b[49m\n",
      "\u001b[0;31mTypeError\u001b[0m: generate_constraints_for_input_groups() got multiple values for argument 'app_context'"
     ]
    }
   ],
   "source": [
    "value_table = generate_constraints_for_input_groups(\n",
    "    new_input_groups,\n",
    "    value_table,\n",
    "    global_feedback,\n",
    "    app_context=app_context,\n",
    "    ablation_inclusion=ablation_inclusion\n",
    ")\n"
   ]
  },
  {
   "cell_type": "code",
   "execution_count": 22,
   "id": "43d4bb83",
   "metadata": {
    "ExecuteTime": {
     "end_time": "2023-12-09T01:08:05.201254Z",
     "start_time": "2023-12-09T01:08:05.158724Z"
    },
    "scrolled": false
   },
   "outputs": [
    {
     "name": "stdout",
     "output_type": "stream",
     "text": [
      "\n",
      "        input field:\n",
      "        input: <input id=\"ups-ship-from\" name=\"shipFromAdd\" required=\"\" type=\"text\"/>\n",
      "with label: From*\n",
      "        constraints:\n",
      "        input field should be non-empty\n",
      "input field should not be equal to field(ups-ship-to)\n",
      "        \n",
      "\n",
      "        input field:\n",
      "        input: <input id=\"ups-ship-to\" name=\"shipToAdd\" required=\"\" type=\"text\"/>\n",
      "with label: To*\n",
      "with the following relevant text tags:\n",
      "<p>*Required Fields</p>\n",
      "        constraints:\n",
      "        input field should be non-empty\n",
      "        \n",
      "\n",
      "        input field:\n",
      "        input: <input id=\"checkbox-terms-condition\" name=\"terms-condition\" type=\"checkbox\" value=\"true\"/>\n",
      "with label: This is a residential address.\n",
      "        constraints:\n",
      "        input field should be equal to true\n",
      "        \n",
      "\n",
      "        input field:\n",
      "        input: <input id=\"ups-ship-weight\" name=\"shipWeight\" required=\"\" type=\"text\"/>\n",
      "with label: Weight\n",
      "with the following relevant text tags:\n",
      "<h2>Package Information</h2>\n",
      "        constraints:\n",
      "        input field should be non-empty\n",
      "input field should be numeric\n",
      "input field should be greater than 0\n",
      "        \n",
      "\n",
      "        input field:\n",
      "        input: <input id=\"ups-ship-length\" name=\"shipLength\" required=\"\" type=\"text\"/>\n",
      "with label: Length *\n",
      "with the following relevant text tags:\n",
      "<span>*</span>\n",
      "        constraints:\n",
      "        input field should be non-empty\n",
      "input field should be numeric\n",
      "input field should be greater than 0\n",
      "        \n",
      "\n",
      "        input field:\n",
      "        input: <input id=\"ups-ship-width\" name=\"shipWidth\" required=\"\" type=\"text\"/>\n",
      "with label: Width *\n",
      "with the following relevant text tags:\n",
      "<span>*</span>\n",
      "        constraints:\n",
      "        input field should be non-empty\n",
      "input field should be numeric\n",
      "input field should be greater than 0\n",
      "        \n",
      "\n",
      "        input field:\n",
      "        input: <input id=\"ups-ship-height\" name=\"shipHeight\" required=\"\" type=\"text\"/>\n",
      "with label: Height *\n",
      "with the following relevant text tags:\n",
      "<span>*</span>\n",
      "        constraints:\n",
      "        input field should be numeric\n",
      "input field should be non-empty\n",
      "input field should be greater than 0\n",
      "        \n"
     ]
    }
   ],
   "source": [
    "value_table.print()"
   ]
  },
  {
   "cell_type": "code",
   "execution_count": 24,
   "id": "95ef03fa",
   "metadata": {
    "ExecuteTime": {
     "end_time": "2023-12-09T01:09:04.527078Z",
     "start_time": "2023-12-09T01:08:57.296962Z"
    }
   },
   "outputs": [
    {
     "name": "stdout",
     "output_type": "stream",
     "text": [
      " \u001b[0m Prompt: [\n",
      "  {\n",
      "    \"role\": \"system\",\n",
      "    \"content\": \"Your task is to generate a value for a web form field based on the form field information and a set of constraints on the field.\\nYour decisions must be made independently without seeking user assistance or additional information.\\nFor each user prompt, you need to generate one value that satisfies the constraints while keeping in mind the nature of the input from the available information.\\nOnly generate value and refrain from explaining your answers.\\nOnly generate value for the input field in question, and not the ones in the relevant information section.\\nWhen generating values, generate the ones that actually conform to the constraints, and refrain from altering real-world values to fit the constraint, e.g. do not change the value \\\"New York\\\" to \\\"NewYork\\\" to satisfy the constraint not to contain whitespace.\"\n",
      "  },\n",
      "  {\n",
      "    \"role\": \"user\",\n",
      "    \"content\": \"We are generating filling values for the following input field:\\n    input: <input id=\\\"ups-ship-from\\\" name=\\\"shipFromAdd\\\" required=\\\"\\\" type=\\\"text\\\"/>\\nwith label: From*\\n    The constraints on this input field are:\\n    input field should be non-empty\\ninput field should not be equal to 123 Main Street, Los Angeles, CA 90001\\n    We have tried the following value in this field before:\\n    123 Main Street\\n    And got the following inline and global feedback:\\n    From Address must have a valid ZIP code.\"\n",
      "  }\n",
      "]\n",
      " \u001b[0m Response: ChatCompletion(id='chatcmpl-8Tg7teQjalvZutQXKpbW4C6oOuinW', choices=[Choice(finish_reason='stop', index=0, message=ChatCompletionMessage(content='456 Park Avenue, New York, NY 10022', role='assistant', function_call=None, tool_calls=None))], created=1702084137, model='gpt-4-0613', object='chat.completion', system_fingerprint=None, usage=CompletionUsage(completion_tokens=11, prompt_tokens=278, total_tokens=289))\n",
      " \u001b[0m Total running cost: $0.197\n",
      " \u001b[0m Prompt: [\n",
      "  {\n",
      "    \"role\": \"system\",\n",
      "    \"content\": \"Your task is to generate a value for a web form field based on the form field information and a set of constraints on the field.\\nYour decisions must be made independently without seeking user assistance or additional information.\\nFor each user prompt, you need to generate one value that satisfies the constraints while keeping in mind the nature of the input from the available information.\\nOnly generate value and refrain from explaining your answers.\\nOnly generate value for the input field in question, and not the ones in the relevant information section.\\nWhen generating values, generate the ones that actually conform to the constraints, and refrain from altering real-world values to fit the constraint, e.g. do not change the value \\\"New York\\\" to \\\"NewYork\\\" to satisfy the constraint not to contain whitespace.\"\n",
      "  },\n",
      "  {\n",
      "    \"role\": \"user\",\n",
      "    \"content\": \"We are generating filling values for the following input field:\\n    input: <input id=\\\"ups-ship-to\\\" name=\\\"shipToAdd\\\" required=\\\"\\\" type=\\\"text\\\"/>\\nwith label: To*\\nwith the following relevant text tags:\\n<p>*Required Fields</p>\\n    The constraints on this input field are:\\n    input field should be non-empty\"\n",
      "  }\n",
      "]\n",
      " \u001b[0m Response: ChatCompletion(id='chatcmpl-8Tg7vTSNS2jL2NobOjwNbcLJrkaoN', choices=[Choice(finish_reason='stop', index=0, message=ChatCompletionMessage(content='123 Main Street, Los Angeles, CA 90012', role='assistant', function_call=None, tool_calls=None))], created=1702084139, model='gpt-4-0613', object='chat.completion', system_fingerprint=None, usage=CompletionUsage(completion_tokens=11, prompt_tokens=232, total_tokens=243))\n",
      " \u001b[0m Total running cost: $0.204\n",
      " \u001b[0m Prompt: [\n",
      "  {\n",
      "    \"role\": \"system\",\n",
      "    \"content\": \"Your task is to generate a value for a web form field based on the form field information and a set of constraints on the field.\\nYour decisions must be made independently without seeking user assistance or additional information.\\nFor each user prompt, you need to generate one value that satisfies the constraints while keeping in mind the nature of the input from the available information.\\nOnly generate value and refrain from explaining your answers.\\nOnly generate value for the input field in question, and not the ones in the relevant information section.\\nWhen generating values, generate the ones that actually conform to the constraints, and refrain from altering real-world values to fit the constraint, e.g. do not change the value \\\"New York\\\" to \\\"NewYork\\\" to satisfy the constraint not to contain whitespace.\"\n",
      "  },\n",
      "  {\n",
      "    \"role\": \"user\",\n",
      "    \"content\": \"We are generating filling values for the following input field:\\n    input: <input id=\\\"checkbox-terms-condition\\\" name=\\\"terms-condition\\\" type=\\\"checkbox\\\" value=\\\"true\\\"/>\\nwith label: This is a residential address.\\n    The constraints on this input field are:\\n    input field should be equal to true\"\n",
      "  }\n",
      "]\n",
      " \u001b[0m Response: ChatCompletion(id='chatcmpl-8Tg7wk8NjthRvRMq9h3QBwmVzSl3e', choices=[Choice(finish_reason='stop', index=0, message=ChatCompletionMessage(content='true', role='assistant', function_call=None, tool_calls=None))], created=1702084140, model='gpt-4-0613', object='chat.completion', system_fingerprint=None, usage=CompletionUsage(completion_tokens=1, prompt_tokens=225, total_tokens=226))\n",
      " \u001b[0m Total running cost: $0.211\n",
      " \u001b[0m Prompt: [\n",
      "  {\n",
      "    \"role\": \"system\",\n",
      "    \"content\": \"Your task is to generate a value for a web form field based on the form field information and a set of constraints on the field.\\nYour decisions must be made independently without seeking user assistance or additional information.\\nFor each user prompt, you need to generate one value that satisfies the constraints while keeping in mind the nature of the input from the available information.\\nOnly generate value and refrain from explaining your answers.\\nOnly generate value for the input field in question, and not the ones in the relevant information section.\\nWhen generating values, generate the ones that actually conform to the constraints, and refrain from altering real-world values to fit the constraint, e.g. do not change the value \\\"New York\\\" to \\\"NewYork\\\" to satisfy the constraint not to contain whitespace.\"\n",
      "  },\n",
      "  {\n",
      "    \"role\": \"user\",\n",
      "    \"content\": \"We are generating filling values for the following input field:\\n    input: <input id=\\\"ups-ship-weight\\\" name=\\\"shipWeight\\\" required=\\\"\\\" type=\\\"text\\\"/>\\nwith label: Weight\\nwith the following relevant text tags:\\n<h2>Package Information</h2>\\n    The constraints on this input field are:\\n    input field should be non-empty\\ninput field should be numeric\\ninput field should be greater than 0\"\n",
      "  }\n",
      "]\n",
      " \u001b[0m Response: ChatCompletion(id='chatcmpl-8Tg7xqYkTHDJe0E01GvyYnqFpC74k', choices=[Choice(finish_reason='stop', index=0, message=ChatCompletionMessage(content='15.6', role='assistant', function_call=None, tool_calls=None))], created=1702084141, model='gpt-4-0613', object='chat.completion', system_fingerprint=None, usage=CompletionUsage(completion_tokens=3, prompt_tokens=249, total_tokens=252))\n",
      " \u001b[0m Total running cost: $0.219\n",
      " \u001b[0m Prompt: [\n",
      "  {\n",
      "    \"role\": \"system\",\n",
      "    \"content\": \"Your task is to generate a value for a web form field based on the form field information and a set of constraints on the field.\\nYour decisions must be made independently without seeking user assistance or additional information.\\nFor each user prompt, you need to generate one value that satisfies the constraints while keeping in mind the nature of the input from the available information.\\nOnly generate value and refrain from explaining your answers.\\nOnly generate value for the input field in question, and not the ones in the relevant information section.\\nWhen generating values, generate the ones that actually conform to the constraints, and refrain from altering real-world values to fit the constraint, e.g. do not change the value \\\"New York\\\" to \\\"NewYork\\\" to satisfy the constraint not to contain whitespace.\"\n",
      "  },\n",
      "  {\n",
      "    \"role\": \"user\",\n",
      "    \"content\": \"We are generating filling values for the following input field:\\n    input: <input id=\\\"ups-ship-length\\\" name=\\\"shipLength\\\" required=\\\"\\\" type=\\\"text\\\"/>\\nwith label: Length *\\nwith the following relevant text tags:\\n<span>*</span>\\n    The constraints on this input field are:\\n    input field should be non-empty\\ninput field should be numeric\\ninput field should be greater than 0\"\n",
      "  }\n",
      "]\n"
     ]
    },
    {
     "name": "stdout",
     "output_type": "stream",
     "text": [
      " \u001b[0m Response: ChatCompletion(id='chatcmpl-8Tg7yvQi6DChYchNdA83PNC7mjo8U', choices=[Choice(finish_reason='stop', index=0, message=ChatCompletionMessage(content='25', role='assistant', function_call=None, tool_calls=None))], created=1702084142, model='gpt-4-0613', object='chat.completion', system_fingerprint=None, usage=CompletionUsage(completion_tokens=1, prompt_tokens=244, total_tokens=245))\n",
      " \u001b[0m Total running cost: $0.226\n",
      " \u001b[0m Prompt: [\n",
      "  {\n",
      "    \"role\": \"system\",\n",
      "    \"content\": \"Your task is to generate a value for a web form field based on the form field information and a set of constraints on the field.\\nYour decisions must be made independently without seeking user assistance or additional information.\\nFor each user prompt, you need to generate one value that satisfies the constraints while keeping in mind the nature of the input from the available information.\\nOnly generate value and refrain from explaining your answers.\\nOnly generate value for the input field in question, and not the ones in the relevant information section.\\nWhen generating values, generate the ones that actually conform to the constraints, and refrain from altering real-world values to fit the constraint, e.g. do not change the value \\\"New York\\\" to \\\"NewYork\\\" to satisfy the constraint not to contain whitespace.\"\n",
      "  },\n",
      "  {\n",
      "    \"role\": \"user\",\n",
      "    \"content\": \"We are generating filling values for the following input field:\\n    input: <input id=\\\"ups-ship-width\\\" name=\\\"shipWidth\\\" required=\\\"\\\" type=\\\"text\\\"/>\\nwith label: Width *\\nwith the following relevant text tags:\\n<span>*</span>\\n    The constraints on this input field are:\\n    input field should be non-empty\\ninput field should be numeric\\ninput field should be greater than 0\"\n",
      "  }\n",
      "]\n",
      " \u001b[0m Response: ChatCompletion(id='chatcmpl-8Tg7zKpuI6UNtDLQAePASYxaxuTAL', choices=[Choice(finish_reason='stop', index=0, message=ChatCompletionMessage(content='15', role='assistant', function_call=None, tool_calls=None))], created=1702084143, model='gpt-4-0613', object='chat.completion', system_fingerprint=None, usage=CompletionUsage(completion_tokens=1, prompt_tokens=244, total_tokens=245))\n",
      " \u001b[0m Total running cost: $0.234\n",
      " \u001b[0m Prompt: [\n",
      "  {\n",
      "    \"role\": \"system\",\n",
      "    \"content\": \"Your task is to generate a value for a web form field based on the form field information and a set of constraints on the field.\\nYour decisions must be made independently without seeking user assistance or additional information.\\nFor each user prompt, you need to generate one value that satisfies the constraints while keeping in mind the nature of the input from the available information.\\nOnly generate value and refrain from explaining your answers.\\nOnly generate value for the input field in question, and not the ones in the relevant information section.\\nWhen generating values, generate the ones that actually conform to the constraints, and refrain from altering real-world values to fit the constraint, e.g. do not change the value \\\"New York\\\" to \\\"NewYork\\\" to satisfy the constraint not to contain whitespace.\"\n",
      "  },\n",
      "  {\n",
      "    \"role\": \"user\",\n",
      "    \"content\": \"We are generating filling values for the following input field:\\n    input: <input id=\\\"ups-ship-height\\\" name=\\\"shipHeight\\\" required=\\\"\\\" type=\\\"text\\\"/>\\nwith label: Height *\\nwith the following relevant text tags:\\n<span>*</span>\\n    The constraints on this input field are:\\n    input field should be numeric\\ninput field should be non-empty\\ninput field should be greater than 0\"\n",
      "  }\n",
      "]\n",
      " \u001b[0m Response: ChatCompletion(id='chatcmpl-8Tg800CbBbQT6Z4ZQ6kVpvBqA0fpi', choices=[Choice(finish_reason='stop', index=0, message=ChatCompletionMessage(content='25', role='assistant', function_call=None, tool_calls=None))], created=1702084144, model='gpt-4-0613', object='chat.completion', system_fingerprint=None, usage=CompletionUsage(completion_tokens=1, prompt_tokens=244, total_tokens=245))\n",
      " \u001b[0m Total running cost: $0.241\n"
     ]
    }
   ],
   "source": [
    "value_table = generate_values_for_input_groups(\n",
    "    new_input_groups,\n",
    "    value_table,\n",
    "    global_feedback=global_feedback,\n",
    "    app_context=app_context,\n",
    "    ablation_inclusion=ablation_inclusion\n",
    ")"
   ]
  },
  {
   "cell_type": "code",
   "execution_count": 25,
   "id": "5ff74aeb",
   "metadata": {
    "ExecuteTime": {
     "end_time": "2023-12-09T01:09:09.447584Z",
     "start_time": "2023-12-09T01:09:08.624999Z"
    }
   },
   "outputs": [
    {
     "name": "stdout",
     "output_type": "stream",
     "text": [
      "<input></input> at y: (480, 534), x: (178, 745)\n",
      "456 Park Avenue, New York, NY 10022\n",
      "<input></input> at y: (480, 534), x: (776, 1343)\n",
      "123 Main Street, Los Angeles, CA 90012\n",
      "<input>value is true</input> at y: (551, 564), x: (776, 789)\n",
      "true\n",
      "<input></input> at y: (628, 682), x: (178, 346)\n",
      "15.6\n",
      "<input></input> at y: (628, 682), x: (377, 545)\n",
      "25\n",
      "<input></input> at y: (628, 682), x: (577, 745)\n",
      "15\n",
      "<input></input> at y: (628, 682), x: (776, 944)\n",
      "25\n"
     ]
    }
   ],
   "source": [
    "fill_form_with_value_table(driver, value_table, new_input_groups)"
   ]
  },
  {
   "cell_type": "code",
   "execution_count": 29,
   "id": "d655ee0a",
   "metadata": {
    "ExecuteTime": {
     "end_time": "2023-11-28T02:01:10.603965Z",
     "start_time": "2023-11-28T02:01:04.999341Z"
    }
   },
   "outputs": [
    {
     "name": "stdout",
     "output_type": "stream",
     "text": [
      "Message: element click intercepted: Element <button class=\"abc-button abc-button-height-default abc-button-theme-blue abc-button-type-primary abc-dir-ltr user-select-none abc-button-has-inset-loader ng-star-inserted\" id=\"bkmgFlights_findButton\" type=\"submit\" aria-disabled=\"false\" aria-labelledby=\"bkmgFlights_findButtonContent\" aria-busy=\"false\" data-analytics-track=\"home magnet\" data-analytics-val=\"bookingmagnet-flight-find>cash\" xpath=\"//BODY/AC-WEB-APP[1]/DIV[1]/MAIN[1]/DIV[1]/AC-ACOHOME-PAGE[1]/DIV[1]/DIV[1]/AC-BOOKING-MAGNET[1]/DIV[1]/DIV[1]/DIV[1]/DIV[2]/AC-BKMG-FLIGHTS-TAB[1]/DIV[1]/FORM[1]/FIELDSET[1]/DIV[1]/DIV[2]/ABC-BUTTON[1]/BUTTON[1]\" x_start=\"1175\" x_end=\"1343\" y_start=\"1036\" y_end=\"1088\">...</button> is not clickable at point (1258, 676). Other element would receive the click: <ac-beta-toggle _ngcontent-hmu-c50=\"\" _nghost-hmu-c11=\"\">...</ac-beta-toggle>\n",
      "  (Session info: chrome=119.0.6045.159)\n",
      "Stacktrace:\n",
      "0   chromedriver                        0x0000000104cf9d28 chromedriver + 4795688\n",
      "1   chromedriver                        0x0000000104cf12b3 chromedriver + 4760243\n",
      "2   chromedriver                        0x00000001048ca88d chromedriver + 407693\n",
      "3   chromedriver                        0x000000010492138a chromedriver + 762762\n",
      "4   chromedriver                        0x000000010491ed0b chromedriver + 752907\n",
      "5   chromedriver                        0x000000010491c174 chromedriver + 741748\n",
      "6   chromedriver                        0x000000010491ae89 chromedriver + 736905\n",
      "7   chromedriver                        0x000000010490d3fa chromedriver + 680954\n",
      "8   chromedriver                        0x0000000104940ca2 chromedriver + 892066\n",
      "9   chromedriver                        0x000000010490cc63 chromedriver + 679011\n",
      "10  chromedriver                        0x0000000104940e5e chromedriver + 892510\n",
      "11  chromedriver                        0x000000010495cb2b chromedriver + 1006379\n",
      "12  chromedriver                        0x0000000104940a73 chromedriver + 891507\n",
      "13  chromedriver                        0x000000010490b143 chromedriver + 672067\n",
      "14  chromedriver                        0x000000010490c31e chromedriver + 676638\n",
      "15  chromedriver                        0x0000000104cba795 chromedriver + 4536213\n",
      "16  chromedriver                        0x0000000104cbf853 chromedriver + 4556883\n",
      "17  chromedriver                        0x0000000104ca0001 chromedriver + 4427777\n",
      "18  chromedriver                        0x0000000104cc059d chromedriver + 4560285\n",
      "19  chromedriver                        0x0000000104c9148c chromedriver + 4367500\n",
      "20  chromedriver                        0x0000000104ce00e8 chromedriver + 4690152\n",
      "21  chromedriver                        0x0000000104ce029e chromedriver + 4690590\n",
      "22  chromedriver                        0x0000000104cf0eee chromedriver + 4759278\n",
      "23  libsystem_pthread.dylib             0x00007ff818426202 _pthread_start + 99\n",
      "24  libsystem_pthread.dylib             0x00007ff818421bab thread_start + 15\n",
      "\n",
      "Message: element click intercepted: Element <button class=\"abc-button abc-button-height-default abc-button-theme-blue abc-button-type-primary abc-dir-ltr user-select-none abc-button-has-inset-loader ng-star-inserted\" id=\"bkmgFlights_findButton\" type=\"submit\" aria-disabled=\"false\" aria-labelledby=\"bkmgFlights_findButtonContent\" aria-busy=\"false\" data-analytics-track=\"home magnet\" data-analytics-val=\"bookingmagnet-flight-find>cash\" xpath=\"//BODY/AC-WEB-APP[1]/DIV[1]/MAIN[1]/DIV[1]/AC-ACOHOME-PAGE[1]/DIV[1]/DIV[1]/AC-BOOKING-MAGNET[1]/DIV[1]/DIV[1]/DIV[1]/DIV[2]/AC-BKMG-FLIGHTS-TAB[1]/DIV[1]/FORM[1]/FIELDSET[1]/DIV[1]/DIV[2]/ABC-BUTTON[1]/BUTTON[1]\" x_start=\"1175\" x_end=\"1343\" y_start=\"1036\" y_end=\"1088\">...</button> is not clickable at point (1258, 676). Other element would receive the click: <ac-beta-toggle _ngcontent-hmu-c50=\"\" _nghost-hmu-c11=\"\">...</ac-beta-toggle>\n",
      "  (Session info: chrome=119.0.6045.159)\n",
      "Stacktrace:\n",
      "0   chromedriver                        0x0000000104cf9d28 chromedriver + 4795688\n",
      "1   chromedriver                        0x0000000104cf12b3 chromedriver + 4760243\n",
      "2   chromedriver                        0x00000001048ca88d chromedriver + 407693\n",
      "3   chromedriver                        0x000000010492138a chromedriver + 762762\n",
      "4   chromedriver                        0x000000010491ed0b chromedriver + 752907\n",
      "5   chromedriver                        0x000000010491c174 chromedriver + 741748\n",
      "6   chromedriver                        0x000000010491ae89 chromedriver + 736905\n",
      "7   chromedriver                        0x000000010490d3fa chromedriver + 680954\n",
      "8   chromedriver                        0x0000000104940ca2 chromedriver + 892066\n",
      "9   chromedriver                        0x000000010490cc63 chromedriver + 679011\n",
      "10  chromedriver                        0x0000000104940e5e chromedriver + 892510\n",
      "11  chromedriver                        0x000000010495cb2b chromedriver + 1006379\n",
      "12  chromedriver                        0x0000000104940a73 chromedriver + 891507\n",
      "13  chromedriver                        0x000000010490b143 chromedriver + 672067\n",
      "14  chromedriver                        0x000000010490c31e chromedriver + 676638\n",
      "15  chromedriver                        0x0000000104cba795 chromedriver + 4536213\n",
      "16  chromedriver                        0x0000000104cbf853 chromedriver + 4556883\n",
      "17  chromedriver                        0x0000000104ca0001 chromedriver + 4427777\n",
      "18  chromedriver                        0x0000000104cc059d chromedriver + 4560285\n",
      "19  chromedriver                        0x0000000104c9148c chromedriver + 4367500\n",
      "20  chromedriver                        0x0000000104ce00e8 chromedriver + 4690152\n",
      "21  chromedriver                        0x0000000104ce029e chromedriver + 4690590\n",
      "22  chromedriver                        0x0000000104cf0eee chromedriver + 4759278\n",
      "23  libsystem_pthread.dylib             0x00007ff818426202 _pthread_start + 99\n",
      "24  libsystem_pthread.dylib             0x00007ff818421bab thread_start + 15\n",
      "\n",
      "Message: element click intercepted: Element <button class=\"abc-button abc-button-height-default abc-button-theme-blue abc-button-type-primary abc-dir-ltr user-select-none abc-button-has-inset-loader ng-star-inserted\" id=\"bkmgFlights_findButton\" type=\"submit\" aria-disabled=\"false\" aria-labelledby=\"bkmgFlights_findButtonContent\" aria-busy=\"false\" data-analytics-track=\"home magnet\" data-analytics-val=\"bookingmagnet-flight-find>cash\" xpath=\"//BODY/AC-WEB-APP[1]/DIV[1]/MAIN[1]/DIV[1]/AC-ACOHOME-PAGE[1]/DIV[1]/DIV[1]/AC-BOOKING-MAGNET[1]/DIV[1]/DIV[1]/DIV[1]/DIV[2]/AC-BKMG-FLIGHTS-TAB[1]/DIV[1]/FORM[1]/FIELDSET[1]/DIV[1]/DIV[2]/ABC-BUTTON[1]/BUTTON[1]\" x_start=\"1175\" x_end=\"1343\" y_start=\"1036\" y_end=\"1088\">...</button> is not clickable at point (1258, 676). Other element would receive the click: <ac-beta-toggle _ngcontent-hmu-c50=\"\" _nghost-hmu-c11=\"\">...</ac-beta-toggle>\n",
      "  (Session info: chrome=119.0.6045.159)\n",
      "Stacktrace:\n",
      "0   chromedriver                        0x0000000104cf9d28 chromedriver + 4795688\n",
      "1   chromedriver                        0x0000000104cf12b3 chromedriver + 4760243\n",
      "2   chromedriver                        0x00000001048ca88d chromedriver + 407693\n",
      "3   chromedriver                        0x000000010492138a chromedriver + 762762\n",
      "4   chromedriver                        0x000000010491ed0b chromedriver + 752907\n",
      "5   chromedriver                        0x000000010491c174 chromedriver + 741748\n",
      "6   chromedriver                        0x000000010491ae89 chromedriver + 736905\n",
      "7   chromedriver                        0x000000010490d3fa chromedriver + 680954\n",
      "8   chromedriver                        0x0000000104940ca2 chromedriver + 892066\n",
      "9   chromedriver                        0x000000010490cc63 chromedriver + 679011\n",
      "10  chromedriver                        0x0000000104940e5e chromedriver + 892510\n",
      "11  chromedriver                        0x000000010495cb2b chromedriver + 1006379\n",
      "12  chromedriver                        0x0000000104940a73 chromedriver + 891507\n",
      "13  chromedriver                        0x000000010490b143 chromedriver + 672067\n",
      "14  chromedriver                        0x000000010490c31e chromedriver + 676638\n",
      "15  chromedriver                        0x0000000104cba795 chromedriver + 4536213\n",
      "16  chromedriver                        0x0000000104cbf853 chromedriver + 4556883\n",
      "17  chromedriver                        0x0000000104ca0001 chromedriver + 4427777\n",
      "18  chromedriver                        0x0000000104cc059d chromedriver + 4560285\n",
      "19  chromedriver                        0x0000000104c9148c chromedriver + 4367500\n",
      "20  chromedriver                        0x0000000104ce00e8 chromedriver + 4690152\n",
      "21  chromedriver                        0x0000000104ce029e chromedriver + 4690590\n",
      "22  chromedriver                        0x0000000104cf0eee chromedriver + 4759278\n",
      "23  libsystem_pthread.dylib             0x00007ff818426202 _pthread_start + 99\n",
      "24  libsystem_pthread.dylib             0x00007ff818421bab thread_start + 15\n",
      "\n"
     ]
    },
    {
     "name": "stdout",
     "output_type": "stream",
     "text": [
      "Message: element click intercepted: Element <button class=\"abc-button abc-button-height-default abc-button-theme-blue abc-button-type-primary abc-dir-ltr user-select-none abc-button-has-inset-loader ng-star-inserted\" id=\"bkmgFlights_findButton\" type=\"submit\" aria-disabled=\"false\" aria-labelledby=\"bkmgFlights_findButtonContent\" aria-busy=\"false\" data-analytics-track=\"home magnet\" data-analytics-val=\"bookingmagnet-flight-find>cash\" xpath=\"//BODY/AC-WEB-APP[1]/DIV[1]/MAIN[1]/DIV[1]/AC-ACOHOME-PAGE[1]/DIV[1]/DIV[1]/AC-BOOKING-MAGNET[1]/DIV[1]/DIV[1]/DIV[1]/DIV[2]/AC-BKMG-FLIGHTS-TAB[1]/DIV[1]/FORM[1]/FIELDSET[1]/DIV[1]/DIV[2]/ABC-BUTTON[1]/BUTTON[1]\" x_start=\"1175\" x_end=\"1343\" y_start=\"1036\" y_end=\"1088\">...</button> is not clickable at point (1258, 676). Other element would receive the click: <ac-beta-toggle _ngcontent-hmu-c50=\"\" _nghost-hmu-c11=\"\">...</ac-beta-toggle>\n",
      "  (Session info: chrome=119.0.6045.159)\n",
      "Stacktrace:\n",
      "0   chromedriver                        0x0000000104cf9d28 chromedriver + 4795688\n",
      "1   chromedriver                        0x0000000104cf12b3 chromedriver + 4760243\n",
      "2   chromedriver                        0x00000001048ca88d chromedriver + 407693\n",
      "3   chromedriver                        0x000000010492138a chromedriver + 762762\n",
      "4   chromedriver                        0x000000010491ed0b chromedriver + 752907\n",
      "5   chromedriver                        0x000000010491c174 chromedriver + 741748\n",
      "6   chromedriver                        0x000000010491ae89 chromedriver + 736905\n",
      "7   chromedriver                        0x000000010490d3fa chromedriver + 680954\n",
      "8   chromedriver                        0x0000000104940ca2 chromedriver + 892066\n",
      "9   chromedriver                        0x000000010490cc63 chromedriver + 679011\n",
      "10  chromedriver                        0x0000000104940e5e chromedriver + 892510\n",
      "11  chromedriver                        0x000000010495cb2b chromedriver + 1006379\n",
      "12  chromedriver                        0x0000000104940a73 chromedriver + 891507\n",
      "13  chromedriver                        0x000000010490b143 chromedriver + 672067\n",
      "14  chromedriver                        0x000000010490c31e chromedriver + 676638\n",
      "15  chromedriver                        0x0000000104cba795 chromedriver + 4536213\n",
      "16  chromedriver                        0x0000000104cbf853 chromedriver + 4556883\n",
      "17  chromedriver                        0x0000000104ca0001 chromedriver + 4427777\n",
      "18  chromedriver                        0x0000000104cc059d chromedriver + 4560285\n",
      "19  chromedriver                        0x0000000104c9148c chromedriver + 4367500\n",
      "20  chromedriver                        0x0000000104ce00e8 chromedriver + 4690152\n",
      "21  chromedriver                        0x0000000104ce029e chromedriver + 4690590\n",
      "22  chromedriver                        0x0000000104cf0eee chromedriver + 4759278\n",
      "23  libsystem_pthread.dylib             0x00007ff818426202 _pthread_start + 99\n",
      "24  libsystem_pthread.dylib             0x00007ff818421bab thread_start + 15\n",
      "\n",
      "Message: element click intercepted: Element <button class=\"abc-button abc-button-height-default abc-button-theme-blue abc-button-type-primary abc-dir-ltr user-select-none abc-button-has-inset-loader ng-star-inserted\" id=\"bkmgFlights_findButton\" type=\"submit\" aria-disabled=\"false\" aria-labelledby=\"bkmgFlights_findButtonContent\" aria-busy=\"false\" data-analytics-track=\"home magnet\" data-analytics-val=\"bookingmagnet-flight-find>cash\" xpath=\"//BODY/AC-WEB-APP[1]/DIV[1]/MAIN[1]/DIV[1]/AC-ACOHOME-PAGE[1]/DIV[1]/DIV[1]/AC-BOOKING-MAGNET[1]/DIV[1]/DIV[1]/DIV[1]/DIV[2]/AC-BKMG-FLIGHTS-TAB[1]/DIV[1]/FORM[1]/FIELDSET[1]/DIV[1]/DIV[2]/ABC-BUTTON[1]/BUTTON[1]\" x_start=\"1175\" x_end=\"1343\" y_start=\"1036\" y_end=\"1088\">...</button> is not clickable at point (1258, 676). Other element would receive the click: <ac-beta-toggle _ngcontent-hmu-c50=\"\" _nghost-hmu-c11=\"\">...</ac-beta-toggle>\n",
      "  (Session info: chrome=119.0.6045.159)\n",
      "Stacktrace:\n",
      "0   chromedriver                        0x0000000104cf9d28 chromedriver + 4795688\n",
      "1   chromedriver                        0x0000000104cf12b3 chromedriver + 4760243\n",
      "2   chromedriver                        0x00000001048ca88d chromedriver + 407693\n",
      "3   chromedriver                        0x000000010492138a chromedriver + 762762\n",
      "4   chromedriver                        0x000000010491ed0b chromedriver + 752907\n",
      "5   chromedriver                        0x000000010491c174 chromedriver + 741748\n",
      "6   chromedriver                        0x000000010491ae89 chromedriver + 736905\n",
      "7   chromedriver                        0x000000010490d3fa chromedriver + 680954\n",
      "8   chromedriver                        0x0000000104940ca2 chromedriver + 892066\n",
      "9   chromedriver                        0x000000010490cc63 chromedriver + 679011\n",
      "10  chromedriver                        0x0000000104940e5e chromedriver + 892510\n",
      "11  chromedriver                        0x000000010495cb2b chromedriver + 1006379\n",
      "12  chromedriver                        0x0000000104940a73 chromedriver + 891507\n",
      "13  chromedriver                        0x000000010490b143 chromedriver + 672067\n",
      "14  chromedriver                        0x000000010490c31e chromedriver + 676638\n",
      "15  chromedriver                        0x0000000104cba795 chromedriver + 4536213\n",
      "16  chromedriver                        0x0000000104cbf853 chromedriver + 4556883\n",
      "17  chromedriver                        0x0000000104ca0001 chromedriver + 4427777\n",
      "18  chromedriver                        0x0000000104cc059d chromedriver + 4560285\n",
      "19  chromedriver                        0x0000000104c9148c chromedriver + 4367500\n",
      "20  chromedriver                        0x0000000104ce00e8 chromedriver + 4690152\n",
      "21  chromedriver                        0x0000000104ce029e chromedriver + 4690590\n",
      "22  chromedriver                        0x0000000104cf0eee chromedriver + 4759278\n",
      "23  libsystem_pthread.dylib             0x00007ff818426202 _pthread_start + 99\n",
      "24  libsystem_pthread.dylib             0x00007ff818421bab thread_start + 15\n",
      "\n"
     ]
    }
   ],
   "source": [
    "submit_form(driver, input_groups=new_input_groups, explicit_submit=find_button())"
   ]
  },
  {
   "cell_type": "code",
   "execution_count": 27,
   "id": "77d3adce",
   "metadata": {
    "ExecuteTime": {
     "end_time": "2023-07-27T21:09:05.925834Z",
     "start_time": "2023-07-27T21:09:04.619778Z"
    }
   },
   "outputs": [
    {
     "name": "stderr",
     "output_type": "stream",
     "text": [
      "/Users/parsaalian/Desktop/Research/webform testing project/webform-testing-code/implementation/method/ours/history.py:83: FutureWarning: The frame.append method is deprecated and will be removed from pandas in a future version. Use pandas.concat instead.\n",
      "  self.table = self.table.append({\n"
     ]
    }
   ],
   "source": [
    "new_html = driver.find_element(By.TAG_NAME, 'body').get_attribute('outerHTML')\n",
    "global_feedback = get_global_feedback(html, new_html, remove_form_children=False)\n",
    "\n",
    "history_table.add(\n",
    "    value_table.get_values_dict(),\n",
    "    'base',\n",
    "    global_feedback,\n",
    "    driver.current_url\n",
    ")"
   ]
  },
  {
   "cell_type": "markdown",
   "id": "cc38298f",
   "metadata": {},
   "source": [
    "# Constraint Negation"
   ]
  },
  {
   "cell_type": "code",
   "execution_count": 18,
   "id": "bc5a5244",
   "metadata": {
    "ExecuteTime": {
     "end_time": "2023-12-08T02:46:42.729910Z",
     "start_time": "2023-12-08T02:46:42.684774Z"
    }
   },
   "outputs": [],
   "source": [
    "form_context = get_form_context(input_groups)"
   ]
  },
  {
   "cell_type": "code",
   "execution_count": 19,
   "id": "f6d20185",
   "metadata": {
    "ExecuteTime": {
     "end_time": "2023-12-08T02:46:43.591382Z",
     "start_time": "2023-12-08T02:46:43.547543Z"
    }
   },
   "outputs": [],
   "source": [
    "# history_table.table = history_table.table[:1]"
   ]
  },
  {
   "cell_type": "code",
   "execution_count": 21,
   "id": "3bf4fe7c",
   "metadata": {
    "ExecuteTime": {
     "end_time": "2023-12-08T02:47:41.343420Z",
     "start_time": "2023-12-08T02:46:58.442241Z"
    }
   },
   "outputs": [
    {
     "name": "stdout",
     "output_type": "stream",
     "text": [
      " \u001b[0m Prompt: [\n",
      "  {\n",
      "    \"role\": \"system\",\n",
      "    \"content\": \"Your task is to generate a value for a web form field based on the form field information and a set of constraints on the field.\\nYour decisions must be made independently without seeking user assistance or additional information.\\nFor each user prompt, you need to generate one value that satisfies the constraints while keeping in mind the nature of the input from the available information.\\nOnly generate value and refrain from explaining your answers.\\nOnly generate value for the input field in question, and not the ones in the relevant information section.\\nWhen generating values, generate the ones that actually conform to the constraints, and refrain from altering real-world values to fit the constraint, e.g. do not change the value \\\"New York\\\" to \\\"NewYork\\\" to satisfy the constraint not to contain whitespace.\"\n",
      "  },\n",
      "  {\n",
      "    \"role\": \"user\",\n",
      "    \"content\": \"We are generating filling values for the following input field:\\n    input: <input placeholder=\\\"Enter medication name to search\\\" type=\\\"text\\\" value=\\\"\\\"/>\\n    The constraints on this input field are:\\n    input field value should be invalid\"\n",
      "  }\n",
      "]\n",
      " \u001b[0m Response: ChatCompletion(id='chatcmpl-8TLBE6GR2HEoy0cJJ6bHXfr6Aq5x0', choices=[Choice(finish_reason='stop', index=0, message=ChatCompletionMessage(content='InvalidMedicationName', role='assistant', function_call=None, tool_calls=None))], created=1702003620, model='gpt-4-0613', object='chat.completion', system_fingerprint=None, usage=CompletionUsage(completion_tokens=4, prompt_tokens=209, total_tokens=213))\n",
      " \u001b[0m Total running cost: $0.033\n",
      "[\"Skip to main content  Home Conditions  Back Conditions View All ADD/ADHDAllergiesArthritisAtrial fibrillationBreast CancerCancerCrohn's DiseaseDepressionDiabetesDVTEczemaEye HealthHeart DiseaseHIV & AIDSLung DiseaseLupusMental HealthMultiple SclerosisMigrainePain ManagementPsoriasisPsoriatic ArthritisRheumatoid ArthritisSexual ConditionsSkin ProblemsSleep DisordersUlcerative Colitis View All Drugs & Supplements  Back Drugs & SupplementsDrugsSupplementsPill IdentifierInteraction CheckerWell-Being  Back Well-Being View All Aging WellBabyBirth ControlChildren's HealthDiet & Weight ManagementFitness & ExerciseFood & RecipesHealthy BeautyMen's HealthParentingPet HealthPregnancySex & RelationshipsTeen HealthWomen's Health View All Symptom CheckerFind a DoctorMore  Back MoreNewsBlogsPodcastsWebinarsNewslettersWebMD MagazineBest HospitalsSupport GroupsSurgeries and ProceduresOrthopedics Privacy & More  Subscribe  Log In  Search  Subscribe  MENU DRUGS AND MEDICATIONS CENTERFind a DrugMy MedicinePill IdentifierInteraction CheckerFind a VitaminFind a PharmacyVITAMINS & SUPPLEMENTS CENTERFind a Vitamin or SupplementVitamin Lifestyle GuideAssess Your Vitamin NeedsFIRST AID RESOURCESFirst Aid HomeFirst Aid Kit & Wound CareFirst Aid Mobile Drugs & Medications  Drugs & Medications A-Z Your trusted source of information for prescription drugs and medications Search Medications by Letter Search Medications by Condition  Search Medications by Condition  Find Off-Market Medications ABCDEFGHIJKLMNOPQRSTUVWXYZ 0-9 Pill Identifier Pill Identifier Drugs Interaction Checker Drugs Interaction Checker Find Vitamins Find Vitamins Find a Doctor Find a Doctor Top Searched Medicationsabilifyactosacycloviradderallallopurinolambienamitriptylineamoxicillinatenololativanazithromycinbaclofenbactrimbenadrylbenzonatatebupropionbuspironebystoliccelebrexcelexacialisciprocitalopramclindamycinclonazepamconcertacrestorcyclobenzaprinecymbaltadepakotedexilantdicyclominedilaudideffexoremgalityflagylgabapentinhydrochlorothi\\xadazidehydrocodone-acetaminophenhydroxyzineibuprofenkeppralevothyroxinelexaprolipitorlisinoprillorazepamlosartanlyricamacrobidmeloxicammethadonemethocarbamolmethylpredniso\\xadlonemetronidazolemorphinenabumetonenamendaneurontinnortriptylinephentermineplaquenilpradaxaprednisoneprilosecpromethazineprozactramadoltrazodonetrulicityvictozawellbutrin View More Latest Drug NewsPopular Weight Loss Drugs Raise Risk of More Stomach TroubleWebMD Health NewsNew Depression Drug Avoids Unfortunate Side Effects of OthersWebMD Health NewsFDA Adds Warning of Intestinal Blockages to Ozempic LabelWebMD Health News BriefPopular OTC Decongestants Don’t Really Work, FDA SaysWebMD Health News3D-Printed Meds Customize the Exact Dose for Sick ChildrenWebMD Health NewsDrugs Advertised on TV Aren't Better Than Existing Options: StudyWebMD Health News BriefView AllToday on WebMDMedications That Make You TiredCommon culprits and what you can do.Pharmacy and Medication TipsThings to remember when you fill your prescription.Recommended for YouIs Your Medication Causing Dry Eye?Erectile Dysfunction Meds: Make Them Work BetterWhat Medicines Can Make Your Blood Sugar Spike?Health Solutions from Our SponsorsPenis Curved When Erect? Could I have CAD? Treat Bent Fingers Treat HR+, HER2- MBC Tired of Dandruff? Benefits of CBD Rethink MS Treatment AFib-Related Strokes Risk of a Future DVT/PE Is My Penis Normal? Relapsing MS Options Liver Transplants Save Lives Finance Plastic Surgery Bent Finger Causes Living With Psoriasis? Missing Teeth? More from WebMD5 Tips to Help With Relapsing MS How to Thrive With Narcolepsy Relief for Blocked Hair Follicles Psoriatic Arthritis and Your Sleep What Psoriasis Feels Like First Psoriatic Arthritis Flare Talking to Your Doctor About RA Crohn's: A 'Full-Body' Disease Avoiding Crohn’s Flares Health Benefits of Hemp Seed Oil Live Better With Psoriatic Disease Types of B-Cell Therapy for MS 5 Health Benefits of Hemp Why Prostate Cancer Spreads Living with Advanced Breast Cancer Where Breast Cancer Spreads Sign up for our free WebMD Daily NewsletterGet doctor-approved health tips, news, and more. Subscribe Thanks for subscribing!By clicking Subscribe, I agree to the WebMD Terms & Conditions & Privacy Policy and understand that I may opt out of WebMD subscriptions at any time. Follow WebMD on Social MediaDownload WebMD AppPoliciesAboutOur AppsFor AdvertisersPrivacy PolicyCookie PolicyEditorial PolicyAdvertising PolicyCorrection PolicyTerms of Use © 2005 - 2023 WebMD LLC, an Internet Brands company. All rights reserved. WebMD does not provide medical advice, diagnosis or treatment. See additional information.\"]\n"
     ]
    },
    {
     "name": "stderr",
     "output_type": "stream",
     "text": [
      "/Users/parsaalian/Desktop/webform testing project/implementation/method/ours/history.py:83: FutureWarning: The frame.append method is deprecated and will be removed from pandas in a future version. Use pandas.concat instead.\n",
      "  self.table = self.table.append({\n"
     ]
    },
    {
     "name": "stdout",
     "output_type": "stream",
     "text": [
      " \u001b[0m Prompt: [\n",
      "  {\n",
      "    \"role\": \"system\",\n",
      "    \"content\": \"Your task is to generate a value for a web form field based on the form field information and a set of constraints on the field.\\nYour decisions must be made independently without seeking user assistance or additional information.\\nFor each user prompt, you need to generate one value that satisfies the constraints while keeping in mind the nature of the input from the available information.\\nOnly generate value and refrain from explaining your answers.\\nOnly generate value for the input field in question, and not the ones in the relevant information section.\\nWhen generating values, generate the ones that actually conform to the constraints, and refrain from altering real-world values to fit the constraint, e.g. do not change the value \\\"New York\\\" to \\\"NewYork\\\" to satisfy the constraint not to contain whitespace.\"\n",
      "  },\n",
      "  {\n",
      "    \"role\": \"user\",\n",
      "    \"content\": \"We are generating filling values for the following input field:\\n    input: <input placeholder=\\\"Enter medication name to search\\\" type=\\\"text\\\" value=\\\"\\\"/>\\n    The constraints on this input field are:\\n    input field should be empty\"\n",
      "  }\n",
      "]\n",
      " \u001b[0m Response: ChatCompletion(id='chatcmpl-8TLBInTNiX1sb9m75A1Mf50xSu22E', choices=[Choice(finish_reason='stop', index=0, message=ChatCompletionMessage(content='', role='assistant', function_call=None, tool_calls=None))], created=1702003624, model='gpt-4-0613', object='chat.completion', system_fingerprint=None, usage=CompletionUsage(completion_tokens=0, prompt_tokens=208, total_tokens=208))\n",
      " \u001b[0m Total running cost: $0.039\n",
      "[\"Skip to main content  Home Conditions  Back Conditions View All ADD/ADHDAllergiesArthritisAtrial fibrillationBreast CancerCancerCrohn's DiseaseDepressionDiabetesDVTEczemaEye HealthHeart DiseaseHIV & AIDSLung DiseaseLupusMental HealthMultiple SclerosisMigrainePain ManagementPsoriasisPsoriatic ArthritisRheumatoid ArthritisSexual ConditionsSkin ProblemsSleep DisordersUlcerative Colitis View All Drugs & Supplements  Back Drugs & SupplementsDrugsSupplementsPill IdentifierInteraction CheckerWell-Being  Back Well-Being View All Aging WellBabyBirth ControlChildren's HealthDiet & Weight ManagementFitness & ExerciseFood & RecipesHealthy BeautyMen's HealthParentingPet HealthPregnancySex & RelationshipsTeen HealthWomen's Health View All Symptom CheckerFind a DoctorMore  Back MoreNewsBlogsPodcastsWebinarsNewslettersWebMD MagazineBest HospitalsSupport GroupsSurgeries and ProceduresOrthopedics Privacy & More  Subscribe  Log In  Search  Subscribe  MENU DRUGS AND MEDICATIONS CENTERFind a DrugMy MedicinePill IdentifierInteraction CheckerFind a VitaminFind a PharmacyVITAMINS & SUPPLEMENTS CENTERFind a Vitamin or SupplementVitamin Lifestyle GuideAssess Your Vitamin NeedsFIRST AID RESOURCESFirst Aid HomeFirst Aid Kit & Wound CareFirst Aid Mobile Drugs & Medications  Drugs & Medications A-Z Your trusted source of information for prescription drugs and medications Search Medications by Letter Search Medications by Condition  Search Medications by Condition  Find Off-Market Medications ABCDEFGHIJKLMNOPQRSTUVWXYZ 0-9 Pill Identifier Pill Identifier Drugs Interaction Checker Drugs Interaction Checker Find Vitamins Find Vitamins Find a Doctor Find a Doctor Top Searched Medicationsabilifyactosacycloviradderallallopurinolambienamitriptylineamoxicillinatenololativanazithromycinbaclofenbactrimbenadrylbenzonatatebupropionbuspironebystoliccelebrexcelexacialisciprocitalopramclindamycinclonazepamconcertacrestorcyclobenzaprinecymbaltadepakotedexilantdicyclominedilaudideffexoremgalityflagylgabapentinhydrochlorothi\\xadazidehydrocodone-acetaminophenhydroxyzineibuprofenkeppralevothyroxinelexaprolipitorlisinoprillorazepamlosartanlyricamacrobidmeloxicammethadonemethocarbamolmethylpredniso\\xadlonemetronidazolemorphinenabumetonenamendaneurontinnortriptylinephentermineplaquenilpradaxaprednisoneprilosecpromethazineprozactramadoltrazodonetrulicityvictozawellbutrin View More Latest Drug NewsPopular Weight Loss Drugs Raise Risk of More Stomach TroubleWebMD Health NewsNew Depression Drug Avoids Unfortunate Side Effects of OthersWebMD Health NewsFDA Adds Warning of Intestinal Blockages to Ozempic LabelWebMD Health News BriefPopular OTC Decongestants Don’t Really Work, FDA SaysWebMD Health News3D-Printed Meds Customize the Exact Dose for Sick ChildrenWebMD Health NewsDrugs Advertised on TV Aren't Better Than Existing Options: StudyWebMD Health News BriefView AllToday on WebMDMedications That Make You TiredCommon culprits and what you can do.Pharmacy and Medication TipsThings to remember when you fill your prescription.Recommended for YouIs Your Medication Causing Dry Eye?Erectile Dysfunction Meds: Make Them Work BetterWhat Medicines Can Make Your Blood Sugar Spike?Health Solutions from Our SponsorsPenis Curved When Erect? Could I have CAD? Treat Bent Fingers Treat HR+, HER2- MBC Tired of Dandruff? Benefits of CBD Rethink MS Treatment AFib-Related Strokes Risk of a Future DVT/PE Is My Penis Normal? Relapsing MS Options Liver Transplants Save Lives Finance Plastic Surgery Bent Finger Causes Living With Psoriasis? Missing Teeth? More from WebMD5 Tips to Help With Relapsing MS How to Thrive With Narcolepsy Relief for Blocked Hair Follicles Psoriatic Arthritis and Your Sleep What Psoriasis Feels Like First Psoriatic Arthritis Flare Talking to Your Doctor About RA Crohn's: A 'Full-Body' Disease Avoiding Crohn’s Flares Health Benefits of Hemp Seed Oil Live Better With Psoriatic Disease Types of B-Cell Therapy for MS 5 Health Benefits of Hemp Why Prostate Cancer Spreads Living with Advanced Breast Cancer Where Breast Cancer Spreads Sign up for our free WebMD Daily NewsletterGet doctor-approved health tips, news, and more. Subscribe Thanks for subscribing!By clicking Subscribe, I agree to the WebMD Terms & Conditions & Privacy Policy and understand that I may opt out of WebMD subscriptions at any time. Follow WebMD on Social MediaDownload WebMD AppPoliciesAboutOur AppsFor AdvertisersPrivacy PolicyCookie PolicyEditorial PolicyAdvertising PolicyCorrection PolicyTerms of Use © 2005 - 2023 WebMD LLC, an Internet Brands company. All rights reserved. WebMD does not provide medical advice, diagnosis or treatment. See additional information.\"]\n"
     ]
    },
    {
     "name": "stderr",
     "output_type": "stream",
     "text": [
      "/Users/parsaalian/Desktop/webform testing project/implementation/method/ours/history.py:83: FutureWarning: The frame.append method is deprecated and will be removed from pandas in a future version. Use pandas.concat instead.\n",
      "  self.table = self.table.append({\n"
     ]
    },
    {
     "name": "stdout",
     "output_type": "stream",
     "text": [
      " \u001b[0m Prompt: [\n",
      "  {\n",
      "    \"role\": \"system\",\n",
      "    \"content\": \"Your task is to generate a value for a web form field based on the form field information and a set of constraints on the field.\\nYour decisions must be made independently without seeking user assistance or additional information.\\nFor each user prompt, you need to generate one value that satisfies the constraints while keeping in mind the nature of the input from the available information.\\nOnly generate value and refrain from explaining your answers.\\nOnly generate value for the input field in question, and not the ones in the relevant information section.\\nWhen generating values, generate the ones that actually conform to the constraints, and refrain from altering real-world values to fit the constraint, e.g. do not change the value \\\"New York\\\" to \\\"NewYork\\\" to satisfy the constraint not to contain whitespace.\"\n",
      "  },\n",
      "  {\n",
      "    \"role\": \"user\",\n",
      "    \"content\": \"We are generating filling values for the following input field:\\n    input: <input placeholder=\\\"Enter medication name to search\\\" type=\\\"text\\\" value=\\\"\\\"/>\\n    The constraints on this input field are:\\n    input field's length should be less than or equal to 1 characters\"\n",
      "  }\n",
      "]\n",
      " \u001b[0m Response: ChatCompletion(id='chatcmpl-8TLBOxULOa1TSuobDoAlyiBY3gBaq', choices=[Choice(finish_reason='stop', index=0, message=ChatCompletionMessage(content='A', role='assistant', function_call=None, tool_calls=None))], created=1702003630, model='gpt-4-0613', object='chat.completion', system_fingerprint=None, usage=CompletionUsage(completion_tokens=1, prompt_tokens=217, total_tokens=218))\n",
      " \u001b[0m Total running cost: $0.046\n",
      "[\"Skip to main content  Home Conditions  Back Conditions View All ADD/ADHDAllergiesArthritisAtrial fibrillationBreast CancerCancerCrohn's DiseaseDepressionDiabetesDVTEczemaEye HealthHeart DiseaseHIV & AIDSLung DiseaseLupusMental HealthMultiple SclerosisMigrainePain ManagementPsoriasisPsoriatic ArthritisRheumatoid ArthritisSexual ConditionsSkin ProblemsSleep DisordersUlcerative Colitis View All Drugs & Supplements  Back Drugs & SupplementsDrugsSupplementsPill IdentifierInteraction CheckerWell-Being  Back Well-Being View All Aging WellBabyBirth ControlChildren's HealthDiet & Weight ManagementFitness & ExerciseFood & RecipesHealthy BeautyMen's HealthParentingPet HealthPregnancySex & RelationshipsTeen HealthWomen's Health View All Symptom CheckerFind a DoctorMore  Back MoreNewsBlogsPodcastsWebinarsNewslettersWebMD MagazineBest HospitalsSupport GroupsSurgeries and ProceduresOrthopedics Privacy & More  Subscribe  Log In  Search  Subscribe  MENU DRUGS AND MEDICATIONS CENTERFind a DrugMy MedicinePill IdentifierInteraction CheckerFind a VitaminFind a PharmacyVITAMINS & SUPPLEMENTS CENTERFind a Vitamin or SupplementVitamin Lifestyle GuideAssess Your Vitamin NeedsFIRST AID RESOURCESFirst Aid HomeFirst Aid Kit & Wound CareFirst Aid Mobile Drugs & Medications  Drugs & Medications A-Z Your trusted source of information for prescription drugs and medications Search Medications by Letter Search Medications by Condition  Search Medications by Condition  Find Off-Market Medications ABCDEFGHIJKLMNOPQRSTUVWXYZ 0-9 Pill Identifier Pill Identifier Drugs Interaction Checker Drugs Interaction Checker Find Vitamins Find Vitamins Find a Doctor Find a Doctor Top Searched Medicationsabilifyactosacycloviradderallallopurinolambienamitriptylineamoxicillinatenololativanazithromycinbaclofenbactrimbenadrylbenzonatatebupropionbuspironebystoliccelebrexcelexacialisciprocitalopramclindamycinclonazepamconcertacrestorcyclobenzaprinecymbaltadepakotedexilantdicyclominedilaudideffexoremgalityflagylgabapentinhydrochlorothi\\xadazidehydrocodone-acetaminophenhydroxyzineibuprofenkeppralevothyroxinelexaprolipitorlisinoprillorazepamlosartanlyricamacrobidmeloxicammethadonemethocarbamolmethylpredniso\\xadlonemetronidazolemorphinenabumetonenamendaneurontinnortriptylinephentermineplaquenilpradaxaprednisoneprilosecpromethazineprozactramadoltrazodonetrulicityvictozawellbutrin View More Latest Drug NewsPopular Weight Loss Drugs Raise Risk of More Stomach TroubleWebMD Health NewsNew Depression Drug Avoids Unfortunate Side Effects of OthersWebMD Health NewsFDA Adds Warning of Intestinal Blockages to Ozempic LabelWebMD Health News BriefPopular OTC Decongestants Don’t Really Work, FDA SaysWebMD Health News3D-Printed Meds Customize the Exact Dose for Sick ChildrenWebMD Health NewsDrugs Advertised on TV Aren't Better Than Existing Options: StudyWebMD Health News BriefView AllToday on WebMDMedications That Make You TiredCommon culprits and what you can do.Pharmacy and Medication TipsThings to remember when you fill your prescription.Recommended for YouIs Your Medication Causing Dry Eye?Erectile Dysfunction Meds: Make Them Work BetterWhat Medicines Can Make Your Blood Sugar Spike?Health Solutions from Our SponsorsPenis Curved When Erect? Could I have CAD? Treat Bent Fingers Treat HR+, HER2- MBC Tired of Dandruff? Benefits of CBD Rethink MS Treatment AFib-Related Strokes Risk of a Future DVT/PE Is My Penis Normal? Relapsing MS Options Liver Transplants Save Lives Finance Plastic Surgery Bent Finger Causes Living With Psoriasis? Missing Teeth? More from WebMD5 Tips to Help With Relapsing MS How to Thrive With Narcolepsy Relief for Blocked Hair Follicles Psoriatic Arthritis and Your Sleep What Psoriasis Feels Like First Psoriatic Arthritis Flare Talking to Your Doctor About RA Crohn's: A 'Full-Body' Disease Avoiding Crohn’s Flares Health Benefits of Hemp Seed Oil Live Better With Psoriatic Disease Types of B-Cell Therapy for MS 5 Health Benefits of Hemp Why Prostate Cancer Spreads Living with Advanced Breast Cancer Where Breast Cancer Spreads Sign up for our free WebMD Daily NewsletterGet doctor-approved health tips, news, and more. Subscribe Thanks for subscribing!By clicking Subscribe, I agree to the WebMD Terms & Conditions & Privacy Policy and understand that I may opt out of WebMD subscriptions at any time. Follow WebMD on Social MediaDownload WebMD AppPoliciesAboutOur AppsFor AdvertisersPrivacy PolicyCookie PolicyEditorial PolicyAdvertising PolicyCorrection PolicyTerms of Use © 2005 - 2023 WebMD LLC, an Internet Brands company. All rights reserved. WebMD does not provide medical advice, diagnosis or treatment. See additional information.\"]\n"
     ]
    },
    {
     "name": "stderr",
     "output_type": "stream",
     "text": [
      "/Users/parsaalian/Desktop/webform testing project/implementation/method/ours/history.py:83: FutureWarning: The frame.append method is deprecated and will be removed from pandas in a future version. Use pandas.concat instead.\n",
      "  self.table = self.table.append({\n"
     ]
    },
    {
     "name": "stdout",
     "output_type": "stream",
     "text": [
      " \u001b[0m Prompt: [\n",
      "  {\n",
      "    \"role\": \"system\",\n",
      "    \"content\": \"Your task is to generate a value for a web form field based on the form field information and a set of constraints on the field.\\nYour decisions must be made independently without seeking user assistance or additional information.\\nFor each user prompt, you need to generate one value that satisfies the constraints while keeping in mind the nature of the input from the available information.\\nOnly generate value and refrain from explaining your answers.\\nOnly generate value for the input field in question, and not the ones in the relevant information section.\\nWhen generating values, generate the ones that actually conform to the constraints, and refrain from altering real-world values to fit the constraint, e.g. do not change the value \\\"New York\\\" to \\\"NewYork\\\" to satisfy the constraint not to contain whitespace.\"\n",
      "  },\n",
      "  {\n",
      "    \"role\": \"user\",\n",
      "    \"content\": \"We are generating filling values for the following input field:\\n    input: <input placeholder=\\\"Enter medication name to search\\\" type=\\\"text\\\" value=\\\"\\\"/>\\n    The constraints on this input field are:\\n    input field's length should be greater than or equal to 100 characters\"\n",
      "  }\n",
      "]\n",
      " \u001b[0m Response: ChatCompletion(id='chatcmpl-8TLBd6GBoIqBTY1rLaayCqPdurz0A', choices=[Choice(finish_reason='stop', index=0, message=ChatCompletionMessage(content='Amoxicillin, Clavulanate, Azithromycin, Ciprofloxacin, Doxycycline, Erythromycin, Levofloxacin, Metronidazole, Nitrofurantoin, Trimethoprim', role='assistant', function_call=None, tool_calls=None))], created=1702003645, model='gpt-4-0613', object='chat.completion', system_fingerprint=None, usage=CompletionUsage(completion_tokens=52, prompt_tokens=217, total_tokens=269))\n",
      " \u001b[0m Total running cost: $0.055\n",
      "[\"Skip to main content  Home Conditions  Back Conditions View All ADD/ADHDAllergiesArthritisAtrial fibrillationBreast CancerCancerCrohn's DiseaseDepressionDiabetesDVTEczemaEye HealthHeart DiseaseHIV & AIDSLung DiseaseLupusMental HealthMultiple SclerosisMigrainePain ManagementPsoriasisPsoriatic ArthritisRheumatoid ArthritisSexual ConditionsSkin ProblemsSleep DisordersUlcerative Colitis View All Drugs & Supplements  Back Drugs & SupplementsDrugsSupplementsPill IdentifierInteraction CheckerWell-Being  Back Well-Being View All Aging WellBabyBirth ControlChildren's HealthDiet & Weight ManagementFitness & ExerciseFood & RecipesHealthy BeautyMen's HealthParentingPet HealthPregnancySex & RelationshipsTeen HealthWomen's Health View All Symptom CheckerFind a DoctorMore  Back MoreNewsBlogsPodcastsWebinarsNewslettersWebMD MagazineBest HospitalsSupport GroupsSurgeries and ProceduresOrthopedics Privacy & More  Subscribe  Log In  Search  Subscribe  MENU DRUGS AND MEDICATIONS CENTERFind a DrugMy MedicinePill IdentifierInteraction CheckerFind a VitaminFind a PharmacyVITAMINS & SUPPLEMENTS CENTERFind a Vitamin or SupplementVitamin Lifestyle GuideAssess Your Vitamin NeedsFIRST AID RESOURCESFirst Aid HomeFirst Aid Kit & Wound CareFirst Aid Mobile Drugs & Medications  Drugs & Medications A-Z Your trusted source of information for prescription drugs and medications Search Medications by Letter Search Medications by Condition  Search Medications by Condition ABCDEFGHIJKLMNOPQRSTUVWXYZ 0-9  We couldn't find a match for 'a'. Please try another search. Today on WebMDMedications That Make You TiredCommon culprits and what you can do.Pharmacy and Medication TipsThings to remember when you fill your prescription.Medication Side EffectsTips for dealing with them.Reading Medicine LabelsHow to make sense of them.Recommended for YouIs Your Medication Causing Dry Eye?Erectile Dysfunction Meds: Make Them Work BetterWhat Medicines Can Make Your Blood Sugar Spike?Health Solutions from Our SponsorsPenis Curved When Erect? Could I have CAD? Treat Bent Fingers Treat HR+, HER2- MBC Tired of Dandruff? Benefits of CBD Rethink MS Treatment AFib-Related Strokes Risk of a Future DVT/PE Is My Penis Normal? Relapsing MS Options Liver Transplants Save Lives Finance Plastic Surgery Bent Finger Causes Living With Psoriasis? Missing Teeth? More from WebMD5 Tips to Help With Relapsing MS How to Thrive With Narcolepsy Relief for Blocked Hair Follicles Psoriatic Arthritis and Your Sleep What Psoriasis Feels Like First Psoriatic Arthritis Flare Talking to Your Doctor About RA Crohn's: A 'Full-Body' Disease Avoiding Crohn’s Flares Health Benefits of Hemp Seed Oil Live Better With Psoriatic Disease Types of B-Cell Therapy for MS 5 Health Benefits of Hemp Why Prostate Cancer Spreads Living with Advanced Breast Cancer Where Breast Cancer Spreads PoliciesPrivacy PolicyCookie PolicyEditorial PolicyAdvertising PolicyCorrection PolicyTerms of UseAboutContact UsAbout WebMDCareersNewsletterCorporateWebMD Health ServicesSite MapAccessibilityOur AppsWebMD MobileWebMD AppPregnancyBabyAllergyFor AdvertisersAdvertise with UsAdvertising Policy © 2005 - 2023 WebMD LLC, an Internet Brands company. All rights reserved. WebMD does not provide medical advice, diagnosis or treatment. See additional information.\"]\n"
     ]
    },
    {
     "name": "stderr",
     "output_type": "stream",
     "text": [
      "/Users/parsaalian/Desktop/webform testing project/implementation/method/ours/history.py:83: FutureWarning: The frame.append method is deprecated and will be removed from pandas in a future version. Use pandas.concat instead.\n",
      "  self.table = self.table.append({\n"
     ]
    },
    {
     "name": "stdout",
     "output_type": "stream",
     "text": [
      " \u001b[0m Prompt: [\n",
      "  {\n",
      "    \"role\": \"system\",\n",
      "    \"content\": \"Your task is to generate a value for a web form field based on the form field information and a set of constraints on the field.\\nYour decisions must be made independently without seeking user assistance or additional information.\\nFor each user prompt, you need to generate one value that satisfies the constraints while keeping in mind the nature of the input from the available information.\\nOnly generate value and refrain from explaining your answers.\\nOnly generate value for the input field in question, and not the ones in the relevant information section.\\nWhen generating values, generate the ones that actually conform to the constraints, and refrain from altering real-world values to fit the constraint, e.g. do not change the value \\\"New York\\\" to \\\"NewYork\\\" to satisfy the constraint not to contain whitespace.\"\n",
      "  },\n",
      "  {\n",
      "    \"role\": \"user\",\n",
      "    \"content\": \"We are generating filling values for the following input field:\\n    input: <input placeholder=\\\"Enter medication name to search\\\" type=\\\"text\\\" value=\\\"\\\"/>\\n    The constraints on this input field are:\\n    input field should be numerical\"\n",
      "  }\n",
      "]\n",
      " \u001b[0m Response: ChatCompletion(id='chatcmpl-8TLBk11cyehVScp4hu4sZflxfvvai', choices=[Choice(finish_reason='stop', index=0, message=ChatCompletionMessage(content='123456', role='assistant', function_call=None, tool_calls=None))], created=1702003652, model='gpt-4-0613', object='chat.completion', system_fingerprint=None, usage=CompletionUsage(completion_tokens=2, prompt_tokens=208, total_tokens=210))\n",
      " \u001b[0m Total running cost: $0.062\n",
      "[\"Skip to main content  Home Conditions  Back Conditions View All ADD/ADHDAllergiesArthritisAtrial fibrillationBreast CancerCancerCrohn's DiseaseDepressionDiabetesDVTEczemaEye HealthHeart DiseaseHIV & AIDSLung DiseaseLupusMental HealthMultiple SclerosisMigrainePain ManagementPsoriasisPsoriatic ArthritisRheumatoid ArthritisSexual ConditionsSkin ProblemsSleep DisordersUlcerative Colitis View All Drugs & Supplements  Back Drugs & SupplementsDrugsSupplementsPill IdentifierInteraction CheckerWell-Being  Back Well-Being View All Aging WellBabyBirth ControlChildren's HealthDiet & Weight ManagementFitness & ExerciseFood & RecipesHealthy BeautyMen's HealthParentingPet HealthPregnancySex & RelationshipsTeen HealthWomen's Health View All Symptom CheckerFind a DoctorMore  Back MoreNewsBlogsPodcastsWebinarsNewslettersWebMD MagazineBest HospitalsSupport GroupsSurgeries and ProceduresOrthopedics Privacy & More  Subscribe  Log In  Search  Subscribe  MENU DRUGS AND MEDICATIONS CENTERFind a DrugMy MedicinePill IdentifierInteraction CheckerFind a VitaminFind a PharmacyVITAMINS & SUPPLEMENTS CENTERFind a Vitamin or SupplementVitamin Lifestyle GuideAssess Your Vitamin NeedsFIRST AID RESOURCESFirst Aid HomeFirst Aid Kit & Wound CareFirst Aid Mobile Drugs & Medications  Drugs & Medications A-Z Your trusted source of information for prescription drugs and medications Search Medications by Letter Search Medications by Condition  Search Medications by Condition  Find Off-Market Medications ABCDEFGHIJKLMNOPQRSTUVWXYZ 0-9 Pill Identifier Pill Identifier Drugs Interaction Checker Drugs Interaction Checker Find Vitamins Find Vitamins Find a Doctor Find a Doctor Top Searched Medicationsabilifyactosacycloviradderallallopurinolambienamitriptylineamoxicillinatenololativanazithromycinbaclofenbactrimbenadrylbenzonatatebupropionbuspironebystoliccelebrexcelexacialisciprocitalopramclindamycinclonazepamconcertacrestorcyclobenzaprinecymbaltadepakotedexilantdicyclominedilaudideffexoremgalityflagylgabapentinhydrochlorothi\\xadazidehydrocodone-acetaminophenhydroxyzineibuprofenkeppralevothyroxinelexaprolipitorlisinoprillorazepamlosartanlyricamacrobidmeloxicammethadonemethocarbamolmethylpredniso\\xadlonemetronidazolemorphinenabumetonenamendaneurontinnortriptylinephentermineplaquenilpradaxaprednisoneprilosecpromethazineprozactramadoltrazodonetrulicityvictozawellbutrin View More Latest Drug NewsPopular Weight Loss Drugs Raise Risk of More Stomach TroubleWebMD Health NewsNew Depression Drug Avoids Unfortunate Side Effects of OthersWebMD Health NewsFDA Adds Warning of Intestinal Blockages to Ozempic LabelWebMD Health News BriefPopular OTC Decongestants Don’t Really Work, FDA SaysWebMD Health News3D-Printed Meds Customize the Exact Dose for Sick ChildrenWebMD Health NewsDrugs Advertised on TV Aren't Better Than Existing Options: StudyWebMD Health News BriefView AllToday on WebMDMedications That Make You TiredCommon culprits and what you can do.Pharmacy and Medication TipsThings to remember when you fill your prescription.Recommended for YouIs Your Medication Causing Dry Eye?Erectile Dysfunction Meds: Make Them Work BetterWhat Medicines Can Make Your Blood Sugar Spike?Health Solutions from Our SponsorsPenis Curved When Erect? Could I have CAD? Treat Bent Fingers Treat HR+, HER2- MBC Tired of Dandruff? Benefits of CBD Rethink MS Treatment AFib-Related Strokes Risk of a Future DVT/PE Is My Penis Normal? Relapsing MS Options Liver Transplants Save Lives Finance Plastic Surgery Bent Finger Causes Living With Psoriasis? Missing Teeth? More from WebMD5 Tips to Help With Relapsing MS How to Thrive With Narcolepsy Relief for Blocked Hair Follicles Psoriatic Arthritis and Your Sleep What Psoriasis Feels Like First Psoriatic Arthritis Flare Talking to Your Doctor About RA Crohn's: A 'Full-Body' Disease Avoiding Crohn’s Flares Health Benefits of Hemp Seed Oil Live Better With Psoriatic Disease Types of B-Cell Therapy for MS 5 Health Benefits of Hemp Why Prostate Cancer Spreads Living with Advanced Breast Cancer Where Breast Cancer Spreads Sign up for our free WebMD Daily NewsletterGet doctor-approved health tips, news, and more. Subscribe Thanks for subscribing!By clicking Subscribe, I agree to the WebMD Terms & Conditions & Privacy Policy and understand that I may opt out of WebMD subscriptions at any time. Follow WebMD on Social MediaDownload WebMD AppPoliciesAboutOur AppsFor AdvertisersPrivacy PolicyCookie PolicyEditorial PolicyAdvertising PolicyCorrection PolicyTerms of Use © 2005 - 2023 WebMD LLC, an Internet Brands company. All rights reserved. WebMD does not provide medical advice, diagnosis or treatment. See additional information.\"]\n"
     ]
    },
    {
     "name": "stderr",
     "output_type": "stream",
     "text": [
      "/Users/parsaalian/Desktop/webform testing project/implementation/method/ours/history.py:83: FutureWarning: The frame.append method is deprecated and will be removed from pandas in a future version. Use pandas.concat instead.\n",
      "  self.table = self.table.append({\n"
     ]
    },
    {
     "name": "stdout",
     "output_type": "stream",
     "text": [
      " \u001b[0m Prompt: [\n",
      "  {\n",
      "    \"role\": \"system\",\n",
      "    \"content\": \"Your task is to generate a value for a web form field based on the form field information and a set of constraints on the field.\\nYour decisions must be made independently without seeking user assistance or additional information.\\nFor each user prompt, you need to generate one value that satisfies the constraints while keeping in mind the nature of the input from the available information.\\nOnly generate value and refrain from explaining your answers.\\nOnly generate value for the input field in question, and not the ones in the relevant information section.\\nWhen generating values, generate the ones that actually conform to the constraints, and refrain from altering real-world values to fit the constraint, e.g. do not change the value \\\"New York\\\" to \\\"NewYork\\\" to satisfy the constraint not to contain whitespace.\"\n",
      "  },\n",
      "  {\n",
      "    \"role\": \"user\",\n",
      "    \"content\": \"We are generating filling values for the following input field:\\n    input: <input placeholder=\\\"Enter medication name to search\\\" type=\\\"text\\\" value=\\\"\\\"/>\\n    The constraints on this input field are:\\n    input field should have special characters\"\n",
      "  }\n",
      "]\n",
      " \u001b[0m Response: ChatCompletion(id='chatcmpl-8TLBosct9Z4ubu53JWuFftkrWTpKx', choices=[Choice(finish_reason='stop', index=0, message=ChatCompletionMessage(content='Aspirin@500mg', role='assistant', function_call=None, tool_calls=None))], created=1702003656, model='gpt-4-0613', object='chat.completion', system_fingerprint=None, usage=CompletionUsage(completion_tokens=6, prompt_tokens=209, total_tokens=215))\n",
      " \u001b[0m Total running cost: $0.068\n",
      "[\"Skip to main content  Home Conditions  Back Conditions View All ADD/ADHDAllergiesArthritisAtrial fibrillationBreast CancerCancerCrohn's DiseaseDepressionDiabetesDVTEczemaEye HealthHeart DiseaseHIV & AIDSLung DiseaseLupusMental HealthMultiple SclerosisMigrainePain ManagementPsoriasisPsoriatic ArthritisRheumatoid ArthritisSexual ConditionsSkin ProblemsSleep DisordersUlcerative Colitis View All Drugs & Supplements  Back Drugs & SupplementsDrugsSupplementsPill IdentifierInteraction CheckerWell-Being  Back Well-Being View All Aging WellBabyBirth ControlChildren's HealthDiet & Weight ManagementFitness & ExerciseFood & RecipesHealthy BeautyMen's HealthParentingPet HealthPregnancySex & RelationshipsTeen HealthWomen's Health View All Symptom CheckerFind a DoctorMore  Back MoreNewsBlogsPodcastsWebinarsNewslettersWebMD MagazineBest HospitalsSupport GroupsSurgeries and ProceduresOrthopedics Privacy & More  Subscribe  Log In  Search  Subscribe  MENU DRUGS AND MEDICATIONS CENTERFind a DrugMy MedicinePill IdentifierInteraction CheckerFind a VitaminFind a PharmacyVITAMINS & SUPPLEMENTS CENTERFind a Vitamin or SupplementVitamin Lifestyle GuideAssess Your Vitamin NeedsFIRST AID RESOURCESFirst Aid HomeFirst Aid Kit & Wound CareFirst Aid Mobile Drugs & Medications  Drugs & Medications A-Z Your trusted source of information for prescription drugs and medications Search Medications by Letter Search Medications by Condition  Search Medications by Condition  Find Off-Market Medications ABCDEFGHIJKLMNOPQRSTUVWXYZ 0-9 Pill Identifier Pill Identifier Drugs Interaction Checker Drugs Interaction Checker Find Vitamins Find Vitamins Find a Doctor Find a Doctor Top Searched Medicationsabilifyactosacycloviradderallallopurinolambienamitriptylineamoxicillinatenololativanazithromycinbaclofenbactrimbenadrylbenzonatatebupropionbuspironebystoliccelebrexcelexacialisciprocitalopramclindamycinclonazepamconcertacrestorcyclobenzaprinecymbaltadepakotedexilantdicyclominedilaudideffexoremgalityflagylgabapentinhydrochlorothi\\xadazidehydrocodone-acetaminophenhydroxyzineibuprofenkeppralevothyroxinelexaprolipitorlisinoprillorazepamlosartanlyricamacrobidmeloxicammethadonemethocarbamolmethylpredniso\\xadlonemetronidazolemorphinenabumetonenamendaneurontinnortriptylinephentermineplaquenilpradaxaprednisoneprilosecpromethazineprozactramadoltrazodonetrulicityvictozawellbutrin View More Latest Drug NewsPopular Weight Loss Drugs Raise Risk of More Stomach TroubleWebMD Health NewsNew Depression Drug Avoids Unfortunate Side Effects of OthersWebMD Health NewsFDA Adds Warning of Intestinal Blockages to Ozempic LabelWebMD Health News BriefPopular OTC Decongestants Don’t Really Work, FDA SaysWebMD Health News3D-Printed Meds Customize the Exact Dose for Sick ChildrenWebMD Health NewsDrugs Advertised on TV Aren't Better Than Existing Options: StudyWebMD Health News BriefView AllToday on WebMDMedications That Make You TiredCommon culprits and what you can do.Pharmacy and Medication TipsThings to remember when you fill your prescription.Recommended for YouIs Your Medication Causing Dry Eye?Erectile Dysfunction Meds: Make Them Work BetterWhat Medicines Can Make Your Blood Sugar Spike?Health Solutions from Our SponsorsPenis Curved When Erect? Could I have CAD? Treat Bent Fingers Treat HR+, HER2- MBC Tired of Dandruff? Benefits of CBD Rethink MS Treatment AFib-Related Strokes Risk of a Future DVT/PE Is My Penis Normal? Relapsing MS Options Liver Transplants Save Lives Finance Plastic Surgery Bent Finger Causes Living With Psoriasis? Missing Teeth? More from WebMD5 Tips to Help With Relapsing MS How to Thrive With Narcolepsy Relief for Blocked Hair Follicles Psoriatic Arthritis and Your Sleep What Psoriasis Feels Like First Psoriatic Arthritis Flare Talking to Your Doctor About RA Crohn's: A 'Full-Body' Disease Avoiding Crohn’s Flares Health Benefits of Hemp Seed Oil Live Better With Psoriatic Disease Types of B-Cell Therapy for MS 5 Health Benefits of Hemp Why Prostate Cancer Spreads Living with Advanced Breast Cancer Where Breast Cancer Spreads Sign up for our free WebMD Daily NewsletterGet doctor-approved health tips, news, and more. Subscribe Thanks for subscribing!By clicking Subscribe, I agree to the WebMD Terms & Conditions & Privacy Policy and understand that I may opt out of WebMD subscriptions at any time. Follow WebMD on Social MediaDownload WebMD AppPoliciesAboutOur AppsFor AdvertisersPrivacy PolicyCookie PolicyEditorial PolicyAdvertising PolicyCorrection PolicyTerms of Use © 2005 - 2023 WebMD LLC, an Internet Brands company. All rights reserved. WebMD does not provide medical advice, diagnosis or treatment. See additional information.\"]\n"
     ]
    },
    {
     "name": "stderr",
     "output_type": "stream",
     "text": [
      "/Users/parsaalian/Desktop/webform testing project/implementation/method/ours/history.py:83: FutureWarning: The frame.append method is deprecated and will be removed from pandas in a future version. Use pandas.concat instead.\n",
      "  self.table = self.table.append({\n"
     ]
    },
    {
     "name": "stdout",
     "output_type": "stream",
     "text": [
      " \u001b[0m Prompt: [\n",
      "  {\n",
      "    \"role\": \"system\",\n",
      "    \"content\": \"Your task is to generate a value for a web form field based on the form field information and a set of constraints on the field.\\nYour decisions must be made independently without seeking user assistance or additional information.\\nFor each user prompt, you need to generate one value that satisfies the constraints while keeping in mind the nature of the input from the available information.\\nOnly generate value and refrain from explaining your answers.\\nOnly generate value for the input field in question, and not the ones in the relevant information section.\\nWhen generating values, generate the ones that actually conform to the constraints, and refrain from altering real-world values to fit the constraint, e.g. do not change the value \\\"New York\\\" to \\\"NewYork\\\" to satisfy the constraint not to contain whitespace.\"\n",
      "  },\n",
      "  {\n",
      "    \"role\": \"user\",\n",
      "    \"content\": \"We are generating filling values for the following input field:\\n    input: <input placeholder=\\\"Enter medication name to search\\\" type=\\\"text\\\" value=\\\"\\\"/>\\n    The constraints on this input field are:\\n    input field should have whitespace characters\"\n",
      "  }\n",
      "]\n",
      " \u001b[0m Response: ChatCompletion(id='chatcmpl-8TLBsMijo4KZHyPHIawZjNIyG7gVX', choices=[Choice(finish_reason='stop', index=0, message=ChatCompletionMessage(content='Aspirin 75mg', role='assistant', function_call=None, tool_calls=None))], created=1702003660, model='gpt-4-0613', object='chat.completion', system_fingerprint=None, usage=CompletionUsage(completion_tokens=6, prompt_tokens=209, total_tokens=215))\n",
      " \u001b[0m Total running cost: $0.075\n",
      "[\"Skip to main content  Home Conditions  Back Conditions View All ADD/ADHDAllergiesArthritisAtrial fibrillationBreast CancerCancerCrohn's DiseaseDepressionDiabetesDVTEczemaEye HealthHeart DiseaseHIV & AIDSLung DiseaseLupusMental HealthMultiple SclerosisMigrainePain ManagementPsoriasisPsoriatic ArthritisRheumatoid ArthritisSexual ConditionsSkin ProblemsSleep DisordersUlcerative Colitis View All Drugs & Supplements  Back Drugs & SupplementsDrugsSupplementsPill IdentifierInteraction CheckerWell-Being  Back Well-Being View All Aging WellBabyBirth ControlChildren's HealthDiet & Weight ManagementFitness & ExerciseFood & RecipesHealthy BeautyMen's HealthParentingPet HealthPregnancySex & RelationshipsTeen HealthWomen's Health View All Symptom CheckerFind a DoctorMore  Back MoreNewsBlogsPodcastsWebinarsNewslettersWebMD MagazineBest HospitalsSupport GroupsSurgeries and ProceduresOrthopedics Privacy & More  Subscribe  Log In  Search  Subscribe  MENU DRUGS AND MEDICATIONS CENTERFind a DrugMy MedicinePill IdentifierInteraction CheckerFind a VitaminFind a PharmacyVITAMINS & SUPPLEMENTS CENTERFind a Vitamin or SupplementVitamin Lifestyle GuideAssess Your Vitamin NeedsFIRST AID RESOURCESFirst Aid HomeFirst Aid Kit & Wound CareFirst Aid Mobile Drugs & Medications  Drugs & Medications A-Z Your trusted source of information for prescription drugs and medications Search Medications by Letter Search Medications by Condition  Search Medications by Condition  Find Off-Market Medications ABCDEFGHIJKLMNOPQRSTUVWXYZ 0-9 Pill Identifier Pill Identifier Drugs Interaction Checker Drugs Interaction Checker Find Vitamins Find Vitamins Find a Doctor Find a Doctor Top Searched Medicationsabilifyactosacycloviradderallallopurinolambienamitriptylineamoxicillinatenololativanazithromycinbaclofenbactrimbenadrylbenzonatatebupropionbuspironebystoliccelebrexcelexacialisciprocitalopramclindamycinclonazepamconcertacrestorcyclobenzaprinecymbaltadepakotedexilantdicyclominedilaudideffexoremgalityflagylgabapentinhydrochlorothi\\xadazidehydrocodone-acetaminophenhydroxyzineibuprofenkeppralevothyroxinelexaprolipitorlisinoprillorazepamlosartanlyricamacrobidmeloxicammethadonemethocarbamolmethylpredniso\\xadlonemetronidazolemorphinenabumetonenamendaneurontinnortriptylinephentermineplaquenilpradaxaprednisoneprilosecpromethazineprozactramadoltrazodonetrulicityvictozawellbutrin View More Latest Drug NewsPopular Weight Loss Drugs Raise Risk of More Stomach TroubleWebMD Health NewsNew Depression Drug Avoids Unfortunate Side Effects of OthersWebMD Health NewsFDA Adds Warning of Intestinal Blockages to Ozempic LabelWebMD Health News BriefPopular OTC Decongestants Don’t Really Work, FDA SaysWebMD Health News3D-Printed Meds Customize the Exact Dose for Sick ChildrenWebMD Health NewsDrugs Advertised on TV Aren't Better Than Existing Options: StudyWebMD Health News BriefView AllToday on WebMDMedications That Make You TiredCommon culprits and what you can do.Pharmacy and Medication TipsThings to remember when you fill your prescription.Recommended for YouIs Your Medication Causing Dry Eye?Erectile Dysfunction Meds: Make Them Work BetterWhat Medicines Can Make Your Blood Sugar Spike?Health Solutions from Our SponsorsPenis Curved When Erect? Could I have CAD? Treat Bent Fingers Treat HR+, HER2- MBC Tired of Dandruff? Benefits of CBD Rethink MS Treatment AFib-Related Strokes Risk of a Future DVT/PE Is My Penis Normal? Relapsing MS Options Liver Transplants Save Lives Finance Plastic Surgery Bent Finger Causes Living With Psoriasis? Missing Teeth? More from WebMD5 Tips to Help With Relapsing MS How to Thrive With Narcolepsy Relief for Blocked Hair Follicles Psoriatic Arthritis and Your Sleep What Psoriasis Feels Like First Psoriatic Arthritis Flare Talking to Your Doctor About RA Crohn's: A 'Full-Body' Disease Avoiding Crohn’s Flares Health Benefits of Hemp Seed Oil Live Better With Psoriatic Disease Types of B-Cell Therapy for MS 5 Health Benefits of Hemp Why Prostate Cancer Spreads Living with Advanced Breast Cancer Where Breast Cancer Spreads Sign up for our free WebMD Daily NewsletterGet doctor-approved health tips, news, and more. Subscribe Thanks for subscribing!By clicking Subscribe, I agree to the WebMD Terms & Conditions & Privacy Policy and understand that I may opt out of WebMD subscriptions at any time. Follow WebMD on Social MediaDownload WebMD AppPoliciesAboutOur AppsFor AdvertisersPrivacy PolicyCookie PolicyEditorial PolicyAdvertising PolicyCorrection PolicyTerms of Use © 2005 - 2023 WebMD LLC, an Internet Brands company. All rights reserved. WebMD does not provide medical advice, diagnosis or treatment. See additional information.\"]\n"
     ]
    },
    {
     "name": "stderr",
     "output_type": "stream",
     "text": [
      "/Users/parsaalian/Desktop/webform testing project/implementation/method/ours/history.py:83: FutureWarning: The frame.append method is deprecated and will be removed from pandas in a future version. Use pandas.concat instead.\n",
      "  self.table = self.table.append({\n"
     ]
    }
   ],
   "source": [
    "get_attr = lambda x, a, d: x[a] if a in x else d\n",
    "\n",
    "for field_id, entry in value_table.entries.items():\n",
    "    input_type = get_attr(entry.input_group.node.element.attrs, 'type', 'text')\n",
    "    if input_type in ['radio', 'checkbox']:\n",
    "        continue\n",
    "    \n",
    "    for i in range(len(entry.constraints) + 1):\n",
    "        get_to_form(driver)\n",
    "        \n",
    "        value_table_copy = value_table.copy()\n",
    "    \n",
    "        if i == 0:\n",
    "            value_table_copy.entries[field_id].constraints = [Invalid()]\n",
    "        else:\n",
    "            value_table_copy.entries[field_id].constraints = [value_table.entries[field_id].constraints[i - 1].copy()]\n",
    "            value_table_copy.entries[field_id].constraints[0].flip_negative()\n",
    "\n",
    "\n",
    "        input_group = value_table_copy.entries[field_id].input_group\n",
    "\n",
    "        value_table_copy = generate_value_for_input_group(\n",
    "            input_group,\n",
    "            value_table_copy,\n",
    "            context=form_context\n",
    "        )\n",
    "\n",
    "        # fill_form_with_value_table(driver, value_table_copy, input_groups)\n",
    "\n",
    "        try:\n",
    "            pass\n",
    "            # driver.find_element(By.TAG_NAME, 'body').click()\n",
    "            # submit_form(driver, input_groups=input_groups, explicit_submit=find_button())\n",
    "        except:\n",
    "            pass\n",
    "        \n",
    "        # time.sleep(1)\n",
    "        \n",
    "        new_html = driver.find_element(By.TAG_NAME, 'body').get_attribute('outerHTML')\n",
    "        global_feedback = get_global_feedback(html, new_html)\n",
    "        \n",
    "        print(global_feedback)\n",
    "        \n",
    "        history_table.add(\n",
    "            value_table_copy.get_values_dict(),\n",
    "            str(type(value_table_copy.entries[field_id].constraints[0])),\n",
    "            global_feedback,\n",
    "            driver.current_url\n",
    "        )\n",
    "        \n",
    "        if len(global_feedback) == 0:\n",
    "            value_table.entries[field_id].constraints[i - 1].approve()"
   ]
  },
  {
   "cell_type": "code",
   "execution_count": 21,
   "id": "b0f31929",
   "metadata": {
    "ExecuteTime": {
     "end_time": "2023-07-24T16:38:25.141441Z",
     "start_time": "2023-07-24T16:38:21.692940Z"
    }
   },
   "outputs": [],
   "source": [
    "'''driver.get(URL)\n",
    "time.sleep(1)\n",
    "base_text = driver.find_element(By.TAG_NAME, 'body').text'''"
   ]
  },
  {
   "cell_type": "code",
   "execution_count": 20,
   "id": "2a1162db",
   "metadata": {
    "ExecuteTime": {
     "end_time": "2023-07-27T17:09:46.514430Z",
     "start_time": "2023-07-27T17:09:46.346549Z"
    }
   },
   "outputs": [],
   "source": [
    "for i, v in enumerate(history_table.table['values']):\n",
    "    jv = json.loads(v)\n",
    "    for key, value in jv.items():\n",
    "        if key not in history_table.table.columns:\n",
    "            history_table.table[key] = None\n",
    "        history_table.table.loc[i, key] = value"
   ]
  },
  {
   "cell_type": "code",
   "execution_count": 21,
   "id": "5f823e3c",
   "metadata": {
    "ExecuteTime": {
     "end_time": "2023-07-27T17:09:47.043668Z",
     "start_time": "2023-07-27T17:09:46.926760Z"
    },
    "scrolled": false
   },
   "outputs": [
    {
     "data": {
      "text/html": [
       "<div>\n",
       "<style scoped>\n",
       "    .dataframe tbody tr th:only-of-type {\n",
       "        vertical-align: middle;\n",
       "    }\n",
       "\n",
       "    .dataframe tbody tr th {\n",
       "        vertical-align: top;\n",
       "    }\n",
       "\n",
       "    .dataframe thead th {\n",
       "        text-align: right;\n",
       "    }\n",
       "</style>\n",
       "<table border=\"1\" class=\"dataframe\">\n",
       "  <thead>\n",
       "    <tr style=\"text-align: right;\">\n",
       "      <th></th>\n",
       "      <th>values</th>\n",
       "      <th>variation_type</th>\n",
       "      <th>feedback</th>\n",
       "      <th>new_url</th>\n",
       "      <th>//BODY/AC-WEB-APP[1]/DIV[1]/MAIN[1]/DIV[1]/AC-ACOHOME-PAGE[1]/DIV[1]/DIV[1]/AC-BOOKING-MAGNET[1]/DIV[1]/DIV[1]/DIV[1]/DIV[2]/AC-BKMG-FLIGHTS-TAB[1]/DIV[1]/FORM[1]/FIELDSET[1]/DIV[1]/FIELDSET[1]/ABC-RADIO-GROUP[1]/DIV[1]/DIV[1]/ABC-RADIO-BUTTON[1]/DIV[1]/INPUT[1]</th>\n",
       "      <th>//BODY/AC-WEB-APP[1]/DIV[1]/MAIN[1]/DIV[1]/AC-ACOHOME-PAGE[1]/DIV[1]/DIV[1]/AC-BOOKING-MAGNET[1]/DIV[1]/DIV[1]/DIV[1]/DIV[2]/AC-BKMG-FLIGHTS-TAB[1]/DIV[1]/FORM[1]/FIELDSET[1]/DIV[1]/FIELDSET[1]/ABC-RADIO-GROUP[1]/DIV[1]/DIV[1]/ABC-RADIO-BUTTON[2]/DIV[1]/INPUT[1]</th>\n",
       "      <th>//BODY/AC-WEB-APP[1]/DIV[1]/MAIN[1]/DIV[1]/AC-ACOHOME-PAGE[1]/DIV[1]/DIV[1]/AC-BOOKING-MAGNET[1]/DIV[1]/DIV[1]/DIV[1]/DIV[2]/AC-BKMG-FLIGHTS-TAB[1]/DIV[1]/FORM[1]/FIELDSET[1]/DIV[1]/FIELDSET[1]/ABC-RADIO-GROUP[1]/DIV[1]/DIV[1]/ABC-RADIO-BUTTON[3]/DIV[1]/INPUT[1]</th>\n",
       "      <th>//BODY/AC-WEB-APP[1]/DIV[1]/MAIN[1]/DIV[1]/AC-ACOHOME-PAGE[1]/DIV[1]/DIV[1]/AC-BOOKING-MAGNET[1]/DIV[1]/DIV[1]/DIV[1]/DIV[2]/AC-BKMG-FLIGHTS-TAB[1]/DIV[1]/FORM[1]/FIELDSET[1]/DIV[1]/AC-SEARCH-TYPE-TOGGLE[1]/DIV[1]/ABC-CHECKBOX[1]/DIV[1]/DIV[1]/INPUT[1]</th>\n",
       "      <th>//BODY/AC-WEB-APP[1]/DIV[1]/MAIN[1]/DIV[1]/AC-ACOHOME-PAGE[1]/DIV[1]/DIV[1]/AC-BOOKING-MAGNET[1]/DIV[1]/DIV[1]/DIV[1]/DIV[2]/AC-BKMG-FLIGHTS-TAB[1]/DIV[1]/FORM[1]/FIELDSET[1]/DIV[1]/DIV[1]/DIV[1]/ABC-TYPEAHEAD[1]/DIV[1]/ABC-INPUT[1]/ABC-FORM-ELEMENT-CONTAINER[1]/DIV[1]/DIV[1]/DIV[1]/DIV[1]/DIV[1]/INPUT[1]</th>\n",
       "      <th>//BODY/AC-WEB-APP[1]/DIV[1]/MAIN[1]/DIV[1]/AC-ACOHOME-PAGE[1]/DIV[1]/DIV[1]/AC-BOOKING-MAGNET[1]/DIV[1]/DIV[1]/DIV[1]/DIV[2]/AC-BKMG-FLIGHTS-TAB[1]/DIV[1]/FORM[1]/FIELDSET[1]/DIV[1]/DIV[1]/DIV[1]/ABC-TYPEAHEAD[2]/DIV[1]/ABC-INPUT[1]/ABC-FORM-ELEMENT-CONTAINER[1]/DIV[1]/DIV[1]/DIV[1]/DIV[1]/DIV[1]/INPUT[1]</th>\n",
       "      <th>//BODY/AC-WEB-APP[1]/DIV[1]/MAIN[1]/DIV[1]/AC-ACOHOME-PAGE[1]/DIV[1]/DIV[1]/AC-BOOKING-MAGNET[1]/DIV[1]/DIV[1]/DIV[1]/DIV[2]/AC-BKMG-FLIGHTS-TAB[1]/DIV[1]/FORM[1]/FIELDSET[1]/DIV[1]/DIV[1]/DIV[1]/ABC-DATE-PICKER[1]/DIV[1]/DIV[1]/ABC-INPUT[1]/ABC-FORM-ELEMENT-CONTAINER[1]/DIV[1]/DIV[1]/DIV[1]/DIV[1]/DIV[1]/INPUT[1]</th>\n",
       "      <th>//BODY/AC-WEB-APP[1]/DIV[1]/MAIN[1]/DIV[1]/AC-ACOHOME-PAGE[1]/DIV[1]/DIV[1]/AC-BOOKING-MAGNET[1]/DIV[1]/DIV[1]/DIV[1]/DIV[2]/AC-BKMG-FLIGHTS-TAB[1]/DIV[1]/FORM[1]/FIELDSET[1]/DIV[1]/DIV[1]/DIV[1]/ABC-DATE-PICKER[1]/DIV[1]/DIV[1]/ABC-INPUT[2]/ABC-FORM-ELEMENT-CONTAINER[1]/DIV[1]/DIV[1]/DIV[1]/DIV[1]/DIV[1]/INPUT[1]</th>\n",
       "    </tr>\n",
       "  </thead>\n",
       "  <tbody>\n",
       "    <tr>\n",
       "      <th>0</th>\n",
       "      <td>{\"//BODY/AC-WEB-APP[1]/DIV[1]/MAIN[1]/DIV[1]/A...</td>\n",
       "      <td>&lt;class 'method.ours.constraints.concrete.Inval...</td>\n",
       "      <td></td>\n",
       "      <td>https://www.aircanada.com/ca/en/aco/home.html</td>\n",
       "      <td>R</td>\n",
       "      <td>O</td>\n",
       "      <td>M</td>\n",
       "      <td>true</td>\n",
       "      <td>123456</td>\n",
       "      <td>Los Angeles</td>\n",
       "      <td>28/07</td>\n",
       "      <td>28/07</td>\n",
       "    </tr>\n",
       "    <tr>\n",
       "      <th>1</th>\n",
       "      <td>{\"//BODY/AC-WEB-APP[1]/DIV[1]/MAIN[1]/DIV[1]/A...</td>\n",
       "      <td>&lt;class 'method.ours.constraints.concrete.ToBeT...</td>\n",
       "      <td></td>\n",
       "      <td>https://www.aircanada.com/ca/en/aco/home.html</td>\n",
       "      <td>R</td>\n",
       "      <td>O</td>\n",
       "      <td>M</td>\n",
       "      <td>true</td>\n",
       "      <td></td>\n",
       "      <td>Los Angeles</td>\n",
       "      <td>28/07</td>\n",
       "      <td>28/07</td>\n",
       "    </tr>\n",
       "    <tr>\n",
       "      <th>2</th>\n",
       "      <td>{\"//BODY/AC-WEB-APP[1]/DIV[1]/MAIN[1]/DIV[1]/A...</td>\n",
       "      <td>&lt;class 'method.ours.constraints.concrete.ToCon...</td>\n",
       "      <td>Skip to book a flight  Skip to main navigation...</td>\n",
       "      <td>https://www.aircanada.com/ca/en/aco/home.html</td>\n",
       "      <td>R</td>\n",
       "      <td>O</td>\n",
       "      <td>M</td>\n",
       "      <td>true</td>\n",
       "      <td>Vancouver</td>\n",
       "      <td>Los Angeles</td>\n",
       "      <td>28/07</td>\n",
       "      <td>28/07</td>\n",
       "    </tr>\n",
       "    <tr>\n",
       "      <th>3</th>\n",
       "      <td>{\"//BODY/AC-WEB-APP[1]/DIV[1]/MAIN[1]/DIV[1]/A...</td>\n",
       "      <td>&lt;class 'method.ours.constraints.concrete.ToHav...</td>\n",
       "      <td>Skip to book a flight  Skip to main navigation...</td>\n",
       "      <td>https://www.aircanada.com/ca/en/aco/home.html</td>\n",
       "      <td>R</td>\n",
       "      <td>O</td>\n",
       "      <td>M</td>\n",
       "      <td>true</td>\n",
       "      <td>YV</td>\n",
       "      <td>Los Angeles</td>\n",
       "      <td>28/07</td>\n",
       "      <td>28/07</td>\n",
       "    </tr>\n",
       "    <tr>\n",
       "      <th>4</th>\n",
       "      <td>{\"//BODY/AC-WEB-APP[1]/DIV[1]/MAIN[1]/DIV[1]/A...</td>\n",
       "      <td>&lt;class 'method.ours.constraints.concrete.ToHav...</td>\n",
       "      <td></td>\n",
       "      <td>https://www.aircanada.com/ca/en/aco/home.html</td>\n",
       "      <td>R</td>\n",
       "      <td>O</td>\n",
       "      <td>M</td>\n",
       "      <td>true</td>\n",
       "      <td>Vancouver International Airport, 3211 Grant Mc...</td>\n",
       "      <td>Los Angeles</td>\n",
       "      <td>28/07</td>\n",
       "      <td>28/07</td>\n",
       "    </tr>\n",
       "    <tr>\n",
       "      <th>5</th>\n",
       "      <td>{\"//BODY/AC-WEB-APP[1]/DIV[1]/MAIN[1]/DIV[1]/A...</td>\n",
       "      <td>&lt;class 'method.ours.constraints.concrete.ToBeA...</td>\n",
       "      <td>Skip to book a flight  Skip to main navigation...</td>\n",
       "      <td>https://www.aircanada.com/ca/en/aco/home.html</td>\n",
       "      <td>R</td>\n",
       "      <td>O</td>\n",
       "      <td>M</td>\n",
       "      <td>true</td>\n",
       "      <td>YVR</td>\n",
       "      <td>Los Angeles</td>\n",
       "      <td>28/07</td>\n",
       "      <td>28/07</td>\n",
       "    </tr>\n",
       "    <tr>\n",
       "      <th>6</th>\n",
       "      <td>{\"//BODY/AC-WEB-APP[1]/DIV[1]/MAIN[1]/DIV[1]/A...</td>\n",
       "      <td>&lt;class 'method.ours.constraints.concrete.Inval...</td>\n",
       "      <td>Skip to book a flight  Skip to main navigation...</td>\n",
       "      <td>https://www.aircanada.com/ca/en/aco/home.html</td>\n",
       "      <td>R</td>\n",
       "      <td>O</td>\n",
       "      <td>M</td>\n",
       "      <td>true</td>\n",
       "      <td>Vancouver YVR</td>\n",
       "      <td>123456</td>\n",
       "      <td>28/07</td>\n",
       "      <td>28/07</td>\n",
       "    </tr>\n",
       "    <tr>\n",
       "      <th>7</th>\n",
       "      <td>{\"//BODY/AC-WEB-APP[1]/DIV[1]/MAIN[1]/DIV[1]/A...</td>\n",
       "      <td>&lt;class 'method.ours.constraints.concrete.ToBeT...</td>\n",
       "      <td></td>\n",
       "      <td>https://www.aircanada.com/ca/en/aco/home.html</td>\n",
       "      <td>R</td>\n",
       "      <td>O</td>\n",
       "      <td>M</td>\n",
       "      <td>true</td>\n",
       "      <td>Vancouver YVR</td>\n",
       "      <td></td>\n",
       "      <td>28/07</td>\n",
       "      <td>28/07</td>\n",
       "    </tr>\n",
       "    <tr>\n",
       "      <th>8</th>\n",
       "      <td>{\"//BODY/AC-WEB-APP[1]/DIV[1]/MAIN[1]/DIV[1]/A...</td>\n",
       "      <td>&lt;class 'method.ours.constraints.concrete.ToHav...</td>\n",
       "      <td></td>\n",
       "      <td>https://www.aircanada.com/ca/en/aco/home.html</td>\n",
       "      <td>R</td>\n",
       "      <td>O</td>\n",
       "      <td>M</td>\n",
       "      <td>true</td>\n",
       "      <td>Vancouver YVR</td>\n",
       "      <td>A</td>\n",
       "      <td>28/07</td>\n",
       "      <td>28/07</td>\n",
       "    </tr>\n",
       "    <tr>\n",
       "      <th>9</th>\n",
       "      <td>{\"//BODY/AC-WEB-APP[1]/DIV[1]/MAIN[1]/DIV[1]/A...</td>\n",
       "      <td>&lt;class 'method.ours.constraints.concrete.Inval...</td>\n",
       "      <td>Skip to book a flight  Skip to main navigation...</td>\n",
       "      <td>https://www.aircanada.com/ca/en/aco/home.html</td>\n",
       "      <td>R</td>\n",
       "      <td>O</td>\n",
       "      <td>M</td>\n",
       "      <td>true</td>\n",
       "      <td>Vancouver YVR</td>\n",
       "      <td>Los Angeles</td>\n",
       "      <td>32/13</td>\n",
       "      <td>28/07</td>\n",
       "    </tr>\n",
       "    <tr>\n",
       "      <th>10</th>\n",
       "      <td>{\"//BODY/AC-WEB-APP[1]/DIV[1]/MAIN[1]/DIV[1]/A...</td>\n",
       "      <td>&lt;class 'method.ours.constraints.concrete.ToBeT...</td>\n",
       "      <td>Skip to book a flight  Skip to main navigation...</td>\n",
       "      <td>https://www.aircanada.com/ca/en/aco/home.html</td>\n",
       "      <td>R</td>\n",
       "      <td>O</td>\n",
       "      <td>M</td>\n",
       "      <td>true</td>\n",
       "      <td>Vancouver YVR</td>\n",
       "      <td>Los Angeles</td>\n",
       "      <td></td>\n",
       "      <td>28/07</td>\n",
       "    </tr>\n",
       "    <tr>\n",
       "      <th>11</th>\n",
       "      <td>{\"//BODY/AC-WEB-APP[1]/DIV[1]/MAIN[1]/DIV[1]/A...</td>\n",
       "      <td>&lt;class 'method.ours.constraints.concrete.ToHav...</td>\n",
       "      <td>Skip to book a flight  Skip to main navigation...</td>\n",
       "      <td>https://www.aircanada.com/ca/en/aco/home.html</td>\n",
       "      <td>R</td>\n",
       "      <td>O</td>\n",
       "      <td>M</td>\n",
       "      <td>true</td>\n",
       "      <td>Vancouver YVR</td>\n",
       "      <td>Los Angeles</td>\n",
       "      <td>12/04</td>\n",
       "      <td>28/07</td>\n",
       "    </tr>\n",
       "    <tr>\n",
       "      <th>12</th>\n",
       "      <td>{\"//BODY/AC-WEB-APP[1]/DIV[1]/MAIN[1]/DIV[1]/A...</td>\n",
       "      <td>&lt;class 'method.ours.constraints.concrete.ToCon...</td>\n",
       "      <td>Skip to book a flight  Skip to main navigation...</td>\n",
       "      <td>https://www.aircanada.com/ca/en/aco/home.html</td>\n",
       "      <td>R</td>\n",
       "      <td>O</td>\n",
       "      <td>M</td>\n",
       "      <td>true</td>\n",
       "      <td>Vancouver YVR</td>\n",
       "      <td>Los Angeles</td>\n",
       "      <td>15-04</td>\n",
       "      <td>28/07</td>\n",
       "    </tr>\n",
       "    <tr>\n",
       "      <th>13</th>\n",
       "      <td>{\"//BODY/AC-WEB-APP[1]/DIV[1]/MAIN[1]/DIV[1]/A...</td>\n",
       "      <td>&lt;class 'method.ours.constraints.concrete.ToHav...</td>\n",
       "      <td>Skip to book a flight  Skip to main navigation...</td>\n",
       "      <td>https://www.aircanada.com/ca/en/aco/home.html</td>\n",
       "      <td>R</td>\n",
       "      <td>O</td>\n",
       "      <td>M</td>\n",
       "      <td>true</td>\n",
       "      <td>Vancouver YVR</td>\n",
       "      <td>Los Angeles</td>\n",
       "      <td>25/07</td>\n",
       "      <td>28/07</td>\n",
       "    </tr>\n",
       "    <tr>\n",
       "      <th>14</th>\n",
       "      <td>{\"//BODY/AC-WEB-APP[1]/DIV[1]/MAIN[1]/DIV[1]/A...</td>\n",
       "      <td>&lt;class 'method.ours.constraints.concrete.Inval...</td>\n",
       "      <td>Skip to book a flight  Skip to main navigation...</td>\n",
       "      <td>https://www.aircanada.com/ca/en/aco/home.html</td>\n",
       "      <td>R</td>\n",
       "      <td>O</td>\n",
       "      <td>M</td>\n",
       "      <td>true</td>\n",
       "      <td>Vancouver YVR</td>\n",
       "      <td>Los Angeles</td>\n",
       "      <td>28/07</td>\n",
       "      <td>30/13</td>\n",
       "    </tr>\n",
       "    <tr>\n",
       "      <th>15</th>\n",
       "      <td>{\"//BODY/AC-WEB-APP[1]/DIV[1]/MAIN[1]/DIV[1]/A...</td>\n",
       "      <td>&lt;class 'method.ours.constraints.concrete.ToBeT...</td>\n",
       "      <td></td>\n",
       "      <td>https://www.aircanada.com/ca/en/aco/home.html</td>\n",
       "      <td>R</td>\n",
       "      <td>O</td>\n",
       "      <td>M</td>\n",
       "      <td>true</td>\n",
       "      <td>Vancouver YVR</td>\n",
       "      <td>Los Angeles</td>\n",
       "      <td>28/07</td>\n",
       "      <td></td>\n",
       "    </tr>\n",
       "    <tr>\n",
       "      <th>16</th>\n",
       "      <td>{\"//BODY/AC-WEB-APP[1]/DIV[1]/MAIN[1]/DIV[1]/A...</td>\n",
       "      <td>&lt;class 'method.ours.constraints.concrete.ToHav...</td>\n",
       "      <td>Skip to book a flight  Skip to main navigation...</td>\n",
       "      <td>https://www.aircanada.com/ca/en/aco/home.html</td>\n",
       "      <td>R</td>\n",
       "      <td>O</td>\n",
       "      <td>M</td>\n",
       "      <td>true</td>\n",
       "      <td>Vancouver YVR</td>\n",
       "      <td>Los Angeles</td>\n",
       "      <td>28/07</td>\n",
       "      <td>12/04</td>\n",
       "    </tr>\n",
       "  </tbody>\n",
       "</table>\n",
       "</div>"
      ],
      "text/plain": [
       "                                               values  \\\n",
       "0   {\"//BODY/AC-WEB-APP[1]/DIV[1]/MAIN[1]/DIV[1]/A...   \n",
       "1   {\"//BODY/AC-WEB-APP[1]/DIV[1]/MAIN[1]/DIV[1]/A...   \n",
       "2   {\"//BODY/AC-WEB-APP[1]/DIV[1]/MAIN[1]/DIV[1]/A...   \n",
       "3   {\"//BODY/AC-WEB-APP[1]/DIV[1]/MAIN[1]/DIV[1]/A...   \n",
       "4   {\"//BODY/AC-WEB-APP[1]/DIV[1]/MAIN[1]/DIV[1]/A...   \n",
       "5   {\"//BODY/AC-WEB-APP[1]/DIV[1]/MAIN[1]/DIV[1]/A...   \n",
       "6   {\"//BODY/AC-WEB-APP[1]/DIV[1]/MAIN[1]/DIV[1]/A...   \n",
       "7   {\"//BODY/AC-WEB-APP[1]/DIV[1]/MAIN[1]/DIV[1]/A...   \n",
       "8   {\"//BODY/AC-WEB-APP[1]/DIV[1]/MAIN[1]/DIV[1]/A...   \n",
       "9   {\"//BODY/AC-WEB-APP[1]/DIV[1]/MAIN[1]/DIV[1]/A...   \n",
       "10  {\"//BODY/AC-WEB-APP[1]/DIV[1]/MAIN[1]/DIV[1]/A...   \n",
       "11  {\"//BODY/AC-WEB-APP[1]/DIV[1]/MAIN[1]/DIV[1]/A...   \n",
       "12  {\"//BODY/AC-WEB-APP[1]/DIV[1]/MAIN[1]/DIV[1]/A...   \n",
       "13  {\"//BODY/AC-WEB-APP[1]/DIV[1]/MAIN[1]/DIV[1]/A...   \n",
       "14  {\"//BODY/AC-WEB-APP[1]/DIV[1]/MAIN[1]/DIV[1]/A...   \n",
       "15  {\"//BODY/AC-WEB-APP[1]/DIV[1]/MAIN[1]/DIV[1]/A...   \n",
       "16  {\"//BODY/AC-WEB-APP[1]/DIV[1]/MAIN[1]/DIV[1]/A...   \n",
       "\n",
       "                                       variation_type  \\\n",
       "0   <class 'method.ours.constraints.concrete.Inval...   \n",
       "1   <class 'method.ours.constraints.concrete.ToBeT...   \n",
       "2   <class 'method.ours.constraints.concrete.ToCon...   \n",
       "3   <class 'method.ours.constraints.concrete.ToHav...   \n",
       "4   <class 'method.ours.constraints.concrete.ToHav...   \n",
       "5   <class 'method.ours.constraints.concrete.ToBeA...   \n",
       "6   <class 'method.ours.constraints.concrete.Inval...   \n",
       "7   <class 'method.ours.constraints.concrete.ToBeT...   \n",
       "8   <class 'method.ours.constraints.concrete.ToHav...   \n",
       "9   <class 'method.ours.constraints.concrete.Inval...   \n",
       "10  <class 'method.ours.constraints.concrete.ToBeT...   \n",
       "11  <class 'method.ours.constraints.concrete.ToHav...   \n",
       "12  <class 'method.ours.constraints.concrete.ToCon...   \n",
       "13  <class 'method.ours.constraints.concrete.ToHav...   \n",
       "14  <class 'method.ours.constraints.concrete.Inval...   \n",
       "15  <class 'method.ours.constraints.concrete.ToBeT...   \n",
       "16  <class 'method.ours.constraints.concrete.ToHav...   \n",
       "\n",
       "                                             feedback  \\\n",
       "0                                                       \n",
       "1                                                       \n",
       "2   Skip to book a flight  Skip to main navigation...   \n",
       "3   Skip to book a flight  Skip to main navigation...   \n",
       "4                                                       \n",
       "5   Skip to book a flight  Skip to main navigation...   \n",
       "6   Skip to book a flight  Skip to main navigation...   \n",
       "7                                                       \n",
       "8                                                       \n",
       "9   Skip to book a flight  Skip to main navigation...   \n",
       "10  Skip to book a flight  Skip to main navigation...   \n",
       "11  Skip to book a flight  Skip to main navigation...   \n",
       "12  Skip to book a flight  Skip to main navigation...   \n",
       "13  Skip to book a flight  Skip to main navigation...   \n",
       "14  Skip to book a flight  Skip to main navigation...   \n",
       "15                                                      \n",
       "16  Skip to book a flight  Skip to main navigation...   \n",
       "\n",
       "                                          new_url  \\\n",
       "0   https://www.aircanada.com/ca/en/aco/home.html   \n",
       "1   https://www.aircanada.com/ca/en/aco/home.html   \n",
       "2   https://www.aircanada.com/ca/en/aco/home.html   \n",
       "3   https://www.aircanada.com/ca/en/aco/home.html   \n",
       "4   https://www.aircanada.com/ca/en/aco/home.html   \n",
       "5   https://www.aircanada.com/ca/en/aco/home.html   \n",
       "6   https://www.aircanada.com/ca/en/aco/home.html   \n",
       "7   https://www.aircanada.com/ca/en/aco/home.html   \n",
       "8   https://www.aircanada.com/ca/en/aco/home.html   \n",
       "9   https://www.aircanada.com/ca/en/aco/home.html   \n",
       "10  https://www.aircanada.com/ca/en/aco/home.html   \n",
       "11  https://www.aircanada.com/ca/en/aco/home.html   \n",
       "12  https://www.aircanada.com/ca/en/aco/home.html   \n",
       "13  https://www.aircanada.com/ca/en/aco/home.html   \n",
       "14  https://www.aircanada.com/ca/en/aco/home.html   \n",
       "15  https://www.aircanada.com/ca/en/aco/home.html   \n",
       "16  https://www.aircanada.com/ca/en/aco/home.html   \n",
       "\n",
       "   //BODY/AC-WEB-APP[1]/DIV[1]/MAIN[1]/DIV[1]/AC-ACOHOME-PAGE[1]/DIV[1]/DIV[1]/AC-BOOKING-MAGNET[1]/DIV[1]/DIV[1]/DIV[1]/DIV[2]/AC-BKMG-FLIGHTS-TAB[1]/DIV[1]/FORM[1]/FIELDSET[1]/DIV[1]/FIELDSET[1]/ABC-RADIO-GROUP[1]/DIV[1]/DIV[1]/ABC-RADIO-BUTTON[1]/DIV[1]/INPUT[1]  \\\n",
       "0                                                   R                                                                                                                                                                                                                       \n",
       "1                                                   R                                                                                                                                                                                                                       \n",
       "2                                                   R                                                                                                                                                                                                                       \n",
       "3                                                   R                                                                                                                                                                                                                       \n",
       "4                                                   R                                                                                                                                                                                                                       \n",
       "5                                                   R                                                                                                                                                                                                                       \n",
       "6                                                   R                                                                                                                                                                                                                       \n",
       "7                                                   R                                                                                                                                                                                                                       \n",
       "8                                                   R                                                                                                                                                                                                                       \n",
       "9                                                   R                                                                                                                                                                                                                       \n",
       "10                                                  R                                                                                                                                                                                                                       \n",
       "11                                                  R                                                                                                                                                                                                                       \n",
       "12                                                  R                                                                                                                                                                                                                       \n",
       "13                                                  R                                                                                                                                                                                                                       \n",
       "14                                                  R                                                                                                                                                                                                                       \n",
       "15                                                  R                                                                                                                                                                                                                       \n",
       "16                                                  R                                                                                                                                                                                                                       \n",
       "\n",
       "   //BODY/AC-WEB-APP[1]/DIV[1]/MAIN[1]/DIV[1]/AC-ACOHOME-PAGE[1]/DIV[1]/DIV[1]/AC-BOOKING-MAGNET[1]/DIV[1]/DIV[1]/DIV[1]/DIV[2]/AC-BKMG-FLIGHTS-TAB[1]/DIV[1]/FORM[1]/FIELDSET[1]/DIV[1]/FIELDSET[1]/ABC-RADIO-GROUP[1]/DIV[1]/DIV[1]/ABC-RADIO-BUTTON[2]/DIV[1]/INPUT[1]  \\\n",
       "0                                                   O                                                                                                                                                                                                                       \n",
       "1                                                   O                                                                                                                                                                                                                       \n",
       "2                                                   O                                                                                                                                                                                                                       \n",
       "3                                                   O                                                                                                                                                                                                                       \n",
       "4                                                   O                                                                                                                                                                                                                       \n",
       "5                                                   O                                                                                                                                                                                                                       \n",
       "6                                                   O                                                                                                                                                                                                                       \n",
       "7                                                   O                                                                                                                                                                                                                       \n",
       "8                                                   O                                                                                                                                                                                                                       \n",
       "9                                                   O                                                                                                                                                                                                                       \n",
       "10                                                  O                                                                                                                                                                                                                       \n",
       "11                                                  O                                                                                                                                                                                                                       \n",
       "12                                                  O                                                                                                                                                                                                                       \n",
       "13                                                  O                                                                                                                                                                                                                       \n",
       "14                                                  O                                                                                                                                                                                                                       \n",
       "15                                                  O                                                                                                                                                                                                                       \n",
       "16                                                  O                                                                                                                                                                                                                       \n",
       "\n",
       "   //BODY/AC-WEB-APP[1]/DIV[1]/MAIN[1]/DIV[1]/AC-ACOHOME-PAGE[1]/DIV[1]/DIV[1]/AC-BOOKING-MAGNET[1]/DIV[1]/DIV[1]/DIV[1]/DIV[2]/AC-BKMG-FLIGHTS-TAB[1]/DIV[1]/FORM[1]/FIELDSET[1]/DIV[1]/FIELDSET[1]/ABC-RADIO-GROUP[1]/DIV[1]/DIV[1]/ABC-RADIO-BUTTON[3]/DIV[1]/INPUT[1]  \\\n",
       "0                                                   M                                                                                                                                                                                                                       \n",
       "1                                                   M                                                                                                                                                                                                                       \n",
       "2                                                   M                                                                                                                                                                                                                       \n",
       "3                                                   M                                                                                                                                                                                                                       \n",
       "4                                                   M                                                                                                                                                                                                                       \n",
       "5                                                   M                                                                                                                                                                                                                       \n",
       "6                                                   M                                                                                                                                                                                                                       \n",
       "7                                                   M                                                                                                                                                                                                                       \n",
       "8                                                   M                                                                                                                                                                                                                       \n",
       "9                                                   M                                                                                                                                                                                                                       \n",
       "10                                                  M                                                                                                                                                                                                                       \n",
       "11                                                  M                                                                                                                                                                                                                       \n",
       "12                                                  M                                                                                                                                                                                                                       \n",
       "13                                                  M                                                                                                                                                                                                                       \n",
       "14                                                  M                                                                                                                                                                                                                       \n",
       "15                                                  M                                                                                                                                                                                                                       \n",
       "16                                                  M                                                                                                                                                                                                                       \n",
       "\n",
       "   //BODY/AC-WEB-APP[1]/DIV[1]/MAIN[1]/DIV[1]/AC-ACOHOME-PAGE[1]/DIV[1]/DIV[1]/AC-BOOKING-MAGNET[1]/DIV[1]/DIV[1]/DIV[1]/DIV[2]/AC-BKMG-FLIGHTS-TAB[1]/DIV[1]/FORM[1]/FIELDSET[1]/DIV[1]/AC-SEARCH-TYPE-TOGGLE[1]/DIV[1]/ABC-CHECKBOX[1]/DIV[1]/DIV[1]/INPUT[1]  \\\n",
       "0                                                true                                                                                                                                                                                                             \n",
       "1                                                true                                                                                                                                                                                                             \n",
       "2                                                true                                                                                                                                                                                                             \n",
       "3                                                true                                                                                                                                                                                                             \n",
       "4                                                true                                                                                                                                                                                                             \n",
       "5                                                true                                                                                                                                                                                                             \n",
       "6                                                true                                                                                                                                                                                                             \n",
       "7                                                true                                                                                                                                                                                                             \n",
       "8                                                true                                                                                                                                                                                                             \n",
       "9                                                true                                                                                                                                                                                                             \n",
       "10                                               true                                                                                                                                                                                                             \n",
       "11                                               true                                                                                                                                                                                                             \n",
       "12                                               true                                                                                                                                                                                                             \n",
       "13                                               true                                                                                                                                                                                                             \n",
       "14                                               true                                                                                                                                                                                                             \n",
       "15                                               true                                                                                                                                                                                                             \n",
       "16                                               true                                                                                                                                                                                                             \n",
       "\n",
       "   //BODY/AC-WEB-APP[1]/DIV[1]/MAIN[1]/DIV[1]/AC-ACOHOME-PAGE[1]/DIV[1]/DIV[1]/AC-BOOKING-MAGNET[1]/DIV[1]/DIV[1]/DIV[1]/DIV[2]/AC-BKMG-FLIGHTS-TAB[1]/DIV[1]/FORM[1]/FIELDSET[1]/DIV[1]/DIV[1]/DIV[1]/ABC-TYPEAHEAD[1]/DIV[1]/ABC-INPUT[1]/ABC-FORM-ELEMENT-CONTAINER[1]/DIV[1]/DIV[1]/DIV[1]/DIV[1]/DIV[1]/INPUT[1]  \\\n",
       "0                                              123456                                                                                                                                                                                                                                                                   \n",
       "1                                                                                                                                                                                                                                                                                                                       \n",
       "2                                           Vancouver                                                                                                                                                                                                                                                                   \n",
       "3                                                  YV                                                                                                                                                                                                                                                                   \n",
       "4   Vancouver International Airport, 3211 Grant Mc...                                                                                                                                                                                                                                                                   \n",
       "5                                                 YVR                                                                                                                                                                                                                                                                   \n",
       "6                                       Vancouver YVR                                                                                                                                                                                                                                                                   \n",
       "7                                       Vancouver YVR                                                                                                                                                                                                                                                                   \n",
       "8                                       Vancouver YVR                                                                                                                                                                                                                                                                   \n",
       "9                                       Vancouver YVR                                                                                                                                                                                                                                                                   \n",
       "10                                      Vancouver YVR                                                                                                                                                                                                                                                                   \n",
       "11                                      Vancouver YVR                                                                                                                                                                                                                                                                   \n",
       "12                                      Vancouver YVR                                                                                                                                                                                                                                                                   \n",
       "13                                      Vancouver YVR                                                                                                                                                                                                                                                                   \n",
       "14                                      Vancouver YVR                                                                                                                                                                                                                                                                   \n",
       "15                                      Vancouver YVR                                                                                                                                                                                                                                                                   \n",
       "16                                      Vancouver YVR                                                                                                                                                                                                                                                                   \n",
       "\n",
       "   //BODY/AC-WEB-APP[1]/DIV[1]/MAIN[1]/DIV[1]/AC-ACOHOME-PAGE[1]/DIV[1]/DIV[1]/AC-BOOKING-MAGNET[1]/DIV[1]/DIV[1]/DIV[1]/DIV[2]/AC-BKMG-FLIGHTS-TAB[1]/DIV[1]/FORM[1]/FIELDSET[1]/DIV[1]/DIV[1]/DIV[1]/ABC-TYPEAHEAD[2]/DIV[1]/ABC-INPUT[1]/ABC-FORM-ELEMENT-CONTAINER[1]/DIV[1]/DIV[1]/DIV[1]/DIV[1]/DIV[1]/INPUT[1]  \\\n",
       "0                                         Los Angeles                                                                                                                                                                                                                                                                   \n",
       "1                                         Los Angeles                                                                                                                                                                                                                                                                   \n",
       "2                                         Los Angeles                                                                                                                                                                                                                                                                   \n",
       "3                                         Los Angeles                                                                                                                                                                                                                                                                   \n",
       "4                                         Los Angeles                                                                                                                                                                                                                                                                   \n",
       "5                                         Los Angeles                                                                                                                                                                                                                                                                   \n",
       "6                                              123456                                                                                                                                                                                                                                                                   \n",
       "7                                                                                                                                                                                                                                                                                                                       \n",
       "8                                                   A                                                                                                                                                                                                                                                                   \n",
       "9                                         Los Angeles                                                                                                                                                                                                                                                                   \n",
       "10                                        Los Angeles                                                                                                                                                                                                                                                                   \n",
       "11                                        Los Angeles                                                                                                                                                                                                                                                                   \n",
       "12                                        Los Angeles                                                                                                                                                                                                                                                                   \n",
       "13                                        Los Angeles                                                                                                                                                                                                                                                                   \n",
       "14                                        Los Angeles                                                                                                                                                                                                                                                                   \n",
       "15                                        Los Angeles                                                                                                                                                                                                                                                                   \n",
       "16                                        Los Angeles                                                                                                                                                                                                                                                                   \n",
       "\n",
       "   //BODY/AC-WEB-APP[1]/DIV[1]/MAIN[1]/DIV[1]/AC-ACOHOME-PAGE[1]/DIV[1]/DIV[1]/AC-BOOKING-MAGNET[1]/DIV[1]/DIV[1]/DIV[1]/DIV[2]/AC-BKMG-FLIGHTS-TAB[1]/DIV[1]/FORM[1]/FIELDSET[1]/DIV[1]/DIV[1]/DIV[1]/ABC-DATE-PICKER[1]/DIV[1]/DIV[1]/ABC-INPUT[1]/ABC-FORM-ELEMENT-CONTAINER[1]/DIV[1]/DIV[1]/DIV[1]/DIV[1]/DIV[1]/INPUT[1]  \\\n",
       "0                                               28/07                                                                                                                                                                                                                                                                            \n",
       "1                                               28/07                                                                                                                                                                                                                                                                            \n",
       "2                                               28/07                                                                                                                                                                                                                                                                            \n",
       "3                                               28/07                                                                                                                                                                                                                                                                            \n",
       "4                                               28/07                                                                                                                                                                                                                                                                            \n",
       "5                                               28/07                                                                                                                                                                                                                                                                            \n",
       "6                                               28/07                                                                                                                                                                                                                                                                            \n",
       "7                                               28/07                                                                                                                                                                                                                                                                            \n",
       "8                                               28/07                                                                                                                                                                                                                                                                            \n",
       "9                                               32/13                                                                                                                                                                                                                                                                            \n",
       "10                                                                                                                                                                                                                                                                                                                               \n",
       "11                                              12/04                                                                                                                                                                                                                                                                            \n",
       "12                                              15-04                                                                                                                                                                                                                                                                            \n",
       "13                                              25/07                                                                                                                                                                                                                                                                            \n",
       "14                                              28/07                                                                                                                                                                                                                                                                            \n",
       "15                                              28/07                                                                                                                                                                                                                                                                            \n",
       "16                                              28/07                                                                                                                                                                                                                                                                            \n",
       "\n",
       "   //BODY/AC-WEB-APP[1]/DIV[1]/MAIN[1]/DIV[1]/AC-ACOHOME-PAGE[1]/DIV[1]/DIV[1]/AC-BOOKING-MAGNET[1]/DIV[1]/DIV[1]/DIV[1]/DIV[2]/AC-BKMG-FLIGHTS-TAB[1]/DIV[1]/FORM[1]/FIELDSET[1]/DIV[1]/DIV[1]/DIV[1]/ABC-DATE-PICKER[1]/DIV[1]/DIV[1]/ABC-INPUT[2]/ABC-FORM-ELEMENT-CONTAINER[1]/DIV[1]/DIV[1]/DIV[1]/DIV[1]/DIV[1]/INPUT[1]  \n",
       "0                                               28/07                                                                                                                                                                                                                                                                           \n",
       "1                                               28/07                                                                                                                                                                                                                                                                           \n",
       "2                                               28/07                                                                                                                                                                                                                                                                           \n",
       "3                                               28/07                                                                                                                                                                                                                                                                           \n",
       "4                                               28/07                                                                                                                                                                                                                                                                           \n",
       "5                                               28/07                                                                                                                                                                                                                                                                           \n",
       "6                                               28/07                                                                                                                                                                                                                                                                           \n",
       "7                                               28/07                                                                                                                                                                                                                                                                           \n",
       "8                                               28/07                                                                                                                                                                                                                                                                           \n",
       "9                                               28/07                                                                                                                                                                                                                                                                           \n",
       "10                                              28/07                                                                                                                                                                                                                                                                           \n",
       "11                                              28/07                                                                                                                                                                                                                                                                           \n",
       "12                                              28/07                                                                                                                                                                                                                                                                           \n",
       "13                                              28/07                                                                                                                                                                                                                                                                           \n",
       "14                                              30/13                                                                                                                                                                                                                                                                           \n",
       "15                                                                                                                                                                                                                                                                                                                              \n",
       "16                                              12/04                                                                                                                                                                                                                                                                           "
      ]
     },
     "execution_count": 21,
     "metadata": {},
     "output_type": "execute_result"
    }
   ],
   "source": [
    "history_table.table"
   ]
  },
  {
   "cell_type": "code",
   "execution_count": 49,
   "id": "14d8f150",
   "metadata": {
    "ExecuteTime": {
     "end_time": "2023-07-18T22:21:05.818138Z",
     "start_time": "2023-07-18T22:21:05.715788Z"
    }
   },
   "outputs": [],
   "source": [
    "history_table.table = history_table.table[\n",
    "    history_table.table.feedback.str.len() < len(base_text)\n",
    "]"
   ]
  },
  {
   "cell_type": "code",
   "execution_count": 31,
   "id": "1f5d72b6",
   "metadata": {
    "ExecuteTime": {
     "end_time": "2023-07-20T17:03:36.102016Z",
     "start_time": "2023-07-20T17:03:35.999900Z"
    },
    "scrolled": false
   },
   "outputs": [
    {
     "data": {
      "text/plain": [
       "{\"Close\\nSelect a Nearby Location\\n\\n\\n\\n\\n\\n\\n\\n\\n\\n0\\n\\t\\t\\t\\t\\t\\t\\tCar Rental Locations Found\\n\\n\\n\\nThere are no locations for this city. Please enter a new search or click here to browse for a location.\\n\\n\\n\\n\\n\\n\\n\\n\\n\\n\\n\\n\\n\\n\\n\\n\\n\\nPlease clarify your Budget location\\n\\n\\nWe Can't find the location. Please select from matches below or enter a new search.\\n\\nPossible Matches\",\n",
       " \"Close\\nSelect a Nearby Location\\n\\n\\n\\n\\n\\n\\n\\n\\n\\n43\\n\\t\\t\\t\\t\\t\\t\\tCar Rental Locations Found\\n\\n\\n\\n\\n\\n\\n\\n\\n1\\nUnion Station (Amtrak)\\n\\n\\n\\n0.5 miles away\\n\\nAddress: 800 N Alameda St, (Near Cesar Chavez Ave), Los Angeles, US\\n\\n\\nPhone:\\n\\t\\t\\t\\t\\t\\t\\t\\t\\t\\t(1) 213-617-2977\\n\\t\\t\\t\\t\\t\\t\\t\\t\\t\\n\\nLocation Type:\\nCorporate\\n\\n\\n\\nHours of Operation: Mon - Fri 8:00 AM - 5:00 PM; Sat 8:00 AM - 1:00 PM\\n\\t\\t\\t\\t\\t\\t\\t\\t\\t\\n\\nSelect This Location\\n\\n\\n\\n\\n\\n\\n2\\nThe Bloc Shopping Center\\n\\n\\n\\n0.9 miles away\\n\\nAddress: 700 W 7th St - Ste A200, (Inside The Bloc Garage), Los Angeles, US\\n\\n\\nPhone:\\n\\t\\t\\t\\t\\t\\t\\t\\t\\t\\t(1) 626-642-9622\\n\\t\\t\\t\\t\\t\\t\\t\\t\\t\\n\\nLocation Type:\\nCorporate\\n\\n\\n\\nHours of Operation: Mon - Fri 8:00 AM - 5:00 PM; Sat 8:00 AM - 1:00 PM\\n\\t\\t\\t\\t\\t\\t\\t\\t\\t\\n\\nSelect This Location\\n\\n\\n\\n\\n\\n\\n3\\nLos Angeles Downtown\\n\\n\\n\\n1.1 miles away\\n\\nAddress: 888 S Figueroa St - Ste 130, Los Angeles, US\\n\\n\\nPhone:\\n\\t\\t\\t\\t\\t\\t\\t\\t\\t\\t(1) 213-553-8867\\n\\t\\t\\t\\t\\t\\t\\t\\t\\t\\n\\nLocation Type:\\nCorporate\\n\\n\\n\\nHours of Operation: Sun 8:00 AM - 1:00 PM; Mon - Fri 8:00 AM - 5:00 PM; Sat 8:00 AM - 1:00 PM\\n\\t\\t\\t\\t\\t\\t\\t\\t\\t\\n\\nSelect This Location\\n\\n\\n\\n\\n\\n\\n4\\nLos Angeles-Arts District\\n\\n\\n\\n1.3 miles away\\n\\nAddress: 647 Mateo St, Los Angeles, US\\n\\n\\nPhone:\\n\\t\\t\\t\\t\\t\\t\\t\\t\\t\\t(1) \\t213-328-6380\\n\\t\\t\\t\\t\\t\\t\\t\\t\\t\\n\\nLocation Type:\\nCorporate\\n\\n\\n\\nHours of Operation: Sun 8:00 AM - 2:00 PM; Mon - Fri 7:00 AM - 5:00 PM; Sat 8:00 AM - 2:00 PM\\n\\t\\t\\t\\t\\t\\t\\t\\t\\t\\n\\nSelect This Location\\n\\n\\n\\n\\n\\n\\n1234\\n\\n\\n\\n\\n\\n\\n\\n\\n\\n\\nPlease clarify your Budget location\\n\\n\\nWe Can't find the location. Please select from matches below or enter a new search.\\n\\nPossible Matches\",\n",
       " \"Close\\nSelect a Nearby Location\\n\\n\\n\\n\\nLabelsRoadRoadA standard road mapAerialA detailed look from aboveBird's eyeA better angle of aerial photographyLabels2 miles5 km© 2023 TomTom, © 2023 Microsoft CorporationTerms\\n\\n\\n\\n\\n9\\n\\t\\t\\t\\t\\t\\t\\tCar Rental Locations Found\\n\\n\\n\\n\\n\\n\\n\\n\\n1\\nKastrup Downtown\\n\\n\\n\\n1.7 miles away\\n\\nAddress: Amager Landevej 106, Kastrup, DK\\n\\n\\nPhone:\\n\\t\\t\\t\\t\\t\\t\\t\\t\\t\\t(45) 32 52 39 00\\n\\t\\t\\t\\t\\t\\t\\t\\t\\t\\n\\n\\nHours of Operation: Mon - Fri 7:00 AM - 1:30 PM\\n\\t\\t\\t\\t\\t\\t\\t\\t\\t\\n\\nSelect This Location\\n\\n\\n\\n\\n\\n\\n2\\nCopenhagen Intl Airport\\n\\n\\n\\n2.8 miles away\\n\\nAddress: Lufthavnsboulevarden 2, Car Rental Centre, Kastrup, DK\\n\\n\\nPhone:\\n\\t\\t\\t\\t\\t\\t\\t\\t\\t\\t(45) 3328 6360\\n\\t\\t\\t\\t\\t\\t\\t\\t\\t\\n\\n\\nHours of Operation: Sun - Fri 7:00 AM - 11:00 PM; Sat 7:00 AM - 10:00 PM\\n\\t\\t\\t\\t\\t\\t\\t\\t\\t\\n\\nSelect This Location\\n\\n\\n\\n\\n\\n\\n3\\nCopenhagen Downtown\\n\\n\\n\\n3.3 miles away\\n\\nAddress: Kampmannsgade 1, Copenhagen V, DK\\n\\n\\nPhone:\\n\\t\\t\\t\\t\\t\\t\\t\\t\\t\\t(45) 7024 7707\\n\\t\\t\\t\\t\\t\\t\\t\\t\\t\\n\\n\\nHours of Operation: Sun 7:30 AM - 3:00 PM; Mon - Fri 7:00 AM - 6:00 PM; Sat 7:30 AM - 3:00 PM\\n\\t\\t\\t\\t\\t\\t\\t\\t\\t\\n\\nSelect This Location\\n\\n\\n\\n\\n\\n\\n4\\nKbh Van Center Co Viking\\n\\n\\n\\n8.7 miles away\\n\\nAddress: Valseholmen 5, Albertslund, DK\\n\\n\\nPhone:\\n\\t\\t\\t\\t\\t\\t\\t\\t\\t\\t(45) 33 28 64 60\\n\\t\\t\\t\\t\\t\\t\\t\\t\\t\\n\\n\\nHours of Operation: Sun 8:00 AM - 11:00 AM; Mon - Fri 7:00 AM - 5:00 PM; Sat 7:00 AM - 11:00 AM\\n\\t\\t\\t\\t\\t\\t\\t\\t\\t\\n\\nSelect This Location\\n\\n\\n\\n\\n\\n\\n123\\n\\n\\n\\n\\n\\n\\n\\n\\n\\n\\nPlease clarify your Budget location\\n\\n\\nWe Can't find the location. Please select from matches below or enter a new search.\\n\\nPossible Matches\",\n",
       " \"Close\\nSelect a Nearby Location\\n\\n\\n\\n\\nLabelsRoadRoadA standard road mapAerialA detailed look from aboveBird's eyeA better angle of aerial photographyLabels5 miles10 kmTerms\\n\\n\\n\\n\\n43\\n\\t\\t\\t\\t\\t\\t\\tCar Rental Locations Found\\n\\n\\n\\n\\n\\n\\n\\n\\n1\\nUnion Station (Amtrak)\\n\\n\\n\\n0.5 miles away\\n\\nAddress: 800 N Alameda St, (Near Cesar Chavez Ave), Los Angeles, US\\n\\n\\nPhone:\\n\\t\\t\\t\\t\\t\\t\\t\\t\\t\\t(1) 213-617-2977\\n\\t\\t\\t\\t\\t\\t\\t\\t\\t\\n\\nLocation Type:\\nCorporate\\n\\n\\n\\nHours of Operation: Mon - Fri 8:00 AM - 5:00 PM; Sat 8:00 AM - 1:00 PM\\n\\t\\t\\t\\t\\t\\t\\t\\t\\t\\n\\nSelect This Location\\n\\n\\n\\n\\n\\n\\n2\\nThe Bloc Shopping Center\\n\\n\\n\\n0.9 miles away\\n\\nAddress: 700 W 7th St - Ste A200, (Inside The Bloc Garage), Los Angeles, US\\n\\n\\nPhone:\\n\\t\\t\\t\\t\\t\\t\\t\\t\\t\\t(1) 626-642-9622\\n\\t\\t\\t\\t\\t\\t\\t\\t\\t\\n\\nLocation Type:\\nCorporate\\n\\n\\n\\nHours of Operation: Mon - Fri 8:00 AM - 5:00 PM; Sat 8:00 AM - 1:00 PM\\n\\t\\t\\t\\t\\t\\t\\t\\t\\t\\n\\nSelect This Location\\n\\n\\n\\n\\n\\n\\n3\\nLos Angeles Downtown\\n\\n\\n\\n1.1 miles away\\n\\nAddress: 888 S Figueroa St - Ste 130, Los Angeles, US\\n\\n\\nPhone:\\n\\t\\t\\t\\t\\t\\t\\t\\t\\t\\t(1) 213-553-8867\\n\\t\\t\\t\\t\\t\\t\\t\\t\\t\\n\\nLocation Type:\\nCorporate\\n\\n\\n\\nHours of Operation: Sun 8:00 AM - 1:00 PM; Mon - Fri 8:00 AM - 5:00 PM; Sat 8:00 AM - 1:00 PM\\n\\t\\t\\t\\t\\t\\t\\t\\t\\t\\n\\nSelect This Location\\n\\n\\n\\n\\n\\n\\n4\\nLos Angeles-Arts District\\n\\n\\n\\n1.3 miles away\\n\\nAddress: 647 Mateo St, Los Angeles, US\\n\\n\\nPhone:\\n\\t\\t\\t\\t\\t\\t\\t\\t\\t\\t(1) \\t213-328-6380\\n\\t\\t\\t\\t\\t\\t\\t\\t\\t\\n\\nLocation Type:\\nCorporate\\n\\n\\n\\nHours of Operation: Sun 8:00 AM - 2:00 PM; Mon - Fri 7:00 AM - 5:00 PM; Sat 8:00 AM - 2:00 PM\\n\\t\\t\\t\\t\\t\\t\\t\\t\\t\\n\\nSelect This Location\\n\\n\\n\\n\\n\\n\\n1234\\n\\n\\n\\n\\n\\n\\n\\n\\n\\n\\nPlease clarify your Budget location\\n\\n\\nWe Can't find the location. Please select from matches below or enter a new search.\\n\\nPossible Matches\",\n",
       " \"Close\\nSelect a Nearby Location\\n\\n\\n\\n\\nLabelsRoadRoadA standard road mapAerialA detailed look from aboveBird's eyeA better angle of aerial photographyLabels5 miles10 km© 2023 TomTom, © 2023 Microsoft CorporationTerms\\n\\n\\n\\n\\n43\\n\\t\\t\\t\\t\\t\\t\\tCar Rental Locations Found\\n\\n\\n\\n\\n\\n\\n\\n\\n1\\nUnion Station (Amtrak)\\n\\n\\n\\n0.5 miles away\\n\\nAddress: 800 N Alameda St, (Near Cesar Chavez Ave), Los Angeles, US\\n\\n\\nPhone:\\n\\t\\t\\t\\t\\t\\t\\t\\t\\t\\t(1) 213-617-2977\\n\\t\\t\\t\\t\\t\\t\\t\\t\\t\\n\\nLocation Type:\\nCorporate\\n\\n\\n\\nHours of Operation: Mon - Fri 8:00 AM - 5:00 PM; Sat 8:00 AM - 1:00 PM\\n\\t\\t\\t\\t\\t\\t\\t\\t\\t\\n\\nSelect This Location\\n\\n\\n\\n\\n\\n\\n2\\nThe Bloc Shopping Center\\n\\n\\n\\n0.9 miles away\\n\\nAddress: 700 W 7th St - Ste A200, (Inside The Bloc Garage), Los Angeles, US\\n\\n\\nPhone:\\n\\t\\t\\t\\t\\t\\t\\t\\t\\t\\t(1) 626-642-9622\\n\\t\\t\\t\\t\\t\\t\\t\\t\\t\\n\\nLocation Type:\\nCorporate\\n\\n\\n\\nHours of Operation: Mon - Fri 8:00 AM - 5:00 PM; Sat 8:00 AM - 1:00 PM\\n\\t\\t\\t\\t\\t\\t\\t\\t\\t\\n\\nSelect This Location\\n\\n\\n\\n\\n\\n\\n3\\nLos Angeles Downtown\\n\\n\\n\\n1.1 miles away\\n\\nAddress: 888 S Figueroa St - Ste 130, Los Angeles, US\\n\\n\\nPhone:\\n\\t\\t\\t\\t\\t\\t\\t\\t\\t\\t(1) 213-553-8867\\n\\t\\t\\t\\t\\t\\t\\t\\t\\t\\n\\nLocation Type:\\nCorporate\\n\\n\\n\\nHours of Operation: Sun 8:00 AM - 1:00 PM; Mon - Fri 8:00 AM - 5:00 PM; Sat 8:00 AM - 1:00 PM\\n\\t\\t\\t\\t\\t\\t\\t\\t\\t\\n\\nSelect This Location\\n\\n\\n\\n\\n\\n\\n4\\nLos Angeles-Arts District\\n\\n\\n\\n1.3 miles away\\n\\nAddress: 647 Mateo St, Los Angeles, US\\n\\n\\nPhone:\\n\\t\\t\\t\\t\\t\\t\\t\\t\\t\\t(1) \\t213-328-6380\\n\\t\\t\\t\\t\\t\\t\\t\\t\\t\\n\\nLocation Type:\\nCorporate\\n\\n\\n\\nHours of Operation: Sun 8:00 AM - 2:00 PM; Mon - Fri 7:00 AM - 5:00 PM; Sat 8:00 AM - 2:00 PM\\n\\t\\t\\t\\t\\t\\t\\t\\t\\t\\n\\nSelect This Location\\n\\n\\n\\n\\n\\n\\n1234\\n\\n\\n\\n\\n\\n\\n\\n\\n\\n\\nPlease clarify your Budget location\\n\\n\\nWe Can't find the location. Please select from matches below or enter a new search.\\n\\nPossible Matches\",\n",
       " 'Connection Failed or Some Error occurred.\\n\\n\\n\\n\\nOK',\n",
       " \"Keydrop Location\\n\\n\\n\\n\\n\\n\\n\\n\\n\\n\\n\\n\\n\\n\\n\\nKey Drop\\nDrop your car off whenever you like -even after hours.\\n\\n\\n\\n\\n\\n\\n\\nHow It Works\\n\\nCustomer can fill out contract & drop keys inside the drop box located at the location.\\nLock the vehicle and place the keys and contract in the key drop box. The box is labeled Avis Budget After Hours Return.\\nDon't forget to remove all your belongings from the vehicle prior to returning the keys.\\n\\n\\n\\n \\n\\n\\n\\n\\n\\n\\t\\t\\t\\t\\t\\t\\t\\t\\tView Terms and Conditions\\n\\n\\t\\t\\t\\t\\t\\t\\t\\t\\tTerms and Conditions\\n\\n\\n\\n\\n\\n\\nIf you fail to return the vehicle as agreed, Budget will obtain additional authentications from your account to cover the rental charges. Budget is not responsible for any returned checks or over-drafts based on this policy. Positive identification in addition to your driver's license may be required.\\nIn the United States, Debit, Cash or Check cards can be used at the end for payment of rental charges. For acceptable credit identification and payment methods in countries outside of the United States, please consult the Rental's Guide and search for the specific location.   Based on this policy, positive identification in addition to your driver's license may be required.\",\n",
       " 'Please enter a',\n",
       " 'Please enter a valid',\n",
       " 'Please enter valid',\n",
       " 'Privacy Preference CenterWhen you visit any website, it may store or retrieve information on your browser, mostly in the form of cookies. This information might be about you, your preferences or your device and is mostly used to make the site work as you expect it to. The information does not usually directly identify you, but it can give you a more personalized web experience. Because we respect your right to privacy, you can choose not to allow some types of cookies. Click on the different category headings to find out more and change our default settings. However, blocking some types of cookies may impact your experience of the site and the services we are able to offer.\\n            More informationAllow All Manage Consent PreferencesTargeting Cookies  Targeting Cookies These cookies may be set through our site by our advertising partners. They may be used by those companies to build a profile of your interests and show you relevant adverts on other sites. \\xa0 \\xa0They do not store directly personal information, but are based on uniquely identifying your browser and internet device. If you do not allow these cookies, you will experience less targeted advertising.Strictly Necessary CookiesAlways ActiveThese cookies are necessary for the website to function and cannot be switched off in our systems. They are usually only set in response to actions made by you which amount to a request for services, such as setting your privacy preferences, logging in or filling in forms. \\xa0 \\xa0You can set your browser to block or alert you about these cookies, but some parts of the site will not then work. These cookies do not store any personally identifiable information.Performance Cookies  Performance Cookies These cookies allow us to count visits and traffic sources so we can measure and improve the performance of our site. They help us to know which pages are the most and least popular and see how visitors move around the site. \\xa0 \\xa0All information these cookies collect is aggregated and therefore anonymous. If you do not allow these cookies we will not know when you have visited our site, and will not be able to monitor its performance.Back ButtonCookie List Search IconFilter IconClear checkbox label labelApply CancelConsent Leg.Interest checkbox label label checkbox label label checkbox label label Confirm My Choices',\n",
       " 'This should be date format',\n",
       " 'We and our partners use cookies and other technologies to collect your information and interactions so that we can improve your experience (see ourPrivacy Policy andTerms of Use).Your Privacy Choices Accept All Cookies',\n",
       " \"errors.invalid_concur_awd,budget\\n\\n\\n\\n\\n\\n\\n\\n\\n\\n\\n\\nPick-up and Return to same location\\n\\n\\n    Searching... Please revise your search or click here to browse for a location    Keep typing to refine search \\n\\n\\n\\n\\n\\n\\n\\n...\\nPick-up Date\\n\\n\\nmidnight12:30 AM1:00 AM1:30 AM2:00 AM2:30 AM3:00 AM3:30 AM4:00 AM4:30 AM5:00 AM5:30 AM6:00 AM6:30 AM7:00 AM7:30 AM8:00 AM8:30 AM9:00 AM9:30 AM10:00 AM10:30 AM11:00 AM11:30 AMnoon12:30 PM1:00 PM1:30 PM2:00 PM2:30 PM3:00 PM3:30 PM4:00 PM4:30 PM5:00 PM5:30 PM6:00 PM6:30 PM7:00 PM7:30 PM8:00 PM8:30 PM9:00 PM9:30 PM10:00 PM10:30 PM11:00 PM11:30 PM\\nPick-up Time\\n\\n\\n\\n\\n\\n\\n\\n\\n\\n    Searching... Please revise your search or click here to browse for a location    Keep typing to refine search \\n\\n\\n\\n\\n\\n\\n...\\nReturn Date\\n\\n\\nmidnight12:30 AM1:00 AM1:30 AM2:00 AM2:30 AM3:00 AM3:30 AM4:00 AM4:30 AM5:00 AM5:30 AM6:00 AM6:30 AM7:00 AM7:30 AM8:00 AM8:30 AM9:00 AM9:30 AM10:00 AM10:30 AM11:00 AM11:30 AMnoon12:30 PM1:00 PM1:30 PM2:00 PM2:30 PM3:00 PM3:30 PM4:00 PM4:30 PM5:00 PM5:30 PM6:00 PM6:30 PM7:00 PM7:30 PM8:00 PM8:30 PM9:00 PM9:30 PM10:00 PM10:30 PM11:00 PM11:30 PM\\nReturn Time\\n\\n\\n\\n\\n\\n\\n\\n\\n\\n\\n\\n\\n\\n\\nRenter's age is 25 or over\\n\\n\\n\\n25+24232221201918\\nAge\\n\\n\\nAfghanistanAlbaniaAlgeriaAndorraAngolaAnguillaAntigua & BarbudaArgentinaArmeniaArubaAustraliaAustriaAzerbaijanBahamasBahrainBangladeshBarbadosBelarusBelgiumBelizeBenin\\nBermudaBhutanBoliviaBonaireBosnia & HerzegovinaBotswanaBrazilBruneiBulgariaBurkina FasoBurundiCambodiaCameroonCanadaCape VerdeCayman IslandsCentral African RepublicChadChagos IslandsChileChinaColombiaComoresCongo,Dem Republic of theCongo,Republic of the Cook IslandsCosta RicaCôte d'IvoireCroatiaCubaCyprusCzech RepublicDenmarkDjiboutiDominicaDominican RepublicEcuadorEgyptEl SalvadorEquatorial GuineaEstoniaEthiopiaFalkland IslandsFaroe IslandsFijiFinlandFranceFrench GuianaFrench PolynesiaGabonGambiaGeorgiaGermanyGhanaGibraltarGreeceGreenlandGrenadaGuadeloupeGuamGuatemalaGuineaGuinea-BissauGuyanaHaitiHondurasHong KongHungaryIcelandIndiaIndonesiaIranIraqIrelandIsle of ManIsraelItalyJamaicaJapanJordanKazakhstanKenyaKiribatiKorea, Dem People's Rep ofKorea, Rep ofKuwaitKyrgyzstanLaosLatviaLebanonLeichtensteinLesothoLiberiaLibyan Arab JamahiriyaLithuaniaLuxembourgMacauMacedonia (FYROM)MadagascarMalawiMalaysiaMaldivesMaliMaltaMariana IslandsMarshall IslandsMartiniqueMauritaniaMauritiusMayotteMexicoMicronesia, Federated States ofMoldova, Republic ofMonacoMongoliaMontenegroMontserratMoroccoMozambiqueMyanmarNamibiaNauruNepalNetherlandsNetherlands AntillesNew CaledoniaNew ZealandNicaraguaNigerNigeriaNiueNorfolk IslandsNorthern Mariana IslandsNorwayOmanPakistanPalauPalestinian TerritoriesPanamaPapua New GuineaParaguayPeruPhilippinesPolandPortugalPuerto RicoQatarRéunionRomaniaRussian FederationRwandaSaint BarthélemySaint Kitts & NevisSaint LuciaSaint-MartinSaint Pierre & Miquelon Saint Vincent & the GrenadinesSamoaSan MarinoSão Tomé & PríncipeSaudi ArabiaSenegalSerbiaSeychellesSierra LeoneSingaporeSlovakia\\nSloveniaSolomon IslandsSomaliaSouth AfricaSpainSri LankaSt. MaartenSudanSurinameSwazilandSwedenSwitzerlandSyrian Arab RepublicTaiwanTajikistanTanzaniaThailandTimor-LesteTogoTongaTrinidad & TobagoTunisiaTurkeyTurks & CaicosTuvaluU.S.A.U.S. Virgin Islands (St. Croix)U.S. Virgin Islands (St. Thomas)UgandaUkraineUnited Arab EmiratesUnited KingdomUruguayUzbekistanVanuatuVenezuelaVietnamVirgin Islands, BritishVirgin Islands, USYemenZambiaZimbabwe\\n I live in\\n\\n\\n\\n I have a discount code \\n\\n\\n\\n\\n\\n\\n\\n\\n\\n\\n\\n\\n\\n\\n\\n\\n\\n\\n\\n\\n\\n\\nQuantity\\n                             \\n\\n\\n\\n\\n\\n\\n\\n\\n\\n\\nMember Rates\\nAARPNone\\n\\n\\n\\n\\n\\n\\n\\n\\n\\n\\n\\n\\n\\n\\n\\n\\n\\n\\n\\nWe could not find a match for your search. Please try using only a city, ZIP or Airport code. Click here to browse for a location\\n\\n\\n\\n                        \\tYour discount code is invalid,  Learn Why? \\n\\n\\n\\t\\t\\t\\t\\t\\t\\tYour discount code is invalid,   Learn Why? \\n\\n\\n\\n\\n\\n\\n\\n\\nSelect My Car\"}"
      ]
     },
     "execution_count": 31,
     "metadata": {},
     "output_type": "execute_result"
    }
   ],
   "source": [
    "set('FEEDBACK-DELIMITER'.join(history_table.table.feedback).split('FEEDBACK-DELIMITER'))"
   ]
  },
  {
   "cell_type": "code",
   "execution_count": 34,
   "id": "da60119c",
   "metadata": {
    "ExecuteTime": {
     "end_time": "2023-07-17T23:24:04.747062Z",
     "start_time": "2023-07-17T23:24:04.640550Z"
    }
   },
   "outputs": [
    {
     "data": {
      "text/plain": [
       "7"
      ]
     },
     "execution_count": 34,
     "metadata": {},
     "output_type": "execute_result"
    }
   ],
   "source": [
    "len(set('FEEDBACK-DELIMITER'.join(history_table.table.feedback).split('FEEDBACK-DELIMITER')))"
   ]
  },
  {
   "cell_type": "code",
   "execution_count": 23,
   "id": "ff37cba2",
   "metadata": {
    "ExecuteTime": {
     "end_time": "2023-07-17T17:58:27.036937Z",
     "start_time": "2023-07-17T17:58:26.955170Z"
    }
   },
   "outputs": [],
   "source": [
    "history_table.to_test_case('aoc-multitrip.py')"
   ]
  },
  {
   "cell_type": "code",
   "execution_count": null,
   "id": "d6aaa376",
   "metadata": {},
   "outputs": [],
   "source": []
  },
  {
   "cell_type": "code",
   "execution_count": null,
   "id": "08dc4065",
   "metadata": {},
   "outputs": [],
   "source": []
  },
  {
   "cell_type": "code",
   "execution_count": null,
   "id": "ae2c77b3",
   "metadata": {},
   "outputs": [],
   "source": []
  },
  {
   "cell_type": "code",
   "execution_count": null,
   "id": "34a4b039",
   "metadata": {},
   "outputs": [],
   "source": []
  },
  {
   "cell_type": "code",
   "execution_count": null,
   "id": "4a422142",
   "metadata": {},
   "outputs": [],
   "source": []
  },
  {
   "cell_type": "code",
   "execution_count": null,
   "id": "816c374d",
   "metadata": {},
   "outputs": [],
   "source": []
  },
  {
   "cell_type": "code",
   "execution_count": null,
   "id": "f58d0658",
   "metadata": {},
   "outputs": [],
   "source": []
  },
  {
   "cell_type": "code",
   "execution_count": null,
   "id": "6571ddfc",
   "metadata": {},
   "outputs": [],
   "source": [
    "load_dotenv()\n",
    "openai.api_key = os.getenv(\"OPENAI_API_KEY\")\n",
    "\n",
    "# Global Variables\n",
    "HEADLESS = False\n",
    "TEXT_EMBEDDING_METHOD = 'ADA' # ['ADA', 'WORD2VEC', 'SPACY']\n",
    "GRAPH_EMBEDDING_METHOD = 'NODE2VEC' # ['NODE2VEC', 'GCN']\n",
    "\n",
    "URL = 'https://www.aircanada.com/ca/en/aco/home.html'\n",
    "# 'https://www.uhaul.com/Truck-Rentals/'\n",
    "# 'https://www.united.com/en/us'\n",
    "# 'http://localhost:8080/1/common/items/create'\n",
    "# 'http://localhost:3000/default-channel/en-US/account/register/'\n",
    "# 'http://localhost:9000/dashboard/customers/add'\n",
    "# 'http://localhost:8080/'\n",
    "# 'https://www.mbta.com/'\n",
    "# 'https://www.ups.com/ca/en/Home.page'\n",
    "# 'https://www.healthgrades.com/find-a-doctor'\n",
    "# 'https://www.babycenter.com/child-height-predictor'\n",
    "# 'https://www.babycenter.com/pregnancy-weight-gain-estimator'\n",
    "# 'https://www.yelp.com/'\n",
    "# 'https://app.invoicing.co/#/register'\n",
    "# 'http://localhost:9000/dashboard/discounts/sales/add'\n",
    "\n",
    "\n",
    "def get_to_form(driver):\n",
    "    try:\n",
    "        driver.get(URL)\n",
    "    except:\n",
    "        print('timeout')\n",
    "    \n",
    "    '''\n",
    "    # Akaunting\n",
    "    try:\n",
    "        time.sleep(2)\n",
    "        WebDriverWait(driver, 10).until(\n",
    "            EC.presence_of_element_located((\n",
    "                By.ID,\n",
    "                'email')\n",
    "            )\n",
    "        ).send_keys('me@company.com')\n",
    "        WebDriverWait(driver, 10).until(\n",
    "            EC.presence_of_element_located((\n",
    "                By.ID,\n",
    "                'password')\n",
    "            )\n",
    "        ).send_keys('password')\n",
    "        WebDriverWait(driver, 10).until(\n",
    "            EC.presence_of_element_located((\n",
    "                By.XPATH,\n",
    "                '//*[@type=\"submit\"]')\n",
    "            )\n",
    "        ).click()\n",
    "    except:\n",
    "        pass\n",
    "    '''\n",
    "    \n",
    "    '''\n",
    "    # Saleor\n",
    "    try:\n",
    "        time.sleep(2)\n",
    "        WebDriverWait(driver, 10).until(\n",
    "            EC.presence_of_element_located((\n",
    "                By.XPATH,\n",
    "                '//BODY/DIV[1]/MAIN[1]/DIV[1]/DIV[1]/DIV[1]/FORM[1]/DIV[2]/DIV[1]/INPUT[1]')\n",
    "            )\n",
    "        ).send_keys('admin@example.com')\n",
    "        WebDriverWait(driver, 10).until(\n",
    "            EC.presence_of_element_located((\n",
    "                By.XPATH,\n",
    "                '//BODY/DIV[1]/MAIN[1]/DIV[1]/DIV[1]/DIV[1]/FORM[1]/DIV[4]/DIV[1]/DIV[1]/INPUT[1]')\n",
    "            )\n",
    "        ).send_keys('admin')\n",
    "        WebDriverWait(driver, 10).until(\n",
    "            EC.presence_of_element_located((\n",
    "                By.XPATH,\n",
    "                '//BODY/DIV[1]/MAIN[1]/DIV[1]/DIV[1]/DIV[1]/FORM[1]/DIV[5]/BUTTON[1]')\n",
    "            )\n",
    "        ).click()\n",
    "    except:\n",
    "        pass\n",
    "    '''\n",
    "    \n",
    "    '''\n",
    "    # Pet Clinic - Add Owner\n",
    "    time.sleep(2)\n",
    "    WebDriverWait(driver, 10).until(\n",
    "        EC.presence_of_element_located((\n",
    "            By.XPATH,\n",
    "            '//BODY/APP-ROOT[1]/DIV[1]/NAV[1]/DIV[1]/UL[1]/LI[2]')\n",
    "        )\n",
    "    ).click()\n",
    "    WebDriverWait(driver, 10).until(\n",
    "        EC.presence_of_element_located((\n",
    "            By.XPATH,\n",
    "            '//BODY/APP-ROOT[1]/DIV[1]/NAV[1]/DIV[1]/UL[1]/LI[2]/UL[1]/LI[2]')\n",
    "        )\n",
    "    ).click()\n",
    "    '''\n",
    "    \n",
    "    '''\n",
    "    time.sleep(2)\n",
    "    WebDriverWait(driver, 10).until(\n",
    "        EC.presence_of_element_located((\n",
    "            By.XPATH,\n",
    "            '//BODY/DIV[1]/DIV[2]/MAIN[1]/DIV[1]/DIV[1]/DIV[1]/DIV[2]/A[1]/SPAN[2]')\n",
    "        )\n",
    "    ).click()\n",
    "    '''\n",
    "    \n",
    "    '''\n",
    "    # UPS - Quote\n",
    "    time.sleep(2)\n",
    "    WebDriverWait(driver, 10).until(\n",
    "        EC.presence_of_element_located((By.ID, 'tabs_0_tab_1'))\n",
    "    ).click()\n",
    "    '''\n",
    "    \n",
    "    \n",
    "    '''\n",
    "    # Budget - Reservation\n",
    "    WebDriverWait(driver, 5).until(\n",
    "        EC.presence_of_element_located((By.ID, 'PicLoc_value'))\n",
    "    ).click()\n",
    "    '''\n",
    "    \n",
    "    \n",
    "    '''\n",
    "    # AC - My Bookings\n",
    "    time.sleep(2)\n",
    "    WebDriverWait(driver, 5).until(\n",
    "        EC.presence_of_element_located((By.ID, 'bkmg-tab-button-mngBook'))\n",
    "    ).click()\n",
    "    '''\n",
    "    \n",
    "    '''\n",
    "    # AC - Multi-city\n",
    "    time.sleep(2)\n",
    "    WebDriverWait(driver, 5).until(\n",
    "        EC.presence_of_element_located((By.ID, 'bkmgFlights_tripTypeSelector_M'))\n",
    "    ).click()\n",
    "    '''\n",
    "    \n",
    "    '''\n",
    "    # Saleor\n",
    "    try:\n",
    "        time.sleep(2)\n",
    "        WebDriverWait(driver, 10).until(\n",
    "            EC.presence_of_element_located((\n",
    "                By.XPATH,\n",
    "                '//BODY/DIV[1]/MAIN[1]/DIV[1]/DIV[1]/DIV[1]/FORM[1]/DIV[2]/DIV[1]/INPUT[1]')\n",
    "            )\n",
    "        ).send_keys('admin@example.com')\n",
    "        WebDriverWait(driver, 10).until(\n",
    "            EC.presence_of_element_located((\n",
    "                By.XPATH,\n",
    "                '//BODY/DIV[1]/MAIN[1]/DIV[1]/DIV[1]/DIV[1]/FORM[1]/DIV[4]/DIV[1]/DIV[1]/INPUT[1]')\n",
    "            )\n",
    "        ).send_keys('admin')\n",
    "        WebDriverWait(driver, 10).until(\n",
    "            EC.presence_of_element_located((\n",
    "                By.XPATH,\n",
    "                '//BODY/DIV[1]/MAIN[1]/DIV[1]/DIV[1]/DIV[1]/FORM[1]/DIV[5]/BUTTON[1]')\n",
    "            )\n",
    "        ).click()\n",
    "    except:\n",
    "        pass\n",
    "    \n",
    "    WebDriverWait(driver, 10).until(\n",
    "        EC.presence_of_element_located((\n",
    "            By.XPATH,\n",
    "            '//BODY/DIV[1]/MAIN[1]/DIV[1]/DIV[2]/MAIN[1]/FORM[1]/DIV[1]/DIV[2]/DIV[4]/DIV[2]/LABEL[1]/SPAN[1]/SPAN[1]/INPUT[1]')\n",
    "        )\n",
    "    ).click()\n",
    "    '''\n",
    "\n",
    "    '''\n",
    "    time.sleep(2)\n",
    "    WebDriverWait(driver, 10).until(\n",
    "        EC.presence_of_element_located((\n",
    "            By.XPATH,\n",
    "            '//BODY/DIV[1]/DIV[2]/MAIN[1]/DIV[1]/DIV[1]/DIV[1]/DIV[2]')\n",
    "        )\n",
    "    ).click()\n",
    "    '''\n",
    "\n",
    "'''\n",
    "def find_form():\n",
    "    return WebDriverWait(driver, 10).until(\n",
    "        EC.presence_of_element_located((\n",
    "            By.XPATH,\n",
    "            '//BODY/MAIN[1]/DIV[1]/DIV[1]/DIV[1]/DIV[1]/DIV[1]/FORM[1]'\n",
    "        ))\n",
    "    )\n",
    "\n",
    "def find_button():\n",
    "    \n",
    "    return find_form().find_element(\n",
    "        By.XPATH,\n",
    "        '//BODY/DIV[1]/DIV[3]/DIV[1]/DIV[1]/DIV[1]/DIV[2]/DIV[1]/DIV[1]/DIV[1]/DIV[1]/DIV[2]/DIV[1]/SHIPPING-QUOTE-WIDGET[1]/DIV[1]/FORM[1]/SQWA-SHIPMENT-INFORMATION[1]/BUTTON[1]'\n",
    "    )\n",
    "    \n",
    "    # return driver.find_elements(By.TAG_NAME, 'button')[10]\n",
    "    return None\n",
    "'''"
   ]
  }
 ],
 "metadata": {
  "kernelspec": {
   "display_name": "Python 3 (ipykernel)",
   "language": "python",
   "name": "python3"
  },
  "language_info": {
   "codemirror_mode": {
    "name": "ipython",
    "version": 3
   },
   "file_extension": ".py",
   "mimetype": "text/x-python",
   "name": "python",
   "nbconvert_exporter": "python",
   "pygments_lexer": "ipython3",
   "version": "3.10.9"
  },
  "toc": {
   "base_numbering": 1,
   "nav_menu": {},
   "number_sections": true,
   "sideBar": true,
   "skip_h1_title": false,
   "title_cell": "Table of Contents",
   "title_sidebar": "Contents",
   "toc_cell": false,
   "toc_position": {},
   "toc_section_display": true,
   "toc_window_display": false
  },
  "varInspector": {
   "cols": {
    "lenName": 16,
    "lenType": 16,
    "lenVar": 40
   },
   "kernels_config": {
    "python": {
     "delete_cmd_postfix": "",
     "delete_cmd_prefix": "del ",
     "library": "var_list.py",
     "varRefreshCmd": "print(var_dic_list())"
    },
    "r": {
     "delete_cmd_postfix": ") ",
     "delete_cmd_prefix": "rm(",
     "library": "var_list.r",
     "varRefreshCmd": "cat(var_dic_list()) "
    }
   },
   "types_to_exclude": [
    "module",
    "function",
    "builtin_function_or_method",
    "instance",
    "_Feature"
   ],
   "window_display": false
  }
 },
 "nbformat": 4,
 "nbformat_minor": 5
}
