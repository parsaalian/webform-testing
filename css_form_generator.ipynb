{
 "cells": [
  {
   "cell_type": "code",
   "execution_count": 26,
   "id": "b635faf8",
   "metadata": {
    "ExecuteTime": {
     "end_time": "2023-02-10T02:36:10.442581Z",
     "start_time": "2023-02-10T02:36:10.440278Z"
    }
   },
   "outputs": [],
   "source": [
    "import itertools\n",
    "import numpy as np\n",
    "from math import ceil"
   ]
  },
  {
   "cell_type": "code",
   "execution_count": null,
   "id": "b931a8ed",
   "metadata": {},
   "outputs": [],
   "source": [
    "# https://getbootstrap.com/docs/5.3/forms/layout/\n",
    "# https://bulma.io/documentation/form/general/\n",
    "# https://get.foundation/sites/docs/forms.html\n",
    "# https://getuikit.com/docs/form\n",
    "# https://primer.style/css/components/forms\n",
    "# https://fomantic-ui.com/collections/form.html\n",
    "# https://m3.material.io/components/text-fields/overview\n",
    "# https://ant.design/components/form"
   ]
  },
  {
   "cell_type": "markdown",
   "id": "0380d799",
   "metadata": {},
   "source": [
    "# Bootstrap"
   ]
  },
  {
   "cell_type": "code",
   "execution_count": 17,
   "id": "b25b51bd",
   "metadata": {
    "ExecuteTime": {
     "end_time": "2023-02-10T02:29:49.596217Z",
     "start_time": "2023-02-10T02:29:49.591626Z"
    }
   },
   "outputs": [],
   "source": [
    "spacing_sides = ['', 't', 'b', 's', 'e', 'x', 'y']\n",
    "spacing_sizes = ['0', '1', '2', '3', '4', '5', 'auto']\n",
    "\n",
    "# you can add negative margin/padding by adding 'n' behind spacing size\n",
    "# https://getbootstrap.com/docs/5.3/utilities/spacing/\n",
    "\n",
    "margins = list(map(\n",
    "    lambda x: 'm{0}-{1}'.format(*x),\n",
    "    [element for element in itertools.product(*[\n",
    "        spacing_sides,\n",
    "        spacing_sizes\n",
    "    ])]\n",
    "))\n",
    "paddings = list(map(\n",
    "    lambda x: 'p{0}-{1}'.format(*x),\n",
    "    [element for element in itertools.product(*[\n",
    "        spacing_sides,\n",
    "        spacing_sizes\n",
    "    ])]\n",
    "))"
   ]
  },
  {
   "cell_type": "code",
   "execution_count": 20,
   "id": "a52d6fa9",
   "metadata": {
    "ExecuteTime": {
     "end_time": "2023-02-10T02:32:31.990572Z",
     "start_time": "2023-02-10T02:32:31.986763Z"
    }
   },
   "outputs": [],
   "source": [
    "gutter_sides = ['', 'x', 'y']\n",
    "gutter_sizes = ['0', '1', '2', '3', '4', '5']\n",
    "\n",
    "gutters = list(map(\n",
    "    lambda x: 'g{0}-{1}'.format(*x),\n",
    "    [element for element in itertools.product(*[\n",
    "        gutter_sides,\n",
    "        gutter_sizes\n",
    "    ])]\n",
    "))"
   ]
  },
  {
   "cell_type": "code",
   "execution_count": 72,
   "id": "89d81406",
   "metadata": {
    "ExecuteTime": {
     "end_time": "2023-02-10T02:39:08.307355Z",
     "start_time": "2023-02-10T02:39:08.303497Z"
    }
   },
   "outputs": [],
   "source": [
    "def split_into_columns(input_count):\n",
    "    rows = []\n",
    "    left = input_count\n",
    "    while True:\n",
    "        row_count = min(ceil(abs(np.random.normal(0, 2))), 12)\n",
    "        if row_count >= left:\n",
    "            rows.append(left)\n",
    "            break\n",
    "        rows.append(row_count)\n",
    "        left -= row_count\n",
    "    return rows"
   ]
  },
  {
   "cell_type": "code",
   "execution_count": 73,
   "id": "ca90baf3",
   "metadata": {
    "ExecuteTime": {
     "end_time": "2023-02-10T02:39:08.493716Z",
     "start_time": "2023-02-10T02:39:08.490344Z"
    }
   },
   "outputs": [
    {
     "data": {
      "text/plain": [
       "[3, 3, 1, 2, 1]"
      ]
     },
     "execution_count": 73,
     "metadata": {},
     "output_type": "execute_result"
    }
   ],
   "source": [
    "split_into_columns(10)"
   ]
  },
  {
   "cell_type": "code",
   "execution_count": null,
   "id": "f8a3f33d",
   "metadata": {},
   "outputs": [],
   "source": [
    "input_types = ['input', 'textarea', 'select', 'checkbox', 'range', 'input-group']\n",
    "plain_input_types = ['text', 'email', 'password', 'file', ]"
   ]
  }
 ],
 "metadata": {
  "kernelspec": {
   "display_name": "Python 3",
   "language": "python",
   "name": "python3"
  },
  "language_info": {
   "codemirror_mode": {
    "name": "ipython",
    "version": 3
   },
   "file_extension": ".py",
   "mimetype": "text/x-python",
   "name": "python",
   "nbconvert_exporter": "python",
   "pygments_lexer": "ipython3",
   "version": "3.9.7"
  },
  "varInspector": {
   "cols": {
    "lenName": 16,
    "lenType": 16,
    "lenVar": 40
   },
   "kernels_config": {
    "python": {
     "delete_cmd_postfix": "",
     "delete_cmd_prefix": "del ",
     "library": "var_list.py",
     "varRefreshCmd": "print(var_dic_list())"
    },
    "r": {
     "delete_cmd_postfix": ") ",
     "delete_cmd_prefix": "rm(",
     "library": "var_list.r",
     "varRefreshCmd": "cat(var_dic_list()) "
    }
   },
   "types_to_exclude": [
    "module",
    "function",
    "builtin_function_or_method",
    "instance",
    "_Feature"
   ],
   "window_display": false
  }
 },
 "nbformat": 4,
 "nbformat_minor": 5
}
