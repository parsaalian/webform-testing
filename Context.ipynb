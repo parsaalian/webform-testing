{
 "cells": [
  {
   "cell_type": "code",
   "execution_count": 1,
   "id": "2e169ac5",
   "metadata": {
    "ExecuteTime": {
     "end_time": "2023-02-02T02:31:11.296983Z",
     "start_time": "2023-02-02T02:31:10.743857Z"
    }
   },
   "outputs": [],
   "source": [
    "import os\n",
    "import openai\n",
    "from dotenv import load_dotenv\n",
    "from bs4 import BeautifulSoup as bs\n",
    "from selenium import webdriver\n",
    "from selenium.webdriver.common.by import By"
   ]
  },
  {
   "cell_type": "code",
   "execution_count": 2,
   "id": "eef5ff48",
   "metadata": {
    "ExecuteTime": {
     "end_time": "2023-02-02T02:31:11.810833Z",
     "start_time": "2023-02-02T02:31:11.807484Z"
    }
   },
   "outputs": [],
   "source": [
    "load_dotenv()\n",
    "openai.api_key = os.getenv(\"OPENAI_API_KEY\")"
   ]
  },
  {
   "cell_type": "code",
   "execution_count": 3,
   "id": "5924cc85",
   "metadata": {
    "ExecuteTime": {
     "end_time": "2023-02-02T02:31:14.561149Z",
     "start_time": "2023-02-02T02:31:12.551690Z"
    }
   },
   "outputs": [],
   "source": [
    "driver = webdriver.Chrome('drivers/chromedriver108')"
   ]
  },
  {
   "cell_type": "markdown",
   "id": "abf60038",
   "metadata": {},
   "source": [
    "# Global Context"
   ]
  },
  {
   "cell_type": "code",
   "execution_count": 4,
   "id": "8f9eab70",
   "metadata": {
    "ExecuteTime": {
     "end_time": "2023-02-02T02:31:16.453258Z",
     "start_time": "2023-02-02T02:31:16.450939Z"
    }
   },
   "outputs": [],
   "source": [
    "base = 'https://demo.saleor.io/default-channel/en-US/'"
   ]
  },
  {
   "cell_type": "code",
   "execution_count": 5,
   "id": "b5407c57",
   "metadata": {
    "ExecuteTime": {
     "end_time": "2023-02-02T02:31:17.972626Z",
     "start_time": "2023-02-02T02:31:17.102770Z"
    }
   },
   "outputs": [],
   "source": [
    "driver.get(base)"
   ]
  },
  {
   "cell_type": "code",
   "execution_count": 6,
   "id": "ae9cee75",
   "metadata": {
    "ExecuteTime": {
     "end_time": "2023-02-02T02:31:18.613939Z",
     "start_time": "2023-02-02T02:31:18.581663Z"
    }
   },
   "outputs": [],
   "source": [
    "doc = bs(driver.find_element(By.TAG_NAME, 'html').get_attribute('innerHTML'), 'html.parser')"
   ]
  },
  {
   "cell_type": "code",
   "execution_count": 7,
   "id": "1340142d",
   "metadata": {
    "ExecuteTime": {
     "end_time": "2023-02-02T02:31:19.137487Z",
     "start_time": "2023-02-02T02:31:19.134577Z"
    }
   },
   "outputs": [],
   "source": [
    "title = str(doc.head.title) + '\\n'\n",
    "metas = '\\n'.join(list(map(lambda x: str(x), doc.head.find_all('meta'))))\n",
    "head_string = title + metas"
   ]
  },
  {
   "cell_type": "code",
   "execution_count": 8,
   "id": "aae5ecff",
   "metadata": {
    "ExecuteTime": {
     "end_time": "2023-02-02T02:31:19.783234Z",
     "start_time": "2023-02-02T02:31:19.780732Z"
    }
   },
   "outputs": [],
   "source": [
    "category_prompt = '''The following text is the url and content of head tag of a website.\n",
    "url: {0}\n",
    "head: {1}\n",
    "The website category is:'''.format(base, head_string)"
   ]
  },
  {
   "cell_type": "code",
   "execution_count": 9,
   "id": "b9b3642e",
   "metadata": {
    "ExecuteTime": {
     "end_time": "2023-02-02T02:31:20.602847Z",
     "start_time": "2023-02-02T02:31:20.595452Z"
    }
   },
   "outputs": [
    {
     "data": {
      "text/plain": [
       "'The following text is the url and content of head tag of a website.\\nurl: https://demo.saleor.io/default-channel/en-US/\\nhead: <title>Saleor React Storefront</title>\\n<meta charset=\"utf-8\"/>\\n<meta content=\"width=device-width\" name=\"viewport\"/>\\n<meta content=\"index,follow\" name=\"robots\"/>\\n<meta content=\"Saleor React Storefront\" property=\"og:title\"/>\\n<meta content=\"https://reactstorefront.vercel.app/default-channel/en-US/\" property=\"og:url\"/>\\n<meta content=\"https://og-image.vercel.app/React%20Storefront.png?theme=light&amp;md=1&amp;fontSize=100px&amp;images=https%3A%2F%2Fassets.vercel.com%2Fimage%2Fupload%2Ffront%2Fassets%2Fdesign%2Fvercel-triangle-black.svg&amp;images=https%3A%2F%2Fsaleor.io%2Fstatic%2Flogo-ad1b99aa7c6f5acf58a61640af760cfd.svg\" property=\"og:image\"/>\\n<meta content=\"Hero image\" property=\"og:image:alt\"/>\\n<meta content=\"2048\" property=\"og:image:width\"/>\\n<meta content=\"1170\" property=\"og:image:height\"/>\\n<meta content=\"Saleor React Storefront\" property=\"og:site_name\"/>\\n<meta content=\"11\" name=\"next-head-count\"/>\\nThe website category is:'"
      ]
     },
     "execution_count": 9,
     "metadata": {},
     "output_type": "execute_result"
    }
   ],
   "source": [
    "category_prompt"
   ]
  },
  {
   "cell_type": "code",
   "execution_count": 10,
   "id": "e81f5683",
   "metadata": {
    "ExecuteTime": {
     "end_time": "2023-02-02T02:31:23.219897Z",
     "start_time": "2023-02-02T02:31:22.262865Z"
    }
   },
   "outputs": [
    {
     "data": {
      "text/plain": [
       "<OpenAIObject text_completion id=cmpl-6fJfeT99n9jDjfpPzrAi7XyxTLbzV at 0x1137be540> JSON: {\n",
       "  \"choices\": [\n",
       "    {\n",
       "      \"finish_reason\": \"stop\",\n",
       "      \"index\": 0,\n",
       "      \"logprobs\": null,\n",
       "      \"text\": \" eCommerce\"\n",
       "    }\n",
       "  ],\n",
       "  \"created\": 1675305082,\n",
       "  \"id\": \"cmpl-6fJfeT99n9jDjfpPzrAi7XyxTLbzV\",\n",
       "  \"model\": \"text-davinci-003\",\n",
       "  \"object\": \"text_completion\",\n",
       "  \"usage\": {\n",
       "    \"completion_tokens\": 2,\n",
       "    \"prompt_tokens\": 383,\n",
       "    \"total_tokens\": 385\n",
       "  }\n",
       "}"
      ]
     },
     "execution_count": 10,
     "metadata": {},
     "output_type": "execute_result"
    }
   ],
   "source": [
    "category_res = openai.Completion.create(\n",
    "    model=\"text-davinci-003\",\n",
    "    prompt=category_prompt,\n",
    "    temperature=0,\n",
    "    top_p=1,\n",
    "    frequency_penalty=0.0,\n",
    "    presence_penalty=0.0,\n",
    "    max_tokens=256\n",
    ")\n",
    "\n",
    "category_res"
   ]
  },
  {
   "cell_type": "code",
   "execution_count": 11,
   "id": "363fdebb",
   "metadata": {
    "ExecuteTime": {
     "end_time": "2023-02-02T02:31:52.175548Z",
     "start_time": "2023-02-02T02:31:52.168627Z"
    }
   },
   "outputs": [
    {
     "data": {
      "text/plain": [
       "'The website name is https://demo.saleor.io/default-channel/en-US/. This website is a eCommerce website.'"
      ]
     },
     "execution_count": 11,
     "metadata": {},
     "output_type": "execute_result"
    }
   ],
   "source": [
    "global_context = 'The website name is {0}. This website is a {1} website.'.format(\n",
    "    driver.current_url,\n",
    "    category_res.choices[0].text.strip()\n",
    ")\n",
    "\n",
    "global_context"
   ]
  },
  {
   "cell_type": "markdown",
   "id": "71bd5edc",
   "metadata": {},
   "source": [
    "# Page Context"
   ]
  },
  {
   "cell_type": "code",
   "execution_count": null,
   "id": "0e91617d",
   "metadata": {},
   "outputs": [],
   "source": [
    "driver.get('https://demo.saleor.io/dashboard/')"
   ]
  },
  {
   "cell_type": "code",
   "execution_count": 15,
   "id": "010da112",
   "metadata": {
    "ExecuteTime": {
     "end_time": "2023-02-02T02:32:17.170478Z",
     "start_time": "2023-02-02T02:32:17.148983Z"
    }
   },
   "outputs": [],
   "source": [
    "body_doc = bs(driver.find_element(By.TAG_NAME, 'body').get_attribute('innerHTML'), 'html.parser')"
   ]
  },
  {
   "cell_type": "code",
   "execution_count": 16,
   "id": "93c679cc",
   "metadata": {
    "ExecuteTime": {
     "end_time": "2023-02-02T02:32:17.416598Z",
     "start_time": "2023-02-02T02:32:17.413438Z"
    },
    "scrolled": true
   },
   "outputs": [],
   "source": [
    "headings = []\n",
    "for h in range(6):\n",
    "    headings = [*headings, *list(map(lambda x: x.get_text().strip(), body_doc.find_all('h' + str(h + 1))))]"
   ]
  },
  {
   "cell_type": "code",
   "execution_count": 18,
   "id": "3c79a4d6",
   "metadata": {
    "ExecuteTime": {
     "end_time": "2023-02-02T02:32:39.418480Z",
     "start_time": "2023-02-02T02:32:39.415991Z"
    }
   },
   "outputs": [],
   "source": [
    "headings = ['Sign In']"
   ]
  },
  {
   "cell_type": "code",
   "execution_count": 19,
   "id": "1386b32a",
   "metadata": {
    "ExecuteTime": {
     "end_time": "2023-02-02T02:32:40.306981Z",
     "start_time": "2023-02-02T02:32:40.300706Z"
    }
   },
   "outputs": [
    {
     "name": "stdout",
     "output_type": "stream",
     "text": [
      "The website name is https://demo.saleor.io/default-channel/en-US/. This website is a eCommerce website.\n",
      "We are in page https://demo.saleor.io/dashboard/ of the website. The headings in this page are: Sign In.\n",
      "The page main functionality is\n"
     ]
    }
   ],
   "source": [
    "local_prompt = '''{0}\n",
    "We are in page {1} of the website. The headings in this page are: {2}.\n",
    "The page main functionality is'''.format(\n",
    "    global_context,\n",
    "    driver.current_url,\n",
    "    ', '.join(headings)\n",
    ")\n",
    "\n",
    "print(local_prompt)"
   ]
  },
  {
   "cell_type": "code",
   "execution_count": 20,
   "id": "7aea882c",
   "metadata": {
    "ExecuteTime": {
     "end_time": "2023-02-02T02:32:43.817645Z",
     "start_time": "2023-02-02T02:32:42.782656Z"
    }
   },
   "outputs": [
    {
     "name": "stdout",
     "output_type": "stream",
     "text": [
      " to allow users to sign in to their account\n"
     ]
    }
   ],
   "source": [
    "local_res = openai.Completion.create(\n",
    "    model=\"text-davinci-003\",\n",
    "    prompt=local_prompt,\n",
    "    temperature=0,\n",
    "    top_p=1,\n",
    "    frequency_penalty=0.0,\n",
    "    presence_penalty=0.0,\n",
    "    max_tokens=256,\n",
    "    stop=['.']\n",
    ")\n",
    "\n",
    "print(local_res.choices[0].text)"
   ]
  },
  {
   "cell_type": "code",
   "execution_count": 21,
   "id": "538c7655",
   "metadata": {
    "ExecuteTime": {
     "end_time": "2023-02-02T02:32:47.488732Z",
     "start_time": "2023-02-02T02:32:47.481799Z"
    }
   },
   "outputs": [
    {
     "data": {
      "text/plain": [
       "'The website name is https://demo.saleor.io/default-channel/en-US/. This website is a eCommerce website.. We are in page https://demo.saleor.io/dashboard/. The page main functionality is to allow users to sign in to their account.'"
      ]
     },
     "execution_count": 21,
     "metadata": {},
     "output_type": "execute_result"
    }
   ],
   "source": [
    "local_context = '''{0}. We are in page {1}. The page main functionality is {2}.'''.format(\n",
    "    global_context,\n",
    "    driver.current_url,\n",
    "    local_res.choices[0].text.strip()\n",
    ")\n",
    "\n",
    "local_context"
   ]
  },
  {
   "cell_type": "markdown",
   "id": "6569bb08",
   "metadata": {},
   "source": [
    "# Input Context"
   ]
  },
  {
   "cell_type": "code",
   "execution_count": 37,
   "id": "d3c46881",
   "metadata": {
    "ExecuteTime": {
     "end_time": "2023-02-02T02:39:26.274410Z",
     "start_time": "2023-02-02T02:39:26.268396Z"
    }
   },
   "outputs": [
    {
     "data": {
      "text/plain": [
       "<form><div class=\"MuiTypography-root jss24 MuiTypography-h3\">Sign In</div><div class=\"MuiFormControl-root MuiTextField-root MuiFormControl-fullWidth\"><label class=\"MuiFormLabel-root MuiInputLabel-root MuiInputLabel-formControl MuiInputLabel-animated MuiInputLabel-shrink MuiInputLabel-outlined MuiFormLabel-filled\" data-shrink=\"true\">Email address</label><div class=\"MuiInputBase-root MuiOutlinedInput-root MuiInputBase-fullWidth MuiInputBase-formControl\"><input aria-invalid=\"false\" autocomplete=\"username\" class=\"MuiInputBase-input MuiOutlinedInput-input\" data-test-id=\"email\" name=\"email\" spellcheck=\"false\" type=\"text\" value=\"admin@example.com\"/><fieldset aria-hidden=\"true\" class=\"jss34 MuiOutlinedInput-notchedOutline\"><legend class=\"jss36 jss37\"><span>Email address</span></legend></fieldset></div></div><div class=\"jss38\"></div><div class=\"jss29\"><div class=\"MuiFormControl-root MuiTextField-root MuiFormControl-fullWidth\"><label class=\"MuiFormLabel-root MuiInputLabel-root MuiInputLabel-formControl MuiInputLabel-animated MuiInputLabel-shrink MuiInputLabel-outlined MuiFormLabel-filled\" data-shrink=\"true\">Password</label><div class=\"MuiInputBase-root MuiOutlinedInput-root MuiInputBase-fullWidth MuiInputBase-formControl\"><input aria-invalid=\"false\" autocomplete=\"password\" class=\"MuiInputBase-input MuiOutlinedInput-input\" data-test-id=\"password\" name=\"password\" spellcheck=\"false\" type=\"password\" value=\"admin\"/><fieldset aria-hidden=\"true\" class=\"jss34 MuiOutlinedInput-notchedOutline\"><legend class=\"jss36 jss37\"><span>Password</span></legend></fieldset></div></div><button class=\"MuiButtonBase-root jss41 jss30\" tabindex=\"0\" type=\"button\"><svg aria-hidden=\"true\" class=\"MuiSvgIcon-root jss47\" fill=\"none\" focusable=\"false\" height=\"25\" viewbox=\"0 0 24 25\" width=\"24\" xmlns=\"http://www.w3.org/2000/svg\"><path clip-rule=\"evenodd\" d=\"M3.818 12.086a1.16 1.16 0 0 1-.048-.084c.011-.021.027-.05.048-.084.083-.133.222-.31.424-.52.403-.417 1.008-.91 1.776-1.382.576-.355 1.232-.69 1.951-.973A4.978 4.978 0 0 0 7 12.002c0 1.107.36 2.13.969 2.959a12.35 12.35 0 0 1-1.95-.973c-.769-.472-1.374-.965-1.777-1.382a3.307 3.307 0 0 1-.424-.52Zm12.213 2.875a12.35 12.35 0 0 0 1.95-.973c.769-.472 1.374-.965 1.777-1.382.202-.21.34-.387.424-.52l.048-.084a1.164 1.164 0 0 0-.048-.084 3.302 3.302 0 0 0-.424-.52c-.403-.417-1.008-.91-1.776-1.382a12.347 12.347 0 0 0-1.951-.973c.61.829.969 1.852.969 2.959s-.36 2.13-.969 2.959ZM12 6.75c-2.67 0-5.056.933-6.768 1.987-.857.528-1.565 1.097-2.068 1.618-.25.259-.464.52-.62.77-.14.225-.294.537-.294.876 0 .34.154.651.295.877.155.25.368.51.619.77.503.52 1.21 1.09 2.068 1.617C6.944 16.32 9.329 17.252 12 17.252c2.67 0 5.056-.932 6.768-1.986.857-.528 1.565-1.097 2.068-1.618.25-.26.464-.52.62-.77.14-.225.294-.537.294-.876 0-.34-.154-.651-.295-.877a4.769 4.769 0 0 0-.619-.77c-.503-.52-1.21-1.09-2.068-1.617C17.056 7.684 14.671 6.752 12 6.752Zm3.5 5.251a3.5 3.5 0 1 1-7 0 3.5 3.5 0 0 1 7 0Z\" fill=\"currentColor\" fill-rule=\"evenodd\"></path></svg></button></div><a class=\"MuiTypography-root jss25 MuiTypography-body2\" data-test-id=\"reset-password-link\" href=\"/dashboard/reset-password/\">Forgot password?</a><div class=\"jss23\"><button class=\"MuiButtonBase-root MuiButton-root MuiButton-contained jss27 jss48 MuiButton-containedPrimary\" data-test-id=\"submit\" tabindex=\"0\" type=\"submit\"><span class=\"MuiButton-label\">Sign in</span></button></div></form>"
      ]
     },
     "execution_count": 37,
     "metadata": {},
     "output_type": "execute_result"
    }
   ],
   "source": [
    "body_doc.find_all('form')[0]"
   ]
  },
  {
   "cell_type": "code",
   "execution_count": 24,
   "id": "805bad70",
   "metadata": {
    "ExecuteTime": {
     "end_time": "2023-02-02T02:33:55.479376Z",
     "start_time": "2023-02-02T02:33:55.476140Z"
    }
   },
   "outputs": [
    {
     "data": {
      "text/plain": [
       "'The website name is https://demo.saleor.io/default-channel/en-US/. This website is a eCommerce website.. We are in page https://demo.saleor.io/dashboard/. The page main functionality is to allow users to sign in to their account.\\nWe want to complete the form on this page.\\nThe input on the page has label Password, and it is a input input with type password. Provide a value for the input:'"
      ]
     },
     "execution_count": 24,
     "metadata": {},
     "output_type": "execute_result"
    }
   ],
   "source": [
    "input_prompt = '''{0}\n",
    "We want to complete the form on this page.\n",
    "The input on the page has label {1}, and it is a {2} input with type {3}. Provide a value for the input:'''.format(\n",
    "    local_context,\n",
    "    'Password',\n",
    "    'input',\n",
    "    'password'\n",
    ")\n",
    "\n",
    "input_prompt"
   ]
  },
  {
   "cell_type": "code",
   "execution_count": 25,
   "id": "e8f5ab50",
   "metadata": {
    "ExecuteTime": {
     "end_time": "2023-02-02T02:33:58.443983Z",
     "start_time": "2023-02-02T02:33:57.623754Z"
    }
   },
   "outputs": [
    {
     "name": "stdout",
     "output_type": "stream",
     "text": [
      "MyPassword123!\n"
     ]
    }
   ],
   "source": [
    "input_res = openai.Completion.create(\n",
    "    model=\"text-davinci-003\",\n",
    "    prompt=input_prompt,\n",
    "    temperature=0.7,\n",
    "    top_p=1,\n",
    "    frequency_penalty=0.0,\n",
    "    presence_penalty=0.0,\n",
    "    max_tokens=256,\n",
    ")\n",
    "\n",
    "print(input_res.choices[0].text.strip())"
   ]
  },
  {
   "cell_type": "markdown",
   "id": "0c7b47bd",
   "metadata": {},
   "source": [
    "# Error Context"
   ]
  },
  {
   "cell_type": "code",
   "execution_count": 34,
   "id": "e9af2091",
   "metadata": {
    "ExecuteTime": {
     "end_time": "2023-02-02T02:38:33.702505Z",
     "start_time": "2023-02-02T02:38:33.700243Z"
    }
   },
   "outputs": [],
   "source": [
    "sample_error = 'Your password should be all in lowercase and without numbers'"
   ]
  },
  {
   "cell_type": "code",
   "execution_count": 35,
   "id": "f938be66",
   "metadata": {
    "ExecuteTime": {
     "end_time": "2023-02-02T02:38:34.412242Z",
     "start_time": "2023-02-02T02:38:34.408296Z"
    }
   },
   "outputs": [
    {
     "data": {
      "text/plain": [
       "'The website name is https://demo.saleor.io/default-channel/en-US/. This website is a eCommerce website.. We are in page https://demo.saleor.io/dashboard/. The page main functionality is to allow users to sign in to their account.\\nThe input on the page has label Password, and it is a input input with type password.\\nWe entered the following value for input: \"MyPassword123!\" and we got the following error: \"Your password should be all in lowercase and without numbers\". Provide a value for the input:'"
      ]
     },
     "execution_count": 35,
     "metadata": {},
     "output_type": "execute_result"
    }
   ],
   "source": [
    "error_prompt = '''{0}\n",
    "The input on the page has label {1}, and it is a {2} input with type {3}.\n",
    "We entered the following value for input: \"{4}\" and we got the following error: \"{5}\". Provide a value for the input:'''.format(\n",
    "    local_context,\n",
    "    'Password',\n",
    "    'input',\n",
    "    'password',\n",
    "    'MyPassword123!',\n",
    "    sample_error\n",
    ")\n",
    "\n",
    "error_prompt\n"
   ]
  },
  {
   "cell_type": "code",
   "execution_count": 36,
   "id": "2adff55c",
   "metadata": {
    "ExecuteTime": {
     "end_time": "2023-02-02T02:38:36.505080Z",
     "start_time": "2023-02-02T02:38:35.252357Z"
    }
   },
   "outputs": [
    {
     "name": "stdout",
     "output_type": "stream",
     "text": [
      "mypassword\n"
     ]
    }
   ],
   "source": [
    "error_res = openai.Completion.create(\n",
    "    model=\"text-davinci-003\",\n",
    "    prompt=error_prompt,\n",
    "    temperature=0.7,\n",
    "    top_p=1,\n",
    "    frequency_penalty=0.0,\n",
    "    presence_penalty=0.0,\n",
    "    max_tokens=256,\n",
    ")\n",
    "\n",
    "print(error_res.choices[0].text.strip())"
   ]
  },
  {
   "cell_type": "code",
   "execution_count": null,
   "id": "db32beda",
   "metadata": {},
   "outputs": [],
   "source": []
  }
 ],
 "metadata": {
  "kernelspec": {
   "display_name": "Python 3",
   "language": "python",
   "name": "python3"
  },
  "language_info": {
   "codemirror_mode": {
    "name": "ipython",
    "version": 3
   },
   "file_extension": ".py",
   "mimetype": "text/x-python",
   "name": "python",
   "nbconvert_exporter": "python",
   "pygments_lexer": "ipython3",
   "version": "3.9.7"
  },
  "varInspector": {
   "cols": {
    "lenName": 16,
    "lenType": 16,
    "lenVar": 40
   },
   "kernels_config": {
    "python": {
     "delete_cmd_postfix": "",
     "delete_cmd_prefix": "del ",
     "library": "var_list.py",
     "varRefreshCmd": "print(var_dic_list())"
    },
    "r": {
     "delete_cmd_postfix": ") ",
     "delete_cmd_prefix": "rm(",
     "library": "var_list.r",
     "varRefreshCmd": "cat(var_dic_list()) "
    }
   },
   "types_to_exclude": [
    "module",
    "function",
    "builtin_function_or_method",
    "instance",
    "_Feature"
   ],
   "window_display": false
  }
 },
 "nbformat": 4,
 "nbformat_minor": 5
}
