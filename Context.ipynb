{
 "cells": [
  {
   "cell_type": "code",
   "execution_count": 1,
   "id": "2e169ac5",
   "metadata": {
    "ExecuteTime": {
     "end_time": "2023-02-01T22:08:35.781442Z",
     "start_time": "2023-02-01T22:08:35.193540Z"
    }
   },
   "outputs": [],
   "source": [
    "import os\n",
    "import openai\n",
    "from dotenv import load_dotenv\n",
    "from bs4 import BeautifulSoup as bs\n",
    "from selenium import webdriver\n",
    "from selenium.webdriver.common.by import By"
   ]
  },
  {
   "cell_type": "code",
   "execution_count": 2,
   "id": "eef5ff48",
   "metadata": {
    "ExecuteTime": {
     "end_time": "2023-02-01T22:08:36.164190Z",
     "start_time": "2023-02-01T22:08:36.161080Z"
    }
   },
   "outputs": [],
   "source": [
    "load_dotenv()\n",
    "openai.api_key = os.getenv(\"OPENAI_API_KEY\")"
   ]
  },
  {
   "cell_type": "code",
   "execution_count": 3,
   "id": "5924cc85",
   "metadata": {
    "ExecuteTime": {
     "end_time": "2023-02-01T22:08:38.676411Z",
     "start_time": "2023-02-01T22:08:36.660940Z"
    }
   },
   "outputs": [],
   "source": [
    "driver = webdriver.Chrome('drivers/chromedriver108')"
   ]
  },
  {
   "cell_type": "code",
   "execution_count": 14,
   "id": "d24f228d",
   "metadata": {
    "ExecuteTime": {
     "end_time": "2023-02-01T22:10:47.948460Z",
     "start_time": "2023-02-01T22:10:47.946018Z"
    }
   },
   "outputs": [],
   "source": [
    "base = 'https://www.overreacted.io/'"
   ]
  },
  {
   "cell_type": "code",
   "execution_count": 15,
   "id": "b5407c57",
   "metadata": {
    "ExecuteTime": {
     "end_time": "2023-02-01T22:10:49.275560Z",
     "start_time": "2023-02-01T22:10:48.585748Z"
    }
   },
   "outputs": [],
   "source": [
    "driver.get(base)"
   ]
  },
  {
   "cell_type": "code",
   "execution_count": 16,
   "id": "ae9cee75",
   "metadata": {
    "ExecuteTime": {
     "end_time": "2023-02-01T22:10:49.833745Z",
     "start_time": "2023-02-01T22:10:49.794149Z"
    }
   },
   "outputs": [],
   "source": [
    "doc = bs(driver.find_element(By.TAG_NAME, 'html').get_attribute('innerHTML'), 'html.parser')"
   ]
  },
  {
   "cell_type": "code",
   "execution_count": 17,
   "id": "1340142d",
   "metadata": {
    "ExecuteTime": {
     "end_time": "2023-02-01T22:10:50.177433Z",
     "start_time": "2023-02-01T22:10:50.173663Z"
    }
   },
   "outputs": [],
   "source": [
    "title = str(doc.head.title) + '\\n'\n",
    "metas = '\\n'.join(list(map(lambda x: str(x), doc.head.find_all('meta'))))\n",
    "head_string = title + metas"
   ]
  },
  {
   "cell_type": "code",
   "execution_count": 18,
   "id": "aae5ecff",
   "metadata": {
    "ExecuteTime": {
     "end_time": "2023-02-01T22:10:50.412410Z",
     "start_time": "2023-02-01T22:10:50.409691Z"
    }
   },
   "outputs": [],
   "source": [
    "name_prompt = '''The following text is the url and content of head tag of a website.\n",
    "url: {0}\n",
    "head: {1}\n",
    "The name of website is:'''.format(base, head_string)\n",
    "\n",
    "category_prompt = '''The following text is the url and content of head tag of a website.\n",
    "url: {0}\n",
    "head: {1}\n",
    "The website category is:'''.format(base, head_string)"
   ]
  },
  {
   "cell_type": "code",
   "execution_count": 19,
   "id": "d1e8e1e4",
   "metadata": {
    "ExecuteTime": {
     "end_time": "2023-02-01T22:10:52.430054Z",
     "start_time": "2023-02-01T22:10:51.172995Z"
    }
   },
   "outputs": [
    {
     "data": {
      "text/plain": [
       "<OpenAIObject text_completion id=cmpl-6fFbX0gRJwLRJz9110WEd1Rb8DtVM at 0x10f59b180> JSON: {\n",
       "  \"choices\": [\n",
       "    {\n",
       "      \"finish_reason\": \"stop\",\n",
       "      \"index\": 0,\n",
       "      \"logprobs\": null,\n",
       "      \"text\": \" Overreacted\"\n",
       "    }\n",
       "  ],\n",
       "  \"created\": 1675289451,\n",
       "  \"id\": \"cmpl-6fFbX0gRJwLRJz9110WEd1Rb8DtVM\",\n",
       "  \"model\": \"text-davinci-003\",\n",
       "  \"object\": \"text_completion\",\n",
       "  \"usage\": {\n",
       "    \"completion_tokens\": 3,\n",
       "    \"prompt_tokens\": 390,\n",
       "    \"total_tokens\": 393\n",
       "  }\n",
       "}"
      ]
     },
     "execution_count": 19,
     "metadata": {},
     "output_type": "execute_result"
    }
   ],
   "source": [
    "name_res = openai.Completion.create(\n",
    "    model=\"text-davinci-003\",\n",
    "    prompt=name_prompt,\n",
    "    temperature=0,\n",
    "    top_p=1,\n",
    "    frequency_penalty=0.0,\n",
    "    presence_penalty=0.0,\n",
    "    max_tokens=256\n",
    ")\n",
    "\n",
    "name_res"
   ]
  },
  {
   "cell_type": "code",
   "execution_count": 20,
   "id": "e81f5683",
   "metadata": {
    "ExecuteTime": {
     "end_time": "2023-02-01T22:10:53.050133Z",
     "start_time": "2023-02-01T22:10:52.492916Z"
    }
   },
   "outputs": [
    {
     "data": {
      "text/plain": [
       "<OpenAIObject text_completion id=cmpl-6fFbYpticFHXBoWLDgGJtGdCQi0Dl at 0x10f59b2c0> JSON: {\n",
       "  \"choices\": [\n",
       "    {\n",
       "      \"finish_reason\": \"stop\",\n",
       "      \"index\": 0,\n",
       "      \"logprobs\": null,\n",
       "      \"text\": \" Personal Blog\"\n",
       "    }\n",
       "  ],\n",
       "  \"created\": 1675289452,\n",
       "  \"id\": \"cmpl-6fFbYpticFHXBoWLDgGJtGdCQi0Dl\",\n",
       "  \"model\": \"text-davinci-003\",\n",
       "  \"object\": \"text_completion\",\n",
       "  \"usage\": {\n",
       "    \"completion_tokens\": 2,\n",
       "    \"prompt_tokens\": 389,\n",
       "    \"total_tokens\": 391\n",
       "  }\n",
       "}"
      ]
     },
     "execution_count": 20,
     "metadata": {},
     "output_type": "execute_result"
    }
   ],
   "source": [
    "category_res = openai.Completion.create(\n",
    "    model=\"text-davinci-003\",\n",
    "    prompt=category_prompt,\n",
    "    temperature=0,\n",
    "    top_p=1,\n",
    "    frequency_penalty=0.0,\n",
    "    presence_penalty=0.0,\n",
    "    max_tokens=256\n",
    ")\n",
    "\n",
    "category_res"
   ]
  },
  {
   "cell_type": "code",
   "execution_count": 21,
   "id": "683ffa4b",
   "metadata": {
    "ExecuteTime": {
     "end_time": "2023-02-01T22:10:53.698421Z",
     "start_time": "2023-02-01T22:10:53.693957Z"
    }
   },
   "outputs": [
    {
     "data": {
      "text/plain": [
       "'The website name is Overreacted. This website is a Personal Blog website.'"
      ]
     },
     "execution_count": 21,
     "metadata": {},
     "output_type": "execute_result"
    }
   ],
   "source": [
    "global_context = 'The website name is {0}. This website is a {1} website.'.format(\n",
    "    name_res.choices[0].text.strip(),\n",
    "    category_res.choices[0].text.strip()\n",
    ")\n",
    "\n",
    "global_context"
   ]
  },
  {
   "cell_type": "code",
   "execution_count": null,
   "id": "d0674af1",
   "metadata": {},
   "outputs": [],
   "source": []
  },
  {
   "cell_type": "code",
   "execution_count": null,
   "id": "6c386041",
   "metadata": {},
   "outputs": [],
   "source": []
  },
  {
   "cell_type": "code",
   "execution_count": null,
   "id": "455a1fad",
   "metadata": {},
   "outputs": [],
   "source": []
  },
  {
   "cell_type": "code",
   "execution_count": null,
   "id": "f220de5b",
   "metadata": {},
   "outputs": [],
   "source": []
  },
  {
   "cell_type": "code",
   "execution_count": null,
   "id": "82a9f9b4",
   "metadata": {},
   "outputs": [],
   "source": []
  },
  {
   "cell_type": "code",
   "execution_count": 22,
   "id": "f7946c05",
   "metadata": {
    "ExecuteTime": {
     "end_time": "2023-02-01T22:11:14.432220Z",
     "start_time": "2023-02-01T22:11:14.421478Z"
    }
   },
   "outputs": [
    {
     "ename": "NameError",
     "evalue": "name 'body' is not defined",
     "output_type": "error",
     "traceback": [
      "\u001b[0;31m---------------------------------------------------------------------------\u001b[0m",
      "\u001b[0;31mNameError\u001b[0m                                 Traceback (most recent call last)",
      "\u001b[0;32m<ipython-input-22-090056eb57cb>\u001b[0m in \u001b[0;36m<module>\u001b[0;34m\u001b[0m\n\u001b[0;32m----> 1\u001b[0;31m \u001b[0mdriver\u001b[0m\u001b[0;34m.\u001b[0m\u001b[0mfind_elements\u001b[0m\u001b[0;34m(\u001b[0m\u001b[0mbody\u001b[0m\u001b[0;34m)\u001b[0m\u001b[0;34m\u001b[0m\u001b[0;34m\u001b[0m\u001b[0m\n\u001b[0m",
      "\u001b[0;31mNameError\u001b[0m: name 'body' is not defined"
     ]
    }
   ],
   "source": [
    "driver.find_elements(By.TAG_NAME)"
   ]
  },
  {
   "cell_type": "code",
   "execution_count": null,
   "id": "e149af71",
   "metadata": {},
   "outputs": [],
   "source": []
  },
  {
   "cell_type": "code",
   "execution_count": null,
   "id": "576b56dc",
   "metadata": {},
   "outputs": [],
   "source": []
  },
  {
   "cell_type": "code",
   "execution_count": null,
   "id": "8c2dccc4",
   "metadata": {},
   "outputs": [],
   "source": []
  }
 ],
 "metadata": {
  "kernelspec": {
   "display_name": "Python 3",
   "language": "python",
   "name": "python3"
  },
  "language_info": {
   "codemirror_mode": {
    "name": "ipython",
    "version": 3
   },
   "file_extension": ".py",
   "mimetype": "text/x-python",
   "name": "python",
   "nbconvert_exporter": "python",
   "pygments_lexer": "ipython3",
   "version": "3.9.7"
  },
  "varInspector": {
   "cols": {
    "lenName": 16,
    "lenType": 16,
    "lenVar": 40
   },
   "kernels_config": {
    "python": {
     "delete_cmd_postfix": "",
     "delete_cmd_prefix": "del ",
     "library": "var_list.py",
     "varRefreshCmd": "print(var_dic_list())"
    },
    "r": {
     "delete_cmd_postfix": ") ",
     "delete_cmd_prefix": "rm(",
     "library": "var_list.r",
     "varRefreshCmd": "cat(var_dic_list()) "
    }
   },
   "types_to_exclude": [
    "module",
    "function",
    "builtin_function_or_method",
    "instance",
    "_Feature"
   ],
   "window_display": false
  }
 },
 "nbformat": 4,
 "nbformat_minor": 5
}
