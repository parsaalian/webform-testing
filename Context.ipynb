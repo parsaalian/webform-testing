{
 "cells": [
  {
   "cell_type": "code",
   "execution_count": 1,
   "id": "2e169ac5",
   "metadata": {
    "ExecuteTime": {
     "end_time": "2023-02-02T20:59:01.326145Z",
     "start_time": "2023-02-02T20:58:59.962181Z"
    }
   },
   "outputs": [],
   "source": [
    "import os\n",
    "import openai\n",
    "from dotenv import load_dotenv\n",
    "from bs4 import BeautifulSoup as bs\n",
    "from selenium import webdriver\n",
    "from selenium.webdriver.common.by import By"
   ]
  },
  {
   "cell_type": "code",
   "execution_count": 2,
   "id": "eef5ff48",
   "metadata": {
    "ExecuteTime": {
     "end_time": "2023-02-02T20:59:01.342334Z",
     "start_time": "2023-02-02T20:59:01.339182Z"
    }
   },
   "outputs": [],
   "source": [
    "load_dotenv()\n",
    "openai.api_key = os.getenv(\"OPENAI_API_KEY\")"
   ]
  },
  {
   "cell_type": "code",
   "execution_count": 3,
   "id": "5924cc85",
   "metadata": {
    "ExecuteTime": {
     "end_time": "2023-02-02T20:59:03.382672Z",
     "start_time": "2023-02-02T20:59:01.351618Z"
    }
   },
   "outputs": [],
   "source": [
    "driver = webdriver.Chrome('drivers/chromedriver108')"
   ]
  },
  {
   "cell_type": "markdown",
   "id": "abf60038",
   "metadata": {},
   "source": [
    "# Global Context"
   ]
  },
  {
   "cell_type": "code",
   "execution_count": 4,
   "id": "8f9eab70",
   "metadata": {
    "ExecuteTime": {
     "end_time": "2023-02-02T20:59:26.119739Z",
     "start_time": "2023-02-02T20:59:26.117430Z"
    }
   },
   "outputs": [],
   "source": [
    "base = 'https://www.aircanada.com/us/en/aco/home.html'"
   ]
  },
  {
   "cell_type": "code",
   "execution_count": 5,
   "id": "b5407c57",
   "metadata": {
    "ExecuteTime": {
     "end_time": "2023-02-02T20:59:28.652891Z",
     "start_time": "2023-02-02T20:59:26.854528Z"
    }
   },
   "outputs": [],
   "source": [
    "driver.get(base)"
   ]
  },
  {
   "cell_type": "code",
   "execution_count": 6,
   "id": "ae9cee75",
   "metadata": {
    "ExecuteTime": {
     "end_time": "2023-02-02T20:59:28.693075Z",
     "start_time": "2023-02-02T20:59:28.666394Z"
    }
   },
   "outputs": [],
   "source": [
    "doc = bs(driver.find_element(By.TAG_NAME, 'html').get_attribute('innerHTML'), 'html.parser')"
   ]
  },
  {
   "cell_type": "code",
   "execution_count": 7,
   "id": "1340142d",
   "metadata": {
    "ExecuteTime": {
     "end_time": "2023-02-02T20:59:29.534564Z",
     "start_time": "2023-02-02T20:59:29.531255Z"
    }
   },
   "outputs": [],
   "source": [
    "title = str(doc.head.title) + '\\n'\n",
    "metas = '\\n'.join(list(map(lambda x: str(x), doc.head.find_all('meta'))))\n",
    "head_string = title + metas"
   ]
  },
  {
   "cell_type": "code",
   "execution_count": 8,
   "id": "aae5ecff",
   "metadata": {
    "ExecuteTime": {
     "end_time": "2023-02-02T20:59:29.748620Z",
     "start_time": "2023-02-02T20:59:29.744748Z"
    }
   },
   "outputs": [],
   "source": [
    "category_prompt = '''The following text is the url and content of head tag of a website.\n",
    "url: {0}\n",
    "head: {1}\n",
    "The website category is:'''.format(base, head_string)"
   ]
  },
  {
   "cell_type": "code",
   "execution_count": 9,
   "id": "b9b3642e",
   "metadata": {
    "ExecuteTime": {
     "end_time": "2023-02-02T20:59:30.445496Z",
     "start_time": "2023-02-02T20:59:30.437318Z"
    }
   },
   "outputs": [
    {
     "data": {
      "text/plain": [
       "'The following text is the url and content of head tag of a website.\\nurl: https://www.aircanada.com/us/en/aco/home.html\\nhead: <title>Air Canada</title>\\n<meta charset=\"utf-8\"/>\\n<meta content=\"IE=edge\" http-equiv=\"X-UA-Compatible\"/>\\n<meta content=\"max-age=0\" http-equiv=\"cache-control\"/>\\n<meta content=\"no-store\" http-equiv=\"cache-control\"/>\\n<meta content=\"0\" http-equiv=\"expires\"/>\\n<meta content=\"Tue, 01 Jan 1980 1:00:00 GMT\" http-equiv=\"expires\"/>\\n<meta content=\"no-cache\" http-equiv=\"pragma\"/>\\n<meta content=\"width=device-width, initial-scale=1\" name=\"viewport\"/>\\n<meta content=\"#fffffe\" media=\"(prefers-color-scheme: light)\" name=\"theme-color\"/>\\n<meta content=\"#fffffe\" media=\"(prefers-color-scheme: dark)\" name=\"theme-color\"/>\\n<meta content=\"#000000\" name=\"msapplication-TileColor\"/>\\n<meta content=\"/achome/assets/img/favicon/mstile-144x144.png\" name=\"msapplication-TileImage\"/>\\nThe website category is:'"
      ]
     },
     "execution_count": 9,
     "metadata": {},
     "output_type": "execute_result"
    }
   ],
   "source": [
    "category_prompt"
   ]
  },
  {
   "cell_type": "code",
   "execution_count": 10,
   "id": "e81f5683",
   "metadata": {
    "ExecuteTime": {
     "end_time": "2023-02-02T20:59:37.907192Z",
     "start_time": "2023-02-02T20:59:36.980449Z"
    }
   },
   "outputs": [
    {
     "data": {
      "text/plain": [
       "<OpenAIObject text_completion id=cmpl-6fay96hALvWzX3yDeaLQYDDBaUVmt at 0x112eca950> JSON: {\n",
       "  \"choices\": [\n",
       "    {\n",
       "      \"finish_reason\": \"stop\",\n",
       "      \"index\": 0,\n",
       "      \"logprobs\": null,\n",
       "      \"text\": \" Travel\"\n",
       "    }\n",
       "  ],\n",
       "  \"created\": 1675371577,\n",
       "  \"id\": \"cmpl-6fay96hALvWzX3yDeaLQYDDBaUVmt\",\n",
       "  \"model\": \"text-davinci-003\",\n",
       "  \"object\": \"text_completion\",\n",
       "  \"usage\": {\n",
       "    \"completion_tokens\": 1,\n",
       "    \"prompt_tokens\": 308,\n",
       "    \"total_tokens\": 309\n",
       "  }\n",
       "}"
      ]
     },
     "execution_count": 10,
     "metadata": {},
     "output_type": "execute_result"
    }
   ],
   "source": [
    "category_res = openai.Completion.create(\n",
    "    model=\"text-davinci-003\",\n",
    "    prompt=category_prompt,\n",
    "    temperature=0,\n",
    "    top_p=1,\n",
    "    frequency_penalty=0.0,\n",
    "    presence_penalty=0.0,\n",
    "    max_tokens=256\n",
    ")\n",
    "\n",
    "category_res"
   ]
  },
  {
   "cell_type": "code",
   "execution_count": 11,
   "id": "363fdebb",
   "metadata": {
    "ExecuteTime": {
     "end_time": "2023-02-02T20:59:40.708707Z",
     "start_time": "2023-02-02T20:59:40.695180Z"
    }
   },
   "outputs": [
    {
     "data": {
      "text/plain": [
       "'The website name is https://www.aircanada.com/us/en/aco/home.html. This website is a Travel website.'"
      ]
     },
     "execution_count": 11,
     "metadata": {},
     "output_type": "execute_result"
    }
   ],
   "source": [
    "global_context = 'The website name is {0}. This website is a {1} website.'.format(\n",
    "    driver.current_url,\n",
    "    category_res.choices[0].text.strip()\n",
    ")\n",
    "\n",
    "global_context"
   ]
  },
  {
   "cell_type": "markdown",
   "id": "71bd5edc",
   "metadata": {},
   "source": [
    "# Page Context"
   ]
  },
  {
   "cell_type": "code",
   "execution_count": 12,
   "id": "0e91617d",
   "metadata": {
    "ExecuteTime": {
     "end_time": "2023-02-02T21:00:15.640025Z",
     "start_time": "2023-02-02T21:00:14.858601Z"
    }
   },
   "outputs": [],
   "source": [
    "driver.get('https://www.aircanada.com/us/en/aco/home.html/')"
   ]
  },
  {
   "cell_type": "code",
   "execution_count": 81,
   "id": "010da112",
   "metadata": {
    "ExecuteTime": {
     "end_time": "2023-02-02T21:15:04.088384Z",
     "start_time": "2023-02-02T21:15:03.998606Z"
    }
   },
   "outputs": [],
   "source": [
    "body_doc = bs(driver.find_element(By.TAG_NAME, 'body').get_attribute('innerHTML'), 'html.parser')"
   ]
  },
  {
   "cell_type": "code",
   "execution_count": 82,
   "id": "93c679cc",
   "metadata": {
    "ExecuteTime": {
     "end_time": "2023-02-02T21:15:06.302220Z",
     "start_time": "2023-02-02T21:15:06.296533Z"
    },
    "scrolled": true
   },
   "outputs": [],
   "source": [
    "headings = []\n",
    "for h in range(6):\n",
    "    headings = [*headings, *list(map(lambda x: x.get_text().strip(), body_doc.find_all('h' + str(h + 1))))]"
   ]
  },
  {
   "cell_type": "code",
   "execution_count": 83,
   "id": "1386b32a",
   "metadata": {
    "ExecuteTime": {
     "end_time": "2023-02-02T21:15:06.451331Z",
     "start_time": "2023-02-02T21:15:06.443543Z"
    }
   },
   "outputs": [
    {
     "name": "stdout",
     "output_type": "stream",
     "text": [
      "The website name is https://www.aircanada.com/us/en/aco/home.html. This website is a Travel website.\n",
      "We are in page https://www.aircanada.com/us/en/aco/home.html of the website. The headings in this page are: Air Canada -  Official website, Top of page banner, Offers, Please wait while content is loading., Please wait while content is loading., Customer support, Special offers, About Air Canada, Earn up to 100K pts, worth $1,250 in travel value, You’ve got to go North-ER, Access a flight booking.\n",
      "The page main functionality is\n"
     ]
    }
   ],
   "source": [
    "local_prompt = '''{0}\n",
    "We are in page {1} of the website. The headings in this page are: {2}.\n",
    "The page main functionality is'''.format(\n",
    "    global_context,\n",
    "    driver.current_url,\n",
    "    ', '.join(headings)\n",
    ")\n",
    "\n",
    "print(local_prompt)"
   ]
  },
  {
   "cell_type": "code",
   "execution_count": 84,
   "id": "7aea882c",
   "metadata": {
    "ExecuteTime": {
     "end_time": "2023-02-02T21:15:08.430267Z",
     "start_time": "2023-02-02T21:15:07.178600Z"
    }
   },
   "outputs": [
    {
     "name": "stdout",
     "output_type": "stream",
     "text": [
      " to provide information about Air Canada and to allow customers to book flights\n"
     ]
    }
   ],
   "source": [
    "local_res = openai.Completion.create(\n",
    "    model=\"text-davinci-003\",\n",
    "    prompt=local_prompt,\n",
    "    temperature=0,\n",
    "    top_p=1,\n",
    "    frequency_penalty=0.0,\n",
    "    presence_penalty=0.0,\n",
    "    max_tokens=256,\n",
    "    stop=['.']\n",
    ")\n",
    "\n",
    "print(local_res.choices[0].text)"
   ]
  },
  {
   "cell_type": "code",
   "execution_count": 85,
   "id": "538c7655",
   "metadata": {
    "ExecuteTime": {
     "end_time": "2023-02-02T21:15:08.516674Z",
     "start_time": "2023-02-02T21:15:08.507335Z"
    }
   },
   "outputs": [
    {
     "data": {
      "text/plain": [
       "'The website name is https://www.aircanada.com/us/en/aco/home.html. This website is a Travel website.. We are in page https://www.aircanada.com/us/en/aco/home.html. The page main functionality is to provide information about Air Canada and to allow customers to book flights.'"
      ]
     },
     "execution_count": 85,
     "metadata": {},
     "output_type": "execute_result"
    }
   ],
   "source": [
    "local_context = '''{0}. We are in page {1}. The page main functionality is {2}.'''.format(\n",
    "    global_context,\n",
    "    driver.current_url,\n",
    "    local_res.choices[0].text.strip()\n",
    ")\n",
    "\n",
    "local_context"
   ]
  },
  {
   "cell_type": "markdown",
   "id": "6569bb08",
   "metadata": {},
   "source": [
    "# Input Context"
   ]
  },
  {
   "cell_type": "code",
   "execution_count": 90,
   "id": "d3c46881",
   "metadata": {
    "ExecuteTime": {
     "end_time": "2023-02-02T21:15:45.886207Z",
     "start_time": "2023-02-02T21:15:45.882422Z"
    }
   },
   "outputs": [
    {
     "name": "stdout",
     "output_type": "stream",
     "text": [
      "<input aria-describedby=\"bkmgMyBookings_bookingRefNumberSubscript\" aria-disabled=\"false\" aria-invalid=\"true\" aria-label=\"Booking reference/Ticket number\" autocomplete=\"on\" autocorrect=\"off\" class=\"abc-form-element-input abc-form-element-main text-transform-uppercase ng-valid ng-star-inserted ng-touched ng-dirty\" id=\"bkmgMyBookings_bookingRefNumber\" maxlength=\"13\" name=\"bkmgMyBookings_bookingRefNumber\" placeholder=\"\" spellcheck=\"false\" type=\"text\"/>\n"
     ]
    }
   ],
   "source": [
    "print(body_doc.find_all('form')[0].find_all('input')[0])"
   ]
  },
  {
   "cell_type": "code",
   "execution_count": 123,
   "id": "805bad70",
   "metadata": {
    "ExecuteTime": {
     "end_time": "2023-02-02T21:20:48.158921Z",
     "start_time": "2023-02-02T21:20:48.154019Z"
    }
   },
   "outputs": [
    {
     "data": {
      "text/plain": [
       "'The website name is https://www.aircanada.com/us/en/aco/home.html. This website is a Travel website.. We are in page https://www.aircanada.com/us/en/aco/home.html. The page main functionality is to provide information about Air Canada and to allow customers to book flights.\\nWe want to complete the form on this page.\\nThe input on the page has label Booking Reference/Ticket Number, and its html is <input aria-describedby=\"bkmgMyBookings_bookingRefNumberSubscript\" aria-disabled=\"false\" aria-invalid=\"true\" aria-label=\"Booking reference/Ticket number\" autocomplete=\"on\" autocorrect=\"off\" class=\"abc-form-element-input abc-form-element-main text-transform-uppercase ng-valid ng-star-inserted ng-touched ng-dirty\" id=\"bkmgMyBookings_bookingRefNumber\" maxlength=\"13\" name=\"bkmgMyBookings_bookingRefNumber\" placeholder=\"\" spellcheck=\"false\" type=\"text\"/>. Provide a value for the input:'"
      ]
     },
     "execution_count": 123,
     "metadata": {},
     "output_type": "execute_result"
    }
   ],
   "source": [
    "input_prompt = '''{0}\n",
    "We want to complete the form on this page.\n",
    "The input on the page has label {1}, and its html is {2}. Provide a value for the input:'''.format(\n",
    "    local_context,\n",
    "    'Booking Reference/Ticket Number',\n",
    "    body_doc.find_all('form')[0].find_all('input')[0]\n",
    ")\n",
    "\n",
    "input_prompt"
   ]
  },
  {
   "cell_type": "code",
   "execution_count": 124,
   "id": "e8f5ab50",
   "metadata": {
    "ExecuteTime": {
     "end_time": "2023-02-02T21:20:51.900052Z",
     "start_time": "2023-02-02T21:20:51.070637Z"
    }
   },
   "outputs": [
    {
     "name": "stdout",
     "output_type": "stream",
     "text": [
      "MyBookingReference12345\n"
     ]
    }
   ],
   "source": [
    "input_res = openai.Completion.create(\n",
    "    model=\"text-davinci-003\",\n",
    "    prompt=input_prompt,\n",
    "    temperature=0.7,\n",
    "    top_p=1,\n",
    "    frequency_penalty=0.0,\n",
    "    presence_penalty=0.0,\n",
    "    max_tokens=256,\n",
    ")\n",
    "\n",
    "print(input_res.choices[0].text.strip())"
   ]
  },
  {
   "cell_type": "markdown",
   "id": "0c7b47bd",
   "metadata": {},
   "source": [
    "# Error Context"
   ]
  },
  {
   "cell_type": "code",
   "execution_count": 125,
   "id": "e9af2091",
   "metadata": {
    "ExecuteTime": {
     "end_time": "2023-02-02T21:20:55.076955Z",
     "start_time": "2023-02-02T21:20:55.074466Z"
    }
   },
   "outputs": [],
   "source": [
    "sample_error = '''Your booking reference is a sequence of six letters and/or numbers.\n",
    "\n",
    "Your ticket number is a sequence of 13 numbers.\n",
    "\n",
    "Please make any necessary corrections and try again, or call Air Canada Reservations for assistance.'''"
   ]
  },
  {
   "cell_type": "code",
   "execution_count": 127,
   "id": "4980a0f4",
   "metadata": {
    "ExecuteTime": {
     "end_time": "2023-02-02T21:21:03.623206Z",
     "start_time": "2023-02-02T21:21:03.619133Z"
    }
   },
   "outputs": [
    {
     "data": {
      "text/plain": [
       "'\"MyBookingReference12345\"'"
      ]
     },
     "execution_count": 127,
     "metadata": {},
     "output_type": "execute_result"
    }
   ],
   "source": [
    "values = [\n",
    "    \"MyBookingReference12345\",\n",
    "]\n",
    "\n",
    "values_string = '\"' + '\", \"'.join(values)+ '\"'\n",
    "\n",
    "values_string"
   ]
  },
  {
   "cell_type": "code",
   "execution_count": 128,
   "id": "f938be66",
   "metadata": {
    "ExecuteTime": {
     "end_time": "2023-02-02T21:21:04.411096Z",
     "start_time": "2023-02-02T21:21:04.406448Z"
    }
   },
   "outputs": [
    {
     "data": {
      "text/plain": [
       "'The website name is https://www.aircanada.com/us/en/aco/home.html. This website is a Travel website.. We are in page https://www.aircanada.com/us/en/aco/home.html. The page main functionality is to provide information about Air Canada and to allow customers to book flights.\\nThe input on the page has label Departure, and its html is <input aria-describedby=\"bkmgMyBookings_bookingRefNumberSubscript\" aria-disabled=\"false\" aria-invalid=\"true\" aria-label=\"Booking reference/Ticket number\" autocomplete=\"on\" autocorrect=\"off\" class=\"abc-form-element-input abc-form-element-main text-transform-uppercase ng-valid ng-star-inserted ng-touched ng-dirty\" id=\"bkmgMyBookings_bookingRefNumber\" maxlength=\"13\" name=\"bkmgMyBookings_bookingRefNumber\" placeholder=\"\" spellcheck=\"false\" type=\"text\"/>.\\nWe entered the following values for input: \"MyBookingReference12345\" and we got the following error: \"Your booking reference is a sequence of six letters and/or numbers.\\n\\nYour ticket number is a sequence of 13 numbers.\\n\\nPlease make any necessary corrections and try again, or call Air Canada Reservations for assistance.\".\\nA valid input sample is:'"
      ]
     },
     "execution_count": 128,
     "metadata": {},
     "output_type": "execute_result"
    }
   ],
   "source": [
    "error_prompt = '''{0}\n",
    "The input on the page has label {1}, and its html is {2}.\n",
    "We entered the following values for input: {3} and we got the following error: \"{4}\".\n",
    "A valid input sample is:'''.format(\n",
    "    local_context,\n",
    "    'Departure',\n",
    "    body_doc.find_all('form')[0].find_all('input')[0],\n",
    "    values_string,\n",
    "    sample_error\n",
    ")\n",
    "\n",
    "error_prompt\n"
   ]
  },
  {
   "cell_type": "code",
   "execution_count": 129,
   "id": "2adff55c",
   "metadata": {
    "ExecuteTime": {
     "end_time": "2023-02-02T21:21:09.820848Z",
     "start_time": "2023-02-02T21:21:08.446214Z"
    }
   },
   "outputs": [
    {
     "name": "stdout",
     "output_type": "stream",
     "text": [
      "\"ABC123456789\".\n"
     ]
    }
   ],
   "source": [
    "error_res = openai.Completion.create(\n",
    "    model=\"text-davinci-003\",\n",
    "    prompt=error_prompt,\n",
    "    temperature=0,\n",
    "    top_p=1,\n",
    "    frequency_penalty=0.0,\n",
    "    presence_penalty=0.0,\n",
    "    max_tokens=256,\n",
    ")\n",
    "\n",
    "print(error_res.choices[0].text.strip())"
   ]
  },
  {
   "cell_type": "code",
   "execution_count": null,
   "id": "db32beda",
   "metadata": {},
   "outputs": [],
   "source": []
  }
 ],
 "metadata": {
  "kernelspec": {
   "display_name": "Python 3",
   "language": "python",
   "name": "python3"
  },
  "language_info": {
   "codemirror_mode": {
    "name": "ipython",
    "version": 3
   },
   "file_extension": ".py",
   "mimetype": "text/x-python",
   "name": "python",
   "nbconvert_exporter": "python",
   "pygments_lexer": "ipython3",
   "version": "3.9.7"
  },
  "varInspector": {
   "cols": {
    "lenName": 16,
    "lenType": 16,
    "lenVar": 40
   },
   "kernels_config": {
    "python": {
     "delete_cmd_postfix": "",
     "delete_cmd_prefix": "del ",
     "library": "var_list.py",
     "varRefreshCmd": "print(var_dic_list())"
    },
    "r": {
     "delete_cmd_postfix": ") ",
     "delete_cmd_prefix": "rm(",
     "library": "var_list.r",
     "varRefreshCmd": "cat(var_dic_list()) "
    }
   },
   "types_to_exclude": [
    "module",
    "function",
    "builtin_function_or_method",
    "instance",
    "_Feature"
   ],
   "window_display": false
  }
 },
 "nbformat": 4,
 "nbformat_minor": 5
}
