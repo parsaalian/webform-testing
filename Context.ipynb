{
 "cells": [
  {
   "cell_type": "code",
   "execution_count": 1,
   "id": "2e169ac5",
   "metadata": {
    "ExecuteTime": {
     "end_time": "2023-02-01T22:08:35.781442Z",
     "start_time": "2023-02-01T22:08:35.193540Z"
    }
   },
   "outputs": [],
   "source": [
    "import os\n",
    "import openai\n",
    "from dotenv import load_dotenv\n",
    "from bs4 import BeautifulSoup as bs\n",
    "from selenium import webdriver\n",
    "from selenium.webdriver.common.by import By"
   ]
  },
  {
   "cell_type": "code",
   "execution_count": 2,
   "id": "eef5ff48",
   "metadata": {
    "ExecuteTime": {
     "end_time": "2023-02-01T22:08:36.164190Z",
     "start_time": "2023-02-01T22:08:36.161080Z"
    }
   },
   "outputs": [],
   "source": [
    "load_dotenv()\n",
    "openai.api_key = os.getenv(\"OPENAI_API_KEY\")"
   ]
  },
  {
   "cell_type": "code",
   "execution_count": 3,
   "id": "5924cc85",
   "metadata": {
    "ExecuteTime": {
     "end_time": "2023-02-01T22:08:38.676411Z",
     "start_time": "2023-02-01T22:08:36.660940Z"
    }
   },
   "outputs": [],
   "source": [
    "driver = webdriver.Chrome('drivers/chromedriver108')"
   ]
  },
  {
   "cell_type": "markdown",
   "id": "abf60038",
   "metadata": {},
   "source": [
    "# Global Context"
   ]
  },
  {
   "cell_type": "code",
   "execution_count": 88,
   "id": "8f9eab70",
   "metadata": {
    "ExecuteTime": {
     "end_time": "2023-02-01T22:30:52.125504Z",
     "start_time": "2023-02-01T22:30:52.123119Z"
    }
   },
   "outputs": [],
   "source": [
    "base = 'https://www.amazon.com/'"
   ]
  },
  {
   "cell_type": "code",
   "execution_count": 89,
   "id": "b5407c57",
   "metadata": {
    "ExecuteTime": {
     "end_time": "2023-02-01T22:30:54.262271Z",
     "start_time": "2023-02-01T22:30:53.218938Z"
    }
   },
   "outputs": [],
   "source": [
    "driver.get(base)"
   ]
  },
  {
   "cell_type": "code",
   "execution_count": 90,
   "id": "ae9cee75",
   "metadata": {
    "ExecuteTime": {
     "end_time": "2023-02-01T22:30:54.453372Z",
     "start_time": "2023-02-01T22:30:54.350341Z"
    }
   },
   "outputs": [],
   "source": [
    "doc = bs(driver.find_element(By.TAG_NAME, 'html').get_attribute('innerHTML'), 'html.parser')"
   ]
  },
  {
   "cell_type": "code",
   "execution_count": 91,
   "id": "1340142d",
   "metadata": {
    "ExecuteTime": {
     "end_time": "2023-02-01T22:30:54.647534Z",
     "start_time": "2023-02-01T22:30:54.644127Z"
    }
   },
   "outputs": [],
   "source": [
    "title = str(doc.head.title) + '\\n'\n",
    "metas = '\\n'.join(list(map(lambda x: str(x), doc.head.find_all('meta'))))\n",
    "head_string = title + metas"
   ]
  },
  {
   "cell_type": "code",
   "execution_count": 92,
   "id": "aae5ecff",
   "metadata": {
    "ExecuteTime": {
     "end_time": "2023-02-01T22:30:54.832814Z",
     "start_time": "2023-02-01T22:30:54.830412Z"
    }
   },
   "outputs": [],
   "source": [
    "name_prompt = '''The following text is the url and content of head tag of a website.\n",
    "url: {0}\n",
    "head: {1}\n",
    "The name of website is:'''.format(base, head_string)\n",
    "\n",
    "category_prompt = '''The following text is the url and content of head tag of a website.\n",
    "url: {0}\n",
    "head: {1}\n",
    "The website category is:'''.format(base, head_string)"
   ]
  },
  {
   "cell_type": "code",
   "execution_count": 93,
   "id": "eb4c94b9",
   "metadata": {
    "ExecuteTime": {
     "end_time": "2023-02-01T22:30:55.856020Z",
     "start_time": "2023-02-01T22:30:55.015892Z"
    }
   },
   "outputs": [
    {
     "data": {
      "text/plain": [
       "<OpenAIObject text_completion id=cmpl-6fFux5mtett06MTX1imgxAvSO8oi7 at 0x10fc3e400> JSON: {\n",
       "  \"choices\": [\n",
       "    {\n",
       "      \"finish_reason\": \"stop\",\n",
       "      \"index\": 0,\n",
       "      \"logprobs\": null,\n",
       "      \"text\": \" Amazon.com\"\n",
       "    }\n",
       "  ],\n",
       "  \"created\": 1675290655,\n",
       "  \"id\": \"cmpl-6fFux5mtett06MTX1imgxAvSO8oi7\",\n",
       "  \"model\": \"text-davinci-003\",\n",
       "  \"object\": \"text_completion\",\n",
       "  \"usage\": {\n",
       "    \"completion_tokens\": 3,\n",
       "    \"prompt_tokens\": 656,\n",
       "    \"total_tokens\": 659\n",
       "  }\n",
       "}"
      ]
     },
     "execution_count": 93,
     "metadata": {},
     "output_type": "execute_result"
    }
   ],
   "source": [
    "name_res = openai.Completion.create(\n",
    "    model=\"text-davinci-003\",\n",
    "    prompt=name_prompt,\n",
    "    temperature=0,\n",
    "    top_p=1,\n",
    "    frequency_penalty=0.0,\n",
    "    presence_penalty=0.0,\n",
    "    max_tokens=256\n",
    ")\n",
    "\n",
    "name_res"
   ]
  },
  {
   "cell_type": "code",
   "execution_count": 94,
   "id": "e81f5683",
   "metadata": {
    "ExecuteTime": {
     "end_time": "2023-02-01T22:30:56.561851Z",
     "start_time": "2023-02-01T22:30:56.052455Z"
    }
   },
   "outputs": [
    {
     "data": {
      "text/plain": [
       "<OpenAIObject text_completion id=cmpl-6fFuyXKLEhaaD3bPiMg65m9k0l5ay at 0x10fa693b0> JSON: {\n",
       "  \"choices\": [\n",
       "    {\n",
       "      \"finish_reason\": \"stop\",\n",
       "      \"index\": 0,\n",
       "      \"logprobs\": null,\n",
       "      \"text\": \" Shopping\"\n",
       "    }\n",
       "  ],\n",
       "  \"created\": 1675290656,\n",
       "  \"id\": \"cmpl-6fFuyXKLEhaaD3bPiMg65m9k0l5ay\",\n",
       "  \"model\": \"text-davinci-003\",\n",
       "  \"object\": \"text_completion\",\n",
       "  \"usage\": {\n",
       "    \"completion_tokens\": 1,\n",
       "    \"prompt_tokens\": 655,\n",
       "    \"total_tokens\": 656\n",
       "  }\n",
       "}"
      ]
     },
     "execution_count": 94,
     "metadata": {},
     "output_type": "execute_result"
    }
   ],
   "source": [
    "category_res = openai.Completion.create(\n",
    "    model=\"text-davinci-003\",\n",
    "    prompt=category_prompt,\n",
    "    temperature=0,\n",
    "    top_p=1,\n",
    "    frequency_penalty=0.0,\n",
    "    presence_penalty=0.0,\n",
    "    max_tokens=256\n",
    ")\n",
    "\n",
    "category_res"
   ]
  },
  {
   "cell_type": "code",
   "execution_count": 95,
   "id": "363fdebb",
   "metadata": {
    "ExecuteTime": {
     "end_time": "2023-02-01T22:30:56.763625Z",
     "start_time": "2023-02-01T22:30:56.760301Z"
    }
   },
   "outputs": [
    {
     "data": {
      "text/plain": [
       "'The website name is Amazon.com. This website is a Shopping website.'"
      ]
     },
     "execution_count": 95,
     "metadata": {},
     "output_type": "execute_result"
    }
   ],
   "source": [
    "global_context = 'The website name is {0}. This website is a {1} website.'.format(\n",
    "    name_res.choices[0].text.strip(),\n",
    "    category_res.choices[0].text.strip()\n",
    ")\n",
    "\n",
    "global_context"
   ]
  },
  {
   "cell_type": "markdown",
   "id": "71bd5edc",
   "metadata": {},
   "source": [
    "# Page Context"
   ]
  },
  {
   "cell_type": "code",
   "execution_count": 105,
   "id": "010da112",
   "metadata": {
    "ExecuteTime": {
     "end_time": "2023-02-01T22:32:23.651284Z",
     "start_time": "2023-02-01T22:32:23.576396Z"
    }
   },
   "outputs": [],
   "source": [
    "body_doc = bs(driver.find_element(By.TAG_NAME, 'body').get_attribute('innerHTML'), 'html.parser')"
   ]
  },
  {
   "cell_type": "code",
   "execution_count": 106,
   "id": "93c679cc",
   "metadata": {
    "ExecuteTime": {
     "end_time": "2023-02-01T22:32:24.398308Z",
     "start_time": "2023-02-01T22:32:24.391439Z"
    },
    "scrolled": true
   },
   "outputs": [],
   "source": [
    "headings = []\n",
    "for h in range(6):\n",
    "    headings = [*headings, *list(map(lambda x: x.get_text().strip(), body_doc.find_all('h' + str(h + 1))))]"
   ]
  },
  {
   "cell_type": "code",
   "execution_count": 107,
   "id": "3c79a4d6",
   "metadata": {
    "ExecuteTime": {
     "end_time": "2023-02-01T22:32:24.959031Z",
     "start_time": "2023-02-01T22:32:24.955874Z"
    }
   },
   "outputs": [
    {
     "data": {
      "text/plain": [
       "['Checkout\\n        \\n         (1 item)\\n        \\n\\n\\n  Are you sure you want to return to your Shopping Cart?\\n\\n\\n\\n\\n\\nStay in checkout\\n\\n\\n\\n\\n\\n      Return to Cart',\n",
       " '1',\n",
       " 'Shipping address',\n",
       " '1',\n",
       " 'Shipping address',\n",
       " 'Special delivery options',\n",
       " 'Verify your age',\n",
       " 'Tax information',\n",
       " 'Gift options',\n",
       " '2',\n",
       " 'Payment method',\n",
       " '2',\n",
       " 'Choose a payment method',\n",
       " 'Add ID',\n",
       " '3',\n",
       " 'Offers',\n",
       " '3',\n",
       " 'Offers',\n",
       " 'Monthly payments terms',\n",
       " '4',\n",
       " 'Items and shipping',\n",
       " '4',\n",
       " 'Items and shipping',\n",
       " 'Order Summary',\n",
       " 'Your available balance',\n",
       " 'Other payment methods']"
      ]
     },
     "execution_count": 107,
     "metadata": {},
     "output_type": "execute_result"
    }
   ],
   "source": [
    "headings"
   ]
  },
  {
   "cell_type": "code",
   "execution_count": 108,
   "id": "1386b32a",
   "metadata": {
    "ExecuteTime": {
     "end_time": "2023-02-01T22:32:28.857130Z",
     "start_time": "2023-02-01T22:32:28.850488Z"
    }
   },
   "outputs": [
    {
     "name": "stdout",
     "output_type": "stream",
     "text": [
      "The website name is Amazon.com. This website is a Shopping website.\n",
      "We are in page https://www.amazon.com/gp/buy/payselect/handlers/display.html?_from=cheetah of the website. The headings in this page are: Checkout\n",
      "        \n",
      "         (1 item)\n",
      "        \n",
      "\n",
      "\n",
      "  Are you sure you want to return to your Shopping Cart?\n",
      "\n",
      "\n",
      "\n",
      "\n",
      "\n",
      "Stay in checkout\n",
      "\n",
      "\n",
      "\n",
      "\n",
      "\n",
      "      Return to Cart, 1, Shipping address, 1, Shipping address, Special delivery options, Verify your age, Tax information, Gift options, 2, Payment method, 2, Choose a payment method, Add ID, 3, Offers, 3, Offers, Monthly payments terms, 4, Items and shipping, 4, Items and shipping, Order Summary, Your available balance, Other payment methods.\n",
      "The page main functionality is\n"
     ]
    }
   ],
   "source": [
    "local_prompt = '''{0}\n",
    "We are in page {1} of the website. The headings in this page are: {2}.\n",
    "The page main functionality is'''.format(\n",
    "    global_context,\n",
    "    driver.current_url,\n",
    "    ', '.join(headings)\n",
    ")\n",
    "\n",
    "print(local_prompt)"
   ]
  },
  {
   "cell_type": "code",
   "execution_count": 109,
   "id": "7aea882c",
   "metadata": {
    "ExecuteTime": {
     "end_time": "2023-02-01T22:32:41.101874Z",
     "start_time": "2023-02-01T22:32:35.696610Z"
    }
   },
   "outputs": [
    {
     "name": "stdout",
     "output_type": "stream",
     "text": [
      " to allow customers to complete their checkout process. It provides customers with the option to review their order, enter their shipping address, select a payment method, and apply any offers or discounts. It also provides customers with the option to add an ID for verification purposes and to view their available balance.\n"
     ]
    }
   ],
   "source": [
    "local_res = openai.Completion.create(\n",
    "    model=\"text-davinci-003\",\n",
    "    prompt=local_prompt,\n",
    "    temperature=0,\n",
    "    top_p=1,\n",
    "    frequency_penalty=0.0,\n",
    "    presence_penalty=0.0,\n",
    "    max_tokens=256\n",
    ")\n",
    "\n",
    "print(local_res.choices[0].text)"
   ]
  },
  {
   "cell_type": "code",
   "execution_count": null,
   "id": "538c7655",
   "metadata": {},
   "outputs": [],
   "source": []
  }
 ],
 "metadata": {
  "kernelspec": {
   "display_name": "Python 3",
   "language": "python",
   "name": "python3"
  },
  "language_info": {
   "codemirror_mode": {
    "name": "ipython",
    "version": 3
   },
   "file_extension": ".py",
   "mimetype": "text/x-python",
   "name": "python",
   "nbconvert_exporter": "python",
   "pygments_lexer": "ipython3",
   "version": "3.9.7"
  },
  "varInspector": {
   "cols": {
    "lenName": 16,
    "lenType": 16,
    "lenVar": 40
   },
   "kernels_config": {
    "python": {
     "delete_cmd_postfix": "",
     "delete_cmd_prefix": "del ",
     "library": "var_list.py",
     "varRefreshCmd": "print(var_dic_list())"
    },
    "r": {
     "delete_cmd_postfix": ") ",
     "delete_cmd_prefix": "rm(",
     "library": "var_list.r",
     "varRefreshCmd": "cat(var_dic_list()) "
    }
   },
   "types_to_exclude": [
    "module",
    "function",
    "builtin_function_or_method",
    "instance",
    "_Feature"
   ],
   "window_display": false
  }
 },
 "nbformat": 4,
 "nbformat_minor": 5
}
