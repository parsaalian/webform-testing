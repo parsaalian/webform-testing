{
 "cells": [
  {
   "cell_type": "code",
   "execution_count": 1,
   "id": "2e169ac5",
   "metadata": {
    "ExecuteTime": {
     "end_time": "2023-02-03T17:45:45.724784Z",
     "start_time": "2023-02-03T17:45:44.527799Z"
    }
   },
   "outputs": [],
   "source": [
    "import os\n",
    "import openai\n",
    "from dotenv import load_dotenv\n",
    "from bs4 import BeautifulSoup as bs\n",
    "from selenium import webdriver\n",
    "from selenium.webdriver.common.by import By"
   ]
  },
  {
   "cell_type": "code",
   "execution_count": 2,
   "id": "eef5ff48",
   "metadata": {
    "ExecuteTime": {
     "end_time": "2023-02-03T17:45:46.486664Z",
     "start_time": "2023-02-03T17:45:46.483268Z"
    }
   },
   "outputs": [],
   "source": [
    "load_dotenv()\n",
    "openai.api_key = os.getenv(\"OPENAI_API_KEY\")"
   ]
  },
  {
   "cell_type": "code",
   "execution_count": 3,
   "id": "5924cc85",
   "metadata": {
    "ExecuteTime": {
     "end_time": "2023-02-03T17:45:49.420320Z",
     "start_time": "2023-02-03T17:45:47.104790Z"
    }
   },
   "outputs": [],
   "source": [
    "driver = webdriver.Chrome('drivers/chromedriver108')"
   ]
  },
  {
   "cell_type": "markdown",
   "id": "abf60038",
   "metadata": {},
   "source": [
    "# Global Context"
   ]
  },
  {
   "cell_type": "code",
   "execution_count": 4,
   "id": "8f9eab70",
   "metadata": {
    "ExecuteTime": {
     "end_time": "2023-02-03T17:45:52.335895Z",
     "start_time": "2023-02-03T17:45:52.333502Z"
    }
   },
   "outputs": [],
   "source": [
    "base = 'https://demo.saleor.io/default-channel/en-US/'"
   ]
  },
  {
   "cell_type": "code",
   "execution_count": 5,
   "id": "b5407c57",
   "metadata": {
    "ExecuteTime": {
     "end_time": "2023-02-03T17:45:58.223219Z",
     "start_time": "2023-02-03T17:45:56.975335Z"
    }
   },
   "outputs": [],
   "source": [
    "driver.get(base)"
   ]
  },
  {
   "cell_type": "code",
   "execution_count": 6,
   "id": "ae9cee75",
   "metadata": {
    "ExecuteTime": {
     "end_time": "2023-02-03T17:46:04.454842Z",
     "start_time": "2023-02-03T17:46:04.415655Z"
    }
   },
   "outputs": [],
   "source": [
    "doc = bs(driver.find_element(By.TAG_NAME, 'html').get_attribute('innerHTML'), 'html.parser')"
   ]
  },
  {
   "cell_type": "code",
   "execution_count": 7,
   "id": "1340142d",
   "metadata": {
    "ExecuteTime": {
     "end_time": "2023-02-03T17:46:08.065739Z",
     "start_time": "2023-02-03T17:46:08.061742Z"
    }
   },
   "outputs": [],
   "source": [
    "title = str(doc.head.title) + '\\n'\n",
    "metas = '\\n'.join(list(map(lambda x: str(x), doc.head.find_all('meta'))))\n",
    "head_string = title + metas"
   ]
  },
  {
   "cell_type": "code",
   "execution_count": 9,
   "id": "aae5ecff",
   "metadata": {
    "ExecuteTime": {
     "end_time": "2023-02-03T17:46:21.393720Z",
     "start_time": "2023-02-03T17:46:21.391204Z"
    }
   },
   "outputs": [],
   "source": [
    "category_prompt = '''The following text is the url and content of head tag of a website.\n",
    "url: {0}\n",
    "head: {1}\n",
    "The website category is:'''.format(base, head_string)"
   ]
  },
  {
   "cell_type": "code",
   "execution_count": 10,
   "id": "b9b3642e",
   "metadata": {
    "ExecuteTime": {
     "end_time": "2023-02-03T17:46:21.924518Z",
     "start_time": "2023-02-03T17:46:21.915193Z"
    }
   },
   "outputs": [
    {
     "data": {
      "text/plain": [
       "'The following text is the url and content of head tag of a website.\\nurl: https://demo.saleor.io/default-channel/en-US/\\nhead: <title>Saleor React Storefront</title>\\n<meta charset=\"utf-8\"/>\\n<meta content=\"width=device-width\" name=\"viewport\"/>\\n<meta content=\"index,follow\" name=\"robots\"/>\\n<meta content=\"Saleor React Storefront\" property=\"og:title\"/>\\n<meta content=\"https://reactstorefront.vercel.app/default-channel/en-US/\" property=\"og:url\"/>\\n<meta content=\"https://og-image.vercel.app/React%20Storefront.png?theme=light&amp;md=1&amp;fontSize=100px&amp;images=https%3A%2F%2Fassets.vercel.com%2Fimage%2Fupload%2Ffront%2Fassets%2Fdesign%2Fvercel-triangle-black.svg&amp;images=https%3A%2F%2Fsaleor.io%2Fstatic%2Flogo-ad1b99aa7c6f5acf58a61640af760cfd.svg\" property=\"og:image\"/>\\n<meta content=\"Hero image\" property=\"og:image:alt\"/>\\n<meta content=\"2048\" property=\"og:image:width\"/>\\n<meta content=\"1170\" property=\"og:image:height\"/>\\n<meta content=\"Saleor React Storefront\" property=\"og:site_name\"/>\\n<meta content=\"11\" name=\"next-head-count\"/>\\nThe website category is:'"
      ]
     },
     "execution_count": 10,
     "metadata": {},
     "output_type": "execute_result"
    }
   ],
   "source": [
    "category_prompt"
   ]
  },
  {
   "cell_type": "code",
   "execution_count": 11,
   "id": "e81f5683",
   "metadata": {
    "ExecuteTime": {
     "end_time": "2023-02-03T17:46:34.310180Z",
     "start_time": "2023-02-03T17:46:33.450589Z"
    }
   },
   "outputs": [
    {
     "data": {
      "text/plain": [
       "<OpenAIObject text_completion id=cmpl-6fuQsY1krIHxXTNgH9zX10v5fvQBw at 0x10d5d2540> JSON: {\n",
       "  \"choices\": [\n",
       "    {\n",
       "      \"finish_reason\": \"stop\",\n",
       "      \"index\": 0,\n",
       "      \"logprobs\": null,\n",
       "      \"text\": \" eCommerce\"\n",
       "    }\n",
       "  ],\n",
       "  \"created\": 1675446394,\n",
       "  \"id\": \"cmpl-6fuQsY1krIHxXTNgH9zX10v5fvQBw\",\n",
       "  \"model\": \"text-davinci-003\",\n",
       "  \"object\": \"text_completion\",\n",
       "  \"usage\": {\n",
       "    \"completion_tokens\": 2,\n",
       "    \"prompt_tokens\": 383,\n",
       "    \"total_tokens\": 385\n",
       "  }\n",
       "}"
      ]
     },
     "execution_count": 11,
     "metadata": {},
     "output_type": "execute_result"
    }
   ],
   "source": [
    "category_res = openai.Completion.create(\n",
    "    model=\"text-davinci-003\",\n",
    "    prompt=category_prompt,\n",
    "    temperature=0,\n",
    "    top_p=1,\n",
    "    frequency_penalty=0.0,\n",
    "    presence_penalty=0.0,\n",
    "    max_tokens=256\n",
    ")\n",
    "\n",
    "category_res"
   ]
  },
  {
   "cell_type": "code",
   "execution_count": 12,
   "id": "363fdebb",
   "metadata": {
    "ExecuteTime": {
     "end_time": "2023-02-03T17:46:40.505378Z",
     "start_time": "2023-02-03T17:46:40.498644Z"
    }
   },
   "outputs": [
    {
     "data": {
      "text/plain": [
       "'The website name is https://demo.saleor.io/default-channel/en-US/. This website is a eCommerce website.'"
      ]
     },
     "execution_count": 12,
     "metadata": {},
     "output_type": "execute_result"
    }
   ],
   "source": [
    "global_context = 'The website name is {0}. This website is a {1} website.'.format(\n",
    "    driver.current_url,\n",
    "    category_res.choices[0].text.strip()\n",
    ")\n",
    "\n",
    "global_context"
   ]
  },
  {
   "cell_type": "markdown",
   "id": "71bd5edc",
   "metadata": {},
   "source": [
    "# Page Context"
   ]
  },
  {
   "cell_type": "code",
   "execution_count": 13,
   "id": "0e91617d",
   "metadata": {
    "ExecuteTime": {
     "end_time": "2023-02-03T17:46:53.222731Z",
     "start_time": "2023-02-03T17:46:52.980563Z"
    }
   },
   "outputs": [],
   "source": [
    "driver.get('https://demo.saleor.io/default-channel/en-US/account/register/')"
   ]
  },
  {
   "cell_type": "code",
   "execution_count": 14,
   "id": "010da112",
   "metadata": {
    "ExecuteTime": {
     "end_time": "2023-02-03T17:47:03.495482Z",
     "start_time": "2023-02-03T17:47:03.478339Z"
    }
   },
   "outputs": [],
   "source": [
    "body_doc = bs(driver.find_element(By.TAG_NAME, 'body').get_attribute('innerHTML'), 'html.parser')"
   ]
  },
  {
   "cell_type": "code",
   "execution_count": 15,
   "id": "93c679cc",
   "metadata": {
    "ExecuteTime": {
     "end_time": "2023-02-03T17:47:07.194460Z",
     "start_time": "2023-02-03T17:47:07.191347Z"
    },
    "scrolled": true
   },
   "outputs": [],
   "source": [
    "headings = []\n",
    "for h in range(6):\n",
    "    headings = [*headings, *list(map(lambda x: x.get_text().strip(), body_doc.find_all('h' + str(h + 1))))]"
   ]
  },
  {
   "cell_type": "code",
   "execution_count": 16,
   "id": "1386b32a",
   "metadata": {
    "ExecuteTime": {
     "end_time": "2023-02-03T17:47:08.375425Z",
     "start_time": "2023-02-03T17:47:08.369821Z"
    }
   },
   "outputs": [
    {
     "name": "stdout",
     "output_type": "stream",
     "text": [
      "The website name is https://demo.saleor.io/default-channel/en-US/. This website is a eCommerce website.\n",
      "We are in page https://demo.saleor.io/default-channel/en-US/account/register/ of the website. The headings in this page are: Create a new account.\n",
      "The page main functionality is\n"
     ]
    }
   ],
   "source": [
    "local_prompt = '''{0}\n",
    "We are in page {1} of the website. The headings in this page are: {2}.\n",
    "The page main functionality is'''.format(\n",
    "    global_context,\n",
    "    driver.current_url,\n",
    "    ', '.join(headings)\n",
    ")\n",
    "\n",
    "print(local_prompt)"
   ]
  },
  {
   "cell_type": "code",
   "execution_count": 17,
   "id": "7aea882c",
   "metadata": {
    "ExecuteTime": {
     "end_time": "2023-02-03T17:47:52.685348Z",
     "start_time": "2023-02-03T17:47:51.608775Z"
    }
   },
   "outputs": [
    {
     "name": "stdout",
     "output_type": "stream",
     "text": [
      " to allow users to create a new account on the website\n"
     ]
    }
   ],
   "source": [
    "local_res = openai.Completion.create(\n",
    "    model=\"text-davinci-003\",\n",
    "    prompt=local_prompt,\n",
    "    temperature=0,\n",
    "    top_p=1,\n",
    "    frequency_penalty=0.0,\n",
    "    presence_penalty=0.0,\n",
    "    max_tokens=256,\n",
    "    stop=['.']\n",
    ")\n",
    "\n",
    "print(local_res.choices[0].text)"
   ]
  },
  {
   "cell_type": "code",
   "execution_count": 18,
   "id": "538c7655",
   "metadata": {
    "ExecuteTime": {
     "end_time": "2023-02-03T17:48:00.332810Z",
     "start_time": "2023-02-03T17:48:00.325270Z"
    }
   },
   "outputs": [
    {
     "data": {
      "text/plain": [
       "'The website name is https://demo.saleor.io/default-channel/en-US/. This website is a eCommerce website.. We are in page https://demo.saleor.io/default-channel/en-US/account/register/. The page main functionality is to allow users to create a new account on the website.'"
      ]
     },
     "execution_count": 18,
     "metadata": {},
     "output_type": "execute_result"
    }
   ],
   "source": [
    "local_context = '''{0}. We are in page {1}. The page main functionality is {2}.'''.format(\n",
    "    global_context,\n",
    "    driver.current_url,\n",
    "    local_res.choices[0].text.strip()\n",
    ")\n",
    "\n",
    "local_context"
   ]
  },
  {
   "cell_type": "markdown",
   "id": "6569bb08",
   "metadata": {},
   "source": [
    "# Input Context"
   ]
  },
  {
   "cell_type": "code",
   "execution_count": 19,
   "id": "d3c46881",
   "metadata": {
    "ExecuteTime": {
     "end_time": "2023-02-03T17:48:20.674874Z",
     "start_time": "2023-02-03T17:48:20.671380Z"
    }
   },
   "outputs": [
    {
     "name": "stdout",
     "output_type": "stream",
     "text": [
      "<form method=\"post\"><div><h1 class=\"text-2xl font-bold\">Create a new account</h1></div><div class=\"my-3\"><label class=\"block text-md mb-2\" for=\"email\">Email</label><input class=\"px-4 w-full border-2 py-2 rounded-md text-sm outline-none\" id=\"email\" name=\"email\" spellcheck=\"false\" type=\"email\"/></div><div class=\"mt-5\"><label class=\"block text-md mb-2\" for=\"password\">Password</label><input class=\"px-4 w-full border-2 py-2 rounded-md text-sm outline-none\" id=\"password\" name=\"password\" spellcheck=\"false\" type=\"password\"/></div><div class=\"\"><button class=\"mt-4 mb-3 w-full bg-green-500 hover:bg-green-400 text-white py-2 rounded-md transition duration-100\" type=\"submit\">Register</button></div></form>\n"
     ]
    }
   ],
   "source": [
    "print(body_doc.find_all('form')[0])"
   ]
  },
  {
   "cell_type": "code",
   "execution_count": 21,
   "id": "805bad70",
   "metadata": {
    "ExecuteTime": {
     "end_time": "2023-02-03T17:48:43.506043Z",
     "start_time": "2023-02-03T17:48:43.502278Z"
    }
   },
   "outputs": [
    {
     "data": {
      "text/plain": [
       "'The website name is https://demo.saleor.io/default-channel/en-US/. This website is a eCommerce website.. We are in page https://demo.saleor.io/default-channel/en-US/account/register/. The page main functionality is to allow users to create a new account on the website.\\nWe want to complete the form on this page.\\nThe input on the page has label password, and its html is <input class=\"px-4 w-full border-2 py-2 rounded-md text-sm outline-none\" id=\"password\" name=\"password\" spellcheck=\"false\" type=\"password\"/>. Provide a value for the input:'"
      ]
     },
     "execution_count": 21,
     "metadata": {},
     "output_type": "execute_result"
    }
   ],
   "source": [
    "input_prompt = '''{0}\n",
    "We want to complete the form on this page.\n",
    "The input on the page has label {1}, and its html is {2}. Provide a value for the input:'''.format(\n",
    "    local_context,\n",
    "    'password',\n",
    "    body_doc.find_all('form')[0].find_all('input')[1]\n",
    ")\n",
    "\n",
    "input_prompt"
   ]
  },
  {
   "cell_type": "code",
   "execution_count": 22,
   "id": "e8f5ab50",
   "metadata": {
    "ExecuteTime": {
     "end_time": "2023-02-03T17:48:50.269572Z",
     "start_time": "2023-02-03T17:48:49.584351Z"
    }
   },
   "outputs": [
    {
     "name": "stdout",
     "output_type": "stream",
     "text": [
      "MyPassword123!\n"
     ]
    }
   ],
   "source": [
    "input_res = openai.Completion.create(\n",
    "    model=\"text-davinci-003\",\n",
    "    prompt=input_prompt,\n",
    "    temperature=0.7,\n",
    "    top_p=1,\n",
    "    frequency_penalty=0.0,\n",
    "    presence_penalty=0.0,\n",
    "    max_tokens=256,\n",
    ")\n",
    "\n",
    "print(input_res.choices[0].text.strip())"
   ]
  },
  {
   "cell_type": "markdown",
   "id": "0c7b47bd",
   "metadata": {},
   "source": [
    "# Error Context"
   ]
  },
  {
   "cell_type": "code",
   "execution_count": 31,
   "id": "e9af2091",
   "metadata": {
    "ExecuteTime": {
     "end_time": "2023-02-03T17:51:38.390617Z",
     "start_time": "2023-02-03T17:51:38.388760Z"
    }
   },
   "outputs": [],
   "source": [
    "sample_error = '''Your password must be all in lower case.\n",
    "Your password must not contain any special characters.'''"
   ]
  },
  {
   "cell_type": "code",
   "execution_count": 32,
   "id": "4980a0f4",
   "metadata": {
    "ExecuteTime": {
     "end_time": "2023-02-03T17:51:45.562324Z",
     "start_time": "2023-02-03T17:51:45.558534Z"
    }
   },
   "outputs": [
    {
     "data": {
      "text/plain": [
       "'\"MyPassword123!\", \"mypassword123!\", \"MyPassword123\"'"
      ]
     },
     "execution_count": 32,
     "metadata": {},
     "output_type": "execute_result"
    }
   ],
   "source": [
    "values = [\n",
    "    \"MyPassword123!\",\n",
    "    \"mypassword123!\",\n",
    "    \"MyPassword123\"\n",
    "]\n",
    "\n",
    "values_string = '\"' + '\", \"'.join(values)+ '\"'\n",
    "\n",
    "values_string"
   ]
  },
  {
   "cell_type": "code",
   "execution_count": 33,
   "id": "f938be66",
   "metadata": {
    "ExecuteTime": {
     "end_time": "2023-02-03T17:51:46.657041Z",
     "start_time": "2023-02-03T17:51:46.652882Z"
    }
   },
   "outputs": [
    {
     "data": {
      "text/plain": [
       "'The website name is https://demo.saleor.io/default-channel/en-US/. This website is a eCommerce website.. We are in page https://demo.saleor.io/default-channel/en-US/account/register/. The page main functionality is to allow users to create a new account on the website.\\nThe input on the page has label password, and its html is <input class=\"px-4 w-full border-2 py-2 rounded-md text-sm outline-none\" id=\"password\" name=\"password\" spellcheck=\"false\" type=\"password\"/>.\\nWe entered the following values for input: \"MyPassword123!\", \"mypassword123!\", \"MyPassword123\" and we got the following error: \"Your password must be all in lower case.\\nYour password must not contain any special characters.\".\\nA valid input sample is:'"
      ]
     },
     "execution_count": 33,
     "metadata": {},
     "output_type": "execute_result"
    }
   ],
   "source": [
    "error_prompt = '''{0}\n",
    "The input on the page has label {1}, and its html is {2}.\n",
    "We entered the following values for input: {3} and we got the following error: \"{4}\".\n",
    "A valid input sample is:'''.format(\n",
    "    local_context,\n",
    "    'password',\n",
    "    body_doc.find_all('form')[0].find_all('input')[1],\n",
    "    values_string,\n",
    "    sample_error\n",
    ")\n",
    "\n",
    "error_prompt\n"
   ]
  },
  {
   "cell_type": "code",
   "execution_count": 34,
   "id": "2adff55c",
   "metadata": {
    "ExecuteTime": {
     "end_time": "2023-02-03T17:51:48.671683Z",
     "start_time": "2023-02-03T17:51:47.418584Z"
    }
   },
   "outputs": [
    {
     "name": "stdout",
     "output_type": "stream",
     "text": [
      "\"mypassword123\".\n"
     ]
    }
   ],
   "source": [
    "error_res = openai.Completion.create(\n",
    "    model=\"text-davinci-003\",\n",
    "    prompt=error_prompt,\n",
    "    temperature=0,\n",
    "    top_p=1,\n",
    "    frequency_penalty=0.0,\n",
    "    presence_penalty=0.0,\n",
    "    max_tokens=256,\n",
    ")\n",
    "\n",
    "print(error_res.choices[0].text.strip())"
   ]
  },
  {
   "cell_type": "code",
   "execution_count": null,
   "id": "db32beda",
   "metadata": {},
   "outputs": [],
   "source": []
  }
 ],
 "metadata": {
  "kernelspec": {
   "display_name": "Python 3",
   "language": "python",
   "name": "python3"
  },
  "language_info": {
   "codemirror_mode": {
    "name": "ipython",
    "version": 3
   },
   "file_extension": ".py",
   "mimetype": "text/x-python",
   "name": "python",
   "nbconvert_exporter": "python",
   "pygments_lexer": "ipython3",
   "version": "3.9.7"
  },
  "varInspector": {
   "cols": {
    "lenName": 16,
    "lenType": 16,
    "lenVar": 40
   },
   "kernels_config": {
    "python": {
     "delete_cmd_postfix": "",
     "delete_cmd_prefix": "del ",
     "library": "var_list.py",
     "varRefreshCmd": "print(var_dic_list())"
    },
    "r": {
     "delete_cmd_postfix": ") ",
     "delete_cmd_prefix": "rm(",
     "library": "var_list.r",
     "varRefreshCmd": "cat(var_dic_list()) "
    }
   },
   "types_to_exclude": [
    "module",
    "function",
    "builtin_function_or_method",
    "instance",
    "_Feature"
   ],
   "window_display": false
  }
 },
 "nbformat": 4,
 "nbformat_minor": 5
}
