{
 "cells": [
  {
   "cell_type": "code",
   "execution_count": 1,
   "id": "50a457e3",
   "metadata": {
    "ExecuteTime": {
     "end_time": "2023-03-14T21:20:07.003649Z",
     "start_time": "2023-03-14T21:20:06.762073Z"
    }
   },
   "outputs": [],
   "source": [
    "from bs4 import BeautifulSoup as bs, NavigableString, Comment\n",
    "from selenium import webdriver\n",
    "from selenium.webdriver.chrome.service import Service\n",
    "from webdriver_manager.chrome import ChromeDriverManager\n",
    "from selenium.webdriver.common.by import By\n",
    "\n",
    "import os\n",
    "import sys\n",
    "module_path = os.path.abspath(os.path.join('./form_crawler'))\n",
    "if module_path not in sys.path:\n",
    "    sys.path.append(module_path)\n",
    "\n",
    "from form_crawler.html_transformer import simplify_form"
   ]
  },
  {
   "cell_type": "code",
   "execution_count": 2,
   "id": "b3c6124b",
   "metadata": {
    "ExecuteTime": {
     "end_time": "2023-03-14T21:20:08.968471Z",
     "start_time": "2023-03-14T21:20:07.115451Z"
    }
   },
   "outputs": [],
   "source": [
    "driver = webdriver.Chrome(service=Service(ChromeDriverManager().install()))"
   ]
  },
  {
   "cell_type": "code",
   "execution_count": 16,
   "id": "1ba5c58c",
   "metadata": {
    "ExecuteTime": {
     "end_time": "2023-03-14T21:20:26.669632Z",
     "start_time": "2023-03-14T21:20:26.385792Z"
    }
   },
   "outputs": [],
   "source": [
    "driver.get('http://localhost:3000/antd')"
   ]
  },
  {
   "cell_type": "code",
   "execution_count": 17,
   "id": "9459c063",
   "metadata": {
    "ExecuteTime": {
     "end_time": "2023-03-14T21:20:26.777724Z",
     "start_time": "2023-03-14T21:20:26.770630Z"
    }
   },
   "outputs": [],
   "source": [
    "form = driver.find_element(By.ID, 'form')"
   ]
  },
  {
   "cell_type": "code",
   "execution_count": 18,
   "id": "9bb659d4",
   "metadata": {
    "ExecuteTime": {
     "end_time": "2023-03-14T21:20:32.258147Z",
     "start_time": "2023-03-14T21:20:28.706097Z"
    },
    "scrolled": false
   },
   "outputs": [
    {
     "name": "stdout",
     "output_type": "stream",
     "text": [
      "3.5488228797912598\n"
     ]
    }
   ],
   "source": [
    "import time\n",
    "\n",
    "tick = time.time()\n",
    "simplified = simplify_form(driver, form)\n",
    "print(time.time() - tick)"
   ]
  },
  {
   "cell_type": "code",
   "execution_count": 19,
   "id": "b6f4100a",
   "metadata": {
    "ExecuteTime": {
     "end_time": "2023-03-14T21:20:37.282438Z",
     "start_time": "2023-03-14T21:20:37.278671Z"
    }
   },
   "outputs": [
    {
     "data": {
      "text/plain": [
       "'<form backgroundcolor=\"black 0\" bordercolor=\"black 0\" color=\"black 0\"><div backgroundcolor=\"black 0\" bordercolor=\"black 0\" color=\"black 0\"><div backgroundcolor=\"black 0\" bordercolor=\"black 0\" color=\"black 0\"><div backgroundcolor=\"black 0\" bordercolor=\"black 0\" color=\"black 0\" title=\"there\">there</div><div backgroundcolor=\"black 0\" bordercolor=\"black 0\" color=\"black 0\"><div backgroundcolor=\"black 0\" bordercolor=\"black 0\" color=\"black 0\"><span backgroundcolor=\"black 0\" bordercolor=\"black 0\" color=\"black 0\"><input backgroundcolor=\"black 0\" bordercolor=\"black 0\" color=\"black 0\" type=\"radio\" value=\"\"/><span backgroundcolor=\"white 1\" bordercolor=\"gainsboro 1\" color=\"black 0\"></span></span><span backgroundcolor=\"black 0\" bordercolor=\"black 0\" color=\"black 0\">there</span></div><div backgroundcolor=\"black 0\" bordercolor=\"tomato 1\" color=\"tomato 1\" role=\"alert\">it chosen separate series public eleven red roll exercise riding</div></div></div><div backgroundcolor=\"black 0\" bordercolor=\"black 0\" color=\"black 0\"></div></div><div backgroundcolor=\"black 0\" bordercolor=\"black 0\" color=\"black 0\"><div backgroundcolor=\"black 0\" bordercolor=\"black 0\" color=\"black 0\"><div backgroundcolor=\"black 0\" bordercolor=\"black 0\" color=\"black 0\" title=\"we\">we</div><div backgroundcolor=\"black 0\" bordercolor=\"black 0\" color=\"black 0\"><div backgroundcolor=\"black 0\" bordercolor=\"black 0\" color=\"black 0\"><span backgroundcolor=\"black 0\" bordercolor=\"black 0\" color=\"black 0\"><input backgroundcolor=\"black 0\" bordercolor=\"black 0\" color=\"black 0\" disabled=\"\" type=\"radio\" value=\"\"/><span backgroundcolor=\"black 0\" bordercolor=\"gainsboro 1\" color=\"black 0\"></span></span><span backgroundcolor=\"black 0\" bordercolor=\"black 0\" color=\"black 0\">we</span></div><div backgroundcolor=\"black 0\" bordercolor=\"orange 1\" color=\"orange 1\" role=\"alert\">soldier than might brother operation</div></div></div><div backgroundcolor=\"black 0\" bordercolor=\"black 0\" color=\"black 0\"><div backgroundcolor=\"white 1\" bordercolor=\"gainsboro 1\" color=\"black 0\"><span aria-activedescendant=\"rc_select_2_list_0\" aria-autocomplete=\"list\" aria-controls=\"rc_select_2_list\" aria-haspopup=\"listbox\" aria-owns=\"rc_select_2_list\" autocomplete=\"off\" backgroundcolor=\"black 0\" bordercolor=\"black 0\" color=\"black 0\" id=\"rc_select_2\" role=\"combobox\" type=\"search\" value=\"\"></span><span backgroundcolor=\"black 0\" bordercolor=\"black 0\" color=\"black 0\"></span></div><span aria-hidden=\"true\" aria-label=\"check-circle\" backgroundcolor=\"black 0\" bordercolor=\"limegreen 1\" color=\"limegreen 1\" data-icon=\"check-circle\" fill=\"currentColor\" focusable=\"false\" height=\"1em\" role=\"img\" unselectable=\"on\" viewbox=\"64 64 896 896\" width=\"1em\"></span></div></div><div backgroundcolor=\"black 0\" bordercolor=\"black 0\" color=\"black 0\"><div backgroundcolor=\"black 0\" bordercolor=\"black 0\" color=\"black 0\"><div aria-checked=\"false\" backgroundcolor=\"black 0\" bordercolor=\"black 0\" color=\"black 0\" disabled=\"\" role=\"switch\" type=\"button\"><div backgroundcolor=\"black 0\" bordercolor=\"black 0\" color=\"black 0\"></div><span backgroundcolor=\"black 0\" bordercolor=\"black 0\" color=\"black 0\"></span></div><div backgroundcolor=\"black 0\" bordercolor=\"black 0\" color=\"black 0\" role=\"alert\">free please skin shot especially him gradually ball proud</div></div><div backgroundcolor=\"black 0\" bordercolor=\"black 0\" color=\"black 0\"><div aria-checked=\"false\" backgroundcolor=\"black 0\" bordercolor=\"black 0\" color=\"black 0\" role=\"switch\" type=\"button\"><div backgroundcolor=\"black 0\" bordercolor=\"black 0\" color=\"black 0\"></div><span backgroundcolor=\"black 0\" bordercolor=\"black 0\" color=\"black 0\"></span></div><div backgroundcolor=\"black 0\" bordercolor=\"black 0\" color=\"black 0\" role=\"alert\"></div></div></div><div backgroundcolor=\"black 0\" bordercolor=\"black 0\" color=\"black 0\"><div backgroundcolor=\"black 0\" bordercolor=\"black 0\" color=\"black 0\"></div><div backgroundcolor=\"black 0\" bordercolor=\"black 0\" color=\"black 0\"><div backgroundcolor=\"black 0\" bordercolor=\"black 0\" color=\"black 0\"><div backgroundcolor=\"black 0\" bordercolor=\"black 0\" color=\"black 0\"></div><div backgroundcolor=\"black 0\" bordercolor=\"black 0\" color=\"black 0\"><span backgroundcolor=\"white 1\" bordercolor=\"whitesmoke 1\" color=\"black 0\"></span><span backgroundcolor=\"white 1\" bordercolor=\"whitesmoke 1\" color=\"black 0\"></span><span backgroundcolor=\"white 1\" bordercolor=\"whitesmoke 1\" color=\"black 0\"></span><span backgroundcolor=\"white 1\" bordercolor=\"whitesmoke 1\" color=\"black 0\"></span></div></div><div backgroundcolor=\"black 0\" bordercolor=\"black 0\" color=\"black 0\" role=\"alert\"></div></div></div><div backgroundcolor=\"black 0\" bordercolor=\"black 0\" color=\"black 0\"><div backgroundcolor=\"black 0\" bordercolor=\"black 0\" color=\"black 0\"><div backgroundcolor=\"black 0\" bordercolor=\"black 0\" color=\"black 0\"><div backgroundcolor=\"black 0\" bordercolor=\"black 0\" color=\"black 0\"><div backgroundcolor=\"black 0\" bordercolor=\"black 0\" color=\"black 0\" title=\"rate\"><span backgroundcolor=\"black 0\" bordercolor=\"black 0\" color=\"black 0\">rate</span><span aria-hidden=\"true\" aria-label=\"close\" backgroundcolor=\"black 0\" bordercolor=\"black 0\" color=\"black 0\" data-icon=\"close\" fill=\"currentColor\" focusable=\"false\" fontsize=\"0.7142857142857143\" fontweight=\"bold\" height=\"1em\" role=\"img\" unselectable=\"on\" viewbox=\"64 64 896 896\" width=\"1em\"></span></div><div backgroundcolor=\"black 0\" bordercolor=\"black 0\" color=\"black 0\" title=\"children\"><span backgroundcolor=\"black 0\" bordercolor=\"black 0\" color=\"black 0\">children</span><span aria-hidden=\"true\" aria-label=\"close\" backgroundcolor=\"black 0\" bordercolor=\"black 0\" color=\"black 0\" data-icon=\"close\" fill=\"currentColor\" focusable=\"false\" fontsize=\"0.7142857142857143\" fontweight=\"bold\" height=\"1em\" role=\"img\" unselectable=\"on\" viewbox=\"64 64 896 896\" width=\"1em\"></span></div><div backgroundcolor=\"black 0\" bordercolor=\"black 0\" color=\"black 0\" title=\"desert fat very\"><span backgroundcolor=\"black 0\" bordercolor=\"black 0\" color=\"black 0\">desert fat very</span><span aria-hidden=\"true\" aria-label=\"close\" backgroundcolor=\"black 0\" bordercolor=\"black 0\" color=\"black 0\" data-icon=\"close\" fill=\"currentColor\" focusable=\"false\" fontsize=\"0.7142857142857143\" fontweight=\"bold\" height=\"1em\" role=\"img\" unselectable=\"on\" viewbox=\"64 64 896 896\" width=\"1em\"></span></div><div backgroundcolor=\"black 0\" bordercolor=\"black 0\" color=\"black 0\"><input aria-activedescendant=\"rc_select_3_list_0\" aria-autocomplete=\"list\" aria-controls=\"rc_select_3_list\" aria-haspopup=\"listbox\" aria-owns=\"rc_select_3_list\" autocomplete=\"off\" backgroundcolor=\"black 0\" bordercolor=\"black 0\" color=\"black 0\" id=\"rc_select_3\" readonly=\"\" role=\"combobox\" type=\"search\" unselectable=\"on\" value=\"\"/><span aria-hidden=\"true\" backgroundcolor=\"black 0\" bordercolor=\"black 0\" color=\"black 0\">\\xa0</span></div></div><span aria-hidden=\"true\" aria-label=\"exclamation-circle\" backgroundcolor=\"black 0\" bordercolor=\"orange 1\" color=\"orange 1\" data-icon=\"exclamation-circle\" fill=\"currentColor\" focusable=\"false\" height=\"1em\" role=\"img\" unselectable=\"on\" viewbox=\"64 64 896 896\" width=\"1em\"></span></div><div backgroundcolor=\"black 0\" bordercolor=\"orange 1\" color=\"orange 1\" role=\"alert\">such bigger if stiff</div></div><div backgroundcolor=\"black 0\" bordercolor=\"black 0\" color=\"black 0\"><div backgroundcolor=\"black 0\" bordercolor=\"black 0\" color=\"black 0\"><div backgroundcolor=\"black 0\" bordercolor=\"black 0\" color=\"black 0\"></div><div backgroundcolor=\"white 1\" bordercolor=\"whitesmoke 1\" color=\"black 0\"></div></div><div backgroundcolor=\"black 0\" bordercolor=\"orange 1\" color=\"orange 1\" role=\"alert\">managed forth talk</div></div></div></form>'"
      ]
     },
     "execution_count": 19,
     "metadata": {},
     "output_type": "execute_result"
    }
   ],
   "source": [
    "simplified"
   ]
  },
  {
   "cell_type": "code",
   "execution_count": null,
   "id": "c366d597",
   "metadata": {},
   "outputs": [],
   "source": []
  }
 ],
 "metadata": {
  "kernelspec": {
   "display_name": "Python 3 (ipykernel)",
   "language": "python",
   "name": "python3"
  },
  "language_info": {
   "codemirror_mode": {
    "name": "ipython",
    "version": 3
   },
   "file_extension": ".py",
   "mimetype": "text/x-python",
   "name": "python",
   "nbconvert_exporter": "python",
   "pygments_lexer": "ipython3",
   "version": "3.10.9"
  },
  "varInspector": {
   "cols": {
    "lenName": 16,
    "lenType": 16,
    "lenVar": 40
   },
   "kernels_config": {
    "python": {
     "delete_cmd_postfix": "",
     "delete_cmd_prefix": "del ",
     "library": "var_list.py",
     "varRefreshCmd": "print(var_dic_list())"
    },
    "r": {
     "delete_cmd_postfix": ") ",
     "delete_cmd_prefix": "rm(",
     "library": "var_list.r",
     "varRefreshCmd": "cat(var_dic_list()) "
    }
   },
   "types_to_exclude": [
    "module",
    "function",
    "builtin_function_or_method",
    "instance",
    "_Feature"
   ],
   "window_display": false
  }
 },
 "nbformat": 4,
 "nbformat_minor": 5
}
