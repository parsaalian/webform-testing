{
 "cells": [
  {
   "cell_type": "code",
   "execution_count": 1,
   "id": "69e1088e",
   "metadata": {
    "ExecuteTime": {
     "end_time": "2023-03-10T21:14:47.949423Z",
     "start_time": "2023-03-10T21:14:47.711010Z"
    }
   },
   "outputs": [],
   "source": [
    "import re\n",
    "from scipy.spatial import KDTree\n",
    "from webcolors import CSS3_HEX_TO_NAMES, hex_to_rgb\n",
    "\n",
    "from bs4 import BeautifulSoup as bs, NavigableString, Comment\n",
    "from selenium import webdriver\n",
    "from selenium.webdriver.chrome.service import Service\n",
    "from webdriver_manager.chrome import ChromeDriverManager\n",
    "from selenium.webdriver.common.by import By"
   ]
  },
  {
   "cell_type": "code",
   "execution_count": 2,
   "id": "65beb672",
   "metadata": {
    "ExecuteTime": {
     "end_time": "2023-03-10T21:14:50.433788Z",
     "start_time": "2023-03-10T21:14:48.507745Z"
    }
   },
   "outputs": [],
   "source": [
    "driver = webdriver.Chrome(service=Service(ChromeDriverManager().install()))"
   ]
  },
  {
   "cell_type": "code",
   "execution_count": 3,
   "id": "f1ee9feb",
   "metadata": {
    "ExecuteTime": {
     "end_time": "2023-03-10T21:14:52.594727Z",
     "start_time": "2023-03-10T21:14:51.973771Z"
    }
   },
   "outputs": [],
   "source": [
    "driver.get('http://localhost:3000/antd')"
   ]
  },
  {
   "cell_type": "markdown",
   "id": "c5f431cc",
   "metadata": {},
   "source": [
    "# Get Form"
   ]
  },
  {
   "cell_type": "code",
   "execution_count": 4,
   "id": "4519aa32",
   "metadata": {
    "ExecuteTime": {
     "end_time": "2023-03-10T21:14:55.929739Z",
     "start_time": "2023-03-10T21:14:55.916801Z"
    }
   },
   "outputs": [],
   "source": [
    "form = driver.find_element(By.ID, 'form')"
   ]
  },
  {
   "cell_type": "code",
   "execution_count": null,
   "id": "3169f7c5",
   "metadata": {},
   "outputs": [],
   "source": []
  },
  {
   "cell_type": "markdown",
   "id": "6003cc86",
   "metadata": {},
   "source": [
    "# Embed CSS Properties Into Object"
   ]
  },
  {
   "cell_type": "code",
   "execution_count": 5,
   "id": "1044a31d",
   "metadata": {
    "ExecuteTime": {
     "end_time": "2023-03-10T21:14:57.389208Z",
     "start_time": "2023-03-10T21:14:57.381138Z"
    }
   },
   "outputs": [],
   "source": [
    "IMPORTANT_PROPERTIES = ['backgroundColor', 'color', 'borderColor', 'fontSize', 'fontWeight']\n",
    "FONT_WEIGHT_NAMES = {\n",
    "        '100': 'thin',\n",
    "        '200': 'extra light',\n",
    "        '300': 'light',\n",
    "        '400': 'normal',\n",
    "        '500': 'medium',\n",
    "        '600': 'semi bold',\n",
    "        '700': 'bold',\n",
    "        '800': 'extra bold',\n",
    "        '900': 'heavy',\n",
    "}\n",
    "\n",
    "\n",
    "def convert_rgb_to_names(rgb_tuple):\n",
    "    css3_db = CSS3_HEX_TO_NAMES\n",
    "    names = []\n",
    "    rgb_values = []\n",
    "    for color_hex, color_name in css3_db.items():\n",
    "        names.append(color_name)\n",
    "        rgb_values.append(hex_to_rgb(color_hex))\n",
    "    \n",
    "    kdt_db = KDTree(rgb_values)\n",
    "    distance, index = kdt_db.query(rgb_tuple)\n",
    "    return names[index]\n",
    "\n",
    "\n",
    "def convert_color(rgba_string):\n",
    "    rgba_tuple = list(\n",
    "        map(\n",
    "            lambda x: int(x),\n",
    "            re.findall(r'\\d+', rgba_string)\n",
    "        )\n",
    "    )\n",
    "    alpha = 1 if len(rgba_tuple) == 3 else rgba_tuple[3]\n",
    "    color_name = convert_rgb_to_names(rgba_tuple[:3])\n",
    "    return '{0} {1}'.format(color_name, alpha)\n",
    "\n",
    "\n",
    "def convert_font_weight(font_weight):\n",
    "    global FONT_WEIGHT_NAMES\n",
    "    return FONT_WEIGHT_NAMES[font_weight]\n",
    "\n",
    "\n",
    "def embed_properties_into_element(element):\n",
    "    global IMPORTANT_PROPERTIES\n",
    "    \n",
    "    properties = driver.execute_script('''\n",
    "        const style = window.getComputedStyle(arguments[0]);\n",
    "        console.log(style);\n",
    "        const properties = {};\n",
    "        Object.keys(style).forEach((key) => {\n",
    "            if (isNaN(key)) {\n",
    "                properties[key] = style[key];\n",
    "            }\n",
    "        });\n",
    "        return properties;\n",
    "    ''', element)\n",
    "    \n",
    "    property_converters = {\n",
    "        'color': convert_color,\n",
    "        'backgroundColor': convert_color,\n",
    "        'borderColor': convert_color,\n",
    "        'fontWeight': convert_font_weight\n",
    "    }\n",
    "    \n",
    "    for p in IMPORTANT_PROPERTIES:\n",
    "        value = properties[p]\n",
    "        if p in property_converters:\n",
    "            value = property_converters[p](value)\n",
    "        driver.execute_script(\"arguments[0].setAttribute(arguments[1], arguments[2])\", element, p, value)"
   ]
  },
  {
   "cell_type": "code",
   "execution_count": 6,
   "id": "99e75e95",
   "metadata": {
    "ExecuteTime": {
     "end_time": "2023-03-10T21:14:58.023777Z",
     "start_time": "2023-03-10T21:14:58.016475Z"
    }
   },
   "outputs": [
    {
     "data": {
      "text/plain": [
       "\"\\nqueue = [form]\\n\\nwhile len(queue) > 0:\\n    element = queue[0]\\n    children = element.find_elements(By.XPATH, '*')\\n    queue = [*queue, *children]\\n    embed_properties_into_element(element)\\n    queue = queue[1:]\\n\""
      ]
     },
     "execution_count": 6,
     "metadata": {},
     "output_type": "execute_result"
    }
   ],
   "source": [
    "'''\n",
    "queue = [form]\n",
    "\n",
    "while len(queue) > 0:\n",
    "    element = queue[0]\n",
    "    children = element.find_elements(By.XPATH, '*')\n",
    "    queue = [*queue, *children]\n",
    "    embed_properties_into_element(element)\n",
    "    queue = queue[1:]\n",
    "'''"
   ]
  },
  {
   "cell_type": "markdown",
   "id": "ee75d428",
   "metadata": {},
   "source": [
    "# Remove Zero-Size Elements"
   ]
  },
  {
   "cell_type": "code",
   "execution_count": 7,
   "id": "4d3570f7",
   "metadata": {
    "ExecuteTime": {
     "end_time": "2023-03-10T21:14:59.058617Z",
     "start_time": "2023-03-10T21:14:59.054496Z"
    }
   },
   "outputs": [
    {
     "data": {
      "text/plain": [
       "'\\nqueue = [form]\\n\\nwhile len(queue) > 0:\\n    element = queue[0]\\n    size = element.size\\n    if size[\\'height\\'] == 0 or size[\\'width\\'] == 0:\\n        driver.execute_script(\"return arguments[0].remove();\", element);\\n    else:\\n        children = element.find_elements(By.XPATH, \\'*\\')\\n        queue = [*queue, *children]\\n        embed_properties_into_element(element)\\n    queue = queue[1:]\\n'"
      ]
     },
     "execution_count": 7,
     "metadata": {},
     "output_type": "execute_result"
    }
   ],
   "source": [
    "'''\n",
    "queue = [form]\n",
    "\n",
    "while len(queue) > 0:\n",
    "    element = queue[0]\n",
    "    size = element.size\n",
    "    if size['height'] == 0 or size['width'] == 0:\n",
    "        driver.execute_script(\"return arguments[0].remove();\", element);\n",
    "    else:\n",
    "        children = element.find_elements(By.XPATH, '*')\n",
    "        queue = [*queue, *children]\n",
    "        embed_properties_into_element(element)\n",
    "    queue = queue[1:]\n",
    "'''"
   ]
  },
  {
   "cell_type": "markdown",
   "id": "2ba7cf3d",
   "metadata": {},
   "source": [
    "# Convert to Beautiful Soup"
   ]
  },
  {
   "cell_type": "code",
   "execution_count": 8,
   "id": "83739d76",
   "metadata": {
    "ExecuteTime": {
     "end_time": "2023-03-10T21:15:00.152463Z",
     "start_time": "2023-03-10T21:15:00.148480Z"
    }
   },
   "outputs": [
    {
     "data": {
      "text/plain": [
       "\"\\ndoc = bs(form.get_attribute('innerHTML'))\\n\""
      ]
     },
     "execution_count": 8,
     "metadata": {},
     "output_type": "execute_result"
    }
   ],
   "source": [
    "'''\n",
    "doc = bs(form.get_attribute('innerHTML'))\n",
    "'''"
   ]
  },
  {
   "cell_type": "markdown",
   "id": "70c5fd6d",
   "metadata": {},
   "source": [
    "# Remove Unnecessary Attributes from Elements"
   ]
  },
  {
   "cell_type": "code",
   "execution_count": 9,
   "id": "ccc6ceb0",
   "metadata": {
    "ExecuteTime": {
     "end_time": "2023-03-10T21:15:01.241044Z",
     "start_time": "2023-03-10T21:15:01.236762Z"
    }
   },
   "outputs": [
    {
     "data": {
      "text/plain": [
       "\"\\nfor element in doc.find_all():\\n    if type(element) != NavigableString or type(element) != Comment:\\n        del element['class']\\n        del element['style']\\n        # for icons: remove unnecessary data of the icon\\n        del element['d']\\n\""
      ]
     },
     "execution_count": 9,
     "metadata": {},
     "output_type": "execute_result"
    }
   ],
   "source": [
    "'''\n",
    "for element in doc.find_all():\n",
    "    if type(element) != NavigableString or type(element) != Comment:\n",
    "        del element['class']\n",
    "        del element['style']\n",
    "        # for icons: remove unnecessary data of the icon\n",
    "        del element['d']\n",
    "'''"
   ]
  },
  {
   "cell_type": "markdown",
   "id": "34771536",
   "metadata": {},
   "source": [
    "# Remove Unnecesary Elements"
   ]
  },
  {
   "cell_type": "code",
   "execution_count": 10,
   "id": "aea41909",
   "metadata": {
    "ExecuteTime": {
     "end_time": "2023-03-10T21:15:02.796992Z",
     "start_time": "2023-03-10T21:15:02.792829Z"
    }
   },
   "outputs": [
    {
     "data": {
      "text/plain": [
       "'\\nfor element in doc.find_all():\\n    if type(element) == Comment:\\n        element.extract()\\n'"
      ]
     },
     "execution_count": 10,
     "metadata": {},
     "output_type": "execute_result"
    }
   ],
   "source": [
    "'''\n",
    "for element in doc.find_all():\n",
    "    if type(element) == Comment:\n",
    "        element.extract()\n",
    "'''\n",
    "\n",
    "UNNECESSARY_TAGS = [\n",
    "    'style', 'script', 'noscript', 'link'\n",
    "]\n",
    "\n",
    "'''\n",
    "for tag in doc.find_all:\n",
    "    if tag.name in UNNECESSARY_TAGS:\n",
    "        element.extract()'''"
   ]
  },
  {
   "cell_type": "markdown",
   "id": "faab84f5",
   "metadata": {},
   "source": [
    "# Merge Tags With a Single Child"
   ]
  },
  {
   "cell_type": "code",
   "execution_count": 12,
   "id": "f657e01c",
   "metadata": {
    "ExecuteTime": {
     "end_time": "2023-03-10T21:15:12.741790Z",
     "start_time": "2023-03-10T21:15:12.736588Z"
    }
   },
   "outputs": [],
   "source": [
    "def merge_attributes(parent_attributes, child_attributes):\n",
    "    merged = parent_attributes.copy()\n",
    "    for key, value in child_attributes.items():\n",
    "        merged[key] = value\n",
    "    return merged\n",
    "\n",
    "\n",
    "def merge_single_child_parents(root):\n",
    "    children = list(root.children)\n",
    "    if len(children) > 1:\n",
    "        for child in children:\n",
    "            merge_single_child_parents(child)\n",
    "    if len(children) == 1 and type(children[0]) != NavigableString:\n",
    "        only_child = children[0]\n",
    "        root.attrs = merge_attributes(root.attrs, only_child.attrs)\n",
    "        childs_children = list(only_child.children)\n",
    "        for i in range(len(childs_children)):\n",
    "            root.insert(i + 1, childs_children[i])\n",
    "        only_child.extract()\n",
    "        merge_single_child_parents(root)"
   ]
  },
  {
   "cell_type": "code",
   "execution_count": 13,
   "id": "48ca9eee",
   "metadata": {
    "ExecuteTime": {
     "end_time": "2023-03-10T21:15:13.917400Z",
     "start_time": "2023-03-10T21:15:13.914747Z"
    }
   },
   "outputs": [],
   "source": [
    "# merge_single_child_parents(doc.form)"
   ]
  },
  {
   "cell_type": "markdown",
   "id": "d7415801",
   "metadata": {},
   "source": [
    "# Delete Non-Informative CSS Attributes"
   ]
  },
  {
   "cell_type": "code",
   "execution_count": 14,
   "id": "cbf350c1",
   "metadata": {
    "ExecuteTime": {
     "end_time": "2023-03-10T21:15:14.324376Z",
     "start_time": "2023-03-10T21:15:14.317550Z"
    }
   },
   "outputs": [],
   "source": [
    "INFORMATION_CUTOFF = 0.8\n",
    "\n",
    "def find_attribute_count(doc, attribute):\n",
    "    counter = {}\n",
    "    for element in doc.find_all():\n",
    "        attr_value = element.attrs[attribute]\n",
    "        if attr_value not in counter:\n",
    "            counter[attr_value] = 0\n",
    "        counter[attr_value] += 1\n",
    "    counter = dict(sorted(counter.items(), key=lambda item: item[1], reverse=True))\n",
    "    \n",
    "    max_value = list(counter.values())[0]\n",
    "    for key, value in counter.items():\n",
    "        counter[key] /= max_value\n",
    "    return counter\n",
    "\n",
    "\n",
    "# you can do this with colors as well, but the dark-mode/light-mode can cause problems in understanding\n",
    "def map_font_sizes(doc):\n",
    "    font_count = find_attribute_count(doc, 'fontsize')\n",
    "    max_repeated_font_size = int(list(font_count.keys())[0].replace('px', ''))\n",
    "    for element in doc.find_all():\n",
    "        if type(element) != NavigableString:\n",
    "            element.attrs['fontsize'] = int(element.attrs['fontsize'].replace('px', '')) / max_repeated_font_size\n",
    "            if 'fontsize' in element.attrs and element.attrs['fontsize'] == 1:\n",
    "                del element.attrs['fontsize']\n",
    "\n",
    "\n",
    "def map_font_weight(doc):\n",
    "    for element in doc.find_all():\n",
    "        if type(element) != NavigableString:\n",
    "            if 'fontweight' in element.attrs and element.attrs['fontweight'] == 'normal':\n",
    "                del element.attrs['fontweight']"
   ]
  },
  {
   "cell_type": "code",
   "execution_count": 15,
   "id": "63425622",
   "metadata": {
    "ExecuteTime": {
     "end_time": "2023-03-10T21:15:15.003504Z",
     "start_time": "2023-03-10T21:15:15.001105Z"
    }
   },
   "outputs": [],
   "source": [
    "# map_font_sizes(doc)\n",
    "# map_font_weight(doc)"
   ]
  },
  {
   "cell_type": "markdown",
   "id": "0b4d57da",
   "metadata": {},
   "source": [
    "# All in One"
   ]
  },
  {
   "cell_type": "code",
   "execution_count": 16,
   "id": "29e45c67",
   "metadata": {
    "ExecuteTime": {
     "end_time": "2023-03-10T21:15:15.935082Z",
     "start_time": "2023-03-10T21:15:15.928692Z"
    }
   },
   "outputs": [],
   "source": [
    "def simplify_form():\n",
    "    form = driver.find_element(By.ID, 'form')\n",
    "    \n",
    "    queue = [form]\n",
    "\n",
    "    while len(queue) > 0:\n",
    "        element = queue[0]\n",
    "        children = element.find_elements(By.XPATH, '*')\n",
    "        queue = [*queue, *children]\n",
    "        embed_properties_into_element(element)\n",
    "        queue = queue[1:]\n",
    "    \n",
    "    queue = [form]\n",
    "\n",
    "    while len(queue) > 0:\n",
    "        element = queue[0]\n",
    "        size = element.size\n",
    "        if size['height'] == 0 or size['width'] == 0:\n",
    "            driver.execute_script(\"return arguments[0].remove();\", element);\n",
    "        else:\n",
    "            children = element.find_elements(By.XPATH, '*')\n",
    "            queue = [*queue, *children]\n",
    "            embed_properties_into_element(element)\n",
    "        queue = queue[1:]\n",
    "    \n",
    "    doc = bs(form.get_attribute('innerHTML'))\n",
    "    \n",
    "    for element in doc.find_all():\n",
    "        if type(element) != NavigableString or type(element) != Comment:\n",
    "            del element['class']\n",
    "            del element['style']\n",
    "            # for icons: remove unnecessary data of the icon\n",
    "            del element['d']\n",
    "    \n",
    "    for element in doc.find_all():\n",
    "        if type(element) == Comment:\n",
    "            element.extract()\n",
    "    \n",
    "    merge_single_child_parents(doc.form)\n",
    "    \n",
    "    map_font_sizes(doc)\n",
    "    map_font_weight(doc)\n",
    "    \n",
    "    return str(doc)"
   ]
  },
  {
   "cell_type": "code",
   "execution_count": 17,
   "id": "30e86562",
   "metadata": {
    "ExecuteTime": {
     "end_time": "2023-03-10T21:15:18.226509Z",
     "start_time": "2023-03-10T21:15:16.886430Z"
    }
   },
   "outputs": [],
   "source": [
    "form = simplify_form()"
   ]
  },
  {
   "cell_type": "code",
   "execution_count": 18,
   "id": "2cebfccd",
   "metadata": {
    "ExecuteTime": {
     "end_time": "2023-03-10T21:15:19.712156Z",
     "start_time": "2023-03-10T21:15:19.708199Z"
    }
   },
   "outputs": [
    {
     "data": {
      "text/plain": [
       "'<form backgroundcolor=\"black 0\" bordercolor=\"black 0\" color=\"black 0\"><div backgroundcolor=\"black 0\" bordercolor=\"black 0\" color=\"black 0\"></div><div backgroundcolor=\"black 0\" bordercolor=\"black 0\" color=\"black 0\"><div backgroundcolor=\"black 0\" bordercolor=\"black 0\" color=\"black 0\"><div backgroundcolor=\"black 0\" bordercolor=\"gainsboro 1\" color=\"black 0\"><span aria-activedescendant=\"rc_select_1_list_0\" aria-autocomplete=\"list\" aria-controls=\"rc_select_1_list\" aria-expanded=\"false\" aria-haspopup=\"listbox\" aria-owns=\"rc_select_1_list\" autocomplete=\"off\" backgroundcolor=\"black 0\" bordercolor=\"black 0\" color=\"black 0\" disabled=\"\" id=\"rc_select_1\" readonly=\"\" role=\"combobox\" type=\"search\" unselectable=\"on\" value=\"\"></span><span backgroundcolor=\"black 0\" bordercolor=\"black 0\" color=\"black 0\"></span></div><span aria-hidden=\"true\" backgroundcolor=\"black 0\" bordercolor=\"black 0\" color=\"black 0\" fontsize=\"0.8571428571428571\" unselectable=\"on\"><span aria-hidden=\"true\" aria-label=\"down\" backgroundcolor=\"black 0\" bordercolor=\"black 0\" color=\"black 0\" data-icon=\"down\" fill=\"currentColor\" focusable=\"false\" fontsize=\"0.8571428571428571\" height=\"1em\" role=\"img\" viewbox=\"64 64 896 896\" width=\"1em\"></span><span aria-hidden=\"true\" aria-label=\"exclamation-circle\" backgroundcolor=\"black 0\" bordercolor=\"orange 1\" color=\"orange 1\" data-icon=\"exclamation-circle\" fill=\"currentColor\" focusable=\"false\" height=\"1em\" role=\"img\" viewbox=\"64 64 896 896\" width=\"1em\"></span></span></div><div backgroundcolor=\"black 0\" bordercolor=\"orange 1\" color=\"orange 1\" role=\"alert\">feathers education life bright policeman glass hundred</div></div></form>'"
      ]
     },
     "execution_count": 18,
     "metadata": {},
     "output_type": "execute_result"
    }
   ],
   "source": [
    "form"
   ]
  },
  {
   "cell_type": "code",
   "execution_count": 19,
   "id": "eed5fb28",
   "metadata": {
    "ExecuteTime": {
     "end_time": "2023-03-10T21:15:23.240732Z",
     "start_time": "2023-03-10T21:15:23.236856Z"
    }
   },
   "outputs": [
    {
     "data": {
      "text/plain": [
       "1634"
      ]
     },
     "execution_count": 19,
     "metadata": {},
     "output_type": "execute_result"
    }
   ],
   "source": [
    "len(form)"
   ]
  },
  {
   "cell_type": "code",
   "execution_count": null,
   "id": "3c460e48",
   "metadata": {},
   "outputs": [],
   "source": []
  }
 ],
 "metadata": {
  "kernelspec": {
   "display_name": "Python 3 (ipykernel)",
   "language": "python",
   "name": "python3"
  },
  "language_info": {
   "codemirror_mode": {
    "name": "ipython",
    "version": 3
   },
   "file_extension": ".py",
   "mimetype": "text/x-python",
   "name": "python",
   "nbconvert_exporter": "python",
   "pygments_lexer": "ipython3",
   "version": "3.10.9"
  },
  "varInspector": {
   "cols": {
    "lenName": 16,
    "lenType": 16,
    "lenVar": 40
   },
   "kernels_config": {
    "python": {
     "delete_cmd_postfix": "",
     "delete_cmd_prefix": "del ",
     "library": "var_list.py",
     "varRefreshCmd": "print(var_dic_list())"
    },
    "r": {
     "delete_cmd_postfix": ") ",
     "delete_cmd_prefix": "rm(",
     "library": "var_list.r",
     "varRefreshCmd": "cat(var_dic_list()) "
    }
   },
   "types_to_exclude": [
    "module",
    "function",
    "builtin_function_or_method",
    "instance",
    "_Feature"
   ],
   "window_display": false
  }
 },
 "nbformat": 4,
 "nbformat_minor": 5
}
