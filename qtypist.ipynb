{
 "cells": [
  {
   "cell_type": "code",
   "execution_count": 1,
   "id": "4f224a2b",
   "metadata": {
    "ExecuteTime": {
     "end_time": "2023-12-12T18:06:14.769080Z",
     "start_time": "2023-12-12T18:06:14.109541Z"
    }
   },
   "outputs": [],
   "source": [
    "%load_ext autoreload\n",
    "%autoreload 2\n",
    "\n",
    "\n",
    "import os\n",
    "import time\n",
    "import copy\n",
    "import json\n",
    "import openai\n",
    "from dotenv import load_dotenv\n",
    "\n",
    "from bs4 import BeautifulSoup as bs\n",
    "from selenium.webdriver.common.by import By\n",
    "from selenium.webdriver.support.ui import WebDriverWait\n",
    "from selenium.webdriver.support import expected_conditions as EC\n",
    "\n",
    "from method.ours.utils import create_driver, get_xpath, get_application_context"
   ]
  },
  {
   "cell_type": "code",
   "execution_count": 2,
   "id": "748a3a00",
   "metadata": {
    "ExecuteTime": {
     "end_time": "2023-12-12T18:01:08.816737Z",
     "start_time": "2023-12-12T18:01:08.788209Z"
    }
   },
   "outputs": [],
   "source": [
    "load_dotenv()\n",
    "openai.api_key = os.getenv(\"OPENAI_API_KEY\")\n",
    "\n",
    "# Global Variables\n",
    "HEADLESS = False\n",
    "TEXT_EMBEDDING_METHOD = 'ADA'\n",
    "GRAPH_EMBEDDING_METHOD = 'NODE2VEC'\n",
    "\n",
    "URL = 'https://www.united.com/en/us'\n",
    "# 'https://www.macys.com/'\n",
    "# 'https://www.amazon.com/'\n",
    "# 'https://www.carmax.com/'\n",
    "# 'https://www.rei.com/'\n",
    "# 'https://www.uhaul.com/'\n",
    "# 'https://www.ups.com/us/en/Home.page'\n",
    "# 'https://www.thumbtack.com/'\n",
    "# 'https://www.healthgrades.com/'\n",
    "# 'https://www.webmd.com/drugs/2/index'\n",
    "# 'https://www.babycenter.com/child-height-predictor'\n",
    "# 'https://www.babycenter.com/pregnancy-weight-gain-estimator'\n",
    "# 'https://seatgeek.ca/'\n",
    "# 'https://www.stubhub.ca/'\n",
    "# 'https://app.invoicing.co/#/register'\n",
    "# 'http://localhost:3000/default-channel/en-US/account/register/'\n",
    "# 'http://localhost:9000/dashboard/discounts/sales/add'\n",
    "# 'http://localhost:9000/dashboard/customers/add'\n",
    "# 'http://localhost:8080/'\n",
    "# 'https://www.budget.com/en/home'\n",
    "# 'https://www.thetrainline.com/en-us'\n",
    "# 'https://www.mbta.com/'\n",
    "# 'https://resy.com/'\n",
    "# 'https://www.yelp.com/'\n",
    "# 'https://www.aa.com/homePage.do'\n",
    "# 'https://www.jetblue.com/'\n",
    "# 'https://www.united.com/en/us'\n",
    "# 'https://www.aircanada.com/ca/en/aco/home.html'\n",
    "\n",
    "\n",
    "def get_to_form(driver):\n",
    "    try:\n",
    "        driver.get(URL)\n",
    "        \n",
    "        '''\n",
    "        # UPS - Quote\n",
    "        time.sleep(2)\n",
    "        WebDriverWait(driver, 10).until(\n",
    "            EC.presence_of_element_located((By.ID, 'tabs_0_tab_1'))\n",
    "        ).click()\n",
    "        '''\n",
    "        \n",
    "        '''\n",
    "        # Saleor\n",
    "        try:\n",
    "            time.sleep(2)\n",
    "            WebDriverWait(driver, 10).until(\n",
    "                EC.presence_of_element_located((\n",
    "                    By.XPATH,\n",
    "                    '//BODY/DIV[1]/MAIN[1]/DIV[1]/DIV[1]/DIV[1]/FORM[1]/DIV[2]/DIV[1]/INPUT[1]')\n",
    "                )\n",
    "            ).send_keys('admin@example.com')\n",
    "            WebDriverWait(driver, 10).until(\n",
    "                EC.presence_of_element_located((\n",
    "                    By.XPATH,\n",
    "                    '//BODY/DIV[1]/MAIN[1]/DIV[1]/DIV[1]/DIV[1]/FORM[1]/DIV[4]/DIV[1]/DIV[1]/INPUT[1]')\n",
    "                )\n",
    "            ).send_keys('admin')\n",
    "            WebDriverWait(driver, 10).until(\n",
    "                EC.presence_of_element_located((\n",
    "                    By.XPATH,\n",
    "                    '//BODY/DIV[1]/MAIN[1]/DIV[1]/DIV[1]/DIV[1]/FORM[1]/DIV[5]/BUTTON[1]')\n",
    "                )\n",
    "            ).click()\n",
    "        except:\n",
    "            pass\n",
    "        \n",
    "        WebDriverWait(driver, 10).until(\n",
    "            EC.presence_of_element_located((\n",
    "                By.XPATH,\n",
    "                '//BODY/DIV[1]/MAIN[1]/DIV[1]/DIV[2]/MAIN[1]/FORM[1]/DIV[1]/DIV[2]/DIV[4]/DIV[2]/LABEL[1]/SPAN[1]/SPAN[1]/INPUT[1]')\n",
    "            )\n",
    "        ).click()\n",
    "        '''\n",
    "        \n",
    "        '''\n",
    "        # Pet Clinic - Add Owner\n",
    "        time.sleep(2)\n",
    "        WebDriverWait(driver, 10).until(\n",
    "            EC.presence_of_element_located((\n",
    "                By.XPATH,\n",
    "                '//BODY/APP-ROOT[1]/DIV[1]/NAV[1]/DIV[1]/UL[1]/LI[2]')\n",
    "            )\n",
    "        ).click()\n",
    "        WebDriverWait(driver, 10).until(\n",
    "            EC.presence_of_element_located((\n",
    "                By.XPATH,\n",
    "                '//BODY/APP-ROOT[1]/DIV[1]/NAV[1]/DIV[1]/UL[1]/LI[2]/UL[1]/LI[2]')\n",
    "            )\n",
    "        ).click()\n",
    "        '''\n",
    "        \n",
    "        '''\n",
    "        # Budget - Reservation\n",
    "        WebDriverWait(driver, 5).until(\n",
    "            EC.presence_of_element_located((By.ID, 'PicLoc_value'))\n",
    "        ).click()\n",
    "        '''\n",
    "        \n",
    "        '''\n",
    "        # MBTA\n",
    "        time.sleep(2)\n",
    "        WebDriverWait(driver, 5).until(\n",
    "            EC.presence_of_element_located((By.XPATH, '//BODY/DIV[1]/DIV[2]/MAIN[1]/DIV[1]/DIV[1]/DIV[1]/DIV[2]/A[1]'))\n",
    "        ).click()\n",
    "        '''\n",
    "        \n",
    "        '''\n",
    "        # AC - My Bookings\n",
    "        time.sleep(2)\n",
    "        WebDriverWait(driver, 5).until(\n",
    "            EC.presence_of_element_located((By.ID, 'bkmg-tab-button-mngBook'))\n",
    "        ).click()\n",
    "        '''\n",
    "        \n",
    "        '''\n",
    "        # AC - Multi-city\n",
    "        time.sleep(2)\n",
    "        WebDriverWait(driver, 5).until(\n",
    "            EC.presence_of_element_located((By.ID, 'bkmgFlights_tripTypeSelector_M'))\n",
    "        ).click()\n",
    "        '''\n",
    "        \n",
    "    except:\n",
    "        print('timeout')\n",
    "\n",
    "\n",
    "def find_form():\n",
    "    return WebDriverWait(driver, 10).until(\n",
    "        EC.presence_of_element_located((\n",
    "            By.XPATH,\n",
    "            '//BODY/HEADER[1]/DIV[2]/DIV[1]/DIV[1]/SECTION[2]/DIV[2]/FORM[1]'\n",
    "        ))\n",
    "    )\n",
    "\n",
    "\n",
    "def find_button():\n",
    "    return None"
   ]
  },
  {
   "cell_type": "code",
   "execution_count": 3,
   "id": "d20d07d2",
   "metadata": {
    "ExecuteTime": {
     "end_time": "2023-12-12T18:01:23.631570Z",
     "start_time": "2023-12-12T18:01:09.362128Z"
    }
   },
   "outputs": [],
   "source": [
    "driver = create_driver(HEADLESS)\n",
    "get_to_form(driver)"
   ]
  },
  {
   "cell_type": "code",
   "execution_count": 4,
   "id": "edf1d269",
   "metadata": {
    "ExecuteTime": {
     "end_time": "2023-12-12T18:01:37.876835Z",
     "start_time": "2023-12-12T18:01:27.121877Z"
    }
   },
   "outputs": [
    {
     "ename": "TimeoutException",
     "evalue": "Message: \nStacktrace:\n0   chromedriver                        0x000000010dccfc48 chromedriver + 4852808\n1   chromedriver                        0x000000010dcc71b3 chromedriver + 4817331\n2   chromedriver                        0x000000010d8937bd chromedriver + 411581\n3   chromedriver                        0x000000010d8e3e30 chromedriver + 740912\n4   chromedriver                        0x000000010d8e3fe1 chromedriver + 741345\n5   chromedriver                        0x000000010d92f864 chromedriver + 1050724\n6   chromedriver                        0x000000010d90dc2d chromedriver + 912429\n7   chromedriver                        0x000000010d92cae2 chromedriver + 1039074\n8   chromedriver                        0x000000010d90d9a3 chromedriver + 911779\n9   chromedriver                        0x000000010d8d5103 chromedriver + 680195\n10  chromedriver                        0x000000010d8d671e chromedriver + 685854\n11  chromedriver                        0x000000010dc8f792 chromedriver + 4589458\n12  chromedriver                        0x000000010dc9499c chromedriver + 4610460\n13  chromedriver                        0x000000010dc74cb1 chromedriver + 4480177\n14  chromedriver                        0x000000010dc95716 chromedriver + 4613910\n15  chromedriver                        0x000000010dc6623c chromedriver + 4420156\n16  chromedriver                        0x000000010dcb5798 chromedriver + 4745112\n17  chromedriver                        0x000000010dcb594e chromedriver + 4745550\n18  chromedriver                        0x000000010dcc6df3 chromedriver + 4816371\n19  libsystem_pthread.dylib             0x00007ff8125fd202 _pthread_start + 99\n20  libsystem_pthread.dylib             0x00007ff8125f8bab thread_start + 15\n",
     "output_type": "error",
     "traceback": [
      "\u001b[0;31m---------------------------------------------------------------------------\u001b[0m",
      "\u001b[0;31mTimeoutException\u001b[0m                          Traceback (most recent call last)",
      "Cell \u001b[0;32mIn[4], line 2\u001b[0m\n\u001b[1;32m      1\u001b[0m html \u001b[38;5;241m=\u001b[39m driver\u001b[38;5;241m.\u001b[39mfind_element(By\u001b[38;5;241m.\u001b[39mTAG_NAME, \u001b[38;5;124m'\u001b[39m\u001b[38;5;124mhtml\u001b[39m\u001b[38;5;124m'\u001b[39m)\u001b[38;5;241m.\u001b[39mget_attribute(\u001b[38;5;124m'\u001b[39m\u001b[38;5;124mouterHTML\u001b[39m\u001b[38;5;124m'\u001b[39m)\n\u001b[0;32m----> 2\u001b[0m form \u001b[38;5;241m=\u001b[39m \u001b[43mfind_form\u001b[49m\u001b[43m(\u001b[49m\u001b[43m)\u001b[49m\n\u001b[1;32m      3\u001b[0m form_xpath \u001b[38;5;241m=\u001b[39m get_xpath(driver, form)\n\u001b[1;32m      5\u001b[0m inputs \u001b[38;5;241m=\u001b[39m form\u001b[38;5;241m.\u001b[39mfind_elements(\n\u001b[1;32m      6\u001b[0m     By\u001b[38;5;241m.\u001b[39mXPATH,\n\u001b[1;32m      7\u001b[0m     \u001b[38;5;124mf\u001b[39m\u001b[38;5;124m'\u001b[39m\u001b[38;5;132;01m{\u001b[39;00mform_xpath\u001b[38;5;132;01m}\u001b[39;00m\u001b[38;5;124m//input | \u001b[39m\u001b[38;5;132;01m{\u001b[39;00mform_xpath\u001b[38;5;132;01m}\u001b[39;00m\u001b[38;5;124m//textarea | \u001b[39m\u001b[38;5;132;01m{\u001b[39;00mform_xpath\u001b[38;5;132;01m}\u001b[39;00m\u001b[38;5;124m//select\u001b[39m\u001b[38;5;124m'\u001b[39m\n\u001b[1;32m      8\u001b[0m )\n",
      "Cell \u001b[0;32mIn[2], line 137\u001b[0m, in \u001b[0;36mfind_form\u001b[0;34m()\u001b[0m\n\u001b[1;32m    136\u001b[0m \u001b[38;5;28;01mdef\u001b[39;00m \u001b[38;5;21mfind_form\u001b[39m():\n\u001b[0;32m--> 137\u001b[0m     \u001b[38;5;28;01mreturn\u001b[39;00m \u001b[43mWebDriverWait\u001b[49m\u001b[43m(\u001b[49m\u001b[43mdriver\u001b[49m\u001b[43m,\u001b[49m\u001b[43m \u001b[49m\u001b[38;5;241;43m10\u001b[39;49m\u001b[43m)\u001b[49m\u001b[38;5;241;43m.\u001b[39;49m\u001b[43muntil\u001b[49m\u001b[43m(\u001b[49m\n\u001b[1;32m    138\u001b[0m \u001b[43m        \u001b[49m\u001b[43mEC\u001b[49m\u001b[38;5;241;43m.\u001b[39;49m\u001b[43mpresence_of_element_located\u001b[49m\u001b[43m(\u001b[49m\u001b[43m(\u001b[49m\n\u001b[1;32m    139\u001b[0m \u001b[43m            \u001b[49m\u001b[43mBy\u001b[49m\u001b[38;5;241;43m.\u001b[39;49m\u001b[43mXPATH\u001b[49m\u001b[43m,\u001b[49m\n\u001b[1;32m    140\u001b[0m \u001b[43m            \u001b[49m\u001b[38;5;124;43m'\u001b[39;49m\u001b[38;5;124;43m//BODY/HEADER[1]/DIV[2]/DIV[1]/DIV[1]/SECTION[2]/DIV[2]/FORM[1]\u001b[39;49m\u001b[38;5;124;43m'\u001b[39;49m\n\u001b[1;32m    141\u001b[0m \u001b[43m        \u001b[49m\u001b[43m)\u001b[49m\u001b[43m)\u001b[49m\n\u001b[1;32m    142\u001b[0m \u001b[43m    \u001b[49m\u001b[43m)\u001b[49m\n",
      "File \u001b[0;32m/Library/Frameworks/Python.framework/Versions/3.10/lib/python3.10/site-packages/selenium/webdriver/support/wait.py:89\u001b[0m, in \u001b[0;36mWebDriverWait.until\u001b[0;34m(self, method, message)\u001b[0m\n\u001b[1;32m     87\u001b[0m     \u001b[38;5;28;01mif\u001b[39;00m time\u001b[38;5;241m.\u001b[39mmonotonic() \u001b[38;5;241m>\u001b[39m end_time:\n\u001b[1;32m     88\u001b[0m         \u001b[38;5;28;01mbreak\u001b[39;00m\n\u001b[0;32m---> 89\u001b[0m \u001b[38;5;28;01mraise\u001b[39;00m TimeoutException(message, screen, stacktrace)\n",
      "\u001b[0;31mTimeoutException\u001b[0m: Message: \nStacktrace:\n0   chromedriver                        0x000000010dccfc48 chromedriver + 4852808\n1   chromedriver                        0x000000010dcc71b3 chromedriver + 4817331\n2   chromedriver                        0x000000010d8937bd chromedriver + 411581\n3   chromedriver                        0x000000010d8e3e30 chromedriver + 740912\n4   chromedriver                        0x000000010d8e3fe1 chromedriver + 741345\n5   chromedriver                        0x000000010d92f864 chromedriver + 1050724\n6   chromedriver                        0x000000010d90dc2d chromedriver + 912429\n7   chromedriver                        0x000000010d92cae2 chromedriver + 1039074\n8   chromedriver                        0x000000010d90d9a3 chromedriver + 911779\n9   chromedriver                        0x000000010d8d5103 chromedriver + 680195\n10  chromedriver                        0x000000010d8d671e chromedriver + 685854\n11  chromedriver                        0x000000010dc8f792 chromedriver + 4589458\n12  chromedriver                        0x000000010dc9499c chromedriver + 4610460\n13  chromedriver                        0x000000010dc74cb1 chromedriver + 4480177\n14  chromedriver                        0x000000010dc95716 chromedriver + 4613910\n15  chromedriver                        0x000000010dc6623c chromedriver + 4420156\n16  chromedriver                        0x000000010dcb5798 chromedriver + 4745112\n17  chromedriver                        0x000000010dcb594e chromedriver + 4745550\n18  chromedriver                        0x000000010dcc6df3 chromedriver + 4816371\n19  libsystem_pthread.dylib             0x00007ff8125fd202 _pthread_start + 99\n20  libsystem_pthread.dylib             0x00007ff8125f8bab thread_start + 15\n"
     ]
    }
   ],
   "source": [
    "html = driver.find_element(By.TAG_NAME, 'html').get_attribute('outerHTML')\n",
    "form = find_form()\n",
    "form_xpath = get_xpath(driver, form)\n",
    "\n",
    "inputs = form.find_elements(\n",
    "    By.XPATH,\n",
    "    f'{form_xpath}//input | {form_xpath}//textarea | {form_xpath}//select'\n",
    ")\n",
    "\n",
    "inputs = list(filter(\n",
    "    lambda x: x.get_attribute('type') != 'hidden' and x.get_attribute('hidden') != 'true',\n",
    "    inputs\n",
    "))"
   ]
  },
  {
   "cell_type": "code",
   "execution_count": 5,
   "id": "04d37c0c",
   "metadata": {
    "ExecuteTime": {
     "end_time": "2023-12-12T18:02:38.670276Z",
     "start_time": "2023-12-12T18:02:38.628281Z"
    }
   },
   "outputs": [],
   "source": [
    "try:\n",
    "    app_context = get_application_context(driver).replace('\\n', ' ')\n",
    "except:\n",
    "    app_context = None"
   ]
  },
  {
   "cell_type": "code",
   "execution_count": 8,
   "id": "31ef3116",
   "metadata": {
    "ExecuteTime": {
     "end_time": "2023-12-12T18:03:39.019819Z",
     "start_time": "2023-12-12T18:03:38.976795Z"
    }
   },
   "outputs": [
    {
     "ename": "NameError",
     "evalue": "name 'inputs' is not defined",
     "output_type": "error",
     "traceback": [
      "\u001b[0;31m---------------------------------------------------------------------------\u001b[0m",
      "\u001b[0;31mNameError\u001b[0m                                 Traceback (most recent call last)",
      "Cell \u001b[0;32mIn[8], line 3\u001b[0m\n\u001b[1;32m      1\u001b[0m input_widget_context \u001b[38;5;241m=\u001b[39m \u001b[38;5;124m'\u001b[39m\u001b[38;5;124m'\u001b[39m\n\u001b[0;32m----> 3\u001b[0m \u001b[38;5;28;01mfor\u001b[39;00m i \u001b[38;5;129;01min\u001b[39;00m \u001b[43minputs\u001b[49m:\n\u001b[1;32m      4\u001b[0m     \u001b[38;5;28;01mif\u001b[39;00m i\u001b[38;5;241m.\u001b[39mtag_name \u001b[38;5;241m!=\u001b[39m \u001b[38;5;124m'\u001b[39m\u001b[38;5;124minput\u001b[39m\u001b[38;5;124m'\u001b[39m:\n\u001b[1;32m      5\u001b[0m         \u001b[38;5;28;01mcontinue\u001b[39;00m\n",
      "\u001b[0;31mNameError\u001b[0m: name 'inputs' is not defined"
     ]
    }
   ],
   "source": [
    "input_widget_context = ''\n",
    "\n",
    "for i in inputs:\n",
    "    if i.tag_name != 'input':\n",
    "        continue\n",
    "    \n",
    "    input_id = i.get_attribute('id')\n",
    "    \n",
    "    try:\n",
    "        label = form.find_element(By.XPATH, f'//*[@for=\"{input_id}\"]').text.replace('\\n', ' ')\n",
    "        input_widget_context += f'This input is about {label}. {label} is [MASK]. '\n",
    "    except:\n",
    "        label = i.get_attribute('title') or i.get_attribute('placeholder') or i.get_attribute('name') or i.get_attribute('id')\n",
    "        if label is not None:\n",
    "            input_widget_context += f'This input is about {label}. {label} is [MASK]. '\n",
    "\n",
    "# print(input_widget_context)"
   ]
  },
  {
   "cell_type": "code",
   "execution_count": 3,
   "id": "002b474f",
   "metadata": {
    "ExecuteTime": {
     "end_time": "2023-12-12T18:06:23.366324Z",
     "start_time": "2023-12-12T18:06:23.049648Z"
    }
   },
   "outputs": [
    {
     "ename": "NameError",
     "evalue": "name 'input_widget_context' is not defined",
     "output_type": "error",
     "traceback": [
      "\u001b[0;31m---------------------------------------------------------------------------\u001b[0m",
      "\u001b[0;31mNameError\u001b[0m                                 Traceback (most recent call last)",
      "Cell \u001b[0;32mIn[3], line 4\u001b[0m\n\u001b[1;32m      1\u001b[0m FORM_FUNC \u001b[38;5;241m=\u001b[39m \u001b[38;5;124m'\u001b[39m\u001b[38;5;124mSearch\u001b[39m\u001b[38;5;124m'\u001b[39m\n\u001b[1;32m      3\u001b[0m prompt \u001b[38;5;241m=\u001b[39m \u001b[38;5;124mf\u001b[39m\u001b[38;5;124m'''\u001b[39m\n\u001b[0;32m----> 4\u001b[0m \u001b[38;5;124mThe app is \u001b[39m\u001b[38;5;132;01m{\u001b[39;00mapp_context\u001b[38;5;250m \u001b[39m\u001b[38;5;28;01mif\u001b[39;00m\u001b[38;5;250m \u001b[39mapp_context\u001b[38;5;250m \u001b[39m\u001b[38;5;129;01mis\u001b[39;00m\u001b[38;5;250m \u001b[39m\u001b[38;5;129;01mnot\u001b[39;00m\u001b[38;5;250m \u001b[39m\u001b[38;5;28;01mNone\u001b[39;00m\u001b[38;5;250m \u001b[39m\u001b[38;5;28;01melse\u001b[39;00m\u001b[38;5;250m \u001b[39m\u001b[38;5;124m'\u001b[39m\u001b[38;5;124m'\u001b[39m\u001b[38;5;132;01m}\u001b[39;00m\u001b[38;5;124m, in its \u001b[39m\u001b[38;5;132;01m{\u001b[39;00mFORM_FUNC\u001b[38;5;132;01m}\u001b[39;00m\u001b[38;5;124m form. \u001b[39m\u001b[38;5;132;01m{\u001b[39;00m\u001b[43minput_widget_context\u001b[49m\u001b[38;5;132;01m}\u001b[39;00m\n\u001b[1;32m      5\u001b[0m \u001b[38;5;124m'''\u001b[39m\u001b[38;5;241m.\u001b[39mstrip()\n",
      "\u001b[0;31mNameError\u001b[0m: name 'input_widget_context' is not defined"
     ]
    }
   ],
   "source": [
    "FORM_FUNC = 'Search'\n",
    "\n",
    "prompt = f'''\n",
    "The app is {app_context if app_context is not None else ''}, in its {FORM_FUNC} form. {input_widget_context}\n",
    "'''.strip()"
   ]
  },
  {
   "cell_type": "code",
   "execution_count": null,
   "id": "f15934bc",
   "metadata": {},
   "outputs": [],
   "source": [
    "prompt"
   ]
  },
  {
   "cell_type": "code",
   "execution_count": 14,
   "id": "148e1295",
   "metadata": {
    "ExecuteTime": {
     "end_time": "2023-12-12T18:07:57.715001Z",
     "start_time": "2023-12-12T18:07:32.071387Z"
    }
   },
   "outputs": [],
   "source": [
    "from openai import OpenAI\n",
    "client = OpenAI()\n",
    "\n",
    "response = client.chat.completions.create(\n",
    "  model=\"gpt-4\",\n",
    "  messages=[\n",
    "    {\n",
    "      \"role\": \"system\",\n",
    "      \"content\": \"You are required to generate values for a given input or list of inputs given in a text. Please create an array of values, the first element is a passing value for the inputs, and the rest are failing values. Please note that each [MASK] is showing a different input. Give the values for different inputs in arrays, like the following format (exclude the comments from your answer):\\n[\\n{\\n[first_input_name]: [first_input_value],\\n[second_input_name]: [second_input_value]\\n...\\n},\\n{\\n[first_input_name]: [first_input_value],\\n[second_input_name]: [second_input_value]\\n...\\n},\\n...\\n]\"\n",
    "    },\n",
    "    {\n",
    "      \"role\": \"user\",\n",
    "      \"content\": prompt\n",
    "    }\n",
    "  ],\n",
    "  temperature=0,\n",
    "  max_tokens=2048,\n",
    "  top_p=1,\n",
    "  frequency_penalty=0,\n",
    "  presence_penalty=0\n",
    ")"
   ]
  },
  {
   "cell_type": "code",
   "execution_count": 15,
   "id": "9e3b728b",
   "metadata": {
    "ExecuteTime": {
     "end_time": "2023-12-12T18:07:57.791476Z",
     "start_time": "2023-12-12T18:07:57.771534Z"
    }
   },
   "outputs": [
    {
     "name": "stdout",
     "output_type": "stream",
     "text": [
      "Passing: {'From': 'New York', 'To': 'Los Angeles', 'Dates 1': '2022-05-01', 'Dates 2': '2022-05-10'}\n",
      "\n",
      "Failing: {'From': '', 'To': 'Los Angeles', 'Dates 1': '2022-05-01', 'Dates 2': '2022-05-10'}\n",
      "\n",
      "Failing: {'From': 'New York', 'To': '', 'Dates 1': '2022-05-01', 'Dates 2': '2022-05-10'}\n",
      "\n",
      "Failing: {'From': 'New York', 'To': 'Los Angeles', 'Dates 1': '', 'Dates 2': '2022-05-10'}\n",
      "\n",
      "Failing: {'From': 'New York', 'To': 'Los Angeles', 'Dates 1': '2022-05-01', 'Dates 2': ''}\n",
      "\n",
      "Failing: {'From': 'New York', 'To': 'Los Angeles', 'Dates 1': '2022-05-10', 'Dates 2': '2022-05-01'}\n",
      "\n"
     ]
    }
   ],
   "source": [
    "values = json.loads(response.choices[0].message.content)\n",
    "\n",
    "passing = values[0]\n",
    "failing = values[1:]\n",
    "\n",
    "print(\"Passing:\", passing)\n",
    "print()\n",
    "\n",
    "for f in failing:\n",
    "    print(\"Failing:\", f)\n",
    "    print()"
   ]
  },
  {
   "cell_type": "code",
   "execution_count": null,
   "id": "2d33c26d",
   "metadata": {},
   "outputs": [],
   "source": []
  }
 ],
 "metadata": {
  "kernelspec": {
   "display_name": "Python 3 (ipykernel)",
   "language": "python",
   "name": "python3"
  },
  "language_info": {
   "codemirror_mode": {
    "name": "ipython",
    "version": 3
   },
   "file_extension": ".py",
   "mimetype": "text/x-python",
   "name": "python",
   "nbconvert_exporter": "python",
   "pygments_lexer": "ipython3",
   "version": "3.10.9"
  },
  "toc": {
   "base_numbering": 1,
   "nav_menu": {},
   "number_sections": true,
   "sideBar": true,
   "skip_h1_title": false,
   "title_cell": "Table of Contents",
   "title_sidebar": "Contents",
   "toc_cell": false,
   "toc_position": {},
   "toc_section_display": true,
   "toc_window_display": false
  },
  "varInspector": {
   "cols": {
    "lenName": 16,
    "lenType": 16,
    "lenVar": 40
   },
   "kernels_config": {
    "python": {
     "delete_cmd_postfix": "",
     "delete_cmd_prefix": "del ",
     "library": "var_list.py",
     "varRefreshCmd": "print(var_dic_list())"
    },
    "r": {
     "delete_cmd_postfix": ") ",
     "delete_cmd_prefix": "rm(",
     "library": "var_list.r",
     "varRefreshCmd": "cat(var_dic_list()) "
    }
   },
   "types_to_exclude": [
    "module",
    "function",
    "builtin_function_or_method",
    "instance",
    "_Feature"
   ],
   "window_display": false
  }
 },
 "nbformat": 4,
 "nbformat_minor": 5
}
