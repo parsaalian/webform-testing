{
 "cells": [
  {
   "cell_type": "code",
   "execution_count": 1,
   "id": "4f224a2b",
   "metadata": {
    "ExecuteTime": {
     "end_time": "2023-12-07T18:33:08.891487Z",
     "start_time": "2023-12-07T18:33:08.376193Z"
    }
   },
   "outputs": [],
   "source": [
    "%load_ext autoreload\n",
    "%autoreload 2\n",
    "\n",
    "\n",
    "import os\n",
    "import time\n",
    "import copy\n",
    "import json\n",
    "import openai\n",
    "from dotenv import load_dotenv\n",
    "\n",
    "from bs4 import BeautifulSoup as bs\n",
    "from selenium.webdriver.common.by import By\n",
    "from selenium.webdriver.support.ui import WebDriverWait\n",
    "from selenium.webdriver.support import expected_conditions as EC\n",
    "\n",
    "from method.ours.utils import create_driver, get_xpath, get_application_context"
   ]
  },
  {
   "cell_type": "code",
   "execution_count": 2,
   "id": "748a3a00",
   "metadata": {
    "ExecuteTime": {
     "end_time": "2023-12-07T18:33:09.568495Z",
     "start_time": "2023-12-07T18:33:09.542626Z"
    }
   },
   "outputs": [],
   "source": [
    "load_dotenv()\n",
    "openai.api_key = os.getenv(\"OPENAI_API_KEY\")\n",
    "\n",
    "# Global Variables\n",
    "HEADLESS = False\n",
    "TEXT_EMBEDDING_METHOD = 'ADA'\n",
    "GRAPH_EMBEDDING_METHOD = 'NODE2VEC'\n",
    "\n",
    "URL = 'https://seatgeek.ca/'\n",
    "# 'https://www.stubhub.ca/'\n",
    "# 'https://app.invoicing.co/#/register'\n",
    "# 'http://localhost:3000/default-channel/en-US/account/register/'\n",
    "# 'http://localhost:9000/dashboard/discounts/sales/add'\n",
    "# 'http://localhost:9000/dashboard/customers/add'\n",
    "# 'http://localhost:8080/'\n",
    "# 'https://www.budget.com/en/home'\n",
    "# 'https://www.thetrainline.com/en-us'\n",
    "# 'https://www.mbta.com/'\n",
    "# 'https://resy.com/'\n",
    "# 'https://www.yelp.com/'\n",
    "# 'https://www.aa.com/homePage.do'\n",
    "# 'https://www.jetblue.com/'\n",
    "# 'https://www.united.com/en/us'\n",
    "# 'https://www.aircanada.com/ca/en/aco/home.html'\n",
    "\n",
    "\n",
    "def get_to_form(driver):\n",
    "    try:\n",
    "        driver.get(URL)\n",
    "        \n",
    "        '''\n",
    "        try:\n",
    "            time.sleep(2)\n",
    "            WebDriverWait(driver, 10).until(\n",
    "                EC.presence_of_element_located((\n",
    "                    By.XPATH,\n",
    "                    '//BODY/DIV[1]/MAIN[1]/DIV[1]/DIV[1]/DIV[1]/FORM[1]/DIV[2]/DIV[1]/INPUT[1]')\n",
    "                )\n",
    "            ).send_keys('admin@example.com')\n",
    "            WebDriverWait(driver, 10).until(\n",
    "                EC.presence_of_element_located((\n",
    "                    By.XPATH,\n",
    "                    '//BODY/DIV[1]/MAIN[1]/DIV[1]/DIV[1]/DIV[1]/FORM[1]/DIV[4]/DIV[1]/DIV[1]/INPUT[1]')\n",
    "                )\n",
    "            ).send_keys('admin')\n",
    "            WebDriverWait(driver, 10).until(\n",
    "                EC.presence_of_element_located((\n",
    "                    By.XPATH,\n",
    "                    '//BODY/DIV[1]/MAIN[1]/DIV[1]/DIV[1]/DIV[1]/FORM[1]/DIV[5]/BUTTON[1]')\n",
    "                )\n",
    "            ).click()\n",
    "        except:\n",
    "            pass\n",
    "        \n",
    "        WebDriverWait(driver, 10).until(\n",
    "            EC.presence_of_element_located((\n",
    "                By.XPATH,\n",
    "                '//BODY/DIV[1]/MAIN[1]/DIV[1]/DIV[2]/MAIN[1]/FORM[1]/DIV[1]/DIV[2]/DIV[4]/DIV[2]/LABEL[1]/SPAN[1]/SPAN[1]/INPUT[1]')\n",
    "            )\n",
    "        ).click()\n",
    "        '''\n",
    "        \n",
    "        '''\n",
    "        # Pet Clinic - Add Owner\n",
    "        time.sleep(2)\n",
    "        WebDriverWait(driver, 10).until(\n",
    "            EC.presence_of_element_located((\n",
    "                By.XPATH,\n",
    "                '//BODY/APP-ROOT[1]/DIV[1]/NAV[1]/DIV[1]/UL[1]/LI[2]')\n",
    "            )\n",
    "        ).click()\n",
    "        WebDriverWait(driver, 10).until(\n",
    "            EC.presence_of_element_located((\n",
    "                By.XPATH,\n",
    "                '//BODY/APP-ROOT[1]/DIV[1]/NAV[1]/DIV[1]/UL[1]/LI[2]/UL[1]/LI[2]')\n",
    "            )\n",
    "        ).click()\n",
    "        '''\n",
    "        \n",
    "        '''\n",
    "        # Budget - Reservation\n",
    "        WebDriverWait(driver, 5).until(\n",
    "            EC.presence_of_element_located((By.ID, 'PicLoc_value'))\n",
    "        ).click()\n",
    "        '''\n",
    "        \n",
    "        '''\n",
    "        # MBTA\n",
    "        time.sleep(2)\n",
    "        WebDriverWait(driver, 5).until(\n",
    "            EC.presence_of_element_located((By.XPATH, '//BODY/DIV[1]/DIV[2]/MAIN[1]/DIV[1]/DIV[1]/DIV[1]/DIV[2]/A[1]'))\n",
    "        ).click()\n",
    "        '''\n",
    "        \n",
    "        '''\n",
    "        # AC - My Bookings\n",
    "        time.sleep(2)\n",
    "        WebDriverWait(driver, 5).until(\n",
    "            EC.presence_of_element_located((By.ID, 'bkmg-tab-button-mngBook'))\n",
    "        ).click()\n",
    "        '''\n",
    "        \n",
    "        '''\n",
    "        # AC - Multi-city\n",
    "        time.sleep(2)\n",
    "        WebDriverWait(driver, 5).until(\n",
    "            EC.presence_of_element_located((By.ID, 'bkmgFlights_tripTypeSelector_M'))\n",
    "        ).click()\n",
    "        '''\n",
    "        \n",
    "    except:\n",
    "        print('timeout')\n",
    "\n",
    "\n",
    "def find_form():\n",
    "    return WebDriverWait(driver, 10).until(\n",
    "        EC.presence_of_element_located((\n",
    "            By.XPATH,\n",
    "            '//BODY/DIV[1]/DIV[2]/DIV[3]/DIV[2]/DIV[1]/DIV[1]/DIV[1]/DIV[1]/DIV[1]/DIV[1]/FORM[1]'\n",
    "        ))\n",
    "    )\n",
    "\n",
    "\n",
    "def find_button():\n",
    "    return None"
   ]
  },
  {
   "cell_type": "code",
   "execution_count": 3,
   "id": "d20d07d2",
   "metadata": {
    "ExecuteTime": {
     "end_time": "2023-12-07T18:33:14.075252Z",
     "start_time": "2023-12-07T18:33:10.487011Z"
    }
   },
   "outputs": [],
   "source": [
    "driver = create_driver(HEADLESS)\n",
    "get_to_form(driver)"
   ]
  },
  {
   "cell_type": "code",
   "execution_count": 4,
   "id": "edf1d269",
   "metadata": {
    "ExecuteTime": {
     "end_time": "2023-12-07T18:33:14.924100Z",
     "start_time": "2023-12-07T18:33:14.789327Z"
    }
   },
   "outputs": [],
   "source": [
    "html = driver.find_element(By.TAG_NAME, 'html').get_attribute('outerHTML')\n",
    "form = find_form()\n",
    "form_xpath = get_xpath(driver, form)\n",
    "\n",
    "inputs = form.find_elements(\n",
    "    By.XPATH,\n",
    "    f'{form_xpath}//input | {form_xpath}//textarea | {form_xpath}//select'\n",
    ")\n",
    "\n",
    "inputs = list(filter(\n",
    "    lambda x: x.get_attribute('type') != 'hidden' and x.get_attribute('hidden') != 'true',\n",
    "    inputs\n",
    "))"
   ]
  },
  {
   "cell_type": "code",
   "execution_count": 5,
   "id": "04d37c0c",
   "metadata": {
    "ExecuteTime": {
     "end_time": "2023-12-07T18:33:15.528546Z",
     "start_time": "2023-12-07T18:33:15.482238Z"
    }
   },
   "outputs": [],
   "source": [
    "try:\n",
    "    app_context = get_application_context(driver).replace('\\n', ' ')\n",
    "except:\n",
    "    app_context = None"
   ]
  },
  {
   "cell_type": "code",
   "execution_count": 6,
   "id": "31ef3116",
   "metadata": {
    "ExecuteTime": {
     "end_time": "2023-12-07T18:33:16.242655Z",
     "start_time": "2023-12-07T18:33:16.187799Z"
    }
   },
   "outputs": [],
   "source": [
    "input_widget_context = ''\n",
    "\n",
    "for i in inputs:\n",
    "    if i.tag_name != 'input':\n",
    "        continue\n",
    "    \n",
    "    input_id = i.get_attribute('id')\n",
    "    \n",
    "    try:\n",
    "        label = form.find_element(By.XPATH, f'//*[@for=\"{input_id}\"]').text.replace('\\n', ' ')\n",
    "        input_widget_context += f'This input is about {label}. {label} is [MASK]. '\n",
    "    except:\n",
    "        label = i.get_attribute('title') or i.get_attribute('placeholder') or i.get_attribute('name') or i.get_attribute('id')\n",
    "        if label is not None:\n",
    "            input_widget_context += f'This input is about {label}. {label} is [MASK]. '\n",
    "\n",
    "# print(input_widget_context)"
   ]
  },
  {
   "cell_type": "code",
   "execution_count": 8,
   "id": "002b474f",
   "metadata": {
    "ExecuteTime": {
     "end_time": "2023-12-07T18:33:28.522347Z",
     "start_time": "2023-12-07T18:33:28.503367Z"
    }
   },
   "outputs": [],
   "source": [
    "FORM_FUNC = 'Search'\n",
    "\n",
    "prompt = f'''\n",
    "The app is {app_context if app_context is not None else ''}, in its {FORM_FUNC} form. {input_widget_context}\n",
    "'''.strip()"
   ]
  },
  {
   "cell_type": "code",
   "execution_count": 9,
   "id": "aee461b8",
   "metadata": {
    "ExecuteTime": {
     "end_time": "2023-12-07T18:33:29.047905Z",
     "start_time": "2023-12-07T18:33:29.017836Z"
    }
   },
   "outputs": [
    {
     "data": {
      "text/plain": [
       "\"The app is Title: SeatGeek | Your Ticket to Sports Games, Concerts & Live Shows so Fans Can Fan Description: SeatGeek is the Web's largest event ticket search engine. Discover events you love, search all ticket sites, see seat locations and get the best deals on tickets., in its Search form. This input is about What do you want to see live?. What do you want to see live? is [MASK].\""
      ]
     },
     "execution_count": 9,
     "metadata": {},
     "output_type": "execute_result"
    }
   ],
   "source": [
    "prompt"
   ]
  },
  {
   "cell_type": "code",
   "execution_count": 10,
   "id": "148e1295",
   "metadata": {
    "ExecuteTime": {
     "end_time": "2023-12-07T18:33:34.677652Z",
     "start_time": "2023-12-07T18:33:29.643826Z"
    }
   },
   "outputs": [],
   "source": [
    "from openai import OpenAI\n",
    "client = OpenAI()\n",
    "\n",
    "response = client.chat.completions.create(\n",
    "  model=\"gpt-4\",\n",
    "  messages=[\n",
    "    {\n",
    "      \"role\": \"system\",\n",
    "      \"content\": \"You are required to generate values for a given input or list of inputs given in a text. Please create an array of values, the first element is a passing value for the inputs, and the rest are failing values. Please note that each [MASK] is showing a different input. Give the values for different inputs in arrays, like the following format (exclude the comments from your answer):\\n[\\n{\\n[first_input_name]: [first_input_value],\\n[second_input_name]: [second_input_value]\\n...\\n},\\n{\\n[first_input_name]: [first_input_value],\\n[second_input_name]: [second_input_value]\\n...\\n},\\n...\\n]\"\n",
    "    },\n",
    "    {\n",
    "      \"role\": \"user\",\n",
    "      \"content\": prompt\n",
    "    }\n",
    "  ],\n",
    "  temperature=0,\n",
    "  max_tokens=2048,\n",
    "  top_p=1,\n",
    "  frequency_penalty=0,\n",
    "  presence_penalty=0\n",
    ")"
   ]
  },
  {
   "cell_type": "code",
   "execution_count": 11,
   "id": "9e3b728b",
   "metadata": {
    "ExecuteTime": {
     "end_time": "2023-12-07T18:33:34.798481Z",
     "start_time": "2023-12-07T18:33:34.780054Z"
    }
   },
   "outputs": [
    {
     "name": "stdout",
     "output_type": "stream",
     "text": [
      "Passing: {'What do you want to see live?': 'Concert'}\n",
      "\n",
      "Failing: {'What do you want to see live?': ''}\n",
      "\n",
      "Failing: {'What do you want to see live?': '123456'}\n",
      "\n",
      "Failing: {'What do you want to see live?': '@#$%^&*'}\n",
      "\n",
      "Failing: {'What do you want to see live?': 'null'}\n",
      "\n"
     ]
    }
   ],
   "source": [
    "values = json.loads(response.choices[0].message.content)\n",
    "\n",
    "passing = values[0]\n",
    "failing = values[1:]\n",
    "\n",
    "print(\"Passing:\", passing)\n",
    "print()\n",
    "\n",
    "for f in failing:\n",
    "    print(\"Failing:\", f)\n",
    "    print()"
   ]
  },
  {
   "cell_type": "code",
   "execution_count": null,
   "id": "2d33c26d",
   "metadata": {},
   "outputs": [],
   "source": []
  }
 ],
 "metadata": {
  "kernelspec": {
   "display_name": "Python 3 (ipykernel)",
   "language": "python",
   "name": "python3"
  },
  "language_info": {
   "codemirror_mode": {
    "name": "ipython",
    "version": 3
   },
   "file_extension": ".py",
   "mimetype": "text/x-python",
   "name": "python",
   "nbconvert_exporter": "python",
   "pygments_lexer": "ipython3",
   "version": "3.10.9"
  },
  "toc": {
   "base_numbering": 1,
   "nav_menu": {},
   "number_sections": true,
   "sideBar": true,
   "skip_h1_title": false,
   "title_cell": "Table of Contents",
   "title_sidebar": "Contents",
   "toc_cell": false,
   "toc_position": {},
   "toc_section_display": true,
   "toc_window_display": false
  },
  "varInspector": {
   "cols": {
    "lenName": 16,
    "lenType": 16,
    "lenVar": 40
   },
   "kernels_config": {
    "python": {
     "delete_cmd_postfix": "",
     "delete_cmd_prefix": "del ",
     "library": "var_list.py",
     "varRefreshCmd": "print(var_dic_list())"
    },
    "r": {
     "delete_cmd_postfix": ") ",
     "delete_cmd_prefix": "rm(",
     "library": "var_list.r",
     "varRefreshCmd": "cat(var_dic_list()) "
    }
   },
   "types_to_exclude": [
    "module",
    "function",
    "builtin_function_or_method",
    "instance",
    "_Feature"
   ],
   "window_display": false
  }
 },
 "nbformat": 4,
 "nbformat_minor": 5
}
