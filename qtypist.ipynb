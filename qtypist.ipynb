{
 "cells": [
  {
   "cell_type": "code",
   "execution_count": 37,
   "id": "4f224a2b",
   "metadata": {
    "ExecuteTime": {
     "end_time": "2023-11-30T18:28:21.295089Z",
     "start_time": "2023-11-30T18:28:21.259449Z"
    }
   },
   "outputs": [
    {
     "name": "stdout",
     "output_type": "stream",
     "text": [
      "The autoreload extension is already loaded. To reload it, use:\n",
      "  %reload_ext autoreload\n"
     ]
    }
   ],
   "source": [
    "%load_ext autoreload\n",
    "%autoreload 2\n",
    "\n",
    "\n",
    "import os\n",
    "import time\n",
    "import copy\n",
    "import json\n",
    "import openai\n",
    "from dotenv import load_dotenv\n",
    "\n",
    "from bs4 import BeautifulSoup as bs\n",
    "from selenium.webdriver.common.by import By\n",
    "from selenium.webdriver.support.ui import WebDriverWait\n",
    "from selenium.webdriver.support import expected_conditions as EC\n",
    "\n",
    "from method.ours.utils import get_application_context"
   ]
  },
  {
   "cell_type": "code",
   "execution_count": 3,
   "id": "748a3a00",
   "metadata": {
    "ExecuteTime": {
     "end_time": "2023-11-30T18:15:27.750500Z",
     "start_time": "2023-11-30T18:15:27.715808Z"
    }
   },
   "outputs": [],
   "source": [
    "load_dotenv()\n",
    "openai.api_key = os.getenv(\"OPENAI_API_KEY\")\n",
    "\n",
    "# Global Variables\n",
    "HEADLESS = False\n",
    "TEXT_EMBEDDING_METHOD = 'ADA'\n",
    "GRAPH_EMBEDDING_METHOD = 'NODE2VEC'\n",
    "\n",
    "URL = 'https://www.aa.com/homePage.do'\n",
    "# 'https://www.jetblue.com/'\n",
    "# 'https://www.united.com/en/us'\n",
    "# 'https://www.aircanada.com/ca/en/aco/home.html'\n",
    "\n",
    "\n",
    "def get_to_form(driver):\n",
    "    try:\n",
    "        driver.get(URL)\n",
    "        \n",
    "        '''\n",
    "        # AC - My Bookings\n",
    "        time.sleep(2)\n",
    "        WebDriverWait(driver, 5).until(\n",
    "            EC.presence_of_element_located((By.ID, 'bkmg-tab-button-mngBook'))\n",
    "        ).click()\n",
    "        '''\n",
    "        \n",
    "        '''\n",
    "        # AC - Multi-city\n",
    "        time.sleep(2)\n",
    "        WebDriverWait(driver, 5).until(\n",
    "            EC.presence_of_element_located((By.ID, 'bkmgFlights_tripTypeSelector_M'))\n",
    "        ).click()\n",
    "        '''\n",
    "        \n",
    "    except:\n",
    "        print('timeout')\n",
    "\n",
    "\n",
    "def find_form():\n",
    "    return WebDriverWait(driver, 10).until(\n",
    "        EC.presence_of_element_located((\n",
    "            By.XPATH,\n",
    "            '//BODY/MAIN[1]/DIV[1]/DIV[2]/DIV[1]/DIV[1]/DIV[1]/DIV[1]/DIV[1]/FORM[1]'\n",
    "        ))\n",
    "    )\n",
    "\n",
    "\n",
    "def find_button():\n",
    "    return None"
   ]
  },
  {
   "cell_type": "code",
   "execution_count": 4,
   "id": "d20d07d2",
   "metadata": {
    "ExecuteTime": {
     "end_time": "2023-11-30T18:15:46.287847Z",
     "start_time": "2023-11-30T18:15:37.160140Z"
    }
   },
   "outputs": [],
   "source": [
    "driver = create_driver(HEADLESS)\n",
    "get_to_form(driver)"
   ]
  },
  {
   "cell_type": "code",
   "execution_count": 5,
   "id": "edf1d269",
   "metadata": {
    "ExecuteTime": {
     "end_time": "2023-11-30T18:15:51.426186Z",
     "start_time": "2023-11-30T18:15:50.992506Z"
    }
   },
   "outputs": [],
   "source": [
    "html = driver.find_element(By.TAG_NAME, 'html').get_attribute('outerHTML')\n",
    "form = find_form()\n",
    "form_xpath = get_xpath(driver, form)\n",
    "\n",
    "inputs = form.find_elements(\n",
    "    By.XPATH,\n",
    "    f'{form_xpath}//input | {form_xpath}//textarea | {form_xpath}//select'\n",
    ")\n",
    "\n",
    "inputs = list(filter(\n",
    "    lambda x: x.get_attribute('type') != 'hidden' and x.get_attribute('hidden') != 'true',\n",
    "    inputs\n",
    "))"
   ]
  },
  {
   "cell_type": "code",
   "execution_count": null,
   "id": "04d37c0c",
   "metadata": {},
   "outputs": [],
   "source": [
    "app_context = get_application_context(driver).replace('\\n', ' ')"
   ]
  },
  {
   "cell_type": "code",
   "execution_count": 40,
   "id": "31ef3116",
   "metadata": {
    "ExecuteTime": {
     "end_time": "2023-11-30T18:29:10.737236Z",
     "start_time": "2023-11-30T18:29:10.267483Z"
    }
   },
   "outputs": [],
   "source": [
    "input_widget_context = ''\n",
    "\n",
    "for i in inputs:\n",
    "    if i.tag_name != 'input':\n",
    "        continue\n",
    "    \n",
    "    input_id = i.get_attribute('id')\n",
    "    \n",
    "    try:\n",
    "        label = form.find_element(By.XPATH, f'//*[@for=\"{input_id}\"]').text.replace('\\n', ' ')\n",
    "        input_widget_context += f'This input is about {label}. {label} is [MASK]. '\n",
    "    except:\n",
    "        pass\n",
    "\n",
    "# print(input_widget_context)"
   ]
  },
  {
   "cell_type": "code",
   "execution_count": 44,
   "id": "002b474f",
   "metadata": {
    "ExecuteTime": {
     "end_time": "2023-11-30T18:31:20.393671Z",
     "start_time": "2023-11-30T18:31:20.367697Z"
    }
   },
   "outputs": [],
   "source": [
    "FORM_FUNC = 'Book'\n",
    "\n",
    "prompt = f'''\n",
    "The app is {app_context}, in its {FORM_FUNC} form. {input_widget_context}\n",
    "'''.strip()"
   ]
  },
  {
   "cell_type": "code",
   "execution_count": 45,
   "id": "aee461b8",
   "metadata": {
    "ExecuteTime": {
     "end_time": "2023-11-30T18:31:22.080601Z",
     "start_time": "2023-11-30T18:31:22.050837Z"
    }
   },
   "outputs": [
    {
     "data": {
      "text/plain": [
       "'The app is Title: American Airlines - Airline tickets and low fares at aa.com Description: Book low fares to destinations around the world and find the latest deals on airline tickets, hotels, car rentals and vacations at aa.com. As an AAdantage member you earn miles on every trip and everyday spend., in its Book form. This input is about Search flight Flight. Search flight Flight is [MASK]. This input is about Search vacation packages Vacation packages. Search vacation packages Vacation packages is [MASK]. This input is about Search flights round trip Round trip. Search flights round trip Round trip is [MASK]. This input is about Search flights one way One way. Search flights one way One way is [MASK]. This input is about Redeem miles. Redeem miles is [MASK]. This input is about From. From is [MASK]. This input is about To. To is [MASK]. This input is about Depart (date format mm/dd/yyyy). Depart (date format mm/dd/yyyy) is [MASK]. This input is about Return (date format mm/dd/yyyy). Return (date format mm/dd/yyyy) is [MASK]. This input is about From. From is [MASK]. This input is about To. To is [MASK]. This input is about Depart (date format mm/dd/yyyy). Depart (date format mm/dd/yyyy) is [MASK]. This input is about Return (date format mm/dd/yyyy). Return (date format mm/dd/yyyy) is [MASK].'"
      ]
     },
     "execution_count": 45,
     "metadata": {},
     "output_type": "execute_result"
    }
   ],
   "source": [
    "prompt"
   ]
  },
  {
   "cell_type": "code",
   "execution_count": 46,
   "id": "148e1295",
   "metadata": {
    "ExecuteTime": {
     "end_time": "2023-11-30T18:32:13.020171Z",
     "start_time": "2023-11-30T18:31:57.697924Z"
    }
   },
   "outputs": [],
   "source": [
    "# This code is for v1 of the openai package: pypi.org/project/openai\n",
    "from openai import OpenAI\n",
    "client = OpenAI()\n",
    "\n",
    "response = client.chat.completions.create(\n",
    "  model=\"gpt-4\",\n",
    "  messages=[\n",
    "    {\n",
    "      \"role\": \"system\",\n",
    "      \"content\": \"You are required to generate values for a given input or list of inputs given in a text. Please create an array of values, the first element is a passing value for the inputs, and the rest are failing values. Please note that each [MASK] is showing a different input. Give the values for different inputs in arrays, like the following format:\\n\\n[\\n[First input, second input, ...],\\n[First input, second input, ...],\\n...\\n]\"\n",
    "    },\n",
    "    {\n",
    "      \"role\": \"user\",\n",
    "      \"content\": prompt\n",
    "    }\n",
    "  ],\n",
    "  temperature=1,\n",
    "  max_tokens=256,\n",
    "  top_p=1,\n",
    "  frequency_penalty=0,\n",
    "  presence_penalty=0\n",
    ")"
   ]
  },
  {
   "cell_type": "code",
   "execution_count": 55,
   "id": "9e3b728b",
   "metadata": {
    "ExecuteTime": {
     "end_time": "2023-11-30T18:33:55.114881Z",
     "start_time": "2023-11-30T18:33:55.085426Z"
    }
   },
   "outputs": [
    {
     "name": "stdout",
     "output_type": "stream",
     "text": [
      "Passing: ['On', 'Unavailable', 'Return', 'Single', '20,000', 'Seattle', 'Houston', '09/05/2022', '09/15/2022', 'New York', 'Chicago', '11/11/2022', '11/20/2022']\n",
      "\n",
      "Failing: ['Off', 'No results found', 'One way', 'Round Trip', '0', 'Houston', 'Same location', '32/15/2022', '15/09/2022', 'Seattle', 'Same city', '15/33/2022', '22/09/2022']\n",
      "\n",
      "Failing: ['Not Available', 'Network error', 'Wrong choice', 'Cannot select', 'Less than need', 'No city name', 'Transportation method', '2022/09/05', '2022/15/09', 'Transport', 'No destination', '05/2022/09', '2022/09/15']\n",
      "\n",
      "Failing: ['Server error', 'Slow response', 'Already selected', 'Not allowed', 'Greater than available', 'Unknown location', 'No city', '200522', '152022', 'Unknown', 'Same as from', '20220915', '20220922']\n",
      "\n"
     ]
    }
   ],
   "source": [
    "values = json.loads(response.choices[0].message.content)\n",
    "\n",
    "passing = values[0]\n",
    "failing = values[1:]\n",
    "\n",
    "print(\"Passing:\", passing)\n",
    "print()\n",
    "\n",
    "for f in failing:\n",
    "    print(\"Failing:\", f)\n",
    "    print()"
   ]
  },
  {
   "cell_type": "code",
   "execution_count": null,
   "id": "2d33c26d",
   "metadata": {},
   "outputs": [],
   "source": []
  }
 ],
 "metadata": {
  "kernelspec": {
   "display_name": "Python 3 (ipykernel)",
   "language": "python",
   "name": "python3"
  },
  "language_info": {
   "codemirror_mode": {
    "name": "ipython",
    "version": 3
   },
   "file_extension": ".py",
   "mimetype": "text/x-python",
   "name": "python",
   "nbconvert_exporter": "python",
   "pygments_lexer": "ipython3",
   "version": "3.10.9"
  },
  "toc": {
   "base_numbering": 1,
   "nav_menu": {},
   "number_sections": true,
   "sideBar": true,
   "skip_h1_title": false,
   "title_cell": "Table of Contents",
   "title_sidebar": "Contents",
   "toc_cell": false,
   "toc_position": {},
   "toc_section_display": true,
   "toc_window_display": false
  },
  "varInspector": {
   "cols": {
    "lenName": 16,
    "lenType": 16,
    "lenVar": 40
   },
   "kernels_config": {
    "python": {
     "delete_cmd_postfix": "",
     "delete_cmd_prefix": "del ",
     "library": "var_list.py",
     "varRefreshCmd": "print(var_dic_list())"
    },
    "r": {
     "delete_cmd_postfix": ") ",
     "delete_cmd_prefix": "rm(",
     "library": "var_list.r",
     "varRefreshCmd": "cat(var_dic_list()) "
    }
   },
   "types_to_exclude": [
    "module",
    "function",
    "builtin_function_or_method",
    "instance",
    "_Feature"
   ],
   "window_display": false
  }
 },
 "nbformat": 4,
 "nbformat_minor": 5
}
