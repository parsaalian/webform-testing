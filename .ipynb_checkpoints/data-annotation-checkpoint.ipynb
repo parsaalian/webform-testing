{
 "cells": [
  {
   "cell_type": "code",
   "execution_count": 1,
   "id": "31ce5930",
   "metadata": {
    "ExecuteTime": {
     "end_time": "2023-07-01T18:49:47.945243Z",
     "start_time": "2023-07-01T18:49:47.908630Z"
    }
   },
   "outputs": [],
   "source": [
    "%load_ext autoreload\n",
    "%autoreload 2"
   ]
  },
  {
   "cell_type": "code",
   "execution_count": 45,
   "id": "b8b70d84",
   "metadata": {
    "ExecuteTime": {
     "end_time": "2023-07-01T21:18:52.335020Z",
     "start_time": "2023-07-01T21:18:52.284257Z"
    }
   },
   "outputs": [],
   "source": [
    "import time\n",
    "import json\n",
    "import pandas as pd\n",
    "\n",
    "from selenium.webdriver.common.by import By\n",
    "\n",
    "from method.ours.utils import create_driver, get_xpath"
   ]
  },
  {
   "cell_type": "code",
   "execution_count": 3,
   "id": "893153cc",
   "metadata": {
    "ExecuteTime": {
     "end_time": "2023-07-01T18:49:51.108894Z",
     "start_time": "2023-07-01T18:49:51.064452Z"
    }
   },
   "outputs": [],
   "source": [
    "HEADLESS = False\n",
    "APP_NAME = 'Air Canada'\n",
    "APP_URL = 'https://www.aircanada.com/ca/en/aco/home.html'"
   ]
  },
  {
   "cell_type": "markdown",
   "id": "143f6dc6",
   "metadata": {},
   "source": [
    "# Go to the Page"
   ]
  },
  {
   "cell_type": "code",
   "execution_count": 4,
   "id": "edb7f03f",
   "metadata": {
    "ExecuteTime": {
     "end_time": "2023-07-01T18:49:56.904395Z",
     "start_time": "2023-07-01T18:49:52.285665Z"
    }
   },
   "outputs": [],
   "source": [
    "driver = create_driver(HEADLESS)\n",
    "driver.get(APP_URL)"
   ]
  },
  {
   "cell_type": "markdown",
   "id": "227ca47d",
   "metadata": {},
   "source": [
    "# Find All the Forms"
   ]
  },
  {
   "cell_type": "code",
   "execution_count": 5,
   "id": "da940b45",
   "metadata": {
    "ExecuteTime": {
     "end_time": "2023-07-01T18:49:58.583833Z",
     "start_time": "2023-07-01T18:49:58.519831Z"
    }
   },
   "outputs": [],
   "source": [
    "forms = driver.find_elements(By.TAG_NAME, 'form')"
   ]
  },
  {
   "cell_type": "code",
   "execution_count": 7,
   "id": "1724887e",
   "metadata": {
    "ExecuteTime": {
     "end_time": "2023-07-01T18:50:04.718713Z",
     "start_time": "2023-07-01T18:50:04.557205Z"
    }
   },
   "outputs": [
    {
     "name": "stdout",
     "output_type": "stream",
     "text": [
      "Form 0 with XPATH:\n",
      "//BODY/AC-WEB-APP[1]/DIV[1]/DIV[1]/DIV[1]/NGX-AC-HEADER[1]/NGX-AC-HEADER-PRES[1]/HEADER[1]/DIV[1]/DIV[1]/DIV[1]/DIV[3]/NGX-AC-SITE-SEARCH[1]/FORM[1]\n",
      "Form content:\n",
      "Search\n",
      "\n",
      "Form 1 with XPATH:\n",
      "//BODY/AC-WEB-APP[1]/DIV[1]/MAIN[1]/DIV[1]/AC-ACOHOME-PAGE[1]/DIV[1]/DIV[1]/AC-BOOKING-MAGNET[1]/DIV[1]/DIV[1]/DIV[1]/DIV[2]/AC-BKMG-FLIGHTS-TAB[1]/DIV[1]/FORM[1]\n",
      "Form content:\n",
      "Round-trip\n",
      "One-way\n",
      "Multi-city/Stopover\n",
      "Book with points\n",
      "From\n",
      "To\n",
      "Departure\n",
      "Return\n",
      "\n"
     ]
    }
   ],
   "source": [
    "form_xpaths = []\n",
    "\n",
    "for i, form in enumerate(forms):\n",
    "    xpath = get_xpath(driver, form)\n",
    "    form_xpaths.append(xpath)\n",
    "    \n",
    "    print(f'Form {i} with XPATH:')\n",
    "    print(xpath)\n",
    "    \n",
    "    labels = '\\n'.join(map(lambda x: x.text, form.find_elements(By.TAG_NAME, 'label')))\n",
    "    print('Form content:')\n",
    "    print(labels)\n",
    "    print()"
   ]
  },
  {
   "cell_type": "code",
   "execution_count": 8,
   "id": "878fc01b",
   "metadata": {
    "ExecuteTime": {
     "end_time": "2023-07-01T18:50:12.770314Z",
     "start_time": "2023-07-01T18:50:10.165451Z"
    }
   },
   "outputs": [
    {
     "name": "stdout",
     "output_type": "stream",
     "text": [
      "Choose one of the forms to interact with.1\n"
     ]
    }
   ],
   "source": [
    "selected_form_index = int(input('Choose one of the forms to interact with: '))"
   ]
  },
  {
   "cell_type": "code",
   "execution_count": 11,
   "id": "1ade9413",
   "metadata": {
    "ExecuteTime": {
     "end_time": "2023-07-01T18:51:04.230061Z",
     "start_time": "2023-07-01T18:51:04.188397Z"
    }
   },
   "outputs": [],
   "source": [
    "selected_form = forms[selected_form_index]\n",
    "selected_form_xpath = form_xpaths[selected_form_index]"
   ]
  },
  {
   "cell_type": "markdown",
   "id": "df63f466",
   "metadata": {},
   "source": [
    "# Find Passing Values"
   ]
  },
  {
   "cell_type": "markdown",
   "id": "451dac52",
   "metadata": {},
   "source": [
    "<span style=\"color: red;\">INSTRUCTION</span>: Use the form to find a successful combination of input values."
   ]
  },
  {
   "cell_type": "markdown",
   "id": "8b16b5e4",
   "metadata": {},
   "source": [
    "# Input Passing Values"
   ]
  },
  {
   "cell_type": "code",
   "execution_count": 17,
   "id": "75673606",
   "metadata": {
    "ExecuteTime": {
     "end_time": "2023-07-01T18:56:06.080718Z",
     "start_time": "2023-07-01T18:56:05.142338Z"
    }
   },
   "outputs": [],
   "source": [
    "driver.get(APP_URL)"
   ]
  },
  {
   "cell_type": "markdown",
   "id": "689779c9",
   "metadata": {},
   "source": [
    "<span style=\"color: red;\">INSTRUCTION</span>: Do the necessary interactions to get back to the intended form."
   ]
  },
  {
   "cell_type": "code",
   "execution_count": 18,
   "id": "9a672db2",
   "metadata": {
    "ExecuteTime": {
     "end_time": "2023-07-01T18:57:18.134172Z",
     "start_time": "2023-07-01T18:57:18.072812Z"
    }
   },
   "outputs": [],
   "source": [
    "form = driver.find_elements(By.TAG_NAME, 'form')[selected_form_index]"
   ]
  },
  {
   "cell_type": "code",
   "execution_count": 37,
   "id": "bec074ba",
   "metadata": {
    "ExecuteTime": {
     "end_time": "2023-07-01T19:15:07.639907Z",
     "start_time": "2023-07-01T19:15:07.397800Z"
    }
   },
   "outputs": [],
   "source": [
    "inputs = form.find_elements(\n",
    "    By.XPATH,\n",
    "    f'{selected_form_xpath}//input | {selected_form_xpath}//textarea | {selected_form_xpath}//select'\n",
    ")\n",
    "inputs = list(filter(\n",
    "    lambda x: x.get_attribute('type') != 'hidden' and x.get_attribute('hidden') != 'true',\n",
    "    inputs\n",
    "))"
   ]
  },
  {
   "cell_type": "code",
   "execution_count": 39,
   "id": "d3d49fbc",
   "metadata": {
    "ExecuteTime": {
     "end_time": "2023-07-01T19:18:56.995251Z",
     "start_time": "2023-07-01T19:17:56.914843Z"
    }
   },
   "outputs": [
    {
     "name": "stdout",
     "output_type": "stream",
     "text": [
      "<input type=\"radio\" class=\"abc-form-element-main abc-form-element-radio-button ng-untouched ng-pristine ng-valid\" id=\"bkmgFlights_tripTypeSelector_R\" name=\"tripType\" value=\"R\" aria-disabled=\"false\" aria-invalid=\"false\" aria-checked=\"true\">\n",
      "Enter a successful value for this input: True\n",
      "<input type=\"radio\" class=\"abc-form-element-main abc-form-element-radio-button ng-untouched ng-pristine ng-valid\" id=\"bkmgFlights_tripTypeSelector_O\" name=\"tripType\" value=\"O\" aria-disabled=\"false\" aria-invalid=\"false\" aria-checked=\"false\">\n",
      "Enter a successful value for this input: False\n",
      "<input type=\"radio\" class=\"abc-form-element-main abc-form-element-radio-button ng-untouched ng-pristine ng-valid\" id=\"bkmgFlights_tripTypeSelector_M\" name=\"tripType\" value=\"M\" aria-disabled=\"false\" aria-invalid=\"false\" aria-checked=\"false\">\n",
      "Enter a successful value for this input: False\n",
      "<input type=\"checkbox\" role=\"checkbox\" class=\"abc-form-element-main abc-form-element-checkbox ng-untouched ng-pristine ng-valid\" id=\"bkmgFlights_searchTypeToggle\" aria-label=\"Book with Aeroplan points\" aria-disabled=\"false\" aria-required=\"false\" aria-invalid=\"false\" aria-checked=\"false\">\n",
      "Enter a successful value for this input: False\n",
      "<input class=\"abc-form-element-input abc-form-element-main text-transform-none ng-untouched ng-pristine ng-valid ng-star-inserted\" type=\"text\" placeholder=\"\" id=\"bkmgFlights_origin_trip_1\" name=\"bkmgFlights_origin_trip_1\" aria-disabled=\"false\" aria-invalid=\"false\" aria-label=\"From\" aria-describedby=\"bkmgFlights_origin_trip_1Status\" aria-autocomplete=\"list\" aria-haspopup=\"true\" aria-expanded=\"false\" role=\"combobox\" autocorrect=\"off\" spellcheck=\"false\" autocomplete=\"off\">\n",
      "Enter a successful value for this input: Vancouver YVR\n",
      "<input class=\"abc-form-element-input abc-form-element-main text-transform-none ng-untouched ng-pristine ng-valid ng-star-inserted\" type=\"text\" placeholder=\"\" id=\"bkmgFlights_destination_trip_1\" name=\"bkmgFlights_destination_trip_1\" aria-disabled=\"false\" aria-invalid=\"false\" aria-label=\"To\" aria-describedby=\"bkmgFlights_destination_trip_1Status\" aria-autocomplete=\"list\" aria-haspopup=\"true\" aria-expanded=\"false\" role=\"combobox\" autocorrect=\"off\" spellcheck=\"false\" autocomplete=\"off\">\n",
      "Enter a successful value for this input: Toronto YYZ\n",
      "<input class=\"abc-form-element-input abc-form-element-main text-transform-none ng-untouched ng-pristine ng-valid ng-star-inserted\" type=\"text\" placeholder=\"DD/MM\" id=\"bkmgFlights_travelDates_1-formfield-1\" name=\"bkmgFlights_travelDates_1-formfield-1\" aria-disabled=\"false\" aria-invalid=\"false\" aria-label=\"Departure\" aria-describedby=\"bkmgFlights_travelDates_1DatepickerSrHelperText\" autocorrect=\"off\" spellcheck=\"false\" autocomplete=\"off\">\n",
      "Enter a successful value for this input: 30/07/2023\n",
      "<input class=\"abc-form-element-input abc-form-element-main text-transform-none ng-untouched ng-pristine ng-valid ng-star-inserted\" type=\"text\" placeholder=\"DD/MM\" id=\"bkmgFlights_travelDates_1-formfield-2\" name=\"bkmgFlights_travelDates_1-formfield-2\" aria-disabled=\"false\" aria-invalid=\"true\" aria-label=\"Return\" aria-describedby=\"bkmgFlights_travelDates_1DatepickerSrHelperText bkmgFlights_travelDates_1Subscript\" autocorrect=\"off\" spellcheck=\"false\" autocomplete=\"off\">\n",
      "Enter a successful value for this input: 28/08/2023\n"
     ]
    }
   ],
   "source": [
    "passing_values = {}\n",
    "\n",
    "for element in inputs:\n",
    "    element_id = element.get_attribute('id') or get_xpath(driver, element)\n",
    "    print(element.get_attribute('outerHTML'))\n",
    "    value = input('Enter a successful value for this input: ')\n",
    "    passing_values[element_id] = value"
   ]
  },
  {
   "cell_type": "code",
   "execution_count": 40,
   "id": "7a5e26f6",
   "metadata": {
    "ExecuteTime": {
     "end_time": "2023-07-01T19:19:03.830229Z",
     "start_time": "2023-07-01T19:19:03.786777Z"
    }
   },
   "outputs": [
    {
     "data": {
      "text/plain": [
       "{'bkmgFlights_tripTypeSelector_R': 'True',\n",
       " 'bkmgFlights_tripTypeSelector_O': 'False',\n",
       " 'bkmgFlights_tripTypeSelector_M': 'False',\n",
       " 'bkmgFlights_searchTypeToggle': 'False',\n",
       " 'bkmgFlights_origin_trip_1': 'Vancouver YVR',\n",
       " 'bkmgFlights_destination_trip_1': 'Toronto YYZ',\n",
       " 'bkmgFlights_travelDates_1-formfield-1': '30/07/2023',\n",
       " 'bkmgFlights_travelDates_1-formfield-2': '28/08/2023'}"
      ]
     },
     "execution_count": 40,
     "metadata": {},
     "output_type": "execute_result"
    }
   ],
   "source": [
    "passing_values"
   ]
  },
  {
   "cell_type": "markdown",
   "id": "8e8ea772",
   "metadata": {},
   "source": [
    "# Input Failing Values"
   ]
  },
  {
   "cell_type": "code",
   "execution_count": null,
   "id": "883ac875",
   "metadata": {},
   "outputs": [],
   "source": [
    "driver.get(APP_URL)"
   ]
  },
  {
   "cell_type": "markdown",
   "id": "8caf938f",
   "metadata": {},
   "source": [
    "<span style=\"color: red;\">INSTRUCTION</span>: Do the necessary interactions to get back to the intended form."
   ]
  },
  {
   "cell_type": "code",
   "execution_count": null,
   "id": "05c475a2",
   "metadata": {},
   "outputs": [],
   "source": [
    "form = driver.find_elements(By.TAG_NAME, 'form')[selected_form_index]"
   ]
  },
  {
   "cell_type": "code",
   "execution_count": null,
   "id": "619f342d",
   "metadata": {},
   "outputs": [],
   "source": [
    "inputs = form.find_elements(\n",
    "    By.XPATH,\n",
    "    f'{selected_form_xpath}//input | {selected_form_xpath}//textarea | {selected_form_xpath}//select'\n",
    ")\n",
    "inputs = list(filter(\n",
    "    lambda x: x.get_attribute('type') != 'hidden' and x.get_attribute('hidden') != 'true',\n",
    "    inputs\n",
    "))"
   ]
  },
  {
   "cell_type": "code",
   "execution_count": null,
   "id": "a7183443",
   "metadata": {},
   "outputs": [],
   "source": [
    "failing_values = {}\n",
    "\n",
    "\n",
    "for element in inputs:\n",
    "    element_id = element.get_attribute('id') or get_xpath(driver, element)\n",
    "    print(element.get_attribute('outerHTML'))\n",
    "    value = input('Enter a failing value for this input: ')\n",
    "    failing_values[element_id] = value"
   ]
  },
  {
   "cell_type": "markdown",
   "id": "e55ae387",
   "metadata": {},
   "source": [
    "# Save the results"
   ]
  },
  {
   "cell_type": "code",
   "execution_count": 41,
   "id": "1eaee799",
   "metadata": {
    "ExecuteTime": {
     "end_time": "2023-07-01T21:17:43.945756Z",
     "start_time": "2023-07-01T21:17:43.903474Z"
    }
   },
   "outputs": [],
   "source": [
    "PATH_TO_DATASET = './annotations.csv'"
   ]
  },
  {
   "cell_type": "code",
   "execution_count": 50,
   "id": "7e18d839",
   "metadata": {
    "ExecuteTime": {
     "end_time": "2023-07-01T21:20:22.562417Z",
     "start_time": "2023-07-01T21:20:22.512284Z"
    }
   },
   "outputs": [],
   "source": [
    "df = pd.read_csv(PATH_TO_DATASET)"
   ]
  },
  {
   "cell_type": "code",
   "execution_count": 51,
   "id": "063878aa",
   "metadata": {
    "ExecuteTime": {
     "end_time": "2023-07-01T21:20:23.826214Z",
     "start_time": "2023-07-01T21:20:23.776896Z"
    }
   },
   "outputs": [],
   "source": [
    "new_row = [\n",
    "    APP_NAME,\n",
    "    APP_URL,\n",
    "    selected_form_xpath,\n",
    "    json.dumps(passing_values),\n",
    "    'SUCCESS',\n",
    "    None\n",
    "]"
   ]
  },
  {
   "cell_type": "code",
   "execution_count": 52,
   "id": "8ef99d16",
   "metadata": {
    "ExecuteTime": {
     "end_time": "2023-07-01T21:20:31.452493Z",
     "start_time": "2023-07-01T21:20:31.404602Z"
    }
   },
   "outputs": [],
   "source": [
    "df.loc[len(df)] = new_row"
   ]
  },
  {
   "cell_type": "code",
   "execution_count": 53,
   "id": "28af81a7",
   "metadata": {
    "ExecuteTime": {
     "end_time": "2023-07-01T21:20:32.824783Z",
     "start_time": "2023-07-01T21:20:32.767136Z"
    }
   },
   "outputs": [
    {
     "data": {
      "text/html": [
       "<div>\n",
       "<style scoped>\n",
       "    .dataframe tbody tr th:only-of-type {\n",
       "        vertical-align: middle;\n",
       "    }\n",
       "\n",
       "    .dataframe tbody tr th {\n",
       "        vertical-align: top;\n",
       "    }\n",
       "\n",
       "    .dataframe thead th {\n",
       "        text-align: right;\n",
       "    }\n",
       "</style>\n",
       "<table border=\"1\" class=\"dataframe\">\n",
       "  <thead>\n",
       "    <tr style=\"text-align: right;\">\n",
       "      <th></th>\n",
       "      <th>application</th>\n",
       "      <th>url</th>\n",
       "      <th>form_id</th>\n",
       "      <th>values</th>\n",
       "      <th>success_fail</th>\n",
       "      <th>submission_state</th>\n",
       "    </tr>\n",
       "  </thead>\n",
       "  <tbody>\n",
       "    <tr>\n",
       "      <th>0</th>\n",
       "      <td>Air Canada</td>\n",
       "      <td>https://www.aircanada.com/ca/en/aco/home.html</td>\n",
       "      <td>//BODY/AC-WEB-APP[1]/DIV[1]/MAIN[1]/DIV[1]/AC-...</td>\n",
       "      <td>{\"bkmgFlights_tripTypeSelector_R\": \"True\", \"bk...</td>\n",
       "      <td>SUCCESS</td>\n",
       "      <td>None</td>\n",
       "    </tr>\n",
       "  </tbody>\n",
       "</table>\n",
       "</div>"
      ],
      "text/plain": [
       "  application                                            url  \\\n",
       "0  Air Canada  https://www.aircanada.com/ca/en/aco/home.html   \n",
       "\n",
       "                                             form_id  \\\n",
       "0  //BODY/AC-WEB-APP[1]/DIV[1]/MAIN[1]/DIV[1]/AC-...   \n",
       "\n",
       "                                              values success_fail  \\\n",
       "0  {\"bkmgFlights_tripTypeSelector_R\": \"True\", \"bk...      SUCCESS   \n",
       "\n",
       "  submission_state  \n",
       "0             None  "
      ]
     },
     "execution_count": 53,
     "metadata": {},
     "output_type": "execute_result"
    }
   ],
   "source": [
    "df"
   ]
  },
  {
   "cell_type": "code",
   "execution_count": 54,
   "id": "eeb2fab6",
   "metadata": {
    "ExecuteTime": {
     "end_time": "2023-07-01T21:21:14.862949Z",
     "start_time": "2023-07-01T21:21:14.809236Z"
    }
   },
   "outputs": [],
   "source": [
    "df.to_csv(PATH_TO_DATASET, index=False)"
   ]
  },
  {
   "cell_type": "code",
   "execution_count": null,
   "id": "beeb64bc",
   "metadata": {},
   "outputs": [],
   "source": []
  },
  {
   "cell_type": "code",
   "execution_count": null,
   "id": "8b04afaf",
   "metadata": {},
   "outputs": [],
   "source": []
  },
  {
   "cell_type": "code",
   "execution_count": null,
   "id": "f2df6842",
   "metadata": {},
   "outputs": [],
   "source": []
  },
  {
   "cell_type": "markdown",
   "id": "cccba2f8",
   "metadata": {},
   "source": [
    "requirements:\n",
    "- [x] Go to a page\n",
    "- [x] Show all of forms and then select the one that we want to use\n",
    "- [x] Save the identification of the form (application + url + id/xpath)\n",
    "- [x] Let user try the intended form\n",
    "- [x] After trying the form, iterate over the inputs one by one, ask for a passing value for each one.\n",
    "- [x] Save the passing values.\n",
    "- [] Iterates over the inputs once again, prompt a value from fuzz-samples, try changing that input field with that value.\n",
    "- [] Save the resulting state of the page if user decides its a new state.\n",
    "- [x] Let user try other values that might fail.\n",
    "- [] Saves the resulting state of the page if user decides its a new state.\n",
    "- [] Aggregate the states.\n",
    "- [x] User has to enter the states into a specific document format."
   ]
  }
 ],
 "metadata": {
  "kernelspec": {
   "display_name": "Python 3 (ipykernel)",
   "language": "python",
   "name": "python3"
  },
  "language_info": {
   "codemirror_mode": {
    "name": "ipython",
    "version": 3
   },
   "file_extension": ".py",
   "mimetype": "text/x-python",
   "name": "python",
   "nbconvert_exporter": "python",
   "pygments_lexer": "ipython3",
   "version": "3.10.9"
  },
  "toc": {
   "base_numbering": 1,
   "nav_menu": {},
   "number_sections": true,
   "sideBar": true,
   "skip_h1_title": false,
   "title_cell": "Table of Contents",
   "title_sidebar": "Contents",
   "toc_cell": false,
   "toc_position": {},
   "toc_section_display": true,
   "toc_window_display": false
  },
  "varInspector": {
   "cols": {
    "lenName": 16,
    "lenType": 16,
    "lenVar": 40
   },
   "kernels_config": {
    "python": {
     "delete_cmd_postfix": "",
     "delete_cmd_prefix": "del ",
     "library": "var_list.py",
     "varRefreshCmd": "print(var_dic_list())"
    },
    "r": {
     "delete_cmd_postfix": ") ",
     "delete_cmd_prefix": "rm(",
     "library": "var_list.r",
     "varRefreshCmd": "cat(var_dic_list()) "
    }
   },
   "types_to_exclude": [
    "module",
    "function",
    "builtin_function_or_method",
    "instance",
    "_Feature"
   ],
   "window_display": false
  }
 },
 "nbformat": 4,
 "nbformat_minor": 5
}
