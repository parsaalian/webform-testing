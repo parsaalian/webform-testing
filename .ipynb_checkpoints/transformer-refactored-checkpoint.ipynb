{
 "cells": [
  {
   "cell_type": "markdown",
   "id": "34eb66a5",
   "metadata": {},
   "source": [
    "# Imports"
   ]
  },
  {
   "cell_type": "markdown",
   "id": "b706b19b",
   "metadata": {},
   "source": [
    "## Setup Local Imports"
   ]
  },
  {
   "cell_type": "code",
   "execution_count": 1,
   "id": "fb637269",
   "metadata": {
    "ExecuteTime": {
     "end_time": "2023-06-07T17:43:35.086650Z",
     "start_time": "2023-06-07T17:43:35.077930Z"
    }
   },
   "outputs": [],
   "source": [
    "import os\n",
    "import sys\n",
    "\n",
    "module_path = os.path.abspath(os.path.join('.'))\n",
    "\n",
    "if module_path not in sys.path:\n",
    "    sys.path.append(module_path)"
   ]
  },
  {
   "cell_type": "code",
   "execution_count": 2,
   "id": "c327cbd0",
   "metadata": {
    "ExecuteTime": {
     "end_time": "2023-06-07T17:43:35.702654Z",
     "start_time": "2023-06-07T17:43:35.670817Z"
    }
   },
   "outputs": [],
   "source": [
    "%load_ext autoreload\n",
    "%autoreload 2"
   ]
  },
  {
   "cell_type": "markdown",
   "id": "1c2aab53",
   "metadata": {},
   "source": [
    "## Global Imports"
   ]
  },
  {
   "cell_type": "code",
   "execution_count": 3,
   "id": "4505d704",
   "metadata": {
    "ExecuteTime": {
     "end_time": "2023-06-07T17:43:36.686876Z",
     "start_time": "2023-06-07T17:43:36.594952Z"
    }
   },
   "outputs": [],
   "source": [
    "from selenium.webdriver.common.by import By"
   ]
  },
  {
   "cell_type": "markdown",
   "id": "a3aad0af",
   "metadata": {},
   "source": [
    "## Local Imports"
   ]
  },
  {
   "cell_type": "code",
   "execution_count": 4,
   "id": "e4933529",
   "metadata": {
    "ExecuteTime": {
     "end_time": "2023-06-07T17:43:37.888691Z",
     "start_time": "2023-06-07T17:43:37.703587Z"
    }
   },
   "outputs": [],
   "source": [
    "from driver import run_driver\n",
    "from form_to_doc import form_to_doc"
   ]
  },
  {
   "cell_type": "markdown",
   "id": "28cc29e1",
   "metadata": {},
   "source": [
    "# Initial Transformation"
   ]
  },
  {
   "cell_type": "code",
   "execution_count": 5,
   "id": "cdfc1dbd",
   "metadata": {
    "ExecuteTime": {
     "end_time": "2023-06-07T17:43:45.139527Z",
     "start_time": "2023-06-07T17:43:39.627422Z"
    }
   },
   "outputs": [],
   "source": [
    "driver = run_driver()\n",
    "driver.get('https://ant.design/components/form')"
   ]
  },
  {
   "cell_type": "code",
   "execution_count": 6,
   "id": "fcc74352",
   "metadata": {
    "ExecuteTime": {
     "end_time": "2023-06-07T17:43:57.193849Z",
     "start_time": "2023-06-07T17:43:54.131924Z"
    }
   },
   "outputs": [],
   "source": [
    "form = driver.find_elements(By.TAG_NAME, 'form')[48]\n",
    "form_doc = form_to_doc(driver, form)"
   ]
  },
  {
   "cell_type": "code",
   "execution_count": 7,
   "id": "7d901439",
   "metadata": {
    "ExecuteTime": {
     "end_time": "2023-06-07T17:44:01.555134Z",
     "start_time": "2023-06-07T17:44:01.516810Z"
    }
   },
   "outputs": [
    {
     "name": "stdout",
     "output_type": "stream",
     "text": [
      "<form class=\"ant-form ant-form-horizontal css-dfjnss\" id=\"complex-form\" style=\"max-width: 600px;\" x_end=\"939\" x_start=\"339\" xpath=\"//BODY/DIV[1]/DIV[1]/MAIN[1]/DIV[2]/ARTICLE[1]/DIV[2]/DIV[1]/SECTION[1]/SECTION[17]/SECTION[1]/FORM[1]\" y_end=\"8501\" y_start=\"8301\">\n",
      " <div class=\"ant-form-item css-dfjnss\" x_end=\"939\" x_start=\"339\" xpath=\"//BODY/DIV[1]/DIV[1]/MAIN[1]/DIV[2]/ARTICLE[1]/DIV[2]/DIV[1]/SECTION[1]/SECTION[17]/SECTION[1]/FORM[1]/DIV[1]\" y_end=\"8333\" y_start=\"8301\">\n",
      "  <div class=\"ant-row ant-form-item-row css-dfjnss\" x_end=\"939\" x_start=\"339\" xpath=\"//BODY/DIV[1]/DIV[1]/MAIN[1]/DIV[2]/ARTICLE[1]/DIV[2]/DIV[1]/SECTION[1]/SECTION[17]/SECTION[1]/FORM[1]/DIV[1]/DIV[1]\" y_end=\"8333\" y_start=\"8301\">\n",
      "   <div class=\"ant-col ant-col-8 ant-form-item-label css-dfjnss\" x_end=\"539\" x_start=\"339\" xpath=\"//BODY/DIV[1]/DIV[1]/MAIN[1]/DIV[2]/ARTICLE[1]/DIV[2]/DIV[1]/SECTION[1]/SECTION[17]/SECTION[1]/FORM[1]/DIV[1]/DIV[1]/DIV[1]\" y_end=\"8333\" y_start=\"8301\">\n",
      "    <label class=\"\" title=\"Username\" x_end=\"539\" x_start=\"459\" xpath=\"//BODY/DIV[1]/DIV[1]/MAIN[1]/DIV[2]/ARTICLE[1]/DIV[2]/DIV[1]/SECTION[1]/SECTION[17]/SECTION[1]/FORM[1]/DIV[1]/DIV[1]/DIV[1]/LABEL[1]\" y_end=\"8333\" y_start=\"8301\">\n",
      "     Username\n",
      "    </label>\n",
      "   </div>\n",
      "   <div class=\"ant-col ant-col-16 ant-form-item-control css-dfjnss\" x_end=\"939\" x_start=\"539\" xpath=\"//BODY/DIV[1]/DIV[1]/MAIN[1]/DIV[2]/ARTICLE[1]/DIV[2]/DIV[1]/SECTION[1]/SECTION[17]/SECTION[1]/FORM[1]/DIV[1]/DIV[1]/DIV[2]\" y_end=\"8333\" y_start=\"8301\">\n",
      "    <div class=\"ant-form-item-control-input\" x_end=\"939\" x_start=\"539\" xpath=\"//BODY/DIV[1]/DIV[1]/MAIN[1]/DIV[2]/ARTICLE[1]/DIV[2]/DIV[1]/SECTION[1]/SECTION[17]/SECTION[1]/FORM[1]/DIV[1]/DIV[1]/DIV[2]/DIV[1]\" y_end=\"8333\" y_start=\"8301\">\n",
      "     <div class=\"ant-form-item-control-input-content\" x_end=\"939\" x_start=\"539\" xpath=\"//BODY/DIV[1]/DIV[1]/MAIN[1]/DIV[2]/ARTICLE[1]/DIV[2]/DIV[1]/SECTION[1]/SECTION[17]/SECTION[1]/FORM[1]/DIV[1]/DIV[1]/DIV[2]/DIV[1]/DIV[1]\" y_end=\"8333\" y_start=\"8301\">\n",
      "      <div class=\"ant-space css-dfjnss ant-space-horizontal ant-space-align-center\" style=\"gap: 8px;\" x_end=\"782\" x_start=\"539\" xpath=\"//BODY/DIV[1]/DIV[1]/MAIN[1]/DIV[2]/ARTICLE[1]/DIV[2]/DIV[1]/SECTION[1]/SECTION[17]/SECTION[1]/FORM[1]/DIV[1]/DIV[1]/DIV[2]/DIV[1]/DIV[1]/DIV[1]\" y_end=\"8333\" y_start=\"8301\">\n",
      "       <div class=\"ant-space-item\" style=\"\" x_end=\"699\" x_start=\"539\" xpath=\"//BODY/DIV[1]/DIV[1]/MAIN[1]/DIV[2]/ARTICLE[1]/DIV[2]/DIV[1]/SECTION[1]/SECTION[17]/SECTION[1]/FORM[1]/DIV[1]/DIV[1]/DIV[2]/DIV[1]/DIV[1]/DIV[1]/DIV[1]\" y_end=\"8333\" y_start=\"8301\">\n",
      "        <input aria-required=\"true\" class=\"ant-input css-dfjnss\" id=\"complex-form_username\" placeholder=\"Please input\" style=\"width: 160px;\" type=\"text\" value=\"\" x_end=\"699\" x_start=\"539\" xpath=\"//BODY/DIV[1]/DIV[1]/MAIN[1]/DIV[2]/ARTICLE[1]/DIV[2]/DIV[1]/SECTION[1]/SECTION[17]/SECTION[1]/FORM[1]/DIV[1]/DIV[1]/DIV[2]/DIV[1]/DIV[1]/DIV[1]/DIV[1]/INPUT[1]\" y_end=\"8333\" y_start=\"8301\"/>\n",
      "       </div>\n",
      "       <div class=\"ant-space-item\" x_end=\"782\" x_start=\"707\" xpath=\"//BODY/DIV[1]/DIV[1]/MAIN[1]/DIV[2]/ARTICLE[1]/DIV[2]/DIV[1]/SECTION[1]/SECTION[17]/SECTION[1]/FORM[1]/DIV[1]/DIV[1]/DIV[2]/DIV[1]/DIV[1]/DIV[1]/DIV[2]\" y_end=\"8328\" y_start=\"8306\">\n",
      "        <a class=\"ant-typography css-dfjnss\" href=\"#API\" x_end=\"782\" x_start=\"707\" xpath=\"//BODY/DIV[1]/DIV[1]/MAIN[1]/DIV[2]/ARTICLE[1]/DIV[2]/DIV[1]/SECTION[1]/SECTION[17]/SECTION[1]/FORM[1]/DIV[1]/DIV[1]/DIV[2]/DIV[1]/DIV[1]/DIV[1]/DIV[2]/A[1]\" y_end=\"8326\" y_start=\"8309\">\n",
      "         Need Help?\n",
      "        </a>\n",
      "       </div>\n",
      "      </div>\n",
      "     </div>\n",
      "    </div>\n",
      "   </div>\n",
      "  </div>\n",
      " </div>\n",
      " <div class=\"ant-form-item css-dfjnss\" x_end=\"939\" x_start=\"339\" xpath=\"//BODY/DIV[1]/DIV[1]/MAIN[1]/DIV[2]/ARTICLE[1]/DIV[2]/DIV[1]/SECTION[1]/SECTION[17]/SECTION[1]/FORM[1]/DIV[2]\" y_end=\"8389\" y_start=\"8357\">\n",
      "  <div class=\"ant-row ant-form-item-row css-dfjnss\" x_end=\"939\" x_start=\"339\" xpath=\"//BODY/DIV[1]/DIV[1]/MAIN[1]/DIV[2]/ARTICLE[1]/DIV[2]/DIV[1]/SECTION[1]/SECTION[17]/SECTION[1]/FORM[1]/DIV[2]/DIV[1]\" y_end=\"8389\" y_start=\"8357\">\n",
      "   <div class=\"ant-col ant-col-8 ant-form-item-label css-dfjnss\" x_end=\"539\" x_start=\"339\" xpath=\"//BODY/DIV[1]/DIV[1]/MAIN[1]/DIV[2]/ARTICLE[1]/DIV[2]/DIV[1]/SECTION[1]/SECTION[17]/SECTION[1]/FORM[1]/DIV[2]/DIV[1]/DIV[1]\" y_end=\"8389\" y_start=\"8357\">\n",
      "    <label class=\"\" title=\"Address\" x_end=\"539\" x_start=\"472\" xpath=\"//BODY/DIV[1]/DIV[1]/MAIN[1]/DIV[2]/ARTICLE[1]/DIV[2]/DIV[1]/SECTION[1]/SECTION[17]/SECTION[1]/FORM[1]/DIV[2]/DIV[1]/DIV[1]/LABEL[1]\" y_end=\"8389\" y_start=\"8357\">\n",
      "     Address\n",
      "    </label>\n",
      "   </div>\n",
      "   <div class=\"ant-col ant-col-16 ant-form-item-control css-dfjnss\" x_end=\"939\" x_start=\"539\" xpath=\"//BODY/DIV[1]/DIV[1]/MAIN[1]/DIV[2]/ARTICLE[1]/DIV[2]/DIV[1]/SECTION[1]/SECTION[17]/SECTION[1]/FORM[1]/DIV[2]/DIV[1]/DIV[2]\" y_end=\"8389\" y_start=\"8357\">\n",
      "    <div class=\"ant-form-item-control-input\" x_end=\"939\" x_start=\"539\" xpath=\"//BODY/DIV[1]/DIV[1]/MAIN[1]/DIV[2]/ARTICLE[1]/DIV[2]/DIV[1]/SECTION[1]/SECTION[17]/SECTION[1]/FORM[1]/DIV[2]/DIV[1]/DIV[2]/DIV[1]\" y_end=\"8389\" y_start=\"8357\">\n",
      "     <div class=\"ant-form-item-control-input-content\" x_end=\"939\" x_start=\"539\" xpath=\"//BODY/DIV[1]/DIV[1]/MAIN[1]/DIV[2]/ARTICLE[1]/DIV[2]/DIV[1]/SECTION[1]/SECTION[17]/SECTION[1]/FORM[1]/DIV[2]/DIV[1]/DIV[2]/DIV[1]/DIV[1]\" y_end=\"8389\" y_start=\"8357\">\n",
      "      <div class=\"ant-space-compact css-dfjnss\" x_end=\"860\" x_start=\"539\" xpath=\"//BODY/DIV[1]/DIV[1]/MAIN[1]/DIV[2]/ARTICLE[1]/DIV[2]/DIV[1]/SECTION[1]/SECTION[17]/SECTION[1]/FORM[1]/DIV[2]/DIV[1]/DIV[2]/DIV[1]/DIV[1]/DIV[1]\" y_end=\"8389\" y_start=\"8357\">\n",
      "       <div aria-required=\"true\" class=\"ant-select ant-select-in-form-item ant-select-compact-item ant-select-compact-first-item css-dfjnss ant-select-single ant-select-show-arrow\" x_end=\"748\" x_start=\"539\" xpath=\"//BODY/DIV[1]/DIV[1]/MAIN[1]/DIV[2]/ARTICLE[1]/DIV[2]/DIV[1]/SECTION[1]/SECTION[17]/SECTION[1]/FORM[1]/DIV[2]/DIV[1]/DIV[2]/DIV[1]/DIV[1]/DIV[1]/DIV[1]\" y_end=\"8389\" y_start=\"8357\">\n",
      "        <div class=\"ant-select-selector\" x_end=\"748\" x_start=\"539\" xpath=\"//BODY/DIV[1]/DIV[1]/MAIN[1]/DIV[2]/ARTICLE[1]/DIV[2]/DIV[1]/SECTION[1]/SECTION[17]/SECTION[1]/FORM[1]/DIV[2]/DIV[1]/DIV[2]/DIV[1]/DIV[1]/DIV[1]/DIV[1]/DIV[1]\" y_end=\"8389\" y_start=\"8357\">\n",
      "         <span class=\"ant-select-selection-search\" x_end=\"736\" x_start=\"551\" xpath=\"//BODY/DIV[1]/DIV[1]/MAIN[1]/DIV[2]/ARTICLE[1]/DIV[2]/DIV[1]/SECTION[1]/SECTION[17]/SECTION[1]/FORM[1]/DIV[2]/DIV[1]/DIV[2]/DIV[1]/DIV[1]/DIV[1]/DIV[1]/DIV[1]/SPAN[1]\" y_end=\"8388\" y_start=\"8358\">\n",
      "          <input aria-activedescendant=\"complex-form_address_province_list_0\" aria-autocomplete=\"list\" aria-controls=\"complex-form_address_province_list\" aria-expanded=\"false\" aria-haspopup=\"listbox\" aria-owns=\"complex-form_address_province_list\" aria-required=\"true\" autocomplete=\"off\" class=\"ant-select-selection-search-input\" id=\"complex-form_address_province\" readonly=\"\" role=\"combobox\" style=\"opacity: 0;\" type=\"search\" unselectable=\"on\" value=\"\" x_end=\"736\" x_start=\"551\" xpath=\"//BODY/DIV[1]/DIV[1]/MAIN[1]/DIV[2]/ARTICLE[1]/DIV[2]/DIV[1]/SECTION[1]/SECTION[17]/SECTION[1]/FORM[1]/DIV[2]/DIV[1]/DIV[2]/DIV[1]/DIV[1]/DIV[1]/DIV[1]/DIV[1]/SPAN[1]/INPUT[1]\" y_end=\"8388\" y_start=\"8358\"/>\n",
      "         </span>\n",
      "         <span class=\"ant-select-selection-placeholder\" x_end=\"736\" x_start=\"551\" xpath=\"//BODY/DIV[1]/DIV[1]/MAIN[1]/DIV[2]/ARTICLE[1]/DIV[2]/DIV[1]/SECTION[1]/SECTION[17]/SECTION[1]/FORM[1]/DIV[2]/DIV[1]/DIV[2]/DIV[1]/DIV[1]/DIV[1]/DIV[1]/DIV[1]/SPAN[2]\" y_end=\"8388\" y_start=\"8358\">\n",
      "          Select province\n",
      "         </span>\n",
      "        </div>\n",
      "        <span aria-hidden=\"true\" class=\"ant-select-arrow\" style=\"user-select: none;\" unselectable=\"on\" x_end=\"737\" x_start=\"725\" xpath=\"//BODY/DIV[1]/DIV[1]/MAIN[1]/DIV[2]/ARTICLE[1]/DIV[2]/DIV[1]/SECTION[1]/SECTION[17]/SECTION[1]/FORM[1]/DIV[2]/DIV[1]/DIV[2]/DIV[1]/DIV[1]/DIV[1]/DIV[1]/SPAN[1]\" y_end=\"8379\" y_start=\"8367\">\n",
      "         <span aria-label=\"down\" class=\"anticon anticon-down ant-select-suffix\" role=\"img\" x_end=\"737\" x_start=\"725\" xpath=\"//BODY/DIV[1]/DIV[1]/MAIN[1]/DIV[2]/ARTICLE[1]/DIV[2]/DIV[1]/SECTION[1]/SECTION[17]/SECTION[1]/FORM[1]/DIV[2]/DIV[1]/DIV[2]/DIV[1]/DIV[1]/DIV[1]/DIV[1]/SPAN[1]/SPAN[1]\" y_end=\"8379\" y_start=\"8367\">\n",
      "          <svg aria-hidden=\"true\" data-icon=\"down\" fill=\"currentColor\" focusable=\"false\" height=\"1em\" viewbox=\"64 64 896 896\" width=\"1em\" x_end=\"737\" x_start=\"725\" xpath=\"//BODY/DIV[1]/DIV[1]/MAIN[1]/DIV[2]/ARTICLE[1]/DIV[2]/DIV[1]/SECTION[1]/SECTION[17]/SECTION[1]/FORM[1]/DIV[2]/DIV[1]/DIV[2]/DIV[1]/DIV[1]/DIV[1]/DIV[1]/SPAN[1]/SPAN[1]/svg[1]\" y_end=\"8379\" y_start=\"8367\">\n",
      "           <path d=\"M884 256h-75c-5.1 0-9.9 2.5-12.9 6.6L512 654.2 227.9 262.6c-3-4.1-7.8-6.6-12.9-6.6h-75c-6.5 0-10.3 7.4-6.5 12.7l352.6 486.1c12.8 17.6 39 17.6 51.7 0l352.6-486.1c3.9-5.3.1-12.7-6.4-12.7z\" x_end=\"736.1784057617188\" x_start=\"726\" xpath=\"//BODY/DIV[1]/DIV[1]/MAIN[1]/DIV[2]/ARTICLE[1]/DIV[2]/DIV[1]/SECTION[1]/SECTION[17]/SECTION[1]/FORM[1]/DIV[2]/DIV[1]/DIV[2]/DIV[1]/DIV[1]/DIV[1]/DIV[1]/SPAN[1]/SPAN[1]/svg[1]/path[1]\" y_end=\"8376.857147216797\" y_start=\"8370\">\n",
      "           </path>\n",
      "          </svg>\n",
      "         </span>\n",
      "        </span>\n",
      "       </div>\n",
      "       <input aria-required=\"true\" class=\"ant-input css-dfjnss ant-input-compact-item ant-input-compact-last-item\" id=\"complex-form_address_street\" placeholder=\"Input street\" style=\"width: 50%;\" type=\"text\" value=\"\" x_end=\"860\" x_start=\"747\" xpath=\"//BODY/DIV[1]/DIV[1]/MAIN[1]/DIV[2]/ARTICLE[1]/DIV[2]/DIV[1]/SECTION[1]/SECTION[17]/SECTION[1]/FORM[1]/DIV[2]/DIV[1]/DIV[2]/DIV[1]/DIV[1]/DIV[1]/INPUT[1]\" y_end=\"8389\" y_start=\"8357\"/>\n",
      "      </div>\n",
      "     </div>\n",
      "    </div>\n",
      "   </div>\n",
      "  </div>\n",
      " </div>\n",
      " <div class=\"ant-form-item css-dfjnss\" style=\"margin-bottom: 0px;\" x_end=\"939\" x_start=\"339\" xpath=\"//BODY/DIV[1]/DIV[1]/MAIN[1]/DIV[2]/ARTICLE[1]/DIV[2]/DIV[1]/SECTION[1]/SECTION[17]/SECTION[1]/FORM[1]/DIV[3]\" y_end=\"8469\" y_start=\"8413\">\n",
      "  <div class=\"ant-row ant-form-item-row css-dfjnss\" x_end=\"939\" x_start=\"339\" xpath=\"//BODY/DIV[1]/DIV[1]/MAIN[1]/DIV[2]/ARTICLE[1]/DIV[2]/DIV[1]/SECTION[1]/SECTION[17]/SECTION[1]/FORM[1]/DIV[3]/DIV[1]\" y_end=\"8469\" y_start=\"8413\">\n",
      "   <div class=\"ant-col ant-col-8 ant-form-item-label css-dfjnss\" x_end=\"539\" x_start=\"339\" xpath=\"//BODY/DIV[1]/DIV[1]/MAIN[1]/DIV[2]/ARTICLE[1]/DIV[2]/DIV[1]/SECTION[1]/SECTION[17]/SECTION[1]/FORM[1]/DIV[3]/DIV[1]/DIV[1]\" y_end=\"8469\" y_start=\"8413\">\n",
      "    <label class=\"\" title=\"BirthDate\" x_end=\"539\" x_start=\"464\" xpath=\"//BODY/DIV[1]/DIV[1]/MAIN[1]/DIV[2]/ARTICLE[1]/DIV[2]/DIV[1]/SECTION[1]/SECTION[17]/SECTION[1]/FORM[1]/DIV[3]/DIV[1]/DIV[1]/LABEL[1]\" y_end=\"8445\" y_start=\"8413\">\n",
      "     BirthDate\n",
      "    </label>\n",
      "   </div>\n",
      "   <div class=\"ant-col ant-col-16 ant-form-item-control css-dfjnss\" x_end=\"939\" x_start=\"539\" xpath=\"//BODY/DIV[1]/DIV[1]/MAIN[1]/DIV[2]/ARTICLE[1]/DIV[2]/DIV[1]/SECTION[1]/SECTION[17]/SECTION[1]/FORM[1]/DIV[3]/DIV[1]/DIV[2]\" y_end=\"8469\" y_start=\"8413\">\n",
      "    <div class=\"ant-form-item-control-input\" x_end=\"939\" x_start=\"539\" xpath=\"//BODY/DIV[1]/DIV[1]/MAIN[1]/DIV[2]/ARTICLE[1]/DIV[2]/DIV[1]/SECTION[1]/SECTION[17]/SECTION[1]/FORM[1]/DIV[3]/DIV[1]/DIV[2]/DIV[1]\" y_end=\"8469\" y_start=\"8413\">\n",
      "     <div class=\"ant-form-item-control-input-content\" x_end=\"939\" x_start=\"539\" xpath=\"//BODY/DIV[1]/DIV[1]/MAIN[1]/DIV[2]/ARTICLE[1]/DIV[2]/DIV[1]/SECTION[1]/SECTION[17]/SECTION[1]/FORM[1]/DIV[3]/DIV[1]/DIV[2]/DIV[1]/DIV[1]\" y_end=\"8469\" y_start=\"8413\">\n",
      "      <div class=\"ant-form-item css-dfjnss\" style=\"display: inline-block; width: calc(50% - 8px);\" x_end=\"731\" x_start=\"539\" xpath=\"//BODY/DIV[1]/DIV[1]/MAIN[1]/DIV[2]/ARTICLE[1]/DIV[2]/DIV[1]/SECTION[1]/SECTION[17]/SECTION[1]/FORM[1]/DIV[3]/DIV[1]/DIV[2]/DIV[1]/DIV[1]/DIV[1]\" y_end=\"8445\" y_start=\"8413\">\n",
      "       <div class=\"ant-row ant-form-item-row css-dfjnss\" x_end=\"731\" x_start=\"539\" xpath=\"//BODY/DIV[1]/DIV[1]/MAIN[1]/DIV[2]/ARTICLE[1]/DIV[2]/DIV[1]/SECTION[1]/SECTION[17]/SECTION[1]/FORM[1]/DIV[3]/DIV[1]/DIV[2]/DIV[1]/DIV[1]/DIV[1]/DIV[1]\" y_end=\"8445\" y_start=\"8413\">\n",
      "        <div class=\"ant-col ant-form-item-control css-dfjnss\" x_end=\"731\" x_start=\"539\" xpath=\"//BODY/DIV[1]/DIV[1]/MAIN[1]/DIV[2]/ARTICLE[1]/DIV[2]/DIV[1]/SECTION[1]/SECTION[17]/SECTION[1]/FORM[1]/DIV[3]/DIV[1]/DIV[2]/DIV[1]/DIV[1]/DIV[1]/DIV[1]/DIV[1]\" y_end=\"8445\" y_start=\"8413\">\n",
      "         <div class=\"ant-form-item-control-input\" x_end=\"731\" x_start=\"539\" xpath=\"//BODY/DIV[1]/DIV[1]/MAIN[1]/DIV[2]/ARTICLE[1]/DIV[2]/DIV[1]/SECTION[1]/SECTION[17]/SECTION[1]/FORM[1]/DIV[3]/DIV[1]/DIV[2]/DIV[1]/DIV[1]/DIV[1]/DIV[1]/DIV[1]/DIV[1]\" y_end=\"8445\" y_start=\"8413\">\n",
      "          <div class=\"ant-form-item-control-input-content\" x_end=\"731\" x_start=\"539\" xpath=\"//BODY/DIV[1]/DIV[1]/MAIN[1]/DIV[2]/ARTICLE[1]/DIV[2]/DIV[1]/SECTION[1]/SECTION[17]/SECTION[1]/FORM[1]/DIV[3]/DIV[1]/DIV[2]/DIV[1]/DIV[1]/DIV[1]/DIV[1]/DIV[1]/DIV[1]/DIV[1]\" y_end=\"8445\" y_start=\"8413\">\n",
      "           <input aria-required=\"true\" class=\"ant-input css-dfjnss\" id=\"complex-form_year\" placeholder=\"Input birth year\" type=\"text\" value=\"\" x_end=\"731\" x_start=\"539\" xpath=\"//BODY/DIV[1]/DIV[1]/MAIN[1]/DIV[2]/ARTICLE[1]/DIV[2]/DIV[1]/SECTION[1]/SECTION[17]/SECTION[1]/FORM[1]/DIV[3]/DIV[1]/DIV[2]/DIV[1]/DIV[1]/DIV[1]/DIV[1]/DIV[1]/DIV[1]/DIV[1]/INPUT[1]\" y_end=\"8445\" y_start=\"8413\"/>\n",
      "          </div>\n",
      "         </div>\n",
      "        </div>\n",
      "       </div>\n",
      "      </div>\n",
      "      <div class=\"ant-form-item css-dfjnss\" style=\"display: inline-block; width: calc(50% - 8px); margin: 0px 8px;\" x_end=\"931\" x_start=\"739\" xpath=\"//BODY/DIV[1]/DIV[1]/MAIN[1]/DIV[2]/ARTICLE[1]/DIV[2]/DIV[1]/SECTION[1]/SECTION[17]/SECTION[1]/FORM[1]/DIV[3]/DIV[1]/DIV[2]/DIV[1]/DIV[1]/DIV[2]\" y_end=\"8445\" y_start=\"8413\">\n",
      "       <div class=\"ant-row ant-form-item-row css-dfjnss\" x_end=\"931\" x_start=\"739\" xpath=\"//BODY/DIV[1]/DIV[1]/MAIN[1]/DIV[2]/ARTICLE[1]/DIV[2]/DIV[1]/SECTION[1]/SECTION[17]/SECTION[1]/FORM[1]/DIV[3]/DIV[1]/DIV[2]/DIV[1]/DIV[1]/DIV[2]/DIV[1]\" y_end=\"8445\" y_start=\"8413\">\n",
      "        <div class=\"ant-col ant-form-item-control css-dfjnss\" x_end=\"931\" x_start=\"739\" xpath=\"//BODY/DIV[1]/DIV[1]/MAIN[1]/DIV[2]/ARTICLE[1]/DIV[2]/DIV[1]/SECTION[1]/SECTION[17]/SECTION[1]/FORM[1]/DIV[3]/DIV[1]/DIV[2]/DIV[1]/DIV[1]/DIV[2]/DIV[1]/DIV[1]\" y_end=\"8445\" y_start=\"8413\">\n",
      "         <div class=\"ant-form-item-control-input\" x_end=\"931\" x_start=\"739\" xpath=\"//BODY/DIV[1]/DIV[1]/MAIN[1]/DIV[2]/ARTICLE[1]/DIV[2]/DIV[1]/SECTION[1]/SECTION[17]/SECTION[1]/FORM[1]/DIV[3]/DIV[1]/DIV[2]/DIV[1]/DIV[1]/DIV[2]/DIV[1]/DIV[1]/DIV[1]\" y_end=\"8445\" y_start=\"8413\">\n",
      "          <div class=\"ant-form-item-control-input-content\" x_end=\"931\" x_start=\"739\" xpath=\"//BODY/DIV[1]/DIV[1]/MAIN[1]/DIV[2]/ARTICLE[1]/DIV[2]/DIV[1]/SECTION[1]/SECTION[17]/SECTION[1]/FORM[1]/DIV[3]/DIV[1]/DIV[2]/DIV[1]/DIV[1]/DIV[2]/DIV[1]/DIV[1]/DIV[1]/DIV[1]\" y_end=\"8445\" y_start=\"8413\">\n",
      "           <input aria-required=\"true\" class=\"ant-input css-dfjnss\" id=\"complex-form_month\" placeholder=\"Input birth month\" type=\"text\" value=\"\" x_end=\"931\" x_start=\"739\" xpath=\"//BODY/DIV[1]/DIV[1]/MAIN[1]/DIV[2]/ARTICLE[1]/DIV[2]/DIV[1]/SECTION[1]/SECTION[17]/SECTION[1]/FORM[1]/DIV[3]/DIV[1]/DIV[2]/DIV[1]/DIV[1]/DIV[2]/DIV[1]/DIV[1]/DIV[1]/DIV[1]/INPUT[1]\" y_end=\"8445\" y_start=\"8413\"/>\n",
      "          </div>\n",
      "         </div>\n",
      "        </div>\n",
      "       </div>\n",
      "      </div>\n",
      "     </div>\n",
      "    </div>\n",
      "   </div>\n",
      "  </div>\n",
      " </div>\n",
      " <div class=\"ant-form-item css-dfjnss\" x_end=\"939\" x_start=\"339\" xpath=\"//BODY/DIV[1]/DIV[1]/MAIN[1]/DIV[2]/ARTICLE[1]/DIV[2]/DIV[1]/SECTION[1]/SECTION[17]/SECTION[1]/FORM[1]/DIV[4]\" y_end=\"8501\" y_start=\"8469\">\n",
      "  <div class=\"ant-row ant-form-item-row css-dfjnss\" x_end=\"939\" x_start=\"339\" xpath=\"//BODY/DIV[1]/DIV[1]/MAIN[1]/DIV[2]/ARTICLE[1]/DIV[2]/DIV[1]/SECTION[1]/SECTION[17]/SECTION[1]/FORM[1]/DIV[4]/DIV[1]\" y_end=\"8501\" y_start=\"8469\">\n",
      "   <div class=\"ant-col ant-col-8 ant-form-item-label css-dfjnss\" x_end=\"539\" x_start=\"339\" xpath=\"//BODY/DIV[1]/DIV[1]/MAIN[1]/DIV[2]/ARTICLE[1]/DIV[2]/DIV[1]/SECTION[1]/SECTION[17]/SECTION[1]/FORM[1]/DIV[4]/DIV[1]/DIV[1]\" y_end=\"8501\" y_start=\"8469\">\n",
      "    <label class=\"ant-form-item-no-colon\" title=\" \" x_end=\"539\" x_start=\"529\" xpath=\"//BODY/DIV[1]/DIV[1]/MAIN[1]/DIV[2]/ARTICLE[1]/DIV[2]/DIV[1]/SECTION[1]/SECTION[17]/SECTION[1]/FORM[1]/DIV[4]/DIV[1]/DIV[1]/LABEL[1]\" y_end=\"8501\" y_start=\"8469\">\n",
      "    </label>\n",
      "   </div>\n",
      "   <div class=\"ant-col ant-col-16 ant-form-item-control css-dfjnss\" x_end=\"939\" x_start=\"539\" xpath=\"//BODY/DIV[1]/DIV[1]/MAIN[1]/DIV[2]/ARTICLE[1]/DIV[2]/DIV[1]/SECTION[1]/SECTION[17]/SECTION[1]/FORM[1]/DIV[4]/DIV[1]/DIV[2]\" y_end=\"8501\" y_start=\"8469\">\n",
      "    <div class=\"ant-form-item-control-input\" x_end=\"939\" x_start=\"539\" xpath=\"//BODY/DIV[1]/DIV[1]/MAIN[1]/DIV[2]/ARTICLE[1]/DIV[2]/DIV[1]/SECTION[1]/SECTION[17]/SECTION[1]/FORM[1]/DIV[4]/DIV[1]/DIV[2]/DIV[1]\" y_end=\"8501\" y_start=\"8469\">\n",
      "     <div class=\"ant-form-item-control-input-content\" x_end=\"939\" x_start=\"539\" xpath=\"//BODY/DIV[1]/DIV[1]/MAIN[1]/DIV[2]/ARTICLE[1]/DIV[2]/DIV[1]/SECTION[1]/SECTION[17]/SECTION[1]/FORM[1]/DIV[4]/DIV[1]/DIV[2]/DIV[1]/DIV[1]\" y_end=\"8501\" y_start=\"8469\">\n",
      "      <button class=\"ant-btn css-dfjnss ant-btn-primary\" type=\"submit\" x_end=\"617\" x_start=\"539\" xpath=\"//BODY/DIV[1]/DIV[1]/MAIN[1]/DIV[2]/ARTICLE[1]/DIV[2]/DIV[1]/SECTION[1]/SECTION[17]/SECTION[1]/FORM[1]/DIV[4]/DIV[1]/DIV[2]/DIV[1]/DIV[1]/BUTTON[1]\" y_end=\"8501\" y_start=\"8469\">\n",
      "       <span x_end=\"601\" x_start=\"555\" xpath=\"//BODY/DIV[1]/DIV[1]/MAIN[1]/DIV[2]/ARTICLE[1]/DIV[2]/DIV[1]/SECTION[1]/SECTION[17]/SECTION[1]/FORM[1]/DIV[4]/DIV[1]/DIV[2]/DIV[1]/DIV[1]/BUTTON[1]/SPAN[1]\" y_end=\"8496\" y_start=\"8474\">\n",
      "        Submit\n",
      "       </span>\n",
      "      </button>\n",
      "     </div>\n",
      "    </div>\n",
      "   </div>\n",
      "  </div>\n",
      " </div>\n",
      "</form>\n",
      "\n"
     ]
    }
   ],
   "source": [
    "print(form_doc.prettify())"
   ]
  },
  {
   "cell_type": "code",
   "execution_count": null,
   "id": "6a5fea62",
   "metadata": {},
   "outputs": [],
   "source": []
  }
 ],
 "metadata": {
  "kernelspec": {
   "display_name": "Python 3 (ipykernel)",
   "language": "python",
   "name": "python3"
  },
  "language_info": {
   "codemirror_mode": {
    "name": "ipython",
    "version": 3
   },
   "file_extension": ".py",
   "mimetype": "text/x-python",
   "name": "python",
   "nbconvert_exporter": "python",
   "pygments_lexer": "ipython3",
   "version": "3.10.9"
  },
  "toc": {
   "base_numbering": 1,
   "nav_menu": {},
   "number_sections": true,
   "sideBar": true,
   "skip_h1_title": false,
   "title_cell": "Table of Contents",
   "title_sidebar": "Contents",
   "toc_cell": false,
   "toc_position": {},
   "toc_section_display": true,
   "toc_window_display": false
  },
  "varInspector": {
   "cols": {
    "lenName": 16,
    "lenType": 16,
    "lenVar": 40
   },
   "kernels_config": {
    "python": {
     "delete_cmd_postfix": "",
     "delete_cmd_prefix": "del ",
     "library": "var_list.py",
     "varRefreshCmd": "print(var_dic_list())"
    },
    "r": {
     "delete_cmd_postfix": ") ",
     "delete_cmd_prefix": "rm(",
     "library": "var_list.r",
     "varRefreshCmd": "cat(var_dic_list()) "
    }
   },
   "types_to_exclude": [
    "module",
    "function",
    "builtin_function_or_method",
    "instance",
    "_Feature"
   ],
   "window_display": false
  }
 },
 "nbformat": 4,
 "nbformat_minor": 5
}
