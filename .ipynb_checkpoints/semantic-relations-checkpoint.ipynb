{
 "cells": [
  {
   "cell_type": "code",
   "execution_count": 4,
   "id": "5a1852e0",
   "metadata": {
    "ExecuteTime": {
     "end_time": "2023-06-08T18:00:20.339927Z",
     "start_time": "2023-06-08T18:00:12.542746Z"
    }
   },
   "outputs": [],
   "source": [
    "import os\n",
    "from enum import Enum\n",
    "from math import floor\n",
    "from dotenv import load_dotenv\n",
    "\n",
    "import numpy as np\n",
    "from tqdm.notebook import tqdm\n",
    "\n",
    "import openai\n",
    "from openai.embeddings_utils import get_embedding as get_embedding_openai, cosine_similarity\n",
    "\n",
    "from selenium import webdriver\n",
    "from selenium.webdriver.chrome.service import Service\n",
    "from selenium.webdriver.common.by import By\n",
    "from selenium.webdriver.chrome.options import Options\n",
    "\n",
    "from webdriver_manager.chrome import ChromeDriverManager\n",
    "\n",
    "from bs4 import BeautifulSoup as bs, NavigableString, Comment"
   ]
  },
  {
   "cell_type": "code",
   "execution_count": 5,
   "id": "8bee6adb",
   "metadata": {
    "ExecuteTime": {
     "end_time": "2023-06-08T18:00:36.705783Z",
     "start_time": "2023-06-08T18:00:36.701011Z"
    }
   },
   "outputs": [],
   "source": [
    "load_dotenv()\n",
    "openai.api_key = os.getenv(\"OPENAI_API_KEY\")"
   ]
  },
  {
   "cell_type": "code",
   "execution_count": 6,
   "id": "c93e42bb",
   "metadata": {
    "ExecuteTime": {
     "end_time": "2023-06-08T18:00:37.216464Z",
     "start_time": "2023-06-08T18:00:37.213483Z"
    }
   },
   "outputs": [],
   "source": [
    "# Global Variables\n",
    "TEXT_EMBEDDING_METHOD = 'ADA' # ['ADA', 'WORD2VEC', 'SPACY']\n",
    "GRAPH_EMBEDDING_METHOD = 'NODE2VEC' # ['NODE2VEC', 'GCN']"
   ]
  },
  {
   "cell_type": "code",
   "execution_count": 7,
   "id": "08120073",
   "metadata": {
    "ExecuteTime": {
     "end_time": "2023-06-08T18:00:42.026907Z",
     "start_time": "2023-06-08T18:00:37.731874Z"
    }
   },
   "outputs": [
    {
     "name": "stderr",
     "output_type": "stream",
     "text": [
      "[WDM] - Downloading: 100%|█████████████████████████████████████████████████████████████████████████████████████████████████████| 8.29M/8.29M [00:00<00:00, 9.53MB/s]\n"
     ]
    }
   ],
   "source": [
    "chrome_options = Options()\n",
    "# chrome_options.add_argument(\"--headless\")\n",
    "# chrome_options.add_argument(\"--window-size=3072x1920\");\n",
    "\n",
    "driver = webdriver.Chrome(service=Service(ChromeDriverManager().install()), options=chrome_options)"
   ]
  },
  {
   "cell_type": "code",
   "execution_count": 8,
   "id": "2fa57ce7",
   "metadata": {
    "ExecuteTime": {
     "end_time": "2023-06-08T18:00:50.230581Z",
     "start_time": "2023-06-08T18:00:46.248487Z"
    }
   },
   "outputs": [],
   "source": [
    "driver.get('https://ant.design/components/form')"
   ]
  },
  {
   "cell_type": "code",
   "execution_count": 9,
   "id": "7626c894",
   "metadata": {
    "ExecuteTime": {
     "end_time": "2023-06-08T18:00:50.290084Z",
     "start_time": "2023-06-08T18:00:50.281837Z"
    }
   },
   "outputs": [],
   "source": [
    "def get_xpath(element):\n",
    "    xpath_script = \"\"\"\n",
    "    function getPathTo(element) {\n",
    "        // if (element.id !== '')\n",
    "        //     return 'id(\\\"'+element.id+'\\\")';\n",
    "        if (element === document.body)\n",
    "            return element.tagName;\n",
    "        var ix= 0;\n",
    "        var siblings= element.parentNode.childNodes;\n",
    "        for (var i= 0; i<siblings.length; i++) {\n",
    "            var sibling= siblings[i];\n",
    "            if (sibling===element)\n",
    "                return getPathTo(element.parentNode) + '/' + element.tagName + '[' + (ix + 1) + ']';\n",
    "            if (sibling.nodeType===1 && sibling.tagName===element.tagName)\n",
    "                ix++;\n",
    "        }\n",
    "    }\n",
    "    const path = getPathTo(arguments[0]);\n",
    "    if (path.startsWith('id(')) {\n",
    "        return path;\n",
    "    }\n",
    "    return '//' + path;\n",
    "    \"\"\"\n",
    "    return driver.execute_script(xpath_script, element)\n",
    "\n",
    "\n",
    "def get_visual_spans(element):\n",
    "    # Get the location and size of the root element\n",
    "    location = element.location\n",
    "    size = element.size\n",
    "\n",
    "    # Calculate the boundaries of the root element\n",
    "    x_span = (location['x'], location['x'] + size['width'])\n",
    "    y_span = (location['y'], location['y'] + size['height'])\n",
    "    \n",
    "    return x_span, y_span\n",
    "\n",
    "\n",
    "def set_attribute(element, key, value):\n",
    "    driver.execute_script(\"arguments[0].setAttribute(arguments[1], arguments[2])\", element, key, value)\n",
    "\n",
    "\n",
    "def embed_properties(root):\n",
    "    '''\n",
    "    This function embeds the x_span, y_span, and xpath\n",
    "    properties into WebElement as attributes for processing\n",
    "    in the next steps. We do this because we want to convert\n",
    "    the WebElement into a BeautifulSoup document.\n",
    "    '''\n",
    "    x_span, y_span = get_visual_spans(root)\n",
    "    xpath = get_xpath(root)\n",
    "    \n",
    "    set_attribute(root, 'xpath', xpath)\n",
    "    set_attribute(root, 'x_start', x_span[0])\n",
    "    set_attribute(root, 'x_end', x_span[1])\n",
    "    set_attribute(root, 'y_start', y_span[0])\n",
    "    set_attribute(root, 'y_end', y_span[1])\n",
    "    \n",
    "    for child in root.find_elements(By.XPATH, '*'):\n",
    "        embed_properties(child)\n",
    "    \n",
    "    return root"
   ]
  },
  {
   "cell_type": "code",
   "execution_count": 10,
   "id": "46a9fce3",
   "metadata": {
    "ExecuteTime": {
     "end_time": "2023-06-08T18:01:06.091125Z",
     "start_time": "2023-06-08T18:01:02.972574Z"
    }
   },
   "outputs": [],
   "source": [
    "form = driver.find_elements(By.TAG_NAME, 'form')[48]\n",
    "# form = driver.find_element(By.ID, 'register')\n",
    "form = embed_properties(form)\n",
    "\n",
    "form_doc = bs(form.get_attribute('outerHTML'), 'html.parser')"
   ]
  },
  {
   "cell_type": "markdown",
   "id": "7532e197",
   "metadata": {},
   "source": [
    "# Get Processable Nodes"
   ]
  },
  {
   "cell_type": "code",
   "execution_count": 11,
   "id": "7efeeff0",
   "metadata": {
    "ExecuteTime": {
     "end_time": "2023-06-08T18:01:07.140100Z",
     "start_time": "2023-06-08T18:01:07.130604Z"
    }
   },
   "outputs": [],
   "source": [
    "def is_displayed(element):\n",
    "    if isinstance(element, NavigableString):\n",
    "        return True\n",
    "    \n",
    "    x_start = float(element.attrs['x_start'])\n",
    "    x_end = float(element.attrs['x_end'])\n",
    "    y_start = float(element.attrs['y_start'])\n",
    "    y_end = float(element.attrs['y_end'])\n",
    "    \n",
    "    return x_start != x_end and y_start != y_end\n",
    "\n",
    "\n",
    "def should_skip_processing(element):\n",
    "    should_skip = \\\n",
    "        isinstance(element, Comment) or \\\n",
    "        (isinstance(element, NavigableString) and element.strip() == '') or \\\n",
    "        not is_displayed(element)\n",
    "    return should_skip\n",
    "\n",
    "\n",
    "def is_force_not_keep(element):\n",
    "    # TODO: list of elements not to keep, like children of svg\n",
    "    return False\n",
    "\n",
    "\n",
    "def is_force_keep(element):\n",
    "    force_keep_tags = ['label', 'input', 'textarea', 'select', 'option', 'button']\n",
    "    return element.name in force_keep_tags\n",
    "    \n",
    "\n",
    "\n",
    "def has_action_listener(element):\n",
    "    # TODO: check if element has JavaScript action listeners\n",
    "    # such as the case of <div> instead of <button> for submit\n",
    "    return False\n",
    "\n",
    "\n",
    "def is_processable(element):\n",
    "    if not isinstance(element, NavigableString) and is_force_not_keep(element):\n",
    "        return False\n",
    "    \n",
    "    if isinstance(element, NavigableString):\n",
    "        if element.parent is not None and len(element.parent.contents) > 1:\n",
    "            return True\n",
    "    \n",
    "    elif len(element.contents) == 0:\n",
    "        return True\n",
    "    \n",
    "    elif len(element.contents) == 1 and isinstance(element.contents[0], NavigableString):\n",
    "        return True\n",
    "    \n",
    "    elif is_force_keep(element):\n",
    "        return True\n",
    "    \n",
    "    elif has_action_listener(element):\n",
    "        return True\n",
    "    \n",
    "    return False\n",
    "        \n",
    "\n",
    "\n",
    "def get_processable_nodes(soup):\n",
    "    nodes = []\n",
    "    \n",
    "    for element in soup.recursiveChildGenerator():\n",
    "        if should_skip_processing(element):\n",
    "            continue\n",
    "        \n",
    "        if is_processable(element):\n",
    "            nodes.append(element)\n",
    "    \n",
    "    return nodes"
   ]
  },
  {
   "cell_type": "code",
   "execution_count": 12,
   "id": "b3172f35",
   "metadata": {
    "ExecuteTime": {
     "end_time": "2023-06-08T18:01:07.701221Z",
     "start_time": "2023-06-08T18:01:07.696990Z"
    }
   },
   "outputs": [],
   "source": [
    "form_processable_nodes = get_processable_nodes(form_doc)"
   ]
  },
  {
   "cell_type": "markdown",
   "id": "2c925b32",
   "metadata": {},
   "source": [
    "# Create a Graph From Nodes"
   ]
  },
  {
   "cell_type": "code",
   "execution_count": 13,
   "id": "c0ffce0f",
   "metadata": {
    "ExecuteTime": {
     "end_time": "2023-06-08T18:01:08.521627Z",
     "start_time": "2023-06-08T18:01:08.516123Z"
    }
   },
   "outputs": [],
   "source": [
    "class EdgeDir(Enum):\n",
    "    IN = 'IN'\n",
    "    OUT = 'OUT'\n",
    "\n",
    "\n",
    "class EdgeType(Enum):\n",
    "    # connection via for attribute\n",
    "    FOR = 'FOR'\n",
    "    \n",
    "    # neighbor connections\n",
    "    CHILD = 'CHILD'\n",
    "    # TODO: if no use, change all neighbour types to simple 'NEIGHBOUR'\n",
    "    NLEFT = 'NLEFT'\n",
    "    NRIGHT = 'NRIGHT'\n",
    "    NTOP = 'NTOP'\n",
    "    NBOTTOM = 'NBOTTOM'"
   ]
  },
  {
   "cell_type": "code",
   "execution_count": 14,
   "id": "553c1581",
   "metadata": {
    "ExecuteTime": {
     "end_time": "2023-06-08T18:01:09.077372Z",
     "start_time": "2023-06-08T18:01:09.070371Z"
    }
   },
   "outputs": [],
   "source": [
    "class RelationGraph:\n",
    "    def __init__(self):\n",
    "        self._nodes = {}\n",
    "        self._edges = {}\n",
    "    \n",
    "    \n",
    "    def nodes(self):\n",
    "        return list(self._nodes.values())\n",
    "    \n",
    "    \n",
    "    def get_node(self, node_id):\n",
    "        return self._nodes[node_id]\n",
    "    \n",
    "    \n",
    "    def edges(self):\n",
    "        return list(self._edges.values())\n",
    "    \n",
    "    \n",
    "    def add_node(self, node):\n",
    "        self._nodes[node.get_id()] = node\n",
    "    \n",
    "    \n",
    "    def remove_node(self, node):\n",
    "        self._nodes.pop(node.get_id())\n",
    "    \n",
    "    \n",
    "    def add_edge(self, edge):\n",
    "        source = edge.source\n",
    "        target = edge.target\n",
    "        \n",
    "        source.add_edge(edge, EdgeDir.OUT)\n",
    "        \n",
    "        self._edges[edge.get_id()] = edge\n",
    "    \n",
    "    \n",
    "    def remove_edge(self, edge):\n",
    "        source = edge.source\n",
    "        target = edge.target\n",
    "        \n",
    "        source.remove_edge(edge, EdgeDir.OUT)\n",
    "        \n",
    "        self._edges.pop(edge.get_id())\n",
    "    \n",
    "    \n",
    "    def get_node_features(self):\n",
    "        return {\n",
    "            key: node.get_features() for key, node in self._nodes.items()\n",
    "        }"
   ]
  },
  {
   "cell_type": "code",
   "execution_count": 15,
   "id": "ea60fcfd",
   "metadata": {
    "ExecuteTime": {
     "end_time": "2023-06-08T18:01:09.545257Z",
     "start_time": "2023-06-08T18:01:09.528411Z"
    }
   },
   "outputs": [],
   "source": [
    "def get_input_visible_text(element):\n",
    "    text = ''\n",
    "    attrs = element.attrs\n",
    "    \n",
    "    if 'placeholder' in attrs:\n",
    "        text += f\"{attrs['placeholder']} \"\n",
    "    if 'value' in attrs and attrs['value'].strip() != '':\n",
    "        text += f\", value is {attrs['value']} \"\n",
    "    if 'alt' in attrs:\n",
    "        text += f\", alt is {attrs['alt']} \"\n",
    "    \n",
    "    text = text.strip().strip(', ')\n",
    "    return text\n",
    "\n",
    "\n",
    "def get_visible_text(element):\n",
    "    if element.name == 'input' or \\\n",
    "        element.name == 'select' or \\\n",
    "        element.name == 'textarea':\n",
    "        return get_input_visible_text(element)\n",
    "    \n",
    "    if element.string == None:\n",
    "        return ''\n",
    "    \n",
    "    return str(element.string)\n",
    "\n",
    "\n",
    "def get_null_embedding(dim=12288):\n",
    "    return [0 for i in range(dim)]\n",
    "\n",
    "\n",
    "def get_text_embedding(text, dim=12288):\n",
    "    if text.strip() == '':\n",
    "        return get_null_embedding(dim)\n",
    "    \n",
    "    if TEXT_EMBEDDING_METHOD == 'WORD2VEC':\n",
    "        # TODO\n",
    "        # average/something word2vec embeddings for each word\n",
    "        pass\n",
    "    elif TEXT_EMBEDDING_METHOD == 'SPACY':\n",
    "        # TODO\n",
    "        # https://spacy.io/usage/linguistic-features#vectors-similarity\n",
    "        pass\n",
    "    return get_embedding_openai(text.lower())\n",
    "\n",
    "\n",
    "class RelationNode:\n",
    "    def __init__(self, element):\n",
    "        self.element = element\n",
    "        \n",
    "        self.xpath = self._find_xpath(element)\n",
    "        self.x_span = self._find_span(element, 'x')\n",
    "        self.y_span = self._find_span(element, 'y')\n",
    "        \n",
    "        self.visible_text = self._find_visible_text(element)\n",
    "        self.features = self._calculate_features(self.visible_text)\n",
    "        \n",
    "        self.edges = {\n",
    "            EdgeDir.OUT: {},\n",
    "        }\n",
    "        \n",
    "        self.children_count = 0\n",
    "    \n",
    "    \n",
    "    def _find_xpath(self, element):\n",
    "        return element.attrs['xpath']\n",
    "    \n",
    "    \n",
    "    def _find_span(self, element, axis):\n",
    "        return (\n",
    "            floor(float(element.attrs[f'{axis}_start'])),\n",
    "            floor(float(element.attrs[f'{axis}_end']))\n",
    "        )\n",
    "    \n",
    "    \n",
    "    def _find_visible_text(self, element):\n",
    "        return get_visible_text(element)\n",
    "    \n",
    "    \n",
    "    def _calculate_features(self, visible_text):\n",
    "        features = get_text_embedding(visible_text)\n",
    "        return features\n",
    "    \n",
    "    \n",
    "    def _change_children_count(self, edge, direction, increase=1):\n",
    "        if edge.type == EdgeType.CHILD and direction == EdgeDir.OUT:\n",
    "            self.children_count += increase\n",
    "    \n",
    "    \n",
    "    def has_children(self):\n",
    "        return self.children_count > 0\n",
    "    \n",
    "    \n",
    "    def get_children(self):\n",
    "        return list(filter(\n",
    "            lambda x: x.type == EdgeType.CHILD,\n",
    "            list(self.edges[EdgeDir.OUT].values())\n",
    "        ))\n",
    "    \n",
    "    \n",
    "    def add_edge(self, edge, direction):\n",
    "        self.edges[direction][edge.get_id()] = edge\n",
    "        self._change_children_count(edge, direction, 1)\n",
    "    \n",
    "    \n",
    "    def remove_edge(self, edge, direction):\n",
    "        self.edges[direction].pop(edge.get_id())\n",
    "        self._change_children_count(edge, direction, -1)\n",
    "    \n",
    "    \n",
    "    def get_visible_area(self):\n",
    "        return (self.x_span[1] - self.x_span[0]) * (self.y_span[1] - self.y_span[0])\n",
    "    \n",
    "    \n",
    "    def get_id(self):\n",
    "        if 'id' in self.element.attrs:\n",
    "            return self.element.attrs['id']\n",
    "        return self.xpath\n",
    "    \n",
    "    \n",
    "    def __repr__(self):\n",
    "        return str(self)\n",
    "   \n",
    "\n",
    "    def __str__(self):\n",
    "        return f'<{self.element.name}>{self.visible_text}</{self.element.name}> at y: {str(self.y_span)}, x: {str(self.x_span)}'\n"
   ]
  },
  {
   "cell_type": "code",
   "execution_count": 16,
   "id": "ea1075d4",
   "metadata": {
    "ExecuteTime": {
     "end_time": "2023-06-08T18:01:09.961666Z",
     "start_time": "2023-06-08T18:01:09.956104Z"
    }
   },
   "outputs": [],
   "source": [
    "class RelationEdge:\n",
    "    def __init__(self, source, target, conn_type):\n",
    "        self.source = source\n",
    "        self.target = target\n",
    "        self.type = conn_type\n",
    "        self.weight = 0\n",
    "    \n",
    "    \n",
    "    def set_weight(self, weight):\n",
    "        self.weight = weight\n",
    "    \n",
    "    \n",
    "    def get_id(self):\n",
    "        return f'edge {self.type.value} from {self.source} to {self.target}'\n",
    "    \n",
    "    \n",
    "    def __repr__(self):\n",
    "        return str(self)\n",
    "    \n",
    "    \n",
    "    def __str__(self):\n",
    "        return f'edge {self.type.value} weight {self.weight} from {self.source} to {self.target}'"
   ]
  },
  {
   "cell_type": "code",
   "execution_count": 17,
   "id": "a56fb0a0",
   "metadata": {
    "ExecuteTime": {
     "end_time": "2023-06-08T18:01:10.338790Z",
     "start_time": "2023-06-08T18:01:10.334856Z"
    }
   },
   "outputs": [],
   "source": [
    "def create_relations_graph(bs_doc):\n",
    "    graph = RelationGraph()\n",
    "    \n",
    "    for n in tqdm(bs_doc):\n",
    "        # TODO: add these strings to processing later\n",
    "        # wrap a span around the text and process the span instead\n",
    "        if isinstance(n, NavigableString):\n",
    "            continue\n",
    "        node = RelationNode(n)\n",
    "        graph.add_node(node)\n",
    "\n",
    "    return graph"
   ]
  },
  {
   "cell_type": "code",
   "execution_count": 18,
   "id": "199ea52f",
   "metadata": {
    "ExecuteTime": {
     "end_time": "2023-06-08T18:01:14.434534Z",
     "start_time": "2023-06-08T18:01:10.810245Z"
    }
   },
   "outputs": [
    {
     "data": {
      "application/vnd.jupyter.widget-view+json": {
       "model_id": "aca632382a604d518011ddb5a878a3cb",
       "version_major": 2,
       "version_minor": 0
      },
      "text/plain": [
       "  0%|          | 0/14 [00:00<?, ?it/s]"
      ]
     },
     "metadata": {},
     "output_type": "display_data"
    }
   ],
   "source": [
    "relation_graph = create_relations_graph(form_processable_nodes)"
   ]
  },
  {
   "cell_type": "code",
   "execution_count": 19,
   "id": "5be1251d",
   "metadata": {
    "ExecuteTime": {
     "end_time": "2023-06-08T18:01:15.165366Z",
     "start_time": "2023-06-08T18:01:15.161667Z"
    }
   },
   "outputs": [],
   "source": [
    "def get_text_similarity(node1, node2):\n",
    "    embedding1 = node1.features\n",
    "    embedding2 = node2.features\n",
    "    try:\n",
    "        sim = cosine_similarity(embedding1, embedding2)\n",
    "        return 0 if np.isnan(sim) else sim\n",
    "    except:\n",
    "        return 0"
   ]
  },
  {
   "cell_type": "code",
   "execution_count": 20,
   "id": "cd5cd7a8",
   "metadata": {
    "ExecuteTime": {
     "end_time": "2023-06-08T18:01:15.792352Z",
     "start_time": "2023-06-08T18:01:15.787139Z"
    }
   },
   "outputs": [
    {
     "data": {
      "text/plain": [
       "[<label>Username</label> at y: (8301, 8333), x: (459, 539),\n",
       " <input>Please input</input> at y: (8301, 8333), x: (539, 699),\n",
       " <a>Need Help?</a> at y: (8309, 8326), x: (707, 782),\n",
       " <label>Address</label> at y: (8357, 8389), x: (472, 539),\n",
       " <input></input> at y: (8358, 8388), x: (551, 736),\n",
       " <span>Select province</span> at y: (8358, 8388), x: (551, 736),\n",
       " <path></path> at y: (8370, 8376), x: (726, 736),\n",
       " <input>Input street</input> at y: (8357, 8389), x: (747, 860),\n",
       " <label>BirthDate</label> at y: (8413, 8445), x: (464, 539),\n",
       " <input>Input birth year</input> at y: (8413, 8445), x: (539, 731),\n",
       " <input>Input birth month</input> at y: (8413, 8445), x: (739, 931),\n",
       " <label> </label> at y: (8469, 8501), x: (529, 539),\n",
       " <button>Submit</button> at y: (8469, 8501), x: (539, 617),\n",
       " <span>Submit</span> at y: (8474, 8496), x: (555, 601)]"
      ]
     },
     "execution_count": 20,
     "metadata": {},
     "output_type": "execute_result"
    }
   ],
   "source": [
    "relation_graph.nodes()"
   ]
  },
  {
   "cell_type": "markdown",
   "id": "77cf9f92",
   "metadata": {},
   "source": [
    "# Semantic Relationship Tests"
   ]
  },
  {
   "cell_type": "code",
   "execution_count": 21,
   "id": "3f3ae7ba",
   "metadata": {
    "ExecuteTime": {
     "end_time": "2023-06-08T18:01:17.877008Z",
     "start_time": "2023-06-08T18:01:17.873015Z"
    }
   },
   "outputs": [],
   "source": [
    "labels = list(filter(lambda x: x.element.name == 'label', relation_graph.nodes()))\n",
    "inputs = list(filter(\n",
    "    lambda x: x.element.name == 'input' or \\\n",
    "                x.element.name == 'textarea' or \\\n",
    "                x.element.name == 'select',\n",
    "    relation_graph.nodes()\n",
    "))"
   ]
  },
  {
   "cell_type": "code",
   "execution_count": 22,
   "id": "a9d8440f",
   "metadata": {
    "ExecuteTime": {
     "end_time": "2023-06-08T18:01:18.471379Z",
     "start_time": "2023-06-08T18:01:18.466616Z"
    }
   },
   "outputs": [
    {
     "data": {
      "text/plain": [
       "[<label>Username</label> at y: (8301, 8333), x: (459, 539),\n",
       " <label>Address</label> at y: (8357, 8389), x: (472, 539),\n",
       " <label>BirthDate</label> at y: (8413, 8445), x: (464, 539),\n",
       " <label> </label> at y: (8469, 8501), x: (529, 539)]"
      ]
     },
     "execution_count": 22,
     "metadata": {},
     "output_type": "execute_result"
    }
   ],
   "source": [
    "labels"
   ]
  },
  {
   "cell_type": "code",
   "execution_count": 23,
   "id": "ca062b83",
   "metadata": {
    "ExecuteTime": {
     "end_time": "2023-06-08T18:01:19.116951Z",
     "start_time": "2023-06-08T18:01:19.085421Z"
    }
   },
   "outputs": [
    {
     "data": {
      "text/plain": [
       "[<input>Please input</input> at y: (8301, 8333), x: (539, 699),\n",
       " <input></input> at y: (8358, 8388), x: (551, 736),\n",
       " <input>Input street</input> at y: (8357, 8389), x: (747, 860),\n",
       " <input>Input birth year</input> at y: (8413, 8445), x: (539, 731),\n",
       " <input>Input birth month</input> at y: (8413, 8445), x: (739, 931)]"
      ]
     },
     "execution_count": 23,
     "metadata": {},
     "output_type": "execute_result"
    }
   ],
   "source": [
    "inputs"
   ]
  },
  {
   "cell_type": "markdown",
   "id": "afcb38c1",
   "metadata": {},
   "source": [
    "## POS Tagging"
   ]
  },
  {
   "cell_type": "code",
   "execution_count": 24,
   "id": "81658d07",
   "metadata": {
    "ExecuteTime": {
     "end_time": "2023-06-08T18:01:22.846954Z",
     "start_time": "2023-06-08T18:01:22.827394Z"
    }
   },
   "outputs": [],
   "source": [
    "import spacy\n",
    "from spacy import displacy\n",
    "\n",
    "%matplotlib inline"
   ]
  },
  {
   "cell_type": "code",
   "execution_count": 25,
   "id": "33dfa450",
   "metadata": {
    "ExecuteTime": {
     "end_time": "2023-06-08T18:01:23.944788Z",
     "start_time": "2023-06-08T18:01:23.008452Z"
    }
   },
   "outputs": [
    {
     "name": "stdout",
     "output_type": "stream",
     "text": [
      "check check VERB VB compound xxxx True False\n",
      "- - PUNCT HYPH punct - False False\n",
      "out out NOUN NN ROOT xxx True True\n"
     ]
    }
   ],
   "source": [
    "nlp = spacy.load(\"en_core_web_sm\")\n",
    "doc = nlp(\"check-out\")\n",
    "\n",
    "for token in doc:\n",
    "    print(token.text, token.lemma_, token.pos_, token.tag_, token.dep_,\n",
    "            token.shape_, token.is_alpha, token.is_stop)"
   ]
  },
  {
   "cell_type": "markdown",
   "id": "a1adf566",
   "metadata": {},
   "source": [
    "## Keyword Extraction"
   ]
  },
  {
   "cell_type": "code",
   "execution_count": 26,
   "id": "0cba0785",
   "metadata": {
    "ExecuteTime": {
     "end_time": "2023-06-08T18:01:25.288432Z",
     "start_time": "2023-06-08T18:01:25.284973Z"
    }
   },
   "outputs": [],
   "source": [
    "# !pip3 install rake-nltk"
   ]
  },
  {
   "cell_type": "code",
   "execution_count": 27,
   "id": "cfc5c5ad",
   "metadata": {
    "ExecuteTime": {
     "end_time": "2023-06-08T18:01:26.872185Z",
     "start_time": "2023-06-08T18:01:26.144148Z"
    }
   },
   "outputs": [
    {
     "name": "stderr",
     "output_type": "stream",
     "text": [
      "[nltk_data] Downloading package stopwords to\n",
      "[nltk_data]     /Users/parsaalian/nltk_data...\n",
      "[nltk_data]   Package stopwords is already up-to-date!\n",
      "[nltk_data] Downloading package punkt to\n",
      "[nltk_data]     /Users/parsaalian/nltk_data...\n",
      "[nltk_data]   Package punkt is already up-to-date!\n"
     ]
    },
    {
     "data": {
      "text/plain": [
       "True"
      ]
     },
     "execution_count": 27,
     "metadata": {},
     "output_type": "execute_result"
    }
   ],
   "source": [
    "import nltk\n",
    "import ssl\n",
    "\n",
    "try:\n",
    "    _create_unverified_https_context = ssl._create_unverified_context\n",
    "except AttributeError:\n",
    "    pass\n",
    "else:\n",
    "    ssl._create_default_https_context = _create_unverified_https_context\n",
    "\n",
    "nltk.download('stopwords')\n",
    "nltk.download('punkt')"
   ]
  },
  {
   "cell_type": "code",
   "execution_count": 28,
   "id": "a5f594fc",
   "metadata": {
    "ExecuteTime": {
     "end_time": "2023-06-08T18:01:27.353037Z",
     "start_time": "2023-06-08T18:01:27.329703Z"
    }
   },
   "outputs": [
    {
     "name": "stdout",
     "output_type": "stream",
     "text": [
      "['please input birth month']\n"
     ]
    }
   ],
   "source": [
    "from rake_nltk import Rake\n",
    "\n",
    "# Uses stopwords for english from NLTK, and all puntuation characters by default\n",
    "r = Rake()\n",
    "\n",
    "text = \"Please input birth month\"\n",
    "\n",
    "# Extraction given the text.\n",
    "r.extract_keywords_from_text(text)\n",
    "\n",
    "# To get keyword phrases ranked highest to lowest.\n",
    "keywords = r.get_ranked_phrases()\n",
    "\n",
    "print(keywords)"
   ]
  },
  {
   "cell_type": "markdown",
   "id": "b63ccaf1",
   "metadata": {},
   "source": [
    "## Embedding Search"
   ]
  },
  {
   "cell_type": "code",
   "execution_count": null,
   "id": "c0c9be6a",
   "metadata": {
    "ExecuteTime": {
     "start_time": "2023-06-08T18:01:32.065Z"
    }
   },
   "outputs": [],
   "source": [
    "hypernym_examples = [\n",
    "    ('animal', 'mammal'),\n",
    "    ('plant', 'flower'),\n",
    "    ('red', 'scarlet')\n",
    "]\n",
    "\n",
    "hypernym_vector = sum([\n",
    "    np.array(get_embedding_openai(t[0])) - np.array(get_embedding_openai(t[1])) for t in hypernym_examples\n",
    "]) / len(hypernym_examples)"
   ]
  },
  {
   "cell_type": "code",
   "execution_count": 10,
   "id": "23b1c197",
   "metadata": {
    "ExecuteTime": {
     "end_time": "2023-06-08T17:23:46.848793Z",
     "start_time": "2023-06-08T17:23:46.841314Z"
    }
   },
   "outputs": [
    {
     "data": {
      "text/plain": [
       "array([-4.49216471e-03, -1.78063948e-03,  4.75415650e-04, ...,\n",
       "        1.02301175e-03, -2.95815477e-03, -8.57086852e-05])"
      ]
     },
     "execution_count": 10,
     "metadata": {},
     "output_type": "execute_result"
    }
   ],
   "source": [
    "hypernym_vector"
   ]
  },
  {
   "cell_type": "code",
   "execution_count": 11,
   "id": "9be8dc50",
   "metadata": {
    "ExecuteTime": {
     "end_time": "2023-06-08T17:23:47.641259Z",
     "start_time": "2023-06-08T17:23:46.869713Z"
    }
   },
   "outputs": [
    {
     "data": {
      "text/plain": [
       "0.8508485824138341"
      ]
     },
     "execution_count": 11,
     "metadata": {},
     "output_type": "execute_result"
    }
   ],
   "source": [
    "cosine_similarity(\n",
    "    np.array(get_embedding_openai('fruit')) - hypernym_vector,\n",
    "    np.array(get_embedding_openai('apple'))\n",
    ")"
   ]
  },
  {
   "cell_type": "code",
   "execution_count": 12,
   "id": "62f515f6",
   "metadata": {
    "ExecuteTime": {
     "end_time": "2023-06-08T17:23:48.313154Z",
     "start_time": "2023-06-08T17:23:47.662695Z"
    }
   },
   "outputs": [
    {
     "data": {
      "text/plain": [
       "0.8413143005970661"
      ]
     },
     "execution_count": 12,
     "metadata": {},
     "output_type": "execute_result"
    }
   ],
   "source": [
    "cosine_similarity(\n",
    "    np.array(get_embedding_openai('fruit')) - hypernym_vector,\n",
    "    np.array(get_embedding_openai('orange'))\n",
    ")"
   ]
  },
  {
   "cell_type": "code",
   "execution_count": 13,
   "id": "bff0beaa",
   "metadata": {
    "ExecuteTime": {
     "end_time": "2023-06-08T17:23:49.069683Z",
     "start_time": "2023-06-08T17:23:48.349714Z"
    }
   },
   "outputs": [
    {
     "data": {
      "text/plain": [
       "0.7609944821999605"
      ]
     },
     "execution_count": 13,
     "metadata": {},
     "output_type": "execute_result"
    }
   ],
   "source": [
    "cosine_similarity(\n",
    "    np.array(get_embedding_openai('fruit')) - hypernym_vector,\n",
    "    np.array(get_embedding_openai('motorcycle'))\n",
    ")"
   ]
  },
  {
   "cell_type": "code",
   "execution_count": 14,
   "id": "2b2a00af",
   "metadata": {
    "ExecuteTime": {
     "end_time": "2023-06-08T17:23:49.862242Z",
     "start_time": "2023-06-08T17:23:49.089010Z"
    }
   },
   "outputs": [
    {
     "data": {
      "text/plain": [
       "0.8568304447943235"
      ]
     },
     "execution_count": 14,
     "metadata": {},
     "output_type": "execute_result"
    }
   ],
   "source": [
    "cosine_similarity(\n",
    "    np.array(get_embedding_openai('vehicle')) - hypernym_vector,\n",
    "    np.array(get_embedding_openai('motorcycle'))\n",
    ")"
   ]
  },
  {
   "cell_type": "code",
   "execution_count": 15,
   "id": "2a6d52a7",
   "metadata": {
    "ExecuteTime": {
     "end_time": "2023-06-08T17:23:50.615792Z",
     "start_time": "2023-06-08T17:23:49.881014Z"
    }
   },
   "outputs": [
    {
     "data": {
      "text/plain": [
       "0.7552611790672324"
      ]
     },
     "execution_count": 15,
     "metadata": {},
     "output_type": "execute_result"
    }
   ],
   "source": [
    "cosine_similarity(\n",
    "    np.array(get_embedding_openai('vehicle')) - hypernym_vector,\n",
    "    np.array(get_embedding_openai('apple'))\n",
    ")"
   ]
  },
  {
   "cell_type": "code",
   "execution_count": 16,
   "id": "ad6a3647",
   "metadata": {
    "ExecuteTime": {
     "end_time": "2023-06-08T17:23:50.639780Z",
     "start_time": "2023-06-08T17:23:50.635219Z"
    }
   },
   "outputs": [],
   "source": [
    "# meronymy"
   ]
  },
  {
   "cell_type": "code",
   "execution_count": 17,
   "id": "69b6900b",
   "metadata": {
    "ExecuteTime": {
     "end_time": "2023-06-08T17:23:53.397368Z",
     "start_time": "2023-06-08T17:23:50.664376Z"
    }
   },
   "outputs": [],
   "source": [
    "meronym_examples = [\n",
    "    ('tree', 'bark'),\n",
    "    ('tree', 'branch'),\n",
    "    ('arm', 'elbow'),\n",
    "    ('computer', 'keyboard')\n",
    "]\n",
    "\n",
    "meronym_vector = sum([\n",
    "    np.array(get_embedding_openai(t[0])) - np.array(get_embedding_openai(t[1])) for t in meronym_examples\n",
    "]) / len(hypernym_examples)"
   ]
  },
  {
   "cell_type": "code",
   "execution_count": 18,
   "id": "b898dc6f",
   "metadata": {
    "ExecuteTime": {
     "end_time": "2023-06-08T17:23:54.116285Z",
     "start_time": "2023-06-08T17:23:53.415057Z"
    }
   },
   "outputs": [
    {
     "data": {
      "text/plain": [
       "0.7827630191574573"
      ]
     },
     "execution_count": 18,
     "metadata": {},
     "output_type": "execute_result"
    }
   ],
   "source": [
    "cosine_similarity(\n",
    "    np.array(get_embedding_openai('book')) - hypernym_vector,\n",
    "    np.array(get_embedding_openai('page'))\n",
    ")"
   ]
  },
  {
   "cell_type": "code",
   "execution_count": 19,
   "id": "55b39ec8",
   "metadata": {
    "ExecuteTime": {
     "end_time": "2023-06-08T17:23:54.805806Z",
     "start_time": "2023-06-08T17:23:54.134603Z"
    }
   },
   "outputs": [
    {
     "data": {
      "text/plain": [
       "0.8800015100553241"
      ]
     },
     "execution_count": 19,
     "metadata": {},
     "output_type": "execute_result"
    }
   ],
   "source": [
    "cosine_similarity(\n",
    "    np.array(get_embedding_openai('flower')) - hypernym_vector,\n",
    "    np.array(get_embedding_openai('petal'))\n",
    ")"
   ]
  },
  {
   "cell_type": "code",
   "execution_count": 20,
   "id": "c3430437",
   "metadata": {
    "ExecuteTime": {
     "end_time": "2023-06-08T17:23:55.433057Z",
     "start_time": "2023-06-08T17:23:54.823797Z"
    }
   },
   "outputs": [
    {
     "data": {
      "text/plain": [
       "0.7953297001908752"
      ]
     },
     "execution_count": 20,
     "metadata": {},
     "output_type": "execute_result"
    }
   ],
   "source": [
    "cosine_similarity(\n",
    "    np.array(get_embedding_openai('book')) - hypernym_vector,\n",
    "    np.array(get_embedding_openai('petal'))\n",
    ")"
   ]
  },
  {
   "cell_type": "code",
   "execution_count": 21,
   "id": "154b61e4",
   "metadata": {
    "ExecuteTime": {
     "end_time": "2023-06-08T17:23:56.088664Z",
     "start_time": "2023-06-08T17:23:55.451466Z"
    }
   },
   "outputs": [
    {
     "data": {
      "text/plain": [
       "0.8169333603490144"
      ]
     },
     "execution_count": 21,
     "metadata": {},
     "output_type": "execute_result"
    }
   ],
   "source": [
    "cosine_similarity(\n",
    "    np.array(get_embedding_openai('house')) - hypernym_vector,\n",
    "    np.array(get_embedding_openai('door'))\n",
    ")"
   ]
  },
  {
   "cell_type": "code",
   "execution_count": 22,
   "id": "24fb944a",
   "metadata": {
    "ExecuteTime": {
     "end_time": "2023-06-08T17:23:56.791681Z",
     "start_time": "2023-06-08T17:23:56.123068Z"
    }
   },
   "outputs": [
    {
     "data": {
      "text/plain": [
       "0.7825665215308527"
      ]
     },
     "execution_count": 22,
     "metadata": {},
     "output_type": "execute_result"
    }
   ],
   "source": [
    "cosine_similarity(\n",
    "    np.array(get_embedding_openai('house')) - hypernym_vector,\n",
    "    np.array(get_embedding_openai('motorcycle'))\n",
    ")"
   ]
  },
  {
   "cell_type": "code",
   "execution_count": 23,
   "id": "b55d188e",
   "metadata": {
    "ExecuteTime": {
     "end_time": "2023-06-08T17:23:57.503532Z",
     "start_time": "2023-06-08T17:23:56.830881Z"
    }
   },
   "outputs": [
    {
     "data": {
      "text/plain": [
       "0.8518611191995366"
      ]
     },
     "execution_count": 23,
     "metadata": {},
     "output_type": "execute_result"
    }
   ],
   "source": [
    "cosine_similarity(\n",
    "    np.array(get_embedding_openai('input birth year')) - hypernym_vector,\n",
    "    np.array(get_embedding_openai('select birth month'))\n",
    ")"
   ]
  },
  {
   "cell_type": "markdown",
   "id": "4fb2e5f6",
   "metadata": {},
   "source": [
    "## WordNet"
   ]
  },
  {
   "cell_type": "code",
   "execution_count": 24,
   "id": "3356c5ba",
   "metadata": {
    "ExecuteTime": {
     "end_time": "2023-06-08T17:23:59.232896Z",
     "start_time": "2023-06-08T17:23:57.528896Z"
    }
   },
   "outputs": [
    {
     "name": "stdout",
     "output_type": "stream",
     "text": [
      "Synonyms of check-in :\n",
      " {'check-in'}\n",
      "Antonyms of check-in :\n",
      " set()\n",
      "Hypernyms of check-in :\n",
      " [Synset('arrival.n.02')]\n",
      "Hyponyms of check-in :\n",
      " []\n",
      "Coordinate terms of check-in :\n",
      "Synset('anchorage.n.05')\n",
      "Synset('appearance.n.05')\n",
      "Synset('docking.n.01')\n",
      "Synset('entrance.n.03')\n",
      "Synset('landing.n.03')\n",
      "Synset('landing.n.04')\n",
      "Synset('return.n.02')\n"
     ]
    }
   ],
   "source": [
    "from nltk.corpus import wordnet as wn\n",
    "\n",
    "def find_relations(word):\n",
    "    # Synonyms and antonyms\n",
    "    synonyms = []\n",
    "    antonyms = []\n",
    "\n",
    "    for syn in wn.synsets(word):\n",
    "        for lemma in syn.lemmas():\n",
    "            synonyms.append(lemma.name())\n",
    "            if lemma.antonyms():\n",
    "                antonyms.append(lemma.antonyms()[0].name())\n",
    "\n",
    "    print('Synonyms of', word, ':\\n', set(synonyms))\n",
    "    print('Antonyms of', word, ':\\n', set(antonyms))\n",
    "\n",
    "    # Hypernyms and hyponyms\n",
    "    synsets = wn.synsets(word)\n",
    "    if synsets:\n",
    "        hypernyms = synsets[0].hypernyms()\n",
    "        print('Hypernyms of', word, ':\\n', hypernyms)\n",
    "        print('Hyponyms of', word, ':\\n', synsets[0].hyponyms())\n",
    "\n",
    "        # Coordinate terms\n",
    "        if hypernyms:\n",
    "            print('Coordinate terms of', word, ':')\n",
    "            for hypernym in hypernyms[0].hyponyms():\n",
    "                if hypernym != synsets[0]:  # exclude the original word\n",
    "                    print(hypernym)\n",
    "    else:\n",
    "        print('No hypernyms, hyponyms, or coordinate terms found for', word)\n",
    "\n",
    "# Test the function\n",
    "find_relations('check-in')"
   ]
  },
  {
   "cell_type": "markdown",
   "id": "e775a9f7",
   "metadata": {},
   "source": [
    "## Reverse"
   ]
  },
  {
   "cell_type": "code",
   "execution_count": 25,
   "id": "4af6f01e",
   "metadata": {
    "ExecuteTime": {
     "end_time": "2023-06-08T17:23:59.983029Z",
     "start_time": "2023-06-08T17:23:59.252401Z"
    }
   },
   "outputs": [
    {
     "data": {
      "text/plain": [
       "0.8573628972501769"
      ]
     },
     "execution_count": 25,
     "metadata": {},
     "output_type": "execute_result"
    }
   ],
   "source": [
    "cosine_similarity(\n",
    "    get_embedding_openai('select'),\n",
    "    get_embedding_openai('input')\n",
    ")"
   ]
  },
  {
   "cell_type": "markdown",
   "id": "1d2abb01",
   "metadata": {},
   "source": [
    "## Sense2Vec"
   ]
  },
  {
   "cell_type": "code",
   "execution_count": 28,
   "id": "9967b9a2",
   "metadata": {
    "ExecuteTime": {
     "end_time": "2023-06-08T17:25:28.778136Z",
     "start_time": "2023-06-08T17:25:28.775287Z"
    }
   },
   "outputs": [],
   "source": [
    "# !pip3 install sense2vec"
   ]
  },
  {
   "cell_type": "code",
   "execution_count": 1,
   "id": "9009fe3a",
   "metadata": {
    "ExecuteTime": {
     "end_time": "2023-06-08T17:47:14.544591Z",
     "start_time": "2023-06-08T17:46:26.688689Z"
    }
   },
   "outputs": [
    {
     "data": {
      "text/plain": [
       "<sense2vec.component.Sense2VecComponent at 0x1093f7f10>"
      ]
     },
     "execution_count": 1,
     "metadata": {},
     "output_type": "execute_result"
    }
   ],
   "source": [
    "from sense2vec import Sense2Vec\n",
    "import spacy\n",
    "\n",
    "s2v = Sense2Vec().from_disk(\"./s2v_reddit_2019_lg\")\n",
    "\n",
    "nlp = spacy.load(\"en_core_web_sm\")\n",
    "s2v = nlp.add_pipe(\"sense2vec\")\n",
    "s2v.from_disk(\"./s2v_reddit_2019_lg\")"
   ]
  },
  {
   "cell_type": "code",
   "execution_count": 3,
   "id": "23623984",
   "metadata": {
    "ExecuteTime": {
     "end_time": "2023-06-08T17:51:03.719244Z",
     "start_time": "2023-06-08T17:49:48.778401Z"
    }
   },
   "outputs": [
    {
     "data": {
      "text/plain": [
       "[(('departing', 'VERB'), 0.7668),\n",
       " (('departures', 'NOUN'), 0.7288),\n",
       " (('depart', 'VERB'), 0.6636),\n",
       " (('departed', 'VERB'), 0.6541),\n",
       " (('arrival', 'NOUN'), 0.637),\n",
       " (('’s departure', 'NOUN'), 0.6284),\n",
       " (('leaving', 'NOUN'), 0.6171),\n",
       " (('departs', 'VERB'), 0.6135),\n",
       " (('initial departure', 'NOUN'), 0.6042),\n",
       " (('actual departure', 'NOUN'), 0.5948)]"
      ]
     },
     "execution_count": 3,
     "metadata": {},
     "output_type": "execute_result"
    }
   ],
   "source": [
    "doc = nlp(\"departure\")\n",
    "freq = doc[:]._.s2v_freq\n",
    "vector = doc[:]._.s2v_vec\n",
    "most_similar = doc[:]._.s2v_most_similar(10)\n",
    "# [(('machine learning', 'NOUN'), 0.8986967),\n",
    "#  (('computer vision', 'NOUN'), 0.8636297),\n",
    "#  (('deep learning', 'NOUN'), 0.8573361)]\n",
    "most_similar"
   ]
  },
  {
   "cell_type": "code",
   "execution_count": 16,
   "id": "71913af8",
   "metadata": {
    "ExecuteTime": {
     "end_time": "2023-06-08T17:32:38.261084Z",
     "start_time": "2023-06-08T17:32:38.256623Z"
    }
   },
   "outputs": [
    {
     "data": {
      "text/plain": [
       "10874"
      ]
     },
     "execution_count": 16,
     "metadata": {},
     "output_type": "execute_result"
    }
   ],
   "source": [
    "freq"
   ]
  },
  {
   "cell_type": "code",
   "execution_count": null,
   "id": "21fbe494",
   "metadata": {},
   "outputs": [],
   "source": []
  },
  {
   "cell_type": "code",
   "execution_count": null,
   "id": "66571376",
   "metadata": {},
   "outputs": [],
   "source": []
  },
  {
   "cell_type": "markdown",
   "id": "131b27a6",
   "metadata": {},
   "source": [
    "# Apply a Method"
   ]
  },
  {
   "cell_type": "code",
   "execution_count": null,
   "id": "6e6de6f0",
   "metadata": {
    "ExecuteTime": {
     "end_time": "2023-06-08T17:24:01.132941Z",
     "start_time": "2023-06-08T17:24:01.132864Z"
    }
   },
   "outputs": [],
   "source": [
    "import pandas as pd"
   ]
  },
  {
   "cell_type": "code",
   "execution_count": null,
   "id": "414e5b76",
   "metadata": {
    "ExecuteTime": {
     "end_time": "2023-06-08T17:24:01.139308Z",
     "start_time": "2023-06-08T17:24:01.139272Z"
    }
   },
   "outputs": [],
   "source": [
    "mapping = {\n",
    "    str(label): label.visible_text for label in labels\n",
    "}"
   ]
  },
  {
   "cell_type": "code",
   "execution_count": null,
   "id": "b52338d0",
   "metadata": {
    "ExecuteTime": {
     "end_time": "2023-06-08T17:24:01.146662Z",
     "start_time": "2023-06-08T17:24:01.146627Z"
    }
   },
   "outputs": [],
   "source": [
    "mapping"
   ]
  },
  {
   "cell_type": "code",
   "execution_count": null,
   "id": "9826b122",
   "metadata": {
    "ExecuteTime": {
     "end_time": "2023-06-08T17:24:01.154876Z",
     "start_time": "2023-06-08T17:24:01.154851Z"
    }
   },
   "outputs": [],
   "source": [
    "idx = list(filter(lambda x: x.strip() != '', mapping.values()))"
   ]
  },
  {
   "cell_type": "code",
   "execution_count": null,
   "id": "79500da0",
   "metadata": {
    "ExecuteTime": {
     "end_time": "2023-06-08T17:24:01.163412Z",
     "start_time": "2023-06-08T17:24:01.163376Z"
    }
   },
   "outputs": [],
   "source": [
    "df = pd.DataFrame(0, index=idx, columns=idx)"
   ]
  },
  {
   "cell_type": "code",
   "execution_count": null,
   "id": "06a91778",
   "metadata": {
    "ExecuteTime": {
     "end_time": "2023-06-08T17:24:01.171714Z",
     "start_time": "2023-06-08T17:24:01.171687Z"
    }
   },
   "outputs": [],
   "source": [
    "df"
   ]
  },
  {
   "cell_type": "code",
   "execution_count": null,
   "id": "896e3a08",
   "metadata": {
    "ExecuteTime": {
     "end_time": "2023-06-08T17:24:01.182437Z",
     "start_time": "2023-06-08T17:24:01.182383Z"
    }
   },
   "outputs": [],
   "source": [
    "df.columns"
   ]
  },
  {
   "cell_type": "code",
   "execution_count": null,
   "id": "4dc2865a",
   "metadata": {
    "ExecuteTime": {
     "end_time": "2023-06-08T17:24:01.197691Z",
     "start_time": "2023-06-08T17:24:01.197659Z"
    }
   },
   "outputs": [],
   "source": [
    "embedding_cache = {}\n",
    "\n",
    "\n",
    "def get_embedding_or_cache(word):\n",
    "    if word in embedding_cache:\n",
    "        return embedding_cache[word]\n",
    "    e = get_embedding_openai(word)\n",
    "    embedding_cache[word] = e\n",
    "    return e\n",
    "\n",
    "\n",
    "for label1 in df.index:\n",
    "    for label2 in df.index:\n",
    "        df.loc[label1, label2] = cosine_similarity(\n",
    "            get_embedding_or_cache(label1),\n",
    "            get_embedding_or_cache(label2)\n",
    "        )"
   ]
  },
  {
   "cell_type": "code",
   "execution_count": null,
   "id": "e47f12ce",
   "metadata": {
    "ExecuteTime": {
     "end_time": "2023-06-08T17:24:01.205383Z",
     "start_time": "2023-06-08T17:24:01.205322Z"
    }
   },
   "outputs": [],
   "source": [
    "df"
   ]
  },
  {
   "cell_type": "code",
   "execution_count": null,
   "id": "a7022976",
   "metadata": {
    "ExecuteTime": {
     "end_time": "2023-06-08T17:24:01.216314Z",
     "start_time": "2023-06-08T17:24:01.216287Z"
    }
   },
   "outputs": [],
   "source": [
    "!pip3 install seaborn"
   ]
  },
  {
   "cell_type": "code",
   "execution_count": null,
   "id": "b1e74993",
   "metadata": {
    "ExecuteTime": {
     "end_time": "2023-06-08T17:24:01.223230Z",
     "start_time": "2023-06-08T17:24:01.223204Z"
    }
   },
   "outputs": [],
   "source": [
    "import matplotlib.pyplot as plt\n",
    "import seaborn as sns\n",
    "\n",
    "%matplotlib inline\n",
    "\n",
    "# optional: resize images from now on\n",
    "plt.rcParams[\"figure.figsize\"] = (16, 12)\n",
    "\n",
    "# numeric_only_columns is a list of columns of the DataFrame\n",
    "# containing numerical data only\n",
    "# annot = True to visualize the correlation factor\n",
    "\n",
    "sns.heatmap(df, annot = False)\n",
    "plt.show()"
   ]
  },
  {
   "cell_type": "code",
   "execution_count": null,
   "id": "14101150",
   "metadata": {
    "ExecuteTime": {
     "end_time": "2023-06-08T17:24:01.229604Z",
     "start_time": "2023-06-08T17:24:01.229578Z"
    }
   },
   "outputs": [],
   "source": [
    "values = df.values"
   ]
  },
  {
   "cell_type": "code",
   "execution_count": null,
   "id": "c55e582e",
   "metadata": {
    "ExecuteTime": {
     "end_time": "2023-06-08T17:24:01.234873Z",
     "start_time": "2023-06-08T17:24:01.234843Z"
    }
   },
   "outputs": [],
   "source": [
    "len(values)"
   ]
  },
  {
   "cell_type": "code",
   "execution_count": null,
   "id": "4219d828",
   "metadata": {
    "ExecuteTime": {
     "end_time": "2023-06-08T17:24:01.240361Z",
     "start_time": "2023-06-08T17:24:01.240339Z"
    }
   },
   "outputs": [],
   "source": [
    "sim_values = []\n",
    "\n",
    "for i in range(len(values)):\n",
    "    for j in range(len(values)):\n",
    "        if i == j or j > i:\n",
    "            continue\n",
    "        sim_values.append(values[i, j])"
   ]
  },
  {
   "cell_type": "code",
   "execution_count": null,
   "id": "b465d996",
   "metadata": {
    "ExecuteTime": {
     "end_time": "2023-06-08T17:24:01.246700Z",
     "start_time": "2023-06-08T17:24:01.246674Z"
    }
   },
   "outputs": [],
   "source": [
    "sns.histplot(sim_values)"
   ]
  },
  {
   "cell_type": "code",
   "execution_count": null,
   "id": "0051b64b",
   "metadata": {
    "ExecuteTime": {
     "end_time": "2023-06-08T17:24:01.251829Z",
     "start_time": "2023-06-08T17:24:01.251807Z"
    }
   },
   "outputs": [],
   "source": [
    "mean = np.mean(sim_values)\n",
    "std_dev = np.std(sim_values)\n",
    "\n",
    "# Set the cutoff to be one standard deviation above the mean\n",
    "cutoff = mean + std_dev\n",
    "\n",
    "print(\"Mean:\", mean)\n",
    "print(\"Standard Deviation:\", std_dev)\n",
    "print(\"Cutoff:\", cutoff)"
   ]
  },
  {
   "cell_type": "code",
   "execution_count": null,
   "id": "95a75cad",
   "metadata": {
    "ExecuteTime": {
     "end_time": "2023-06-08T17:24:01.257864Z",
     "start_time": "2023-06-08T17:24:01.257840Z"
    }
   },
   "outputs": [],
   "source": [
    "df[df < 0.823005171118339] = 0"
   ]
  },
  {
   "cell_type": "code",
   "execution_count": null,
   "id": "517dc7fd",
   "metadata": {
    "ExecuteTime": {
     "end_time": "2023-06-08T17:24:01.263598Z",
     "start_time": "2023-06-08T17:24:01.263574Z"
    }
   },
   "outputs": [],
   "source": [
    "df"
   ]
  },
  {
   "cell_type": "code",
   "execution_count": null,
   "id": "e2dd25a6",
   "metadata": {},
   "outputs": [],
   "source": []
  }
 ],
 "metadata": {
  "kernelspec": {
   "display_name": "Python 3 (ipykernel)",
   "language": "python",
   "name": "python3"
  },
  "language_info": {
   "codemirror_mode": {
    "name": "ipython",
    "version": 3
   },
   "file_extension": ".py",
   "mimetype": "text/x-python",
   "name": "python",
   "nbconvert_exporter": "python",
   "pygments_lexer": "ipython3",
   "version": "3.10.9"
  },
  "toc": {
   "base_numbering": 1,
   "nav_menu": {},
   "number_sections": true,
   "sideBar": true,
   "skip_h1_title": false,
   "title_cell": "Table of Contents",
   "title_sidebar": "Contents",
   "toc_cell": false,
   "toc_position": {},
   "toc_section_display": true,
   "toc_window_display": false
  },
  "varInspector": {
   "cols": {
    "lenName": 16,
    "lenType": 16,
    "lenVar": 40
   },
   "kernels_config": {
    "python": {
     "delete_cmd_postfix": "",
     "delete_cmd_prefix": "del ",
     "library": "var_list.py",
     "varRefreshCmd": "print(var_dic_list())"
    },
    "r": {
     "delete_cmd_postfix": ") ",
     "delete_cmd_prefix": "rm(",
     "library": "var_list.r",
     "varRefreshCmd": "cat(var_dic_list()) "
    }
   },
   "types_to_exclude": [
    "module",
    "function",
    "builtin_function_or_method",
    "instance",
    "_Feature"
   ],
   "window_display": false
  }
 },
 "nbformat": 4,
 "nbformat_minor": 5
}
