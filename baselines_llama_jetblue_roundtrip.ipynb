{
 "cells": [
  {
   "cell_type": "code",
   "execution_count": 17,
   "id": "806f75bb",
   "metadata": {
    "ExecuteTime": {
     "end_time": "2023-07-27T22:29:57.552936Z",
     "start_time": "2023-07-27T22:29:56.099071Z"
    }
   },
   "outputs": [
    {
     "name": "stdout",
     "output_type": "stream",
     "text": [
      "The autoreload extension is already loaded. To reload it, use:\n",
      "  %reload_ext autoreload\n"
     ]
    }
   ],
   "source": [
    "%load_ext autoreload\n",
    "%autoreload 2\n",
    "\n",
    "\n",
    "import os\n",
    "import time\n",
    "import copy\n",
    "import json\n",
    "import openai\n",
    "from dotenv import load_dotenv\n",
    "\n",
    "from bs4 import BeautifulSoup as bs\n",
    "from selenium.webdriver.common.by import By\n",
    "from selenium.webdriver.support.ui import WebDriverWait\n",
    "from selenium.webdriver.support import expected_conditions as EC\n",
    "\n",
    "from method.models import generate_random_values, generate_static_values, generate_llm_values, generate_llm_values_llama\n",
    "from method.ours.utils import create_driver, get_xpath, interact_with_input\n",
    "from method.ours.history import HistoryTable\n",
    "from method.ours.feedback import get_global_feedback"
   ]
  },
  {
   "cell_type": "code",
   "execution_count": 21,
   "id": "b8407538",
   "metadata": {
    "ExecuteTime": {
     "end_time": "2023-07-27T22:30:03.813204Z",
     "start_time": "2023-07-27T22:30:03.743291Z"
    }
   },
   "outputs": [],
   "source": [
    "load_dotenv()\n",
    "openai.api_key = os.getenv(\"OPENAI_API_KEY\")\n",
    "\n",
    "# Global Variables\n",
    "HEADLESS = False\n",
    "TEXT_EMBEDDING_METHOD = 'ADA' # ['ADA', 'WORD2VEC', 'SPACY']\n",
    "GRAPH_EMBEDDING_METHOD = 'NODE2VEC' # ['NODE2VEC', 'GCN']\n",
    "\n",
    "# URL = 'https://www.ups.com/ca/en/Home.page'\n",
    "# 'https://www.healthgrades.com/find-a-doctor'\n",
    "# 'https://www.babycenter.com/child-height-predictor'\n",
    "# 'https://www.babycenter.com/pregnancy-weight-gain-estimator'\n",
    "# 'https://www.yelp.com/'\n",
    "# URL = 'https://www.aircanada.com/ca/en/aco/home.html'\n",
    "# 'https://app.invoicing.co/#/register'\n",
    "# 'http://localhost:8080/1/common/items/create'\n",
    "# 'http://localhost:3000/default-channel/en-US/account/register/'\n",
    "# 'http://localhost:9000/dashboard/discounts/sales/add'\n",
    "# 'http://localhost:9000/dashboard/customers/add'\n",
    "# 'https://www.mbta.com/'\n",
    "# 'https://www.united.com/en/us'\n",
    "# 'https://www.uhaul.com/Truck-Rentals/'\n",
    "URL = 'https://www.jetblue.com/'\n",
    "\n",
    "\n",
    "def get_to_form(driver):\n",
    "    try:\n",
    "        driver.get(URL)\n",
    "    except:\n",
    "        print('timeout')\n",
    "    \n",
    "    # JetBlue (Roundtrip)\n",
    "    time.sleep(5)\n",
    "    WebDriverWait(driver, 5).until(\n",
    "        EC.presence_of_element_located((\n",
    "            By.XPATH,\n",
    "            '//BODY/JB-APP[1]/MAIN[1]/JB-BASIC-TEMPLATE[1]/JB-RENDERER-TEMPLATE[1]/JB-SECTION-HEADER-CONTAINER[1]/DIV[1]/DIV[1]/DIV[1]/JB-SECTION-CONTAINER[1]/DIV[1]/DIV[2]/JB-RENDERER-TEMPLATE[1]/JB-TAB-COMPONENT-CONTAINER[1]/DIV[1]/JB-TABS[1]/SECTION[1]/DIV[1]/JB-TAB-PANEL[1]/DIV[1]/JB-RENDERER-TEMPLATE[1]/DOT-BOOKER-AIR[1]/DIV[1]/DOT-BOOKER-AIR-V2[1]/FORM[1]')\n",
    "        )\n",
    "    ).click()\n",
    "    \n",
    "    # UPS - Quote\n",
    "    #time.sleep(2)\n",
    "    #WebDriverWait(driver, 10).until(\n",
    "    #    EC.presence_of_element_located((By.ID, 'tabs_0_tab_1'))\n",
    "    #).click()\n",
    "    \n",
    "    # AC - Multi-city\n",
    "    #time.sleep(2)\n",
    "    #WebDriverWait(driver, 5).until(\n",
    "    #    EC.presence_of_element_located((By.ID, 'bkmgFlights_tripTypeSelector_M'))\n",
    "    #).click()    \n",
    "    \n",
    "    '''\n",
    "    # Budget - Reservation\n",
    "    WebDriverWait(driver, 5).until(\n",
    "        EC.presence_of_element_located((By.ID, 'PicLoc_value'))\n",
    "    ).click()\n",
    "    '''\n",
    "    \n",
    "    \n",
    "    '''\n",
    "    # AC - My Bookings\n",
    "    time.sleep(2)\n",
    "    WebDriverWait(driver, 5).until(\n",
    "        EC.presence_of_element_located((By.ID, 'bkmg-tab-button-mngBook'))\n",
    "    ).click()\n",
    "    '''\n",
    "    \n",
    "    '''\n",
    "    # AC - Multi-city\n",
    "    time.sleep(2)\n",
    "    WebDriverWait(driver, 5).until(\n",
    "        EC.presence_of_element_located((By.ID, 'bkmgFlights_tripTypeSelector_M'))\n",
    "    ).click()\n",
    "    '''\n",
    "    \n",
    "    '''\n",
    "    # Akaunting\n",
    "    try:\n",
    "        time.sleep(2)\n",
    "        WebDriverWait(driver, 10).until(\n",
    "            EC.presence_of_element_located((\n",
    "                By.ID,\n",
    "                'email')\n",
    "            )\n",
    "        ).send_keys('me@company.com')\n",
    "        WebDriverWait(driver, 10).until(\n",
    "            EC.presence_of_element_located((\n",
    "                By.ID,\n",
    "                'password')\n",
    "            )\n",
    "        ).send_keys('password')\n",
    "        WebDriverWait(driver, 10).until(\n",
    "            EC.presence_of_element_located((\n",
    "                By.XPATH,\n",
    "                '//*[@type=\"submit\"]')\n",
    "            )\n",
    "        ).click()\n",
    "    except:\n",
    "        pass\n",
    "    '''\n",
    "    \n",
    "    '''\n",
    "    # Saleor\n",
    "    try:\n",
    "        time.sleep(2)\n",
    "        WebDriverWait(driver, 10).until(\n",
    "            EC.presence_of_element_located((\n",
    "                By.XPATH,\n",
    "                '//BODY/DIV[1]/MAIN[1]/DIV[1]/DIV[1]/DIV[1]/FORM[1]/DIV[2]/DIV[1]/INPUT[1]')\n",
    "            )\n",
    "        ).send_keys('admin@example.com')\n",
    "        WebDriverWait(driver, 10).until(\n",
    "            EC.presence_of_element_located((\n",
    "                By.XPATH,\n",
    "                '//BODY/DIV[1]/MAIN[1]/DIV[1]/DIV[1]/DIV[1]/FORM[1]/DIV[4]/DIV[1]/DIV[1]/INPUT[1]')\n",
    "            )\n",
    "        ).send_keys('admin')\n",
    "        WebDriverWait(driver, 10).until(\n",
    "            EC.presence_of_element_located((\n",
    "                By.XPATH,\n",
    "                '//BODY/DIV[1]/MAIN[1]/DIV[1]/DIV[1]/DIV[1]/FORM[1]/DIV[5]/BUTTON[1]')\n",
    "            )\n",
    "        ).click()\n",
    "    except:\n",
    "        pass\n",
    "    \n",
    "    WebDriverWait(driver, 10).until(\n",
    "        EC.presence_of_element_located((\n",
    "            By.XPATH,\n",
    "            '//BODY/DIV[1]/MAIN[1]/DIV[1]/DIV[2]/MAIN[1]/FORM[1]/DIV[1]/DIV[2]/DIV[4]/DIV[2]/LABEL[1]/SPAN[1]/SPAN[1]/INPUT[1]')\n",
    "        )\n",
    "    ).click()\n",
    "    '''\n",
    "    \n",
    "    '''\n",
    "    # Saleor\n",
    "    try:\n",
    "        time.sleep(2)\n",
    "        WebDriverWait(driver, 10).until(\n",
    "            EC.presence_of_element_located((\n",
    "                By.XPATH,\n",
    "                '//BODY/DIV[1]/MAIN[1]/DIV[1]/DIV[1]/DIV[1]/FORM[1]/DIV[2]/DIV[1]/INPUT[1]')\n",
    "            )\n",
    "        ).send_keys('admin@example.com')\n",
    "        WebDriverWait(driver, 10).until(\n",
    "            EC.presence_of_element_located((\n",
    "                By.XPATH,\n",
    "                '//BODY/DIV[1]/MAIN[1]/DIV[1]/DIV[1]/DIV[1]/FORM[1]/DIV[4]/DIV[1]/DIV[1]/INPUT[1]')\n",
    "            )\n",
    "        ).send_keys('admin')\n",
    "        WebDriverWait(driver, 10).until(\n",
    "            EC.presence_of_element_located((\n",
    "                By.XPATH,\n",
    "                '//BODY/DIV[1]/MAIN[1]/DIV[1]/DIV[1]/DIV[1]/FORM[1]/DIV[5]/BUTTON[1]')\n",
    "            )\n",
    "        ).click()\n",
    "    except:\n",
    "        pass\n",
    "    '''\n",
    "\n",
    "    '''\n",
    "    time.sleep(2)\n",
    "    WebDriverWait(driver, 10).until(\n",
    "        EC.presence_of_element_located((\n",
    "            By.XPATH,\n",
    "            '//BODY/DIV[1]/DIV[2]/MAIN[1]/DIV[1]/DIV[1]/DIV[1]/DIV[2]')\n",
    "        )\n",
    "    ).click()\n",
    "    '''\n",
    "    \n",
    "    '''\n",
    "    # Pet Clinic - Add Owner\n",
    "    time.sleep(2)\n",
    "    WebDriverWait(driver, 10).until(\n",
    "        EC.presence_of_element_located((\n",
    "            By.XPATH,\n",
    "            '//BODY/APP-ROOT[1]/DIV[1]/NAV[1]/DIV[1]/UL[1]/LI[2]')\n",
    "        )\n",
    "    ).click()\n",
    "    WebDriverWait(driver, 10).until(\n",
    "        EC.presence_of_element_located((\n",
    "            By.XPATH,\n",
    "            '//BODY/APP-ROOT[1]/DIV[1]/NAV[1]/DIV[1]/UL[1]/LI[2]/UL[1]/LI[2]')\n",
    "        )\n",
    "    ).click()\n",
    "    '''\n",
    "\n",
    "\n",
    "def find_form():\n",
    "    return WebDriverWait(driver, 10).until(\n",
    "        EC.presence_of_element_located((\n",
    "            By.XPATH,\n",
    "            '//BODY/JB-APP[1]/MAIN[1]/JB-BASIC-TEMPLATE[1]/JB-RENDERER-TEMPLATE[1]/JB-SECTION-HEADER-CONTAINER[1]/DIV[1]/DIV[1]/DIV[1]/JB-SECTION-CONTAINER[1]/DIV[1]/DIV[2]/JB-RENDERER-TEMPLATE[1]/JB-TAB-COMPONENT-CONTAINER[1]/DIV[1]/JB-TABS[1]/SECTION[1]/DIV[1]/JB-TAB-PANEL[1]/DIV[1]/JB-RENDERER-TEMPLATE[1]/DOT-BOOKER-AIR[1]/DIV[1]/DOT-BOOKER-AIR-V2[1]/FORM[1]'\n",
    "        ))\n",
    "    )\n",
    "\n",
    "def find_button():\n",
    "    '''\n",
    "    return find_form().find_element(\n",
    "        By.XPATH,\n",
    "        '/html/body/jb-app/main/jb-basic-template/jb-renderer-template/jb-section-header-container/div/div[1]/div/jb-section-container/div/div/jb-renderer-template/jb-tab-component-container/div/jb-tabs/section/div/jb-tab-panel[1]/div/jb-renderer-template/dot-booker-air/div/dot-booker-air-v2/form/div/div[2]/div[4]/div/button'\n",
    "    )\n",
    "    '''\n",
    "    # return driver.find_elements(By.TAG_NAME, 'button')[10]\n",
    "    return None\n"
   ]
  },
  {
   "cell_type": "code",
   "execution_count": 22,
   "id": "cc0e906c",
   "metadata": {
    "ExecuteTime": {
     "end_time": "2023-07-27T22:30:04.064728Z",
     "start_time": "2023-07-27T22:30:04.016575Z"
    }
   },
   "outputs": [],
   "source": [
    "METHOD = 'llama'"
   ]
  },
  {
   "cell_type": "code",
   "execution_count": 23,
   "id": "e8ec6672",
   "metadata": {
    "ExecuteTime": {
     "end_time": "2023-07-27T22:30:13.696699Z",
     "start_time": "2023-07-27T22:30:04.577360Z"
    }
   },
   "outputs": [
    {
     "ename": "TimeoutException",
     "evalue": "Message: \nStacktrace:\n#0 0x558f23292613 <unknown>\n#1 0x558f22fbe537 <unknown>\n#2 0x558f22ffcf53 <unknown>\n#3 0x558f22ffd041 <unknown>\n#4 0x558f230382a4 <unknown>\n#5 0x558f2301da5d <unknown>\n#6 0x558f23035d09 <unknown>\n#7 0x558f2301d803 <unknown>\n#8 0x558f22ff168b <unknown>\n#9 0x558f22ff242e <unknown>\n#10 0x558f23253c28 <unknown>\n#11 0x558f23257af7 <unknown>\n#12 0x558f2326201c <unknown>\n#13 0x558f23258723 <unknown>\n#14 0x558f23227457 <unknown>\n#15 0x558f2327c628 <unknown>\n#16 0x558f2327c7b7 <unknown>\n#17 0x558f2328b483 <unknown>\n#18 0x7f2248c94ac3 <unknown>\n",
     "output_type": "error",
     "traceback": [
      "\u001b[0;31m---------------------------------------------------------------------------\u001b[0m",
      "\u001b[0;31mTimeoutException\u001b[0m                          Traceback (most recent call last)",
      "Cell \u001b[0;32mIn[23], line 2\u001b[0m\n\u001b[1;32m      1\u001b[0m driver \u001b[38;5;241m=\u001b[39m create_driver(HEADLESS)\n\u001b[0;32m----> 2\u001b[0m \u001b[43mget_to_form\u001b[49m\u001b[43m(\u001b[49m\u001b[43mdriver\u001b[49m\u001b[43m)\u001b[49m\n",
      "Cell \u001b[0;32mIn[21], line 34\u001b[0m, in \u001b[0;36mget_to_form\u001b[0;34m(driver)\u001b[0m\n\u001b[1;32m     32\u001b[0m \u001b[38;5;66;03m# JetBlue (Roundtrip)\u001b[39;00m\n\u001b[1;32m     33\u001b[0m time\u001b[38;5;241m.\u001b[39msleep(\u001b[38;5;241m5\u001b[39m)\n\u001b[0;32m---> 34\u001b[0m \u001b[43mWebDriverWait\u001b[49m\u001b[43m(\u001b[49m\u001b[43mdriver\u001b[49m\u001b[43m,\u001b[49m\u001b[43m \u001b[49m\u001b[38;5;241;43m5\u001b[39;49m\u001b[43m)\u001b[49m\u001b[38;5;241;43m.\u001b[39;49m\u001b[43muntil\u001b[49m\u001b[43m(\u001b[49m\n\u001b[1;32m     35\u001b[0m \u001b[43m    \u001b[49m\u001b[43mEC\u001b[49m\u001b[38;5;241;43m.\u001b[39;49m\u001b[43mpresence_of_element_located\u001b[49m\u001b[43m(\u001b[49m\u001b[43m(\u001b[49m\n\u001b[1;32m     36\u001b[0m \u001b[43m        \u001b[49m\u001b[43mBy\u001b[49m\u001b[38;5;241;43m.\u001b[39;49m\u001b[43mXPATH\u001b[49m\u001b[43m,\u001b[49m\n\u001b[1;32m     37\u001b[0m \u001b[43m        \u001b[49m\u001b[38;5;124;43m'\u001b[39;49m\u001b[38;5;124;43m//BODY/JB-APP[1]/MAIN[1]/JB-BASIC-TEMPLATE[1]/JB-RENDERER-TEMPLATE[1]/JB-SECTION-HEADER-CONTAINER[1]/DIV[1]/DIV[1]/DIV[1]/JB-SECTION-CONTAINER[1]/DIV[1]/DIV[2]/JB-RENDERER-TEMPLATE[1]/JB-TAB-COMPONENT-CONTAINER[1]/DIV[1]/JB-TABS[1]/SECTION[1]/DIV[1]/JB-TAB-PANEL[1]/DIV[1]/JB-RENDERER-TEMPLATE[1]/DOT-BOOKER-AIR[1]/DIV[1]/DOT-BOOKER-AIR-V2[1]/FORM[1]\u001b[39;49m\u001b[38;5;124;43m'\u001b[39;49m\u001b[43m)\u001b[49m\n\u001b[1;32m     38\u001b[0m \u001b[43m    \u001b[49m\u001b[43m)\u001b[49m\n\u001b[1;32m     39\u001b[0m \u001b[43m\u001b[49m\u001b[43m)\u001b[49m\u001b[38;5;241m.\u001b[39mclick()\n\u001b[1;32m     41\u001b[0m \u001b[38;5;66;03m# UPS - Quote\u001b[39;00m\n\u001b[1;32m     42\u001b[0m \u001b[38;5;66;03m#time.sleep(2)\u001b[39;00m\n\u001b[1;32m     43\u001b[0m \u001b[38;5;66;03m#WebDriverWait(driver, 10).until(\u001b[39;00m\n\u001b[0;32m   (...)\u001b[0m\n\u001b[1;32m     50\u001b[0m \u001b[38;5;66;03m#    EC.presence_of_element_located((By.ID, 'bkmgFlights_tripTypeSelector_M'))\u001b[39;00m\n\u001b[1;32m     51\u001b[0m \u001b[38;5;66;03m#).click()    \u001b[39;00m\n\u001b[1;32m     53\u001b[0m \u001b[38;5;250m\u001b[39m\u001b[38;5;124;03m'''\u001b[39;00m\n\u001b[1;32m     54\u001b[0m \u001b[38;5;124;03m# Budget - Reservation\u001b[39;00m\n\u001b[1;32m     55\u001b[0m \u001b[38;5;124;03mWebDriverWait(driver, 5).until(\u001b[39;00m\n\u001b[1;32m     56\u001b[0m \u001b[38;5;124;03m    EC.presence_of_element_located((By.ID, 'PicLoc_value'))\u001b[39;00m\n\u001b[1;32m     57\u001b[0m \u001b[38;5;124;03m).click()\u001b[39;00m\n\u001b[1;32m     58\u001b[0m \u001b[38;5;124;03m'''\u001b[39;00m\n",
      "File \u001b[0;32m~/miniconda3/envs/llama2/lib/python3.10/site-packages/selenium/webdriver/support/wait.py:90\u001b[0m, in \u001b[0;36mWebDriverWait.until\u001b[0;34m(self, method, message)\u001b[0m\n\u001b[1;32m     88\u001b[0m     \u001b[38;5;28;01mif\u001b[39;00m time\u001b[38;5;241m.\u001b[39mmonotonic() \u001b[38;5;241m>\u001b[39m end_time:\n\u001b[1;32m     89\u001b[0m         \u001b[38;5;28;01mbreak\u001b[39;00m\n\u001b[0;32m---> 90\u001b[0m \u001b[38;5;28;01mraise\u001b[39;00m TimeoutException(message, screen, stacktrace)\n",
      "\u001b[0;31mTimeoutException\u001b[0m: Message: \nStacktrace:\n#0 0x558f23292613 <unknown>\n#1 0x558f22fbe537 <unknown>\n#2 0x558f22ffcf53 <unknown>\n#3 0x558f22ffd041 <unknown>\n#4 0x558f230382a4 <unknown>\n#5 0x558f2301da5d <unknown>\n#6 0x558f23035d09 <unknown>\n#7 0x558f2301d803 <unknown>\n#8 0x558f22ff168b <unknown>\n#9 0x558f22ff242e <unknown>\n#10 0x558f23253c28 <unknown>\n#11 0x558f23257af7 <unknown>\n#12 0x558f2326201c <unknown>\n#13 0x558f23258723 <unknown>\n#14 0x558f23227457 <unknown>\n#15 0x558f2327c628 <unknown>\n#16 0x558f2327c7b7 <unknown>\n#17 0x558f2328b483 <unknown>\n#18 0x7f2248c94ac3 <unknown>\n"
     ]
    }
   ],
   "source": [
    "driver = create_driver(HEADLESS)\n",
    "get_to_form(driver)"
   ]
  },
  {
   "cell_type": "code",
   "execution_count": 24,
   "id": "96cabf9e",
   "metadata": {
    "ExecuteTime": {
     "end_time": "2023-07-27T22:30:15.639830Z",
     "start_time": "2023-07-27T22:30:15.381049Z"
    }
   },
   "outputs": [
    {
     "ename": "TimeoutException",
     "evalue": "Message: \nStacktrace:\n#0 0x558f23292613 <unknown>\n#1 0x558f22fbe537 <unknown>\n#2 0x558f22ffcf53 <unknown>\n#3 0x558f22ffd041 <unknown>\n#4 0x558f230382a4 <unknown>\n#5 0x558f2301da5d <unknown>\n#6 0x558f23035d09 <unknown>\n#7 0x558f2301d803 <unknown>\n#8 0x558f22ff168b <unknown>\n#9 0x558f22ff242e <unknown>\n#10 0x558f23253c28 <unknown>\n#11 0x558f23257af7 <unknown>\n#12 0x558f2326201c <unknown>\n#13 0x558f23258723 <unknown>\n#14 0x558f23227457 <unknown>\n#15 0x558f2327c628 <unknown>\n#16 0x558f2327c7b7 <unknown>\n#17 0x558f2328b483 <unknown>\n#18 0x7f2248c94ac3 <unknown>\n",
     "output_type": "error",
     "traceback": [
      "\u001b[0;31m---------------------------------------------------------------------------\u001b[0m",
      "\u001b[0;31mTimeoutException\u001b[0m                          Traceback (most recent call last)",
      "Cell \u001b[0;32mIn[24], line 2\u001b[0m\n\u001b[1;32m      1\u001b[0m html \u001b[38;5;241m=\u001b[39m driver\u001b[38;5;241m.\u001b[39mfind_element(By\u001b[38;5;241m.\u001b[39mTAG_NAME, \u001b[38;5;124m'\u001b[39m\u001b[38;5;124mhtml\u001b[39m\u001b[38;5;124m'\u001b[39m)\u001b[38;5;241m.\u001b[39mget_attribute(\u001b[38;5;124m'\u001b[39m\u001b[38;5;124mouterHTML\u001b[39m\u001b[38;5;124m'\u001b[39m)\n\u001b[0;32m----> 2\u001b[0m form \u001b[38;5;241m=\u001b[39m \u001b[43mfind_form\u001b[49m\u001b[43m(\u001b[49m\u001b[43m)\u001b[49m\n\u001b[1;32m      3\u001b[0m form_xpath \u001b[38;5;241m=\u001b[39m get_xpath(driver, form)\n\u001b[1;32m      5\u001b[0m inputs \u001b[38;5;241m=\u001b[39m form\u001b[38;5;241m.\u001b[39mfind_elements(\n\u001b[1;32m      6\u001b[0m     By\u001b[38;5;241m.\u001b[39mXPATH,\n\u001b[1;32m      7\u001b[0m     \u001b[38;5;124mf\u001b[39m\u001b[38;5;124m'\u001b[39m\u001b[38;5;132;01m{\u001b[39;00mform_xpath\u001b[38;5;132;01m}\u001b[39;00m\u001b[38;5;124m//input | \u001b[39m\u001b[38;5;132;01m{\u001b[39;00mform_xpath\u001b[38;5;132;01m}\u001b[39;00m\u001b[38;5;124m//textarea | \u001b[39m\u001b[38;5;132;01m{\u001b[39;00mform_xpath\u001b[38;5;132;01m}\u001b[39;00m\u001b[38;5;124m//select\u001b[39m\u001b[38;5;124m'\u001b[39m\n\u001b[1;32m      8\u001b[0m )\n",
      "Cell \u001b[0;32mIn[21], line 191\u001b[0m, in \u001b[0;36mfind_form\u001b[0;34m()\u001b[0m\n\u001b[1;32m    190\u001b[0m \u001b[38;5;28;01mdef\u001b[39;00m \u001b[38;5;21mfind_form\u001b[39m():\n\u001b[0;32m--> 191\u001b[0m     \u001b[38;5;28;01mreturn\u001b[39;00m \u001b[43mWebDriverWait\u001b[49m\u001b[43m(\u001b[49m\u001b[43mdriver\u001b[49m\u001b[43m,\u001b[49m\u001b[43m \u001b[49m\u001b[38;5;241;43m10\u001b[39;49m\u001b[43m)\u001b[49m\u001b[38;5;241;43m.\u001b[39;49m\u001b[43muntil\u001b[49m\u001b[43m(\u001b[49m\n\u001b[1;32m    192\u001b[0m \u001b[43m        \u001b[49m\u001b[43mEC\u001b[49m\u001b[38;5;241;43m.\u001b[39;49m\u001b[43mpresence_of_element_located\u001b[49m\u001b[43m(\u001b[49m\u001b[43m(\u001b[49m\n\u001b[1;32m    193\u001b[0m \u001b[43m            \u001b[49m\u001b[43mBy\u001b[49m\u001b[38;5;241;43m.\u001b[39;49m\u001b[43mXPATH\u001b[49m\u001b[43m,\u001b[49m\n\u001b[1;32m    194\u001b[0m \u001b[43m            \u001b[49m\u001b[38;5;124;43m'\u001b[39;49m\u001b[38;5;124;43m//BODY/JB-APP[1]/MAIN[1]/JB-BASIC-TEMPLATE[1]/JB-RENDERER-TEMPLATE[1]/JB-SECTION-HEADER-CONTAINER[1]/DIV[1]/DIV[1]/DIV[1]/JB-SECTION-CONTAINER[1]/DIV[1]/DIV[2]/JB-RENDERER-TEMPLATE[1]/JB-TAB-COMPONENT-CONTAINER[1]/DIV[1]/JB-TABS[1]/SECTION[1]/DIV[1]/JB-TAB-PANEL[1]/DIV[1]/JB-RENDERER-TEMPLATE[1]/DOT-BOOKER-AIR[1]/DIV[1]/DOT-BOOKER-AIR-V2[1]/FORM[1]\u001b[39;49m\u001b[38;5;124;43m'\u001b[39;49m\n\u001b[1;32m    195\u001b[0m \u001b[43m        \u001b[49m\u001b[43m)\u001b[49m\u001b[43m)\u001b[49m\n\u001b[1;32m    196\u001b[0m \u001b[43m    \u001b[49m\u001b[43m)\u001b[49m\n",
      "File \u001b[0;32m~/miniconda3/envs/llama2/lib/python3.10/site-packages/selenium/webdriver/support/wait.py:90\u001b[0m, in \u001b[0;36mWebDriverWait.until\u001b[0;34m(self, method, message)\u001b[0m\n\u001b[1;32m     88\u001b[0m     \u001b[38;5;28;01mif\u001b[39;00m time\u001b[38;5;241m.\u001b[39mmonotonic() \u001b[38;5;241m>\u001b[39m end_time:\n\u001b[1;32m     89\u001b[0m         \u001b[38;5;28;01mbreak\u001b[39;00m\n\u001b[0;32m---> 90\u001b[0m \u001b[38;5;28;01mraise\u001b[39;00m TimeoutException(message, screen, stacktrace)\n",
      "\u001b[0;31mTimeoutException\u001b[0m: Message: \nStacktrace:\n#0 0x558f23292613 <unknown>\n#1 0x558f22fbe537 <unknown>\n#2 0x558f22ffcf53 <unknown>\n#3 0x558f22ffd041 <unknown>\n#4 0x558f230382a4 <unknown>\n#5 0x558f2301da5d <unknown>\n#6 0x558f23035d09 <unknown>\n#7 0x558f2301d803 <unknown>\n#8 0x558f22ff168b <unknown>\n#9 0x558f22ff242e <unknown>\n#10 0x558f23253c28 <unknown>\n#11 0x558f23257af7 <unknown>\n#12 0x558f2326201c <unknown>\n#13 0x558f23258723 <unknown>\n#14 0x558f23227457 <unknown>\n#15 0x558f2327c628 <unknown>\n#16 0x558f2327c7b7 <unknown>\n#17 0x558f2328b483 <unknown>\n#18 0x7f2248c94ac3 <unknown>\n"
     ]
    }
   ],
   "source": [
    "html = driver.find_element(By.TAG_NAME, 'html').get_attribute('outerHTML')\n",
    "form = find_form()\n",
    "form_xpath = get_xpath(driver, form)\n",
    "\n",
    "inputs = form.find_elements(\n",
    "    By.XPATH,\n",
    "    f'{form_xpath}//input | {form_xpath}//textarea | {form_xpath}//select'\n",
    ")\n",
    "\n",
    "inputs = list(filter(\n",
    "    lambda x: x.get_attribute('type') != 'hidden' and x.get_attribute('hidden') != 'true',\n",
    "    inputs\n",
    "))"
   ]
  },
  {
   "cell_type": "code",
   "execution_count": null,
   "id": "668d49d1",
   "metadata": {
    "ExecuteTime": {
     "end_time": "2023-07-27T22:30:17.361825Z",
     "start_time": "2023-07-27T22:30:17.307755Z"
    }
   },
   "outputs": [],
   "source": [
    "history_table = HistoryTable(\n",
    "    url=URL,\n",
    "    xpath=form_xpath\n",
    ")"
   ]
  },
  {
   "cell_type": "code",
   "execution_count": null,
   "id": "026d92c8",
   "metadata": {},
   "outputs": [],
   "source": [
    "from transformers import AutoTokenizer, pipeline, logging\n",
    "from auto_gptq import AutoGPTQForCausalLM, BaseQuantizeConfig\n",
    "\n",
    "def load_model_llama(model_type, use_triton=False):\n",
    "    if model_type == '70B':\n",
    "        model_name_or_path = \"TheBloke/Llama-2-70B-chat-GPTQ\"\n",
    "        model_basename = \"gptq_model-4bit--1g\"\n",
    "    elif model_type == '13B':\n",
    "        model_name_or_path = \"TheBloke/Llama-2-13B-chat-GPTQ\"\n",
    "        model_basename = \"gptq_model-4bit-128g\"\n",
    "    else:\n",
    "        raise ValueError('Invalid model_type. Choose either \"70B\" or \"13B\".')\n",
    "\n",
    "    tokenizer = AutoTokenizer.from_pretrained(model_name_or_path, use_fast=True, device_map=\"auto\")\n",
    "\n",
    "    model = AutoGPTQForCausalLM.from_quantized(model_name_or_path,\n",
    "                                               #model_basename=model_basename,\n",
    "                                               revision = \"main\",\n",
    "                                               inject_fused_attention=False,\n",
    "                                               use_safetensors=True,\n",
    "                                               trust_remote_code=False,\n",
    "                                               use_triton=use_triton,\n",
    "                                               quantize_config=None)\n",
    "    return tokenizer, model\n",
    "\n",
    "\n",
    "# Load the model - load_model_llama2_70b\n",
    "tokenizer, model = load_model_llama(\"70B\")"
   ]
  },
  {
   "cell_type": "code",
   "execution_count": 25,
   "id": "5aa02c36",
   "metadata": {
    "ExecuteTime": {
     "end_time": "2023-07-27T22:30:38.393454Z",
     "start_time": "2023-07-27T22:30:17.915548Z"
    }
   },
   "outputs": [
    {
     "ename": "NameError",
     "evalue": "name 'form' is not defined",
     "output_type": "error",
     "traceback": [
      "\u001b[0;31m---------------------------------------------------------------------------\u001b[0m",
      "\u001b[0;31mNameError\u001b[0m                                 Traceback (most recent call last)",
      "Cell \u001b[0;32mIn[25], line 7\u001b[0m\n\u001b[1;32m      5\u001b[0m     values \u001b[38;5;241m=\u001b[39m generate_random_values(driver, inputs)\n\u001b[1;32m      6\u001b[0m \u001b[38;5;28;01melif\u001b[39;00m METHOD \u001b[38;5;241m==\u001b[39m \u001b[38;5;124m'\u001b[39m\u001b[38;5;124mllama\u001b[39m\u001b[38;5;124m'\u001b[39m:\n\u001b[0;32m----> 7\u001b[0m     values \u001b[38;5;241m=\u001b[39m generate_llm_values_llama(\u001b[43mform\u001b[49m\u001b[38;5;241m.\u001b[39mget_attribute(\u001b[38;5;124m'\u001b[39m\u001b[38;5;124mouterHTML\u001b[39m\u001b[38;5;124m'\u001b[39m), model, tokenizer)    \n\u001b[1;32m      8\u001b[0m \u001b[38;5;28;01melse\u001b[39;00m:\n\u001b[1;32m      9\u001b[0m     values \u001b[38;5;241m=\u001b[39m generate_llm_values(form\u001b[38;5;241m.\u001b[39mget_attribute(\u001b[38;5;124m'\u001b[39m\u001b[38;5;124mouterHTML\u001b[39m\u001b[38;5;124m'\u001b[39m), openai\u001b[38;5;241m.\u001b[39mapi_key)\n",
      "\u001b[0;31mNameError\u001b[0m: name 'form' is not defined"
     ]
    }
   ],
   "source": [
    "values = None\n",
    "if METHOD == 'static':\n",
    "    values = generate_static_values(driver, inputs)\n",
    "elif METHOD == 'random':\n",
    "    values = generate_random_values(driver, inputs)\n",
    "elif METHOD == 'llama':\n",
    "    values = generate_llm_values_llama(form.get_attribute('outerHTML'), model, tokenizer)    \n",
    "else:\n",
    "    values = generate_llm_values(form.get_attribute('outerHTML'), openai.api_key)"
   ]
  },
  {
   "cell_type": "code",
   "execution_count": 26,
   "id": "d251b320",
   "metadata": {},
   "outputs": [
    {
     "ename": "NameError",
     "evalue": "name 'model' is not defined",
     "output_type": "error",
     "traceback": [
      "\u001b[0;31m---------------------------------------------------------------------------\u001b[0m",
      "\u001b[0;31mNameError\u001b[0m                                 Traceback (most recent call last)",
      "Cell \u001b[0;32mIn[26], line 1\u001b[0m\n\u001b[0;32m----> 1\u001b[0m \u001b[43mmodel\u001b[49m\n",
      "\u001b[0;31mNameError\u001b[0m: name 'model' is not defined"
     ]
    }
   ],
   "source": [
    "model"
   ]
  },
  {
   "cell_type": "code",
   "execution_count": null,
   "id": "8476d5c4",
   "metadata": {
    "ExecuteTime": {
     "end_time": "2023-07-27T22:30:57.755662Z",
     "start_time": "2023-07-27T22:30:57.689284Z"
    }
   },
   "outputs": [],
   "source": [
    "print(values)"
   ]
  },
  {
   "cell_type": "code",
   "execution_count": null,
   "id": "6ad491e7",
   "metadata": {
    "ExecuteTime": {
     "end_time": "2023-07-25T18:46:03.976669Z",
     "start_time": "2023-07-25T18:46:03.922316Z"
    }
   },
   "outputs": [],
   "source": [
    "def get_element(element_id):\n",
    "    return driver.find_element(By.ID if METHOD == 'llm' else By.XPATH, element_id)\n",
    "\n",
    "\n",
    "def send_values(elemend_ids, values):\n",
    "    for element_id in elemend_ids:\n",
    "        try:\n",
    "            element = get_element(element_id)\n",
    "        except:\n",
    "            continue\n",
    "        value = values[element_id]\n",
    "        \n",
    "        element_type = element.get_attribute('type') or 'text'\n",
    "    \n",
    "        if element_type in ['radio', 'checkbox'] or element.tag_name in ['button']:\n",
    "            continue\n",
    "        \n",
    "        try:\n",
    "            interact_with_input(element, value)\n",
    "        except:\n",
    "            pass\n",
    "\n",
    "        \n",
    "def submit_form(form):\n",
    "    # submit = driver.find_element(By.XPATH, f'{form_xpath}//*[@type=\"submit\"]')\n",
    "    # driver.find_element(By.TAG_NAME, 'body').click()\n",
    "    submit = find_button()\n",
    "    \n",
    "    for _ in range(3):\n",
    "        try:\n",
    "            interact_with_input(submit, True)\n",
    "            time.sleep(0.5)\n",
    "        except:\n",
    "            break"
   ]
  },
  {
   "cell_type": "code",
   "execution_count": null,
   "id": "866d934b",
   "metadata": {
    "ExecuteTime": {
     "end_time": "2023-07-25T18:48:50.943913Z",
     "start_time": "2023-07-25T18:47:00.919211Z"
    }
   },
   "outputs": [],
   "source": [
    "passing_set = {\n",
    "    element_id: values[element_id]['passing'] for element_id in values.keys()\n",
    "}\n",
    "\n",
    "\n",
    "for element_id, element_values in values.items():\n",
    "    get_to_form(driver)\n",
    "    time.sleep(1)\n",
    "    \n",
    "    try:\n",
    "        element = get_element(element_id)\n",
    "    except:\n",
    "        continue\n",
    "    element_type = element.get_attribute('type') or 'text'\n",
    "    \n",
    "    if element_type in ['radio', 'checkbox', 'submit']:\n",
    "        continue\n",
    "    \n",
    "    # print(element)\n",
    "    \n",
    "    for failing_value in element_values['failing']:\n",
    "        # try:\n",
    "        get_to_form(driver)\n",
    "        time.sleep(1)\n",
    "    \n",
    "        passing_copy = copy.copy(passing_set)\n",
    "        passing_copy[element_id] = failing_value\n",
    "        send_values(values.keys(), passing_copy)\n",
    "\n",
    "        time.sleep(1)\n",
    "\n",
    "        submit_form(form)\n",
    "\n",
    "        new_html = driver.find_element(By.TAG_NAME, 'body').get_attribute('outerHTML')\n",
    "        global_feedback = get_global_feedback(html, new_html, remove_form_children=False)\n",
    "\n",
    "        history_table.add(\n",
    "            passing_copy,\n",
    "            'base',\n",
    "            global_feedback,\n",
    "            driver.current_url\n",
    "        )\n",
    "        # except Exception as e:\n",
    "        #     print(e)"
   ]
  },
  {
   "cell_type": "code",
   "execution_count": 13,
   "id": "025351a5",
   "metadata": {
    "ExecuteTime": {
     "end_time": "2023-07-24T16:20:34.961485Z",
     "start_time": "2023-07-24T16:20:34.887290Z"
    }
   },
   "outputs": [
    {
     "ename": "NameError",
     "evalue": "name 'history_table' is not defined",
     "output_type": "error",
     "traceback": [
      "\u001b[0;31m---------------------------------------------------------------------------\u001b[0m",
      "\u001b[0;31mNameError\u001b[0m                                 Traceback (most recent call last)",
      "Cell \u001b[0;32mIn[13], line 1\u001b[0m\n\u001b[0;32m----> 1\u001b[0m \u001b[38;5;28;01mfor\u001b[39;00m i, v \u001b[38;5;129;01min\u001b[39;00m \u001b[38;5;28menumerate\u001b[39m(\u001b[43mhistory_table\u001b[49m\u001b[38;5;241m.\u001b[39mtable[\u001b[38;5;124m'\u001b[39m\u001b[38;5;124mvalues\u001b[39m\u001b[38;5;124m'\u001b[39m]):\n\u001b[1;32m      2\u001b[0m     jv \u001b[38;5;241m=\u001b[39m json\u001b[38;5;241m.\u001b[39mloads(v)\n\u001b[1;32m      3\u001b[0m     \u001b[38;5;28;01mfor\u001b[39;00m key, value \u001b[38;5;129;01min\u001b[39;00m jv\u001b[38;5;241m.\u001b[39mitems():\n",
      "\u001b[0;31mNameError\u001b[0m: name 'history_table' is not defined"
     ]
    }
   ],
   "source": [
    "for i, v in enumerate(history_table.table['values']):\n",
    "    jv = json.loads(v)\n",
    "    for key, value in jv.items():\n",
    "        if key not in history_table.table.columns:\n",
    "            history_table.table[key] = None\n",
    "        history_table.table.loc[i, key] = value"
   ]
  },
  {
   "cell_type": "code",
   "execution_count": 14,
   "id": "7af1f1b0",
   "metadata": {
    "ExecuteTime": {
     "end_time": "2023-07-24T03:03:22.906817Z",
     "start_time": "2023-07-24T03:03:22.839924Z"
    }
   },
   "outputs": [
    {
     "ename": "NameError",
     "evalue": "name 'history_table' is not defined",
     "output_type": "error",
     "traceback": [
      "\u001b[0;31m---------------------------------------------------------------------------\u001b[0m",
      "\u001b[0;31mNameError\u001b[0m                                 Traceback (most recent call last)",
      "Cell \u001b[0;32mIn[14], line 1\u001b[0m\n\u001b[0;32m----> 1\u001b[0m \u001b[43mhistory_table\u001b[49m\u001b[38;5;241m.\u001b[39mtable\n",
      "\u001b[0;31mNameError\u001b[0m: name 'history_table' is not defined"
     ]
    }
   ],
   "source": [
    "history_table.table"
   ]
  },
  {
   "cell_type": "code",
   "execution_count": null,
   "id": "fd7263ca",
   "metadata": {},
   "outputs": [],
   "source": []
  }
 ],
 "metadata": {
  "kernelspec": {
   "display_name": "Python 3 (ipykernel)",
   "language": "python",
   "name": "python3"
  },
  "language_info": {
   "codemirror_mode": {
    "name": "ipython",
    "version": 3
   },
   "file_extension": ".py",
   "mimetype": "text/x-python",
   "name": "python",
   "nbconvert_exporter": "python",
   "pygments_lexer": "ipython3",
   "version": "3.10.9"
  },
  "toc": {
   "base_numbering": 1,
   "nav_menu": {},
   "number_sections": true,
   "sideBar": true,
   "skip_h1_title": false,
   "title_cell": "Table of Contents",
   "title_sidebar": "Contents",
   "toc_cell": false,
   "toc_position": {},
   "toc_section_display": true,
   "toc_window_display": false
  },
  "varInspector": {
   "cols": {
    "lenName": 16,
    "lenType": 16,
    "lenVar": 40
   },
   "kernels_config": {
    "python": {
     "delete_cmd_postfix": "",
     "delete_cmd_prefix": "del ",
     "library": "var_list.py",
     "varRefreshCmd": "print(var_dic_list())"
    },
    "r": {
     "delete_cmd_postfix": ") ",
     "delete_cmd_prefix": "rm(",
     "library": "var_list.r",
     "varRefreshCmd": "cat(var_dic_list()) "
    }
   },
   "types_to_exclude": [
    "module",
    "function",
    "builtin_function_or_method",
    "instance",
    "_Feature"
   ],
   "window_display": false
  }
 },
 "nbformat": 4,
 "nbformat_minor": 5
}
