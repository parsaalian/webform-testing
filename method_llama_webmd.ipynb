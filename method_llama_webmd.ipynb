{
 "cells": [
  {
   "cell_type": "code",
   "execution_count": 5,
   "id": "6edf3f1c",
   "metadata": {
    "ExecuteTime": {
     "end_time": "2023-07-28T04:34:16.574065Z",
     "start_time": "2023-07-28T04:34:10.308004Z"
    }
   },
   "outputs": [
    {
     "name": "stdout",
     "output_type": "stream",
     "text": [
      "The autoreload extension is already loaded. To reload it, use:\n",
      "  %reload_ext autoreload\n"
     ]
    }
   ],
   "source": [
    "%load_ext autoreload\n",
    "%autoreload 2\n",
    "\n",
    "import os\n",
    "import time\n",
    "import openai\n",
    "from dotenv import load_dotenv\n",
    "\n",
    "from selenium.webdriver.common.by import By\n",
    "from selenium.webdriver.support.ui import WebDriverWait\n",
    "from selenium.webdriver.support import expected_conditions as EC\n",
    "from bs4 import BeautifulSoup as bs\n",
    "\n",
    "from method.ours.utils import create_driver, get_xpath, get_application_context\n",
    "from method.ours.parse import parse_form\n",
    "from method.ours.prompts import get_form_context\n",
    "from method.ours.history import HistoryTable\n",
    "from method.ours.constraints import Invalid\n",
    "from method.ours.generation import (\n",
    "    generate_constraints_for_input_groups,\n",
    "    generate_value_for_input_group,\n",
    "    generate_values_for_input_groups,\n",
    "    fill_form_with_value_table,\n",
    "    submit_form\n",
    ")\n",
    "from method.ours.feedback import (\n",
    "    get_local_feedback,\n",
    "    get_global_feedback\n",
    ")"
   ]
  },
  {
   "cell_type": "code",
   "execution_count": 6,
   "id": "25fb6bb8",
   "metadata": {
    "ExecuteTime": {
     "end_time": "2023-07-28T04:34:22.229763Z",
     "start_time": "2023-07-28T04:34:22.127021Z"
    }
   },
   "outputs": [],
   "source": [
    "load_dotenv()\n",
    "openai.api_key = os.getenv(\"OPENAI_API_KEY\")\n",
    "\n",
    "# Global Variables\n",
    "HEADLESS = False\n",
    "TEXT_EMBEDDING_METHOD = 'ADA'\n",
    "GRAPH_EMBEDDING_METHOD = 'NODE2VEC'\n",
    "\n",
    "URL = 'https://www.webmd.com/drugs/2/index'\n",
    "#URL = 'https://seatgeek.ca/'\n",
    "# 'https://www.stubhub.ca/'\n",
    "# 'https://app.invoicing.co/#/register'\n",
    "# 'http://localhost:3000/default-channel/en-US/account/register/'\n",
    "# 'http://localhost:9000/dashboard/discounts/sales/add'\n",
    "# 'http://localhost:9000/dashboard/customers/add'\n",
    "# 'http://localhost:8080/'\n",
    "# 'https://www.budget.com/en/home'\n",
    "# 'https://www.thetrainline.com/en-us'\n",
    "# 'https://www.mbta.com/'\n",
    "# 'https://resy.com/'\n",
    "# 'https://www.yelp.com/'\n",
    "# 'https://www.aa.com/homePage.do'\n",
    "# 'https://www.jetblue.com/'\n",
    "# 'https://www.united.com/en/us'\n",
    "# 'https://www.aircanada.com/ca/en/aco/home.html'\n",
    "\n",
    "\n",
    "def get_to_form(driver):\n",
    "    try:\n",
    "        driver.get(URL)\n",
    "        \n",
    "        '''\n",
    "        try:\n",
    "            time.sleep(2)\n",
    "            WebDriverWait(driver, 10).until(\n",
    "                EC.presence_of_element_located((\n",
    "                    By.XPATH,\n",
    "                    '//BODY/DIV[1]/MAIN[1]/DIV[1]/DIV[1]/DIV[1]/FORM[1]/DIV[2]/DIV[1]/INPUT[1]')\n",
    "                )\n",
    "            ).send_keys('admin@example.com')\n",
    "            WebDriverWait(driver, 10).until(\n",
    "                EC.presence_of_element_located((\n",
    "                    By.XPATH,\n",
    "                    '//BODY/DIV[1]/MAIN[1]/DIV[1]/DIV[1]/DIV[1]/FORM[1]/DIV[4]/DIV[1]/DIV[1]/INPUT[1]')\n",
    "                )\n",
    "            ).send_keys('admin')\n",
    "            WebDriverWait(driver, 10).until(\n",
    "                EC.presence_of_element_located((\n",
    "                    By.XPATH,\n",
    "                    '//BODY/DIV[1]/MAIN[1]/DIV[1]/DIV[1]/DIV[1]/FORM[1]/DIV[5]/BUTTON[1]')\n",
    "                )\n",
    "            ).click()\n",
    "        except:\n",
    "            pass\n",
    "        \n",
    "        WebDriverWait(driver, 10).until(\n",
    "            EC.presence_of_element_located((\n",
    "                By.XPATH,\n",
    "                '//BODY/DIV[1]/MAIN[1]/DIV[1]/DIV[2]/MAIN[1]/FORM[1]/DIV[1]/DIV[2]/DIV[4]/DIV[2]/LABEL[1]/SPAN[1]/SPAN[1]/INPUT[1]')\n",
    "            )\n",
    "        ).click()\n",
    "        '''\n",
    "        \n",
    "        '''\n",
    "        # Pet Clinic - Add Owner\n",
    "        time.sleep(2)\n",
    "        WebDriverWait(driver, 10).until(\n",
    "            EC.presence_of_element_located((\n",
    "                By.XPATH,\n",
    "                '//BODY/APP-ROOT[1]/DIV[1]/NAV[1]/DIV[1]/UL[1]/LI[2]')\n",
    "            )\n",
    "        ).click()\n",
    "        WebDriverWait(driver, 10).until(\n",
    "            EC.presence_of_element_located((\n",
    "                By.XPATH,\n",
    "                '//BODY/APP-ROOT[1]/DIV[1]/NAV[1]/DIV[1]/UL[1]/LI[2]/UL[1]/LI[2]')\n",
    "            )\n",
    "        ).click()\n",
    "        '''\n",
    "        \n",
    "        '''\n",
    "        # Budget - Reservation\n",
    "        WebDriverWait(driver, 5).until(\n",
    "            EC.presence_of_element_located((By.ID, 'PicLoc_value'))\n",
    "        ).click()\n",
    "        '''\n",
    "        \n",
    "        '''\n",
    "        # MBTA\n",
    "        time.sleep(2)\n",
    "        WebDriverWait(driver, 5).until(\n",
    "            EC.presence_of_element_located((By.XPATH, '//BODY/DIV[1]/DIV[2]/MAIN[1]/DIV[1]/DIV[1]/DIV[1]/DIV[2]/A[1]'))\n",
    "        ).click()\n",
    "        '''\n",
    "        \n",
    "        '''\n",
    "        # AC - My Bookings\n",
    "        time.sleep(2)\n",
    "        WebDriverWait(driver, 5).until(\n",
    "            EC.presence_of_element_located((By.ID, 'bkmg-tab-button-mngBook'))\n",
    "        ).click()\n",
    "        '''\n",
    "        \n",
    "        '''\n",
    "        # AC - Multi-city\n",
    "        time.sleep(2)\n",
    "        WebDriverWait(driver, 5).until(\n",
    "            EC.presence_of_element_located((By.ID, 'bkmgFlights_tripTypeSelector_M'))\n",
    "        ).click()\n",
    "        '''\n",
    "        \n",
    "    except:\n",
    "        print('timeout')\n",
    "\n",
    "\n",
    "def find_form():\n",
    "    return WebDriverWait(driver, 10).until(\n",
    "        EC.presence_of_element_located((\n",
    "            By.XPATH,\n",
    "            '//BODY/DIV[1]/DIV[1]/DIV[2]/DIV[3]/DIV[1]/DIV[2]/DIV[1]/DIV[1]'\n",
    "        ))\n",
    "    )\n",
    "\n",
    "\n",
    "def find_button():\n",
    "    return None"
   ]
  },
  {
   "cell_type": "code",
   "execution_count": 8,
   "id": "f32abfb0",
   "metadata": {},
   "outputs": [
    {
     "name": "stderr",
     "output_type": "stream",
     "text": [
      "skip module injection for FusedLlamaMLPForQuantizedModel not support integrate without triton yet.                                                                                   \n"
     ]
    }
   ],
   "source": [
    "from transformers import AutoTokenizer, pipeline, logging\n",
    "from auto_gptq import AutoGPTQForCausalLM, BaseQuantizeConfig\n",
    "\n",
    "def load_model_llama(model_type, use_triton=False):\n",
    "    if model_type == '70B':\n",
    "        model_name_or_path = \"TheBloke/Llama-2-70B-chat-GPTQ\"\n",
    "        model_basename = \"gptq_model-4bit--1g\"\n",
    "    elif model_type == '13B':\n",
    "        model_name_or_path = \"TheBloke/Llama-2-13B-chat-GPTQ\"\n",
    "        model_basename = \"gptq_model-4bit-128g\"\n",
    "    else:\n",
    "        raise ValueError('Invalid model_type. Choose either \"70B\" or \"13B\".')\n",
    "\n",
    "    tokenizer = AutoTokenizer.from_pretrained(model_name_or_path, use_fast=True, device_map=\"auto\")\n",
    "\n",
    "    model = AutoGPTQForCausalLM.from_quantized(model_name_or_path,\n",
    "                                               #model_basename=model_basename,\n",
    "                                               revision = \"main\",\n",
    "                                               inject_fused_attention=False,\n",
    "                                               use_safetensors=True,\n",
    "                                               trust_remote_code=False,\n",
    "                                               use_triton=use_triton,\n",
    "                                               quantize_config=None)\n",
    "    return tokenizer, model\n",
    "\n",
    "\n",
    "# Load the model - load_model_llama2_70b\n",
    "tokenizer, model = load_model_llama(\"70B\")"
   ]
  },
  {
   "cell_type": "code",
   "execution_count": 10,
   "id": "837ffb01",
   "metadata": {
    "ExecuteTime": {
     "end_time": "2023-07-28T04:34:32.897982Z",
     "start_time": "2023-07-28T04:34:28.240260Z"
    }
   },
   "outputs": [
    {
     "name": "stdout",
     "output_type": "stream",
     "text": [
      "timeout\n"
     ]
    }
   ],
   "source": [
    "driver = create_driver(HEADLESS)\n",
    "get_to_form(driver)"
   ]
  },
  {
   "cell_type": "code",
   "execution_count": 11,
   "id": "2812c532",
   "metadata": {
    "ExecuteTime": {
     "end_time": "2023-07-28T04:34:52.655971Z",
     "start_time": "2023-07-28T04:34:52.526430Z"
    }
   },
   "outputs": [],
   "source": [
    "form = find_form()"
   ]
  },
  {
   "cell_type": "code",
   "execution_count": 12,
   "id": "0daf200f",
   "metadata": {
    "ExecuteTime": {
     "end_time": "2023-07-28T04:34:58.983439Z",
     "start_time": "2023-07-28T04:34:58.878293Z"
    }
   },
   "outputs": [],
   "source": [
    "history_table = HistoryTable(\n",
    "    url=URL,\n",
    "    xpath=get_xpath(driver, form)\n",
    ")"
   ]
  },
  {
   "cell_type": "code",
   "execution_count": 13,
   "id": "b256fa79",
   "metadata": {
    "ExecuteTime": {
     "end_time": "2023-07-28T04:35:05.318273Z",
     "start_time": "2023-07-28T04:35:05.019524Z"
    }
   },
   "outputs": [],
   "source": [
    "for element in form.find_elements(By.TAG_NAME, 'input'):\n",
    "    try:\n",
    "        element.clear()\n",
    "    except:\n",
    "        pass"
   ]
  },
  {
   "cell_type": "markdown",
   "id": "948b49bc",
   "metadata": {},
   "source": [
    "# Processing"
   ]
  },
  {
   "cell_type": "code",
   "execution_count": 14,
   "id": "69dd1802",
   "metadata": {
    "ExecuteTime": {
     "end_time": "2023-07-28T04:35:24.297269Z",
     "start_time": "2023-07-28T04:35:11.426719Z"
    },
    "scrolled": false
   },
   "outputs": [
    {
     "name": "stderr",
     "output_type": "stream",
     "text": [
      "Computing transition probabilities: 100%|█████████████████████████████████████████████████████████████████████████████████████████████████████████| 20/20 [00:00<00:00, 16008.79it/s]\n",
      "Generating walks (CPU: 1): 100%|██████████| 50/50 [00:00<00:00, 17851.14it/s]\n",
      "Generating walks (CPU: 3): 100%|██████████| 50/50 [00:00<00:00, 17737.90it/s]\n",
      "Generating walks (CPU: 2): 100%|██████████| 50/50 [00:00<00:00, 17919.78it/s]\n",
      "Generating walks (CPU: 4): 100%|██████████| 50/50 [00:00<00:00, 17693.01it/s]\n",
      "100%|██████████████████████████████████████████████████████████████████████████████████████████████████████████████████████████████████████████████████| 1/1 [00:00<00:00,  3.41it/s]\n",
      "/home/webtesting/miniconda3/envs/llama2/lib/python3.10/site-packages/numpy/core/fromnumeric.py:3504: RuntimeWarning: Mean of empty slice.\n",
      "  return _methods._mean(a, axis=axis, dtype=dtype,\n",
      "/home/webtesting/miniconda3/envs/llama2/lib/python3.10/site-packages/numpy/core/_methods.py:129: RuntimeWarning: invalid value encountered in scalar divide\n",
      "  ret = ret.dtype.type(ret / rcount)\n",
      "/home/webtesting/miniconda3/envs/llama2/lib/python3.10/site-packages/numpy/core/_methods.py:206: RuntimeWarning: Degrees of freedom <= 0 for slice\n",
      "  ret = _var(a, axis=axis, dtype=dtype, out=out, ddof=ddof,\n",
      "/home/webtesting/miniconda3/envs/llama2/lib/python3.10/site-packages/numpy/core/_methods.py:163: RuntimeWarning: invalid value encountered in divide\n",
      "  arrmean = um.true_divide(arrmean, div, out=arrmean,\n",
      "/home/webtesting/miniconda3/envs/llama2/lib/python3.10/site-packages/numpy/core/_methods.py:198: RuntimeWarning: invalid value encountered in scalar divide\n",
      "  ret = ret.dtype.type(ret / rcount)\n"
     ]
    }
   ],
   "source": [
    "html = driver.find_element(By.TAG_NAME, 'body').get_attribute('outerHTML')\n",
    "relation_graph, input_groups = parse_form(\n",
    "    driver,\n",
    "    form,\n",
    "    TEXT_EMBEDDING_METHOD=TEXT_EMBEDDING_METHOD\n",
    ")"
   ]
  },
  {
   "cell_type": "markdown",
   "id": "59c1f6ee",
   "metadata": {},
   "source": [
    "# Generation"
   ]
  },
  {
   "cell_type": "code",
   "execution_count": 15,
   "id": "793e53ab",
   "metadata": {},
   "outputs": [],
   "source": [
    "try:\n",
    "    app_context = get_application_context(driver)\n",
    "except:\n",
    "    app_context = ''"
   ]
  },
  {
   "cell_type": "code",
   "execution_count": 21,
   "id": "5e26e293",
   "metadata": {
    "ExecuteTime": {
     "end_time": "2023-07-28T04:35:54.294789Z",
     "start_time": "2023-07-28T04:35:36.673922Z"
    },
    "scrolled": true
   },
   "outputs": [
    {
     "name": "stdout",
     "output_type": "stream",
     "text": [
      "cannot unpack non-iterable NoneType object\n"
     ]
    },
    {
     "name": "stderr",
     "output_type": "stream",
     "text": [
      "Traceback (most recent call last):\n",
      "  File \"/home/webtesting/webform-testing/method/ours/generation/constraints.py\", line 178, in generate_constraints_for_input_groups\n",
      "    value_table = generate_constraints_for_input_group(\n",
      "  File \"/home/webtesting/webform-testing/method/ours/generation/constraints.py\", line 144, in generate_constraints_for_input_group\n",
      "    field_name, constraints = generate_constraints_from_string(generated_constraints)\n",
      "  File \"/home/webtesting/webform-testing/method/ours/constraints/utils.py\", line 37, in generate_constraints_from_string\n",
      "    constraints = list(map(\n",
      "  File \"/home/webtesting/webform-testing/method/ours/constraints/factory.py\", line 41, in create\n",
      "    name, args = parse_function(rest)\n",
      "TypeError: cannot unpack non-iterable NoneType object\n"
     ]
    }
   ],
   "source": [
    "value_table = generate_constraints_for_input_groups(\n",
    "    input_groups,\n",
    "    app_context=app_context,\n",
    "    model=model,\n",
    "    tokenizer=tokenizer,\n",
    ")"
   ]
  },
  {
   "cell_type": "code",
   "execution_count": 17,
   "id": "9b7f0441",
   "metadata": {},
   "outputs": [],
   "source": [
    "value_table.print()"
   ]
  },
  {
   "cell_type": "code",
   "execution_count": 18,
   "id": "b16e1126",
   "metadata": {},
   "outputs": [],
   "source": [
    "value_table = generate_values_for_input_groups(\n",
    "    input_groups,\n",
    "    value_table,\n",
    "    app_context=app_context,\n",
    "    model=model,\n",
    "    tokenizer=tokenizer,\n",
    ")"
   ]
  },
  {
   "cell_type": "code",
   "execution_count": 19,
   "id": "36d47bdf",
   "metadata": {
    "ExecuteTime": {
     "end_time": "2023-07-28T04:02:00.880152Z",
     "start_time": "2023-07-28T04:01:58.593875Z"
    }
   },
   "outputs": [],
   "source": [
    "fill_form_with_value_table(driver, value_table, input_groups)"
   ]
  },
  {
   "cell_type": "code",
   "execution_count": 20,
   "id": "cb570a85",
   "metadata": {
    "ExecuteTime": {
     "end_time": "2023-07-27T22:33:55.819626Z",
     "start_time": "2023-07-27T22:33:50.304986Z"
    }
   },
   "outputs": [
    {
     "ename": "IndexError",
     "evalue": "list index out of range",
     "output_type": "error",
     "traceback": [
      "\u001b[0;31m---------------------------------------------------------------------------\u001b[0m",
      "\u001b[0;31mIndexError\u001b[0m                                Traceback (most recent call last)",
      "Cell \u001b[0;32mIn[20], line 1\u001b[0m\n\u001b[0;32m----> 1\u001b[0m \u001b[43msubmit_form\u001b[49m\u001b[43m(\u001b[49m\u001b[43mdriver\u001b[49m\u001b[43m,\u001b[49m\u001b[43m \u001b[49m\u001b[43minput_groups\u001b[49m\u001b[38;5;241;43m=\u001b[39;49m\u001b[43minput_groups\u001b[49m\u001b[43m,\u001b[49m\u001b[43m \u001b[49m\u001b[43mexplicit_submit\u001b[49m\u001b[38;5;241;43m=\u001b[39;49m\u001b[43mfind_button\u001b[49m\u001b[43m(\u001b[49m\u001b[43m)\u001b[49m\u001b[43m)\u001b[49m\n",
      "File \u001b[0;32m~/webform-testing/method/ours/generation/utils.py:106\u001b[0m, in \u001b[0;36msubmit_form\u001b[0;34m(driver, input_groups, explicit_submit)\u001b[0m\n\u001b[1;32m    104\u001b[0m     submit \u001b[38;5;241m=\u001b[39m explicit_submit\n\u001b[1;32m    105\u001b[0m \u001b[38;5;28;01melse\u001b[39;00m:\n\u001b[0;32m--> 106\u001b[0m     submit \u001b[38;5;241m=\u001b[39m \u001b[38;5;28;43mlist\u001b[39;49m\u001b[43m(\u001b[49m\u001b[38;5;28;43mfilter\u001b[39;49m\u001b[43m(\u001b[49m\n\u001b[1;32m    107\u001b[0m \u001b[43m        \u001b[49m\u001b[38;5;28;43;01mlambda\u001b[39;49;00m\u001b[43m \u001b[49m\u001b[43mx\u001b[49m\u001b[43m:\u001b[49m\u001b[43m \u001b[49m\u001b[38;5;124;43m'\u001b[39;49m\u001b[38;5;124;43mtype\u001b[39;49m\u001b[38;5;124;43m'\u001b[39;49m\u001b[43m \u001b[49m\u001b[38;5;129;43;01min\u001b[39;49;00m\u001b[43m \u001b[49m\u001b[43mx\u001b[49m\u001b[38;5;241;43m.\u001b[39;49m\u001b[43mnode\u001b[49m\u001b[38;5;241;43m.\u001b[39;49m\u001b[43melement\u001b[49m\u001b[38;5;241;43m.\u001b[39;49m\u001b[43mattrs\u001b[49m\u001b[43m \u001b[49m\u001b[38;5;129;43;01mand\u001b[39;49;00m\u001b[43m \u001b[49m\u001b[43mx\u001b[49m\u001b[38;5;241;43m.\u001b[39;49m\u001b[43mnode\u001b[49m\u001b[38;5;241;43m.\u001b[39;49m\u001b[43melement\u001b[49m\u001b[38;5;241;43m.\u001b[39;49m\u001b[43mattrs\u001b[49m\u001b[43m[\u001b[49m\u001b[38;5;124;43m'\u001b[39;49m\u001b[38;5;124;43mtype\u001b[39;49m\u001b[38;5;124;43m'\u001b[39;49m\u001b[43m]\u001b[49m\u001b[43m \u001b[49m\u001b[38;5;241;43m==\u001b[39;49m\u001b[43m \u001b[49m\u001b[38;5;124;43m'\u001b[39;49m\u001b[38;5;124;43msubmit\u001b[39;49m\u001b[38;5;124;43m'\u001b[39;49m\u001b[43m,\u001b[49m\n\u001b[1;32m    108\u001b[0m \u001b[43m        \u001b[49m\u001b[43minput_groups\u001b[49m\n\u001b[1;32m    109\u001b[0m \u001b[43m    \u001b[49m\u001b[43m)\u001b[49m\u001b[43m)\u001b[49m\u001b[43m[\u001b[49m\u001b[38;5;241;43m0\u001b[39;49m\u001b[43m]\u001b[49m\n\u001b[1;32m    111\u001b[0m \u001b[38;5;28;01mfor\u001b[39;00m i \u001b[38;5;129;01min\u001b[39;00m \u001b[38;5;28mrange\u001b[39m(\u001b[38;5;241m5\u001b[39m):\n\u001b[1;32m    112\u001b[0m     \u001b[38;5;28;01mtry\u001b[39;00m:\n",
      "\u001b[0;31mIndexError\u001b[0m: list index out of range"
     ]
    }
   ],
   "source": [
    "submit_form(driver, input_groups=input_groups, explicit_submit=find_button())"
   ]
  },
  {
   "cell_type": "code",
   "execution_count": null,
   "id": "1d51a2b4",
   "metadata": {
    "ExecuteTime": {
     "end_time": "2023-07-27T22:34:00.572312Z",
     "start_time": "2023-07-27T22:34:00.042490Z"
    }
   },
   "outputs": [],
   "source": [
    "new_html = driver.find_element(By.TAG_NAME, 'body').get_attribute('outerHTML')\n",
    "global_feedback = get_global_feedback(html, new_html, remove_form_children=False)"
   ]
  },
  {
   "cell_type": "code",
   "execution_count": null,
   "id": "bbc69d1c",
   "metadata": {
    "ExecuteTime": {
     "end_time": "2023-07-27T22:34:03.483394Z",
     "start_time": "2023-07-27T22:34:03.372149Z"
    }
   },
   "outputs": [],
   "source": [
    "history_table.add(\n",
    "    value_table.get_values_dict(),\n",
    "    'base',\n",
    "    global_feedback,\n",
    "    driver.current_url\n",
    ")"
   ]
  },
  {
   "cell_type": "code",
   "execution_count": null,
   "id": "4f2b22cb",
   "metadata": {},
   "outputs": [],
   "source": []
  }
 ],
 "metadata": {
  "kernelspec": {
   "display_name": "Python 3 (ipykernel)",
   "language": "python",
   "name": "python3"
  },
  "language_info": {
   "codemirror_mode": {
    "name": "ipython",
    "version": 3
   },
   "file_extension": ".py",
   "mimetype": "text/x-python",
   "name": "python",
   "nbconvert_exporter": "python",
   "pygments_lexer": "ipython3",
   "version": "3.10.9"
  },
  "toc": {
   "base_numbering": 1,
   "nav_menu": {},
   "number_sections": true,
   "sideBar": true,
   "skip_h1_title": false,
   "title_cell": "Table of Contents",
   "title_sidebar": "Contents",
   "toc_cell": false,
   "toc_position": {},
   "toc_section_display": true,
   "toc_window_display": false
  },
  "varInspector": {
   "cols": {
    "lenName": 16,
    "lenType": 16,
    "lenVar": 40
   },
   "kernels_config": {
    "python": {
     "delete_cmd_postfix": "",
     "delete_cmd_prefix": "del ",
     "library": "var_list.py",
     "varRefreshCmd": "print(var_dic_list())"
    },
    "r": {
     "delete_cmd_postfix": ") ",
     "delete_cmd_prefix": "rm(",
     "library": "var_list.r",
     "varRefreshCmd": "cat(var_dic_list()) "
    }
   },
   "types_to_exclude": [
    "module",
    "function",
    "builtin_function_or_method",
    "instance",
    "_Feature"
   ],
   "window_display": false
  }
 },
 "nbformat": 4,
 "nbformat_minor": 5
}
