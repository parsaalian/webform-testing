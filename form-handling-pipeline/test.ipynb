{
 "cells": [
  {
   "cell_type": "code",
   "execution_count": 1,
   "id": "9154febb",
   "metadata": {
    "ExecuteTime": {
     "end_time": "2023-04-07T19:53:05.733961Z",
     "start_time": "2023-04-07T19:53:05.711162Z"
    }
   },
   "outputs": [],
   "source": [
    "%load_ext autoreload\n",
    "%autoreload 2"
   ]
  },
  {
   "cell_type": "code",
   "execution_count": 2,
   "id": "c31664be",
   "metadata": {
    "ExecuteTime": {
     "end_time": "2023-04-07T19:53:07.017875Z",
     "start_time": "2023-04-07T19:53:06.129850Z"
    }
   },
   "outputs": [],
   "source": [
    "import os\n",
    "import time\n",
    "import argparse\n",
    "from dotenv import load_dotenv\n",
    "\n",
    "import openai\n",
    "\n",
    "from selenium import webdriver\n",
    "from selenium.webdriver.chrome.service import Service\n",
    "from webdriver_manager.chrome import ChromeDriverManager\n",
    "from selenium.webdriver.common.by import By\n",
    "\n",
    "from page_transformer import driver_to_doc, simplify_doc"
   ]
  },
  {
   "cell_type": "code",
   "execution_count": 3,
   "id": "a1261f8b",
   "metadata": {
    "ExecuteTime": {
     "end_time": "2023-04-07T19:53:07.413664Z",
     "start_time": "2023-04-07T19:53:07.388529Z"
    }
   },
   "outputs": [],
   "source": [
    "URL = \"http://localhost:8080\""
   ]
  },
  {
   "cell_type": "code",
   "execution_count": 4,
   "id": "0942d73a",
   "metadata": {
    "ExecuteTime": {
     "end_time": "2023-04-07T19:53:10.413881Z",
     "start_time": "2023-04-07T19:53:07.977097Z"
    }
   },
   "outputs": [],
   "source": [
    "driver = webdriver.Chrome(service=Service(ChromeDriverManager().install()))\n",
    "driver.get(URL)"
   ]
  },
  {
   "cell_type": "code",
   "execution_count": 5,
   "id": "bef4cdb8",
   "metadata": {
    "ExecuteTime": {
     "end_time": "2023-04-07T19:53:11.434861Z",
     "start_time": "2023-04-07T19:53:11.307019Z"
    }
   },
   "outputs": [],
   "source": [
    "driver.find_element(By.CLASS_NAME, 'navbar-nav').find_element(By.CLASS_NAME, 'dropdown').click()\n",
    "driver.find_element(By.CLASS_NAME, 'navbar-nav') \\\n",
    "        .find_element(By.CLASS_NAME, 'dropdown') \\\n",
    "        .find_element(By.TAG_NAME, 'ul') \\\n",
    "        .find_element(By.TAG_NAME, 'li').click()"
   ]
  },
  {
   "cell_type": "code",
   "execution_count": 21,
   "id": "951f1f30",
   "metadata": {
    "ExecuteTime": {
     "end_time": "2023-04-07T20:01:01.077824Z",
     "start_time": "2023-04-07T20:01:00.017612Z"
    }
   },
   "outputs": [],
   "source": [
    "doc = driver_to_doc(driver)\n",
    "doc = simplify_doc(doc)"
   ]
  },
  {
   "cell_type": "code",
   "execution_count": null,
   "id": "e7f97b7c",
   "metadata": {},
   "outputs": [],
   "source": []
  },
  {
   "cell_type": "code",
   "execution_count": null,
   "id": "550aec95",
   "metadata": {},
   "outputs": [],
   "source": []
  },
  {
   "cell_type": "code",
   "execution_count": null,
   "id": "75e44cd7",
   "metadata": {},
   "outputs": [],
   "source": []
  },
  {
   "cell_type": "code",
   "execution_count": null,
   "id": "0f676d6a",
   "metadata": {},
   "outputs": [],
   "source": []
  },
  {
   "cell_type": "code",
   "execution_count": 6,
   "id": "5792997b",
   "metadata": {
    "ExecuteTime": {
     "end_time": "2023-04-07T19:47:19.921053Z",
     "start_time": "2023-04-07T19:47:18.843200Z"
    }
   },
   "outputs": [],
   "source": [
    "driver.quit()"
   ]
  },
  {
   "cell_type": "code",
   "execution_count": null,
   "id": "aaccb428",
   "metadata": {},
   "outputs": [],
   "source": []
  }
 ],
 "metadata": {
  "kernelspec": {
   "display_name": "Python 3 (ipykernel)",
   "language": "python",
   "name": "python3"
  },
  "language_info": {
   "codemirror_mode": {
    "name": "ipython",
    "version": 3
   },
   "file_extension": ".py",
   "mimetype": "text/x-python",
   "name": "python",
   "nbconvert_exporter": "python",
   "pygments_lexer": "ipython3",
   "version": "3.10.9"
  },
  "varInspector": {
   "cols": {
    "lenName": 16,
    "lenType": 16,
    "lenVar": 40
   },
   "kernels_config": {
    "python": {
     "delete_cmd_postfix": "",
     "delete_cmd_prefix": "del ",
     "library": "var_list.py",
     "varRefreshCmd": "print(var_dic_list())"
    },
    "r": {
     "delete_cmd_postfix": ") ",
     "delete_cmd_prefix": "rm(",
     "library": "var_list.r",
     "varRefreshCmd": "cat(var_dic_list()) "
    }
   },
   "types_to_exclude": [
    "module",
    "function",
    "builtin_function_or_method",
    "instance",
    "_Feature"
   ],
   "window_display": false
  }
 },
 "nbformat": 4,
 "nbformat_minor": 5
}
