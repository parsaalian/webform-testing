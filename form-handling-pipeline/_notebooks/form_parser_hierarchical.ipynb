{
 "cells": [
  {
   "cell_type": "code",
   "execution_count": 115,
   "id": "b629de54",
   "metadata": {
    "ExecuteTime": {
     "end_time": "2023-04-13T19:00:22.239838Z",
     "start_time": "2023-04-13T19:00:22.236536Z"
    }
   },
   "outputs": [],
   "source": [
    "import re\n",
    "import json\n",
    "from bs4 import BeautifulSoup as bs, NavigableString, Comment, Script\n",
    "from selenium import webdriver\n",
    "from selenium.webdriver.chrome.service import Service\n",
    "from webdriver_manager.chrome import ChromeDriverManager\n",
    "from selenium.webdriver.common.by import By"
   ]
  },
  {
   "cell_type": "markdown",
   "id": "6e35108f",
   "metadata": {},
   "source": [
    "# Initialize and Read"
   ]
  },
  {
   "cell_type": "code",
   "execution_count": 2,
   "id": "648aff65",
   "metadata": {
    "ExecuteTime": {
     "end_time": "2023-04-13T17:52:09.836184Z",
     "start_time": "2023-04-13T17:52:07.924506Z"
    }
   },
   "outputs": [],
   "source": [
    "driver = webdriver.Chrome(service=Service(ChromeDriverManager().install()))"
   ]
  },
  {
   "cell_type": "code",
   "execution_count": 107,
   "id": "f52447d9",
   "metadata": {
    "ExecuteTime": {
     "end_time": "2023-04-13T18:59:43.162689Z",
     "start_time": "2023-04-13T18:59:42.379878Z"
    }
   },
   "outputs": [],
   "source": [
    "# URL = \"https://ant.design/components/form#register\"\n",
    "URL = \"https://www.amazon.ca/ap/signin?openid.pape.max_auth_age=0&openid.return_to=https%3A%2F%2Fwww.amazon.ca%2F%3Fref_%3Dnav_ya_signin&openid.identity=http%3A%2F%2Fspecs.openid.net%2Fauth%2F2.0%2Fidentifier_select&openid.assoc_handle=caflex&openid.mode=checkid_setup&openid.claimed_id=http%3A%2F%2Fspecs.openid.net%2Fauth%2F2.0%2Fidentifier_select&openid.ns=http%3A%2F%2Fspecs.openid.net%2Fauth%2F2.0&\"\n",
    "driver.get(URL)\n"
   ]
  },
  {
   "cell_type": "code",
   "execution_count": 108,
   "id": "c66ddf0f",
   "metadata": {
    "ExecuteTime": {
     "end_time": "2023-04-13T18:59:48.143861Z",
     "start_time": "2023-04-13T18:59:48.129971Z"
    }
   },
   "outputs": [],
   "source": [
    "# form = driver.find_element(By.ID, 'register')\n",
    "form = driver.find_elements(By.TAG_NAME, 'form')[0]"
   ]
  },
  {
   "cell_type": "code",
   "execution_count": 109,
   "id": "d2fca40f",
   "metadata": {
    "ExecuteTime": {
     "end_time": "2023-04-13T18:59:49.204607Z",
     "start_time": "2023-04-13T18:59:49.186020Z"
    }
   },
   "outputs": [],
   "source": [
    "doc = bs(form.get_attribute('outerHTML'), features='html.parser')"
   ]
  },
  {
   "cell_type": "markdown",
   "id": "8700bd7f",
   "metadata": {},
   "source": [
    "# Parse Tree"
   ]
  },
  {
   "cell_type": "code",
   "execution_count": 126,
   "id": "804bbc5d",
   "metadata": {
    "ExecuteTime": {
     "end_time": "2023-04-13T19:06:22.447959Z",
     "start_time": "2023-04-13T19:06:22.438857Z"
    }
   },
   "outputs": [],
   "source": [
    "IGNORE_ATTRIBUTES = r'class|aria-\\S*|router|\\_ng\\S*'\n",
    "IGNORE_ATTRIBUTES = r''\n",
    "IGNORE_TAGS = [\n",
    "    'path', 'svg',\n",
    "]\n",
    "KEEP_TAGS = ['label']\n",
    "\n",
    "\n",
    "def dfs_html_tree(root):\n",
    "    global IGNORE_ATTRIBUTES, IGNORE_TAGS, KEEP_TAGS\n",
    "    \n",
    "    tag_name = root.name\n",
    "    if tag_name in IGNORE_TAGS or type(root) == Comment or type(root) == Script:\n",
    "        return None\n",
    "    \n",
    "    if type(root) == NavigableString:\n",
    "        return root.text.strip()\n",
    "    children = root.contents\n",
    "    \n",
    "    mapped_attrs = {\n",
    "        x: root.attrs[x] for x in root.attrs if not re.match(IGNORE_ATTRIBUTES, x)\n",
    "    }\n",
    "    \n",
    "    if len(children) == 0 or (len(children) == 1 and type(children[0]) == NavigableString):\n",
    "        content = \"\" if len(children) == 0 else children[0].text\n",
    "        return {\n",
    "            \"tag\": tag_name,\n",
    "            \"attributes\": root.attrs,\n",
    "            \"content\": content\n",
    "        }\n",
    "    else:\n",
    "        children = list(map(\n",
    "            lambda child: dfs_html_tree(child),\n",
    "            children\n",
    "        ))\n",
    "        children = list(filter(lambda x: x is not None and len(x) > 0, children))\n",
    "        children = list(map(\n",
    "            lambda child: child if type(child) == dict or len(child) > 1 else child[0],\n",
    "            children\n",
    "        ))\n",
    "        \n",
    "        if tag_name in KEEP_TAGS:\n",
    "            return {\n",
    "                \"tag\": tag_name,\n",
    "                \"attributes\": root.attrs,\n",
    "                \"content\": children if len(children) > 1 or type(children[0]) != str else children[0]\n",
    "            }\n",
    "        \n",
    "        return children\n",
    "\n",
    "\n",
    "parsed = dfs_html_tree(doc.contents[0])"
   ]
  },
  {
   "cell_type": "markdown",
   "id": "d9ded4e3",
   "metadata": {},
   "source": [
    "# Remove Hidden Inputs"
   ]
  },
  {
   "cell_type": "code",
   "execution_count": null,
   "id": "b3ab5608",
   "metadata": {},
   "outputs": [],
   "source": [
    "def dfs_remove_hidden_inputs(root):\n",
    "    if type(root) == dict and \"type\" in root[\"attributes\"] and root[\"attributes\"][\"type\"] == \"hidden\":\n",
    "        return None\n",
    "    elif type(root) == list:\n",
    "        mapped = list(map(dfs_remove_hidden_inputs, root))\n",
    "        mapped = list(filter(lambda x: x is not None, mapped))\n",
    "        return mapped\n",
    "    else:\n",
    "        return root"
   ]
  },
  {
   "cell_type": "code",
   "execution_count": null,
   "id": "aa2befbd",
   "metadata": {},
   "outputs": [],
   "source": []
  },
  {
   "cell_type": "code",
   "execution_count": null,
   "id": "2f691a3d",
   "metadata": {},
   "outputs": [],
   "source": []
  },
  {
   "cell_type": "code",
   "execution_count": 124,
   "id": "6471b8a4",
   "metadata": {
    "ExecuteTime": {
     "end_time": "2023-04-13T19:04:31.810930Z",
     "start_time": "2023-04-13T19:04:31.807020Z"
    }
   },
   "outputs": [],
   "source": [
    "with open('../parsed.json', 'w') as f:\n",
    "    json.dump(parsed, f)"
   ]
  },
  {
   "cell_type": "code",
   "execution_count": null,
   "id": "295632c7",
   "metadata": {},
   "outputs": [],
   "source": []
  }
 ],
 "metadata": {
  "kernelspec": {
   "display_name": "Python 3 (ipykernel)",
   "language": "python",
   "name": "python3"
  },
  "language_info": {
   "codemirror_mode": {
    "name": "ipython",
    "version": 3
   },
   "file_extension": ".py",
   "mimetype": "text/x-python",
   "name": "python",
   "nbconvert_exporter": "python",
   "pygments_lexer": "ipython3",
   "version": "3.10.9"
  },
  "toc": {
   "base_numbering": 1,
   "nav_menu": {},
   "number_sections": true,
   "sideBar": true,
   "skip_h1_title": false,
   "title_cell": "Table of Contents",
   "title_sidebar": "Contents",
   "toc_cell": false,
   "toc_position": {},
   "toc_section_display": true,
   "toc_window_display": false
  },
  "varInspector": {
   "cols": {
    "lenName": 16,
    "lenType": 16,
    "lenVar": 40
   },
   "kernels_config": {
    "python": {
     "delete_cmd_postfix": "",
     "delete_cmd_prefix": "del ",
     "library": "var_list.py",
     "varRefreshCmd": "print(var_dic_list())"
    },
    "r": {
     "delete_cmd_postfix": ") ",
     "delete_cmd_prefix": "rm(",
     "library": "var_list.r",
     "varRefreshCmd": "cat(var_dic_list()) "
    }
   },
   "types_to_exclude": [
    "module",
    "function",
    "builtin_function_or_method",
    "instance",
    "_Feature"
   ],
   "window_display": false
  }
 },
 "nbformat": 4,
 "nbformat_minor": 5
}
