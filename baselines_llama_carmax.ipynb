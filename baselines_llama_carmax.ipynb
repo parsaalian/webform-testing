{
 "cells": [
  {
   "cell_type": "code",
   "execution_count": 1,
   "id": "806f75bb",
   "metadata": {
    "ExecuteTime": {
     "end_time": "2023-07-27T22:29:57.552936Z",
     "start_time": "2023-07-27T22:29:56.099071Z"
    }
   },
   "outputs": [],
   "source": [
    "%load_ext autoreload\n",
    "%autoreload 2\n",
    "\n",
    "\n",
    "import os\n",
    "import time\n",
    "import copy\n",
    "import json\n",
    "import openai\n",
    "from dotenv import load_dotenv\n",
    "\n",
    "from bs4 import BeautifulSoup as bs\n",
    "from selenium.webdriver.common.by import By\n",
    "from selenium.webdriver.support.ui import WebDriverWait\n",
    "from selenium.webdriver.support import expected_conditions as EC\n",
    "\n",
    "from method.models import generate_random_values, generate_static_values, generate_llm_values, generate_llm_values_llama\n",
    "from method.ours.utils import create_driver, get_xpath, interact_with_input\n",
    "from method.ours.history import HistoryTable\n",
    "from method.ours.feedback import get_global_feedback"
   ]
  },
  {
   "cell_type": "code",
   "execution_count": 2,
   "id": "b8407538",
   "metadata": {
    "ExecuteTime": {
     "end_time": "2023-07-27T22:30:03.813204Z",
     "start_time": "2023-07-27T22:30:03.743291Z"
    }
   },
   "outputs": [],
   "source": [
    "load_dotenv()\n",
    "openai.api_key = os.getenv(\"OPENAI_API_KEY\")\n",
    "\n",
    "# Global Variables\n",
    "HEADLESS = False\n",
    "TEXT_EMBEDDING_METHOD = 'ADA' # ['ADA', 'WORD2VEC', 'SPACY']\n",
    "GRAPH_EMBEDDING_METHOD = 'NODE2VEC' # ['NODE2VEC', 'GCN']\n",
    "\n",
    "# URL = 'https://www.ups.com/ca/en/Home.page'\n",
    "# 'https://www.healthgrades.com/find-a-doctor'\n",
    "# 'https://www.babycenter.com/child-height-predictor'\n",
    "# 'https://www.babycenter.com/pregnancy-weight-gain-estimator'\n",
    "# 'https://www.yelp.com/'\n",
    "# URL = 'https://www.aircanada.com/ca/en/aco/home.html'\n",
    "# 'https://app.invoicing.co/#/register'\n",
    "# 'http://localhost:8080/1/common/items/create'\n",
    "# 'http://localhost:3000/default-channel/en-US/account/register/'\n",
    "# 'http://localhost:9000/dashboard/discounts/sales/add'\n",
    "# 'http://localhost:9000/dashboard/customers/add'\n",
    "# 'https://www.mbta.com/'\n",
    "# 'https://www.united.com/en/us'\n",
    "# 'https://www.uhaul.com/Truck-Rentals/'\n",
    "\n",
    "# URL = 'https://seatgeek.ca/'\n",
    "# 'https://www.stubhub.ca/'\n",
    "# 'https://www.thetrainline.com/en-us'\n",
    "# 'https://resy.com/'\n",
    "# 'https://www.aa.com/homePage.do' \n",
    "# 'https://www.jetblue.com/'\n",
    "# 'https://www.united.com/en/us'\n",
    "# 'https://www.tripadvisor.ca/'\n",
    "# 'https://www.webmd.com/drugs/2/index'\n",
    "# 'https://www.thumbtack.com/'\n",
    "# 'https://www.rei.com/'\n",
    "# 'https://www.carmax.com/'\n",
    "# 'https://www.amazon.ca/'\n",
    "# URL = 'https://www.macys.com/'\n",
    "URL = 'https://www.carmax.com/'\n",
    "\n",
    "\n",
    "def get_to_form(driver):\n",
    "    try:\n",
    "        driver.get(URL)\n",
    "    except:\n",
    "        print('timeout')\n",
    "    \n",
    "    # UPS - Quote\n",
    "    #time.sleep(2)\n",
    "    #WebDriverWait(driver, 10).until(\n",
    "    #    EC.presence_of_element_located((By.ID, 'tabs_0_tab_1'))\n",
    "    #).click()\n",
    "    \n",
    "    # Carmax\n",
    "    time.sleep(2)\n",
    "    WebDriverWait(driver, 10).until(\n",
    "        EC.presence_of_element_located((\n",
    "            By.XPATH,\n",
    "            '//BODY/DIV[1]/KMX-GLOBAL-HEADER[1]/HEADER[1]/SECTION[1]/FORM[1]')\n",
    "        )\n",
    "    ).click()  \n",
    "    \n",
    "    '''\n",
    "    # Budget - Reservation\n",
    "    WebDriverWait(driver, 5).until(\n",
    "        EC.presence_of_element_located((By.ID, 'PicLoc_value'))\n",
    "    ).click()\n",
    "    '''\n",
    "    \n",
    "    \n",
    "    '''\n",
    "    # AC - My Bookings\n",
    "    time.sleep(2)\n",
    "    WebDriverWait(driver, 5).until(\n",
    "        EC.presence_of_element_located((By.ID, 'bkmg-tab-button-mngBook'))\n",
    "    ).click()\n",
    "    '''\n",
    "    \n",
    "    '''\n",
    "    # AC - Multi-city\n",
    "    time.sleep(2)\n",
    "    WebDriverWait(driver, 5).until(\n",
    "        EC.presence_of_element_located((By.ID, 'bkmgFlights_tripTypeSelector_M'))\n",
    "    ).click()\n",
    "    '''\n",
    "    \n",
    "    '''\n",
    "    # Akaunting\n",
    "    try:\n",
    "        time.sleep(2)\n",
    "        WebDriverWait(driver, 10).until(\n",
    "            EC.presence_of_element_located((\n",
    "                By.ID,\n",
    "                'email')\n",
    "            )\n",
    "        ).send_keys('me@company.com')\n",
    "        WebDriverWait(driver, 10).until(\n",
    "            EC.presence_of_element_located((\n",
    "                By.ID,\n",
    "                'password')\n",
    "            )\n",
    "        ).send_keys('password')\n",
    "        WebDriverWait(driver, 10).until(\n",
    "            EC.presence_of_element_located((\n",
    "                By.XPATH,\n",
    "                '//*[@type=\"submit\"]')\n",
    "            )\n",
    "        ).click()\n",
    "    except:\n",
    "        pass\n",
    "    '''\n",
    "    \n",
    "    '''\n",
    "    # Saleor\n",
    "    try:\n",
    "        time.sleep(2)\n",
    "        WebDriverWait(driver, 10).until(\n",
    "            EC.presence_of_element_located((\n",
    "                By.XPATH,\n",
    "                '//BODY/DIV[1]/MAIN[1]/DIV[1]/DIV[1]/DIV[1]/FORM[1]/DIV[2]/DIV[1]/INPUT[1]')\n",
    "            )\n",
    "        ).send_keys('admin@example.com')\n",
    "        WebDriverWait(driver, 10).until(\n",
    "            EC.presence_of_element_located((\n",
    "                By.XPATH,\n",
    "                '//BODY/DIV[1]/MAIN[1]/DIV[1]/DIV[1]/DIV[1]/FORM[1]/DIV[4]/DIV[1]/DIV[1]/INPUT[1]')\n",
    "            )\n",
    "        ).send_keys('admin')\n",
    "        WebDriverWait(driver, 10).until(\n",
    "            EC.presence_of_element_located((\n",
    "                By.XPATH,\n",
    "                '//BODY/DIV[1]/MAIN[1]/DIV[1]/DIV[1]/DIV[1]/FORM[1]/DIV[5]/BUTTON[1]')\n",
    "            )\n",
    "        ).click()\n",
    "    except:\n",
    "        pass\n",
    "    \n",
    "    WebDriverWait(driver, 10).until(\n",
    "        EC.presence_of_element_located((\n",
    "            By.XPATH,\n",
    "            '//BODY/DIV[1]/MAIN[1]/DIV[1]/DIV[2]/MAIN[1]/FORM[1]/DIV[1]/DIV[2]/DIV[4]/DIV[2]/LABEL[1]/SPAN[1]/SPAN[1]/INPUT[1]')\n",
    "        )\n",
    "    ).click()\n",
    "    '''\n",
    "    \n",
    "    '''\n",
    "    # Saleor\n",
    "    try:\n",
    "        time.sleep(2)\n",
    "        WebDriverWait(driver, 10).until(\n",
    "            EC.presence_of_element_located((\n",
    "                By.XPATH,\n",
    "                '//BODY/DIV[1]/MAIN[1]/DIV[1]/DIV[1]/DIV[1]/FORM[1]/DIV[2]/DIV[1]/INPUT[1]')\n",
    "            )\n",
    "        ).send_keys('admin@example.com')\n",
    "        WebDriverWait(driver, 10).until(\n",
    "            EC.presence_of_element_located((\n",
    "                By.XPATH,\n",
    "                '//BODY/DIV[1]/MAIN[1]/DIV[1]/DIV[1]/DIV[1]/FORM[1]/DIV[4]/DIV[1]/DIV[1]/INPUT[1]')\n",
    "            )\n",
    "        ).send_keys('admin')\n",
    "        WebDriverWait(driver, 10).until(\n",
    "            EC.presence_of_element_located((\n",
    "                By.XPATH,\n",
    "                '//BODY/DIV[1]/MAIN[1]/DIV[1]/DIV[1]/DIV[1]/FORM[1]/DIV[5]/BUTTON[1]')\n",
    "            )\n",
    "        ).click()\n",
    "    except:\n",
    "        pass\n",
    "    '''\n",
    "\n",
    "    '''\n",
    "    time.sleep(2)\n",
    "    WebDriverWait(driver, 10).until(\n",
    "        EC.presence_of_element_located((\n",
    "            By.XPATH,\n",
    "            '//BODY/DIV[1]/DIV[2]/MAIN[1]/DIV[1]/DIV[1]/DIV[1]/DIV[2]')\n",
    "        )\n",
    "    ).click()\n",
    "    '''\n",
    "    \n",
    "    '''\n",
    "    # Pet Clinic - Add Owner\n",
    "    time.sleep(2)\n",
    "    WebDriverWait(driver, 10).until(\n",
    "        EC.presence_of_element_located((\n",
    "            By.XPATH,\n",
    "            '//BODY/APP-ROOT[1]/DIV[1]/NAV[1]/DIV[1]/UL[1]/LI[2]')\n",
    "        )\n",
    "    ).click()\n",
    "    WebDriverWait(driver, 10).until(\n",
    "        EC.presence_of_element_located((\n",
    "            By.XPATH,\n",
    "            '//BODY/APP-ROOT[1]/DIV[1]/NAV[1]/DIV[1]/UL[1]/LI[2]/UL[1]/LI[2]')\n",
    "        )\n",
    "    ).click()\n",
    "    '''\n",
    "\n",
    "\n",
    "def find_form():\n",
    "    return WebDriverWait(driver, 10).until(\n",
    "        EC.presence_of_element_located((\n",
    "            By.XPATH,\n",
    "            '//BODY/DIV[1]/KMX-GLOBAL-HEADER[1]/HEADER[1]/SECTION[1]/FORM[1]'\n",
    "        ))\n",
    "    )\n",
    "\n",
    "def find_button():\n",
    "    '''\n",
    "    return find_form().find_element(\n",
    "        By.XPATH,\n",
    "        '/html/body/div[1]/kmx-global-header/header/section/form/fieldset/div/div[1]/button'\n",
    "    )\n",
    "    '''\n",
    "    # return driver.find_elements(By.TAG_NAME, 'button')[10]\n",
    "    return None\n"
   ]
  },
  {
   "cell_type": "code",
   "execution_count": 3,
   "id": "cc0e906c",
   "metadata": {
    "ExecuteTime": {
     "end_time": "2023-07-27T22:30:04.064728Z",
     "start_time": "2023-07-27T22:30:04.016575Z"
    }
   },
   "outputs": [],
   "source": [
    "METHOD = 'llama'"
   ]
  },
  {
   "cell_type": "code",
   "execution_count": 4,
   "id": "e8ec6672",
   "metadata": {
    "ExecuteTime": {
     "end_time": "2023-07-27T22:30:13.696699Z",
     "start_time": "2023-07-27T22:30:04.577360Z"
    }
   },
   "outputs": [],
   "source": [
    "driver = create_driver(HEADLESS)\n",
    "get_to_form(driver)"
   ]
  },
  {
   "cell_type": "code",
   "execution_count": 5,
   "id": "96cabf9e",
   "metadata": {
    "ExecuteTime": {
     "end_time": "2023-07-27T22:30:15.639830Z",
     "start_time": "2023-07-27T22:30:15.381049Z"
    }
   },
   "outputs": [],
   "source": [
    "html = driver.find_element(By.TAG_NAME, 'html').get_attribute('outerHTML')\n",
    "form = find_form()\n",
    "form_xpath = get_xpath(driver, form)\n",
    "\n",
    "inputs = form.find_elements(\n",
    "    By.XPATH,\n",
    "    f'{form_xpath}//input | {form_xpath}//textarea | {form_xpath}//select'\n",
    ")\n",
    "\n",
    "inputs = list(filter(\n",
    "    lambda x: x.get_attribute('type') != 'hidden' and x.get_attribute('hidden') != 'true',\n",
    "    inputs\n",
    "))"
   ]
  },
  {
   "cell_type": "code",
   "execution_count": 6,
   "id": "668d49d1",
   "metadata": {
    "ExecuteTime": {
     "end_time": "2023-07-27T22:30:17.361825Z",
     "start_time": "2023-07-27T22:30:17.307755Z"
    }
   },
   "outputs": [],
   "source": [
    "history_table = HistoryTable(\n",
    "    url=URL,\n",
    "    xpath=form_xpath\n",
    ")"
   ]
  },
  {
   "cell_type": "code",
   "execution_count": 7,
   "id": "026d92c8",
   "metadata": {},
   "outputs": [
    {
     "name": "stderr",
     "output_type": "stream",
     "text": [
      "/home/webtesting/.local/lib/python3.10/site-packages/tqdm/auto.py:21: TqdmWarning: IProgress not found. Please update jupyter and ipywidgets. See https://ipywidgets.readthedocs.io/en/stable/user_install.html\n",
      "  from .autonotebook import tqdm as notebook_tqdm\n",
      "skip module injection for FusedLlamaMLPForQuantizedModel not support integrate without triton yet.                                                                                   \n"
     ]
    }
   ],
   "source": [
    "from transformers import AutoTokenizer, pipeline, logging\n",
    "from auto_gptq import AutoGPTQForCausalLM, BaseQuantizeConfig\n",
    "\n",
    "def load_model_llama(model_type, use_triton=False):\n",
    "    if model_type == '70B':\n",
    "        model_name_or_path = \"TheBloke/Llama-2-70B-chat-GPTQ\"\n",
    "        model_basename = \"gptq_model-4bit--1g\"\n",
    "    elif model_type == '13B':\n",
    "        model_name_or_path = \"TheBloke/Llama-2-13B-chat-GPTQ\"\n",
    "        model_basename = \"gptq_model-4bit-128g\"\n",
    "    else:\n",
    "        raise ValueError('Invalid model_type. Choose either \"70B\" or \"13B\".')\n",
    "\n",
    "    tokenizer = AutoTokenizer.from_pretrained(model_name_or_path, use_fast=True, device_map=\"auto\")\n",
    "\n",
    "    model = AutoGPTQForCausalLM.from_quantized(model_name_or_path,\n",
    "                                               #model_basename=model_basename,\n",
    "                                               revision = \"main\",\n",
    "                                               inject_fused_attention=False,\n",
    "                                               use_safetensors=True,\n",
    "                                               trust_remote_code=False,\n",
    "                                               use_triton=use_triton,\n",
    "                                               quantize_config=None)\n",
    "    return tokenizer, model\n",
    "\n",
    "\n",
    "# Load the model - load_model_llama2_70b\n",
    "tokenizer, model = load_model_llama(\"70B\")"
   ]
  },
  {
   "cell_type": "code",
   "execution_count": 8,
   "id": "5aa02c36",
   "metadata": {
    "ExecuteTime": {
     "end_time": "2023-07-27T22:30:38.393454Z",
     "start_time": "2023-07-27T22:30:17.915548Z"
    }
   },
   "outputs": [
    {
     "name": "stderr",
     "output_type": "stream",
     "text": [
      "/home/webtesting/miniconda3/envs/llama2/lib/python3.10/site-packages/transformers/generation/configuration_utils.py:389: UserWarning: `do_sample` is set to `False`. However, `temperature` is set to `0.0` -- this flag is only used in sample-based generation modes. You should set `do_sample=True` or unset `temperature`.\n",
      "  warnings.warn(\n"
     ]
    }
   ],
   "source": [
    "values = None\n",
    "if METHOD == 'static':\n",
    "    values = generate_static_values(driver, inputs)\n",
    "elif METHOD == 'random':\n",
    "    values = generate_random_values(driver, inputs)\n",
    "elif METHOD == 'llama':\n",
    "    values = generate_llm_values_llama(form.get_attribute('outerHTML'), model, tokenizer)    \n",
    "else:\n",
    "    values = generate_llm_values(form.get_attribute('outerHTML'), openai.api_key)"
   ]
  },
  {
   "cell_type": "code",
   "execution_count": 9,
   "id": "d251b320",
   "metadata": {},
   "outputs": [
    {
     "data": {
      "text/plain": [
       "LlamaGPTQForCausalLM(\n",
       "  (model): LlamaForCausalLM(\n",
       "    (model): LlamaModel(\n",
       "      (embed_tokens): Embedding(32000, 8192, padding_idx=0)\n",
       "      (layers): ModuleList(\n",
       "        (0-79): 80 x LlamaDecoderLayer(\n",
       "          (self_attn): LlamaAttention(\n",
       "            (rotary_emb): LlamaRotaryEmbedding()\n",
       "            (k_proj): GeneralQuantLinear(in_features=8192, out_features=1024, bias=True)\n",
       "            (o_proj): GeneralQuantLinear(in_features=8192, out_features=8192, bias=True)\n",
       "            (q_proj): GeneralQuantLinear(in_features=8192, out_features=8192, bias=True)\n",
       "            (v_proj): GeneralQuantLinear(in_features=8192, out_features=1024, bias=True)\n",
       "          )\n",
       "          (mlp): LlamaMLP(\n",
       "            (act_fn): SiLU()\n",
       "            (down_proj): GeneralQuantLinear(in_features=28672, out_features=8192, bias=True)\n",
       "            (gate_proj): GeneralQuantLinear(in_features=8192, out_features=28672, bias=True)\n",
       "            (up_proj): GeneralQuantLinear(in_features=8192, out_features=28672, bias=True)\n",
       "          )\n",
       "          (input_layernorm): LlamaRMSNorm()\n",
       "          (post_attention_layernorm): LlamaRMSNorm()\n",
       "        )\n",
       "      )\n",
       "      (norm): LlamaRMSNorm()\n",
       "    )\n",
       "    (lm_head): Linear(in_features=8192, out_features=32000, bias=False)\n",
       "  )\n",
       ")"
      ]
     },
     "execution_count": 9,
     "metadata": {},
     "output_type": "execute_result"
    }
   ],
   "source": [
    "model"
   ]
  },
  {
   "cell_type": "code",
   "execution_count": 10,
   "id": "8476d5c4",
   "metadata": {
    "ExecuteTime": {
     "end_time": "2023-07-27T22:30:57.755662Z",
     "start_time": "2023-07-27T22:30:57.689284Z"
    }
   },
   "outputs": [
    {
     "name": "stdout",
     "output_type": "stream",
     "text": [
      "<s> [INST] <<SYS>>\n",
      "    \n",
      "Your task is to generate testing values for a web form. When given a web form, you need to generate value combinations that can pass and fail when tried on the form. Your response should be in the following format:\n",
      "{\n",
      "passing: <a base passing combination for the form>,\n",
      "failing: <a list of failing combination for the form>\n",
      "}\n",
      "Your response must be parsable by Python's json.loads function. Use \"id\" attribute to refer to the fields.\n",
      "\n",
      "    <</SYS>>\n",
      "\n",
      "    <form id=\"header-search-bar-form\" class=\"header-search-bar-form\" role=\"search\" method=\"GET\" action=\"/cars\">\n",
      "            <fieldset class=\"header-search-bar-form-fieldset\">\n",
      "                <div class=\"header-search-bar-container\">\n",
      "                    <label for=\"header-inventory-search\" class=\"visually-hidden\">Search make, model, or keyword</label>\n",
      "                    <input id=\"header-inventory-search\" name=\"search\" class=\"header-search-bar-input focus\" type=\"search\" placeholder=\"Search by make, model, or keyword\" aria-placeholder=\"Search by make, model, or keyword\" autocomplete=\"off\" value=\"\" maxlength=\"100\" aria-expanded=\"true\">\n",
      "                    <div class=\"header-search-bar-button-container\">\n",
      "                        <button id=\"header-search-button\" aria-label=\"Submit search by Make, Model, or Keyword\" type=\"submit\" class=\"header-footer-icon-button\" data-kmx-analytics=\"noClickTrack\">\n",
      "                            <!-- Search icon -->\n",
      "                            <svg width=\"24\" height=\"24\" viewBox=\"0 0 24 24\" xmlns=\"http://www.w3.org/2000/svg\" aria-hidden=\"true\">\n",
      "                                <path d=\"M15.5 14h-.79l-.28-.27C15.41 12.59 16 11.11 16 9.5 16 5.91 13.09 3 9.5 3S3 5.91 3 9.5 5.91 16 9.5 16c1.61 0 3.09-.59 4.23-1.57l.27.28v.79l5 4.99L20.49 19l-4.99-5zm-6 0C7.01 14 5 11.99 5 9.5S7.01 5 9.5 5 14 7.01 14 9.5 11.99 14 9.5 14z\">\n",
      "                                </path>\n",
      "                                <path d=\"M0 0h24v24H0z\" fill=\"none\"></path>\n",
      "                            </svg>\n",
      "                            <span class=\"visually-hidden\">Search CarMax inventory</span>\n",
      "                        </button>\n",
      "                    </div>\n",
      "                    <div class=\"header-search-animated-categories\">\n",
      "                        <div aria-hidden=\"true\" class=\"header-search-animated-category\">make</div>\n",
      "                        <div aria-hidden=\"true\" class=\"header-search-animated-category\">model</div>\n",
      "                        <div aria-hidden=\"true\" class=\"header-search-animated-category\">keyword</div>\n",
      "                        <div aria-hidden=\"true\" class=\"header-search-animated-category\">make</div>\n",
      "                        <div aria-hidden=\"true\" class=\"header-search-animated-category\">model</div>\n",
      "                        <div aria-hidden=\"true\" class=\"header-search-animated-category\">keyword</div>\n",
      "                        <div aria-hidden=\"true\" class=\"header-search-animated-category\">make</div>\n",
      "                        <div aria-hidden=\"true\" class=\"header-search-animated-category\">model</div>\n",
      "                        <div aria-hidden=\"true\" class=\"header-search-animated-category\">keyword</div>\n",
      "                        <div aria-hidden=\"true\" class=\"header-search-animated-category\">make, model, or keyword</div>\n",
      "                    </div>\n",
      "                </div>\n",
      "            </fieldset>\n",
      "        </form>\n",
      "    DO NOT EXPLAIN YOUR ANSWERS. [/INST]\n",
      "    \n",
      "    {\n",
      "    \"passing\": {\n",
      "        \"search\": \"Toyota Camry\"\n",
      "    },\n",
      "    \"failing\": [\n",
      "        {\n",
      "        \"search\": \"\"\n",
      "        },\n",
      "        {\n",
      "        \"search\": \" ABC\"\n",
      "        },\n",
      "        {\n",
      "        \"search\": \"toyota camry\"\n",
      "        },\n",
      "        {\n",
      "        \"search\": \"toyota, camry\"\n",
      "        },\n",
      "        {\n",
      "        \"search\": \"toyota camry, keyword\"\n",
      "        },\n",
      "        {\n",
      "        \"search\": \"make, model, or keyword\"\n",
      "        }\n",
      "    ]\n",
      "}</s>\n"
     ]
    }
   ],
   "source": [
    "print(values)"
   ]
  },
  {
   "cell_type": "code",
   "execution_count": 11,
   "id": "6ad491e7",
   "metadata": {
    "ExecuteTime": {
     "end_time": "2023-07-25T18:46:03.976669Z",
     "start_time": "2023-07-25T18:46:03.922316Z"
    }
   },
   "outputs": [],
   "source": [
    "def get_element(element_id):\n",
    "    return driver.find_element(By.ID if METHOD == 'llm' else By.XPATH, element_id)\n",
    "\n",
    "\n",
    "def send_values(elemend_ids, values):\n",
    "    for element_id in elemend_ids:\n",
    "        try:\n",
    "            element = get_element(element_id)\n",
    "        except:\n",
    "            continue\n",
    "        value = values[element_id]\n",
    "        \n",
    "        element_type = element.get_attribute('type') or 'text'\n",
    "    \n",
    "        if element_type in ['radio', 'checkbox'] or element.tag_name in ['button']:\n",
    "            continue\n",
    "        \n",
    "        try:\n",
    "            interact_with_input(element, value)\n",
    "        except:\n",
    "            pass\n",
    "\n",
    "        \n",
    "def submit_form(form):\n",
    "    # submit = driver.find_element(By.XPATH, f'{form_xpath}//*[@type=\"submit\"]')\n",
    "    # driver.find_element(By.TAG_NAME, 'body').click()\n",
    "    submit = find_button()\n",
    "    \n",
    "    for _ in range(3):\n",
    "        try:\n",
    "            interact_with_input(submit, True)\n",
    "            time.sleep(0.5)\n",
    "        except:\n",
    "            break"
   ]
  },
  {
   "cell_type": "code",
   "execution_count": 12,
   "id": "866d934b",
   "metadata": {
    "ExecuteTime": {
     "end_time": "2023-07-25T18:48:50.943913Z",
     "start_time": "2023-07-25T18:47:00.919211Z"
    }
   },
   "outputs": [
    {
     "ename": "AttributeError",
     "evalue": "'str' object has no attribute 'keys'",
     "output_type": "error",
     "traceback": [
      "\u001b[0;31m---------------------------------------------------------------------------\u001b[0m",
      "\u001b[0;31mAttributeError\u001b[0m                            Traceback (most recent call last)",
      "Cell \u001b[0;32mIn[12], line 2\u001b[0m\n\u001b[1;32m      1\u001b[0m passing_set \u001b[38;5;241m=\u001b[39m {\n\u001b[0;32m----> 2\u001b[0m     element_id: values[element_id][\u001b[38;5;124m'\u001b[39m\u001b[38;5;124mpassing\u001b[39m\u001b[38;5;124m'\u001b[39m] \u001b[38;5;28;01mfor\u001b[39;00m element_id \u001b[38;5;129;01min\u001b[39;00m \u001b[43mvalues\u001b[49m\u001b[38;5;241;43m.\u001b[39;49m\u001b[43mkeys\u001b[49m()\n\u001b[1;32m      3\u001b[0m }\n\u001b[1;32m      6\u001b[0m \u001b[38;5;28;01mfor\u001b[39;00m element_id, element_values \u001b[38;5;129;01min\u001b[39;00m values\u001b[38;5;241m.\u001b[39mitems():\n\u001b[1;32m      7\u001b[0m     get_to_form(driver)\n",
      "\u001b[0;31mAttributeError\u001b[0m: 'str' object has no attribute 'keys'"
     ]
    }
   ],
   "source": [
    "passing_set = {\n",
    "    element_id: values[element_id]['passing'] for element_id in values.keys()\n",
    "}\n",
    "\n",
    "\n",
    "for element_id, element_values in values.items():\n",
    "    get_to_form(driver)\n",
    "    time.sleep(1)\n",
    "    \n",
    "    try:\n",
    "        element = get_element(element_id)\n",
    "    except:\n",
    "        continue\n",
    "    element_type = element.get_attribute('type') or 'text'\n",
    "    \n",
    "    if element_type in ['radio', 'checkbox', 'submit']:\n",
    "        continue\n",
    "    \n",
    "    # print(element)\n",
    "    \n",
    "    for failing_value in element_values['failing']:\n",
    "        # try:\n",
    "        get_to_form(driver)\n",
    "        time.sleep(1)\n",
    "    \n",
    "        passing_copy = copy.copy(passing_set)\n",
    "        passing_copy[element_id] = failing_value\n",
    "        send_values(values.keys(), passing_copy)\n",
    "\n",
    "        time.sleep(1)\n",
    "\n",
    "        submit_form(form)\n",
    "\n",
    "        new_html = driver.find_element(By.TAG_NAME, 'body').get_attribute('outerHTML')\n",
    "        global_feedback = get_global_feedback(html, new_html, remove_form_children=False)\n",
    "\n",
    "        history_table.add(\n",
    "            passing_copy,\n",
    "            'base',\n",
    "            global_feedback,\n",
    "            driver.current_url\n",
    "        )\n",
    "        # except Exception as e:\n",
    "        #     print(e)"
   ]
  },
  {
   "cell_type": "code",
   "execution_count": null,
   "id": "025351a5",
   "metadata": {
    "ExecuteTime": {
     "end_time": "2023-07-24T16:20:34.961485Z",
     "start_time": "2023-07-24T16:20:34.887290Z"
    }
   },
   "outputs": [],
   "source": [
    "for i, v in enumerate(history_table.table['values']):\n",
    "    jv = json.loads(v)\n",
    "    for key, value in jv.items():\n",
    "        if key not in history_table.table.columns:\n",
    "            history_table.table[key] = None\n",
    "        history_table.table.loc[i, key] = value"
   ]
  },
  {
   "cell_type": "code",
   "execution_count": null,
   "id": "7af1f1b0",
   "metadata": {
    "ExecuteTime": {
     "end_time": "2023-07-24T03:03:22.906817Z",
     "start_time": "2023-07-24T03:03:22.839924Z"
    }
   },
   "outputs": [],
   "source": [
    "history_table.table"
   ]
  },
  {
   "cell_type": "code",
   "execution_count": null,
   "id": "fd7263ca",
   "metadata": {},
   "outputs": [],
   "source": []
  }
 ],
 "metadata": {
  "kernelspec": {
   "display_name": "Python 3 (ipykernel)",
   "language": "python",
   "name": "python3"
  },
  "language_info": {
   "codemirror_mode": {
    "name": "ipython",
    "version": 3
   },
   "file_extension": ".py",
   "mimetype": "text/x-python",
   "name": "python",
   "nbconvert_exporter": "python",
   "pygments_lexer": "ipython3",
   "version": "3.10.9"
  },
  "toc": {
   "base_numbering": 1,
   "nav_menu": {},
   "number_sections": true,
   "sideBar": true,
   "skip_h1_title": false,
   "title_cell": "Table of Contents",
   "title_sidebar": "Contents",
   "toc_cell": false,
   "toc_position": {},
   "toc_section_display": true,
   "toc_window_display": false
  },
  "varInspector": {
   "cols": {
    "lenName": 16,
    "lenType": 16,
    "lenVar": 40
   },
   "kernels_config": {
    "python": {
     "delete_cmd_postfix": "",
     "delete_cmd_prefix": "del ",
     "library": "var_list.py",
     "varRefreshCmd": "print(var_dic_list())"
    },
    "r": {
     "delete_cmd_postfix": ") ",
     "delete_cmd_prefix": "rm(",
     "library": "var_list.r",
     "varRefreshCmd": "cat(var_dic_list()) "
    }
   },
   "types_to_exclude": [
    "module",
    "function",
    "builtin_function_or_method",
    "instance",
    "_Feature"
   ],
   "window_display": false
  }
 },
 "nbformat": 4,
 "nbformat_minor": 5
}
