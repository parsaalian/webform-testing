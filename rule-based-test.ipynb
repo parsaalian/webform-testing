{
 "cells": [
  {
   "cell_type": "code",
   "execution_count": 1,
   "id": "8aa87b03",
   "metadata": {
    "ExecuteTime": {
     "end_time": "2023-07-07T17:48:00.226994Z",
     "start_time": "2023-07-07T17:48:00.181351Z"
    }
   },
   "outputs": [],
   "source": [
    "%load_ext autoreload\n",
    "%autoreload 2"
   ]
  },
  {
   "cell_type": "code",
   "execution_count": 2,
   "id": "9a29385e",
   "metadata": {
    "ExecuteTime": {
     "end_time": "2023-07-07T17:48:05.288784Z",
     "start_time": "2023-07-07T17:48:00.285791Z"
    }
   },
   "outputs": [],
   "source": [
    "import pandas as pd\n",
    "\n",
    "import json\n",
    "import time\n",
    "import rstr\n",
    "import random\n",
    "\n",
    "from bs4 import BeautifulSoup as bs\n",
    "from selenium.webdriver.common.by import By\n",
    "from selenium.webdriver.support.ui import Select\n",
    "\n",
    "from method.ours.feedback import get_global_feedback\n",
    "from method.ours.utils import create_driver, get_xpath, interact_with_input"
   ]
  },
  {
   "cell_type": "code",
   "execution_count": 3,
   "id": "baa5f555",
   "metadata": {
    "ExecuteTime": {
     "end_time": "2023-07-07T17:50:46.794593Z",
     "start_time": "2023-07-07T17:50:46.739488Z"
    }
   },
   "outputs": [],
   "source": [
    "HEADLESS = False\n",
    "URL = 'https://www.aircanada.com/ca/en/aco/home.html'"
   ]
  },
  {
   "cell_type": "code",
   "execution_count": 4,
   "id": "6bcdd4db",
   "metadata": {
    "ExecuteTime": {
     "end_time": "2023-07-07T17:50:53.575041Z",
     "start_time": "2023-07-07T17:50:47.329251Z"
    }
   },
   "outputs": [
    {
     "name": "stderr",
     "output_type": "stream",
     "text": [
      "[WDM] - Downloading: 100%|█████████████████████████████████████████████████████████████████████████████████████████████████████| 8.29M/8.29M [00:00<00:00, 14.0MB/s]\n"
     ]
    }
   ],
   "source": [
    "driver = create_driver(HEADLESS)\n",
    "driver.get(URL)"
   ]
  },
  {
   "cell_type": "code",
   "execution_count": 5,
   "id": "802da7af",
   "metadata": {
    "ExecuteTime": {
     "end_time": "2023-07-07T17:51:16.122812Z",
     "start_time": "2023-07-07T17:51:15.964769Z"
    }
   },
   "outputs": [],
   "source": [
    "html = driver.find_element(By.TAG_NAME, 'html').get_attribute('outerHTML')"
   ]
  },
  {
   "cell_type": "code",
   "execution_count": 11,
   "id": "bcd22b9f",
   "metadata": {
    "ExecuteTime": {
     "end_time": "2023-07-06T19:41:31.701730Z",
     "start_time": "2023-07-06T19:41:31.401054Z"
    }
   },
   "outputs": [],
   "source": [
    "form = driver.find_elements(By.TAG_NAME, 'form')[1]\n",
    "form_xpath = get_xpath(driver, form)\n",
    "\n",
    "inputs = form.find_elements(\n",
    "    By.XPATH,\n",
    "    f'{form_xpath}//input | {form_xpath}//textarea | {form_xpath}//select'\n",
    ")\n",
    "\n",
    "inputs = list(filter(\n",
    "    lambda x: x.get_attribute('type') != 'hidden' and x.get_attribute('hidden') != 'true',\n",
    "    inputs\n",
    "))"
   ]
  },
  {
   "cell_type": "markdown",
   "id": "4a948e75",
   "metadata": {},
   "source": [
    "# Generate Base Values"
   ]
  },
  {
   "cell_type": "code",
   "execution_count": 12,
   "id": "6240ff43",
   "metadata": {
    "ExecuteTime": {
     "end_time": "2023-07-06T19:41:32.804687Z",
     "start_time": "2023-07-06T19:41:32.751729Z"
    }
   },
   "outputs": [],
   "source": [
    "fixed_rules = {\n",
    "    'text': lambda: 'test',\n",
    "    'email': lambda: 'test@test.com',\n",
    "    'password': lambda: 'test',\n",
    "    'number': lambda: '0',\n",
    "    'range': lambda: '0',\n",
    "    'date': lambda: '2020-01-01',\n",
    "    'time': lambda: '00:00',\n",
    "    'datetime-local': lambda: '2020-01-01T00:00',\n",
    "    'week': lambda: '2020-W01',\n",
    "    'month': lambda: '2020-01',\n",
    "    'tel': lambda: '0123456789',\n",
    "    'url': lambda: 'https://test.com',\n",
    "    'color': lambda: '#000000',\n",
    "    \n",
    "    'boolean': lambda: True,\n",
    "    'select': lambda _: 0,\n",
    "}\n",
    "\n",
    "\n",
    "random_rules = {\n",
    "    'text': lambda: rstr.xeger(r'[A-Za-z0-9]{10}'),\n",
    "    'email': lambda: rstr.xeger(r'[A-Za-z0-9]{10}') + '@' + rstr.xeger(r'[A-Za-z0-9]{10}') + '.com',\n",
    "    'password': lambda: rstr.xeger(r'[A-Za-z0-9]{10}'),\n",
    "    'number': lambda: random.randint(0, 1000),\n",
    "    'range': lambda: random.randint(0, 1000),\n",
    "    'date': lambda: rstr.xeger(r'[0-9]{4}') + '-' + rstr.xeger(r'[0-9]{2}') + '-' + rstr.xeger(r'[0-9]{2}'),\n",
    "    'time': lambda: rstr.xeger(r'[0-9]{2}') + ':' + rstr.xeger(r'[0-9]{2}'),\n",
    "    'datetime-local': lambda: rstr.xeger(r'[0-9]{4}') + '-' + rstr.xeger(r'[0-9]{2}') + '-' + rstr.xeger(r'[0-9]{2}') + 'T' + rstr.xeger(r'[0-9]{2}') + ':' + rstr.xeger(r'[0-9]{2}'),\n",
    "    'week': lambda: rstr.xeger(r'[0-9]{4}') + '-W' + rstr.xeger(r'[0-9]{2}'),\n",
    "    'month': lambda: rstr.xeger(r'[0-9]{4}') + '-' + rstr.xeger(r'[0-9]{2}'),\n",
    "    'tel': lambda: rstr.xeger(r'[0-9]{10}'),\n",
    "    'url': lambda: 'https://' + rstr.xeger(r'[A-Za-z0-9]{10}') + '.com',\n",
    "    'color': lambda: '#' + rstr.xeger(r'[0-9A-Fa-f]{6}'),\n",
    "    \n",
    "    'boolean': lambda: True if random.randint(0, 1) == 0 else False,\n",
    "    'select': lambda element: random.randint(0, len(Select(element).options) - 1),\n",
    "}"
   ]
  },
  {
   "cell_type": "code",
   "execution_count": 13,
   "id": "589d89cd",
   "metadata": {
    "ExecuteTime": {
     "end_time": "2023-07-06T19:41:34.065899Z",
     "start_time": "2023-07-06T19:41:34.016588Z"
    }
   },
   "outputs": [],
   "source": [
    "def rule_based_value_generator(inputs, random=True):\n",
    "    rules = random_rules if random else fixed_rules\n",
    "    \n",
    "    values = {}\n",
    "    \n",
    "    for element in inputs:\n",
    "        tag = element.tag_name\n",
    "        element_xpath = get_xpath(driver, element)\n",
    "        input_type = element.get_attribute('type') or 'text'\n",
    "        \n",
    "        if tag == 'select':\n",
    "            values[element_xpath] = rules['select'](element)\n",
    "        \n",
    "        elif input_type == 'checkbox' or input_type == 'radio':\n",
    "            values[element_xpath] = rules['boolean']()\n",
    "        \n",
    "        else:\n",
    "            values[element_xpath] = rules[input_type]()\n",
    "    \n",
    "    return values"
   ]
  },
  {
   "cell_type": "code",
   "execution_count": 14,
   "id": "3983c6d2",
   "metadata": {
    "ExecuteTime": {
     "end_time": "2023-07-06T19:41:34.819353Z",
     "start_time": "2023-07-06T19:41:34.759603Z"
    }
   },
   "outputs": [],
   "source": [
    "def fill_form_with_values(xpaths, values):\n",
    "    for element_xpath in xpaths:\n",
    "        element = driver.find_element(By.XPATH, element_xpath)\n",
    "        element_value = values[element_xpath]\n",
    "\n",
    "        if element.get_attribute('type') in ['checkbox', 'radio']:\n",
    "            continue\n",
    "\n",
    "        try:\n",
    "            interact_with_input(element, element_value)\n",
    "        except Exception as e:\n",
    "            print(e)\n",
    "    \n",
    "    submit_button = driver.find_element(By.XPATH, f'{form_xpath}//button[@type = \"submit\"]')\n",
    "    submit_button.click()"
   ]
  },
  {
   "cell_type": "code",
   "execution_count": 15,
   "id": "f568d728",
   "metadata": {
    "ExecuteTime": {
     "end_time": "2023-07-06T19:41:35.804044Z",
     "start_time": "2023-07-06T19:41:35.584221Z"
    }
   },
   "outputs": [],
   "source": [
    "base_values = rule_based_value_generator(inputs)"
   ]
  },
  {
   "cell_type": "markdown",
   "id": "cfe75c87",
   "metadata": {},
   "source": [
    "# Fuzz Input Values"
   ]
  },
  {
   "cell_type": "code",
   "execution_count": 16,
   "id": "b9f4131d",
   "metadata": {
    "ExecuteTime": {
     "end_time": "2023-07-06T19:41:37.007742Z",
     "start_time": "2023-07-06T19:41:36.959943Z"
    }
   },
   "outputs": [],
   "source": [
    "fuzz_samples = {}\n",
    "\n",
    "with open('fuzz-samples.json', 'r') as f:\n",
    "    fuzz_samples = json.load(f)"
   ]
  },
  {
   "cell_type": "code",
   "execution_count": 17,
   "id": "5a78da8d",
   "metadata": {
    "ExecuteTime": {
     "end_time": "2023-07-06T19:42:05.894349Z",
     "start_time": "2023-07-06T19:41:38.666379Z"
    },
    "scrolled": false
   },
   "outputs": [
    {
     "name": "stdout",
     "output_type": "stream",
     "text": [
      "<input type=\"radio\" class=\"abc-form-element-main abc-form-element-radio-button ng-untouched ng-pristine ng-valid\" id=\"bkmgFlights_tripTypeSelector_R\" name=\"tripType\" value=\"R\" aria-disabled=\"false\" aria-invalid=\"false\" aria-checked=\"true\">\n",
      "\n",
      "<input type=\"radio\" class=\"abc-form-element-main abc-form-element-radio-button ng-untouched ng-pristine ng-valid\" id=\"bkmgFlights_tripTypeSelector_O\" name=\"tripType\" value=\"O\" aria-disabled=\"false\" aria-invalid=\"false\" aria-checked=\"false\">\n",
      "\n",
      "<input type=\"radio\" class=\"abc-form-element-main abc-form-element-radio-button ng-untouched ng-pristine ng-valid\" id=\"bkmgFlights_tripTypeSelector_M\" name=\"tripType\" value=\"M\" aria-disabled=\"false\" aria-invalid=\"false\" aria-checked=\"false\">\n",
      "\n",
      "<input type=\"checkbox\" role=\"checkbox\" class=\"abc-form-element-main abc-form-element-checkbox ng-untouched ng-pristine ng-valid\" id=\"bkmgFlights_searchTypeToggle\" aria-label=\"Book with Aeroplan points\" aria-disabled=\"false\" aria-required=\"false\" aria-invalid=\"false\" aria-checked=\"false\">\n",
      "\n",
      "<input class=\"abc-form-element-input abc-form-element-main text-transform-none ng-untouched ng-pristine ng-valid ng-star-inserted\" type=\"text\" placeholder=\"\" id=\"bkmgFlights_origin_trip_1\" name=\"bkmgFlights_origin_trip_1\" aria-disabled=\"false\" aria-invalid=\"false\" aria-label=\"From\" aria-describedby=\"bkmgFlights_origin_trip_1Status\" aria-autocomplete=\"list\" aria-haspopup=\"true\" aria-expanded=\"false\" role=\"combobox\" autocorrect=\"off\" spellcheck=\"false\" autocomplete=\"off\">\n",
      "\n",
      "<input class=\"abc-form-element-input abc-form-element-main text-transform-none ng-valid ng-star-inserted ng-dirty ng-touched\" type=\"text\" placeholder=\"\" id=\"bkmgFlights_destination_trip_1\" name=\"bkmgFlights_destination_trip_1\" aria-disabled=\"false\" aria-invalid=\"true\" aria-label=\"To\" aria-describedby=\"bkmgFlights_destination_trip_1Subscript bkmgFlights_destination_trip_1Status\" aria-autocomplete=\"list\" aria-haspopup=\"true\" aria-expanded=\"true\" role=\"combobox\" autocorrect=\"off\" spellcheck=\"false\" autocomplete=\"off\" aria-controls=\"bkmgFlights_destination_trip_1OptionsPanelWrapper\" aria-owns=\"bkmgFlights_destination_trip_1OptionsPanelWrapper\">\n",
      "\n",
      "<input class=\"abc-form-element-input abc-form-element-main text-transform-none ng-valid ng-star-inserted ng-dirty ng-touched\" type=\"text\" placeholder=\"DD/MM\" id=\"bkmgFlights_travelDates_1-formfield-1\" name=\"bkmgFlights_travelDates_1-formfield-1\" aria-disabled=\"false\" aria-invalid=\"true\" aria-label=\"Departure\" aria-describedby=\"bkmgFlights_travelDates_1DatepickerSrHelperText bkmgFlights_travelDates_1Subscript\" autocorrect=\"off\" spellcheck=\"false\" autocomplete=\"off\">\n",
      "\n",
      "<input class=\"abc-form-element-input abc-form-element-main text-transform-none ng-valid ng-star-inserted ng-dirty ng-touched\" type=\"text\" placeholder=\"DD/MM\" id=\"bkmgFlights_travelDates_1-formfield-2\" name=\"bkmgFlights_travelDates_1-formfield-2\" aria-disabled=\"false\" aria-invalid=\"true\" aria-label=\"Return\" aria-describedby=\"bkmgFlights_travelDates_1DatepickerSrHelperText bkmgFlights_travelDates_1Subscript\" autocorrect=\"off\" spellcheck=\"false\" autocomplete=\"off\">\n",
      "\n"
     ]
    }
   ],
   "source": [
    "tested = []\n",
    "\n",
    "\n",
    "for element_xpath in base_values.keys():\n",
    "    new_values = dict(base_values)\n",
    "    element = driver.find_element(By.XPATH, element_xpath)\n",
    "    \n",
    "    print(element.get_attribute('outerHTML'))\n",
    "    print()\n",
    "    \n",
    "    if element.get_attribute('type') not in fuzz_samples:\n",
    "        time.sleep(1)\n",
    "        continue\n",
    "    \n",
    "    fuzz_sample = fuzz_samples[element.get_attribute('type')]\n",
    "    \n",
    "    for i, (sample_name, sample_values) in enumerate(fuzz_sample.items()):\n",
    "        if i == 1:\n",
    "            break\n",
    "        for sample_value in sample_values:\n",
    "            driver.get(URL)\n",
    "            time.sleep(3)\n",
    "            html = driver.find_element(By.TAG_NAME, 'body').get_attribute('outerHTML')\n",
    "            \n",
    "            new_values[element_xpath] = sample_value\n",
    "            fill_form_with_values(base_values.keys(), new_values)\n",
    "            diff = get_global_feedback(\n",
    "                html,\n",
    "                driver.find_element(By.TAG_NAME, 'body').get_attribute('outerHTML')\n",
    "            )\n",
    "            tested.append({\n",
    "                \"fuzz_type\": sample_name,\n",
    "                \"values\": new_values,\n",
    "                \"changes\": '-'.join(diff),\n",
    "            })"
   ]
  },
  {
   "cell_type": "code",
   "execution_count": 18,
   "id": "c0eb44b4",
   "metadata": {
    "ExecuteTime": {
     "end_time": "2023-07-06T19:42:07.452030Z",
     "start_time": "2023-07-06T19:42:07.402608Z"
    }
   },
   "outputs": [],
   "source": [
    "df = pd.DataFrame(tested)"
   ]
  },
  {
   "cell_type": "code",
   "execution_count": 19,
   "id": "b8c25695",
   "metadata": {
    "ExecuteTime": {
     "end_time": "2023-07-06T19:42:08.006616Z",
     "start_time": "2023-07-06T19:42:07.958553Z"
    }
   },
   "outputs": [],
   "source": [
    "errors = df.groupby('changes').first()"
   ]
  },
  {
   "cell_type": "code",
   "execution_count": 20,
   "id": "ee3c95c9",
   "metadata": {
    "ExecuteTime": {
     "end_time": "2023-07-06T19:42:08.572230Z",
     "start_time": "2023-07-06T19:42:08.521731Z"
    }
   },
   "outputs": [],
   "source": [
    "errors.to_csv('./random.csv')"
   ]
  },
  {
   "cell_type": "code",
   "execution_count": null,
   "id": "313b157b",
   "metadata": {},
   "outputs": [],
   "source": []
  }
 ],
 "metadata": {
  "kernelspec": {
   "display_name": "Python 3 (ipykernel)",
   "language": "python",
   "name": "python3"
  },
  "language_info": {
   "codemirror_mode": {
    "name": "ipython",
    "version": 3
   },
   "file_extension": ".py",
   "mimetype": "text/x-python",
   "name": "python",
   "nbconvert_exporter": "python",
   "pygments_lexer": "ipython3",
   "version": "3.10.9"
  },
  "toc": {
   "base_numbering": 1,
   "nav_menu": {},
   "number_sections": true,
   "sideBar": true,
   "skip_h1_title": false,
   "title_cell": "Table of Contents",
   "title_sidebar": "Contents",
   "toc_cell": false,
   "toc_position": {},
   "toc_section_display": true,
   "toc_window_display": false
  },
  "varInspector": {
   "cols": {
    "lenName": 16,
    "lenType": 16,
    "lenVar": 40
   },
   "kernels_config": {
    "python": {
     "delete_cmd_postfix": "",
     "delete_cmd_prefix": "del ",
     "library": "var_list.py",
     "varRefreshCmd": "print(var_dic_list())"
    },
    "r": {
     "delete_cmd_postfix": ") ",
     "delete_cmd_prefix": "rm(",
     "library": "var_list.r",
     "varRefreshCmd": "cat(var_dic_list()) "
    }
   },
   "types_to_exclude": [
    "module",
    "function",
    "builtin_function_or_method",
    "instance",
    "_Feature"
   ],
   "window_display": false
  }
 },
 "nbformat": 4,
 "nbformat_minor": 5
}
