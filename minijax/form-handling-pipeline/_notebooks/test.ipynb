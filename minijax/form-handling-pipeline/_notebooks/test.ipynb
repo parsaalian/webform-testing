{
 "cells": [
  {
   "cell_type": "code",
   "execution_count": 1,
   "id": "84325ed8",
   "metadata": {
    "ExecuteTime": {
     "end_time": "2023-04-07T19:53:05.733961Z",
     "start_time": "2023-04-07T19:53:05.711162Z"
    }
   },
   "outputs": [],
   "source": [
    "%load_ext autoreload\n",
    "%autoreload 2"
   ]
  },
  {
   "cell_type": "code",
   "execution_count": 31,
   "id": "54d72fee",
   "metadata": {
    "ExecuteTime": {
     "end_time": "2023-04-07T20:10:51.360127Z",
     "start_time": "2023-04-07T20:10:51.334694Z"
    }
   },
   "outputs": [],
   "source": [
    "import os\n",
    "import time\n",
    "import argparse\n",
    "from dotenv import load_dotenv\n",
    "\n",
    "import openai\n",
    "\n",
    "from selenium import webdriver\n",
    "from selenium.webdriver.chrome.service import Service\n",
    "from webdriver_manager.chrome import ChromeDriverManager\n",
    "from selenium.webdriver.common.by import By\n",
    "\n",
    "from page_transformer import driver_to_doc, simplify_doc\n",
    "from form_finder import simplest_form_finder\n",
    "from form_parser import simplest_form_parser"
   ]
  },
  {
   "cell_type": "code",
   "execution_count": 3,
   "id": "c8c5d6d3",
   "metadata": {
    "ExecuteTime": {
     "end_time": "2023-04-07T19:53:07.413664Z",
     "start_time": "2023-04-07T19:53:07.388529Z"
    }
   },
   "outputs": [],
   "source": [
    "URL = \"http://localhost:8080\""
   ]
  },
  {
   "cell_type": "code",
   "execution_count": 4,
   "id": "b712862d",
   "metadata": {
    "ExecuteTime": {
     "end_time": "2023-04-07T19:53:10.413881Z",
     "start_time": "2023-04-07T19:53:07.977097Z"
    }
   },
   "outputs": [],
   "source": [
    "driver = webdriver.Chrome(service=Service(ChromeDriverManager().install()))\n",
    "driver.get(URL)"
   ]
  },
  {
   "cell_type": "code",
   "execution_count": 5,
   "id": "5ba81b93",
   "metadata": {
    "ExecuteTime": {
     "end_time": "2023-04-07T19:53:11.434861Z",
     "start_time": "2023-04-07T19:53:11.307019Z"
    }
   },
   "outputs": [],
   "source": [
    "driver.find_element(By.CLASS_NAME, 'navbar-nav').find_element(By.CLASS_NAME, 'dropdown').click()\n",
    "driver.find_element(By.CLASS_NAME, 'navbar-nav') \\\n",
    "        .find_element(By.CLASS_NAME, 'dropdown') \\\n",
    "        .find_element(By.TAG_NAME, 'ul') \\\n",
    "        .find_element(By.TAG_NAME, 'li').click()"
   ]
  },
  {
   "cell_type": "code",
   "execution_count": 38,
   "id": "7870f31e",
   "metadata": {
    "ExecuteTime": {
     "end_time": "2023-04-07T20:12:05.852633Z",
     "start_time": "2023-04-07T20:12:04.839428Z"
    }
   },
   "outputs": [],
   "source": [
    "doc = driver_to_doc(driver)\n",
    "doc = simplify_doc(doc)\n",
    "form = simplest_form_finder(doc)"
   ]
  },
  {
   "cell_type": "code",
   "execution_count": 42,
   "id": "23b73da6",
   "metadata": {
    "ExecuteTime": {
     "end_time": "2023-04-07T20:12:33.994311Z",
     "start_time": "2023-04-07T20:12:33.964996Z"
    }
   },
   "outputs": [
    {
     "name": "stdout",
     "output_type": "stream",
     "text": [
      "[<input id=\"lastName\" maxlength=\"80\" name=\"lastName\" size=\"30\" value=\"\"/>] [<label>Last name </label>]\n"
     ]
    }
   ],
   "source": [
    "parsed_form = simplest_form_parser(form)"
   ]
  },
  {
   "cell_type": "code",
   "execution_count": 43,
   "id": "a368d383",
   "metadata": {
    "ExecuteTime": {
     "end_time": "2023-04-07T20:12:34.620087Z",
     "start_time": "2023-04-07T20:12:34.592632Z"
    }
   },
   "outputs": [
    {
     "data": {
      "text/plain": [
       "<form id=\"search-owner-form\" method=\"get\" novalidate=\"\"><div><div id=\"lastNameGroup\"><label>Last name </label><div><input id=\"lastName\" maxlength=\"80\" name=\"lastName\" size=\"30\" value=\"\"/></div></div></div><div><div><button type=\"submit\">Find Owner</button></div></div></form>"
      ]
     },
     "execution_count": 43,
     "metadata": {},
     "output_type": "execute_result"
    }
   ],
   "source": [
    "form"
   ]
  },
  {
   "cell_type": "code",
   "execution_count": 44,
   "id": "8271285b",
   "metadata": {
    "ExecuteTime": {
     "end_time": "2023-04-07T20:12:34.851182Z",
     "start_time": "2023-04-07T20:12:34.828776Z"
    }
   },
   "outputs": [
    {
     "data": {
      "text/plain": [
       "{'action': None,\n",
       " 'method': 'get',\n",
       " 'inputs': [{'label': 'Last name ', 'type': 'text', 'value': ''}]}"
      ]
     },
     "execution_count": 44,
     "metadata": {},
     "output_type": "execute_result"
    }
   ],
   "source": [
    "parsed_form"
   ]
  },
  {
   "cell_type": "code",
   "execution_count": null,
   "id": "507c0e88",
   "metadata": {},
   "outputs": [],
   "source": []
  },
  {
   "cell_type": "code",
   "execution_count": 6,
   "id": "fc84a848",
   "metadata": {
    "ExecuteTime": {
     "end_time": "2023-04-07T19:47:19.921053Z",
     "start_time": "2023-04-07T19:47:18.843200Z"
    }
   },
   "outputs": [],
   "source": [
    "driver.quit()"
   ]
  },
  {
   "cell_type": "code",
   "execution_count": null,
   "id": "b035383c",
   "metadata": {},
   "outputs": [],
   "source": []
  }
 ],
 "metadata": {
  "kernelspec": {
   "display_name": "Python 3 (ipykernel)",
   "language": "python",
   "name": "python3"
  },
  "language_info": {
   "codemirror_mode": {
    "name": "ipython",
    "version": 3
   },
   "file_extension": ".py",
   "mimetype": "text/x-python",
   "name": "python",
   "nbconvert_exporter": "python",
   "pygments_lexer": "ipython3",
   "version": "3.10.9"
  },
  "varInspector": {
   "cols": {
    "lenName": 16,
    "lenType": 16,
    "lenVar": 40
   },
   "kernels_config": {
    "python": {
     "delete_cmd_postfix": "",
     "delete_cmd_prefix": "del ",
     "library": "var_list.py",
     "varRefreshCmd": "print(var_dic_list())"
    },
    "r": {
     "delete_cmd_postfix": ") ",
     "delete_cmd_prefix": "rm(",
     "library": "var_list.r",
     "varRefreshCmd": "cat(var_dic_list()) "
    }
   },
   "types_to_exclude": [
    "module",
    "function",
    "builtin_function_or_method",
    "instance",
    "_Feature"
   ],
   "window_display": false
  }
 },
 "nbformat": 4,
 "nbformat_minor": 5
}
