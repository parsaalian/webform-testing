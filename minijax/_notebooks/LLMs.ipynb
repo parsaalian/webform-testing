{
 "cells": [
  {
   "cell_type": "code",
   "execution_count": 1,
   "id": "a83c80a5",
   "metadata": {
    "ExecuteTime": {
     "end_time": "2023-05-15T21:08:34.584508Z",
     "start_time": "2023-05-15T21:08:32.990900Z"
    }
   },
   "outputs": [],
   "source": [
    "from tqdm import tqdm_notebook as notebook_tqdm\n",
    "\n",
    "import torch\n",
    "from transformers import AutoTokenizer"
   ]
  },
  {
   "cell_type": "code",
   "execution_count": 2,
   "id": "2af766c7",
   "metadata": {
    "ExecuteTime": {
     "end_time": "2023-05-15T21:08:35.353245Z",
     "start_time": "2023-05-15T21:08:35.349492Z"
    }
   },
   "outputs": [],
   "source": [
    "prompt = '''You are an agent filling forms on a website. You can issue these commands:\n",
    "    - FILL////X////\"Y\": Fill the <input> or <textarea> element that has a relative xpath X with value Y\n",
    "    - SELECT////X////\"Y\": Select the option Y in the <select> element that has a relative xpath X\n",
    "Each command must be issued in a new line, with no preceding or trailing text values.\n",
    "You are given a form to fill. The form's html is as follows:\n",
    "<form _ngcontent-jwh-c36=\"\" novalidate=\"\" method=\"get\" id=\"search-owner-form\" class=\"form-horizontal ng-untouched ng-pristine ng-valid ng-submitted\"><div _ngcontent-jwh-c36=\"\" class=\"form-group\"><div _ngcontent-jwh-c36=\"\" id=\"lastNameGroup\" class=\"control-group\"><label _ngcontent-jwh-c36=\"\" class=\"col-sm-2 control-label\">Last name </label><div _ngcontent-jwh-c36=\"\" class=\"col-sm-10\"><input _ngcontent-jwh-c36=\"\" size=\"30\" maxlength=\"80\" id=\"lastName\" name=\"lastName\" value=\"\" class=\"form-control ng-untouched ng-pristine ng-valid\"><span _ngcontent-jwh-c36=\"\" class=\"help-inline\"></span></div></div></div><div _ngcontent-jwh-c36=\"\" class=\"form-group\"><div _ngcontent-jwh-c36=\"\" class=\"col-sm-offset-2 col-sm-10\"><button _ngcontent-jwh-c36=\"\" type=\"submit\" class=\"btn btn-default\">Find Owner</button></div></div></form>\n",
    "The xpath in this format must be relative to the form element. Just give me the commands and nothing else.\n",
    "YOUR COMMANDS:'''"
   ]
  },
  {
   "cell_type": "code",
   "execution_count": 3,
   "id": "d4d97cf3",
   "metadata": {
    "ExecuteTime": {
     "end_time": "2023-05-15T21:08:36.559433Z",
     "start_time": "2023-05-15T21:08:36.556130Z"
    }
   },
   "outputs": [],
   "source": [
    "device = torch.device('cuda' if torch.cuda.is_available() else 'cpu')"
   ]
  },
  {
   "cell_type": "code",
   "execution_count": 13,
   "id": "602134ec",
   "metadata": {
    "ExecuteTime": {
     "end_time": "2023-05-15T21:22:40.796536Z",
     "start_time": "2023-05-15T21:22:40.792425Z"
    }
   },
   "outputs": [],
   "source": [
    "def generate_text(prompt, max_length=100, temperature=0.7):\n",
    "    input_ids = tokenizer.encode(prompt, return_tensors=\"pt\").to(device)\n",
    "    \n",
    "    # Generate text\n",
    "    output = model.generate(\n",
    "        input_ids=input_ids,\n",
    "        max_new_tokens=max_length,\n",
    "        temperature=temperature,\n",
    "        pad_token_id=tokenizer.eos_token_id,\n",
    "        # do_sample=True,\n",
    "        # num_return_sequences=1\n",
    "    )\n",
    "    \n",
    "    # Decode and return the generated text\n",
    "    generated_text = tokenizer.decode(output[0], skip_special_tokens=True)\n",
    "    return generated_text"
   ]
  },
  {
   "cell_type": "markdown",
   "id": "e24445f4",
   "metadata": {},
   "source": [
    "## Bloom"
   ]
  },
  {
   "cell_type": "code",
   "execution_count": 4,
   "id": "a8bd3dd9",
   "metadata": {
    "ExecuteTime": {
     "end_time": "2023-05-15T20:54:24.125880Z",
     "start_time": "2023-05-15T20:54:24.001444Z"
    }
   },
   "outputs": [],
   "source": [
    "from transformers import BloomForCausalLM"
   ]
  },
  {
   "cell_type": "code",
   "execution_count": 16,
   "id": "e4a7a48f",
   "metadata": {
    "ExecuteTime": {
     "end_time": "2023-05-15T21:02:35.581532Z",
     "start_time": "2023-05-15T21:02:24.526150Z"
    }
   },
   "outputs": [],
   "source": [
    "tokenizer = AutoTokenizer.from_pretrained(\"bigscience/bloom-560m\")\n",
    "model = BloomForCausalLM.from_pretrained(\"bigscience/bloom-560m\").to(device)"
   ]
  },
  {
   "cell_type": "code",
   "execution_count": 12,
   "id": "9128d6b2",
   "metadata": {
    "ExecuteTime": {
     "end_time": "2023-05-15T21:01:37.942716Z",
     "start_time": "2023-05-15T21:01:37.937257Z"
    }
   },
   "outputs": [],
   "source": [
    "model = model.to(device)"
   ]
  },
  {
   "cell_type": "code",
   "execution_count": 13,
   "id": "ef9472ae",
   "metadata": {
    "ExecuteTime": {
     "end_time": "2023-05-15T21:01:58.113882Z",
     "start_time": "2023-05-15T21:01:38.582281Z"
    }
   },
   "outputs": [],
   "source": [
    "generated_text = generate_text(prompt)"
   ]
  },
  {
   "cell_type": "code",
   "execution_count": 17,
   "id": "3032db77",
   "metadata": {
    "ExecuteTime": {
     "end_time": "2023-05-15T21:03:25.028874Z",
     "start_time": "2023-05-15T21:03:25.025631Z"
    }
   },
   "outputs": [
    {
     "name": "stdout",
     "output_type": "stream",
     "text": [
      "\n",
      "- FILL////X////\"Y\": Fill the <input> or <textarea> element that has a relative xpath X with value Y\n",
      "- SELECT////X////\"Y\": Select the option Y in the <select> element that has a relative xpath X\n",
      "- FILL////X////\"Y\": Fill the <input> or <textarea> element that has a relative xpath X\n",
      "- SELECT////X////\"Y\": Fill the <input> or <textarea> element that has a relative xpath X\n",
      "- FILL////X\n"
     ]
    }
   ],
   "source": [
    "print(generated_text[len(prompt):])"
   ]
  },
  {
   "cell_type": "markdown",
   "id": "9b3c0989",
   "metadata": {},
   "source": [
    "## BertGeneration"
   ]
  },
  {
   "cell_type": "code",
   "execution_count": 5,
   "id": "cd99a02f",
   "metadata": {
    "ExecuteTime": {
     "end_time": "2023-05-15T21:08:40.922170Z",
     "start_time": "2023-05-15T21:08:40.918586Z"
    }
   },
   "outputs": [],
   "source": [
    "# !pip3 install transformers[sentencepiece]"
   ]
  },
  {
   "cell_type": "code",
   "execution_count": 6,
   "id": "a4f2470a",
   "metadata": {
    "ExecuteTime": {
     "end_time": "2023-05-15T21:08:41.186980Z",
     "start_time": "2023-05-15T21:08:41.139653Z"
    }
   },
   "outputs": [],
   "source": [
    "from transformers import BertGenerationDecoder, BertGenerationConfig"
   ]
  },
  {
   "cell_type": "code",
   "execution_count": 8,
   "id": "3df69640",
   "metadata": {
    "ExecuteTime": {
     "end_time": "2023-05-15T21:19:18.723819Z",
     "start_time": "2023-05-15T21:19:08.364791Z"
    }
   },
   "outputs": [
    {
     "name": "stderr",
     "output_type": "stream",
     "text": [
      "Some weights of BertGenerationDecoder were not initialized from the model checkpoint at google/bert_for_seq_generation_L-24_bbc_encoder and are newly initialized: ['lm_head.bias']\n",
      "You should probably TRAIN this model on a down-stream task to be able to use it for predictions and inference.\n"
     ]
    }
   ],
   "source": [
    "tokenizer = AutoTokenizer.from_pretrained(\"google/bert_for_seq_generation_L-24_bbc_encoder\")\n",
    "config = BertGenerationConfig.from_pretrained(\"google/bert_for_seq_generation_L-24_bbc_encoder\")\n",
    "config.is_decoder = True\n",
    "model = BertGenerationDecoder.from_pretrained(\n",
    "    \"google/bert_for_seq_generation_L-24_bbc_encoder\", config=config\n",
    ")"
   ]
  },
  {
   "cell_type": "code",
   "execution_count": 14,
   "id": "3c9edfdb",
   "metadata": {
    "ExecuteTime": {
     "end_time": "2023-05-15T21:22:54.697173Z",
     "start_time": "2023-05-15T21:22:42.514499Z"
    }
   },
   "outputs": [
    {
     "ename": "IndexError",
     "evalue": "index -1 is out of bounds for dimension 1 with size 0",
     "output_type": "error",
     "traceback": [
      "\u001b[0;31m---------------------------------------------------------------------------\u001b[0m",
      "\u001b[0;31mIndexError\u001b[0m                                Traceback (most recent call last)",
      "Cell \u001b[0;32mIn[14], line 1\u001b[0m\n\u001b[0;32m----> 1\u001b[0m generated_text \u001b[38;5;241m=\u001b[39m \u001b[43mgenerate_text\u001b[49m\u001b[43m(\u001b[49m\u001b[43mprompt\u001b[49m\u001b[43m)\u001b[49m\n",
      "Cell \u001b[0;32mIn[13], line 5\u001b[0m, in \u001b[0;36mgenerate_text\u001b[0;34m(prompt, max_length, temperature)\u001b[0m\n\u001b[1;32m      2\u001b[0m input_ids \u001b[38;5;241m=\u001b[39m tokenizer\u001b[38;5;241m.\u001b[39mencode(prompt, return_tensors\u001b[38;5;241m=\u001b[39m\u001b[38;5;124m\"\u001b[39m\u001b[38;5;124mpt\u001b[39m\u001b[38;5;124m\"\u001b[39m)\u001b[38;5;241m.\u001b[39mto(device)\n\u001b[1;32m      4\u001b[0m \u001b[38;5;66;03m# Generate text\u001b[39;00m\n\u001b[0;32m----> 5\u001b[0m output \u001b[38;5;241m=\u001b[39m \u001b[43mmodel\u001b[49m\u001b[38;5;241;43m.\u001b[39;49m\u001b[43mgenerate\u001b[49m\u001b[43m(\u001b[49m\n\u001b[1;32m      6\u001b[0m \u001b[43m    \u001b[49m\u001b[43minput_ids\u001b[49m\u001b[38;5;241;43m=\u001b[39;49m\u001b[43minput_ids\u001b[49m\u001b[43m,\u001b[49m\n\u001b[1;32m      7\u001b[0m \u001b[43m    \u001b[49m\u001b[43mmax_new_tokens\u001b[49m\u001b[38;5;241;43m=\u001b[39;49m\u001b[43mmax_length\u001b[49m\u001b[43m,\u001b[49m\n\u001b[1;32m      8\u001b[0m \u001b[43m    \u001b[49m\u001b[43mtemperature\u001b[49m\u001b[38;5;241;43m=\u001b[39;49m\u001b[43mtemperature\u001b[49m\u001b[43m,\u001b[49m\n\u001b[1;32m      9\u001b[0m \u001b[43m    \u001b[49m\u001b[43mpad_token_id\u001b[49m\u001b[38;5;241;43m=\u001b[39;49m\u001b[43mtokenizer\u001b[49m\u001b[38;5;241;43m.\u001b[39;49m\u001b[43meos_token_id\u001b[49m\u001b[43m,\u001b[49m\n\u001b[1;32m     10\u001b[0m \u001b[43m    \u001b[49m\u001b[38;5;66;43;03m# do_sample=True,\u001b[39;49;00m\n\u001b[1;32m     11\u001b[0m \u001b[43m    \u001b[49m\u001b[38;5;66;43;03m# num_return_sequences=1\u001b[39;49;00m\n\u001b[1;32m     12\u001b[0m \u001b[43m\u001b[49m\u001b[43m)\u001b[49m\n\u001b[1;32m     14\u001b[0m \u001b[38;5;66;03m# Decode and return the generated text\u001b[39;00m\n\u001b[1;32m     15\u001b[0m generated_text \u001b[38;5;241m=\u001b[39m tokenizer\u001b[38;5;241m.\u001b[39mdecode(output[\u001b[38;5;241m0\u001b[39m], skip_special_tokens\u001b[38;5;241m=\u001b[39m\u001b[38;5;28;01mTrue\u001b[39;00m)\n",
      "File \u001b[0;32m/Library/Frameworks/Python.framework/Versions/3.10/lib/python3.10/site-packages/torch/autograd/grad_mode.py:27\u001b[0m, in \u001b[0;36m_DecoratorContextManager.__call__.<locals>.decorate_context\u001b[0;34m(*args, **kwargs)\u001b[0m\n\u001b[1;32m     24\u001b[0m \u001b[38;5;129m@functools\u001b[39m\u001b[38;5;241m.\u001b[39mwraps(func)\n\u001b[1;32m     25\u001b[0m \u001b[38;5;28;01mdef\u001b[39;00m \u001b[38;5;21mdecorate_context\u001b[39m(\u001b[38;5;241m*\u001b[39margs, \u001b[38;5;241m*\u001b[39m\u001b[38;5;241m*\u001b[39mkwargs):\n\u001b[1;32m     26\u001b[0m     \u001b[38;5;28;01mwith\u001b[39;00m \u001b[38;5;28mself\u001b[39m\u001b[38;5;241m.\u001b[39mclone():\n\u001b[0;32m---> 27\u001b[0m         \u001b[38;5;28;01mreturn\u001b[39;00m \u001b[43mfunc\u001b[49m\u001b[43m(\u001b[49m\u001b[38;5;241;43m*\u001b[39;49m\u001b[43margs\u001b[49m\u001b[43m,\u001b[49m\u001b[43m \u001b[49m\u001b[38;5;241;43m*\u001b[39;49m\u001b[38;5;241;43m*\u001b[39;49m\u001b[43mkwargs\u001b[49m\u001b[43m)\u001b[49m\n",
      "File \u001b[0;32m/Library/Frameworks/Python.framework/Versions/3.10/lib/python3.10/site-packages/transformers/generation/utils.py:1391\u001b[0m, in \u001b[0;36mGenerationMixin.generate\u001b[0;34m(self, inputs, generation_config, logits_processor, stopping_criteria, prefix_allowed_tokens_fn, synced_gpus, **kwargs)\u001b[0m\n\u001b[1;32m   1385\u001b[0m         \u001b[38;5;28;01mraise\u001b[39;00m \u001b[38;5;167;01mValueError\u001b[39;00m(\n\u001b[1;32m   1386\u001b[0m             \u001b[38;5;124mf\u001b[39m\u001b[38;5;124m\"\u001b[39m\u001b[38;5;124mnum_return_sequences has to be 1, but is \u001b[39m\u001b[38;5;132;01m{\u001b[39;00mgeneration_config\u001b[38;5;241m.\u001b[39mnum_return_sequences\u001b[38;5;132;01m}\u001b[39;00m\u001b[38;5;124m when doing\u001b[39m\u001b[38;5;124m\"\u001b[39m\n\u001b[1;32m   1387\u001b[0m             \u001b[38;5;124m\"\u001b[39m\u001b[38;5;124m greedy search.\u001b[39m\u001b[38;5;124m\"\u001b[39m\n\u001b[1;32m   1388\u001b[0m         )\n\u001b[1;32m   1390\u001b[0m     \u001b[38;5;66;03m# 11. run greedy search\u001b[39;00m\n\u001b[0;32m-> 1391\u001b[0m     \u001b[38;5;28;01mreturn\u001b[39;00m \u001b[38;5;28;43mself\u001b[39;49m\u001b[38;5;241;43m.\u001b[39;49m\u001b[43mgreedy_search\u001b[49m\u001b[43m(\u001b[49m\n\u001b[1;32m   1392\u001b[0m \u001b[43m        \u001b[49m\u001b[43minput_ids\u001b[49m\u001b[43m,\u001b[49m\n\u001b[1;32m   1393\u001b[0m \u001b[43m        \u001b[49m\u001b[43mlogits_processor\u001b[49m\u001b[38;5;241;43m=\u001b[39;49m\u001b[43mlogits_processor\u001b[49m\u001b[43m,\u001b[49m\n\u001b[1;32m   1394\u001b[0m \u001b[43m        \u001b[49m\u001b[43mstopping_criteria\u001b[49m\u001b[38;5;241;43m=\u001b[39;49m\u001b[43mstopping_criteria\u001b[49m\u001b[43m,\u001b[49m\n\u001b[1;32m   1395\u001b[0m \u001b[43m        \u001b[49m\u001b[43mpad_token_id\u001b[49m\u001b[38;5;241;43m=\u001b[39;49m\u001b[43mgeneration_config\u001b[49m\u001b[38;5;241;43m.\u001b[39;49m\u001b[43mpad_token_id\u001b[49m\u001b[43m,\u001b[49m\n\u001b[1;32m   1396\u001b[0m \u001b[43m        \u001b[49m\u001b[43meos_token_id\u001b[49m\u001b[38;5;241;43m=\u001b[39;49m\u001b[43mgeneration_config\u001b[49m\u001b[38;5;241;43m.\u001b[39;49m\u001b[43meos_token_id\u001b[49m\u001b[43m,\u001b[49m\n\u001b[1;32m   1397\u001b[0m \u001b[43m        \u001b[49m\u001b[43moutput_scores\u001b[49m\u001b[38;5;241;43m=\u001b[39;49m\u001b[43mgeneration_config\u001b[49m\u001b[38;5;241;43m.\u001b[39;49m\u001b[43moutput_scores\u001b[49m\u001b[43m,\u001b[49m\n\u001b[1;32m   1398\u001b[0m \u001b[43m        \u001b[49m\u001b[43mreturn_dict_in_generate\u001b[49m\u001b[38;5;241;43m=\u001b[39;49m\u001b[43mgeneration_config\u001b[49m\u001b[38;5;241;43m.\u001b[39;49m\u001b[43mreturn_dict_in_generate\u001b[49m\u001b[43m,\u001b[49m\n\u001b[1;32m   1399\u001b[0m \u001b[43m        \u001b[49m\u001b[43msynced_gpus\u001b[49m\u001b[38;5;241;43m=\u001b[39;49m\u001b[43msynced_gpus\u001b[49m\u001b[43m,\u001b[49m\n\u001b[1;32m   1400\u001b[0m \u001b[43m        \u001b[49m\u001b[38;5;241;43m*\u001b[39;49m\u001b[38;5;241;43m*\u001b[39;49m\u001b[43mmodel_kwargs\u001b[49m\u001b[43m,\u001b[49m\n\u001b[1;32m   1401\u001b[0m \u001b[43m    \u001b[49m\u001b[43m)\u001b[49m\n\u001b[1;32m   1403\u001b[0m \u001b[38;5;28;01melif\u001b[39;00m is_contrastive_search_gen_mode:\n\u001b[1;32m   1404\u001b[0m     \u001b[38;5;28;01mif\u001b[39;00m generation_config\u001b[38;5;241m.\u001b[39mnum_return_sequences \u001b[38;5;241m>\u001b[39m \u001b[38;5;241m1\u001b[39m:\n",
      "File \u001b[0;32m/Library/Frameworks/Python.framework/Versions/3.10/lib/python3.10/site-packages/transformers/generation/utils.py:2189\u001b[0m, in \u001b[0;36mGenerationMixin.greedy_search\u001b[0;34m(self, input_ids, logits_processor, stopping_criteria, max_length, pad_token_id, eos_token_id, output_attentions, output_hidden_states, output_scores, return_dict_in_generate, synced_gpus, **model_kwargs)\u001b[0m\n\u001b[1;32m   2186\u001b[0m \u001b[38;5;28;01mif\u001b[39;00m synced_gpus \u001b[38;5;129;01mand\u001b[39;00m this_peer_finished:\n\u001b[1;32m   2187\u001b[0m     \u001b[38;5;28;01mcontinue\u001b[39;00m  \u001b[38;5;66;03m# don't waste resources running the code we don't need\u001b[39;00m\n\u001b[0;32m-> 2189\u001b[0m next_token_logits \u001b[38;5;241m=\u001b[39m \u001b[43moutputs\u001b[49m\u001b[38;5;241;43m.\u001b[39;49m\u001b[43mlogits\u001b[49m\u001b[43m[\u001b[49m\u001b[43m:\u001b[49m\u001b[43m,\u001b[49m\u001b[43m \u001b[49m\u001b[38;5;241;43m-\u001b[39;49m\u001b[38;5;241;43m1\u001b[39;49m\u001b[43m,\u001b[49m\u001b[43m \u001b[49m\u001b[43m:\u001b[49m\u001b[43m]\u001b[49m\n\u001b[1;32m   2191\u001b[0m \u001b[38;5;66;03m# pre-process distribution\u001b[39;00m\n\u001b[1;32m   2192\u001b[0m next_tokens_scores \u001b[38;5;241m=\u001b[39m logits_processor(input_ids, next_token_logits)\n",
      "\u001b[0;31mIndexError\u001b[0m: index -1 is out of bounds for dimension 1 with size 0"
     ]
    }
   ],
   "source": [
    "generated_text = generate_text(prompt)"
   ]
  },
  {
   "cell_type": "code",
   "execution_count": 12,
   "id": "5357d087",
   "metadata": {
    "ExecuteTime": {
     "end_time": "2023-05-15T21:22:23.663359Z",
     "start_time": "2023-05-15T21:22:23.657611Z"
    }
   },
   "outputs": [
    {
     "data": {
      "text/plain": [
       "'You are an agent filling forms on a website. You can issue these commands: - FILL////X////\"Y\": Fill the <input> or <textarea> element that has a relative xpath X with value Y - SELECT////X////\"Y\": Select the option Y in the <select> element that has a relative xpath XEach command must be issued in a new line, with no preceding or trailing text values.You are given a form to fill. The form\\'s html is as follows:<form _ngcontent-jwh-c36=\"\" novalidate=\"\" method=\"get\" id=\"search-owner-form\" class=\"form-horizontal ng-untouched ng-pristine ng-valid ng-submitted\"><div _ngcontent-jwh-c36=\"\" class=\"form-group\"><div _ngcontent-jwh-c36=\"\" id=\"lastNameGroup\" class=\"control-group\"><label _ngcontent-jwh-c36=\"\" class=\"col-sm-2 control-label\">Last name </label><div _ngcontent-jwh-c36=\"\" class=\"col-sm-10\"><input _ngcontent-jwh-c36=\"\" size=\"30\" maxlength=\"80\" id=\"lastName\" name=\"lastName\" value=\"\" class=\"form-control ng-untouched ng-pristine ng-valid\"><span _ngcontent-jwh-c36=\"\" class=\"help-inline\"></span></div></div></div><div _ngcontent-jwh-c36=\"\" class=\"form-group\"><div _ngcontent-jwh-c36=\"\" class=\"col-sm-offset-2 col-sm-10\"><button _ngcontent-jwh-c36=\"\" type=\"submit\" class=\"btn btn-default\">Find Owner</button></div></div></form>The xpath in this format must be relative to the form element. Just give me the commands and nothing else.YOUR COMMANDS:Miller'"
      ]
     },
     "execution_count": 12,
     "metadata": {},
     "output_type": "execute_result"
    }
   ],
   "source": [
    "generated_text"
   ]
  },
  {
   "cell_type": "code",
   "execution_count": null,
   "id": "9c2fbc91",
   "metadata": {},
   "outputs": [],
   "source": []
  }
 ],
 "metadata": {
  "kernelspec": {
   "display_name": "Python 3 (ipykernel)",
   "language": "python",
   "name": "python3"
  },
  "language_info": {
   "codemirror_mode": {
    "name": "ipython",
    "version": 3
   },
   "file_extension": ".py",
   "mimetype": "text/x-python",
   "name": "python",
   "nbconvert_exporter": "python",
   "pygments_lexer": "ipython3",
   "version": "3.10.9"
  },
  "toc": {
   "base_numbering": 1,
   "nav_menu": {},
   "number_sections": true,
   "sideBar": true,
   "skip_h1_title": false,
   "title_cell": "Table of Contents",
   "title_sidebar": "Contents",
   "toc_cell": false,
   "toc_position": {},
   "toc_section_display": true,
   "toc_window_display": false
  },
  "varInspector": {
   "cols": {
    "lenName": 16,
    "lenType": 16,
    "lenVar": 40
   },
   "kernels_config": {
    "python": {
     "delete_cmd_postfix": "",
     "delete_cmd_prefix": "del ",
     "library": "var_list.py",
     "varRefreshCmd": "print(var_dic_list())"
    },
    "r": {
     "delete_cmd_postfix": ") ",
     "delete_cmd_prefix": "rm(",
     "library": "var_list.r",
     "varRefreshCmd": "cat(var_dic_list()) "
    }
   },
   "types_to_exclude": [
    "module",
    "function",
    "builtin_function_or_method",
    "instance",
    "_Feature"
   ],
   "window_display": false
  }
 },
 "nbformat": 4,
 "nbformat_minor": 5
}
