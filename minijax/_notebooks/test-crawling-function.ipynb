{
 "cells": [
  {
   "cell_type": "markdown",
   "id": "083ed11d",
   "metadata": {},
   "source": [
    "# Imports"
   ]
  },
  {
   "cell_type": "code",
   "execution_count": 1,
   "id": "17f0d376",
   "metadata": {
    "ExecuteTime": {
     "end_time": "2023-05-15T18:44:00.491288Z",
     "start_time": "2023-05-15T18:44:00.487024Z"
    }
   },
   "outputs": [],
   "source": [
    "import os\n",
    "import sys\n",
    "module_path = os.path.abspath(os.path.join('.'))\n",
    "if module_path not in sys.path:\n",
    "    sys.path.append(module_path)"
   ]
  },
  {
   "cell_type": "code",
   "execution_count": 2,
   "id": "7df9a12a",
   "metadata": {
    "ExecuteTime": {
     "end_time": "2023-05-15T18:44:00.718273Z",
     "start_time": "2023-05-15T18:44:00.682935Z"
    }
   },
   "outputs": [],
   "source": [
    "%load_ext autoreload\n",
    "%autoreload 2"
   ]
  },
  {
   "cell_type": "code",
   "execution_count": 14,
   "id": "cfc50d87",
   "metadata": {
    "ExecuteTime": {
     "end_time": "2023-05-15T18:46:44.350021Z",
     "start_time": "2023-05-15T18:46:43.336280Z"
    }
   },
   "outputs": [],
   "source": [
    "import time\n",
    "import openai\n",
    "from enum import Enum\n",
    "from selenium import webdriver\n",
    "from selenium.webdriver.chrome.service import Service\n",
    "from webdriver_manager.chrome import ChromeDriverManager\n",
    "from selenium.webdriver.common.by import By"
   ]
  },
  {
   "cell_type": "markdown",
   "id": "d753c9a3",
   "metadata": {},
   "source": [
    "# Driver"
   ]
  },
  {
   "cell_type": "code",
   "execution_count": 4,
   "id": "9a8f0ad5",
   "metadata": {
    "ExecuteTime": {
     "end_time": "2023-05-15T18:44:05.943768Z",
     "start_time": "2023-05-15T18:44:03.449648Z"
    }
   },
   "outputs": [],
   "source": [
    "driver = webdriver.Chrome(service=Service(ChromeDriverManager().install()))"
   ]
  },
  {
   "cell_type": "code",
   "execution_count": 5,
   "id": "a4a0d6bb",
   "metadata": {
    "ExecuteTime": {
     "end_time": "2023-05-15T18:44:06.652817Z",
     "start_time": "2023-05-15T18:44:06.021539Z"
    }
   },
   "outputs": [],
   "source": [
    "URL = \"http://localhost:8080\"\n",
    "driver.get(URL)"
   ]
  },
  {
   "cell_type": "markdown",
   "id": "52ec0317",
   "metadata": {},
   "source": [
    "# Utils"
   ]
  },
  {
   "cell_type": "code",
   "execution_count": 9,
   "id": "a198a5dc",
   "metadata": {
    "ExecuteTime": {
     "end_time": "2023-05-15T18:46:00.383449Z",
     "start_time": "2023-05-15T18:46:00.349179Z"
    }
   },
   "outputs": [],
   "source": [
    "def get_element_xpath(driver, element):\n",
    "    xpath_script = \"\"\"\n",
    "        function getPathTo(element) {\n",
    "            // if (element.id !== '')\n",
    "            //     return 'id(\\\"'+element.id+'\\\")';\n",
    "            if (element === document.body)\n",
    "                return element.tagName;\n",
    "            var ix= 0;\n",
    "            var siblings= element.parentNode.childNodes;\n",
    "            for (var i= 0; i<siblings.length; i++) {\n",
    "                var sibling= siblings[i];\n",
    "                if (sibling===element)\n",
    "                    return getPathTo(element.parentNode) + '/' + element.tagName + '[' + (ix + 1) + ']';\n",
    "                if (sibling.nodeType===1 && sibling.tagName===element.tagName)\n",
    "                    ix++;\n",
    "            }\n",
    "        }\n",
    "        const path = getPathTo(arguments[0]);\n",
    "        if (path.startsWith('id(')) {\n",
    "            return path;\n",
    "        }\n",
    "        return '//' + path;\n",
    "    \"\"\"\n",
    "    \n",
    "    xpath = driver.execute_script(xpath_script, element)\n",
    "    return xpath"
   ]
  },
  {
   "cell_type": "code",
   "execution_count": 10,
   "id": "4148e110",
   "metadata": {
    "ExecuteTime": {
     "end_time": "2023-05-15T18:46:01.395913Z",
     "start_time": "2023-05-15T18:46:01.159354Z"
    }
   },
   "outputs": [],
   "source": [
    "driver.get(URL)\n",
    "driver.find_element(By.XPATH, '//BODY/APP-ROOT[1]/DIV[1]/NAV[1]/DIV[1]/UL[1]/LI[2]/A[1]').click()\n",
    "driver.find_element(By.XPATH, '//BODY/APP-ROOT[1]/DIV[1]/NAV[1]/DIV[1]/UL[1]/LI[2]/UL[1]/LI[1]/A[1]').click()"
   ]
  },
  {
   "cell_type": "code",
   "execution_count": 17,
   "id": "e2b3a808",
   "metadata": {
    "ExecuteTime": {
     "end_time": "2023-05-15T18:47:17.904032Z",
     "start_time": "2023-05-15T18:47:17.858225Z"
    }
   },
   "outputs": [],
   "source": [
    "gpt3_completion_prompt = \"\"\"You are an agent filling forms on a website. You can issue these commands:\n",
    "    - FILL////X////\"Y\": Fill the <input> or <textarea> element that has a relative xpath X with value Y\n",
    "    - SELECT////X////\"Y\": Select the option Y in the <select> element that has a relative xpath X\n",
    "Each command must be issued in a new line, with no preceding or trailing text values.\n",
    "You are given a form to fill. The form's html is as follows:\n",
    "{form_html}\n",
    "The xpath in this format must be relative to the form element. Just give me the commands and nothing else.\n",
    "YOUR COMMANDS:\"\"\"\n",
    "\n",
    "\n",
    "def fill_form_gpt3(form, zero_shot=True):\n",
    "    \n",
    "    for command in commands:\n",
    "        try:\n",
    "            print(command)\n",
    "            cmd, xpath, value = command.split('////')\n",
    "            complete_xpath = f'{base_xpath}/{xpath}'\n",
    "            values[complete_xpath] = value\n",
    "            if cmd == 'FILL':\n",
    "                form.find_element(By.XPATH, complete_xpath).send_keys(value)\n",
    "            elif cmd == 'SELECT':\n",
    "                select = Select(form.find_element(By.XPATH, complete_xpath))\n",
    "                select.select_by_visible_text(value)\n",
    "        except:\n",
    "            continue\n",
    "    return values"
   ]
  },
  {
   "cell_type": "code",
   "execution_count": 19,
   "id": "ae25daa4",
   "metadata": {
    "ExecuteTime": {
     "end_time": "2023-05-15T18:47:44.170531Z",
     "start_time": "2023-05-15T18:47:42.000068Z"
    }
   },
   "outputs": [
    {
     "name": "stdout",
     "output_type": "stream",
     "text": [
      "['FILL////input[@id=\"lastName\"]////\"Smith\"']\n"
     ]
    }
   ],
   "source": [
    "form = driver.find_element(By.TAG_NAME, 'form')\n",
    "base_xpath = get_element_xpath(driver, form)\n",
    "form_html = form.get_attribute('outerHTML')\n",
    "prompt = gpt3_completion_prompt.format(form_html=form_html)\n",
    "res = openai.Completion.create(\n",
    "    model='text-davinci-003',\n",
    "    prompt=prompt,\n",
    "    temperature=0.5,\n",
    "    max_tokens=512,\n",
    "    top_p=1,\n",
    "    frequency_penalty=0,\n",
    "    presence_penalty=0\n",
    ")\n",
    "values = {}\n",
    "commands = res.choices[0].text.split('\\n')[1:]\n",
    "print(commands)"
   ]
  },
  {
   "cell_type": "code",
   "execution_count": 21,
   "id": "42b100e7",
   "metadata": {
    "ExecuteTime": {
     "end_time": "2023-05-15T18:48:06.973415Z",
     "start_time": "2023-05-15T18:48:06.906274Z"
    }
   },
   "outputs": [
    {
     "name": "stdout",
     "output_type": "stream",
     "text": [
      "FILL////input[@id=\"lastName\"]////\"Smith\"\n",
      "//BODY/APP-ROOT[1]/APP-OWNER-LIST[1]/DIV[1]/DIV[1]/FORM[1]/input[@id=\"lastName\"]\n"
     ]
    }
   ],
   "source": [
    "for command in commands:\n",
    "    try:\n",
    "        print(command)\n",
    "        cmd, xpath, value = command.split('////')\n",
    "        complete_xpath = f'{base_xpath}/{xpath}'\n",
    "        print(complete_xpath)\n",
    "        values[complete_xpath] = value\n",
    "        if cmd == 'FILL':\n",
    "            form.find_element(By.XPATH, complete_xpath).send_keys(value)\n",
    "        elif cmd == 'SELECT':\n",
    "            select = Select(form.find_element(By.XPATH, complete_xpath))\n",
    "            select.select_by_visible_text(value)\n",
    "    except:\n",
    "        continue"
   ]
  },
  {
   "cell_type": "code",
   "execution_count": 24,
   "id": "9f63b7fa",
   "metadata": {
    "ExecuteTime": {
     "end_time": "2023-05-15T18:49:07.773816Z",
     "start_time": "2023-05-15T18:49:07.710892Z"
    }
   },
   "outputs": [
    {
     "data": {
      "text/plain": [
       "<selenium.webdriver.remote.webelement.WebElement (session=\"0ce58cb724d0e5738eb8ba8d90871965\", element=\"1AA8FF6FBD2CA6356A85E3198AF2BDE3_element_108\")>"
      ]
     },
     "execution_count": 24,
     "metadata": {},
     "output_type": "execute_result"
    }
   ],
   "source": [
    "form.find_element(By.XPATH, '//input[@id=\"lastName\"]')"
   ]
  },
  {
   "cell_type": "code",
   "execution_count": null,
   "id": "4f43c62f",
   "metadata": {},
   "outputs": [],
   "source": []
  }
 ],
 "metadata": {
  "kernelspec": {
   "display_name": "Python 3 (ipykernel)",
   "language": "python",
   "name": "python3"
  },
  "language_info": {
   "codemirror_mode": {
    "name": "ipython",
    "version": 3
   },
   "file_extension": ".py",
   "mimetype": "text/x-python",
   "name": "python",
   "nbconvert_exporter": "python",
   "pygments_lexer": "ipython3",
   "version": "3.10.9"
  },
  "toc": {
   "base_numbering": 1,
   "nav_menu": {},
   "number_sections": true,
   "sideBar": true,
   "skip_h1_title": false,
   "title_cell": "Table of Contents",
   "title_sidebar": "Contents",
   "toc_cell": false,
   "toc_position": {},
   "toc_section_display": true,
   "toc_window_display": false
  },
  "varInspector": {
   "cols": {
    "lenName": 16,
    "lenType": 16,
    "lenVar": 40
   },
   "kernels_config": {
    "python": {
     "delete_cmd_postfix": "",
     "delete_cmd_prefix": "del ",
     "library": "var_list.py",
     "varRefreshCmd": "print(var_dic_list())"
    },
    "r": {
     "delete_cmd_postfix": ") ",
     "delete_cmd_prefix": "rm(",
     "library": "var_list.r",
     "varRefreshCmd": "cat(var_dic_list()) "
    }
   },
   "types_to_exclude": [
    "module",
    "function",
    "builtin_function_or_method",
    "instance",
    "_Feature"
   ],
   "window_display": false
  }
 },
 "nbformat": 4,
 "nbformat_minor": 5
}
