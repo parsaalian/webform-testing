{
 "cells": [
  {
   "cell_type": "code",
   "execution_count": 1,
   "id": "4b35f884",
   "metadata": {
    "ExecuteTime": {
     "end_time": "2023-04-22T23:51:24.977758Z",
     "start_time": "2023-04-22T23:51:24.713437Z"
    }
   },
   "outputs": [],
   "source": [
    "import re\n",
    "import json\n",
    "from bs4 import BeautifulSoup as bs, NavigableString, Comment, Script\n",
    "from selenium import webdriver\n",
    "from selenium.webdriver.chrome.service import Service\n",
    "from webdriver_manager.chrome import ChromeDriverManager\n",
    "from selenium.webdriver.common.by import By"
   ]
  },
  {
   "cell_type": "code",
   "execution_count": 2,
   "id": "803bdbf3",
   "metadata": {
    "ExecuteTime": {
     "end_time": "2023-04-22T23:51:26.901312Z",
     "start_time": "2023-04-22T23:51:24.996922Z"
    }
   },
   "outputs": [],
   "source": [
    "driver = webdriver.Chrome(service=Service(ChromeDriverManager().install()))"
   ]
  },
  {
   "cell_type": "code",
   "execution_count": 3,
   "id": "0163a285",
   "metadata": {
    "ExecuteTime": {
     "end_time": "2023-04-22T23:51:29.491883Z",
     "start_time": "2023-04-22T23:51:26.937046Z"
    }
   },
   "outputs": [],
   "source": [
    "URL = \"https://ant.design/components/form#register\"\n",
    "driver.get(URL)\n"
   ]
  },
  {
   "cell_type": "code",
   "execution_count": 4,
   "id": "3f257b2a",
   "metadata": {
    "ExecuteTime": {
     "end_time": "2023-04-22T23:51:29.519471Z",
     "start_time": "2023-04-22T23:51:29.508459Z"
    }
   },
   "outputs": [],
   "source": [
    "form = driver.find_element(By.ID, 'register')"
   ]
  },
  {
   "cell_type": "code",
   "execution_count": 5,
   "id": "866ba168",
   "metadata": {
    "ExecuteTime": {
     "end_time": "2023-04-22T23:51:29.816950Z",
     "start_time": "2023-04-22T23:51:29.535648Z"
    }
   },
   "outputs": [
    {
     "ename": "ModuleNotFoundError",
     "evalue": "No module named 'networkx'",
     "output_type": "error",
     "traceback": [
      "\u001b[0;31m---------------------------------------------------------------------------\u001b[0m",
      "\u001b[0;31mModuleNotFoundError\u001b[0m                       Traceback (most recent call last)",
      "Cell \u001b[0;32mIn[5], line 1\u001b[0m\n\u001b[0;32m----> 1\u001b[0m \u001b[38;5;28;01mimport\u001b[39;00m \u001b[38;5;21;01mnetworkx\u001b[39;00m \u001b[38;5;28;01mas\u001b[39;00m \u001b[38;5;21;01mnx\u001b[39;00m\n\u001b[1;32m      2\u001b[0m \u001b[38;5;28;01mimport\u001b[39;00m \u001b[38;5;21;01mmatplotlib\u001b[39;00m\u001b[38;5;21;01m.\u001b[39;00m\u001b[38;5;21;01mpyplot\u001b[39;00m \u001b[38;5;28;01mas\u001b[39;00m \u001b[38;5;21;01mplt\u001b[39;00m\n\u001b[1;32m      3\u001b[0m \u001b[38;5;28;01mfrom\u001b[39;00m \u001b[38;5;21;01mcollections\u001b[39;00m \u001b[38;5;28;01mimport\u001b[39;00m defaultdict\n",
      "\u001b[0;31mModuleNotFoundError\u001b[0m: No module named 'networkx'"
     ]
    }
   ],
   "source": [
    "import networkx as nx\n",
    "import matplotlib.pyplot as plt\n",
    "from collections import defaultdict\n",
    "from bs4 import BeautifulSoup as soup\n",
    "\n",
    "ex0 = form.get_attribute('outerHTML')\n",
    "d = soup(ex0, 'html.parser')\n",
    "\n",
    "def _traverse_html(_d:soup, _graph:nx.Graph, _counter, _parent=None) -> None:\n",
    "    for i in _d.contents:\n",
    "        if i.name is not None:\n",
    "            try:\n",
    "                _name_count = _counter.get(i.name)\n",
    "                if _parent is not None:\n",
    "                    _graph.add_node(_parent)\n",
    "                    _graph.add_edge(_parent, i.name if not _name_count else f'{i.name}_{_name_count}')\n",
    "                _counter[i.name] += 1\n",
    "                _traverse_html(i, _graph, _counter, i.name)\n",
    "            except AttributeError:\n",
    "                pass\n",
    "        \n",
    "\n",
    "_full_graph = nx.Graph()\n",
    "_traverse_html(d, _full_graph, defaultdict(int))\n",
    "nx.draw(_full_graph, with_labels = True)   \n",
    "plt.show()"
   ]
  },
  {
   "cell_type": "code",
   "execution_count": null,
   "id": "22354279",
   "metadata": {},
   "outputs": [],
   "source": []
  }
 ],
 "metadata": {
  "kernelspec": {
   "display_name": "Python 3 (ipykernel)",
   "language": "python",
   "name": "python3"
  },
  "language_info": {
   "codemirror_mode": {
    "name": "ipython",
    "version": 3
   },
   "file_extension": ".py",
   "mimetype": "text/x-python",
   "name": "python",
   "nbconvert_exporter": "python",
   "pygments_lexer": "ipython3",
   "version": "3.10.9"
  },
  "toc": {
   "base_numbering": 1,
   "nav_menu": {},
   "number_sections": true,
   "sideBar": true,
   "skip_h1_title": false,
   "title_cell": "Table of Contents",
   "title_sidebar": "Contents",
   "toc_cell": false,
   "toc_position": {},
   "toc_section_display": true,
   "toc_window_display": false
  },
  "varInspector": {
   "cols": {
    "lenName": 16,
    "lenType": 16,
    "lenVar": 40
   },
   "kernels_config": {
    "python": {
     "delete_cmd_postfix": "",
     "delete_cmd_prefix": "del ",
     "library": "var_list.py",
     "varRefreshCmd": "print(var_dic_list())"
    },
    "r": {
     "delete_cmd_postfix": ") ",
     "delete_cmd_prefix": "rm(",
     "library": "var_list.r",
     "varRefreshCmd": "cat(var_dic_list()) "
    }
   },
   "types_to_exclude": [
    "module",
    "function",
    "builtin_function_or_method",
    "instance",
    "_Feature"
   ],
   "window_display": false
  }
 },
 "nbformat": 4,
 "nbformat_minor": 5
}
