{
 "cells": [
  {
   "cell_type": "code",
   "execution_count": 7,
   "id": "9bf06328",
   "metadata": {
    "ExecuteTime": {
     "end_time": "2023-03-17T16:09:52.468784Z",
     "start_time": "2023-03-17T16:09:52.395239Z"
    }
   },
   "outputs": [
    {
     "data": {
      "text/plain": [
       "True"
      ]
     },
     "execution_count": 7,
     "metadata": {},
     "output_type": "execute_result"
    }
   ],
   "source": [
    "from bs4 import BeautifulSoup as bs\n",
    "import pandas as pd\n",
    "import openai\n",
    "from dotenv import load_dotenv\n",
    "load_dotenv()"
   ]
  },
  {
   "cell_type": "code",
   "execution_count": 3,
   "id": "79e1653b",
   "metadata": {
    "ExecuteTime": {
     "end_time": "2023-03-17T16:08:40.707993Z",
     "start_time": "2023-03-17T16:08:40.705127Z"
    }
   },
   "outputs": [],
   "source": [
    "openai.api_key = os.getenv(\"OPENAI_API_KEY\")\n",
    "model_name = os.getenv(\"MODEL_NAME\")"
   ]
  },
  {
   "cell_type": "code",
   "execution_count": 10,
   "id": "ad9e0fdf",
   "metadata": {
    "ExecuteTime": {
     "end_time": "2023-03-17T16:13:04.364143Z",
     "start_time": "2023-03-17T16:13:04.343162Z"
    }
   },
   "outputs": [],
   "source": [
    "df = pd.read_csv(\"data.csv\")\n",
    "prompt = df.loc[1, 'prompt']"
   ]
  },
  {
   "cell_type": "code",
   "execution_count": 11,
   "id": "3aa9cc14",
   "metadata": {
    "ExecuteTime": {
     "end_time": "2023-03-17T16:13:04.911812Z",
     "start_time": "2023-03-17T16:13:04.907173Z"
    }
   },
   "outputs": [
    {
     "name": "stdout",
     "output_type": "stream",
     "text": [
      "<form backgroundcolor=\"black 0\" bordercolor=\"black 0\" color=\"black 0\">\n",
      " <div backgroundcolor=\"black 0\" bordercolor=\"black 0\" color=\"black 0\">\n",
      "  <div backgroundcolor=\"black 0\" bordercolor=\"gainsboro 1\" color=\"black 0\">\n",
      "   <div backgroundcolor=\"black 0\" bordercolor=\"black 0\" color=\"black 0\">\n",
      "    <div backgroundcolor=\"white 1\" bordercolor=\"black 0\" color=\"black 0\">\n",
      "    </div>\n",
      "    <div aria-valuemax=\"100\" aria-valuemin=\"-100\" aria-valuenow=\"6\" autocomplete=\"off\" backgroundcolor=\"black 0\" bordercolor=\"black 0\" color=\"black 0\" disabled=\"\" role=\"spinbutton\" step=\"3\" value=\"6\">\n",
      "    </div>\n",
      "   </div>\n",
      "   <span aria-hidden=\"true\" aria-label=\"close-circle\" backgroundcolor=\"black 0\" bordercolor=\"tomato 1\" color=\"tomato 1\" data-icon=\"close-circle\" fill=\"currentColor\" focusable=\"false\" height=\"1em\" role=\"img\" viewbox=\"64 64 896 896\" width=\"1em\">\n",
      "   </span>\n",
      "  </div>\n",
      "  <div backgroundcolor=\"black 0\" bordercolor=\"black 0\" color=\"black 0\" role=\"alert\">\n",
      "  </div>\n",
      " </div>\n",
      " <div backgroundcolor=\"black 0\" bordercolor=\"black 0\" color=\"black 0\">\n",
      "  <div backgroundcolor=\"black 0\" bordercolor=\"black 0\" color=\"black 0\">\n",
      "   <div backgroundcolor=\"black 0\" bordercolor=\"black 0\" color=\"black 0\">\n",
      "   </div>\n",
      "   <div backgroundcolor=\"black 0\" bordercolor=\"black 0\" color=\"black 0\">\n",
      "    <span backgroundcolor=\"white 1\" bordercolor=\"whitesmoke 1\" color=\"black 0\">\n",
      "    </span>\n",
      "    <span backgroundcolor=\"white 1\" bordercolor=\"whitesmoke 1\" color=\"black 0\">\n",
      "    </span>\n",
      "    <span backgroundcolor=\"white 1\" bordercolor=\"whitesmoke 1\" color=\"black 0\">\n",
      "    </span>\n",
      "    <span backgroundcolor=\"white 1\" bordercolor=\"whitesmoke 1\" color=\"black 0\">\n",
      "    </span>\n",
      "   </div>\n",
      "  </div>\n",
      "  <div backgroundcolor=\"black 0\" bordercolor=\"black 0\" color=\"black 0\" role=\"alert\">\n",
      "  </div>\n",
      " </div>\n",
      "</form>\n"
     ]
    }
   ],
   "source": [
    "print(bs(prompt).prettify())"
   ]
  },
  {
   "cell_type": "code",
   "execution_count": 12,
   "id": "9a31c7d8",
   "metadata": {
    "ExecuteTime": {
     "end_time": "2023-03-17T16:13:16.040723Z",
     "start_time": "2023-03-17T16:13:06.365422Z"
    }
   },
   "outputs": [
    {
     "name": "stdout",
     "output_type": "stream",
     "text": [
      " [{\"label\":\"rate\",\"disabled\":false,\"required\":false,\"defaultValue\":null,\"validationState\":\"\",\"validationMessage\":\"however oil active view\",\"min\":-100,\"max\":100,\"step\":3,\"type\":\"number\",\"options\":null},{\"label\":\"television\",\"disabled\":true,\"required\":true,\"defaultValue\":null,\"validationState\":\"warning\",\"validationMessage\":\"brave active view\",\"min\":-100,\"max\":100,\"step\":3,\"type\":\"number\",\"options\":null}] [{\"label\":\"close-circle\",\"disabled\":true,\"required\":true,\"defaultValue\":null,\"validationState\":\"success\",\"validationMessage\":\"however oil active view\",\"min\":-100,\"max\":100,\"step\":3,\"type\":\"number\",\"options\":null},{\"label\":\"rate\",\"disabled\":false,\"required\":false,\"defaultValue\":null,\"validationState\":\"warning\",\"validationMessage\":\"however oil active view\",\"min\":-100,\"max\":100,\"step\":3,\"type\":\"number\",\"options\":null}] [{\"label\":\"close-circle\",\"disabled\":true,\"required\":true,\"defaultValue\":null,\"validationState\":\"success\",\"validationMessage\":\"however oil active view\",\"min\n"
     ]
    }
   ],
   "source": [
    "response = openai.Completion.create(\n",
    "    model=model_name,\n",
    "    prompt=prompt,\n",
    "    temperature=0,\n",
    "    max_tokens=256,\n",
    "    top_p=1.0,\n",
    "    frequency_penalty=0.0,\n",
    "    presence_penalty=0.0\n",
    ")\n",
    "\n",
    "print(response['choices'][0]['text'])"
   ]
  },
  {
   "cell_type": "code",
   "execution_count": null,
   "id": "a8565795",
   "metadata": {},
   "outputs": [],
   "source": []
  }
 ],
 "metadata": {
  "kernelspec": {
   "display_name": "Python 3 (ipykernel)",
   "language": "python",
   "name": "python3"
  },
  "language_info": {
   "codemirror_mode": {
    "name": "ipython",
    "version": 3
   },
   "file_extension": ".py",
   "mimetype": "text/x-python",
   "name": "python",
   "nbconvert_exporter": "python",
   "pygments_lexer": "ipython3",
   "version": "3.10.9"
  },
  "varInspector": {
   "cols": {
    "lenName": 16,
    "lenType": 16,
    "lenVar": 40
   },
   "kernels_config": {
    "python": {
     "delete_cmd_postfix": "",
     "delete_cmd_prefix": "del ",
     "library": "var_list.py",
     "varRefreshCmd": "print(var_dic_list())"
    },
    "r": {
     "delete_cmd_postfix": ") ",
     "delete_cmd_prefix": "rm(",
     "library": "var_list.r",
     "varRefreshCmd": "cat(var_dic_list()) "
    }
   },
   "types_to_exclude": [
    "module",
    "function",
    "builtin_function_or_method",
    "instance",
    "_Feature"
   ],
   "window_display": false
  }
 },
 "nbformat": 4,
 "nbformat_minor": 5
}
