{
 "cells": [
  {
   "cell_type": "code",
   "execution_count": 1,
   "id": "72f58f64",
   "metadata": {
    "ExecuteTime": {
     "end_time": "2023-04-12T20:00:52.296806Z",
     "start_time": "2023-04-12T20:00:52.011676Z"
    }
   },
   "outputs": [],
   "source": [
    "import os\n",
    "import time\n",
    "\n",
    "from selenium import webdriver\n",
    "from selenium.webdriver.chrome.service import Service\n",
    "from webdriver_manager.chrome import ChromeDriverManager\n",
    "from selenium.webdriver.common.by import By"
   ]
  },
  {
   "cell_type": "code",
   "execution_count": 2,
   "id": "bc42f1cd",
   "metadata": {
    "ExecuteTime": {
     "end_time": "2023-04-12T20:00:52.919418Z",
     "start_time": "2023-04-12T20:00:52.916555Z"
    }
   },
   "outputs": [],
   "source": [
    "URL = \"https://www.amazon.ca/ap/signin?openid.pape.max_auth_age=0&openid.return_to=https%3A%2F%2Fwww.amazon.ca%2F%3Fref_%3Dnav_custrec_signin&openid.identity=http%3A%2F%2Fspecs.openid.net%2Fauth%2F2.0%2Fidentifier_select&openid.assoc_handle=caflex&openid.mode=checkid_setup&openid.claimed_id=http%3A%2F%2Fspecs.openid.net%2Fauth%2F2.0%2Fidentifier_select&openid.ns=http%3A%2F%2Fspecs.openid.net%2Fauth%2F2.0&\"\n"
   ]
  },
  {
   "cell_type": "code",
   "execution_count": 3,
   "id": "acaeedae",
   "metadata": {
    "ExecuteTime": {
     "end_time": "2023-04-12T20:00:58.716404Z",
     "start_time": "2023-04-12T20:00:53.773055Z"
    }
   },
   "outputs": [
    {
     "name": "stderr",
     "output_type": "stream",
     "text": [
      "[WDM] - Downloading: 100%|██████████████████████████████████████████████████████████████████████████████████████████| 8.79M/8.79M [00:01<00:00, 7.38MB/s]\n"
     ]
    }
   ],
   "source": [
    "driver = webdriver.Chrome(service=Service(ChromeDriverManager().install()))\n",
    "driver.get(URL)"
   ]
  },
  {
   "cell_type": "code",
   "execution_count": 4,
   "id": "2763c159",
   "metadata": {
    "ExecuteTime": {
     "end_time": "2023-04-12T20:00:59.721907Z",
     "start_time": "2023-04-12T20:00:59.708971Z"
    }
   },
   "outputs": [],
   "source": [
    "form = driver.find_elements(By.TAG_NAME, 'form')[0]"
   ]
  },
  {
   "cell_type": "code",
   "execution_count": 5,
   "id": "83e58104",
   "metadata": {
    "ExecuteTime": {
     "end_time": "2023-04-12T20:01:00.288016Z",
     "start_time": "2023-04-12T20:01:00.281457Z"
    }
   },
   "outputs": [
    {
     "data": {
      "text/plain": [
       "<selenium.webdriver.remote.webelement.WebElement (session=\"240107841aec83c7bd1f0a09d3447376\", element=\"359d138d-05b3-4ab6-8e8e-90e1dfda0e76\")>"
      ]
     },
     "execution_count": 5,
     "metadata": {},
     "output_type": "execute_result"
    }
   ],
   "source": [
    "form"
   ]
  },
  {
   "cell_type": "markdown",
   "id": "35a678f8",
   "metadata": {},
   "source": [
    "## Class for Data Saving"
   ]
  },
  {
   "cell_type": "code",
   "execution_count": 19,
   "id": "b30a7536",
   "metadata": {
    "ExecuteTime": {
     "end_time": "2023-04-12T20:02:57.371296Z",
     "start_time": "2023-04-12T20:02:57.366347Z"
    }
   },
   "outputs": [],
   "source": [
    "class Element:\n",
    "    def __init__(self, selenium_element):\n",
    "        self.selenium_element = selenium_element\n",
    "        self.attributes = self.extract_attributes()\n",
    "        self.bounding_box = self.extract_bounding_box()\n",
    "    \n",
    "    \n",
    "    def extract_attributes(self):\n",
    "        attributes = {}\n",
    "        for attr in self.selenium_element.get_property('attributes'):\n",
    "            attributes[attr['name']] = attr['value']\n",
    "        return attributes\n",
    "    \n",
    "    \n",
    "    def extract_bounding_box(self):\n",
    "        bounding_box = {}\n",
    "        location = self.selenium_element.location\n",
    "        size = self.selenium_element.size\n",
    "        bounding_box[\"start\"] = (location[\"x\"], location[\"y\"])\n",
    "        bounding_box[\"end\"] = (location[\"x\"] + size[\"width\"], location[\"y\"] + size[\"height\"])\n",
    "        return bounding_box"
   ]
  },
  {
   "cell_type": "code",
   "execution_count": 20,
   "id": "fc4d0805",
   "metadata": {
    "ExecuteTime": {
     "end_time": "2023-04-12T20:02:57.560287Z",
     "start_time": "2023-04-12T20:02:57.541192Z"
    }
   },
   "outputs": [],
   "source": [
    "form_element = Element(form)"
   ]
  },
  {
   "cell_type": "code",
   "execution_count": 21,
   "id": "7128bb42",
   "metadata": {
    "ExecuteTime": {
     "end_time": "2023-04-12T20:02:57.696484Z",
     "start_time": "2023-04-12T20:02:57.692571Z"
    }
   },
   "outputs": [
    {
     "data": {
      "text/plain": [
       "{'name': 'signIn',\n",
       " 'method': 'post',\n",
       " 'novalidate': '',\n",
       " 'action': 'https://www.amazon.ca/ap/signin/143-6649984-7355155',\n",
       " 'class': 'auth-validate-form auth-real-time-validation a-spacing-none',\n",
       " 'data-fwcim-id': 'IMLesnea'}"
      ]
     },
     "execution_count": 21,
     "metadata": {},
     "output_type": "execute_result"
    }
   ],
   "source": [
    "form_element.attributes"
   ]
  },
  {
   "cell_type": "code",
   "execution_count": 22,
   "id": "e56cf4ae",
   "metadata": {
    "ExecuteTime": {
     "end_time": "2023-04-12T20:02:57.880647Z",
     "start_time": "2023-04-12T20:02:57.877095Z"
    }
   },
   "outputs": [
    {
     "data": {
      "text/plain": [
       "{'start': (148, 63), 'end': (498, 345)}"
      ]
     },
     "execution_count": 22,
     "metadata": {},
     "output_type": "execute_result"
    }
   ],
   "source": [
    "form_element.bounding_box"
   ]
  },
  {
   "cell_type": "code",
   "execution_count": null,
   "id": "6acfe2a3",
   "metadata": {},
   "outputs": [],
   "source": []
  },
  {
   "cell_type": "markdown",
   "id": "f55663d4",
   "metadata": {
    "ExecuteTime": {
     "end_time": "2023-04-11T02:59:49.802379Z",
     "start_time": "2023-04-11T02:59:49.800092Z"
    }
   },
   "source": [
    "## for strategy"
   ]
  },
  {
   "cell_type": "code",
   "execution_count": 14,
   "id": "811e91a0",
   "metadata": {
    "ExecuteTime": {
     "end_time": "2023-04-11T03:01:25.430425Z",
     "start_time": "2023-04-11T03:01:25.396570Z"
    }
   },
   "outputs": [],
   "source": [
    "labels = form.find_elements(By.TAG_NAME, 'label')\n",
    "inputs = form.find_elements(By.TAG_NAME, 'input')\n",
    "textareas = form.find_elements(By.TAG_NAME, 'textarea')"
   ]
  },
  {
   "cell_type": "code",
   "execution_count": 29,
   "id": "744229e2",
   "metadata": {
    "ExecuteTime": {
     "end_time": "2023-04-11T03:14:21.292501Z",
     "start_time": "2023-04-11T03:14:21.165927Z"
    }
   },
   "outputs": [],
   "source": [
    "unhidden_inputs = list(filter(lambda x: x.get_attribute('type') != 'hidden', inputs))"
   ]
  },
  {
   "cell_type": "code",
   "execution_count": 39,
   "id": "5d5a2381",
   "metadata": {
    "ExecuteTime": {
     "end_time": "2023-04-11T03:22:28.198959Z",
     "start_time": "2023-04-11T03:22:28.195810Z"
    }
   },
   "outputs": [],
   "source": [
    "def get_or_else(obj, idx, else_val):\n",
    "    try:\n",
    "        return obj[idx]\n",
    "    except:\n",
    "        return else_val"
   ]
  },
  {
   "cell_type": "code",
   "execution_count": 40,
   "id": "bcf5448e",
   "metadata": {
    "ExecuteTime": {
     "end_time": "2023-04-11T03:22:41.610994Z",
     "start_time": "2023-04-11T03:22:41.539603Z"
    }
   },
   "outputs": [],
   "source": [
    "for_attr_mapping = list(\n",
    "    map(\n",
    "        lambda x: get_or_else(\n",
    "            list(filter(lambda y: y.get_attribute('for') == x.get_attribute('id'), labels)),\n",
    "            0,\n",
    "            None\n",
    "        ),\n",
    "        unhidden_inputs\n",
    "    )\n",
    ")"
   ]
  },
  {
   "cell_type": "markdown",
   "id": "5371bfa1",
   "metadata": {
    "ExecuteTime": {
     "end_time": "2023-04-11T03:22:42.652676Z",
     "start_time": "2023-04-11T03:22:42.648448Z"
    }
   },
   "source": [
    "## Sibling Strategy"
   ]
  },
  {
   "cell_type": "code",
   "execution_count": null,
   "id": "a360e9b3",
   "metadata": {},
   "outputs": [],
   "source": []
  },
  {
   "cell_type": "code",
   "execution_count": null,
   "id": "89f82748",
   "metadata": {},
   "outputs": [],
   "source": []
  },
  {
   "cell_type": "markdown",
   "id": "98b6d360",
   "metadata": {},
   "source": [
    "## Bounding Box Strategy"
   ]
  },
  {
   "cell_type": "code",
   "execution_count": null,
   "id": "8d036fc9",
   "metadata": {},
   "outputs": [],
   "source": []
  }
 ],
 "metadata": {
  "kernelspec": {
   "display_name": "Python 3 (ipykernel)",
   "language": "python",
   "name": "python3"
  },
  "language_info": {
   "codemirror_mode": {
    "name": "ipython",
    "version": 3
   },
   "file_extension": ".py",
   "mimetype": "text/x-python",
   "name": "python",
   "nbconvert_exporter": "python",
   "pygments_lexer": "ipython3",
   "version": "3.10.9"
  },
  "varInspector": {
   "cols": {
    "lenName": 16,
    "lenType": 16,
    "lenVar": 40
   },
   "kernels_config": {
    "python": {
     "delete_cmd_postfix": "",
     "delete_cmd_prefix": "del ",
     "library": "var_list.py",
     "varRefreshCmd": "print(var_dic_list())"
    },
    "r": {
     "delete_cmd_postfix": ") ",
     "delete_cmd_prefix": "rm(",
     "library": "var_list.r",
     "varRefreshCmd": "cat(var_dic_list()) "
    }
   },
   "types_to_exclude": [
    "module",
    "function",
    "builtin_function_or_method",
    "instance",
    "_Feature"
   ],
   "window_display": false
  }
 },
 "nbformat": 4,
 "nbformat_minor": 5
}
