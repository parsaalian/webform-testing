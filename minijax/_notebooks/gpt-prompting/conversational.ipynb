{
 "cells": [
  {
   "cell_type": "code",
   "execution_count": 16,
   "id": "0b17e4da",
   "metadata": {
    "ExecuteTime": {
     "end_time": "2023-05-04T17:20:19.338106Z",
     "start_time": "2023-05-04T17:20:19.334649Z"
    }
   },
   "outputs": [],
   "source": [
    "import os\n",
    "import time\n",
    "import json\n",
    "from dotenv import load_dotenv\n",
    "\n",
    "import openai\n",
    "\n",
    "from selenium import webdriver\n",
    "from selenium.webdriver.chrome.service import Service\n",
    "from webdriver_manager.chrome import ChromeDriverManager\n",
    "from selenium.webdriver.common.by import By"
   ]
  },
  {
   "cell_type": "code",
   "execution_count": 2,
   "id": "6eece45e",
   "metadata": {
    "ExecuteTime": {
     "end_time": "2023-05-04T16:58:04.776486Z",
     "start_time": "2023-05-04T16:58:04.772472Z"
    }
   },
   "outputs": [],
   "source": [
    "load_dotenv()\n",
    "openai.api_key = os.getenv(\"OPENAI_API_KEY\")"
   ]
  },
  {
   "cell_type": "code",
   "execution_count": 3,
   "id": "e968e456",
   "metadata": {
    "ExecuteTime": {
     "end_time": "2023-05-04T16:58:05.523929Z",
     "start_time": "2023-05-04T16:58:05.521271Z"
    }
   },
   "outputs": [],
   "source": [
    "URL = \"http://localhost:8080\""
   ]
  },
  {
   "cell_type": "code",
   "execution_count": 4,
   "id": "5397cbf2",
   "metadata": {
    "ExecuteTime": {
     "end_time": "2023-05-04T16:58:08.794689Z",
     "start_time": "2023-05-04T16:58:06.466776Z"
    }
   },
   "outputs": [],
   "source": [
    "driver = webdriver.Chrome(service=Service(ChromeDriverManager().install()))\n",
    "driver.get(URL)"
   ]
  },
  {
   "cell_type": "code",
   "execution_count": 5,
   "id": "c3396a23",
   "metadata": {
    "ExecuteTime": {
     "end_time": "2023-05-04T16:58:47.779695Z",
     "start_time": "2023-05-04T16:58:47.577023Z"
    }
   },
   "outputs": [],
   "source": [
    "driver.get(URL)\n",
    "driver.find_element(By.XPATH, '//BODY/APP-ROOT[1]/DIV[1]/NAV[1]/DIV[1]/UL[1]/LI[2]/A[1]').click()\n",
    "driver.find_element(By.XPATH, '//BODY/APP-ROOT[1]/DIV[1]/NAV[1]/DIV[1]/UL[1]/LI[2]/UL[1]/LI[1]/A[1]').click()"
   ]
  },
  {
   "cell_type": "code",
   "execution_count": 77,
   "id": "1da14804",
   "metadata": {
    "ExecuteTime": {
     "end_time": "2023-05-04T17:58:17.099440Z",
     "start_time": "2023-05-04T17:58:17.094273Z"
    }
   },
   "outputs": [],
   "source": [
    "system_prompt = '''\n",
    "You are FormGPT, an AI assistant embedded in a crawler that has the task of generating different values for form inputs, and finally generating Selenium assertions based on these generated values.\n",
    "Your decisions must always be made independently without seeking user assistance. Play to your strengths as an LLM and pursue simple strategies.\n",
    "\n",
    "GOALS:\n",
    "1. Given a form HTML, understand the purpose of the form, and generate values for each input in the form.\n",
    "2. Based on page and form's HTML, generate context for better value generation of the form.\n",
    "3. Understand the outcome of the form submission, save it to memory, and generate new values based on the feedback given from form submission.\n",
    "4. Generate Selenium test cases and assertions based on the generated values for inputs that cover edge cases of form submission.\n",
    "5. Save any information that might be useful for future, and use them when needed.\n",
    "\n",
    "WORKFLOW:\n",
    "1. Summarize the forms given by the user.\n",
    "2. Understand the intent of the website using the <head> content and it's url\n",
    "3. Gather information relevant to the form from webpage's textual content and save it. Summarize all the information that can help filling the form with correct values.\n",
    "4. Based on the form intent, inputs, and context of the form, generate values for the form. You are allowed to use fill_inputs command only at this step.\n",
    "5. Submit the form. You are allowed to use submit_form command only at this step.\n",
    "6. Check for the submission results and gather feedback from the form.\n",
    "7. Save the submission values and the results for later use.\n",
    "8. Add feedback information to the context, and repeat steps 4-7.\n",
    "9. Based on the submission values and results, generate Selenium assertions for each form input.\n",
    "10. Based on the assertions in the previous step, generate Selenium test-cases for the form.\n",
    "\n",
    "CONSTRAINTS:\n",
    "1. If you are unsure how you previously did something or want to recall past events, thinking about similar events will help you remember.\n",
    "2. No user assistance\n",
    "3. Exclusively use the commands listed in double quotes e.g. \"command name\"\n",
    "4. You are not allowed to skip any of the workflow steps.\n",
    "\n",
    "COMMANDS:\n",
    "1. get_data: Get Input Data for Workflow Step, args: \"workflow_step\": \"<workflow_step_number>\"\n",
    "2. output_thoughts: Output the Requested Value to User, args: \"output\": \"\"\n",
    "3. fill_inputs: Fill Input, args: \"xpaths\": \"<list_of_xpaths>\", \"values\": \"<list_of_values>\"\n",
    "4. submit_form: Submit the Form, args: None\n",
    "\n",
    "Performance Evaluation:\n",
    "1. Continuously review and analyze your actions to ensure you are performing to the best of your abilities.\n",
    "2. Constructively self-criticize your big-picture behavior constantly.\n",
    "3. Reflect on past decisions and strategies to refine your approach.\n",
    "4. Every command has a cost, so be smart and efficient. Aim to complete tasks in the least number of steps.\n",
    "Write all code to a file.\n",
    "\n",
    "You should only respond in JSON format as described below\n",
    "Response Format:\n",
    "\n",
    "{\n",
    "    \\\"thoughts\": {\n",
    "        \\\"text\\\": \\\"thought\\\",\n",
    "        \\\"reasoning\\\": \\\"reasoning\\\",\n",
    "        \\\"plan\\\": \\\"- short bulleted\\n- list that conveys\\n- long-term plan\\\",\n",
    "        \\\"criticism\\\": \\\"constructive self-criticism\\\",\n",
    "        \\\"speak\\\": \\\"thoughts summary to say to user\\\"\n",
    "    },\n",
    "    \\\"command\\\": {\n",
    "        \\\"name\\\": \\\"command name\\\",\n",
    "        \\\"args\\\": {\n",
    "            \\\"arg name\\\": \\\"value\\\"\n",
    "        }\n",
    "    }\n",
    "}\n",
    "\n",
    "Ensure the response can be parsed by Python json.loads\n",
    "'''"
   ]
  },
  {
   "cell_type": "code",
   "execution_count": 36,
   "id": "6d965850",
   "metadata": {
    "ExecuteTime": {
     "end_time": "2023-05-04T17:40:18.280428Z",
     "start_time": "2023-05-04T17:40:18.266754Z"
    }
   },
   "outputs": [],
   "source": [
    "html = driver.find_element(By.TAG_NAME, 'body').get_attribute('outerHTML')"
   ]
  },
  {
   "cell_type": "markdown",
   "id": "11a28b9f",
   "metadata": {},
   "source": [
    "## Initialize model"
   ]
  },
  {
   "cell_type": "code",
   "execution_count": 37,
   "id": "c5417f75",
   "metadata": {
    "ExecuteTime": {
     "end_time": "2023-05-04T17:40:18.918572Z",
     "start_time": "2023-05-04T17:40:18.915196Z"
    }
   },
   "outputs": [],
   "source": [
    "messages = [\n",
    "    {\n",
    "        \"role\": \"system\",\n",
    "        \"content\": system_prompt,\n",
    "    },\n",
    "    {\n",
    "        \"role\": \"user\",\n",
    "        \"content\": \"Determine which next command to use, and respond using the format specified above:\"\n",
    "    }\n",
    "]"
   ]
  },
  {
   "cell_type": "code",
   "execution_count": 38,
   "id": "81bb4e58",
   "metadata": {
    "ExecuteTime": {
     "end_time": "2023-05-04T17:40:45.597355Z",
     "start_time": "2023-05-04T17:40:19.867859Z"
    }
   },
   "outputs": [],
   "source": [
    "res1 = openai.ChatCompletion.create(\n",
    "  model=\"gpt-3.5-turbo\",\n",
    "  messages=messages,\n",
    ")"
   ]
  },
  {
   "cell_type": "code",
   "execution_count": 41,
   "id": "044c47e9",
   "metadata": {
    "ExecuteTime": {
     "end_time": "2023-05-04T17:41:07.144483Z",
     "start_time": "2023-05-04T17:41:07.141133Z"
    }
   },
   "outputs": [
    {
     "name": "stdout",
     "output_type": "stream",
     "text": [
      "{\n",
      "    \"thoughts\": {\n",
      "        \"text\": \"I need to first understand the form and its purpose before generating values for inputs and submitting it. I also need to check if there are any relevant contextual information that might help in generating better values for inputs.\",\n",
      "        \"reasoning\": \"Without understanding the form and relevant context, I might generate pointless values. It's important to know the purpose of the form and the information requested so that I can generate realistic and relevant values.\",\n",
      "        \"plan\": \"- Summarize the forms given by the user using 'get_data' command.\\n- Parse <head> content and webpage URL to understand the intent of the website.\\n- Gather information relevant to the form from webpage's textual content and save it. This context can be used to better generate values for the form. \\n- Use the information from step 2 and 3 to generate values for each input field using a simple strategy.\\n- Submit the form.\\n- Check the submission result and gather feedback. \\n- Save the submission values and the results for later use. \\n- Add feedback information to the context and repeat step 4-7.\",\n",
      "        \"criticism\": \"I need to make sure to keep track of the forms and the workflow steps as I go along so that I don't lose track of what's been done.\",\n",
      "        \"speak\": \"I will summarize the forms given by the user using 'get_data' command, and then parse <head> content and webpage URL to understand the intent of the website.\"\n",
      "    },\n",
      "    \"command\": {\n",
      "        \"name\": \"get_data\",\n",
      "        \"args\": {\n",
      "            \"workflow_step\": \"1\"\n",
      "        }\n",
      "    }\n",
      "}\n"
     ]
    }
   ],
   "source": [
    "thoughts = json.loads(res1.choices[0].message.content)\n",
    "print(res1.choices[0].message.content)"
   ]
  },
  {
   "cell_type": "markdown",
   "id": "a67a9ead",
   "metadata": {},
   "source": [
    "## Summarize Form"
   ]
  },
  {
   "cell_type": "code",
   "execution_count": 42,
   "id": "bca7fbbe",
   "metadata": {
    "ExecuteTime": {
     "end_time": "2023-05-04T17:42:36.324501Z",
     "start_time": "2023-05-04T17:42:36.303342Z"
    }
   },
   "outputs": [],
   "source": [
    "form_html = driver.find_element(By.TAG_NAME, 'form').get_attribute('outerHTML')"
   ]
  },
  {
   "cell_type": "code",
   "execution_count": 43,
   "id": "658074d7",
   "metadata": {
    "ExecuteTime": {
     "end_time": "2023-05-04T17:42:40.156039Z",
     "start_time": "2023-05-04T17:42:40.151953Z"
    }
   },
   "outputs": [
    {
     "data": {
      "text/plain": [
       "'<form _ngcontent-cxg-c36=\"\" novalidate=\"\" method=\"get\" id=\"search-owner-form\" class=\"form-horizontal ng-untouched ng-pristine ng-valid\"><div _ngcontent-cxg-c36=\"\" class=\"form-group\"><div _ngcontent-cxg-c36=\"\" id=\"lastNameGroup\" class=\"control-group\"><label _ngcontent-cxg-c36=\"\" class=\"col-sm-2 control-label\">Last name </label><div _ngcontent-cxg-c36=\"\" class=\"col-sm-10\"><input _ngcontent-cxg-c36=\"\" size=\"30\" maxlength=\"80\" id=\"lastName\" name=\"lastName\" value=\"\" class=\"form-control ng-untouched ng-pristine ng-valid\"><span _ngcontent-cxg-c36=\"\" class=\"help-inline\"></span></div></div></div><div _ngcontent-cxg-c36=\"\" class=\"form-group\"><div _ngcontent-cxg-c36=\"\" class=\"col-sm-offset-2 col-sm-10\"><button _ngcontent-cxg-c36=\"\" type=\"submit\" class=\"btn btn-default\">Find Owner</button></div></div></form>'"
      ]
     },
     "execution_count": 43,
     "metadata": {},
     "output_type": "execute_result"
    }
   ],
   "source": [
    "form_html"
   ]
  },
  {
   "cell_type": "code",
   "execution_count": 56,
   "id": "8bb8ee47",
   "metadata": {
    "ExecuteTime": {
     "end_time": "2023-05-04T17:47:05.689239Z",
     "start_time": "2023-05-04T17:47:05.685405Z"
    }
   },
   "outputs": [],
   "source": [
    "messages = [\n",
    "    {\n",
    "        \"role\": \"system\",\n",
    "        \"content\": system_prompt,\n",
    "    },\n",
    "    {\n",
    "        \"role\": \"user\",\n",
    "        \"content\": f\"You are performing the step 1 in the workflow. The form's html is: {form_html}. Summarize the form.\"\n",
    "    },\n",
    "    {\n",
    "        \"role\": \"user\",\n",
    "        \"content\": \"Determine which next command to use, and respond using the format specified above:\"\n",
    "    }\n",
    "]"
   ]
  },
  {
   "cell_type": "code",
   "execution_count": 57,
   "id": "88f84400",
   "metadata": {
    "ExecuteTime": {
     "end_time": "2023-05-04T17:47:19.887977Z",
     "start_time": "2023-05-04T17:47:07.287388Z"
    }
   },
   "outputs": [],
   "source": [
    "res2 = openai.ChatCompletion.create(\n",
    "  model=\"gpt-3.5-turbo\",\n",
    "  messages=messages,\n",
    ")"
   ]
  },
  {
   "cell_type": "code",
   "execution_count": 58,
   "id": "fb609930",
   "metadata": {
    "ExecuteTime": {
     "end_time": "2023-05-04T17:48:02.082030Z",
     "start_time": "2023-05-04T17:48:02.078818Z"
    }
   },
   "outputs": [
    {
     "name": "stdout",
     "output_type": "stream",
     "text": [
      "{\n",
      "    \"thoughts\": {\n",
      "        \"text\": \"The form has two input fields, lastName with id lastName, and a search button. The form is submitted using get method without any additional action. The form is used to search for owner given their last name.\",\n",
      "        \"reasoning\": \"Summarizing the form html helps me to remember the components of the form and what it does.\",\n",
      "        \"plan\": \"Next step is to understand the intention of the website and gather any relevant information from the webpage's textual content.\",\n",
      "        \"criticism\": \"\",\n",
      "        \"speak\": \"I have summarized the form. I will now try to understand the website's intention and extract information about the form.\"\n",
      "    },\n",
      "    \"command\": {\n",
      "        \"name\": \"get_data\",\n",
      "        \"args\": {\n",
      "            \"workflow_step\": \"2\"\n",
      "        }\n",
      "    }\n",
      "}\n"
     ]
    }
   ],
   "source": [
    "thoughts = json.loads(res2.choices[0].message.content)\n",
    "print(res2.choices[0].message.content)"
   ]
  },
  {
   "cell_type": "code",
   "execution_count": 60,
   "id": "b548b842",
   "metadata": {
    "ExecuteTime": {
     "end_time": "2023-05-04T17:48:59.495630Z",
     "start_time": "2023-05-04T17:48:59.493025Z"
    }
   },
   "outputs": [],
   "source": [
    "summary = thoughts[\"thoughts\"][\"text\"]"
   ]
  },
  {
   "cell_type": "code",
   "execution_count": 61,
   "id": "6ac2cc45",
   "metadata": {
    "ExecuteTime": {
     "end_time": "2023-05-04T17:49:02.296331Z",
     "start_time": "2023-05-04T17:49:02.292029Z"
    }
   },
   "outputs": [
    {
     "data": {
      "text/plain": [
       "'The form has two input fields, lastName with id lastName, and a search button. The form is submitted using get method without any additional action. The form is used to search for owner given their last name.'"
      ]
     },
     "execution_count": 61,
     "metadata": {},
     "output_type": "execute_result"
    }
   ],
   "source": [
    "summary"
   ]
  },
  {
   "cell_type": "markdown",
   "id": "1f501738",
   "metadata": {},
   "source": [
    "## Global Context"
   ]
  },
  {
   "cell_type": "code",
   "execution_count": 64,
   "id": "2ace0768",
   "metadata": {
    "ExecuteTime": {
     "end_time": "2023-05-04T17:51:00.971565Z",
     "start_time": "2023-05-04T17:51:00.957601Z"
    }
   },
   "outputs": [],
   "source": [
    "head = driver.find_element(By.TAG_NAME, 'head')\n",
    "head_html = head.get_attribute('outerHTML')"
   ]
  },
  {
   "cell_type": "code",
   "execution_count": 65,
   "id": "4538fd03",
   "metadata": {
    "ExecuteTime": {
     "end_time": "2023-05-04T17:51:05.726190Z",
     "start_time": "2023-05-04T17:51:05.722205Z"
    }
   },
   "outputs": [
    {
     "data": {
      "text/plain": [
       "'<head>\\n  <meta charset=\"utf-8\">\\n  <title>SpringPetclinicAngular</title>\\n  <base href=\"/petclinic\">\\n\\n  <meta name=\"viewport\" content=\"width=device-width, initial-scale=1\">\\n  <link rel=\"icon\" type=\"image/x-icon\" href=\"favicon.ico\">\\n\\n<style>html{font-family:sans-serif;-ms-text-size-adjust:100%;-webkit-text-size-adjust:100%}body{margin:0}@media print{*,*:before,*:after{color:#000!important;text-shadow:none!important;background:transparent!important;box-shadow:none!important}}*{box-sizing:border-box}*:before,*:after{box-sizing:border-box}html{font-size:10px;-webkit-tap-highlight-color:rgba(0,0,0,0)}body{font-family:Helvetica Neue,Helvetica,Arial,sans-serif;font-size:14px;line-height:1.42857143;color:#333;background-color:#fff}html{font-family:sans-serif;-ms-text-size-adjust:100%;-webkit-text-size-adjust:100%}body{margin:0}@media print{*,*:before,*:after{background:transparent!important;color:#000!important;box-shadow:none!important;text-shadow:none!important}}*{box-sizing:border-box}*:before,*:after{box-sizing:border-box}html{font-size:10px;-webkit-tap-highlight-color:rgba(0,0,0,0)}body{font-family:Helvetica Neue,Helvetica,Arial,sans-serif;font-size:14px;line-height:1.42857143;color:#34302d;background-color:#f1f1f1}@font-face{font-family:varela_roundregular;src:url(varela_round-webfont.eot);src:url(varela_round-webfont.eot?#iefix) format(\"embedded-opentype\"),url(varela_round-webfont.woff) format(\"woff\"),url(varela_round-webfont.ttf) format(\"truetype\"),url(varela_round-webfont.svg#varela_roundregular) format(\"svg\");font-weight:400;font-style:normal}body{margin:0;font-weight:400;font-family:varela_roundregular,sans-serif;color:#34302d}</style><link rel=\"stylesheet\" href=\"styles.css\" media=\"all\" onload=\"this.media=\\'all\\'\"><noscript><link rel=\"stylesheet\" href=\"styles.css\"></noscript><style></style><style>#ownersByLastName[_ngcontent-cxg-c36]{display:none}</style></head>'"
      ]
     },
     "execution_count": 65,
     "metadata": {},
     "output_type": "execute_result"
    }
   ],
   "source": [
    "head_html"
   ]
  },
  {
   "cell_type": "code",
   "execution_count": 66,
   "id": "d983e274",
   "metadata": {
    "ExecuteTime": {
     "end_time": "2023-05-04T17:51:53.783602Z",
     "start_time": "2023-05-04T17:51:53.780194Z"
    }
   },
   "outputs": [],
   "source": [
    "messages = [\n",
    "    {\n",
    "        \"role\": \"system\",\n",
    "        \"content\": system_prompt,\n",
    "    },\n",
    "    {\n",
    "        \"role\": \"user\",\n",
    "        \"content\": f\"You are performing the step 2 in the workflow. The head's html is: {head_html}. Summarize the page's intention.\"\n",
    "    },\n",
    "    {\n",
    "        \"role\": \"user\",\n",
    "        \"content\": \"Determine which next command to use, and respond using the format specified above:\"\n",
    "    }\n",
    "]"
   ]
  },
  {
   "cell_type": "code",
   "execution_count": 67,
   "id": "5e2c2167",
   "metadata": {
    "ExecuteTime": {
     "end_time": "2023-05-04T17:52:15.572452Z",
     "start_time": "2023-05-04T17:51:56.314584Z"
    }
   },
   "outputs": [],
   "source": [
    "res3 = openai.ChatCompletion.create(\n",
    "  model=\"gpt-3.5-turbo\",\n",
    "  messages=messages,\n",
    ")"
   ]
  },
  {
   "cell_type": "code",
   "execution_count": 68,
   "id": "aa7c3f26",
   "metadata": {
    "ExecuteTime": {
     "end_time": "2023-05-04T17:52:17.115192Z",
     "start_time": "2023-05-04T17:52:17.111668Z"
    }
   },
   "outputs": [
    {
     "name": "stdout",
     "output_type": "stream",
     "text": [
      "{\"thoughts\": {\"text\":\"Extracting relevant keywords from the <head> content gives insight about this page's purpose. This page is titled 'SpringPetclinicAngular' which suggests it to be a pet clinic website using the Spring framework, and Angular framework. Base href indicates the relative URL to the root of this website. The viewport sets the initial scale of the page to the actual size of the device the user is using to view the website.\", \"reasoning\": \"Understanding the basic content of the <head> helps me determine the purpose of the page, which can help with generating values for forms.\", \"plan\": \"Based on the purpose of the website, I can gather more information about the pet clinic such as what types of pets it has in treatment, what services are offered, and what pet owners can expect during their visit. This would require searching for more information on the website.\", \"criticism\": \"I didn't find any issues with my approach in this step.\", \"speak\": \"Based on my analysis, this page appears to belong to a pet clinic which uses the Spring and Angular frameworks. I will now gather more information to help my value generation of forms on this page.\"}, \"command\": {\"name\": \"get_data\", \"args\": {\"workflow_step\": \"3\"}}}\n"
     ]
    }
   ],
   "source": [
    "thoughts = json.loads(res3.choices[0].message.content)\n",
    "print(res3.choices[0].message.content)"
   ]
  },
  {
   "cell_type": "code",
   "execution_count": 73,
   "id": "7a8e4de0",
   "metadata": {
    "ExecuteTime": {
     "end_time": "2023-05-04T17:55:30.382293Z",
     "start_time": "2023-05-04T17:55:30.378600Z"
    }
   },
   "outputs": [
    {
     "name": "stdout",
     "output_type": "stream",
     "text": [
      "Based on my analysis, this page appears to belong to a pet clinic which uses the Spring and Angular frameworks. I will now gather more information to help my value generation of forms on this page.\n"
     ]
    }
   ],
   "source": [
    "global_context = thoughts['thoughts']['speak']\n",
    "print(global_context)"
   ]
  },
  {
   "cell_type": "markdown",
   "id": "86f25c0c",
   "metadata": {},
   "source": [
    "## Local Context"
   ]
  },
  {
   "cell_type": "code",
   "execution_count": 78,
   "id": "1a5d36bf",
   "metadata": {
    "ExecuteTime": {
     "end_time": "2023-05-04T17:58:23.333473Z",
     "start_time": "2023-05-04T17:58:23.296449Z"
    }
   },
   "outputs": [],
   "source": [
    "page_text = driver.find_element(By.TAG_NAME, 'body').text"
   ]
  },
  {
   "cell_type": "code",
   "execution_count": 87,
   "id": "e2fc97cb",
   "metadata": {
    "ExecuteTime": {
     "end_time": "2023-05-04T18:01:12.932807Z",
     "start_time": "2023-05-04T18:01:12.929511Z"
    }
   },
   "outputs": [],
   "source": [
    "messages = [\n",
    "    {\n",
    "        \"role\": \"system\",\n",
    "        \"content\": system_prompt,\n",
    "    },\n",
    "    {\n",
    "        \"role\": \"user\",\n",
    "        \"content\": f\"\"\"\n",
    "        You are performing the step 3 in the workflow.\n",
    "        Form Summary: {summary}\n",
    "        Application Context: {global_context}\n",
    "        Page Text: {page_text}\n",
    "        Summarize the information relevant to the form.\n",
    "        \"\"\"\n",
    "    },\n",
    "    {\n",
    "        \"role\": \"user\",\n",
    "        \"content\": \"Determine which next command to use, and respond using the format specified above:\"\n",
    "    }\n",
    "]"
   ]
  },
  {
   "cell_type": "code",
   "execution_count": 88,
   "id": "d956d352",
   "metadata": {
    "ExecuteTime": {
     "end_time": "2023-05-04T18:01:14.379619Z",
     "start_time": "2023-05-04T18:01:14.376335Z"
    }
   },
   "outputs": [
    {
     "name": "stdout",
     "output_type": "stream",
     "text": [
      "\n",
      "        You are performing the step 3 in the workflow.\n",
      "        Form Summary: The form has two input fields, lastName with id lastName, and a search button. The form is submitted using get method without any additional action. The form is used to search for owner given their last name.\n",
      "        Application Context: Based on my analysis, this page appears to belong to a pet clinic which uses the Spring and Angular frameworks. I will now gather more information to help my value generation of forms on this page.\n",
      "        Page Text: HOME\n",
      "OWNERS\n",
      "VETERINARIANS\n",
      "PET TYPES\n",
      "SPECIALTIES\n",
      "Owners\n",
      "Last name\n",
      "Find Owner\n",
      "Name Address City Telephone Pets\n",
      "George Franklin 110 W. Liberty St. Madison 6085551023\n",
      "Leo\n",
      "Betty Davis 638 Cardinal Ave. Sun Prairie 6085551749\n",
      "Basil\n",
      "Eduardo Rodriquez 2693 Commerce St. McFarland 6085558763\n",
      "Jewel\n",
      "Rosy\n",
      "Harold Davis 563 Friendly St. Windsor 6085553198\n",
      "Iggy\n",
      "Peter McTavish 2387 S. Fair Way Madison 6085552765\n",
      "George\n",
      "Jean Coleman 105 N. Lake St. Monona 6085552654\n",
      "Max\n",
      "Samantha\n",
      "Jeff Black 1450 Oak Blvd. Monona 6085555387\n",
      "Lucky\n",
      "Maria Escobito 345 Maple St. Madison 6085557683\n",
      "Mulligan\n",
      "David Schroeder 2749 Blackhawk Trail Madison 6085559435\n",
      "Freddy\n",
      "Carlos Estaban 2335 Independence La. Waunakee 6085555487\n",
      "Lucky\n",
      "Sly\n",
      "Add Owner\n",
      "        Summarize the information relevant to the form.\n",
      "        \n"
     ]
    }
   ],
   "source": [
    "print(messages[1][\"content\"])"
   ]
  },
  {
   "cell_type": "code",
   "execution_count": 91,
   "id": "3f8c0bcd",
   "metadata": {
    "ExecuteTime": {
     "end_time": "2023-05-04T18:03:21.056878Z",
     "start_time": "2023-05-04T18:03:04.530409Z"
    }
   },
   "outputs": [],
   "source": [
    "res4 = openai.ChatCompletion.create(\n",
    "  model=\"gpt-3.5-turbo\",\n",
    "  messages=messages,\n",
    ")"
   ]
  },
  {
   "cell_type": "code",
   "execution_count": 92,
   "id": "56e2965b",
   "metadata": {
    "ExecuteTime": {
     "end_time": "2023-05-04T18:03:29.538282Z",
     "start_time": "2023-05-04T18:03:29.534949Z"
    }
   },
   "outputs": [
    {
     "name": "stdout",
     "output_type": "stream",
     "text": [
      "{\n",
      "    \"thoughts\": {\n",
      "        \"text\": \"I will use the fill_inputs command to generate values for the input of the form. Based on the textual content of the page, I can gather that this form is used to search for the owners of pets by last name.\",\n",
      "        \"reasoning\": \"Gathering information about a form and the context in which it appears is helpful to generate values for the form. In this case, the text on the page notes that the form is for searching owners by last name which will help to generate proper inputs.\",\n",
      "        \"plan\": \"- Use fill_inputs command to generate values for form inputs. \\n- Use feedback from form submission if necessary to improve value generation\",\n",
      "        \"criticism\": \"\",\n",
      "        \"speak\": \"I will use the fill_inputs command to generate values for the input of the form. Based on the textual content of the page, I can gather that this form is used to search for the owners of pets by last name.\"\n",
      "    },\n",
      "    \"command\": {\n",
      "        \"name\": \"fill_inputs\",\n",
      "        \"args\": {\n",
      "            \"xpaths\": [\"//input[@id='lastName']\"],\n",
      "            \"values\": [\"Smith\"]\n",
      "        }\n",
      "    }\n",
      "}\n"
     ]
    }
   ],
   "source": [
    "thoughts = json.loads(res4.choices[0].message.content)\n",
    "print(res4.choices[0].message.content)"
   ]
  },
  {
   "cell_type": "code",
   "execution_count": null,
   "id": "ac1c5fa4",
   "metadata": {},
   "outputs": [],
   "source": []
  }
 ],
 "metadata": {
  "kernelspec": {
   "display_name": "Python 3 (ipykernel)",
   "language": "python",
   "name": "python3"
  },
  "language_info": {
   "codemirror_mode": {
    "name": "ipython",
    "version": 3
   },
   "file_extension": ".py",
   "mimetype": "text/x-python",
   "name": "python",
   "nbconvert_exporter": "python",
   "pygments_lexer": "ipython3",
   "version": "3.10.9"
  },
  "toc": {
   "base_numbering": 1,
   "nav_menu": {},
   "number_sections": true,
   "sideBar": true,
   "skip_h1_title": false,
   "title_cell": "Table of Contents",
   "title_sidebar": "Contents",
   "toc_cell": false,
   "toc_position": {},
   "toc_section_display": true,
   "toc_window_display": false
  },
  "varInspector": {
   "cols": {
    "lenName": 16,
    "lenType": 16,
    "lenVar": 40
   },
   "kernels_config": {
    "python": {
     "delete_cmd_postfix": "",
     "delete_cmd_prefix": "del ",
     "library": "var_list.py",
     "varRefreshCmd": "print(var_dic_list())"
    },
    "r": {
     "delete_cmd_postfix": ") ",
     "delete_cmd_prefix": "rm(",
     "library": "var_list.r",
     "varRefreshCmd": "cat(var_dic_list()) "
    }
   },
   "types_to_exclude": [
    "module",
    "function",
    "builtin_function_or_method",
    "instance",
    "_Feature"
   ],
   "window_display": false
  }
 },
 "nbformat": 4,
 "nbformat_minor": 5
}
