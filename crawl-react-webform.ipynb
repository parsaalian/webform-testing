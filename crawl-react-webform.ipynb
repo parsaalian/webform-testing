{
 "cells": [
  {
   "cell_type": "code",
   "execution_count": 21,
   "id": "cb44dd40",
   "metadata": {
    "ExecuteTime": {
     "end_time": "2023-03-09T00:30:03.077204Z",
     "start_time": "2023-03-09T00:30:03.074445Z"
    }
   },
   "outputs": [],
   "source": [
    "SAVE = True"
   ]
  },
  {
   "cell_type": "code",
   "execution_count": 22,
   "id": "4f69b63e",
   "metadata": {
    "ExecuteTime": {
     "end_time": "2023-03-09T00:30:03.574934Z",
     "start_time": "2023-03-09T00:30:03.571435Z"
    }
   },
   "outputs": [],
   "source": [
    "import os\n",
    "import pandas as pd\n",
    "from bs4 import BeautifulSoup as bs, NavigableString, Comment\n",
    "from selenium import webdriver\n",
    "from selenium.webdriver.chrome.service import Service\n",
    "from webdriver_manager.chrome import ChromeDriverManager\n",
    "from selenium.webdriver.common.by import By"
   ]
  },
  {
   "cell_type": "code",
   "execution_count": 23,
   "id": "96dd35b9",
   "metadata": {
    "ExecuteTime": {
     "end_time": "2023-03-09T00:30:06.072810Z",
     "start_time": "2023-03-09T00:30:04.104872Z"
    }
   },
   "outputs": [],
   "source": [
    "driver = webdriver.Chrome(service=Service(ChromeDriverManager().install()))"
   ]
  },
  {
   "cell_type": "code",
   "execution_count": 24,
   "id": "2c8cd34d",
   "metadata": {
    "ExecuteTime": {
     "end_time": "2023-03-09T00:30:06.992920Z",
     "start_time": "2023-03-09T00:30:06.141221Z"
    }
   },
   "outputs": [],
   "source": [
    "driver.get('http://localhost:3000/antd')"
   ]
  },
  {
   "cell_type": "code",
   "execution_count": 25,
   "id": "0a5a81df",
   "metadata": {
    "ExecuteTime": {
     "end_time": "2023-03-09T00:30:07.545778Z",
     "start_time": "2023-03-09T00:30:07.543192Z"
    }
   },
   "outputs": [],
   "source": [
    "sources = []\n",
    "targets = []"
   ]
  },
  {
   "cell_type": "code",
   "execution_count": 26,
   "id": "685bc771",
   "metadata": {
    "ExecuteTime": {
     "end_time": "2023-03-09T00:30:08.131693Z",
     "start_time": "2023-03-09T00:30:08.129440Z"
    }
   },
   "outputs": [],
   "source": [
    "DATA_COUNT = 200"
   ]
  },
  {
   "cell_type": "code",
   "execution_count": 27,
   "id": "da469eb8",
   "metadata": {
    "ExecuteTime": {
     "end_time": "2023-03-09T00:30:52.551446Z",
     "start_time": "2023-03-09T00:30:09.114743Z"
    }
   },
   "outputs": [
    {
     "name": "stdout",
     "output_type": "stream",
     "text": [
      "0\n",
      "5\n",
      "10\n",
      "15\n",
      "20\n",
      "25\n",
      "30\n",
      "35\n",
      "40\n",
      "45\n",
      "50\n",
      "55\n",
      "60\n",
      "65\n",
      "70\n",
      "75\n",
      "80\n",
      "85\n",
      "90\n",
      "95\n",
      "100\n",
      "105\n",
      "110\n",
      "115\n",
      "120\n",
      "125\n",
      "130\n",
      "135\n",
      "140\n",
      "145\n",
      "150\n",
      "155\n",
      "160\n",
      "165\n",
      "170\n",
      "175\n",
      "180\n",
      "185\n",
      "190\n",
      "195\n"
     ]
    }
   ],
   "source": [
    "for i in range(DATA_COUNT):\n",
    "    driver.refresh()\n",
    "    \n",
    "    form = bs(driver.find_element(By.ID, 'form').get_attribute('innerHTML'))\n",
    "    description = driver.find_element(By.ID, 'json-object').get_attribute('innerHTML')\n",
    "    \n",
    "    all_tags = form.descendants\n",
    "    for tag in all_tags:\n",
    "        try:\n",
    "            del tag['class']\n",
    "            del tag['id']\n",
    "            del tag['style']\n",
    "        except Exception as e:\n",
    "            pass\n",
    "    \n",
    "    sources.append(str(form.form))\n",
    "    targets.append(description)\n",
    "    \n",
    "    if i % 5 == 0:\n",
    "        print(i)"
   ]
  },
  {
   "cell_type": "code",
   "execution_count": 28,
   "id": "4e8e222a",
   "metadata": {
    "ExecuteTime": {
     "end_time": "2023-03-09T00:30:54.521238Z",
     "start_time": "2023-03-09T00:30:54.350350Z"
    }
   },
   "outputs": [],
   "source": [
    "driver.close()"
   ]
  },
  {
   "cell_type": "code",
   "execution_count": 29,
   "id": "905a7430",
   "metadata": {
    "ExecuteTime": {
     "end_time": "2023-03-09T00:30:59.730597Z",
     "start_time": "2023-03-09T00:30:59.727028Z"
    }
   },
   "outputs": [],
   "source": [
    "df = pd.DataFrame({ \"prompt\": sources, \"completion\": targets })"
   ]
  },
  {
   "cell_type": "code",
   "execution_count": 33,
   "id": "0e753b6b",
   "metadata": {
    "ExecuteTime": {
     "end_time": "2023-03-09T00:31:46.409979Z",
     "start_time": "2023-03-09T00:31:46.406814Z"
    }
   },
   "outputs": [],
   "source": [
    "df.completion = df.completion.map(lambda x: \" \" + x)"
   ]
  },
  {
   "cell_type": "code",
   "execution_count": 42,
   "id": "9d31ea8c",
   "metadata": {
    "ExecuteTime": {
     "end_time": "2023-03-09T00:32:40.598658Z",
     "start_time": "2023-03-09T00:32:40.595315Z"
    }
   },
   "outputs": [],
   "source": [
    "df = df[df.completion != \" []\"]"
   ]
  },
  {
   "cell_type": "code",
   "execution_count": 43,
   "id": "8c4bbb82",
   "metadata": {
    "ExecuteTime": {
     "end_time": "2023-03-09T00:32:41.169160Z",
     "start_time": "2023-03-09T00:32:41.165569Z"
    }
   },
   "outputs": [
    {
     "data": {
      "text/plain": [
       "167"
      ]
     },
     "execution_count": 43,
     "metadata": {},
     "output_type": "execute_result"
    }
   ],
   "source": [
    "len(df)"
   ]
  },
  {
   "cell_type": "code",
   "execution_count": 44,
   "id": "fd21112a",
   "metadata": {
    "ExecuteTime": {
     "end_time": "2023-03-09T00:32:41.806435Z",
     "start_time": "2023-03-09T00:32:41.799642Z"
    }
   },
   "outputs": [],
   "source": [
    "jsonl = df.head(200).to_json(orient='records', lines=True)"
   ]
  },
  {
   "cell_type": "code",
   "execution_count": 45,
   "id": "320c90f5",
   "metadata": {
    "ExecuteTime": {
     "end_time": "2023-03-09T00:32:42.275986Z",
     "start_time": "2023-03-09T00:32:42.272399Z"
    }
   },
   "outputs": [],
   "source": [
    "with open('fine-tune.jsonl', 'w') as f:\n",
    "    f.write(jsonl)\n",
    "    f.write(\"\\n\")\n",
    "f.close()"
   ]
  },
  {
   "cell_type": "code",
   "execution_count": null,
   "id": "ee6ed8bf",
   "metadata": {},
   "outputs": [],
   "source": []
  }
 ],
 "metadata": {
  "kernelspec": {
   "display_name": "Python 3",
   "language": "python",
   "name": "python3"
  },
  "language_info": {
   "codemirror_mode": {
    "name": "ipython",
    "version": 3
   },
   "file_extension": ".py",
   "mimetype": "text/x-python",
   "name": "python",
   "nbconvert_exporter": "python",
   "pygments_lexer": "ipython3",
   "version": "3.9.7"
  },
  "varInspector": {
   "cols": {
    "lenName": 16,
    "lenType": 16,
    "lenVar": 40
   },
   "kernels_config": {
    "python": {
     "delete_cmd_postfix": "",
     "delete_cmd_prefix": "del ",
     "library": "var_list.py",
     "varRefreshCmd": "print(var_dic_list())"
    },
    "r": {
     "delete_cmd_postfix": ") ",
     "delete_cmd_prefix": "rm(",
     "library": "var_list.r",
     "varRefreshCmd": "cat(var_dic_list()) "
    }
   },
   "types_to_exclude": [
    "module",
    "function",
    "builtin_function_or_method",
    "instance",
    "_Feature"
   ],
   "window_display": false
  }
 },
 "nbformat": 4,
 "nbformat_minor": 5
}
