{
 "cells": [
  {
   "cell_type": "code",
   "execution_count": 1,
   "id": "26476925",
   "metadata": {
    "ExecuteTime": {
     "end_time": "2023-03-09T00:26:15.774266Z",
     "start_time": "2023-03-09T00:26:15.771820Z"
    }
   },
   "outputs": [],
   "source": [
    "SAVE = True"
   ]
  },
  {
   "cell_type": "code",
   "execution_count": 2,
   "id": "c70500ab",
   "metadata": {
    "ExecuteTime": {
     "end_time": "2023-03-09T00:26:17.315656Z",
     "start_time": "2023-03-09T00:26:16.468105Z"
    }
   },
   "outputs": [],
   "source": [
    "import os\n",
    "import pandas as pd\n",
    "from bs4 import BeautifulSoup as bs, NavigableString, Comment\n",
    "from selenium import webdriver\n",
    "from selenium.webdriver.chrome.service import Service\n",
    "from webdriver_manager.chrome import ChromeDriverManager\n",
    "from selenium.webdriver.common.by import By"
   ]
  },
  {
   "cell_type": "code",
   "execution_count": 3,
   "id": "fdcb3c29",
   "metadata": {
    "ExecuteTime": {
     "end_time": "2023-03-09T00:26:20.559287Z",
     "start_time": "2023-03-09T00:26:18.500357Z"
    }
   },
   "outputs": [],
   "source": [
    "driver = webdriver.Chrome(service=Service(ChromeDriverManager().install()))"
   ]
  },
  {
   "cell_type": "code",
   "execution_count": 4,
   "id": "786ac709",
   "metadata": {
    "ExecuteTime": {
     "end_time": "2023-03-09T00:26:22.434673Z",
     "start_time": "2023-03-09T00:26:21.802793Z"
    }
   },
   "outputs": [],
   "source": [
    "driver.get('http://localhost:3000/antd')"
   ]
  },
  {
   "cell_type": "code",
   "execution_count": 5,
   "id": "86fab166",
   "metadata": {
    "ExecuteTime": {
     "end_time": "2023-03-09T00:26:23.037629Z",
     "start_time": "2023-03-09T00:26:23.035209Z"
    }
   },
   "outputs": [],
   "source": [
    "sources = []\n",
    "targets = []"
   ]
  },
  {
   "cell_type": "code",
   "execution_count": 7,
   "id": "d53bc5de",
   "metadata": {
    "ExecuteTime": {
     "end_time": "2023-03-09T00:26:29.454613Z",
     "start_time": "2023-03-09T00:26:29.452197Z"
    }
   },
   "outputs": [],
   "source": [
    "DATA_COUNT = 50"
   ]
  },
  {
   "cell_type": "code",
   "execution_count": 8,
   "id": "560013fa",
   "metadata": {
    "ExecuteTime": {
     "end_time": "2023-03-09T00:26:39.665124Z",
     "start_time": "2023-03-09T00:26:29.635543Z"
    }
   },
   "outputs": [
    {
     "name": "stdout",
     "output_type": "stream",
     "text": [
      "0\n",
      "5\n",
      "10\n",
      "15\n",
      "20\n",
      "25\n",
      "30\n",
      "35\n",
      "40\n",
      "45\n"
     ]
    }
   ],
   "source": [
    "for i in range(DATA_COUNT):\n",
    "    driver.refresh()\n",
    "    \n",
    "    form = bs(driver.find_element(By.ID, 'form').get_attribute('innerHTML'))\n",
    "    description = driver.find_element(By.ID, 'json-object').get_attribute('innerHTML')\n",
    "    \n",
    "    all_tags = form.descendants\n",
    "    for tag in all_tags:\n",
    "        try:\n",
    "            del tag['class']\n",
    "            del tag['id']\n",
    "            del tag['style']\n",
    "        except Exception as e:\n",
    "            pass\n",
    "    \n",
    "    sources.append(str(form.form))\n",
    "    targets.append(description)\n",
    "    \n",
    "    if i % 5 == 0:\n",
    "        print(i)"
   ]
  },
  {
   "cell_type": "code",
   "execution_count": 9,
   "id": "079854a1",
   "metadata": {
    "ExecuteTime": {
     "end_time": "2023-03-09T00:26:40.758447Z",
     "start_time": "2023-03-09T00:26:40.542502Z"
    }
   },
   "outputs": [],
   "source": [
    "driver.close()"
   ]
  },
  {
   "cell_type": "code",
   "execution_count": 10,
   "id": "55fd439b",
   "metadata": {
    "ExecuteTime": {
     "end_time": "2023-03-09T00:26:41.340888Z",
     "start_time": "2023-03-09T00:26:41.336833Z"
    }
   },
   "outputs": [],
   "source": [
    "df = pd.DataFrame({ \"prompt\": sources, \"completion\": targets })"
   ]
  },
  {
   "cell_type": "code",
   "execution_count": 11,
   "id": "bbca175b",
   "metadata": {
    "ExecuteTime": {
     "end_time": "2023-03-09T00:26:42.155459Z",
     "start_time": "2023-03-09T00:26:42.138067Z"
    }
   },
   "outputs": [
    {
     "data": {
      "text/html": [
       "<div>\n",
       "<style scoped>\n",
       "    .dataframe tbody tr th:only-of-type {\n",
       "        vertical-align: middle;\n",
       "    }\n",
       "\n",
       "    .dataframe tbody tr th {\n",
       "        vertical-align: top;\n",
       "    }\n",
       "\n",
       "    .dataframe thead th {\n",
       "        text-align: right;\n",
       "    }\n",
       "</style>\n",
       "<table border=\"1\" class=\"dataframe\">\n",
       "  <thead>\n",
       "    <tr style=\"text-align: right;\">\n",
       "      <th></th>\n",
       "      <th>prompt</th>\n",
       "      <th>completion</th>\n",
       "    </tr>\n",
       "  </thead>\n",
       "  <tbody>\n",
       "    <tr>\n",
       "      <th>0</th>\n",
       "      <td>&lt;form&gt;&lt;div&gt;&lt;div&gt;&lt;/div&gt;&lt;div&gt;&lt;/div&gt;&lt;/div&gt;&lt;div&gt;&lt;d...</td>\n",
       "      <td>[{\"type\":\"treeSelect\",\"options\":null,\"defaultV...</td>\n",
       "    </tr>\n",
       "    <tr>\n",
       "      <th>1</th>\n",
       "      <td>&lt;form&gt;&lt;div&gt;&lt;div&gt;&lt;div&gt;&lt;div&gt;&lt;div&gt;&lt;div&gt;&lt;div&gt;&lt;div&gt;...</td>\n",
       "      <td>[{\"label\":\"cage\",\"disabled\":false,\"required\":f...</td>\n",
       "    </tr>\n",
       "    <tr>\n",
       "      <th>2</th>\n",
       "      <td>&lt;form&gt;&lt;div&gt;&lt;div&gt;&lt;div&gt;&lt;div&gt;&lt;div&gt;&lt;div&gt;&lt;div&gt;&lt;div&gt;...</td>\n",
       "      <td>[{\"label\":\"salt\",\"disabled\":false,\"required\":f...</td>\n",
       "    </tr>\n",
       "    <tr>\n",
       "      <th>3</th>\n",
       "      <td>&lt;form&gt;&lt;/form&gt;</td>\n",
       "      <td>[]</td>\n",
       "    </tr>\n",
       "    <tr>\n",
       "      <th>4</th>\n",
       "      <td>&lt;form&gt;&lt;div&gt;&lt;div&gt;&lt;div&gt;&lt;div&gt;&lt;div&gt;&lt;label title=\"s...</td>\n",
       "      <td>[{\"label\":\"song impossible danger\",\"disabled\":...</td>\n",
       "    </tr>\n",
       "    <tr>\n",
       "      <th>5</th>\n",
       "      <td>&lt;form&gt;&lt;div&gt;&lt;div&gt;&lt;div&gt;&lt;div&gt;&lt;div&gt;&lt;label title=\"f...</td>\n",
       "      <td>[{\"label\":\"flies\",\"disabled\":false,\"required\":...</td>\n",
       "    </tr>\n",
       "    <tr>\n",
       "      <th>6</th>\n",
       "      <td>&lt;form&gt;&lt;div&gt;&lt;div&gt;&lt;div&gt;&lt;div&gt;&lt;div&gt;&lt;div&gt;&lt;div&gt;&lt;div&gt;...</td>\n",
       "      <td>[{\"label\":null,\"disabled\":false,\"required\":fal...</td>\n",
       "    </tr>\n",
       "    <tr>\n",
       "      <th>7</th>\n",
       "      <td>&lt;form&gt;&lt;div&gt;&lt;div&gt;&lt;/div&gt;&lt;/div&gt;&lt;/form&gt;</td>\n",
       "      <td>[{\"type\":\"upload\",\"options\":null,\"defaultValue...</td>\n",
       "    </tr>\n",
       "    <tr>\n",
       "      <th>8</th>\n",
       "      <td>&lt;form&gt;&lt;/form&gt;</td>\n",
       "      <td>[]</td>\n",
       "    </tr>\n",
       "    <tr>\n",
       "      <th>9</th>\n",
       "      <td>&lt;form&gt;&lt;div&gt;&lt;div&gt;&lt;div&gt;&lt;div&gt;&lt;div&gt;&lt;div&gt;&lt;div&gt;&lt;butt...</td>\n",
       "      <td>[{\"label\":\"week find\",\"disabled\":false,\"requir...</td>\n",
       "    </tr>\n",
       "    <tr>\n",
       "      <th>10</th>\n",
       "      <td>&lt;form&gt;&lt;/form&gt;</td>\n",
       "      <td>[]</td>\n",
       "    </tr>\n",
       "    <tr>\n",
       "      <th>11</th>\n",
       "      <td>&lt;form&gt;&lt;div&gt;&lt;div&gt;&lt;div&gt;&lt;div&gt;&lt;div&gt;&lt;div&gt;&lt;div&gt;&lt;div&gt;...</td>\n",
       "      <td>[{\"label\":\"got thread love\",\"disabled\":true,\"r...</td>\n",
       "    </tr>\n",
       "    <tr>\n",
       "      <th>12</th>\n",
       "      <td>&lt;form&gt;&lt;div&gt;&lt;div&gt;&lt;/div&gt;&lt;/div&gt;&lt;div&gt;&lt;div&gt;&lt;/div&gt;&lt;/...</td>\n",
       "      <td>[{\"type\":\"treeSelect\",\"options\":null,\"defaultV...</td>\n",
       "    </tr>\n",
       "    <tr>\n",
       "      <th>13</th>\n",
       "      <td>&lt;form&gt;&lt;div&gt;&lt;div&gt;&lt;/div&gt;&lt;/div&gt;&lt;div&gt;&lt;div&gt;&lt;/div&gt;&lt;/...</td>\n",
       "      <td>[{\"type\":\"treeSelect\",\"options\":null,\"defaultV...</td>\n",
       "    </tr>\n",
       "    <tr>\n",
       "      <th>14</th>\n",
       "      <td>&lt;form&gt;&lt;div&gt;&lt;div&gt;&lt;div&gt;&lt;div&gt;&lt;div&gt;&lt;div&gt;&lt;div&gt;&lt;butt...</td>\n",
       "      <td>[{\"label\":\"everybody rise\",\"disabled\":false,\"r...</td>\n",
       "    </tr>\n",
       "    <tr>\n",
       "      <th>15</th>\n",
       "      <td>&lt;form&gt;&lt;div&gt;&lt;div&gt;&lt;/div&gt;&lt;/div&gt;&lt;div&gt;&lt;div&gt;&lt;div&gt;&lt;di...</td>\n",
       "      <td>[{\"type\":\"upload\",\"options\":null,\"defaultValue...</td>\n",
       "    </tr>\n",
       "    <tr>\n",
       "      <th>16</th>\n",
       "      <td>&lt;form&gt;&lt;div&gt;&lt;div&gt;&lt;div&gt;&lt;div&gt;&lt;div&gt;&lt;label title=\"b...</td>\n",
       "      <td>[{\"label\":\"branch individual\",\"disabled\":false...</td>\n",
       "    </tr>\n",
       "    <tr>\n",
       "      <th>17</th>\n",
       "      <td>&lt;form&gt;&lt;div&gt;&lt;div&gt;&lt;div&gt;&lt;div&gt;&lt;div&gt;&lt;div&gt;&lt;div&gt;&lt;div&gt;...</td>\n",
       "      <td>[{\"label\":\"still\",\"disabled\":true,\"required\":f...</td>\n",
       "    </tr>\n",
       "    <tr>\n",
       "      <th>18</th>\n",
       "      <td>&lt;form&gt;&lt;div&gt;&lt;div&gt;&lt;div&gt;&lt;div&gt;&lt;div&gt;&lt;div&gt;&lt;div&gt;&lt;butt...</td>\n",
       "      <td>[{\"label\":\"heart given driving\",\"disabled\":fal...</td>\n",
       "    </tr>\n",
       "    <tr>\n",
       "      <th>19</th>\n",
       "      <td>&lt;form&gt;&lt;div&gt;&lt;div&gt;&lt;div&gt;&lt;div&gt;&lt;div&gt;&lt;div&gt;&lt;div&gt;&lt;butt...</td>\n",
       "      <td>[{\"label\":\"chemical\",\"disabled\":true,\"required...</td>\n",
       "    </tr>\n",
       "    <tr>\n",
       "      <th>20</th>\n",
       "      <td>&lt;form&gt;&lt;div&gt;&lt;div&gt;&lt;div&gt;&lt;div&gt;&lt;div&gt;&lt;label title=\"s...</td>\n",
       "      <td>[{\"label\":\"swing lift himself\",\"disabled\":true...</td>\n",
       "    </tr>\n",
       "    <tr>\n",
       "      <th>21</th>\n",
       "      <td>&lt;form&gt;&lt;div&gt;&lt;div&gt;&lt;div&gt;&lt;div&gt;&lt;div&gt;&lt;div&gt;&lt;div&gt;&lt;butt...</td>\n",
       "      <td>[{\"label\":null,\"disabled\":true,\"required\":fals...</td>\n",
       "    </tr>\n",
       "    <tr>\n",
       "      <th>22</th>\n",
       "      <td>&lt;form&gt;&lt;div&gt;&lt;div&gt;&lt;div&gt;&lt;div&gt;&lt;div&gt;&lt;label title=\"p...</td>\n",
       "      <td>[{\"label\":\"paid medicine ground\",\"disabled\":fa...</td>\n",
       "    </tr>\n",
       "    <tr>\n",
       "      <th>23</th>\n",
       "      <td>&lt;form&gt;&lt;div&gt;&lt;div&gt;&lt;div&gt;&lt;div&gt;&lt;div&gt;&lt;div&gt;&lt;div&gt;&lt;butt...</td>\n",
       "      <td>[{\"label\":null,\"disabled\":false,\"required\":fal...</td>\n",
       "    </tr>\n",
       "    <tr>\n",
       "      <th>24</th>\n",
       "      <td>&lt;form&gt;&lt;/form&gt;</td>\n",
       "      <td>[]</td>\n",
       "    </tr>\n",
       "    <tr>\n",
       "      <th>25</th>\n",
       "      <td>&lt;form&gt;&lt;/form&gt;</td>\n",
       "      <td>[]</td>\n",
       "    </tr>\n",
       "    <tr>\n",
       "      <th>26</th>\n",
       "      <td>&lt;form&gt;&lt;div&gt;&lt;div&gt;&lt;/div&gt;&lt;/div&gt;&lt;div&gt;&lt;div&gt;&lt;/div&gt;&lt;/...</td>\n",
       "      <td>[{\"type\":\"transfer\",\"options\":null,\"defaultVal...</td>\n",
       "    </tr>\n",
       "    <tr>\n",
       "      <th>27</th>\n",
       "      <td>&lt;form&gt;&lt;div&gt;&lt;div&gt;&lt;div&gt;&lt;div&gt;&lt;div&gt;&lt;label title=\"g...</td>\n",
       "      <td>[{\"label\":\"gift saved world\",\"disabled\":false,...</td>\n",
       "    </tr>\n",
       "    <tr>\n",
       "      <th>28</th>\n",
       "      <td>&lt;form&gt;&lt;div&gt;&lt;div&gt;&lt;/div&gt;&lt;/div&gt;&lt;/form&gt;</td>\n",
       "      <td>[{\"label\":\"choice\",\"disabled\":true,\"required\":...</td>\n",
       "    </tr>\n",
       "    <tr>\n",
       "      <th>29</th>\n",
       "      <td>&lt;form&gt;&lt;div&gt;&lt;div&gt;&lt;div&gt;&lt;div&gt;&lt;div&gt;&lt;div&gt;&lt;div&gt;&lt;div&gt;...</td>\n",
       "      <td>[{\"label\":null,\"disabled\":false,\"required\":fal...</td>\n",
       "    </tr>\n",
       "    <tr>\n",
       "      <th>30</th>\n",
       "      <td>&lt;form&gt;&lt;div&gt;&lt;div&gt;&lt;/div&gt;&lt;/div&gt;&lt;div&gt;&lt;div&gt;&lt;div&gt;&lt;di...</td>\n",
       "      <td>[{\"label\":\"knowledge\",\"disabled\":false,\"requir...</td>\n",
       "    </tr>\n",
       "    <tr>\n",
       "      <th>31</th>\n",
       "      <td>&lt;form&gt;&lt;div&gt;&lt;div&gt;&lt;div&gt;&lt;div&gt;&lt;div&gt;&lt;label title=\"t...</td>\n",
       "      <td>[{\"label\":\"then saw\",\"disabled\":true,\"required...</td>\n",
       "    </tr>\n",
       "    <tr>\n",
       "      <th>32</th>\n",
       "      <td>&lt;form&gt;&lt;/form&gt;</td>\n",
       "      <td>[]</td>\n",
       "    </tr>\n",
       "    <tr>\n",
       "      <th>33</th>\n",
       "      <td>&lt;form&gt;&lt;div&gt;&lt;div&gt;&lt;div&gt;&lt;div&gt;&lt;div&gt;&lt;div&gt;&lt;div&gt;&lt;div&gt;...</td>\n",
       "      <td>[{\"label\":\"chest spite outside\",\"disabled\":fal...</td>\n",
       "    </tr>\n",
       "    <tr>\n",
       "      <th>34</th>\n",
       "      <td>&lt;form&gt;&lt;div&gt;&lt;div&gt;&lt;div&gt;&lt;div&gt;&lt;div&gt;&lt;div&gt;&lt;div&gt;&lt;div&gt;...</td>\n",
       "      <td>[{\"label\":\"fort\",\"disabled\":false,\"required\":t...</td>\n",
       "    </tr>\n",
       "    <tr>\n",
       "      <th>35</th>\n",
       "      <td>&lt;form&gt;&lt;div&gt;&lt;div&gt;&lt;/div&gt;&lt;div&gt;&lt;div&gt;&lt;div&gt;&lt;div&gt;&lt;div...</td>\n",
       "      <td>[{\"type\":\"transfer\",\"options\":null,\"defaultVal...</td>\n",
       "    </tr>\n",
       "    <tr>\n",
       "      <th>36</th>\n",
       "      <td>&lt;form&gt;&lt;div&gt;&lt;div&gt;&lt;div&gt;&lt;div&gt;&lt;div&gt;&lt;div&gt;&lt;div&gt;&lt;div&gt;...</td>\n",
       "      <td>[{\"label\":\"weather quick quietly\",\"disabled\":f...</td>\n",
       "    </tr>\n",
       "    <tr>\n",
       "      <th>37</th>\n",
       "      <td>&lt;form&gt;&lt;/form&gt;</td>\n",
       "      <td>[]</td>\n",
       "    </tr>\n",
       "    <tr>\n",
       "      <th>38</th>\n",
       "      <td>&lt;form&gt;&lt;div&gt;&lt;div&gt;&lt;div&gt;&lt;div&gt;&lt;div&gt;&lt;div&gt;&lt;div&gt;&lt;butt...</td>\n",
       "      <td>[{\"label\":\"beauty\",\"disabled\":false,\"required\"...</td>\n",
       "    </tr>\n",
       "    <tr>\n",
       "      <th>39</th>\n",
       "      <td>&lt;form&gt;&lt;div&gt;&lt;div&gt;&lt;/div&gt;&lt;/div&gt;&lt;div&gt;&lt;div&gt;&lt;div&gt;&lt;di...</td>\n",
       "      <td>[{\"type\":\"transfer\",\"options\":null,\"defaultVal...</td>\n",
       "    </tr>\n",
       "    <tr>\n",
       "      <th>40</th>\n",
       "      <td>&lt;form&gt;&lt;div&gt;&lt;div&gt;&lt;div&gt;&lt;div&gt;&lt;div&gt;&lt;div&gt;&lt;div&gt;&lt;div&gt;...</td>\n",
       "      <td>[{\"label\":\"land excellent weigh\",\"disabled\":tr...</td>\n",
       "    </tr>\n",
       "    <tr>\n",
       "      <th>41</th>\n",
       "      <td>&lt;form&gt;&lt;div&gt;&lt;div&gt;&lt;div&gt;&lt;div&gt;&lt;div&gt;&lt;label title=\"w...</td>\n",
       "      <td>[{\"label\":\"wheat past street\",\"disabled\":false...</td>\n",
       "    </tr>\n",
       "    <tr>\n",
       "      <th>42</th>\n",
       "      <td>&lt;form&gt;&lt;div&gt;&lt;div&gt;&lt;/div&gt;&lt;div&gt;&lt;div&gt;&lt;div&gt;&lt;div&gt;&lt;div...</td>\n",
       "      <td>[{\"type\":\"treeSelect\",\"options\":null,\"defaultV...</td>\n",
       "    </tr>\n",
       "    <tr>\n",
       "      <th>43</th>\n",
       "      <td>&lt;form&gt;&lt;div&gt;&lt;div&gt;&lt;div&gt;&lt;div&gt;&lt;div&gt;&lt;label title=\"k...</td>\n",
       "      <td>[{\"label\":\"kids duck\",\"disabled\":true,\"require...</td>\n",
       "    </tr>\n",
       "    <tr>\n",
       "      <th>44</th>\n",
       "      <td>&lt;form&gt;&lt;div&gt;&lt;div&gt;&lt;div&gt;&lt;div&gt;&lt;div&gt;&lt;label title=\"s...</td>\n",
       "      <td>[{\"label\":\"saved date\",\"disabled\":false,\"requi...</td>\n",
       "    </tr>\n",
       "    <tr>\n",
       "      <th>45</th>\n",
       "      <td>&lt;form&gt;&lt;div&gt;&lt;div&gt;&lt;div&gt;&lt;div&gt;&lt;div&gt;&lt;div&gt;&lt;div&gt;&lt;labe...</td>\n",
       "      <td>[{\"label\":null,\"disabled\":true,\"required\":fals...</td>\n",
       "    </tr>\n",
       "    <tr>\n",
       "      <th>46</th>\n",
       "      <td>&lt;form&gt;&lt;div&gt;&lt;div&gt;&lt;/div&gt;&lt;/div&gt;&lt;div&gt;&lt;div&gt;&lt;div&gt;&lt;di...</td>\n",
       "      <td>[{\"type\":\"upload\",\"options\":null,\"defaultValue...</td>\n",
       "    </tr>\n",
       "    <tr>\n",
       "      <th>47</th>\n",
       "      <td>&lt;form&gt;&lt;div&gt;&lt;div&gt;&lt;/div&gt;&lt;div&gt;&lt;/div&gt;&lt;/div&gt;&lt;div&gt;&lt;d...</td>\n",
       "      <td>[{\"type\":\"upload\",\"options\":null,\"defaultValue...</td>\n",
       "    </tr>\n",
       "    <tr>\n",
       "      <th>48</th>\n",
       "      <td>&lt;form&gt;&lt;div&gt;&lt;div&gt;&lt;/div&gt;&lt;/div&gt;&lt;div&gt;&lt;div&gt;&lt;/div&gt;&lt;/...</td>\n",
       "      <td>[{\"label\":\"except temperature\",\"disabled\":fals...</td>\n",
       "    </tr>\n",
       "    <tr>\n",
       "      <th>49</th>\n",
       "      <td>&lt;form&gt;&lt;div&gt;&lt;div&gt;&lt;/div&gt;&lt;/div&gt;&lt;div&gt;&lt;div&gt;&lt;div&gt;&lt;di...</td>\n",
       "      <td>[{\"label\":\"worker whistle\",\"disabled\":false,\"r...</td>\n",
       "    </tr>\n",
       "  </tbody>\n",
       "</table>\n",
       "</div>"
      ],
      "text/plain": [
       "                                               prompt  \\\n",
       "0   <form><div><div></div><div></div></div><div><d...   \n",
       "1   <form><div><div><div><div><div><div><div><div>...   \n",
       "2   <form><div><div><div><div><div><div><div><div>...   \n",
       "3                                       <form></form>   \n",
       "4   <form><div><div><div><div><div><label title=\"s...   \n",
       "5   <form><div><div><div><div><div><label title=\"f...   \n",
       "6   <form><div><div><div><div><div><div><div><div>...   \n",
       "7                 <form><div><div></div></div></form>   \n",
       "8                                       <form></form>   \n",
       "9   <form><div><div><div><div><div><div><div><butt...   \n",
       "10                                      <form></form>   \n",
       "11  <form><div><div><div><div><div><div><div><div>...   \n",
       "12  <form><div><div></div></div><div><div></div></...   \n",
       "13  <form><div><div></div></div><div><div></div></...   \n",
       "14  <form><div><div><div><div><div><div><div><butt...   \n",
       "15  <form><div><div></div></div><div><div><div><di...   \n",
       "16  <form><div><div><div><div><div><label title=\"b...   \n",
       "17  <form><div><div><div><div><div><div><div><div>...   \n",
       "18  <form><div><div><div><div><div><div><div><butt...   \n",
       "19  <form><div><div><div><div><div><div><div><butt...   \n",
       "20  <form><div><div><div><div><div><label title=\"s...   \n",
       "21  <form><div><div><div><div><div><div><div><butt...   \n",
       "22  <form><div><div><div><div><div><label title=\"p...   \n",
       "23  <form><div><div><div><div><div><div><div><butt...   \n",
       "24                                      <form></form>   \n",
       "25                                      <form></form>   \n",
       "26  <form><div><div></div></div><div><div></div></...   \n",
       "27  <form><div><div><div><div><div><label title=\"g...   \n",
       "28                <form><div><div></div></div></form>   \n",
       "29  <form><div><div><div><div><div><div><div><div>...   \n",
       "30  <form><div><div></div></div><div><div><div><di...   \n",
       "31  <form><div><div><div><div><div><label title=\"t...   \n",
       "32                                      <form></form>   \n",
       "33  <form><div><div><div><div><div><div><div><div>...   \n",
       "34  <form><div><div><div><div><div><div><div><div>...   \n",
       "35  <form><div><div></div><div><div><div><div><div...   \n",
       "36  <form><div><div><div><div><div><div><div><div>...   \n",
       "37                                      <form></form>   \n",
       "38  <form><div><div><div><div><div><div><div><butt...   \n",
       "39  <form><div><div></div></div><div><div><div><di...   \n",
       "40  <form><div><div><div><div><div><div><div><div>...   \n",
       "41  <form><div><div><div><div><div><label title=\"w...   \n",
       "42  <form><div><div></div><div><div><div><div><div...   \n",
       "43  <form><div><div><div><div><div><label title=\"k...   \n",
       "44  <form><div><div><div><div><div><label title=\"s...   \n",
       "45  <form><div><div><div><div><div><div><div><labe...   \n",
       "46  <form><div><div></div></div><div><div><div><di...   \n",
       "47  <form><div><div></div><div></div></div><div><d...   \n",
       "48  <form><div><div></div></div><div><div></div></...   \n",
       "49  <form><div><div></div></div><div><div><div><di...   \n",
       "\n",
       "                                           completion  \n",
       "0   [{\"type\":\"treeSelect\",\"options\":null,\"defaultV...  \n",
       "1   [{\"label\":\"cage\",\"disabled\":false,\"required\":f...  \n",
       "2   [{\"label\":\"salt\",\"disabled\":false,\"required\":f...  \n",
       "3                                                  []  \n",
       "4   [{\"label\":\"song impossible danger\",\"disabled\":...  \n",
       "5   [{\"label\":\"flies\",\"disabled\":false,\"required\":...  \n",
       "6   [{\"label\":null,\"disabled\":false,\"required\":fal...  \n",
       "7   [{\"type\":\"upload\",\"options\":null,\"defaultValue...  \n",
       "8                                                  []  \n",
       "9   [{\"label\":\"week find\",\"disabled\":false,\"requir...  \n",
       "10                                                 []  \n",
       "11  [{\"label\":\"got thread love\",\"disabled\":true,\"r...  \n",
       "12  [{\"type\":\"treeSelect\",\"options\":null,\"defaultV...  \n",
       "13  [{\"type\":\"treeSelect\",\"options\":null,\"defaultV...  \n",
       "14  [{\"label\":\"everybody rise\",\"disabled\":false,\"r...  \n",
       "15  [{\"type\":\"upload\",\"options\":null,\"defaultValue...  \n",
       "16  [{\"label\":\"branch individual\",\"disabled\":false...  \n",
       "17  [{\"label\":\"still\",\"disabled\":true,\"required\":f...  \n",
       "18  [{\"label\":\"heart given driving\",\"disabled\":fal...  \n",
       "19  [{\"label\":\"chemical\",\"disabled\":true,\"required...  \n",
       "20  [{\"label\":\"swing lift himself\",\"disabled\":true...  \n",
       "21  [{\"label\":null,\"disabled\":true,\"required\":fals...  \n",
       "22  [{\"label\":\"paid medicine ground\",\"disabled\":fa...  \n",
       "23  [{\"label\":null,\"disabled\":false,\"required\":fal...  \n",
       "24                                                 []  \n",
       "25                                                 []  \n",
       "26  [{\"type\":\"transfer\",\"options\":null,\"defaultVal...  \n",
       "27  [{\"label\":\"gift saved world\",\"disabled\":false,...  \n",
       "28  [{\"label\":\"choice\",\"disabled\":true,\"required\":...  \n",
       "29  [{\"label\":null,\"disabled\":false,\"required\":fal...  \n",
       "30  [{\"label\":\"knowledge\",\"disabled\":false,\"requir...  \n",
       "31  [{\"label\":\"then saw\",\"disabled\":true,\"required...  \n",
       "32                                                 []  \n",
       "33  [{\"label\":\"chest spite outside\",\"disabled\":fal...  \n",
       "34  [{\"label\":\"fort\",\"disabled\":false,\"required\":t...  \n",
       "35  [{\"type\":\"transfer\",\"options\":null,\"defaultVal...  \n",
       "36  [{\"label\":\"weather quick quietly\",\"disabled\":f...  \n",
       "37                                                 []  \n",
       "38  [{\"label\":\"beauty\",\"disabled\":false,\"required\"...  \n",
       "39  [{\"type\":\"transfer\",\"options\":null,\"defaultVal...  \n",
       "40  [{\"label\":\"land excellent weigh\",\"disabled\":tr...  \n",
       "41  [{\"label\":\"wheat past street\",\"disabled\":false...  \n",
       "42  [{\"type\":\"treeSelect\",\"options\":null,\"defaultV...  \n",
       "43  [{\"label\":\"kids duck\",\"disabled\":true,\"require...  \n",
       "44  [{\"label\":\"saved date\",\"disabled\":false,\"requi...  \n",
       "45  [{\"label\":null,\"disabled\":true,\"required\":fals...  \n",
       "46  [{\"type\":\"upload\",\"options\":null,\"defaultValue...  \n",
       "47  [{\"type\":\"upload\",\"options\":null,\"defaultValue...  \n",
       "48  [{\"label\":\"except temperature\",\"disabled\":fals...  \n",
       "49  [{\"label\":\"worker whistle\",\"disabled\":false,\"r...  "
      ]
     },
     "execution_count": 11,
     "metadata": {},
     "output_type": "execute_result"
    }
   ],
   "source": [
    "df"
   ]
  },
  {
   "cell_type": "code",
   "execution_count": 12,
   "id": "51409bdc",
   "metadata": {
    "ExecuteTime": {
     "end_time": "2023-03-09T00:26:45.738553Z",
     "start_time": "2023-03-09T00:26:45.730625Z"
    }
   },
   "outputs": [],
   "source": [
    "if SAVE:\n",
    "    df.to_csv('antd.csv')"
   ]
  },
  {
   "cell_type": "code",
   "execution_count": 13,
   "id": "6d3aed7d",
   "metadata": {
    "ExecuteTime": {
     "end_time": "2023-03-09T00:26:46.467735Z",
     "start_time": "2023-03-09T00:26:46.463870Z"
    }
   },
   "outputs": [],
   "source": [
    "jsonl = df.head(20).to_json(orient='records', lines=True)"
   ]
  },
  {
   "cell_type": "code",
   "execution_count": 14,
   "id": "d112c4ff",
   "metadata": {
    "ExecuteTime": {
     "end_time": "2023-03-09T00:26:49.449531Z",
     "start_time": "2023-03-09T00:26:49.446100Z"
    }
   },
   "outputs": [],
   "source": [
    "with open('fine-tune.jsonl', 'w') as f:\n",
    "    f.write(jsonl)\n",
    "    f.write(\"\\n\")\n",
    "f.close()"
   ]
  },
  {
   "cell_type": "code",
   "execution_count": null,
   "id": "094c9ba2",
   "metadata": {},
   "outputs": [],
   "source": []
  }
 ],
 "metadata": {
  "kernelspec": {
   "display_name": "Python 3",
   "language": "python",
   "name": "python3"
  },
  "language_info": {
   "codemirror_mode": {
    "name": "ipython",
    "version": 3
   },
   "file_extension": ".py",
   "mimetype": "text/x-python",
   "name": "python",
   "nbconvert_exporter": "python",
   "pygments_lexer": "ipython3",
   "version": "3.9.7"
  },
  "varInspector": {
   "cols": {
    "lenName": 16,
    "lenType": 16,
    "lenVar": 40
   },
   "kernels_config": {
    "python": {
     "delete_cmd_postfix": "",
     "delete_cmd_prefix": "del ",
     "library": "var_list.py",
     "varRefreshCmd": "print(var_dic_list())"
    },
    "r": {
     "delete_cmd_postfix": ") ",
     "delete_cmd_prefix": "rm(",
     "library": "var_list.r",
     "varRefreshCmd": "cat(var_dic_list()) "
    }
   },
   "types_to_exclude": [
    "module",
    "function",
    "builtin_function_or_method",
    "instance",
    "_Feature"
   ],
   "window_display": false
  }
 },
 "nbformat": 4,
 "nbformat_minor": 5
}
