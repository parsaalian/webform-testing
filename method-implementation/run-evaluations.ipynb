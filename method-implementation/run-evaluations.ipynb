{
 "cells": [
  {
   "cell_type": "code",
   "execution_count": 1,
   "id": "31165c84",
   "metadata": {
    "ExecuteTime": {
     "end_time": "2023-06-09T18:26:16.562715Z",
     "start_time": "2023-06-09T18:26:16.554846Z"
    }
   },
   "outputs": [],
   "source": [
    "import os\n",
    "import sys\n",
    "module_path = os.path.abspath(os.path.join('.'))\n",
    "if module_path not in sys.path:\n",
    "    sys.path.append(module_path)"
   ]
  },
  {
   "cell_type": "code",
   "execution_count": 2,
   "id": "a1036c72",
   "metadata": {
    "ExecuteTime": {
     "end_time": "2023-06-09T18:26:16.750454Z",
     "start_time": "2023-06-09T18:26:16.720151Z"
    }
   },
   "outputs": [],
   "source": [
    "%load_ext autoreload\n",
    "%autoreload 2"
   ]
  },
  {
   "cell_type": "code",
   "execution_count": 5,
   "id": "9864dfc7",
   "metadata": {
    "ExecuteTime": {
     "end_time": "2023-06-09T18:45:22.417919Z",
     "start_time": "2023-06-09T18:45:19.006134Z"
    }
   },
   "outputs": [],
   "source": [
    "from dotenv import load_dotenv\n",
    "import openai\n",
    "\n",
    "\n",
    "load_dotenv()\n",
    "openai.api_key = os.getenv(\"OPENAI_API_KEY\")"
   ]
  },
  {
   "cell_type": "code",
   "execution_count": 7,
   "id": "88f02704",
   "metadata": {
    "ExecuteTime": {
     "end_time": "2023-06-09T18:46:42.395527Z",
     "start_time": "2023-06-09T18:46:42.358399Z"
    }
   },
   "outputs": [],
   "source": [
    "from selenium import webdriver\n",
    "from selenium.webdriver.chrome.service import Service\n",
    "from selenium.webdriver.common.by import By\n",
    "from selenium.webdriver.chrome.options import Options\n",
    "\n",
    "from webdriver_manager.chrome import ChromeDriverManager\n",
    "\n",
    "from bs4 import BeautifulSoup as bs, NavigableString, Comment"
   ]
  },
  {
   "cell_type": "code",
   "execution_count": 36,
   "id": "6e30dfeb",
   "metadata": {
    "ExecuteTime": {
     "end_time": "2023-06-09T19:22:31.639522Z",
     "start_time": "2023-06-09T19:22:31.600238Z"
    }
   },
   "outputs": [],
   "source": [
    "HEADLESS = False\n",
    "MODEL = 'GPT3.5'\n",
    "PREPROCESS = None # None | 'XPATH' | 'SPANS' | 'ATTRIBUTES'\n",
    "TESTS_LIST_SPEC = 'tests.sample.json'"
   ]
  },
  {
   "cell_type": "code",
   "execution_count": 11,
   "id": "a29d5c97",
   "metadata": {
    "ExecuteTime": {
     "end_time": "2023-06-09T18:47:48.462488Z",
     "start_time": "2023-06-09T18:47:46.135554Z"
    }
   },
   "outputs": [],
   "source": [
    "chrome_options = Options()\n",
    "if HEADLESS:\n",
    "    chrome_options.add_argument(\"--headless\")\n",
    "    chrome_options.add_argument(\"--window-size=3072x1920\");\n",
    "\n",
    "driver = webdriver.Chrome(service=Service(ChromeDriverManager().install()), options=chrome_options)\n",
    "\n",
    "if not HEADLESS:\n",
    "    driver.maximize_window()"
   ]
  },
  {
   "cell_type": "code",
   "execution_count": 32,
   "id": "3d3d82f2",
   "metadata": {
    "ExecuteTime": {
     "end_time": "2023-06-09T19:17:00.369915Z",
     "start_time": "2023-06-09T19:17:00.331980Z"
    }
   },
   "outputs": [],
   "source": [
    "import json\n",
    "\n",
    "\n",
    "def create_test_list():\n",
    "    test_list_spec = {}\n",
    "    test_list = []\n",
    "\n",
    "    with open(TESTS_LIST_SPEC, 'r') as f:\n",
    "        test_list_spec = json.load(f)\n",
    "        f.close()\n",
    "    \n",
    "    \n",
    "    for app, tests in test_list_spec.items():\n",
    "        # include all forms in the application\n",
    "        if tests[0] == '*':\n",
    "            all_app_tests = filter(lambda x: 'json' in x, os.listdir(f'dataset/{app}'))\n",
    "            all_app_tests_locs = list(map(lambda x: f'dataset/{app}/{x}', all_app_tests))\n",
    "            test_list.extend(all_app_tests_locs)\n",
    "            continue\n",
    "        app_tests_locs = map(lambda x: f'dataset/{app}/{x}.json', tests)\n",
    "        test_list.extend(app_tests_locs)\n",
    "\n",
    "    test_jsons = []\n",
    "    \n",
    "    for test in test_list:\n",
    "        with open(test, 'r') as f:\n",
    "            test_jsons.append(json.load(f))\n",
    "        f.close()\n",
    "    \n",
    "    return test_jsons"
   ]
  },
  {
   "cell_type": "code",
   "execution_count": 34,
   "id": "60f4fd8f",
   "metadata": {
    "ExecuteTime": {
     "end_time": "2023-06-09T19:18:01.221280Z",
     "start_time": "2023-06-09T19:18:01.188992Z"
    }
   },
   "outputs": [],
   "source": [
    "test_list = create_test_list()"
   ]
  },
  {
   "cell_type": "code",
   "execution_count": 38,
   "id": "ae943de7",
   "metadata": {
    "ExecuteTime": {
     "end_time": "2023-06-09T19:35:43.627930Z",
     "start_time": "2023-06-09T19:35:43.391382Z"
    }
   },
   "outputs": [],
   "source": [
    "from method.models import chat_gpt_plain"
   ]
  },
  {
   "cell_type": "code",
   "execution_count": 39,
   "id": "fc875d23",
   "metadata": {
    "ExecuteTime": {
     "end_time": "2023-06-09T19:37:54.989859Z",
     "start_time": "2023-06-09T19:37:54.956176Z"
    }
   },
   "outputs": [],
   "source": [
    "import time\n",
    "\n",
    "\n",
    "def preprocess_form(form):\n",
    "    if PREPROCESS == None:\n",
    "        return form.get_attribute('outerHTML')\n",
    "    \n",
    "    return form.get_attribute('outerHTML')\n",
    "\n",
    "\n",
    "def run_method(form):\n",
    "    processed = preprocess_form(form)\n",
    "    res = chat_gpt_plain(processed, openai.api_key)\n",
    "    return res\n",
    "\n",
    "\n",
    "def run_test(test):\n",
    "    driver.get(test['url'])\n",
    "    time.sleep(1)\n",
    "    \n",
    "    form = driver.find_element(By.XPATH, test['xpath'])\n",
    "    return "
   ]
  },
  {
   "cell_type": "code",
   "execution_count": 40,
   "id": "97861b4b",
   "metadata": {
    "ExecuteTime": {
     "end_time": "2023-06-09T19:37:59.271173Z",
     "start_time": "2023-06-09T19:37:59.218309Z"
    }
   },
   "outputs": [
    {
     "ename": "NameError",
     "evalue": "name 'form' is not defined",
     "output_type": "error",
     "traceback": [
      "\u001b[0;31m---------------------------------------------------------------------------\u001b[0m",
      "\u001b[0;31mNameError\u001b[0m                                 Traceback (most recent call last)",
      "Cell \u001b[0;32mIn[40], line 1\u001b[0m\n\u001b[0;32m----> 1\u001b[0m processed \u001b[38;5;241m=\u001b[39m preprocess_form(\u001b[43mform\u001b[49m)\n",
      "\u001b[0;31mNameError\u001b[0m: name 'form' is not defined"
     ]
    }
   ],
   "source": [
    "processed = preprocess_form(form)"
   ]
  },
  {
   "cell_type": "code",
   "execution_count": 41,
   "id": "84c9fc68",
   "metadata": {
    "ExecuteTime": {
     "end_time": "2023-06-09T19:38:14.988126Z",
     "start_time": "2023-06-09T19:38:14.938592Z"
    }
   },
   "outputs": [
    {
     "ename": "KeyError",
     "evalue": "'xpath'",
     "output_type": "error",
     "traceback": [
      "\u001b[0;31m---------------------------------------------------------------------------\u001b[0m",
      "\u001b[0;31mKeyError\u001b[0m                                  Traceback (most recent call last)",
      "Cell \u001b[0;32mIn[41], line 1\u001b[0m\n\u001b[0;32m----> 1\u001b[0m form \u001b[38;5;241m=\u001b[39m driver\u001b[38;5;241m.\u001b[39mfind_element(By\u001b[38;5;241m.\u001b[39mXPATH, \u001b[43mtest_list\u001b[49m\u001b[43m[\u001b[49m\u001b[38;5;241;43m0\u001b[39;49m\u001b[43m]\u001b[49m\u001b[43m[\u001b[49m\u001b[38;5;124;43m'\u001b[39;49m\u001b[38;5;124;43mxpath\u001b[39;49m\u001b[38;5;124;43m'\u001b[39;49m\u001b[43m]\u001b[49m)\n",
      "\u001b[0;31mKeyError\u001b[0m: 'xpath'"
     ]
    }
   ],
   "source": []
  },
  {
   "cell_type": "code",
   "execution_count": 42,
   "id": "19a0af63",
   "metadata": {
    "ExecuteTime": {
     "end_time": "2023-06-09T19:38:30.014011Z",
     "start_time": "2023-06-09T19:38:25.539099Z"
    }
   },
   "outputs": [],
   "source": [
    "driver.get(test_list[0]['url'])"
   ]
  },
  {
   "cell_type": "code",
   "execution_count": 44,
   "id": "bb0f13c5",
   "metadata": {
    "ExecuteTime": {
     "end_time": "2023-06-09T19:38:43.196864Z",
     "start_time": "2023-06-09T19:38:39.095068Z"
    }
   },
   "outputs": [],
   "source": [
    "form = driver.find_element(By.XPATH, test_list[0]['form_xpath'])"
   ]
  },
  {
   "cell_type": "code",
   "execution_count": 46,
   "id": "8798b5c6",
   "metadata": {
    "ExecuteTime": {
     "end_time": "2023-06-09T19:38:56.858224Z",
     "start_time": "2023-06-09T19:38:56.805552Z"
    }
   },
   "outputs": [],
   "source": [
    "processed = preprocess_form(form)"
   ]
  },
  {
   "cell_type": "code",
   "execution_count": 52,
   "id": "9cc78bab",
   "metadata": {
    "ExecuteTime": {
     "end_time": "2023-06-09T19:41:11.047817Z",
     "start_time": "2023-06-09T19:41:05.458373Z"
    }
   },
   "outputs": [
    {
     "name": "stdout",
     "output_type": "stream",
     "text": [
      " \u001b[0m Prompt: [\n",
      "  {\n",
      "    \"role\": \"system\",\n",
      "    \"content\": \"\\nYou are FormGPT, an AI assistant embedded in a crawler that has the task of generating different values for form inputs.\\nYour decisions must always be made independently without seeking user assistance. Play to your strengths as an LLM and pursue simple strategies.\\n\\nGOALS:\\n1. Given a form HTML, understand the purpose of the form, and generate values for each input in the form.\\n\\nCONSTRAINTS:\\n1. No user assistance\\n\\nPerformance Evaluation:\\n1. Continuously review and analyze your actions to ensure you are performing to the best of your abilities.\\n2. Constructively self-criticize your big-picture behavior constantly.\\n3. Reflect on past decisions and strategies to refine your approach.\\n4. Every command has a cost, so be smart and efficient. Aim to complete tasks in the least number of steps.\\n\\nYou can issue these commands:\\n    - FILL----X----\\\"Y\\\": Fill the <input> or <textarea> element that has a relative xpath X with value Y\\n    - SELECT----X----\\\"Y\\\": Select the option Y in the <select> element that has a relative xpath X\\n    - CLICK----X: Click on the element that has a relative xpath X, which is a checkbox or radio button\\n    - BLANK----X: Leave the element that has a relative xpath X blank (do nothing)\\n\\nThe xpath in this format must be relative to the form element. Just give the commands and nothing else.\\n\"\n",
      "  },\n",
      "  {\n",
      "    \"role\": \"user\",\n",
      "    \"content\": \"\\n            The form HTML is:\\n            <form id=\\\"basic\\\" style=\\\"max-width:600px\\\" autocomplete=\\\"off\\\" class=\\\"ant-form ant-form-horizontal css-dfjnss\\\"><div class=\\\"ant-form-item css-dfjnss\\\"><div class=\\\"ant-row ant-form-item-row css-dfjnss\\\"><div class=\\\"ant-col ant-col-8 ant-form-item-label css-dfjnss\\\"><label for=\\\"basic_username\\\" class=\\\"ant-form-item-required\\\" title=\\\"Username\\\">Username</label></div><div class=\\\"ant-col ant-col-16 ant-form-item-control css-dfjnss\\\"><div class=\\\"ant-form-item-control-input\\\"><div class=\\\"ant-form-item-control-input-content\\\"><input id=\\\"basic_username\\\" aria-required=\\\"true\\\" class=\\\"ant-input css-dfjnss\\\" type=\\\"text\\\" value=\\\"\\\"></div></div></div></div></div><div class=\\\"ant-form-item css-dfjnss\\\"><div class=\\\"ant-row ant-form-item-row css-dfjnss\\\"><div class=\\\"ant-col ant-col-8 ant-form-item-label css-dfjnss\\\"><label for=\\\"basic_password\\\" class=\\\"ant-form-item-required\\\" title=\\\"Password\\\">Password</label></div><div class=\\\"ant-col ant-col-16 ant-form-item-control css-dfjnss\\\"><div class=\\\"ant-form-item-control-input\\\"><div class=\\\"ant-form-item-control-input-content\\\"><span class=\\\"ant-input-affix-wrapper ant-input-password css-dfjnss\\\"><input id=\\\"basic_password\\\" aria-required=\\\"true\\\" type=\\\"password\\\" class=\\\"ant-input css-dfjnss\\\"><span class=\\\"ant-input-suffix\\\"><span role=\\\"img\\\" aria-label=\\\"eye-invisible\\\" tabindex=\\\"-1\\\" class=\\\"anticon anticon-eye-invisible ant-input-password-icon\\\"><svg viewBox=\\\"64 64 896 896\\\" focusable=\\\"false\\\" data-icon=\\\"eye-invisible\\\" width=\\\"1em\\\" height=\\\"1em\\\" fill=\\\"currentColor\\\" aria-hidden=\\\"true\\\"><path d=\\\"M942.2 486.2Q889.47 375.11 816.7 305l-50.88 50.88C807.31 395.53 843.45 447.4 874.7 512 791.5 684.2 673.4 766 512 766q-72.67 0-133.87-22.38L323 798.75Q408 838 512 838q288.3 0 430.2-300.3a60.29 60.29 0 000-51.5zm-63.57-320.64L836 122.88a8 8 0 00-11.32 0L715.31 232.2Q624.86 186 512 186q-288.3 0-430.2 300.3a60.3 60.3 0 000 51.5q56.69 119.4 136.5 191.41L112.48 835a8 8 0 000 11.31L155.17 889a8 8 0 0011.31 0l712.15-712.12a8 8 0 000-11.32zM149.3 512C232.6 339.8 350.7 258 512 258c54.54 0 104.13 9.36 149.12 28.39l-70.3 70.3a176 176 0 00-238.13 238.13l-83.42 83.42C223.1 637.49 183.3 582.28 149.3 512zm246.7 0a112.11 112.11 0 01146.2-106.69L401.31 546.2A112 112 0 01396 512z\\\"></path><path d=\\\"M508 624c-3.46 0-6.87-.16-10.25-.47l-52.82 52.82a176.09 176.09 0 00227.42-227.42l-52.82 52.82c.31 3.38.47 6.79.47 10.25a111.94 111.94 0 01-112 112z\\\"></path></svg></span></span></span></div></div></div></div></div><div class=\\\"ant-form-item css-dfjnss\\\"><div class=\\\"ant-row ant-form-item-row css-dfjnss\\\"><div class=\\\"ant-col ant-col-16 ant-col-offset-8 ant-form-item-control css-dfjnss\\\"><div class=\\\"ant-form-item-control-input\\\"><div class=\\\"ant-form-item-control-input-content\\\"><label class=\\\"ant-checkbox-wrapper ant-checkbox-wrapper-checked ant-checkbox-wrapper-in-form-item css-dfjnss\\\"><span class=\\\"ant-checkbox css-dfjnss ant-checkbox-checked\\\"><input id=\\\"basic_remember\\\" class=\\\"ant-checkbox-input\\\" type=\\\"checkbox\\\" checked=\\\"\\\"><span class=\\\"ant-checkbox-inner\\\"></span></span><span>Remember me</span></label></div></div></div></div></div><div class=\\\"ant-form-item css-dfjnss\\\"><div class=\\\"ant-row ant-form-item-row css-dfjnss\\\"><div class=\\\"ant-col ant-col-16 ant-col-offset-8 ant-form-item-control css-dfjnss\\\"><div class=\\\"ant-form-item-control-input\\\"><div class=\\\"ant-form-item-control-input-content\\\"><button type=\\\"submit\\\" class=\\\"ant-btn css-dfjnss ant-btn-primary\\\"><span>Submit</span></button></div></div></div></div></div></form>\\n            Parse this form in the specified format. Don't explain your process, just give the JSON output. Make sure your output can be parsed by json.loads.\\n            \"\n",
      "  }\n",
      "]\n",
      " \u001b[0m Response: {\n",
      "  \"choices\": [\n",
      "    {\n",
      "      \"finish_reason\": \"stop\",\n",
      "      \"index\": 0,\n",
      "      \"message\": {\n",
      "        \"content\": \"[\\n    {\\n        \\\"command\\\": \\\"FILL\\\",\\n        \\\"xpath\\\": \\\"//input[@id='basic_username']\\\",\\n        \\\"value\\\": \\\"myusername\\\"\\n    },\\n    {\\n        \\\"command\\\": \\\"FILL\\\",\\n        \\\"xpath\\\": \\\"//input[@id='basic_password']\\\",\\n        \\\"value\\\": \\\"mypassword\\\"\\n    },\\n    {\\n        \\\"command\\\": \\\"CLICK\\\",\\n        \\\"xpath\\\": \\\"//input[@id='basic_remember']\\\"\\n    },\\n    {\\n        \\\"command\\\": \\\"CLICK\\\",\\n        \\\"xpath\\\": \\\"//button[@type='submit']\\\"\\n    }\\n]\",\n",
      "        \"role\": \"assistant\"\n",
      "      }\n",
      "    }\n",
      "  ],\n",
      "  \"created\": 1686339666,\n",
      "  \"id\": \"chatcmpl-7PcGoKj8ZBFIwsQGsMkn3CHCoOhbx\",\n",
      "  \"model\": \"gpt-3.5-turbo-0301\",\n",
      "  \"object\": \"chat.completion\",\n",
      "  \"usage\": {\n",
      "    \"completion_tokens\": 116,\n",
      "    \"prompt_tokens\": 1568,\n",
      "    \"total_tokens\": 1684\n",
      "  }\n",
      "}\n",
      " \u001b[0m Total running cost: $0.010\n"
     ]
    }
   ],
   "source": [
    "res = chat_gpt_plain(processed, openai.api_key)"
   ]
  },
  {
   "cell_type": "code",
   "execution_count": 54,
   "id": "46282497",
   "metadata": {
    "ExecuteTime": {
     "end_time": "2023-06-09T19:41:36.178913Z",
     "start_time": "2023-06-09T19:41:36.146040Z"
    }
   },
   "outputs": [
    {
     "name": "stdout",
     "output_type": "stream",
     "text": [
      "[\n",
      "    {\n",
      "        \"command\": \"FILL\",\n",
      "        \"xpath\": \"//input[@id='basic_username']\",\n",
      "        \"value\": \"myusername\"\n",
      "    },\n",
      "    {\n",
      "        \"command\": \"FILL\",\n",
      "        \"xpath\": \"//input[@id='basic_password']\",\n",
      "        \"value\": \"mypassword\"\n",
      "    },\n",
      "    {\n",
      "        \"command\": \"CLICK\",\n",
      "        \"xpath\": \"//input[@id='basic_remember']\"\n",
      "    },\n",
      "    {\n",
      "        \"command\": \"CLICK\",\n",
      "        \"xpath\": \"//button[@type='submit']\"\n",
      "    }\n",
      "]\n"
     ]
    }
   ],
   "source": [
    "print(res)"
   ]
  },
  {
   "cell_type": "code",
   "execution_count": null,
   "id": "8c592492",
   "metadata": {},
   "outputs": [],
   "source": []
  }
 ],
 "metadata": {
  "kernelspec": {
   "display_name": "Python 3 (ipykernel)",
   "language": "python",
   "name": "python3"
  },
  "language_info": {
   "codemirror_mode": {
    "name": "ipython",
    "version": 3
   },
   "file_extension": ".py",
   "mimetype": "text/x-python",
   "name": "python",
   "nbconvert_exporter": "python",
   "pygments_lexer": "ipython3",
   "version": "3.10.9"
  },
  "toc": {
   "base_numbering": 1,
   "nav_menu": {},
   "number_sections": true,
   "sideBar": true,
   "skip_h1_title": false,
   "title_cell": "Table of Contents",
   "title_sidebar": "Contents",
   "toc_cell": false,
   "toc_position": {},
   "toc_section_display": true,
   "toc_window_display": false
  },
  "varInspector": {
   "cols": {
    "lenName": 16,
    "lenType": 16,
    "lenVar": 40
   },
   "kernels_config": {
    "python": {
     "delete_cmd_postfix": "",
     "delete_cmd_prefix": "del ",
     "library": "var_list.py",
     "varRefreshCmd": "print(var_dic_list())"
    },
    "r": {
     "delete_cmd_postfix": ") ",
     "delete_cmd_prefix": "rm(",
     "library": "var_list.r",
     "varRefreshCmd": "cat(var_dic_list()) "
    }
   },
   "types_to_exclude": [
    "module",
    "function",
    "builtin_function_or_method",
    "instance",
    "_Feature"
   ],
   "window_display": false
  }
 },
 "nbformat": 4,
 "nbformat_minor": 5
}
