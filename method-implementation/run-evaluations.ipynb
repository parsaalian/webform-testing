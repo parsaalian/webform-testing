{
 "cells": [
  {
   "cell_type": "code",
   "execution_count": 1,
   "id": "90afd18c",
   "metadata": {
    "ExecuteTime": {
     "end_time": "2023-06-09T18:26:16.562715Z",
     "start_time": "2023-06-09T18:26:16.554846Z"
    }
   },
   "outputs": [],
   "source": [
    "import os\n",
    "import sys\n",
    "module_path = os.path.abspath(os.path.join('.'))\n",
    "if module_path not in sys.path:\n",
    "    sys.path.append(module_path)"
   ]
  },
  {
   "cell_type": "code",
   "execution_count": 2,
   "id": "a1036c72",
   "metadata": {
    "ExecuteTime": {
     "end_time": "2023-06-09T18:26:16.750454Z",
     "start_time": "2023-06-09T18:26:16.720151Z"
    }
   },
   "outputs": [],
   "source": [
    "%load_ext autoreload\n",
    "%autoreload 2"
   ]
  },
  {
   "cell_type": "code",
   "execution_count": 5,
   "id": "a9401a9d",
   "metadata": {
    "ExecuteTime": {
     "end_time": "2023-06-09T18:45:22.417919Z",
     "start_time": "2023-06-09T18:45:19.006134Z"
    }
   },
   "outputs": [],
   "source": [
    "from dotenv import load_dotenv\n",
    "import openai\n",
    "\n",
    "\n",
    "load_dotenv()\n",
    "openai.api_key = os.getenv(\"OPENAI_API_KEY\")"
   ]
  },
  {
   "cell_type": "code",
   "execution_count": 7,
   "id": "72b227e8",
   "metadata": {
    "ExecuteTime": {
     "end_time": "2023-06-09T18:46:42.395527Z",
     "start_time": "2023-06-09T18:46:42.358399Z"
    }
   },
   "outputs": [],
   "source": [
    "from selenium import webdriver\n",
    "from selenium.webdriver.chrome.service import Service\n",
    "from selenium.webdriver.common.by import By\n",
    "from selenium.webdriver.chrome.options import Options\n",
    "\n",
    "from webdriver_manager.chrome import ChromeDriverManager\n",
    "\n",
    "from bs4 import BeautifulSoup as bs, NavigableString, Comment"
   ]
  },
  {
   "cell_type": "code",
   "execution_count": 36,
   "id": "8524e674",
   "metadata": {
    "ExecuteTime": {
     "end_time": "2023-06-09T19:22:31.639522Z",
     "start_time": "2023-06-09T19:22:31.600238Z"
    }
   },
   "outputs": [],
   "source": [
    "HEADLESS = False\n",
    "MODEL = 'GPT3.5'\n",
    "PREPROCESS = None # None | 'XPATH' | 'SPANS' | 'ATTRIBUTES'\n",
    "TESTS_LIST_SPEC = 'tests.sample.json'"
   ]
  },
  {
   "cell_type": "code",
   "execution_count": 11,
   "id": "a3309e7e",
   "metadata": {
    "ExecuteTime": {
     "end_time": "2023-06-09T18:47:48.462488Z",
     "start_time": "2023-06-09T18:47:46.135554Z"
    }
   },
   "outputs": [],
   "source": [
    "chrome_options = Options()\n",
    "if HEADLESS:\n",
    "    chrome_options.add_argument(\"--headless\")\n",
    "    chrome_options.add_argument(\"--window-size=3072x1920\");\n",
    "\n",
    "driver = webdriver.Chrome(service=Service(ChromeDriverManager().install()), options=chrome_options)\n",
    "\n",
    "if not HEADLESS:\n",
    "    driver.maximize_window()"
   ]
  },
  {
   "cell_type": "code",
   "execution_count": 32,
   "id": "c664a9e0",
   "metadata": {
    "ExecuteTime": {
     "end_time": "2023-06-09T19:17:00.369915Z",
     "start_time": "2023-06-09T19:17:00.331980Z"
    }
   },
   "outputs": [],
   "source": [
    "import json\n",
    "\n",
    "\n",
    "def create_test_list():\n",
    "    test_list_spec = {}\n",
    "    test_list = []\n",
    "\n",
    "    with open(TESTS_LIST_SPEC, 'r') as f:\n",
    "        test_list_spec = json.load(f)\n",
    "        f.close()\n",
    "    \n",
    "    \n",
    "    for app, tests in test_list_spec.items():\n",
    "        # include all forms in the application\n",
    "        if tests[0] == '*':\n",
    "            all_app_tests = filter(lambda x: 'json' in x, os.listdir(f'dataset/{app}'))\n",
    "            all_app_tests_locs = list(map(lambda x: f'dataset/{app}/{x}', all_app_tests))\n",
    "            test_list.extend(all_app_tests_locs)\n",
    "            continue\n",
    "        app_tests_locs = map(lambda x: f'dataset/{app}/{x}.json', tests)\n",
    "        test_list.extend(app_tests_locs)\n",
    "\n",
    "    test_jsons = []\n",
    "    \n",
    "    for test in test_list:\n",
    "        with open(test, 'r') as f:\n",
    "            test_jsons.append(json.load(f))\n",
    "        f.close()\n",
    "    \n",
    "    return test_jsons"
   ]
  },
  {
   "cell_type": "code",
   "execution_count": 34,
   "id": "c55bb740",
   "metadata": {
    "ExecuteTime": {
     "end_time": "2023-06-09T19:18:01.221280Z",
     "start_time": "2023-06-09T19:18:01.188992Z"
    }
   },
   "outputs": [],
   "source": [
    "test_list = create_test_list()"
   ]
  },
  {
   "cell_type": "code",
   "execution_count": 37,
   "id": "66b069e1",
   "metadata": {
    "ExecuteTime": {
     "end_time": "2023-06-09T19:23:23.465241Z",
     "start_time": "2023-06-09T19:23:23.371611Z"
    }
   },
   "outputs": [
    {
     "ename": "ModuleNotFoundError",
     "evalue": "No module named 'method.config'",
     "output_type": "error",
     "traceback": [
      "\u001b[0;31m---------------------------------------------------------------------------\u001b[0m",
      "\u001b[0;31mModuleNotFoundError\u001b[0m                       Traceback (most recent call last)",
      "Cell \u001b[0;32mIn[37], line 1\u001b[0m\n\u001b[0;32m----> 1\u001b[0m \u001b[38;5;28;01mfrom\u001b[39;00m \u001b[38;5;21;01mmethod\u001b[39;00m\u001b[38;5;21;01m.\u001b[39;00m\u001b[38;5;21;01mmodels\u001b[39;00m \u001b[38;5;28;01mimport\u001b[39;00m chat_gpt_plain\n",
      "File \u001b[0;32m~/Desktop/Research/webform testing project/webform-testing-code/method-implementation/method/models/__init__.py:1\u001b[0m\n\u001b[0;32m----> 1\u001b[0m \u001b[38;5;28;01mfrom\u001b[39;00m \u001b[38;5;21;01mmethod\u001b[39;00m\u001b[38;5;21;01m.\u001b[39;00m\u001b[38;5;21;01mmodels\u001b[39;00m\u001b[38;5;21;01m.\u001b[39;00m\u001b[38;5;21;01mchat_gpt_plain\u001b[39;00m \u001b[38;5;28;01mimport\u001b[39;00m chat_gpt_plain\n\u001b[1;32m      3\u001b[0m __all__ \u001b[38;5;241m=\u001b[39m [\n\u001b[1;32m      4\u001b[0m     \u001b[38;5;124m'\u001b[39m\u001b[38;5;124mchat_gpt_plain\u001b[39m\u001b[38;5;124m'\u001b[39m,\n\u001b[1;32m      5\u001b[0m ]\n",
      "File \u001b[0;32m~/Desktop/Research/webform testing project/webform-testing-code/method-implementation/method/models/chat_gpt_plain.py:3\u001b[0m\n\u001b[1;32m      1\u001b[0m \u001b[38;5;28;01mfrom\u001b[39;00m \u001b[38;5;21;01m__future__\u001b[39;00m \u001b[38;5;28;01mimport\u001b[39;00m annotations\n\u001b[0;32m----> 3\u001b[0m \u001b[38;5;28;01mfrom\u001b[39;00m \u001b[38;5;21;01mmethod\u001b[39;00m\u001b[38;5;21;01m.\u001b[39;00m\u001b[38;5;21;01mllm\u001b[39;00m\u001b[38;5;21;01m.\u001b[39;00m\u001b[38;5;21;01mopenai\u001b[39;00m \u001b[38;5;28;01mimport\u001b[39;00m ApiManager\n\u001b[1;32m      6\u001b[0m CHAT_COMPLETION_FILL_PROMPT_TEMPLATE \u001b[38;5;241m=\u001b[39m \u001b[38;5;124m\"\"\"\u001b[39m\n\u001b[1;32m      7\u001b[0m \u001b[38;5;124mYou are FormGPT, an AI assistant embedded in a crawler that has the task of generating different values for form inputs.\u001b[39m\n\u001b[1;32m      8\u001b[0m \u001b[38;5;124mYour decisions must always be made independently without seeking user assistance. Play to your strengths as an LLM and pursue simple strategies.\u001b[39m\n\u001b[0;32m   (...)\u001b[0m\n\u001b[1;32m     28\u001b[0m \u001b[38;5;124mThe xpath in this format must be relative to the form element. Just give the commands and nothing else.\u001b[39m\n\u001b[1;32m     29\u001b[0m \u001b[38;5;124m\"\"\"\u001b[39m\n\u001b[1;32m     32\u001b[0m \u001b[38;5;28;01mdef\u001b[39;00m \u001b[38;5;21mchat_gpt_plain\u001b[39m(form_html, model\u001b[38;5;241m=\u001b[39m\u001b[38;5;124m'\u001b[39m\u001b[38;5;124mgpt3.5-turbo\u001b[39m\u001b[38;5;124m'\u001b[39m):\n",
      "File \u001b[0;32m~/Desktop/Research/webform testing project/webform-testing-code/method-implementation/method/llm/openai/__init__.py:2\u001b[0m\n\u001b[1;32m      1\u001b[0m \u001b[38;5;66;03m# from: https://github.com/Significant-Gravitas/Auto-GPT/tree/master/autogpt/llm\u001b[39;00m\n\u001b[0;32m----> 2\u001b[0m \u001b[38;5;28;01mfrom\u001b[39;00m \u001b[38;5;21;01mmethod\u001b[39;00m\u001b[38;5;21;01m.\u001b[39;00m\u001b[38;5;21;01mllm\u001b[39;00m\u001b[38;5;21;01m.\u001b[39;00m\u001b[38;5;21;01mopenai\u001b[39;00m\u001b[38;5;21;01m.\u001b[39;00m\u001b[38;5;21;01mapi_manager\u001b[39;00m \u001b[38;5;28;01mimport\u001b[39;00m ApiManager\n\u001b[1;32m      3\u001b[0m \u001b[38;5;28;01mfrom\u001b[39;00m \u001b[38;5;21;01mmethod\u001b[39;00m\u001b[38;5;21;01m.\u001b[39;00m\u001b[38;5;21;01mllm\u001b[39;00m\u001b[38;5;21;01m.\u001b[39;00m\u001b[38;5;21;01mopenai\u001b[39;00m\u001b[38;5;21;01m.\u001b[39;00m\u001b[38;5;21;01mbase\u001b[39;00m \u001b[38;5;28;01mimport\u001b[39;00m (\n\u001b[1;32m      4\u001b[0m     ChatModelInfo,\n\u001b[1;32m      5\u001b[0m     ChatModelResponse,\n\u001b[0;32m   (...)\u001b[0m\n\u001b[1;32m     10\u001b[0m     ModelInfo,\n\u001b[1;32m     11\u001b[0m )\n\u001b[1;32m     12\u001b[0m \u001b[38;5;28;01mfrom\u001b[39;00m \u001b[38;5;21;01mmethod\u001b[39;00m\u001b[38;5;21;01m.\u001b[39;00m\u001b[38;5;21;01mllm\u001b[39;00m\u001b[38;5;21;01m.\u001b[39;00m\u001b[38;5;21;01mopenai\u001b[39;00m\u001b[38;5;21;01m.\u001b[39;00m\u001b[38;5;21;01mllm_utils\u001b[39;00m \u001b[38;5;28;01mimport\u001b[39;00m (\n\u001b[1;32m     13\u001b[0m     call_ai_function,\n\u001b[1;32m     14\u001b[0m     chunked_tokens,\n\u001b[1;32m     15\u001b[0m     create_chat_completion,\n\u001b[1;32m     16\u001b[0m     get_ada_embedding,\n\u001b[1;32m     17\u001b[0m )\n",
      "File \u001b[0;32m~/Desktop/Research/webform testing project/webform-testing-code/method-implementation/method/llm/openai/api_manager.py:7\u001b[0m\n\u001b[1;32m      4\u001b[0m \u001b[38;5;28;01mimport\u001b[39;00m \u001b[38;5;21;01mjson\u001b[39;00m\n\u001b[1;32m      5\u001b[0m \u001b[38;5;28;01mimport\u001b[39;00m \u001b[38;5;21;01mopenai\u001b[39;00m\n\u001b[0;32m----> 7\u001b[0m \u001b[38;5;28;01mfrom\u001b[39;00m \u001b[38;5;21;01mmethod\u001b[39;00m\u001b[38;5;21;01m.\u001b[39;00m\u001b[38;5;21;01mconfig\u001b[39;00m \u001b[38;5;28;01mimport\u001b[39;00m Config\n\u001b[1;32m      8\u001b[0m \u001b[38;5;28;01mfrom\u001b[39;00m \u001b[38;5;21;01mmethod\u001b[39;00m\u001b[38;5;21;01m.\u001b[39;00m\u001b[38;5;21;01mllm\u001b[39;00m\u001b[38;5;21;01m.\u001b[39;00m\u001b[38;5;21;01mopenai\u001b[39;00m\u001b[38;5;21;01m.\u001b[39;00m\u001b[38;5;21;01mmodelsinfo\u001b[39;00m \u001b[38;5;28;01mimport\u001b[39;00m COSTS\n\u001b[1;32m      9\u001b[0m \u001b[38;5;28;01mfrom\u001b[39;00m \u001b[38;5;21;01mmethod\u001b[39;00m\u001b[38;5;21;01m.\u001b[39;00m\u001b[38;5;21;01mlogger\u001b[39;00m \u001b[38;5;28;01mimport\u001b[39;00m logger\n",
      "\u001b[0;31mModuleNotFoundError\u001b[0m: No module named 'method.config'"
     ]
    }
   ],
   "source": [
    "from method.models import chat_gpt_plain"
   ]
  },
  {
   "cell_type": "code",
   "execution_count": null,
   "id": "f6246c62",
   "metadata": {},
   "outputs": [],
   "source": [
    "import time\n",
    "\n",
    "\n",
    "def preprocess_form(form):\n",
    "    if PREPROCESS == None:\n",
    "        return form.get_attribute('outerHTML')\n",
    "    \n",
    "    return form.get_attribute('outerHTML')\n",
    "\n",
    "\n",
    "def run_method(form):\n",
    "    \n",
    "\n",
    "\n",
    "def run_test(test):\n",
    "    driver.get(test['url'])\n",
    "    time.sleep(1)\n",
    "    \n",
    "    form = driver.find_element(By.XPATH, test['xpath'])\n",
    "    "
   ]
  }
 ],
 "metadata": {
  "kernelspec": {
   "display_name": "Python 3 (ipykernel)",
   "language": "python",
   "name": "python3"
  },
  "language_info": {
   "codemirror_mode": {
    "name": "ipython",
    "version": 3
   },
   "file_extension": ".py",
   "mimetype": "text/x-python",
   "name": "python",
   "nbconvert_exporter": "python",
   "pygments_lexer": "ipython3",
   "version": "3.10.9"
  },
  "toc": {
   "base_numbering": 1,
   "nav_menu": {},
   "number_sections": true,
   "sideBar": true,
   "skip_h1_title": false,
   "title_cell": "Table of Contents",
   "title_sidebar": "Contents",
   "toc_cell": false,
   "toc_position": {},
   "toc_section_display": true,
   "toc_window_display": false
  },
  "varInspector": {
   "cols": {
    "lenName": 16,
    "lenType": 16,
    "lenVar": 40
   },
   "kernels_config": {
    "python": {
     "delete_cmd_postfix": "",
     "delete_cmd_prefix": "del ",
     "library": "var_list.py",
     "varRefreshCmd": "print(var_dic_list())"
    },
    "r": {
     "delete_cmd_postfix": ") ",
     "delete_cmd_prefix": "rm(",
     "library": "var_list.r",
     "varRefreshCmd": "cat(var_dic_list()) "
    }
   },
   "types_to_exclude": [
    "module",
    "function",
    "builtin_function_or_method",
    "instance",
    "_Feature"
   ],
   "window_display": false
  }
 },
 "nbformat": 4,
 "nbformat_minor": 5
}
