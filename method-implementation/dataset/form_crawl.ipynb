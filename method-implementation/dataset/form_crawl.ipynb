{
 "cells": [
  {
   "cell_type": "code",
   "execution_count": 1,
   "id": "118b645b",
   "metadata": {
    "ExecuteTime": {
     "end_time": "2023-06-08T18:41:35.829636Z",
     "start_time": "2023-06-08T18:41:35.417712Z"
    }
   },
   "outputs": [],
   "source": [
    "import os\n",
    "import glob\n",
    "import time\n",
    "import json\n",
    "from tqdm.notebook import tqdm\n",
    "\n",
    "from bs4 import BeautifulSoup as bs\n",
    "\n",
    "from selenium import webdriver\n",
    "from selenium.webdriver.chrome.service import Service\n",
    "from selenium.webdriver.common.by import By\n",
    "from selenium.webdriver.chrome.options import Options\n",
    "\n",
    "from webdriver_manager.chrome import ChromeDriverManager"
   ]
  },
  {
   "cell_type": "code",
   "execution_count": 2,
   "id": "54851faa",
   "metadata": {
    "ExecuteTime": {
     "end_time": "2023-06-08T18:41:35.862514Z",
     "start_time": "2023-06-08T18:41:35.858356Z"
    }
   },
   "outputs": [],
   "source": [
    "def get_xpath(element):\n",
    "    xpath_script = \"\"\"\n",
    "    function getPathTo(element) {\n",
    "        // if (element.id !== '')\n",
    "        //     return 'id(\\\"'+element.id+'\\\")';\n",
    "        if (element === document.body)\n",
    "            return element.tagName;\n",
    "        var ix= 0;\n",
    "        var siblings= element.parentNode.childNodes;\n",
    "        for (var i= 0; i<siblings.length; i++) {\n",
    "            var sibling= siblings[i];\n",
    "            if (sibling===element)\n",
    "                return getPathTo(element.parentNode) + '/' + element.tagName + '[' + (ix + 1) + ']';\n",
    "            if (sibling.nodeType===1 && sibling.tagName===element.tagName)\n",
    "                ix++;\n",
    "        }\n",
    "    }\n",
    "    const path = getPathTo(arguments[0]);\n",
    "    if (path.startsWith('id(')) {\n",
    "        return path;\n",
    "    }\n",
    "    return '//' + path;\n",
    "    \"\"\"\n",
    "    return driver.execute_script(xpath_script, element)"
   ]
  },
  {
   "cell_type": "code",
   "execution_count": 3,
   "id": "24dd9954",
   "metadata": {
    "ExecuteTime": {
     "end_time": "2023-06-08T18:41:35.898530Z",
     "start_time": "2023-06-08T18:41:35.889737Z"
    }
   },
   "outputs": [],
   "source": [
    "def create_application_directory(app_name):\n",
    "    if os.path.exists(app_name):\n",
    "        return False\n",
    "    os.makedirs(app_name)\n",
    "    return True\n",
    "\n",
    "\n",
    "def get_next_index(directory):\n",
    "    if len(os.listdir(directory)) == 0:\n",
    "        return 1\n",
    "    return sorted(list(map(lambda x: int(x.split('.')[0]), os.listdir(directory))))[-1] + 1\n",
    "\n",
    "\n",
    "def take_full_screenshot(element, path):\n",
    "    # store original size\n",
    "    original_size = driver.get_window_size()\n",
    "    \n",
    "    required_height = element.size['height']\n",
    "    \n",
    "    # scroll to element\n",
    "    driver.execute_script(\"return arguments[0].scrollIntoView();\", element)\n",
    "    time.sleep(0.5)\n",
    "    # set window size\n",
    "    # driver.set_window_size(original_size['width'], required_height + 128)\n",
    "    \n",
    "    # now that the element is within the viewport, take screenshot of element\n",
    "    element.screenshot(path)\n",
    "\n",
    "    # return window to original size\n",
    "    # driver.set_window_size(original_size['width'], original_size['height'])\n",
    "\n",
    "\n",
    "def add_entry_to_directory(element, app_name):\n",
    "    create_application_directory(app_name)\n",
    "    index = get_next_index(app_name)\n",
    "    \n",
    "    element_html = element.get_attribute('outerHTML')\n",
    "    pretty_html = bs(element_html, 'html.parser').prettify()\n",
    "\n",
    "    with open(os.path.join(app_name, f'{index}.json'), 'w+') as f:\n",
    "        json.dump({\n",
    "            'url': driver.current_url,\n",
    "            'form_xpath': get_xpath(element)\n",
    "        }, f)\n",
    "        f.close()\n",
    "    \n",
    "    with open(os.path.join(app_name, f'{index}.html'), 'w+') as f:\n",
    "        f.write(pretty_html)\n",
    "        f.close()\n",
    "    \n",
    "    take_full_screenshot(element, os.path.join(app_name, f'{index}.png'))"
   ]
  },
  {
   "cell_type": "code",
   "execution_count": 4,
   "id": "1215b4f2",
   "metadata": {
    "ExecuteTime": {
     "end_time": "2023-06-08T18:41:39.443490Z",
     "start_time": "2023-06-08T18:41:36.400881Z"
    }
   },
   "outputs": [],
   "source": [
    "chrome_options = Options()\n",
    "# chrome_options.add_argument(\"--headless\")\n",
    "# chrome_options.add_argument(\"--window-size=3072x1920\");\n",
    "\n",
    "driver = webdriver.Chrome(service=Service(ChromeDriverManager().install()), options=chrome_options)"
   ]
  },
  {
   "cell_type": "code",
   "execution_count": 5,
   "id": "1bb6e6e3",
   "metadata": {
    "ExecuteTime": {
     "end_time": "2023-06-08T18:41:44.922581Z",
     "start_time": "2023-06-08T18:41:42.302552Z"
    }
   },
   "outputs": [],
   "source": [
    "URL = \"https://ant.design/\"\n",
    "APP_NAME = 'antd'\n",
    "driver.get(URL)"
   ]
  },
  {
   "cell_type": "code",
   "execution_count": 6,
   "id": "576246ea",
   "metadata": {
    "ExecuteTime": {
     "end_time": "2023-06-08T18:42:13.243785Z",
     "start_time": "2023-06-08T18:42:13.080130Z"
    }
   },
   "outputs": [],
   "source": [
    "driver.maximize_window()"
   ]
  },
  {
   "cell_type": "code",
   "execution_count": 8,
   "id": "d191c03f",
   "metadata": {
    "ExecuteTime": {
     "end_time": "2023-06-08T18:43:36.814805Z",
     "start_time": "2023-06-08T18:42:19.891273Z"
    }
   },
   "outputs": [
    {
     "name": "stdout",
     "output_type": "stream",
     "text": [
      "forms: 89\n",
      "form 1\n",
      "form 2\n",
      "form 3\n",
      "form 4\n",
      "form 5\n",
      "form 6\n",
      "form 7\n",
      "form 8\n",
      "form 9\n",
      "form 10\n",
      "form 11\n",
      "form 12\n",
      "form 13\n",
      "form 14\n",
      "form 15\n",
      "form 16\n",
      "form 17\n",
      "form 18\n",
      "form 19\n",
      "form 20\n",
      "form 21\n",
      "form 22\n",
      "form 23\n",
      "form 24\n",
      "form 25\n",
      "form 26\n",
      "form 27\n",
      "form 28\n",
      "form 29\n",
      "form 30\n",
      "form 31\n",
      "form 32\n",
      "form 33\n",
      "form 34\n",
      "form 35\n",
      "form 36\n",
      "form 37\n",
      "form 38\n",
      "form 39\n",
      "form 40\n",
      "form 41\n",
      "form 42\n",
      "form 43\n",
      "form 44\n",
      "form 45\n",
      "form 46\n",
      "form 47\n",
      "form 48\n",
      "form 49\n",
      "form 50\n",
      "form 51\n",
      "form 52\n",
      "form 53\n",
      "form 54\n",
      "form 55\n",
      "form 56\n",
      "form 57\n",
      "form 58\n",
      "form 59\n",
      "form 60\n",
      "form 61\n",
      "form 62\n",
      "form 63\n",
      "form 64\n",
      "form 65\n",
      "form 66\n",
      "form 67\n",
      "form 68\n",
      "form 69\n",
      "form 70\n",
      "form 71\n",
      "form 72\n",
      "form 73\n",
      "form 74\n",
      "form 75\n",
      "form 76\n",
      "form 77\n",
      "form 78\n",
      "form 79\n",
      "form 80\n",
      "form 81\n",
      "form 82\n",
      "form 83\n",
      "form 84\n",
      "form 85\n",
      "form 86\n",
      "form 87\n",
      "form 88\n",
      "form 89\n"
     ]
    }
   ],
   "source": [
    "forms = driver.find_elements(By.TAG_NAME, 'form')\n",
    "\n",
    "print('forms:', len(forms))\n",
    "\n",
    "for i, form in enumerate(forms):\n",
    "    print('form', i + 1)\n",
    "    try:\n",
    "        add_entry_to_directory(form, APP_NAME)\n",
    "    except Exception as e:\n",
    "        print(e)"
   ]
  },
  {
   "cell_type": "code",
   "execution_count": null,
   "id": "658e1b0e",
   "metadata": {},
   "outputs": [],
   "source": []
  },
  {
   "cell_type": "code",
   "execution_count": null,
   "id": "140dfbb4",
   "metadata": {},
   "outputs": [],
   "source": []
  }
 ],
 "metadata": {
  "kernelspec": {
   "display_name": "Python 3 (ipykernel)",
   "language": "python",
   "name": "python3"
  },
  "language_info": {
   "codemirror_mode": {
    "name": "ipython",
    "version": 3
   },
   "file_extension": ".py",
   "mimetype": "text/x-python",
   "name": "python",
   "nbconvert_exporter": "python",
   "pygments_lexer": "ipython3",
   "version": "3.10.9"
  },
  "toc": {
   "base_numbering": 1,
   "nav_menu": {},
   "number_sections": true,
   "sideBar": true,
   "skip_h1_title": false,
   "title_cell": "Table of Contents",
   "title_sidebar": "Contents",
   "toc_cell": false,
   "toc_position": {},
   "toc_section_display": true,
   "toc_window_display": false
  },
  "varInspector": {
   "cols": {
    "lenName": 16,
    "lenType": 16,
    "lenVar": 40
   },
   "kernels_config": {
    "python": {
     "delete_cmd_postfix": "",
     "delete_cmd_prefix": "del ",
     "library": "var_list.py",
     "varRefreshCmd": "print(var_dic_list())"
    },
    "r": {
     "delete_cmd_postfix": ") ",
     "delete_cmd_prefix": "rm(",
     "library": "var_list.r",
     "varRefreshCmd": "cat(var_dic_list()) "
    }
   },
   "types_to_exclude": [
    "module",
    "function",
    "builtin_function_or_method",
    "instance",
    "_Feature"
   ],
   "window_display": false
  }
 },
 "nbformat": 4,
 "nbformat_minor": 5
}
