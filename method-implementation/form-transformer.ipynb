{
 "cells": [
  {
   "cell_type": "code",
   "execution_count": 23,
   "id": "5a1852e0",
   "metadata": {
    "ExecuteTime": {
     "end_time": "2023-06-08T20:53:33.240492Z",
     "start_time": "2023-06-08T20:53:30.301444Z"
    }
   },
   "outputs": [],
   "source": [
    "import os\n",
    "from enum import Enum\n",
    "from math import floor\n",
    "from dotenv import load_dotenv\n",
    "\n",
    "import numpy as np\n",
    "from tqdm.notebook import tqdm\n",
    "\n",
    "import spacy\n",
    "import openai\n",
    "from openai.embeddings_utils import get_embedding as get_embedding_openai, cosine_similarity\n",
    "\n",
    "from selenium import webdriver\n",
    "from selenium.webdriver.chrome.service import Service\n",
    "from selenium.webdriver.common.by import By\n",
    "from selenium.webdriver.chrome.options import Options\n",
    "\n",
    "from webdriver_manager.chrome import ChromeDriverManager\n",
    "\n",
    "from bs4 import BeautifulSoup as bs, NavigableString, Comment"
   ]
  },
  {
   "cell_type": "code",
   "execution_count": 27,
   "id": "2d3eb62d",
   "metadata": {
    "ExecuteTime": {
     "end_time": "2023-06-08T20:55:13.542178Z",
     "start_time": "2023-06-08T20:55:13.539561Z"
    }
   },
   "outputs": [],
   "source": [
    "# !python3 -m spacy download en_core_web_lg"
   ]
  },
  {
   "cell_type": "code",
   "execution_count": 2,
   "id": "8bee6adb",
   "metadata": {
    "ExecuteTime": {
     "end_time": "2023-06-08T20:51:24.679782Z",
     "start_time": "2023-06-08T20:51:24.676510Z"
    }
   },
   "outputs": [],
   "source": [
    "load_dotenv()\n",
    "openai.api_key = os.getenv(\"OPENAI_API_KEY\")"
   ]
  },
  {
   "cell_type": "code",
   "execution_count": 16,
   "id": "c93e42bb",
   "metadata": {
    "ExecuteTime": {
     "end_time": "2023-06-08T20:53:11.356996Z",
     "start_time": "2023-06-08T20:53:11.354328Z"
    }
   },
   "outputs": [],
   "source": [
    "# Global Variables\n",
    "TEXT_EMBEDDING_METHOD = 'SPACY' # ['ADA', 'WORD2VEC', 'SPACY']\n",
    "GRAPH_EMBEDDING_METHOD = 'NODE2VEC' # ['NODE2VEC', 'GCN']"
   ]
  },
  {
   "cell_type": "code",
   "execution_count": 4,
   "id": "08120073",
   "metadata": {
    "ExecuteTime": {
     "end_time": "2023-06-08T20:51:28.323715Z",
     "start_time": "2023-06-08T20:51:26.050141Z"
    }
   },
   "outputs": [],
   "source": [
    "chrome_options = Options()\n",
    "# chrome_options.add_argument(\"--headless\")\n",
    "# chrome_options.add_argument(\"--window-size=3072x1920\");\n",
    "\n",
    "driver = webdriver.Chrome(service=Service(ChromeDriverManager().install()), options=chrome_options)"
   ]
  },
  {
   "cell_type": "code",
   "execution_count": 5,
   "id": "2fa57ce7",
   "metadata": {
    "ExecuteTime": {
     "end_time": "2023-06-08T20:51:33.598981Z",
     "start_time": "2023-06-08T20:51:30.808251Z"
    }
   },
   "outputs": [],
   "source": [
    "driver.get('https://ant.design/components/form')"
   ]
  },
  {
   "cell_type": "code",
   "execution_count": 6,
   "id": "7626c894",
   "metadata": {
    "ExecuteTime": {
     "end_time": "2023-06-08T20:51:33.960467Z",
     "start_time": "2023-06-08T20:51:33.954282Z"
    }
   },
   "outputs": [],
   "source": [
    "def get_xpath(element):\n",
    "    xpath_script = \"\"\"\n",
    "    function getPathTo(element) {\n",
    "        // if (element.id !== '')\n",
    "        //     return 'id(\\\"'+element.id+'\\\")';\n",
    "        if (element === document.body)\n",
    "            return element.tagName;\n",
    "        var ix= 0;\n",
    "        var siblings= element.parentNode.childNodes;\n",
    "        for (var i= 0; i<siblings.length; i++) {\n",
    "            var sibling= siblings[i];\n",
    "            if (sibling===element)\n",
    "                return getPathTo(element.parentNode) + '/' + element.tagName + '[' + (ix + 1) + ']';\n",
    "            if (sibling.nodeType===1 && sibling.tagName===element.tagName)\n",
    "                ix++;\n",
    "        }\n",
    "    }\n",
    "    const path = getPathTo(arguments[0]);\n",
    "    if (path.startsWith('id(')) {\n",
    "        return path;\n",
    "    }\n",
    "    return '//' + path;\n",
    "    \"\"\"\n",
    "    return driver.execute_script(xpath_script, element)\n",
    "\n",
    "\n",
    "def get_visual_spans(element):\n",
    "    # Get the location and size of the root element\n",
    "    location = element.location\n",
    "    size = element.size\n",
    "\n",
    "    # Calculate the boundaries of the root element\n",
    "    x_span = (location['x'], location['x'] + size['width'])\n",
    "    y_span = (location['y'], location['y'] + size['height'])\n",
    "    \n",
    "    return x_span, y_span\n",
    "\n",
    "\n",
    "def set_attribute(element, key, value):\n",
    "    driver.execute_script(\"arguments[0].setAttribute(arguments[1], arguments[2])\", element, key, value)\n",
    "\n",
    "\n",
    "def embed_properties(root):\n",
    "    '''\n",
    "    This function embeds the x_span, y_span, and xpath\n",
    "    properties into WebElement as attributes for processing\n",
    "    in the next steps. We do this because we want to convert\n",
    "    the WebElement into a BeautifulSoup document.\n",
    "    '''\n",
    "    x_span, y_span = get_visual_spans(root)\n",
    "    xpath = get_xpath(root)\n",
    "    \n",
    "    set_attribute(root, 'xpath', xpath)\n",
    "    set_attribute(root, 'x_start', x_span[0])\n",
    "    set_attribute(root, 'x_end', x_span[1])\n",
    "    set_attribute(root, 'y_start', y_span[0])\n",
    "    set_attribute(root, 'y_end', y_span[1])\n",
    "    \n",
    "    for child in root.find_elements(By.XPATH, '*'):\n",
    "        embed_properties(child)\n",
    "    \n",
    "    return root"
   ]
  },
  {
   "cell_type": "code",
   "execution_count": 8,
   "id": "46a9fce3",
   "metadata": {
    "ExecuteTime": {
     "end_time": "2023-06-08T20:51:52.252435Z",
     "start_time": "2023-06-08T20:51:50.351709Z"
    }
   },
   "outputs": [],
   "source": [
    "form = driver.find_elements(By.TAG_NAME, 'form')[48]\n",
    "form = embed_properties(form)\n",
    "\n",
    "form_doc = bs(form.get_attribute('outerHTML'), 'html.parser')"
   ]
  },
  {
   "cell_type": "code",
   "execution_count": 9,
   "id": "550a1680",
   "metadata": {
    "ExecuteTime": {
     "end_time": "2023-06-08T20:51:52.737834Z",
     "start_time": "2023-06-08T20:51:52.731496Z"
    },
    "scrolled": true
   },
   "outputs": [
    {
     "name": "stdout",
     "output_type": "stream",
     "text": [
      "<form class=\"ant-form ant-form-horizontal css-dfjnss\" id=\"complex-form\" style=\"max-width: 600px;\" x_end=\"939\" x_start=\"339\" xpath=\"//BODY/DIV[1]/DIV[1]/MAIN[1]/DIV[2]/ARTICLE[1]/DIV[2]/DIV[1]/SECTION[1]/SECTION[17]/SECTION[1]/FORM[1]\" y_end=\"8501\" y_start=\"8301\">\n",
      " <div class=\"ant-form-item css-dfjnss\" x_end=\"939\" x_start=\"339\" xpath=\"//BODY/DIV[1]/DIV[1]/MAIN[1]/DIV[2]/ARTICLE[1]/DIV[2]/DIV[1]/SECTION[1]/SECTION[17]/SECTION[1]/FORM[1]/DIV[1]\" y_end=\"8333\" y_start=\"8301\">\n",
      "  <div class=\"ant-row ant-form-item-row css-dfjnss\" x_end=\"939\" x_start=\"339\" xpath=\"//BODY/DIV[1]/DIV[1]/MAIN[1]/DIV[2]/ARTICLE[1]/DIV[2]/DIV[1]/SECTION[1]/SECTION[17]/SECTION[1]/FORM[1]/DIV[1]/DIV[1]\" y_end=\"8333\" y_start=\"8301\">\n",
      "   <div class=\"ant-col ant-col-8 ant-form-item-label css-dfjnss\" x_end=\"539\" x_start=\"339\" xpath=\"//BODY/DIV[1]/DIV[1]/MAIN[1]/DIV[2]/ARTICLE[1]/DIV[2]/DIV[1]/SECTION[1]/SECTION[17]/SECTION[1]/FORM[1]/DIV[1]/DIV[1]/DIV[1]\" y_end=\"8333\" y_start=\"8301\">\n",
      "    <label class=\"\" title=\"Username\" x_end=\"539\" x_start=\"459\" xpath=\"//BODY/DIV[1]/DIV[1]/MAIN[1]/DIV[2]/ARTICLE[1]/DIV[2]/DIV[1]/SECTION[1]/SECTION[17]/SECTION[1]/FORM[1]/DIV[1]/DIV[1]/DIV[1]/LABEL[1]\" y_end=\"8333\" y_start=\"8301\">\n",
      "     Username\n",
      "    </label>\n",
      "   </div>\n",
      "   <div class=\"ant-col ant-col-16 ant-form-item-control css-dfjnss\" x_end=\"939\" x_start=\"539\" xpath=\"//BODY/DIV[1]/DIV[1]/MAIN[1]/DIV[2]/ARTICLE[1]/DIV[2]/DIV[1]/SECTION[1]/SECTION[17]/SECTION[1]/FORM[1]/DIV[1]/DIV[1]/DIV[2]\" y_end=\"8333\" y_start=\"8301\">\n",
      "    <div class=\"ant-form-item-control-input\" x_end=\"939\" x_start=\"539\" xpath=\"//BODY/DIV[1]/DIV[1]/MAIN[1]/DIV[2]/ARTICLE[1]/DIV[2]/DIV[1]/SECTION[1]/SECTION[17]/SECTION[1]/FORM[1]/DIV[1]/DIV[1]/DIV[2]/DIV[1]\" y_end=\"8333\" y_start=\"8301\">\n",
      "     <div class=\"ant-form-item-control-input-content\" x_end=\"939\" x_start=\"539\" xpath=\"//BODY/DIV[1]/DIV[1]/MAIN[1]/DIV[2]/ARTICLE[1]/DIV[2]/DIV[1]/SECTION[1]/SECTION[17]/SECTION[1]/FORM[1]/DIV[1]/DIV[1]/DIV[2]/DIV[1]/DIV[1]\" y_end=\"8333\" y_start=\"8301\">\n",
      "      <div class=\"ant-space css-dfjnss ant-space-horizontal ant-space-align-center\" style=\"gap: 8px;\" x_end=\"782\" x_start=\"539\" xpath=\"//BODY/DIV[1]/DIV[1]/MAIN[1]/DIV[2]/ARTICLE[1]/DIV[2]/DIV[1]/SECTION[1]/SECTION[17]/SECTION[1]/FORM[1]/DIV[1]/DIV[1]/DIV[2]/DIV[1]/DIV[1]/DIV[1]\" y_end=\"8333\" y_start=\"8301\">\n",
      "       <div class=\"ant-space-item\" style=\"\" x_end=\"699\" x_start=\"539\" xpath=\"//BODY/DIV[1]/DIV[1]/MAIN[1]/DIV[2]/ARTICLE[1]/DIV[2]/DIV[1]/SECTION[1]/SECTION[17]/SECTION[1]/FORM[1]/DIV[1]/DIV[1]/DIV[2]/DIV[1]/DIV[1]/DIV[1]/DIV[1]\" y_end=\"8333\" y_start=\"8301\">\n",
      "        <input aria-required=\"true\" class=\"ant-input css-dfjnss\" id=\"complex-form_username\" placeholder=\"Please input\" style=\"width: 160px;\" type=\"text\" value=\"\" x_end=\"699\" x_start=\"539\" xpath=\"//BODY/DIV[1]/DIV[1]/MAIN[1]/DIV[2]/ARTICLE[1]/DIV[2]/DIV[1]/SECTION[1]/SECTION[17]/SECTION[1]/FORM[1]/DIV[1]/DIV[1]/DIV[2]/DIV[1]/DIV[1]/DIV[1]/DIV[1]/INPUT[1]\" y_end=\"8333\" y_start=\"8301\"/>\n",
      "       </div>\n",
      "       <div class=\"ant-space-item\" x_end=\"782\" x_start=\"707\" xpath=\"//BODY/DIV[1]/DIV[1]/MAIN[1]/DIV[2]/ARTICLE[1]/DIV[2]/DIV[1]/SECTION[1]/SECTION[17]/SECTION[1]/FORM[1]/DIV[1]/DIV[1]/DIV[2]/DIV[1]/DIV[1]/DIV[1]/DIV[2]\" y_end=\"8328\" y_start=\"8306\">\n",
      "        <a class=\"ant-typography css-dfjnss\" href=\"#API\" x_end=\"782\" x_start=\"707\" xpath=\"//BODY/DIV[1]/DIV[1]/MAIN[1]/DIV[2]/ARTICLE[1]/DIV[2]/DIV[1]/SECTION[1]/SECTION[17]/SECTION[1]/FORM[1]/DIV[1]/DIV[1]/DIV[2]/DIV[1]/DIV[1]/DIV[1]/DIV[2]/A[1]\" y_end=\"8326\" y_start=\"8309\">\n",
      "         Need Help?\n",
      "        </a>\n",
      "       </div>\n",
      "      </div>\n",
      "     </div>\n",
      "    </div>\n",
      "   </div>\n",
      "  </div>\n",
      " </div>\n",
      " <div class=\"ant-form-item css-dfjnss\" x_end=\"939\" x_start=\"339\" xpath=\"//BODY/DIV[1]/DIV[1]/MAIN[1]/DIV[2]/ARTICLE[1]/DIV[2]/DIV[1]/SECTION[1]/SECTION[17]/SECTION[1]/FORM[1]/DIV[2]\" y_end=\"8389\" y_start=\"8357\">\n",
      "  <div class=\"ant-row ant-form-item-row css-dfjnss\" x_end=\"939\" x_start=\"339\" xpath=\"//BODY/DIV[1]/DIV[1]/MAIN[1]/DIV[2]/ARTICLE[1]/DIV[2]/DIV[1]/SECTION[1]/SECTION[17]/SECTION[1]/FORM[1]/DIV[2]/DIV[1]\" y_end=\"8389\" y_start=\"8357\">\n",
      "   <div class=\"ant-col ant-col-8 ant-form-item-label css-dfjnss\" x_end=\"539\" x_start=\"339\" xpath=\"//BODY/DIV[1]/DIV[1]/MAIN[1]/DIV[2]/ARTICLE[1]/DIV[2]/DIV[1]/SECTION[1]/SECTION[17]/SECTION[1]/FORM[1]/DIV[2]/DIV[1]/DIV[1]\" y_end=\"8389\" y_start=\"8357\">\n",
      "    <label class=\"\" title=\"Address\" x_end=\"539\" x_start=\"472\" xpath=\"//BODY/DIV[1]/DIV[1]/MAIN[1]/DIV[2]/ARTICLE[1]/DIV[2]/DIV[1]/SECTION[1]/SECTION[17]/SECTION[1]/FORM[1]/DIV[2]/DIV[1]/DIV[1]/LABEL[1]\" y_end=\"8389\" y_start=\"8357\">\n",
      "     Address\n",
      "    </label>\n",
      "   </div>\n",
      "   <div class=\"ant-col ant-col-16 ant-form-item-control css-dfjnss\" x_end=\"939\" x_start=\"539\" xpath=\"//BODY/DIV[1]/DIV[1]/MAIN[1]/DIV[2]/ARTICLE[1]/DIV[2]/DIV[1]/SECTION[1]/SECTION[17]/SECTION[1]/FORM[1]/DIV[2]/DIV[1]/DIV[2]\" y_end=\"8389\" y_start=\"8357\">\n",
      "    <div class=\"ant-form-item-control-input\" x_end=\"939\" x_start=\"539\" xpath=\"//BODY/DIV[1]/DIV[1]/MAIN[1]/DIV[2]/ARTICLE[1]/DIV[2]/DIV[1]/SECTION[1]/SECTION[17]/SECTION[1]/FORM[1]/DIV[2]/DIV[1]/DIV[2]/DIV[1]\" y_end=\"8389\" y_start=\"8357\">\n",
      "     <div class=\"ant-form-item-control-input-content\" x_end=\"939\" x_start=\"539\" xpath=\"//BODY/DIV[1]/DIV[1]/MAIN[1]/DIV[2]/ARTICLE[1]/DIV[2]/DIV[1]/SECTION[1]/SECTION[17]/SECTION[1]/FORM[1]/DIV[2]/DIV[1]/DIV[2]/DIV[1]/DIV[1]\" y_end=\"8389\" y_start=\"8357\">\n",
      "      <div class=\"ant-space-compact css-dfjnss\" x_end=\"860\" x_start=\"539\" xpath=\"//BODY/DIV[1]/DIV[1]/MAIN[1]/DIV[2]/ARTICLE[1]/DIV[2]/DIV[1]/SECTION[1]/SECTION[17]/SECTION[1]/FORM[1]/DIV[2]/DIV[1]/DIV[2]/DIV[1]/DIV[1]/DIV[1]\" y_end=\"8389\" y_start=\"8357\">\n",
      "       <div aria-required=\"true\" class=\"ant-select ant-select-in-form-item ant-select-compact-item ant-select-compact-first-item css-dfjnss ant-select-single ant-select-show-arrow\" x_end=\"748\" x_start=\"539\" xpath=\"//BODY/DIV[1]/DIV[1]/MAIN[1]/DIV[2]/ARTICLE[1]/DIV[2]/DIV[1]/SECTION[1]/SECTION[17]/SECTION[1]/FORM[1]/DIV[2]/DIV[1]/DIV[2]/DIV[1]/DIV[1]/DIV[1]/DIV[1]\" y_end=\"8389\" y_start=\"8357\">\n",
      "        <div class=\"ant-select-selector\" x_end=\"748\" x_start=\"539\" xpath=\"//BODY/DIV[1]/DIV[1]/MAIN[1]/DIV[2]/ARTICLE[1]/DIV[2]/DIV[1]/SECTION[1]/SECTION[17]/SECTION[1]/FORM[1]/DIV[2]/DIV[1]/DIV[2]/DIV[1]/DIV[1]/DIV[1]/DIV[1]/DIV[1]\" y_end=\"8389\" y_start=\"8357\">\n",
      "         <span class=\"ant-select-selection-search\" x_end=\"736\" x_start=\"551\" xpath=\"//BODY/DIV[1]/DIV[1]/MAIN[1]/DIV[2]/ARTICLE[1]/DIV[2]/DIV[1]/SECTION[1]/SECTION[17]/SECTION[1]/FORM[1]/DIV[2]/DIV[1]/DIV[2]/DIV[1]/DIV[1]/DIV[1]/DIV[1]/DIV[1]/SPAN[1]\" y_end=\"8388\" y_start=\"8358\">\n",
      "          <input aria-activedescendant=\"complex-form_address_province_list_0\" aria-autocomplete=\"list\" aria-controls=\"complex-form_address_province_list\" aria-expanded=\"false\" aria-haspopup=\"listbox\" aria-owns=\"complex-form_address_province_list\" aria-required=\"true\" autocomplete=\"off\" class=\"ant-select-selection-search-input\" id=\"complex-form_address_province\" readonly=\"\" role=\"combobox\" style=\"opacity: 0;\" type=\"search\" unselectable=\"on\" value=\"\" x_end=\"736\" x_start=\"551\" xpath=\"//BODY/DIV[1]/DIV[1]/MAIN[1]/DIV[2]/ARTICLE[1]/DIV[2]/DIV[1]/SECTION[1]/SECTION[17]/SECTION[1]/FORM[1]/DIV[2]/DIV[1]/DIV[2]/DIV[1]/DIV[1]/DIV[1]/DIV[1]/DIV[1]/SPAN[1]/INPUT[1]\" y_end=\"8388\" y_start=\"8358\"/>\n",
      "         </span>\n",
      "         <span class=\"ant-select-selection-placeholder\" x_end=\"736\" x_start=\"551\" xpath=\"//BODY/DIV[1]/DIV[1]/MAIN[1]/DIV[2]/ARTICLE[1]/DIV[2]/DIV[1]/SECTION[1]/SECTION[17]/SECTION[1]/FORM[1]/DIV[2]/DIV[1]/DIV[2]/DIV[1]/DIV[1]/DIV[1]/DIV[1]/DIV[1]/SPAN[2]\" y_end=\"8388\" y_start=\"8358\">\n",
      "          Select province\n",
      "         </span>\n",
      "        </div>\n",
      "        <span aria-hidden=\"true\" class=\"ant-select-arrow\" style=\"user-select: none;\" unselectable=\"on\" x_end=\"737\" x_start=\"725\" xpath=\"//BODY/DIV[1]/DIV[1]/MAIN[1]/DIV[2]/ARTICLE[1]/DIV[2]/DIV[1]/SECTION[1]/SECTION[17]/SECTION[1]/FORM[1]/DIV[2]/DIV[1]/DIV[2]/DIV[1]/DIV[1]/DIV[1]/DIV[1]/SPAN[1]\" y_end=\"8379\" y_start=\"8367\">\n",
      "         <span aria-label=\"down\" class=\"anticon anticon-down ant-select-suffix\" role=\"img\" x_end=\"737\" x_start=\"725\" xpath=\"//BODY/DIV[1]/DIV[1]/MAIN[1]/DIV[2]/ARTICLE[1]/DIV[2]/DIV[1]/SECTION[1]/SECTION[17]/SECTION[1]/FORM[1]/DIV[2]/DIV[1]/DIV[2]/DIV[1]/DIV[1]/DIV[1]/DIV[1]/SPAN[1]/SPAN[1]\" y_end=\"8379\" y_start=\"8367\">\n",
      "          <svg aria-hidden=\"true\" data-icon=\"down\" fill=\"currentColor\" focusable=\"false\" height=\"1em\" viewbox=\"64 64 896 896\" width=\"1em\" x_end=\"737\" x_start=\"725\" xpath=\"//BODY/DIV[1]/DIV[1]/MAIN[1]/DIV[2]/ARTICLE[1]/DIV[2]/DIV[1]/SECTION[1]/SECTION[17]/SECTION[1]/FORM[1]/DIV[2]/DIV[1]/DIV[2]/DIV[1]/DIV[1]/DIV[1]/DIV[1]/SPAN[1]/SPAN[1]/svg[1]\" y_end=\"8379\" y_start=\"8367\">\n",
      "           <path d=\"M884 256h-75c-5.1 0-9.9 2.5-12.9 6.6L512 654.2 227.9 262.6c-3-4.1-7.8-6.6-12.9-6.6h-75c-6.5 0-10.3 7.4-6.5 12.7l352.6 486.1c12.8 17.6 39 17.6 51.7 0l352.6-486.1c3.9-5.3.1-12.7-6.4-12.7z\" x_end=\"736.1784057617188\" x_start=\"726\" xpath=\"//BODY/DIV[1]/DIV[1]/MAIN[1]/DIV[2]/ARTICLE[1]/DIV[2]/DIV[1]/SECTION[1]/SECTION[17]/SECTION[1]/FORM[1]/DIV[2]/DIV[1]/DIV[2]/DIV[1]/DIV[1]/DIV[1]/DIV[1]/SPAN[1]/SPAN[1]/svg[1]/path[1]\" y_end=\"8376.857147216797\" y_start=\"8370\">\n",
      "           </path>\n",
      "          </svg>\n",
      "         </span>\n",
      "        </span>\n",
      "       </div>\n",
      "       <input aria-required=\"true\" class=\"ant-input css-dfjnss ant-input-compact-item ant-input-compact-last-item\" id=\"complex-form_address_street\" placeholder=\"Input street\" style=\"width: 50%;\" type=\"text\" value=\"\" x_end=\"860\" x_start=\"747\" xpath=\"//BODY/DIV[1]/DIV[1]/MAIN[1]/DIV[2]/ARTICLE[1]/DIV[2]/DIV[1]/SECTION[1]/SECTION[17]/SECTION[1]/FORM[1]/DIV[2]/DIV[1]/DIV[2]/DIV[1]/DIV[1]/DIV[1]/INPUT[1]\" y_end=\"8389\" y_start=\"8357\"/>\n",
      "      </div>\n",
      "     </div>\n",
      "    </div>\n",
      "   </div>\n",
      "  </div>\n",
      " </div>\n",
      " <div class=\"ant-form-item css-dfjnss\" style=\"margin-bottom: 0px;\" x_end=\"939\" x_start=\"339\" xpath=\"//BODY/DIV[1]/DIV[1]/MAIN[1]/DIV[2]/ARTICLE[1]/DIV[2]/DIV[1]/SECTION[1]/SECTION[17]/SECTION[1]/FORM[1]/DIV[3]\" y_end=\"8469\" y_start=\"8413\">\n",
      "  <div class=\"ant-row ant-form-item-row css-dfjnss\" x_end=\"939\" x_start=\"339\" xpath=\"//BODY/DIV[1]/DIV[1]/MAIN[1]/DIV[2]/ARTICLE[1]/DIV[2]/DIV[1]/SECTION[1]/SECTION[17]/SECTION[1]/FORM[1]/DIV[3]/DIV[1]\" y_end=\"8469\" y_start=\"8413\">\n",
      "   <div class=\"ant-col ant-col-8 ant-form-item-label css-dfjnss\" x_end=\"539\" x_start=\"339\" xpath=\"//BODY/DIV[1]/DIV[1]/MAIN[1]/DIV[2]/ARTICLE[1]/DIV[2]/DIV[1]/SECTION[1]/SECTION[17]/SECTION[1]/FORM[1]/DIV[3]/DIV[1]/DIV[1]\" y_end=\"8469\" y_start=\"8413\">\n",
      "    <label class=\"\" title=\"BirthDate\" x_end=\"539\" x_start=\"464\" xpath=\"//BODY/DIV[1]/DIV[1]/MAIN[1]/DIV[2]/ARTICLE[1]/DIV[2]/DIV[1]/SECTION[1]/SECTION[17]/SECTION[1]/FORM[1]/DIV[3]/DIV[1]/DIV[1]/LABEL[1]\" y_end=\"8445\" y_start=\"8413\">\n",
      "     BirthDate\n",
      "    </label>\n",
      "   </div>\n",
      "   <div class=\"ant-col ant-col-16 ant-form-item-control css-dfjnss\" x_end=\"939\" x_start=\"539\" xpath=\"//BODY/DIV[1]/DIV[1]/MAIN[1]/DIV[2]/ARTICLE[1]/DIV[2]/DIV[1]/SECTION[1]/SECTION[17]/SECTION[1]/FORM[1]/DIV[3]/DIV[1]/DIV[2]\" y_end=\"8469\" y_start=\"8413\">\n",
      "    <div class=\"ant-form-item-control-input\" x_end=\"939\" x_start=\"539\" xpath=\"//BODY/DIV[1]/DIV[1]/MAIN[1]/DIV[2]/ARTICLE[1]/DIV[2]/DIV[1]/SECTION[1]/SECTION[17]/SECTION[1]/FORM[1]/DIV[3]/DIV[1]/DIV[2]/DIV[1]\" y_end=\"8469\" y_start=\"8413\">\n",
      "     <div class=\"ant-form-item-control-input-content\" x_end=\"939\" x_start=\"539\" xpath=\"//BODY/DIV[1]/DIV[1]/MAIN[1]/DIV[2]/ARTICLE[1]/DIV[2]/DIV[1]/SECTION[1]/SECTION[17]/SECTION[1]/FORM[1]/DIV[3]/DIV[1]/DIV[2]/DIV[1]/DIV[1]\" y_end=\"8469\" y_start=\"8413\">\n",
      "      <div class=\"ant-form-item css-dfjnss\" style=\"display: inline-block; width: calc(50% - 8px);\" x_end=\"731\" x_start=\"539\" xpath=\"//BODY/DIV[1]/DIV[1]/MAIN[1]/DIV[2]/ARTICLE[1]/DIV[2]/DIV[1]/SECTION[1]/SECTION[17]/SECTION[1]/FORM[1]/DIV[3]/DIV[1]/DIV[2]/DIV[1]/DIV[1]/DIV[1]\" y_end=\"8445\" y_start=\"8413\">\n",
      "       <div class=\"ant-row ant-form-item-row css-dfjnss\" x_end=\"731\" x_start=\"539\" xpath=\"//BODY/DIV[1]/DIV[1]/MAIN[1]/DIV[2]/ARTICLE[1]/DIV[2]/DIV[1]/SECTION[1]/SECTION[17]/SECTION[1]/FORM[1]/DIV[3]/DIV[1]/DIV[2]/DIV[1]/DIV[1]/DIV[1]/DIV[1]\" y_end=\"8445\" y_start=\"8413\">\n",
      "        <div class=\"ant-col ant-form-item-control css-dfjnss\" x_end=\"731\" x_start=\"539\" xpath=\"//BODY/DIV[1]/DIV[1]/MAIN[1]/DIV[2]/ARTICLE[1]/DIV[2]/DIV[1]/SECTION[1]/SECTION[17]/SECTION[1]/FORM[1]/DIV[3]/DIV[1]/DIV[2]/DIV[1]/DIV[1]/DIV[1]/DIV[1]/DIV[1]\" y_end=\"8445\" y_start=\"8413\">\n",
      "         <div class=\"ant-form-item-control-input\" x_end=\"731\" x_start=\"539\" xpath=\"//BODY/DIV[1]/DIV[1]/MAIN[1]/DIV[2]/ARTICLE[1]/DIV[2]/DIV[1]/SECTION[1]/SECTION[17]/SECTION[1]/FORM[1]/DIV[3]/DIV[1]/DIV[2]/DIV[1]/DIV[1]/DIV[1]/DIV[1]/DIV[1]/DIV[1]\" y_end=\"8445\" y_start=\"8413\">\n",
      "          <div class=\"ant-form-item-control-input-content\" x_end=\"731\" x_start=\"539\" xpath=\"//BODY/DIV[1]/DIV[1]/MAIN[1]/DIV[2]/ARTICLE[1]/DIV[2]/DIV[1]/SECTION[1]/SECTION[17]/SECTION[1]/FORM[1]/DIV[3]/DIV[1]/DIV[2]/DIV[1]/DIV[1]/DIV[1]/DIV[1]/DIV[1]/DIV[1]/DIV[1]\" y_end=\"8445\" y_start=\"8413\">\n",
      "           <input aria-required=\"true\" class=\"ant-input css-dfjnss\" id=\"complex-form_year\" placeholder=\"Input birth year\" type=\"text\" value=\"\" x_end=\"731\" x_start=\"539\" xpath=\"//BODY/DIV[1]/DIV[1]/MAIN[1]/DIV[2]/ARTICLE[1]/DIV[2]/DIV[1]/SECTION[1]/SECTION[17]/SECTION[1]/FORM[1]/DIV[3]/DIV[1]/DIV[2]/DIV[1]/DIV[1]/DIV[1]/DIV[1]/DIV[1]/DIV[1]/DIV[1]/INPUT[1]\" y_end=\"8445\" y_start=\"8413\"/>\n",
      "          </div>\n",
      "         </div>\n",
      "        </div>\n",
      "       </div>\n",
      "      </div>\n",
      "      <div class=\"ant-form-item css-dfjnss\" style=\"display: inline-block; width: calc(50% - 8px); margin: 0px 8px;\" x_end=\"931\" x_start=\"739\" xpath=\"//BODY/DIV[1]/DIV[1]/MAIN[1]/DIV[2]/ARTICLE[1]/DIV[2]/DIV[1]/SECTION[1]/SECTION[17]/SECTION[1]/FORM[1]/DIV[3]/DIV[1]/DIV[2]/DIV[1]/DIV[1]/DIV[2]\" y_end=\"8445\" y_start=\"8413\">\n",
      "       <div class=\"ant-row ant-form-item-row css-dfjnss\" x_end=\"931\" x_start=\"739\" xpath=\"//BODY/DIV[1]/DIV[1]/MAIN[1]/DIV[2]/ARTICLE[1]/DIV[2]/DIV[1]/SECTION[1]/SECTION[17]/SECTION[1]/FORM[1]/DIV[3]/DIV[1]/DIV[2]/DIV[1]/DIV[1]/DIV[2]/DIV[1]\" y_end=\"8445\" y_start=\"8413\">\n",
      "        <div class=\"ant-col ant-form-item-control css-dfjnss\" x_end=\"931\" x_start=\"739\" xpath=\"//BODY/DIV[1]/DIV[1]/MAIN[1]/DIV[2]/ARTICLE[1]/DIV[2]/DIV[1]/SECTION[1]/SECTION[17]/SECTION[1]/FORM[1]/DIV[3]/DIV[1]/DIV[2]/DIV[1]/DIV[1]/DIV[2]/DIV[1]/DIV[1]\" y_end=\"8445\" y_start=\"8413\">\n",
      "         <div class=\"ant-form-item-control-input\" x_end=\"931\" x_start=\"739\" xpath=\"//BODY/DIV[1]/DIV[1]/MAIN[1]/DIV[2]/ARTICLE[1]/DIV[2]/DIV[1]/SECTION[1]/SECTION[17]/SECTION[1]/FORM[1]/DIV[3]/DIV[1]/DIV[2]/DIV[1]/DIV[1]/DIV[2]/DIV[1]/DIV[1]/DIV[1]\" y_end=\"8445\" y_start=\"8413\">\n",
      "          <div class=\"ant-form-item-control-input-content\" x_end=\"931\" x_start=\"739\" xpath=\"//BODY/DIV[1]/DIV[1]/MAIN[1]/DIV[2]/ARTICLE[1]/DIV[2]/DIV[1]/SECTION[1]/SECTION[17]/SECTION[1]/FORM[1]/DIV[3]/DIV[1]/DIV[2]/DIV[1]/DIV[1]/DIV[2]/DIV[1]/DIV[1]/DIV[1]/DIV[1]\" y_end=\"8445\" y_start=\"8413\">\n",
      "           <input aria-required=\"true\" class=\"ant-input css-dfjnss\" id=\"complex-form_month\" placeholder=\"Input birth month\" type=\"text\" value=\"\" x_end=\"931\" x_start=\"739\" xpath=\"//BODY/DIV[1]/DIV[1]/MAIN[1]/DIV[2]/ARTICLE[1]/DIV[2]/DIV[1]/SECTION[1]/SECTION[17]/SECTION[1]/FORM[1]/DIV[3]/DIV[1]/DIV[2]/DIV[1]/DIV[1]/DIV[2]/DIV[1]/DIV[1]/DIV[1]/DIV[1]/INPUT[1]\" y_end=\"8445\" y_start=\"8413\"/>\n",
      "          </div>\n",
      "         </div>\n",
      "        </div>\n",
      "       </div>\n",
      "      </div>\n",
      "     </div>\n",
      "    </div>\n",
      "   </div>\n",
      "  </div>\n",
      " </div>\n",
      " <div class=\"ant-form-item css-dfjnss\" x_end=\"939\" x_start=\"339\" xpath=\"//BODY/DIV[1]/DIV[1]/MAIN[1]/DIV[2]/ARTICLE[1]/DIV[2]/DIV[1]/SECTION[1]/SECTION[17]/SECTION[1]/FORM[1]/DIV[4]\" y_end=\"8501\" y_start=\"8469\">\n",
      "  <div class=\"ant-row ant-form-item-row css-dfjnss\" x_end=\"939\" x_start=\"339\" xpath=\"//BODY/DIV[1]/DIV[1]/MAIN[1]/DIV[2]/ARTICLE[1]/DIV[2]/DIV[1]/SECTION[1]/SECTION[17]/SECTION[1]/FORM[1]/DIV[4]/DIV[1]\" y_end=\"8501\" y_start=\"8469\">\n",
      "   <div class=\"ant-col ant-col-8 ant-form-item-label css-dfjnss\" x_end=\"539\" x_start=\"339\" xpath=\"//BODY/DIV[1]/DIV[1]/MAIN[1]/DIV[2]/ARTICLE[1]/DIV[2]/DIV[1]/SECTION[1]/SECTION[17]/SECTION[1]/FORM[1]/DIV[4]/DIV[1]/DIV[1]\" y_end=\"8501\" y_start=\"8469\">\n",
      "    <label class=\"ant-form-item-no-colon\" title=\" \" x_end=\"539\" x_start=\"529\" xpath=\"//BODY/DIV[1]/DIV[1]/MAIN[1]/DIV[2]/ARTICLE[1]/DIV[2]/DIV[1]/SECTION[1]/SECTION[17]/SECTION[1]/FORM[1]/DIV[4]/DIV[1]/DIV[1]/LABEL[1]\" y_end=\"8501\" y_start=\"8469\">\n",
      "    </label>\n",
      "   </div>\n",
      "   <div class=\"ant-col ant-col-16 ant-form-item-control css-dfjnss\" x_end=\"939\" x_start=\"539\" xpath=\"//BODY/DIV[1]/DIV[1]/MAIN[1]/DIV[2]/ARTICLE[1]/DIV[2]/DIV[1]/SECTION[1]/SECTION[17]/SECTION[1]/FORM[1]/DIV[4]/DIV[1]/DIV[2]\" y_end=\"8501\" y_start=\"8469\">\n",
      "    <div class=\"ant-form-item-control-input\" x_end=\"939\" x_start=\"539\" xpath=\"//BODY/DIV[1]/DIV[1]/MAIN[1]/DIV[2]/ARTICLE[1]/DIV[2]/DIV[1]/SECTION[1]/SECTION[17]/SECTION[1]/FORM[1]/DIV[4]/DIV[1]/DIV[2]/DIV[1]\" y_end=\"8501\" y_start=\"8469\">\n",
      "     <div class=\"ant-form-item-control-input-content\" x_end=\"939\" x_start=\"539\" xpath=\"//BODY/DIV[1]/DIV[1]/MAIN[1]/DIV[2]/ARTICLE[1]/DIV[2]/DIV[1]/SECTION[1]/SECTION[17]/SECTION[1]/FORM[1]/DIV[4]/DIV[1]/DIV[2]/DIV[1]/DIV[1]\" y_end=\"8501\" y_start=\"8469\">\n",
      "      <button class=\"ant-btn css-dfjnss ant-btn-primary\" type=\"submit\" x_end=\"617\" x_start=\"539\" xpath=\"//BODY/DIV[1]/DIV[1]/MAIN[1]/DIV[2]/ARTICLE[1]/DIV[2]/DIV[1]/SECTION[1]/SECTION[17]/SECTION[1]/FORM[1]/DIV[4]/DIV[1]/DIV[2]/DIV[1]/DIV[1]/BUTTON[1]\" y_end=\"8501\" y_start=\"8469\">\n",
      "       <span x_end=\"601\" x_start=\"555\" xpath=\"//BODY/DIV[1]/DIV[1]/MAIN[1]/DIV[2]/ARTICLE[1]/DIV[2]/DIV[1]/SECTION[1]/SECTION[17]/SECTION[1]/FORM[1]/DIV[4]/DIV[1]/DIV[2]/DIV[1]/DIV[1]/BUTTON[1]/SPAN[1]\" y_end=\"8496\" y_start=\"8474\">\n",
      "        Submit\n",
      "       </span>\n",
      "      </button>\n",
      "     </div>\n",
      "    </div>\n",
      "   </div>\n",
      "  </div>\n",
      " </div>\n",
      "</form>\n",
      "\n"
     ]
    }
   ],
   "source": [
    "print(form_doc.prettify())"
   ]
  },
  {
   "cell_type": "markdown",
   "id": "7532e197",
   "metadata": {},
   "source": [
    "# Get Processable Nodes"
   ]
  },
  {
   "cell_type": "code",
   "execution_count": 10,
   "id": "7efeeff0",
   "metadata": {
    "ExecuteTime": {
     "end_time": "2023-06-08T20:51:57.097658Z",
     "start_time": "2023-06-08T20:51:57.090027Z"
    }
   },
   "outputs": [],
   "source": [
    "def is_displayed(element):\n",
    "    if isinstance(element, NavigableString):\n",
    "        return True\n",
    "    \n",
    "    x_start = float(element.attrs['x_start'])\n",
    "    x_end = float(element.attrs['x_end'])\n",
    "    y_start = float(element.attrs['y_start'])\n",
    "    y_end = float(element.attrs['y_end'])\n",
    "    \n",
    "    return x_start != x_end and y_start != y_end\n",
    "\n",
    "\n",
    "def should_skip_processing(element):\n",
    "    should_skip = \\\n",
    "        isinstance(element, Comment) or \\\n",
    "        (isinstance(element, NavigableString) and element.strip() == '') or \\\n",
    "        not is_displayed(element)\n",
    "    return should_skip\n",
    "\n",
    "\n",
    "def is_force_not_keep(element):\n",
    "    # TODO: list of elements not to keep, like children of svg\n",
    "    return False\n",
    "\n",
    "\n",
    "def is_force_keep(element):\n",
    "    force_keep_tags = ['label', 'input', 'textarea', 'select', 'option', 'button']\n",
    "    return element.name in force_keep_tags\n",
    "    \n",
    "\n",
    "\n",
    "def has_action_listener(element):\n",
    "    # TODO: check if element has JavaScript action listeners\n",
    "    # such as the case of <div> instead of <button> for submit\n",
    "    return False\n",
    "\n",
    "\n",
    "def is_processable(element):\n",
    "    if not isinstance(element, NavigableString) and is_force_not_keep(element):\n",
    "        return False\n",
    "    \n",
    "    if isinstance(element, NavigableString):\n",
    "        if element.parent is not None and len(element.parent.contents) > 1:\n",
    "            return True\n",
    "    \n",
    "    elif len(element.contents) == 0:\n",
    "        return True\n",
    "    \n",
    "    elif len(element.contents) == 1 and isinstance(element.contents[0], NavigableString):\n",
    "        return True\n",
    "    \n",
    "    elif is_force_keep(element):\n",
    "        return True\n",
    "    \n",
    "    elif has_action_listener(element):\n",
    "        return True\n",
    "    \n",
    "    return False\n",
    "        \n",
    "\n",
    "\n",
    "def get_processable_nodes(soup):\n",
    "    nodes = []\n",
    "    \n",
    "    for element in soup.recursiveChildGenerator():\n",
    "        if should_skip_processing(element):\n",
    "            continue\n",
    "        \n",
    "        if is_processable(element):\n",
    "            nodes.append(element)\n",
    "    \n",
    "    return nodes"
   ]
  },
  {
   "cell_type": "code",
   "execution_count": 11,
   "id": "b3172f35",
   "metadata": {
    "ExecuteTime": {
     "end_time": "2023-06-08T20:51:57.543458Z",
     "start_time": "2023-06-08T20:51:57.540486Z"
    }
   },
   "outputs": [],
   "source": [
    "form_processable_nodes = get_processable_nodes(form_doc)"
   ]
  },
  {
   "cell_type": "code",
   "execution_count": 12,
   "id": "b2a62ea2",
   "metadata": {
    "ExecuteTime": {
     "end_time": "2023-06-08T20:51:58.033514Z",
     "start_time": "2023-06-08T20:51:58.026238Z"
    }
   },
   "outputs": [
    {
     "data": {
      "text/plain": [
       "<label class=\"\" title=\"Username\" x_end=\"539\" x_start=\"459\" xpath=\"//BODY/DIV[1]/DIV[1]/MAIN[1]/DIV[2]/ARTICLE[1]/DIV[2]/DIV[1]/SECTION[1]/SECTION[17]/SECTION[1]/FORM[1]/DIV[1]/DIV[1]/DIV[1]/LABEL[1]\" y_end=\"8333\" y_start=\"8301\">Username</label>"
      ]
     },
     "execution_count": 12,
     "metadata": {},
     "output_type": "execute_result"
    }
   ],
   "source": [
    "form_processable_nodes[0]"
   ]
  },
  {
   "cell_type": "markdown",
   "id": "2c925b32",
   "metadata": {},
   "source": [
    "# Create a Graph From Nodes"
   ]
  },
  {
   "cell_type": "code",
   "execution_count": 17,
   "id": "c0ffce0f",
   "metadata": {
    "ExecuteTime": {
     "end_time": "2023-06-08T20:53:15.861189Z",
     "start_time": "2023-06-08T20:53:15.858231Z"
    }
   },
   "outputs": [],
   "source": [
    "class EdgeDir(Enum):\n",
    "    IN = 'IN'\n",
    "    OUT = 'OUT'\n",
    "\n",
    "\n",
    "class EdgeType(Enum):\n",
    "    # connection via for attribute\n",
    "    FOR = 'FOR'\n",
    "    \n",
    "    # neighbor connections\n",
    "    CHILD = 'CHILD'\n",
    "    # TODO: if no use, change all neighbour types to simple 'NEIGHBOUR'\n",
    "    NLEFT = 'NLEFT'\n",
    "    NRIGHT = 'NRIGHT'\n",
    "    NTOP = 'NTOP'\n",
    "    NBOTTOM = 'NBOTTOM'"
   ]
  },
  {
   "cell_type": "code",
   "execution_count": 18,
   "id": "553c1581",
   "metadata": {
    "ExecuteTime": {
     "end_time": "2023-06-08T20:53:16.264793Z",
     "start_time": "2023-06-08T20:53:16.258699Z"
    }
   },
   "outputs": [],
   "source": [
    "class RelationGraph:\n",
    "    def __init__(self):\n",
    "        self._nodes = {}\n",
    "        self._edges = {}\n",
    "    \n",
    "    \n",
    "    def nodes(self):\n",
    "        return list(self._nodes.values())\n",
    "    \n",
    "    \n",
    "    def get_node(self, node_id):\n",
    "        return self._nodes[node_id]\n",
    "    \n",
    "    \n",
    "    def edges(self):\n",
    "        return list(self._edges.values())\n",
    "    \n",
    "    \n",
    "    def add_node(self, node):\n",
    "        self._nodes[node.get_id()] = node\n",
    "    \n",
    "    \n",
    "    def remove_node(self, node):\n",
    "        self._nodes.pop(node.get_id())\n",
    "    \n",
    "    \n",
    "    def add_edge(self, edge):\n",
    "        source = edge.source\n",
    "        target = edge.target\n",
    "        \n",
    "        source.add_edge(edge, EdgeDir.OUT)\n",
    "        \n",
    "        self._edges[edge.get_id()] = edge\n",
    "    \n",
    "    \n",
    "    def remove_edge(self, edge):\n",
    "        source = edge.source\n",
    "        target = edge.target\n",
    "        \n",
    "        source.remove_edge(edge, EdgeDir.OUT)\n",
    "        \n",
    "        self._edges.pop(edge.get_id())\n",
    "    \n",
    "    \n",
    "    def get_node_features(self):\n",
    "        return {\n",
    "            key: node.get_features() for key, node in self._nodes.items()\n",
    "        }"
   ]
  },
  {
   "cell_type": "code",
   "execution_count": 19,
   "id": "ea60fcfd",
   "metadata": {
    "ExecuteTime": {
     "end_time": "2023-06-08T20:53:18.105381Z",
     "start_time": "2023-06-08T20:53:18.088979Z"
    }
   },
   "outputs": [],
   "source": [
    "def get_input_visible_text(element):\n",
    "    text = ''\n",
    "    attrs = element.attrs\n",
    "    \n",
    "    if 'placeholder' in attrs:\n",
    "        text += f\"{attrs['placeholder']} \"\n",
    "    if 'value' in attrs and attrs['value'].strip() != '':\n",
    "        text += f\", value is {attrs['value']} \"\n",
    "    if 'alt' in attrs:\n",
    "        text += f\", alt is {attrs['alt']} \"\n",
    "    \n",
    "    text = text.strip().strip(', ')\n",
    "    return text\n",
    "\n",
    "\n",
    "def get_visible_text(element):\n",
    "    if element.name == 'input' or \\\n",
    "        element.name == 'select' or \\\n",
    "        element.name == 'textarea':\n",
    "        return get_input_visible_text(element)\n",
    "    \n",
    "    if element.string == None:\n",
    "        return ''\n",
    "    \n",
    "    return str(element.string)\n",
    "\n",
    "\n",
    "def get_null_embedding(dim=12288):\n",
    "    return [0 for i in range(dim)]\n",
    "\n",
    "\n",
    "def get_text_embedding(text, dim=12288):\n",
    "    if text.strip() == '':\n",
    "        return get_null_embedding(dim)\n",
    "    \n",
    "    if TEXT_EMBEDDING_METHOD == 'WORD2VEC':\n",
    "        # TODO\n",
    "        # average/something word2vec embeddings for each word\n",
    "        pass\n",
    "    elif TEXT_EMBEDDING_METHOD == 'SPACY':\n",
    "        # TODO\n",
    "        # https://spacy.io/usage/linguistic-features#vectors-similarity\n",
    "        nlp = spacy.load(\"en_core_web_lg\")\n",
    "        doc = nlp(text)\n",
    "        return doc.vector\n",
    "    return get_embedding_openai(text.lower())\n",
    "\n",
    "\n",
    "class RelationNode:\n",
    "    def __init__(self, element):\n",
    "        self.element = element\n",
    "        \n",
    "        self.xpath = self._find_xpath(element)\n",
    "        self.x_span = self._find_span(element, 'x')\n",
    "        self.y_span = self._find_span(element, 'y')\n",
    "        \n",
    "        self.visible_text = self._find_visible_text(element)\n",
    "        self.features = self._calculate_features(self.visible_text)\n",
    "        \n",
    "        self.edges = {\n",
    "            EdgeDir.OUT: {},\n",
    "        }\n",
    "        \n",
    "        self.children_count = 0\n",
    "    \n",
    "    \n",
    "    def _find_xpath(self, element):\n",
    "        return element.attrs['xpath']\n",
    "    \n",
    "    \n",
    "    def _find_span(self, element, axis):\n",
    "        return (\n",
    "            floor(float(element.attrs[f'{axis}_start'])),\n",
    "            floor(float(element.attrs[f'{axis}_end']))\n",
    "        )\n",
    "    \n",
    "    \n",
    "    def _find_visible_text(self, element):\n",
    "        return get_visible_text(element)\n",
    "    \n",
    "    \n",
    "    def _calculate_features(self, visible_text):\n",
    "        features = get_text_embedding(visible_text)\n",
    "        return features\n",
    "    \n",
    "    \n",
    "    def _change_children_count(self, edge, direction, increase=1):\n",
    "        if edge.type == EdgeType.CHILD and direction == EdgeDir.OUT:\n",
    "            self.children_count += increase\n",
    "    \n",
    "    \n",
    "    def has_children(self):\n",
    "        return self.children_count > 0\n",
    "    \n",
    "    \n",
    "    def get_children(self):\n",
    "        return list(filter(\n",
    "            lambda x: x.type == EdgeType.CHILD,\n",
    "            list(self.edges[EdgeDir.OUT].values())\n",
    "        ))\n",
    "    \n",
    "    \n",
    "    def add_edge(self, edge, direction):\n",
    "        self.edges[direction][edge.get_id()] = edge\n",
    "        self._change_children_count(edge, direction, 1)\n",
    "    \n",
    "    \n",
    "    def remove_edge(self, edge, direction):\n",
    "        self.edges[direction].pop(edge.get_id())\n",
    "        self._change_children_count(edge, direction, -1)\n",
    "    \n",
    "    \n",
    "    def get_visible_area(self):\n",
    "        return (self.x_span[1] - self.x_span[0]) * (self.y_span[1] - self.y_span[0])\n",
    "    \n",
    "    \n",
    "    def get_id(self):\n",
    "        if 'id' in self.element.attrs:\n",
    "            return self.element.attrs['id']\n",
    "        return self.xpath\n",
    "    \n",
    "    \n",
    "    def __repr__(self):\n",
    "        return str(self)\n",
    "   \n",
    "\n",
    "    def __str__(self):\n",
    "        return f'<{self.element.name}>{self.visible_text}</{self.element.name}> at y: {str(self.y_span)}, x: {str(self.x_span)}'\n"
   ]
  },
  {
   "cell_type": "code",
   "execution_count": 20,
   "id": "ea1075d4",
   "metadata": {
    "ExecuteTime": {
     "end_time": "2023-06-08T20:53:20.626341Z",
     "start_time": "2023-06-08T20:53:20.621901Z"
    }
   },
   "outputs": [],
   "source": [
    "class RelationEdge:\n",
    "    def __init__(self, source, target, conn_type):\n",
    "        self.source = source\n",
    "        self.target = target\n",
    "        self.type = conn_type\n",
    "        self.weight = 0\n",
    "    \n",
    "    \n",
    "    def set_weight(self, weight):\n",
    "        self.weight = weight\n",
    "    \n",
    "    \n",
    "    def get_id(self):\n",
    "        return f'edge {self.type.value} from {self.source} to {self.target}'\n",
    "    \n",
    "    \n",
    "    def __repr__(self):\n",
    "        return str(self)\n",
    "    \n",
    "    \n",
    "    def __str__(self):\n",
    "        return f'edge {self.type.value} weight {self.weight} from {self.source} to {self.target}'"
   ]
  },
  {
   "cell_type": "code",
   "execution_count": 21,
   "id": "a56fb0a0",
   "metadata": {
    "ExecuteTime": {
     "end_time": "2023-06-08T20:53:20.879082Z",
     "start_time": "2023-06-08T20:53:20.875850Z"
    }
   },
   "outputs": [],
   "source": [
    "def create_relations_graph(bs_doc):\n",
    "    graph = RelationGraph()\n",
    "    \n",
    "    for n in tqdm(bs_doc):\n",
    "        node = RelationNode(n)\n",
    "        graph.add_node(node)\n",
    "\n",
    "    return graph"
   ]
  },
  {
   "cell_type": "code",
   "execution_count": 28,
   "id": "199ea52f",
   "metadata": {
    "ExecuteTime": {
     "end_time": "2023-06-08T20:55:43.322853Z",
     "start_time": "2023-06-08T20:55:19.006982Z"
    }
   },
   "outputs": [
    {
     "data": {
      "application/vnd.jupyter.widget-view+json": {
       "model_id": "c438e49de9884938a60ee16366ae3f84",
       "version_major": 2,
       "version_minor": 0
      },
      "text/plain": [
       "  0%|          | 0/14 [00:00<?, ?it/s]"
      ]
     },
     "metadata": {},
     "output_type": "display_data"
    }
   ],
   "source": [
    "relation_graph = create_relations_graph(form_processable_nodes)"
   ]
  },
  {
   "cell_type": "markdown",
   "id": "9880c7ad",
   "metadata": {},
   "source": [
    "# Add Proximity Links"
   ]
  },
  {
   "cell_type": "code",
   "execution_count": 31,
   "id": "ff2fbcd8",
   "metadata": {
    "ExecuteTime": {
     "end_time": "2023-06-08T20:55:54.351543Z",
     "start_time": "2023-06-08T20:55:54.346106Z"
    }
   },
   "outputs": [],
   "source": [
    "def tuple_avg(t):\n",
    "    return (t[0] + t[1]) / 2\n",
    "\n",
    "\n",
    "def span_binary_search(span_list, item_span):\n",
    "    '''\n",
    "    Performs a binary search on a span list, which is a list of tuples (start, end).\n",
    "    The list is ordered by the first member of the tuple.\n",
    "    The search key is (start + end) / 2.\n",
    "    returns index of found item.\n",
    "    '''\n",
    "    if len(span_list) == 0:\n",
    "        return -1\n",
    "    \n",
    "    if len(span_list) == 1:\n",
    "        return 0\n",
    "    \n",
    "    middle = len(span_list) // 2\n",
    "    if tuple_avg(item_span) >= tuple_avg(span_list[middle]):\n",
    "        return middle + span_binary_search(span_list[middle:], item_span)\n",
    "    \n",
    "    return span_binary_search(span_list[:middle], item_span)"
   ]
  },
  {
   "cell_type": "code",
   "execution_count": 32,
   "id": "978af6ac",
   "metadata": {
    "ExecuteTime": {
     "end_time": "2023-06-08T20:55:54.547785Z",
     "start_time": "2023-06-08T20:55:54.538072Z"
    }
   },
   "outputs": [],
   "source": [
    "class SpanOrderedDict:\n",
    "    def __init__(self):\n",
    "        self.spans = []\n",
    "        self.items_dict = {}\n",
    "    \n",
    "    \n",
    "    def force_set_item(self, span, item):\n",
    "        self.items_dict[span] = item\n",
    "    \n",
    "    \n",
    "    def add_item(self, span, item):\n",
    "        # print(span)\n",
    "        span_to_add = self.find_span_to_add(span)\n",
    "        # print(span_to_add)\n",
    "        # print(self.spans, '\\n')\n",
    "        if span_to_add not in self.items_dict:\n",
    "            self.items_dict[span_to_add] = []\n",
    "        self.items_dict[span_to_add].append(item)\n",
    "    \n",
    "    \n",
    "    def find_span_to_add(self, span):\n",
    "        closest_span_idx = span_binary_search(self.spans, span)\n",
    "        \n",
    "        # if this is the first span that we are adding something to\n",
    "        if closest_span_idx == -1:\n",
    "            # print('first', span)\n",
    "            self.spans = [span]\n",
    "            return span\n",
    "\n",
    "        closest_span = self.spans[closest_span_idx]\n",
    "        \n",
    "        # if new span is inside some other span\n",
    "        if span[0] >= closest_span[0] and span[1] <= closest_span[1]:\n",
    "            # print('inside', closest_span)\n",
    "            return closest_span\n",
    "        \n",
    "        # if new span is before some other span\n",
    "        if span[0] <= closest_span[0] and span[1] <= closest_span[0]:\n",
    "            # print('before', closest_span)\n",
    "            insert_idx = max(closest_span_idx - 1, 0)\n",
    "            self.spans.insert(insert_idx, span)\n",
    "            return span\n",
    "        \n",
    "        # if new span is after some other span\n",
    "        if span[0] >= closest_span[1] and span[1] >= closest_span[1]:\n",
    "            # print('outside', closest_span)\n",
    "            insert_idx = closest_span_idx + 1\n",
    "            self.spans.insert(insert_idx, span)\n",
    "            return span\n",
    "        \n",
    "        # otherwise, the spans collide with eachother\n",
    "        # print('collide', closest_span)\n",
    "        span_start = min(closest_span[0], span[0])\n",
    "        span_end = max(closest_span[1], span[1])\n",
    "        new_span = (span_start, span_end)\n",
    "        \n",
    "        # swap span with new created span\n",
    "        self.spans[closest_span_idx] = new_span\n",
    "        items_dict = self.items_dict[closest_span]\n",
    "        self.items_dict[new_span] = items_dict\n",
    "        self.items_dict.pop(closest_span)\n",
    "\n",
    "        return new_span\n",
    "    \n",
    "    \n",
    "    def keys(self):\n",
    "        return self.items_dict.keys()\n",
    "    \n",
    "    \n",
    "    def values(self):\n",
    "        return self.items_dict.values()\n",
    "    \n",
    "    \n",
    "    def items(self):\n",
    "        return self.items_dict.items()\n",
    "    \n",
    "    \n",
    "    def __getitem__(self, key):\n",
    "        return self.items_dict[key]"
   ]
  },
  {
   "cell_type": "code",
   "execution_count": 33,
   "id": "68c65c98",
   "metadata": {
    "ExecuteTime": {
     "end_time": "2023-06-08T20:55:55.040809Z",
     "start_time": "2023-06-08T20:55:55.035728Z"
    }
   },
   "outputs": [],
   "source": [
    "def create_span_ordered_dict(relation_nodes, axis):\n",
    "    spans = SpanOrderedDict()\n",
    "    \n",
    "    for node in tqdm(relation_nodes):\n",
    "        span = getattr(node, f'{axis}_span')\n",
    "        spans.add_item(span, node)\n",
    "\n",
    "    return spans\n",
    "\n",
    "\n",
    "def create_2d_span_ordered_dict(relation_graph):\n",
    "    y_spans = create_span_ordered_dict(relation_graph.nodes(), 'y')\n",
    "    \n",
    "    for y_span, nodes in y_spans.items():\n",
    "        x_spans = create_span_ordered_dict(nodes, 'x')\n",
    "        \n",
    "        # sort the items so that the first item in multiple items list is the largets,\n",
    "        # and therefore the representitive item.\n",
    "        for x_span, sub_nodes in x_spans.items():\n",
    "            sorted_sub_nodes = sorted(sub_nodes, key=lambda x: x.get_visible_area(), reverse=True)\n",
    "            x_spans.force_set_item(x_span, sorted_sub_nodes)\n",
    "        \n",
    "        y_spans.force_set_item(y_span, x_spans)\n",
    "    \n",
    "    return y_spans"
   ]
  },
  {
   "cell_type": "code",
   "execution_count": 34,
   "id": "541f31c0",
   "metadata": {
    "ExecuteTime": {
     "end_time": "2023-06-08T20:55:55.520715Z",
     "start_time": "2023-06-08T20:55:55.472490Z"
    }
   },
   "outputs": [
    {
     "data": {
      "application/vnd.jupyter.widget-view+json": {
       "model_id": "44b8d666e433467d82765e3c99ade3c4",
       "version_major": 2,
       "version_minor": 0
      },
      "text/plain": [
       "  0%|          | 0/14 [00:00<?, ?it/s]"
      ]
     },
     "metadata": {},
     "output_type": "display_data"
    },
    {
     "data": {
      "application/vnd.jupyter.widget-view+json": {
       "model_id": "4cd23d16909e49e3a9e4ae4c00ebc6db",
       "version_major": 2,
       "version_minor": 0
      },
      "text/plain": [
       "  0%|          | 0/3 [00:00<?, ?it/s]"
      ]
     },
     "metadata": {},
     "output_type": "display_data"
    },
    {
     "data": {
      "application/vnd.jupyter.widget-view+json": {
       "model_id": "d2de0298f60c4e0099f8278394d1e4e7",
       "version_major": 2,
       "version_minor": 0
      },
      "text/plain": [
       "  0%|          | 0/5 [00:00<?, ?it/s]"
      ]
     },
     "metadata": {},
     "output_type": "display_data"
    },
    {
     "data": {
      "application/vnd.jupyter.widget-view+json": {
       "model_id": "b33e707d64444d6085ac39d9fd342248",
       "version_major": 2,
       "version_minor": 0
      },
      "text/plain": [
       "  0%|          | 0/3 [00:00<?, ?it/s]"
      ]
     },
     "metadata": {},
     "output_type": "display_data"
    },
    {
     "data": {
      "application/vnd.jupyter.widget-view+json": {
       "model_id": "3ed1f25fba944683a04943ae4cc696ae",
       "version_major": 2,
       "version_minor": 0
      },
      "text/plain": [
       "  0%|          | 0/3 [00:00<?, ?it/s]"
      ]
     },
     "metadata": {},
     "output_type": "display_data"
    }
   ],
   "source": [
    "spans_2d = create_2d_span_ordered_dict(relation_graph)"
   ]
  },
  {
   "cell_type": "code",
   "execution_count": 35,
   "id": "0af1102c",
   "metadata": {
    "ExecuteTime": {
     "end_time": "2023-06-08T20:55:56.503620Z",
     "start_time": "2023-06-08T20:55:56.498985Z"
    }
   },
   "outputs": [
    {
     "data": {
      "text/plain": [
       "{(8301, 8333): <__main__.SpanOrderedDict at 0x159bc1840>,\n",
       " (8357, 8389): <__main__.SpanOrderedDict at 0x159bc13f0>,\n",
       " (8413, 8445): <__main__.SpanOrderedDict at 0x159bc2a70>,\n",
       " (8469, 8501): <__main__.SpanOrderedDict at 0x159bc28f0>}"
      ]
     },
     "execution_count": 35,
     "metadata": {},
     "output_type": "execute_result"
    }
   ],
   "source": [
    "spans_2d.items_dict"
   ]
  },
  {
   "cell_type": "code",
   "execution_count": 36,
   "id": "975e37ee",
   "metadata": {
    "ExecuteTime": {
     "end_time": "2023-06-08T20:55:57.045922Z",
     "start_time": "2023-06-08T20:55:57.040614Z"
    }
   },
   "outputs": [
    {
     "data": {
      "text/plain": [
       "{(472, 539): [<label>Address</label> at y: (8357, 8389), x: (472, 539)],\n",
       " (551, 736): [<input></input> at y: (8358, 8388), x: (551, 736),\n",
       "  <span>Select province</span> at y: (8358, 8388), x: (551, 736),\n",
       "  <path></path> at y: (8370, 8376), x: (726, 736)],\n",
       " (747, 860): [<input>Input street</input> at y: (8357, 8389), x: (747, 860)]}"
      ]
     },
     "execution_count": 36,
     "metadata": {},
     "output_type": "execute_result"
    }
   ],
   "source": [
    "spans_2d[(8357, 8389)].items_dict"
   ]
  },
  {
   "cell_type": "markdown",
   "id": "eb0ac46b",
   "metadata": {},
   "source": [
    "# Add \"For\" links"
   ]
  },
  {
   "cell_type": "code",
   "execution_count": 37,
   "id": "528f4043",
   "metadata": {
    "ExecuteTime": {
     "end_time": "2023-06-08T20:55:58.129126Z",
     "start_time": "2023-06-08T20:55:58.125145Z"
    }
   },
   "outputs": [],
   "source": [
    "def add_for_links(relation_graph):\n",
    "    for node in relation_graph.nodes():\n",
    "        if 'for' in node.element.attrs:\n",
    "            source = relation_graph.get_node(node.get_id())\n",
    "            \n",
    "            for_id = node.element.attrs['for']\n",
    "            target = relation_graph.get_node(for_id)\n",
    "            \n",
    "            edge = RelationEdge(source, target, EdgeType.FOR)\n",
    "            relation_graph.add_edge(edge)\n",
    "\n",
    "    return relation_graph"
   ]
  },
  {
   "cell_type": "code",
   "execution_count": 38,
   "id": "48bed8d2",
   "metadata": {
    "ExecuteTime": {
     "end_time": "2023-06-08T20:55:58.533400Z",
     "start_time": "2023-06-08T20:55:58.530632Z"
    }
   },
   "outputs": [],
   "source": [
    "relation_graph = add_for_links(relation_graph)"
   ]
  },
  {
   "cell_type": "code",
   "execution_count": 39,
   "id": "7a482ef2",
   "metadata": {
    "ExecuteTime": {
     "end_time": "2023-06-08T20:55:58.726732Z",
     "start_time": "2023-06-08T20:55:58.722971Z"
    }
   },
   "outputs": [
    {
     "data": {
      "text/plain": [
       "[]"
      ]
     },
     "execution_count": 39,
     "metadata": {},
     "output_type": "execute_result"
    }
   ],
   "source": [
    "relation_graph.edges()"
   ]
  },
  {
   "cell_type": "markdown",
   "id": "d3bb0060",
   "metadata": {},
   "source": [
    "# Add Neighbor Links for Each Node"
   ]
  },
  {
   "cell_type": "markdown",
   "id": "1671302a",
   "metadata": {},
   "source": [
    "## Parent-Child"
   ]
  },
  {
   "cell_type": "code",
   "execution_count": 40,
   "id": "80622dd1",
   "metadata": {
    "ExecuteTime": {
     "end_time": "2023-06-08T20:56:00.087119Z",
     "start_time": "2023-06-08T20:56:00.083132Z"
    }
   },
   "outputs": [],
   "source": [
    "def add_parent_child_links(spans_2d, relation_graph):\n",
    "    for y_span, x_spans in spans_2d.items():\n",
    "        x_nodes = list(x_spans.values())\n",
    "\n",
    "        for nodes in x_nodes:\n",
    "            for child_idx in range(1, len(nodes)):\n",
    "                edge = RelationEdge(nodes[0], nodes[child_idx], EdgeType.CHILD)\n",
    "                relation_graph.add_edge(edge)\n",
    "    \n",
    "    return relation_graph"
   ]
  },
  {
   "cell_type": "code",
   "execution_count": 41,
   "id": "9c89daa4",
   "metadata": {
    "ExecuteTime": {
     "end_time": "2023-06-08T20:56:00.584885Z",
     "start_time": "2023-06-08T20:56:00.582084Z"
    }
   },
   "outputs": [],
   "source": [
    "relation_graph = add_parent_child_links(spans_2d, relation_graph)"
   ]
  },
  {
   "cell_type": "code",
   "execution_count": 42,
   "id": "88198197",
   "metadata": {
    "ExecuteTime": {
     "end_time": "2023-06-08T20:56:00.872986Z",
     "start_time": "2023-06-08T20:56:00.869221Z"
    }
   },
   "outputs": [
    {
     "data": {
      "text/plain": [
       "[edge CHILD weight 0 from <input></input> at y: (8358, 8388), x: (551, 736) to <span>Select province</span> at y: (8358, 8388), x: (551, 736),\n",
       " edge CHILD weight 0 from <input></input> at y: (8358, 8388), x: (551, 736) to <path></path> at y: (8370, 8376), x: (726, 736),\n",
       " edge CHILD weight 0 from <button>Submit</button> at y: (8469, 8501), x: (539, 617) to <span>Submit</span> at y: (8474, 8496), x: (555, 601)]"
      ]
     },
     "execution_count": 42,
     "metadata": {},
     "output_type": "execute_result"
    }
   ],
   "source": [
    "relation_graph.edges()"
   ]
  },
  {
   "cell_type": "markdown",
   "id": "ea2c4697",
   "metadata": {},
   "source": [
    "## Left-Right"
   ]
  },
  {
   "cell_type": "code",
   "execution_count": 43,
   "id": "b3605c60",
   "metadata": {
    "ExecuteTime": {
     "end_time": "2023-06-08T20:56:01.599535Z",
     "start_time": "2023-06-08T20:56:01.593976Z"
    }
   },
   "outputs": [],
   "source": [
    "def add_left_right_links(spans_2d, relation_graph):\n",
    "    for y_span, x_spans in spans_2d.items():\n",
    "        x_nodes = list(x_spans.values())\n",
    "        # TODO: refactor - create a separate function for edge addition\n",
    "        for node_idx, nodes in enumerate(x_nodes):\n",
    "            repr_node = nodes[0]\n",
    "            # TODO: refactor these two ifs\n",
    "            if node_idx - 1 >= 0:\n",
    "                repr_left = x_nodes[node_idx - 1][0]\n",
    "                edge = RelationEdge(repr_node, repr_left, EdgeType.NLEFT)\n",
    "                relation_graph.add_edge(edge)\n",
    "            if node_idx + 1 < len(x_nodes):\n",
    "                repr_right = x_nodes[node_idx + 1][0]\n",
    "                edge = RelationEdge(repr_node, repr_right, EdgeType.NRIGHT)\n",
    "                relation_graph.add_edge(edge)\n",
    "\n",
    "    return relation_graph"
   ]
  },
  {
   "cell_type": "code",
   "execution_count": 44,
   "id": "fed6c575",
   "metadata": {
    "ExecuteTime": {
     "end_time": "2023-06-08T20:56:02.115793Z",
     "start_time": "2023-06-08T20:56:02.112668Z"
    }
   },
   "outputs": [],
   "source": [
    "relation_graph = add_left_right_links(spans_2d, relation_graph)"
   ]
  },
  {
   "cell_type": "code",
   "execution_count": 45,
   "id": "81a8214b",
   "metadata": {
    "ExecuteTime": {
     "end_time": "2023-06-08T20:56:02.718170Z",
     "start_time": "2023-06-08T20:56:02.714002Z"
    }
   },
   "outputs": [
    {
     "data": {
      "text/plain": [
       "[edge CHILD weight 0 from <input></input> at y: (8358, 8388), x: (551, 736) to <span>Select province</span> at y: (8358, 8388), x: (551, 736),\n",
       " edge CHILD weight 0 from <input></input> at y: (8358, 8388), x: (551, 736) to <path></path> at y: (8370, 8376), x: (726, 736),\n",
       " edge CHILD weight 0 from <button>Submit</button> at y: (8469, 8501), x: (539, 617) to <span>Submit</span> at y: (8474, 8496), x: (555, 601),\n",
       " edge NRIGHT weight 0 from <label>Username</label> at y: (8301, 8333), x: (459, 539) to <input>Please input</input> at y: (8301, 8333), x: (539, 699),\n",
       " edge NLEFT weight 0 from <input>Please input</input> at y: (8301, 8333), x: (539, 699) to <label>Username</label> at y: (8301, 8333), x: (459, 539),\n",
       " edge NRIGHT weight 0 from <input>Please input</input> at y: (8301, 8333), x: (539, 699) to <a>Need Help?</a> at y: (8309, 8326), x: (707, 782),\n",
       " edge NLEFT weight 0 from <a>Need Help?</a> at y: (8309, 8326), x: (707, 782) to <input>Please input</input> at y: (8301, 8333), x: (539, 699),\n",
       " edge NRIGHT weight 0 from <label>Address</label> at y: (8357, 8389), x: (472, 539) to <input></input> at y: (8358, 8388), x: (551, 736),\n",
       " edge NLEFT weight 0 from <input></input> at y: (8358, 8388), x: (551, 736) to <label>Address</label> at y: (8357, 8389), x: (472, 539),\n",
       " edge NRIGHT weight 0 from <input></input> at y: (8358, 8388), x: (551, 736) to <input>Input street</input> at y: (8357, 8389), x: (747, 860),\n",
       " edge NLEFT weight 0 from <input>Input street</input> at y: (8357, 8389), x: (747, 860) to <input></input> at y: (8358, 8388), x: (551, 736),\n",
       " edge NRIGHT weight 0 from <label>BirthDate</label> at y: (8413, 8445), x: (464, 539) to <input>Input birth year</input> at y: (8413, 8445), x: (539, 731),\n",
       " edge NLEFT weight 0 from <input>Input birth year</input> at y: (8413, 8445), x: (539, 731) to <label>BirthDate</label> at y: (8413, 8445), x: (464, 539),\n",
       " edge NRIGHT weight 0 from <input>Input birth year</input> at y: (8413, 8445), x: (539, 731) to <input>Input birth month</input> at y: (8413, 8445), x: (739, 931),\n",
       " edge NLEFT weight 0 from <input>Input birth month</input> at y: (8413, 8445), x: (739, 931) to <input>Input birth year</input> at y: (8413, 8445), x: (539, 731),\n",
       " edge NRIGHT weight 0 from <label> </label> at y: (8469, 8501), x: (529, 539) to <button>Submit</button> at y: (8469, 8501), x: (539, 617),\n",
       " edge NLEFT weight 0 from <button>Submit</button> at y: (8469, 8501), x: (539, 617) to <label> </label> at y: (8469, 8501), x: (529, 539)]"
      ]
     },
     "execution_count": 45,
     "metadata": {},
     "output_type": "execute_result"
    }
   ],
   "source": [
    "relation_graph.edges()"
   ]
  },
  {
   "cell_type": "markdown",
   "id": "325beebf",
   "metadata": {},
   "source": [
    "## Top-Bottom"
   ]
  },
  {
   "cell_type": "code",
   "execution_count": 46,
   "id": "d8f909ed",
   "metadata": {
    "ExecuteTime": {
     "end_time": "2023-06-08T20:56:03.964896Z",
     "start_time": "2023-06-08T20:56:03.957858Z"
    }
   },
   "outputs": [],
   "source": [
    "def spans_overlap(span1, span2):\n",
    "    if span2[0] >= span1[1] and span2[1] > span1[1]:\n",
    "        return False\n",
    "    if span2[1] <= span1[0] and span2[0] < span1[0]:\n",
    "        return False\n",
    "    return True\n",
    "\n",
    "\n",
    "def add_row_neighbor_links(relation_graph, node, row, edge_type):\n",
    "    for nodes in row.values():\n",
    "        repr_node = nodes[0]\n",
    "        if spans_overlap(node.x_span, repr_node.x_span):\n",
    "            edge = RelationEdge(node, repr_node, edge_type)\n",
    "            relation_graph.add_edge(edge)\n",
    "    return relation_graph\n",
    "\n",
    "\n",
    "def add_top_bottom_links(spans_2d, relation_graph):\n",
    "    rows = list(spans_2d.values())\n",
    "    for y_idx, (y_span, x_spans) in enumerate(spans_2d.items()):\n",
    "        # TODO: refactor - create a separate function for edge addition\n",
    "        for nodes in x_spans.values():\n",
    "            repr_node = nodes[0]\n",
    "            # TODO: refactor these two ifs\n",
    "            if y_idx - 1 >= 0:\n",
    "                top_row = rows[y_idx - 1]\n",
    "                relation_graph = add_row_neighbor_links(\n",
    "                    relation_graph,\n",
    "                    repr_node,\n",
    "                    top_row,\n",
    "                    EdgeType.NTOP\n",
    "                )\n",
    "            if y_idx + 1 < len(spans_2d.keys()):\n",
    "                bottom_row = rows[y_idx + 1]\n",
    "                relation_graph = add_row_neighbor_links(\n",
    "                    relation_graph,\n",
    "                    repr_node,\n",
    "                    bottom_row,\n",
    "                    EdgeType.NBOTTOM\n",
    "                )\n",
    "    return relation_graph"
   ]
  },
  {
   "cell_type": "code",
   "execution_count": 47,
   "id": "e222ca38",
   "metadata": {
    "ExecuteTime": {
     "end_time": "2023-06-08T20:56:04.685453Z",
     "start_time": "2023-06-08T20:56:04.682481Z"
    }
   },
   "outputs": [],
   "source": [
    "relation_graph = add_top_bottom_links(spans_2d, relation_graph)"
   ]
  },
  {
   "cell_type": "code",
   "execution_count": 48,
   "id": "9f14ec05",
   "metadata": {
    "ExecuteTime": {
     "end_time": "2023-06-08T20:56:05.192557Z",
     "start_time": "2023-06-08T20:56:05.187293Z"
    }
   },
   "outputs": [
    {
     "data": {
      "text/plain": [
       "[edge CHILD weight 0 from <input></input> at y: (8358, 8388), x: (551, 736) to <span>Select province</span> at y: (8358, 8388), x: (551, 736),\n",
       " edge CHILD weight 0 from <input></input> at y: (8358, 8388), x: (551, 736) to <path></path> at y: (8370, 8376), x: (726, 736),\n",
       " edge CHILD weight 0 from <button>Submit</button> at y: (8469, 8501), x: (539, 617) to <span>Submit</span> at y: (8474, 8496), x: (555, 601),\n",
       " edge NRIGHT weight 0 from <label>Username</label> at y: (8301, 8333), x: (459, 539) to <input>Please input</input> at y: (8301, 8333), x: (539, 699),\n",
       " edge NLEFT weight 0 from <input>Please input</input> at y: (8301, 8333), x: (539, 699) to <label>Username</label> at y: (8301, 8333), x: (459, 539),\n",
       " edge NRIGHT weight 0 from <input>Please input</input> at y: (8301, 8333), x: (539, 699) to <a>Need Help?</a> at y: (8309, 8326), x: (707, 782),\n",
       " edge NLEFT weight 0 from <a>Need Help?</a> at y: (8309, 8326), x: (707, 782) to <input>Please input</input> at y: (8301, 8333), x: (539, 699),\n",
       " edge NRIGHT weight 0 from <label>Address</label> at y: (8357, 8389), x: (472, 539) to <input></input> at y: (8358, 8388), x: (551, 736),\n",
       " edge NLEFT weight 0 from <input></input> at y: (8358, 8388), x: (551, 736) to <label>Address</label> at y: (8357, 8389), x: (472, 539),\n",
       " edge NRIGHT weight 0 from <input></input> at y: (8358, 8388), x: (551, 736) to <input>Input street</input> at y: (8357, 8389), x: (747, 860),\n",
       " edge NLEFT weight 0 from <input>Input street</input> at y: (8357, 8389), x: (747, 860) to <input></input> at y: (8358, 8388), x: (551, 736),\n",
       " edge NRIGHT weight 0 from <label>BirthDate</label> at y: (8413, 8445), x: (464, 539) to <input>Input birth year</input> at y: (8413, 8445), x: (539, 731),\n",
       " edge NLEFT weight 0 from <input>Input birth year</input> at y: (8413, 8445), x: (539, 731) to <label>BirthDate</label> at y: (8413, 8445), x: (464, 539),\n",
       " edge NRIGHT weight 0 from <input>Input birth year</input> at y: (8413, 8445), x: (539, 731) to <input>Input birth month</input> at y: (8413, 8445), x: (739, 931),\n",
       " edge NLEFT weight 0 from <input>Input birth month</input> at y: (8413, 8445), x: (739, 931) to <input>Input birth year</input> at y: (8413, 8445), x: (539, 731),\n",
       " edge NRIGHT weight 0 from <label> </label> at y: (8469, 8501), x: (529, 539) to <button>Submit</button> at y: (8469, 8501), x: (539, 617),\n",
       " edge NLEFT weight 0 from <button>Submit</button> at y: (8469, 8501), x: (539, 617) to <label> </label> at y: (8469, 8501), x: (529, 539),\n",
       " edge NBOTTOM weight 0 from <label>Username</label> at y: (8301, 8333), x: (459, 539) to <label>Address</label> at y: (8357, 8389), x: (472, 539),\n",
       " edge NBOTTOM weight 0 from <input>Please input</input> at y: (8301, 8333), x: (539, 699) to <input></input> at y: (8358, 8388), x: (551, 736),\n",
       " edge NBOTTOM weight 0 from <a>Need Help?</a> at y: (8309, 8326), x: (707, 782) to <input></input> at y: (8358, 8388), x: (551, 736),\n",
       " edge NBOTTOM weight 0 from <a>Need Help?</a> at y: (8309, 8326), x: (707, 782) to <input>Input street</input> at y: (8357, 8389), x: (747, 860),\n",
       " edge NTOP weight 0 from <label>Address</label> at y: (8357, 8389), x: (472, 539) to <label>Username</label> at y: (8301, 8333), x: (459, 539),\n",
       " edge NBOTTOM weight 0 from <label>Address</label> at y: (8357, 8389), x: (472, 539) to <label>BirthDate</label> at y: (8413, 8445), x: (464, 539),\n",
       " edge NTOP weight 0 from <input></input> at y: (8358, 8388), x: (551, 736) to <input>Please input</input> at y: (8301, 8333), x: (539, 699),\n",
       " edge NTOP weight 0 from <input></input> at y: (8358, 8388), x: (551, 736) to <a>Need Help?</a> at y: (8309, 8326), x: (707, 782),\n",
       " edge NBOTTOM weight 0 from <input></input> at y: (8358, 8388), x: (551, 736) to <input>Input birth year</input> at y: (8413, 8445), x: (539, 731),\n",
       " edge NTOP weight 0 from <input>Input street</input> at y: (8357, 8389), x: (747, 860) to <a>Need Help?</a> at y: (8309, 8326), x: (707, 782),\n",
       " edge NBOTTOM weight 0 from <input>Input street</input> at y: (8357, 8389), x: (747, 860) to <input>Input birth month</input> at y: (8413, 8445), x: (739, 931),\n",
       " edge NTOP weight 0 from <label>BirthDate</label> at y: (8413, 8445), x: (464, 539) to <label>Address</label> at y: (8357, 8389), x: (472, 539),\n",
       " edge NBOTTOM weight 0 from <label>BirthDate</label> at y: (8413, 8445), x: (464, 539) to <label> </label> at y: (8469, 8501), x: (529, 539),\n",
       " edge NTOP weight 0 from <input>Input birth year</input> at y: (8413, 8445), x: (539, 731) to <input></input> at y: (8358, 8388), x: (551, 736),\n",
       " edge NBOTTOM weight 0 from <input>Input birth year</input> at y: (8413, 8445), x: (539, 731) to <button>Submit</button> at y: (8469, 8501), x: (539, 617),\n",
       " edge NTOP weight 0 from <input>Input birth month</input> at y: (8413, 8445), x: (739, 931) to <input>Input street</input> at y: (8357, 8389), x: (747, 860),\n",
       " edge NTOP weight 0 from <label> </label> at y: (8469, 8501), x: (529, 539) to <label>BirthDate</label> at y: (8413, 8445), x: (464, 539),\n",
       " edge NTOP weight 0 from <button>Submit</button> at y: (8469, 8501), x: (539, 617) to <input>Input birth year</input> at y: (8413, 8445), x: (539, 731)]"
      ]
     },
     "execution_count": 48,
     "metadata": {},
     "output_type": "execute_result"
    }
   ],
   "source": [
    "relation_graph.edges()"
   ]
  },
  {
   "cell_type": "markdown",
   "id": "3db80144",
   "metadata": {},
   "source": [
    "# Calculate Embedding Distances from Nodes"
   ]
  },
  {
   "cell_type": "markdown",
   "id": "74121219",
   "metadata": {
    "ExecuteTime": {
     "end_time": "2023-06-01T19:38:42.962487Z",
     "start_time": "2023-06-01T19:38:42.957719Z"
    }
   },
   "source": [
    "## Hueristic"
   ]
  },
  {
   "cell_type": "code",
   "execution_count": 49,
   "id": "5b6525c1",
   "metadata": {
    "ExecuteTime": {
     "end_time": "2023-06-08T20:56:06.483756Z",
     "start_time": "2023-06-08T20:56:06.480861Z"
    }
   },
   "outputs": [],
   "source": [
    "# TODO: improve this section"
   ]
  },
  {
   "cell_type": "markdown",
   "id": "cf8c2b17",
   "metadata": {},
   "source": [
    "### Textual Distance"
   ]
  },
  {
   "cell_type": "code",
   "execution_count": 50,
   "id": "5be1251d",
   "metadata": {
    "ExecuteTime": {
     "end_time": "2023-06-08T20:56:07.022073Z",
     "start_time": "2023-06-08T20:56:07.016711Z"
    }
   },
   "outputs": [],
   "source": [
    "def get_text_similarity(node1, node2):\n",
    "    embedding1 = node1.features\n",
    "    embedding2 = node2.features\n",
    "    try:\n",
    "        sim = cosine_similarity(embedding1, embedding2)\n",
    "        return 0 if np.isnan(sim) else sim\n",
    "    except:\n",
    "        return 0"
   ]
  },
  {
   "cell_type": "code",
   "execution_count": 51,
   "id": "2ccac249",
   "metadata": {
    "ExecuteTime": {
     "end_time": "2023-06-08T20:56:07.486267Z",
     "start_time": "2023-06-08T20:56:07.482242Z"
    }
   },
   "outputs": [
    {
     "data": {
      "text/plain": [
       "[<label>Username</label> at y: (8301, 8333), x: (459, 539),\n",
       " <input>Please input</input> at y: (8301, 8333), x: (539, 699),\n",
       " <a>Need Help?</a> at y: (8309, 8326), x: (707, 782),\n",
       " <label>Address</label> at y: (8357, 8389), x: (472, 539),\n",
       " <input></input> at y: (8358, 8388), x: (551, 736),\n",
       " <span>Select province</span> at y: (8358, 8388), x: (551, 736),\n",
       " <path></path> at y: (8370, 8376), x: (726, 736),\n",
       " <input>Input street</input> at y: (8357, 8389), x: (747, 860),\n",
       " <label>BirthDate</label> at y: (8413, 8445), x: (464, 539),\n",
       " <input>Input birth year</input> at y: (8413, 8445), x: (539, 731),\n",
       " <input>Input birth month</input> at y: (8413, 8445), x: (739, 931),\n",
       " <label> </label> at y: (8469, 8501), x: (529, 539),\n",
       " <button>Submit</button> at y: (8469, 8501), x: (539, 617),\n",
       " <span>Submit</span> at y: (8474, 8496), x: (555, 601)]"
      ]
     },
     "execution_count": 51,
     "metadata": {},
     "output_type": "execute_result"
    }
   ],
   "source": [
    "relation_graph.nodes()"
   ]
  },
  {
   "cell_type": "code",
   "execution_count": 52,
   "id": "d6e3c625",
   "metadata": {
    "ExecuteTime": {
     "end_time": "2023-06-08T20:56:08.105013Z",
     "start_time": "2023-06-08T20:56:08.100252Z"
    }
   },
   "outputs": [
    {
     "data": {
      "text/plain": [
       "0.45188928"
      ]
     },
     "execution_count": 52,
     "metadata": {},
     "output_type": "execute_result"
    }
   ],
   "source": [
    "get_text_similarity(\n",
    "    relation_graph.nodes()[0],\n",
    "    relation_graph.nodes()[1]\n",
    ")"
   ]
  },
  {
   "cell_type": "code",
   "execution_count": 53,
   "id": "cbaaacc2",
   "metadata": {
    "ExecuteTime": {
     "end_time": "2023-06-08T20:56:08.652825Z",
     "start_time": "2023-06-08T20:56:08.647703Z"
    }
   },
   "outputs": [
    {
     "data": {
      "text/plain": [
       "0.41530555"
      ]
     },
     "execution_count": 53,
     "metadata": {},
     "output_type": "execute_result"
    }
   ],
   "source": [
    "get_text_similarity(\n",
    "    relation_graph.nodes()[3],\n",
    "    relation_graph.nodes()[5]\n",
    ")"
   ]
  },
  {
   "cell_type": "markdown",
   "id": "7d3e6279",
   "metadata": {},
   "source": [
    "### Structural Distance"
   ]
  },
  {
   "cell_type": "code",
   "execution_count": 54,
   "id": "31648ff6",
   "metadata": {
    "ExecuteTime": {
     "end_time": "2023-06-08T20:56:11.559022Z",
     "start_time": "2023-06-08T20:56:11.556825Z"
    }
   },
   "outputs": [],
   "source": [
    "# !pip install lxml\n",
    "# !pip install networkx\n",
    "# !pip install node2vec"
   ]
  },
  {
   "cell_type": "code",
   "execution_count": 55,
   "id": "b9f1ea18",
   "metadata": {
    "ExecuteTime": {
     "end_time": "2023-06-08T20:56:21.691303Z",
     "start_time": "2023-06-08T20:56:12.060963Z"
    }
   },
   "outputs": [
    {
     "data": {
      "application/vnd.jupyter.widget-view+json": {
       "model_id": "5ebfc4b4e361461bafdd89cac4758a1e",
       "version_major": 2,
       "version_minor": 0
      },
      "text/plain": [
       "Computing transition probabilities:   0%|          | 0/59 [00:00<?, ?it/s]"
      ]
     },
     "metadata": {},
     "output_type": "display_data"
    },
    {
     "name": "stderr",
     "output_type": "stream",
     "text": [
      "\r",
      "Generating walks (CPU: 1):   0%|          | 0/50 [00:00<?, ?it/s]\r",
      "Generating walks (CPU: 2):   0%|          | 0/50 [00:00<?, ?it/s]\r",
      "Generating walks (CPU: 3):   0%|          | 0/50 [00:00<?, ?it/s]\r",
      "Generating walks (CPU: 4):   0%|          | 0/50 [00:00<?, ?it/s]\r",
      "Generating walks (CPU: 2): 100%|██████████| 50/50 [00:00<00:00, 1966.74it/s]\n",
      "\r",
      "Generating walks (CPU: 4): 100%|██████████| 50/50 [00:00<00:00, 2026.10it/s]\n",
      "\r",
      "Generating walks (CPU: 1): 100%|██████████| 50/50 [00:00<00:00, 1860.23it/s]\n",
      "\r",
      "Generating walks (CPU: 3): 100%|██████████| 50/50 [00:00<00:00, 1909.19it/s]\n"
     ]
    }
   ],
   "source": [
    "import networkx as nx\n",
    "from bs4 import BeautifulSoup\n",
    "from node2vec import Node2Vec\n",
    "\n",
    "\n",
    "# Function to create a graph from the BeautifulSoup object\n",
    "def create_graph(soup):\n",
    "    G = nx.DiGraph()\n",
    "\n",
    "    for tag in soup.find_all():\n",
    "        # Assuming 'xpath' attribute exists for each tag\n",
    "        xpath = tag.attrs['xpath']\n",
    "        \n",
    "        if xpath not in G:\n",
    "            G.add_node(xpath)\n",
    "        for child in tag.children:\n",
    "            if isinstance(child, Comment) or isinstance(child, NavigableString):\n",
    "                continue\n",
    "            child_xpath = child.attrs.get('xpath')\n",
    "            if child_xpath not in G:\n",
    "                G.add_node(child_xpath)\n",
    "            G.add_edge(xpath, child_xpath)\n",
    "\n",
    "    return G\n",
    "\n",
    "\n",
    "# Function to generate embeddings\n",
    "def generate_embeddings(G, dimensions=1024, walk_length=30, num_walks=200, workers=4):\n",
    "    # Create Node2Vec object\n",
    "    node2vec = Node2Vec(G, dimensions=dimensions, walk_length=walk_length, num_walks=num_walks, workers=workers)\n",
    "\n",
    "    # Train Node2Vec model\n",
    "    model = node2vec.fit(window=10, min_count=1, batch_words=4)\n",
    "    \n",
    "    return model\n",
    "\n",
    "\n",
    "# Create graph\n",
    "G = create_graph(form_doc)\n",
    "\n",
    "# Generate embeddings\n",
    "model = generate_embeddings(G)"
   ]
  },
  {
   "cell_type": "code",
   "execution_count": 56,
   "id": "a0faeb70",
   "metadata": {
    "ExecuteTime": {
     "end_time": "2023-06-08T20:56:21.734002Z",
     "start_time": "2023-06-08T20:56:21.730035Z"
    }
   },
   "outputs": [],
   "source": [
    "def get_structure_similarity(xpath1, xpath2):\n",
    "    # Check if XPaths exist in the model\n",
    "    if xpath1 not in model.wv or xpath2 not in model.wv:\n",
    "        print(\"One or both of the XPaths are not in the model.\")\n",
    "        return None\n",
    "\n",
    "    # Get vectors for XPaths\n",
    "    vector1 = model.wv[xpath1]\n",
    "    vector2 = model.wv[xpath2]\n",
    "\n",
    "    # Calculate and return cosine similarity\n",
    "    return cosine_similarity(vector1, vector2)"
   ]
  },
  {
   "cell_type": "code",
   "execution_count": 57,
   "id": "084ddf25",
   "metadata": {
    "ExecuteTime": {
     "end_time": "2023-06-08T20:56:22.195501Z",
     "start_time": "2023-06-08T20:56:22.190967Z"
    }
   },
   "outputs": [
    {
     "data": {
      "text/plain": [
       "0.97428304"
      ]
     },
     "execution_count": 57,
     "metadata": {},
     "output_type": "execute_result"
    }
   ],
   "source": [
    "get_structure_similarity(\n",
    "    relation_graph.nodes()[0].xpath,\n",
    "    relation_graph.nodes()[1].xpath\n",
    ")"
   ]
  },
  {
   "cell_type": "markdown",
   "id": "4832bd11",
   "metadata": {},
   "source": [
    "### Combination"
   ]
  },
  {
   "cell_type": "code",
   "execution_count": 58,
   "id": "d7b47810",
   "metadata": {
    "ExecuteTime": {
     "end_time": "2023-06-08T20:56:23.255535Z",
     "start_time": "2023-06-08T20:56:23.252073Z"
    }
   },
   "outputs": [],
   "source": [
    "def combined_similarity(node1, node2, alpha=0.5):\n",
    "    text_sim = get_text_similarity(node1, node2)\n",
    "    structure_sim = get_structure_similarity(node1.xpath, node2.xpath)\n",
    "    return alpha * text_sim + (1 - alpha) * structure_sim"
   ]
  },
  {
   "cell_type": "code",
   "execution_count": 59,
   "id": "b8d8d9a2",
   "metadata": {
    "ExecuteTime": {
     "end_time": "2023-06-08T20:56:23.862049Z",
     "start_time": "2023-06-08T20:56:23.858258Z"
    }
   },
   "outputs": [
    {
     "data": {
      "text/plain": [
       "0.7130861580371857"
      ]
     },
     "execution_count": 59,
     "metadata": {},
     "output_type": "execute_result"
    }
   ],
   "source": [
    "combined_similarity(\n",
    "    relation_graph.nodes()[0],\n",
    "    relation_graph.nodes()[1]\n",
    ")"
   ]
  },
  {
   "cell_type": "markdown",
   "id": "3eb958b8",
   "metadata": {},
   "source": [
    "## Train GCN for Direct Embedding with Features"
   ]
  },
  {
   "cell_type": "code",
   "execution_count": 60,
   "id": "a4d7145f",
   "metadata": {
    "ExecuteTime": {
     "end_time": "2023-06-08T20:56:26.360220Z",
     "start_time": "2023-06-08T20:56:26.357687Z"
    }
   },
   "outputs": [],
   "source": [
    "# TODO"
   ]
  },
  {
   "cell_type": "markdown",
   "id": "68a14117",
   "metadata": {},
   "source": [
    "# Rank Neighbors"
   ]
  },
  {
   "cell_type": "markdown",
   "id": "fdddedd0",
   "metadata": {},
   "source": [
    "For each element, we go through all of its neighbors, and calculate the combined measure of distance for them. If the neighbor has any children, we define the score as the maximum score for any of its children."
   ]
  },
  {
   "cell_type": "code",
   "execution_count": 61,
   "id": "d8751db1",
   "metadata": {
    "ExecuteTime": {
     "end_time": "2023-06-08T20:56:30.950042Z",
     "start_time": "2023-06-08T20:56:30.909684Z"
    }
   },
   "outputs": [
    {
     "data": {
      "application/vnd.jupyter.widget-view+json": {
       "model_id": "a11ac258c1b540e5a23fb470344958ba",
       "version_major": 2,
       "version_minor": 0
      },
      "text/plain": [
       "  0%|          | 0/14 [00:00<?, ?it/s]"
      ]
     },
     "metadata": {},
     "output_type": "display_data"
    },
    {
     "name": "stdout",
     "output_type": "stream",
     "text": [
      "<label>Username</label> at y: (8301, 8333), x: (459, 539)\n",
      "<input>Please input</input> at y: (8301, 8333), x: (539, 699)\n",
      "<a>Need Help?</a> at y: (8309, 8326), x: (707, 782)\n",
      "<label>Address</label> at y: (8357, 8389), x: (472, 539)\n",
      "<input></input> at y: (8358, 8388), x: (551, 736)\n",
      "<span>Select province</span> at y: (8358, 8388), x: (551, 736)\n",
      "<path></path> at y: (8370, 8376), x: (726, 736)\n",
      "<input>Input street</input> at y: (8357, 8389), x: (747, 860)\n",
      "<label>BirthDate</label> at y: (8413, 8445), x: (464, 539)\n",
      "<input>Input birth year</input> at y: (8413, 8445), x: (539, 731)\n",
      "<input>Input birth month</input> at y: (8413, 8445), x: (739, 931)\n",
      "<label> </label> at y: (8469, 8501), x: (529, 539)\n",
      "<button>Submit</button> at y: (8469, 8501), x: (539, 617)\n",
      "<span>Submit</span> at y: (8474, 8496), x: (555, 601)\n"
     ]
    },
    {
     "name": "stderr",
     "output_type": "stream",
     "text": [
      "/Library/Frameworks/Python.framework/Versions/3.10/lib/python3.10/site-packages/openai/embeddings_utils.py:68: RuntimeWarning: invalid value encountered in scalar divide\n",
      "  return np.dot(a, b) / (np.linalg.norm(a) * np.linalg.norm(b))\n"
     ]
    }
   ],
   "source": [
    "for node in tqdm(relation_graph.nodes()):\n",
    "    print(node)\n",
    "    \n",
    "    edges = list(node.edges[EdgeDir.OUT].values())\n",
    "    \n",
    "    for edge in edges:\n",
    "        if edge.type == EdgeType.CHILD:\n",
    "            continue\n",
    "        sim = combined_similarity(edge.source, edge.target)\n",
    "        if edge.target.has_children():\n",
    "            for target_child_edge in edge.target.get_children():\n",
    "                sim = max(\n",
    "                    sim,\n",
    "                    combined_similarity(edge.source, target_child_edge.target)\n",
    "                )\n",
    "        edge.set_weight(sim)"
   ]
  },
  {
   "cell_type": "code",
   "execution_count": 66,
   "id": "af86c72b",
   "metadata": {
    "ExecuteTime": {
     "end_time": "2023-06-08T20:58:45.281367Z",
     "start_time": "2023-06-08T20:58:45.276804Z"
    }
   },
   "outputs": [],
   "source": [
    "def cutoff_low_score_edges(relation_graph):\n",
    "    scores = list(filter(\n",
    "        lambda x: x != 0,\n",
    "        map(\n",
    "            lambda x: x.weight,\n",
    "            relation_graph.edges()\n",
    "        )\n",
    "    ))\n",
    "    \n",
    "    mean = np.mean(scores)\n",
    "    std_dev = np.std(scores)\n",
    "\n",
    "    # Set the cutoff to be one standard deviation above the mean\n",
    "    cutoff = mean + std_dev\n",
    "\n",
    "    print(\"Mean:\", mean)\n",
    "    print(\"Standard Deviation:\", std_dev)\n",
    "    print(\"Cutoff:\", cutoff)\n",
    "    \n",
    "    for edge in relation_graph.edges():\n",
    "        if edge.type != EdgeType.CHILD and edge.weight < cutoff:\n",
    "            relation_graph.remove_edge(edge)\n",
    "    return relation_graph"
   ]
  },
  {
   "cell_type": "code",
   "execution_count": 68,
   "id": "f391cbc3",
   "metadata": {
    "ExecuteTime": {
     "end_time": "2023-06-08T20:58:50.120509Z",
     "start_time": "2023-06-08T20:58:50.116572Z"
    }
   },
   "outputs": [
    {
     "name": "stdout",
     "output_type": "stream",
     "text": [
      "Mean: 0.3964956261625048\n",
      "Standard Deviation: 0.1948220535972591\n",
      "Cutoff: 0.5913176797597639\n"
     ]
    }
   ],
   "source": [
    "relation_graph = cutoff_low_score_edges(relation_graph)"
   ]
  },
  {
   "cell_type": "code",
   "execution_count": 69,
   "id": "00ad21d3",
   "metadata": {
    "ExecuteTime": {
     "end_time": "2023-06-08T20:58:51.837566Z",
     "start_time": "2023-06-08T20:58:51.832559Z"
    }
   },
   "outputs": [
    {
     "data": {
      "text/plain": [
       "[edge CHILD weight 0 from <input></input> at y: (8358, 8388), x: (551, 736) to <span>Select province</span> at y: (8358, 8388), x: (551, 736),\n",
       " edge CHILD weight 0 from <input></input> at y: (8358, 8388), x: (551, 736) to <path></path> at y: (8370, 8376), x: (726, 736),\n",
       " edge CHILD weight 0 from <button>Submit</button> at y: (8469, 8501), x: (539, 617) to <span>Submit</span> at y: (8474, 8496), x: (555, 601),\n",
       " edge NRIGHT weight 0.7130861580371857 from <label>Username</label> at y: (8301, 8333), x: (459, 539) to <input>Please input</input> at y: (8301, 8333), x: (539, 699),\n",
       " edge NLEFT weight 0.7130861580371857 from <input>Please input</input> at y: (8301, 8333), x: (539, 699) to <label>Username</label> at y: (8301, 8333), x: (459, 539),\n",
       " edge NRIGHT weight 0.6220728829503059 from <input>Please input</input> at y: (8301, 8333), x: (539, 699) to <a>Need Help?</a> at y: (8309, 8326), x: (707, 782),\n",
       " edge NLEFT weight 0.6220728829503059 from <a>Need Help?</a> at y: (8309, 8326), x: (707, 782) to <input>Please input</input> at y: (8301, 8333), x: (539, 699),\n",
       " edge NRIGHT weight 0.6734936535358429 from <label>Address</label> at y: (8357, 8389), x: (472, 539) to <input></input> at y: (8358, 8388), x: (551, 736),\n",
       " edge NLEFT weight 0.6856784224510193 from <input>Input street</input> at y: (8357, 8389), x: (747, 860) to <input></input> at y: (8358, 8388), x: (551, 736),\n",
       " edge NRIGHT weight 0.7132613956928253 from <input>Input birth year</input> at y: (8413, 8445), x: (539, 731) to <input>Input birth month</input> at y: (8413, 8445), x: (739, 931),\n",
       " edge NLEFT weight 0.7132613956928253 from <input>Input birth month</input> at y: (8413, 8445), x: (739, 931) to <input>Input birth year</input> at y: (8413, 8445), x: (539, 731)]"
      ]
     },
     "execution_count": 69,
     "metadata": {},
     "output_type": "execute_result"
    }
   ],
   "source": [
    "relation_graph.edges()"
   ]
  },
  {
   "cell_type": "code",
   "execution_count": null,
   "id": "7afadcba",
   "metadata": {},
   "outputs": [],
   "source": []
  }
 ],
 "metadata": {
  "kernelspec": {
   "display_name": "Python 3 (ipykernel)",
   "language": "python",
   "name": "python3"
  },
  "language_info": {
   "codemirror_mode": {
    "name": "ipython",
    "version": 3
   },
   "file_extension": ".py",
   "mimetype": "text/x-python",
   "name": "python",
   "nbconvert_exporter": "python",
   "pygments_lexer": "ipython3",
   "version": "3.10.9"
  },
  "toc": {
   "base_numbering": 1,
   "nav_menu": {},
   "number_sections": true,
   "sideBar": true,
   "skip_h1_title": false,
   "title_cell": "Table of Contents",
   "title_sidebar": "Contents",
   "toc_cell": false,
   "toc_position": {},
   "toc_section_display": true,
   "toc_window_display": false
  },
  "varInspector": {
   "cols": {
    "lenName": 16,
    "lenType": 16,
    "lenVar": 40
   },
   "kernels_config": {
    "python": {
     "delete_cmd_postfix": "",
     "delete_cmd_prefix": "del ",
     "library": "var_list.py",
     "varRefreshCmd": "print(var_dic_list())"
    },
    "r": {
     "delete_cmd_postfix": ") ",
     "delete_cmd_prefix": "rm(",
     "library": "var_list.r",
     "varRefreshCmd": "cat(var_dic_list()) "
    }
   },
   "types_to_exclude": [
    "module",
    "function",
    "builtin_function_or_method",
    "instance",
    "_Feature"
   ],
   "window_display": false
  }
 },
 "nbformat": 4,
 "nbformat_minor": 5
}
