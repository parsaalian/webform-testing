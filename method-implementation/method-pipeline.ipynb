{
 "cells": [
  {
   "cell_type": "code",
   "execution_count": 1,
   "id": "d229fc1e",
   "metadata": {
    "ExecuteTime": {
     "end_time": "2023-06-15T22:14:06.053028Z",
     "start_time": "2023-06-15T22:14:06.024540Z"
    }
   },
   "outputs": [],
   "source": [
    "%load_ext autoreload\n",
    "%autoreload 2"
   ]
  },
  {
   "cell_type": "code",
   "execution_count": 2,
   "id": "6edf3f1c",
   "metadata": {
    "ExecuteTime": {
     "end_time": "2023-06-15T22:14:11.878195Z",
     "start_time": "2023-06-15T22:14:07.001467Z"
    }
   },
   "outputs": [],
   "source": [
    "import os\n",
    "import openai\n",
    "from dotenv import load_dotenv\n",
    "\n",
    "from selenium.webdriver.common.by import By\n",
    "from bs4 import BeautifulSoup as bs\n",
    "\n",
    "\n",
    "from method.ours.utils import create_driver, embed_properties_into_html\n",
    "from method.ours.preprocessing import get_processable_nodes\n",
    "from method.ours.graph_embedding import create_node2vec_model\n",
    "from method.ours.relation_graph import create_relation_graph\n",
    "from method.ours.node_linking import create_base_links\n",
    "from method.ours.similarity import add_similarity_scores_to_graph\n",
    "from method.ours.edge_pruning import (\n",
    "    prune_relation_graph_extra_edges,\n",
    "    prune_low_score_uncertain_edges\n",
    ")\n",
    "from method.ours.input_group import (\n",
    "    create_input_groups,\n",
    "    prune_low_score_group_relations\n",
    ")"
   ]
  },
  {
   "cell_type": "code",
   "execution_count": 3,
   "id": "25fb6bb8",
   "metadata": {
    "ExecuteTime": {
     "end_time": "2023-06-15T22:14:12.443948Z",
     "start_time": "2023-06-15T22:14:12.370411Z"
    }
   },
   "outputs": [],
   "source": [
    "load_dotenv()\n",
    "openai.api_key = os.getenv(\"OPENAI_API_KEY\")\n",
    "\n",
    "# Global Variables\n",
    "HEADLESS = False\n",
    "TEXT_EMBEDDING_METHOD = 'ADA' # ['ADA', 'WORD2VEC', 'SPACY']\n",
    "GRAPH_EMBEDDING_METHOD = 'NODE2VEC' # ['NODE2VEC', 'GCN']"
   ]
  },
  {
   "cell_type": "code",
   "execution_count": 4,
   "id": "837ffb01",
   "metadata": {
    "ExecuteTime": {
     "end_time": "2023-06-15T22:14:17.459926Z",
     "start_time": "2023-06-15T22:14:13.488779Z"
    }
   },
   "outputs": [],
   "source": [
    "driver = create_driver(HEADLESS)\n",
    "driver.get('https://www.aircanada.com/ca/en/aco/home.html')"
   ]
  },
  {
   "cell_type": "code",
   "execution_count": 5,
   "id": "2812c532",
   "metadata": {
    "ExecuteTime": {
     "end_time": "2023-06-15T22:14:32.758902Z",
     "start_time": "2023-06-15T22:14:25.077014Z"
    }
   },
   "outputs": [],
   "source": [
    "# form = driver.find_elements(By.TAG_NAME, 'form')[48]\n",
    "# form = driver.find_element(By.ID, 'register')\n",
    "form = driver.find_elements(By.TAG_NAME, 'form')[1]\n",
    "form = embed_properties_into_html(driver, form)\n",
    "\n",
    "form_doc = bs(form.get_attribute('outerHTML'), 'html.parser')"
   ]
  },
  {
   "cell_type": "code",
   "execution_count": 6,
   "id": "7db23425",
   "metadata": {
    "ExecuteTime": {
     "end_time": "2023-06-15T22:14:47.966738Z",
     "start_time": "2023-06-15T22:14:33.784604Z"
    }
   },
   "outputs": [
    {
     "data": {
      "application/vnd.jupyter.widget-view+json": {
       "model_id": "18d44abedb3044b0a413da0559c78da2",
       "version_major": 2,
       "version_minor": 0
      },
      "text/plain": [
       "Computing transition probabilities:   0%|          | 0/340 [00:00<?, ?it/s]"
      ]
     },
     "metadata": {},
     "output_type": "display_data"
    },
    {
     "name": "stderr",
     "output_type": "stream",
     "text": [
      "\r",
      "Generating walks (CPU: 1):   0%|          | 0/50 [00:00<?, ?it/s]\r",
      "Generating walks (CPU: 3):   0%|          | 0/50 [00:00<?, ?it/s]\r",
      "Generating walks (CPU: 2):   0%|          | 0/50 [00:00<?, ?it/s]\r",
      "Generating walks (CPU: 4):   0%|          | 0/50 [00:00<?, ?it/s]\r",
      "Generating walks (CPU: 2): 100%|██████████| 50/50 [00:00<00:00, 681.18it/s]\n",
      "\r",
      "Generating walks (CPU: 4): 100%|██████████| 50/50 [00:00<00:00, 672.99it/s]\n",
      "\r",
      "Generating walks (CPU: 3): 100%|██████████| 50/50 [00:00<00:00, 648.38it/s]\n",
      "\r",
      "Generating walks (CPU: 1): 100%|██████████| 50/50 [00:00<00:00, 634.14it/s]\n"
     ]
    }
   ],
   "source": [
    "form_processable_nodes = get_processable_nodes(form_doc)\n",
    "node2vec_model = create_node2vec_model(form_doc)"
   ]
  },
  {
   "cell_type": "code",
   "execution_count": 7,
   "id": "69dd1802",
   "metadata": {
    "ExecuteTime": {
     "end_time": "2023-06-15T22:14:59.666496Z",
     "start_time": "2023-06-15T22:14:49.226204Z"
    }
   },
   "outputs": [
    {
     "name": "stderr",
     "output_type": "stream",
     "text": [
      "100%|█████████████████████████████████████████████████████████████████████████████████████████████████████████████████████████████████████| 36/36 [00:10<00:00,  3.53it/s]\n",
      "/Library/Frameworks/Python.framework/Versions/3.10/lib/python3.10/site-packages/openai/embeddings_utils.py:68: RuntimeWarning: invalid value encountered in scalar divide\n",
      "  return np.dot(a, b) / (np.linalg.norm(a) * np.linalg.norm(b))\n"
     ]
    }
   ],
   "source": [
    "relation_graph = create_relation_graph(form_processable_nodes, TEXT_EMBEDDING_METHOD)\n",
    "\n",
    "relation_graph = create_base_links(relation_graph)\n",
    "\n",
    "relation_graph = add_similarity_scores_to_graph(node2vec_model, relation_graph)\n",
    "\n",
    "relation_graph = prune_relation_graph_extra_edges(relation_graph)\n",
    "relation_graph = prune_low_score_uncertain_edges(relation_graph, factor=0.5)"
   ]
  },
  {
   "cell_type": "code",
   "execution_count": 8,
   "id": "e4c38fab",
   "metadata": {
    "ExecuteTime": {
     "end_time": "2023-06-15T22:15:02.621763Z",
     "start_time": "2023-06-15T22:15:01.985571Z"
    }
   },
   "outputs": [],
   "source": [
    "input_groups = create_input_groups(relation_graph)\n",
    "input_groups = prune_low_score_group_relations(input_groups, node2vec_model, factor=0.5)"
   ]
  },
  {
   "cell_type": "markdown",
   "id": "94d7ac28",
   "metadata": {},
   "source": [
    "# Constraint Generation"
   ]
  },
  {
   "cell_type": "code",
   "execution_count": 45,
   "id": "8169b4fb",
   "metadata": {
    "ExecuteTime": {
     "end_time": "2023-06-15T22:26:27.862814Z",
     "start_time": "2023-06-15T22:26:27.784281Z"
    }
   },
   "outputs": [],
   "source": [
    "system_prompt = '''\n",
    "Your task is to generate a set of assertions for form fields. The list of the assertions and their signatures is as following:\n",
    "\n",
    "1. toBeEqual(value) # for any input type\n",
    "2. toHaveLengthCondition(condition, value) # for textual inputs\n",
    "3. toBeTruthy() # for boolean inputs\n",
    "4. toHaveCondition(condition, value) # for numeric or date inputs\n",
    "5. toBeEmpty() # for any input type\n",
    "6. toMatch(regexPattern) # for textual inputs\n",
    "\n",
    "generate conditions in the as the sample:\n",
    "\n",
    "# sample\n",
    "expect(field('username'))\n",
    ".toHaveLengthCondition('>', 8)\n",
    ".toHaveLengthCondition('<', 50)\n",
    ".not.toBeEmpty()\n",
    "# end of sample\n",
    "\n",
    "if there are multiple inputs that should have the relation with each other, you can use a format such as:\n",
    "\n",
    "# sample\n",
    "expect(field('password'))\n",
    ".toBe(field('confirm password'))\n",
    "# end of sample\n",
    "\n",
    "Only generate the assertions and nothing else. Only generate assertions for the inputs in question, and not the ones in the relevant information section.\n",
    "'''"
   ]
  },
  {
   "cell_type": "code",
   "execution_count": 62,
   "id": "74bdad88",
   "metadata": {
    "ExecuteTime": {
     "end_time": "2023-06-15T22:28:29.495907Z",
     "start_time": "2023-06-15T22:28:29.417067Z"
    }
   },
   "outputs": [],
   "source": [
    "input_group = input_groups[4]"
   ]
  },
  {
   "cell_type": "code",
   "execution_count": 63,
   "id": "4612c831",
   "metadata": {
    "ExecuteTime": {
     "end_time": "2023-06-15T22:28:32.293032Z",
     "start_time": "2023-06-15T22:28:32.228604Z"
    }
   },
   "outputs": [
    {
     "data": {
      "text/plain": [
       "<input id=\"bkmgFlights_origin_trip_1\" name=\"bkmgFlights_origin_trip_1\" type=\"text\"/>"
      ]
     },
     "execution_count": 63,
     "metadata": {},
     "output_type": "execute_result"
    }
   ],
   "source": [
    "input_group.node.element"
   ]
  },
  {
   "cell_type": "code",
   "execution_count": 64,
   "id": "6030effe",
   "metadata": {
    "ExecuteTime": {
     "end_time": "2023-06-15T22:28:37.042910Z",
     "start_time": "2023-06-15T22:28:36.968585Z"
    }
   },
   "outputs": [],
   "source": [
    "input_data_str = str(input_group)\n",
    "\n",
    "relevant_input_groups = list(map(\n",
    "    lambda x: str(x[0]).split('with the following relevant text tags')[0],\n",
    "    sorted(input_group.edges, key=lambda x: x[1], reverse=True)\n",
    "))\n",
    "\n",
    "relevant_input_groups_str\n",
    "\n",
    "relevant_input_groups_str = \"\\n\".join(\n",
    "    map(lambda data: f'''{data[0] + 1}.\\n{data[1]}'''.strip(), enumerate(relevant_input_groups[:3]))\n",
    ")\n",
    "\n",
    "\n",
    "input_prompt = f'''\n",
    "We are filling the following field in the form:\n",
    "{input_data_str}\n",
    "\n",
    "The relevant information available in the form are (in order of relevance):\n",
    "{relevant_input_groups_str}\n",
    "'''"
   ]
  },
  {
   "cell_type": "code",
   "execution_count": 65,
   "id": "7851cf8b",
   "metadata": {
    "ExecuteTime": {
     "end_time": "2023-06-15T22:28:39.853492Z",
     "start_time": "2023-06-15T22:28:39.791566Z"
    }
   },
   "outputs": [
    {
     "name": "stdout",
     "output_type": "stream",
     "text": [
      "\n",
      "We are filling the following field in the form:\n",
      "input: <input id=\"bkmgFlights_origin_trip_1\" name=\"bkmgFlights_origin_trip_1\" type=\"text\"/>\n",
      "with label: From\n",
      "with the following relevant text tags:\n",
      "<span>Vancouver </span>\n",
      "<span>From</span>\n",
      "\n",
      "The relevant information available in the form are (in order of relevance):\n",
      "1.\n",
      "input: <input id=\"bkmgFlights_destination_trip_1\" name=\"bkmgFlights_destination_trip_1\" type=\"text\"/>\n",
      "with label: To\n",
      "2.\n",
      "input: <input id=\"bkmgFlights_travelDates_1-formfield-2\" name=\"bkmgFlights_travelDates_1-formfield-2\" type=\"text\"/>\n",
      "with label: Return\n",
      "3.\n",
      "input: <input id=\"bkmgFlights_travelDates_1-formfield-1\" name=\"bkmgFlights_travelDates_1-formfield-1\" type=\"text\"/>\n",
      "with label: Departure\n",
      "\n"
     ]
    }
   ],
   "source": [
    "print(input_prompt)"
   ]
  },
  {
   "cell_type": "code",
   "execution_count": 66,
   "id": "ee316c79",
   "metadata": {
    "ExecuteTime": {
     "end_time": "2023-06-15T22:28:42.987295Z",
     "start_time": "2023-06-15T22:28:42.921185Z"
    }
   },
   "outputs": [],
   "source": [
    "messages = [\n",
    "    {\n",
    "        'role': 'system',\n",
    "        'content': system_prompt\n",
    "    },\n",
    "    {\n",
    "        'role': 'user',\n",
    "        'content': input_prompt\n",
    "    }\n",
    "]"
   ]
  },
  {
   "cell_type": "code",
   "execution_count": 67,
   "id": "75db4b8e",
   "metadata": {
    "ExecuteTime": {
     "end_time": "2023-06-15T22:28:51.944509Z",
     "start_time": "2023-06-15T22:28:45.717352Z"
    }
   },
   "outputs": [],
   "source": [
    "response = openai.ChatCompletion.create(\n",
    "    # model='gpt-3.5-turbo',\n",
    "    model='gpt-4',\n",
    "    messages=messages,\n",
    "    temperature=0.5,\n",
    ")"
   ]
  },
  {
   "cell_type": "code",
   "execution_count": 68,
   "id": "734a19eb",
   "metadata": {
    "ExecuteTime": {
     "end_time": "2023-06-15T22:28:54.726464Z",
     "start_time": "2023-06-15T22:28:54.662029Z"
    },
    "scrolled": true
   },
   "outputs": [
    {
     "name": "stdout",
     "output_type": "stream",
     "text": [
      "expect(field('bkmgFlights_origin_trip_1'))\n",
      ".toHaveLengthCondition('>', 1)\n",
      ".toHaveLengthCondition('<', 100)\n",
      ".not.toBeEmpty()\n",
      ".toMatch(/^[a-zA-Z\\s]+$/)\n"
     ]
    }
   ],
   "source": [
    "response_text = response.choices[0].message.content\n",
    "print(response_text)"
   ]
  },
  {
   "cell_type": "code",
   "execution_count": null,
   "id": "a783e724",
   "metadata": {},
   "outputs": [],
   "source": []
  }
 ],
 "metadata": {
  "kernelspec": {
   "display_name": "Python 3 (ipykernel)",
   "language": "python",
   "name": "python3"
  },
  "language_info": {
   "codemirror_mode": {
    "name": "ipython",
    "version": 3
   },
   "file_extension": ".py",
   "mimetype": "text/x-python",
   "name": "python",
   "nbconvert_exporter": "python",
   "pygments_lexer": "ipython3",
   "version": "3.10.9"
  },
  "toc": {
   "base_numbering": 1,
   "nav_menu": {},
   "number_sections": true,
   "sideBar": true,
   "skip_h1_title": false,
   "title_cell": "Table of Contents",
   "title_sidebar": "Contents",
   "toc_cell": false,
   "toc_position": {},
   "toc_section_display": true,
   "toc_window_display": false
  },
  "varInspector": {
   "cols": {
    "lenName": 16,
    "lenType": 16,
    "lenVar": 40
   },
   "kernels_config": {
    "python": {
     "delete_cmd_postfix": "",
     "delete_cmd_prefix": "del ",
     "library": "var_list.py",
     "varRefreshCmd": "print(var_dic_list())"
    },
    "r": {
     "delete_cmd_postfix": ") ",
     "delete_cmd_prefix": "rm(",
     "library": "var_list.r",
     "varRefreshCmd": "cat(var_dic_list()) "
    }
   },
   "types_to_exclude": [
    "module",
    "function",
    "builtin_function_or_method",
    "instance",
    "_Feature"
   ],
   "window_display": false
  }
 },
 "nbformat": 4,
 "nbformat_minor": 5
}
