{
 "cells": [
  {
   "cell_type": "code",
   "execution_count": 1,
   "id": "f46f204b",
   "metadata": {
    "ExecuteTime": {
     "end_time": "2023-06-12T16:58:41.578877Z",
     "start_time": "2023-06-12T16:58:41.543284Z"
    }
   },
   "outputs": [],
   "source": [
    "%load_ext autoreload\n",
    "%autoreload 2"
   ]
  },
  {
   "cell_type": "code",
   "execution_count": 12,
   "id": "7736b03f",
   "metadata": {
    "ExecuteTime": {
     "end_time": "2023-06-12T17:00:44.905883Z",
     "start_time": "2023-06-12T17:00:44.810666Z"
    }
   },
   "outputs": [],
   "source": [
    "import os\n",
    "import openai\n",
    "from dotenv import load_dotenv\n",
    "\n",
    "from selenium.webdriver.common.by import By\n",
    "from bs4 import BeautifulSoup as bs\n",
    "\n",
    "from method.ours import (\n",
    "    create_driver,\n",
    "    embed_properties,\n",
    "    get_processable_nodes,\n",
    "    create_relations_graph,\n",
    "    create_2d_span_ordered_dict,\n",
    "    add_for_links,\n",
    "    add_parent_child_links,\n",
    "    add_left_right_links,\n",
    "    add_top_bottom_links,\n",
    "    create_node2vec_model,\n",
    "    add_weight_to_graph,\n",
    "    cutoff_low_score_edges,\n",
    ")"
   ]
  },
  {
   "cell_type": "code",
   "execution_count": 5,
   "id": "bf11c452",
   "metadata": {
    "ExecuteTime": {
     "end_time": "2023-06-12T16:58:55.635960Z",
     "start_time": "2023-06-12T16:58:55.541612Z"
    }
   },
   "outputs": [],
   "source": [
    "load_dotenv()\n",
    "openai.api_key = os.getenv(\"OPENAI_API_KEY\")"
   ]
  },
  {
   "cell_type": "code",
   "execution_count": 6,
   "id": "758eae3e",
   "metadata": {
    "ExecuteTime": {
     "end_time": "2023-06-12T16:58:56.501191Z",
     "start_time": "2023-06-12T16:58:56.409433Z"
    }
   },
   "outputs": [],
   "source": [
    "# Global Variables\n",
    "HEADLESS = False\n",
    "TEXT_EMBEDDING_METHOD = 'ADA' # ['ADA', 'WORD2VEC', 'SPACY']\n",
    "GRAPH_EMBEDDING_METHOD = 'NODE2VEC' # ['NODE2VEC', 'GCN']"
   ]
  },
  {
   "cell_type": "code",
   "execution_count": 7,
   "id": "ab4ad206",
   "metadata": {
    "ExecuteTime": {
     "end_time": "2023-06-12T16:59:00.388077Z",
     "start_time": "2023-06-12T16:58:57.191280Z"
    }
   },
   "outputs": [],
   "source": [
    "driver = create_driver(HEADLESS)\n",
    "driver.get('https://ant.design/components/form')"
   ]
  },
  {
   "cell_type": "code",
   "execution_count": 13,
   "id": "89727433",
   "metadata": {
    "ExecuteTime": {
     "end_time": "2023-06-12T17:00:51.915216Z",
     "start_time": "2023-06-12T17:00:48.876395Z"
    }
   },
   "outputs": [],
   "source": [
    "form = driver.find_elements(By.TAG_NAME, 'form')[48]\n",
    "form = embed_properties(driver, form)\n",
    "\n",
    "form_doc = bs(form.get_attribute('outerHTML'), 'html.parser')"
   ]
  },
  {
   "cell_type": "code",
   "execution_count": 14,
   "id": "e10d53e8",
   "metadata": {
    "ExecuteTime": {
     "end_time": "2023-06-12T17:00:55.248644Z",
     "start_time": "2023-06-12T17:00:55.154996Z"
    }
   },
   "outputs": [],
   "source": [
    "form_processable_nodes = get_processable_nodes(form_doc)"
   ]
  },
  {
   "cell_type": "code",
   "execution_count": 15,
   "id": "aec11476",
   "metadata": {
    "ExecuteTime": {
     "end_time": "2023-06-12T17:01:00.683526Z",
     "start_time": "2023-06-12T17:00:56.723819Z"
    }
   },
   "outputs": [
    {
     "name": "stderr",
     "output_type": "stream",
     "text": [
      "100%|█████████████████████████████████████████████████████████████████████████████████████████████████████████████████████████████████████| 14/14 [00:03<00:00,  3.65it/s]\n"
     ]
    }
   ],
   "source": [
    "relation_graph = create_relations_graph(form_processable_nodes, TEXT_EMBEDDING_METHOD)"
   ]
  },
  {
   "cell_type": "code",
   "execution_count": 16,
   "id": "a7500a92",
   "metadata": {
    "ExecuteTime": {
     "end_time": "2023-06-12T17:01:02.118736Z",
     "start_time": "2023-06-12T17:01:02.010605Z"
    }
   },
   "outputs": [
    {
     "name": "stderr",
     "output_type": "stream",
     "text": [
      "100%|██████████████████████████████████████████████████████████████████████████████████████████████████████████████████████████████████| 14/14 [00:00<00:00, 47974.07it/s]\n",
      "100%|████████████████████████████████████████████████████████████████████████████████████████████████████████████████████████████████████| 3/3 [00:00<00:00, 35246.25it/s]\n",
      "100%|████████████████████████████████████████████████████████████████████████████████████████████████████████████████████████████████████| 5/5 [00:00<00:00, 23912.79it/s]\n",
      "100%|████████████████████████████████████████████████████████████████████████████████████████████████████████████████████████████████████| 3/3 [00:00<00:00, 31936.32it/s]\n",
      "100%|████████████████████████████████████████████████████████████████████████████████████████████████████████████████████████████████████| 3/3 [00:00<00:00, 10791.52it/s]\n"
     ]
    }
   ],
   "source": [
    "spans_2d = create_2d_span_ordered_dict(relation_graph)"
   ]
  },
  {
   "cell_type": "code",
   "execution_count": 17,
   "id": "04cc948a",
   "metadata": {
    "ExecuteTime": {
     "end_time": "2023-06-12T17:01:04.789246Z",
     "start_time": "2023-06-12T17:01:04.696127Z"
    }
   },
   "outputs": [],
   "source": [
    "relation_graph = add_for_links(relation_graph)\n",
    "relation_graph = add_parent_child_links(spans_2d, relation_graph)\n",
    "relation_graph = add_left_right_links(spans_2d, relation_graph)\n",
    "relation_graph = add_top_bottom_links(spans_2d, relation_graph)"
   ]
  },
  {
   "cell_type": "code",
   "execution_count": 18,
   "id": "89d12562",
   "metadata": {
    "ExecuteTime": {
     "end_time": "2023-06-12T17:01:13.643568Z",
     "start_time": "2023-06-12T17:01:05.604789Z"
    }
   },
   "outputs": [
    {
     "data": {
      "application/vnd.jupyter.widget-view+json": {
       "model_id": "23965a4226e743c7955ffb502903ba3c",
       "version_major": 2,
       "version_minor": 0
      },
      "text/plain": [
       "Computing transition probabilities:   0%|          | 0/59 [00:00<?, ?it/s]"
      ]
     },
     "metadata": {},
     "output_type": "display_data"
    },
    {
     "name": "stderr",
     "output_type": "stream",
     "text": [
      "Generating walks (CPU: 2): 100%|██████████| 50/50 [00:00<00:00, 1490.35it/s]\n",
      "Generating walks (CPU: 3): 100%|██████████| 50/50 [00:00<00:00, 1437.86it/s]\n",
      "Generating walks (CPU: 4): 100%|██████████| 50/50 [00:00<00:00, 1396.61it/s]\n",
      "Generating walks (CPU: 1): 100%|██████████| 50/50 [00:00<00:00, 1446.05it/s]\n"
     ]
    }
   ],
   "source": [
    "model = create_node2vec_model(form_doc)"
   ]
  },
  {
   "cell_type": "code",
   "execution_count": 19,
   "id": "92ec4bcb",
   "metadata": {
    "ExecuteTime": {
     "end_time": "2023-06-12T17:01:14.451722Z",
     "start_time": "2023-06-12T17:01:14.159094Z"
    }
   },
   "outputs": [
    {
     "name": "stderr",
     "output_type": "stream",
     "text": [
      "  0%|                                                                                                                                              | 0/14 [00:00<?, ?it/s]/Library/Frameworks/Python.framework/Versions/3.10/lib/python3.10/site-packages/openai/embeddings_utils.py:68: RuntimeWarning: invalid value encountered in scalar divide\n",
      "  return np.dot(a, b) / (np.linalg.norm(a) * np.linalg.norm(b))\n",
      "100%|█████████████████████████████████████████████████████████████████████████████████████████████████████████████████████████████████████| 14/14 [00:00<00:00, 71.85it/s]"
     ]
    },
    {
     "name": "stdout",
     "output_type": "stream",
     "text": [
      "Mean: 0.5838302100659439\n",
      "Standard Deviation: 0.21880087042511534\n",
      "Cutoff: 0.8026310804910592\n"
     ]
    },
    {
     "name": "stderr",
     "output_type": "stream",
     "text": [
      "\n"
     ]
    }
   ],
   "source": [
    "relation_graph = add_weight_to_graph(model, relation_graph)\n",
    "relation_graph = cutoff_low_score_edges(relation_graph)"
   ]
  },
  {
   "cell_type": "code",
   "execution_count": 20,
   "id": "38bb92d7",
   "metadata": {
    "ExecuteTime": {
     "end_time": "2023-06-12T17:01:16.298632Z",
     "start_time": "2023-06-12T17:01:16.201247Z"
    }
   },
   "outputs": [
    {
     "data": {
      "text/plain": [
       "[edge CHILD weight 0 from <input></input> at y: (8274, 8304), x: (618, 803) to <span>Select province</span> at y: (8274, 8304), x: (618, 803),\n",
       " edge CHILD weight 0 from <input></input> at y: (8274, 8304), x: (618, 803) to <path></path> at y: (8286, 8292), x: (793, 803),\n",
       " edge CHILD weight 0 from <button>Submit</button> at y: (8385, 8417), x: (606, 684) to <span>Submit</span> at y: (8390, 8412), x: (622, 668),\n",
       " edge NRIGHT weight 0.8722547598939875 from <label>Username</label> at y: (8217, 8249), x: (526, 606) to <input>Please input</input> at y: (8217, 8249), x: (606, 766),\n",
       " edge NLEFT weight 0.8722547598939875 from <input>Please input</input> at y: (8217, 8249), x: (606, 766) to <label>Username</label> at y: (8217, 8249), x: (526, 606),\n",
       " edge NRIGHT weight 0.9001543410086947 from <input>Please input</input> at y: (8217, 8249), x: (606, 766) to <a>Need Help?</a> at y: (8225, 8242), x: (774, 849),\n",
       " edge NLEFT weight 0.9001543410086947 from <a>Need Help?</a> at y: (8225, 8242), x: (774, 849) to <input>Please input</input> at y: (8217, 8249), x: (606, 766),\n",
       " edge NRIGHT weight 0.8425112614609327 from <label>Address</label> at y: (8273, 8305), x: (539, 606) to <input></input> at y: (8274, 8304), x: (618, 803),\n",
       " edge NLEFT weight 0.894677665014669 from <input>Input street</input> at y: (8273, 8305), x: (814, 927) to <input></input> at y: (8274, 8304), x: (618, 803),\n",
       " edge NRIGHT weight 0.8303797469459833 from <label>BirthDate</label> at y: (8329, 8361), x: (531, 606) to <input>Input birth year</input> at y: (8329, 8361), x: (606, 798),\n",
       " edge NLEFT weight 0.8303797469459833 from <input>Input birth year</input> at y: (8329, 8361), x: (606, 798) to <label>BirthDate</label> at y: (8329, 8361), x: (531, 606)]"
      ]
     },
     "execution_count": 20,
     "metadata": {},
     "output_type": "execute_result"
    }
   ],
   "source": [
    "relation_graph.edges()"
   ]
  },
  {
   "cell_type": "code",
   "execution_count": null,
   "id": "7df0fa08",
   "metadata": {},
   "outputs": [],
   "source": []
  }
 ],
 "metadata": {
  "kernelspec": {
   "display_name": "Python 3 (ipykernel)",
   "language": "python",
   "name": "python3"
  },
  "language_info": {
   "codemirror_mode": {
    "name": "ipython",
    "version": 3
   },
   "file_extension": ".py",
   "mimetype": "text/x-python",
   "name": "python",
   "nbconvert_exporter": "python",
   "pygments_lexer": "ipython3",
   "version": "3.10.9"
  },
  "toc": {
   "base_numbering": 1,
   "nav_menu": {},
   "number_sections": true,
   "sideBar": true,
   "skip_h1_title": false,
   "title_cell": "Table of Contents",
   "title_sidebar": "Contents",
   "toc_cell": false,
   "toc_position": {},
   "toc_section_display": true,
   "toc_window_display": false
  },
  "varInspector": {
   "cols": {
    "lenName": 16,
    "lenType": 16,
    "lenVar": 40
   },
   "kernels_config": {
    "python": {
     "delete_cmd_postfix": "",
     "delete_cmd_prefix": "del ",
     "library": "var_list.py",
     "varRefreshCmd": "print(var_dic_list())"
    },
    "r": {
     "delete_cmd_postfix": ") ",
     "delete_cmd_prefix": "rm(",
     "library": "var_list.r",
     "varRefreshCmd": "cat(var_dic_list()) "
    }
   },
   "types_to_exclude": [
    "module",
    "function",
    "builtin_function_or_method",
    "instance",
    "_Feature"
   ],
   "window_display": false
  }
 },
 "nbformat": 4,
 "nbformat_minor": 5
}
