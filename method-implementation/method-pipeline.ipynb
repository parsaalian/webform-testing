{
 "cells": [
  {
   "cell_type": "code",
   "execution_count": 1,
   "id": "915a2af9",
   "metadata": {
    "ExecuteTime": {
     "end_time": "2023-06-15T19:24:14.690009Z",
     "start_time": "2023-06-15T19:24:14.654028Z"
    }
   },
   "outputs": [],
   "source": [
    "%load_ext autoreload\n",
    "%autoreload 2"
   ]
  },
  {
   "cell_type": "code",
   "execution_count": 3,
   "id": "6edf3f1c",
   "metadata": {
    "ExecuteTime": {
     "end_time": "2023-06-15T19:38:55.259806Z",
     "start_time": "2023-06-15T19:38:55.130259Z"
    }
   },
   "outputs": [],
   "source": [
    "import os\n",
    "import openai\n",
    "from dotenv import load_dotenv\n",
    "\n",
    "from selenium.webdriver.common.by import By\n",
    "from bs4 import BeautifulSoup as bs\n",
    "\n",
    "\n",
    "from method.ours.utils import create_driver, embed_properties_into_html\n",
    "from method.ours.preprocessing import get_processable_nodes\n",
    "from method.ours.graph_embedding import create_node2vec_model\n",
    "from method.ours.relation_graph import create_relation_graph\n",
    "from method.ours.node_linking import create_base_links\n",
    "from method.ours.similarity import add_similarity_scores_to_graph"
   ]
  },
  {
   "cell_type": "code",
   "execution_count": 4,
   "id": "25fb6bb8",
   "metadata": {
    "ExecuteTime": {
     "end_time": "2023-06-15T19:38:56.335708Z",
     "start_time": "2023-06-15T19:38:56.331446Z"
    }
   },
   "outputs": [],
   "source": [
    "load_dotenv()\n",
    "openai.api_key = os.getenv(\"OPENAI_API_KEY\")\n",
    "\n",
    "# Global Variables\n",
    "HEADLESS = False\n",
    "TEXT_EMBEDDING_METHOD = 'ADA' # ['ADA', 'WORD2VEC', 'SPACY']\n",
    "GRAPH_EMBEDDING_METHOD = 'NODE2VEC' # ['NODE2VEC', 'GCN']"
   ]
  },
  {
   "cell_type": "code",
   "execution_count": 5,
   "id": "837ffb01",
   "metadata": {
    "ExecuteTime": {
     "end_time": "2023-06-15T19:39:02.842074Z",
     "start_time": "2023-06-15T19:38:57.812723Z"
    }
   },
   "outputs": [],
   "source": [
    "driver = create_driver(HEADLESS)\n",
    "driver.get('https://www.aircanada.com/ca/en/aco/home.html')"
   ]
  },
  {
   "cell_type": "code",
   "execution_count": 6,
   "id": "2812c532",
   "metadata": {
    "ExecuteTime": {
     "end_time": "2023-06-15T19:39:18.690124Z",
     "start_time": "2023-06-15T19:39:08.002308Z"
    }
   },
   "outputs": [],
   "source": [
    "# form = driver.find_elements(By.TAG_NAME, 'form')[48]\n",
    "# form = driver.find_element(By.ID, 'register')\n",
    "form = driver.find_elements(By.TAG_NAME, 'form')[1]\n",
    "form = embed_properties_into_html(driver, form)\n",
    "\n",
    "form_doc = bs(form.get_attribute('outerHTML'), 'html.parser')"
   ]
  },
  {
   "cell_type": "code",
   "execution_count": null,
   "id": "7db23425",
   "metadata": {
    "ExecuteTime": {
     "start_time": "2023-06-15T19:39:22.047Z"
    }
   },
   "outputs": [
    {
     "data": {
      "application/vnd.jupyter.widget-view+json": {
       "model_id": "01a91dd6b8dd425e9d4de49f26610cc0",
       "version_major": 2,
       "version_minor": 0
      },
      "text/plain": [
       "Computing transition probabilities:   0%|          | 0/340 [00:00<?, ?it/s]"
      ]
     },
     "metadata": {},
     "output_type": "display_data"
    },
    {
     "name": "stderr",
     "output_type": "stream",
     "text": [
      "\r",
      "Generating walks (CPU: 1):   0%|          | 0/50 [00:00<?, ?it/s]\r",
      "Generating walks (CPU: 2):   0%|          | 0/50 [00:00<?, ?it/s]\r",
      "Generating walks (CPU: 3):   0%|          | 0/50 [00:00<?, ?it/s]\r",
      "Generating walks (CPU: 4):   0%|          | 0/50 [00:00<?, ?it/s]\r",
      "Generating walks (CPU: 1): 100%|██████████| 50/50 [00:00<00:00, 496.30it/s]\r",
      "Generating walks (CPU: 1): 100%|██████████| 50/50 [00:00<00:00, 483.93it/s]\n",
      "\r",
      "Generating walks (CPU: 2):  98%|█████████▊| 49/50 [00:00<00:00, 483.05it/s]\r",
      "Generating walks (CPU: 2): 100%|██████████| 50/50 [00:00<00:00, 461.33it/s]\n",
      "\r",
      "Generating walks (CPU: 3):  92%|█████████▏| 46/50 [00:00<00:00, 451.62it/s]\r",
      "Generating walks (CPU: 3): 100%|██████████| 50/50 [00:00<00:00, 435.07it/s]\n",
      "\r",
      "Generating walks (CPU: 4):  90%|█████████ | 45/50 [00:00<00:00, 441.78it/s]\r",
      "Generating walks (CPU: 4): 100%|██████████| 50/50 [00:00<00:00, 421.23it/s]\n"
     ]
    }
   ],
   "source": [
    "form_processable_nodes = get_processable_nodes(form_doc)\n",
    "node2vec_model = create_node2vec_model(form_doc)"
   ]
  },
  {
   "cell_type": "code",
   "execution_count": 13,
   "id": "99f8a996",
   "metadata": {
    "ExecuteTime": {
     "end_time": "2023-06-15T19:36:16.569259Z",
     "start_time": "2023-06-15T19:36:07.770744Z"
    }
   },
   "outputs": [
    {
     "name": "stderr",
     "output_type": "stream",
     "text": [
      "100%|█████████████████████████████████████████████████████████████████████████████████████████████████████████████████████████████████████| 36/36 [00:08<00:00,  4.14it/s]\n"
     ]
    }
   ],
   "source": [
    "relation_graph = create_relation_graph(form_processable_nodes, TEXT_EMBEDDING_METHOD)\n",
    "relation_graph = create_base_links(relation_graph)\n",
    "relation_graph = add_similarity_scores_to_graph(node2vec_model, relation_graph)"
   ]
  },
  {
   "cell_type": "code",
   "execution_count": 15,
   "id": "f9530d73",
   "metadata": {
    "ExecuteTime": {
     "end_time": "2023-06-15T19:36:48.547847Z",
     "start_time": "2023-06-15T19:36:48.452849Z"
    }
   },
   "outputs": [],
   "source": []
  },
  {
   "cell_type": "code",
   "execution_count": 18,
   "id": "6e719580",
   "metadata": {
    "ExecuteTime": {
     "end_time": "2023-06-15T19:37:24.805823Z",
     "start_time": "2023-06-15T19:37:24.459232Z"
    }
   },
   "outputs": [
    {
     "name": "stderr",
     "output_type": "stream",
     "text": [
      "/Library/Frameworks/Python.framework/Versions/3.10/lib/python3.10/site-packages/openai/embeddings_utils.py:68: RuntimeWarning: invalid value encountered in scalar divide\n",
      "  return np.dot(a, b) / (np.linalg.norm(a) * np.linalg.norm(b))\n"
     ]
    }
   ],
   "source": []
  },
  {
   "cell_type": "code",
   "execution_count": 92,
   "id": "a1eeea3f",
   "metadata": {
    "ExecuteTime": {
     "end_time": "2023-06-15T17:38:07.017497Z",
     "start_time": "2023-06-15T17:38:06.953318Z"
    }
   },
   "outputs": [],
   "source": [
    "def is_input(element):\n",
    "    input_tags = ['input', 'textarea', 'select', 'option', 'button']\n",
    "    return element.name in input_tags\n",
    "\n",
    "\n",
    "def is_label(element):\n",
    "    return element.name == 'label'\n",
    "\n",
    "\n",
    "def is_text(element):\n",
    "    return not is_input(element) and not is_label(element)"
   ]
  },
  {
   "cell_type": "code",
   "execution_count": 93,
   "id": "c4714a0e",
   "metadata": {
    "ExecuteTime": {
     "end_time": "2023-06-15T17:38:07.241419Z",
     "start_time": "2023-06-15T17:38:07.178570Z"
    }
   },
   "outputs": [],
   "source": [
    "# remove <span-wraps> because we are done with them here\n",
    "for edge in relation_graph.edges():\n",
    "    if edge.target.element.name == 'span-wrap':\n",
    "        child = edge.target\n",
    "        relation_graph.remove_edge(edge)\n",
    "        relation_graph.remove_node(child)\n",
    "\n",
    "\n",
    "# remove input-input edges (for now)\n",
    "for edge in relation_graph.edges():\n",
    "    if is_input(edge.source.element) and is_input(edge.target.element):\n",
    "        relation_graph.remove_edge(edge)"
   ]
  },
  {
   "cell_type": "code",
   "execution_count": 94,
   "id": "219a1b0c",
   "metadata": {
    "ExecuteTime": {
     "end_time": "2023-06-15T17:38:07.472814Z",
     "start_time": "2023-06-15T17:38:07.405662Z"
    },
    "scrolled": false
   },
   "outputs": [],
   "source": [
    "from method.ours.relation_graph import RelationEdge, EdgeType\n",
    "\n",
    "\n",
    "for node in relation_graph.nodes():\n",
    "    if is_input(node.element):\n",
    "        continue\n",
    "    if node.element.name == 'label':\n",
    "        edges = list(node.edges.values())\n",
    "        input_edges = list(filter(lambda x: is_input(x.target.element), edges))\n",
    "        sorted_input_edges = sorted(input_edges, key=lambda x: x.weight, reverse=True)\n",
    "        for i in range(1, len(sorted_input_edges)):\n",
    "            relation_graph.remove_edge(sorted_input_edges[i])\n",
    "        \n",
    "        probable_for_edge = sorted_input_edges[0]\n",
    "        if not probable_for_edge.type.value == 'FOR':\n",
    "            probable_for_edge.set_type(EdgeType.PROBABLE_FOR)\n",
    "        \n",
    "        relation_graph.add_edge(RelationEdge(\n",
    "            probable_for_edge.target,\n",
    "            probable_for_edge.source,\n",
    "            probable_for_edge.type,\n",
    "            probable_for_edge.weight\n",
    "        ))"
   ]
  },
  {
   "cell_type": "code",
   "execution_count": 95,
   "id": "8adef4de",
   "metadata": {
    "ExecuteTime": {
     "end_time": "2023-06-15T17:38:09.381344Z",
     "start_time": "2023-06-15T17:38:09.308537Z"
    }
   },
   "outputs": [],
   "source": [
    "from method.ours.relation_graph import EdgeType\n",
    "\n",
    "\n",
    "def is_label_input(edge):\n",
    "    return edge.type.value == 'FOR' or edge.type.value == 'PROBABLE_FOR'\n",
    "\n",
    "\n",
    "def is_child(edge):\n",
    "    return edge.type.value == 'CHILD'\n",
    "\n",
    "\n",
    "scores = []\n",
    "\n",
    "for edge in relation_graph.edges():\n",
    "    if is_label_input(edge) or is_child(edge):\n",
    "        continue\n",
    "    scores.append((edge, edge.weight))\n",
    "\n",
    "mean = np.mean(list(map(lambda x: x[1], scores)))\n",
    "std_dev = np.std(list(map(lambda x: x[1], scores)))\n",
    "\n",
    "# Set the cutoff to be one standard deviation above the mean\n",
    "cutoff = mean + 0.5 * std_dev"
   ]
  },
  {
   "cell_type": "code",
   "execution_count": 96,
   "id": "2f85d52b",
   "metadata": {
    "ExecuteTime": {
     "end_time": "2023-06-15T17:38:09.984508Z",
     "start_time": "2023-06-15T17:38:09.909468Z"
    }
   },
   "outputs": [
    {
     "data": {
      "text/plain": [
       "0.7093221149170539"
      ]
     },
     "execution_count": 96,
     "metadata": {},
     "output_type": "execute_result"
    }
   ],
   "source": [
    "cutoff"
   ]
  },
  {
   "cell_type": "code",
   "execution_count": 97,
   "id": "db2d9443",
   "metadata": {
    "ExecuteTime": {
     "end_time": "2023-06-15T17:38:10.499902Z",
     "start_time": "2023-06-15T17:38:10.431153Z"
    }
   },
   "outputs": [],
   "source": [
    "for edge in relation_graph.edges():\n",
    "    if is_label_input(edge) or is_child(edge):\n",
    "        continue\n",
    "    if edge.weight < cutoff:\n",
    "        relation_graph.remove_edge(edge)"
   ]
  },
  {
   "cell_type": "code",
   "execution_count": 98,
   "id": "3094f87f",
   "metadata": {
    "ExecuteTime": {
     "end_time": "2023-06-15T17:38:10.991939Z",
     "start_time": "2023-06-15T17:38:10.919888Z"
    }
   },
   "outputs": [
    {
     "data": {
      "text/plain": [
       "[edge FOR weight 1 from <label> Round-trip </label> at y: (572, 592), x: (242, 312) to <input>value is R</input> at y: (567, 597), x: (212, 312),\n",
       " edge FOR weight 1 from <label> One-way </label> at y: (572, 592), x: (357, 414) to <input>value is O</input> at y: (567, 597), x: (327, 414),\n",
       " edge FOR weight 1 from <label> Multi-city/Stopover </label> at y: (572, 592), x: (459, 583) to <input>value is M</input> at y: (567, 597), x: (429, 583),\n",
       " edge FOR weight 1 from <label> Book with points </label> at y: (574, 594), x: (675, 898) to <input></input> at y: (574, 594), x: (645, 898),\n",
       " edge FOR weight 1 from <label>From</label> at y: (622, 672), x: (190, 229) to <input></input> at y: (628, 678), x: (190, 458),\n",
       " edge FOR weight 1 from <label>To</label> at y: (628, 678), x: (528, 546) to <input></input> at y: (628, 678), x: (528, 796),\n",
       " edge FOR weight 1 from <label>Departure</label> at y: (628, 678), x: (826, 903) to <input>DD/MM</input> at y: (628, 678), x: (826, 951),\n",
       " edge FOR weight 1 from <label>Return</label> at y: (628, 678), x: (970, 1021) to <input>DD/MM</input> at y: (628, 678), x: (970, 1085),\n",
       " edge CHILD weight 1 from <input>value is R</input> at y: (567, 597), x: (212, 312) to <label> Round-trip </label> at y: (572, 592), x: (242, 312),\n",
       " edge CHILD weight 1 from <input>value is O</input> at y: (567, 597), x: (327, 414) to <label> One-way </label> at y: (572, 592), x: (357, 414),\n",
       " edge CHILD weight 1 from <input>value is M</input> at y: (567, 597), x: (429, 583) to <label> Multi-city/Stopover </label> at y: (572, 592), x: (459, 583),\n",
       " edge CHILD weight 1 from <input></input> at y: (574, 594), x: (645, 898) to <label> Book with points </label> at y: (574, 594), x: (675, 898),\n",
       " edge CHILD weight 1 from <label>To</label> at y: (628, 678), x: (528, 546) to <span>To</span> at y: (628, 678), x: (528, 546),\n",
       " edge CHILD weight 1 from <label>Departure</label> at y: (628, 678), x: (826, 903) to <span>Departure</span> at y: (628, 678), x: (826, 903),\n",
       " edge CHILD weight 1 from <label>Return</label> at y: (628, 678), x: (970, 1021) to <span>Return</span> at y: (628, 678), x: (970, 1021),\n",
       " edge CHILD weight 1 from <label>From</label> at y: (622, 672), x: (190, 229) to <span>From</span> at y: (622, 672), x: (190, 229),\n",
       " edge CHILD weight 1 from <div>1 Adult</div> at y: (682, 701), x: (1134, 1135) to <div>Press Enter or the space bar to open the passenger selection menu, then use tabs to move through the passenger section and complete your selection.</div> at y: (700, 719), x: (1134, 1135),\n",
       " edge CHILD weight 1 from <button> Add promotion code </button> at y: (718, 742), x: (190, 373) to <div> Enter the first three characters of the city, airport, province, state or country/region you are starting from, then use your arrow keys to move up or down the list of airports provided to make your selection. </div> at y: (679, 698), x: (190, 191),\n",
       " edge NRIGHT weight 0.8965051949839533 from <span>Vancouver </span> at y: (650, 672), x: (190, 273) to <span>YVR</span> at y: (650, 672), x: (274, 302),\n",
       " edge NLEFT weight 0.8965051949839533 from <span>YVR</span> at y: (650, 672), x: (274, 302) to <span>Vancouver </span> at y: (650, 672), x: (190, 273),\n",
       " edge NRIGHT weight 0.8701292872428894 from <input></input> at y: (628, 678), x: (528, 796) to <label>To</label> at y: (628, 678), x: (528, 546),\n",
       " edge NRIGHT weight 0.8188814646040246 from <input>DD/MM</input> at y: (628, 678), x: (826, 951) to <label>Departure</label> at y: (628, 678), x: (826, 903),\n",
       " edge NRIGHT weight 0.8232515633746434 from <input>DD/MM</input> at y: (628, 678), x: (970, 1085) to <label>Return</label> at y: (628, 678), x: (970, 1021),\n",
       " edge NBOTTOM weight 0.7423753142356873 from <input></input> at y: (628, 678), x: (190, 458) to <label>From</label> at y: (622, 672), x: (190, 229),\n",
       " edge NBOTTOM weight 0.7850521083468436 from <button>Passenger(s) 1 Adult </button> at y: (628, 680), x: (1136, 1331) to <span>Passenger(s)</span> at y: (623, 673), x: (1136, 1230),\n",
       " edge NTOP weight 0.7850521083468436 from <span>Passenger(s)</span> at y: (623, 673), x: (1136, 1230) to <button>Passenger(s) 1 Adult </button> at y: (628, 680), x: (1136, 1331),\n",
       " edge FOR weight 1 from <input>value is R</input> at y: (567, 597), x: (212, 312) to <label> Round-trip </label> at y: (572, 592), x: (242, 312),\n",
       " edge FOR weight 1 from <input>value is O</input> at y: (567, 597), x: (327, 414) to <label> One-way </label> at y: (572, 592), x: (357, 414),\n",
       " edge FOR weight 1 from <input>value is M</input> at y: (567, 597), x: (429, 583) to <label> Multi-city/Stopover </label> at y: (572, 592), x: (459, 583),\n",
       " edge FOR weight 1 from <input></input> at y: (574, 594), x: (645, 898) to <label> Book with points </label> at y: (574, 594), x: (675, 898),\n",
       " edge FOR weight 1 from <input></input> at y: (628, 678), x: (190, 458) to <label>From</label> at y: (622, 672), x: (190, 229),\n",
       " edge FOR weight 1 from <input></input> at y: (628, 678), x: (528, 796) to <label>To</label> at y: (628, 678), x: (528, 546),\n",
       " edge FOR weight 1 from <input>DD/MM</input> at y: (628, 678), x: (826, 951) to <label>Departure</label> at y: (628, 678), x: (826, 903),\n",
       " edge FOR weight 1 from <input>DD/MM</input> at y: (628, 678), x: (970, 1085) to <label>Return</label> at y: (628, 678), x: (970, 1021)]"
      ]
     },
     "execution_count": 98,
     "metadata": {},
     "output_type": "execute_result"
    }
   ],
   "source": [
    "relation_graph.edges()"
   ]
  },
  {
   "cell_type": "markdown",
   "id": "eddb8093",
   "metadata": {},
   "source": [
    "# Create Global Connections"
   ]
  },
  {
   "cell_type": "code",
   "execution_count": 197,
   "id": "32868c70",
   "metadata": {
    "ExecuteTime": {
     "end_time": "2023-06-15T18:06:59.756966Z",
     "start_time": "2023-06-15T18:06:59.658009Z"
    }
   },
   "outputs": [],
   "source": [
    "'''def append_if_not_in_list(groups, node_to_index, node):\n",
    "    idx = max(groups.keys()) + 1 if len(groups.keys()) > 0 else 0\n",
    "    if node_to_index[node] == -1:\n",
    "        groups[idx] = [node]\n",
    "        node_to_index[node] = idx\n",
    "\n",
    "\n",
    "def merge_subgraphs(groups, node_to_index, idx1, idx2):\n",
    "    merge_at = min(idx1, idx2)\n",
    "    remove_at = max(idx1, idx2)\n",
    "    sub1, sub2 = groups[idx1], groups[idx2]\n",
    "    merged = [*sub1, *sub2]\n",
    "    groups[merge_at] = merged\n",
    "    groups.pop(remove_at)\n",
    "    for node in merged:\n",
    "        node_to_index[node] = merge_at\n",
    "    return groups\n",
    "\n",
    "\n",
    "def create_subgraph_groups(nodes, edges):\n",
    "    groups = {}\n",
    "    node_to_index = {}\n",
    "    \n",
    "    for node in nodes:\n",
    "        node_to_index[node] = -1\n",
    "    \n",
    "    for node, idx in node_to_index.items():\n",
    "        append_if_not_in_list(groups, node_to_index, node)\n",
    "    \n",
    "    for edge in edges:\n",
    "        source_idx = node_to_index[edge.source]\n",
    "        target_idx = node_to_index[edge.target]\n",
    "        if source_idx == target_idx:\n",
    "            continue\n",
    "        groups = merge_subgraphs(groups, node_to_index, source_idx, target_idx)    \n",
    "    \n",
    "    return groups'''\n",
    "\n",
    "\n",
    "from method.ours.embedding_distance import get_text_similarity, combined_similarity\n",
    "\n",
    "\n",
    "class InputGroupNode:\n",
    "    def __init__(self, input_node):\n",
    "        self.node = input_node\n",
    "        self.label = self._get_label(input_node)\n",
    "        self.group = self._form_group(input_node)\n",
    "        self.edges = []\n",
    "    \n",
    "    \n",
    "    def add_edge(self, other_group, weight):\n",
    "        self.edges.append((other_group, weight))\n",
    "    \n",
    "    \n",
    "    def _get_label(self, node):\n",
    "        candidate_label = list(filter(\n",
    "            lambda x: is_label(x.target.element) and 'FOR' in x.type.value,\n",
    "            node.edges.values()\n",
    "        ))\n",
    "        if len(candidate_label) > 0:\n",
    "            return candidate_label[0].target\n",
    "        return None\n",
    "    \n",
    "    \n",
    "    def _form_group(self, node):\n",
    "        # TODO: refactor\n",
    "        group = []\n",
    "        for edge in node.edges.values():\n",
    "            group.append(edge.target)\n",
    "            if is_label(edge.target.element):\n",
    "                for label_edge in edge.target.edges.values():\n",
    "                    if not is_input(label_edge.target.element):\n",
    "                        group.append(label_edge.target)\n",
    "        group = filter(lambda x: not is_label(x.element), group)\n",
    "        return list(set(group))\n",
    "    \n",
    "    \n",
    "    def get_similarity(self, other_group):\n",
    "        input_sim = combined_similarity(node2vec_model, self.node, other_group.node)\n",
    "        label_sim = None\n",
    "        if self.label is not None and other_group.label is not None:\n",
    "            label_sim = combined_similarity(node2vec_model, self.label, other_group.label)\n",
    "        return max(input_sim, label_sim or 0)"
   ]
  },
  {
   "cell_type": "code",
   "execution_count": 198,
   "id": "de23d77f",
   "metadata": {
    "ExecuteTime": {
     "end_time": "2023-06-15T18:07:00.343166Z",
     "start_time": "2023-06-15T18:07:00.252273Z"
    }
   },
   "outputs": [],
   "source": [
    "input_groups = []\n",
    "input_elements = filter(lambda x: is_input(x.element), relation_graph.nodes())\n",
    "\n",
    "for input_element in input_elements:\n",
    "    input_groups.append(InputGroupNode(input_element))"
   ]
  },
  {
   "cell_type": "code",
   "execution_count": 199,
   "id": "86aa7a93",
   "metadata": {
    "ExecuteTime": {
     "end_time": "2023-06-15T18:07:01.352009Z",
     "start_time": "2023-06-15T18:07:00.927864Z"
    }
   },
   "outputs": [],
   "source": [
    "scores = []\n",
    "\n",
    "for i in range(len(input_groups)):\n",
    "    for j in range(i + 1, len(input_groups)):\n",
    "        score = input_groups[i].get_similarity(input_groups[j])\n",
    "        scores.append(score)"
   ]
  },
  {
   "cell_type": "code",
   "execution_count": 200,
   "id": "fa42d2eb",
   "metadata": {
    "ExecuteTime": {
     "end_time": "2023-06-15T18:07:01.688770Z",
     "start_time": "2023-06-15T18:07:01.594489Z"
    }
   },
   "outputs": [
    {
     "data": {
      "text/plain": [
       "[0.8185127966654819,\n",
       " 0.8354747215453431,\n",
       " 0.5337760715473836,\n",
       " 0.560251043192448,\n",
       " 0.5383677950013455,\n",
       " 0.6122490231564008,\n",
       " 0.5915530685951673,\n",
       " 0.502083232511667,\n",
       " 0.565117916446097,\n",
       " 0.5544095638014083,\n",
       " 0.8302621913108069,\n",
       " 0.504845711190959,\n",
       " 0.5684613510159877,\n",
       " 0.5697884795999151,\n",
       " 0.603912465162541,\n",
       " 0.6122736259176985,\n",
       " 0.5213759457482057,\n",
       " 0.5625488987136568,\n",
       " 0.5505762469818876,\n",
       " 0.509140754933852,\n",
       " 0.5406334210058701,\n",
       " 0.5416171712432807,\n",
       " 0.6111800703822929,\n",
       " 0.613000440937217,\n",
       " 0.5234091647431388,\n",
       " 0.5773531638109726,\n",
       " 0.5579346358077801,\n",
       " 0.5505653863470682,\n",
       " 0.5235944696053949,\n",
       " 0.5633576102544491,\n",
       " 0.5226595328755418,\n",
       " 0.36182138,\n",
       " 0.4272264,\n",
       " 0.42160055,\n",
       " 0.6535252319982527,\n",
       " 0.6097240846528329,\n",
       " 0.6168321374500301,\n",
       " 0.37536594,\n",
       " 0.4153875,\n",
       " 0.35677257,\n",
       " 0.5837818129688241,\n",
       " 0.6172661234631519,\n",
       " 0.4204767,\n",
       " 0.34201366,\n",
       " 0.3214908,\n",
       " 0.6814585477113723,\n",
       " 0.5327481134583556,\n",
       " 0.5599033121597641,\n",
       " 0.5468414459180814,\n",
       " 0.5815896644045913,\n",
       " 0.5526980195772522,\n",
       " 0.519042361135481,\n",
       " 0.581793088071731,\n",
       " 0.5280269810574136,\n",
       " 0.5350969298462387]"
      ]
     },
     "execution_count": 200,
     "metadata": {},
     "output_type": "execute_result"
    }
   ],
   "source": [
    "scores"
   ]
  },
  {
   "cell_type": "code",
   "execution_count": 201,
   "id": "16a01726",
   "metadata": {
    "ExecuteTime": {
     "end_time": "2023-06-15T18:07:02.466875Z",
     "start_time": "2023-06-15T18:07:02.378038Z"
    }
   },
   "outputs": [],
   "source": [
    "import numpy as np"
   ]
  },
  {
   "cell_type": "code",
   "execution_count": 202,
   "id": "76fabcb2",
   "metadata": {
    "ExecuteTime": {
     "end_time": "2023-06-15T18:07:03.030389Z",
     "start_time": "2023-06-15T18:07:02.939843Z"
    }
   },
   "outputs": [],
   "source": [
    "non_zero_scores = list(filter(lambda x: x != 0, map(lambda x: x, scores)))"
   ]
  },
  {
   "cell_type": "code",
   "execution_count": 203,
   "id": "32a7567b",
   "metadata": {
    "ExecuteTime": {
     "end_time": "2023-06-15T18:07:03.573137Z",
     "start_time": "2023-06-15T18:07:03.483255Z"
    }
   },
   "outputs": [],
   "source": [
    "mean = np.mean(non_zero_scores)\n",
    "std_dev = np.std(non_zero_scores)\n",
    "\n",
    "# Set the cutoff to be one standard deviation above the mean\n",
    "cutoff = mean + 0.5 * std_dev"
   ]
  },
  {
   "cell_type": "code",
   "execution_count": 204,
   "id": "7f7dba93",
   "metadata": {
    "ExecuteTime": {
     "end_time": "2023-06-15T18:07:04.321619Z",
     "start_time": "2023-06-15T18:07:04.222248Z"
    }
   },
   "outputs": [
    {
     "name": "stdout",
     "output_type": "stream",
     "text": [
      "0.5493230788020325\n",
      "0.10224211897106411\n",
      "0.6004441382875645\n"
     ]
    }
   ],
   "source": [
    "print(mean)\n",
    "print(std_dev)\n",
    "print(cutoff)"
   ]
  },
  {
   "cell_type": "code",
   "execution_count": 205,
   "id": "97770ae4",
   "metadata": {
    "ExecuteTime": {
     "end_time": "2023-06-15T18:07:05.484261Z",
     "start_time": "2023-06-15T18:07:05.080492Z"
    }
   },
   "outputs": [],
   "source": [
    "for i in range(len(input_groups)):\n",
    "    for j in range(i + 1, len(input_groups)):\n",
    "        score = input_groups[i].get_similarity(input_groups[j])\n",
    "        if score < cutoff:\n",
    "            continue\n",
    "        input_groups[i].add_edge(input_groups[j], score)\n",
    "        input_groups[j].add_edge(input_groups[i], score)"
   ]
  },
  {
   "cell_type": "code",
   "execution_count": 208,
   "id": "0e358c93",
   "metadata": {
    "ExecuteTime": {
     "end_time": "2023-06-15T18:07:33.577495Z",
     "start_time": "2023-06-15T18:07:33.484739Z"
    }
   },
   "outputs": [
    {
     "name": "stdout",
     "output_type": "stream",
     "text": [
      "<label> One-way </label> at y: (572, 592), x: (357, 414) 0.8185127966654819\n",
      "<label> Multi-city/Stopover </label> at y: (572, 592), x: (459, 583) 0.8354747215453431\n",
      "<label>Departure</label> at y: (628, 678), x: (826, 903) 0.6122490231564008\n"
     ]
    }
   ],
   "source": [
    "for edge in input_groups[0].edges:\n",
    "    print(edge[0].label, edge[1])"
   ]
  },
  {
   "cell_type": "code",
   "execution_count": 96,
   "id": "ee316c79",
   "metadata": {
    "ExecuteTime": {
     "end_time": "2023-06-13T00:08:06.067881Z",
     "start_time": "2023-06-13T00:08:05.977959Z"
    }
   },
   "outputs": [],
   "source": [
    "messages = [\n",
    "    {\n",
    "        'role': 'system',\n",
    "        'content': '''\n",
    "        Your task is to generate a set of assertions for form fields. The list of the assertions and their signatures is as following:\n",
    "\n",
    "        1. toBeEqual(value) # for any input type\n",
    "        2. toHaveLengthCondition(condition, value) # for textual inputs\n",
    "        3. toBeTruthy() # for boolean inputs\n",
    "        4. toHaveCondition(condition, value) # for numeric or date inputs\n",
    "        5. toBeEmpty() # for any input type\n",
    "        6. toMatch(regexPattern) # for textual inputs\n",
    "\n",
    "        generate conditions in the as the sample:\n",
    "\n",
    "        # sample\n",
    "        expect(field('username'))\n",
    "        .toHaveLengthCondition('>', 8)\n",
    "        .toHaveLengthCondition('<', 50)\n",
    "        .not.toBeEmpty()\n",
    "        # end of sample\n",
    "\n",
    "        if there are multiple inputs that should have the relation with each other, you can use a format such as:\n",
    "\n",
    "        # sample\n",
    "        expect(field('password'))\n",
    "        .toBe(field('confirm password'))\n",
    "        # end of sample\n",
    "\n",
    "        Only generate the assertions and nothing else. Only generate assertions for the inputs in question, and not the ones in the relevant information section.\n",
    "        '''\n",
    "    },\n",
    "    {\n",
    "        'role': 'user',\n",
    "        'content': \"\"\"\n",
    "            We are filling the following field in the form:\n",
    "            <input id=\"register_password\" aria-required=\"true\" type=\"password\" class=\"ant-input css-dfjnss\">\n",
    "\n",
    "            The relevant information available in the form are (in order of relevance):\n",
    "            1. <label for=\"register_password\" class=\"ant-form-item-required\" title=\"Password\">Password</label>\n",
    "            2. <input id=\"register_confirm\" aria-required=\"true\" type=\"password\" class=\"ant-input css-dfjnss\">\n",
    "            3. <label for=\"register_confirm\" class=\"ant-form-item-required\" title=\"Confirm Password\">Confirm Password</label>\n",
    "        \"\"\"\n",
    "    }\n",
    "]"
   ]
  },
  {
   "cell_type": "code",
   "execution_count": 97,
   "id": "75db4b8e",
   "metadata": {
    "ExecuteTime": {
     "end_time": "2023-06-13T00:08:16.089960Z",
     "start_time": "2023-06-13T00:08:07.365991Z"
    }
   },
   "outputs": [],
   "source": [
    "response = openai.ChatCompletion.create(\n",
    "    # model='gpt-3.5-turbo',\n",
    "    model='gpt-4',\n",
    "    messages=messages,\n",
    "    temperature=0.5,\n",
    ")"
   ]
  },
  {
   "cell_type": "code",
   "execution_count": 98,
   "id": "734a19eb",
   "metadata": {
    "ExecuteTime": {
     "end_time": "2023-06-13T00:08:16.478459Z",
     "start_time": "2023-06-13T00:08:16.413323Z"
    },
    "scrolled": true
   },
   "outputs": [
    {
     "name": "stdout",
     "output_type": "stream",
     "text": [
      "expect(field('register_password'))\n",
      ".toHaveLengthCondition('>', 8)\n",
      ".toHaveLengthCondition('<', 50)\n",
      ".not.toBeEmpty()\n",
      ".toMatch(/^(?=.*[a-z])(?=.*[A-Z])(?=.*\\d)[a-zA-Z\\d]{8,50}$/)\n",
      "\n",
      "expect(field('register_password'))\n",
      ".toBe(field('register_confirm'))\n"
     ]
    }
   ],
   "source": [
    "response_text = response.choices[0].message.content\n",
    "print(response_text)"
   ]
  },
  {
   "cell_type": "code",
   "execution_count": null,
   "id": "a783e724",
   "metadata": {},
   "outputs": [],
   "source": []
  }
 ],
 "metadata": {
  "kernelspec": {
   "display_name": "Python 3 (ipykernel)",
   "language": "python",
   "name": "python3"
  },
  "language_info": {
   "codemirror_mode": {
    "name": "ipython",
    "version": 3
   },
   "file_extension": ".py",
   "mimetype": "text/x-python",
   "name": "python",
   "nbconvert_exporter": "python",
   "pygments_lexer": "ipython3",
   "version": "3.10.9"
  },
  "toc": {
   "base_numbering": 1,
   "nav_menu": {},
   "number_sections": true,
   "sideBar": true,
   "skip_h1_title": false,
   "title_cell": "Table of Contents",
   "title_sidebar": "Contents",
   "toc_cell": false,
   "toc_position": {},
   "toc_section_display": true,
   "toc_window_display": false
  },
  "varInspector": {
   "cols": {
    "lenName": 16,
    "lenType": 16,
    "lenVar": 40
   },
   "kernels_config": {
    "python": {
     "delete_cmd_postfix": "",
     "delete_cmd_prefix": "del ",
     "library": "var_list.py",
     "varRefreshCmd": "print(var_dic_list())"
    },
    "r": {
     "delete_cmd_postfix": ") ",
     "delete_cmd_prefix": "rm(",
     "library": "var_list.r",
     "varRefreshCmd": "cat(var_dic_list()) "
    }
   },
   "types_to_exclude": [
    "module",
    "function",
    "builtin_function_or_method",
    "instance",
    "_Feature"
   ],
   "window_display": false
  }
 },
 "nbformat": 4,
 "nbformat_minor": 5
}
