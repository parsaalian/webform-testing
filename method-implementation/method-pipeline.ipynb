{
 "cells": [
  {
   "cell_type": "code",
   "execution_count": 1,
   "id": "d229fc1e",
   "metadata": {
    "ExecuteTime": {
     "end_time": "2023-06-19T18:52:47.648976Z",
     "start_time": "2023-06-19T18:52:47.574430Z"
    }
   },
   "outputs": [],
   "source": [
    "%load_ext autoreload\n",
    "%autoreload 2"
   ]
  },
  {
   "cell_type": "code",
   "execution_count": 2,
   "id": "6edf3f1c",
   "metadata": {
    "ExecuteTime": {
     "end_time": "2023-06-19T18:53:02.422169Z",
     "start_time": "2023-06-19T18:52:48.378720Z"
    }
   },
   "outputs": [],
   "source": [
    "import os\n",
    "import time\n",
    "import openai\n",
    "from dotenv import load_dotenv\n",
    "\n",
    "from selenium.webdriver.common.by import By\n",
    "from bs4 import BeautifulSoup as bs\n",
    "\n",
    "from method.ours.utils import create_driver, embed_properties_into_html\n",
    "from method.ours.preprocessing import get_processable_nodes\n",
    "from method.ours.graph_embedding import create_node2vec_model\n",
    "from method.ours.relation_graph import create_relation_graph\n",
    "from method.ours.node_linking import create_base_links\n",
    "from method.ours.similarity import add_similarity_scores_to_graph\n",
    "from method.ours.edge_pruning import (\n",
    "    prune_relation_graph_extra_edges,\n",
    "    prune_low_score_uncertain_edges\n",
    ")\n",
    "from method.ours.input_group import (\n",
    "    create_input_groups,\n",
    "    prune_low_score_group_relations\n",
    ")"
   ]
  },
  {
   "cell_type": "code",
   "execution_count": 3,
   "id": "25fb6bb8",
   "metadata": {
    "ExecuteTime": {
     "end_time": "2023-06-19T18:53:03.417070Z",
     "start_time": "2023-06-19T18:53:03.348044Z"
    }
   },
   "outputs": [],
   "source": [
    "load_dotenv()\n",
    "openai.api_key = os.getenv(\"OPENAI_API_KEY\")\n",
    "\n",
    "# Global Variables\n",
    "HEADLESS = False\n",
    "TEXT_EMBEDDING_METHOD = 'ADA' # ['ADA', 'WORD2VEC', 'SPACY']\n",
    "GRAPH_EMBEDDING_METHOD = 'NODE2VEC' # ['NODE2VEC', 'GCN']"
   ]
  },
  {
   "cell_type": "code",
   "execution_count": 4,
   "id": "837ffb01",
   "metadata": {
    "ExecuteTime": {
     "end_time": "2023-06-19T18:53:09.653741Z",
     "start_time": "2023-06-19T18:53:04.713036Z"
    }
   },
   "outputs": [
    {
     "name": "stderr",
     "output_type": "stream",
     "text": [
      "[WDM] - Downloading: 100%|███████████████████████████████████████████████████████████████████████████████████████████████████████████| 8.29M/8.29M [00:00<00:00, 11.3MB/s]\n"
     ]
    }
   ],
   "source": [
    "driver = create_driver(HEADLESS)\n",
    "driver.get('https://www.aircanada.com/ca/en/aco/home.html')"
   ]
  },
  {
   "cell_type": "code",
   "execution_count": 5,
   "id": "2812c532",
   "metadata": {
    "ExecuteTime": {
     "end_time": "2023-06-19T18:53:10.982648Z",
     "start_time": "2023-06-19T18:53:10.619958Z"
    }
   },
   "outputs": [],
   "source": [
    "# form = driver.find_elements(By.TAG_NAME, 'form')[48]\n",
    "# form = driver.find_element(By.ID, 'register')\n",
    "form = driver.find_elements(By.TAG_NAME, 'form')[1]"
   ]
  },
  {
   "cell_type": "markdown",
   "id": "fb732540",
   "metadata": {},
   "source": [
    "# Processing"
   ]
  },
  {
   "cell_type": "code",
   "execution_count": 6,
   "id": "7db23425",
   "metadata": {
    "ExecuteTime": {
     "end_time": "2023-06-19T18:54:10.981343Z",
     "start_time": "2023-06-19T18:53:39.617151Z"
    }
   },
   "outputs": [
    {
     "data": {
      "application/vnd.jupyter.widget-view+json": {
       "model_id": "019e047a057148c28004b8e683b2fc8c",
       "version_major": 2,
       "version_minor": 0
      },
      "text/plain": [
       "Computing transition probabilities:   0%|          | 0/340 [00:00<?, ?it/s]"
      ]
     },
     "metadata": {},
     "output_type": "display_data"
    },
    {
     "name": "stderr",
     "output_type": "stream",
     "text": [
      "Generating walks (CPU: 1): 100%|██████████| 50/50 [00:00<00:00, 885.58it/s]\n",
      "Generating walks (CPU: 2): 100%|██████████| 50/50 [00:00<00:00, 879.18it/s]\n",
      "Generating walks (CPU: 3): 100%|██████████| 50/50 [00:00<00:00, 875.40it/s]\n",
      "Generating walks (CPU: 4): 100%|██████████| 50/50 [00:00<00:00, 834.46it/s]\n",
      "100%|█████████████████████████████████████████████████████████████████████████████████████████████████████████████████████████████████████| 36/36 [00:08<00:00,  4.09it/s]\n",
      "/Library/Frameworks/Python.framework/Versions/3.10/lib/python3.10/site-packages/openai/embeddings_utils.py:68: RuntimeWarning: invalid value encountered in scalar divide\n",
      "  return np.dot(a, b) / (np.linalg.norm(a) * np.linalg.norm(b))\n"
     ]
    }
   ],
   "source": [
    "# def parse_form(form):\n",
    "form = embed_properties_into_html(driver, form)\n",
    "form_doc = bs(form.get_attribute('outerHTML'), 'html.parser')\n",
    "\n",
    "form_processable_nodes = get_processable_nodes(form_doc)\n",
    "node2vec_model = create_node2vec_model(form_doc)\n",
    "\n",
    "relation_graph = create_relation_graph(form_processable_nodes, TEXT_EMBEDDING_METHOD)\n",
    "\n",
    "relation_graph = create_base_links(relation_graph)\n",
    "\n",
    "relation_graph = add_similarity_scores_to_graph(node2vec_model, relation_graph)\n",
    "\n",
    "relation_graph = prune_relation_graph_extra_edges(relation_graph)\n",
    "relation_graph = prune_low_score_uncertain_edges(relation_graph, factor=0.5)\n",
    "\n",
    "input_groups = create_input_groups(relation_graph)\n",
    "input_groups = prune_low_score_group_relations(input_groups, node2vec_model, factor=0.5)\n",
    "# return input_groups"
   ]
  },
  {
   "cell_type": "code",
   "execution_count": 7,
   "id": "69dd1802",
   "metadata": {
    "ExecuteTime": {
     "end_time": "2023-06-19T18:54:37.326013Z",
     "start_time": "2023-06-19T18:54:37.249493Z"
    }
   },
   "outputs": [],
   "source": [
    "# t0 = time.time()\n",
    "# input_groups = parse_form(form)\n",
    "# print('running time:', time.time() - t0)"
   ]
  },
  {
   "cell_type": "markdown",
   "id": "ae893850",
   "metadata": {},
   "source": [
    "# Generation"
   ]
  },
  {
   "cell_type": "code",
   "execution_count": 19,
   "id": "22f9c108",
   "metadata": {
    "ExecuteTime": {
     "end_time": "2023-06-19T19:17:32.175993Z",
     "start_time": "2023-06-19T19:17:32.095458Z"
    }
   },
   "outputs": [],
   "source": [
    "from method.ours.constraints import (\n",
    "    ConstraintFactory,\n",
    "    create_constraint_generation_prompt,\n",
    "    generate_constraints_with_llm\n",
    ")\n",
    "from method.ours.values import (\n",
    "    create_value_generation_prompt,\n",
    "    generate_values_with_llm,\n",
    ")"
   ]
  },
  {
   "cell_type": "code",
   "execution_count": 9,
   "id": "74bdad88",
   "metadata": {
    "ExecuteTime": {
     "end_time": "2023-06-19T18:55:10.892724Z",
     "start_time": "2023-06-19T18:55:10.822436Z"
    }
   },
   "outputs": [
    {
     "data": {
      "text/plain": [
       "<input aria-describedby=\"bkmgFlights_travelDates_1DatepickerSrHelperText\" aria-disabled=\"false\" aria-invalid=\"false\" aria-label=\"Return\" autocomplete=\"off\" autocorrect=\"off\" class=\"abc-form-element-input abc-form-element-main text-transform-none ng-untouched ng-pristine ng-valid ng-star-inserted\" id=\"bkmgFlights_travelDates_1-formfield-2\" name=\"bkmgFlights_travelDates_1-formfield-2\" placeholder=\"DD/MM\" spellcheck=\"false\" type=\"text\" x_end=\"1093\" x_start=\"978\" xpath=\"//BODY/AC-WEB-APP[1]/DIV[1]/MAIN[1]/DIV[1]/AC-ACOHOME-PAGE[1]/DIV[1]/DIV[1]/AC-BOOKING-MAGNET[1]/DIV[1]/DIV[1]/DIV[1]/DIV[2]/AC-BKMG-FLIGHTS-TAB[1]/DIV[1]/FORM[1]/FIELDSET[1]/DIV[1]/DIV[1]/DIV[1]/ABC-DATE-PICKER[1]/DIV[1]/DIV[1]/ABC-INPUT[2]/ABC-FORM-ELEMENT-CONTAINER[1]/DIV[1]/DIV[1]/DIV[1]/DIV[1]/DIV[1]/INPUT[1]\" y_end=\"678\" y_start=\"628\"/>"
      ]
     },
     "execution_count": 9,
     "metadata": {},
     "output_type": "execute_result"
    }
   ],
   "source": [
    "input_group = input_groups[8]\n",
    "input_group.node.element"
   ]
  },
  {
   "cell_type": "code",
   "execution_count": 13,
   "id": "79552389",
   "metadata": {
    "ExecuteTime": {
     "end_time": "2023-06-19T18:56:17.773706Z",
     "start_time": "2023-06-19T18:56:17.663632Z"
    }
   },
   "outputs": [
    {
     "name": "stdout",
     "output_type": "stream",
     "text": [
      "input: <input id=\"bkmgFlights_travelDates_1-formfield-2\" name=\"bkmgFlights_travelDates_1-formfield-2\" type=\"text\"/>\n",
      "with label: Return\n",
      "with the following relevant text tags:\n",
      "<span>Return</span>\n",
      "\n",
      "    The relevant information available in the form are (in order of relevance):\n",
      "    1.\n",
      "input: <input id=\"bkmgFlights_travelDates_1-formfield-1\" name=\"bkmgFlights_travelDates_1-formfield-1\" type=\"text\"/>\n",
      "with label: Departure\n",
      "2.\n",
      "input: <input id=\"bkmgFlights_destination_trip_1\" name=\"bkmgFlights_destination_trip_1\" type=\"text\"/>\n",
      "with label: To\n",
      "3.\n",
      "input: <input id=\"bkmgFlights_tripTypeSelector_M\" name=\"tripType\" type=\"radio\"/>\n",
      "with label: Multi-city/Stopover\n"
     ]
    }
   ],
   "source": [
    "constraint_user_prompt = create_constraint_generation_prompt(input_group)\n",
    "print(constraint_user_prompt)"
   ]
  },
  {
   "cell_type": "code",
   "execution_count": 14,
   "id": "59a898e4",
   "metadata": {
    "ExecuteTime": {
     "end_time": "2023-06-19T18:57:18.699351Z",
     "start_time": "2023-06-19T18:57:09.555048Z"
    }
   },
   "outputs": [
    {
     "name": "stdout",
     "output_type": "stream",
     "text": [
      " \u001b[0m Prompt: [\n",
      "  {\n",
      "    \"role\": \"system\",\n",
      "    \"content\": \"\\nYour task is to generate a set of constraints for form fields. Your decisions must be made independently without seeking user assistance or additional information.\\n\\nThe list of the constraints and their signatures is as follows:\\n\\n1. toBe(value) # the input field value exactly matches the given value\\n2. toHaveLengthCondition(condition, value) # the length of the input field value matches the given condition\\n3. toBeTruthy() # the input field value is truthy and not empty (not false, 0, '', null, undefined, or NaN)\\n4. toHaveCompareCondition(condition, value) # the input field value has the given condition to the given value\\n5. toContainSubstr(value) # the input field value contains a specific string\\n6. toContainChar(value) # the input field value contains a specific character\\n7. toBeAlpha() # the input field value is alphabetic\\n8. toBeNumeric() # the input field value is numeric\\n9. toBeAlphaNumeric() # the input value contains both alphabetical and numeric characters\\n10. toHaveUpperCase() # the input value field contains upper case characters\\n11. toHaveSpecialChars() # the input value field contains special characters\\n12. toHaveWhiteSpace() # the input value field contains whitespace\\n13. toStartWith(value) # the input value field must start with a certain value\\n14. toEndWith(value) # the input value field must end with a certain value\\n15. toMatch(regex) # the input value field must match a certain regex pattern\\n\\ngenerate conditions in the as the sample:\\n\\n# sample\\nexpect(field('password'))\\n.toHaveLengthCondition('>', 8)\\n.toHaveLengthCondition('<', 50)\\n.toBeAlphaNumeric()\\n.toHaveUpperCase()\\n.toHaveSpecialChars()\\n.not.toBeTruthy()\\n.toBeExactlyEqual(field('confirm password'))\\n# end of sample\\n\\nIf there are multiple ways to express constraints, use the one with the least number of constraints to describe it.\\nOnly generate the constraints and don't explain your answers.\\nOnly generate constraints for the inputs in question, not those in the relevant information section.\\n\"\n",
      "  },\n",
      "  {\n",
      "    \"role\": \"user\",\n",
      "    \"content\": \"\\n            We are generating constraints for the following input field:\\n            input: <input id=\\\"bkmgFlights_travelDates_1-formfield-2\\\" name=\\\"bkmgFlights_travelDates_1-formfield-2\\\" type=\\\"text\\\"/>\\nwith label: Return\\nwith the following relevant text tags:\\n<span>Return</span>\\n\\n    The relevant information available in the form are (in order of relevance):\\n    1.\\ninput: <input id=\\\"bkmgFlights_travelDates_1-formfield-1\\\" name=\\\"bkmgFlights_travelDates_1-formfield-1\\\" type=\\\"text\\\"/>\\nwith label: Departure\\n2.\\ninput: <input id=\\\"bkmgFlights_destination_trip_1\\\" name=\\\"bkmgFlights_destination_trip_1\\\" type=\\\"text\\\"/>\\nwith label: To\\n3.\\ninput: <input id=\\\"bkmgFlights_tripTypeSelector_M\\\" name=\\\"tripType\\\" type=\\\"radio\\\"/>\\nwith label: Multi-city/Stopover\\n            \"\n",
      "  }\n",
      "]\n",
      " \u001b[0m Response: {\n",
      "  \"choices\": [\n",
      "    {\n",
      "      \"finish_reason\": \"stop\",\n",
      "      \"index\": 0,\n",
      "      \"message\": {\n",
      "        \"content\": \"expect(field('bkmgFlights_travelDates_1-formfield-2'))\\n.toBeTruthy()\\n.toHaveCompareCondition('>', field('bkmgFlights_travelDates_1-formfield-1'))\",\n",
      "        \"role\": \"assistant\"\n",
      "      }\n",
      "    }\n",
      "  ],\n",
      "  \"created\": 1687201030,\n",
      "  \"id\": \"chatcmpl-7TELmoQLzgSLKdvggwumvMQauaG9H\",\n",
      "  \"model\": \"gpt-4-0314\",\n",
      "  \"object\": \"chat.completion\",\n",
      "  \"usage\": {\n",
      "    \"completion_tokens\": 40,\n",
      "    \"prompt_tokens\": 650,\n",
      "    \"total_tokens\": 690\n",
      "  }\n",
      "}\n",
      " \u001b[0m Total running cost: $0.022\n"
     ]
    }
   ],
   "source": [
    "generated_constraints = generate_constraints_with_llm(\n",
    "    constraint_user_prompt,\n",
    "    openai_api_key=openai.api_key\n",
    ")"
   ]
  },
  {
   "cell_type": "code",
   "execution_count": 17,
   "id": "85d70a1f",
   "metadata": {
    "ExecuteTime": {
     "end_time": "2023-06-19T18:59:45.693146Z",
     "start_time": "2023-06-19T18:59:45.613069Z"
    }
   },
   "outputs": [],
   "source": [
    "constraints = list(map(\n",
    "    ConstraintFactory.create,\n",
    "    generated_constraints.split('\\n.')[1:]\n",
    "))"
   ]
  },
  {
   "cell_type": "code",
   "execution_count": 21,
   "id": "e71d5b6a",
   "metadata": {
    "ExecuteTime": {
     "end_time": "2023-06-19T19:18:11.018491Z",
     "start_time": "2023-06-19T19:18:10.937738Z"
    }
   },
   "outputs": [
    {
     "name": "stdout",
     "output_type": "stream",
     "text": [
      "input: <input id=\"bkmgFlights_travelDates_1-formfield-2\" name=\"bkmgFlights_travelDates_1-formfield-2\" type=\"text\"/>\n",
      "with label: Return\n",
      "with the following relevant text tags:\n",
      "<span>Return</span>\n",
      "\n",
      "    The relevant information available in the form are (in order of relevance):\n",
      "    1.\n",
      "input: <input id=\"bkmgFlights_travelDates_1-formfield-1\" name=\"bkmgFlights_travelDates_1-formfield-1\" type=\"text\"/>\n",
      "with label: Departure\n",
      "2.\n",
      "input: <input id=\"bkmgFlights_destination_trip_1\" name=\"bkmgFlights_destination_trip_1\" type=\"text\"/>\n",
      "with label: To\n",
      "3.\n",
      "input: <input id=\"bkmgFlights_tripTypeSelector_M\" name=\"tripType\" type=\"radio\"/>\n",
      "with label: Multi-city/Stopover\n",
      "\n",
      "    generate values based on the following constraints:\n",
      "    input field should be non-empty\n",
      "input field should be  field('bkmgFlights_travelDates_1-formfield-1')\n"
     ]
    }
   ],
   "source": [
    "value_user_prompt = create_value_generation_prompt(\n",
    "    input_group,\n",
    "    constraints\n",
    ")\n",
    "print(value_user_prompt)"
   ]
  },
  {
   "cell_type": "code",
   "execution_count": 23,
   "id": "79f22277",
   "metadata": {
    "ExecuteTime": {
     "end_time": "2023-06-19T19:19:12.944735Z",
     "start_time": "2023-06-19T19:19:03.867144Z"
    }
   },
   "outputs": [
    {
     "name": "stdout",
     "output_type": "stream",
     "text": [
      " \u001b[0m Prompt: [\n",
      "  {\n",
      "    \"role\": \"system\",\n",
      "    \"content\": \"\\nYour task is to generate a set of values for a form field based on the form field information and a set of constraints on the field. Your decisions must always be made independently without seeking user assistance or additional information.\\nFor each user prompt, you need to generate five distinct values that satisfy the constraints while keeping in mind the nature of the input from the available information.\\nOnly generate the values and don't explain your answers.\\nGenerate the values in a Python array. We must be able to parse your generation with json.loads.\\nOnly generate values for the inputs in question, and not the ones in the relevant information section.\\n\"\n",
      "  },\n",
      "  {\n",
      "    \"role\": \"user\",\n",
      "    \"content\": \"We are generating values for the following input field:\\n            input: <input id=\\\"bkmgFlights_travelDates_1-formfield-2\\\" name=\\\"bkmgFlights_travelDates_1-formfield-2\\\" type=\\\"text\\\"/>\\nwith label: Return\\nwith the following relevant text tags:\\n<span>Return</span>\\n\\n    The relevant information available in the form are (in order of relevance):\\n    1.\\ninput: <input id=\\\"bkmgFlights_travelDates_1-formfield-1\\\" name=\\\"bkmgFlights_travelDates_1-formfield-1\\\" type=\\\"text\\\"/>\\nwith label: Departure\\n2.\\ninput: <input id=\\\"bkmgFlights_destination_trip_1\\\" name=\\\"bkmgFlights_destination_trip_1\\\" type=\\\"text\\\"/>\\nwith label: To\\n3.\\ninput: <input id=\\\"bkmgFlights_tripTypeSelector_M\\\" name=\\\"tripType\\\" type=\\\"radio\\\"/>\\nwith label: Multi-city/Stopover\\n\\n    generate values based on the following constraints:\\n    input field should be non-empty\\ninput field should be  field('bkmgFlights_travelDates_1-formfield-1')\"\n",
      "  }\n",
      "]\n",
      " \u001b[0m Response: {\n",
      "  \"choices\": [\n",
      "    {\n",
      "      \"finish_reason\": \"stop\",\n",
      "      \"index\": 0,\n",
      "      \"message\": {\n",
      "        \"content\": \"[\\\"2022-10-15\\\", \\\"2022-10-20\\\", \\\"2022-11-01\\\", \\\"2022-11-10\\\", \\\"2022-12-05\\\"]\",\n",
      "        \"role\": \"assistant\"\n",
      "      }\n",
      "    }\n",
      "  ],\n",
      "  \"created\": 1687202344,\n",
      "  \"id\": \"chatcmpl-7TEgyUEgYMLI9kwdLZxx2jlYhewnX\",\n",
      "  \"model\": \"gpt-4-0314\",\n",
      "  \"object\": \"chat.completion\",\n",
      "  \"usage\": {\n",
      "    \"completion_tokens\": 40,\n",
      "    \"prompt_tokens\": 374,\n",
      "    \"total_tokens\": 414\n",
      "  }\n",
      "}\n",
      " \u001b[0m Total running cost: $0.036\n"
     ]
    }
   ],
   "source": [
    "generated_values = generate_values_with_llm(\n",
    "    value_user_prompt,\n",
    "    openai_api_key=openai.api_key\n",
    ")"
   ]
  },
  {
   "cell_type": "code",
   "execution_count": 24,
   "id": "db2c71e3",
   "metadata": {
    "ExecuteTime": {
     "end_time": "2023-06-19T19:19:46.819661Z",
     "start_time": "2023-06-19T19:19:46.742166Z"
    }
   },
   "outputs": [
    {
     "name": "stdout",
     "output_type": "stream",
     "text": [
      "[\"2022-10-15\", \"2022-10-20\", \"2022-11-01\", \"2022-11-10\", \"2022-12-05\"]\n"
     ]
    }
   ],
   "source": [
    "print(generated_values)"
   ]
  },
  {
   "cell_type": "code",
   "execution_count": null,
   "id": "aac68542",
   "metadata": {},
   "outputs": [],
   "source": []
  }
 ],
 "metadata": {
  "kernelspec": {
   "display_name": "Python 3 (ipykernel)",
   "language": "python",
   "name": "python3"
  },
  "language_info": {
   "codemirror_mode": {
    "name": "ipython",
    "version": 3
   },
   "file_extension": ".py",
   "mimetype": "text/x-python",
   "name": "python",
   "nbconvert_exporter": "python",
   "pygments_lexer": "ipython3",
   "version": "3.10.9"
  },
  "toc": {
   "base_numbering": 1,
   "nav_menu": {},
   "number_sections": true,
   "sideBar": true,
   "skip_h1_title": false,
   "title_cell": "Table of Contents",
   "title_sidebar": "Contents",
   "toc_cell": false,
   "toc_position": {},
   "toc_section_display": true,
   "toc_window_display": false
  },
  "varInspector": {
   "cols": {
    "lenName": 16,
    "lenType": 16,
    "lenVar": 40
   },
   "kernels_config": {
    "python": {
     "delete_cmd_postfix": "",
     "delete_cmd_prefix": "del ",
     "library": "var_list.py",
     "varRefreshCmd": "print(var_dic_list())"
    },
    "r": {
     "delete_cmd_postfix": ") ",
     "delete_cmd_prefix": "rm(",
     "library": "var_list.r",
     "varRefreshCmd": "cat(var_dic_list()) "
    }
   },
   "types_to_exclude": [
    "module",
    "function",
    "builtin_function_or_method",
    "instance",
    "_Feature"
   ],
   "window_display": false
  }
 },
 "nbformat": 4,
 "nbformat_minor": 5
}
