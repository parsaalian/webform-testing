{
 "cells": [
  {
   "cell_type": "code",
   "execution_count": 1,
   "id": "d229fc1e",
   "metadata": {
    "ExecuteTime": {
     "end_time": "2023-06-30T19:54:50.071655Z",
     "start_time": "2023-06-30T19:54:50.043021Z"
    }
   },
   "outputs": [],
   "source": [
    "%load_ext autoreload\n",
    "%autoreload 2"
   ]
  },
  {
   "cell_type": "code",
   "execution_count": 2,
   "id": "6edf3f1c",
   "metadata": {
    "ExecuteTime": {
     "end_time": "2023-06-30T19:54:55.131331Z",
     "start_time": "2023-06-30T19:54:50.657264Z"
    }
   },
   "outputs": [],
   "source": [
    "import os\n",
    "import time\n",
    "import openai\n",
    "from dotenv import load_dotenv\n",
    "\n",
    "from selenium.webdriver.common.by import By\n",
    "from bs4 import BeautifulSoup as bs\n",
    "\n",
    "from method.ours.utils import create_driver\n",
    "from method.ours.parse import (\n",
    "    initial_parse,\n",
    "    parse_after_feedback,\n",
    ")"
   ]
  },
  {
   "cell_type": "code",
   "execution_count": 3,
   "id": "25fb6bb8",
   "metadata": {
    "ExecuteTime": {
     "end_time": "2023-06-30T19:54:55.806313Z",
     "start_time": "2023-06-30T19:54:55.733609Z"
    }
   },
   "outputs": [],
   "source": [
    "load_dotenv()\n",
    "openai.api_key = os.getenv(\"OPENAI_API_KEY\")\n",
    "\n",
    "# Global Variables\n",
    "HEADLESS = False\n",
    "TEXT_EMBEDDING_METHOD = 'ADA' # ['ADA', 'WORD2VEC', 'SPACY']\n",
    "GRAPH_EMBEDDING_METHOD = 'NODE2VEC' # ['NODE2VEC', 'GCN']"
   ]
  },
  {
   "cell_type": "code",
   "execution_count": 4,
   "id": "837ffb01",
   "metadata": {
    "ExecuteTime": {
     "end_time": "2023-06-30T19:55:00.399075Z",
     "start_time": "2023-06-30T19:54:56.475218Z"
    }
   },
   "outputs": [],
   "source": [
    "driver = create_driver(HEADLESS)\n",
    "driver.get('https://www.aircanada.com/ca/en/aco/home.html')"
   ]
  },
  {
   "cell_type": "code",
   "execution_count": 5,
   "id": "2812c532",
   "metadata": {
    "ExecuteTime": {
     "end_time": "2023-06-30T19:55:01.255459Z",
     "start_time": "2023-06-30T19:55:01.155001Z"
    }
   },
   "outputs": [],
   "source": [
    "# form = driver.find_elements(By.TAG_NAME, 'form')[48]\n",
    "# form = driver.find_element(By.ID, 'register')\n",
    "form = driver.find_elements(By.TAG_NAME, 'form')[1]"
   ]
  },
  {
   "cell_type": "code",
   "execution_count": 30,
   "id": "59a2c02e",
   "metadata": {
    "ExecuteTime": {
     "end_time": "2023-06-30T19:58:14.353206Z",
     "start_time": "2023-06-30T19:58:14.242182Z"
    }
   },
   "outputs": [],
   "source": [
    "html1 = driver.find_element(By.TAG_NAME, 'body').get_attribute('outerHTML')"
   ]
  },
  {
   "cell_type": "markdown",
   "id": "948b49bc",
   "metadata": {},
   "source": [
    "# Processing"
   ]
  },
  {
   "cell_type": "code",
   "execution_count": 6,
   "id": "69dd1802",
   "metadata": {
    "ExecuteTime": {
     "end_time": "2023-06-30T19:55:36.831550Z",
     "start_time": "2023-06-30T19:55:02.145725Z"
    }
   },
   "outputs": [
    {
     "data": {
      "application/vnd.jupyter.widget-view+json": {
       "model_id": "d78cac7003de454c874cef69dfa8499a",
       "version_major": 2,
       "version_minor": 0
      },
      "text/plain": [
       "Computing transition probabilities:   0%|          | 0/340 [00:00<?, ?it/s]"
      ]
     },
     "metadata": {},
     "output_type": "display_data"
    },
    {
     "name": "stderr",
     "output_type": "stream",
     "text": [
      "Generating walks (CPU: 2): 100%|██████████| 50/50 [00:00<00:00, 651.22it/s]\n",
      "Generating walks (CPU: 1): 100%|██████████| 50/50 [00:00<00:00, 637.33it/s]\n",
      "Generating walks (CPU: 3): 100%|██████████| 50/50 [00:00<00:00, 747.21it/s]\n",
      "Generating walks (CPU: 4): 100%|██████████| 50/50 [00:00<00:00, 780.40it/s]\n",
      "100%|███████████████████████████████████████████████████████████████████████████████████████████████████████████████████████████████| 34/34 [00:10<00:00,  3.37it/s]\n",
      "/Library/Frameworks/Python.framework/Versions/3.10/lib/python3.10/site-packages/openai/embeddings_utils.py:68: RuntimeWarning: invalid value encountered in scalar divide\n",
      "  return np.dot(a, b) / (np.linalg.norm(a) * np.linalg.norm(b))\n"
     ]
    }
   ],
   "source": [
    "relation_graph, input_groups = initial_parse(driver, form, TEXT_EMBEDDING_METHOD)"
   ]
  },
  {
   "cell_type": "markdown",
   "id": "59c1f6ee",
   "metadata": {},
   "source": [
    "# Generation"
   ]
  },
  {
   "cell_type": "code",
   "execution_count": 8,
   "id": "8a57f983",
   "metadata": {
    "ExecuteTime": {
     "end_time": "2023-06-30T19:55:41.789448Z",
     "start_time": "2023-06-30T19:55:41.669456Z"
    }
   },
   "outputs": [],
   "source": [
    "from method.ours.constraints import generate_constraints_from_string\n",
    "from method.ours.prompts import (\n",
    "    get_form_context,\n",
    "    create_constraint_generation_user_prompt,\n",
    "    create_value_generation_user_prompt,\n",
    ")\n",
    "from method.ours.generation import (\n",
    "    generate_constraints_with_llm,\n",
    "    generate_values_with_llm,\n",
    ")"
   ]
  },
  {
   "cell_type": "code",
   "execution_count": 9,
   "id": "6d012746",
   "metadata": {
    "ExecuteTime": {
     "end_time": "2023-06-30T19:55:42.651809Z",
     "start_time": "2023-06-30T19:55:42.579081Z"
    }
   },
   "outputs": [],
   "source": [
    "form_context = get_form_context(input_groups)"
   ]
  },
  {
   "cell_type": "code",
   "execution_count": 10,
   "id": "e0d90294",
   "metadata": {
    "ExecuteTime": {
     "end_time": "2023-06-30T19:55:43.406168Z",
     "start_time": "2023-06-30T19:55:43.340338Z"
    }
   },
   "outputs": [],
   "source": [
    "class FillTable:\n",
    "    def __init__(self):\n",
    "        self.entries = {}\n",
    "    \n",
    "    \n",
    "    def add_entry(self, field_id, input_group, constraints):\n",
    "        self.entries[field_id] = FillTableRow(input_group, constraints)\n",
    "    \n",
    "    \n",
    "    def get_entry_by_field_id(self, field_id):\n",
    "        return self.entries[field_id]\n",
    "    \n",
    "    \n",
    "    def get_entry_by_input_group(self, input_group):\n",
    "        filtered = list(filter(\n",
    "            lambda x: x.input_group.node.xpath == input_group.node.xpath,\n",
    "            self.entries.values()\n",
    "        ))\n",
    "        if len(filtered) > 0:\n",
    "            return filtered[0]\n",
    "        return None\n",
    "\n",
    "\n",
    "class FillTableRow:\n",
    "    def __init__(self, input_group, constraints):\n",
    "        self.input_group = input_group\n",
    "        self.constraints = constraints\n",
    "        self.feedback = None\n",
    "        self.value = None\n",
    "    \n",
    "    \n",
    "    def set_value(self, value):\n",
    "        self.value = value\n",
    "    \n",
    "    \n",
    "    def set_feedback(self, feedback):\n",
    "        self.feedback = feedback"
   ]
  },
  {
   "cell_type": "code",
   "execution_count": 11,
   "id": "9bc88e1b",
   "metadata": {
    "ExecuteTime": {
     "end_time": "2023-06-30T19:55:44.167110Z",
     "start_time": "2023-06-30T19:55:44.102869Z"
    }
   },
   "outputs": [],
   "source": [
    "fill_table = FillTable()"
   ]
  },
  {
   "cell_type": "code",
   "execution_count": 12,
   "id": "e0880525",
   "metadata": {
    "ExecuteTime": {
     "end_time": "2023-06-30T19:56:10.736144Z",
     "start_time": "2023-06-30T19:55:44.873130Z"
    }
   },
   "outputs": [
    {
     "name": "stdout",
     "output_type": "stream",
     "text": [
      " \u001b[0m Prompt: [\n",
      "  {\n",
      "    \"role\": \"system\",\n",
      "    \"content\": \"Instructions:\\nYour task is to generate a set of constraints for web form fields. Your decisions must be made independently without seeking user assistance or additional information. If there are multiple ways to express constraints, use the least number of constraints to describe them. Only generate the constraints and refrain from explaining your answers. Only generate constraints for the input field in question, not those in the relevant information section. You must choose your constraints in the format of our modified version of the Jest library in JavaScript. The list of functions in this modified format are:\\n1. toBeEqual(value) # the input field value is exactly equal to the given value\\n2. toHaveLengthCondition(condition, value) # the length of the input field value matches the given condition\\n3. toBeTruthy() # the input field value is truthy and not empty (not false, 0, '', null, undefined, or NaN)\\n4. toHaveCompareCondition(condition, numberOrDateValue) # the input field value has the given condition to the given value\\n5. toContainSubString(stringValue)\\n6. toContainChar(charValue)\\n7. toBeAlphabetical()\\n8. toBeNumerical()\\n9. toBeAlphaNumerical()\\n10. toContainUpperCaseChars()\\n11. toContainSpecialChars()\\n12. toContainWhiteSpace()\\n13. toStartWithString(stringValue)\\n14. toEndWithString(stringValue)\\nYou must choose only from this list of functions, and avoid using any other functions. Use the notation \\\"field('elementId')\\\" to refer to input fields in the form.\\n\\nExample of generated constraints for a password input field:\\n# sample\\nexpect(field('password'))\\n.toHaveLengthCondition('>', 8)\\n.toHaveLengthCondition('<', 50)\\n.toBeAlphaNumeric()\\n.toHaveUpperCase()\\n.toHaveSpecialChars()\\n.not.toBeTruthy()\\n.toBeEqual(field('confirm-password'))\\n# end of the sample\"\n",
      "  },\n",
      "  {\n",
      "    \"role\": \"user\",\n",
      "    \"content\": \"The following are all the labels in the form, which provide context for the functionality of the form:  Round-trip ,  One-way ,  Multi-city/Stopover ,  Book with points , From, To, Departure, Return\\n    We are generating constraints for the following input field:\\n    input: <input id=\\\"bkmgFlights_tripTypeSelector_R\\\" name=\\\"tripType\\\" type=\\\"radio\\\" value=\\\"R\\\"/>\\nwith label: Round-trip\\n    The relevant input fields available in the form are (in order of relevance):\\n    1.\\ninput: <input id=\\\"bkmgFlights_tripTypeSelector_M\\\" name=\\\"tripType\\\" type=\\\"radio\\\" value=\\\"M\\\"/>\\nwith label: Multi-city/Stopover\\n2.\\ninput: <input id=\\\"bkmgFlights_tripTypeSelector_O\\\" name=\\\"tripType\\\" type=\\\"radio\\\" value=\\\"O\\\"/>\\nwith label: One-way\"\n",
      "  }\n",
      "]\n",
      " \u001b[0m Response: {\n",
      "  \"choices\": [\n",
      "    {\n",
      "      \"finish_reason\": \"stop\",\n",
      "      \"index\": 0,\n",
      "      \"message\": {\n",
      "        \"content\": \"expect(field('bkmgFlights_tripTypeSelector_R'))\\n.toBeEqual('R')\",\n",
      "        \"role\": \"assistant\"\n",
      "      }\n",
      "    }\n",
      "  ],\n",
      "  \"created\": 1688154945,\n",
      "  \"id\": \"chatcmpl-7XEVV0CQnVGKaLMnjNHGhJ67VcQHW\",\n",
      "  \"model\": \"gpt-4-0613\",\n",
      "  \"object\": \"chat.completion\",\n",
      "  \"usage\": {\n",
      "    \"completion_tokens\": 17,\n",
      "    \"prompt_tokens\": 585,\n",
      "    \"total_tokens\": 602\n",
      "  }\n",
      "}\n",
      " \u001b[0m Total running cost: $0.019\n",
      " \u001b[0m Prompt: [\n",
      "  {\n",
      "    \"role\": \"system\",\n",
      "    \"content\": \"Instructions:\\nYour task is to generate a set of constraints for web form fields. Your decisions must be made independently without seeking user assistance or additional information. If there are multiple ways to express constraints, use the least number of constraints to describe them. Only generate the constraints and refrain from explaining your answers. Only generate constraints for the input field in question, not those in the relevant information section. You must choose your constraints in the format of our modified version of the Jest library in JavaScript. The list of functions in this modified format are:\\n1. toBeEqual(value) # the input field value is exactly equal to the given value\\n2. toHaveLengthCondition(condition, value) # the length of the input field value matches the given condition\\n3. toBeTruthy() # the input field value is truthy and not empty (not false, 0, '', null, undefined, or NaN)\\n4. toHaveCompareCondition(condition, numberOrDateValue) # the input field value has the given condition to the given value\\n5. toContainSubString(stringValue)\\n6. toContainChar(charValue)\\n7. toBeAlphabetical()\\n8. toBeNumerical()\\n9. toBeAlphaNumerical()\\n10. toContainUpperCaseChars()\\n11. toContainSpecialChars()\\n12. toContainWhiteSpace()\\n13. toStartWithString(stringValue)\\n14. toEndWithString(stringValue)\\nYou must choose only from this list of functions, and avoid using any other functions. Use the notation \\\"field('elementId')\\\" to refer to input fields in the form.\\n\\nExample of generated constraints for a password input field:\\n# sample\\nexpect(field('password'))\\n.toHaveLengthCondition('>', 8)\\n.toHaveLengthCondition('<', 50)\\n.toBeAlphaNumeric()\\n.toHaveUpperCase()\\n.toHaveSpecialChars()\\n.not.toBeTruthy()\\n.toBeEqual(field('confirm-password'))\\n# end of the sample\"\n",
      "  },\n",
      "  {\n",
      "    \"role\": \"user\",\n",
      "    \"content\": \"The following are all the labels in the form, which provide context for the functionality of the form:  Round-trip ,  One-way ,  Multi-city/Stopover ,  Book with points , From, To, Departure, Return\\n    We are generating constraints for the following input field:\\n    input: <input id=\\\"bkmgFlights_tripTypeSelector_O\\\" name=\\\"tripType\\\" type=\\\"radio\\\" value=\\\"O\\\"/>\\nwith label: One-way\\n    The relevant input fields available in the form are (in order of relevance):\\n    1.\\ninput: <input id=\\\"bkmgFlights_tripTypeSelector_M\\\" name=\\\"tripType\\\" type=\\\"radio\\\" value=\\\"M\\\"/>\\nwith label: Multi-city/Stopover\\n2.\\ninput: <input id=\\\"bkmgFlights_tripTypeSelector_R\\\" name=\\\"tripType\\\" type=\\\"radio\\\" value=\\\"R\\\"/>\\nwith label: Round-trip\"\n",
      "  }\n",
      "]\n",
      " \u001b[0m Response: {\n",
      "  \"choices\": [\n",
      "    {\n",
      "      \"finish_reason\": \"stop\",\n",
      "      \"index\": 0,\n",
      "      \"message\": {\n",
      "        \"content\": \"# sample\\nexpect(field('bkmgFlights_tripTypeSelector_O')).toBeEqual('O')\\n# end of the sample\",\n",
      "        \"role\": \"assistant\"\n",
      "      }\n",
      "    }\n",
      "  ],\n",
      "  \"created\": 1688154947,\n",
      "  \"id\": \"chatcmpl-7XEVXJoytb5LgJ5SqUH70mMSFSGPd\",\n",
      "  \"model\": \"gpt-4-0613\",\n",
      "  \"object\": \"chat.completion\",\n",
      "  \"usage\": {\n",
      "    \"completion_tokens\": 25,\n",
      "    \"prompt_tokens\": 585,\n",
      "    \"total_tokens\": 610\n",
      "  }\n",
      "}\n",
      " \u001b[0m Total running cost: $0.038\n",
      " \u001b[0m Prompt: [\n",
      "  {\n",
      "    \"role\": \"system\",\n",
      "    \"content\": \"Instructions:\\nYour task is to generate a set of constraints for web form fields. Your decisions must be made independently without seeking user assistance or additional information. If there are multiple ways to express constraints, use the least number of constraints to describe them. Only generate the constraints and refrain from explaining your answers. Only generate constraints for the input field in question, not those in the relevant information section. You must choose your constraints in the format of our modified version of the Jest library in JavaScript. The list of functions in this modified format are:\\n1. toBeEqual(value) # the input field value is exactly equal to the given value\\n2. toHaveLengthCondition(condition, value) # the length of the input field value matches the given condition\\n3. toBeTruthy() # the input field value is truthy and not empty (not false, 0, '', null, undefined, or NaN)\\n4. toHaveCompareCondition(condition, numberOrDateValue) # the input field value has the given condition to the given value\\n5. toContainSubString(stringValue)\\n6. toContainChar(charValue)\\n7. toBeAlphabetical()\\n8. toBeNumerical()\\n9. toBeAlphaNumerical()\\n10. toContainUpperCaseChars()\\n11. toContainSpecialChars()\\n12. toContainWhiteSpace()\\n13. toStartWithString(stringValue)\\n14. toEndWithString(stringValue)\\nYou must choose only from this list of functions, and avoid using any other functions. Use the notation \\\"field('elementId')\\\" to refer to input fields in the form.\\n\\nExample of generated constraints for a password input field:\\n# sample\\nexpect(field('password'))\\n.toHaveLengthCondition('>', 8)\\n.toHaveLengthCondition('<', 50)\\n.toBeAlphaNumeric()\\n.toHaveUpperCase()\\n.toHaveSpecialChars()\\n.not.toBeTruthy()\\n.toBeEqual(field('confirm-password'))\\n# end of the sample\"\n",
      "  },\n",
      "  {\n",
      "    \"role\": \"user\",\n",
      "    \"content\": \"The following are all the labels in the form, which provide context for the functionality of the form:  Round-trip ,  One-way ,  Multi-city/Stopover ,  Book with points , From, To, Departure, Return\\n    We are generating constraints for the following input field:\\n    input: <input id=\\\"bkmgFlights_tripTypeSelector_M\\\" name=\\\"tripType\\\" type=\\\"radio\\\" value=\\\"M\\\"/>\\nwith label: Multi-city/Stopover\\n    The relevant input fields available in the form are (in order of relevance):\\n    1.\\ninput: <input id=\\\"bkmgFlights_tripTypeSelector_R\\\" name=\\\"tripType\\\" type=\\\"radio\\\" value=\\\"R\\\"/>\\nwith label: Round-trip\\n2.\\ninput: <input id=\\\"bkmgFlights_tripTypeSelector_O\\\" name=\\\"tripType\\\" type=\\\"radio\\\" value=\\\"O\\\"/>\\nwith label: One-way\"\n",
      "  }\n",
      "]\n"
     ]
    },
    {
     "name": "stdout",
     "output_type": "stream",
     "text": [
      " \u001b[0m Response: {\n",
      "  \"choices\": [\n",
      "    {\n",
      "      \"finish_reason\": \"stop\",\n",
      "      \"index\": 0,\n",
      "      \"message\": {\n",
      "        \"content\": \"# sample\\nexpect(field('bkmgFlights_tripTypeSelector_M'))\\n.toBeEqual('M')\\n# end of the sample\",\n",
      "        \"role\": \"assistant\"\n",
      "      }\n",
      "    }\n",
      "  ],\n",
      "  \"created\": 1688154949,\n",
      "  \"id\": \"chatcmpl-7XEVZCiDCr8DnbwVetBmghVEUZLJK\",\n",
      "  \"model\": \"gpt-4-0613\",\n",
      "  \"object\": \"chat.completion\",\n",
      "  \"usage\": {\n",
      "    \"completion_tokens\": 25,\n",
      "    \"prompt_tokens\": 585,\n",
      "    \"total_tokens\": 610\n",
      "  }\n",
      "}\n",
      " \u001b[0m Total running cost: $0.057\n",
      " \u001b[0m Prompt: [\n",
      "  {\n",
      "    \"role\": \"system\",\n",
      "    \"content\": \"Instructions:\\nYour task is to generate a set of constraints for web form fields. Your decisions must be made independently without seeking user assistance or additional information. If there are multiple ways to express constraints, use the least number of constraints to describe them. Only generate the constraints and refrain from explaining your answers. Only generate constraints for the input field in question, not those in the relevant information section. You must choose your constraints in the format of our modified version of the Jest library in JavaScript. The list of functions in this modified format are:\\n1. toBeEqual(value) # the input field value is exactly equal to the given value\\n2. toHaveLengthCondition(condition, value) # the length of the input field value matches the given condition\\n3. toBeTruthy() # the input field value is truthy and not empty (not false, 0, '', null, undefined, or NaN)\\n4. toHaveCompareCondition(condition, numberOrDateValue) # the input field value has the given condition to the given value\\n5. toContainSubString(stringValue)\\n6. toContainChar(charValue)\\n7. toBeAlphabetical()\\n8. toBeNumerical()\\n9. toBeAlphaNumerical()\\n10. toContainUpperCaseChars()\\n11. toContainSpecialChars()\\n12. toContainWhiteSpace()\\n13. toStartWithString(stringValue)\\n14. toEndWithString(stringValue)\\nYou must choose only from this list of functions, and avoid using any other functions. Use the notation \\\"field('elementId')\\\" to refer to input fields in the form.\\n\\nExample of generated constraints for a password input field:\\n# sample\\nexpect(field('password'))\\n.toHaveLengthCondition('>', 8)\\n.toHaveLengthCondition('<', 50)\\n.toBeAlphaNumeric()\\n.toHaveUpperCase()\\n.toHaveSpecialChars()\\n.not.toBeTruthy()\\n.toBeEqual(field('confirm-password'))\\n# end of the sample\"\n",
      "  },\n",
      "  {\n",
      "    \"role\": \"user\",\n",
      "    \"content\": \"The following are all the labels in the form, which provide context for the functionality of the form:  Round-trip ,  One-way ,  Multi-city/Stopover ,  Book with points , From, To, Departure, Return\\n    We are generating constraints for the following input field:\\n    input: <input id=\\\"bkmgFlights_searchTypeToggle\\\" type=\\\"checkbox\\\"/>\\nwith label: Book with points\\n    The relevant input fields available in the form are (in order of relevance):\"\n",
      "  }\n",
      "]\n",
      " \u001b[0m Response: {\n",
      "  \"choices\": [\n",
      "    {\n",
      "      \"finish_reason\": \"stop\",\n",
      "      \"index\": 0,\n",
      "      \"message\": {\n",
      "        \"content\": \"expect(field('bkmgFlights_searchTypeToggle')).toBeTruthy()\",\n",
      "        \"role\": \"assistant\"\n",
      "      }\n",
      "    }\n",
      "  ],\n",
      "  \"created\": 1688154952,\n",
      "  \"id\": \"chatcmpl-7XEVckPZZCfE5tQNrk0nrarPuU3Ek\",\n",
      "  \"model\": \"gpt-4-0613\",\n",
      "  \"object\": \"chat.completion\",\n",
      "  \"usage\": {\n",
      "    \"completion_tokens\": 14,\n",
      "    \"prompt_tokens\": 499,\n",
      "    \"total_tokens\": 513\n",
      "  }\n",
      "}\n",
      " \u001b[0m Total running cost: $0.072\n",
      " \u001b[0m Prompt: [\n",
      "  {\n",
      "    \"role\": \"system\",\n",
      "    \"content\": \"Instructions:\\nYour task is to generate a set of constraints for web form fields. Your decisions must be made independently without seeking user assistance or additional information. If there are multiple ways to express constraints, use the least number of constraints to describe them. Only generate the constraints and refrain from explaining your answers. Only generate constraints for the input field in question, not those in the relevant information section. You must choose your constraints in the format of our modified version of the Jest library in JavaScript. The list of functions in this modified format are:\\n1. toBeEqual(value) # the input field value is exactly equal to the given value\\n2. toHaveLengthCondition(condition, value) # the length of the input field value matches the given condition\\n3. toBeTruthy() # the input field value is truthy and not empty (not false, 0, '', null, undefined, or NaN)\\n4. toHaveCompareCondition(condition, numberOrDateValue) # the input field value has the given condition to the given value\\n5. toContainSubString(stringValue)\\n6. toContainChar(charValue)\\n7. toBeAlphabetical()\\n8. toBeNumerical()\\n9. toBeAlphaNumerical()\\n10. toContainUpperCaseChars()\\n11. toContainSpecialChars()\\n12. toContainWhiteSpace()\\n13. toStartWithString(stringValue)\\n14. toEndWithString(stringValue)\\nYou must choose only from this list of functions, and avoid using any other functions. Use the notation \\\"field('elementId')\\\" to refer to input fields in the form.\\n\\nExample of generated constraints for a password input field:\\n# sample\\nexpect(field('password'))\\n.toHaveLengthCondition('>', 8)\\n.toHaveLengthCondition('<', 50)\\n.toBeAlphaNumeric()\\n.toHaveUpperCase()\\n.toHaveSpecialChars()\\n.not.toBeTruthy()\\n.toBeEqual(field('confirm-password'))\\n# end of the sample\"\n",
      "  },\n",
      "  {\n",
      "    \"role\": \"user\",\n",
      "    \"content\": \"The following are all the labels in the form, which provide context for the functionality of the form:  Round-trip ,  One-way ,  Multi-city/Stopover ,  Book with points , From, To, Departure, Return\\n    We are generating constraints for the following input field:\\n    input: <input id=\\\"bkmgFlights_origin_trip_1\\\" name=\\\"bkmgFlights_origin_trip_1\\\" placeholder=\\\"\\\" type=\\\"text\\\"/>\\nwith label: From\\nwith the following relevant text tags:\\n<span>Vancouver </span>\\n<span>YVR</span>\\n<span>From</span>\\n    The relevant input fields available in the form are (in order of relevance):\\n    1.\\ninput: <input id=\\\"bkmgFlights_destination_trip_1\\\" name=\\\"bkmgFlights_destination_trip_1\\\" placeholder=\\\"\\\" type=\\\"text\\\"/>\\nwith label: To\"\n",
      "  }\n",
      "]\n",
      " \u001b[0m Response: {\n",
      "  \"choices\": [\n",
      "    {\n",
      "      \"finish_reason\": \"stop\",\n",
      "      \"index\": 0,\n",
      "      \"message\": {\n",
      "        \"content\": \"# sample\\nexpect(field('bkmgFlights_origin_trip_1'))\\n.toBeTruthy()\\n.toBeAlphabetical()\\n.not.toHaveLengthCondition('<', 3)\\n.not.toHaveLengthCondition('>', 50)\\n.not.toBeEqual(field('bkmgFlights_destination_trip_1'))\\n# end of the sample\",\n",
      "        \"role\": \"assistant\"\n",
      "      }\n",
      "    }\n",
      "  ],\n",
      "  \"created\": 1688154954,\n",
      "  \"id\": \"chatcmpl-7XEVeOFOpCpQcSJaTKDbyRI4BJjr5\",\n",
      "  \"model\": \"gpt-4-0613\",\n",
      "  \"object\": \"chat.completion\",\n",
      "  \"usage\": {\n",
      "    \"completion_tokens\": 62,\n",
      "    \"prompt_tokens\": 577,\n",
      "    \"total_tokens\": 639\n",
      "  }\n",
      "}\n",
      " \u001b[0m Total running cost: $0.094\n",
      " \u001b[0m Prompt: [\n",
      "  {\n",
      "    \"role\": \"system\",\n",
      "    \"content\": \"Instructions:\\nYour task is to generate a set of constraints for web form fields. Your decisions must be made independently without seeking user assistance or additional information. If there are multiple ways to express constraints, use the least number of constraints to describe them. Only generate the constraints and refrain from explaining your answers. Only generate constraints for the input field in question, not those in the relevant information section. You must choose your constraints in the format of our modified version of the Jest library in JavaScript. The list of functions in this modified format are:\\n1. toBeEqual(value) # the input field value is exactly equal to the given value\\n2. toHaveLengthCondition(condition, value) # the length of the input field value matches the given condition\\n3. toBeTruthy() # the input field value is truthy and not empty (not false, 0, '', null, undefined, or NaN)\\n4. toHaveCompareCondition(condition, numberOrDateValue) # the input field value has the given condition to the given value\\n5. toContainSubString(stringValue)\\n6. toContainChar(charValue)\\n7. toBeAlphabetical()\\n8. toBeNumerical()\\n9. toBeAlphaNumerical()\\n10. toContainUpperCaseChars()\\n11. toContainSpecialChars()\\n12. toContainWhiteSpace()\\n13. toStartWithString(stringValue)\\n14. toEndWithString(stringValue)\\nYou must choose only from this list of functions, and avoid using any other functions. Use the notation \\\"field('elementId')\\\" to refer to input fields in the form.\\n\\nExample of generated constraints for a password input field:\\n# sample\\nexpect(field('password'))\\n.toHaveLengthCondition('>', 8)\\n.toHaveLengthCondition('<', 50)\\n.toBeAlphaNumeric()\\n.toHaveUpperCase()\\n.toHaveSpecialChars()\\n.not.toBeTruthy()\\n.toBeEqual(field('confirm-password'))\\n# end of the sample\"\n",
      "  },\n",
      "  {\n",
      "    \"role\": \"user\",\n",
      "    \"content\": \"The following are all the labels in the form, which provide context for the functionality of the form:  Round-trip ,  One-way ,  Multi-city/Stopover ,  Book with points , From, To, Departure, Return\\n    We are generating constraints for the following input field:\\n    input: <input id=\\\"bkmgFlights_destination_trip_1\\\" name=\\\"bkmgFlights_destination_trip_1\\\" placeholder=\\\"\\\" type=\\\"text\\\"/>\\nwith label: To\\nwith the following relevant text tags:\\n<span>To</span>\\n    The relevant input fields available in the form are (in order of relevance):\\n    1.\\ninput: <input id=\\\"bkmgFlights_origin_trip_1\\\" name=\\\"bkmgFlights_origin_trip_1\\\" placeholder=\\\"\\\" type=\\\"text\\\"/>\\nwith label: From\\n2.\\ninput: <input id=\\\"bkmgFlights_travelDates_1-formfield-2\\\" name=\\\"bkmgFlights_travelDates_1-formfield-2\\\" placeholder=\\\"DD/MM\\\" type=\\\"text\\\"/>\\nwith label: Return\"\n",
      "  }\n",
      "]\n"
     ]
    },
    {
     "name": "stdout",
     "output_type": "stream",
     "text": [
      " \u001b[0m Response: {\n",
      "  \"choices\": [\n",
      "    {\n",
      "      \"finish_reason\": \"stop\",\n",
      "      \"index\": 0,\n",
      "      \"message\": {\n",
      "        \"content\": \"expect(field('bkmgFlights_destination_trip_1'))\\n.toBeTruthy()\\n.not.toBeEqual(field('bkmgFlights_origin_trip_1'))\",\n",
      "        \"role\": \"assistant\"\n",
      "      }\n",
      "    }\n",
      "  ],\n",
      "  \"created\": 1688154960,\n",
      "  \"id\": \"chatcmpl-7XEVklzLE0mbGppMUUGG7P1VgXoCC\",\n",
      "  \"model\": \"gpt-4-0613\",\n",
      "  \"object\": \"chat.completion\",\n",
      "  \"usage\": {\n",
      "    \"completion_tokens\": 29,\n",
      "    \"prompt_tokens\": 613,\n",
      "    \"total_tokens\": 642\n",
      "  }\n",
      "}\n",
      " \u001b[0m Total running cost: $0.114\n",
      " \u001b[0m Prompt: [\n",
      "  {\n",
      "    \"role\": \"system\",\n",
      "    \"content\": \"Instructions:\\nYour task is to generate a set of constraints for web form fields. Your decisions must be made independently without seeking user assistance or additional information. If there are multiple ways to express constraints, use the least number of constraints to describe them. Only generate the constraints and refrain from explaining your answers. Only generate constraints for the input field in question, not those in the relevant information section. You must choose your constraints in the format of our modified version of the Jest library in JavaScript. The list of functions in this modified format are:\\n1. toBeEqual(value) # the input field value is exactly equal to the given value\\n2. toHaveLengthCondition(condition, value) # the length of the input field value matches the given condition\\n3. toBeTruthy() # the input field value is truthy and not empty (not false, 0, '', null, undefined, or NaN)\\n4. toHaveCompareCondition(condition, numberOrDateValue) # the input field value has the given condition to the given value\\n5. toContainSubString(stringValue)\\n6. toContainChar(charValue)\\n7. toBeAlphabetical()\\n8. toBeNumerical()\\n9. toBeAlphaNumerical()\\n10. toContainUpperCaseChars()\\n11. toContainSpecialChars()\\n12. toContainWhiteSpace()\\n13. toStartWithString(stringValue)\\n14. toEndWithString(stringValue)\\nYou must choose only from this list of functions, and avoid using any other functions. Use the notation \\\"field('elementId')\\\" to refer to input fields in the form.\\n\\nExample of generated constraints for a password input field:\\n# sample\\nexpect(field('password'))\\n.toHaveLengthCondition('>', 8)\\n.toHaveLengthCondition('<', 50)\\n.toBeAlphaNumeric()\\n.toHaveUpperCase()\\n.toHaveSpecialChars()\\n.not.toBeTruthy()\\n.toBeEqual(field('confirm-password'))\\n# end of the sample\"\n",
      "  },\n",
      "  {\n",
      "    \"role\": \"user\",\n",
      "    \"content\": \"The following are all the labels in the form, which provide context for the functionality of the form:  Round-trip ,  One-way ,  Multi-city/Stopover ,  Book with points , From, To, Departure, Return\\n    We are generating constraints for the following input field:\\n    input: <input id=\\\"bkmgFlights_travelDates_1-formfield-1\\\" name=\\\"bkmgFlights_travelDates_1-formfield-1\\\" placeholder=\\\"DD/MM\\\" type=\\\"text\\\"/>\\nwith label: Departure\\nwith the following relevant text tags:\\n<span>Departure</span>\\n    The relevant input fields available in the form are (in order of relevance):\\n    1.\\ninput: <input id=\\\"bkmgFlights_travelDates_1-formfield-2\\\" name=\\\"bkmgFlights_travelDates_1-formfield-2\\\" placeholder=\\\"DD/MM\\\" type=\\\"text\\\"/>\\nwith label: Return\"\n",
      "  }\n",
      "]\n",
      " \u001b[0m Response: {\n",
      "  \"choices\": [\n",
      "    {\n",
      "      \"finish_reason\": \"stop\",\n",
      "      \"index\": 0,\n",
      "      \"message\": {\n",
      "        \"content\": \"expect(field('bkmgFlights_travelDates_1-formfield-1'))\\n.toBeTruthy()\\n.toHaveLengthCondition('=', 5)\\n.toContainChar('/')\\n.toHaveCompareCondition('<', field('bkmgFlights_travelDates_1-formfield-2'))\",\n",
      "        \"role\": \"assistant\"\n",
      "      }\n",
      "    }\n",
      "  ],\n",
      "  \"created\": 1688154962,\n",
      "  \"id\": \"chatcmpl-7XEVmnj37eSSgu4onQbCw1TfzAgYi\",\n",
      "  \"model\": \"gpt-4-0613\",\n",
      "  \"object\": \"chat.completion\",\n",
      "  \"usage\": {\n",
      "    \"completion_tokens\": 53,\n",
      "    \"prompt_tokens\": 588,\n",
      "    \"total_tokens\": 641\n",
      "  }\n",
      "}\n",
      " \u001b[0m Total running cost: $0.134\n",
      " \u001b[0m Prompt: [\n",
      "  {\n",
      "    \"role\": \"system\",\n",
      "    \"content\": \"Instructions:\\nYour task is to generate a set of constraints for web form fields. Your decisions must be made independently without seeking user assistance or additional information. If there are multiple ways to express constraints, use the least number of constraints to describe them. Only generate the constraints and refrain from explaining your answers. Only generate constraints for the input field in question, not those in the relevant information section. You must choose your constraints in the format of our modified version of the Jest library in JavaScript. The list of functions in this modified format are:\\n1. toBeEqual(value) # the input field value is exactly equal to the given value\\n2. toHaveLengthCondition(condition, value) # the length of the input field value matches the given condition\\n3. toBeTruthy() # the input field value is truthy and not empty (not false, 0, '', null, undefined, or NaN)\\n4. toHaveCompareCondition(condition, numberOrDateValue) # the input field value has the given condition to the given value\\n5. toContainSubString(stringValue)\\n6. toContainChar(charValue)\\n7. toBeAlphabetical()\\n8. toBeNumerical()\\n9. toBeAlphaNumerical()\\n10. toContainUpperCaseChars()\\n11. toContainSpecialChars()\\n12. toContainWhiteSpace()\\n13. toStartWithString(stringValue)\\n14. toEndWithString(stringValue)\\nYou must choose only from this list of functions, and avoid using any other functions. Use the notation \\\"field('elementId')\\\" to refer to input fields in the form.\\n\\nExample of generated constraints for a password input field:\\n# sample\\nexpect(field('password'))\\n.toHaveLengthCondition('>', 8)\\n.toHaveLengthCondition('<', 50)\\n.toBeAlphaNumeric()\\n.toHaveUpperCase()\\n.toHaveSpecialChars()\\n.not.toBeTruthy()\\n.toBeEqual(field('confirm-password'))\\n# end of the sample\"\n",
      "  },\n",
      "  {\n",
      "    \"role\": \"user\",\n",
      "    \"content\": \"The following are all the labels in the form, which provide context for the functionality of the form:  Round-trip ,  One-way ,  Multi-city/Stopover ,  Book with points , From, To, Departure, Return\\n    We are generating constraints for the following input field:\\n    input: <input id=\\\"bkmgFlights_travelDates_1-formfield-2\\\" name=\\\"bkmgFlights_travelDates_1-formfield-2\\\" placeholder=\\\"DD/MM\\\" type=\\\"text\\\"/>\\nwith label: Return\\nwith the following relevant text tags:\\n<button id=\\\"bkmgFlights_selectTravelers\\\" type=\\\"button\\\"><div><span-wrap><!-- --></span-wrap><div><abc-form-element-label><div id=\\\"bkmgFlights_selectTravelersLabel\\\"><span>Passenger(s)</span></div></abc-form-element-label><span-wrap><!-- --></span-wrap><div id=\\\"bkmgFlights_selectTravelersMainContainer\\\"><div><span> 1 Adult </span></div></div></div><abc-affix><div><span-wrap><!-- --></span-wrap><span></span><span-wrap><!-- --></span-wrap><span-wrap><!-- --></span-wrap><span-wrap><!-- --></span-wrap><span-wrap><!-- --></span-wrap><span-wrap><!-- --></span-wrap><span-wrap><!-- --></span-wrap></div></abc-affix><span-wrap><!-- --></span-wrap></div><abc-form-element-underline><div></div></abc-form-element-underline></button>\\n<span>Return</span>\\n    The relevant input fields available in the form are (in order of relevance):\\n    1.\\ninput: <input id=\\\"bkmgFlights_travelDates_1-formfield-1\\\" name=\\\"bkmgFlights_travelDates_1-formfield-1\\\" placeholder=\\\"DD/MM\\\" type=\\\"text\\\"/>\\nwith label: Departure\\n2.\\ninput: <input id=\\\"bkmgFlights_destination_trip_1\\\" name=\\\"bkmgFlights_destination_trip_1\\\" placeholder=\\\"\\\" type=\\\"text\\\"/>\\nwith label: To\"\n",
      "  }\n",
      "]\n",
      " \u001b[0m Response: {\n",
      "  \"choices\": [\n",
      "    {\n",
      "      \"finish_reason\": \"stop\",\n",
      "      \"index\": 0,\n",
      "      \"message\": {\n",
      "        \"content\": \"expect(field('bkmgFlights_travelDates_1-formfield-2'))\\n.toBeTruthy()\\n.toHaveLengthCondition('=', 5)\\n.toContainChar('/')\\n.toHaveCompareCondition('>', field('bkmgFlights_travelDates_1-formfield-1'))\",\n",
      "        \"role\": \"assistant\"\n",
      "      }\n",
      "    }\n",
      "  ],\n",
      "  \"created\": 1688154966,\n",
      "  \"id\": \"chatcmpl-7XEVqQ3BSyZxfKeuJTdhRitLxUo6J\",\n",
      "  \"model\": \"gpt-4-0613\",\n",
      "  \"object\": \"chat.completion\",\n",
      "  \"usage\": {\n",
      "    \"completion_tokens\": 53,\n",
      "    \"prompt_tokens\": 822,\n",
      "    \"total_tokens\": 875\n",
      "  }\n",
      "}\n",
      " \u001b[0m Total running cost: $0.162\n"
     ]
    }
   ],
   "source": [
    "for input_group in input_groups:\n",
    "    # TODO: set more conditions on <button> to be sure that buttons here are inputs\n",
    "    if input_group.node.element.name == 'button':\n",
    "        continue\n",
    "    \n",
    "    constraint_user_prompt = create_constraint_generation_user_prompt(form_context, input_group)\n",
    "    \n",
    "    generated_constraints = generate_constraints_with_llm(\n",
    "        constraint_user_prompt,\n",
    "        openai_api_key=openai.api_key\n",
    "    )\n",
    "    \n",
    "    field_name, constraints = generate_constraints_from_string(generated_constraints)\n",
    "    \n",
    "    fill_table.add_entry(field_name, input_group, constraints)"
   ]
  },
  {
   "cell_type": "code",
   "execution_count": 13,
   "id": "6eb6c2c6",
   "metadata": {
    "ExecuteTime": {
     "end_time": "2023-06-30T19:56:57.869283Z",
     "start_time": "2023-06-30T19:56:57.781511Z"
    }
   },
   "outputs": [],
   "source": [
    "def split_constant_and_field_constraints(constraints):\n",
    "    constants = list(filter(lambda x: not x.is_field, constraints))\n",
    "    fields = list(filter(lambda x: x.is_field, constraints))\n",
    "    return constants, fields"
   ]
  },
  {
   "cell_type": "code",
   "execution_count": 14,
   "id": "919aea1a",
   "metadata": {
    "ExecuteTime": {
     "end_time": "2023-06-30T19:57:06.238002Z",
     "start_time": "2023-06-30T19:56:58.582884Z"
    }
   },
   "outputs": [
    {
     "name": "stdout",
     "output_type": "stream",
     "text": [
      " \u001b[0m Prompt: [\n",
      "  {\n",
      "    \"role\": \"system\",\n",
      "    \"content\": \"Your task is to generate a value for a web form field based on the form field information and a set of constraints on the field. Your decisions must be made independently without seeking user assistance or additional information. For each user prompt, you need to generate one value that satisfies the constraints while keeping in mind the nature of the input from the available information. Only generate value and refrain from explaining your answers. Only generate value for the input field in question, and not the ones in the relevant information section.\"\n",
      "  },\n",
      "  {\n",
      "    \"role\": \"user\",\n",
      "    \"content\": \"The following are all the labels in the form, which provide context for the functionality of the form:  Round-trip ,  One-way ,  Multi-city/Stopover ,  Book with points , From, To, Departure, Return\\n    We are generating filling values for the following input field:\\n    input: <input id=\\\"bkmgFlights_tripTypeSelector_R\\\" name=\\\"tripType\\\" type=\\\"radio\\\" value=\\\"R\\\"/>\\nwith label: Round-trip\\n    The constraints on this input field are:\\n    input field should be R\"\n",
      "  }\n",
      "]\n",
      " \u001b[0m Response: {\n",
      "  \"choices\": [\n",
      "    {\n",
      "      \"finish_reason\": \"stop\",\n",
      "      \"index\": 0,\n",
      "      \"message\": {\n",
      "        \"content\": \"R\",\n",
      "        \"role\": \"assistant\"\n",
      "      }\n",
      "    }\n",
      "  ],\n",
      "  \"created\": 1688155019,\n",
      "  \"id\": \"chatcmpl-7XEWhicLNxlOZwUPpu5vFJ8E9qS4b\",\n",
      "  \"model\": \"gpt-4-0613\",\n",
      "  \"object\": \"chat.completion\",\n",
      "  \"usage\": {\n",
      "    \"completion_tokens\": 1,\n",
      "    \"prompt_tokens\": 224,\n",
      "    \"total_tokens\": 225\n",
      "  }\n",
      "}\n",
      " \u001b[0m Total running cost: $0.169\n",
      " \u001b[0m Prompt: [\n",
      "  {\n",
      "    \"role\": \"system\",\n",
      "    \"content\": \"Your task is to generate a value for a web form field based on the form field information and a set of constraints on the field. Your decisions must be made independently without seeking user assistance or additional information. For each user prompt, you need to generate one value that satisfies the constraints while keeping in mind the nature of the input from the available information. Only generate value and refrain from explaining your answers. Only generate value for the input field in question, and not the ones in the relevant information section.\"\n",
      "  },\n",
      "  {\n",
      "    \"role\": \"user\",\n",
      "    \"content\": \"The following are all the labels in the form, which provide context for the functionality of the form:  Round-trip ,  One-way ,  Multi-city/Stopover ,  Book with points , From, To, Departure, Return\\n    We are generating filling values for the following input field:\\n    input: <input id=\\\"bkmgFlights_tripTypeSelector_O\\\" name=\\\"tripType\\\" type=\\\"radio\\\" value=\\\"O\\\"/>\\nwith label: One-way\\n    The constraints on this input field are:\"\n",
      "  }\n",
      "]\n",
      " \u001b[0m Response: {\n",
      "  \"choices\": [\n",
      "    {\n",
      "      \"finish_reason\": \"stop\",\n",
      "      \"index\": 0,\n",
      "      \"message\": {\n",
      "        \"content\": \"O\",\n",
      "        \"role\": \"assistant\"\n",
      "      }\n",
      "    }\n",
      "  ],\n",
      "  \"created\": 1688155020,\n",
      "  \"id\": \"chatcmpl-7XEWiZSAJRVMeRYnuguqhcZcJLZMp\",\n",
      "  \"model\": \"gpt-4-0613\",\n",
      "  \"object\": \"chat.completion\",\n",
      "  \"usage\": {\n",
      "    \"completion_tokens\": 1,\n",
      "    \"prompt_tokens\": 217,\n",
      "    \"total_tokens\": 218\n",
      "  }\n",
      "}\n",
      " \u001b[0m Total running cost: $0.176\n",
      " \u001b[0m Prompt: [\n",
      "  {\n",
      "    \"role\": \"system\",\n",
      "    \"content\": \"Your task is to generate a value for a web form field based on the form field information and a set of constraints on the field. Your decisions must be made independently without seeking user assistance or additional information. For each user prompt, you need to generate one value that satisfies the constraints while keeping in mind the nature of the input from the available information. Only generate value and refrain from explaining your answers. Only generate value for the input field in question, and not the ones in the relevant information section.\"\n",
      "  },\n",
      "  {\n",
      "    \"role\": \"user\",\n",
      "    \"content\": \"The following are all the labels in the form, which provide context for the functionality of the form:  Round-trip ,  One-way ,  Multi-city/Stopover ,  Book with points , From, To, Departure, Return\\n    We are generating filling values for the following input field:\\n    input: <input id=\\\"bkmgFlights_tripTypeSelector_M\\\" name=\\\"tripType\\\" type=\\\"radio\\\" value=\\\"M\\\"/>\\nwith label: Multi-city/Stopover\\n    The constraints on this input field are:\\n    input field should be M')\\n# end of the sampl\"\n",
      "  }\n",
      "]\n",
      " \u001b[0m Response: {\n",
      "  \"choices\": [\n",
      "    {\n",
      "      \"finish_reason\": \"stop\",\n",
      "      \"index\": 0,\n",
      "      \"message\": {\n",
      "        \"content\": \"M\",\n",
      "        \"role\": \"assistant\"\n",
      "      }\n",
      "    }\n",
      "  ],\n",
      "  \"created\": 1688155021,\n",
      "  \"id\": \"chatcmpl-7XEWjfVRWKLIw5p3kM5Lrmh6KcZy1\",\n",
      "  \"model\": \"gpt-4-0613\",\n",
      "  \"object\": \"chat.completion\",\n",
      "  \"usage\": {\n",
      "    \"completion_tokens\": 1,\n",
      "    \"prompt_tokens\": 233,\n",
      "    \"total_tokens\": 234\n",
      "  }\n",
      "}\n",
      " \u001b[0m Total running cost: $0.183\n",
      " \u001b[0m Prompt: [\n",
      "  {\n",
      "    \"role\": \"system\",\n",
      "    \"content\": \"Your task is to generate a value for a web form field based on the form field information and a set of constraints on the field. Your decisions must be made independently without seeking user assistance or additional information. For each user prompt, you need to generate one value that satisfies the constraints while keeping in mind the nature of the input from the available information. Only generate value and refrain from explaining your answers. Only generate value for the input field in question, and not the ones in the relevant information section.\"\n",
      "  },\n",
      "  {\n",
      "    \"role\": \"user\",\n",
      "    \"content\": \"The following are all the labels in the form, which provide context for the functionality of the form:  Round-trip ,  One-way ,  Multi-city/Stopover ,  Book with points , From, To, Departure, Return\\n    We are generating filling values for the following input field:\\n    input: <input id=\\\"bkmgFlights_searchTypeToggle\\\" type=\\\"checkbox\\\"/>\\nwith label: Book with points\\n    The constraints on this input field are:\"\n",
      "  }\n",
      "]\n",
      " \u001b[0m Response: {\n",
      "  \"choices\": [\n",
      "    {\n",
      "      \"finish_reason\": \"stop\",\n",
      "      \"index\": 0,\n",
      "      \"message\": {\n",
      "        \"content\": \"true\",\n",
      "        \"role\": \"assistant\"\n",
      "      }\n",
      "    }\n",
      "  ],\n",
      "  \"created\": 1688155022,\n",
      "  \"id\": \"chatcmpl-7XEWk2uXWyXS0Q1GyuITRd0pjmqT3\",\n",
      "  \"model\": \"gpt-4-0613\",\n",
      "  \"object\": \"chat.completion\",\n",
      "  \"usage\": {\n",
      "    \"completion_tokens\": 1,\n",
      "    \"prompt_tokens\": 208,\n",
      "    \"total_tokens\": 209\n",
      "  }\n",
      "}\n",
      " \u001b[0m Total running cost: $0.189\n",
      " \u001b[0m Prompt: [\n",
      "  {\n",
      "    \"role\": \"system\",\n",
      "    \"content\": \"Your task is to generate a value for a web form field based on the form field information and a set of constraints on the field. Your decisions must be made independently without seeking user assistance or additional information. For each user prompt, you need to generate one value that satisfies the constraints while keeping in mind the nature of the input from the available information. Only generate value and refrain from explaining your answers. Only generate value for the input field in question, and not the ones in the relevant information section.\"\n",
      "  },\n",
      "  {\n",
      "    \"role\": \"user\",\n",
      "    \"content\": \"The following are all the labels in the form, which provide context for the functionality of the form:  Round-trip ,  One-way ,  Multi-city/Stopover ,  Book with points , From, To, Departure, Return\\n    We are generating filling values for the following input field:\\n    input: <input id=\\\"bkmgFlights_origin_trip_1\\\" name=\\\"bkmgFlights_origin_trip_1\\\" placeholder=\\\"\\\" type=\\\"text\\\"/>\\nwith label: From\\nwith the following relevant text tags:\\n<span>Vancouver </span>\\n<span>YVR</span>\\n<span>From</span>\\n    The constraints on this input field are:\\n    input field should be non-empty\\ninput field should be alphabetic\\ninput field should be greater than or equal to 3 characters\\ninput field should be less than or equal to 50 characters\"\n",
      "  }\n",
      "]\n",
      " \u001b[0m Response: {\n",
      "  \"choices\": [\n",
      "    {\n",
      "      \"finish_reason\": \"stop\",\n",
      "      \"index\": 0,\n",
      "      \"message\": {\n",
      "        \"content\": \"Vancouver\",\n",
      "        \"role\": \"assistant\"\n",
      "      }\n",
      "    }\n",
      "  ],\n",
      "  \"created\": 1688155023,\n",
      "  \"id\": \"chatcmpl-7XEWlLyxgco59tnKj0Wgi1mYx7fYC\",\n",
      "  \"model\": \"gpt-4-0613\",\n",
      "  \"object\": \"chat.completion\",\n",
      "  \"usage\": {\n",
      "    \"completion_tokens\": 2,\n",
      "    \"prompt_tokens\": 286,\n",
      "    \"total_tokens\": 288\n",
      "  }\n",
      "}\n",
      " \u001b[0m Total running cost: $0.198\n",
      " \u001b[0m Prompt: [\n",
      "  {\n",
      "    \"role\": \"system\",\n",
      "    \"content\": \"Your task is to generate a value for a web form field based on the form field information and a set of constraints on the field. Your decisions must be made independently without seeking user assistance or additional information. For each user prompt, you need to generate one value that satisfies the constraints while keeping in mind the nature of the input from the available information. Only generate value and refrain from explaining your answers. Only generate value for the input field in question, and not the ones in the relevant information section.\"\n",
      "  },\n",
      "  {\n",
      "    \"role\": \"user\",\n",
      "    \"content\": \"The following are all the labels in the form, which provide context for the functionality of the form:  Round-trip ,  One-way ,  Multi-city/Stopover ,  Book with points , From, To, Departure, Return\\n    We are generating filling values for the following input field:\\n    input: <input id=\\\"bkmgFlights_destination_trip_1\\\" name=\\\"bkmgFlights_destination_trip_1\\\" placeholder=\\\"\\\" type=\\\"text\\\"/>\\nwith label: To\\nwith the following relevant text tags:\\n<span>To</span>\\n    The constraints on this input field are:\\n    input field should be non-empty\"\n",
      "  }\n",
      "]\n"
     ]
    },
    {
     "name": "stdout",
     "output_type": "stream",
     "text": [
      " \u001b[0m Response: {\n",
      "  \"choices\": [\n",
      "    {\n",
      "      \"finish_reason\": \"stop\",\n",
      "      \"index\": 0,\n",
      "      \"message\": {\n",
      "        \"content\": \"New York\",\n",
      "        \"role\": \"assistant\"\n",
      "      }\n",
      "    }\n",
      "  ],\n",
      "  \"created\": 1688155024,\n",
      "  \"id\": \"chatcmpl-7XEWmHcL3KLG8tOxImgV90gope1Mi\",\n",
      "  \"model\": \"gpt-4-0613\",\n",
      "  \"object\": \"chat.completion\",\n",
      "  \"usage\": {\n",
      "    \"completion_tokens\": 2,\n",
      "    \"prompt_tokens\": 239,\n",
      "    \"total_tokens\": 241\n",
      "  }\n",
      "}\n",
      " \u001b[0m Total running cost: $0.205\n",
      " \u001b[0m Prompt: [\n",
      "  {\n",
      "    \"role\": \"system\",\n",
      "    \"content\": \"Your task is to generate a value for a web form field based on the form field information and a set of constraints on the field. Your decisions must be made independently without seeking user assistance or additional information. For each user prompt, you need to generate one value that satisfies the constraints while keeping in mind the nature of the input from the available information. Only generate value and refrain from explaining your answers. Only generate value for the input field in question, and not the ones in the relevant information section.\"\n",
      "  },\n",
      "  {\n",
      "    \"role\": \"user\",\n",
      "    \"content\": \"The following are all the labels in the form, which provide context for the functionality of the form:  Round-trip ,  One-way ,  Multi-city/Stopover ,  Book with points , From, To, Departure, Return\\n    We are generating filling values for the following input field:\\n    input: <input id=\\\"bkmgFlights_travelDates_1-formfield-1\\\" name=\\\"bkmgFlights_travelDates_1-formfield-1\\\" placeholder=\\\"DD/MM\\\" type=\\\"text\\\"/>\\nwith label: Departure\\nwith the following relevant text tags:\\n<span>Departure</span>\\n    The constraints on this input field are:\\n    input field should be non-empty\\ninput field should be  5 characters\\ninput field should contain / character\"\n",
      "  }\n",
      "]\n",
      " \u001b[0m Response: {\n",
      "  \"choices\": [\n",
      "    {\n",
      "      \"finish_reason\": \"stop\",\n",
      "      \"index\": 0,\n",
      "      \"message\": {\n",
      "        \"content\": \"15/07\",\n",
      "        \"role\": \"assistant\"\n",
      "      }\n",
      "    }\n",
      "  ],\n",
      "  \"created\": 1688155025,\n",
      "  \"id\": \"chatcmpl-7XEWnUEddhs7yB3NUqTAJfczRrhfy\",\n",
      "  \"model\": \"gpt-4-0613\",\n",
      "  \"object\": \"chat.completion\",\n",
      "  \"usage\": {\n",
      "    \"completion_tokens\": 3,\n",
      "    \"prompt_tokens\": 269,\n",
      "    \"total_tokens\": 272\n",
      "  }\n",
      "}\n",
      " \u001b[0m Total running cost: $0.213\n",
      " \u001b[0m Prompt: [\n",
      "  {\n",
      "    \"role\": \"system\",\n",
      "    \"content\": \"Your task is to generate a value for a web form field based on the form field information and a set of constraints on the field. Your decisions must be made independently without seeking user assistance or additional information. For each user prompt, you need to generate one value that satisfies the constraints while keeping in mind the nature of the input from the available information. Only generate value and refrain from explaining your answers. Only generate value for the input field in question, and not the ones in the relevant information section.\"\n",
      "  },\n",
      "  {\n",
      "    \"role\": \"user\",\n",
      "    \"content\": \"The following are all the labels in the form, which provide context for the functionality of the form:  Round-trip ,  One-way ,  Multi-city/Stopover ,  Book with points , From, To, Departure, Return\\n    We are generating filling values for the following input field:\\n    input: <input id=\\\"bkmgFlights_travelDates_1-formfield-2\\\" name=\\\"bkmgFlights_travelDates_1-formfield-2\\\" placeholder=\\\"DD/MM\\\" type=\\\"text\\\"/>\\nwith label: Return\\nwith the following relevant text tags:\\n<button id=\\\"bkmgFlights_selectTravelers\\\" type=\\\"button\\\"><div><span-wrap><!-- --></span-wrap><div><abc-form-element-label><div id=\\\"bkmgFlights_selectTravelersLabel\\\"><span>Passenger(s)</span></div></abc-form-element-label><span-wrap><!-- --></span-wrap><div id=\\\"bkmgFlights_selectTravelersMainContainer\\\"><div><span> 1 Adult </span></div></div></div><abc-affix><div><span-wrap><!-- --></span-wrap><span></span><span-wrap><!-- --></span-wrap><span-wrap><!-- --></span-wrap><span-wrap><!-- --></span-wrap><span-wrap><!-- --></span-wrap><span-wrap><!-- --></span-wrap><span-wrap><!-- --></span-wrap></div></abc-affix><span-wrap><!-- --></span-wrap></div><abc-form-element-underline><div></div></abc-form-element-underline></button>\\n<span>Return</span>\\n    The constraints on this input field are:\\n    input field should be non-empty\\ninput field should be  5 characters\\ninput field should contain / character\\ninput field should be greater than field(bkmgFlights_travelDates_1-formfield-1)\\n    The values for the fields in constraints are:\\n    field: bkmgFlights_travelDates_1-formfield-1, value: 15/07\"\n",
      "  }\n",
      "]\n",
      " \u001b[0m Response: {\n",
      "  \"choices\": [\n",
      "    {\n",
      "      \"finish_reason\": \"stop\",\n",
      "      \"index\": 0,\n",
      "      \"message\": {\n",
      "        \"content\": \"20/07\",\n",
      "        \"role\": \"assistant\"\n",
      "      }\n",
      "    }\n",
      "  ],\n",
      "  \"created\": 1688155025,\n",
      "  \"id\": \"chatcmpl-7XEWnZyzxHghONji3PcXjpfuOyetJ\",\n",
      "  \"model\": \"gpt-4-0613\",\n",
      "  \"object\": \"chat.completion\",\n",
      "  \"usage\": {\n",
      "    \"completion_tokens\": 3,\n",
      "    \"prompt_tokens\": 517,\n",
      "    \"total_tokens\": 520\n",
      "  }\n",
      "}\n",
      " \u001b[0m Total running cost: $0.229\n"
     ]
    }
   ],
   "source": [
    "# value generation loop\n",
    "\n",
    "for input_group in input_groups:\n",
    "    if input_group.node.element.name == 'button':\n",
    "        continue\n",
    "    \n",
    "    fill_entry = fill_table.get_entry_by_input_group(input_group)\n",
    "    \n",
    "    if fill_entry is None:\n",
    "        continue\n",
    "    \n",
    "    constraints = fill_entry.constraints\n",
    "    constant_constraints, field_constraints = split_constant_and_field_constraints(constraints)\n",
    "    including_constraints = [*constant_constraints]\n",
    "\n",
    "    relevant_field_values = []\n",
    "    for field_constraint in field_constraints:\n",
    "        field_arg = field_constraint.get_field_args()[0]\n",
    "        \n",
    "        if field_arg not in fill_table.entries:\n",
    "            continue\n",
    "        \n",
    "        value = fill_table.get_entry_by_field_id(field_arg).value\n",
    "        \n",
    "        if value is not None:\n",
    "            including_constraints.append(field_constraint)\n",
    "            relevant_field_values.append((field_arg, value))\n",
    "    \n",
    "    value_user_prompt = create_value_generation_user_prompt(\n",
    "        form_context,\n",
    "        fill_entry.input_group,\n",
    "        including_constraints,\n",
    "        relevant_field_values=relevant_field_values if len(relevant_field_values) > 0 else None,\n",
    "    )\n",
    "    \n",
    "    generated_value = generate_values_with_llm(\n",
    "        value_user_prompt,\n",
    "        openai_api_key=openai.api_key\n",
    "    )\n",
    "    \n",
    "    fill_entry.set_value(generated_value)"
   ]
  },
  {
   "cell_type": "code",
   "execution_count": 15,
   "id": "84216208",
   "metadata": {
    "ExecuteTime": {
     "end_time": "2023-06-30T19:57:11.063577Z",
     "start_time": "2023-06-30T19:57:10.986748Z"
    }
   },
   "outputs": [],
   "source": [
    "from method.ours.utils import interact_with_input"
   ]
  },
  {
   "cell_type": "code",
   "execution_count": 16,
   "id": "3eafcce9",
   "metadata": {
    "ExecuteTime": {
     "end_time": "2023-06-30T19:57:12.512500Z",
     "start_time": "2023-06-30T19:57:11.788382Z"
    }
   },
   "outputs": [
    {
     "name": "stdout",
     "output_type": "stream",
     "text": [
      "<input>value is R</input> at y: (567, 597), x: (219, 319)\n",
      "R\n",
      "<input>value is O</input> at y: (567, 597), x: (334, 421)\n",
      "O\n",
      "<input>value is M</input> at y: (567, 597), x: (437, 591)\n",
      "M\n",
      "<input></input> at y: (574, 594), x: (652, 905)\n",
      "true\n",
      "<input></input> at y: (628, 678), x: (198, 466)\n",
      "Vancouver\n",
      "<input></input> at y: (628, 678), x: (536, 804)\n",
      "New York\n",
      "<input>DD/MM</input> at y: (628, 678), x: (833, 958)\n",
      "15/07\n",
      "<input>DD/MM</input> at y: (628, 678), x: (978, 1093)\n",
      "20/07\n"
     ]
    }
   ],
   "source": [
    "for input_group in input_groups:\n",
    "    entry = fill_table.get_entry_by_input_group(input_group)\n",
    "    \n",
    "    if entry is None:\n",
    "        continue\n",
    "    \n",
    "    print(entry.input_group.node)\n",
    "    print(entry.value)\n",
    "    \n",
    "    element = driver.find_element(By.XPATH, entry.input_group.node.xpath)\n",
    "    \n",
    "    if element.get_attribute('type') not in ['submit', 'radio', 'checkbox']:\n",
    "        interact_with_input(element, entry.value)"
   ]
  },
  {
   "cell_type": "code",
   "execution_count": 17,
   "id": "d61d965b",
   "metadata": {
    "ExecuteTime": {
     "end_time": "2023-06-30T19:57:17.640730Z",
     "start_time": "2023-06-30T19:57:17.563867Z"
    }
   },
   "outputs": [],
   "source": [
    "submit = list(filter(\n",
    "    lambda x: x.node.element.attrs['type'] == 'submit',\n",
    "    input_groups\n",
    "))[0]"
   ]
  },
  {
   "cell_type": "code",
   "execution_count": 18,
   "id": "1ffab543",
   "metadata": {
    "ExecuteTime": {
     "end_time": "2023-06-30T19:57:21.819752Z",
     "start_time": "2023-06-30T19:57:18.386262Z"
    }
   },
   "outputs": [],
   "source": [
    "interact_with_input(driver.find_element(By.XPATH, submit.node.xpath), True)"
   ]
  },
  {
   "cell_type": "markdown",
   "id": "2443dfc7",
   "metadata": {},
   "source": [
    "# Feedback with Diff"
   ]
  },
  {
   "cell_type": "code",
   "execution_count": 20,
   "id": "c592823b",
   "metadata": {
    "ExecuteTime": {
     "end_time": "2023-06-30T19:57:27.933033Z",
     "start_time": "2023-06-30T19:57:27.838537Z"
    }
   },
   "outputs": [],
   "source": [
    "html2 = driver.find_element(By.TAG_NAME, 'body').get_attribute('outerHTML')"
   ]
  },
  {
   "cell_type": "code",
   "execution_count": 21,
   "id": "7cd728ae",
   "metadata": {
    "ExecuteTime": {
     "end_time": "2023-06-30T19:57:29.214032Z",
     "start_time": "2023-06-30T19:57:28.686405Z"
    }
   },
   "outputs": [],
   "source": [
    "from bs4 import BeautifulSoup\n",
    "from deepdiff import DeepDiff\n",
    "\n",
    "# Parse the HTML.\n",
    "soup1 = BeautifulSoup(html1, 'html.parser')\n",
    "soup2 = BeautifulSoup(html2, 'html.parser')\n",
    "\n",
    "# Find the differences.\n",
    "diff = DeepDiff(soup1, soup2)\n",
    "\n",
    "# Print the differences.\n",
    "for change, details in diff.items():\n",
    "    print(change)\n",
    "    for detail in details:\n",
    "        print(\"   \", detail)"
   ]
  },
  {
   "cell_type": "code",
   "execution_count": 22,
   "id": "45e58626",
   "metadata": {
    "ExecuteTime": {
     "end_time": "2023-06-30T19:57:30.372273Z",
     "start_time": "2023-06-30T19:57:30.300912Z"
    }
   },
   "outputs": [],
   "source": [
    "feedback_keywords = [\n",
    "    'invalid',\n",
    "    'required',\n",
    "    'error',\n",
    "    'not possible',\n",
    "    'missing',\n",
    "    'failed',\n",
    "    'incorrect',\n",
    "    'retry',\n",
    "    'verify',\n",
    "    'exceeds',\n",
    "    'denied',\n",
    "    'please enter',\n",
    "    'format',\n",
    "    'does not match',\n",
    "    'try again',\n",
    "    'unavailable',\n",
    "    'warning',\n",
    "    'out of range',\n",
    "    'unable to',\n",
    "    'not recognized',\n",
    "    'not allowed',\n",
    "    'incomplete',\n",
    "    'cannot process',\n",
    "    'duplicate',\n",
    "    'too short',\n",
    "    'too long',\n",
    "    'doesn\\'t exist',\n",
    "    'does not exist',\n",
    "    'already exist',\n",
    "    'authentication failed',\n",
    "    'expired',\n",
    "    'update failed',\n",
    "    'connection',\n",
    "    'server error',\n",
    "    'system error',\n",
    "    'not valid',\n",
    "    'timed out',\n",
    "    'access denied',\n",
    "    'please confirm',\n",
    "    'not acceptable',\n",
    "    'submission failed',\n",
    "    'unexpected',\n",
    "    'conflict',\n",
    "    'not applicable',\n",
    "    'not active',\n",
    "    'not found',\n",
    "    'not secure',\n",
    "    'forbidden',\n",
    "    'disconnect',\n",
    "    'prohibited',\n",
    "]"
   ]
  },
  {
   "cell_type": "code",
   "execution_count": 23,
   "id": "614c5e7d",
   "metadata": {
    "ExecuteTime": {
     "end_time": "2023-06-30T19:57:31.579422Z",
     "start_time": "2023-06-30T19:57:31.505788Z"
    }
   },
   "outputs": [
    {
     "data": {
      "text/plain": [
       "{}"
      ]
     },
     "execution_count": 23,
     "metadata": {},
     "output_type": "execute_result"
    }
   ],
   "source": [
    "diff"
   ]
  },
  {
   "cell_type": "code",
   "execution_count": 24,
   "id": "eec4cd92",
   "metadata": {
    "ExecuteTime": {
     "end_time": "2023-06-30T19:57:32.755269Z",
     "start_time": "2023-06-30T19:57:32.685270Z"
    }
   },
   "outputs": [],
   "source": [
    "changes = []\n",
    "\n",
    "if 'type_changes' in diff:\n",
    "    for type_change in diff['type_changes'].values():\n",
    "        changes.append(type_change['new_value'])\n",
    "\n",
    "if 'values_changed' in diff:\n",
    "    for value_change in diff['values_changed'].values():\n",
    "        changes.append(value_change['new_value'])\n",
    "\n",
    "if 'iterable_item_added' in diff:\n",
    "    for iterable_item in diff['iterable_item_added'].values():\n",
    "        changes.append(iterable_item)"
   ]
  },
  {
   "cell_type": "code",
   "execution_count": 25,
   "id": "212794f9",
   "metadata": {
    "ExecuteTime": {
     "end_time": "2023-06-30T19:57:33.900043Z",
     "start_time": "2023-06-30T19:57:33.832645Z"
    }
   },
   "outputs": [],
   "source": [
    "changes = list(filter(lambda x: x.strip() != '', map(lambda x: x.text.strip(), changes)))"
   ]
  },
  {
   "cell_type": "code",
   "execution_count": 26,
   "id": "cdb9be17",
   "metadata": {
    "ExecuteTime": {
     "end_time": "2023-06-30T19:57:35.030221Z",
     "start_time": "2023-06-30T19:57:34.963385Z"
    }
   },
   "outputs": [],
   "source": [
    "def has_feedback_keyword(sentence):\n",
    "    for keyword in feedback_keywords:\n",
    "        if keyword in sentence:\n",
    "            return True\n",
    "    return False\n",
    "\n",
    "\n",
    "changes = list(filter(has_feedback_keyword, changes))"
   ]
  },
  {
   "cell_type": "code",
   "execution_count": 27,
   "id": "bb13de37",
   "metadata": {
    "ExecuteTime": {
     "end_time": "2023-06-30T19:57:36.160397Z",
     "start_time": "2023-06-30T19:57:36.093408Z"
    }
   },
   "outputs": [
    {
     "data": {
      "text/plain": [
       "[]"
      ]
     },
     "execution_count": 27,
     "metadata": {},
     "output_type": "execute_result"
    }
   ],
   "source": [
    "changes"
   ]
  },
  {
   "cell_type": "markdown",
   "id": "1352b64b",
   "metadata": {},
   "source": [
    "# Feedback"
   ]
  },
  {
   "cell_type": "code",
   "execution_count": 28,
   "id": "720cade4",
   "metadata": {
    "ExecuteTime": {
     "end_time": "2023-06-30T19:57:37.727885Z",
     "start_time": "2023-06-30T19:57:37.644129Z"
    }
   },
   "outputs": [],
   "source": [
    "new_form = driver.find_elements(By.TAG_NAME, 'form')[1]"
   ]
  },
  {
   "cell_type": "code",
   "execution_count": 29,
   "id": "b99a21e9",
   "metadata": {
    "ExecuteTime": {
     "end_time": "2023-06-30T19:58:13.095659Z",
     "start_time": "2023-06-30T19:57:38.818861Z"
    }
   },
   "outputs": [
    {
     "data": {
      "application/vnd.jupyter.widget-view+json": {
       "model_id": "6d7803ee56b3490ba9212564e005ef21",
       "version_major": 2,
       "version_minor": 0
      },
      "text/plain": [
       "Computing transition probabilities:   0%|          | 0/366 [00:00<?, ?it/s]"
      ]
     },
     "metadata": {},
     "output_type": "display_data"
    },
    {
     "name": "stderr",
     "output_type": "stream",
     "text": [
      "Generating walks (CPU: 1): 100%|██████████| 50/50 [00:00<00:00, 762.00it/s]\n",
      "Generating walks (CPU: 2): 100%|██████████| 50/50 [00:00<00:00, 769.68it/s]\n",
      "Generating walks (CPU: 3): 100%|██████████| 50/50 [00:00<00:00, 680.25it/s]\n",
      "Generating walks (CPU: 4): 100%|██████████| 50/50 [00:00<00:00, 705.44it/s]\n",
      "100%|███████████████████████████████████████████████████████████████████████████████████████████████████████████████████████████████| 38/38 [00:11<00:00,  3.26it/s]\n",
      "/Library/Frameworks/Python.framework/Versions/3.10/lib/python3.10/site-packages/openai/embeddings_utils.py:68: RuntimeWarning: invalid value encountered in scalar divide\n",
      "  return np.dot(a, b) / (np.linalg.norm(a) * np.linalg.norm(b))\n"
     ]
    }
   ],
   "source": [
    "new_relation_graph, new_input_groups = parse_after_feedback(driver, new_form, relation_graph, TEXT_EMBEDDING_METHOD)"
   ]
  },
  {
   "cell_type": "code",
   "execution_count": 31,
   "id": "a328e447",
   "metadata": {
    "ExecuteTime": {
     "end_time": "2023-06-30T19:58:20.036557Z",
     "start_time": "2023-06-30T19:58:19.956486Z"
    }
   },
   "outputs": [
    {
     "data": {
      "text/plain": [
       "{'added': [<span>New York </span> at y: (732, 754), x: (536, 611),\n",
       "  <span> All airports </span> at y: (732, 754), x: (611, 692),\n",
       "  <span>Sat Jul 15</span> at y: (732, 754), x: (833, 901),\n",
       "  <span>Thu Jul 20</span> at y: (732, 754), x: (978, 1051)],\n",
       " 'removed': []}"
      ]
     },
     "execution_count": 31,
     "metadata": {},
     "output_type": "execute_result"
    }
   ],
   "source": [
    "relation_graph.diff(new_relation_graph)"
   ]
  },
  {
   "cell_type": "code",
   "execution_count": 32,
   "id": "d68a7f52",
   "metadata": {
    "ExecuteTime": {
     "end_time": "2023-06-30T19:58:25.519598Z",
     "start_time": "2023-06-30T19:58:22.850624Z"
    }
   },
   "outputs": [
    {
     "name": "stdout",
     "output_type": "stream",
     "text": [
      " \u001b[0m Prompt: [\n",
      "  {\n",
      "    \"role\": \"system\",\n",
      "    \"content\": \"Instructions:\\nYour task is to generate a set of constraints for web form fields. Your decisions must be made independently without seeking user assistance or additional information. If there are multiple ways to express constraints, use the least number of constraints to describe them. Only generate the constraints and refrain from explaining your answers. Only generate constraints for the input field in question, not those in the relevant information section. You must choose your constraints in the format of our modified version of the Jest library in JavaScript. The list of functions in this modified format are:\\n1. toBeEqual(value) # the input field value is exactly equal to the given value\\n2. toHaveLengthCondition(condition, value) # the length of the input field value matches the given condition\\n3. toBeTruthy() # the input field value is truthy and not empty (not false, 0, '', null, undefined, or NaN)\\n4. toHaveCompareCondition(condition, numberOrDateValue) # the input field value has the given condition to the given value\\n5. toContainSubString(stringValue)\\n6. toContainChar(charValue)\\n7. toBeAlphabetical()\\n8. toBeNumerical()\\n9. toBeAlphaNumerical()\\n10. toContainUpperCaseChars()\\n11. toContainSpecialChars()\\n12. toContainWhiteSpace()\\n13. toStartWithString(stringValue)\\n14. toEndWithString(stringValue)\\nYou must choose only from this list of functions, and avoid using any other functions. Use the notation \\\"field('elementId')\\\" to refer to input fields in the form.\\n\\nExample of generated constraints for a password input field:\\n# sample\\nexpect(field('password'))\\n.toHaveLengthCondition('>', 8)\\n.toHaveLengthCondition('<', 50)\\n.toBeAlphaNumeric()\\n.toHaveUpperCase()\\n.toHaveSpecialChars()\\n.not.toBeTruthy()\\n.toBeEqual(field('confirm-password'))\\n# end of the sample\"\n",
      "  },\n",
      "  {\n",
      "    \"role\": \"user\",\n",
      "    \"content\": \"The following are all the labels in the form, which provide context for the functionality of the form:  Round-trip ,  One-way ,  Multi-city/Stopover ,  Book with points , From, To, Departure, Return\\n    We are generating constraints for the following input field:\\n    input: <input id=\\\"bkmgFlights_destination_trip_1\\\" name=\\\"bkmgFlights_destination_trip_1\\\" placeholder=\\\"\\\" type=\\\"text\\\"/>\\nwith label: To\\nwith the following relevant text tags:\\n<span>To</span>\\n<span>New York </span>\\n<span> All airports </span>\\n    The relevant input fields available in the form are (in order of relevance):\\n    1.\\ninput: <input id=\\\"bkmgFlights_origin_trip_1\\\" name=\\\"bkmgFlights_origin_trip_1\\\" placeholder=\\\"\\\" type=\\\"text\\\"/>\\nwith label: From\\n    The previously generated constraints are:\\n    input field should be non-empty\\ninput field should not be field(bkmgFlights_origin_trip_1)\\n    We have tried the following value in this field before:\\n    New York\\n    And got the following inline and global feedback:\\n    All airports\"\n",
      "  }\n",
      "]\n",
      " \u001b[0m Response: {\n",
      "  \"choices\": [\n",
      "    {\n",
      "      \"finish_reason\": \"stop\",\n",
      "      \"index\": 0,\n",
      "      \"message\": {\n",
      "        \"content\": \"expect(field('bkmgFlights_destination_trip_1'))\\n.toBeTruthy()\\n.not.toBeEqual(field('bkmgFlights_origin_trip_1'))\",\n",
      "        \"role\": \"assistant\"\n",
      "      }\n",
      "    }\n",
      "  ],\n",
      "  \"created\": 1688155103,\n",
      "  \"id\": \"chatcmpl-7XEY3JeImL7WlZOMCkR896z7AOaLO\",\n",
      "  \"model\": \"gpt-4-0613\",\n",
      "  \"object\": \"chat.completion\",\n",
      "  \"usage\": {\n",
      "    \"completion_tokens\": 29,\n",
      "    \"prompt_tokens\": 637,\n",
      "    \"total_tokens\": 666\n",
      "  }\n",
      "}\n",
      " \u001b[0m Total running cost: $0.250\n"
     ]
    }
   ],
   "source": [
    "for input_group in new_input_groups:\n",
    "    # TODO: set more conditions on <button> to be sure that buttons here are inputs\n",
    "    if input_group.node.element.name == 'button':\n",
    "        continue\n",
    "    \n",
    "    last_entry = fill_table.get_entry_by_input_group(input_group)\n",
    "    \n",
    "    local_feedback = list(\n",
    "        map(\n",
    "            lambda x: x.target.element.text,\n",
    "            filter(\n",
    "                lambda x: x.type.value == 'P_FEEDBACK',\n",
    "                input_group.node.edges.values()\n",
    "            )\n",
    "        )\n",
    "    )\n",
    "    global_feedback = changes\n",
    "    \n",
    "    feedback_string = '\\n'.join([*local_feedback, *global_feedback]).strip()\n",
    "    \n",
    "    last_try = {\n",
    "        \"value\": last_entry.value,\n",
    "        \"feedback\": feedback_string\n",
    "    }\n",
    "    \n",
    "    if feedback_string != '':\n",
    "        constraint_user_prompt = create_constraint_generation_user_prompt(\n",
    "            form_context,\n",
    "            input_group,\n",
    "            last_try=last_try,\n",
    "            constraints=last_entry.constraints\n",
    "        )\n",
    "        \n",
    "        generated_constraints = generate_constraints_with_llm(\n",
    "            constraint_user_prompt,\n",
    "            openai_api_key=openai.api_key\n",
    "        )\n",
    "        \n",
    "        field_name, constraints = generate_constraints_from_string(generated_constraints)\n",
    "        fill_table.add_entry(field_name, input_group, constraints)\n",
    "    \n",
    "    '''constraint_user_prompt = create_constraint_generation_user_prompt(form_context, input_group)\n",
    "    \n",
    "    generated_constraints = generate_constraints_with_llm(\n",
    "        constraint_user_prompt,\n",
    "        openai_api_key=openai.api_key\n",
    "    )\n",
    "    \n",
    "    field_name, constraints = generate_constraints_from_string(generated_constraints)\n",
    "    \n",
    "    fill_table.add_entry(field_name, input_group, constraints)'''"
   ]
  },
  {
   "cell_type": "code",
   "execution_count": 33,
   "id": "653c65ef",
   "metadata": {
    "ExecuteTime": {
     "end_time": "2023-06-30T19:58:33.793046Z",
     "start_time": "2023-06-30T19:58:26.602040Z"
    }
   },
   "outputs": [
    {
     "name": "stdout",
     "output_type": "stream",
     "text": [
      " \u001b[0m Prompt: [\n",
      "  {\n",
      "    \"role\": \"system\",\n",
      "    \"content\": \"Your task is to generate a value for a web form field based on the form field information and a set of constraints on the field. Your decisions must be made independently without seeking user assistance or additional information. For each user prompt, you need to generate one value that satisfies the constraints while keeping in mind the nature of the input from the available information. Only generate value and refrain from explaining your answers. Only generate value for the input field in question, and not the ones in the relevant information section.\"\n",
      "  },\n",
      "  {\n",
      "    \"role\": \"user\",\n",
      "    \"content\": \"The following are all the labels in the form, which provide context for the functionality of the form:  Round-trip ,  One-way ,  Multi-city/Stopover ,  Book with points , From, To, Departure, Return\\n    We are generating filling values for the following input field:\\n    input: <input id=\\\"bkmgFlights_tripTypeSelector_R\\\" name=\\\"tripType\\\" type=\\\"radio\\\" value=\\\"R\\\"/>\\nwith label: Round-trip\\n    The constraints on this input field are:\\n    input field should be R\"\n",
      "  }\n",
      "]\n",
      " \u001b[0m Response: {\n",
      "  \"choices\": [\n",
      "    {\n",
      "      \"finish_reason\": \"stop\",\n",
      "      \"index\": 0,\n",
      "      \"message\": {\n",
      "        \"content\": \"R\",\n",
      "        \"role\": \"assistant\"\n",
      "      }\n",
      "    }\n",
      "  ],\n",
      "  \"created\": 1688155107,\n",
      "  \"id\": \"chatcmpl-7XEY7HPLjNj3IXAS4loyxKZ507pDc\",\n",
      "  \"model\": \"gpt-4-0613\",\n",
      "  \"object\": \"chat.completion\",\n",
      "  \"usage\": {\n",
      "    \"completion_tokens\": 1,\n",
      "    \"prompt_tokens\": 224,\n",
      "    \"total_tokens\": 225\n",
      "  }\n",
      "}\n",
      " \u001b[0m Total running cost: $0.257\n",
      " \u001b[0m Prompt: [\n",
      "  {\n",
      "    \"role\": \"system\",\n",
      "    \"content\": \"Your task is to generate a value for a web form field based on the form field information and a set of constraints on the field. Your decisions must be made independently without seeking user assistance or additional information. For each user prompt, you need to generate one value that satisfies the constraints while keeping in mind the nature of the input from the available information. Only generate value and refrain from explaining your answers. Only generate value for the input field in question, and not the ones in the relevant information section.\"\n",
      "  },\n",
      "  {\n",
      "    \"role\": \"user\",\n",
      "    \"content\": \"The following are all the labels in the form, which provide context for the functionality of the form:  Round-trip ,  One-way ,  Multi-city/Stopover ,  Book with points , From, To, Departure, Return\\n    We are generating filling values for the following input field:\\n    input: <input id=\\\"bkmgFlights_tripTypeSelector_O\\\" name=\\\"tripType\\\" type=\\\"radio\\\" value=\\\"O\\\"/>\\nwith label: One-way\\n    The constraints on this input field are:\"\n",
      "  }\n",
      "]\n",
      " \u001b[0m Response: {\n",
      "  \"choices\": [\n",
      "    {\n",
      "      \"finish_reason\": \"stop\",\n",
      "      \"index\": 0,\n",
      "      \"message\": {\n",
      "        \"content\": \"O\",\n",
      "        \"role\": \"assistant\"\n",
      "      }\n",
      "    }\n",
      "  ],\n",
      "  \"created\": 1688155107,\n",
      "  \"id\": \"chatcmpl-7XEY7QijwjbtSyZB5ZB1aZ5nzOQU8\",\n",
      "  \"model\": \"gpt-4-0613\",\n",
      "  \"object\": \"chat.completion\",\n",
      "  \"usage\": {\n",
      "    \"completion_tokens\": 1,\n",
      "    \"prompt_tokens\": 217,\n",
      "    \"total_tokens\": 218\n",
      "  }\n",
      "}\n",
      " \u001b[0m Total running cost: $0.263\n",
      " \u001b[0m Prompt: [\n",
      "  {\n",
      "    \"role\": \"system\",\n",
      "    \"content\": \"Your task is to generate a value for a web form field based on the form field information and a set of constraints on the field. Your decisions must be made independently without seeking user assistance or additional information. For each user prompt, you need to generate one value that satisfies the constraints while keeping in mind the nature of the input from the available information. Only generate value and refrain from explaining your answers. Only generate value for the input field in question, and not the ones in the relevant information section.\"\n",
      "  },\n",
      "  {\n",
      "    \"role\": \"user\",\n",
      "    \"content\": \"The following are all the labels in the form, which provide context for the functionality of the form:  Round-trip ,  One-way ,  Multi-city/Stopover ,  Book with points , From, To, Departure, Return\\n    We are generating filling values for the following input field:\\n    input: <input id=\\\"bkmgFlights_tripTypeSelector_M\\\" name=\\\"tripType\\\" type=\\\"radio\\\" value=\\\"M\\\"/>\\nwith label: Multi-city/Stopover\\n    The constraints on this input field are:\\n    input field should be M')\\n# end of the sampl\"\n",
      "  }\n",
      "]\n",
      " \u001b[0m Response: {\n",
      "  \"choices\": [\n",
      "    {\n",
      "      \"finish_reason\": \"stop\",\n",
      "      \"index\": 0,\n",
      "      \"message\": {\n",
      "        \"content\": \"M\",\n",
      "        \"role\": \"assistant\"\n",
      "      }\n",
      "    }\n",
      "  ],\n",
      "  \"created\": 1688155109,\n",
      "  \"id\": \"chatcmpl-7XEY99lN9rtRyAJ5KunZnhksuw4XV\",\n",
      "  \"model\": \"gpt-4-0613\",\n",
      "  \"object\": \"chat.completion\",\n",
      "  \"usage\": {\n",
      "    \"completion_tokens\": 1,\n",
      "    \"prompt_tokens\": 233,\n",
      "    \"total_tokens\": 234\n",
      "  }\n",
      "}\n",
      " \u001b[0m Total running cost: $0.270\n",
      " \u001b[0m Prompt: [\n",
      "  {\n",
      "    \"role\": \"system\",\n",
      "    \"content\": \"Your task is to generate a value for a web form field based on the form field information and a set of constraints on the field. Your decisions must be made independently without seeking user assistance or additional information. For each user prompt, you need to generate one value that satisfies the constraints while keeping in mind the nature of the input from the available information. Only generate value and refrain from explaining your answers. Only generate value for the input field in question, and not the ones in the relevant information section.\"\n",
      "  },\n",
      "  {\n",
      "    \"role\": \"user\",\n",
      "    \"content\": \"The following are all the labels in the form, which provide context for the functionality of the form:  Round-trip ,  One-way ,  Multi-city/Stopover ,  Book with points , From, To, Departure, Return\\n    We are generating filling values for the following input field:\\n    input: <input id=\\\"bkmgFlights_searchTypeToggle\\\" type=\\\"checkbox\\\"/>\\nwith label: Book with points\\n    The constraints on this input field are:\"\n",
      "  }\n",
      "]\n",
      " \u001b[0m Response: {\n",
      "  \"choices\": [\n",
      "    {\n",
      "      \"finish_reason\": \"stop\",\n",
      "      \"index\": 0,\n",
      "      \"message\": {\n",
      "        \"content\": \"true\",\n",
      "        \"role\": \"assistant\"\n",
      "      }\n",
      "    }\n",
      "  ],\n",
      "  \"created\": 1688155110,\n",
      "  \"id\": \"chatcmpl-7XEYA7jLs1PUI1AeFbMlO15XJcHk9\",\n",
      "  \"model\": \"gpt-4-0613\",\n",
      "  \"object\": \"chat.completion\",\n",
      "  \"usage\": {\n",
      "    \"completion_tokens\": 1,\n",
      "    \"prompt_tokens\": 208,\n",
      "    \"total_tokens\": 209\n",
      "  }\n",
      "}\n",
      " \u001b[0m Total running cost: $0.276\n",
      " \u001b[0m Prompt: [\n",
      "  {\n",
      "    \"role\": \"system\",\n",
      "    \"content\": \"Your task is to generate a value for a web form field based on the form field information and a set of constraints on the field. Your decisions must be made independently without seeking user assistance or additional information. For each user prompt, you need to generate one value that satisfies the constraints while keeping in mind the nature of the input from the available information. Only generate value and refrain from explaining your answers. Only generate value for the input field in question, and not the ones in the relevant information section.\"\n",
      "  },\n",
      "  {\n",
      "    \"role\": \"user\",\n",
      "    \"content\": \"The following are all the labels in the form, which provide context for the functionality of the form:  Round-trip ,  One-way ,  Multi-city/Stopover ,  Book with points , From, To, Departure, Return\\n    We are generating filling values for the following input field:\\n    input: <input id=\\\"bkmgFlights_origin_trip_1\\\" name=\\\"bkmgFlights_origin_trip_1\\\" placeholder=\\\"\\\" type=\\\"text\\\"/>\\nwith label: From\\nwith the following relevant text tags:\\n<span>Vancouver </span>\\n<span>YVR</span>\\n<span>From</span>\\n    The constraints on this input field are:\\n    input field should be non-empty\\ninput field should be alphabetic\\ninput field should be greater than or equal to 3 characters\\ninput field should be less than or equal to 50 characters\"\n",
      "  }\n",
      "]\n",
      " \u001b[0m Response: {\n",
      "  \"choices\": [\n",
      "    {\n",
      "      \"finish_reason\": \"stop\",\n",
      "      \"index\": 0,\n",
      "      \"message\": {\n",
      "        \"content\": \"Vancouver\",\n",
      "        \"role\": \"assistant\"\n",
      "      }\n",
      "    }\n",
      "  ],\n",
      "  \"created\": 1688155111,\n",
      "  \"id\": \"chatcmpl-7XEYBG6yZfoqsUcKoZLeu7jcQee4h\",\n",
      "  \"model\": \"gpt-4-0613\",\n",
      "  \"object\": \"chat.completion\",\n",
      "  \"usage\": {\n",
      "    \"completion_tokens\": 2,\n",
      "    \"prompt_tokens\": 286,\n",
      "    \"total_tokens\": 288\n",
      "  }\n",
      "}\n",
      " \u001b[0m Total running cost: $0.285\n",
      " \u001b[0m Prompt: [\n",
      "  {\n",
      "    \"role\": \"system\",\n",
      "    \"content\": \"Your task is to generate a value for a web form field based on the form field information and a set of constraints on the field. Your decisions must be made independently without seeking user assistance or additional information. For each user prompt, you need to generate one value that satisfies the constraints while keeping in mind the nature of the input from the available information. Only generate value and refrain from explaining your answers. Only generate value for the input field in question, and not the ones in the relevant information section.\"\n",
      "  },\n",
      "  {\n",
      "    \"role\": \"user\",\n",
      "    \"content\": \"The following are all the labels in the form, which provide context for the functionality of the form:  Round-trip ,  One-way ,  Multi-city/Stopover ,  Book with points , From, To, Departure, Return\\n    We are generating filling values for the following input field:\\n    input: <input id=\\\"bkmgFlights_destination_trip_1\\\" name=\\\"bkmgFlights_destination_trip_1\\\" placeholder=\\\"\\\" type=\\\"text\\\"/>\\nwith label: To\\nwith the following relevant text tags:\\n<span>To</span>\\n<span>New York </span>\\n<span> All airports </span>\\n    The constraints on this input field are:\\n    input field should be non-empty\"\n",
      "  }\n",
      "]\n"
     ]
    },
    {
     "name": "stdout",
     "output_type": "stream",
     "text": [
      " \u001b[0m Response: {\n",
      "  \"choices\": [\n",
      "    {\n",
      "      \"finish_reason\": \"stop\",\n",
      "      \"index\": 0,\n",
      "      \"message\": {\n",
      "        \"content\": \"New York\",\n",
      "        \"role\": \"assistant\"\n",
      "      }\n",
      "    }\n",
      "  ],\n",
      "  \"created\": 1688155111,\n",
      "  \"id\": \"chatcmpl-7XEYBVd9edR5jWICvcccj7RlQaOJC\",\n",
      "  \"model\": \"gpt-4-0613\",\n",
      "  \"object\": \"chat.completion\",\n",
      "  \"usage\": {\n",
      "    \"completion_tokens\": 2,\n",
      "    \"prompt_tokens\": 252,\n",
      "    \"total_tokens\": 254\n",
      "  }\n",
      "}\n",
      " \u001b[0m Total running cost: $0.293\n",
      " \u001b[0m Prompt: [\n",
      "  {\n",
      "    \"role\": \"system\",\n",
      "    \"content\": \"Your task is to generate a value for a web form field based on the form field information and a set of constraints on the field. Your decisions must be made independently without seeking user assistance or additional information. For each user prompt, you need to generate one value that satisfies the constraints while keeping in mind the nature of the input from the available information. Only generate value and refrain from explaining your answers. Only generate value for the input field in question, and not the ones in the relevant information section.\"\n",
      "  },\n",
      "  {\n",
      "    \"role\": \"user\",\n",
      "    \"content\": \"The following are all the labels in the form, which provide context for the functionality of the form:  Round-trip ,  One-way ,  Multi-city/Stopover ,  Book with points , From, To, Departure, Return\\n    We are generating filling values for the following input field:\\n    input: <input id=\\\"bkmgFlights_travelDates_1-formfield-1\\\" name=\\\"bkmgFlights_travelDates_1-formfield-1\\\" placeholder=\\\"DD/MM\\\" type=\\\"text\\\"/>\\nwith label: Departure\\nwith the following relevant text tags:\\n<span>Departure</span>\\n    The constraints on this input field are:\\n    input field should be non-empty\\ninput field should be  5 characters\\ninput field should contain / character\\ninput field should be less than field(bkmgFlights_travelDates_1-formfield-2)\\n    The values for the fields in constraints are:\\n    field: bkmgFlights_travelDates_1-formfield-2, value: 20/07\"\n",
      "  }\n",
      "]\n",
      " \u001b[0m Response: {\n",
      "  \"choices\": [\n",
      "    {\n",
      "      \"finish_reason\": \"stop\",\n",
      "      \"index\": 0,\n",
      "      \"message\": {\n",
      "        \"content\": \"15/07\",\n",
      "        \"role\": \"assistant\"\n",
      "      }\n",
      "    }\n",
      "  ],\n",
      "  \"created\": 1688155112,\n",
      "  \"id\": \"chatcmpl-7XEYCKMefh5esfaLsW1uybh5yUIhJ\",\n",
      "  \"model\": \"gpt-4-0613\",\n",
      "  \"object\": \"chat.completion\",\n",
      "  \"usage\": {\n",
      "    \"completion_tokens\": 3,\n",
      "    \"prompt_tokens\": 323,\n",
      "    \"total_tokens\": 326\n",
      "  }\n",
      "}\n",
      " \u001b[0m Total running cost: $0.303\n",
      " \u001b[0m Prompt: [\n",
      "  {\n",
      "    \"role\": \"system\",\n",
      "    \"content\": \"Your task is to generate a value for a web form field based on the form field information and a set of constraints on the field. Your decisions must be made independently without seeking user assistance or additional information. For each user prompt, you need to generate one value that satisfies the constraints while keeping in mind the nature of the input from the available information. Only generate value and refrain from explaining your answers. Only generate value for the input field in question, and not the ones in the relevant information section.\"\n",
      "  },\n",
      "  {\n",
      "    \"role\": \"user\",\n",
      "    \"content\": \"The following are all the labels in the form, which provide context for the functionality of the form:  Round-trip ,  One-way ,  Multi-city/Stopover ,  Book with points , From, To, Departure, Return\\n    We are generating filling values for the following input field:\\n    input: <input id=\\\"bkmgFlights_travelDates_1-formfield-2\\\" name=\\\"bkmgFlights_travelDates_1-formfield-2\\\" placeholder=\\\"DD/MM\\\" type=\\\"text\\\"/>\\nwith label: Return\\nwith the following relevant text tags:\\n<button id=\\\"bkmgFlights_selectTravelers\\\" type=\\\"button\\\"><div><span-wrap><!-- --></span-wrap><div><abc-form-element-label><div id=\\\"bkmgFlights_selectTravelersLabel\\\"><span>Passenger(s)</span></div></abc-form-element-label><span-wrap><!-- --></span-wrap><div id=\\\"bkmgFlights_selectTravelersMainContainer\\\"><div><span> 1 Adult </span></div></div></div><abc-affix><div><span-wrap><!-- --></span-wrap><span></span><span-wrap><!-- --></span-wrap><span-wrap><!-- --></span-wrap><span-wrap><!-- --></span-wrap><span-wrap><!-- --></span-wrap><span-wrap><!-- --></span-wrap><span-wrap><!-- --></span-wrap></div></abc-affix><span-wrap><!-- --></span-wrap></div><abc-form-element-underline><div></div></abc-form-element-underline></button>\\n<span>Return</span>\\n    The constraints on this input field are:\\n    input field should be non-empty\\ninput field should be  5 characters\\ninput field should contain / character\\ninput field should be greater than field(bkmgFlights_travelDates_1-formfield-1)\\n    The values for the fields in constraints are:\\n    field: bkmgFlights_travelDates_1-formfield-1, value: 15/07\"\n",
      "  }\n",
      "]\n",
      " \u001b[0m Response: {\n",
      "  \"choices\": [\n",
      "    {\n",
      "      \"finish_reason\": \"stop\",\n",
      "      \"index\": 0,\n",
      "      \"message\": {\n",
      "        \"content\": \"20/07\",\n",
      "        \"role\": \"assistant\"\n",
      "      }\n",
      "    }\n",
      "  ],\n",
      "  \"created\": 1688155113,\n",
      "  \"id\": \"chatcmpl-7XEYDtJCZB2eYc54lq7S0SzZctUB9\",\n",
      "  \"model\": \"gpt-4-0613\",\n",
      "  \"object\": \"chat.completion\",\n",
      "  \"usage\": {\n",
      "    \"completion_tokens\": 3,\n",
      "    \"prompt_tokens\": 517,\n",
      "    \"total_tokens\": 520\n",
      "  }\n",
      "}\n",
      " \u001b[0m Total running cost: $0.318\n"
     ]
    }
   ],
   "source": [
    "# value generation loop\n",
    "\n",
    "for input_group in input_groups:\n",
    "    if input_group.node.element.name == 'button':\n",
    "        continue\n",
    "    \n",
    "    fill_entry = fill_table.get_entry_by_input_group(input_group)\n",
    "    \n",
    "    if fill_entry is None:\n",
    "        continue\n",
    "    \n",
    "    constraints = fill_entry.constraints\n",
    "    constant_constraints, field_constraints = split_constant_and_field_constraints(constraints)\n",
    "    including_constraints = [*constant_constraints]\n",
    "\n",
    "    relevant_field_values = []\n",
    "    for field_constraint in field_constraints:\n",
    "        field_arg = field_constraint.get_field_args()[0]\n",
    "        \n",
    "        if field_arg not in fill_table.entries:\n",
    "            continue\n",
    "        \n",
    "        value = fill_table.get_entry_by_field_id(field_arg).value\n",
    "        \n",
    "        if value is not None:\n",
    "            including_constraints.append(field_constraint)\n",
    "            relevant_field_values.append((field_arg, value))\n",
    "    \n",
    "    value_user_prompt = create_value_generation_user_prompt(\n",
    "        form_context,\n",
    "        fill_entry.input_group,\n",
    "        including_constraints,\n",
    "        relevant_field_values=relevant_field_values if len(relevant_field_values) > 0 else None,\n",
    "    )\n",
    "    \n",
    "    generated_value = generate_values_with_llm(\n",
    "        value_user_prompt,\n",
    "        openai_api_key=openai.api_key\n",
    "    )\n",
    "    \n",
    "    fill_entry.set_value(generated_value)"
   ]
  },
  {
   "cell_type": "code",
   "execution_count": 34,
   "id": "59938fac",
   "metadata": {
    "ExecuteTime": {
     "end_time": "2023-06-30T19:58:37.176956Z",
     "start_time": "2023-06-30T19:58:36.462813Z"
    }
   },
   "outputs": [
    {
     "name": "stdout",
     "output_type": "stream",
     "text": [
      "<input>value is R</input> at y: (567, 597), x: (219, 319)\n",
      "R\n",
      "<input>value is O</input> at y: (567, 597), x: (334, 421)\n",
      "O\n",
      "<input>value is M</input> at y: (567, 597), x: (437, 591)\n",
      "M\n",
      "<input></input> at y: (574, 594), x: (652, 905)\n",
      "true\n",
      "<input></input> at y: (628, 678), x: (198, 466)\n",
      "Vancouver\n",
      "<input></input> at y: (710, 760), x: (536, 804)\n",
      "New York\n",
      "<input>DD/MM</input> at y: (628, 678), x: (833, 958)\n",
      "15/07\n",
      "<input>DD/MM</input> at y: (628, 678), x: (978, 1093)\n",
      "20/07\n"
     ]
    }
   ],
   "source": [
    "for input_group in input_groups:\n",
    "    entry = fill_table.get_entry_by_input_group(input_group)\n",
    "    \n",
    "    if entry is None:\n",
    "        continue\n",
    "    \n",
    "    print(entry.input_group.node)\n",
    "    print(entry.value)\n",
    "    \n",
    "    element = driver.find_element(By.XPATH, entry.input_group.node.xpath)\n",
    "    \n",
    "    if element.get_attribute('type') not in ['submit', 'radio', 'checkbox']:\n",
    "        interact_with_input(element, entry.value)"
   ]
  },
  {
   "cell_type": "code",
   "execution_count": 35,
   "id": "659b1199",
   "metadata": {
    "ExecuteTime": {
     "end_time": "2023-06-30T19:58:44.324999Z",
     "start_time": "2023-06-30T19:58:44.243574Z"
    }
   },
   "outputs": [],
   "source": [
    "submit = list(filter(\n",
    "    lambda x: x.node.element.attrs['type'] == 'submit',\n",
    "    input_groups\n",
    "))[0]"
   ]
  },
  {
   "cell_type": "code",
   "execution_count": 36,
   "id": "e7308726",
   "metadata": {
    "ExecuteTime": {
     "end_time": "2023-06-30T19:58:49.899552Z",
     "start_time": "2023-06-30T19:58:46.696147Z"
    }
   },
   "outputs": [],
   "source": [
    "interact_with_input(driver.find_element(By.XPATH, submit.node.xpath), True)"
   ]
  },
  {
   "cell_type": "code",
   "execution_count": null,
   "id": "5ff74aeb",
   "metadata": {},
   "outputs": [],
   "source": []
  }
 ],
 "metadata": {
  "kernelspec": {
   "display_name": "Python 3 (ipykernel)",
   "language": "python",
   "name": "python3"
  },
  "language_info": {
   "codemirror_mode": {
    "name": "ipython",
    "version": 3
   },
   "file_extension": ".py",
   "mimetype": "text/x-python",
   "name": "python",
   "nbconvert_exporter": "python",
   "pygments_lexer": "ipython3",
   "version": "3.10.9"
  },
  "toc": {
   "base_numbering": 1,
   "nav_menu": {},
   "number_sections": true,
   "sideBar": true,
   "skip_h1_title": false,
   "title_cell": "Table of Contents",
   "title_sidebar": "Contents",
   "toc_cell": false,
   "toc_position": {},
   "toc_section_display": true,
   "toc_window_display": false
  },
  "varInspector": {
   "cols": {
    "lenName": 16,
    "lenType": 16,
    "lenVar": 40
   },
   "kernels_config": {
    "python": {
     "delete_cmd_postfix": "",
     "delete_cmd_prefix": "del ",
     "library": "var_list.py",
     "varRefreshCmd": "print(var_dic_list())"
    },
    "r": {
     "delete_cmd_postfix": ") ",
     "delete_cmd_prefix": "rm(",
     "library": "var_list.r",
     "varRefreshCmd": "cat(var_dic_list()) "
    }
   },
   "types_to_exclude": [
    "module",
    "function",
    "builtin_function_or_method",
    "instance",
    "_Feature"
   ],
   "window_display": false
  }
 },
 "nbformat": 4,
 "nbformat_minor": 5
}
