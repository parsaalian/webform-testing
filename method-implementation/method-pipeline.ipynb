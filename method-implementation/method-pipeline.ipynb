{
 "cells": [
  {
   "cell_type": "code",
   "execution_count": 1,
   "id": "d229fc1e",
   "metadata": {
    "ExecuteTime": {
     "end_time": "2023-06-20T18:07:48.989290Z",
     "start_time": "2023-06-20T18:07:48.957293Z"
    }
   },
   "outputs": [],
   "source": [
    "%load_ext autoreload\n",
    "%autoreload 2"
   ]
  },
  {
   "cell_type": "code",
   "execution_count": 2,
   "id": "6edf3f1c",
   "metadata": {
    "ExecuteTime": {
     "end_time": "2023-06-20T18:17:20.537803Z",
     "start_time": "2023-06-20T18:16:51.864592Z"
    }
   },
   "outputs": [],
   "source": [
    "import os\n",
    "import time\n",
    "import openai\n",
    "from dotenv import load_dotenv\n",
    "\n",
    "from selenium.webdriver.common.by import By\n",
    "from bs4 import BeautifulSoup as bs\n",
    "\n",
    "from method.ours.utils import create_driver\n",
    "from method.ours.parse import (\n",
    "    initial_parse,\n",
    "    parse_after_feedback,\n",
    ")"
   ]
  },
  {
   "cell_type": "code",
   "execution_count": 3,
   "id": "25fb6bb8",
   "metadata": {
    "ExecuteTime": {
     "end_time": "2023-06-20T18:18:20.892162Z",
     "start_time": "2023-06-20T18:18:20.787089Z"
    }
   },
   "outputs": [],
   "source": [
    "load_dotenv()\n",
    "openai.api_key = os.getenv(\"OPENAI_API_KEY\")\n",
    "\n",
    "# Global Variables\n",
    "HEADLESS = False\n",
    "TEXT_EMBEDDING_METHOD = 'ADA' # ['ADA', 'WORD2VEC', 'SPACY']\n",
    "GRAPH_EMBEDDING_METHOD = 'NODE2VEC' # ['NODE2VEC', 'GCN']"
   ]
  },
  {
   "cell_type": "code",
   "execution_count": 4,
   "id": "837ffb01",
   "metadata": {
    "ExecuteTime": {
     "end_time": "2023-06-20T18:18:31.069404Z",
     "start_time": "2023-06-20T18:18:24.963738Z"
    }
   },
   "outputs": [
    {
     "name": "stderr",
     "output_type": "stream",
     "text": [
      "[WDM] - Downloading: 100%|█████████████████████████████████████████████████████████████████████████████████████████████████████| 8.29M/8.29M [00:00<00:00, 15.6MB/s]\n"
     ]
    }
   ],
   "source": [
    "driver = create_driver(HEADLESS)\n",
    "driver.get('https://www.aircanada.com/ca/en/aco/home.html')"
   ]
  },
  {
   "cell_type": "code",
   "execution_count": 5,
   "id": "2812c532",
   "metadata": {
    "ExecuteTime": {
     "end_time": "2023-06-20T18:18:32.498915Z",
     "start_time": "2023-06-20T18:18:32.379888Z"
    }
   },
   "outputs": [],
   "source": [
    "# form = driver.find_elements(By.TAG_NAME, 'form')[48]\n",
    "# form = driver.find_element(By.ID, 'register')\n",
    "form = driver.find_elements(By.TAG_NAME, 'form')[1]"
   ]
  },
  {
   "cell_type": "markdown",
   "id": "948b49bc",
   "metadata": {},
   "source": [
    "# Processing"
   ]
  },
  {
   "cell_type": "code",
   "execution_count": 6,
   "id": "69dd1802",
   "metadata": {
    "ExecuteTime": {
     "end_time": "2023-06-20T18:19:16.646786Z",
     "start_time": "2023-06-20T18:18:34.095522Z"
    }
   },
   "outputs": [
    {
     "data": {
      "application/vnd.jupyter.widget-view+json": {
       "model_id": "475c22d67bfe4ccca48fcb663aabf68c",
       "version_major": 2,
       "version_minor": 0
      },
      "text/plain": [
       "Computing transition probabilities:   0%|          | 0/340 [00:00<?, ?it/s]"
      ]
     },
     "metadata": {},
     "output_type": "display_data"
    },
    {
     "name": "stderr",
     "output_type": "stream",
     "text": [
      "Generating walks (CPU: 1): 100%|██████████| 50/50 [00:00<00:00, 586.80it/s]\n",
      "Generating walks (CPU: 2): 100%|██████████| 50/50 [00:00<00:00, 575.02it/s]\n",
      "Generating walks (CPU: 3): 100%|██████████| 50/50 [00:00<00:00, 569.17it/s]\n",
      "Generating walks (CPU: 4): 100%|██████████| 50/50 [00:00<00:00, 585.33it/s]\n",
      "100%|███████████████████████████████████████████████████████████████████████████████████████████████████████████████████████████████| 36/36 [00:08<00:00,  4.13it/s]\n",
      "/Library/Frameworks/Python.framework/Versions/3.10/lib/python3.10/site-packages/openai/embeddings_utils.py:68: RuntimeWarning: invalid value encountered in scalar divide\n",
      "  return np.dot(a, b) / (np.linalg.norm(a) * np.linalg.norm(b))\n"
     ]
    }
   ],
   "source": [
    "relation_graph, input_groups = initial_parse(driver, form, TEXT_EMBEDDING_METHOD)"
   ]
  },
  {
   "cell_type": "markdown",
   "id": "59c1f6ee",
   "metadata": {},
   "source": [
    "# Generation"
   ]
  },
  {
   "cell_type": "code",
   "execution_count": 7,
   "id": "f8961573",
   "metadata": {
    "ExecuteTime": {
     "end_time": "2023-06-20T18:22:25.418874Z",
     "start_time": "2023-06-20T18:22:25.084248Z"
    }
   },
   "outputs": [],
   "source": [
    "from method.ours.constraints import ConstraintFactory\n",
    "from method.ours.prompts import (\n",
    "    create_constraint_generation_user_prompt,\n",
    "    create_value_generation_user_prompt,\n",
    ")\n",
    "from method.ours.generation import (\n",
    "    generate_constraints_with_llm,\n",
    "    generate_values_with_llm,\n",
    ")"
   ]
  },
  {
   "cell_type": "code",
   "execution_count": 8,
   "id": "74bdad88",
   "metadata": {
    "ExecuteTime": {
     "end_time": "2023-06-20T18:22:30.470496Z",
     "start_time": "2023-06-20T18:22:30.374450Z"
    }
   },
   "outputs": [
    {
     "data": {
      "text/plain": [
       "<input aria-describedby=\"bkmgFlights_travelDates_1DatepickerSrHelperText\" aria-disabled=\"false\" aria-invalid=\"false\" aria-label=\"Return\" autocomplete=\"off\" autocorrect=\"off\" class=\"abc-form-element-input abc-form-element-main text-transform-none ng-untouched ng-pristine ng-valid ng-star-inserted\" id=\"bkmgFlights_travelDates_1-formfield-2\" name=\"bkmgFlights_travelDates_1-formfield-2\" placeholder=\"DD/MM\" spellcheck=\"false\" type=\"text\" x_end=\"1093\" x_start=\"978\" xpath=\"//BODY/AC-WEB-APP[1]/DIV[1]/MAIN[1]/DIV[1]/AC-ACOHOME-PAGE[1]/DIV[1]/DIV[1]/AC-BOOKING-MAGNET[1]/DIV[1]/DIV[1]/DIV[1]/DIV[2]/AC-BKMG-FLIGHTS-TAB[1]/DIV[1]/FORM[1]/FIELDSET[1]/DIV[1]/DIV[1]/DIV[1]/ABC-DATE-PICKER[1]/DIV[1]/DIV[1]/ABC-INPUT[2]/ABC-FORM-ELEMENT-CONTAINER[1]/DIV[1]/DIV[1]/DIV[1]/DIV[1]/DIV[1]/INPUT[1]\" y_end=\"678\" y_start=\"628\"/>"
      ]
     },
     "execution_count": 8,
     "metadata": {},
     "output_type": "execute_result"
    }
   ],
   "source": [
    "input_group = input_groups[8]\n",
    "input_group.node.element"
   ]
  },
  {
   "cell_type": "code",
   "execution_count": 12,
   "id": "e7c66ab2",
   "metadata": {
    "ExecuteTime": {
     "end_time": "2023-06-20T18:23:35.060201Z",
     "start_time": "2023-06-20T18:23:34.957382Z"
    }
   },
   "outputs": [
    {
     "name": "stdout",
     "output_type": "stream",
     "text": [
      "We are generating constraints for the following input field:\n",
      "    input: <input id=\"bkmgFlights_travelDates_1-formfield-2\" name=\"bkmgFlights_travelDates_1-formfield-2\" placeholder=\"DD/MM\" type=\"text\"/>\n",
      "with label: Return\n",
      "with the following relevant text tags:\n",
      "<span>Return</span>\n",
      "    The relevant information available in the form are (in order of relevance):\n",
      "    1.\n",
      "input: <input id=\"bkmgFlights_travelDates_1-formfield-1\" name=\"bkmgFlights_travelDates_1-formfield-1\" placeholder=\"DD/MM\" type=\"text\"/>\n",
      "with label: Departure\n",
      "2.\n",
      "input: <input id=\"bkmgFlights_tripTypeSelector_M\" name=\"tripType\" type=\"radio\" value=\"M\"/>\n",
      "with label: Multi-city/Stopover\n",
      "3.\n",
      "input: <input id=\"bkmgFlights_destination_trip_1\" name=\"bkmgFlights_destination_trip_1\" placeholder=\"\" type=\"text\"/>\n",
      "with label: To\n"
     ]
    }
   ],
   "source": [
    "constraint_user_prompt = create_constraint_generation_user_prompt(input_group)\n",
    "print(constraint_user_prompt)"
   ]
  },
  {
   "cell_type": "code",
   "execution_count": 13,
   "id": "684e6293",
   "metadata": {
    "ExecuteTime": {
     "end_time": "2023-06-20T18:23:52.924275Z",
     "start_time": "2023-06-20T18:23:46.237029Z"
    }
   },
   "outputs": [
    {
     "name": "stdout",
     "output_type": "stream",
     "text": [
      " \u001b[0m Prompt: [\n",
      "  {\n",
      "    \"role\": \"system\",\n",
      "    \"content\": \"Your task is to generate a set of constraints for form fields. Your decisions must be made independently without seeking user assistance or additional information.\\n\\nThe list of the constraints and their signatures is as follows:\\n\\n1. toBe(value) # the input field value exactly matches the given value\\n2. toHaveLengthCondition(condition, value) # the length of the input field value matches the given condition\\n3. toBeTruthy() # the input field value is truthy and not empty (not false, 0, '', null, undefined, or NaN)\\n4. toHaveCompareCondition(condition, value) # the input field value has the given condition to the given value\\n5. toContainSubstr(value) # the input field value contains a specific string\\n6. toContainChar(value) # the input field value contains a specific character\\n7. toBeAlpha() # the input field value is alphabetic\\n8. toBeNumeric() # the input field value is numeric\\n9. toBeAlphaNumeric() # the input value contains both alphabetical and numeric characters\\n10. toHaveUpperCase() # the input value field contains upper case characters\\n11. toHaveSpecialChars() # the input value field contains special characters\\n12. toHaveWhiteSpace() # the input value field contains whitespace\\n13. toStartWith(value) # the input value field must start with a certain value\\n14. toEndWith(value) # the input value field must end with a certain value\\n15. toMatch(regex) # the input value field must match a certain regex pattern\\n\\nYou must only choose constraints from the list above. The name of the constraints must exactly match the functions above. Generate constraints as the sample:\\n\\n# sample\\nexpect(field('password'))\\n.toHaveLengthCondition('>', 8)\\n.toHaveLengthCondition('<', 50)\\n.toBeAlphaNumeric()\\n.toHaveUpperCase()\\n.toHaveSpecialChars()\\n.not.toBeTruthy()\\n.toBe(field('confirm password'))\\n# end of sample\\n\\nIf there are multiple ways to express constraints, use the one with the least number of constraints to describe it.\\nOnly generate the constraints and don't explain your answers.\\nOnly generate constraints for the inputs in question, not those in the relevant information section.\"\n",
      "  },\n",
      "  {\n",
      "    \"role\": \"user\",\n",
      "    \"content\": \"We are generating constraints for the following input field:\\n    input: <input id=\\\"bkmgFlights_travelDates_1-formfield-2\\\" name=\\\"bkmgFlights_travelDates_1-formfield-2\\\" placeholder=\\\"DD/MM\\\" type=\\\"text\\\"/>\\nwith label: Return\\nwith the following relevant text tags:\\n<span>Return</span>\\n    The relevant information available in the form are (in order of relevance):\\n    1.\\ninput: <input id=\\\"bkmgFlights_travelDates_1-formfield-1\\\" name=\\\"bkmgFlights_travelDates_1-formfield-1\\\" placeholder=\\\"DD/MM\\\" type=\\\"text\\\"/>\\nwith label: Departure\\n2.\\ninput: <input id=\\\"bkmgFlights_tripTypeSelector_M\\\" name=\\\"tripType\\\" type=\\\"radio\\\" value=\\\"M\\\"/>\\nwith label: Multi-city/Stopover\\n3.\\ninput: <input id=\\\"bkmgFlights_destination_trip_1\\\" name=\\\"bkmgFlights_destination_trip_1\\\" placeholder=\\\"\\\" type=\\\"text\\\"/>\\nwith label: To\"\n",
      "  }\n",
      "]\n",
      " \u001b[0m Response: {\n",
      "  \"choices\": [\n",
      "    {\n",
      "      \"finish_reason\": \"stop\",\n",
      "      \"index\": 0,\n",
      "      \"message\": {\n",
      "        \"content\": \"expect(field('bkmgFlights_travelDates_1-formfield-2'))\\n.toMatch(/^\\\\d{2}\\\\/\\\\d{2}$/)\\n.toHaveCompareCondition('>', field('bkmgFlights_travelDates_1-formfield-1'))\",\n",
      "        \"role\": \"assistant\"\n",
      "      }\n",
      "    }\n",
      "  ],\n",
      "  \"created\": 1687285426,\n",
      "  \"id\": \"chatcmpl-7TaJ0yzO6FDYWlb8PF2huGISzCwaN\",\n",
      "  \"model\": \"gpt-4-0314\",\n",
      "  \"object\": \"chat.completion\",\n",
      "  \"usage\": {\n",
      "    \"completion_tokens\": 51,\n",
      "    \"prompt_tokens\": 679,\n",
      "    \"total_tokens\": 730\n",
      "  }\n",
      "}\n",
      " \u001b[0m Total running cost: $0.023\n"
     ]
    }
   ],
   "source": [
    "generated_constraints = generate_constraints_with_llm(\n",
    "    constraint_user_prompt,\n",
    "    openai_api_key=openai.api_key\n",
    ")"
   ]
  },
  {
   "cell_type": "code",
   "execution_count": 14,
   "id": "a69fc404",
   "metadata": {
    "ExecuteTime": {
     "end_time": "2023-06-20T18:23:56.925138Z",
     "start_time": "2023-06-20T18:23:56.830167Z"
    }
   },
   "outputs": [
    {
     "name": "stdout",
     "output_type": "stream",
     "text": [
      "expect(field('bkmgFlights_travelDates_1-formfield-2'))\n",
      ".toMatch(/^\\d{2}\\/\\d{2}$/)\n",
      ".toHaveCompareCondition('>', field('bkmgFlights_travelDates_1-formfield-1'))\n"
     ]
    }
   ],
   "source": [
    "print(generated_constraints)"
   ]
  },
  {
   "cell_type": "code",
   "execution_count": 22,
   "id": "f8e136a4",
   "metadata": {
    "ExecuteTime": {
     "end_time": "2023-06-20T18:27:22.810125Z",
     "start_time": "2023-06-20T18:27:22.712179Z"
    }
   },
   "outputs": [],
   "source": [
    "constraints = list(map(\n",
    "    ConstraintFactory.create,\n",
    "    generated_constraints.split('\\n.')[1:]\n",
    "))"
   ]
  },
  {
   "cell_type": "code",
   "execution_count": 23,
   "id": "f7e2df3b",
   "metadata": {
    "ExecuteTime": {
     "end_time": "2023-06-20T18:27:23.568697Z",
     "start_time": "2023-06-20T18:27:23.472964Z"
    }
   },
   "outputs": [
    {
     "name": "stdout",
     "output_type": "stream",
     "text": [
      "We are generating filling values for the following input field:\n",
      "    input: <input id=\"bkmgFlights_travelDates_1-formfield-2\" name=\"bkmgFlights_travelDates_1-formfield-2\" placeholder=\"DD/MM\" type=\"text\"/>\n",
      "with label: Return\n",
      "with the following relevant text tags:\n",
      "<span>Return</span>\n",
      "    The relevant information available in the form are (in order of relevance):\n",
      "    1.\n",
      "input: <input id=\"bkmgFlights_travelDates_1-formfield-1\" name=\"bkmgFlights_travelDates_1-formfield-1\" placeholder=\"DD/MM\" type=\"text\"/>\n",
      "with label: Departure\n",
      "2.\n",
      "input: <input id=\"bkmgFlights_tripTypeSelector_M\" name=\"tripType\" type=\"radio\" value=\"M\"/>\n",
      "with label: Multi-city/Stopover\n",
      "3.\n",
      "input: <input id=\"bkmgFlights_destination_trip_1\" name=\"bkmgFlights_destination_trip_1\" placeholder=\"\" type=\"text\"/>\n",
      "with label: To\n",
      "    The constraints on this input field are:\n",
      "    input field should match /^\\d{2}\\/\\d{2}$/ regex pattern\n",
      "input field should be greater than field(bkmgFlights_travelDates_1-formfield-1)\n"
     ]
    }
   ],
   "source": [
    "value_user_prompt = create_value_generation_user_prompt(\n",
    "    input_group,\n",
    "    constraints\n",
    ")\n",
    "print(value_user_prompt)"
   ]
  },
  {
   "cell_type": "code",
   "execution_count": 24,
   "id": "4272875e",
   "metadata": {
    "ExecuteTime": {
     "end_time": "2023-06-20T18:27:41.486468Z",
     "start_time": "2023-06-20T18:27:36.996957Z"
    }
   },
   "outputs": [
    {
     "name": "stdout",
     "output_type": "stream",
     "text": [
      " \u001b[0m Prompt: [\n",
      "  {\n",
      "    \"role\": \"system\",\n",
      "    \"content\": \"Your task is to generate a set of values for a form field based on the form field information and a set of constraints on the field. Your decisions must always be made independently without seeking user assistance or additional information.\\nFor each user prompt, you need to generate five distinct values that satisfy the constraints while keeping in mind the nature of the input from the available information.\\nOnly generate the values and don't explain your answers.\\nGenerate the values in a Python array. We must be able to parse your generation with json.loads.\\nOnly generate values for the inputs in question, and not the ones in the relevant information section.\"\n",
      "  },\n",
      "  {\n",
      "    \"role\": \"user\",\n",
      "    \"content\": \"We are generating filling values for the following input field:\\n    input: <input id=\\\"bkmgFlights_travelDates_1-formfield-2\\\" name=\\\"bkmgFlights_travelDates_1-formfield-2\\\" placeholder=\\\"DD/MM\\\" type=\\\"text\\\"/>\\nwith label: Return\\nwith the following relevant text tags:\\n<span>Return</span>\\n    The relevant information available in the form are (in order of relevance):\\n    1.\\ninput: <input id=\\\"bkmgFlights_travelDates_1-formfield-1\\\" name=\\\"bkmgFlights_travelDates_1-formfield-1\\\" placeholder=\\\"DD/MM\\\" type=\\\"text\\\"/>\\nwith label: Departure\\n2.\\ninput: <input id=\\\"bkmgFlights_tripTypeSelector_M\\\" name=\\\"tripType\\\" type=\\\"radio\\\" value=\\\"M\\\"/>\\nwith label: Multi-city/Stopover\\n3.\\ninput: <input id=\\\"bkmgFlights_destination_trip_1\\\" name=\\\"bkmgFlights_destination_trip_1\\\" placeholder=\\\"\\\" type=\\\"text\\\"/>\\nwith label: To\\n    The constraints on this input field are:\\n    input field should match /^\\\\d{2}\\\\/\\\\d{2}$/ regex pattern\\ninput field should be greater than field(bkmgFlights_travelDates_1-formfield-1)\"\n",
      "  }\n",
      "]\n",
      " \u001b[0m Response: {\n",
      "  \"choices\": [\n",
      "    {\n",
      "      \"finish_reason\": \"stop\",\n",
      "      \"index\": 0,\n",
      "      \"message\": {\n",
      "        \"content\": \"[\\\"20/08\\\", \\\"21/08\\\", \\\"22/08\\\", \\\"23/08\\\", \\\"24/08\\\"]\",\n",
      "        \"role\": \"assistant\"\n",
      "      }\n",
      "    }\n",
      "  ],\n",
      "  \"created\": 1687285657,\n",
      "  \"id\": \"chatcmpl-7TaMjiOqVCvSBdRv68hzaIQ9vH2Ue\",\n",
      "  \"model\": \"gpt-4-0314\",\n",
      "  \"object\": \"chat.completion\",\n",
      "  \"usage\": {\n",
      "    \"completion_tokens\": 25,\n",
      "    \"prompt_tokens\": 402,\n",
      "    \"total_tokens\": 427\n",
      "  }\n",
      "}\n",
      " \u001b[0m Total running cost: $0.037\n"
     ]
    }
   ],
   "source": [
    "generated_values = generate_values_with_llm(\n",
    "    value_user_prompt,\n",
    "    openai_api_key=openai.api_key\n",
    ")"
   ]
  },
  {
   "cell_type": "code",
   "execution_count": 25,
   "id": "db2c71e3",
   "metadata": {
    "ExecuteTime": {
     "end_time": "2023-06-20T18:27:44.289888Z",
     "start_time": "2023-06-20T18:27:44.197003Z"
    }
   },
   "outputs": [
    {
     "name": "stdout",
     "output_type": "stream",
     "text": [
      "[\"20/08\", \"21/08\", \"22/08\", \"23/08\", \"24/08\"]\n"
     ]
    }
   ],
   "source": [
    "print(generated_values)"
   ]
  },
  {
   "cell_type": "markdown",
   "id": "1352b64b",
   "metadata": {},
   "source": [
    "# Feedback"
   ]
  },
  {
   "cell_type": "code",
   "execution_count": 8,
   "id": "720cade4",
   "metadata": {
    "ExecuteTime": {
     "end_time": "2023-06-19T22:33:03.167956Z",
     "start_time": "2023-06-19T22:33:03.059074Z"
    }
   },
   "outputs": [],
   "source": [
    "new_form = driver.find_elements(By.TAG_NAME, 'form')[1]"
   ]
  },
  {
   "cell_type": "code",
   "execution_count": 9,
   "id": "b99a21e9",
   "metadata": {
    "ExecuteTime": {
     "end_time": "2023-06-19T22:33:44.414481Z",
     "start_time": "2023-06-19T22:33:04.559284Z"
    }
   },
   "outputs": [
    {
     "data": {
      "application/vnd.jupyter.widget-view+json": {
       "model_id": "592b774b76fe4a2f83497b58dce7cf69",
       "version_major": 2,
       "version_minor": 0
      },
      "text/plain": [
       "Computing transition probabilities:   0%|          | 0/344 [00:00<?, ?it/s]"
      ]
     },
     "metadata": {},
     "output_type": "display_data"
    },
    {
     "name": "stderr",
     "output_type": "stream",
     "text": [
      "Generating walks (CPU: 1): 100%|██████████| 50/50 [00:00<00:00, 630.89it/s]\n",
      "Generating walks (CPU: 2): 100%|██████████| 50/50 [00:00<00:00, 641.05it/s]\n",
      "Generating walks (CPU: 3): 100%|██████████| 50/50 [00:00<00:00, 610.43it/s]\n",
      "Generating walks (CPU: 4): 100%|██████████| 50/50 [00:00<00:00, 636.99it/s]\n",
      "100%|█████████████████████████████████████████████████████████████████████████████████████████████████████████████████████████████████████| 38/38 [00:09<00:00,  4.02it/s]\n"
     ]
    },
    {
     "name": "stdout",
     "output_type": "stream",
     "text": [
      "{'added': [<span-wrap> Round-trip </span-wrap> at y: (572, 592), x: (249, 319), <span-wrap> One-way </span-wrap> at y: (572, 592), x: (364, 421), <span-wrap> Multi-city/Stopover </span-wrap> at y: (572, 592), x: (467, 591), <span-wrap> Book with points </span-wrap> at y: (574, 594), x: (682, 905), <div>Please select a valid destination for this trip.</div> at y: (685, 701), x: (536, 781), <div>Please select valid travel dates for this trip.</div> at y: (685, 701), x: (833, 1071), <span-wrap> Enter the date day and month in this format: DD/MM, or use the 'Show Calendar' button to open the calendar and select your date from there. </span-wrap> at y: (705, 706), x: (832, 833), <span-wrap> Add promotion code </span-wrap> at y: (743, 763), x: (200, 379), <span-wrap> Search flights </span-wrap> at y: (742, 762), x: (1202, 1306)], 'removed': [<span-wrap> Enter the date day and month in this format: DD/MM, or use the 'Show Calendar' button to open the calendar and select your date from there. </span-wrap> at y: (679, 680), x: (832, 833)]}\n"
     ]
    }
   ],
   "source": [
    "new_relation_graph, new_input_groups = parse_after_feedback(driver, new_form, relation_graph, TEXT_EMBEDDING_METHOD)"
   ]
  },
  {
   "cell_type": "code",
   "execution_count": 10,
   "id": "db79f9fa",
   "metadata": {
    "ExecuteTime": {
     "end_time": "2023-06-19T22:33:47.848235Z",
     "start_time": "2023-06-19T22:33:47.749088Z"
    }
   },
   "outputs": [
    {
     "data": {
      "text/plain": [
       "[edge FOR weight 1 from <label> Round-trip </label> at y: (572, 592), x: (249, 319) to <input>value is R</input> at y: (567, 597), x: (219, 319),\n",
       " edge FOR weight 1 from <input>value is R</input> at y: (567, 597), x: (219, 319) to <label> Round-trip </label> at y: (572, 592), x: (249, 319),\n",
       " edge FOR weight 1 from <label> One-way </label> at y: (572, 592), x: (364, 421) to <input>value is O</input> at y: (567, 597), x: (334, 421),\n",
       " edge FOR weight 1 from <input>value is O</input> at y: (567, 597), x: (334, 421) to <label> One-way </label> at y: (572, 592), x: (364, 421),\n",
       " edge FOR weight 1 from <label> Multi-city/Stopover </label> at y: (572, 592), x: (467, 591) to <input>value is M</input> at y: (567, 597), x: (437, 591),\n",
       " edge FOR weight 1 from <input>value is M</input> at y: (567, 597), x: (437, 591) to <label> Multi-city/Stopover </label> at y: (572, 592), x: (467, 591),\n",
       " edge FOR weight 1 from <label> Book with points </label> at y: (574, 594), x: (682, 905) to <input></input> at y: (574, 594), x: (652, 905),\n",
       " edge FOR weight 1 from <input></input> at y: (574, 594), x: (652, 905) to <label> Book with points </label> at y: (574, 594), x: (682, 905),\n",
       " edge FOR weight 1 from <label>From</label> at y: (622, 672), x: (198, 237) to <input></input> at y: (628, 678), x: (198, 466),\n",
       " edge FOR weight 1 from <input></input> at y: (628, 678), x: (198, 466) to <label>From</label> at y: (622, 672), x: (198, 237),\n",
       " edge FOR weight 1 from <label>To</label> at y: (628, 678), x: (536, 554) to <input></input> at y: (628, 678), x: (536, 804),\n",
       " edge FOR weight 1 from <input></input> at y: (628, 678), x: (536, 804) to <label>To</label> at y: (628, 678), x: (536, 554),\n",
       " edge FOR weight 1 from <label>Departure</label> at y: (628, 678), x: (833, 910) to <input>DD/MM</input> at y: (628, 678), x: (833, 958),\n",
       " edge FOR weight 1 from <input>DD/MM</input> at y: (628, 678), x: (833, 958) to <label>Departure</label> at y: (628, 678), x: (833, 910),\n",
       " edge FOR weight 1 from <label>Return</label> at y: (628, 678), x: (978, 1029) to <input>DD/MM</input> at y: (628, 678), x: (978, 1093),\n",
       " edge FOR weight 1 from <input>DD/MM</input> at y: (628, 678), x: (978, 1093) to <label>Return</label> at y: (628, 678), x: (978, 1029),\n",
       " edge CHILD weight 1 from <input>value is R</input> at y: (567, 597), x: (219, 319) to <label> Round-trip </label> at y: (572, 592), x: (249, 319),\n",
       " edge CHILD weight 1 from <input>value is O</input> at y: (567, 597), x: (334, 421) to <label> One-way </label> at y: (572, 592), x: (364, 421),\n",
       " edge CHILD weight 1 from <input>value is M</input> at y: (567, 597), x: (437, 591) to <label> Multi-city/Stopover </label> at y: (572, 592), x: (467, 591),\n",
       " edge CHILD weight 1 from <input></input> at y: (574, 594), x: (652, 905) to <label> Book with points </label> at y: (574, 594), x: (682, 905),\n",
       " edge CHILD weight 1 from <label>To</label> at y: (628, 678), x: (536, 554) to <span>To</span> at y: (628, 678), x: (536, 554),\n",
       " edge CHILD weight 1 from <label>Departure</label> at y: (628, 678), x: (833, 910) to <span>Departure</span> at y: (628, 678), x: (833, 910),\n",
       " edge CHILD weight 1 from <label>Return</label> at y: (628, 678), x: (978, 1029) to <span>Return</span> at y: (628, 678), x: (978, 1029),\n",
       " edge CHILD weight 1 from <label>From</label> at y: (622, 672), x: (198, 237) to <span>From</span> at y: (622, 672), x: (198, 237),\n",
       " edge NRIGHT weight 0.8998107493739069 from <span>Vancouver </span> at y: (650, 672), x: (198, 281) to <span>YVR</span> at y: (650, 672), x: (281, 309),\n",
       " edge NLEFT weight 0.8998107493739069 from <span>YVR</span> at y: (650, 672), x: (281, 309) to <span>Vancouver </span> at y: (650, 672), x: (198, 281),\n",
       " edge NRIGHT weight 0.909441351890564 from <input></input> at y: (628, 678), x: (536, 804) to <label>To</label> at y: (628, 678), x: (536, 554),\n",
       " edge NRIGHT weight 0.8334011262689873 from <input>DD/MM</input> at y: (628, 678), x: (833, 958) to <label>Departure</label> at y: (628, 678), x: (833, 910),\n",
       " edge NRIGHT weight 0.8161296427890111 from <input>DD/MM</input> at y: (628, 678), x: (978, 1093) to <label>Return</label> at y: (628, 678), x: (978, 1029),\n",
       " edge FEEDBACK weight 0.5303088426589966 from <div>Please select a valid destination for this trip.</div> at y: (685, 701), x: (536, 781) to <input></input> at y: (628, 678), x: (536, 804),\n",
       " edge FEEDBACK weight 0.545734321567031 from <div>Please select valid travel dates for this trip.</div> at y: (685, 701), x: (833, 1071) to <input>DD/MM</input> at y: (628, 678), x: (978, 1093),\n",
       " edge FEEDBACK weight 0.5303088426589966 from <input></input> at y: (628, 678), x: (536, 804) to <div>Please select a valid destination for this trip.</div> at y: (685, 701), x: (536, 781),\n",
       " edge FEEDBACK weight 0.545734321567031 from <input>DD/MM</input> at y: (628, 678), x: (978, 1093) to <div>Please select valid travel dates for this trip.</div> at y: (685, 701), x: (833, 1071)]"
      ]
     },
     "execution_count": 10,
     "metadata": {},
     "output_type": "execute_result"
    }
   ],
   "source": [
    "new_relation_graph.edges()"
   ]
  },
  {
   "cell_type": "markdown",
   "id": "acf87246",
   "metadata": {},
   "source": [
    "# Fill Table"
   ]
  },
  {
   "cell_type": "code",
   "execution_count": null,
   "id": "22574075",
   "metadata": {},
   "outputs": [],
   "source": [
    "class FillTable:\n",
    "    def __init__(self):\n",
    "        self.entries = {}\n",
    "    \n",
    "    \n",
    "    def add_entry(self, field_id, input_group, constraints):\n",
    "        self.entries[field_id] = FillTableRow(input_group, constraints)\n",
    "    \n",
    "    \n",
    "    def generate_value_for_field(self, field_id):\n",
    "        row = self.entries[field_id]\n",
    "        # generate prompt based on the following condition:\n",
    "        # first, include all constant arg constraints\n",
    "        # next, if there is any field argument, if there is a value for that field\n",
    "        # already generated, include the constraint with the value. Continue until\n",
    "        # all fields have generated values.\n",
    "    \n",
    "\n",
    "\n",
    "class FillTableRow:\n",
    "    def __init__(self, input_group, constraints):\n",
    "        self.input_group = input_group\n",
    "        self.constraints = constraints\n",
    "        self.feedback = None\n",
    "        self.value = None\n",
    "    \n",
    "    \n",
    "    def set_value(self, value):\n",
    "        self.value = value\n",
    "    \n",
    "    \n",
    "    def set_feedback(self, feedback):\n",
    "        self.feedback = feedback"
   ]
  }
 ],
 "metadata": {
  "kernelspec": {
   "display_name": "Python 3 (ipykernel)",
   "language": "python",
   "name": "python3"
  },
  "language_info": {
   "codemirror_mode": {
    "name": "ipython",
    "version": 3
   },
   "file_extension": ".py",
   "mimetype": "text/x-python",
   "name": "python",
   "nbconvert_exporter": "python",
   "pygments_lexer": "ipython3",
   "version": "3.10.9"
  },
  "toc": {
   "base_numbering": 1,
   "nav_menu": {},
   "number_sections": true,
   "sideBar": true,
   "skip_h1_title": false,
   "title_cell": "Table of Contents",
   "title_sidebar": "Contents",
   "toc_cell": false,
   "toc_position": {},
   "toc_section_display": true,
   "toc_window_display": false
  },
  "varInspector": {
   "cols": {
    "lenName": 16,
    "lenType": 16,
    "lenVar": 40
   },
   "kernels_config": {
    "python": {
     "delete_cmd_postfix": "",
     "delete_cmd_prefix": "del ",
     "library": "var_list.py",
     "varRefreshCmd": "print(var_dic_list())"
    },
    "r": {
     "delete_cmd_postfix": ") ",
     "delete_cmd_prefix": "rm(",
     "library": "var_list.r",
     "varRefreshCmd": "cat(var_dic_list()) "
    }
   },
   "types_to_exclude": [
    "module",
    "function",
    "builtin_function_or_method",
    "instance",
    "_Feature"
   ],
   "window_display": false
  }
 },
 "nbformat": 4,
 "nbformat_minor": 5
}
