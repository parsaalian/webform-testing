{
 "cells": [
  {
   "cell_type": "code",
   "execution_count": 1,
   "id": "d229fc1e",
   "metadata": {
    "ExecuteTime": {
     "end_time": "2023-06-24T02:48:40.424137Z",
     "start_time": "2023-06-24T02:48:40.397267Z"
    }
   },
   "outputs": [],
   "source": [
    "%load_ext autoreload\n",
    "%autoreload 2"
   ]
  },
  {
   "cell_type": "code",
   "execution_count": 2,
   "id": "6edf3f1c",
   "metadata": {
    "ExecuteTime": {
     "end_time": "2023-06-24T02:48:45.914746Z",
     "start_time": "2023-06-24T02:48:41.089917Z"
    }
   },
   "outputs": [],
   "source": [
    "import os\n",
    "import time\n",
    "import openai\n",
    "from dotenv import load_dotenv\n",
    "\n",
    "from selenium.webdriver.common.by import By\n",
    "from bs4 import BeautifulSoup as bs\n",
    "\n",
    "from method.ours.utils import create_driver\n",
    "from method.ours.parse import (\n",
    "    initial_parse,\n",
    "    parse_after_feedback,\n",
    ")"
   ]
  },
  {
   "cell_type": "code",
   "execution_count": 3,
   "id": "25fb6bb8",
   "metadata": {
    "ExecuteTime": {
     "end_time": "2023-06-24T02:48:47.242190Z",
     "start_time": "2023-06-24T02:48:47.174519Z"
    }
   },
   "outputs": [],
   "source": [
    "load_dotenv()\n",
    "openai.api_key = os.getenv(\"OPENAI_API_KEY\")\n",
    "\n",
    "# Global Variables\n",
    "HEADLESS = False\n",
    "TEXT_EMBEDDING_METHOD = 'ADA' # ['ADA', 'WORD2VEC', 'SPACY']\n",
    "GRAPH_EMBEDDING_METHOD = 'NODE2VEC' # ['NODE2VEC', 'GCN']"
   ]
  },
  {
   "cell_type": "code",
   "execution_count": 4,
   "id": "837ffb01",
   "metadata": {
    "ExecuteTime": {
     "end_time": "2023-06-24T02:48:55.263244Z",
     "start_time": "2023-06-24T02:48:51.631283Z"
    }
   },
   "outputs": [],
   "source": [
    "driver = create_driver(HEADLESS)\n",
    "driver.get('https://www.aircanada.com/ca/en/aco/home.html')"
   ]
  },
  {
   "cell_type": "code",
   "execution_count": 5,
   "id": "2812c532",
   "metadata": {
    "ExecuteTime": {
     "end_time": "2023-06-24T02:08:42.906229Z",
     "start_time": "2023-06-24T02:08:42.794668Z"
    }
   },
   "outputs": [],
   "source": [
    "# form = driver.find_elements(By.TAG_NAME, 'form')[48]\n",
    "# form = driver.find_element(By.ID, 'register')\n",
    "form = driver.find_elements(By.TAG_NAME, 'form')[1]"
   ]
  },
  {
   "cell_type": "markdown",
   "id": "948b49bc",
   "metadata": {},
   "source": [
    "# Processing"
   ]
  },
  {
   "cell_type": "code",
   "execution_count": 6,
   "id": "69dd1802",
   "metadata": {
    "ExecuteTime": {
     "end_time": "2023-06-24T02:09:29.518737Z",
     "start_time": "2023-06-24T02:08:44.576350Z"
    }
   },
   "outputs": [
    {
     "data": {
      "application/vnd.jupyter.widget-view+json": {
       "model_id": "26d1b0414cb843f1bb8cfabd5b4f4f7d",
       "version_major": 2,
       "version_minor": 0
      },
      "text/plain": [
       "Computing transition probabilities:   0%|          | 0/340 [00:00<?, ?it/s]"
      ]
     },
     "metadata": {},
     "output_type": "display_data"
    },
    {
     "name": "stderr",
     "output_type": "stream",
     "text": [
      "Generating walks (CPU: 1): 100%|██████████| 50/50 [00:00<00:00, 591.62it/s]\n",
      "Generating walks (CPU: 2): 100%|██████████| 50/50 [00:00<00:00, 571.59it/s]\n",
      "Generating walks (CPU: 3): 100%|██████████| 50/50 [00:00<00:00, 574.63it/s]\n",
      "Generating walks (CPU: 4): 100%|██████████| 50/50 [00:00<00:00, 575.44it/s]\n",
      "100%|███████████████████████████████████████████████████████████████████████████████████████████████████████████████████████████████| 34/34 [00:12<00:00,  2.73it/s]\n",
      "/Library/Frameworks/Python.framework/Versions/3.10/lib/python3.10/site-packages/openai/embeddings_utils.py:68: RuntimeWarning: invalid value encountered in scalar divide\n",
      "  return np.dot(a, b) / (np.linalg.norm(a) * np.linalg.norm(b))\n"
     ]
    }
   ],
   "source": [
    "relation_graph, input_groups = initial_parse(driver, form, TEXT_EMBEDDING_METHOD)"
   ]
  },
  {
   "cell_type": "markdown",
   "id": "59c1f6ee",
   "metadata": {},
   "source": [
    "# Generation"
   ]
  },
  {
   "cell_type": "code",
   "execution_count": 7,
   "id": "8a57f983",
   "metadata": {
    "ExecuteTime": {
     "end_time": "2023-06-24T02:09:34.183031Z",
     "start_time": "2023-06-24T02:09:34.037808Z"
    }
   },
   "outputs": [],
   "source": [
    "from method.ours.constraints import generate_constraints_from_string\n",
    "from method.ours.prompts import (\n",
    "    get_form_context,\n",
    "    create_constraint_generation_user_prompt,\n",
    "    create_value_generation_user_prompt,\n",
    ")\n",
    "from method.ours.generation import (\n",
    "    generate_constraints_with_llm,\n",
    "    generate_values_with_llm,\n",
    ")"
   ]
  },
  {
   "cell_type": "code",
   "execution_count": 8,
   "id": "6d012746",
   "metadata": {
    "ExecuteTime": {
     "end_time": "2023-06-24T02:09:34.871285Z",
     "start_time": "2023-06-24T02:09:34.777408Z"
    }
   },
   "outputs": [],
   "source": [
    "form_context = get_form_context(input_groups)"
   ]
  },
  {
   "cell_type": "code",
   "execution_count": 9,
   "id": "e0d90294",
   "metadata": {
    "ExecuteTime": {
     "end_time": "2023-06-24T02:09:35.557000Z",
     "start_time": "2023-06-24T02:09:35.461339Z"
    }
   },
   "outputs": [],
   "source": [
    "class FillTable:\n",
    "    def __init__(self):\n",
    "        self.entries = {}\n",
    "    \n",
    "    \n",
    "    def add_entry(self, field_id, input_group, constraints):\n",
    "        self.entries[field_id] = FillTableRow(input_group, constraints)\n",
    "    \n",
    "    \n",
    "    def get_entry_by_field_id(self, field_id):\n",
    "        return self.entries[field_id]\n",
    "    \n",
    "    \n",
    "    def get_entry_by_input_group(self, input_group):\n",
    "        filtered = list(filter(\n",
    "            lambda x: x.input_group.node.xpath == input_group.node.xpath,\n",
    "            self.entries.values()\n",
    "        ))\n",
    "        if len(filtered) > 0:\n",
    "            return filtered[0]\n",
    "        return None\n",
    "\n",
    "\n",
    "class FillTableRow:\n",
    "    def __init__(self, input_group, constraints):\n",
    "        self.input_group = input_group\n",
    "        self.constraints = constraints\n",
    "        self.feedback = None\n",
    "        self.value = None\n",
    "    \n",
    "    \n",
    "    def set_value(self, value):\n",
    "        self.value = value\n",
    "    \n",
    "    \n",
    "    def set_feedback(self, feedback):\n",
    "        self.feedback = feedback"
   ]
  },
  {
   "cell_type": "code",
   "execution_count": 10,
   "id": "9bc88e1b",
   "metadata": {
    "ExecuteTime": {
     "end_time": "2023-06-24T02:09:36.238879Z",
     "start_time": "2023-06-24T02:09:36.144881Z"
    }
   },
   "outputs": [],
   "source": [
    "fill_table = FillTable()"
   ]
  },
  {
   "cell_type": "code",
   "execution_count": 11,
   "id": "e0880525",
   "metadata": {
    "ExecuteTime": {
     "end_time": "2023-06-24T02:10:08.950218Z",
     "start_time": "2023-06-24T02:09:36.832136Z"
    }
   },
   "outputs": [
    {
     "name": "stdout",
     "output_type": "stream",
     "text": [
      " \u001b[0m Prompt: [\n",
      "  {\n",
      "    \"role\": \"system\",\n",
      "    \"content\": \"\\nYour task is to generate a set of constraints for form fields. Your decisions must be made independently without seeking user assistance or additional information.\\n\\nThe list of constraints that you must choose from, and their signatures, is as follows:\\n\\n1. toBe(value) # the input field value exactly matches the given value\\n2. toHaveLengthCondition(condition, value) # the length of the input field value matches the given condition\\n3. toBeTruthy() # the input field value is truthy and not empty (not false, 0, '', null, undefined, or NaN)\\n4. toHaveCompareCondition(condition, value) # the input field value has the given condition to the given value\\n5. toContainSubstr(value) # the input field value contains a specific string\\n6. toContainChar(value) # the input field value contains a specific character\\n7. toBeAlpha() # the input field value is alphabetic\\n8. toBeNumeric() # the input field value is numeric\\n9. toBeAlphaNumeric() # the input value contains both alphabetical and numeric characters\\n10. toHaveUpperCase() # the input value field contains upper case characters\\n11. toHaveSpecialChars() # the input value field contains special characters\\n12. toHaveWhiteSpace() # the input value field contains whitespace\\n13. toStartWith(value) # the input value field must start with a certain value\\n14. toEndWith(value) # the input value field must end with a certain value\\n15. toMatch(regex) # the input value field must match a certain regex pattern\\n\\nYou must only choose constraints from the list above. The name of the constraints must exactly match the functions above. Generate constraints as the sample:\\n\\n# sample\\nexpect(field('password'))\\n.toHaveLengthCondition('>', 8)\\n.toHaveLengthCondition('<', 50)\\n.toBeAlphaNumeric()\\n.toHaveUpperCase()\\n.toHaveSpecialChars()\\n.not.toBeTruthy()\\n.toBe(field('confirm password'))\\n# end of sample\\n\\nThe information that user has provided is as follows:\\n- All the labels in the form, so that you would have a context of what the form is about.\\n- The input and the textual information associated with it, such as labels, hint texts, or inline feedback.\\n- The input fields that are relevant to the input field in question.\\n- Previously generated constraints for the input field in question if available.\\n- Tested values and the inline feedback for the input field in question if available.\\n- Test values and the global feedback for the whole form if available.\\n\\nIf there are multiple ways to express constraints, use the one with the least number of constraints to describe it.\\nOnly generate the constraints and don't explain your answers.\\nOnly generate constraints for the inputs in question, not those in the relevant information section.\\n\"\n",
      "  },\n",
      "  {\n",
      "    \"role\": \"user\",\n",
      "    \"content\": \"The labels for the form are:\\n     Round-trip \\n One-way \\n Multi-city/Stopover \\n Book with points \\nFrom\\nTo\\nDeparture\\nReturn\\n    These labels are used to provide context for the functionality of the form.\\n    \\n    We are generating constraints for the following input field:\\n    input: <input id=\\\"bkmgFlights_tripTypeSelector_R\\\" name=\\\"tripType\\\" type=\\\"radio\\\" value=\\\"R\\\"/>\\nwith label: Round-trip\\n    \\n    The relevant information available in the form are (in order of relevance):\\n    1.\\ninput: <input id=\\\"bkmgFlights_tripTypeSelector_M\\\" name=\\\"tripType\\\" type=\\\"radio\\\" value=\\\"M\\\"/>\\nwith label: Multi-city/Stopover\\n2.\\ninput: <input id=\\\"bkmgFlights_tripTypeSelector_O\\\" name=\\\"tripType\\\" type=\\\"radio\\\" value=\\\"O\\\"/>\\nwith label: One-way\\n3.\\ninput: <input id=\\\"bkmgFlights_travelDates_1-formfield-2\\\" name=\\\"bkmgFlights_travelDates_1-formfield-2\\\" placeholder=\\\"DD/MM\\\" type=\\\"text\\\"/>\\nwith label: Return\"\n",
      "  }\n",
      "]\n",
      " \u001b[0m Response: {\n",
      "  \"choices\": [\n",
      "    {\n",
      "      \"finish_reason\": \"stop\",\n",
      "      \"index\": 0,\n",
      "      \"message\": {\n",
      "        \"content\": \"expect(field('tripType'))\\n.toBe('R')\",\n",
      "        \"role\": \"assistant\"\n",
      "      }\n",
      "    }\n",
      "  ],\n",
      "  \"created\": 1687572577,\n",
      "  \"id\": \"chatcmpl-7Un0TlxhaoBa0iDpAkvZAVV2uHnJN\",\n",
      "  \"model\": \"gpt-4-0314\",\n",
      "  \"object\": \"chat.completion\",\n",
      "  \"usage\": {\n",
      "    \"completion_tokens\": 10,\n",
      "    \"prompt_tokens\": 818,\n",
      "    \"total_tokens\": 828\n",
      "  }\n",
      "}\n",
      " \u001b[0m Total running cost: $0.025\n",
      " \u001b[0m Prompt: [\n",
      "  {\n",
      "    \"role\": \"system\",\n",
      "    \"content\": \"\\nYour task is to generate a set of constraints for form fields. Your decisions must be made independently without seeking user assistance or additional information.\\n\\nThe list of constraints that you must choose from, and their signatures, is as follows:\\n\\n1. toBe(value) # the input field value exactly matches the given value\\n2. toHaveLengthCondition(condition, value) # the length of the input field value matches the given condition\\n3. toBeTruthy() # the input field value is truthy and not empty (not false, 0, '', null, undefined, or NaN)\\n4. toHaveCompareCondition(condition, value) # the input field value has the given condition to the given value\\n5. toContainSubstr(value) # the input field value contains a specific string\\n6. toContainChar(value) # the input field value contains a specific character\\n7. toBeAlpha() # the input field value is alphabetic\\n8. toBeNumeric() # the input field value is numeric\\n9. toBeAlphaNumeric() # the input value contains both alphabetical and numeric characters\\n10. toHaveUpperCase() # the input value field contains upper case characters\\n11. toHaveSpecialChars() # the input value field contains special characters\\n12. toHaveWhiteSpace() # the input value field contains whitespace\\n13. toStartWith(value) # the input value field must start with a certain value\\n14. toEndWith(value) # the input value field must end with a certain value\\n15. toMatch(regex) # the input value field must match a certain regex pattern\\n\\nYou must only choose constraints from the list above. The name of the constraints must exactly match the functions above. Generate constraints as the sample:\\n\\n# sample\\nexpect(field('password'))\\n.toHaveLengthCondition('>', 8)\\n.toHaveLengthCondition('<', 50)\\n.toBeAlphaNumeric()\\n.toHaveUpperCase()\\n.toHaveSpecialChars()\\n.not.toBeTruthy()\\n.toBe(field('confirm password'))\\n# end of sample\\n\\nThe information that user has provided is as follows:\\n- All the labels in the form, so that you would have a context of what the form is about.\\n- The input and the textual information associated with it, such as labels, hint texts, or inline feedback.\\n- The input fields that are relevant to the input field in question.\\n- Previously generated constraints for the input field in question if available.\\n- Tested values and the inline feedback for the input field in question if available.\\n- Test values and the global feedback for the whole form if available.\\n\\nIf there are multiple ways to express constraints, use the one with the least number of constraints to describe it.\\nOnly generate the constraints and don't explain your answers.\\nOnly generate constraints for the inputs in question, not those in the relevant information section.\\n\"\n",
      "  },\n",
      "  {\n",
      "    \"role\": \"user\",\n",
      "    \"content\": \"The labels for the form are:\\n     Round-trip \\n One-way \\n Multi-city/Stopover \\n Book with points \\nFrom\\nTo\\nDeparture\\nReturn\\n    These labels are used to provide context for the functionality of the form.\\n    \\n    We are generating constraints for the following input field:\\n    input: <input id=\\\"bkmgFlights_tripTypeSelector_O\\\" name=\\\"tripType\\\" type=\\\"radio\\\" value=\\\"O\\\"/>\\nwith label: One-way\\n    \\n    The relevant information available in the form are (in order of relevance):\\n    1.\\ninput: <input id=\\\"bkmgFlights_tripTypeSelector_R\\\" name=\\\"tripType\\\" type=\\\"radio\\\" value=\\\"R\\\"/>\\nwith label: Round-trip\\n2.\\ninput: <input id=\\\"bkmgFlights_tripTypeSelector_M\\\" name=\\\"tripType\\\" type=\\\"radio\\\" value=\\\"M\\\"/>\\nwith label: Multi-city/Stopover\"\n",
      "  }\n",
      "]\n",
      " \u001b[0m Response: {\n",
      "  \"choices\": [\n",
      "    {\n",
      "      \"finish_reason\": \"stop\",\n",
      "      \"index\": 0,\n",
      "      \"message\": {\n",
      "        \"content\": \"expect(field('One-way'))\\n.toBe(field('bkmgFlights_tripTypeSelector_O'))\\n.not.toBe(field('bkmgFlights_tripTypeSelector_R'))\\n.not.toBe(field('bkmgFlights_tripTypeSelector_M'))\",\n",
      "        \"role\": \"assistant\"\n",
      "      }\n",
      "    }\n",
      "  ],\n",
      "  \"created\": 1687572578,\n",
      "  \"id\": \"chatcmpl-7Un0UvjCyOnb3u99n3YCR6YO7Pqeg\",\n",
      "  \"model\": \"gpt-4-0314\",\n",
      "  \"object\": \"chat.completion\",\n",
      "  \"usage\": {\n",
      "    \"completion_tokens\": 44,\n",
      "    \"prompt_tokens\": 768,\n",
      "    \"total_tokens\": 812\n",
      "  }\n",
      "}\n",
      " \u001b[0m Total running cost: $0.051\n",
      " \u001b[0m Prompt: [\n",
      "  {\n",
      "    \"role\": \"system\",\n",
      "    \"content\": \"\\nYour task is to generate a set of constraints for form fields. Your decisions must be made independently without seeking user assistance or additional information.\\n\\nThe list of constraints that you must choose from, and their signatures, is as follows:\\n\\n1. toBe(value) # the input field value exactly matches the given value\\n2. toHaveLengthCondition(condition, value) # the length of the input field value matches the given condition\\n3. toBeTruthy() # the input field value is truthy and not empty (not false, 0, '', null, undefined, or NaN)\\n4. toHaveCompareCondition(condition, value) # the input field value has the given condition to the given value\\n5. toContainSubstr(value) # the input field value contains a specific string\\n6. toContainChar(value) # the input field value contains a specific character\\n7. toBeAlpha() # the input field value is alphabetic\\n8. toBeNumeric() # the input field value is numeric\\n9. toBeAlphaNumeric() # the input value contains both alphabetical and numeric characters\\n10. toHaveUpperCase() # the input value field contains upper case characters\\n11. toHaveSpecialChars() # the input value field contains special characters\\n12. toHaveWhiteSpace() # the input value field contains whitespace\\n13. toStartWith(value) # the input value field must start with a certain value\\n14. toEndWith(value) # the input value field must end with a certain value\\n15. toMatch(regex) # the input value field must match a certain regex pattern\\n\\nYou must only choose constraints from the list above. The name of the constraints must exactly match the functions above. Generate constraints as the sample:\\n\\n# sample\\nexpect(field('password'))\\n.toHaveLengthCondition('>', 8)\\n.toHaveLengthCondition('<', 50)\\n.toBeAlphaNumeric()\\n.toHaveUpperCase()\\n.toHaveSpecialChars()\\n.not.toBeTruthy()\\n.toBe(field('confirm password'))\\n# end of sample\\n\\nThe information that user has provided is as follows:\\n- All the labels in the form, so that you would have a context of what the form is about.\\n- The input and the textual information associated with it, such as labels, hint texts, or inline feedback.\\n- The input fields that are relevant to the input field in question.\\n- Previously generated constraints for the input field in question if available.\\n- Tested values and the inline feedback for the input field in question if available.\\n- Test values and the global feedback for the whole form if available.\\n\\nIf there are multiple ways to express constraints, use the one with the least number of constraints to describe it.\\nOnly generate the constraints and don't explain your answers.\\nOnly generate constraints for the inputs in question, not those in the relevant information section.\\n\"\n",
      "  },\n",
      "  {\n",
      "    \"role\": \"user\",\n",
      "    \"content\": \"The labels for the form are:\\n     Round-trip \\n One-way \\n Multi-city/Stopover \\n Book with points \\nFrom\\nTo\\nDeparture\\nReturn\\n    These labels are used to provide context for the functionality of the form.\\n    \\n    We are generating constraints for the following input field:\\n    input: <input id=\\\"bkmgFlights_tripTypeSelector_M\\\" name=\\\"tripType\\\" type=\\\"radio\\\" value=\\\"M\\\"/>\\nwith label: Multi-city/Stopover\\n    \\n    The relevant information available in the form are (in order of relevance):\\n    1.\\ninput: <input id=\\\"bkmgFlights_tripTypeSelector_R\\\" name=\\\"tripType\\\" type=\\\"radio\\\" value=\\\"R\\\"/>\\nwith label: Round-trip\\n2.\\ninput: <input id=\\\"bkmgFlights_tripTypeSelector_O\\\" name=\\\"tripType\\\" type=\\\"radio\\\" value=\\\"O\\\"/>\\nwith label: One-way\\n3.\\ninput: <input id=\\\"bkmgFlights_travelDates_1-formfield-2\\\" name=\\\"bkmgFlights_travelDates_1-formfield-2\\\" placeholder=\\\"DD/MM\\\" type=\\\"text\\\"/>\\nwith label: Return\"\n",
      "  }\n",
      "]\n"
     ]
    },
    {
     "name": "stdout",
     "output_type": "stream",
     "text": [
      " \u001b[0m Response: {\n",
      "  \"choices\": [\n",
      "    {\n",
      "      \"finish_reason\": \"stop\",\n",
      "      \"index\": 0,\n",
      "      \"message\": {\n",
      "        \"content\": \"expect(field('tripType'))\\n.toBe('M')\",\n",
      "        \"role\": \"assistant\"\n",
      "      }\n",
      "    }\n",
      "  ],\n",
      "  \"created\": 1687572585,\n",
      "  \"id\": \"chatcmpl-7Un0b2QkTqKpKKnjzK7UwSTjTu3bg\",\n",
      "  \"model\": \"gpt-4-0314\",\n",
      "  \"object\": \"chat.completion\",\n",
      "  \"usage\": {\n",
      "    \"completion_tokens\": 10,\n",
      "    \"prompt_tokens\": 818,\n",
      "    \"total_tokens\": 828\n",
      "  }\n",
      "}\n",
      " \u001b[0m Total running cost: $0.076\n",
      " \u001b[0m Prompt: [\n",
      "  {\n",
      "    \"role\": \"system\",\n",
      "    \"content\": \"\\nYour task is to generate a set of constraints for form fields. Your decisions must be made independently without seeking user assistance or additional information.\\n\\nThe list of constraints that you must choose from, and their signatures, is as follows:\\n\\n1. toBe(value) # the input field value exactly matches the given value\\n2. toHaveLengthCondition(condition, value) # the length of the input field value matches the given condition\\n3. toBeTruthy() # the input field value is truthy and not empty (not false, 0, '', null, undefined, or NaN)\\n4. toHaveCompareCondition(condition, value) # the input field value has the given condition to the given value\\n5. toContainSubstr(value) # the input field value contains a specific string\\n6. toContainChar(value) # the input field value contains a specific character\\n7. toBeAlpha() # the input field value is alphabetic\\n8. toBeNumeric() # the input field value is numeric\\n9. toBeAlphaNumeric() # the input value contains both alphabetical and numeric characters\\n10. toHaveUpperCase() # the input value field contains upper case characters\\n11. toHaveSpecialChars() # the input value field contains special characters\\n12. toHaveWhiteSpace() # the input value field contains whitespace\\n13. toStartWith(value) # the input value field must start with a certain value\\n14. toEndWith(value) # the input value field must end with a certain value\\n15. toMatch(regex) # the input value field must match a certain regex pattern\\n\\nYou must only choose constraints from the list above. The name of the constraints must exactly match the functions above. Generate constraints as the sample:\\n\\n# sample\\nexpect(field('password'))\\n.toHaveLengthCondition('>', 8)\\n.toHaveLengthCondition('<', 50)\\n.toBeAlphaNumeric()\\n.toHaveUpperCase()\\n.toHaveSpecialChars()\\n.not.toBeTruthy()\\n.toBe(field('confirm password'))\\n# end of sample\\n\\nThe information that user has provided is as follows:\\n- All the labels in the form, so that you would have a context of what the form is about.\\n- The input and the textual information associated with it, such as labels, hint texts, or inline feedback.\\n- The input fields that are relevant to the input field in question.\\n- Previously generated constraints for the input field in question if available.\\n- Tested values and the inline feedback for the input field in question if available.\\n- Test values and the global feedback for the whole form if available.\\n\\nIf there are multiple ways to express constraints, use the one with the least number of constraints to describe it.\\nOnly generate the constraints and don't explain your answers.\\nOnly generate constraints for the inputs in question, not those in the relevant information section.\\n\"\n",
      "  },\n",
      "  {\n",
      "    \"role\": \"user\",\n",
      "    \"content\": \"The labels for the form are:\\n     Round-trip \\n One-way \\n Multi-city/Stopover \\n Book with points \\nFrom\\nTo\\nDeparture\\nReturn\\n    These labels are used to provide context for the functionality of the form.\\n    \\n    We are generating constraints for the following input field:\\n    input: <input id=\\\"bkmgFlights_searchTypeToggle\\\" type=\\\"checkbox\\\"/>\\nwith label: Book with points\\n    \\n    The relevant information available in the form are (in order of relevance):\"\n",
      "  }\n",
      "]\n",
      " \u001b[0m Response: {\n",
      "  \"choices\": [\n",
      "    {\n",
      "      \"finish_reason\": \"stop\",\n",
      "      \"index\": 0,\n",
      "      \"message\": {\n",
      "        \"content\": \"expect(field('bkmgFlights_searchTypeToggle'))\\n.toBeTruthy()\",\n",
      "        \"role\": \"assistant\"\n",
      "      }\n",
      "    }\n",
      "  ],\n",
      "  \"created\": 1687572586,\n",
      "  \"id\": \"chatcmpl-7Un0c5epMYVdb554Tf9vEJ3jZXcgY\",\n",
      "  \"model\": \"gpt-4-0314\",\n",
      "  \"object\": \"chat.completion\",\n",
      "  \"usage\": {\n",
      "    \"completion_tokens\": 14,\n",
      "    \"prompt_tokens\": 682,\n",
      "    \"total_tokens\": 696\n",
      "  }\n",
      "}\n",
      " \u001b[0m Total running cost: $0.097\n",
      " \u001b[0m Prompt: [\n",
      "  {\n",
      "    \"role\": \"system\",\n",
      "    \"content\": \"\\nYour task is to generate a set of constraints for form fields. Your decisions must be made independently without seeking user assistance or additional information.\\n\\nThe list of constraints that you must choose from, and their signatures, is as follows:\\n\\n1. toBe(value) # the input field value exactly matches the given value\\n2. toHaveLengthCondition(condition, value) # the length of the input field value matches the given condition\\n3. toBeTruthy() # the input field value is truthy and not empty (not false, 0, '', null, undefined, or NaN)\\n4. toHaveCompareCondition(condition, value) # the input field value has the given condition to the given value\\n5. toContainSubstr(value) # the input field value contains a specific string\\n6. toContainChar(value) # the input field value contains a specific character\\n7. toBeAlpha() # the input field value is alphabetic\\n8. toBeNumeric() # the input field value is numeric\\n9. toBeAlphaNumeric() # the input value contains both alphabetical and numeric characters\\n10. toHaveUpperCase() # the input value field contains upper case characters\\n11. toHaveSpecialChars() # the input value field contains special characters\\n12. toHaveWhiteSpace() # the input value field contains whitespace\\n13. toStartWith(value) # the input value field must start with a certain value\\n14. toEndWith(value) # the input value field must end with a certain value\\n15. toMatch(regex) # the input value field must match a certain regex pattern\\n\\nYou must only choose constraints from the list above. The name of the constraints must exactly match the functions above. Generate constraints as the sample:\\n\\n# sample\\nexpect(field('password'))\\n.toHaveLengthCondition('>', 8)\\n.toHaveLengthCondition('<', 50)\\n.toBeAlphaNumeric()\\n.toHaveUpperCase()\\n.toHaveSpecialChars()\\n.not.toBeTruthy()\\n.toBe(field('confirm password'))\\n# end of sample\\n\\nThe information that user has provided is as follows:\\n- All the labels in the form, so that you would have a context of what the form is about.\\n- The input and the textual information associated with it, such as labels, hint texts, or inline feedback.\\n- The input fields that are relevant to the input field in question.\\n- Previously generated constraints for the input field in question if available.\\n- Tested values and the inline feedback for the input field in question if available.\\n- Test values and the global feedback for the whole form if available.\\n\\nIf there are multiple ways to express constraints, use the one with the least number of constraints to describe it.\\nOnly generate the constraints and don't explain your answers.\\nOnly generate constraints for the inputs in question, not those in the relevant information section.\\n\"\n",
      "  },\n",
      "  {\n",
      "    \"role\": \"user\",\n",
      "    \"content\": \"The labels for the form are:\\n     Round-trip \\n One-way \\n Multi-city/Stopover \\n Book with points \\nFrom\\nTo\\nDeparture\\nReturn\\n    These labels are used to provide context for the functionality of the form.\\n    \\n    We are generating constraints for the following input field:\\n    input: <input id=\\\"bkmgFlights_origin_trip_1\\\" name=\\\"bkmgFlights_origin_trip_1\\\" placeholder=\\\"\\\" type=\\\"text\\\"/>\\nwith label: From\\nwith the following relevant text tags:\\n<span>From</span>\\n    \\n    The relevant information available in the form are (in order of relevance):\\n    1.\\ninput: <input id=\\\"bkmgFlights_destination_trip_1\\\" name=\\\"bkmgFlights_destination_trip_1\\\" placeholder=\\\"\\\" type=\\\"text\\\"/>\\nwith label: To\"\n",
      "  }\n",
      "]\n",
      " \u001b[0m Response: {\n",
      "  \"choices\": [\n",
      "    {\n",
      "      \"finish_reason\": \"stop\",\n",
      "      \"index\": 0,\n",
      "      \"message\": {\n",
      "        \"content\": \"expect(field('bkmgFlights_origin_trip_1'))\\n.toBeAlpha()\\n.not.toHaveWhiteSpace()\\n.toHaveLengthCondition('>', 2)\\n.toHaveLengthCondition('<', 4)\",\n",
      "        \"role\": \"assistant\"\n",
      "      }\n",
      "    }\n",
      "  ],\n",
      "  \"created\": 1687572590,\n",
      "  \"id\": \"chatcmpl-7Un0gz11BGjVGt9SQyjboFIzxOMFL\",\n",
      "  \"model\": \"gpt-4-0314\",\n",
      "  \"object\": \"chat.completion\",\n",
      "  \"usage\": {\n",
      "    \"completion_tokens\": 38,\n",
      "    \"prompt_tokens\": 748,\n",
      "    \"total_tokens\": 786\n",
      "  }\n",
      "}\n",
      " \u001b[0m Total running cost: $0.122\n",
      " \u001b[0m Prompt: [\n",
      "  {\n",
      "    \"role\": \"system\",\n",
      "    \"content\": \"\\nYour task is to generate a set of constraints for form fields. Your decisions must be made independently without seeking user assistance or additional information.\\n\\nThe list of constraints that you must choose from, and their signatures, is as follows:\\n\\n1. toBe(value) # the input field value exactly matches the given value\\n2. toHaveLengthCondition(condition, value) # the length of the input field value matches the given condition\\n3. toBeTruthy() # the input field value is truthy and not empty (not false, 0, '', null, undefined, or NaN)\\n4. toHaveCompareCondition(condition, value) # the input field value has the given condition to the given value\\n5. toContainSubstr(value) # the input field value contains a specific string\\n6. toContainChar(value) # the input field value contains a specific character\\n7. toBeAlpha() # the input field value is alphabetic\\n8. toBeNumeric() # the input field value is numeric\\n9. toBeAlphaNumeric() # the input value contains both alphabetical and numeric characters\\n10. toHaveUpperCase() # the input value field contains upper case characters\\n11. toHaveSpecialChars() # the input value field contains special characters\\n12. toHaveWhiteSpace() # the input value field contains whitespace\\n13. toStartWith(value) # the input value field must start with a certain value\\n14. toEndWith(value) # the input value field must end with a certain value\\n15. toMatch(regex) # the input value field must match a certain regex pattern\\n\\nYou must only choose constraints from the list above. The name of the constraints must exactly match the functions above. Generate constraints as the sample:\\n\\n# sample\\nexpect(field('password'))\\n.toHaveLengthCondition('>', 8)\\n.toHaveLengthCondition('<', 50)\\n.toBeAlphaNumeric()\\n.toHaveUpperCase()\\n.toHaveSpecialChars()\\n.not.toBeTruthy()\\n.toBe(field('confirm password'))\\n# end of sample\\n\\nThe information that user has provided is as follows:\\n- All the labels in the form, so that you would have a context of what the form is about.\\n- The input and the textual information associated with it, such as labels, hint texts, or inline feedback.\\n- The input fields that are relevant to the input field in question.\\n- Previously generated constraints for the input field in question if available.\\n- Tested values and the inline feedback for the input field in question if available.\\n- Test values and the global feedback for the whole form if available.\\n\\nIf there are multiple ways to express constraints, use the one with the least number of constraints to describe it.\\nOnly generate the constraints and don't explain your answers.\\nOnly generate constraints for the inputs in question, not those in the relevant information section.\\n\"\n",
      "  },\n",
      "  {\n",
      "    \"role\": \"user\",\n",
      "    \"content\": \"The labels for the form are:\\n     Round-trip \\n One-way \\n Multi-city/Stopover \\n Book with points \\nFrom\\nTo\\nDeparture\\nReturn\\n    These labels are used to provide context for the functionality of the form.\\n    \\n    We are generating constraints for the following input field:\\n    input: <input id=\\\"bkmgFlights_destination_trip_1\\\" name=\\\"bkmgFlights_destination_trip_1\\\" placeholder=\\\"\\\" type=\\\"text\\\"/>\\nwith label: To\\nwith the following relevant text tags:\\n<span>To</span>\\n    \\n    The relevant information available in the form are (in order of relevance):\\n    1.\\ninput: <input id=\\\"bkmgFlights_origin_trip_1\\\" name=\\\"bkmgFlights_origin_trip_1\\\" placeholder=\\\"\\\" type=\\\"text\\\"/>\\nwith label: From\"\n",
      "  }\n",
      "]\n"
     ]
    },
    {
     "name": "stdout",
     "output_type": "stream",
     "text": [
      " \u001b[0m Response: {\n",
      "  \"choices\": [\n",
      "    {\n",
      "      \"finish_reason\": \"stop\",\n",
      "      \"index\": 0,\n",
      "      \"message\": {\n",
      "        \"content\": \"expect(field('bkmgFlights_destination_trip_1'))\\n.toBeAlpha()\\n.not.toHaveWhiteSpace()\\n.not.toBe(field('bkmgFlights_origin_trip_1'))\",\n",
      "        \"role\": \"assistant\"\n",
      "      }\n",
      "    }\n",
      "  ],\n",
      "  \"created\": 1687572593,\n",
      "  \"id\": \"chatcmpl-7Un0jF7P6E5RHMN4taz2xEYsSuCOU\",\n",
      "  \"model\": \"gpt-4-0314\",\n",
      "  \"object\": \"chat.completion\",\n",
      "  \"usage\": {\n",
      "    \"completion_tokens\": 33,\n",
      "    \"prompt_tokens\": 747,\n",
      "    \"total_tokens\": 780\n",
      "  }\n",
      "}\n",
      " \u001b[0m Total running cost: $0.146\n",
      " \u001b[0m Prompt: [\n",
      "  {\n",
      "    \"role\": \"system\",\n",
      "    \"content\": \"\\nYour task is to generate a set of constraints for form fields. Your decisions must be made independently without seeking user assistance or additional information.\\n\\nThe list of constraints that you must choose from, and their signatures, is as follows:\\n\\n1. toBe(value) # the input field value exactly matches the given value\\n2. toHaveLengthCondition(condition, value) # the length of the input field value matches the given condition\\n3. toBeTruthy() # the input field value is truthy and not empty (not false, 0, '', null, undefined, or NaN)\\n4. toHaveCompareCondition(condition, value) # the input field value has the given condition to the given value\\n5. toContainSubstr(value) # the input field value contains a specific string\\n6. toContainChar(value) # the input field value contains a specific character\\n7. toBeAlpha() # the input field value is alphabetic\\n8. toBeNumeric() # the input field value is numeric\\n9. toBeAlphaNumeric() # the input value contains both alphabetical and numeric characters\\n10. toHaveUpperCase() # the input value field contains upper case characters\\n11. toHaveSpecialChars() # the input value field contains special characters\\n12. toHaveWhiteSpace() # the input value field contains whitespace\\n13. toStartWith(value) # the input value field must start with a certain value\\n14. toEndWith(value) # the input value field must end with a certain value\\n15. toMatch(regex) # the input value field must match a certain regex pattern\\n\\nYou must only choose constraints from the list above. The name of the constraints must exactly match the functions above. Generate constraints as the sample:\\n\\n# sample\\nexpect(field('password'))\\n.toHaveLengthCondition('>', 8)\\n.toHaveLengthCondition('<', 50)\\n.toBeAlphaNumeric()\\n.toHaveUpperCase()\\n.toHaveSpecialChars()\\n.not.toBeTruthy()\\n.toBe(field('confirm password'))\\n# end of sample\\n\\nThe information that user has provided is as follows:\\n- All the labels in the form, so that you would have a context of what the form is about.\\n- The input and the textual information associated with it, such as labels, hint texts, or inline feedback.\\n- The input fields that are relevant to the input field in question.\\n- Previously generated constraints for the input field in question if available.\\n- Tested values and the inline feedback for the input field in question if available.\\n- Test values and the global feedback for the whole form if available.\\n\\nIf there are multiple ways to express constraints, use the one with the least number of constraints to describe it.\\nOnly generate the constraints and don't explain your answers.\\nOnly generate constraints for the inputs in question, not those in the relevant information section.\\n\"\n",
      "  },\n",
      "  {\n",
      "    \"role\": \"user\",\n",
      "    \"content\": \"The labels for the form are:\\n     Round-trip \\n One-way \\n Multi-city/Stopover \\n Book with points \\nFrom\\nTo\\nDeparture\\nReturn\\n    These labels are used to provide context for the functionality of the form.\\n    \\n    We are generating constraints for the following input field:\\n    input: <input id=\\\"bkmgFlights_travelDates_1-formfield-1\\\" name=\\\"bkmgFlights_travelDates_1-formfield-1\\\" placeholder=\\\"DD/MM\\\" type=\\\"text\\\"/>\\nwith label: Departure\\nwith the following relevant text tags:\\n<span>Departure</span>\\n    \\n    The relevant information available in the form are (in order of relevance):\\n    1.\\ninput: <input id=\\\"bkmgFlights_travelDates_1-formfield-2\\\" name=\\\"bkmgFlights_travelDates_1-formfield-2\\\" placeholder=\\\"DD/MM\\\" type=\\\"text\\\"/>\\nwith label: Return\\n2.\\ninput: <input id=\\\"bkmgFlights_tripTypeSelector_R\\\" name=\\\"tripType\\\" type=\\\"radio\\\" value=\\\"R\\\"/>\\nwith label: Round-trip\"\n",
      "  }\n",
      "]\n",
      " \u001b[0m Response: {\n",
      "  \"choices\": [\n",
      "    {\n",
      "      \"finish_reason\": \"stop\",\n",
      "      \"index\": 0,\n",
      "      \"message\": {\n",
      "        \"content\": \"expect(field('bkmgFlights_travelDates_1-formfield-1'))\\n.toMatch(/^\\\\d{2}\\\\/\\\\d{2}$/)\\n.not.toBe(field('bkmgFlights_travelDates_1-formfield-2'))\",\n",
      "        \"role\": \"assistant\"\n",
      "      }\n",
      "    }\n",
      "  ],\n",
      "  \"created\": 1687572598,\n",
      "  \"id\": \"chatcmpl-7Un0o5rckPE4emuH7qOsX3eGrM2wT\",\n",
      "  \"model\": \"gpt-4-0314\",\n",
      "  \"object\": \"chat.completion\",\n",
      "  \"usage\": {\n",
      "    \"completion_tokens\": 47,\n",
      "    \"prompt_tokens\": 809,\n",
      "    \"total_tokens\": 856\n",
      "  }\n",
      "}\n",
      " \u001b[0m Total running cost: $0.173\n",
      " \u001b[0m Prompt: [\n",
      "  {\n",
      "    \"role\": \"system\",\n",
      "    \"content\": \"\\nYour task is to generate a set of constraints for form fields. Your decisions must be made independently without seeking user assistance or additional information.\\n\\nThe list of constraints that you must choose from, and their signatures, is as follows:\\n\\n1. toBe(value) # the input field value exactly matches the given value\\n2. toHaveLengthCondition(condition, value) # the length of the input field value matches the given condition\\n3. toBeTruthy() # the input field value is truthy and not empty (not false, 0, '', null, undefined, or NaN)\\n4. toHaveCompareCondition(condition, value) # the input field value has the given condition to the given value\\n5. toContainSubstr(value) # the input field value contains a specific string\\n6. toContainChar(value) # the input field value contains a specific character\\n7. toBeAlpha() # the input field value is alphabetic\\n8. toBeNumeric() # the input field value is numeric\\n9. toBeAlphaNumeric() # the input value contains both alphabetical and numeric characters\\n10. toHaveUpperCase() # the input value field contains upper case characters\\n11. toHaveSpecialChars() # the input value field contains special characters\\n12. toHaveWhiteSpace() # the input value field contains whitespace\\n13. toStartWith(value) # the input value field must start with a certain value\\n14. toEndWith(value) # the input value field must end with a certain value\\n15. toMatch(regex) # the input value field must match a certain regex pattern\\n\\nYou must only choose constraints from the list above. The name of the constraints must exactly match the functions above. Generate constraints as the sample:\\n\\n# sample\\nexpect(field('password'))\\n.toHaveLengthCondition('>', 8)\\n.toHaveLengthCondition('<', 50)\\n.toBeAlphaNumeric()\\n.toHaveUpperCase()\\n.toHaveSpecialChars()\\n.not.toBeTruthy()\\n.toBe(field('confirm password'))\\n# end of sample\\n\\nThe information that user has provided is as follows:\\n- All the labels in the form, so that you would have a context of what the form is about.\\n- The input and the textual information associated with it, such as labels, hint texts, or inline feedback.\\n- The input fields that are relevant to the input field in question.\\n- Previously generated constraints for the input field in question if available.\\n- Tested values and the inline feedback for the input field in question if available.\\n- Test values and the global feedback for the whole form if available.\\n\\nIf there are multiple ways to express constraints, use the one with the least number of constraints to describe it.\\nOnly generate the constraints and don't explain your answers.\\nOnly generate constraints for the inputs in question, not those in the relevant information section.\\n\"\n",
      "  },\n",
      "  {\n",
      "    \"role\": \"user\",\n",
      "    \"content\": \"The labels for the form are:\\n     Round-trip \\n One-way \\n Multi-city/Stopover \\n Book with points \\nFrom\\nTo\\nDeparture\\nReturn\\n    These labels are used to provide context for the functionality of the form.\\n    \\n    We are generating constraints for the following input field:\\n    input: <input id=\\\"bkmgFlights_travelDates_1-formfield-2\\\" name=\\\"bkmgFlights_travelDates_1-formfield-2\\\" placeholder=\\\"DD/MM\\\" type=\\\"text\\\"/>\\nwith label: Return\\nwith the following relevant text tags:\\n<span>Return</span>\\n    \\n    The relevant information available in the form are (in order of relevance):\\n    1.\\ninput: <input id=\\\"bkmgFlights_travelDates_1-formfield-1\\\" name=\\\"bkmgFlights_travelDates_1-formfield-1\\\" placeholder=\\\"DD/MM\\\" type=\\\"text\\\"/>\\nwith label: Departure\\n2.\\ninput: <input id=\\\"bkmgFlights_tripTypeSelector_R\\\" name=\\\"tripType\\\" type=\\\"radio\\\" value=\\\"R\\\"/>\\nwith label: Round-trip\\n3.\\ninput: <input id=\\\"bkmgFlights_tripTypeSelector_M\\\" name=\\\"tripType\\\" type=\\\"radio\\\" value=\\\"M\\\"/>\\nwith label: Multi-city/Stopover\"\n",
      "  }\n",
      "]\n"
     ]
    },
    {
     "name": "stdout",
     "output_type": "stream",
     "text": [
      " \u001b[0m Response: {\n",
      "  \"choices\": [\n",
      "    {\n",
      "      \"finish_reason\": \"stop\",\n",
      "      \"index\": 0,\n",
      "      \"message\": {\n",
      "        \"content\": \"expect(field('bkmgFlights_travelDates_1-formfield-2'))\\n.toMatch(/^\\\\d{2}\\\\/\\\\d{2}$/)\\n.not.toBe(field('bkmgFlights_travelDates_1-formfield-1'))\",\n",
      "        \"role\": \"assistant\"\n",
      "      }\n",
      "    }\n",
      "  ],\n",
      "  \"created\": 1687572604,\n",
      "  \"id\": \"chatcmpl-7Un0u8SR9exfmHOK7VIlJ6Q5Vb0Rd\",\n",
      "  \"model\": \"gpt-4-0314\",\n",
      "  \"object\": \"chat.completion\",\n",
      "  \"usage\": {\n",
      "    \"completion_tokens\": 47,\n",
      "    \"prompt_tokens\": 847,\n",
      "    \"total_tokens\": 894\n",
      "  }\n",
      "}\n",
      " \u001b[0m Total running cost: $0.202\n"
     ]
    }
   ],
   "source": [
    "for input_group in input_groups:\n",
    "    # TODO: set more conditions on <button> to be sure that buttons here are inputs\n",
    "    if input_group.node.element.name == 'button':\n",
    "        continue\n",
    "    \n",
    "    constraint_user_prompt = create_constraint_generation_user_prompt(form_context, input_group)\n",
    "    \n",
    "    generated_constraints = generate_constraints_with_llm(\n",
    "        constraint_user_prompt,\n",
    "        openai_api_key=openai.api_key\n",
    "    )\n",
    "    \n",
    "    field_name, constraints = generate_constraints_from_string(generated_constraints)\n",
    "    \n",
    "    fill_table.add_entry(field_name, input_group, constraints)"
   ]
  },
  {
   "cell_type": "code",
   "execution_count": 14,
   "id": "6eb6c2c6",
   "metadata": {
    "ExecuteTime": {
     "end_time": "2023-06-24T02:10:40.287438Z",
     "start_time": "2023-06-24T02:10:40.192173Z"
    }
   },
   "outputs": [],
   "source": [
    "def split_constant_and_field_constraints(constraints):\n",
    "    constants = list(filter(lambda x: not x.is_field, constraints))\n",
    "    fields = list(filter(lambda x: x.is_field, constraints))\n",
    "    return constants, fields"
   ]
  },
  {
   "cell_type": "code",
   "execution_count": 15,
   "id": "919aea1a",
   "metadata": {
    "ExecuteTime": {
     "end_time": "2023-06-24T02:10:50.160639Z",
     "start_time": "2023-06-24T02:10:40.883358Z"
    }
   },
   "outputs": [
    {
     "name": "stdout",
     "output_type": "stream",
     "text": [
      " \u001b[0m Prompt: [\n",
      "  {\n",
      "    \"role\": \"system\",\n",
      "    \"content\": \"Your task is to generate a value for a form field based on the form field information and a set of constraints on the field. Your decisions must always be made independently without seeking user assistance or additional information.\\nFor each user prompt, you need to generate one value that satisfy the constraints while keeping in mind the nature of the input from the available information.\\nOnly generate the value and don't explain your answers.\\nOnly generate value for the inputs in question, and not the ones in the relevant information section.\"\n",
      "  },\n",
      "  {\n",
      "    \"role\": \"user\",\n",
      "    \"content\": \"We are generating filling values for the following input field:\\n    input: <input id=\\\"bkmgFlights_tripTypeSelector_O\\\" name=\\\"tripType\\\" type=\\\"radio\\\" value=\\\"O\\\"/>\\nwith label: One-way\\n    The relevant information available in the form are (in order of relevance):\\n    1.\\ninput: <input id=\\\"bkmgFlights_tripTypeSelector_R\\\" name=\\\"tripType\\\" type=\\\"radio\\\" value=\\\"R\\\"/>\\nwith label: Round-trip\\n2.\\ninput: <input id=\\\"bkmgFlights_tripTypeSelector_M\\\" name=\\\"tripType\\\" type=\\\"radio\\\" value=\\\"M\\\"/>\\nwith label: Multi-city/Stopover\\n    The constraints on this input field are:\"\n",
      "  }\n",
      "]\n",
      " \u001b[0m Response: {\n",
      "  \"choices\": [\n",
      "    {\n",
      "      \"finish_reason\": \"stop\",\n",
      "      \"index\": 0,\n",
      "      \"message\": {\n",
      "        \"content\": \"O\",\n",
      "        \"role\": \"assistant\"\n",
      "      }\n",
      "    }\n",
      "  ],\n",
      "  \"created\": 1687572641,\n",
      "  \"id\": \"chatcmpl-7Un1VgajkMqVXqMOcmo5pXYPUNnvJ\",\n",
      "  \"model\": \"gpt-4-0314\",\n",
      "  \"object\": \"chat.completion\",\n",
      "  \"usage\": {\n",
      "    \"completion_tokens\": 1,\n",
      "    \"prompt_tokens\": 259,\n",
      "    \"total_tokens\": 260\n",
      "  }\n",
      "}\n",
      " \u001b[0m Total running cost: $0.210\n",
      " \u001b[0m Prompt: [\n",
      "  {\n",
      "    \"role\": \"system\",\n",
      "    \"content\": \"Your task is to generate a value for a form field based on the form field information and a set of constraints on the field. Your decisions must always be made independently without seeking user assistance or additional information.\\nFor each user prompt, you need to generate one value that satisfy the constraints while keeping in mind the nature of the input from the available information.\\nOnly generate the value and don't explain your answers.\\nOnly generate value for the inputs in question, and not the ones in the relevant information section.\"\n",
      "  },\n",
      "  {\n",
      "    \"role\": \"user\",\n",
      "    \"content\": \"We are generating filling values for the following input field:\\n    input: <input id=\\\"bkmgFlights_tripTypeSelector_M\\\" name=\\\"tripType\\\" type=\\\"radio\\\" value=\\\"M\\\"/>\\nwith label: Multi-city/Stopover\\n    The relevant information available in the form are (in order of relevance):\\n    1.\\ninput: <input id=\\\"bkmgFlights_tripTypeSelector_R\\\" name=\\\"tripType\\\" type=\\\"radio\\\" value=\\\"R\\\"/>\\nwith label: Round-trip\\n2.\\ninput: <input id=\\\"bkmgFlights_tripTypeSelector_O\\\" name=\\\"tripType\\\" type=\\\"radio\\\" value=\\\"O\\\"/>\\nwith label: One-way\\n3.\\ninput: <input id=\\\"bkmgFlights_travelDates_1-formfield-2\\\" name=\\\"bkmgFlights_travelDates_1-formfield-2\\\" placeholder=\\\"DD/MM\\\" type=\\\"text\\\"/>\\nwith label: Return\\n    The constraints on this input field are:\\n    input field should be M\"\n",
      "  }\n",
      "]\n",
      " \u001b[0m Response: {\n",
      "  \"choices\": [\n",
      "    {\n",
      "      \"finish_reason\": \"stop\",\n",
      "      \"index\": 0,\n",
      "      \"message\": {\n",
      "        \"content\": \"M\",\n",
      "        \"role\": \"assistant\"\n",
      "      }\n",
      "    }\n",
      "  ],\n",
      "  \"created\": 1687572642,\n",
      "  \"id\": \"chatcmpl-7Un1Wv2RYw1pxndiEKCCorsBdKgr9\",\n",
      "  \"model\": \"gpt-4-0314\",\n",
      "  \"object\": \"chat.completion\",\n",
      "  \"usage\": {\n",
      "    \"completion_tokens\": 1,\n",
      "    \"prompt_tokens\": 315,\n",
      "    \"total_tokens\": 316\n",
      "  }\n",
      "}\n",
      " \u001b[0m Total running cost: $0.219\n",
      " \u001b[0m Prompt: [\n",
      "  {\n",
      "    \"role\": \"system\",\n",
      "    \"content\": \"Your task is to generate a value for a form field based on the form field information and a set of constraints on the field. Your decisions must always be made independently without seeking user assistance or additional information.\\nFor each user prompt, you need to generate one value that satisfy the constraints while keeping in mind the nature of the input from the available information.\\nOnly generate the value and don't explain your answers.\\nOnly generate value for the inputs in question, and not the ones in the relevant information section.\"\n",
      "  },\n",
      "  {\n",
      "    \"role\": \"user\",\n",
      "    \"content\": \"We are generating filling values for the following input field:\\n    input: <input id=\\\"bkmgFlights_searchTypeToggle\\\" type=\\\"checkbox\\\"/>\\nwith label: Book with points\\n    The relevant information available in the form are (in order of relevance):\\n    \\n    The constraints on this input field are:\\n    input field should be non-empty\"\n",
      "  }\n",
      "]\n",
      " \u001b[0m Response: {\n",
      "  \"choices\": [\n",
      "    {\n",
      "      \"finish_reason\": \"stop\",\n",
      "      \"index\": 0,\n",
      "      \"message\": {\n",
      "        \"content\": \"true\",\n",
      "        \"role\": \"assistant\"\n",
      "      }\n",
      "    }\n",
      "  ],\n",
      "  \"created\": 1687572643,\n",
      "  \"id\": \"chatcmpl-7Un1XYkAWwJzOYPG4oZSgztlTlePB\",\n",
      "  \"model\": \"gpt-4-0314\",\n",
      "  \"object\": \"chat.completion\",\n",
      "  \"usage\": {\n",
      "    \"completion_tokens\": 1,\n",
      "    \"prompt_tokens\": 180,\n",
      "    \"total_tokens\": 181\n",
      "  }\n",
      "}\n",
      " \u001b[0m Total running cost: $0.224\n",
      " \u001b[0m Prompt: [\n",
      "  {\n",
      "    \"role\": \"system\",\n",
      "    \"content\": \"Your task is to generate a value for a form field based on the form field information and a set of constraints on the field. Your decisions must always be made independently without seeking user assistance or additional information.\\nFor each user prompt, you need to generate one value that satisfy the constraints while keeping in mind the nature of the input from the available information.\\nOnly generate the value and don't explain your answers.\\nOnly generate value for the inputs in question, and not the ones in the relevant information section.\"\n",
      "  },\n",
      "  {\n",
      "    \"role\": \"user\",\n",
      "    \"content\": \"We are generating filling values for the following input field:\\n    input: <input id=\\\"bkmgFlights_origin_trip_1\\\" name=\\\"bkmgFlights_origin_trip_1\\\" placeholder=\\\"\\\" type=\\\"text\\\"/>\\nwith label: From\\nwith the following relevant text tags:\\n<span>From</span>\\n    The relevant information available in the form are (in order of relevance):\\n    1.\\ninput: <input id=\\\"bkmgFlights_destination_trip_1\\\" name=\\\"bkmgFlights_destination_trip_1\\\" placeholder=\\\"\\\" type=\\\"text\\\"/>\\nwith label: To\\n    The constraints on this input field are:\\n    input field should be alphabetic\\ninput field should not have whitespace characters\\ninput field should be greater than 2 characters\\ninput field should be less than 4 characters\"\n",
      "  }\n",
      "]\n",
      " \u001b[0m Response: {\n",
      "  \"choices\": [\n",
      "    {\n",
      "      \"finish_reason\": \"stop\",\n",
      "      \"index\": 0,\n",
      "      \"message\": {\n",
      "        \"content\": \"LAX\",\n",
      "        \"role\": \"assistant\"\n",
      "      }\n",
      "    }\n",
      "  ],\n",
      "  \"created\": 1687572644,\n",
      "  \"id\": \"chatcmpl-7Un1YEqmmCjURBLEAA8PDfvyHoGIC\",\n",
      "  \"model\": \"gpt-4-0314\",\n",
      "  \"object\": \"chat.completion\",\n",
      "  \"usage\": {\n",
      "    \"completion_tokens\": 2,\n",
      "    \"prompt_tokens\": 273,\n",
      "    \"total_tokens\": 275\n",
      "  }\n",
      "}\n",
      " \u001b[0m Total running cost: $0.233\n",
      " \u001b[0m Prompt: [\n",
      "  {\n",
      "    \"role\": \"system\",\n",
      "    \"content\": \"Your task is to generate a value for a form field based on the form field information and a set of constraints on the field. Your decisions must always be made independently without seeking user assistance or additional information.\\nFor each user prompt, you need to generate one value that satisfy the constraints while keeping in mind the nature of the input from the available information.\\nOnly generate the value and don't explain your answers.\\nOnly generate value for the inputs in question, and not the ones in the relevant information section.\"\n",
      "  },\n",
      "  {\n",
      "    \"role\": \"user\",\n",
      "    \"content\": \"We are generating filling values for the following input field:\\n    input: <input id=\\\"bkmgFlights_destination_trip_1\\\" name=\\\"bkmgFlights_destination_trip_1\\\" placeholder=\\\"\\\" type=\\\"text\\\"/>\\nwith label: To\\nwith the following relevant text tags:\\n<span>To</span>\\n    The relevant information available in the form are (in order of relevance):\\n    1.\\ninput: <input id=\\\"bkmgFlights_origin_trip_1\\\" name=\\\"bkmgFlights_origin_trip_1\\\" placeholder=\\\"\\\" type=\\\"text\\\"/>\\nwith label: From\\n    The constraints on this input field are:\\n    input field should be alphabetic\\ninput field should not have whitespace characters\\ninput field should not be field(bkmgFlights_origin_trip_1)\\n        The values for the fields in constraints are:\\n        [('bkmgFlights_origin_trip_1', 'LAX')]\"\n",
      "  }\n",
      "]\n"
     ]
    },
    {
     "name": "stdout",
     "output_type": "stream",
     "text": [
      " \u001b[0m Response: {\n",
      "  \"choices\": [\n",
      "    {\n",
      "      \"finish_reason\": \"stop\",\n",
      "      \"index\": 0,\n",
      "      \"message\": {\n",
      "        \"content\": \"JFK\",\n",
      "        \"role\": \"assistant\"\n",
      "      }\n",
      "    }\n",
      "  ],\n",
      "  \"created\": 1687572645,\n",
      "  \"id\": \"chatcmpl-7Un1ZsfLLnMLfVj08YYyUOJYCa0bQ\",\n",
      "  \"model\": \"gpt-4-0314\",\n",
      "  \"object\": \"chat.completion\",\n",
      "  \"usage\": {\n",
      "    \"completion_tokens\": 2,\n",
      "    \"prompt_tokens\": 294,\n",
      "    \"total_tokens\": 296\n",
      "  }\n",
      "}\n",
      " \u001b[0m Total running cost: $0.242\n",
      " \u001b[0m Prompt: [\n",
      "  {\n",
      "    \"role\": \"system\",\n",
      "    \"content\": \"Your task is to generate a value for a form field based on the form field information and a set of constraints on the field. Your decisions must always be made independently without seeking user assistance or additional information.\\nFor each user prompt, you need to generate one value that satisfy the constraints while keeping in mind the nature of the input from the available information.\\nOnly generate the value and don't explain your answers.\\nOnly generate value for the inputs in question, and not the ones in the relevant information section.\"\n",
      "  },\n",
      "  {\n",
      "    \"role\": \"user\",\n",
      "    \"content\": \"We are generating filling values for the following input field:\\n    input: <input id=\\\"bkmgFlights_travelDates_1-formfield-1\\\" name=\\\"bkmgFlights_travelDates_1-formfield-1\\\" placeholder=\\\"DD/MM\\\" type=\\\"text\\\"/>\\nwith label: Departure\\nwith the following relevant text tags:\\n<span>Departure</span>\\n    The relevant information available in the form are (in order of relevance):\\n    1.\\ninput: <input id=\\\"bkmgFlights_travelDates_1-formfield-2\\\" name=\\\"bkmgFlights_travelDates_1-formfield-2\\\" placeholder=\\\"DD/MM\\\" type=\\\"text\\\"/>\\nwith label: Return\\n2.\\ninput: <input id=\\\"bkmgFlights_tripTypeSelector_R\\\" name=\\\"tripType\\\" type=\\\"radio\\\" value=\\\"R\\\"/>\\nwith label: Round-trip\\n    The constraints on this input field are:\\n    input field should match /^\\\\d{2}\\\\/\\\\d{2}$/ regex pattern\"\n",
      "  }\n",
      "]\n",
      " \u001b[0m Response: {\n",
      "  \"choices\": [\n",
      "    {\n",
      "      \"finish_reason\": \"stop\",\n",
      "      \"index\": 0,\n",
      "      \"message\": {\n",
      "        \"content\": \"15/09\",\n",
      "        \"role\": \"assistant\"\n",
      "      }\n",
      "    }\n",
      "  ],\n",
      "  \"created\": 1687572647,\n",
      "  \"id\": \"chatcmpl-7Un1bQjj6qrIDtP1lGHbqc0735tC2\",\n",
      "  \"model\": \"gpt-4-0314\",\n",
      "  \"object\": \"chat.completion\",\n",
      "  \"usage\": {\n",
      "    \"completion_tokens\": 3,\n",
      "    \"prompt_tokens\": 317,\n",
      "    \"total_tokens\": 320\n",
      "  }\n",
      "}\n",
      " \u001b[0m Total running cost: $0.251\n",
      " \u001b[0m Prompt: [\n",
      "  {\n",
      "    \"role\": \"system\",\n",
      "    \"content\": \"Your task is to generate a value for a form field based on the form field information and a set of constraints on the field. Your decisions must always be made independently without seeking user assistance or additional information.\\nFor each user prompt, you need to generate one value that satisfy the constraints while keeping in mind the nature of the input from the available information.\\nOnly generate the value and don't explain your answers.\\nOnly generate value for the inputs in question, and not the ones in the relevant information section.\"\n",
      "  },\n",
      "  {\n",
      "    \"role\": \"user\",\n",
      "    \"content\": \"We are generating filling values for the following input field:\\n    input: <input id=\\\"bkmgFlights_travelDates_1-formfield-2\\\" name=\\\"bkmgFlights_travelDates_1-formfield-2\\\" placeholder=\\\"DD/MM\\\" type=\\\"text\\\"/>\\nwith label: Return\\nwith the following relevant text tags:\\n<span>Return</span>\\n    The relevant information available in the form are (in order of relevance):\\n    1.\\ninput: <input id=\\\"bkmgFlights_travelDates_1-formfield-1\\\" name=\\\"bkmgFlights_travelDates_1-formfield-1\\\" placeholder=\\\"DD/MM\\\" type=\\\"text\\\"/>\\nwith label: Departure\\n2.\\ninput: <input id=\\\"bkmgFlights_tripTypeSelector_R\\\" name=\\\"tripType\\\" type=\\\"radio\\\" value=\\\"R\\\"/>\\nwith label: Round-trip\\n3.\\ninput: <input id=\\\"bkmgFlights_tripTypeSelector_M\\\" name=\\\"tripType\\\" type=\\\"radio\\\" value=\\\"M\\\"/>\\nwith label: Multi-city/Stopover\\n    The constraints on this input field are:\\n    input field should match /^\\\\d{2}\\\\/\\\\d{2}$/ regex pattern\\ninput field should not be field(bkmgFlights_travelDates_1-formfield-1)\\n        The values for the fields in constraints are:\\n        [('bkmgFlights_travelDates_1-formfield-1', '15/09')]\"\n",
      "  }\n",
      "]\n",
      " \u001b[0m Response: {\n",
      "  \"choices\": [\n",
      "    {\n",
      "      \"finish_reason\": \"stop\",\n",
      "      \"index\": 0,\n",
      "      \"message\": {\n",
      "        \"content\": \"20/09\",\n",
      "        \"role\": \"assistant\"\n",
      "      }\n",
      "    }\n",
      "  ],\n",
      "  \"created\": 1687572649,\n",
      "  \"id\": \"chatcmpl-7Un1dRPmX7mK0LxJ017utQpoPM5yF\",\n",
      "  \"model\": \"gpt-4-0314\",\n",
      "  \"object\": \"chat.completion\",\n",
      "  \"usage\": {\n",
      "    \"completion_tokens\": 3,\n",
      "    \"prompt_tokens\": 406,\n",
      "    \"total_tokens\": 409\n",
      "  }\n",
      "}\n",
      " \u001b[0m Total running cost: $0.264\n"
     ]
    }
   ],
   "source": [
    "# value generation loop\n",
    "\n",
    "for input_group in input_groups:\n",
    "    if input_group.node.element.name == 'button':\n",
    "        continue\n",
    "    \n",
    "    fill_entry = fill_table.get_entry_by_input_group(input_group)\n",
    "    \n",
    "    if fill_entry is None:\n",
    "        continue\n",
    "    \n",
    "    constraints = fill_entry.constraints\n",
    "    constant_constraints, field_constraints = split_constant_and_field_constraints(constraints)\n",
    "    including_constraints = [*constant_constraints]\n",
    "\n",
    "    relevant_field_values = []\n",
    "    for field_constraint in field_constraints:\n",
    "        field_arg = field_constraint.get_field_args()[0]\n",
    "        \n",
    "        if field_arg not in fill_table.entries:\n",
    "            continue\n",
    "        \n",
    "        value = fill_table.get_entry_by_field_id(field_arg).value\n",
    "        \n",
    "        if value is not None:\n",
    "            including_constraints.append(field_constraint)\n",
    "            relevant_field_values.append((field_arg, value))\n",
    "    \n",
    "    value_user_prompt = create_value_generation_user_prompt(\n",
    "        fill_entry.input_group,\n",
    "        including_constraints,\n",
    "        relevant_field_values=relevant_field_values if len(relevant_field_values) > 0 else None,\n",
    "    )\n",
    "    \n",
    "    generated_value = generate_values_with_llm(\n",
    "        value_user_prompt,\n",
    "        openai_api_key=openai.api_key\n",
    "    )\n",
    "    \n",
    "    fill_entry.set_value(generated_value)"
   ]
  },
  {
   "cell_type": "code",
   "execution_count": 16,
   "id": "84216208",
   "metadata": {
    "ExecuteTime": {
     "end_time": "2023-06-24T02:10:51.913604Z",
     "start_time": "2023-06-24T02:10:51.818732Z"
    }
   },
   "outputs": [],
   "source": [
    "from method.ours.utils import interact_with_input"
   ]
  },
  {
   "cell_type": "code",
   "execution_count": 17,
   "id": "3eafcce9",
   "metadata": {
    "ExecuteTime": {
     "end_time": "2023-06-24T02:10:53.532983Z",
     "start_time": "2023-06-24T02:10:52.516470Z"
    }
   },
   "outputs": [
    {
     "name": "stdout",
     "output_type": "stream",
     "text": [
      "<input>value is O</input> at y: (567, 597), x: (334, 421)\n",
      "O\n",
      "<input>value is M</input> at y: (567, 597), x: (437, 591)\n",
      "M\n",
      "<input></input> at y: (574, 594), x: (652, 905)\n",
      "true\n",
      "<input></input> at y: (628, 678), x: (198, 466)\n",
      "LAX\n",
      "<input></input> at y: (628, 678), x: (536, 804)\n",
      "JFK\n",
      "<input>DD/MM</input> at y: (628, 678), x: (833, 958)\n",
      "15/09\n",
      "<input>DD/MM</input> at y: (628, 678), x: (978, 1093)\n",
      "20/09\n"
     ]
    }
   ],
   "source": [
    "for input_group in input_groups:\n",
    "    entry = fill_table.get_entry_by_input_group(input_group)\n",
    "    \n",
    "    if entry is None:\n",
    "        continue\n",
    "    \n",
    "    print(entry.input_group.node)\n",
    "    print(entry.value)\n",
    "    \n",
    "    element = driver.find_element(By.XPATH, entry.input_group.node.xpath)\n",
    "    \n",
    "    if element.get_attribute('type') not in ['submit', 'radio', 'checkbox']:\n",
    "        interact_with_input(element, entry.value)"
   ]
  },
  {
   "cell_type": "code",
   "execution_count": 19,
   "id": "d61d965b",
   "metadata": {
    "ExecuteTime": {
     "end_time": "2023-06-24T02:11:15.135915Z",
     "start_time": "2023-06-24T02:11:15.042020Z"
    }
   },
   "outputs": [],
   "source": [
    "submit = list(filter(\n",
    "    lambda x: x.node.element.attrs['type'] == 'submit',\n",
    "    input_groups\n",
    "))[0]"
   ]
  },
  {
   "cell_type": "code",
   "execution_count": 20,
   "id": "1ffab543",
   "metadata": {
    "ExecuteTime": {
     "end_time": "2023-06-24T02:11:18.035816Z",
     "start_time": "2023-06-24T02:11:17.740549Z"
    }
   },
   "outputs": [],
   "source": [
    "interact_with_input(driver.find_element(By.XPATH, submit.node.xpath), True)"
   ]
  },
  {
   "cell_type": "markdown",
   "id": "2443dfc7",
   "metadata": {},
   "source": [
    "# Feedback with Diff"
   ]
  },
  {
   "cell_type": "code",
   "execution_count": 7,
   "id": "3f9a0001",
   "metadata": {
    "ExecuteTime": {
     "end_time": "2023-06-24T02:49:47.609542Z",
     "start_time": "2023-06-24T02:49:47.513022Z"
    }
   },
   "outputs": [],
   "source": [
    "html1 = driver.find_element(By.TAG_NAME, 'body').get_attribute('outerHTML')"
   ]
  },
  {
   "cell_type": "code",
   "execution_count": 8,
   "id": "c592823b",
   "metadata": {
    "ExecuteTime": {
     "end_time": "2023-06-24T02:50:09.544668Z",
     "start_time": "2023-06-24T02:50:09.444821Z"
    }
   },
   "outputs": [],
   "source": [
    "html2 = driver.find_element(By.TAG_NAME, 'body').get_attribute('outerHTML')"
   ]
  },
  {
   "cell_type": "code",
   "execution_count": 9,
   "id": "7cd728ae",
   "metadata": {
    "ExecuteTime": {
     "end_time": "2023-06-24T02:50:11.525890Z",
     "start_time": "2023-06-24T02:50:10.987072Z"
    }
   },
   "outputs": [
    {
     "name": "stdout",
     "output_type": "stream",
     "text": [
      "type_changes\n",
      "    root[0][8][0][2][0][1][1][4][0][0][0][0][3][0][3][0][2]\n",
      "    root[0][8][0][2][0][1][1][4][0][0][0][0][3][0][3][1][0][1][3][0][3][0][1][0][0][0][0][1][1][0]\n",
      "    root[0][8][0][2][0][1][1][4][0][0][0][0][3][0][3][1][0][1][3][0][3][0][1][0][0][0][0][1][1][2]\n",
      "    root[0][8][0][2][0][1][1][4][0][0][0][0][3][0][3][1][0][1][3][0][3][0][1][0][0][0][0][1][1][3]\n",
      "    root[0][8][0][2][0][1][1][4][0][0][0][0][3][0][3][1][0][1][3][0][4][1][0][0][0][0][0][0][1][1][0]\n",
      "    root[0][8][0][2][0][1][1][4][0][0][0][0][3][0][3][1][0][1][3][0][4][1][0][0][0][0][0][0][1][1][2]\n",
      "    root[0][8][0][2][0][1][1][4][0][0][0][0][3][0][3][1][0][1][3][0][4][1][0][0][0][0][0][0][1][1][3]\n",
      "    root[0][8][0][2][0][1][1][4][0][0][0][0][3][0][3][1][0][1][3][0][4][1][0][1][0][0][0][0][1][1][0]\n",
      "    root[0][8][0][2][0][1][1][4][0][0][0][0][3][0][3][1][0][1][3][0][4][1][0][1][0][0][0][0][1][1][2]\n",
      "    root[0][8][0][2][0][1][1][4][0][0][0][0][3][0][3][1][0][1][3][0][4][1][0][1][0][0][0][0][1][1][3]\n",
      "values_changed\n",
      "    root[0][8][0][2][0][1][1][4][0][0][0][0][3][0][3][1][0][1][3][0][1][0][1][0][0][0][0][1][1][0][0][0][0][0][0]\n",
      "    root[0][8][0][2][0][1][1][4][0][0][0][0][3][0][3][1][0][1][3][0][1][0][1][0][0][0][0][1][1][0][0][0][0][1][0][0]\n",
      "iterable_item_added\n",
      "    root[0][8][0][2][0][1][1][4][0][0][0][0][3][0][3][0][3]\n",
      "    root[0][8][0][2][0][1][1][4][0][0][0][0][3][0][3][0][4]\n",
      "    root[0][8][0][2][0][1][1][4][0][0][0][0][3][0][3][1][0][1][3][0][3][0][1][0][0][0][0][1][1][4]\n",
      "    root[0][8][0][2][0][1][1][4][0][0][0][0][3][0][3][1][0][1][3][0][4][1][0][0][0][0][0][0][1][1][4]\n",
      "    root[0][8][0][2][0][1][1][4][0][0][0][0][3][0][3][1][0][1][3][0][4][1][0][1][0][0][0][0][1][1][4]\n"
     ]
    }
   ],
   "source": [
    "from bs4 import BeautifulSoup\n",
    "from deepdiff import DeepDiff\n",
    "\n",
    "# Parse the HTML.\n",
    "soup1 = BeautifulSoup(html1, 'html.parser')\n",
    "soup2 = BeautifulSoup(html2, 'html.parser')\n",
    "\n",
    "# Find the differences.\n",
    "diff = DeepDiff(soup1, soup2)\n",
    "\n",
    "# Print the differences.\n",
    "for change, details in diff.items():\n",
    "    print(change)\n",
    "    for detail in details:\n",
    "        print(\"   \", detail)"
   ]
  },
  {
   "cell_type": "code",
   "execution_count": 26,
   "id": "45e58626",
   "metadata": {
    "ExecuteTime": {
     "end_time": "2023-06-24T03:02:54.378223Z",
     "start_time": "2023-06-24T03:02:54.303231Z"
    }
   },
   "outputs": [],
   "source": [
    "feedback_keywords = [\n",
    "    'invalid',\n",
    "    'required',\n",
    "    'error',\n",
    "    'not possible',\n",
    "    'missing',\n",
    "    'failed',\n",
    "    'incorrect',\n",
    "    'retry',\n",
    "    'verify',\n",
    "    'exceeds',\n",
    "    'denied',\n",
    "    'please enter',\n",
    "    'format',\n",
    "    'does not match',\n",
    "    'try again',\n",
    "    'unavailable',\n",
    "    'warning',\n",
    "    'out of range',\n",
    "    'unable to',\n",
    "    'not recognized',\n",
    "    'not allowed',\n",
    "    'incomplete',\n",
    "    'cannot process',\n",
    "    'duplicate',\n",
    "    'too short',\n",
    "    'too long',\n",
    "    'doesn\\'t exist',\n",
    "    'does not exist',\n",
    "    'already exist',\n",
    "    'authentication failed',\n",
    "    'expired',\n",
    "    'update failed',\n",
    "    'connection',\n",
    "    'server error',\n",
    "    'system error',\n",
    "    'not valid',\n",
    "    'timed out',\n",
    "    'access denied',\n",
    "    'please confirm',\n",
    "    'not acceptable',\n",
    "    'submission failed',\n",
    "    'unexpected',\n",
    "    'conflict',\n",
    "    'not applicable',\n",
    "    'not active',\n",
    "    'not found',\n",
    "    'not secure',\n",
    "    'forbidden',\n",
    "    'disconnect',\n",
    "    'prohibited',\n",
    "]"
   ]
  },
  {
   "cell_type": "code",
   "execution_count": 28,
   "id": "eec4cd92",
   "metadata": {
    "ExecuteTime": {
     "end_time": "2023-06-24T03:04:53.869922Z",
     "start_time": "2023-06-24T03:04:53.797076Z"
    }
   },
   "outputs": [],
   "source": [
    "changes = []\n",
    "\n",
    "for type_change in diff['type_changes'].values():\n",
    "    changes.append(type_change['new_value'])\n",
    "for value_change in diff['values_changed'].values():\n",
    "    changes.append(value_change['new_value'])\n",
    "for iterable_item in diff['iterable_item_added'].values():\n",
    "    changes.append(iterable_item)"
   ]
  },
  {
   "cell_type": "code",
   "execution_count": 34,
   "id": "212794f9",
   "metadata": {
    "ExecuteTime": {
     "end_time": "2023-06-24T03:05:55.248204Z",
     "start_time": "2023-06-24T03:05:55.178883Z"
    }
   },
   "outputs": [],
   "source": [
    "changes = list(filter(lambda x: x.strip() != '', map(lambda x: x.text.strip(), changes)))"
   ]
  },
  {
   "cell_type": "code",
   "execution_count": 35,
   "id": "cdb9be17",
   "metadata": {
    "ExecuteTime": {
     "end_time": "2023-06-24T03:07:58.732976Z",
     "start_time": "2023-06-24T03:07:58.660284Z"
    }
   },
   "outputs": [],
   "source": [
    "def has_feedback_keyword(sentence):\n",
    "    for keyword in feedback_keywords:\n",
    "        if keyword in sentence:\n",
    "            return True\n",
    "    return False\n",
    "\n",
    "\n",
    "changes = list(filter(has_feedback_keyword, changes))"
   ]
  },
  {
   "cell_type": "code",
   "execution_count": 36,
   "id": "bb13de37",
   "metadata": {
    "ExecuteTime": {
     "end_time": "2023-06-24T03:08:00.255674Z",
     "start_time": "2023-06-24T03:08:00.179064Z"
    }
   },
   "outputs": [
    {
     "data": {
      "text/plain": [
       "['It is not possible to search for flights which have both an origin and a destination in the United States.',\n",
       " 'It is not possible to book a flight segment between two cities in the same country, unless that country is Canada.  Please contact Air Canada ReservationsOpens in a new tab for assistance with this type of booking.']"
      ]
     },
     "execution_count": 36,
     "metadata": {},
     "output_type": "execute_result"
    }
   ],
   "source": [
    "changes"
   ]
  },
  {
   "cell_type": "markdown",
   "id": "1352b64b",
   "metadata": {},
   "source": [
    "# Feedback"
   ]
  },
  {
   "cell_type": "code",
   "execution_count": 25,
   "id": "720cade4",
   "metadata": {
    "ExecuteTime": {
     "end_time": "2023-06-24T02:12:30.162532Z",
     "start_time": "2023-06-24T02:12:30.052001Z"
    }
   },
   "outputs": [],
   "source": [
    "new_form = driver.find_elements(By.TAG_NAME, 'form')[0]"
   ]
  },
  {
   "cell_type": "code",
   "execution_count": 27,
   "id": "b99a21e9",
   "metadata": {
    "ExecuteTime": {
     "end_time": "2023-06-24T02:13:27.209867Z",
     "start_time": "2023-06-24T02:12:40.497563Z"
    }
   },
   "outputs": [
    {
     "data": {
      "application/vnd.jupyter.widget-view+json": {
       "model_id": "403a958a3f974bcfbd30b8b849e85c55",
       "version_major": 2,
       "version_minor": 0
      },
      "text/plain": [
       "Computing transition probabilities:   0%|          | 0/366 [00:00<?, ?it/s]"
      ]
     },
     "metadata": {},
     "output_type": "display_data"
    },
    {
     "name": "stderr",
     "output_type": "stream",
     "text": [
      "Generating walks (CPU: 1): 100%|██████████| 50/50 [00:00<00:00, 464.98it/s]\n",
      "Generating walks (CPU: 2): 100%|██████████| 50/50 [00:00<00:00, 460.42it/s]\n",
      "Generating walks (CPU: 3): 100%|██████████| 50/50 [00:00<00:00, 462.01it/s]\n",
      "Generating walks (CPU: 4): 100%|██████████| 50/50 [00:00<00:00, 475.65it/s]\n",
      "100%|███████████████████████████████████████████████████████████████████████████████████████████████████████████████████████████████| 38/38 [00:11<00:00,  3.39it/s]\n"
     ]
    }
   ],
   "source": [
    "new_relation_graph, new_input_groups = parse_after_feedback(driver, new_form, relation_graph, TEXT_EMBEDDING_METHOD)"
   ]
  },
  {
   "cell_type": "code",
   "execution_count": 28,
   "id": "a328e447",
   "metadata": {
    "ExecuteTime": {
     "end_time": "2023-06-24T02:13:32.280862Z",
     "start_time": "2023-06-24T02:13:32.183694Z"
    }
   },
   "outputs": [
    {
     "data": {
      "text/plain": [
       "{'added': [<span>New York </span> at y: (836, 858), x: (376, 451),\n",
       "  <span>JFK</span> at y: (836, 858), x: (452, 474),\n",
       "  <span>Fri Sep 15</span> at y: (836, 858), x: (658, 731),\n",
       "  <span>Wed Sep 20</span> at y: (836, 858), x: (792, 880),\n",
       "  <span-wrap> Enter the date day and month in this format: DD/MM, or use the 'Show Calendar' button to open the calendar and select your date from there. </span-wrap> at y: (865, 866), x: (657, 658)],\n",
       " 'removed': [<span-wrap> Enter the date day and month in this format: DD/MM, or use the 'Show Calendar' button to open the calendar and select your date from there. </span-wrap> at y: (679, 680), x: (832, 833)]}"
      ]
     },
     "execution_count": 28,
     "metadata": {},
     "output_type": "execute_result"
    }
   ],
   "source": [
    "relation_graph.diff(new_relation_graph)"
   ]
  },
  {
   "cell_type": "code",
   "execution_count": 47,
   "id": "db79f9fa",
   "metadata": {
    "ExecuteTime": {
     "end_time": "2023-06-21T21:26:53.215546Z",
     "start_time": "2023-06-21T21:26:53.103927Z"
    }
   },
   "outputs": [
    {
     "data": {
      "text/plain": [
       "[edge FOR weight 1 from <label> Round-trip </label> at y: (748, 768), x: (249, 319) to <input>value is R</input> at y: (743, 773), x: (219, 319),\n",
       " edge FOR weight 1 from <input>value is R</input> at y: (743, 773), x: (219, 319) to <label> Round-trip </label> at y: (748, 768), x: (249, 319),\n",
       " edge FOR weight 1 from <label> One-way </label> at y: (748, 768), x: (364, 421) to <input>value is O</input> at y: (743, 773), x: (334, 421),\n",
       " edge FOR weight 1 from <input>value is O</input> at y: (743, 773), x: (334, 421) to <label> One-way </label> at y: (748, 768), x: (364, 421),\n",
       " edge FOR weight 1 from <label> Multi-city/Stopover </label> at y: (748, 768), x: (467, 591) to <input>value is M</input> at y: (743, 773), x: (437, 591),\n",
       " edge FOR weight 1 from <input>value is M</input> at y: (743, 773), x: (437, 591) to <label> Multi-city/Stopover </label> at y: (748, 768), x: (467, 591),\n",
       " edge FOR weight 1 from <label> Book with points </label> at y: (750, 770), x: (682, 905) to <input></input> at y: (750, 770), x: (652, 905),\n",
       " edge FOR weight 1 from <input></input> at y: (750, 770), x: (652, 905) to <label> Book with points </label> at y: (750, 770), x: (682, 905),\n",
       " edge FOR weight 1 from <label>From</label> at y: (798, 848), x: (198, 237) to <input></input> at y: (804, 854), x: (198, 466),\n",
       " edge FOR weight 1 from <input></input> at y: (804, 854), x: (198, 466) to <label>From</label> at y: (798, 848), x: (198, 237),\n",
       " edge FOR weight 1 from <label>To</label> at y: (798, 848), x: (536, 554) to <input></input> at y: (804, 854), x: (536, 804),\n",
       " edge FOR weight 1 from <input></input> at y: (804, 854), x: (536, 804) to <label>To</label> at y: (798, 848), x: (536, 554),\n",
       " edge FOR weight 1 from <label>Departure</label> at y: (798, 848), x: (833, 910) to <input>DD/MM</input> at y: (804, 854), x: (833, 958),\n",
       " edge FOR weight 1 from <input>DD/MM</input> at y: (804, 854), x: (833, 958) to <label>Departure</label> at y: (798, 848), x: (833, 910),\n",
       " edge FOR weight 1 from <label>Return</label> at y: (798, 848), x: (978, 1029) to <input>DD/MM</input> at y: (804, 854), x: (978, 1093),\n",
       " edge FOR weight 1 from <input>DD/MM</input> at y: (804, 854), x: (978, 1093) to <label>Return</label> at y: (798, 848), x: (978, 1029),\n",
       " edge CHILD weight 1 from <input>value is R</input> at y: (743, 773), x: (219, 319) to <label> Round-trip </label> at y: (748, 768), x: (249, 319),\n",
       " edge CHILD weight 1 from <input>value is O</input> at y: (743, 773), x: (334, 421) to <label> One-way </label> at y: (748, 768), x: (364, 421),\n",
       " edge CHILD weight 1 from <input>value is M</input> at y: (743, 773), x: (437, 591) to <label> Multi-city/Stopover </label> at y: (748, 768), x: (467, 591),\n",
       " edge CHILD weight 1 from <input></input> at y: (750, 770), x: (652, 905) to <label> Book with points </label> at y: (750, 770), x: (682, 905),\n",
       " edge CHILD weight 1 from <label>From</label> at y: (798, 848), x: (198, 237) to <span>From</span> at y: (798, 848), x: (198, 237),\n",
       " edge CHILD weight 1 from <label>To</label> at y: (798, 848), x: (536, 554) to <span>To</span> at y: (798, 848), x: (536, 554),\n",
       " edge CHILD weight 1 from <label>Departure</label> at y: (798, 848), x: (833, 910) to <span>Departure</span> at y: (798, 848), x: (833, 910),\n",
       " edge CHILD weight 1 from <label>Return</label> at y: (798, 848), x: (978, 1029) to <span>Return</span> at y: (798, 848), x: (978, 1029),\n",
       " edge NRIGHT weight 0.8667840370703386 from <span>New York </span> at y: (826, 848), x: (198, 273) to <span> All airports </span> at y: (826, 848), x: (273, 354),\n",
       " edge NLEFT weight 0.8667840370703386 from <span> All airports </span> at y: (826, 848), x: (273, 354) to <span>New York </span> at y: (826, 848), x: (198, 273),\n",
       " edge NRIGHT weight 0.8655335604976475 from <span>Los Angeles </span> at y: (826, 848), x: (536, 628) to <span>LAX</span> at y: (826, 848), x: (628, 656),\n",
       " edge NLEFT weight 0.8655335604976475 from <span>LAX</span> at y: (826, 848), x: (628, 656) to <span>Los Angeles </span> at y: (826, 848), x: (536, 628),\n",
       " edge FEEDBACK weight 0.611751315561311 from <span>Los Angeles </span> at y: (826, 848), x: (536, 628) to <input>value is M</input> at y: (743, 773), x: (437, 591),\n",
       " edge FEEDBACK weight 0.5640324034928526 from <span>LAX</span> at y: (826, 848), x: (628, 656) to <input></input> at y: (750, 770), x: (652, 905),\n",
       " edge FEEDBACK weight 0.5709958151424855 from <span>Sat Sep 23</span> at y: (826, 848), x: (833, 911) to <input></input> at y: (750, 770), x: (652, 905),\n",
       " edge NBOTTOM weight 0.7848588228225708 from <input></input> at y: (804, 854), x: (198, 466) to <label>From</label> at y: (798, 848), x: (198, 237),\n",
       " edge NBOTTOM weight 0.74150550365448 from <input></input> at y: (804, 854), x: (536, 804) to <label>To</label> at y: (798, 848), x: (536, 554),\n",
       " edge NBOTTOM weight 0.7559013193880364 from <input>DD/MM</input> at y: (804, 854), x: (833, 958) to <label>Departure</label> at y: (798, 848), x: (833, 910),\n",
       " edge NBOTTOM weight 0.7688205123587896 from <input>DD/MM</input> at y: (804, 854), x: (978, 1093) to <label>Return</label> at y: (798, 848), x: (978, 1029),\n",
       " edge NBOTTOM weight 0.8004645581835745 from <button>Passenger(s) 1 Adult </button> at y: (804, 856), x: (1143, 1338) to <span>Passenger(s)</span> at y: (799, 849), x: (1143, 1237),\n",
       " edge NTOP weight 0.8004645581835745 from <span>Passenger(s)</span> at y: (799, 849), x: (1143, 1237) to <button>Passenger(s) 1 Adult </button> at y: (804, 856), x: (1143, 1338),\n",
       " edge FEEDBACK weight 0.611751315561311 from <input>value is M</input> at y: (743, 773), x: (437, 591) to <span>Los Angeles </span> at y: (826, 848), x: (536, 628),\n",
       " edge FEEDBACK weight 0.5640324034928526 from <input></input> at y: (750, 770), x: (652, 905) to <span>LAX</span> at y: (826, 848), x: (628, 656),\n",
       " edge FEEDBACK weight 0.5709958151424855 from <input></input> at y: (750, 770), x: (652, 905) to <span>Sat Sep 23</span> at y: (826, 848), x: (833, 911)]"
      ]
     },
     "execution_count": 47,
     "metadata": {},
     "output_type": "execute_result"
    }
   ],
   "source": [
    "new_relation_graph.edges()"
   ]
  },
  {
   "cell_type": "code",
   "execution_count": null,
   "id": "d68a7f52",
   "metadata": {},
   "outputs": [],
   "source": []
  }
 ],
 "metadata": {
  "kernelspec": {
   "display_name": "Python 3 (ipykernel)",
   "language": "python",
   "name": "python3"
  },
  "language_info": {
   "codemirror_mode": {
    "name": "ipython",
    "version": 3
   },
   "file_extension": ".py",
   "mimetype": "text/x-python",
   "name": "python",
   "nbconvert_exporter": "python",
   "pygments_lexer": "ipython3",
   "version": "3.10.9"
  },
  "toc": {
   "base_numbering": 1,
   "nav_menu": {},
   "number_sections": true,
   "sideBar": true,
   "skip_h1_title": false,
   "title_cell": "Table of Contents",
   "title_sidebar": "Contents",
   "toc_cell": false,
   "toc_position": {},
   "toc_section_display": true,
   "toc_window_display": false
  },
  "varInspector": {
   "cols": {
    "lenName": 16,
    "lenType": 16,
    "lenVar": 40
   },
   "kernels_config": {
    "python": {
     "delete_cmd_postfix": "",
     "delete_cmd_prefix": "del ",
     "library": "var_list.py",
     "varRefreshCmd": "print(var_dic_list())"
    },
    "r": {
     "delete_cmd_postfix": ") ",
     "delete_cmd_prefix": "rm(",
     "library": "var_list.r",
     "varRefreshCmd": "cat(var_dic_list()) "
    }
   },
   "types_to_exclude": [
    "module",
    "function",
    "builtin_function_or_method",
    "instance",
    "_Feature"
   ],
   "window_display": false
  }
 },
 "nbformat": 4,
 "nbformat_minor": 5
}
