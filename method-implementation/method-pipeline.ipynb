{
 "cells": [
  {
   "cell_type": "code",
   "execution_count": 1,
   "id": "d229fc1e",
   "metadata": {
    "ExecuteTime": {
     "end_time": "2023-06-20T22:37:13.075040Z",
     "start_time": "2023-06-20T22:37:13.041204Z"
    }
   },
   "outputs": [],
   "source": [
    "%load_ext autoreload\n",
    "%autoreload 2"
   ]
  },
  {
   "cell_type": "code",
   "execution_count": 2,
   "id": "6edf3f1c",
   "metadata": {
    "ExecuteTime": {
     "end_time": "2023-06-20T22:37:19.890233Z",
     "start_time": "2023-06-20T22:37:13.915827Z"
    }
   },
   "outputs": [],
   "source": [
    "import os\n",
    "import time\n",
    "import openai\n",
    "from dotenv import load_dotenv\n",
    "\n",
    "from selenium.webdriver.common.by import By\n",
    "from bs4 import BeautifulSoup as bs\n",
    "\n",
    "from method.ours.utils import create_driver\n",
    "from method.ours.parse import (\n",
    "    initial_parse,\n",
    "    parse_after_feedback,\n",
    ")"
   ]
  },
  {
   "cell_type": "code",
   "execution_count": 3,
   "id": "25fb6bb8",
   "metadata": {
    "ExecuteTime": {
     "end_time": "2023-06-20T22:37:22.563780Z",
     "start_time": "2023-06-20T22:37:22.466615Z"
    }
   },
   "outputs": [],
   "source": [
    "load_dotenv()\n",
    "openai.api_key = os.getenv(\"OPENAI_API_KEY\")\n",
    "\n",
    "# Global Variables\n",
    "HEADLESS = False\n",
    "TEXT_EMBEDDING_METHOD = 'ADA' # ['ADA', 'WORD2VEC', 'SPACY']\n",
    "GRAPH_EMBEDDING_METHOD = 'NODE2VEC' # ['NODE2VEC', 'GCN']"
   ]
  },
  {
   "cell_type": "code",
   "execution_count": 4,
   "id": "837ffb01",
   "metadata": {
    "ExecuteTime": {
     "end_time": "2023-06-20T22:37:28.796325Z",
     "start_time": "2023-06-20T22:37:23.585317Z"
    }
   },
   "outputs": [],
   "source": [
    "driver = create_driver(HEADLESS)\n",
    "driver.get('https://www.aircanada.com/ca/en/aco/home.html')"
   ]
  },
  {
   "cell_type": "code",
   "execution_count": 5,
   "id": "2812c532",
   "metadata": {
    "ExecuteTime": {
     "end_time": "2023-06-20T22:37:46.415767Z",
     "start_time": "2023-06-20T22:37:46.289058Z"
    }
   },
   "outputs": [],
   "source": [
    "# form = driver.find_elements(By.TAG_NAME, 'form')[48]\n",
    "# form = driver.find_element(By.ID, 'register')\n",
    "form = driver.find_elements(By.TAG_NAME, 'form')[1]"
   ]
  },
  {
   "cell_type": "markdown",
   "id": "948b49bc",
   "metadata": {},
   "source": [
    "# Processing"
   ]
  },
  {
   "cell_type": "code",
   "execution_count": 6,
   "id": "69dd1802",
   "metadata": {
    "ExecuteTime": {
     "end_time": "2023-06-20T22:38:31.753660Z",
     "start_time": "2023-06-20T22:37:48.029429Z"
    }
   },
   "outputs": [
    {
     "data": {
      "application/vnd.jupyter.widget-view+json": {
       "model_id": "0436d883ff79458da417bbcbbad61c24",
       "version_major": 2,
       "version_minor": 0
      },
      "text/plain": [
       "Computing transition probabilities:   0%|          | 0/340 [00:00<?, ?it/s]"
      ]
     },
     "metadata": {},
     "output_type": "display_data"
    },
    {
     "name": "stderr",
     "output_type": "stream",
     "text": [
      "Generating walks (CPU: 4): 100%|██████████| 50/50 [00:00<00:00, 503.08it/s]\n",
      "Generating walks (CPU: 2): 100%|██████████| 50/50 [00:00<00:00, 496.22it/s]\n",
      "Generating walks (CPU: 1): 100%|██████████| 50/50 [00:00<00:00, 479.32it/s]\n",
      "Generating walks (CPU: 3): 100%|██████████| 50/50 [00:00<00:00, 483.13it/s]\n",
      "100%|███████████████████████████████████████████████████████████████████████████████████████████████████████████████████████████████| 36/36 [00:09<00:00,  3.93it/s]\n",
      "/Library/Frameworks/Python.framework/Versions/3.10/lib/python3.10/site-packages/openai/embeddings_utils.py:68: RuntimeWarning: invalid value encountered in scalar divide\n",
      "  return np.dot(a, b) / (np.linalg.norm(a) * np.linalg.norm(b))\n"
     ]
    }
   ],
   "source": [
    "relation_graph, input_groups = initial_parse(driver, form, TEXT_EMBEDDING_METHOD)"
   ]
  },
  {
   "cell_type": "markdown",
   "id": "59c1f6ee",
   "metadata": {},
   "source": [
    "# Generation"
   ]
  },
  {
   "cell_type": "code",
   "execution_count": 7,
   "id": "5d4df4b5",
   "metadata": {
    "ExecuteTime": {
     "end_time": "2023-06-20T22:38:58.257505Z",
     "start_time": "2023-06-20T22:38:58.090368Z"
    }
   },
   "outputs": [],
   "source": [
    "from method.ours.constraints import generate_constraints_from_string\n",
    "from method.ours.prompts import (\n",
    "    create_constraint_generation_user_prompt,\n",
    "    create_value_generation_user_prompt,\n",
    ")\n",
    "from method.ours.generation import (\n",
    "    generate_constraints_with_llm,\n",
    "    generate_values_with_llm,\n",
    ")"
   ]
  },
  {
   "cell_type": "code",
   "execution_count": 8,
   "id": "165eb3d3",
   "metadata": {
    "ExecuteTime": {
     "end_time": "2023-06-20T22:38:59.507599Z",
     "start_time": "2023-06-20T22:38:59.395872Z"
    }
   },
   "outputs": [],
   "source": [
    "class FillTable:\n",
    "    def __init__(self):\n",
    "        self.entries = {}\n",
    "    \n",
    "    \n",
    "    def add_entry(self, field_id, input_group, constraints):\n",
    "        self.entries[field_id] = FillTableRow(input_group, constraints)\n",
    "    \n",
    "    \n",
    "    def get_entry_by_field_id(self, field_id):\n",
    "        return self.entries[field_id]\n",
    "    \n",
    "    \n",
    "    def get_entry_by_input_group(self, input_group):\n",
    "        filtered = list(filter(\n",
    "            lambda x: x.input_group.node.xpath == input_group.node.xpath,\n",
    "            self.entries.values()\n",
    "        ))\n",
    "        if len(filtered) > 0:\n",
    "            return filtered[0]\n",
    "        return None\n",
    "\n",
    "\n",
    "class FillTableRow:\n",
    "    def __init__(self, input_group, constraints):\n",
    "        self.input_group = input_group\n",
    "        self.constraints = constraints\n",
    "        self.feedback = None\n",
    "        self.value = None\n",
    "    \n",
    "    \n",
    "    def set_value(self, value):\n",
    "        self.value = value\n",
    "    \n",
    "    \n",
    "    def set_feedback(self, feedback):\n",
    "        self.feedback = feedback"
   ]
  },
  {
   "cell_type": "code",
   "execution_count": 9,
   "id": "a30aff16",
   "metadata": {
    "ExecuteTime": {
     "end_time": "2023-06-20T22:39:01.130252Z",
     "start_time": "2023-06-20T22:39:01.033483Z"
    }
   },
   "outputs": [],
   "source": [
    "fill_table = FillTable()"
   ]
  },
  {
   "cell_type": "code",
   "execution_count": 10,
   "id": "fa6894ed",
   "metadata": {
    "ExecuteTime": {
     "end_time": "2023-06-20T22:39:34.055757Z",
     "start_time": "2023-06-20T22:39:02.382880Z"
    }
   },
   "outputs": [
    {
     "name": "stdout",
     "output_type": "stream",
     "text": [
      " \u001b[0m Prompt: [\n",
      "  {\n",
      "    \"role\": \"system\",\n",
      "    \"content\": \"Your task is to generate a set of constraints for form fields. Your decisions must be made independently without seeking user assistance or additional information.\\n\\nThe list of the constraints and their signatures is as follows:\\n\\n1. toBe(value) # the input field value exactly matches the given value\\n2. toHaveLengthCondition(condition, value) # the length of the input field value matches the given condition\\n3. toBeTruthy() # the input field value is truthy and not empty (not false, 0, '', null, undefined, or NaN)\\n4. toHaveCompareCondition(condition, value) # the input field value has the given condition to the given value\\n5. toContainSubstr(value) # the input field value contains a specific string\\n6. toContainChar(value) # the input field value contains a specific character\\n7. toBeAlpha() # the input field value is alphabetic\\n8. toBeNumeric() # the input field value is numeric\\n9. toBeAlphaNumeric() # the input value contains both alphabetical and numeric characters\\n10. toHaveUpperCase() # the input value field contains upper case characters\\n11. toHaveSpecialChars() # the input value field contains special characters\\n12. toHaveWhiteSpace() # the input value field contains whitespace\\n13. toStartWith(value) # the input value field must start with a certain value\\n14. toEndWith(value) # the input value field must end with a certain value\\n15. toMatch(regex) # the input value field must match a certain regex pattern\\n\\nYou must only choose constraints from the list above. The name of the constraints must exactly match the functions above. Generate constraints as the sample:\\n\\n# sample\\nexpect(field('password'))\\n.toHaveLengthCondition('>', 8)\\n.toHaveLengthCondition('<', 50)\\n.toBeAlphaNumeric()\\n.toHaveUpperCase()\\n.toHaveSpecialChars()\\n.not.toBeTruthy()\\n.toBe(field('confirm password'))\\n# end of sample\\n\\nIf there are multiple ways to express constraints, use the one with the least number of constraints to describe it.\\nOnly generate the constraints and don't explain your answers.\\nOnly generate constraints for the inputs in question, not those in the relevant information section.\"\n",
      "  },\n",
      "  {\n",
      "    \"role\": \"user\",\n",
      "    \"content\": \"We are generating constraints for the following input field:\\n    input: <input id=\\\"bkmgFlights_tripTypeSelector_R\\\" name=\\\"tripType\\\" type=\\\"radio\\\" value=\\\"R\\\"/>\\nwith label: Round-trip\\n    The relevant information available in the form are (in order of relevance):\\n    1.\\ninput: <input id=\\\"bkmgFlights_tripTypeSelector_M\\\" name=\\\"tripType\\\" type=\\\"radio\\\" value=\\\"M\\\"/>\\nwith label: Multi-city/Stopover\\n2.\\ninput: <input id=\\\"bkmgFlights_tripTypeSelector_O\\\" name=\\\"tripType\\\" type=\\\"radio\\\" value=\\\"O\\\"/>\\nwith label: One-way\\n3.\\ninput: <input id=\\\"bkmgFlights_travelDates_1-formfield-1\\\" name=\\\"bkmgFlights_travelDates_1-formfield-1\\\" placeholder=\\\"DD/MM\\\" type=\\\"text\\\"/>\\nwith label: Departure\"\n",
      "  }\n",
      "]\n",
      " \u001b[0m Response: {\n",
      "  \"choices\": [\n",
      "    {\n",
      "      \"finish_reason\": \"stop\",\n",
      "      \"index\": 0,\n",
      "      \"message\": {\n",
      "        \"content\": \"expect(field('tripType'))\\n.toBe('R')\",\n",
      "        \"role\": \"assistant\"\n",
      "      }\n",
      "    }\n",
      "  ],\n",
      "  \"created\": 1687300743,\n",
      "  \"id\": \"chatcmpl-7TeI3IGIEdizp9acqRayU48UrA4I3\",\n",
      "  \"model\": \"gpt-4-0314\",\n",
      "  \"object\": \"chat.completion\",\n",
      "  \"usage\": {\n",
      "    \"completion_tokens\": 10,\n",
      "    \"prompt_tokens\": 650,\n",
      "    \"total_tokens\": 660\n",
      "  }\n",
      "}\n",
      " \u001b[0m Total running cost: $0.020\n",
      " \u001b[0m Prompt: [\n",
      "  {\n",
      "    \"role\": \"system\",\n",
      "    \"content\": \"Your task is to generate a set of constraints for form fields. Your decisions must be made independently without seeking user assistance or additional information.\\n\\nThe list of the constraints and their signatures is as follows:\\n\\n1. toBe(value) # the input field value exactly matches the given value\\n2. toHaveLengthCondition(condition, value) # the length of the input field value matches the given condition\\n3. toBeTruthy() # the input field value is truthy and not empty (not false, 0, '', null, undefined, or NaN)\\n4. toHaveCompareCondition(condition, value) # the input field value has the given condition to the given value\\n5. toContainSubstr(value) # the input field value contains a specific string\\n6. toContainChar(value) # the input field value contains a specific character\\n7. toBeAlpha() # the input field value is alphabetic\\n8. toBeNumeric() # the input field value is numeric\\n9. toBeAlphaNumeric() # the input value contains both alphabetical and numeric characters\\n10. toHaveUpperCase() # the input value field contains upper case characters\\n11. toHaveSpecialChars() # the input value field contains special characters\\n12. toHaveWhiteSpace() # the input value field contains whitespace\\n13. toStartWith(value) # the input value field must start with a certain value\\n14. toEndWith(value) # the input value field must end with a certain value\\n15. toMatch(regex) # the input value field must match a certain regex pattern\\n\\nYou must only choose constraints from the list above. The name of the constraints must exactly match the functions above. Generate constraints as the sample:\\n\\n# sample\\nexpect(field('password'))\\n.toHaveLengthCondition('>', 8)\\n.toHaveLengthCondition('<', 50)\\n.toBeAlphaNumeric()\\n.toHaveUpperCase()\\n.toHaveSpecialChars()\\n.not.toBeTruthy()\\n.toBe(field('confirm password'))\\n# end of sample\\n\\nIf there are multiple ways to express constraints, use the one with the least number of constraints to describe it.\\nOnly generate the constraints and don't explain your answers.\\nOnly generate constraints for the inputs in question, not those in the relevant information section.\"\n",
      "  },\n",
      "  {\n",
      "    \"role\": \"user\",\n",
      "    \"content\": \"We are generating constraints for the following input field:\\n    input: <input id=\\\"bkmgFlights_tripTypeSelector_O\\\" name=\\\"tripType\\\" type=\\\"radio\\\" value=\\\"O\\\"/>\\nwith label: One-way\\n    The relevant information available in the form are (in order of relevance):\\n    1.\\ninput: <input id=\\\"bkmgFlights_tripTypeSelector_M\\\" name=\\\"tripType\\\" type=\\\"radio\\\" value=\\\"M\\\"/>\\nwith label: Multi-city/Stopover\\n2.\\ninput: <input id=\\\"bkmgFlights_tripTypeSelector_R\\\" name=\\\"tripType\\\" type=\\\"radio\\\" value=\\\"R\\\"/>\\nwith label: Round-trip\\n3.\\ninput: <input id=\\\"bkmgFlights_travelDates_1-formfield-1\\\" name=\\\"bkmgFlights_travelDates_1-formfield-1\\\" placeholder=\\\"DD/MM\\\" type=\\\"text\\\"/>\\nwith label: Departure\"\n",
      "  }\n",
      "]\n",
      " \u001b[0m Response: {\n",
      "  \"choices\": [\n",
      "    {\n",
      "      \"finish_reason\": \"stop\",\n",
      "      \"index\": 0,\n",
      "      \"message\": {\n",
      "        \"content\": \"expect(field('tripType'))\\n.toBe('O')\",\n",
      "        \"role\": \"assistant\"\n",
      "      }\n",
      "    }\n",
      "  ],\n",
      "  \"created\": 1687300745,\n",
      "  \"id\": \"chatcmpl-7TeI5zFHIi6aE7kIi2ZoQDluVd0qA\",\n",
      "  \"model\": \"gpt-4-0314\",\n",
      "  \"object\": \"chat.completion\",\n",
      "  \"usage\": {\n",
      "    \"completion_tokens\": 10,\n",
      "    \"prompt_tokens\": 650,\n",
      "    \"total_tokens\": 660\n",
      "  }\n",
      "}\n",
      " \u001b[0m Total running cost: $0.040\n",
      " \u001b[0m Prompt: [\n",
      "  {\n",
      "    \"role\": \"system\",\n",
      "    \"content\": \"Your task is to generate a set of constraints for form fields. Your decisions must be made independently without seeking user assistance or additional information.\\n\\nThe list of the constraints and their signatures is as follows:\\n\\n1. toBe(value) # the input field value exactly matches the given value\\n2. toHaveLengthCondition(condition, value) # the length of the input field value matches the given condition\\n3. toBeTruthy() # the input field value is truthy and not empty (not false, 0, '', null, undefined, or NaN)\\n4. toHaveCompareCondition(condition, value) # the input field value has the given condition to the given value\\n5. toContainSubstr(value) # the input field value contains a specific string\\n6. toContainChar(value) # the input field value contains a specific character\\n7. toBeAlpha() # the input field value is alphabetic\\n8. toBeNumeric() # the input field value is numeric\\n9. toBeAlphaNumeric() # the input value contains both alphabetical and numeric characters\\n10. toHaveUpperCase() # the input value field contains upper case characters\\n11. toHaveSpecialChars() # the input value field contains special characters\\n12. toHaveWhiteSpace() # the input value field contains whitespace\\n13. toStartWith(value) # the input value field must start with a certain value\\n14. toEndWith(value) # the input value field must end with a certain value\\n15. toMatch(regex) # the input value field must match a certain regex pattern\\n\\nYou must only choose constraints from the list above. The name of the constraints must exactly match the functions above. Generate constraints as the sample:\\n\\n# sample\\nexpect(field('password'))\\n.toHaveLengthCondition('>', 8)\\n.toHaveLengthCondition('<', 50)\\n.toBeAlphaNumeric()\\n.toHaveUpperCase()\\n.toHaveSpecialChars()\\n.not.toBeTruthy()\\n.toBe(field('confirm password'))\\n# end of sample\\n\\nIf there are multiple ways to express constraints, use the one with the least number of constraints to describe it.\\nOnly generate the constraints and don't explain your answers.\\nOnly generate constraints for the inputs in question, not those in the relevant information section.\"\n",
      "  },\n",
      "  {\n",
      "    \"role\": \"user\",\n",
      "    \"content\": \"We are generating constraints for the following input field:\\n    input: <input id=\\\"bkmgFlights_tripTypeSelector_M\\\" name=\\\"tripType\\\" type=\\\"radio\\\" value=\\\"M\\\"/>\\nwith label: Multi-city/Stopover\\n    The relevant information available in the form are (in order of relevance):\\n    1.\\ninput: <input id=\\\"bkmgFlights_tripTypeSelector_O\\\" name=\\\"tripType\\\" type=\\\"radio\\\" value=\\\"O\\\"/>\\nwith label: One-way\\n2.\\ninput: <input id=\\\"bkmgFlights_tripTypeSelector_R\\\" name=\\\"tripType\\\" type=\\\"radio\\\" value=\\\"R\\\"/>\\nwith label: Round-trip\\n3.\\ninput: <input id=\\\"bkmgFlights_travelDates_1-formfield-1\\\" name=\\\"bkmgFlights_travelDates_1-formfield-1\\\" placeholder=\\\"DD/MM\\\" type=\\\"text\\\"/>\\nwith label: Departure\"\n",
      "  }\n",
      "]\n"
     ]
    },
    {
     "name": "stdout",
     "output_type": "stream",
     "text": [
      " \u001b[0m Response: {\n",
      "  \"choices\": [\n",
      "    {\n",
      "      \"finish_reason\": \"stop\",\n",
      "      \"index\": 0,\n",
      "      \"message\": {\n",
      "        \"content\": \"expect(field('tripType'))\\n.toBe('M')\",\n",
      "        \"role\": \"assistant\"\n",
      "      }\n",
      "    }\n",
      "  ],\n",
      "  \"created\": 1687300747,\n",
      "  \"id\": \"chatcmpl-7TeI7vUwZZJnlkjPgJFXXKOG9kjfE\",\n",
      "  \"model\": \"gpt-4-0314\",\n",
      "  \"object\": \"chat.completion\",\n",
      "  \"usage\": {\n",
      "    \"completion_tokens\": 10,\n",
      "    \"prompt_tokens\": 650,\n",
      "    \"total_tokens\": 660\n",
      "  }\n",
      "}\n",
      " \u001b[0m Total running cost: $0.060\n",
      " \u001b[0m Prompt: [\n",
      "  {\n",
      "    \"role\": \"system\",\n",
      "    \"content\": \"Your task is to generate a set of constraints for form fields. Your decisions must be made independently without seeking user assistance or additional information.\\n\\nThe list of the constraints and their signatures is as follows:\\n\\n1. toBe(value) # the input field value exactly matches the given value\\n2. toHaveLengthCondition(condition, value) # the length of the input field value matches the given condition\\n3. toBeTruthy() # the input field value is truthy and not empty (not false, 0, '', null, undefined, or NaN)\\n4. toHaveCompareCondition(condition, value) # the input field value has the given condition to the given value\\n5. toContainSubstr(value) # the input field value contains a specific string\\n6. toContainChar(value) # the input field value contains a specific character\\n7. toBeAlpha() # the input field value is alphabetic\\n8. toBeNumeric() # the input field value is numeric\\n9. toBeAlphaNumeric() # the input value contains both alphabetical and numeric characters\\n10. toHaveUpperCase() # the input value field contains upper case characters\\n11. toHaveSpecialChars() # the input value field contains special characters\\n12. toHaveWhiteSpace() # the input value field contains whitespace\\n13. toStartWith(value) # the input value field must start with a certain value\\n14. toEndWith(value) # the input value field must end with a certain value\\n15. toMatch(regex) # the input value field must match a certain regex pattern\\n\\nYou must only choose constraints from the list above. The name of the constraints must exactly match the functions above. Generate constraints as the sample:\\n\\n# sample\\nexpect(field('password'))\\n.toHaveLengthCondition('>', 8)\\n.toHaveLengthCondition('<', 50)\\n.toBeAlphaNumeric()\\n.toHaveUpperCase()\\n.toHaveSpecialChars()\\n.not.toBeTruthy()\\n.toBe(field('confirm password'))\\n# end of sample\\n\\nIf there are multiple ways to express constraints, use the one with the least number of constraints to describe it.\\nOnly generate the constraints and don't explain your answers.\\nOnly generate constraints for the inputs in question, not those in the relevant information section.\"\n",
      "  },\n",
      "  {\n",
      "    \"role\": \"user\",\n",
      "    \"content\": \"We are generating constraints for the following input field:\\n    input: <input id=\\\"bkmgFlights_searchTypeToggle\\\" type=\\\"checkbox\\\"/>\\nwith label: Book with points\\n    The relevant information available in the form are (in order of relevance):\\n    1.\\ninput: <input id=\\\"bkmgFlights_origin_trip_1\\\" name=\\\"bkmgFlights_origin_trip_1\\\" placeholder=\\\"\\\" type=\\\"text\\\"/>\\nwith label: From\\n2.\\ninput: <input id=\\\"bkmgFlights_travelDates_1-formfield-1\\\" name=\\\"bkmgFlights_travelDates_1-formfield-1\\\" placeholder=\\\"DD/MM\\\" type=\\\"text\\\"/>\\nwith label: Departure\\n3.\\ninput: <input id=\\\"bkmgFlights_travelDates_1-formfield-2\\\" name=\\\"bkmgFlights_travelDates_1-formfield-2\\\" placeholder=\\\"DD/MM\\\" type=\\\"text\\\"/>\\nwith label: Return\"\n",
      "  }\n",
      "]\n",
      " \u001b[0m Response: {\n",
      "  \"choices\": [\n",
      "    {\n",
      "      \"finish_reason\": \"stop\",\n",
      "      \"index\": 0,\n",
      "      \"message\": {\n",
      "        \"content\": \"expect(field('bkmgFlights_searchTypeToggle'))\\n.toBeTruthy()\",\n",
      "        \"role\": \"assistant\"\n",
      "      }\n",
      "    }\n",
      "  ],\n",
      "  \"created\": 1687300749,\n",
      "  \"id\": \"chatcmpl-7TeI9sBD1rxHEyYGgU7gtGvoMavqs\",\n",
      "  \"model\": \"gpt-4-0314\",\n",
      "  \"object\": \"chat.completion\",\n",
      "  \"usage\": {\n",
      "    \"completion_tokens\": 14,\n",
      "    \"prompt_tokens\": 654,\n",
      "    \"total_tokens\": 668\n",
      "  }\n",
      "}\n",
      " \u001b[0m Total running cost: $0.081\n",
      " \u001b[0m Prompt: [\n",
      "  {\n",
      "    \"role\": \"system\",\n",
      "    \"content\": \"Your task is to generate a set of constraints for form fields. Your decisions must be made independently without seeking user assistance or additional information.\\n\\nThe list of the constraints and their signatures is as follows:\\n\\n1. toBe(value) # the input field value exactly matches the given value\\n2. toHaveLengthCondition(condition, value) # the length of the input field value matches the given condition\\n3. toBeTruthy() # the input field value is truthy and not empty (not false, 0, '', null, undefined, or NaN)\\n4. toHaveCompareCondition(condition, value) # the input field value has the given condition to the given value\\n5. toContainSubstr(value) # the input field value contains a specific string\\n6. toContainChar(value) # the input field value contains a specific character\\n7. toBeAlpha() # the input field value is alphabetic\\n8. toBeNumeric() # the input field value is numeric\\n9. toBeAlphaNumeric() # the input value contains both alphabetical and numeric characters\\n10. toHaveUpperCase() # the input value field contains upper case characters\\n11. toHaveSpecialChars() # the input value field contains special characters\\n12. toHaveWhiteSpace() # the input value field contains whitespace\\n13. toStartWith(value) # the input value field must start with a certain value\\n14. toEndWith(value) # the input value field must end with a certain value\\n15. toMatch(regex) # the input value field must match a certain regex pattern\\n\\nYou must only choose constraints from the list above. The name of the constraints must exactly match the functions above. Generate constraints as the sample:\\n\\n# sample\\nexpect(field('password'))\\n.toHaveLengthCondition('>', 8)\\n.toHaveLengthCondition('<', 50)\\n.toBeAlphaNumeric()\\n.toHaveUpperCase()\\n.toHaveSpecialChars()\\n.not.toBeTruthy()\\n.toBe(field('confirm password'))\\n# end of sample\\n\\nIf there are multiple ways to express constraints, use the one with the least number of constraints to describe it.\\nOnly generate the constraints and don't explain your answers.\\nOnly generate constraints for the inputs in question, not those in the relevant information section.\"\n",
      "  },\n",
      "  {\n",
      "    \"role\": \"user\",\n",
      "    \"content\": \"We are generating constraints for the following input field:\\n    input: <input id=\\\"bkmgFlights_origin_trip_1\\\" name=\\\"bkmgFlights_origin_trip_1\\\" placeholder=\\\"\\\" type=\\\"text\\\"/>\\nwith label: From\\nwith the following relevant text tags:\\n<span>Vancouver </span>\\n<span>From</span>\\n    The relevant information available in the form are (in order of relevance):\\n    1.\\ninput: <input id=\\\"bkmgFlights_destination_trip_1\\\" name=\\\"bkmgFlights_destination_trip_1\\\" placeholder=\\\"\\\" type=\\\"text\\\"/>\\nwith label: To\\n2.\\ninput: <input id=\\\"bkmgFlights_travelDates_1-formfield-2\\\" name=\\\"bkmgFlights_travelDates_1-formfield-2\\\" placeholder=\\\"DD/MM\\\" type=\\\"text\\\"/>\\nwith label: Return\\n3.\\ninput: <input id=\\\"bkmgFlights_tripTypeSelector_R\\\" name=\\\"tripType\\\" type=\\\"radio\\\" value=\\\"R\\\"/>\\nwith label: Round-trip\"\n",
      "  }\n",
      "]\n",
      " \u001b[0m Response: {\n",
      "  \"choices\": [\n",
      "    {\n",
      "      \"finish_reason\": \"stop\",\n",
      "      \"index\": 0,\n",
      "      \"message\": {\n",
      "        \"content\": \"expect(field('bkmgFlights_origin_trip_1'))\\n.toBeAlpha()\\n.toHaveWhiteSpace()\\n.toStartWith('Vancouver')\",\n",
      "        \"role\": \"assistant\"\n",
      "      }\n",
      "    }\n",
      "  ],\n",
      "  \"created\": 1687300753,\n",
      "  \"id\": \"chatcmpl-7TeID742E2lyntheNqQabPHzHTOf2\",\n",
      "  \"model\": \"gpt-4-0314\",\n",
      "  \"object\": \"chat.completion\",\n",
      "  \"usage\": {\n",
      "    \"completion_tokens\": 26,\n",
      "    \"prompt_tokens\": 671,\n",
      "    \"total_tokens\": 697\n",
      "  }\n",
      "}\n",
      " \u001b[0m Total running cost: $0.102\n",
      " \u001b[0m Prompt: [\n",
      "  {\n",
      "    \"role\": \"system\",\n",
      "    \"content\": \"Your task is to generate a set of constraints for form fields. Your decisions must be made independently without seeking user assistance or additional information.\\n\\nThe list of the constraints and their signatures is as follows:\\n\\n1. toBe(value) # the input field value exactly matches the given value\\n2. toHaveLengthCondition(condition, value) # the length of the input field value matches the given condition\\n3. toBeTruthy() # the input field value is truthy and not empty (not false, 0, '', null, undefined, or NaN)\\n4. toHaveCompareCondition(condition, value) # the input field value has the given condition to the given value\\n5. toContainSubstr(value) # the input field value contains a specific string\\n6. toContainChar(value) # the input field value contains a specific character\\n7. toBeAlpha() # the input field value is alphabetic\\n8. toBeNumeric() # the input field value is numeric\\n9. toBeAlphaNumeric() # the input value contains both alphabetical and numeric characters\\n10. toHaveUpperCase() # the input value field contains upper case characters\\n11. toHaveSpecialChars() # the input value field contains special characters\\n12. toHaveWhiteSpace() # the input value field contains whitespace\\n13. toStartWith(value) # the input value field must start with a certain value\\n14. toEndWith(value) # the input value field must end with a certain value\\n15. toMatch(regex) # the input value field must match a certain regex pattern\\n\\nYou must only choose constraints from the list above. The name of the constraints must exactly match the functions above. Generate constraints as the sample:\\n\\n# sample\\nexpect(field('password'))\\n.toHaveLengthCondition('>', 8)\\n.toHaveLengthCondition('<', 50)\\n.toBeAlphaNumeric()\\n.toHaveUpperCase()\\n.toHaveSpecialChars()\\n.not.toBeTruthy()\\n.toBe(field('confirm password'))\\n# end of sample\\n\\nIf there are multiple ways to express constraints, use the one with the least number of constraints to describe it.\\nOnly generate the constraints and don't explain your answers.\\nOnly generate constraints for the inputs in question, not those in the relevant information section.\"\n",
      "  },\n",
      "  {\n",
      "    \"role\": \"user\",\n",
      "    \"content\": \"We are generating constraints for the following input field:\\n    input: <input id=\\\"bkmgFlights_destination_trip_1\\\" name=\\\"bkmgFlights_destination_trip_1\\\" placeholder=\\\"\\\" type=\\\"text\\\"/>\\nwith label: To\\nwith the following relevant text tags:\\n<span>To</span>\\n    The relevant information available in the form are (in order of relevance):\\n    1.\\ninput: <input id=\\\"bkmgFlights_origin_trip_1\\\" name=\\\"bkmgFlights_origin_trip_1\\\" placeholder=\\\"\\\" type=\\\"text\\\"/>\\nwith label: From\\n2.\\ninput: <input id=\\\"bkmgFlights_travelDates_1-formfield-2\\\" name=\\\"bkmgFlights_travelDates_1-formfield-2\\\" placeholder=\\\"DD/MM\\\" type=\\\"text\\\"/>\\nwith label: Return\\n3.\\ninput: <input id=\\\"bkmgFlights_travelDates_1-formfield-1\\\" name=\\\"bkmgFlights_travelDates_1-formfield-1\\\" placeholder=\\\"DD/MM\\\" type=\\\"text\\\"/>\\nwith label: Departure\"\n",
      "  }\n",
      "]\n"
     ]
    },
    {
     "name": "stdout",
     "output_type": "stream",
     "text": [
      " \u001b[0m Response: {\n",
      "  \"choices\": [\n",
      "    {\n",
      "      \"finish_reason\": \"stop\",\n",
      "      \"index\": 0,\n",
      "      \"message\": {\n",
      "        \"content\": \"expect(field('bkmgFlights_destination_trip_1'))\\n.toBeAlpha()\\n.not.toBe(field('bkmgFlights_origin_trip_1'))\\n.not.toHaveWhiteSpace()\",\n",
      "        \"role\": \"assistant\"\n",
      "      }\n",
      "    }\n",
      "  ],\n",
      "  \"created\": 1687300757,\n",
      "  \"id\": \"chatcmpl-7TeIHxfWwzq6TB71SV5rpblI2I5PI\",\n",
      "  \"model\": \"gpt-4-0314\",\n",
      "  \"object\": \"chat.completion\",\n",
      "  \"usage\": {\n",
      "    \"completion_tokens\": 33,\n",
      "    \"prompt_tokens\": 678,\n",
      "    \"total_tokens\": 711\n",
      "  }\n",
      "}\n",
      " \u001b[0m Total running cost: $0.125\n",
      " \u001b[0m Prompt: [\n",
      "  {\n",
      "    \"role\": \"system\",\n",
      "    \"content\": \"Your task is to generate a set of constraints for form fields. Your decisions must be made independently without seeking user assistance or additional information.\\n\\nThe list of the constraints and their signatures is as follows:\\n\\n1. toBe(value) # the input field value exactly matches the given value\\n2. toHaveLengthCondition(condition, value) # the length of the input field value matches the given condition\\n3. toBeTruthy() # the input field value is truthy and not empty (not false, 0, '', null, undefined, or NaN)\\n4. toHaveCompareCondition(condition, value) # the input field value has the given condition to the given value\\n5. toContainSubstr(value) # the input field value contains a specific string\\n6. toContainChar(value) # the input field value contains a specific character\\n7. toBeAlpha() # the input field value is alphabetic\\n8. toBeNumeric() # the input field value is numeric\\n9. toBeAlphaNumeric() # the input value contains both alphabetical and numeric characters\\n10. toHaveUpperCase() # the input value field contains upper case characters\\n11. toHaveSpecialChars() # the input value field contains special characters\\n12. toHaveWhiteSpace() # the input value field contains whitespace\\n13. toStartWith(value) # the input value field must start with a certain value\\n14. toEndWith(value) # the input value field must end with a certain value\\n15. toMatch(regex) # the input value field must match a certain regex pattern\\n\\nYou must only choose constraints from the list above. The name of the constraints must exactly match the functions above. Generate constraints as the sample:\\n\\n# sample\\nexpect(field('password'))\\n.toHaveLengthCondition('>', 8)\\n.toHaveLengthCondition('<', 50)\\n.toBeAlphaNumeric()\\n.toHaveUpperCase()\\n.toHaveSpecialChars()\\n.not.toBeTruthy()\\n.toBe(field('confirm password'))\\n# end of sample\\n\\nIf there are multiple ways to express constraints, use the one with the least number of constraints to describe it.\\nOnly generate the constraints and don't explain your answers.\\nOnly generate constraints for the inputs in question, not those in the relevant information section.\"\n",
      "  },\n",
      "  {\n",
      "    \"role\": \"user\",\n",
      "    \"content\": \"We are generating constraints for the following input field:\\n    input: <input id=\\\"bkmgFlights_travelDates_1-formfield-1\\\" name=\\\"bkmgFlights_travelDates_1-formfield-1\\\" placeholder=\\\"DD/MM\\\" type=\\\"text\\\"/>\\nwith label: Departure\\nwith the following relevant text tags:\\n<span>Departure</span>\\n    The relevant information available in the form are (in order of relevance):\\n    1.\\ninput: <input id=\\\"bkmgFlights_travelDates_1-formfield-2\\\" name=\\\"bkmgFlights_travelDates_1-formfield-2\\\" placeholder=\\\"DD/MM\\\" type=\\\"text\\\"/>\\nwith label: Return\\n2.\\ninput: <input id=\\\"bkmgFlights_tripTypeSelector_M\\\" name=\\\"tripType\\\" type=\\\"radio\\\" value=\\\"M\\\"/>\\nwith label: Multi-city/Stopover\\n3.\\ninput: <input id=\\\"bkmgFlights_tripTypeSelector_R\\\" name=\\\"tripType\\\" type=\\\"radio\\\" value=\\\"R\\\"/>\\nwith label: Round-trip\"\n",
      "  }\n",
      "]\n",
      " \u001b[0m Response: {\n",
      "  \"choices\": [\n",
      "    {\n",
      "      \"finish_reason\": \"stop\",\n",
      "      \"index\": 0,\n",
      "      \"message\": {\n",
      "        \"content\": \"expect(field('bkmgFlights_travelDates_1-formfield-1'))\\n.toHaveLengthCondition('=', 5)\\n.toContainChar('/')\\n.toMatch(/^\\\\d{2}\\\\/\\\\d{2}$/)\",\n",
      "        \"role\": \"assistant\"\n",
      "      }\n",
      "    }\n",
      "  ],\n",
      "  \"created\": 1687300762,\n",
      "  \"id\": \"chatcmpl-7TeIMw1L2tpzxTzWMJGzTEPx7E8sa\",\n",
      "  \"model\": \"gpt-4-0314\",\n",
      "  \"object\": \"chat.completion\",\n",
      "  \"usage\": {\n",
      "    \"completion_tokens\": 43,\n",
      "    \"prompt_tokens\": 678,\n",
      "    \"total_tokens\": 721\n",
      "  }\n",
      "}\n",
      " \u001b[0m Total running cost: $0.148\n",
      " \u001b[0m Prompt: [\n",
      "  {\n",
      "    \"role\": \"system\",\n",
      "    \"content\": \"Your task is to generate a set of constraints for form fields. Your decisions must be made independently without seeking user assistance or additional information.\\n\\nThe list of the constraints and their signatures is as follows:\\n\\n1. toBe(value) # the input field value exactly matches the given value\\n2. toHaveLengthCondition(condition, value) # the length of the input field value matches the given condition\\n3. toBeTruthy() # the input field value is truthy and not empty (not false, 0, '', null, undefined, or NaN)\\n4. toHaveCompareCondition(condition, value) # the input field value has the given condition to the given value\\n5. toContainSubstr(value) # the input field value contains a specific string\\n6. toContainChar(value) # the input field value contains a specific character\\n7. toBeAlpha() # the input field value is alphabetic\\n8. toBeNumeric() # the input field value is numeric\\n9. toBeAlphaNumeric() # the input value contains both alphabetical and numeric characters\\n10. toHaveUpperCase() # the input value field contains upper case characters\\n11. toHaveSpecialChars() # the input value field contains special characters\\n12. toHaveWhiteSpace() # the input value field contains whitespace\\n13. toStartWith(value) # the input value field must start with a certain value\\n14. toEndWith(value) # the input value field must end with a certain value\\n15. toMatch(regex) # the input value field must match a certain regex pattern\\n\\nYou must only choose constraints from the list above. The name of the constraints must exactly match the functions above. Generate constraints as the sample:\\n\\n# sample\\nexpect(field('password'))\\n.toHaveLengthCondition('>', 8)\\n.toHaveLengthCondition('<', 50)\\n.toBeAlphaNumeric()\\n.toHaveUpperCase()\\n.toHaveSpecialChars()\\n.not.toBeTruthy()\\n.toBe(field('confirm password'))\\n# end of sample\\n\\nIf there are multiple ways to express constraints, use the one with the least number of constraints to describe it.\\nOnly generate the constraints and don't explain your answers.\\nOnly generate constraints for the inputs in question, not those in the relevant information section.\"\n",
      "  },\n",
      "  {\n",
      "    \"role\": \"user\",\n",
      "    \"content\": \"We are generating constraints for the following input field:\\n    input: <input id=\\\"bkmgFlights_travelDates_1-formfield-2\\\" name=\\\"bkmgFlights_travelDates_1-formfield-2\\\" placeholder=\\\"DD/MM\\\" type=\\\"text\\\"/>\\nwith label: Return\\nwith the following relevant text tags:\\n<span>Return</span>\\n    The relevant information available in the form are (in order of relevance):\\n    1.\\ninput: <input id=\\\"bkmgFlights_travelDates_1-formfield-1\\\" name=\\\"bkmgFlights_travelDates_1-formfield-1\\\" placeholder=\\\"DD/MM\\\" type=\\\"text\\\"/>\\nwith label: Departure\\n2.\\ninput: <input id=\\\"bkmgFlights_origin_trip_1\\\" name=\\\"bkmgFlights_origin_trip_1\\\" placeholder=\\\"\\\" type=\\\"text\\\"/>\\nwith label: From\\n3.\\ninput: <input id=\\\"bkmgFlights_destination_trip_1\\\" name=\\\"bkmgFlights_destination_trip_1\\\" placeholder=\\\"\\\" type=\\\"text\\\"/>\\nwith label: To\"\n",
      "  }\n",
      "]\n",
      " \u001b[0m Response: {\n",
      "  \"choices\": [\n",
      "    {\n",
      "      \"finish_reason\": \"stop\",\n",
      "      \"index\": 0,\n",
      "      \"message\": {\n",
      "        \"content\": \"expect(field('bkmgFlights_travelDates_1-formfield-2'))\\n.toMatch(/^\\\\d{2}\\\\/\\\\d{2}$/)\\n.toBeTruthy()\\n.not.toBe(field('bkmgFlights_travelDates_1-formfield-1'))\",\n",
      "        \"role\": \"assistant\"\n",
      "      }\n",
      "    }\n",
      "  ],\n",
      "  \"created\": 1687300768,\n",
      "  \"id\": \"chatcmpl-7TeISwHlyDa2el4KgnSo5LevYQ9Xw\",\n",
      "  \"model\": \"gpt-4-0314\",\n",
      "  \"object\": \"chat.completion\",\n",
      "  \"usage\": {\n",
      "    \"completion_tokens\": 50,\n",
      "    \"prompt_tokens\": 679,\n",
      "    \"total_tokens\": 729\n",
      "  }\n",
      "}\n",
      " \u001b[0m Total running cost: $0.171\n"
     ]
    }
   ],
   "source": [
    "for input_group in input_groups:\n",
    "    # TODO: set more conditions on <button> to be sure that buttons here are inputs\n",
    "    if input_group.node.element.name == 'button':\n",
    "        continue\n",
    "    \n",
    "    constraint_user_prompt = create_constraint_generation_user_prompt(input_group)\n",
    "    \n",
    "    generated_constraints = generate_constraints_with_llm(\n",
    "        constraint_user_prompt,\n",
    "        openai_api_key=openai.api_key\n",
    "    )\n",
    "    \n",
    "    field_name, constraints = generate_constraints_from_string(generated_constraints)\n",
    "    \n",
    "    fill_table.add_entry(field_name, input_group, constraints)"
   ]
  },
  {
   "cell_type": "code",
   "execution_count": 11,
   "id": "e9be70dd",
   "metadata": {
    "ExecuteTime": {
     "end_time": "2023-06-20T22:39:38.100622Z",
     "start_time": "2023-06-20T22:39:37.998899Z"
    }
   },
   "outputs": [],
   "source": [
    "def split_constant_and_field_constraints(constraints):\n",
    "    constants = list(filter(lambda x: not x.is_field, constraints))\n",
    "    fields = list(filter(lambda x: x.is_field, constraints))\n",
    "    return constants, fields"
   ]
  },
  {
   "cell_type": "code",
   "execution_count": 14,
   "id": "526f7ab8",
   "metadata": {
    "ExecuteTime": {
     "end_time": "2023-06-20T22:40:21.148323Z",
     "start_time": "2023-06-20T22:40:14.957248Z"
    }
   },
   "outputs": [
    {
     "name": "stdout",
     "output_type": "stream",
     "text": [
      " \u001b[0m Prompt: [\n",
      "  {\n",
      "    \"role\": \"system\",\n",
      "    \"content\": \"Your task is to generate a value for a form field based on the form field information and a set of constraints on the field. Your decisions must always be made independently without seeking user assistance or additional information.\\nFor each user prompt, you need to generate one value that satisfy the constraints while keeping in mind the nature of the input from the available information.\\nOnly generate the value and don't explain your answers.\\nOnly generate value for the inputs in question, and not the ones in the relevant information section.\"\n",
      "  },\n",
      "  {\n",
      "    \"role\": \"user\",\n",
      "    \"content\": \"We are generating filling values for the following input field:\\n    input: <input id=\\\"bkmgFlights_tripTypeSelector_M\\\" name=\\\"tripType\\\" type=\\\"radio\\\" value=\\\"M\\\"/>\\nwith label: Multi-city/Stopover\\n    The relevant information available in the form are (in order of relevance):\\n    1.\\ninput: <input id=\\\"bkmgFlights_tripTypeSelector_O\\\" name=\\\"tripType\\\" type=\\\"radio\\\" value=\\\"O\\\"/>\\nwith label: One-way\\n2.\\ninput: <input id=\\\"bkmgFlights_tripTypeSelector_R\\\" name=\\\"tripType\\\" type=\\\"radio\\\" value=\\\"R\\\"/>\\nwith label: Round-trip\\n3.\\ninput: <input id=\\\"bkmgFlights_travelDates_1-formfield-1\\\" name=\\\"bkmgFlights_travelDates_1-formfield-1\\\" placeholder=\\\"DD/MM\\\" type=\\\"text\\\"/>\\nwith label: Departure\\n    The constraints on this input field are:\\n    input field should be M\"\n",
      "  }\n",
      "]\n",
      " \u001b[0m Response: {\n",
      "  \"choices\": [\n",
      "    {\n",
      "      \"finish_reason\": \"stop\",\n",
      "      \"index\": 0,\n",
      "      \"message\": {\n",
      "        \"content\": \"M\",\n",
      "        \"role\": \"assistant\"\n",
      "      }\n",
      "    }\n",
      "  ],\n",
      "  \"created\": 1687300815,\n",
      "  \"id\": \"chatcmpl-7TeJDxuaXxOAbfgHeRy6nrOnWfgo5\",\n",
      "  \"model\": \"gpt-4-0314\",\n",
      "  \"object\": \"chat.completion\",\n",
      "  \"usage\": {\n",
      "    \"completion_tokens\": 1,\n",
      "    \"prompt_tokens\": 316,\n",
      "    \"total_tokens\": 317\n",
      "  }\n",
      "}\n",
      " \u001b[0m Total running cost: $0.220\n",
      " \u001b[0m Prompt: [\n",
      "  {\n",
      "    \"role\": \"system\",\n",
      "    \"content\": \"Your task is to generate a value for a form field based on the form field information and a set of constraints on the field. Your decisions must always be made independently without seeking user assistance or additional information.\\nFor each user prompt, you need to generate one value that satisfy the constraints while keeping in mind the nature of the input from the available information.\\nOnly generate the value and don't explain your answers.\\nOnly generate value for the inputs in question, and not the ones in the relevant information section.\"\n",
      "  },\n",
      "  {\n",
      "    \"role\": \"user\",\n",
      "    \"content\": \"We are generating filling values for the following input field:\\n    input: <input id=\\\"bkmgFlights_searchTypeToggle\\\" type=\\\"checkbox\\\"/>\\nwith label: Book with points\\n    The relevant information available in the form are (in order of relevance):\\n    1.\\ninput: <input id=\\\"bkmgFlights_origin_trip_1\\\" name=\\\"bkmgFlights_origin_trip_1\\\" placeholder=\\\"\\\" type=\\\"text\\\"/>\\nwith label: From\\n2.\\ninput: <input id=\\\"bkmgFlights_travelDates_1-formfield-1\\\" name=\\\"bkmgFlights_travelDates_1-formfield-1\\\" placeholder=\\\"DD/MM\\\" type=\\\"text\\\"/>\\nwith label: Departure\\n3.\\ninput: <input id=\\\"bkmgFlights_travelDates_1-formfield-2\\\" name=\\\"bkmgFlights_travelDates_1-formfield-2\\\" placeholder=\\\"DD/MM\\\" type=\\\"text\\\"/>\\nwith label: Return\\n    The constraints on this input field are:\\n    input field should be non-empty\"\n",
      "  }\n",
      "]\n",
      " \u001b[0m Response: {\n",
      "  \"choices\": [\n",
      "    {\n",
      "      \"finish_reason\": \"stop\",\n",
      "      \"index\": 0,\n",
      "      \"message\": {\n",
      "        \"content\": \"true\",\n",
      "        \"role\": \"assistant\"\n",
      "      }\n",
      "    }\n",
      "  ],\n",
      "  \"created\": 1687300815,\n",
      "  \"id\": \"chatcmpl-7TeJDrGILDmmbF9eVNUjP9F88hzmg\",\n",
      "  \"model\": \"gpt-4-0314\",\n",
      "  \"object\": \"chat.completion\",\n",
      "  \"usage\": {\n",
      "    \"completion_tokens\": 1,\n",
      "    \"prompt_tokens\": 321,\n",
      "    \"total_tokens\": 322\n",
      "  }\n",
      "}\n",
      " \u001b[0m Total running cost: $0.230\n",
      " \u001b[0m Prompt: [\n",
      "  {\n",
      "    \"role\": \"system\",\n",
      "    \"content\": \"Your task is to generate a value for a form field based on the form field information and a set of constraints on the field. Your decisions must always be made independently without seeking user assistance or additional information.\\nFor each user prompt, you need to generate one value that satisfy the constraints while keeping in mind the nature of the input from the available information.\\nOnly generate the value and don't explain your answers.\\nOnly generate value for the inputs in question, and not the ones in the relevant information section.\"\n",
      "  },\n",
      "  {\n",
      "    \"role\": \"user\",\n",
      "    \"content\": \"We are generating filling values for the following input field:\\n    input: <input id=\\\"bkmgFlights_origin_trip_1\\\" name=\\\"bkmgFlights_origin_trip_1\\\" placeholder=\\\"\\\" type=\\\"text\\\"/>\\nwith label: From\\nwith the following relevant text tags:\\n<span>Vancouver </span>\\n<span>From</span>\\n    The relevant information available in the form are (in order of relevance):\\n    1.\\ninput: <input id=\\\"bkmgFlights_destination_trip_1\\\" name=\\\"bkmgFlights_destination_trip_1\\\" placeholder=\\\"\\\" type=\\\"text\\\"/>\\nwith label: To\\n2.\\ninput: <input id=\\\"bkmgFlights_travelDates_1-formfield-2\\\" name=\\\"bkmgFlights_travelDates_1-formfield-2\\\" placeholder=\\\"DD/MM\\\" type=\\\"text\\\"/>\\nwith label: Return\\n3.\\ninput: <input id=\\\"bkmgFlights_tripTypeSelector_R\\\" name=\\\"tripType\\\" type=\\\"radio\\\" value=\\\"R\\\"/>\\nwith label: Round-trip\\n    The constraints on this input field are:\\n    input field should be alphabetic\\ninput field should have whitespace characters\\ninput field should start with Vancouver\"\n",
      "  }\n",
      "]\n",
      " \u001b[0m Response: {\n",
      "  \"choices\": [\n",
      "    {\n",
      "      \"finish_reason\": \"stop\",\n",
      "      \"index\": 0,\n",
      "      \"message\": {\n",
      "        \"content\": \"Vancouver International Airport\",\n",
      "        \"role\": \"assistant\"\n",
      "      }\n",
      "    }\n",
      "  ],\n",
      "  \"created\": 1687300816,\n",
      "  \"id\": \"chatcmpl-7TeJEMSqrDDSl9aGftGSjg14oZiZ5\",\n",
      "  \"model\": \"gpt-4-0314\",\n",
      "  \"object\": \"chat.completion\",\n",
      "  \"usage\": {\n",
      "    \"completion_tokens\": 4,\n",
      "    \"prompt_tokens\": 352,\n",
      "    \"total_tokens\": 356\n",
      "  }\n",
      "}\n",
      " \u001b[0m Total running cost: $0.241\n",
      " \u001b[0m Prompt: [\n",
      "  {\n",
      "    \"role\": \"system\",\n",
      "    \"content\": \"Your task is to generate a value for a form field based on the form field information and a set of constraints on the field. Your decisions must always be made independently without seeking user assistance or additional information.\\nFor each user prompt, you need to generate one value that satisfy the constraints while keeping in mind the nature of the input from the available information.\\nOnly generate the value and don't explain your answers.\\nOnly generate value for the inputs in question, and not the ones in the relevant information section.\"\n",
      "  },\n",
      "  {\n",
      "    \"role\": \"user\",\n",
      "    \"content\": \"We are generating filling values for the following input field:\\n    input: <input id=\\\"bkmgFlights_destination_trip_1\\\" name=\\\"bkmgFlights_destination_trip_1\\\" placeholder=\\\"\\\" type=\\\"text\\\"/>\\nwith label: To\\nwith the following relevant text tags:\\n<span>To</span>\\n    The relevant information available in the form are (in order of relevance):\\n    1.\\ninput: <input id=\\\"bkmgFlights_origin_trip_1\\\" name=\\\"bkmgFlights_origin_trip_1\\\" placeholder=\\\"\\\" type=\\\"text\\\"/>\\nwith label: From\\n2.\\ninput: <input id=\\\"bkmgFlights_travelDates_1-formfield-2\\\" name=\\\"bkmgFlights_travelDates_1-formfield-2\\\" placeholder=\\\"DD/MM\\\" type=\\\"text\\\"/>\\nwith label: Return\\n3.\\ninput: <input id=\\\"bkmgFlights_travelDates_1-formfield-1\\\" name=\\\"bkmgFlights_travelDates_1-formfield-1\\\" placeholder=\\\"DD/MM\\\" type=\\\"text\\\"/>\\nwith label: Departure\\n    The constraints on this input field are:\\n    input field should be alphabetic\\ninput field should not have whitespace characters\\ninput field should not be field(bkmgFlights_origin_trip_1)\\n        The values for the fields in constraints are:\\n        [('bkmgFlights_origin_trip_1', 'Vancouver International Airport')]\"\n",
      "  }\n",
      "]\n",
      " \u001b[0m Response: {\n",
      "  \"choices\": [\n",
      "    {\n",
      "      \"finish_reason\": \"stop\",\n",
      "      \"index\": 0,\n",
      "      \"message\": {\n",
      "        \"content\": \"Toronto Pearson Airport\",\n",
      "        \"role\": \"assistant\"\n",
      "      }\n",
      "    }\n",
      "  ],\n",
      "  \"created\": 1687300818,\n",
      "  \"id\": \"chatcmpl-7TeJGJEWDeaKxDmGoYUzys80kf1yn\",\n",
      "  \"model\": \"gpt-4-0314\",\n",
      "  \"object\": \"chat.completion\",\n",
      "  \"usage\": {\n",
      "    \"completion_tokens\": 3,\n",
      "    \"prompt_tokens\": 397,\n",
      "    \"total_tokens\": 400\n",
      "  }\n",
      "}\n",
      " \u001b[0m Total running cost: $0.253\n",
      " \u001b[0m Prompt: [\n",
      "  {\n",
      "    \"role\": \"system\",\n",
      "    \"content\": \"Your task is to generate a value for a form field based on the form field information and a set of constraints on the field. Your decisions must always be made independently without seeking user assistance or additional information.\\nFor each user prompt, you need to generate one value that satisfy the constraints while keeping in mind the nature of the input from the available information.\\nOnly generate the value and don't explain your answers.\\nOnly generate value for the inputs in question, and not the ones in the relevant information section.\"\n",
      "  },\n",
      "  {\n",
      "    \"role\": \"user\",\n",
      "    \"content\": \"We are generating filling values for the following input field:\\n    input: <input id=\\\"bkmgFlights_travelDates_1-formfield-1\\\" name=\\\"bkmgFlights_travelDates_1-formfield-1\\\" placeholder=\\\"DD/MM\\\" type=\\\"text\\\"/>\\nwith label: Departure\\nwith the following relevant text tags:\\n<span>Departure</span>\\n    The relevant information available in the form are (in order of relevance):\\n    1.\\ninput: <input id=\\\"bkmgFlights_travelDates_1-formfield-2\\\" name=\\\"bkmgFlights_travelDates_1-formfield-2\\\" placeholder=\\\"DD/MM\\\" type=\\\"text\\\"/>\\nwith label: Return\\n2.\\ninput: <input id=\\\"bkmgFlights_tripTypeSelector_M\\\" name=\\\"tripType\\\" type=\\\"radio\\\" value=\\\"M\\\"/>\\nwith label: Multi-city/Stopover\\n3.\\ninput: <input id=\\\"bkmgFlights_tripTypeSelector_R\\\" name=\\\"tripType\\\" type=\\\"radio\\\" value=\\\"R\\\"/>\\nwith label: Round-trip\\n    The constraints on this input field are:\\n    input field should be  5 characters\\ninput field should contain / character\\ninput field should match /^\\\\d{2}\\\\/\\\\d{2}$/ regex pattern\"\n",
      "  }\n",
      "]\n"
     ]
    },
    {
     "name": "stdout",
     "output_type": "stream",
     "text": [
      " \u001b[0m Response: {\n",
      "  \"choices\": [\n",
      "    {\n",
      "      \"finish_reason\": \"stop\",\n",
      "      \"index\": 0,\n",
      "      \"message\": {\n",
      "        \"content\": \"15/09\",\n",
      "        \"role\": \"assistant\"\n",
      "      }\n",
      "    }\n",
      "  ],\n",
      "  \"created\": 1687300819,\n",
      "  \"id\": \"chatcmpl-7TeJHhlMCSypSE7plx94IVDuw9D5t\",\n",
      "  \"model\": \"gpt-4-0314\",\n",
      "  \"object\": \"chat.completion\",\n",
      "  \"usage\": {\n",
      "    \"completion_tokens\": 3,\n",
      "    \"prompt_tokens\": 372,\n",
      "    \"total_tokens\": 375\n",
      "  }\n",
      "}\n",
      " \u001b[0m Total running cost: $0.264\n",
      " \u001b[0m Prompt: [\n",
      "  {\n",
      "    \"role\": \"system\",\n",
      "    \"content\": \"Your task is to generate a value for a form field based on the form field information and a set of constraints on the field. Your decisions must always be made independently without seeking user assistance or additional information.\\nFor each user prompt, you need to generate one value that satisfy the constraints while keeping in mind the nature of the input from the available information.\\nOnly generate the value and don't explain your answers.\\nOnly generate value for the inputs in question, and not the ones in the relevant information section.\"\n",
      "  },\n",
      "  {\n",
      "    \"role\": \"user\",\n",
      "    \"content\": \"We are generating filling values for the following input field:\\n    input: <input id=\\\"bkmgFlights_travelDates_1-formfield-2\\\" name=\\\"bkmgFlights_travelDates_1-formfield-2\\\" placeholder=\\\"DD/MM\\\" type=\\\"text\\\"/>\\nwith label: Return\\nwith the following relevant text tags:\\n<span>Return</span>\\n    The relevant information available in the form are (in order of relevance):\\n    1.\\ninput: <input id=\\\"bkmgFlights_travelDates_1-formfield-1\\\" name=\\\"bkmgFlights_travelDates_1-formfield-1\\\" placeholder=\\\"DD/MM\\\" type=\\\"text\\\"/>\\nwith label: Departure\\n2.\\ninput: <input id=\\\"bkmgFlights_origin_trip_1\\\" name=\\\"bkmgFlights_origin_trip_1\\\" placeholder=\\\"\\\" type=\\\"text\\\"/>\\nwith label: From\\n3.\\ninput: <input id=\\\"bkmgFlights_destination_trip_1\\\" name=\\\"bkmgFlights_destination_trip_1\\\" placeholder=\\\"\\\" type=\\\"text\\\"/>\\nwith label: To\\n    The constraints on this input field are:\\n    input field should match /^\\\\d{2}\\\\/\\\\d{2}$/ regex pattern\\ninput field should be non-empty\\ninput field should not be field(bkmgFlights_travelDates_1-formfield-1)\\n        The values for the fields in constraints are:\\n        [('bkmgFlights_travelDates_1-formfield-1', '15/09')]\"\n",
      "  }\n",
      "]\n",
      " \u001b[0m Response: {\n",
      "  \"choices\": [\n",
      "    {\n",
      "      \"finish_reason\": \"stop\",\n",
      "      \"index\": 0,\n",
      "      \"message\": {\n",
      "        \"content\": \"20/09\",\n",
      "        \"role\": \"assistant\"\n",
      "      }\n",
      "    }\n",
      "  ],\n",
      "  \"created\": 1687300820,\n",
      "  \"id\": \"chatcmpl-7TeJIqUf0i0ZJQgAGoavw8K8XUiv1\",\n",
      "  \"model\": \"gpt-4-0314\",\n",
      "  \"object\": \"chat.completion\",\n",
      "  \"usage\": {\n",
      "    \"completion_tokens\": 3,\n",
      "    \"prompt_tokens\": 415,\n",
      "    \"total_tokens\": 418\n",
      "  }\n",
      "}\n",
      " \u001b[0m Total running cost: $0.277\n"
     ]
    }
   ],
   "source": [
    "# value generation loop\n",
    "\n",
    "for input_group in input_groups:\n",
    "    if input_group.node.element.name == 'button':\n",
    "        continue\n",
    "    \n",
    "    fill_entry = fill_table.get_entry_by_input_group(input_group)\n",
    "    \n",
    "    if fill_entry is None:\n",
    "        continue\n",
    "    \n",
    "    constraints = fill_entry.constraints\n",
    "    constant_constraints, field_constraints = split_constant_and_field_constraints(constraints)\n",
    "    including_constraints = [*constant_constraints]\n",
    "\n",
    "    relevant_field_values = []\n",
    "    for field_constraint in field_constraints:\n",
    "        field_arg = field_constraint.get_field_args()[0]\n",
    "        value = fill_table.get_entry_by_field_id(field_arg).value\n",
    "        \n",
    "        if value is not None:\n",
    "            including_constraints.append(field_constraint)\n",
    "            relevant_field_values.append((field_arg, value))\n",
    "    \n",
    "    value_user_prompt = create_value_generation_user_prompt(\n",
    "        fill_entry.input_group,\n",
    "        including_constraints,\n",
    "        relevant_field_values=relevant_field_values if len(relevant_field_values) > 0 else None,\n",
    "    )\n",
    "    \n",
    "    generated_value = generate_values_with_llm(\n",
    "        value_user_prompt,\n",
    "        openai_api_key=openai.api_key\n",
    "    )\n",
    "    \n",
    "    fill_entry.set_value(generated_value)"
   ]
  },
  {
   "cell_type": "code",
   "execution_count": 16,
   "id": "8cca94d4",
   "metadata": {
    "ExecuteTime": {
     "end_time": "2023-06-20T22:41:41.778131Z",
     "start_time": "2023-06-20T22:41:41.675964Z"
    }
   },
   "outputs": [
    {
     "name": "stdout",
     "output_type": "stream",
     "text": [
      "<input>value is M</input> at y: (567, 597), x: (437, 591)\n",
      "M\n",
      "<input></input> at y: (574, 594), x: (652, 905)\n",
      "true\n",
      "<input></input> at y: (628, 678), x: (198, 466)\n",
      "Vancouver International Airport\n",
      "<input></input> at y: (628, 678), x: (536, 804)\n",
      "Toronto Pearson Airport\n",
      "<input>DD/MM</input> at y: (628, 678), x: (833, 958)\n",
      "15/09\n",
      "<input>DD/MM</input> at y: (628, 678), x: (978, 1093)\n",
      "20/09\n"
     ]
    }
   ],
   "source": [
    "for input_group in input_groups:\n",
    "    if input_group.node.element.name == 'button':\n",
    "        continue\n",
    "    \n",
    "    entry = fill_table.get_entry_by_input_group(input_group)\n",
    "    \n",
    "    if entry is None:\n",
    "        continue\n",
    "    \n",
    "    print(entry.input_group.node)\n",
    "    print(entry.value)"
   ]
  },
  {
   "cell_type": "markdown",
   "id": "1352b64b",
   "metadata": {},
   "source": [
    "# Feedback"
   ]
  },
  {
   "cell_type": "code",
   "execution_count": 8,
   "id": "720cade4",
   "metadata": {
    "ExecuteTime": {
     "end_time": "2023-06-19T22:33:03.167956Z",
     "start_time": "2023-06-19T22:33:03.059074Z"
    }
   },
   "outputs": [],
   "source": [
    "new_form = driver.find_elements(By.TAG_NAME, 'form')[1]"
   ]
  },
  {
   "cell_type": "code",
   "execution_count": 9,
   "id": "b99a21e9",
   "metadata": {
    "ExecuteTime": {
     "end_time": "2023-06-19T22:33:44.414481Z",
     "start_time": "2023-06-19T22:33:04.559284Z"
    }
   },
   "outputs": [
    {
     "data": {
      "application/vnd.jupyter.widget-view+json": {
       "model_id": "592b774b76fe4a2f83497b58dce7cf69",
       "version_major": 2,
       "version_minor": 0
      },
      "text/plain": [
       "Computing transition probabilities:   0%|          | 0/344 [00:00<?, ?it/s]"
      ]
     },
     "metadata": {},
     "output_type": "display_data"
    },
    {
     "name": "stderr",
     "output_type": "stream",
     "text": [
      "Generating walks (CPU: 1): 100%|██████████| 50/50 [00:00<00:00, 630.89it/s]\n",
      "Generating walks (CPU: 2): 100%|██████████| 50/50 [00:00<00:00, 641.05it/s]\n",
      "Generating walks (CPU: 3): 100%|██████████| 50/50 [00:00<00:00, 610.43it/s]\n",
      "Generating walks (CPU: 4): 100%|██████████| 50/50 [00:00<00:00, 636.99it/s]\n",
      "100%|█████████████████████████████████████████████████████████████████████████████████████████████████████████████████████████████████████| 38/38 [00:09<00:00,  4.02it/s]\n"
     ]
    },
    {
     "name": "stdout",
     "output_type": "stream",
     "text": [
      "{'added': [<span-wrap> Round-trip </span-wrap> at y: (572, 592), x: (249, 319), <span-wrap> One-way </span-wrap> at y: (572, 592), x: (364, 421), <span-wrap> Multi-city/Stopover </span-wrap> at y: (572, 592), x: (467, 591), <span-wrap> Book with points </span-wrap> at y: (574, 594), x: (682, 905), <div>Please select a valid destination for this trip.</div> at y: (685, 701), x: (536, 781), <div>Please select valid travel dates for this trip.</div> at y: (685, 701), x: (833, 1071), <span-wrap> Enter the date day and month in this format: DD/MM, or use the 'Show Calendar' button to open the calendar and select your date from there. </span-wrap> at y: (705, 706), x: (832, 833), <span-wrap> Add promotion code </span-wrap> at y: (743, 763), x: (200, 379), <span-wrap> Search flights </span-wrap> at y: (742, 762), x: (1202, 1306)], 'removed': [<span-wrap> Enter the date day and month in this format: DD/MM, or use the 'Show Calendar' button to open the calendar and select your date from there. </span-wrap> at y: (679, 680), x: (832, 833)]}\n"
     ]
    }
   ],
   "source": [
    "new_relation_graph, new_input_groups = parse_after_feedback(driver, new_form, relation_graph, TEXT_EMBEDDING_METHOD)"
   ]
  },
  {
   "cell_type": "code",
   "execution_count": 10,
   "id": "db79f9fa",
   "metadata": {
    "ExecuteTime": {
     "end_time": "2023-06-19T22:33:47.848235Z",
     "start_time": "2023-06-19T22:33:47.749088Z"
    }
   },
   "outputs": [
    {
     "data": {
      "text/plain": [
       "[edge FOR weight 1 from <label> Round-trip </label> at y: (572, 592), x: (249, 319) to <input>value is R</input> at y: (567, 597), x: (219, 319),\n",
       " edge FOR weight 1 from <input>value is R</input> at y: (567, 597), x: (219, 319) to <label> Round-trip </label> at y: (572, 592), x: (249, 319),\n",
       " edge FOR weight 1 from <label> One-way </label> at y: (572, 592), x: (364, 421) to <input>value is O</input> at y: (567, 597), x: (334, 421),\n",
       " edge FOR weight 1 from <input>value is O</input> at y: (567, 597), x: (334, 421) to <label> One-way </label> at y: (572, 592), x: (364, 421),\n",
       " edge FOR weight 1 from <label> Multi-city/Stopover </label> at y: (572, 592), x: (467, 591) to <input>value is M</input> at y: (567, 597), x: (437, 591),\n",
       " edge FOR weight 1 from <input>value is M</input> at y: (567, 597), x: (437, 591) to <label> Multi-city/Stopover </label> at y: (572, 592), x: (467, 591),\n",
       " edge FOR weight 1 from <label> Book with points </label> at y: (574, 594), x: (682, 905) to <input></input> at y: (574, 594), x: (652, 905),\n",
       " edge FOR weight 1 from <input></input> at y: (574, 594), x: (652, 905) to <label> Book with points </label> at y: (574, 594), x: (682, 905),\n",
       " edge FOR weight 1 from <label>From</label> at y: (622, 672), x: (198, 237) to <input></input> at y: (628, 678), x: (198, 466),\n",
       " edge FOR weight 1 from <input></input> at y: (628, 678), x: (198, 466) to <label>From</label> at y: (622, 672), x: (198, 237),\n",
       " edge FOR weight 1 from <label>To</label> at y: (628, 678), x: (536, 554) to <input></input> at y: (628, 678), x: (536, 804),\n",
       " edge FOR weight 1 from <input></input> at y: (628, 678), x: (536, 804) to <label>To</label> at y: (628, 678), x: (536, 554),\n",
       " edge FOR weight 1 from <label>Departure</label> at y: (628, 678), x: (833, 910) to <input>DD/MM</input> at y: (628, 678), x: (833, 958),\n",
       " edge FOR weight 1 from <input>DD/MM</input> at y: (628, 678), x: (833, 958) to <label>Departure</label> at y: (628, 678), x: (833, 910),\n",
       " edge FOR weight 1 from <label>Return</label> at y: (628, 678), x: (978, 1029) to <input>DD/MM</input> at y: (628, 678), x: (978, 1093),\n",
       " edge FOR weight 1 from <input>DD/MM</input> at y: (628, 678), x: (978, 1093) to <label>Return</label> at y: (628, 678), x: (978, 1029),\n",
       " edge CHILD weight 1 from <input>value is R</input> at y: (567, 597), x: (219, 319) to <label> Round-trip </label> at y: (572, 592), x: (249, 319),\n",
       " edge CHILD weight 1 from <input>value is O</input> at y: (567, 597), x: (334, 421) to <label> One-way </label> at y: (572, 592), x: (364, 421),\n",
       " edge CHILD weight 1 from <input>value is M</input> at y: (567, 597), x: (437, 591) to <label> Multi-city/Stopover </label> at y: (572, 592), x: (467, 591),\n",
       " edge CHILD weight 1 from <input></input> at y: (574, 594), x: (652, 905) to <label> Book with points </label> at y: (574, 594), x: (682, 905),\n",
       " edge CHILD weight 1 from <label>To</label> at y: (628, 678), x: (536, 554) to <span>To</span> at y: (628, 678), x: (536, 554),\n",
       " edge CHILD weight 1 from <label>Departure</label> at y: (628, 678), x: (833, 910) to <span>Departure</span> at y: (628, 678), x: (833, 910),\n",
       " edge CHILD weight 1 from <label>Return</label> at y: (628, 678), x: (978, 1029) to <span>Return</span> at y: (628, 678), x: (978, 1029),\n",
       " edge CHILD weight 1 from <label>From</label> at y: (622, 672), x: (198, 237) to <span>From</span> at y: (622, 672), x: (198, 237),\n",
       " edge NRIGHT weight 0.8998107493739069 from <span>Vancouver </span> at y: (650, 672), x: (198, 281) to <span>YVR</span> at y: (650, 672), x: (281, 309),\n",
       " edge NLEFT weight 0.8998107493739069 from <span>YVR</span> at y: (650, 672), x: (281, 309) to <span>Vancouver </span> at y: (650, 672), x: (198, 281),\n",
       " edge NRIGHT weight 0.909441351890564 from <input></input> at y: (628, 678), x: (536, 804) to <label>To</label> at y: (628, 678), x: (536, 554),\n",
       " edge NRIGHT weight 0.8334011262689873 from <input>DD/MM</input> at y: (628, 678), x: (833, 958) to <label>Departure</label> at y: (628, 678), x: (833, 910),\n",
       " edge NRIGHT weight 0.8161296427890111 from <input>DD/MM</input> at y: (628, 678), x: (978, 1093) to <label>Return</label> at y: (628, 678), x: (978, 1029),\n",
       " edge FEEDBACK weight 0.5303088426589966 from <div>Please select a valid destination for this trip.</div> at y: (685, 701), x: (536, 781) to <input></input> at y: (628, 678), x: (536, 804),\n",
       " edge FEEDBACK weight 0.545734321567031 from <div>Please select valid travel dates for this trip.</div> at y: (685, 701), x: (833, 1071) to <input>DD/MM</input> at y: (628, 678), x: (978, 1093),\n",
       " edge FEEDBACK weight 0.5303088426589966 from <input></input> at y: (628, 678), x: (536, 804) to <div>Please select a valid destination for this trip.</div> at y: (685, 701), x: (536, 781),\n",
       " edge FEEDBACK weight 0.545734321567031 from <input>DD/MM</input> at y: (628, 678), x: (978, 1093) to <div>Please select valid travel dates for this trip.</div> at y: (685, 701), x: (833, 1071)]"
      ]
     },
     "execution_count": 10,
     "metadata": {},
     "output_type": "execute_result"
    }
   ],
   "source": [
    "new_relation_graph.edges()"
   ]
  }
 ],
 "metadata": {
  "kernelspec": {
   "display_name": "Python 3 (ipykernel)",
   "language": "python",
   "name": "python3"
  },
  "language_info": {
   "codemirror_mode": {
    "name": "ipython",
    "version": 3
   },
   "file_extension": ".py",
   "mimetype": "text/x-python",
   "name": "python",
   "nbconvert_exporter": "python",
   "pygments_lexer": "ipython3",
   "version": "3.10.9"
  },
  "toc": {
   "base_numbering": 1,
   "nav_menu": {},
   "number_sections": true,
   "sideBar": true,
   "skip_h1_title": false,
   "title_cell": "Table of Contents",
   "title_sidebar": "Contents",
   "toc_cell": false,
   "toc_position": {},
   "toc_section_display": true,
   "toc_window_display": false
  },
  "varInspector": {
   "cols": {
    "lenName": 16,
    "lenType": 16,
    "lenVar": 40
   },
   "kernels_config": {
    "python": {
     "delete_cmd_postfix": "",
     "delete_cmd_prefix": "del ",
     "library": "var_list.py",
     "varRefreshCmd": "print(var_dic_list())"
    },
    "r": {
     "delete_cmd_postfix": ") ",
     "delete_cmd_prefix": "rm(",
     "library": "var_list.r",
     "varRefreshCmd": "cat(var_dic_list()) "
    }
   },
   "types_to_exclude": [
    "module",
    "function",
    "builtin_function_or_method",
    "instance",
    "_Feature"
   ],
   "window_display": false
  }
 },
 "nbformat": 4,
 "nbformat_minor": 5
}
