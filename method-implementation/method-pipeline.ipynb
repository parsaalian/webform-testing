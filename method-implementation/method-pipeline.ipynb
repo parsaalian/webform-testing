{
 "cells": [
  {
   "cell_type": "code",
   "execution_count": 1,
   "id": "d229fc1e",
   "metadata": {
    "ExecuteTime": {
     "end_time": "2023-06-21T21:11:38.631858Z",
     "start_time": "2023-06-21T21:11:38.596233Z"
    }
   },
   "outputs": [],
   "source": [
    "%load_ext autoreload\n",
    "%autoreload 2"
   ]
  },
  {
   "cell_type": "code",
   "execution_count": 2,
   "id": "6edf3f1c",
   "metadata": {
    "ExecuteTime": {
     "end_time": "2023-06-21T21:11:46.046469Z",
     "start_time": "2023-06-21T21:11:39.749980Z"
    }
   },
   "outputs": [],
   "source": [
    "import os\n",
    "import time\n",
    "import openai\n",
    "from dotenv import load_dotenv\n",
    "\n",
    "from selenium.webdriver.common.by import By\n",
    "from bs4 import BeautifulSoup as bs\n",
    "\n",
    "from method.ours.utils import create_driver\n",
    "from method.ours.parse import (\n",
    "    initial_parse,\n",
    "    parse_after_feedback,\n",
    ")"
   ]
  },
  {
   "cell_type": "code",
   "execution_count": 3,
   "id": "25fb6bb8",
   "metadata": {
    "ExecuteTime": {
     "end_time": "2023-06-21T21:11:47.369573Z",
     "start_time": "2023-06-21T21:11:47.279744Z"
    }
   },
   "outputs": [],
   "source": [
    "load_dotenv()\n",
    "openai.api_key = os.getenv(\"OPENAI_API_KEY\")\n",
    "\n",
    "# Global Variables\n",
    "HEADLESS = False\n",
    "TEXT_EMBEDDING_METHOD = 'ADA' # ['ADA', 'WORD2VEC', 'SPACY']\n",
    "GRAPH_EMBEDDING_METHOD = 'NODE2VEC' # ['NODE2VEC', 'GCN']"
   ]
  },
  {
   "cell_type": "code",
   "execution_count": 4,
   "id": "837ffb01",
   "metadata": {
    "ExecuteTime": {
     "end_time": "2023-06-21T21:11:53.235816Z",
     "start_time": "2023-06-21T21:11:48.609022Z"
    }
   },
   "outputs": [],
   "source": [
    "driver = create_driver(HEADLESS)\n",
    "driver.get('https://www.aircanada.com/ca/en/aco/home.html')"
   ]
  },
  {
   "cell_type": "code",
   "execution_count": 5,
   "id": "2812c532",
   "metadata": {
    "ExecuteTime": {
     "end_time": "2023-06-21T21:11:54.698273Z",
     "start_time": "2023-06-21T21:11:54.588645Z"
    }
   },
   "outputs": [],
   "source": [
    "# form = driver.find_elements(By.TAG_NAME, 'form')[48]\n",
    "# form = driver.find_element(By.ID, 'register')\n",
    "form = driver.find_elements(By.TAG_NAME, 'form')[1]"
   ]
  },
  {
   "cell_type": "markdown",
   "id": "948b49bc",
   "metadata": {},
   "source": [
    "# Processing"
   ]
  },
  {
   "cell_type": "code",
   "execution_count": 6,
   "id": "69dd1802",
   "metadata": {
    "ExecuteTime": {
     "end_time": "2023-06-21T21:12:39.449867Z",
     "start_time": "2023-06-21T21:11:55.952328Z"
    }
   },
   "outputs": [
    {
     "data": {
      "application/vnd.jupyter.widget-view+json": {
       "model_id": "eb7687443c78423fa2ce0b25e7e136b4",
       "version_major": 2,
       "version_minor": 0
      },
      "text/plain": [
       "Computing transition probabilities:   0%|          | 0/340 [00:00<?, ?it/s]"
      ]
     },
     "metadata": {},
     "output_type": "display_data"
    },
    {
     "name": "stderr",
     "output_type": "stream",
     "text": [
      "Generating walks (CPU: 2): 100%|██████████| 50/50 [00:00<00:00, 589.02it/s]\n",
      "Generating walks (CPU: 1): 100%|██████████| 50/50 [00:00<00:00, 578.86it/s]\n",
      "Generating walks (CPU: 3): 100%|██████████| 50/50 [00:00<00:00, 556.82it/s]\n",
      "Generating walks (CPU: 4): 100%|██████████| 50/50 [00:00<00:00, 522.55it/s]\n",
      "100%|█████████████████████████████████████████████████████████████████████████████████████████████████████████████████████████████████████| 34/34 [00:09<00:00,  3.54it/s]\n",
      "/Library/Frameworks/Python.framework/Versions/3.10/lib/python3.10/site-packages/openai/embeddings_utils.py:68: RuntimeWarning: invalid value encountered in scalar divide\n",
      "  return np.dot(a, b) / (np.linalg.norm(a) * np.linalg.norm(b))\n"
     ]
    }
   ],
   "source": [
    "relation_graph, input_groups = initial_parse(driver, form, TEXT_EMBEDDING_METHOD)"
   ]
  },
  {
   "cell_type": "markdown",
   "id": "59c1f6ee",
   "metadata": {},
   "source": [
    "# Generation"
   ]
  },
  {
   "cell_type": "code",
   "execution_count": 7,
   "id": "8a57f983",
   "metadata": {
    "ExecuteTime": {
     "end_time": "2023-06-21T21:12:49.332578Z",
     "start_time": "2023-06-21T21:12:49.188829Z"
    }
   },
   "outputs": [],
   "source": [
    "from method.ours.constraints import generate_constraints_from_string\n",
    "from method.ours.prompts import (\n",
    "    create_constraint_generation_user_prompt,\n",
    "    create_value_generation_user_prompt,\n",
    ")\n",
    "from method.ours.generation import (\n",
    "    generate_constraints_with_llm,\n",
    "    generate_values_with_llm,\n",
    ")"
   ]
  },
  {
   "cell_type": "code",
   "execution_count": 8,
   "id": "e0d90294",
   "metadata": {
    "ExecuteTime": {
     "end_time": "2023-06-21T21:12:50.706215Z",
     "start_time": "2023-06-21T21:12:50.608975Z"
    }
   },
   "outputs": [],
   "source": [
    "class FillTable:\n",
    "    def __init__(self):\n",
    "        self.entries = {}\n",
    "    \n",
    "    \n",
    "    def add_entry(self, field_id, input_group, constraints):\n",
    "        self.entries[field_id] = FillTableRow(input_group, constraints)\n",
    "    \n",
    "    \n",
    "    def get_entry_by_field_id(self, field_id):\n",
    "        return self.entries[field_id]\n",
    "    \n",
    "    \n",
    "    def get_entry_by_input_group(self, input_group):\n",
    "        filtered = list(filter(\n",
    "            lambda x: x.input_group.node.xpath == input_group.node.xpath,\n",
    "            self.entries.values()\n",
    "        ))\n",
    "        if len(filtered) > 0:\n",
    "            return filtered[0]\n",
    "        return None\n",
    "\n",
    "\n",
    "class FillTableRow:\n",
    "    def __init__(self, input_group, constraints):\n",
    "        self.input_group = input_group\n",
    "        self.constraints = constraints\n",
    "        self.feedback = None\n",
    "        self.value = None\n",
    "    \n",
    "    \n",
    "    def set_value(self, value):\n",
    "        self.value = value\n",
    "    \n",
    "    \n",
    "    def set_feedback(self, feedback):\n",
    "        self.feedback = feedback"
   ]
  },
  {
   "cell_type": "code",
   "execution_count": 9,
   "id": "9bc88e1b",
   "metadata": {
    "ExecuteTime": {
     "end_time": "2023-06-21T21:12:52.068108Z",
     "start_time": "2023-06-21T21:12:51.974076Z"
    }
   },
   "outputs": [],
   "source": [
    "fill_table = FillTable()"
   ]
  },
  {
   "cell_type": "code",
   "execution_count": 10,
   "id": "e0880525",
   "metadata": {
    "ExecuteTime": {
     "end_time": "2023-06-21T21:13:27.142401Z",
     "start_time": "2023-06-21T21:12:53.315256Z"
    }
   },
   "outputs": [
    {
     "name": "stdout",
     "output_type": "stream",
     "text": [
      " \u001b[0m Prompt: [\n",
      "  {\n",
      "    \"role\": \"system\",\n",
      "    \"content\": \"Your task is to generate a set of constraints for form fields. Your decisions must be made independently without seeking user assistance or additional information.\\n\\nThe list of the constraints and their signatures is as follows:\\n\\n1. toBe(value) # the input field value exactly matches the given value\\n2. toHaveLengthCondition(condition, value) # the length of the input field value matches the given condition\\n3. toBeTruthy() # the input field value is truthy and not empty (not false, 0, '', null, undefined, or NaN)\\n4. toHaveCompareCondition(condition, value) # the input field value has the given condition to the given value\\n5. toContainSubstr(value) # the input field value contains a specific string\\n6. toContainChar(value) # the input field value contains a specific character\\n7. toBeAlpha() # the input field value is alphabetic\\n8. toBeNumeric() # the input field value is numeric\\n9. toBeAlphaNumeric() # the input value contains both alphabetical and numeric characters\\n10. toHaveUpperCase() # the input value field contains upper case characters\\n11. toHaveSpecialChars() # the input value field contains special characters\\n12. toHaveWhiteSpace() # the input value field contains whitespace\\n13. toStartWith(value) # the input value field must start with a certain value\\n14. toEndWith(value) # the input value field must end with a certain value\\n15. toMatch(regex) # the input value field must match a certain regex pattern\\n\\nYou must only choose constraints from the list above. The name of the constraints must exactly match the functions above. Generate constraints as the sample:\\n\\n# sample\\nexpect(field('password'))\\n.toHaveLengthCondition('>', 8)\\n.toHaveLengthCondition('<', 50)\\n.toBeAlphaNumeric()\\n.toHaveUpperCase()\\n.toHaveSpecialChars()\\n.not.toBeTruthy()\\n.toBe(field('confirm password'))\\n# end of sample\\n\\nIf there are multiple ways to express constraints, use the one with the least number of constraints to describe it.\\nOnly generate the constraints and don't explain your answers.\\nOnly generate constraints for the inputs in question, not those in the relevant information section.\"\n",
      "  },\n",
      "  {\n",
      "    \"role\": \"user\",\n",
      "    \"content\": \"We are generating constraints for the following input field:\\n    input: <input id=\\\"bkmgFlights_tripTypeSelector_R\\\" name=\\\"tripType\\\" type=\\\"radio\\\" value=\\\"R\\\"/>\\nwith label: Round-trip\\n    The relevant information available in the form are (in order of relevance):\\n    1.\\ninput: <input id=\\\"bkmgFlights_tripTypeSelector_M\\\" name=\\\"tripType\\\" type=\\\"radio\\\" value=\\\"M\\\"/>\\nwith label: Multi-city/Stopover\\n2.\\ninput: <input id=\\\"bkmgFlights_tripTypeSelector_O\\\" name=\\\"tripType\\\" type=\\\"radio\\\" value=\\\"O\\\"/>\\nwith label: One-way\\n3.\\ninput: <input id=\\\"bkmgFlights_travelDates_1-formfield-1\\\" name=\\\"bkmgFlights_travelDates_1-formfield-1\\\" placeholder=\\\"DD/MM\\\" type=\\\"text\\\"/>\\nwith label: Departure\"\n",
      "  }\n",
      "]\n",
      " \u001b[0m Response: {\n",
      "  \"choices\": [\n",
      "    {\n",
      "      \"finish_reason\": \"stop\",\n",
      "      \"index\": 0,\n",
      "      \"message\": {\n",
      "        \"content\": \"expect(field('tripType'))\\n.toBe('R')\",\n",
      "        \"role\": \"assistant\"\n",
      "      }\n",
      "    }\n",
      "  ],\n",
      "  \"created\": 1687381973,\n",
      "  \"id\": \"chatcmpl-7TzQDufs2Ph17fs5QNhLNMNJN2uk6\",\n",
      "  \"model\": \"gpt-4-0314\",\n",
      "  \"object\": \"chat.completion\",\n",
      "  \"usage\": {\n",
      "    \"completion_tokens\": 10,\n",
      "    \"prompt_tokens\": 650,\n",
      "    \"total_tokens\": 660\n",
      "  }\n",
      "}\n",
      " \u001b[0m Total running cost: $0.020\n",
      " \u001b[0m Prompt: [\n",
      "  {\n",
      "    \"role\": \"system\",\n",
      "    \"content\": \"Your task is to generate a set of constraints for form fields. Your decisions must be made independently without seeking user assistance or additional information.\\n\\nThe list of the constraints and their signatures is as follows:\\n\\n1. toBe(value) # the input field value exactly matches the given value\\n2. toHaveLengthCondition(condition, value) # the length of the input field value matches the given condition\\n3. toBeTruthy() # the input field value is truthy and not empty (not false, 0, '', null, undefined, or NaN)\\n4. toHaveCompareCondition(condition, value) # the input field value has the given condition to the given value\\n5. toContainSubstr(value) # the input field value contains a specific string\\n6. toContainChar(value) # the input field value contains a specific character\\n7. toBeAlpha() # the input field value is alphabetic\\n8. toBeNumeric() # the input field value is numeric\\n9. toBeAlphaNumeric() # the input value contains both alphabetical and numeric characters\\n10. toHaveUpperCase() # the input value field contains upper case characters\\n11. toHaveSpecialChars() # the input value field contains special characters\\n12. toHaveWhiteSpace() # the input value field contains whitespace\\n13. toStartWith(value) # the input value field must start with a certain value\\n14. toEndWith(value) # the input value field must end with a certain value\\n15. toMatch(regex) # the input value field must match a certain regex pattern\\n\\nYou must only choose constraints from the list above. The name of the constraints must exactly match the functions above. Generate constraints as the sample:\\n\\n# sample\\nexpect(field('password'))\\n.toHaveLengthCondition('>', 8)\\n.toHaveLengthCondition('<', 50)\\n.toBeAlphaNumeric()\\n.toHaveUpperCase()\\n.toHaveSpecialChars()\\n.not.toBeTruthy()\\n.toBe(field('confirm password'))\\n# end of sample\\n\\nIf there are multiple ways to express constraints, use the one with the least number of constraints to describe it.\\nOnly generate the constraints and don't explain your answers.\\nOnly generate constraints for the inputs in question, not those in the relevant information section.\"\n",
      "  },\n",
      "  {\n",
      "    \"role\": \"user\",\n",
      "    \"content\": \"We are generating constraints for the following input field:\\n    input: <input id=\\\"bkmgFlights_tripTypeSelector_O\\\" name=\\\"tripType\\\" type=\\\"radio\\\" value=\\\"O\\\"/>\\nwith label: One-way\\n    The relevant information available in the form are (in order of relevance):\\n    1.\\ninput: <input id=\\\"bkmgFlights_tripTypeSelector_M\\\" name=\\\"tripType\\\" type=\\\"radio\\\" value=\\\"M\\\"/>\\nwith label: Multi-city/Stopover\\n2.\\ninput: <input id=\\\"bkmgFlights_tripTypeSelector_R\\\" name=\\\"tripType\\\" type=\\\"radio\\\" value=\\\"R\\\"/>\\nwith label: Round-trip\"\n",
      "  }\n",
      "]\n",
      " \u001b[0m Response: {\n",
      "  \"choices\": [\n",
      "    {\n",
      "      \"finish_reason\": \"stop\",\n",
      "      \"index\": 0,\n",
      "      \"message\": {\n",
      "        \"content\": \"expect(field('tripType'))\\n.toBe('O')\",\n",
      "        \"role\": \"assistant\"\n",
      "      }\n",
      "    }\n",
      "  ],\n",
      "  \"created\": 1687381976,\n",
      "  \"id\": \"chatcmpl-7TzQG8Es9npP9fWqPrSUnamN581k4\",\n",
      "  \"model\": \"gpt-4-0314\",\n",
      "  \"object\": \"chat.completion\",\n",
      "  \"usage\": {\n",
      "    \"completion_tokens\": 10,\n",
      "    \"prompt_tokens\": 599,\n",
      "    \"total_tokens\": 609\n",
      "  }\n",
      "}\n",
      " \u001b[0m Total running cost: $0.039\n",
      " \u001b[0m Prompt: [\n",
      "  {\n",
      "    \"role\": \"system\",\n",
      "    \"content\": \"Your task is to generate a set of constraints for form fields. Your decisions must be made independently without seeking user assistance or additional information.\\n\\nThe list of the constraints and their signatures is as follows:\\n\\n1. toBe(value) # the input field value exactly matches the given value\\n2. toHaveLengthCondition(condition, value) # the length of the input field value matches the given condition\\n3. toBeTruthy() # the input field value is truthy and not empty (not false, 0, '', null, undefined, or NaN)\\n4. toHaveCompareCondition(condition, value) # the input field value has the given condition to the given value\\n5. toContainSubstr(value) # the input field value contains a specific string\\n6. toContainChar(value) # the input field value contains a specific character\\n7. toBeAlpha() # the input field value is alphabetic\\n8. toBeNumeric() # the input field value is numeric\\n9. toBeAlphaNumeric() # the input value contains both alphabetical and numeric characters\\n10. toHaveUpperCase() # the input value field contains upper case characters\\n11. toHaveSpecialChars() # the input value field contains special characters\\n12. toHaveWhiteSpace() # the input value field contains whitespace\\n13. toStartWith(value) # the input value field must start with a certain value\\n14. toEndWith(value) # the input value field must end with a certain value\\n15. toMatch(regex) # the input value field must match a certain regex pattern\\n\\nYou must only choose constraints from the list above. The name of the constraints must exactly match the functions above. Generate constraints as the sample:\\n\\n# sample\\nexpect(field('password'))\\n.toHaveLengthCondition('>', 8)\\n.toHaveLengthCondition('<', 50)\\n.toBeAlphaNumeric()\\n.toHaveUpperCase()\\n.toHaveSpecialChars()\\n.not.toBeTruthy()\\n.toBe(field('confirm password'))\\n# end of sample\\n\\nIf there are multiple ways to express constraints, use the one with the least number of constraints to describe it.\\nOnly generate the constraints and don't explain your answers.\\nOnly generate constraints for the inputs in question, not those in the relevant information section.\"\n",
      "  },\n",
      "  {\n",
      "    \"role\": \"user\",\n",
      "    \"content\": \"We are generating constraints for the following input field:\\n    input: <input id=\\\"bkmgFlights_tripTypeSelector_M\\\" name=\\\"tripType\\\" type=\\\"radio\\\" value=\\\"M\\\"/>\\nwith label: Multi-city/Stopover\\n    The relevant information available in the form are (in order of relevance):\\n    1.\\ninput: <input id=\\\"bkmgFlights_tripTypeSelector_O\\\" name=\\\"tripType\\\" type=\\\"radio\\\" value=\\\"O\\\"/>\\nwith label: One-way\\n2.\\ninput: <input id=\\\"bkmgFlights_tripTypeSelector_R\\\" name=\\\"tripType\\\" type=\\\"radio\\\" value=\\\"R\\\"/>\\nwith label: Round-trip\\n3.\\ninput: <input id=\\\"bkmgFlights_travelDates_1-formfield-2\\\" name=\\\"bkmgFlights_travelDates_1-formfield-2\\\" placeholder=\\\"DD/MM\\\" type=\\\"text\\\"/>\\nwith label: Return\"\n",
      "  }\n",
      "]\n"
     ]
    },
    {
     "name": "stdout",
     "output_type": "stream",
     "text": [
      " \u001b[0m Response: {\n",
      "  \"choices\": [\n",
      "    {\n",
      "      \"finish_reason\": \"stop\",\n",
      "      \"index\": 0,\n",
      "      \"message\": {\n",
      "        \"content\": \"expect(field('tripType'))\\n.toBe('M')\",\n",
      "        \"role\": \"assistant\"\n",
      "      }\n",
      "    }\n",
      "  ],\n",
      "  \"created\": 1687381979,\n",
      "  \"id\": \"chatcmpl-7TzQJxF4RcjleVAU7ttneCa14tOXi\",\n",
      "  \"model\": \"gpt-4-0314\",\n",
      "  \"object\": \"chat.completion\",\n",
      "  \"usage\": {\n",
      "    \"completion_tokens\": 10,\n",
      "    \"prompt_tokens\": 649,\n",
      "    \"total_tokens\": 659\n",
      "  }\n",
      "}\n",
      " \u001b[0m Total running cost: $0.059\n",
      " \u001b[0m Prompt: [\n",
      "  {\n",
      "    \"role\": \"system\",\n",
      "    \"content\": \"Your task is to generate a set of constraints for form fields. Your decisions must be made independently without seeking user assistance or additional information.\\n\\nThe list of the constraints and their signatures is as follows:\\n\\n1. toBe(value) # the input field value exactly matches the given value\\n2. toHaveLengthCondition(condition, value) # the length of the input field value matches the given condition\\n3. toBeTruthy() # the input field value is truthy and not empty (not false, 0, '', null, undefined, or NaN)\\n4. toHaveCompareCondition(condition, value) # the input field value has the given condition to the given value\\n5. toContainSubstr(value) # the input field value contains a specific string\\n6. toContainChar(value) # the input field value contains a specific character\\n7. toBeAlpha() # the input field value is alphabetic\\n8. toBeNumeric() # the input field value is numeric\\n9. toBeAlphaNumeric() # the input value contains both alphabetical and numeric characters\\n10. toHaveUpperCase() # the input value field contains upper case characters\\n11. toHaveSpecialChars() # the input value field contains special characters\\n12. toHaveWhiteSpace() # the input value field contains whitespace\\n13. toStartWith(value) # the input value field must start with a certain value\\n14. toEndWith(value) # the input value field must end with a certain value\\n15. toMatch(regex) # the input value field must match a certain regex pattern\\n\\nYou must only choose constraints from the list above. The name of the constraints must exactly match the functions above. Generate constraints as the sample:\\n\\n# sample\\nexpect(field('password'))\\n.toHaveLengthCondition('>', 8)\\n.toHaveLengthCondition('<', 50)\\n.toBeAlphaNumeric()\\n.toHaveUpperCase()\\n.toHaveSpecialChars()\\n.not.toBeTruthy()\\n.toBe(field('confirm password'))\\n# end of sample\\n\\nIf there are multiple ways to express constraints, use the one with the least number of constraints to describe it.\\nOnly generate the constraints and don't explain your answers.\\nOnly generate constraints for the inputs in question, not those in the relevant information section.\"\n",
      "  },\n",
      "  {\n",
      "    \"role\": \"user\",\n",
      "    \"content\": \"We are generating constraints for the following input field:\\n    input: <input id=\\\"bkmgFlights_searchTypeToggle\\\" type=\\\"checkbox\\\"/>\\nwith label: Book with points\\n    The relevant information available in the form are (in order of relevance):\"\n",
      "  }\n",
      "]\n",
      " \u001b[0m Response: {\n",
      "  \"choices\": [\n",
      "    {\n",
      "      \"finish_reason\": \"stop\",\n",
      "      \"index\": 0,\n",
      "      \"message\": {\n",
      "        \"content\": \"expect(field('bkmgFlights_searchTypeToggle'))\\n.toBeTruthy()\",\n",
      "        \"role\": \"assistant\"\n",
      "      }\n",
      "    }\n",
      "  ],\n",
      "  \"created\": 1687381980,\n",
      "  \"id\": \"chatcmpl-7TzQKLdeCJyxhMvEJeOTQcRIQEmFM\",\n",
      "  \"model\": \"gpt-4-0314\",\n",
      "  \"object\": \"chat.completion\",\n",
      "  \"usage\": {\n",
      "    \"completion_tokens\": 14,\n",
      "    \"prompt_tokens\": 513,\n",
      "    \"total_tokens\": 527\n",
      "  }\n",
      "}\n",
      " \u001b[0m Total running cost: $0.075\n",
      " \u001b[0m Prompt: [\n",
      "  {\n",
      "    \"role\": \"system\",\n",
      "    \"content\": \"Your task is to generate a set of constraints for form fields. Your decisions must be made independently without seeking user assistance or additional information.\\n\\nThe list of the constraints and their signatures is as follows:\\n\\n1. toBe(value) # the input field value exactly matches the given value\\n2. toHaveLengthCondition(condition, value) # the length of the input field value matches the given condition\\n3. toBeTruthy() # the input field value is truthy and not empty (not false, 0, '', null, undefined, or NaN)\\n4. toHaveCompareCondition(condition, value) # the input field value has the given condition to the given value\\n5. toContainSubstr(value) # the input field value contains a specific string\\n6. toContainChar(value) # the input field value contains a specific character\\n7. toBeAlpha() # the input field value is alphabetic\\n8. toBeNumeric() # the input field value is numeric\\n9. toBeAlphaNumeric() # the input value contains both alphabetical and numeric characters\\n10. toHaveUpperCase() # the input value field contains upper case characters\\n11. toHaveSpecialChars() # the input value field contains special characters\\n12. toHaveWhiteSpace() # the input value field contains whitespace\\n13. toStartWith(value) # the input value field must start with a certain value\\n14. toEndWith(value) # the input value field must end with a certain value\\n15. toMatch(regex) # the input value field must match a certain regex pattern\\n\\nYou must only choose constraints from the list above. The name of the constraints must exactly match the functions above. Generate constraints as the sample:\\n\\n# sample\\nexpect(field('password'))\\n.toHaveLengthCondition('>', 8)\\n.toHaveLengthCondition('<', 50)\\n.toBeAlphaNumeric()\\n.toHaveUpperCase()\\n.toHaveSpecialChars()\\n.not.toBeTruthy()\\n.toBe(field('confirm password'))\\n# end of sample\\n\\nIf there are multiple ways to express constraints, use the one with the least number of constraints to describe it.\\nOnly generate the constraints and don't explain your answers.\\nOnly generate constraints for the inputs in question, not those in the relevant information section.\"\n",
      "  },\n",
      "  {\n",
      "    \"role\": \"user\",\n",
      "    \"content\": \"We are generating constraints for the following input field:\\n    input: <input id=\\\"bkmgFlights_origin_trip_1\\\" name=\\\"bkmgFlights_origin_trip_1\\\" placeholder=\\\"\\\" type=\\\"text\\\"/>\\nwith label: From\\nwith the following relevant text tags:\\n<span>From</span>\\n    The relevant information available in the form are (in order of relevance):\\n    1.\\ninput: <input id=\\\"bkmgFlights_destination_trip_1\\\" name=\\\"bkmgFlights_destination_trip_1\\\" placeholder=\\\"\\\" type=\\\"text\\\"/>\\nwith label: To\\n2.\\ninput: <input id=\\\"bkmgFlights_travelDates_1-formfield-2\\\" name=\\\"bkmgFlights_travelDates_1-formfield-2\\\" placeholder=\\\"DD/MM\\\" type=\\\"text\\\"/>\\nwith label: Return\"\n",
      "  }\n",
      "]\n",
      " \u001b[0m Response: {\n",
      "  \"choices\": [\n",
      "    {\n",
      "      \"finish_reason\": \"stop\",\n",
      "      \"index\": 0,\n",
      "      \"message\": {\n",
      "        \"content\": \"expect(field('bkmgFlights_origin_trip_1'))\\n.toBeAlpha()\\n.toHaveLengthCondition('>', 2)\\n.toHaveWhiteSpace()\\n.toStartWith(field('From'))\\n.not.toEndWith(field('To'))\",\n",
      "        \"role\": \"assistant\"\n",
      "      }\n",
      "    }\n",
      "  ],\n",
      "  \"created\": 1687381982,\n",
      "  \"id\": \"chatcmpl-7TzQMP2TqBnWctDCBghnU7YGKGWUx\",\n",
      "  \"model\": \"gpt-4-0314\",\n",
      "  \"object\": \"chat.completion\",\n",
      "  \"usage\": {\n",
      "    \"completion_tokens\": 43,\n",
      "    \"prompt_tokens\": 628,\n",
      "    \"total_tokens\": 671\n",
      "  }\n",
      "}\n",
      " \u001b[0m Total running cost: $0.096\n",
      " \u001b[0m Prompt: [\n",
      "  {\n",
      "    \"role\": \"system\",\n",
      "    \"content\": \"Your task is to generate a set of constraints for form fields. Your decisions must be made independently without seeking user assistance or additional information.\\n\\nThe list of the constraints and their signatures is as follows:\\n\\n1. toBe(value) # the input field value exactly matches the given value\\n2. toHaveLengthCondition(condition, value) # the length of the input field value matches the given condition\\n3. toBeTruthy() # the input field value is truthy and not empty (not false, 0, '', null, undefined, or NaN)\\n4. toHaveCompareCondition(condition, value) # the input field value has the given condition to the given value\\n5. toContainSubstr(value) # the input field value contains a specific string\\n6. toContainChar(value) # the input field value contains a specific character\\n7. toBeAlpha() # the input field value is alphabetic\\n8. toBeNumeric() # the input field value is numeric\\n9. toBeAlphaNumeric() # the input value contains both alphabetical and numeric characters\\n10. toHaveUpperCase() # the input value field contains upper case characters\\n11. toHaveSpecialChars() # the input value field contains special characters\\n12. toHaveWhiteSpace() # the input value field contains whitespace\\n13. toStartWith(value) # the input value field must start with a certain value\\n14. toEndWith(value) # the input value field must end with a certain value\\n15. toMatch(regex) # the input value field must match a certain regex pattern\\n\\nYou must only choose constraints from the list above. The name of the constraints must exactly match the functions above. Generate constraints as the sample:\\n\\n# sample\\nexpect(field('password'))\\n.toHaveLengthCondition('>', 8)\\n.toHaveLengthCondition('<', 50)\\n.toBeAlphaNumeric()\\n.toHaveUpperCase()\\n.toHaveSpecialChars()\\n.not.toBeTruthy()\\n.toBe(field('confirm password'))\\n# end of sample\\n\\nIf there are multiple ways to express constraints, use the one with the least number of constraints to describe it.\\nOnly generate the constraints and don't explain your answers.\\nOnly generate constraints for the inputs in question, not those in the relevant information section.\"\n",
      "  },\n",
      "  {\n",
      "    \"role\": \"user\",\n",
      "    \"content\": \"We are generating constraints for the following input field:\\n    input: <input id=\\\"bkmgFlights_destination_trip_1\\\" name=\\\"bkmgFlights_destination_trip_1\\\" placeholder=\\\"\\\" type=\\\"text\\\"/>\\nwith label: To\\nwith the following relevant text tags:\\n<span>To</span>\\n    The relevant information available in the form are (in order of relevance):\\n    1.\\ninput: <input id=\\\"bkmgFlights_origin_trip_1\\\" name=\\\"bkmgFlights_origin_trip_1\\\" placeholder=\\\"\\\" type=\\\"text\\\"/>\\nwith label: From\"\n",
      "  }\n",
      "]\n"
     ]
    },
    {
     "name": "stdout",
     "output_type": "stream",
     "text": [
      " \u001b[0m Response: {\n",
      "  \"choices\": [\n",
      "    {\n",
      "      \"finish_reason\": \"stop\",\n",
      "      \"index\": 0,\n",
      "      \"message\": {\n",
      "        \"content\": \"expect(field('bkmgFlights_destination_trip_1'))\\n.toBeAlpha()\\n.not.toBe(field('bkmgFlights_origin_trip_1'))\\n.toHaveLengthCondition('>', 0)\",\n",
      "        \"role\": \"assistant\"\n",
      "      }\n",
      "    }\n",
      "  ],\n",
      "  \"created\": 1687381989,\n",
      "  \"id\": \"chatcmpl-7TzQTPqEb21lutuoNvCEOm7NYib2Z\",\n",
      "  \"model\": \"gpt-4-0314\",\n",
      "  \"object\": \"chat.completion\",\n",
      "  \"usage\": {\n",
      "    \"completion_tokens\": 37,\n",
      "    \"prompt_tokens\": 577,\n",
      "    \"total_tokens\": 614\n",
      "  }\n",
      "}\n",
      " \u001b[0m Total running cost: $0.116\n",
      " \u001b[0m Prompt: [\n",
      "  {\n",
      "    \"role\": \"system\",\n",
      "    \"content\": \"Your task is to generate a set of constraints for form fields. Your decisions must be made independently without seeking user assistance or additional information.\\n\\nThe list of the constraints and their signatures is as follows:\\n\\n1. toBe(value) # the input field value exactly matches the given value\\n2. toHaveLengthCondition(condition, value) # the length of the input field value matches the given condition\\n3. toBeTruthy() # the input field value is truthy and not empty (not false, 0, '', null, undefined, or NaN)\\n4. toHaveCompareCondition(condition, value) # the input field value has the given condition to the given value\\n5. toContainSubstr(value) # the input field value contains a specific string\\n6. toContainChar(value) # the input field value contains a specific character\\n7. toBeAlpha() # the input field value is alphabetic\\n8. toBeNumeric() # the input field value is numeric\\n9. toBeAlphaNumeric() # the input value contains both alphabetical and numeric characters\\n10. toHaveUpperCase() # the input value field contains upper case characters\\n11. toHaveSpecialChars() # the input value field contains special characters\\n12. toHaveWhiteSpace() # the input value field contains whitespace\\n13. toStartWith(value) # the input value field must start with a certain value\\n14. toEndWith(value) # the input value field must end with a certain value\\n15. toMatch(regex) # the input value field must match a certain regex pattern\\n\\nYou must only choose constraints from the list above. The name of the constraints must exactly match the functions above. Generate constraints as the sample:\\n\\n# sample\\nexpect(field('password'))\\n.toHaveLengthCondition('>', 8)\\n.toHaveLengthCondition('<', 50)\\n.toBeAlphaNumeric()\\n.toHaveUpperCase()\\n.toHaveSpecialChars()\\n.not.toBeTruthy()\\n.toBe(field('confirm password'))\\n# end of sample\\n\\nIf there are multiple ways to express constraints, use the one with the least number of constraints to describe it.\\nOnly generate the constraints and don't explain your answers.\\nOnly generate constraints for the inputs in question, not those in the relevant information section.\"\n",
      "  },\n",
      "  {\n",
      "    \"role\": \"user\",\n",
      "    \"content\": \"We are generating constraints for the following input field:\\n    input: <input id=\\\"bkmgFlights_travelDates_1-formfield-1\\\" name=\\\"bkmgFlights_travelDates_1-formfield-1\\\" placeholder=\\\"DD/MM\\\" type=\\\"text\\\"/>\\nwith label: Departure\\nwith the following relevant text tags:\\n<span>Departure</span>\\n    The relevant information available in the form are (in order of relevance):\\n    1.\\ninput: <input id=\\\"bkmgFlights_travelDates_1-formfield-2\\\" name=\\\"bkmgFlights_travelDates_1-formfield-2\\\" placeholder=\\\"DD/MM\\\" type=\\\"text\\\"/>\\nwith label: Return\\n2.\\ninput: <input id=\\\"bkmgFlights_tripTypeSelector_R\\\" name=\\\"tripType\\\" type=\\\"radio\\\" value=\\\"R\\\"/>\\nwith label: Round-trip\"\n",
      "  }\n",
      "]\n",
      " \u001b[0m Response: {\n",
      "  \"choices\": [\n",
      "    {\n",
      "      \"finish_reason\": \"stop\",\n",
      "      \"index\": 0,\n",
      "      \"message\": {\n",
      "        \"content\": \"expect(field('bkmgFlights_travelDates_1-formfield-1'))\\n.toHaveLengthCondition('=', 5)\\n.toContainChar('/')\\n.toMatch(/^\\\\d{2}\\\\/\\\\d{2}$/)\",\n",
      "        \"role\": \"assistant\"\n",
      "      }\n",
      "    }\n",
      "  ],\n",
      "  \"created\": 1687381994,\n",
      "  \"id\": \"chatcmpl-7TzQYXE8VFdJNZyuThvv5qFmM7daz\",\n",
      "  \"model\": \"gpt-4-0314\",\n",
      "  \"object\": \"chat.completion\",\n",
      "  \"usage\": {\n",
      "    \"completion_tokens\": 43,\n",
      "    \"prompt_tokens\": 639,\n",
      "    \"total_tokens\": 682\n",
      "  }\n",
      "}\n",
      " \u001b[0m Total running cost: $0.138\n",
      " \u001b[0m Prompt: [\n",
      "  {\n",
      "    \"role\": \"system\",\n",
      "    \"content\": \"Your task is to generate a set of constraints for form fields. Your decisions must be made independently without seeking user assistance or additional information.\\n\\nThe list of the constraints and their signatures is as follows:\\n\\n1. toBe(value) # the input field value exactly matches the given value\\n2. toHaveLengthCondition(condition, value) # the length of the input field value matches the given condition\\n3. toBeTruthy() # the input field value is truthy and not empty (not false, 0, '', null, undefined, or NaN)\\n4. toHaveCompareCondition(condition, value) # the input field value has the given condition to the given value\\n5. toContainSubstr(value) # the input field value contains a specific string\\n6. toContainChar(value) # the input field value contains a specific character\\n7. toBeAlpha() # the input field value is alphabetic\\n8. toBeNumeric() # the input field value is numeric\\n9. toBeAlphaNumeric() # the input value contains both alphabetical and numeric characters\\n10. toHaveUpperCase() # the input value field contains upper case characters\\n11. toHaveSpecialChars() # the input value field contains special characters\\n12. toHaveWhiteSpace() # the input value field contains whitespace\\n13. toStartWith(value) # the input value field must start with a certain value\\n14. toEndWith(value) # the input value field must end with a certain value\\n15. toMatch(regex) # the input value field must match a certain regex pattern\\n\\nYou must only choose constraints from the list above. The name of the constraints must exactly match the functions above. Generate constraints as the sample:\\n\\n# sample\\nexpect(field('password'))\\n.toHaveLengthCondition('>', 8)\\n.toHaveLengthCondition('<', 50)\\n.toBeAlphaNumeric()\\n.toHaveUpperCase()\\n.toHaveSpecialChars()\\n.not.toBeTruthy()\\n.toBe(field('confirm password'))\\n# end of sample\\n\\nIf there are multiple ways to express constraints, use the one with the least number of constraints to describe it.\\nOnly generate the constraints and don't explain your answers.\\nOnly generate constraints for the inputs in question, not those in the relevant information section.\"\n",
      "  },\n",
      "  {\n",
      "    \"role\": \"user\",\n",
      "    \"content\": \"We are generating constraints for the following input field:\\n    input: <input id=\\\"bkmgFlights_travelDates_1-formfield-2\\\" name=\\\"bkmgFlights_travelDates_1-formfield-2\\\" placeholder=\\\"DD/MM\\\" type=\\\"text\\\"/>\\nwith label: Return\\nwith the following relevant text tags:\\n<span>Return</span>\\n    The relevant information available in the form are (in order of relevance):\\n    1.\\ninput: <input id=\\\"bkmgFlights_travelDates_1-formfield-1\\\" name=\\\"bkmgFlights_travelDates_1-formfield-1\\\" placeholder=\\\"DD/MM\\\" type=\\\"text\\\"/>\\nwith label: Departure\\n2.\\ninput: <input id=\\\"bkmgFlights_origin_trip_1\\\" name=\\\"bkmgFlights_origin_trip_1\\\" placeholder=\\\"\\\" type=\\\"text\\\"/>\\nwith label: From\\n3.\\ninput: <input id=\\\"bkmgFlights_tripTypeSelector_M\\\" name=\\\"tripType\\\" type=\\\"radio\\\" value=\\\"M\\\"/>\\nwith label: Multi-city/Stopover\"\n",
      "  }\n",
      "]\n",
      " \u001b[0m Response: {\n",
      "  \"choices\": [\n",
      "    {\n",
      "      \"finish_reason\": \"stop\",\n",
      "      \"index\": 0,\n",
      "      \"message\": {\n",
      "        \"content\": \"expect(field('bkmgFlights_travelDates_1-formfield-2'))\\n.toMatch(/^\\\\d{2}\\\\/\\\\d{2}$/)\\n.toBeTruthy()\\n.not.toEndWith(field('bkmgFlights_travelDates_1-formfield-1'))\",\n",
      "        \"role\": \"assistant\"\n",
      "      }\n",
      "    }\n",
      "  ],\n",
      "  \"created\": 1687382002,\n",
      "  \"id\": \"chatcmpl-7TzQgm7R4uKqH1zQi1DvdEqvXpxGu\",\n",
      "  \"model\": \"gpt-4-0314\",\n",
      "  \"object\": \"chat.completion\",\n",
      "  \"usage\": {\n",
      "    \"completion_tokens\": 52,\n",
      "    \"prompt_tokens\": 679,\n",
      "    \"total_tokens\": 731\n",
      "  }\n",
      "}\n",
      " \u001b[0m Total running cost: $0.161\n"
     ]
    }
   ],
   "source": [
    "for input_group in input_groups:\n",
    "    # TODO: set more conditions on <button> to be sure that buttons here are inputs\n",
    "    if input_group.node.element.name == 'button':\n",
    "        continue\n",
    "    \n",
    "    constraint_user_prompt = create_constraint_generation_user_prompt(input_group)\n",
    "    \n",
    "    generated_constraints = generate_constraints_with_llm(\n",
    "        constraint_user_prompt,\n",
    "        openai_api_key=openai.api_key\n",
    "    )\n",
    "    \n",
    "    field_name, constraints = generate_constraints_from_string(generated_constraints)\n",
    "    \n",
    "    fill_table.add_entry(field_name, input_group, constraints)"
   ]
  },
  {
   "cell_type": "code",
   "execution_count": 11,
   "id": "6eb6c2c6",
   "metadata": {
    "ExecuteTime": {
     "end_time": "2023-06-21T21:13:59.122680Z",
     "start_time": "2023-06-21T21:13:59.025669Z"
    }
   },
   "outputs": [],
   "source": [
    "def split_constant_and_field_constraints(constraints):\n",
    "    constants = list(filter(lambda x: not x.is_field, constraints))\n",
    "    fields = list(filter(lambda x: x.is_field, constraints))\n",
    "    return constants, fields"
   ]
  },
  {
   "cell_type": "code",
   "execution_count": 13,
   "id": "919aea1a",
   "metadata": {
    "ExecuteTime": {
     "end_time": "2023-06-21T21:15:45.776639Z",
     "start_time": "2023-06-21T21:15:38.513734Z"
    }
   },
   "outputs": [
    {
     "name": "stdout",
     "output_type": "stream",
     "text": [
      " \u001b[0m Prompt: [\n",
      "  {\n",
      "    \"role\": \"system\",\n",
      "    \"content\": \"Your task is to generate a value for a form field based on the form field information and a set of constraints on the field. Your decisions must always be made independently without seeking user assistance or additional information.\\nFor each user prompt, you need to generate one value that satisfy the constraints while keeping in mind the nature of the input from the available information.\\nOnly generate the value and don't explain your answers.\\nOnly generate value for the inputs in question, and not the ones in the relevant information section.\"\n",
      "  },\n",
      "  {\n",
      "    \"role\": \"user\",\n",
      "    \"content\": \"We are generating filling values for the following input field:\\n    input: <input id=\\\"bkmgFlights_tripTypeSelector_M\\\" name=\\\"tripType\\\" type=\\\"radio\\\" value=\\\"M\\\"/>\\nwith label: Multi-city/Stopover\\n    The relevant information available in the form are (in order of relevance):\\n    1.\\ninput: <input id=\\\"bkmgFlights_tripTypeSelector_O\\\" name=\\\"tripType\\\" type=\\\"radio\\\" value=\\\"O\\\"/>\\nwith label: One-way\\n2.\\ninput: <input id=\\\"bkmgFlights_tripTypeSelector_R\\\" name=\\\"tripType\\\" type=\\\"radio\\\" value=\\\"R\\\"/>\\nwith label: Round-trip\\n3.\\ninput: <input id=\\\"bkmgFlights_travelDates_1-formfield-2\\\" name=\\\"bkmgFlights_travelDates_1-formfield-2\\\" placeholder=\\\"DD/MM\\\" type=\\\"text\\\"/>\\nwith label: Return\\n    The constraints on this input field are:\\n    input field should be M\"\n",
      "  }\n",
      "]\n",
      " \u001b[0m Response: {\n",
      "  \"choices\": [\n",
      "    {\n",
      "      \"finish_reason\": \"stop\",\n",
      "      \"index\": 0,\n",
      "      \"message\": {\n",
      "        \"content\": \"M\",\n",
      "        \"role\": \"assistant\"\n",
      "      }\n",
      "    }\n",
      "  ],\n",
      "  \"created\": 1687382139,\n",
      "  \"id\": \"chatcmpl-7TzStrlqsr5xureCp9roO2RuWn8lm\",\n",
      "  \"model\": \"gpt-4-0314\",\n",
      "  \"object\": \"chat.completion\",\n",
      "  \"usage\": {\n",
      "    \"completion_tokens\": 1,\n",
      "    \"prompt_tokens\": 315,\n",
      "    \"total_tokens\": 316\n",
      "  }\n",
      "}\n",
      " \u001b[0m Total running cost: $0.186\n",
      " \u001b[0m Prompt: [\n",
      "  {\n",
      "    \"role\": \"system\",\n",
      "    \"content\": \"Your task is to generate a value for a form field based on the form field information and a set of constraints on the field. Your decisions must always be made independently without seeking user assistance or additional information.\\nFor each user prompt, you need to generate one value that satisfy the constraints while keeping in mind the nature of the input from the available information.\\nOnly generate the value and don't explain your answers.\\nOnly generate value for the inputs in question, and not the ones in the relevant information section.\"\n",
      "  },\n",
      "  {\n",
      "    \"role\": \"user\",\n",
      "    \"content\": \"We are generating filling values for the following input field:\\n    input: <input id=\\\"bkmgFlights_searchTypeToggle\\\" type=\\\"checkbox\\\"/>\\nwith label: Book with points\\n    The relevant information available in the form are (in order of relevance):\\n    \\n    The constraints on this input field are:\\n    input field should be non-empty\"\n",
      "  }\n",
      "]\n",
      " \u001b[0m Response: {\n",
      "  \"choices\": [\n",
      "    {\n",
      "      \"finish_reason\": \"stop\",\n",
      "      \"index\": 0,\n",
      "      \"message\": {\n",
      "        \"content\": \"true\",\n",
      "        \"role\": \"assistant\"\n",
      "      }\n",
      "    }\n",
      "  ],\n",
      "  \"created\": 1687382140,\n",
      "  \"id\": \"chatcmpl-7TzSujKa2GM3sraz7YqUOhyi3NW9N\",\n",
      "  \"model\": \"gpt-4-0314\",\n",
      "  \"object\": \"chat.completion\",\n",
      "  \"usage\": {\n",
      "    \"completion_tokens\": 1,\n",
      "    \"prompt_tokens\": 180,\n",
      "    \"total_tokens\": 181\n",
      "  }\n",
      "}\n",
      " \u001b[0m Total running cost: $0.191\n",
      " \u001b[0m Prompt: [\n",
      "  {\n",
      "    \"role\": \"system\",\n",
      "    \"content\": \"Your task is to generate a value for a form field based on the form field information and a set of constraints on the field. Your decisions must always be made independently without seeking user assistance or additional information.\\nFor each user prompt, you need to generate one value that satisfy the constraints while keeping in mind the nature of the input from the available information.\\nOnly generate the value and don't explain your answers.\\nOnly generate value for the inputs in question, and not the ones in the relevant information section.\"\n",
      "  },\n",
      "  {\n",
      "    \"role\": \"user\",\n",
      "    \"content\": \"We are generating filling values for the following input field:\\n    input: <input id=\\\"bkmgFlights_origin_trip_1\\\" name=\\\"bkmgFlights_origin_trip_1\\\" placeholder=\\\"\\\" type=\\\"text\\\"/>\\nwith label: From\\nwith the following relevant text tags:\\n<span>From</span>\\n    The relevant information available in the form are (in order of relevance):\\n    1.\\ninput: <input id=\\\"bkmgFlights_destination_trip_1\\\" name=\\\"bkmgFlights_destination_trip_1\\\" placeholder=\\\"\\\" type=\\\"text\\\"/>\\nwith label: To\\n2.\\ninput: <input id=\\\"bkmgFlights_travelDates_1-formfield-2\\\" name=\\\"bkmgFlights_travelDates_1-formfield-2\\\" placeholder=\\\"DD/MM\\\" type=\\\"text\\\"/>\\nwith label: Return\\n    The constraints on this input field are:\\n    input field should be alphabetic\\ninput field should be greater than 2 characters\\ninput field should have whitespace characters\"\n",
      "  }\n",
      "]\n",
      " \u001b[0m Response: {\n",
      "  \"choices\": [\n",
      "    {\n",
      "      \"finish_reason\": \"stop\",\n",
      "      \"index\": 0,\n",
      "      \"message\": {\n",
      "        \"content\": \"New York\",\n",
      "        \"role\": \"assistant\"\n",
      "      }\n",
      "    }\n",
      "  ],\n",
      "  \"created\": 1687382141,\n",
      "  \"id\": \"chatcmpl-7TzSvT5XS2PPulv5AVFBbVbX2Di1w\",\n",
      "  \"model\": \"gpt-4-0314\",\n",
      "  \"object\": \"chat.completion\",\n",
      "  \"usage\": {\n",
      "    \"completion_tokens\": 2,\n",
      "    \"prompt_tokens\": 312,\n",
      "    \"total_tokens\": 314\n",
      "  }\n",
      "}\n",
      " \u001b[0m Total running cost: $0.201\n",
      " \u001b[0m Prompt: [\n",
      "  {\n",
      "    \"role\": \"system\",\n",
      "    \"content\": \"Your task is to generate a value for a form field based on the form field information and a set of constraints on the field. Your decisions must always be made independently without seeking user assistance or additional information.\\nFor each user prompt, you need to generate one value that satisfy the constraints while keeping in mind the nature of the input from the available information.\\nOnly generate the value and don't explain your answers.\\nOnly generate value for the inputs in question, and not the ones in the relevant information section.\"\n",
      "  },\n",
      "  {\n",
      "    \"role\": \"user\",\n",
      "    \"content\": \"We are generating filling values for the following input field:\\n    input: <input id=\\\"bkmgFlights_destination_trip_1\\\" name=\\\"bkmgFlights_destination_trip_1\\\" placeholder=\\\"\\\" type=\\\"text\\\"/>\\nwith label: To\\nwith the following relevant text tags:\\n<span>To</span>\\n    The relevant information available in the form are (in order of relevance):\\n    1.\\ninput: <input id=\\\"bkmgFlights_origin_trip_1\\\" name=\\\"bkmgFlights_origin_trip_1\\\" placeholder=\\\"\\\" type=\\\"text\\\"/>\\nwith label: From\\n    The constraints on this input field are:\\n    input field should be alphabetic\\ninput field should be greater than 0 characters\\ninput field should not be field(bkmgFlights_origin_trip_1)\\n        The values for the fields in constraints are:\\n        [('bkmgFlights_origin_trip_1', 'New York')]\"\n",
      "  }\n",
      "]\n",
      " \u001b[0m Response: {\n",
      "  \"choices\": [\n",
      "    {\n",
      "      \"finish_reason\": \"stop\",\n",
      "      \"index\": 0,\n",
      "      \"message\": {\n",
      "        \"content\": \"Los Angeles\",\n",
      "        \"role\": \"assistant\"\n",
      "      }\n",
      "    }\n",
      "  ],\n",
      "  \"created\": 1687382142,\n",
      "  \"id\": \"chatcmpl-7TzSwbTKgq3wKmWoUseGD91H2qvr0\",\n",
      "  \"model\": \"gpt-4-0314\",\n",
      "  \"object\": \"chat.completion\",\n",
      "  \"usage\": {\n",
      "    \"completion_tokens\": 2,\n",
      "    \"prompt_tokens\": 296,\n",
      "    \"total_tokens\": 298\n",
      "  }\n",
      "}\n",
      " \u001b[0m Total running cost: $0.210\n",
      " \u001b[0m Prompt: [\n",
      "  {\n",
      "    \"role\": \"system\",\n",
      "    \"content\": \"Your task is to generate a value for a form field based on the form field information and a set of constraints on the field. Your decisions must always be made independently without seeking user assistance or additional information.\\nFor each user prompt, you need to generate one value that satisfy the constraints while keeping in mind the nature of the input from the available information.\\nOnly generate the value and don't explain your answers.\\nOnly generate value for the inputs in question, and not the ones in the relevant information section.\"\n",
      "  },\n",
      "  {\n",
      "    \"role\": \"user\",\n",
      "    \"content\": \"We are generating filling values for the following input field:\\n    input: <input id=\\\"bkmgFlights_travelDates_1-formfield-1\\\" name=\\\"bkmgFlights_travelDates_1-formfield-1\\\" placeholder=\\\"DD/MM\\\" type=\\\"text\\\"/>\\nwith label: Departure\\nwith the following relevant text tags:\\n<span>Departure</span>\\n    The relevant information available in the form are (in order of relevance):\\n    1.\\ninput: <input id=\\\"bkmgFlights_travelDates_1-formfield-2\\\" name=\\\"bkmgFlights_travelDates_1-formfield-2\\\" placeholder=\\\"DD/MM\\\" type=\\\"text\\\"/>\\nwith label: Return\\n2.\\ninput: <input id=\\\"bkmgFlights_tripTypeSelector_R\\\" name=\\\"tripType\\\" type=\\\"radio\\\" value=\\\"R\\\"/>\\nwith label: Round-trip\\n    The constraints on this input field are:\\n    input field should be  5 characters\\ninput field should contain / character\\ninput field should match /^\\\\d{2}\\\\/\\\\d{2}$/ regex pattern\"\n",
      "  }\n",
      "]\n"
     ]
    },
    {
     "name": "stdout",
     "output_type": "stream",
     "text": [
      " \u001b[0m Response: {\n",
      "  \"choices\": [\n",
      "    {\n",
      "      \"finish_reason\": \"stop\",\n",
      "      \"index\": 0,\n",
      "      \"message\": {\n",
      "        \"content\": \"23/09\",\n",
      "        \"role\": \"assistant\"\n",
      "      }\n",
      "    }\n",
      "  ],\n",
      "  \"created\": 1687382144,\n",
      "  \"id\": \"chatcmpl-7TzSyzH055cyCaCrFzZFhINgbFVzl\",\n",
      "  \"model\": \"gpt-4-0314\",\n",
      "  \"object\": \"chat.completion\",\n",
      "  \"usage\": {\n",
      "    \"completion_tokens\": 3,\n",
      "    \"prompt_tokens\": 333,\n",
      "    \"total_tokens\": 336\n",
      "  }\n",
      "}\n",
      " \u001b[0m Total running cost: $0.220\n",
      " \u001b[0m Prompt: [\n",
      "  {\n",
      "    \"role\": \"system\",\n",
      "    \"content\": \"Your task is to generate a value for a form field based on the form field information and a set of constraints on the field. Your decisions must always be made independently without seeking user assistance or additional information.\\nFor each user prompt, you need to generate one value that satisfy the constraints while keeping in mind the nature of the input from the available information.\\nOnly generate the value and don't explain your answers.\\nOnly generate value for the inputs in question, and not the ones in the relevant information section.\"\n",
      "  },\n",
      "  {\n",
      "    \"role\": \"user\",\n",
      "    \"content\": \"We are generating filling values for the following input field:\\n    input: <input id=\\\"bkmgFlights_travelDates_1-formfield-2\\\" name=\\\"bkmgFlights_travelDates_1-formfield-2\\\" placeholder=\\\"DD/MM\\\" type=\\\"text\\\"/>\\nwith label: Return\\nwith the following relevant text tags:\\n<span>Return</span>\\n    The relevant information available in the form are (in order of relevance):\\n    1.\\ninput: <input id=\\\"bkmgFlights_travelDates_1-formfield-1\\\" name=\\\"bkmgFlights_travelDates_1-formfield-1\\\" placeholder=\\\"DD/MM\\\" type=\\\"text\\\"/>\\nwith label: Departure\\n2.\\ninput: <input id=\\\"bkmgFlights_origin_trip_1\\\" name=\\\"bkmgFlights_origin_trip_1\\\" placeholder=\\\"\\\" type=\\\"text\\\"/>\\nwith label: From\\n3.\\ninput: <input id=\\\"bkmgFlights_tripTypeSelector_M\\\" name=\\\"tripType\\\" type=\\\"radio\\\" value=\\\"M\\\"/>\\nwith label: Multi-city/Stopover\\n    The constraints on this input field are:\\n    input field should match /^\\\\d{2}\\\\/\\\\d{2}$/ regex pattern\\ninput field should be non-empty\\ninput field should not end with field(bkmgFlights_travelDates_1-formfield-1)\\n        The values for the fields in constraints are:\\n        [('bkmgFlights_travelDates_1-formfield-1', '23/09')]\"\n",
      "  }\n",
      "]\n",
      " \u001b[0m Response: {\n",
      "  \"choices\": [\n",
      "    {\n",
      "      \"finish_reason\": \"stop\",\n",
      "      \"index\": 0,\n",
      "      \"message\": {\n",
      "        \"content\": \"24/09\",\n",
      "        \"role\": \"assistant\"\n",
      "      }\n",
      "    }\n",
      "  ],\n",
      "  \"created\": 1687382145,\n",
      "  \"id\": \"chatcmpl-7TzSzqiXEbdluqB3ciskY5bI2MdQY\",\n",
      "  \"model\": \"gpt-4-0314\",\n",
      "  \"object\": \"chat.completion\",\n",
      "  \"usage\": {\n",
      "    \"completion_tokens\": 3,\n",
      "    \"prompt_tokens\": 416,\n",
      "    \"total_tokens\": 419\n",
      "  }\n",
      "}\n",
      " \u001b[0m Total running cost: $0.232\n"
     ]
    }
   ],
   "source": [
    "# value generation loop\n",
    "\n",
    "for input_group in input_groups:\n",
    "    if input_group.node.element.name == 'button':\n",
    "        continue\n",
    "    \n",
    "    fill_entry = fill_table.get_entry_by_input_group(input_group)\n",
    "    \n",
    "    if fill_entry is None:\n",
    "        continue\n",
    "    \n",
    "    constraints = fill_entry.constraints\n",
    "    constant_constraints, field_constraints = split_constant_and_field_constraints(constraints)\n",
    "    including_constraints = [*constant_constraints]\n",
    "\n",
    "    relevant_field_values = []\n",
    "    for field_constraint in field_constraints:\n",
    "        field_arg = field_constraint.get_field_args()[0]\n",
    "        \n",
    "        if field_arg not in fill_table.entries:\n",
    "            continue\n",
    "        \n",
    "        value = fill_table.get_entry_by_field_id(field_arg).value\n",
    "        \n",
    "        if value is not None:\n",
    "            including_constraints.append(field_constraint)\n",
    "            relevant_field_values.append((field_arg, value))\n",
    "    \n",
    "    value_user_prompt = create_value_generation_user_prompt(\n",
    "        fill_entry.input_group,\n",
    "        including_constraints,\n",
    "        relevant_field_values=relevant_field_values if len(relevant_field_values) > 0 else None,\n",
    "    )\n",
    "    \n",
    "    generated_value = generate_values_with_llm(\n",
    "        value_user_prompt,\n",
    "        openai_api_key=openai.api_key\n",
    "    )\n",
    "    \n",
    "    fill_entry.set_value(generated_value)"
   ]
  },
  {
   "cell_type": "code",
   "execution_count": 16,
   "id": "84216208",
   "metadata": {
    "ExecuteTime": {
     "end_time": "2023-06-21T21:17:40.675995Z",
     "start_time": "2023-06-21T21:17:40.580026Z"
    }
   },
   "outputs": [],
   "source": [
    "from method.ours.utils import interact_with_input"
   ]
  },
  {
   "cell_type": "code",
   "execution_count": 20,
   "id": "3eafcce9",
   "metadata": {
    "ExecuteTime": {
     "end_time": "2023-06-21T21:19:02.485153Z",
     "start_time": "2023-06-21T21:19:01.604687Z"
    }
   },
   "outputs": [
    {
     "name": "stdout",
     "output_type": "stream",
     "text": [
      "<input>value is M</input> at y: (567, 597), x: (437, 591)\n",
      "M\n",
      "<input></input> at y: (574, 594), x: (652, 905)\n",
      "true\n",
      "<input></input> at y: (628, 678), x: (198, 466)\n",
      "New York\n",
      "<input></input> at y: (628, 678), x: (536, 804)\n",
      "Los Angeles\n",
      "<input>DD/MM</input> at y: (628, 678), x: (833, 958)\n",
      "23/09\n",
      "<input>DD/MM</input> at y: (628, 678), x: (978, 1093)\n",
      "24/09\n"
     ]
    }
   ],
   "source": [
    "for input_group in input_groups:\n",
    "    entry = fill_table.get_entry_by_input_group(input_group)\n",
    "    \n",
    "    if entry is None:\n",
    "        continue\n",
    "    \n",
    "    print(entry.input_group.node)\n",
    "    print(entry.value)\n",
    "    \n",
    "    element = driver.find_element(By.XPATH, entry.input_group.node.xpath)\n",
    "    \n",
    "    if element.get_attribute('type') not in ['submit', 'radio', 'checkbox']:\n",
    "        interact_with_input(element, entry.value)"
   ]
  },
  {
   "cell_type": "code",
   "execution_count": 36,
   "id": "0f970a98",
   "metadata": {
    "ExecuteTime": {
     "end_time": "2023-06-21T21:22:18.902425Z",
     "start_time": "2023-06-21T21:22:18.808567Z"
    }
   },
   "outputs": [
    {
     "name": "stdout",
     "output_type": "stream",
     "text": [
      "{'type': 'radio', 'id': 'bkmgFlights_tripTypeSelector_R', 'name': 'tripType', 'value': 'R'}\n",
      "{'type': 'radio', 'id': 'bkmgFlights_tripTypeSelector_O', 'name': 'tripType', 'value': 'O'}\n",
      "{'type': 'radio', 'id': 'bkmgFlights_tripTypeSelector_M', 'name': 'tripType', 'value': 'M'}\n",
      "{'type': 'checkbox', 'id': 'bkmgFlights_searchTypeToggle'}\n",
      "{'type': 'text', 'placeholder': '', 'id': 'bkmgFlights_origin_trip_1', 'name': 'bkmgFlights_origin_trip_1'}\n",
      "{'type': 'text', 'placeholder': '', 'id': 'bkmgFlights_destination_trip_1', 'name': 'bkmgFlights_destination_trip_1'}\n",
      "{'type': 'text', 'placeholder': 'DD/MM', 'id': 'bkmgFlights_travelDates_1-formfield-1', 'name': 'bkmgFlights_travelDates_1-formfield-1'}\n",
      "{'type': 'text', 'placeholder': 'DD/MM', 'id': 'bkmgFlights_travelDates_1-formfield-2', 'name': 'bkmgFlights_travelDates_1-formfield-2'}\n",
      "{'id': 'bkmgFlights_findButton', 'type': 'submit'}\n"
     ]
    }
   ],
   "source": [
    "for x in input_groups:\n",
    "    if x.node.element is not None:\n",
    "        print(x.node.element.attrs)"
   ]
  },
  {
   "cell_type": "code",
   "execution_count": 38,
   "id": "d61d965b",
   "metadata": {
    "ExecuteTime": {
     "end_time": "2023-06-21T21:22:38.213840Z",
     "start_time": "2023-06-21T21:22:38.120163Z"
    }
   },
   "outputs": [],
   "source": [
    "submit = list(filter(\n",
    "    lambda x: x.node.element.attrs['type'] == 'submit',\n",
    "    input_groups\n",
    "))[0]"
   ]
  },
  {
   "cell_type": "code",
   "execution_count": 43,
   "id": "1ffab543",
   "metadata": {
    "ExecuteTime": {
     "end_time": "2023-06-21T21:23:20.712734Z",
     "start_time": "2023-06-21T21:23:20.429952Z"
    }
   },
   "outputs": [],
   "source": [
    "interact_with_input(driver.find_element(By.XPATH, submit.node.xpath), True)"
   ]
  },
  {
   "cell_type": "markdown",
   "id": "1352b64b",
   "metadata": {},
   "source": [
    "# Feedback"
   ]
  },
  {
   "cell_type": "code",
   "execution_count": 44,
   "id": "720cade4",
   "metadata": {
    "ExecuteTime": {
     "end_time": "2023-06-21T21:23:37.361643Z",
     "start_time": "2023-06-21T21:23:37.252431Z"
    }
   },
   "outputs": [],
   "source": [
    "new_form = driver.find_elements(By.TAG_NAME, 'form')[1]"
   ]
  },
  {
   "cell_type": "code",
   "execution_count": 48,
   "id": "a328e447",
   "metadata": {
    "ExecuteTime": {
     "end_time": "2023-06-21T21:27:25.644737Z",
     "start_time": "2023-06-21T21:27:25.534373Z"
    }
   },
   "outputs": [
    {
     "data": {
      "text/plain": [
       "{'added': [<span>Los Angeles </span> at y: (826, 848), x: (536, 628),\n",
       "  <span>LAX</span> at y: (826, 848), x: (628, 656),\n",
       "  <span>Sat Sep 23</span> at y: (826, 848), x: (833, 911),\n",
       "  <span>Sun Sep 24</span> at y: (826, 848), x: (978, 1061),\n",
       "  <span-wrap> Enter the date day and month in this format: DD/MM, or use the 'Show Calendar' button to open the calendar and select your date from there. </span-wrap> at y: (855, 856), x: (832, 833)],\n",
       " 'removed': [<span-wrap> Enter the date day and month in this format: DD/MM, or use the 'Show Calendar' button to open the calendar and select your date from there. </span-wrap> at y: (679, 680), x: (832, 833)]}"
      ]
     },
     "execution_count": 48,
     "metadata": {},
     "output_type": "execute_result"
    }
   ],
   "source": [
    "relation_graph.diff(new_relation_graph)"
   ]
  },
  {
   "cell_type": "code",
   "execution_count": 46,
   "id": "b99a21e9",
   "metadata": {
    "ExecuteTime": {
     "end_time": "2023-06-21T21:26:38.168616Z",
     "start_time": "2023-06-21T21:25:54.587216Z"
    }
   },
   "outputs": [
    {
     "data": {
      "application/vnd.jupyter.widget-view+json": {
       "model_id": "4849217876d640b98e6e189d8bad5f26",
       "version_major": 2,
       "version_minor": 0
      },
      "text/plain": [
       "Computing transition probabilities:   0%|          | 0/366 [00:00<?, ?it/s]"
      ]
     },
     "metadata": {},
     "output_type": "display_data"
    },
    {
     "name": "stderr",
     "output_type": "stream",
     "text": [
      "Generating walks (CPU: 1): 100%|██████████| 50/50 [00:00<00:00, 596.27it/s]\n",
      "Generating walks (CPU: 2): 100%|██████████| 50/50 [00:00<00:00, 596.96it/s]\n",
      "Generating walks (CPU: 3): 100%|██████████| 50/50 [00:00<00:00, 596.74it/s]\n",
      "Generating walks (CPU: 4): 100%|██████████| 50/50 [00:00<00:00, 577.43it/s]\n",
      "100%|█████████████████████████████████████████████████████████████████████████████████████████████████████████████████████████████████████| 38/38 [00:10<00:00,  3.69it/s]\n"
     ]
    }
   ],
   "source": [
    "new_relation_graph, new_input_groups = parse_after_feedback(driver, new_form, relation_graph, TEXT_EMBEDDING_METHOD)"
   ]
  },
  {
   "cell_type": "code",
   "execution_count": 47,
   "id": "db79f9fa",
   "metadata": {
    "ExecuteTime": {
     "end_time": "2023-06-21T21:26:53.215546Z",
     "start_time": "2023-06-21T21:26:53.103927Z"
    }
   },
   "outputs": [
    {
     "data": {
      "text/plain": [
       "[edge FOR weight 1 from <label> Round-trip </label> at y: (748, 768), x: (249, 319) to <input>value is R</input> at y: (743, 773), x: (219, 319),\n",
       " edge FOR weight 1 from <input>value is R</input> at y: (743, 773), x: (219, 319) to <label> Round-trip </label> at y: (748, 768), x: (249, 319),\n",
       " edge FOR weight 1 from <label> One-way </label> at y: (748, 768), x: (364, 421) to <input>value is O</input> at y: (743, 773), x: (334, 421),\n",
       " edge FOR weight 1 from <input>value is O</input> at y: (743, 773), x: (334, 421) to <label> One-way </label> at y: (748, 768), x: (364, 421),\n",
       " edge FOR weight 1 from <label> Multi-city/Stopover </label> at y: (748, 768), x: (467, 591) to <input>value is M</input> at y: (743, 773), x: (437, 591),\n",
       " edge FOR weight 1 from <input>value is M</input> at y: (743, 773), x: (437, 591) to <label> Multi-city/Stopover </label> at y: (748, 768), x: (467, 591),\n",
       " edge FOR weight 1 from <label> Book with points </label> at y: (750, 770), x: (682, 905) to <input></input> at y: (750, 770), x: (652, 905),\n",
       " edge FOR weight 1 from <input></input> at y: (750, 770), x: (652, 905) to <label> Book with points </label> at y: (750, 770), x: (682, 905),\n",
       " edge FOR weight 1 from <label>From</label> at y: (798, 848), x: (198, 237) to <input></input> at y: (804, 854), x: (198, 466),\n",
       " edge FOR weight 1 from <input></input> at y: (804, 854), x: (198, 466) to <label>From</label> at y: (798, 848), x: (198, 237),\n",
       " edge FOR weight 1 from <label>To</label> at y: (798, 848), x: (536, 554) to <input></input> at y: (804, 854), x: (536, 804),\n",
       " edge FOR weight 1 from <input></input> at y: (804, 854), x: (536, 804) to <label>To</label> at y: (798, 848), x: (536, 554),\n",
       " edge FOR weight 1 from <label>Departure</label> at y: (798, 848), x: (833, 910) to <input>DD/MM</input> at y: (804, 854), x: (833, 958),\n",
       " edge FOR weight 1 from <input>DD/MM</input> at y: (804, 854), x: (833, 958) to <label>Departure</label> at y: (798, 848), x: (833, 910),\n",
       " edge FOR weight 1 from <label>Return</label> at y: (798, 848), x: (978, 1029) to <input>DD/MM</input> at y: (804, 854), x: (978, 1093),\n",
       " edge FOR weight 1 from <input>DD/MM</input> at y: (804, 854), x: (978, 1093) to <label>Return</label> at y: (798, 848), x: (978, 1029),\n",
       " edge CHILD weight 1 from <input>value is R</input> at y: (743, 773), x: (219, 319) to <label> Round-trip </label> at y: (748, 768), x: (249, 319),\n",
       " edge CHILD weight 1 from <input>value is O</input> at y: (743, 773), x: (334, 421) to <label> One-way </label> at y: (748, 768), x: (364, 421),\n",
       " edge CHILD weight 1 from <input>value is M</input> at y: (743, 773), x: (437, 591) to <label> Multi-city/Stopover </label> at y: (748, 768), x: (467, 591),\n",
       " edge CHILD weight 1 from <input></input> at y: (750, 770), x: (652, 905) to <label> Book with points </label> at y: (750, 770), x: (682, 905),\n",
       " edge CHILD weight 1 from <label>From</label> at y: (798, 848), x: (198, 237) to <span>From</span> at y: (798, 848), x: (198, 237),\n",
       " edge CHILD weight 1 from <label>To</label> at y: (798, 848), x: (536, 554) to <span>To</span> at y: (798, 848), x: (536, 554),\n",
       " edge CHILD weight 1 from <label>Departure</label> at y: (798, 848), x: (833, 910) to <span>Departure</span> at y: (798, 848), x: (833, 910),\n",
       " edge CHILD weight 1 from <label>Return</label> at y: (798, 848), x: (978, 1029) to <span>Return</span> at y: (798, 848), x: (978, 1029),\n",
       " edge NRIGHT weight 0.8667840370703386 from <span>New York </span> at y: (826, 848), x: (198, 273) to <span> All airports </span> at y: (826, 848), x: (273, 354),\n",
       " edge NLEFT weight 0.8667840370703386 from <span> All airports </span> at y: (826, 848), x: (273, 354) to <span>New York </span> at y: (826, 848), x: (198, 273),\n",
       " edge NRIGHT weight 0.8655335604976475 from <span>Los Angeles </span> at y: (826, 848), x: (536, 628) to <span>LAX</span> at y: (826, 848), x: (628, 656),\n",
       " edge NLEFT weight 0.8655335604976475 from <span>LAX</span> at y: (826, 848), x: (628, 656) to <span>Los Angeles </span> at y: (826, 848), x: (536, 628),\n",
       " edge FEEDBACK weight 0.611751315561311 from <span>Los Angeles </span> at y: (826, 848), x: (536, 628) to <input>value is M</input> at y: (743, 773), x: (437, 591),\n",
       " edge FEEDBACK weight 0.5640324034928526 from <span>LAX</span> at y: (826, 848), x: (628, 656) to <input></input> at y: (750, 770), x: (652, 905),\n",
       " edge FEEDBACK weight 0.5709958151424855 from <span>Sat Sep 23</span> at y: (826, 848), x: (833, 911) to <input></input> at y: (750, 770), x: (652, 905),\n",
       " edge NBOTTOM weight 0.7848588228225708 from <input></input> at y: (804, 854), x: (198, 466) to <label>From</label> at y: (798, 848), x: (198, 237),\n",
       " edge NBOTTOM weight 0.74150550365448 from <input></input> at y: (804, 854), x: (536, 804) to <label>To</label> at y: (798, 848), x: (536, 554),\n",
       " edge NBOTTOM weight 0.7559013193880364 from <input>DD/MM</input> at y: (804, 854), x: (833, 958) to <label>Departure</label> at y: (798, 848), x: (833, 910),\n",
       " edge NBOTTOM weight 0.7688205123587896 from <input>DD/MM</input> at y: (804, 854), x: (978, 1093) to <label>Return</label> at y: (798, 848), x: (978, 1029),\n",
       " edge NBOTTOM weight 0.8004645581835745 from <button>Passenger(s) 1 Adult </button> at y: (804, 856), x: (1143, 1338) to <span>Passenger(s)</span> at y: (799, 849), x: (1143, 1237),\n",
       " edge NTOP weight 0.8004645581835745 from <span>Passenger(s)</span> at y: (799, 849), x: (1143, 1237) to <button>Passenger(s) 1 Adult </button> at y: (804, 856), x: (1143, 1338),\n",
       " edge FEEDBACK weight 0.611751315561311 from <input>value is M</input> at y: (743, 773), x: (437, 591) to <span>Los Angeles </span> at y: (826, 848), x: (536, 628),\n",
       " edge FEEDBACK weight 0.5640324034928526 from <input></input> at y: (750, 770), x: (652, 905) to <span>LAX</span> at y: (826, 848), x: (628, 656),\n",
       " edge FEEDBACK weight 0.5709958151424855 from <input></input> at y: (750, 770), x: (652, 905) to <span>Sat Sep 23</span> at y: (826, 848), x: (833, 911)]"
      ]
     },
     "execution_count": 47,
     "metadata": {},
     "output_type": "execute_result"
    }
   ],
   "source": [
    "new_relation_graph.edges()"
   ]
  },
  {
   "cell_type": "code",
   "execution_count": null,
   "id": "d68a7f52",
   "metadata": {},
   "outputs": [],
   "source": []
  }
 ],
 "metadata": {
  "kernelspec": {
   "display_name": "Python 3 (ipykernel)",
   "language": "python",
   "name": "python3"
  },
  "language_info": {
   "codemirror_mode": {
    "name": "ipython",
    "version": 3
   },
   "file_extension": ".py",
   "mimetype": "text/x-python",
   "name": "python",
   "nbconvert_exporter": "python",
   "pygments_lexer": "ipython3",
   "version": "3.10.9"
  },
  "toc": {
   "base_numbering": 1,
   "nav_menu": {},
   "number_sections": true,
   "sideBar": true,
   "skip_h1_title": false,
   "title_cell": "Table of Contents",
   "title_sidebar": "Contents",
   "toc_cell": false,
   "toc_position": {},
   "toc_section_display": true,
   "toc_window_display": false
  },
  "varInspector": {
   "cols": {
    "lenName": 16,
    "lenType": 16,
    "lenVar": 40
   },
   "kernels_config": {
    "python": {
     "delete_cmd_postfix": "",
     "delete_cmd_prefix": "del ",
     "library": "var_list.py",
     "varRefreshCmd": "print(var_dic_list())"
    },
    "r": {
     "delete_cmd_postfix": ") ",
     "delete_cmd_prefix": "rm(",
     "library": "var_list.r",
     "varRefreshCmd": "cat(var_dic_list()) "
    }
   },
   "types_to_exclude": [
    "module",
    "function",
    "builtin_function_or_method",
    "instance",
    "_Feature"
   ],
   "window_display": false
  }
 },
 "nbformat": 4,
 "nbformat_minor": 5
}
