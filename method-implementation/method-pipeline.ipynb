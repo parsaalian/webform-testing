{
 "cells": [
  {
   "cell_type": "code",
   "execution_count": 1,
   "id": "6edf3f1c",
   "metadata": {
    "ExecuteTime": {
     "end_time": "2023-06-15T21:12:46.424698Z",
     "start_time": "2023-06-15T21:12:42.664393Z"
    }
   },
   "outputs": [],
   "source": [
    "%load_ext autoreload\n",
    "%autoreload 2\n",
    "\n",
    "\n",
    "import os\n",
    "import openai\n",
    "from dotenv import load_dotenv\n",
    "\n",
    "from selenium.webdriver.common.by import By\n",
    "from bs4 import BeautifulSoup as bs\n",
    "\n",
    "\n",
    "from method.ours.utils import create_driver, embed_properties_into_html\n",
    "from method.ours.preprocessing import get_processable_nodes\n",
    "from method.ours.graph_embedding import create_node2vec_model\n",
    "from method.ours.relation_graph import create_relation_graph\n",
    "from method.ours.node_linking import create_base_links\n",
    "from method.ours.similarity import add_similarity_scores_to_graph\n",
    "from method.ours.edge_pruning import (\n",
    "    prune_relation_graph_extra_edges,\n",
    "    prune_low_score_uncertain_edges\n",
    ")"
   ]
  },
  {
   "cell_type": "code",
   "execution_count": 2,
   "id": "25fb6bb8",
   "metadata": {
    "ExecuteTime": {
     "end_time": "2023-06-15T21:12:47.446991Z",
     "start_time": "2023-06-15T21:12:47.376699Z"
    }
   },
   "outputs": [],
   "source": [
    "load_dotenv()\n",
    "openai.api_key = os.getenv(\"OPENAI_API_KEY\")\n",
    "\n",
    "# Global Variables\n",
    "HEADLESS = False\n",
    "TEXT_EMBEDDING_METHOD = 'ADA' # ['ADA', 'WORD2VEC', 'SPACY']\n",
    "GRAPH_EMBEDDING_METHOD = 'NODE2VEC' # ['NODE2VEC', 'GCN']"
   ]
  },
  {
   "cell_type": "code",
   "execution_count": 3,
   "id": "837ffb01",
   "metadata": {
    "ExecuteTime": {
     "end_time": "2023-06-15T21:12:51.758476Z",
     "start_time": "2023-06-15T21:12:48.280462Z"
    }
   },
   "outputs": [],
   "source": [
    "driver = create_driver(HEADLESS)\n",
    "driver.get('https://www.aircanada.com/ca/en/aco/home.html')"
   ]
  },
  {
   "cell_type": "code",
   "execution_count": 4,
   "id": "2812c532",
   "metadata": {
    "ExecuteTime": {
     "end_time": "2023-06-15T21:13:03.959471Z",
     "start_time": "2023-06-15T21:12:56.697377Z"
    }
   },
   "outputs": [],
   "source": [
    "# form = driver.find_elements(By.TAG_NAME, 'form')[48]\n",
    "# form = driver.find_element(By.ID, 'register')\n",
    "form = driver.find_elements(By.TAG_NAME, 'form')[1]\n",
    "form = embed_properties_into_html(driver, form)\n",
    "\n",
    "form_doc = bs(form.get_attribute('outerHTML'), 'html.parser')"
   ]
  },
  {
   "cell_type": "code",
   "execution_count": 5,
   "id": "7db23425",
   "metadata": {
    "ExecuteTime": {
     "end_time": "2023-06-15T21:13:18.675072Z",
     "start_time": "2023-06-15T21:13:05.123354Z"
    }
   },
   "outputs": [
    {
     "data": {
      "application/vnd.jupyter.widget-view+json": {
       "model_id": "2f5ab5bef09f474b876fd7b127646a4f",
       "version_major": 2,
       "version_minor": 0
      },
      "text/plain": [
       "Computing transition probabilities:   0%|          | 0/340 [00:00<?, ?it/s]"
      ]
     },
     "metadata": {},
     "output_type": "display_data"
    },
    {
     "name": "stderr",
     "output_type": "stream",
     "text": [
      "\r",
      "Generating walks (CPU: 1):   0%|          | 0/50 [00:00<?, ?it/s]\r",
      "Generating walks (CPU: 2):   0%|          | 0/50 [00:00<?, ?it/s]\r",
      "Generating walks (CPU: 3):   0%|          | 0/50 [00:00<?, ?it/s]\r",
      "Generating walks (CPU: 4):   0%|          | 0/50 [00:00<?, ?it/s]\r",
      "Generating walks (CPU: 1): 100%|██████████| 50/50 [00:00<00:00, 885.48it/s]\n",
      "\r",
      "Generating walks (CPU: 2): 100%|██████████| 50/50 [00:00<00:00, 804.77it/s]\n",
      "\r",
      "Generating walks (CPU: 3): 100%|██████████| 50/50 [00:00<00:00, 851.34it/s]\n",
      "\r",
      "Generating walks (CPU: 4): 100%|██████████| 50/50 [00:00<00:00, 935.65it/s]\n"
     ]
    }
   ],
   "source": [
    "form_processable_nodes = get_processable_nodes(form_doc)\n",
    "node2vec_model = create_node2vec_model(form_doc)"
   ]
  },
  {
   "cell_type": "code",
   "execution_count": 6,
   "id": "42078a84",
   "metadata": {
    "ExecuteTime": {
     "end_time": "2023-06-15T21:13:30.308191Z",
     "start_time": "2023-06-15T21:13:20.037931Z"
    }
   },
   "outputs": [
    {
     "name": "stderr",
     "output_type": "stream",
     "text": [
      "100%|█████████████████████████████████████████████████████████████████████████████████████████████████████████████████████████████████████| 36/36 [00:10<00:00,  3.59it/s]"
     ]
    },
    {
     "name": "stdout",
     "output_type": "stream",
     "text": [
      "'edge NLEFT from <input>value is O</input> at y: (567, 597), x: (334, 421) to <input>value is R</input> at y: (567, 597), x: (219, 319)'\n",
      "'edge NLEFT from <input>value is M</input> at y: (567, 597), x: (437, 591) to <input>value is O</input> at y: (567, 597), x: (334, 421)'\n",
      "'edge NLEFT from <button></button> at y: (643, 678), x: (488, 523) to <input></input> at y: (628, 678), x: (198, 466)'\n",
      "'edge NLEFT from <input></input> at y: (628, 678), x: (536, 804) to <button></button> at y: (643, 678), x: (488, 523)'\n",
      "'edge NLEFT from <button></button> at y: (628, 680), x: (1143, 1338) to <button></button> at y: (628, 680), x: (1103, 1123)'\n",
      "'edge NLEFT from <span> 1 Adult </span> at y: (650, 672), x: (1143, 1196) to <span>YVR</span> at y: (650, 672), x: (281, 309)'\n",
      "'edge NLEFT from <input>DD/MM</input> at y: (628, 678), x: (833, 958) to <label>To</label> at y: (628, 678), x: (536, 554)'\n",
      "'edge NLEFT from <span>Passenger(s)</span> at y: (623, 673), x: (1143, 1237) to <label>From</label> at y: (622, 672), x: (198, 237)'\n"
     ]
    },
    {
     "name": "stderr",
     "output_type": "stream",
     "text": [
      "\n",
      "/Library/Frameworks/Python.framework/Versions/3.10/lib/python3.10/site-packages/openai/embeddings_utils.py:68: RuntimeWarning: invalid value encountered in scalar divide\n",
      "  return np.dot(a, b) / (np.linalg.norm(a) * np.linalg.norm(b))\n"
     ]
    }
   ],
   "source": [
    "relation_graph = create_relation_graph(form_processable_nodes, TEXT_EMBEDDING_METHOD)\n",
    "\n",
    "relation_graph = create_base_links(relation_graph)\n",
    "\n",
    "relation_graph = add_similarity_scores_to_graph(node2vec_model, relation_graph)\n",
    "\n",
    "relation_graph = prune_relation_graph_extra_edges(relation_graph)\n",
    "relation_graph = prune_low_score_uncertain_edges(relation_graph, factor=0.5)"
   ]
  },
  {
   "cell_type": "code",
   "execution_count": 23,
   "id": "2319cfa7",
   "metadata": {
    "ExecuteTime": {
     "end_time": "2023-06-15T21:35:33.258988Z",
     "start_time": "2023-06-15T21:35:32.567804Z"
    }
   },
   "outputs": [],
   "source": [
    "input_groups = create_input_groups(relation_graph)\n",
    "input_groups = prune_low_score_group_relations(input_groups, node2vec_model, factor=0.5)"
   ]
  },
  {
   "cell_type": "code",
   "execution_count": 50,
   "id": "bad04521",
   "metadata": {
    "ExecuteTime": {
     "end_time": "2023-06-15T21:42:10.634166Z",
     "start_time": "2023-06-15T21:42:10.393529Z"
    }
   },
   "outputs": [
    {
     "name": "stdout",
     "output_type": "stream",
     "text": [
      "input:\n",
      "<button aria-busy=\"false\" aria-disabled=\"false\" aria-labelledby=\"bkmgFlights_findButtonContent\" class=\"abc-button abc-button-height-default abc-button-theme-blue abc-button-type-primary abc-dir-ltr user-select-none abc-button-has-inset-loader ng-star-inserted\" data-analytics-track=\"home magnet\" data-analytics-val=\"bookingmagnet-flight-find&gt;cash\" id=\"bkmgFlights_findButton\" type=\"submit\" x_end=\"1338\" x_start=\"1170\" xpath=\"//BODY/AC-WEB-APP[1]/DIV[1]/MAIN[1]/DIV[1]/AC-ACOHOME-PAGE[1]/DIV[1]/DIV[1]/AC-BOOKING-MAGNET[1]/DIV[1]/DIV[1]/DIV[1]/DIV[2]/AC-BKMG-FLIGHTS-TAB[1]/DIV[1]/FORM[1]/FIELDSET[1]/DIV[1]/DIV[2]/ABC-BUTTON[1]/BUTTON[1]\" y_end=\"754\" y_start=\"702\"><span class=\"abc-button-content\" id=\"bkmgFlights_findButtonContent\" x_end=\"1306\" x_start=\"1202\" xpath=\"//BODY/AC-WEB-APP[1]/DIV[1]/MAIN[1]/DIV[1]/AC-ACOHOME-PAGE[1]/DIV[1]/DIV[1]/AC-BOOKING-MAGNET[1]/DIV[1]/DIV[1]/DIV[1]/DIV[2]/AC-BKMG-FLIGHTS-TAB[1]/DIV[1]/FORM[1]/FIELDSET[1]/DIV[1]/DIV[2]/ABC-BUTTON[1]/BUTTON[1]/SPAN[1]\" y_end=\"738\" y_start=\"718\"><span class=\"abc-button-text\" x_end=\"1306\" x_start=\"1202\" xpath=\"//BODY/AC-WEB-APP[1]/DIV[1]/MAIN[1]/DIV[1]/AC-ACOHOME-PAGE[1]/DIV[1]/DIV[1]/AC-BOOKING-MAGNET[1]/DIV[1]/DIV[1]/DIV[1]/DIV[2]/AC-BKMG-FLIGHTS-TAB[1]/DIV[1]/FORM[1]/FIELDSET[1]/DIV[1]/DIV[2]/ABC-BUTTON[1]/BUTTON[1]/SPAN[1]/SPAN[1]\" y_end=\"738\" y_start=\"718\"><span-wrap x_end=\"1306\" x_start=\"1202\" xpath=\"//BODY/AC-WEB-APP[1]/DIV[1]/MAIN[1]/DIV[1]/AC-ACOHOME-PAGE[1]/DIV[1]/DIV[1]/AC-BOOKING-MAGNET[1]/DIV[1]/DIV[1]/DIV[1]/DIV[2]/AC-BKMG-FLIGHTS-TAB[1]/DIV[1]/FORM[1]/FIELDSET[1]/DIV[1]/DIV[2]/ABC-BUTTON[1]/BUTTON[1]/SPAN[1]/SPAN[1]/SPAN-WRAP[153]\" y_end=\"738\" y_start=\"718\"> Search flights </span-wrap><span-wrap x_end=\"1306\" x_start=\"1202\" xpath=\"//BODY/AC-WEB-APP[1]/DIV[1]/MAIN[1]/DIV[1]/AC-ACOHOME-PAGE[1]/DIV[1]/DIV[1]/AC-BOOKING-MAGNET[1]/DIV[1]/DIV[1]/DIV[1]/DIV[2]/AC-BKMG-FLIGHTS-TAB[1]/DIV[1]/FORM[1]/FIELDSET[1]/DIV[1]/DIV[2]/ABC-BUTTON[1]/BUTTON[1]/SPAN[1]/SPAN[1]/SPAN-WRAP[154]\" y_end=\"738\" y_start=\"718\"><!-- --></span-wrap></span></span><span-wrap x_end=\"1338\" x_start=\"1170\" xpath=\"//BODY/AC-WEB-APP[1]/DIV[1]/MAIN[1]/DIV[1]/AC-ACOHOME-PAGE[1]/DIV[1]/DIV[1]/AC-BOOKING-MAGNET[1]/DIV[1]/DIV[1]/DIV[1]/DIV[2]/AC-BKMG-FLIGHTS-TAB[1]/DIV[1]/FORM[1]/FIELDSET[1]/DIV[1]/DIV[2]/ABC-BUTTON[1]/BUTTON[1]/SPAN-WRAP[155]\" y_end=\"754\" y_start=\"702\"><!-- --></span-wrap><abc-ripple class=\"ng-star-inserted\" x_end=\"1306\" x_start=\"1306\" xpath=\"//BODY/AC-WEB-APP[1]/DIV[1]/MAIN[1]/DIV[1]/AC-ACOHOME-PAGE[1]/DIV[1]/DIV[1]/AC-BOOKING-MAGNET[1]/DIV[1]/DIV[1]/DIV[1]/DIV[2]/AC-BKMG-FLIGHTS-TAB[1]/DIV[1]/FORM[1]/FIELDSET[1]/DIV[1]/DIV[2]/ABC-BUTTON[1]/BUTTON[1]/ABC-RIPPLE[1]\" y_end=\"728\" y_start=\"728\"><div class=\"abc-ripple-wrapper\" x_end=\"1336\" x_start=\"1172\" xpath=\"//BODY/AC-WEB-APP[1]/DIV[1]/MAIN[1]/DIV[1]/AC-ACOHOME-PAGE[1]/DIV[1]/DIV[1]/AC-BOOKING-MAGNET[1]/DIV[1]/DIV[1]/DIV[1]/DIV[2]/AC-BKMG-FLIGHTS-TAB[1]/DIV[1]/FORM[1]/FIELDSET[1]/DIV[1]/DIV[2]/ABC-BUTTON[1]/BUTTON[1]/ABC-RIPPLE[1]/DIV[1]\" y_end=\"752\" y_start=\"704\"></div></abc-ripple><span-wrap x_end=\"1338\" x_start=\"1170\" xpath=\"//BODY/AC-WEB-APP[1]/DIV[1]/MAIN[1]/DIV[1]/AC-ACOHOME-PAGE[1]/DIV[1]/DIV[1]/AC-BOOKING-MAGNET[1]/DIV[1]/DIV[1]/DIV[1]/DIV[2]/AC-BKMG-FLIGHTS-TAB[1]/DIV[1]/FORM[1]/FIELDSET[1]/DIV[1]/DIV[2]/ABC-BUTTON[1]/BUTTON[1]/SPAN-WRAP[156]\" y_end=\"754\" y_start=\"702\"><!-- --></span-wrap></button>\n",
      "\n"
     ]
    }
   ],
   "source": [
    "print(str(input_groups[12]))"
   ]
  },
  {
   "cell_type": "markdown",
   "id": "eddb8093",
   "metadata": {},
   "source": [
    "# Create Global Connections"
   ]
  },
  {
   "cell_type": "code",
   "execution_count": 96,
   "id": "ee316c79",
   "metadata": {
    "ExecuteTime": {
     "end_time": "2023-06-13T00:08:06.067881Z",
     "start_time": "2023-06-13T00:08:05.977959Z"
    }
   },
   "outputs": [],
   "source": [
    "messages = [\n",
    "    {\n",
    "        'role': 'system',\n",
    "        'content': '''\n",
    "        Your task is to generate a set of assertions for form fields. The list of the assertions and their signatures is as following:\n",
    "\n",
    "        1. toBeEqual(value) # for any input type\n",
    "        2. toHaveLengthCondition(condition, value) # for textual inputs\n",
    "        3. toBeTruthy() # for boolean inputs\n",
    "        4. toHaveCondition(condition, value) # for numeric or date inputs\n",
    "        5. toBeEmpty() # for any input type\n",
    "        6. toMatch(regexPattern) # for textual inputs\n",
    "\n",
    "        generate conditions in the as the sample:\n",
    "\n",
    "        # sample\n",
    "        expect(field('username'))\n",
    "        .toHaveLengthCondition('>', 8)\n",
    "        .toHaveLengthCondition('<', 50)\n",
    "        .not.toBeEmpty()\n",
    "        # end of sample\n",
    "\n",
    "        if there are multiple inputs that should have the relation with each other, you can use a format such as:\n",
    "\n",
    "        # sample\n",
    "        expect(field('password'))\n",
    "        .toBe(field('confirm password'))\n",
    "        # end of sample\n",
    "\n",
    "        Only generate the assertions and nothing else. Only generate assertions for the inputs in question, and not the ones in the relevant information section.\n",
    "        '''\n",
    "    },\n",
    "    {\n",
    "        'role': 'user',\n",
    "        'content': \"\"\"\n",
    "            We are filling the following field in the form:\n",
    "            <input id=\"register_password\" aria-required=\"true\" type=\"password\" class=\"ant-input css-dfjnss\">\n",
    "\n",
    "            The relevant information available in the form are (in order of relevance):\n",
    "            1. <label for=\"register_password\" class=\"ant-form-item-required\" title=\"Password\">Password</label>\n",
    "            2. <input id=\"register_confirm\" aria-required=\"true\" type=\"password\" class=\"ant-input css-dfjnss\">\n",
    "            3. <label for=\"register_confirm\" class=\"ant-form-item-required\" title=\"Confirm Password\">Confirm Password</label>\n",
    "        \"\"\"\n",
    "    }\n",
    "]"
   ]
  },
  {
   "cell_type": "code",
   "execution_count": 97,
   "id": "75db4b8e",
   "metadata": {
    "ExecuteTime": {
     "end_time": "2023-06-13T00:08:16.089960Z",
     "start_time": "2023-06-13T00:08:07.365991Z"
    }
   },
   "outputs": [],
   "source": [
    "response = openai.ChatCompletion.create(\n",
    "    # model='gpt-3.5-turbo',\n",
    "    model='gpt-4',\n",
    "    messages=messages,\n",
    "    temperature=0.5,\n",
    ")"
   ]
  },
  {
   "cell_type": "code",
   "execution_count": 98,
   "id": "734a19eb",
   "metadata": {
    "ExecuteTime": {
     "end_time": "2023-06-13T00:08:16.478459Z",
     "start_time": "2023-06-13T00:08:16.413323Z"
    },
    "scrolled": true
   },
   "outputs": [
    {
     "name": "stdout",
     "output_type": "stream",
     "text": [
      "expect(field('register_password'))\n",
      ".toHaveLengthCondition('>', 8)\n",
      ".toHaveLengthCondition('<', 50)\n",
      ".not.toBeEmpty()\n",
      ".toMatch(/^(?=.*[a-z])(?=.*[A-Z])(?=.*\\d)[a-zA-Z\\d]{8,50}$/)\n",
      "\n",
      "expect(field('register_password'))\n",
      ".toBe(field('register_confirm'))\n"
     ]
    }
   ],
   "source": [
    "response_text = response.choices[0].message.content\n",
    "print(response_text)"
   ]
  },
  {
   "cell_type": "code",
   "execution_count": null,
   "id": "a783e724",
   "metadata": {},
   "outputs": [],
   "source": []
  }
 ],
 "metadata": {
  "kernelspec": {
   "display_name": "Python 3 (ipykernel)",
   "language": "python",
   "name": "python3"
  },
  "language_info": {
   "codemirror_mode": {
    "name": "ipython",
    "version": 3
   },
   "file_extension": ".py",
   "mimetype": "text/x-python",
   "name": "python",
   "nbconvert_exporter": "python",
   "pygments_lexer": "ipython3",
   "version": "3.10.9"
  },
  "toc": {
   "base_numbering": 1,
   "nav_menu": {},
   "number_sections": true,
   "sideBar": true,
   "skip_h1_title": false,
   "title_cell": "Table of Contents",
   "title_sidebar": "Contents",
   "toc_cell": false,
   "toc_position": {},
   "toc_section_display": true,
   "toc_window_display": false
  },
  "varInspector": {
   "cols": {
    "lenName": 16,
    "lenType": 16,
    "lenVar": 40
   },
   "kernels_config": {
    "python": {
     "delete_cmd_postfix": "",
     "delete_cmd_prefix": "del ",
     "library": "var_list.py",
     "varRefreshCmd": "print(var_dic_list())"
    },
    "r": {
     "delete_cmd_postfix": ") ",
     "delete_cmd_prefix": "rm(",
     "library": "var_list.r",
     "varRefreshCmd": "cat(var_dic_list()) "
    }
   },
   "types_to_exclude": [
    "module",
    "function",
    "builtin_function_or_method",
    "instance",
    "_Feature"
   ],
   "window_display": false
  }
 },
 "nbformat": 4,
 "nbformat_minor": 5
}
