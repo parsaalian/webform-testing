{
 "cells": [
  {
   "cell_type": "code",
   "execution_count": 1,
   "id": "d229fc1e",
   "metadata": {
    "ExecuteTime": {
     "end_time": "2023-06-16T16:39:48.291162Z",
     "start_time": "2023-06-16T16:39:48.256451Z"
    }
   },
   "outputs": [],
   "source": [
    "%load_ext autoreload\n",
    "%autoreload 2"
   ]
  },
  {
   "cell_type": "code",
   "execution_count": 2,
   "id": "6edf3f1c",
   "metadata": {
    "ExecuteTime": {
     "end_time": "2023-06-16T16:39:53.884596Z",
     "start_time": "2023-06-16T16:39:49.016972Z"
    }
   },
   "outputs": [],
   "source": [
    "import os\n",
    "import time\n",
    "import openai\n",
    "from dotenv import load_dotenv\n",
    "\n",
    "from selenium.webdriver.common.by import By\n",
    "from bs4 import BeautifulSoup as bs\n",
    "\n",
    "\n",
    "from method.ours.utils import create_driver, embed_properties_into_html\n",
    "from method.ours.preprocessing import get_processable_nodes\n",
    "from method.ours.graph_embedding import create_node2vec_model\n",
    "from method.ours.relation_graph import create_relation_graph\n",
    "from method.ours.node_linking import create_base_links\n",
    "from method.ours.similarity import add_similarity_scores_to_graph\n",
    "from method.ours.edge_pruning import (\n",
    "    prune_relation_graph_extra_edges,\n",
    "    prune_low_score_uncertain_edges\n",
    ")\n",
    "from method.ours.input_group import (\n",
    "    create_input_groups,\n",
    "    prune_low_score_group_relations\n",
    ")"
   ]
  },
  {
   "cell_type": "code",
   "execution_count": 3,
   "id": "25fb6bb8",
   "metadata": {
    "ExecuteTime": {
     "end_time": "2023-06-16T16:39:54.563558Z",
     "start_time": "2023-06-16T16:39:54.470268Z"
    }
   },
   "outputs": [],
   "source": [
    "load_dotenv()\n",
    "openai.api_key = os.getenv(\"OPENAI_API_KEY\")\n",
    "\n",
    "# Global Variables\n",
    "HEADLESS = False\n",
    "TEXT_EMBEDDING_METHOD = 'ADA' # ['ADA', 'WORD2VEC', 'SPACY']\n",
    "GRAPH_EMBEDDING_METHOD = 'NODE2VEC' # ['NODE2VEC', 'GCN']"
   ]
  },
  {
   "cell_type": "code",
   "execution_count": 4,
   "id": "837ffb01",
   "metadata": {
    "ExecuteTime": {
     "end_time": "2023-06-16T16:39:59.983194Z",
     "start_time": "2023-06-16T16:39:55.139543Z"
    }
   },
   "outputs": [],
   "source": [
    "driver = create_driver(HEADLESS)\n",
    "driver.get('https://www.aircanada.com/ca/en/aco/home.html')"
   ]
  },
  {
   "cell_type": "code",
   "execution_count": 5,
   "id": "2812c532",
   "metadata": {
    "ExecuteTime": {
     "end_time": "2023-06-16T16:40:02.075822Z",
     "start_time": "2023-06-16T16:40:01.960258Z"
    }
   },
   "outputs": [],
   "source": [
    "# form = driver.find_elements(By.TAG_NAME, 'form')[48]\n",
    "# form = driver.find_element(By.ID, 'register')\n",
    "form = driver.find_elements(By.TAG_NAME, 'form')[1]"
   ]
  },
  {
   "cell_type": "code",
   "execution_count": 6,
   "id": "7db23425",
   "metadata": {
    "ExecuteTime": {
     "end_time": "2023-06-16T16:40:02.914841Z",
     "start_time": "2023-06-16T16:40:02.820813Z"
    }
   },
   "outputs": [],
   "source": [
    "def parse_form(form):\n",
    "    form = embed_properties_into_html(driver, form)\n",
    "    form_doc = bs(form.get_attribute('outerHTML'), 'html.parser')\n",
    "    \n",
    "    form_processable_nodes = get_processable_nodes(form_doc)\n",
    "    node2vec_model = create_node2vec_model(form_doc)\n",
    "    \n",
    "    relation_graph = create_relation_graph(form_processable_nodes, TEXT_EMBEDDING_METHOD)\n",
    "\n",
    "    relation_graph = create_base_links(relation_graph)\n",
    "\n",
    "    relation_graph = add_similarity_scores_to_graph(node2vec_model, relation_graph)\n",
    "\n",
    "    relation_graph = prune_relation_graph_extra_edges(relation_graph)\n",
    "    relation_graph = prune_low_score_uncertain_edges(relation_graph, factor=0.5)\n",
    "    \n",
    "    input_groups = create_input_groups(relation_graph)\n",
    "    input_groups = prune_low_score_group_relations(input_groups, node2vec_model, factor=0.5)\n",
    "    \n",
    "    return input_groups"
   ]
  },
  {
   "cell_type": "code",
   "execution_count": 7,
   "id": "69dd1802",
   "metadata": {
    "ExecuteTime": {
     "end_time": "2023-06-16T16:40:46.734716Z",
     "start_time": "2023-06-16T16:40:03.677556Z"
    }
   },
   "outputs": [
    {
     "data": {
      "application/vnd.jupyter.widget-view+json": {
       "model_id": "50cb19cba3bf4139b3312d7e1803f14a",
       "version_major": 2,
       "version_minor": 0
      },
      "text/plain": [
       "Computing transition probabilities:   0%|          | 0/340 [00:00<?, ?it/s]"
      ]
     },
     "metadata": {},
     "output_type": "display_data"
    },
    {
     "name": "stderr",
     "output_type": "stream",
     "text": [
      "Generating walks (CPU: 1): 100%|██████████| 50/50 [00:00<00:00, 519.05it/s]\n",
      "Generating walks (CPU: 2): 100%|██████████| 50/50 [00:00<00:00, 499.41it/s]\n",
      "Generating walks (CPU: 3): 100%|██████████| 50/50 [00:00<00:00, 462.07it/s]\n",
      "Generating walks (CPU: 4): 100%|██████████| 50/50 [00:00<00:00, 466.34it/s]\n",
      "100%|█████████████████████████████████████████████████████████████████████████████████████████████████████████████████████████████████████| 36/36 [00:08<00:00,  4.13it/s]\n",
      "/Library/Frameworks/Python.framework/Versions/3.10/lib/python3.10/site-packages/openai/embeddings_utils.py:68: RuntimeWarning: invalid value encountered in scalar divide\n",
      "  return np.dot(a, b) / (np.linalg.norm(a) * np.linalg.norm(b))\n"
     ]
    },
    {
     "name": "stdout",
     "output_type": "stream",
     "text": [
      "running time: 42.94207978248596\n"
     ]
    }
   ],
   "source": [
    "t0 = time.time()\n",
    "input_groups = parse_form(form)\n",
    "print('running time:', time.time() - t0)"
   ]
  },
  {
   "cell_type": "markdown",
   "id": "94d7ac28",
   "metadata": {},
   "source": [
    "# Constraint Generation"
   ]
  },
  {
   "cell_type": "code",
   "execution_count": 98,
   "id": "74bdad88",
   "metadata": {
    "ExecuteTime": {
     "end_time": "2023-06-16T21:39:22.624778Z",
     "start_time": "2023-06-16T21:39:22.550619Z"
    }
   },
   "outputs": [
    {
     "data": {
      "text/plain": [
       "<input id=\"bkmgFlights_travelDates_1-formfield-2\" name=\"bkmgFlights_travelDates_1-formfield-2\" type=\"text\"/>"
      ]
     },
     "execution_count": 98,
     "metadata": {},
     "output_type": "execute_result"
    }
   ],
   "source": [
    "input_group = input_groups[8]\n",
    "input_group.node.element"
   ]
  },
  {
   "cell_type": "code",
   "execution_count": 99,
   "id": "6030effe",
   "metadata": {
    "ExecuteTime": {
     "end_time": "2023-06-16T21:39:30.372247Z",
     "start_time": "2023-06-16T21:39:30.297168Z"
    }
   },
   "outputs": [],
   "source": [
    "input_data_str = str(input_group)\n",
    "\n",
    "relevant_input_groups = list(map(\n",
    "    lambda x: str(x[0]).split('with the following relevant text tags')[0],\n",
    "    sorted(input_group.edges, key=lambda x: x[1], reverse=True)\n",
    "))\n",
    "\n",
    "relevant_input_groups_str = \"\\n\".join(\n",
    "    map(lambda data: f'''{data[0] + 1}.\\n{data[1]}'''.strip(), enumerate(relevant_input_groups[:3]))\n",
    ")\n",
    "\n",
    "\n",
    "input_prompt = f'''\n",
    "We are filling the following field in the form:\n",
    "{input_data_str}\n",
    "\n",
    "The relevant information available in the form are (in order of relevance):\n",
    "{relevant_input_groups_str}\n",
    "'''"
   ]
  },
  {
   "cell_type": "code",
   "execution_count": 100,
   "id": "7851cf8b",
   "metadata": {
    "ExecuteTime": {
     "end_time": "2023-06-16T21:39:31.073266Z",
     "start_time": "2023-06-16T21:39:31.001204Z"
    }
   },
   "outputs": [
    {
     "name": "stdout",
     "output_type": "stream",
     "text": [
      "\n",
      "We are filling the following field in the form:\n",
      "input: <input id=\"bkmgFlights_travelDates_1-formfield-2\" name=\"bkmgFlights_travelDates_1-formfield-2\" type=\"text\"/>\n",
      "with label: Return\n",
      "with the following relevant text tags:\n",
      "<span>Return</span>\n",
      "\n",
      "The relevant information available in the form are (in order of relevance):\n",
      "1.\n",
      "input: <input id=\"bkmgFlights_travelDates_1-formfield-1\" name=\"bkmgFlights_travelDates_1-formfield-1\" type=\"text\"/>\n",
      "with label: Departure\n",
      "2.\n",
      "input: <input id=\"bkmgFlights_tripTypeSelector_M\" name=\"tripType\" type=\"radio\"/>\n",
      "with label: Multi-city/Stopover\n",
      "3.\n",
      "input: <input id=\"bkmgFlights_origin_trip_1\" name=\"bkmgFlights_origin_trip_1\" type=\"text\"/>\n",
      "with label: From\n",
      "\n"
     ]
    }
   ],
   "source": [
    "print(input_prompt)"
   ]
  },
  {
   "cell_type": "code",
   "execution_count": 112,
   "id": "8169b4fb",
   "metadata": {
    "ExecuteTime": {
     "end_time": "2023-06-16T21:41:47.598421Z",
     "start_time": "2023-06-16T21:41:47.517972Z"
    }
   },
   "outputs": [],
   "source": [
    "system_prompt = '''\n",
    "Your task is to generate a set of assertions for form fields. Your decisions must be made independently without seeking user assistance or additional information.\n",
    "\n",
    "The list of the assertions and their signatures is as follows:\n",
    "\n",
    "1. toBe(value) # the input field value exactly matches the given value\n",
    "2. toHaveLengthCondition(condition, value) # the length of the input field value matches the given condition\n",
    "3. toBeTruthy() # the input field value is truthy and not empty (not false, 0, '', null, undefined, or NaN)\n",
    "4. toHaveCompareCondition(condition, value) # the input field value has the given condition to the given value\n",
    "5. toContainSubstr(value) # the input field value contains a specific string\n",
    "6. toContainChar(value) # the input field value contains a specific character\n",
    "7. toBeAlpha() # the input field value is alphabetic\n",
    "8. toBeNumeric() # the input field value is numeric\n",
    "9. toBeAlphaNumeric() # the input value contains both alphabetical and numeric characters\n",
    "10. toHaveUpperCase() # the input value field contains upper case characters\n",
    "11. toHaveSpecialChars() # the input value field contains special characters\n",
    "12. toHaveWhiteSpace() # the input value field contains whitespace\n",
    "13. toStartWith(value) # the input value field must start with a certain value\n",
    "14. toEndWith(value) # the input value field must end with a certain value\n",
    "15. toMatch(regex) # the input value field must match a certain regex pattern\n",
    "\n",
    "generate conditions in the as the sample:\n",
    "\n",
    "# sample\n",
    "expect(field('password'))\n",
    ".toHaveLengthCondition('>', 8)\n",
    ".toHaveLengthCondition('<', 50)\n",
    ".toBeAlphaNumeric()\n",
    ".toHaveUpperCase()\n",
    ".toHaveSpecialChars()\n",
    ".not.toBeTruthy()\n",
    ".toBeExactlyEqual(field('confirm password'))\n",
    "# end of sample\n",
    "\n",
    "If there are multiple ways to express assertions, use the one with the least number of assertions to describe it.\n",
    "Only generate the assertions and don't explain your answers.\n",
    "Only generate assertions for the inputs in question, not those in the relevant information section.\n",
    "'''\n",
    "\n",
    "\n",
    "messages = [\n",
    "    {\n",
    "        'role': 'system',\n",
    "        'content': system_prompt\n",
    "    },\n",
    "    {\n",
    "        'role': 'user',\n",
    "        'content': input_prompt\n",
    "    }\n",
    "]"
   ]
  },
  {
   "cell_type": "code",
   "execution_count": 113,
   "id": "75db4b8e",
   "metadata": {
    "ExecuteTime": {
     "end_time": "2023-06-16T21:41:54.560489Z",
     "start_time": "2023-06-16T21:41:49.080740Z"
    }
   },
   "outputs": [],
   "source": [
    "response = openai.ChatCompletion.create(\n",
    "    # model='gpt-3.5-turbo',\n",
    "    model='gpt-4',\n",
    "    messages=messages,\n",
    "    temperature=0,\n",
    ")"
   ]
  },
  {
   "cell_type": "code",
   "execution_count": 114,
   "id": "734a19eb",
   "metadata": {
    "ExecuteTime": {
     "end_time": "2023-06-16T21:41:55.132129Z",
     "start_time": "2023-06-16T21:41:55.068625Z"
    },
    "scrolled": true
   },
   "outputs": [
    {
     "name": "stdout",
     "output_type": "stream",
     "text": [
      "expect(field('bkmgFlights_travelDates_1-formfield-2'))\n",
      ".toBeTruthy()\n",
      ".toHaveCompareCondition('>', field('bkmgFlights_travelDates_1-formfield-1'))\n"
     ]
    }
   ],
   "source": [
    "response_text = response.choices[0].message.content\n",
    "print(response_text)"
   ]
  },
  {
   "cell_type": "code",
   "execution_count": 115,
   "id": "c6349de3",
   "metadata": {
    "ExecuteTime": {
     "end_time": "2023-06-16T21:41:57.030328Z",
     "start_time": "2023-06-16T21:41:56.958195Z"
    }
   },
   "outputs": [],
   "source": [
    "from method.ours.constraints import ConstraintFactory"
   ]
  },
  {
   "cell_type": "code",
   "execution_count": 116,
   "id": "a783e724",
   "metadata": {
    "ExecuteTime": {
     "end_time": "2023-06-16T21:41:57.579626Z",
     "start_time": "2023-06-16T21:41:57.516666Z"
    }
   },
   "outputs": [],
   "source": [
    "constraint_strings = response_text.split('\\n.')[1:]"
   ]
  },
  {
   "cell_type": "code",
   "execution_count": 118,
   "id": "0b1eb2aa",
   "metadata": {
    "ExecuteTime": {
     "end_time": "2023-06-16T21:42:11.498990Z",
     "start_time": "2023-06-16T21:42:07.726139Z"
    }
   },
   "outputs": [],
   "source": [
    "constraints = list(map(ConstraintFactory.create, constraint_strings))"
   ]
  },
  {
   "cell_type": "code",
   "execution_count": 119,
   "id": "f63c9e74",
   "metadata": {
    "ExecuteTime": {
     "end_time": "2023-06-16T21:42:12.780668Z",
     "start_time": "2023-06-16T21:42:12.712253Z"
    }
   },
   "outputs": [],
   "source": [
    "input_constraints_string = '\\n'.join(map(lambda x: x.to_prompt_string(), constraints))\n",
    "\n",
    "\n",
    "value_generation_prompt = f'''\n",
    "{input_prompt}\n",
    "\n",
    "generate values based on the following constraints:\n",
    "{input_constraints_string}\n",
    "'''"
   ]
  },
  {
   "cell_type": "code",
   "execution_count": 120,
   "id": "712b405d",
   "metadata": {
    "ExecuteTime": {
     "end_time": "2023-06-16T21:42:13.346207Z",
     "start_time": "2023-06-16T21:42:13.279863Z"
    }
   },
   "outputs": [
    {
     "name": "stdout",
     "output_type": "stream",
     "text": [
      "\n",
      "\n",
      "We are filling the following field in the form:\n",
      "input: <input id=\"bkmgFlights_travelDates_1-formfield-2\" name=\"bkmgFlights_travelDates_1-formfield-2\" type=\"text\"/>\n",
      "with label: Return\n",
      "with the following relevant text tags:\n",
      "<span>Return</span>\n",
      "\n",
      "The relevant information available in the form are (in order of relevance):\n",
      "1.\n",
      "input: <input id=\"bkmgFlights_travelDates_1-formfield-1\" name=\"bkmgFlights_travelDates_1-formfield-1\" type=\"text\"/>\n",
      "with label: Departure\n",
      "2.\n",
      "input: <input id=\"bkmgFlights_tripTypeSelector_M\" name=\"tripType\" type=\"radio\"/>\n",
      "with label: Multi-city/Stopover\n",
      "3.\n",
      "input: <input id=\"bkmgFlights_origin_trip_1\" name=\"bkmgFlights_origin_trip_1\" type=\"text\"/>\n",
      "with label: From\n",
      "\n",
      "\n",
      "generate values based on the following constraints:\n",
      "input field should be non-empty\n",
      "input field should be  field('bkmgFlights_travelDates_1-formfield-1')\n",
      "\n"
     ]
    }
   ],
   "source": [
    "print(value_generation_prompt)"
   ]
  },
  {
   "cell_type": "code",
   "execution_count": 121,
   "id": "fc67249b",
   "metadata": {
    "ExecuteTime": {
     "end_time": "2023-06-16T21:42:30.163622Z",
     "start_time": "2023-06-16T21:42:30.086036Z"
    }
   },
   "outputs": [],
   "source": [
    "system_value_prompt = '''\n",
    "Your task is to generate a set of values for a form field based on the form field information and a set of constraints on the field. Your decisions must always be made independently without seeking user assistance or additional information.\n",
    "For each user prompt, you need to generate five distinct values that satisfy the constraints while keeping in mind the nature of the input from the available information.\n",
    "Only generate the values and don't explain your answers.\n",
    "Generate the values in a Python array. We must be able to parse your generation with json.loads.\n",
    "Only generate values for the inputs in question, and not the ones in the relevant information section.\n",
    "'''\n",
    "\n",
    "filling_messages = [\n",
    "    {\n",
    "        'role': 'system',\n",
    "        'content': system_value_prompt\n",
    "    },\n",
    "    {\n",
    "        'role': 'user',\n",
    "        'content': value_generation_prompt\n",
    "    }\n",
    "]"
   ]
  },
  {
   "cell_type": "code",
   "execution_count": 122,
   "id": "defe277d",
   "metadata": {
    "ExecuteTime": {
     "end_time": "2023-06-16T21:42:38.084434Z",
     "start_time": "2023-06-16T21:42:32.446806Z"
    }
   },
   "outputs": [],
   "source": [
    "response = openai.ChatCompletion.create(\n",
    "    # model='gpt-3.5-turbo',\n",
    "    model='gpt-4',\n",
    "    messages=filling_messages,\n",
    "    temperature=0,\n",
    ")"
   ]
  },
  {
   "cell_type": "code",
   "execution_count": 123,
   "id": "db2c71e3",
   "metadata": {
    "ExecuteTime": {
     "end_time": "2023-06-16T21:42:40.276919Z",
     "start_time": "2023-06-16T21:42:40.206392Z"
    }
   },
   "outputs": [
    {
     "name": "stdout",
     "output_type": "stream",
     "text": [
      "[\"2022-10-15\", \"2022-11-20\", \"2022-12-25\", \"2023-01-10\", \"2023-02-14\"]\n"
     ]
    }
   ],
   "source": [
    "response_text = response.choices[0].message.content\n",
    "print(response_text)"
   ]
  },
  {
   "cell_type": "code",
   "execution_count": null,
   "id": "aac68542",
   "metadata": {},
   "outputs": [],
   "source": []
  }
 ],
 "metadata": {
  "kernelspec": {
   "display_name": "Python 3 (ipykernel)",
   "language": "python",
   "name": "python3"
  },
  "language_info": {
   "codemirror_mode": {
    "name": "ipython",
    "version": 3
   },
   "file_extension": ".py",
   "mimetype": "text/x-python",
   "name": "python",
   "nbconvert_exporter": "python",
   "pygments_lexer": "ipython3",
   "version": "3.10.9"
  },
  "toc": {
   "base_numbering": 1,
   "nav_menu": {},
   "number_sections": true,
   "sideBar": true,
   "skip_h1_title": false,
   "title_cell": "Table of Contents",
   "title_sidebar": "Contents",
   "toc_cell": false,
   "toc_position": {},
   "toc_section_display": true,
   "toc_window_display": false
  },
  "varInspector": {
   "cols": {
    "lenName": 16,
    "lenType": 16,
    "lenVar": 40
   },
   "kernels_config": {
    "python": {
     "delete_cmd_postfix": "",
     "delete_cmd_prefix": "del ",
     "library": "var_list.py",
     "varRefreshCmd": "print(var_dic_list())"
    },
    "r": {
     "delete_cmd_postfix": ") ",
     "delete_cmd_prefix": "rm(",
     "library": "var_list.r",
     "varRefreshCmd": "cat(var_dic_list()) "
    }
   },
   "types_to_exclude": [
    "module",
    "function",
    "builtin_function_or_method",
    "instance",
    "_Feature"
   ],
   "window_display": false
  }
 },
 "nbformat": 4,
 "nbformat_minor": 5
}
