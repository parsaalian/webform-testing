{
 "cells": [
  {
   "cell_type": "code",
   "execution_count": 1,
   "id": "915a2af9",
   "metadata": {
    "ExecuteTime": {
     "end_time": "2023-06-14T03:32:44.859234Z",
     "start_time": "2023-06-14T03:32:44.827190Z"
    }
   },
   "outputs": [],
   "source": [
    "%load_ext autoreload\n",
    "%autoreload 2"
   ]
  },
  {
   "cell_type": "code",
   "execution_count": 2,
   "id": "6edf3f1c",
   "metadata": {
    "ExecuteTime": {
     "end_time": "2023-06-14T03:32:50.233856Z",
     "start_time": "2023-06-14T03:32:44.861850Z"
    }
   },
   "outputs": [],
   "source": [
    "import os\n",
    "import openai\n",
    "from dotenv import load_dotenv\n",
    "\n",
    "from selenium.webdriver.common.by import By\n",
    "from bs4 import BeautifulSoup as bs\n",
    "\n",
    "from method.ours import (\n",
    "    create_driver,\n",
    "    embed_properties,\n",
    "    get_processable_nodes,\n",
    "    create_relations_graph,\n",
    "    create_2d_span_ordered_dict,\n",
    "    add_for_links,\n",
    "    add_parent_child_links,\n",
    "    add_left_right_links,\n",
    "    add_top_bottom_links,\n",
    ")"
   ]
  },
  {
   "cell_type": "code",
   "execution_count": 3,
   "id": "25fb6bb8",
   "metadata": {
    "ExecuteTime": {
     "end_time": "2023-06-14T03:32:53.873274Z",
     "start_time": "2023-06-14T03:32:53.791266Z"
    }
   },
   "outputs": [],
   "source": [
    "load_dotenv()\n",
    "openai.api_key = os.getenv(\"OPENAI_API_KEY\")"
   ]
  },
  {
   "cell_type": "code",
   "execution_count": 4,
   "id": "ef4c1972",
   "metadata": {
    "ExecuteTime": {
     "end_time": "2023-06-14T03:32:54.515023Z",
     "start_time": "2023-06-14T03:32:54.434804Z"
    }
   },
   "outputs": [],
   "source": [
    "# Global Variables\n",
    "HEADLESS = False\n",
    "TEXT_EMBEDDING_METHOD = 'ADA' # ['ADA', 'WORD2VEC', 'SPACY']\n",
    "GRAPH_EMBEDDING_METHOD = 'NODE2VEC' # ['NODE2VEC', 'GCN']"
   ]
  },
  {
   "cell_type": "code",
   "execution_count": 5,
   "id": "837ffb01",
   "metadata": {
    "ExecuteTime": {
     "end_time": "2023-06-14T03:33:00.950783Z",
     "start_time": "2023-06-14T03:32:55.051033Z"
    }
   },
   "outputs": [],
   "source": [
    "driver = create_driver(HEADLESS)\n",
    "driver.get('https://ant.design/components/form')"
   ]
  },
  {
   "cell_type": "code",
   "execution_count": 6,
   "id": "2812c532",
   "metadata": {
    "ExecuteTime": {
     "end_time": "2023-06-14T03:33:44.587412Z",
     "start_time": "2023-06-14T03:33:34.611430Z"
    }
   },
   "outputs": [],
   "source": [
    "# form = driver.find_elements(By.TAG_NAME, 'form')[48]\n",
    "form = driver.find_element(By.ID, 'register')\n",
    "form = embed_properties(driver, form)\n",
    "\n",
    "form_doc = bs(form.get_attribute('outerHTML'), 'html.parser')"
   ]
  },
  {
   "cell_type": "code",
   "execution_count": 7,
   "id": "d9cd0e68",
   "metadata": {
    "ExecuteTime": {
     "end_time": "2023-06-14T03:33:46.717777Z",
     "start_time": "2023-06-14T03:33:46.637468Z"
    }
   },
   "outputs": [],
   "source": [
    "form_processable_nodes = get_processable_nodes(form_doc)"
   ]
  },
  {
   "cell_type": "code",
   "execution_count": 8,
   "id": "1401237e",
   "metadata": {
    "ExecuteTime": {
     "end_time": "2023-06-14T03:33:55.820059Z",
     "start_time": "2023-06-14T03:33:47.162540Z"
    }
   },
   "outputs": [
    {
     "name": "stderr",
     "output_type": "stream",
     "text": [
      "100%|███████████████████████████████████████████| 39/39 [00:08<00:00,  4.56it/s]\n"
     ]
    }
   ],
   "source": [
    "relation_graph = create_relations_graph(form_processable_nodes, TEXT_EMBEDDING_METHOD)"
   ]
  },
  {
   "cell_type": "code",
   "execution_count": 9,
   "id": "9728a667",
   "metadata": {
    "ExecuteTime": {
     "end_time": "2023-06-14T03:34:02.888977Z",
     "start_time": "2023-06-14T03:34:02.737172Z"
    }
   },
   "outputs": [
    {
     "name": "stderr",
     "output_type": "stream",
     "text": [
      "100%|████████████████████████████████████████| 39/39 [00:00<00:00, 77525.05it/s]\n",
      "100%|██████████████████████████████████████████| 2/2 [00:00<00:00, 26715.31it/s]\n",
      "100%|███████████████████████████████████████████| 2/2 [00:00<00:00, 9903.91it/s]\n",
      "100%|██████████████████████████████████████████| 2/2 [00:00<00:00, 25970.92it/s]\n",
      "100%|███████████████████████████████████████████| 2/2 [00:00<00:00, 8128.50it/s]\n",
      "100%|██████████████████████████████████████████| 3/3 [00:00<00:00, 13457.66it/s]\n",
      "100%|███████████████████████████████████████████| 4/4 [00:00<00:00, 9636.54it/s]\n",
      "100%|██████████████████████████████████████████| 4/4 [00:00<00:00, 38479.85it/s]\n",
      "100%|███████████████████████████████████████████| 2/2 [00:00<00:00, 6311.97it/s]\n",
      "100%|██████████████████████████████████████████| 1/1 [00:00<00:00, 11915.64it/s]\n",
      "100%|██████████████████████████████████████████| 2/2 [00:00<00:00, 24966.10it/s]\n",
      "100%|██████████████████████████████████████████| 1/1 [00:00<00:00, 10645.44it/s]\n",
      "100%|██████████████████████████████████████████| 3/3 [00:00<00:00, 32939.56it/s]\n",
      "100%|██████████████████████████████████████████| 4/4 [00:00<00:00, 43018.50it/s]\n",
      "100%|██████████████████████████████████████████| 1/1 [00:00<00:00, 12372.58it/s]\n",
      "100%|██████████████████████████████████████████| 2/2 [00:00<00:00, 18196.55it/s]\n",
      "100%|██████████████████████████████████████████| 2/2 [00:00<00:00, 11699.59it/s]\n",
      "100%|██████████████████████████████████████████| 2/2 [00:00<00:00, 23301.69it/s]\n"
     ]
    }
   ],
   "source": [
    "spans_2d = create_2d_span_ordered_dict(relation_graph)"
   ]
  },
  {
   "cell_type": "code",
   "execution_count": 10,
   "id": "261c4673",
   "metadata": {
    "ExecuteTime": {
     "end_time": "2023-06-14T03:34:08.245601Z",
     "start_time": "2023-06-14T03:34:08.146493Z"
    }
   },
   "outputs": [],
   "source": [
    "relation_graph = add_for_links(relation_graph)\n",
    "relation_graph = add_parent_child_links(spans_2d, relation_graph)\n",
    "relation_graph = add_left_right_links(spans_2d, relation_graph)\n",
    "relation_graph = add_top_bottom_links(spans_2d, relation_graph)"
   ]
  },
  {
   "cell_type": "code",
   "execution_count": 11,
   "id": "8e3658b6",
   "metadata": {
    "ExecuteTime": {
     "end_time": "2023-06-14T03:34:09.349843Z",
     "start_time": "2023-06-14T03:34:09.245170Z"
    }
   },
   "outputs": [],
   "source": [
    "import numpy as np\n",
    "from tqdm import tqdm\n",
    "\n",
    "import networkx as nx\n",
    "\n",
    "from bs4 import NavigableString, Comment\n",
    "\n",
    "from method.ours.relation_graph import EdgeDir, EdgeType\n",
    "\n",
    "\n",
    "xpath_to_node = {\n",
    "    node.xpath: node for node in relation_graph.nodes()\n",
    "}\n",
    "\n",
    "feature_len = len(list(xpath_to_node.values())[0].features)\n",
    "\n",
    "\n",
    "def get_node_feature(xpath):\n",
    "    if xpath in xpath_to_node:\n",
    "        return xpath_to_node[xpath].features\n",
    "    return [0 for i in range(feature_len)]\n",
    "\n",
    "\n",
    "def create_graph(soup):\n",
    "    G = nx.DiGraph()\n",
    "\n",
    "    for tag in soup.find_all():\n",
    "        xpath = tag.attrs['xpath']\n",
    "        \n",
    "        if xpath not in G:\n",
    "            G.add_node(xpath, x=get_node_feature(xpath))\n",
    "        for child in tag.children:\n",
    "            if isinstance(child, Comment) or isinstance(child, NavigableString):\n",
    "                continue\n",
    "            child_xpath = child.attrs.get('xpath')\n",
    "            if child_xpath not in G:\n",
    "                G.add_node(child_xpath, x=get_node_feature(child_xpath))\n",
    "            G.add_edge(xpath, child_xpath)\n",
    "        \n",
    "        if xpath in xpath_to_node:\n",
    "            for edge in xpath_to_node[xpath].edges[EdgeDir.OUT].values():\n",
    "                target_xpath = edge.target.xpath\n",
    "                if target_xpath not in G:\n",
    "                    G.add_node(target_xpath, x=get_node_feature(target_xpath))\n",
    "                G.add_edge(xpath, target_xpath)\n",
    "\n",
    "    return G"
   ]
  },
  {
   "cell_type": "code",
   "execution_count": 12,
   "id": "a701b395",
   "metadata": {
    "ExecuteTime": {
     "end_time": "2023-06-14T03:34:12.648797Z",
     "start_time": "2023-06-14T03:34:12.455261Z"
    }
   },
   "outputs": [],
   "source": [
    "G = create_graph(form_doc)"
   ]
  },
  {
   "cell_type": "code",
   "execution_count": 13,
   "id": "8c68f9c5",
   "metadata": {
    "ExecuteTime": {
     "end_time": "2023-06-14T03:34:13.664090Z",
     "start_time": "2023-06-14T03:34:12.906410Z"
    }
   },
   "outputs": [],
   "source": [
    "from torch_geometric.utils import from_networkx\n",
    "\n",
    "\n",
    "data = from_networkx(G)"
   ]
  },
  {
   "cell_type": "code",
   "execution_count": 33,
   "id": "95d25b02",
   "metadata": {
    "ExecuteTime": {
     "end_time": "2023-06-14T03:43:45.699785Z",
     "start_time": "2023-06-14T03:43:44.559360Z"
    }
   },
   "outputs": [
    {
     "name": "stderr",
     "output_type": "stream",
     "text": [
      "/var/folders/dr/l8_gry7975l0f3fl8m62sdbh0000gn/T/ipykernel_36572/1081072993.py:45: FutureWarning: adjacency_matrix will return a scipy.sparse array instead of a matrix in Networkx 3.0.\n",
      "  adjacency = torch.tensor(nx.adjacency_matrix(G).todense()).to_sparse().to(torch.float)\n"
     ]
    },
    {
     "name": "stdout",
     "output_type": "stream",
     "text": [
      "Epoch 0 Loss 0.6929193139076233\n",
      "Epoch 1 Loss 0.6880123615264893\n",
      "Epoch 2 Loss 0.6831310391426086\n",
      "Epoch 3 Loss 0.6782757043838501\n",
      "Epoch 4 Loss 0.6734469532966614\n",
      "Epoch 5 Loss 0.6686450242996216\n",
      "Epoch 6 Loss 0.6638705134391785\n",
      "Epoch 7 Loss 0.6591235399246216\n",
      "Epoch 8 Loss 0.6544047594070435\n",
      "Epoch 9 Loss 0.6497142910957336\n",
      "Epoch 10 Loss 0.6450526714324951\n",
      "Epoch 11 Loss 0.6404200792312622\n",
      "Epoch 12 Loss 0.6358168721199036\n",
      "Epoch 13 Loss 0.6312434077262878\n",
      "Epoch 14 Loss 0.6266998648643494\n",
      "Epoch 15 Loss 0.6221866011619568\n",
      "Epoch 16 Loss 0.6177037954330444\n",
      "Epoch 17 Loss 0.6132516860961914\n",
      "Epoch 18 Loss 0.6088303923606873\n",
      "Epoch 19 Loss 0.6044402122497559\n",
      "Epoch 20 Loss 0.6000813245773315\n",
      "Epoch 21 Loss 0.5957538485527039\n",
      "Epoch 22 Loss 0.5914579033851624\n",
      "Epoch 23 Loss 0.587193489074707\n",
      "Epoch 24 Loss 0.5829610228538513\n",
      "Epoch 25 Loss 0.5787602663040161\n",
      "Epoch 26 Loss 0.5745913982391357\n",
      "Epoch 27 Loss 0.5704545378684998\n",
      "Epoch 28 Loss 0.5663496255874634\n",
      "Epoch 29 Loss 0.5622767210006714\n",
      "Epoch 30 Loss 0.5582358241081238\n",
      "Epoch 31 Loss 0.5542269349098206\n",
      "Epoch 32 Loss 0.5502499938011169\n",
      "Epoch 33 Loss 0.5463050007820129\n",
      "Epoch 34 Loss 0.5423918962478638\n",
      "Epoch 35 Loss 0.5385105609893799\n",
      "Epoch 36 Loss 0.5346609950065613\n",
      "Epoch 37 Loss 0.5308431386947632\n",
      "Epoch 38 Loss 0.5270567536354065\n",
      "Epoch 39 Loss 0.523301899433136\n",
      "Epoch 40 Loss 0.5195785164833069\n",
      "Epoch 41 Loss 0.5158862471580505\n",
      "Epoch 42 Loss 0.5122250318527222\n",
      "Epoch 43 Loss 0.5085949301719666\n",
      "Epoch 44 Loss 0.504995584487915\n",
      "Epoch 45 Loss 0.5014269351959229\n",
      "Epoch 46 Loss 0.49788883328437805\n",
      "Epoch 47 Loss 0.49438104033470154\n",
      "Epoch 48 Loss 0.49090349674224854\n",
      "Epoch 49 Loss 0.48745593428611755\n",
      "Epoch 50 Loss 0.48403826355934143\n",
      "Epoch 51 Loss 0.4806502163410187\n",
      "Epoch 52 Loss 0.47729170322418213\n",
      "Epoch 53 Loss 0.4739624261856079\n",
      "Epoch 54 Loss 0.47066226601600647\n",
      "Epoch 55 Loss 0.46739107370376587\n",
      "Epoch 56 Loss 0.46414852142333984\n",
      "Epoch 57 Loss 0.46093446016311646\n",
      "Epoch 58 Loss 0.45774877071380615\n",
      "Epoch 59 Loss 0.45459115505218506\n",
      "Epoch 60 Loss 0.45146146416664124\n",
      "Epoch 61 Loss 0.4483594596385956\n",
      "Epoch 62 Loss 0.4452849328517914\n",
      "Epoch 63 Loss 0.44223764538764954\n",
      "Epoch 64 Loss 0.4392174780368805\n",
      "Epoch 65 Loss 0.43622419238090515\n",
      "Epoch 66 Loss 0.43325749039649963\n",
      "Epoch 67 Loss 0.430317223072052\n",
      "Epoch 68 Loss 0.42740321159362793\n",
      "Epoch 69 Loss 0.4245151877403259\n",
      "Epoch 70 Loss 0.42165300250053406\n",
      "Epoch 71 Loss 0.41881635785102844\n",
      "Epoch 72 Loss 0.41600507497787476\n",
      "Epoch 73 Loss 0.41321897506713867\n",
      "Epoch 74 Loss 0.4104577898979187\n",
      "Epoch 75 Loss 0.4077213704586029\n",
      "Epoch 76 Loss 0.4050094485282898\n",
      "Epoch 77 Loss 0.40232187509536743\n",
      "Epoch 78 Loss 0.3996583819389343\n",
      "Epoch 79 Loss 0.39701876044273376\n",
      "Epoch 80 Loss 0.3944028615951538\n",
      "Epoch 81 Loss 0.3918103873729706\n",
      "Epoch 82 Loss 0.38924121856689453\n",
      "Epoch 83 Loss 0.38669508695602417\n",
      "Epoch 84 Loss 0.38417181372642517\n",
      "Epoch 85 Loss 0.3816712200641632\n",
      "Epoch 86 Loss 0.3791930079460144\n",
      "Epoch 87 Loss 0.37673714756965637\n",
      "Epoch 88 Loss 0.3743031919002533\n",
      "Epoch 89 Loss 0.37189117074012756\n",
      "Epoch 90 Loss 0.3695007562637329\n",
      "Epoch 91 Loss 0.3671318292617798\n",
      "Epoch 92 Loss 0.3647841215133667\n",
      "Epoch 93 Loss 0.3624574542045593\n",
      "Epoch 94 Loss 0.36015164852142334\n",
      "Epoch 95 Loss 0.35786646604537964\n",
      "Epoch 96 Loss 0.35560181736946106\n",
      "Epoch 97 Loss 0.3533574342727661\n",
      "Epoch 98 Loss 0.3511331081390381\n",
      "Epoch 99 Loss 0.3489287197589874\n",
      "Epoch 100 Loss 0.3467440605163574\n",
      "Epoch 101 Loss 0.34457889199256897\n",
      "Epoch 102 Loss 0.34243303537368774\n",
      "Epoch 103 Loss 0.3403063714504242\n",
      "Epoch 104 Loss 0.338198721408844\n",
      "Epoch 105 Loss 0.33610981702804565\n",
      "Epoch 106 Loss 0.3340395987033844\n",
      "Epoch 107 Loss 0.33198776841163635\n",
      "Epoch 108 Loss 0.32995423674583435\n",
      "Epoch 109 Loss 0.3279387652873993\n",
      "Epoch 110 Loss 0.32594120502471924\n",
      "Epoch 111 Loss 0.32396140694618225\n",
      "Epoch 112 Loss 0.3219991624355316\n",
      "Epoch 113 Loss 0.3200543224811554\n",
      "Epoch 114 Loss 0.31812673807144165\n",
      "Epoch 115 Loss 0.31621623039245605\n",
      "Epoch 116 Loss 0.3143226206302643\n",
      "Epoch 117 Loss 0.312445729970932\n",
      "Epoch 118 Loss 0.31058546900749207\n",
      "Epoch 119 Loss 0.30874156951904297\n",
      "Epoch 120 Loss 0.30691391229629517\n",
      "Epoch 121 Loss 0.3051024377346039\n",
      "Epoch 122 Loss 0.30330681800842285\n",
      "Epoch 123 Loss 0.3015270233154297\n",
      "Epoch 124 Loss 0.29976290464401245\n",
      "Epoch 125 Loss 0.29801419377326965\n",
      "Epoch 126 Loss 0.29628080129623413\n",
      "Epoch 127 Loss 0.2945626378059387\n",
      "Epoch 128 Loss 0.2928594946861267\n",
      "Epoch 129 Loss 0.29117125272750854\n",
      "Epoch 130 Loss 0.2894977033138275\n",
      "Epoch 131 Loss 0.28783875703811646\n",
      "Epoch 132 Loss 0.2861942946910858\n",
      "Epoch 133 Loss 0.2845640778541565\n",
      "Epoch 134 Loss 0.2829480469226837\n",
      "Epoch 135 Loss 0.28134605288505554\n",
      "Epoch 136 Loss 0.2797579765319824\n",
      "Epoch 137 Loss 0.27818363904953003\n",
      "Epoch 138 Loss 0.2766228914260864\n",
      "Epoch 139 Loss 0.27507561445236206\n",
      "Epoch 140 Loss 0.2735416889190674\n",
      "Epoch 141 Loss 0.27202102541923523\n",
      "Epoch 142 Loss 0.2705133855342865\n",
      "Epoch 143 Loss 0.2690187394618988\n",
      "Epoch 144 Loss 0.2675369083881378\n",
      "Epoch 145 Loss 0.2660678029060364\n",
      "Epoch 146 Loss 0.26461124420166016\n",
      "Epoch 147 Loss 0.2631671726703644\n",
      "Epoch 148 Loss 0.26173537969589233\n",
      "Epoch 149 Loss 0.260315865278244\n",
      "Epoch 150 Loss 0.25890839099884033\n",
      "Epoch 151 Loss 0.2575128972530365\n",
      "Epoch 152 Loss 0.2561292350292206\n",
      "Epoch 153 Loss 0.2547573149204254\n",
      "Epoch 154 Loss 0.25339704751968384\n",
      "Epoch 155 Loss 0.2520482540130615\n",
      "Epoch 156 Loss 0.2507108449935913\n",
      "Epoch 157 Loss 0.24938473105430603\n",
      "Epoch 158 Loss 0.24806976318359375\n",
      "Epoch 159 Loss 0.2467658817768097\n",
      "Epoch 160 Loss 0.24547292292118073\n",
      "Epoch 161 Loss 0.24419079720973969\n",
      "Epoch 162 Loss 0.2429194301366806\n",
      "Epoch 163 Loss 0.24165870249271393\n",
      "Epoch 164 Loss 0.24040845036506653\n",
      "Epoch 165 Loss 0.23916862905025482\n",
      "Epoch 166 Loss 0.23793914914131165\n",
      "Epoch 167 Loss 0.23671986162662506\n",
      "Epoch 168 Loss 0.2355107069015503\n",
      "Epoch 169 Loss 0.2343115508556366\n",
      "Epoch 170 Loss 0.2331223487854004\n",
      "Epoch 171 Loss 0.23194293677806854\n",
      "Epoch 172 Loss 0.23077324032783508\n",
      "Epoch 173 Loss 0.22961318492889404\n",
      "Epoch 174 Loss 0.22846266627311707\n",
      "Epoch 175 Loss 0.2273215651512146\n",
      "Epoch 176 Loss 0.22618985176086426\n",
      "Epoch 177 Loss 0.22506733238697052\n",
      "Epoch 178 Loss 0.22395405173301697\n",
      "Epoch 179 Loss 0.22284983098506927\n",
      "Epoch 180 Loss 0.22175459563732147\n",
      "Epoch 181 Loss 0.2206682562828064\n",
      "Epoch 182 Loss 0.21959073841571808\n",
      "Epoch 183 Loss 0.21852190792560577\n",
      "Epoch 184 Loss 0.21746176481246948\n",
      "Epoch 185 Loss 0.21641017496585846\n",
      "Epoch 186 Loss 0.21536706387996674\n",
      "Epoch 187 Loss 0.21433232724666595\n",
      "Epoch 188 Loss 0.21330593526363373\n",
      "Epoch 189 Loss 0.2122877538204193\n",
      "Epoch 190 Loss 0.21127775311470032\n",
      "Epoch 191 Loss 0.210275799036026\n",
      "Epoch 192 Loss 0.2092818170785904\n",
      "Epoch 193 Loss 0.2082958072423935\n",
      "Epoch 194 Loss 0.20731762051582336\n",
      "Epoch 195 Loss 0.20634719729423523\n",
      "Epoch 196 Loss 0.20538447797298431\n",
      "Epoch 197 Loss 0.20442935824394226\n",
      "Epoch 198 Loss 0.2034817934036255\n",
      "Epoch 199 Loss 0.20254169404506683\n"
     ]
    }
   ],
   "source": [
    "import torch\n",
    "import torch.nn as nn\n",
    "import torch.nn.functional as F\n",
    "from torch.optim import Adam\n",
    "\n",
    "class GraphConvolution(nn.Module):\n",
    "    def __init__(self, input_dim, output_dim):\n",
    "        super(GraphConvolution, self).__init__()\n",
    "        self.input_dim = input_dim\n",
    "        self.output_dim = output_dim\n",
    "        self.weight = nn.Parameter(torch.FloatTensor(input_dim, output_dim))\n",
    "\n",
    "    def forward(self, adjacency, input_feature):\n",
    "        support = torch.mm(input_feature, self.weight)\n",
    "        output = torch.mm(adjacency, support)\n",
    "        return output\n",
    "\n",
    "class GCNEmbedder(nn.Module):\n",
    "    def __init__(self, nfeat, nhid, nclass, dropout):\n",
    "        super(GCNEmbedder, self).__init__()\n",
    "        self.gc1 = GraphConvolution(nfeat, nhid)\n",
    "        self.gc2 = GraphConvolution(nhid, nclass)\n",
    "        self.dropout = dropout\n",
    "\n",
    "    def forward(self, adjacency, feature):\n",
    "        x = F.relu(self.gc1(adjacency, feature))\n",
    "        x = F.dropout(x, self.dropout, training=self.training)\n",
    "        x = self.gc2(adjacency, x)\n",
    "        return x\n",
    "\n",
    "class GCN(nn.Module):\n",
    "    def __init__(self, nfeat, nhid, nembed, nout, dropout):\n",
    "        super(GCN, self).__init__()\n",
    "        self.embedding = GCNEmbedder(nfeat, nhid, nembed, dropout)\n",
    "        self.linear = nn.Linear(nembed, nout)\n",
    "    \n",
    "    def forward(self, adjacency, feature):\n",
    "        x = self.embedding(adjacency, feature)\n",
    "        x = self.linear(x)\n",
    "        return x\n",
    "    \n",
    "\n",
    "# assuming you have loaded your graph into edge_index, and node features into x\n",
    "# we create an adjacency matrix from edge_index\n",
    "adjacency = torch.tensor(nx.adjacency_matrix(G).todense()).to_sparse().to(torch.float)\n",
    "\n",
    "# creating the GCN model\n",
    "model = GCN(nfeat=data.x.size(1), nhid=32, nembed=128, nout=adjacency.shape[0], dropout=0.5).to('cpu')\n",
    "optimizer = Adam(model.parameters(), lr=0.01)\n",
    "\n",
    "# creating the binary target tensor (assuming the adjacency matrix is binary)\n",
    "target = adjacency.to_dense().flatten()\n",
    "\n",
    "for epoch in range(200):\n",
    "    model.train()\n",
    "    optimizer.zero_grad()\n",
    "    \n",
    "    # we feed the adjacency matrix and node features into the model\n",
    "    out = model(adjacency, data.x)\n",
    "    # the output is also a adjacency-like matrix, so we flatten it to match the target's shape\n",
    "    out = out.flatten()\n",
    "    \n",
    "    # computing the binary cross entropy loss\n",
    "    loss = F.binary_cross_entropy_with_logits(out, target)\n",
    "    print('Epoch', epoch, 'Loss', loss.item())\n",
    "\n",
    "    # backpropagation\n",
    "    loss.backward()\n",
    "    optimizer.step()"
   ]
  },
  {
   "cell_type": "code",
   "execution_count": 38,
   "id": "53d62757",
   "metadata": {
    "ExecuteTime": {
     "end_time": "2023-06-14T03:45:13.852633Z",
     "start_time": "2023-06-14T03:45:13.755159Z"
    }
   },
   "outputs": [
    {
     "data": {
      "text/plain": [
       "tensor([[-1.6531, -1.5911, -1.5284,  ..., -1.5305, -1.6413, -1.5513],\n",
       "        [-1.6531, -1.5911, -1.5284,  ..., -1.5305, -1.6413, -1.5513],\n",
       "        [-1.6531, -1.5911, -1.5284,  ..., -1.5305, -1.6413, -1.5513],\n",
       "        ...,\n",
       "        [-1.6531, -1.5911, -1.5284,  ..., -1.5305, -1.6413, -1.5513],\n",
       "        [-1.6531, -1.5911, -1.5284,  ..., -1.5305, -1.6413, -1.5513],\n",
       "        [-1.6531, -1.5911, -1.5284,  ..., -1.5305, -1.6413, -1.5513]],\n",
       "       grad_fn=<AddmmBackward0>)"
      ]
     },
     "execution_count": 38,
     "metadata": {},
     "output_type": "execute_result"
    }
   ],
   "source": [
    "model(adjacency, data.x)"
   ]
  },
  {
   "cell_type": "code",
   "execution_count": null,
   "id": "0ced499c",
   "metadata": {},
   "outputs": [],
   "source": []
  }
 ],
 "metadata": {
  "kernelspec": {
   "display_name": "Python 3 (ipykernel)",
   "language": "python",
   "name": "python3"
  },
  "language_info": {
   "codemirror_mode": {
    "name": "ipython",
    "version": 3
   },
   "file_extension": ".py",
   "mimetype": "text/x-python",
   "name": "python",
   "nbconvert_exporter": "python",
   "pygments_lexer": "ipython3",
   "version": "3.10.9"
  },
  "toc": {
   "base_numbering": 1,
   "nav_menu": {},
   "number_sections": true,
   "sideBar": true,
   "skip_h1_title": false,
   "title_cell": "Table of Contents",
   "title_sidebar": "Contents",
   "toc_cell": false,
   "toc_position": {},
   "toc_section_display": true,
   "toc_window_display": false
  },
  "varInspector": {
   "cols": {
    "lenName": 16,
    "lenType": 16,
    "lenVar": 40
   },
   "kernels_config": {
    "python": {
     "delete_cmd_postfix": "",
     "delete_cmd_prefix": "del ",
     "library": "var_list.py",
     "varRefreshCmd": "print(var_dic_list())"
    },
    "r": {
     "delete_cmd_postfix": ") ",
     "delete_cmd_prefix": "rm(",
     "library": "var_list.r",
     "varRefreshCmd": "cat(var_dic_list()) "
    }
   },
   "types_to_exclude": [
    "module",
    "function",
    "builtin_function_or_method",
    "instance",
    "_Feature"
   ],
   "window_display": false
  }
 },
 "nbformat": 4,
 "nbformat_minor": 5
}
