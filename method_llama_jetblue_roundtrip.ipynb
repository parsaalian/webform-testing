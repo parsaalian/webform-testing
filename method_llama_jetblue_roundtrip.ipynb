{
 "cells": [
  {
   "cell_type": "code",
   "execution_count": 1,
   "id": "6edf3f1c",
   "metadata": {
    "ExecuteTime": {
     "end_time": "2023-07-28T04:34:16.574065Z",
     "start_time": "2023-07-28T04:34:10.308004Z"
    }
   },
   "outputs": [
    {
     "name": "stderr",
     "output_type": "stream",
     "text": [
      "/home/webtesting/.local/lib/python3.10/site-packages/tqdm/auto.py:21: TqdmWarning: IProgress not found. Please update jupyter and ipywidgets. See https://ipywidgets.readthedocs.io/en/stable/user_install.html\n",
      "  from .autonotebook import tqdm as notebook_tqdm\n"
     ]
    }
   ],
   "source": [
    "%load_ext autoreload\n",
    "%autoreload 2\n",
    "\n",
    "import os\n",
    "import time\n",
    "import openai\n",
    "from dotenv import load_dotenv\n",
    "\n",
    "from selenium.webdriver.common.by import By\n",
    "from selenium.webdriver.support.ui import WebDriverWait\n",
    "from selenium.webdriver.support import expected_conditions as EC\n",
    "from bs4 import BeautifulSoup as bs\n",
    "\n",
    "from method.ours.utils import create_driver, get_xpath, get_application_context\n",
    "from method.ours.parse import parse_form\n",
    "from method.ours.prompts import get_form_context\n",
    "from method.ours.history import HistoryTable\n",
    "from method.ours.constraints import Invalid\n",
    "from method.ours.generation import (\n",
    "    generate_constraints_for_input_groups,\n",
    "    generate_value_for_input_group,\n",
    "    generate_values_for_input_groups,\n",
    "    fill_form_with_value_table,\n",
    "    submit_form\n",
    ")\n",
    "from method.ours.feedback import (\n",
    "    get_local_feedback,\n",
    "    get_global_feedback\n",
    ")"
   ]
  },
  {
   "cell_type": "code",
   "execution_count": 2,
   "id": "25fb6bb8",
   "metadata": {
    "ExecuteTime": {
     "end_time": "2023-07-28T04:34:22.229763Z",
     "start_time": "2023-07-28T04:34:22.127021Z"
    }
   },
   "outputs": [],
   "source": [
    "load_dotenv()\n",
    "openai.api_key = os.getenv(\"OPENAI_API_KEY\")\n",
    "\n",
    "# Global Variables\n",
    "HEADLESS = False\n",
    "TEXT_EMBEDDING_METHOD = 'ADA'\n",
    "GRAPH_EMBEDDING_METHOD = 'NODE2VEC'\n",
    "\n",
    "URL = 'https://www.jetblue.com/'\n",
    "#URL = 'https://seatgeek.ca/'\n",
    "# 'https://www.stubhub.ca/'\n",
    "# 'https://app.invoicing.co/#/register'\n",
    "# 'http://localhost:3000/default-channel/en-US/account/register/'\n",
    "# 'http://localhost:9000/dashboard/discounts/sales/add'\n",
    "# 'http://localhost:9000/dashboard/customers/add'\n",
    "# 'http://localhost:8080/'\n",
    "# 'https://www.budget.com/en/home'\n",
    "# 'https://www.thetrainline.com/en-us'\n",
    "# 'https://www.mbta.com/'\n",
    "# 'https://resy.com/'\n",
    "# 'https://www.yelp.com/'\n",
    "# 'https://www.aa.com/homePage.do'\n",
    "# 'https://www.jetblue.com/'\n",
    "# 'https://www.united.com/en/us'\n",
    "# 'https://www.aircanada.com/ca/en/aco/home.html'\n",
    "\n",
    "\n",
    "def get_to_form(driver):\n",
    "    try:\n",
    "        driver.get(URL)\n",
    "        \n",
    "        '''\n",
    "        try:\n",
    "            time.sleep(2)\n",
    "            WebDriverWait(driver, 10).until(\n",
    "                EC.presence_of_element_located((\n",
    "                    By.XPATH,\n",
    "                    '//BODY/DIV[1]/MAIN[1]/DIV[1]/DIV[1]/DIV[1]/FORM[1]/DIV[2]/DIV[1]/INPUT[1]')\n",
    "                )\n",
    "            ).send_keys('admin@example.com')\n",
    "            WebDriverWait(driver, 10).until(\n",
    "                EC.presence_of_element_located((\n",
    "                    By.XPATH,\n",
    "                    '//BODY/DIV[1]/MAIN[1]/DIV[1]/DIV[1]/DIV[1]/FORM[1]/DIV[4]/DIV[1]/DIV[1]/INPUT[1]')\n",
    "                )\n",
    "            ).send_keys('admin')\n",
    "            WebDriverWait(driver, 10).until(\n",
    "                EC.presence_of_element_located((\n",
    "                    By.XPATH,\n",
    "                    '//BODY/DIV[1]/MAIN[1]/DIV[1]/DIV[1]/DIV[1]/FORM[1]/DIV[5]/BUTTON[1]')\n",
    "                )\n",
    "            ).click()\n",
    "        except:\n",
    "            pass\n",
    "        \n",
    "        WebDriverWait(driver, 10).until(\n",
    "            EC.presence_of_element_located((\n",
    "                By.XPATH,\n",
    "                '//BODY/DIV[1]/MAIN[1]/DIV[1]/DIV[2]/MAIN[1]/FORM[1]/DIV[1]/DIV[2]/DIV[4]/DIV[2]/LABEL[1]/SPAN[1]/SPAN[1]/INPUT[1]')\n",
    "            )\n",
    "        ).click()\n",
    "        '''\n",
    "        \n",
    "        '''\n",
    "        # Pet Clinic - Add Owner\n",
    "        time.sleep(2)\n",
    "        WebDriverWait(driver, 10).until(\n",
    "            EC.presence_of_element_located((\n",
    "                By.XPATH,\n",
    "                '//BODY/APP-ROOT[1]/DIV[1]/NAV[1]/DIV[1]/UL[1]/LI[2]')\n",
    "            )\n",
    "        ).click()\n",
    "        WebDriverWait(driver, 10).until(\n",
    "            EC.presence_of_element_located((\n",
    "                By.XPATH,\n",
    "                '//BODY/APP-ROOT[1]/DIV[1]/NAV[1]/DIV[1]/UL[1]/LI[2]/UL[1]/LI[2]')\n",
    "            )\n",
    "        ).click()\n",
    "        '''\n",
    "        \n",
    "        '''\n",
    "        # Budget - Reservation\n",
    "        WebDriverWait(driver, 5).until(\n",
    "            EC.presence_of_element_located((By.ID, 'PicLoc_value'))\n",
    "        ).click()\n",
    "        '''\n",
    "        \n",
    "        '''\n",
    "        # MBTA\n",
    "        time.sleep(2)\n",
    "        WebDriverWait(driver, 5).until(\n",
    "            EC.presence_of_element_located((By.XPATH, '//BODY/DIV[1]/DIV[2]/MAIN[1]/DIV[1]/DIV[1]/DIV[1]/DIV[2]/A[1]'))\n",
    "        ).click()\n",
    "        '''\n",
    "        \n",
    "        '''\n",
    "        # AC - My Bookings\n",
    "        time.sleep(2)\n",
    "        WebDriverWait(driver, 5).until(\n",
    "            EC.presence_of_element_located((By.ID, 'bkmg-tab-button-mngBook'))\n",
    "        ).click()\n",
    "        '''\n",
    "        \n",
    "        '''\n",
    "        # AC - Multi-city\n",
    "        time.sleep(2)\n",
    "        WebDriverWait(driver, 5).until(\n",
    "            EC.presence_of_element_located((By.ID, 'bkmgFlights_tripTypeSelector_M'))\n",
    "        ).click()\n",
    "        '''\n",
    "        \n",
    "    except:\n",
    "        print('timeout')\n",
    "\n",
    "\n",
    "def find_form():\n",
    "    return WebDriverWait(driver, 10).until(\n",
    "        EC.presence_of_element_located((\n",
    "            By.XPATH,\n",
    "            #'//BODY/JB-APP[1]/MAIN[1]/JB-BASIC-TEMPLATE[1]/JB-RENDERER-TEMPLATE[1]/JB-SECTION-HEADER-CONTAINER[1]/DIV[1]/DIV[1]/DIV[1]/JB-SECTION-CONTAINER[1]/DIV[1]/DIV[2]/JB-RENDERER-TEMPLATE[1]/JB-TAB-COMPONENT-CONTAINER[1]/DIV[1]/JB-TABS[1]/SECTION[1]/DIV[1]/JB-TAB-PANEL[1]/DIV[1]/JB-RENDERER-TEMPLATE[1]/DOT-BOOKER-AIR[1]/DIV[1]/DOT-BOOKER-AIR-V2[1]/FORM[1]'\n",
    "            '//BODY/JB-APP[1]/MAIN[1]/JB-BASIC-TEMPLATE[1]/JB-RENDERER-TEMPLATE[1]/JB-SECTION-HEADER-CONTAINER[1]/DIV[1]/DIV[1]/DIV[1]/JB-SECTION-CONTAINER[1]/DIV[1]/DIV[1]/JB-RENDERER-TEMPLATE[1]/JB-TAB-COMPONENT-CONTAINER[1]/DIV[1]/JB-TABS[1]/SECTION[1]/DIV[1]/JB-TAB-PANEL[1]'\n",
    "        ))\n",
    "    )\n",
    "\n",
    "\n",
    "def find_button():\n",
    "    return None"
   ]
  },
  {
   "cell_type": "code",
   "execution_count": 3,
   "id": "f32abfb0",
   "metadata": {},
   "outputs": [
    {
     "name": "stderr",
     "output_type": "stream",
     "text": [
      "skip module injection for FusedLlamaMLPForQuantizedModel not support integrate without triton yet.                                                                                   \n"
     ]
    }
   ],
   "source": [
    "from transformers import AutoTokenizer, pipeline, logging\n",
    "from auto_gptq import AutoGPTQForCausalLM, BaseQuantizeConfig\n",
    "\n",
    "def load_model_llama(model_type, use_triton=False):\n",
    "    if model_type == '70B':\n",
    "        model_name_or_path = \"TheBloke/Llama-2-70B-chat-GPTQ\"\n",
    "        model_basename = \"gptq_model-4bit--1g\"\n",
    "    elif model_type == '13B':\n",
    "        model_name_or_path = \"TheBloke/Llama-2-13B-chat-GPTQ\"\n",
    "        model_basename = \"gptq_model-4bit-128g\"\n",
    "    else:\n",
    "        raise ValueError('Invalid model_type. Choose either \"70B\" or \"13B\".')\n",
    "\n",
    "    tokenizer = AutoTokenizer.from_pretrained(model_name_or_path, use_fast=True, device_map=\"auto\")\n",
    "\n",
    "    model = AutoGPTQForCausalLM.from_quantized(model_name_or_path,\n",
    "                                               #model_basename=model_basename,\n",
    "                                               revision = \"main\",\n",
    "                                               inject_fused_attention=False,\n",
    "                                               use_safetensors=True,\n",
    "                                               trust_remote_code=False,\n",
    "                                               use_triton=use_triton,\n",
    "                                               quantize_config=None)\n",
    "    return tokenizer, model\n",
    "\n",
    "\n",
    "# Load the model - load_model_llama2_70b\n",
    "tokenizer, model = load_model_llama(\"70B\")"
   ]
  },
  {
   "cell_type": "code",
   "execution_count": 4,
   "id": "837ffb01",
   "metadata": {
    "ExecuteTime": {
     "end_time": "2023-07-28T04:34:32.897982Z",
     "start_time": "2023-07-28T04:34:28.240260Z"
    }
   },
   "outputs": [],
   "source": [
    "driver = create_driver(HEADLESS)\n",
    "get_to_form(driver)"
   ]
  },
  {
   "cell_type": "code",
   "execution_count": 5,
   "id": "2812c532",
   "metadata": {
    "ExecuteTime": {
     "end_time": "2023-07-28T04:34:52.655971Z",
     "start_time": "2023-07-28T04:34:52.526430Z"
    }
   },
   "outputs": [],
   "source": [
    "form = find_form()"
   ]
  },
  {
   "cell_type": "code",
   "execution_count": 6,
   "id": "0daf200f",
   "metadata": {
    "ExecuteTime": {
     "end_time": "2023-07-28T04:34:58.983439Z",
     "start_time": "2023-07-28T04:34:58.878293Z"
    }
   },
   "outputs": [],
   "source": [
    "history_table = HistoryTable(\n",
    "    url=URL,\n",
    "    xpath=get_xpath(driver, form)\n",
    ")"
   ]
  },
  {
   "cell_type": "code",
   "execution_count": 7,
   "id": "b256fa79",
   "metadata": {
    "ExecuteTime": {
     "end_time": "2023-07-28T04:35:05.318273Z",
     "start_time": "2023-07-28T04:35:05.019524Z"
    }
   },
   "outputs": [],
   "source": [
    "for element in form.find_elements(By.TAG_NAME, 'input'):\n",
    "    try:\n",
    "        element.clear()\n",
    "    except:\n",
    "        pass"
   ]
  },
  {
   "cell_type": "markdown",
   "id": "948b49bc",
   "metadata": {},
   "source": [
    "# Processing"
   ]
  },
  {
   "cell_type": "code",
   "execution_count": 8,
   "id": "69dd1802",
   "metadata": {
    "ExecuteTime": {
     "end_time": "2023-07-28T04:35:24.297269Z",
     "start_time": "2023-07-28T04:35:11.426719Z"
    },
    "scrolled": false
   },
   "outputs": [
    {
     "name": "stderr",
     "output_type": "stream",
     "text": [
      "Computing transition probabilities: 100%|███████████████████████████████████████████████████████████████████████████████████████████████████████| 234/234 [00:00<00:00, 36100.60it/s]\n",
      "Generating walks (CPU: 1): 100%|██████████| 50/50 [00:00<00:00, 803.99it/s]\n",
      "Generating walks (CPU: 2): 100%|██████████| 50/50 [00:00<00:00, 764.30it/s]\n",
      "Generating walks (CPU: 3): 100%|██████████| 50/50 [00:00<00:00, 759.40it/s]\n",
      "Generating walks (CPU: 4): 100%|██████████| 50/50 [00:00<00:00, 797.30it/s]\n",
      "100%|████████████████████████████████████████████████████████████████████████████████████████████████████████████████████████████████████████████████| 24/24 [00:03<00:00,  7.08it/s]\n",
      "/home/webtesting/miniconda3/envs/llama2/lib/python3.10/site-packages/scipy/spatial/distance.py:622: RuntimeWarning: invalid value encountered in scalar divide\n",
      "  dist = 1.0 - uv / np.sqrt(uu * vv)\n"
     ]
    }
   ],
   "source": [
    "html = driver.find_element(By.TAG_NAME, 'body').get_attribute('outerHTML')\n",
    "relation_graph, input_groups = parse_form(\n",
    "    driver,\n",
    "    form,\n",
    "    TEXT_EMBEDDING_METHOD=TEXT_EMBEDDING_METHOD\n",
    ")"
   ]
  },
  {
   "cell_type": "markdown",
   "id": "59c1f6ee",
   "metadata": {},
   "source": [
    "# Generation"
   ]
  },
  {
   "cell_type": "code",
   "execution_count": 9,
   "id": "793e53ab",
   "metadata": {},
   "outputs": [],
   "source": [
    "try:\n",
    "    app_context = get_application_context(driver)\n",
    "except:\n",
    "    app_context = ''"
   ]
  },
  {
   "cell_type": "code",
   "execution_count": 10,
   "id": "a7d59f75",
   "metadata": {},
   "outputs": [
    {
     "data": {
      "text/plain": [
       "''"
      ]
     },
     "execution_count": 10,
     "metadata": {},
     "output_type": "execute_result"
    }
   ],
   "source": [
    "app_context"
   ]
  },
  {
   "cell_type": "code",
   "execution_count": 11,
   "id": "5e26e293",
   "metadata": {
    "ExecuteTime": {
     "end_time": "2023-07-28T04:35:54.294789Z",
     "start_time": "2023-07-28T04:35:36.673922Z"
    },
    "scrolled": true
   },
   "outputs": [
    {
     "name": "stderr",
     "output_type": "stream",
     "text": [
      "/home/webtesting/miniconda3/envs/llama2/lib/python3.10/site-packages/transformers/generation/configuration_utils.py:389: UserWarning: `do_sample` is set to `False`. However, `temperature` is set to `0.0` -- this flag is only used in sample-based generation modes. You should set `do_sample=True` or unset `temperature`.\n",
      "  warnings.warn(\n"
     ]
    },
    {
     "name": "stdout",
     "output_type": "stream",
     "text": [
      "generated constraints: <s> [INST] <<SYS>>\n",
      "    Instructions:\n",
      "Your task is to generate a set of constraints for web form fields. Your decisions must be made independently without seeking user assistance or additional information. If there are multiple ways to express constraints, use the least number of constraints to describe them. Only generate the constraints and refrain from explaining your answers. Only generate constraints for the input field in question, not those in the relevant information section. You must choose your constraints in the format of our modified version of the Jest library in JavaScript. The list of functions in this modified format are:\n",
      "1. toBeEqual(value) # the input field value is exactly equal to the given value\n",
      "2. toHaveLengthCondition(condition, value) # the length of the input field value matches the given condition\n",
      "3. toBeTruthy() # the input field value is truthy and not empty (not false, 0, '', null, undefined, or NaN)\n",
      "4. toHaveCompareCondition(condition, numberOrDateValue) # the input field value has the given condition to the given value\n",
      "5. toContainSubString(stringValue)\n",
      "6. toContainChar(charValue)\n",
      "7. toBeAlphabetical()\n",
      "8. toBeNumerical()\n",
      "9. toBeAlphaNumerical()\n",
      "10. toContainUpperCaseChars()\n",
      "11. toContainSpecialChars()\n",
      "12. toContainWhiteSpace()\n",
      "13. toStartWithString(stringValue)\n",
      "14. toEndWithString(stringValue)\n",
      "15. freeTextConstraint(constraintStringValue) # for constraints that cannot be expressed as a deterministic function from the above functions\n",
      "You must choose only from this list of functions, and avoid using any other functions. Use the notation \"field('elementId')\" to refer to input fields in the form. When generating constraints for date-related fields, also take current date into your considerations.\n",
      "\n",
      "Example of generated constraints for a password input field:\n",
      "expect(field('password'))\n",
      ".toHaveLengthCondition('>', 8)\n",
      ".toHaveLengthCondition('<', 50)\n",
      ".toBeAlphaNumeric()\n",
      ".toHaveUpperCase()\n",
      ".toHaveSpecialChars()\n",
      ".not.toBeTruthy()\n",
      ".freeTextConstraint('your password must be a dog's name')\n",
      ".toBeEqual(field('confirm-password'))\n",
      "    <</SYS>>\n",
      "\n",
      "    Today's date: 2023-12-13 23:42:26. When generating constraints for date fields, also generate constraints to compare them with the current date, past, and future if applicable.\n",
      "    The following are all the labels in the form, which provide context for the functionality of the form:  From\n",
      ",  To\n",
      ",  Depart ,  Return\n",
      "    We are generating constraints for the following input field:\n",
      "    input: <input id=\"jb-autocomplete-3-search\" type=\"text\"/>\n",
      "with label: From\n",
      "with the following relevant text tags:\n",
      "<button type=\"button\"><span-wrap><!-- --></span-wrap><div> Roundtrip </div><jb-expandable-indicator><div><span><span></span><span></span></span></div></jb-expandable-indicator></button>\n",
      "<span>Partner Airline</span>\n",
      "<button type=\"button\"><span> 1 Adult </span><jb-expandable-indicator><div><span><span></span><span></span></span></div></jb-expandable-indicator></button>\n",
      "<button type=\"button\"><span>Reverse origin and destination city or airport</span><jb-icon name=\"arrowRoundtrip\"><svg><g><path></path><path></path><path></path><path></path></g></svg></jb-icon></button>\n",
      "    The relevant input fields available in the form are (in order of relevance):\n",
      "    DO NOT EXPLAIN YOUR ANSWERS. [/INST]\n",
      "    1. field('jb-autocomplete-3-search')\n",
      "    .toHaveLengthCondition('>', 1)\n",
      "    .toHaveLengthCondition('<', 50)\n",
      "    .toBeAlphaNumeric()\n",
      "    .toHaveUpperCase()\n",
      "    .toHaveSpecialChars()\n",
      "    .not.toBeTruthy()\n",
      "    .freeTextConstraint('Please enter a valid origin airport or city')\n",
      "    .toBeEqual(field('confirm-from'))\n",
      "    .toBeTruthy()\n",
      "    .toHaveCompareCondition('>', new Date(2023, 11, 13, 23, 42, 26))\n",
      "    .toHaveCompareCondition('<', new Date(2024, 11, 13, 23, 42, 26))\n",
      "    .toContainSubString('from')\n",
      "    .toContainUpperCaseChars()\n",
      "    .toContainSpecialChars()\n",
      "    .toContainWhiteSpace()\n",
      "    .toStartWithString('From')\n",
      "    .toEndWithString('Return')\n",
      "    .freeTextConstraint('Your From field must be a valid airport or city')\n",
      "    .freeTextConstraint('Your From field must be in the future')\n",
      "    .freeTextConstraint('Your From field must be before your Return field')\n",
      "    .freeTextConstraint('Your From field must not be empty');</s>\n",
      "'NoneType' object is not iterable\n"
     ]
    },
    {
     "name": "stderr",
     "output_type": "stream",
     "text": [
      "Traceback (most recent call last):\n",
      "  File \"/home/webtesting/webform-testing/method/ours/generation/constraints.py\", line 182, in generate_constraints_for_input_groups\n",
      "    value_table = generate_constraints_for_input_group(\n",
      "  File \"/home/webtesting/webform-testing/method/ours/generation/constraints.py\", line 148, in generate_constraints_for_input_group\n",
      "    field_name, constraints = generate_constraints_from_string(generated_constraints)\n",
      "  File \"/home/webtesting/webform-testing/method/ours/constraints/utils.py\", line 25, in generate_constraints_from_string\n",
      "    splitted = split_functions(constraint_string)\n",
      "  File \"/home/webtesting/webform-testing/method/ours/constraints/utils.py\", line 9, in split_functions\n",
      "    for char in function_string:\n",
      "TypeError: 'NoneType' object is not iterable\n"
     ]
    },
    {
     "name": "stdout",
     "output_type": "stream",
     "text": [
      "generated constraints: <s> [INST] <<SYS>>\n",
      "    Instructions:\n",
      "Your task is to generate a set of constraints for web form fields. Your decisions must be made independently without seeking user assistance or additional information. If there are multiple ways to express constraints, use the least number of constraints to describe them. Only generate the constraints and refrain from explaining your answers. Only generate constraints for the input field in question, not those in the relevant information section. You must choose your constraints in the format of our modified version of the Jest library in JavaScript. The list of functions in this modified format are:\n",
      "1. toBeEqual(value) # the input field value is exactly equal to the given value\n",
      "2. toHaveLengthCondition(condition, value) # the length of the input field value matches the given condition\n",
      "3. toBeTruthy() # the input field value is truthy and not empty (not false, 0, '', null, undefined, or NaN)\n",
      "4. toHaveCompareCondition(condition, numberOrDateValue) # the input field value has the given condition to the given value\n",
      "5. toContainSubString(stringValue)\n",
      "6. toContainChar(charValue)\n",
      "7. toBeAlphabetical()\n",
      "8. toBeNumerical()\n",
      "9. toBeAlphaNumerical()\n",
      "10. toContainUpperCaseChars()\n",
      "11. toContainSpecialChars()\n",
      "12. toContainWhiteSpace()\n",
      "13. toStartWithString(stringValue)\n",
      "14. toEndWithString(stringValue)\n",
      "15. freeTextConstraint(constraintStringValue) # for constraints that cannot be expressed as a deterministic function from the above functions\n",
      "You must choose only from this list of functions, and avoid using any other functions. Use the notation \"field('elementId')\" to refer to input fields in the form. When generating constraints for date-related fields, also take current date into your considerations.\n",
      "\n",
      "Example of generated constraints for a password input field:\n",
      "expect(field('password'))\n",
      ".toHaveLengthCondition('>', 8)\n",
      ".toHaveLengthCondition('<', 50)\n",
      ".toBeAlphaNumeric()\n",
      ".toHaveUpperCase()\n",
      ".toHaveSpecialChars()\n",
      ".not.toBeTruthy()\n",
      ".freeTextConstraint('your password must be a dog's name')\n",
      ".toBeEqual(field('confirm-password'))\n",
      "    <</SYS>>\n",
      "\n",
      "    Today's date: 2023-12-13 23:43:04. When generating constraints for date fields, also generate constraints to compare them with the current date, past, and future if applicable.\n",
      "    The following are all the labels in the form, which provide context for the functionality of the form:  From\n",
      ",  To\n",
      ",  Depart ,  Return\n",
      "    We are generating constraints for the following input field:\n",
      "    input: <input id=\"jb-autocomplete-4-search\" type=\"text\"/>\n",
      "with label: To\n",
      "    The relevant input fields available in the form are (in order of relevance):\n",
      "    DO NOT EXPLAIN YOUR ANSWERS. [/INST]\n",
      "     Here are the generated constraints for the input field \"To\":\n",
      "\n",
      "expect(field('jb-autocomplete-4-search'))\n",
      ".toHaveLengthCondition('>', 1)\n",
      ".toHaveLengthCondition('<', 50)\n",
      ".toBeAlphaNumeric()\n",
      ".toHaveUpperCase()\n",
      ".toHaveSpecialChars()\n",
      ".not.toBeTruthy()\n",
      ".freeTextConstraint('enter a valid destination')\n",
      ".toBeEqual(field('jb-autocomplete-4-from'))\n",
      ".toBeAfter(field('jb-autocomplete-4-from'), 'to')\n",
      ".toBeBefore(field('jb-autocomplete-4-from'), 'from')\n",
      ".toBeInFuture(field('jb-autocomplete-4-from'), 'to', currentDate)\n",
      ".toBeInPast(field('jb-autocomplete-4-from'), 'from', currentDate)\n",
      "\n",
      "Note:\n",
      "\n",
      "* `currentDate` is the current date and time, which is `2023-12-13 23:43:04` in this case.\n",
      "* `field('jb-autocomplete-4-search')` refers to the input field with the id \"jb-autocomplete-4-search\".\n",
      "* `field('jb-autocomplete-4-from')` refers to the input field with the id \"jb-autocomplete-4-from\".\n",
      "* `toHaveLengthCondition()` checks that the length of the input field value satisfies the given condition.\n",
      "* `toBeAlphaNumeric()` checks that the input field value contains only alphabetical and numerical characters.\n",
      "* `toHaveUpperCase()` checks that the input field value contains at least one uppercase character.\n",
      "* `toHaveSpecialChars()` checks that the input field value contains at least one special character.\n",
      "* `not.toBeTruthy()` checks that the input field value is not empty (not false, 0, '', null, undefined, or NaN).\n",
      "* `freeTextConstraint()` allows you to specify a custom constraint that cannot be expressed using the other functions.\n",
      "* `toBeEqual()` checks that the input field value is equal to the given value.\n",
      "* `toBeAfter()` checks that the input field value is after the given value.\n",
      "* `toBeBefore()` checks that the input field value is before\n",
      "'NoneType' object is not iterable\n"
     ]
    },
    {
     "name": "stderr",
     "output_type": "stream",
     "text": [
      "Traceback (most recent call last):\n",
      "  File \"/home/webtesting/webform-testing/method/ours/generation/constraints.py\", line 182, in generate_constraints_for_input_groups\n",
      "    value_table = generate_constraints_for_input_group(\n",
      "  File \"/home/webtesting/webform-testing/method/ours/generation/constraints.py\", line 148, in generate_constraints_for_input_group\n",
      "    field_name, constraints = generate_constraints_from_string(generated_constraints)\n",
      "  File \"/home/webtesting/webform-testing/method/ours/constraints/utils.py\", line 25, in generate_constraints_from_string\n",
      "    splitted = split_functions(constraint_string)\n",
      "  File \"/home/webtesting/webform-testing/method/ours/constraints/utils.py\", line 9, in split_functions\n",
      "    for char in function_string:\n",
      "TypeError: 'NoneType' object is not iterable\n"
     ]
    },
    {
     "name": "stdout",
     "output_type": "stream",
     "text": [
      "generated constraints: <s> [INST] <<SYS>>\n",
      "    Instructions:\n",
      "Your task is to generate a set of constraints for web form fields. Your decisions must be made independently without seeking user assistance or additional information. If there are multiple ways to express constraints, use the least number of constraints to describe them. Only generate the constraints and refrain from explaining your answers. Only generate constraints for the input field in question, not those in the relevant information section. You must choose your constraints in the format of our modified version of the Jest library in JavaScript. The list of functions in this modified format are:\n",
      "1. toBeEqual(value) # the input field value is exactly equal to the given value\n",
      "2. toHaveLengthCondition(condition, value) # the length of the input field value matches the given condition\n",
      "3. toBeTruthy() # the input field value is truthy and not empty (not false, 0, '', null, undefined, or NaN)\n",
      "4. toHaveCompareCondition(condition, numberOrDateValue) # the input field value has the given condition to the given value\n",
      "5. toContainSubString(stringValue)\n",
      "6. toContainChar(charValue)\n",
      "7. toBeAlphabetical()\n",
      "8. toBeNumerical()\n",
      "9. toBeAlphaNumerical()\n",
      "10. toContainUpperCaseChars()\n",
      "11. toContainSpecialChars()\n",
      "12. toContainWhiteSpace()\n",
      "13. toStartWithString(stringValue)\n",
      "14. toEndWithString(stringValue)\n",
      "15. freeTextConstraint(constraintStringValue) # for constraints that cannot be expressed as a deterministic function from the above functions\n",
      "You must choose only from this list of functions, and avoid using any other functions. Use the notation \"field('elementId')\" to refer to input fields in the form. When generating constraints for date-related fields, also take current date into your considerations.\n",
      "\n",
      "Example of generated constraints for a password input field:\n",
      "expect(field('password'))\n",
      ".toHaveLengthCondition('>', 8)\n",
      ".toHaveLengthCondition('<', 50)\n",
      ".toBeAlphaNumeric()\n",
      ".toHaveUpperCase()\n",
      ".toHaveSpecialChars()\n",
      ".not.toBeTruthy()\n",
      ".freeTextConstraint('your password must be a dog's name')\n",
      ".toBeEqual(field('confirm-password'))\n",
      "    <</SYS>>\n",
      "\n",
      "    Today's date: 2023-12-13 23:43:58. When generating constraints for date fields, also generate constraints to compare them with the current date, past, and future if applicable.\n",
      "    The following are all the labels in the form, which provide context for the functionality of the form:  From\n",
      ",  To\n",
      ",  Depart ,  Return\n",
      "    We are generating constraints for the following input field:\n",
      "    input: <input id=\"jb-date-picker-input-id-2\"/>\n",
      "with label: Depart\n",
      "    The relevant input fields available in the form are (in order of relevance):\n",
      "    1.\n",
      "input: <input id=\"jb-date-picker-input-id-3\"/>\n",
      "with label: Return\n",
      "    DO NOT EXPLAIN YOUR ANSWERS. [/INST]\n",
      "    1. field('jb-date-picker-input-id-2')\n",
      ".toHaveCompareCondition('>', new Date(2023, 11, 13, 0, 0, 0, 0))\n",
      ".toHaveCompareCondition('<', new Date(2023, 11, 13, 23, 59, 59, 999))\n",
      ".toBeTruthy()\n",
      ".toHaveAlphaNumerical()\n",
      ".toContainUpperCaseChars()\n",
      ".toContainSpecialChars()\n",
      ".not.toBeEqual(field('jb-date-picker-input-id-3'))\n",
      ".freeTextConstraint('your depart date must be in the future')\n",
      ".toBeEqual(field('jb-date-picker-input-id-3'))\n",
      ".toHaveCompareCondition('<', new Date(2023, 11, 13, 23, 59, 59, 999))\n",
      ".toHaveCompareCondition('>', new Date(2023, 11, 13, 0, 0, 0, 0))\n",
      ".toBeTruthy()\n",
      ".toHaveAlphaNumerical()\n",
      ".toContainUpperCaseChars()\n",
      ".toContainSpecialChars()\n",
      ".not.toBeEqual(field('jb-date-picker-input-id-2'))\n",
      ".freeTextConstraint('your return date must be after your depart date')</s>\n",
      "'NoneType' object is not iterable\n"
     ]
    },
    {
     "name": "stderr",
     "output_type": "stream",
     "text": [
      "Traceback (most recent call last):\n",
      "  File \"/home/webtesting/webform-testing/method/ours/generation/constraints.py\", line 182, in generate_constraints_for_input_groups\n",
      "    value_table = generate_constraints_for_input_group(\n",
      "  File \"/home/webtesting/webform-testing/method/ours/generation/constraints.py\", line 148, in generate_constraints_for_input_group\n",
      "    field_name, constraints = generate_constraints_from_string(generated_constraints)\n",
      "  File \"/home/webtesting/webform-testing/method/ours/constraints/utils.py\", line 25, in generate_constraints_from_string\n",
      "    splitted = split_functions(constraint_string)\n",
      "  File \"/home/webtesting/webform-testing/method/ours/constraints/utils.py\", line 9, in split_functions\n",
      "    for char in function_string:\n",
      "TypeError: 'NoneType' object is not iterable\n"
     ]
    },
    {
     "name": "stdout",
     "output_type": "stream",
     "text": [
      "generated constraints: <s> [INST] <<SYS>>\n",
      "    Instructions:\n",
      "Your task is to generate a set of constraints for web form fields. Your decisions must be made independently without seeking user assistance or additional information. If there are multiple ways to express constraints, use the least number of constraints to describe them. Only generate the constraints and refrain from explaining your answers. Only generate constraints for the input field in question, not those in the relevant information section. You must choose your constraints in the format of our modified version of the Jest library in JavaScript. The list of functions in this modified format are:\n",
      "1. toBeEqual(value) # the input field value is exactly equal to the given value\n",
      "2. toHaveLengthCondition(condition, value) # the length of the input field value matches the given condition\n",
      "3. toBeTruthy() # the input field value is truthy and not empty (not false, 0, '', null, undefined, or NaN)\n",
      "4. toHaveCompareCondition(condition, numberOrDateValue) # the input field value has the given condition to the given value\n",
      "5. toContainSubString(stringValue)\n",
      "6. toContainChar(charValue)\n",
      "7. toBeAlphabetical()\n",
      "8. toBeNumerical()\n",
      "9. toBeAlphaNumerical()\n",
      "10. toContainUpperCaseChars()\n",
      "11. toContainSpecialChars()\n",
      "12. toContainWhiteSpace()\n",
      "13. toStartWithString(stringValue)\n",
      "14. toEndWithString(stringValue)\n",
      "15. freeTextConstraint(constraintStringValue) # for constraints that cannot be expressed as a deterministic function from the above functions\n",
      "You must choose only from this list of functions, and avoid using any other functions. Use the notation \"field('elementId')\" to refer to input fields in the form. When generating constraints for date-related fields, also take current date into your considerations.\n",
      "\n",
      "Example of generated constraints for a password input field:\n",
      "expect(field('password'))\n",
      ".toHaveLengthCondition('>', 8)\n",
      ".toHaveLengthCondition('<', 50)\n",
      ".toBeAlphaNumeric()\n",
      ".toHaveUpperCase()\n",
      ".toHaveSpecialChars()\n",
      ".not.toBeTruthy()\n",
      ".freeTextConstraint('your password must be a dog's name')\n",
      ".toBeEqual(field('confirm-password'))\n",
      "    <</SYS>>\n",
      "\n",
      "    Today's date: 2023-12-13 23:44:36. When generating constraints for date fields, also generate constraints to compare them with the current date, past, and future if applicable.\n",
      "    The following are all the labels in the form, which provide context for the functionality of the form:  From\n",
      ",  To\n",
      ",  Depart ,  Return\n",
      "    We are generating constraints for the following input field:\n",
      "    input: <input id=\"jb-date-picker-input-id-3\"/>\n",
      "with label: Return\n",
      "with the following relevant text tags:\n",
      "<button type=\"button\"><span><span>Search flights</span><span-wrap><!-- --></span-wrap><span-wrap><!-- --></span-wrap></span></button>\n",
      "<span>Mint Service</span>\n",
      "<strong>Vancouver, Canada (YVR)</strong>\n",
      "    The relevant input fields available in the form are (in order of relevance):\n",
      "    1.\n",
      "input: <input id=\"promo-code-text-field\" name=\"promoCode\" type=\"text\"/>\n",
      "2.\n",
      "input: <input id=\"jb-date-picker-input-id-2\"/>\n",
      "with label: Depart\n",
      "    DO NOT EXPLAIN YOUR ANSWERS. [/INST]\n",
      "    1. field('jb-date-picker-input-id-3')\n",
      ".toHaveLengthCondition('>', 1)\n",
      ".toHaveLengthCondition('<', 10)\n",
      ".toBeAlphaNumeric()\n",
      ".toHaveUpperCase()\n",
      ".toHaveSpecialChars()\n",
      ".not.toBeTruthy()\n",
      ".freeTextConstraint('your return date must be a valid date in the future')\n",
      ".toBeEqual(field('jb-date-picker-input-id-2'))\n",
      ".toBeAfter(field('jb-date-picker-input-id-2'))\n",
      ".toBeBefore(field('jb-date-picker-input-id-2', true))\n",
      ".toContainSubString('-')\n",
      ".toContainUpperCaseChars()\n",
      ".toContainWhiteSpace()\n",
      ".toStartWithString('20')\n",
      ".toEndWithString('31')\n",
      ".freeTextConstraint('your return date must be a valid date in the future')\n",
      "\n",
      "Note:\n",
      "\n",
      "* The first constraint ensures that the input field has a value that is at least 1 character long and less than 10 characters long.\n",
      "* The second and third constraints ensure that the input field value is alphabetical and has uppercase letters.\n",
      "* The fourth constraint ensures that the input field value contains special characters.\n",
      "* The fifth and sixth constraints ensure that the input field value is not empty and not a truthy value.\n",
      "* The seventh and eighth constraints ensure that the input field value is a valid date in the future.\n",
      "* The ninth and tenth constraints ensure that the input field value is after the depart date and before the depart date plus 31 days.\n",
      "* The eleventh and twelfth constraints ensure that the input field value contains the substring \"-\" and uppercase letters.\n",
      "* The thirteenth and fourteenth constraints ensure that the input field value starts and ends with the string \"20\".\n",
      "* The fifteenth constraint ensures that the input field value is a valid date in the future using a free text constraint.</s>\n",
      "'NoneType' object is not iterable\n"
     ]
    },
    {
     "name": "stderr",
     "output_type": "stream",
     "text": [
      "Traceback (most recent call last):\n",
      "  File \"/home/webtesting/webform-testing/method/ours/generation/constraints.py\", line 182, in generate_constraints_for_input_groups\n",
      "    value_table = generate_constraints_for_input_group(\n",
      "  File \"/home/webtesting/webform-testing/method/ours/generation/constraints.py\", line 148, in generate_constraints_for_input_group\n",
      "    field_name, constraints = generate_constraints_from_string(generated_constraints)\n",
      "  File \"/home/webtesting/webform-testing/method/ours/constraints/utils.py\", line 25, in generate_constraints_from_string\n",
      "    splitted = split_functions(constraint_string)\n",
      "  File \"/home/webtesting/webform-testing/method/ours/constraints/utils.py\", line 9, in split_functions\n",
      "    for char in function_string:\n",
      "TypeError: 'NoneType' object is not iterable\n"
     ]
    },
    {
     "name": "stdout",
     "output_type": "stream",
     "text": [
      "generated constraints: <s> [INST] <<SYS>>\n",
      "    Instructions:\n",
      "Your task is to generate a set of constraints for web form fields. Your decisions must be made independently without seeking user assistance or additional information. If there are multiple ways to express constraints, use the least number of constraints to describe them. Only generate the constraints and refrain from explaining your answers. Only generate constraints for the input field in question, not those in the relevant information section. You must choose your constraints in the format of our modified version of the Jest library in JavaScript. The list of functions in this modified format are:\n",
      "1. toBeEqual(value) # the input field value is exactly equal to the given value\n",
      "2. toHaveLengthCondition(condition, value) # the length of the input field value matches the given condition\n",
      "3. toBeTruthy() # the input field value is truthy and not empty (not false, 0, '', null, undefined, or NaN)\n",
      "4. toHaveCompareCondition(condition, numberOrDateValue) # the input field value has the given condition to the given value\n",
      "5. toContainSubString(stringValue)\n",
      "6. toContainChar(charValue)\n",
      "7. toBeAlphabetical()\n",
      "8. toBeNumerical()\n",
      "9. toBeAlphaNumerical()\n",
      "10. toContainUpperCaseChars()\n",
      "11. toContainSpecialChars()\n",
      "12. toContainWhiteSpace()\n",
      "13. toStartWithString(stringValue)\n",
      "14. toEndWithString(stringValue)\n",
      "15. freeTextConstraint(constraintStringValue) # for constraints that cannot be expressed as a deterministic function from the above functions\n",
      "You must choose only from this list of functions, and avoid using any other functions. Use the notation \"field('elementId')\" to refer to input fields in the form. When generating constraints for date-related fields, also take current date into your considerations.\n",
      "\n",
      "Example of generated constraints for a password input field:\n",
      "expect(field('password'))\n",
      ".toHaveLengthCondition('>', 8)\n",
      ".toHaveLengthCondition('<', 50)\n",
      ".toBeAlphaNumeric()\n",
      ".toHaveUpperCase()\n",
      ".toHaveSpecialChars()\n",
      ".not.toBeTruthy()\n",
      ".freeTextConstraint('your password must be a dog's name')\n",
      ".toBeEqual(field('confirm-password'))\n",
      "    <</SYS>>\n",
      "\n",
      "    Today's date: 2023-12-13 23:45:25. When generating constraints for date fields, also generate constraints to compare them with the current date, past, and future if applicable.\n",
      "    The following are all the labels in the form, which provide context for the functionality of the form:  From\n",
      ",  To\n",
      ",  Depart ,  Return\n",
      "    We are generating constraints for the following input field:\n",
      "    input: <input id=\"promo-code-text-field\" name=\"promoCode\" type=\"text\"/>\n",
      "    The relevant input fields available in the form are (in order of relevance):\n",
      "    1.\n",
      "input: <input id=\"jb-date-picker-input-id-3\"/>\n",
      "with label: Return\n",
      "    DO NOT EXPLAIN YOUR ANSWERS. [/INST]\n",
      "     field('promo-code-text-field')\n",
      "      .toHaveLengthCondition('>', 1)\n",
      "      .toHaveLengthCondition('<', 20)\n",
      "      .toBeAlphabetical()\n",
      "      .toContainUpperCaseChars()\n",
      "      .toContainSpecialChars()\n",
      "      .not.toBeTruthy()\n",
      "      .freeTextConstraint('Promo code should not be empty')\n",
      "      .toBeEqual(field('confirm-promo-code'))\n",
      "      .toHaveCompareCondition('=', currentDate())\n",
      "      .toHaveCompareCondition('<', futureDate(1))\n",
      "      .toHaveCompareCondition('>', pastDate(1))\n",
      "    );\n",
      "\n",
      "    function currentDate() {\n",
      "      return new Date();\n",
      "    }\n",
      "\n",
      "    function pastDate(days) {\n",
      "      return new Date(Date.now() - days * 24 * 60 * 60 * 1000);\n",
      "    }\n",
      "\n",
      "    function futureDate(days) {\n",
      "      return new Date(Date.now() + days * 24 * 60 * 60 * 1000);\n",
      "    }</s>\n",
      "'NoneType' object is not iterable\n"
     ]
    },
    {
     "name": "stderr",
     "output_type": "stream",
     "text": [
      "Traceback (most recent call last):\n",
      "  File \"/home/webtesting/webform-testing/method/ours/generation/constraints.py\", line 182, in generate_constraints_for_input_groups\n",
      "    value_table = generate_constraints_for_input_group(\n",
      "  File \"/home/webtesting/webform-testing/method/ours/generation/constraints.py\", line 148, in generate_constraints_for_input_group\n",
      "    field_name, constraints = generate_constraints_from_string(generated_constraints)\n",
      "  File \"/home/webtesting/webform-testing/method/ours/constraints/utils.py\", line 25, in generate_constraints_from_string\n",
      "    splitted = split_functions(constraint_string)\n",
      "  File \"/home/webtesting/webform-testing/method/ours/constraints/utils.py\", line 9, in split_functions\n",
      "    for char in function_string:\n",
      "TypeError: 'NoneType' object is not iterable\n"
     ]
    }
   ],
   "source": [
    "value_table = generate_constraints_for_input_groups(\n",
    "   input_groups,\n",
    "   app_context=app_context,\n",
    "   model=model,\n",
    "   tokenizer=tokenizer,\n",
    ")\n",
    "\n",
    "# value_table = generate_constraints_for_input_groups(\n",
    "#     model, \n",
    "#     tokenizer,\n",
    "#     input_groups,\n",
    "#     ablation_inclusion=constraint_ablation\n",
    "# )"
   ]
  },
  {
   "cell_type": "code",
   "execution_count": 12,
   "id": "9b7f0441",
   "metadata": {},
   "outputs": [],
   "source": [
    "value_table.print()"
   ]
  },
  {
   "cell_type": "code",
   "execution_count": 13,
   "id": "b16e1126",
   "metadata": {
    "scrolled": true
   },
   "outputs": [],
   "source": [
    "value_table = generate_values_for_input_groups(\n",
    "    input_groups,\n",
    "    value_table,\n",
    "    app_context=app_context,\n",
    "    model=model,\n",
    "    tokenizer=tokenizer,\n",
    ")"
   ]
  },
  {
   "cell_type": "code",
   "execution_count": 18,
   "id": "36d47bdf",
   "metadata": {
    "ExecuteTime": {
     "end_time": "2023-07-28T04:02:00.880152Z",
     "start_time": "2023-07-28T04:01:58.593875Z"
    }
   },
   "outputs": [],
   "source": [
    "fill_form_with_value_table(driver, value_table, input_groups)"
   ]
  },
  {
   "cell_type": "code",
   "execution_count": 19,
   "id": "cb570a85",
   "metadata": {
    "ExecuteTime": {
     "end_time": "2023-07-27T22:33:55.819626Z",
     "start_time": "2023-07-27T22:33:50.304986Z"
    }
   },
   "outputs": [
    {
     "ename": "IndexError",
     "evalue": "list index out of range",
     "output_type": "error",
     "traceback": [
      "\u001b[0;31m---------------------------------------------------------------------------\u001b[0m",
      "\u001b[0;31mIndexError\u001b[0m                                Traceback (most recent call last)",
      "Cell \u001b[0;32mIn[19], line 1\u001b[0m\n\u001b[0;32m----> 1\u001b[0m \u001b[43msubmit_form\u001b[49m\u001b[43m(\u001b[49m\u001b[43mdriver\u001b[49m\u001b[43m,\u001b[49m\u001b[43m \u001b[49m\u001b[43minput_groups\u001b[49m\u001b[38;5;241;43m=\u001b[39;49m\u001b[43minput_groups\u001b[49m\u001b[43m,\u001b[49m\u001b[43m \u001b[49m\u001b[43mexplicit_submit\u001b[49m\u001b[38;5;241;43m=\u001b[39;49m\u001b[43mfind_button\u001b[49m\u001b[43m(\u001b[49m\u001b[43m)\u001b[49m\u001b[43m)\u001b[49m\n",
      "File \u001b[0;32m~/webform-testing/method/ours/generation/utils.py:106\u001b[0m, in \u001b[0;36msubmit_form\u001b[0;34m(driver, input_groups, explicit_submit)\u001b[0m\n\u001b[1;32m    104\u001b[0m     submit \u001b[38;5;241m=\u001b[39m explicit_submit\n\u001b[1;32m    105\u001b[0m \u001b[38;5;28;01melse\u001b[39;00m:\n\u001b[0;32m--> 106\u001b[0m     submit \u001b[38;5;241m=\u001b[39m \u001b[38;5;28;43mlist\u001b[39;49m\u001b[43m(\u001b[49m\u001b[38;5;28;43mfilter\u001b[39;49m\u001b[43m(\u001b[49m\n\u001b[1;32m    107\u001b[0m \u001b[43m        \u001b[49m\u001b[38;5;28;43;01mlambda\u001b[39;49;00m\u001b[43m \u001b[49m\u001b[43mx\u001b[49m\u001b[43m:\u001b[49m\u001b[43m \u001b[49m\u001b[38;5;124;43m'\u001b[39;49m\u001b[38;5;124;43mtype\u001b[39;49m\u001b[38;5;124;43m'\u001b[39;49m\u001b[43m \u001b[49m\u001b[38;5;129;43;01min\u001b[39;49;00m\u001b[43m \u001b[49m\u001b[43mx\u001b[49m\u001b[38;5;241;43m.\u001b[39;49m\u001b[43mnode\u001b[49m\u001b[38;5;241;43m.\u001b[39;49m\u001b[43melement\u001b[49m\u001b[38;5;241;43m.\u001b[39;49m\u001b[43mattrs\u001b[49m\u001b[43m \u001b[49m\u001b[38;5;129;43;01mand\u001b[39;49;00m\u001b[43m \u001b[49m\u001b[43mx\u001b[49m\u001b[38;5;241;43m.\u001b[39;49m\u001b[43mnode\u001b[49m\u001b[38;5;241;43m.\u001b[39;49m\u001b[43melement\u001b[49m\u001b[38;5;241;43m.\u001b[39;49m\u001b[43mattrs\u001b[49m\u001b[43m[\u001b[49m\u001b[38;5;124;43m'\u001b[39;49m\u001b[38;5;124;43mtype\u001b[39;49m\u001b[38;5;124;43m'\u001b[39;49m\u001b[43m]\u001b[49m\u001b[43m \u001b[49m\u001b[38;5;241;43m==\u001b[39;49m\u001b[43m \u001b[49m\u001b[38;5;124;43m'\u001b[39;49m\u001b[38;5;124;43msubmit\u001b[39;49m\u001b[38;5;124;43m'\u001b[39;49m\u001b[43m,\u001b[49m\n\u001b[1;32m    108\u001b[0m \u001b[43m        \u001b[49m\u001b[43minput_groups\u001b[49m\n\u001b[1;32m    109\u001b[0m \u001b[43m    \u001b[49m\u001b[43m)\u001b[49m\u001b[43m)\u001b[49m\u001b[43m[\u001b[49m\u001b[38;5;241;43m0\u001b[39;49m\u001b[43m]\u001b[49m\n\u001b[1;32m    111\u001b[0m \u001b[38;5;28;01mfor\u001b[39;00m i \u001b[38;5;129;01min\u001b[39;00m \u001b[38;5;28mrange\u001b[39m(\u001b[38;5;241m5\u001b[39m):\n\u001b[1;32m    112\u001b[0m     \u001b[38;5;28;01mtry\u001b[39;00m:\n",
      "\u001b[0;31mIndexError\u001b[0m: list index out of range"
     ]
    }
   ],
   "source": [
    "submit_form(driver, input_groups=input_groups, explicit_submit=find_button())"
   ]
  },
  {
   "cell_type": "code",
   "execution_count": 20,
   "id": "1d51a2b4",
   "metadata": {
    "ExecuteTime": {
     "end_time": "2023-07-27T22:34:00.572312Z",
     "start_time": "2023-07-27T22:34:00.042490Z"
    }
   },
   "outputs": [],
   "source": [
    "new_html = driver.find_element(By.TAG_NAME, 'body').get_attribute('outerHTML')\n",
    "global_feedback = get_global_feedback(html, new_html, remove_form_children=False)"
   ]
  },
  {
   "cell_type": "code",
   "execution_count": 21,
   "id": "bbc69d1c",
   "metadata": {
    "ExecuteTime": {
     "end_time": "2023-07-27T22:34:03.483394Z",
     "start_time": "2023-07-27T22:34:03.372149Z"
    }
   },
   "outputs": [
    {
     "ename": "AttributeError",
     "evalue": "'DataFrame' object has no attribute 'append'",
     "output_type": "error",
     "traceback": [
      "\u001b[0;31m---------------------------------------------------------------------------\u001b[0m",
      "\u001b[0;31mAttributeError\u001b[0m                            Traceback (most recent call last)",
      "Cell \u001b[0;32mIn[21], line 1\u001b[0m\n\u001b[0;32m----> 1\u001b[0m \u001b[43mhistory_table\u001b[49m\u001b[38;5;241;43m.\u001b[39;49m\u001b[43madd\u001b[49m\u001b[43m(\u001b[49m\n\u001b[1;32m      2\u001b[0m \u001b[43m    \u001b[49m\u001b[43mvalue_table\u001b[49m\u001b[38;5;241;43m.\u001b[39;49m\u001b[43mget_values_dict\u001b[49m\u001b[43m(\u001b[49m\u001b[43m)\u001b[49m\u001b[43m,\u001b[49m\n\u001b[1;32m      3\u001b[0m \u001b[43m    \u001b[49m\u001b[38;5;124;43m'\u001b[39;49m\u001b[38;5;124;43mbase\u001b[39;49m\u001b[38;5;124;43m'\u001b[39;49m\u001b[43m,\u001b[49m\n\u001b[1;32m      4\u001b[0m \u001b[43m    \u001b[49m\u001b[43mglobal_feedback\u001b[49m\u001b[43m,\u001b[49m\n\u001b[1;32m      5\u001b[0m \u001b[43m    \u001b[49m\u001b[43mdriver\u001b[49m\u001b[38;5;241;43m.\u001b[39;49m\u001b[43mcurrent_url\u001b[49m\n\u001b[1;32m      6\u001b[0m \u001b[43m)\u001b[49m\n",
      "File \u001b[0;32m~/webform-testing/method/ours/history.py:83\u001b[0m, in \u001b[0;36mHistoryTable.add\u001b[0;34m(self, values, variation_type, feedback, new_url)\u001b[0m\n\u001b[1;32m     82\u001b[0m \u001b[38;5;28;01mdef\u001b[39;00m \u001b[38;5;21madd\u001b[39m(\u001b[38;5;28mself\u001b[39m, values, variation_type, feedback, new_url):\n\u001b[0;32m---> 83\u001b[0m     \u001b[38;5;28mself\u001b[39m\u001b[38;5;241m.\u001b[39mtable \u001b[38;5;241m=\u001b[39m \u001b[38;5;28;43mself\u001b[39;49m\u001b[38;5;241;43m.\u001b[39;49m\u001b[43mtable\u001b[49m\u001b[38;5;241;43m.\u001b[39;49m\u001b[43mappend\u001b[49m({\n\u001b[1;32m     84\u001b[0m         \u001b[38;5;124m'\u001b[39m\u001b[38;5;124mvalues\u001b[39m\u001b[38;5;124m'\u001b[39m: json\u001b[38;5;241m.\u001b[39mdumps(values),\n\u001b[1;32m     85\u001b[0m         \u001b[38;5;124m'\u001b[39m\u001b[38;5;124mvariation_type\u001b[39m\u001b[38;5;124m'\u001b[39m: variation_type,\n\u001b[1;32m     86\u001b[0m         \u001b[38;5;124m'\u001b[39m\u001b[38;5;124mfeedback\u001b[39m\u001b[38;5;124m'\u001b[39m: \u001b[38;5;124m'\u001b[39m\u001b[38;5;124mFEEDBACK-DELIMITER\u001b[39m\u001b[38;5;124m'\u001b[39m\u001b[38;5;241m.\u001b[39mjoin(feedback),\n\u001b[1;32m     87\u001b[0m         \u001b[38;5;124m'\u001b[39m\u001b[38;5;124mnew_url\u001b[39m\u001b[38;5;124m'\u001b[39m: new_url\n\u001b[1;32m     88\u001b[0m     }, ignore_index\u001b[38;5;241m=\u001b[39m\u001b[38;5;28;01mTrue\u001b[39;00m)\n",
      "File \u001b[0;32m~/.local/lib/python3.10/site-packages/pandas/core/generic.py:5989\u001b[0m, in \u001b[0;36mNDFrame.__getattr__\u001b[0;34m(self, name)\u001b[0m\n\u001b[1;32m   5982\u001b[0m \u001b[38;5;28;01mif\u001b[39;00m (\n\u001b[1;32m   5983\u001b[0m     name \u001b[38;5;129;01mnot\u001b[39;00m \u001b[38;5;129;01min\u001b[39;00m \u001b[38;5;28mself\u001b[39m\u001b[38;5;241m.\u001b[39m_internal_names_set\n\u001b[1;32m   5984\u001b[0m     \u001b[38;5;129;01mand\u001b[39;00m name \u001b[38;5;129;01mnot\u001b[39;00m \u001b[38;5;129;01min\u001b[39;00m \u001b[38;5;28mself\u001b[39m\u001b[38;5;241m.\u001b[39m_metadata\n\u001b[1;32m   5985\u001b[0m     \u001b[38;5;129;01mand\u001b[39;00m name \u001b[38;5;129;01mnot\u001b[39;00m \u001b[38;5;129;01min\u001b[39;00m \u001b[38;5;28mself\u001b[39m\u001b[38;5;241m.\u001b[39m_accessors\n\u001b[1;32m   5986\u001b[0m     \u001b[38;5;129;01mand\u001b[39;00m \u001b[38;5;28mself\u001b[39m\u001b[38;5;241m.\u001b[39m_info_axis\u001b[38;5;241m.\u001b[39m_can_hold_identifiers_and_holds_name(name)\n\u001b[1;32m   5987\u001b[0m ):\n\u001b[1;32m   5988\u001b[0m     \u001b[38;5;28;01mreturn\u001b[39;00m \u001b[38;5;28mself\u001b[39m[name]\n\u001b[0;32m-> 5989\u001b[0m \u001b[38;5;28;01mreturn\u001b[39;00m \u001b[38;5;28;43mobject\u001b[39;49m\u001b[38;5;241;43m.\u001b[39;49m\u001b[38;5;21;43m__getattribute__\u001b[39;49m\u001b[43m(\u001b[49m\u001b[38;5;28;43mself\u001b[39;49m\u001b[43m,\u001b[49m\u001b[43m \u001b[49m\u001b[43mname\u001b[49m\u001b[43m)\u001b[49m\n",
      "\u001b[0;31mAttributeError\u001b[0m: 'DataFrame' object has no attribute 'append'"
     ]
    }
   ],
   "source": [
    "history_table.add(\n",
    "    value_table.get_values_dict(),\n",
    "    'base',\n",
    "    global_feedback,\n",
    "    driver.current_url\n",
    ")"
   ]
  },
  {
   "cell_type": "code",
   "execution_count": null,
   "id": "2a601c2f",
   "metadata": {},
   "outputs": [],
   "source": []
  },
  {
   "cell_type": "code",
   "execution_count": null,
   "id": "a21bff5f",
   "metadata": {},
   "outputs": [],
   "source": []
  }
 ],
 "metadata": {
  "kernelspec": {
   "display_name": "Python 3 (ipykernel)",
   "language": "python",
   "name": "python3"
  },
  "language_info": {
   "codemirror_mode": {
    "name": "ipython",
    "version": 3
   },
   "file_extension": ".py",
   "mimetype": "text/x-python",
   "name": "python",
   "nbconvert_exporter": "python",
   "pygments_lexer": "ipython3",
   "version": "3.10.9"
  },
  "toc": {
   "base_numbering": 1,
   "nav_menu": {},
   "number_sections": true,
   "sideBar": true,
   "skip_h1_title": false,
   "title_cell": "Table of Contents",
   "title_sidebar": "Contents",
   "toc_cell": false,
   "toc_position": {},
   "toc_section_display": true,
   "toc_window_display": false
  },
  "varInspector": {
   "cols": {
    "lenName": 16,
    "lenType": 16,
    "lenVar": 40
   },
   "kernels_config": {
    "python": {
     "delete_cmd_postfix": "",
     "delete_cmd_prefix": "del ",
     "library": "var_list.py",
     "varRefreshCmd": "print(var_dic_list())"
    },
    "r": {
     "delete_cmd_postfix": ") ",
     "delete_cmd_prefix": "rm(",
     "library": "var_list.r",
     "varRefreshCmd": "cat(var_dic_list()) "
    }
   },
   "types_to_exclude": [
    "module",
    "function",
    "builtin_function_or_method",
    "instance",
    "_Feature"
   ],
   "window_display": false
  }
 },
 "nbformat": 4,
 "nbformat_minor": 5
}
