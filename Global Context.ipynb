{
 "cells": [
  {
   "cell_type": "code",
   "execution_count": 1,
   "id": "2e169ac5",
   "metadata": {
    "ExecuteTime": {
     "end_time": "2023-02-01T21:20:58.513329Z",
     "start_time": "2023-02-01T21:20:57.444908Z"
    }
   },
   "outputs": [],
   "source": [
    "import os\n",
    "import openai\n",
    "from dotenv import load_dotenv\n",
    "from bs4 import BeautifulSoup as bs\n",
    "from selenium import webdriver\n",
    "from selenium.webdriver.common.by import By"
   ]
  },
  {
   "cell_type": "code",
   "execution_count": 2,
   "id": "eef5ff48",
   "metadata": {
    "ExecuteTime": {
     "end_time": "2023-02-01T21:20:59.315584Z",
     "start_time": "2023-02-01T21:20:59.311992Z"
    }
   },
   "outputs": [],
   "source": [
    "load_dotenv()\n",
    "openai.api_key = os.getenv(\"OPENAI_API_KEY\")"
   ]
  },
  {
   "cell_type": "code",
   "execution_count": 3,
   "id": "5924cc85",
   "metadata": {
    "ExecuteTime": {
     "end_time": "2023-02-01T21:21:02.015463Z",
     "start_time": "2023-02-01T21:20:59.948507Z"
    }
   },
   "outputs": [],
   "source": [
    "driver = webdriver.Chrome('drivers/chromedriver108')"
   ]
  },
  {
   "cell_type": "code",
   "execution_count": 4,
   "id": "cd50b4fe",
   "metadata": {
    "ExecuteTime": {
     "end_time": "2023-02-01T21:21:03.899433Z",
     "start_time": "2023-02-01T21:21:03.896873Z"
    }
   },
   "outputs": [],
   "source": [
    "base = 'https://people.ece.ubc.ca/amesbah/'"
   ]
  },
  {
   "cell_type": "code",
   "execution_count": 5,
   "id": "b5407c57",
   "metadata": {
    "ExecuteTime": {
     "end_time": "2023-02-01T21:21:05.283201Z",
     "start_time": "2023-02-01T21:21:05.089232Z"
    }
   },
   "outputs": [],
   "source": [
    "driver.get(base)"
   ]
  },
  {
   "cell_type": "code",
   "execution_count": 6,
   "id": "ae9cee75",
   "metadata": {
    "ExecuteTime": {
     "end_time": "2023-02-01T21:21:07.567252Z",
     "start_time": "2023-02-01T21:21:07.538952Z"
    }
   },
   "outputs": [],
   "source": [
    "doc = bs(driver.find_element(By.TAG_NAME, 'html').get_attribute('innerHTML'), 'html.parser')"
   ]
  },
  {
   "cell_type": "code",
   "execution_count": 7,
   "id": "1340142d",
   "metadata": {
    "ExecuteTime": {
     "end_time": "2023-02-01T21:21:08.183022Z",
     "start_time": "2023-02-01T21:21:08.179055Z"
    }
   },
   "outputs": [],
   "source": [
    "title = str(doc.head.title) + '\\n'\n",
    "metas = '\\n'.join(list(map(lambda x: str(x), doc.head.find_all('meta'))))\n",
    "head_string = title + metas"
   ]
  },
  {
   "cell_type": "code",
   "execution_count": 8,
   "id": "aae5ecff",
   "metadata": {
    "ExecuteTime": {
     "end_time": "2023-02-01T21:21:11.239723Z",
     "start_time": "2023-02-01T21:21:11.235271Z"
    }
   },
   "outputs": [],
   "source": [
    "prompt = '''The following text is the url and content of head tag of a website .\n",
    "URL: {0}\n",
    "head: {1}\n",
    "The website category is:'''.format(base, head_string)"
   ]
  },
  {
   "cell_type": "code",
   "execution_count": 9,
   "id": "dea1a73b",
   "metadata": {
    "ExecuteTime": {
     "end_time": "2023-02-01T21:21:12.065291Z",
     "start_time": "2023-02-01T21:21:12.062371Z"
    }
   },
   "outputs": [
    {
     "name": "stdout",
     "output_type": "stream",
     "text": [
      "The following text is the url and content of head tag of a website .\n",
      "URL: https://people.ece.ubc.ca/amesbah/\n",
      "head: <title>\n",
      "      \n",
      "        Ali Mesbah | Home\n",
      "      \n",
      "    </title>\n",
      "<meta charset=\"utf-8\"/>\n",
      "<meta content=\"width=device-width initial-scale=1\" name=\"viewport\"/>\n",
      "<meta content=\"IE=edge\" http-equiv=\"X-UA-Compatible\"/>\n",
      "<meta content=\"\" name=\"description\"/>\n",
      "<meta content=\"software engineering, software testing, program analysis, evolution and maintenance, java, javascript\" name=\"keywords\"/>\n",
      "<meta content=\"Copyright (c) Ali Mesbah\" name=\"copyright\"/>\n",
      "The website category is:\n"
     ]
    }
   ],
   "source": [
    "print(prompt)"
   ]
  },
  {
   "cell_type": "code",
   "execution_count": 10,
   "id": "e81f5683",
   "metadata": {
    "ExecuteTime": {
     "end_time": "2023-02-01T21:21:19.858008Z",
     "start_time": "2023-02-01T21:21:19.131222Z"
    }
   },
   "outputs": [],
   "source": [
    "response = openai.Completion.create(\n",
    "  model=\"text-davinci-003\",\n",
    "  prompt=prompt,\n",
    "  temperature=0,\n",
    "  top_p=1,\n",
    "  frequency_penalty=0.0,\n",
    "  presence_penalty=0.0,\n",
    ")"
   ]
  },
  {
   "cell_type": "code",
   "execution_count": 11,
   "id": "09c3a00c",
   "metadata": {
    "ExecuteTime": {
     "end_time": "2023-02-01T21:21:20.277071Z",
     "start_time": "2023-02-01T21:21:20.267660Z"
    }
   },
   "outputs": [
    {
     "data": {
      "text/plain": [
       "<OpenAIObject text_completion id=cmpl-6fEpbXjMGRStNeFp8vcxaxRwreoTW at 0x111455090> JSON: {\n",
       "  \"choices\": [\n",
       "    {\n",
       "      \"finish_reason\": \"stop\",\n",
       "      \"index\": 0,\n",
       "      \"logprobs\": null,\n",
       "      \"text\": \" Academic\"\n",
       "    }\n",
       "  ],\n",
       "  \"created\": 1675286479,\n",
       "  \"id\": \"cmpl-6fEpbXjMGRStNeFp8vcxaxRwreoTW\",\n",
       "  \"model\": \"text-davinci-003\",\n",
       "  \"object\": \"text_completion\",\n",
       "  \"usage\": {\n",
       "    \"completion_tokens\": 1,\n",
       "    \"prompt_tokens\": 167,\n",
       "    \"total_tokens\": 168\n",
       "  }\n",
       "}"
      ]
     },
     "execution_count": 11,
     "metadata": {},
     "output_type": "execute_result"
    }
   ],
   "source": [
    "response"
   ]
  },
  {
   "cell_type": "code",
   "execution_count": null,
   "id": "d9b75f7c",
   "metadata": {},
   "outputs": [],
   "source": []
  }
 ],
 "metadata": {
  "kernelspec": {
   "display_name": "Python 3",
   "language": "python",
   "name": "python3"
  },
  "language_info": {
   "codemirror_mode": {
    "name": "ipython",
    "version": 3
   },
   "file_extension": ".py",
   "mimetype": "text/x-python",
   "name": "python",
   "nbconvert_exporter": "python",
   "pygments_lexer": "ipython3",
   "version": "3.9.7"
  },
  "varInspector": {
   "cols": {
    "lenName": 16,
    "lenType": 16,
    "lenVar": 40
   },
   "kernels_config": {
    "python": {
     "delete_cmd_postfix": "",
     "delete_cmd_prefix": "del ",
     "library": "var_list.py",
     "varRefreshCmd": "print(var_dic_list())"
    },
    "r": {
     "delete_cmd_postfix": ") ",
     "delete_cmd_prefix": "rm(",
     "library": "var_list.r",
     "varRefreshCmd": "cat(var_dic_list()) "
    }
   },
   "types_to_exclude": [
    "module",
    "function",
    "builtin_function_or_method",
    "instance",
    "_Feature"
   ],
   "window_display": false
  }
 },
 "nbformat": 4,
 "nbformat_minor": 5
}
