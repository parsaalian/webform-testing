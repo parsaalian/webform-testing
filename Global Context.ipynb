{
 "cells": [
  {
   "cell_type": "code",
   "execution_count": 1,
   "id": "2e169ac5",
   "metadata": {
    "ExecuteTime": {
     "end_time": "2023-02-01T20:31:04.248332Z",
     "start_time": "2023-02-01T20:31:03.709368Z"
    }
   },
   "outputs": [],
   "source": [
    "import os\n",
    "import openai\n",
    "from dotenv import load_dotenv\n",
    "from bs4 import BeautifulSoup as bs\n",
    "from selenium import webdriver\n",
    "from selenium.webdriver.common.by import By"
   ]
  },
  {
   "cell_type": "code",
   "execution_count": 2,
   "id": "eef5ff48",
   "metadata": {
    "ExecuteTime": {
     "end_time": "2023-02-01T20:31:04.884942Z",
     "start_time": "2023-02-01T20:31:04.881141Z"
    }
   },
   "outputs": [],
   "source": [
    "load_dotenv()\n",
    "openai.api_key = os.getenv(\"OPENAI_API_KEY\")"
   ]
  },
  {
   "cell_type": "code",
   "execution_count": 3,
   "id": "5924cc85",
   "metadata": {
    "ExecuteTime": {
     "end_time": "2023-02-01T20:31:08.877588Z",
     "start_time": "2023-02-01T20:31:05.633583Z"
    }
   },
   "outputs": [],
   "source": [
    "driver = webdriver.Chrome('drivers/chromedriver108')"
   ]
  },
  {
   "cell_type": "code",
   "execution_count": 21,
   "id": "b5407c57",
   "metadata": {
    "ExecuteTime": {
     "end_time": "2023-02-01T20:38:55.616479Z",
     "start_time": "2023-02-01T20:38:53.940730Z"
    }
   },
   "outputs": [],
   "source": [
    "driver.get('https://www.codecademy.com')"
   ]
  },
  {
   "cell_type": "code",
   "execution_count": 22,
   "id": "ae9cee75",
   "metadata": {
    "ExecuteTime": {
     "end_time": "2023-02-01T20:38:57.773711Z",
     "start_time": "2023-02-01T20:38:57.630028Z"
    }
   },
   "outputs": [],
   "source": [
    "doc = bs(driver.find_element(By.TAG_NAME, 'html').get_attribute('innerHTML'), 'html.parser')"
   ]
  },
  {
   "cell_type": "code",
   "execution_count": 23,
   "id": "1340142d",
   "metadata": {
    "ExecuteTime": {
     "end_time": "2023-02-01T20:38:58.522777Z",
     "start_time": "2023-02-01T20:38:58.519189Z"
    }
   },
   "outputs": [],
   "source": [
    "title = str(doc.head.title) + '\\n'\n",
    "metas = '\\n'.join(list(map(lambda x: str(x), doc.head.find_all('meta'))))\n",
    "head_string = title + metas"
   ]
  },
  {
   "cell_type": "code",
   "execution_count": 24,
   "id": "fdbae2de",
   "metadata": {
    "ExecuteTime": {
     "end_time": "2023-02-01T20:38:59.499254Z",
     "start_time": "2023-02-01T20:38:59.495840Z"
    }
   },
   "outputs": [],
   "source": [
    "categories = [\n",
    "    'Business/Corporate',\n",
    "    'E-commerce',\n",
    "    'Educational',\n",
    "    'Entertainment',\n",
    "    'Financial',\n",
    "    'Government/Non-profit',\n",
    "    'Health/Medical',\n",
    "    'News/Media',\n",
    "    'Personal',\n",
    "    'Real Estate',\n",
    "    'Technology',\n",
    "    'Travel',\n",
    "    'Blog/Vlog',\n",
    "    'Portfolio',\n",
    "    'Social Networking',\n",
    "    'Sports',\n",
    "    'Directory/Listings',\n",
    "    'Food/Restaurant',\n",
    "    'Job Search/Careers',\n",
    "    'Lifestyle',\n",
    "]\n",
    "\n",
    "categories_string = \", \".join(categories)"
   ]
  },
  {
   "cell_type": "code",
   "execution_count": 25,
   "id": "aae5ecff",
   "metadata": {
    "ExecuteTime": {
     "end_time": "2023-02-01T20:39:01.252951Z",
     "start_time": "2023-02-01T20:39:01.250356Z"
    }
   },
   "outputs": [],
   "source": [
    "prompt = '''The following text is the content of a website head tag.\n",
    "{0}\n",
    "The following are the categories of websites:\n",
    "{1}\n",
    "The category of this website is: '''.format(head_string, categories_string)"
   ]
  },
  {
   "cell_type": "code",
   "execution_count": 26,
   "id": "dea1a73b",
   "metadata": {
    "ExecuteTime": {
     "end_time": "2023-02-01T20:39:03.290462Z",
     "start_time": "2023-02-01T20:39:03.286589Z"
    }
   },
   "outputs": [
    {
     "data": {
      "text/plain": [
       "'The following text is the content of a website head tag.\\n<title>Learn to Code - for Free | Codecademy</title>\\n<meta charset=\"utf-8\"/>\\n<meta content=\"ie=edge\" http-equiv=\"x-ua-compatible\"/>\\n<meta content=\"width=device-width, initial-scale=1.0\" name=\"viewport\"/>\\n<meta content=\"app-id=1376029326\" name=\"apple-itunes-app\"/>\\n<meta content=\"authenticity_token\" name=\"csrf-param\"/>\\n<meta content=\"foIn/mRrhNdNBbbrMzQ+ZMptV4dAp0NS5JKIAFQf7TvTFXTLZc/7DKWVVWVEc02pw3o/79Lpv0OV4OYO/iL+Eg==\" name=\"csrf-token\"/>\\n<meta content=\"#10162F\" name=\"theme-color\"/>\\n<meta content=\"Learn the technical skills to get the job you want. Join over 50 million people choosing Codecademy to start a new career (or advance in their current one).\" name=\"description\"/>\\n<meta content=\"\" name=\"keywords\"/>\\n<meta content=\"212500508799908\" property=\"fb:app_id\"/>\\n<meta content=\"codecademy\" property=\"fb:profile_id\"/>\\n<meta content=\"https://www.codecademy.com/\" property=\"og:url\"/>\\n<meta content=\"Codecademy\" property=\"og:site_name\"/>\\n<meta content=\"article\" property=\"og:type\"/>\\n<meta content=\"Learn to Code - for Free | Codecademy\" property=\"og:title\"/>\\n<meta content=\"Learn the technical skills to get the job you want. Join over 50 million people choosing Codecademy to start a new career (or advance in their current one).\" property=\"og:description\"/>\\n<meta content=\"true\" property=\"og:rich_attachment\"/>\\n<meta content=\"https://images.codecademy.com/social/logo-codecademy-social.png\" property=\"og:image\"/>\\n<meta content=\"summary\" name=\"twitter:card\"/>\\n<meta content=\"@codecademy\" name=\"twitter:site\"/>\\n<meta content=\"Learn to Code - for Free | Codecademy\" name=\"twitter:title\"/>\\n<meta content=\"Learn the technical skills to get the job you want. Join over 50 million people choosing Codecademy to start a new career (or advance in their current one).\" name=\"twitter:description\"/>\\n<meta content=\"https://images.codecademy.com/social/logo-codecademy-social.png\" name=\"twitter:image\"/>\\n<meta content=\"Learn to Code - for Free | Codecademy\" itemprop=\"name\"/>\\n<meta content=\"Learn the technical skills to get the job you want. Join over 50 million people choosing Codecademy to start a new career (or advance in their current one).\" itemprop=\"description\"/>\\n<meta content=\"https://images.codecademy.com/social/logo-codecademy-social.png\" itemprop=\"image\"/>\\n<meta content=\"AqsBFdl1BsSccuYnn7nyOKJwRA8p+840XeK/vCTBUVlU7mPWWGq0k6cqXDpVU4OkQJbnIBQWFmwQYPmfrgExcw0AAABneyJvcmlnaW4iOiJodHRwczovL2NvZGVjYWRlbXkuY29tOjQ0MyIsImZlYXR1cmUiOiJEaWdpdGFsR29vZHMiLCJleHBpcnkiOjE2NDM1ODcxOTksImlzU3ViZG9tYWluIjp0cnVlfQ==\" http-equiv=\"origin-trial\"/>\\n<meta content=\"AtWCdS6VvZoHP9z0iLslSp7DD5PTEnXFfdHL08vADUd3kFChrovHl32cFY2JH/Xu2hpmrinJ7tIFzMmkYclXqAMAAABpeyJvcmlnaW4iOiJodHRwczovL2NvZGVjYWRlbXkuY29tOjQ0MyIsImZlYXR1cmUiOiJEaWdpdGFsR29vZHNWMiIsImV4cGlyeSI6MTY0Nzk5MzU5OSwiaXNTdWJkb21haW4iOnRydWV9\" http-equiv=\"origin-trial\"/>\\nThe following are the categories of websites:\\nBusiness/Corporate, E-commerce, Educational, Entertainment, Financial, Government/Non-profit, Health/Medical, News/Media, Personal, Real Estate, Technology, Travel, Blog/Vlog, Portfolio, Social Networking, Sports, Directory/Listings, Food/Restaurant, Job Search/Careers, Lifestyle\\nThe category of this website is: '"
      ]
     },
     "execution_count": 26,
     "metadata": {},
     "output_type": "execute_result"
    }
   ],
   "source": [
    "prompt"
   ]
  },
  {
   "cell_type": "code",
   "execution_count": 27,
   "id": "e81f5683",
   "metadata": {
    "ExecuteTime": {
     "end_time": "2023-02-01T20:39:14.596867Z",
     "start_time": "2023-02-01T20:39:13.520672Z"
    }
   },
   "outputs": [],
   "source": [
    "response = openai.Completion.create(\n",
    "  model=\"text-davinci-003\",\n",
    "  prompt=prompt,\n",
    "  temperature=0,\n",
    "  top_p=1,\n",
    "  frequency_penalty=0.0,\n",
    "  presence_penalty=0.0,\n",
    ")"
   ]
  },
  {
   "cell_type": "code",
   "execution_count": 28,
   "id": "09c3a00c",
   "metadata": {
    "ExecuteTime": {
     "end_time": "2023-02-01T20:39:15.070626Z",
     "start_time": "2023-02-01T20:39:15.067013Z"
    }
   },
   "outputs": [
    {
     "data": {
      "text/plain": [
       "<OpenAIObject text_completion id=cmpl-6fEArtxcQJZMSetb3mEXrlnreD3vy at 0x10f96ccc0> JSON: {\n",
       "  \"choices\": [\n",
       "    {\n",
       "      \"finish_reason\": \"stop\",\n",
       "      \"index\": 0,\n",
       "      \"logprobs\": null,\n",
       "      \"text\": \" Educational\"\n",
       "    }\n",
       "  ],\n",
       "  \"created\": 1675283953,\n",
       "  \"id\": \"cmpl-6fEArtxcQJZMSetb3mEXrlnreD3vy\",\n",
       "  \"model\": \"text-davinci-003\",\n",
       "  \"object\": \"text_completion\",\n",
       "  \"usage\": {\n",
       "    \"completion_tokens\": 1,\n",
       "    \"prompt_tokens\": 1174,\n",
       "    \"total_tokens\": 1175\n",
       "  }\n",
       "}"
      ]
     },
     "execution_count": 28,
     "metadata": {},
     "output_type": "execute_result"
    }
   ],
   "source": [
    "response"
   ]
  },
  {
   "cell_type": "code",
   "execution_count": null,
   "id": "d9b75f7c",
   "metadata": {},
   "outputs": [],
   "source": []
  }
 ],
 "metadata": {
  "kernelspec": {
   "display_name": "Python 3",
   "language": "python",
   "name": "python3"
  },
  "language_info": {
   "codemirror_mode": {
    "name": "ipython",
    "version": 3
   },
   "file_extension": ".py",
   "mimetype": "text/x-python",
   "name": "python",
   "nbconvert_exporter": "python",
   "pygments_lexer": "ipython3",
   "version": "3.9.7"
  },
  "varInspector": {
   "cols": {
    "lenName": 16,
    "lenType": 16,
    "lenVar": 40
   },
   "kernels_config": {
    "python": {
     "delete_cmd_postfix": "",
     "delete_cmd_prefix": "del ",
     "library": "var_list.py",
     "varRefreshCmd": "print(var_dic_list())"
    },
    "r": {
     "delete_cmd_postfix": ") ",
     "delete_cmd_prefix": "rm(",
     "library": "var_list.r",
     "varRefreshCmd": "cat(var_dic_list()) "
    }
   },
   "types_to_exclude": [
    "module",
    "function",
    "builtin_function_or_method",
    "instance",
    "_Feature"
   ],
   "window_display": false
  }
 },
 "nbformat": 4,
 "nbformat_minor": 5
}
